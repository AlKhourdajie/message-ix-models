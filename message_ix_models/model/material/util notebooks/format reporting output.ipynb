{
 "cells": [
  {
   "cell_type": "markdown",
   "source": [
    "## prepare reporting output"
   ],
   "metadata": {
    "collapsed": false
   }
  },
  {
   "cell_type": "code",
   "execution_count": 2,
   "outputs": [],
   "source": [
    "def prepare_xlsx_for_explorer(filepath):\n",
    "    import pandas as pd\n",
    "    df = pd.read_excel(filepath)\n",
    "\n",
    "    def add_R12(str):\n",
    "        if len(str) < 5:\n",
    "            return \"R12_\" + str\n",
    "        else:\n",
    "            return str\n",
    "\n",
    "    df = df[~df[\"Region\"].isna()]\n",
    "    df[\"Region\"] = df[\"Region\"].map(add_R12)\n",
    "    df.to_excel(filepath, index=False)"
   ],
   "metadata": {
    "collapsed": false,
    "ExecuteTime": {
     "end_time": "2023-09-20T17:39:56.168197700Z",
     "start_time": "2023-09-20T17:39:56.141984400Z"
    }
   }
  },
  {
   "cell_type": "code",
   "execution_count": 8,
   "outputs": [],
   "source": [
    "import os\n",
    "f_list = os.listdir(\"C:/Users\\maczek\\PycharmProjects\\message_data/reporting_output\")"
   ],
   "metadata": {
    "collapsed": false
   }
  },
  {
   "cell_type": "code",
   "execution_count": 11,
   "outputs": [],
   "source": [
    "rep_list = [i for i in f_list if (\"1150\" in i) and (\"step\" not in i)]"
   ],
   "metadata": {
    "collapsed": false
   }
  },
  {
   "cell_type": "code",
   "execution_count": 8,
   "outputs": [],
   "source": [
    "#path = \"C:/Users\\maczek\\PycharmProjects\\message_data/reporting_output/MESSAGEix-Materials_NoPolicy_petro_thesis_2_final_macro.xlsx\"\n",
    "#path = \"C:/Users\\maczek\\PycharmProjects\\message_data/reporting_output/MESSAGEix-Materials_NoPolicy_petro_thesis_2_macro_w_ENGAGE_fixes.xlsx\"\n",
    "#path = \"C:/Users\\maczek\\PycharmProjects\\message_data/reporting_output/MESSAGEix-Materials_2.0deg_petro_thesis_2_macro_w_ENGAGE_fixes.xlsx\"\n",
    "#path = \"C:/Users\\maczek\\PycharmProjects\\message_data/reporting_output/MESSAGEix-Materials_2.0deg_petro_thesis_2_final_macro.xlsx\"\n",
    "#path = \"C:/Users\\maczek\\PycharmProjects\\message_data/reporting_output/MESSAGEix-Materials_2.0deg_no_SDGs_petro_thesis_1_final_macro.xlsx\"\n",
    "#path = \"C:/Users\\maczek\\PycharmProjects\\message_data/reporting_output/MESSAGEix-GLOBIOM 1.1-R12-MAGPIE_baseline_MP00BD1BI00.xlsx\"\n",
    "#path = \"C:/Users\\maczek\\PycharmProjects\\message_data/reporting_output/MESSAGEix-GLOBIOM 1.1-R12-MAGPIE_600f_MP00BD1BI00.xlsx\"\n",
    "#path = \"C:/Users\\maczek\\PycharmProjects\\message_data/reporting_output/MESSAGEix-GLOBIOM 1.1-R12-MAGPIE_baseline_MP00BD0BI78.xlsx\"\n",
    "#path = \"C:/Users\\maczek\\PycharmProjects\\message_data/reporting_output/MESSAGEix-GLOBIOM 1.1-R12-MAGPIE_1000f_MP76BD0BI78.xlsx\"\n",
    "path = \"C:/Users\\maczek\\PycharmProjects\\message_data/reporting_output/MESSAGEix-GLOBIOM 1.1-R12-MAGPIE_600f_MP00BD0BI78.xlsx\"\n",
    "#path = \"C:/Users\\maczek\\PycharmProjects\\message_data/reporting_output/MESSAGEix-GLOBIOM 1.1-R12-MAGPIE_1000f_MP76BD1BI00.xlsx\"\n",
    "#path = \"C:/Users\\maczek\\PycharmProjects\\message_data/reporting_output/MESSAGEix-GLOBIOM 1.1-R12-MAGPIE_1000f_MP00BD1BI00.xlsx\"\n",
    "#path = \"C:/Users\\maczek\\PycharmProjects\\message_data/reporting_output/MESSAGEix-GLOBIOM 1.1-R12-MAGPIE_600f_MP00BD0BI78.xlsx\"\n",
    "#path = \"C:/Users\\maczek\\PycharmProjects\\message_data/reporting_output/MESSAGEix-Materials_NoPolicy_no_SDGs_petro_thesis_1_final_macro.xlsx\"\n",
    "dir = \"C:/Users\\maczek\\PycharmProjects\\message_data/reporting_output\"\n",
    "file = \"MESSAGEix-GLOBIOM 1.1-R12-MAGPIE-MP00BD1BI00_new-mapping_with-smoothing_primary-forest-constraint_1000f\"\n",
    "file=\"MESSAGEix-GLOBIOM 1.1-R12-MAGPIE-MP00BD1BI00_new-mapping_no-smoothing_1000f\"\n",
    "file = \"MESSAGEix-GLOBIOM 1.1-R12-MAGPIE-MP00BD1BI00_bugfix_1000f\"\n",
    "#file=\"MESSAGEix-GLOBIOM 1.1-R12-MAGPIE-MP00BD1BI00_new-mapping_with-smoothing_1000f\"\n",
    "path= dir+\"/\"+file+\".xlsx\""
   ],
   "metadata": {
    "collapsed": false,
    "ExecuteTime": {
     "end_time": "2023-09-20T17:48:44.841011500Z",
     "start_time": "2023-09-20T17:48:44.746936800Z"
    }
   }
  },
  {
   "cell_type": "code",
   "execution_count": 1,
   "outputs": [],
   "source": [
    "#rep_list = ['baseline_MP76BD0BI78', '600f_MP76BD0BI78', 'baseline_MP76BD1BI00', '600f_MP76BD1BI00']\n",
    "rep_list = ['1000f_MP76BD1BI00test_scp', '1000f_MP00BD1BI00', '1000f_MP76BD0BI78test_scp']\n",
    "#rep_list = ['1000f_MP00BD0BI78']\n",
    "# 'baseline_MP76BD0BI70' still to build scp and 600f"
   ],
   "metadata": {
    "collapsed": false
   }
  },
  {
   "cell_type": "code",
   "execution_count": 8,
   "outputs": [],
   "source": [
    "for scen_name in rep_list:\n",
    "    path = f\"C:/Users\\maczek\\PycharmProjects\\message_data/reporting_output/MESSAGEix-GLOBIOM 1.1-R12-MAGPIE_{scen_name}.xlsx\"\n",
    "    prepare_xlsx_for_explorer(path)"
   ],
   "metadata": {
    "collapsed": false
   }
  },
  {
   "cell_type": "code",
   "execution_count": 13,
   "outputs": [],
   "source": [
    "for scen_name in rep_list:\n",
    "    path = f\"C:/Users\\maczek\\PycharmProjects\\message_data/reporting_output/{scen_name}\"\n",
    "    prepare_xlsx_for_explorer(path)"
   ],
   "metadata": {
    "collapsed": false
   }
  },
  {
   "cell_type": "code",
   "execution_count": 6,
   "outputs": [],
   "source": [
    "for scen_name in os.listdir(\"H:/pcenv\\message_data/reporting_output\"):\n",
    "    path = f\"H:/pcenv\\message_data/reporting_output/{scen_name}\"\n",
    "    prepare_xlsx_for_explorer(path)"
   ],
   "metadata": {
    "collapsed": false
   }
  },
  {
   "cell_type": "code",
   "execution_count": 9,
   "outputs": [],
   "source": [
    "import os\n",
    "#import message_data.model.material.util as util\n",
    "from pathlib import Path\n",
    "\"\"\"util.prepare_xlsx_for_explorer(\n",
    "             Path(os.getcwd()).parents[0].joinpath(\n",
    "                 \"reporting_output\", scenario.model+\"_\"+scenario.scenario+\".xlsx\"))\"\"\"\n",
    "prepare_xlsx_for_explorer(path)\n",
    "#prepare_xlsx_for_explorer(\"C:/Users\\maczek\\PycharmProjects\\message_data/reporting_output/MESSAGEix-Materials_2.0deg_petro_thesis_2_macro.xlsx\")"
   ],
   "metadata": {
    "collapsed": false,
    "ExecuteTime": {
     "end_time": "2023-09-20T17:49:04.450247400Z",
     "start_time": "2023-09-20T17:48:46.746948Z"
    }
   }
  },
  {
   "cell_type": "code",
   "execution_count": 11,
   "outputs": [],
   "source": [
    "import pandas as pd\n",
    "import xlwings as xw\n",
    "import openpyxl as pxl\n",
    "import xarray"
   ],
   "metadata": {
    "collapsed": false
   }
  },
  {
   "cell_type": "code",
   "execution_count": 12,
   "outputs": [],
   "source": [
    "#df = pd.read_excel(path)\n",
    "#wb = xw.Book(path)\n",
    "#sht = wb.sheets[0]\n",
    "#for i in wb.sheets:\n",
    "#    i.range(f\"F2:Y{df.index.size+1}\").api.Replace(None, 0.0)\n",
    "#wb.save()\n",
    "#wb.close()"
   ],
   "metadata": {
    "collapsed": false
   }
  },
  {
   "cell_type": "code",
   "execution_count": 13,
   "outputs": [],
   "source": [
    "wb = pxl.load_workbook(path)\n",
    "ws = wb[\"Sheet1\"]"
   ],
   "metadata": {
    "collapsed": false
   }
  },
  {
   "cell_type": "code",
   "execution_count": 14,
   "outputs": [],
   "source": [
    "ws.auto_filter.ref = ws.dimensions\n",
    "c = ws['B2']\n",
    "ws.freeze_panes = c"
   ],
   "metadata": {
    "collapsed": false
   }
  },
  {
   "cell_type": "code",
   "execution_count": 15,
   "outputs": [],
   "source": [
    "for i in range(70, 76): #iterate from column \"F\" to \"K\"\n",
    "    ws.column_dimensions[chr(i)].hidden= True\n",
    "\n",
    "ws.column_dimensions[\"E\"].width = 11\n",
    "ws.column_dimensions[\"D\"].width = 71\n",
    "wb.save(path)\n",
    "wb.close()"
   ],
   "metadata": {
    "collapsed": false
   }
  },
  {
   "cell_type": "code",
   "execution_count": 2,
   "outputs": [
    {
     "data": {
      "text/plain": "<IPython.core.display.Javascript object>",
      "application/javascript": "if (typeof IPython !== 'undefined') { IPython.OutputArea.prototype._should_scroll = function(lines){ return false; }}"
     },
     "metadata": {},
     "output_type": "display_data"
    }
   ],
   "source": [
    "import ixmp\n",
    "import message_ix\n",
    "\n",
    "mp = ixmp.Platform(\"ixmp_dev\")\n",
    "#scen = message_ix.Scenario(mp, \"MESSAGEix-GLOBIOM 1.1-R12-MAGPIE\", \"600f_MP00BD0BI78\")"
   ],
   "metadata": {
    "collapsed": false
   }
  },
  {
   "cell_type": "code",
   "execution_count": 2,
   "outputs": [],
   "source": [
    "sc_clone = scen.clone(\"MESSAGEix-GLOBIOM 1.1-R12-MAGPIE\", \"600f_MP00BD0BI78_test_calib\")"
   ],
   "metadata": {
    "collapsed": false
   }
  },
  {
   "cell_type": "code",
   "execution_count": 7,
   "outputs": [],
   "source": [
    "import ixmp\n",
    "import message_ix\n",
    "\n",
    "mp = ixmp.Platform(\"ixmp_dev\")\n",
    "scen = message_ix.Scenario(mp, \"MESSAGEix-GLOBIOM 1.1-R12-MAGPIE\", \"baseline_MP00BD0BI78\")"
   ],
   "metadata": {
    "collapsed": false
   }
  },
  {
   "cell_type": "code",
   "execution_count": 9,
   "outputs": [],
   "source": [
    "import ixmp\n",
    "import message_ix\n",
    "\n",
    "mp = ixmp.Platform(\"ixmp_dev\")\n",
    "scen = message_ix.Scenario(mp, \"MESSAGEix-GLOBIOM 1.1-R12-MAGPIE\", \"600f_MP00BD0BI78_test_calib_macro\")"
   ],
   "metadata": {
    "collapsed": false
   }
  },
  {
   "cell_type": "code",
   "execution_count": 10,
   "outputs": [
    {
     "ename": "ValueError",
     "evalue": "This Scenario does not have a solution!",
     "output_type": "error",
     "traceback": [
      "\u001B[1;31m---------------------------------------------------------------------------\u001B[0m",
      "\u001B[1;31mValueError\u001B[0m                                Traceback (most recent call last)",
      "Input \u001B[1;32mIn [10]\u001B[0m, in \u001B[0;36m<cell line: 1>\u001B[1;34m()\u001B[0m\n\u001B[1;32m----> 1\u001B[0m \u001B[43mscen\u001B[49m\u001B[38;5;241;43m.\u001B[39;49m\u001B[43mremove_solution\u001B[49m\u001B[43m(\u001B[49m\u001B[43m)\u001B[49m\n",
      "File \u001B[1;32m~\\Anaconda3\\lib\\site-packages\\ixmp\\core\\scenario.py:757\u001B[0m, in \u001B[0;36mScenario.remove_solution\u001B[1;34m(self, first_model_year)\u001B[0m\n\u001B[0;32m    755\u001B[0m     \u001B[38;5;28mself\u001B[39m\u001B[38;5;241m.\u001B[39m_backend(\u001B[38;5;124m\"\u001B[39m\u001B[38;5;124mclear_solution\u001B[39m\u001B[38;5;124m\"\u001B[39m, first_model_year)\n\u001B[0;32m    756\u001B[0m \u001B[38;5;28;01melse\u001B[39;00m:\n\u001B[1;32m--> 757\u001B[0m     \u001B[38;5;28;01mraise\u001B[39;00m \u001B[38;5;167;01mValueError\u001B[39;00m(\u001B[38;5;124m\"\u001B[39m\u001B[38;5;124mThis Scenario does not have a solution!\u001B[39m\u001B[38;5;124m\"\u001B[39m)\n",
      "\u001B[1;31mValueError\u001B[0m: This Scenario does not have a solution!"
     ]
    }
   ],
   "source": [
    "scen.remove_solution()"
   ],
   "metadata": {
    "collapsed": false
   }
  },
  {
   "cell_type": "code",
   "execution_count": 7,
   "outputs": [
    {
     "data": {
      "text/plain": "'600f_MP00BD0BI78_test_calib'"
     },
     "execution_count": 7,
     "metadata": {},
     "output_type": "execute_result"
    }
   ],
   "source": [
    "scen.scenario"
   ],
   "metadata": {
    "collapsed": false
   }
  },
  {
   "cell_type": "code",
   "execution_count": 8,
   "outputs": [],
   "source": [
    "sc_clone = scen.clone(\"MESSAGEix-GLOBIOM 1.1-R12-MAGPIE\", \"baseline_MP00BD0BI78_test_calib\")"
   ],
   "metadata": {
    "collapsed": false
   }
  },
  {
   "cell_type": "code",
   "execution_count": 9,
   "outputs": [],
   "source": [
    "sc_clone.remove_solution()\n",
    "sc_clone.solve()"
   ],
   "metadata": {
    "collapsed": false
   }
  },
  {
   "cell_type": "code",
   "execution_count": 29,
   "outputs": [
    {
     "data": {
      "text/plain": "'baseline_MP00BD0BI78_test_calib_macro'"
     },
     "execution_count": 29,
     "metadata": {},
     "output_type": "execute_result"
    }
   ],
   "source": [
    "sc_clone.scenario"
   ],
   "metadata": {
    "collapsed": false
   }
  },
  {
   "cell_type": "code",
   "execution_count": 10,
   "outputs": [
    {
     "name": "stderr",
     "output_type": "stream",
     "text": [
      "This Scenario has a solution, use `Scenario.remove_solution()` or `Scenario.clone(..., keep_solution=False)`\n",
      "C:\\Users\\maczek\\PycharmProjects\\message_data\\message_data\\model\\material\\data_util.py:100: FutureWarning: The frame.append method is deprecated and will be removed from pandas in a future version. Use pandas.concat instead.\n",
      "  data[parname] = df_gdphist.append(\n",
      "\n",
      "======================= WARNING =======================\n",
      "\n",
      "You are using *experimental*, incomplete features from\n",
      "`message_ix.macro`—please exercise caution. Read more:\n",
      "- https://github.com/iiasa/message_ix/issues/317\n",
      "- https://github.com/iiasa/message_ix/issues/318\n",
      "- https://github.com/iiasa/message_ix/issues/319\n",
      "- https://github.com/iiasa/message_ix/issues/320\n",
      "\n",
      "======================================================\n",
      "\n"
     ]
    }
   ],
   "source": [
    "from message_data.model.material.data_util import add_coal_lowerbound_2020, add_macro_COVID\n",
    "sc_clone = add_macro_COVID(sc_clone,'R12-CHN-5y_macro_data_NGFS_w_rc_ind_adj_mat.xlsx')"
   ],
   "metadata": {
    "collapsed": false
   }
  },
  {
   "cell_type": "code",
   "execution_count": 11,
   "outputs": [],
   "source": [
    "sc_clone.solve(model=\"MESSAGE-MACRO\")"
   ],
   "metadata": {
    "collapsed": false
   }
  },
  {
   "cell_type": "code",
   "execution_count": 30,
   "outputs": [
    {
     "data": {
      "text/plain": "'baseline_MP00BD0BI78'"
     },
     "execution_count": 30,
     "metadata": {},
     "output_type": "execute_result"
    }
   ],
   "source": [
    "scen.scenario"
   ],
   "metadata": {
    "collapsed": false
   }
  },
  {
   "cell_type": "code",
   "execution_count": 3,
   "outputs": [
    {
     "ename": "ModelError",
     "evalue": "GAMS errored with return code 3:\n    There was an execution error\n\nFor details, see the terminal output above, plus:\nListing   : C:\\Users\\maczek\\PycharmProjects\\message_ix\\message_ix\\model\\MESSAGE-MACRO_run.lst\nInput data: C:\\Users\\maczek\\PycharmProjects\\message_ix\\message_ix\\model\\data\\MsgData_MESSAGEix-GLOBIOM_1.1-R12-MAGPIE_600f_MP00BD0BI78.gdx",
     "output_type": "error",
     "traceback": [
      "\u001B[1;31m---------------------------------------------------------------------------\u001B[0m",
      "\u001B[1;31mModelError\u001B[0m                                Traceback (most recent call last)",
      "Input \u001B[1;32mIn [3]\u001B[0m, in \u001B[0;36m<cell line: 1>\u001B[1;34m()\u001B[0m\n\u001B[1;32m----> 1\u001B[0m \u001B[43mscen\u001B[49m\u001B[38;5;241;43m.\u001B[39;49m\u001B[43msolve\u001B[49m\u001B[43m(\u001B[49m\u001B[43mmodel\u001B[49m\u001B[38;5;241;43m=\u001B[39;49m\u001B[38;5;124;43m\"\u001B[39;49m\u001B[38;5;124;43mMESSAGE-MACRO\u001B[39;49m\u001B[38;5;124;43m\"\u001B[39;49m\u001B[43m)\u001B[49m\n",
      "File \u001B[1;32m~\\PycharmProjects\\message_ix\\message_ix\\core.py:677\u001B[0m, in \u001B[0;36mScenario.solve\u001B[1;34m(self, model, solve_options, **kwargs)\u001B[0m\n\u001B[0;32m    657\u001B[0m \u001B[38;5;28;01mdef\u001B[39;00m \u001B[38;5;21msolve\u001B[39m(\u001B[38;5;28mself\u001B[39m, model\u001B[38;5;241m=\u001B[39m\u001B[38;5;124m\"\u001B[39m\u001B[38;5;124mMESSAGE\u001B[39m\u001B[38;5;124m\"\u001B[39m, solve_options\u001B[38;5;241m=\u001B[39m{}, \u001B[38;5;241m*\u001B[39m\u001B[38;5;241m*\u001B[39mkwargs):\n\u001B[0;32m    658\u001B[0m     \u001B[38;5;124;03m\"\"\"Solve MESSAGE or MESSAGE-MACRO for the Scenario.\u001B[39;00m\n\u001B[0;32m    659\u001B[0m \n\u001B[0;32m    660\u001B[0m \u001B[38;5;124;03m    By default, :meth:`ixmp.Scenario.solve` is called with 'MESSAGE' as the\u001B[39;00m\n\u001B[1;32m   (...)\u001B[0m\n\u001B[0;32m    675\u001B[0m \u001B[38;5;124;03m        :class:`.GAMSModel`.\u001B[39;00m\n\u001B[0;32m    676\u001B[0m \u001B[38;5;124;03m    \"\"\"\u001B[39;00m\n\u001B[1;32m--> 677\u001B[0m     \u001B[38;5;28;43msuper\u001B[39;49m\u001B[43m(\u001B[49m\u001B[43m)\u001B[49m\u001B[38;5;241;43m.\u001B[39;49m\u001B[43msolve\u001B[49m\u001B[43m(\u001B[49m\u001B[43mmodel\u001B[49m\u001B[38;5;241;43m=\u001B[39;49m\u001B[43mmodel\u001B[49m\u001B[43m,\u001B[49m\u001B[43m \u001B[49m\u001B[43msolve_options\u001B[49m\u001B[38;5;241;43m=\u001B[39;49m\u001B[43msolve_options\u001B[49m\u001B[43m,\u001B[49m\u001B[43m \u001B[49m\u001B[38;5;241;43m*\u001B[39;49m\u001B[38;5;241;43m*\u001B[39;49m\u001B[43mkwargs\u001B[49m\u001B[43m)\u001B[49m\n",
      "File \u001B[1;32m~\\Anaconda3\\lib\\site-packages\\ixmp\\core\\scenario.py:835\u001B[0m, in \u001B[0;36mScenario.solve\u001B[1;34m(self, model, callback, cb_kwargs, **model_options)\u001B[0m\n\u001B[0;32m    833\u001B[0m \u001B[38;5;66;03m# Iterate until convergence\u001B[39;00m\n\u001B[0;32m    834\u001B[0m \u001B[38;5;28;01mwhile\u001B[39;00m \u001B[38;5;28;01mTrue\u001B[39;00m:\n\u001B[1;32m--> 835\u001B[0m     \u001B[43mmodel_obj\u001B[49m\u001B[38;5;241;43m.\u001B[39;49m\u001B[43mrun\u001B[49m\u001B[43m(\u001B[49m\u001B[38;5;28;43mself\u001B[39;49m\u001B[43m)\u001B[49m\n\u001B[0;32m    837\u001B[0m     \u001B[38;5;66;03m# Store an iteration number to help the callback\u001B[39;00m\n\u001B[0;32m    838\u001B[0m     \u001B[38;5;28;01mif\u001B[39;00m \u001B[38;5;129;01mnot\u001B[39;00m \u001B[38;5;28mhasattr\u001B[39m(\u001B[38;5;28mself\u001B[39m, \u001B[38;5;124m\"\u001B[39m\u001B[38;5;124miteration\u001B[39m\u001B[38;5;124m\"\u001B[39m):\n",
      "File \u001B[1;32m~\\PycharmProjects\\message_ix\\message_ix\\models.py:373\u001B[0m, in \u001B[0;36mGAMSModel.run\u001B[1;34m(self, scenario)\u001B[0m\n\u001B[0;32m    370\u001B[0m lines2 \u001B[38;5;241m=\u001B[39m (\u001B[38;5;124m\"\u001B[39m\u001B[38;5;132;01m{}\u001B[39;00m\u001B[38;5;124m = \u001B[39m\u001B[38;5;132;01m{}\u001B[39;00m\u001B[38;5;124m\"\u001B[39m\u001B[38;5;241m.\u001B[39mformat(\u001B[38;5;241m*\u001B[39mkv) \u001B[38;5;28;01mfor\u001B[39;00m kv \u001B[38;5;129;01min\u001B[39;00m \u001B[38;5;28mself\u001B[39m\u001B[38;5;241m.\u001B[39mcplex_opts\u001B[38;5;241m.\u001B[39mitems())\n\u001B[0;32m    371\u001B[0m optfile2\u001B[38;5;241m.\u001B[39mwrite_text(\u001B[38;5;124m\"\u001B[39m\u001B[38;5;130;01m\\n\u001B[39;00m\u001B[38;5;124m\"\u001B[39m\u001B[38;5;241m.\u001B[39mjoin(lines2))\n\u001B[1;32m--> 373\u001B[0m result \u001B[38;5;241m=\u001B[39m \u001B[38;5;28;43msuper\u001B[39;49m\u001B[43m(\u001B[49m\u001B[43m)\u001B[49m\u001B[38;5;241;43m.\u001B[39;49m\u001B[43mrun\u001B[49m\u001B[43m(\u001B[49m\u001B[43mscenario\u001B[49m\u001B[43m)\u001B[49m\n\u001B[0;32m    375\u001B[0m \u001B[38;5;66;03m# In previous versions, the `cplex.opt` file(s) were removed at this point\u001B[39;00m\n\u001B[0;32m    376\u001B[0m \u001B[38;5;66;03m# in the workflow. This has been removed due to issues when running\u001B[39;00m\n\u001B[0;32m    377\u001B[0m \u001B[38;5;66;03m# scenarios asynchronously.\u001B[39;00m\n\u001B[0;32m    379\u001B[0m \u001B[38;5;28;01mreturn\u001B[39;00m result\n",
      "File \u001B[1;32m~\\Anaconda3\\lib\\site-packages\\ixmp\\model\\gams.py:296\u001B[0m, in \u001B[0;36mGAMSModel.run\u001B[1;34m(self, scenario)\u001B[0m\n\u001B[0;32m    293\u001B[0m     check_call(command, shell\u001B[38;5;241m=\u001B[39mos\u001B[38;5;241m.\u001B[39mname \u001B[38;5;241m==\u001B[39m \u001B[38;5;124m\"\u001B[39m\u001B[38;5;124mnt\u001B[39m\u001B[38;5;124m\"\u001B[39m, cwd\u001B[38;5;241m=\u001B[39m\u001B[38;5;28mself\u001B[39m\u001B[38;5;241m.\u001B[39mcwd)\n\u001B[0;32m    294\u001B[0m \u001B[38;5;28;01mexcept\u001B[39;00m CalledProcessError \u001B[38;5;28;01mas\u001B[39;00m exc:\n\u001B[0;32m    295\u001B[0m     \u001B[38;5;66;03m# Do not remove self.temp_dir; the user may want to inspect the GDX file\u001B[39;00m\n\u001B[1;32m--> 296\u001B[0m     \u001B[38;5;28;01mraise\u001B[39;00m \u001B[38;5;28mself\u001B[39m\u001B[38;5;241m.\u001B[39mformat_exception(exc, model_file) \u001B[38;5;28;01mfrom\u001B[39;00m \u001B[38;5;28mNone\u001B[39m\n\u001B[0;32m    298\u001B[0m \u001B[38;5;66;03m# Read model solution\u001B[39;00m\n\u001B[0;32m    299\u001B[0m scenario\u001B[38;5;241m.\u001B[39mplatform\u001B[38;5;241m.\u001B[39m_backend\u001B[38;5;241m.\u001B[39mread_file(\n\u001B[0;32m    300\u001B[0m     \u001B[38;5;28mself\u001B[39m\u001B[38;5;241m.\u001B[39mout_file,\n\u001B[0;32m    301\u001B[0m     ItemType\u001B[38;5;241m.\u001B[39mMODEL,\n\u001B[1;32m   (...)\u001B[0m\n\u001B[0;32m    306\u001B[0m     var_list\u001B[38;5;241m=\u001B[39mas_str_list(\u001B[38;5;28mself\u001B[39m\u001B[38;5;241m.\u001B[39mvar_list) \u001B[38;5;129;01mor\u001B[39;00m [],\n\u001B[0;32m    307\u001B[0m )\n",
      "\u001B[1;31mModelError\u001B[0m: GAMS errored with return code 3:\n    There was an execution error\n\nFor details, see the terminal output above, plus:\nListing   : C:\\Users\\maczek\\PycharmProjects\\message_ix\\message_ix\\model\\MESSAGE-MACRO_run.lst\nInput data: C:\\Users\\maczek\\PycharmProjects\\message_ix\\message_ix\\model\\data\\MsgData_MESSAGEix-GLOBIOM_1.1-R12-MAGPIE_600f_MP00BD0BI78.gdx"
     ]
    }
   ],
   "source": [
    "scen.solve(model=\"MESSAGE-MACRO\")"
   ],
   "metadata": {
    "collapsed": false
   }
  },
  {
   "cell_type": "code",
   "execution_count": 5,
   "outputs": [
    {
     "name": "stdout",
     "output_type": "stream",
     "text": [
      "processing Table: Resource|Extraction\n",
      "processing Table: Resource|Cumulative Extraction\n",
      "processing Table: Primary Energy\n",
      "processing Table: Primary Energy (substitution method)\n",
      "processing Table: Final Energy\n",
      "processing Table: Secondary Energy|Electricity\n",
      "processing Table: Secondary Energy|Heat\n",
      "processing Table: Secondary Energy\n",
      "processing Table: Secondary Energy|Gases\n",
      "processing Table: Secondary Energy|Solids\n",
      "processing Table: Emissions|CO2\n",
      "processing Table: Carbon Sequestration\n",
      "processing Table: Emissions|BC\n",
      "processing Table: Emissions|OC\n",
      "processing Table: Emissions|CO\n",
      "processing Table: Emissions|N2O\n",
      "processing Table: Emissions|CH4\n",
      "processing Table: Emissions|NH3\n",
      "processing Table: Emissions|Sulfur\n",
      "processing Table: Emissions|NOx\n",
      "processing Table: Emissions|VOC\n",
      "processing Table: Emissions|HFC\n",
      "processing Table: Emissions\n",
      "processing Table: Emissions\n",
      "processing Table: Agricultural Demand\n",
      "processing Table: Agricultural Production\n",
      "processing Table: Fertilizer Use\n",
      "processing Table: Fertilizer\n",
      "processing Table: Food Waste\n",
      "processing Table: Food Demand\n",
      "processing Table: Forestry Demand\n",
      "processing Table: Forestry Production\n",
      "processing Table: Land Cover\n",
      "processing Table: Yield\n",
      "processing Table: Capacity\n",
      "processing Table: Capacity Additions\n",
      "processing Table: Cumulative Capacity\n",
      "processing Table: Capital Cost\n",
      "processing Table: OM Cost|Fixed\n",
      "processing Table: OM Cost|Variable\n",
      "processing Table: Lifetime\n",
      "processing Table: Efficiency\n",
      "processing Table: Population\n",
      "processing Table: Price\n",
      "processing Table: Useful Energy\n",
      "processing Table: Useful Energy\n",
      "processing Table: Trade\n",
      "processing Table: Investment|Energy Supply\n",
      "processing Table: Water Consumption\n",
      "processing Table: Water Withdrawal\n",
      "processing Table: GDP\n",
      "processing Table: Cost\n",
      "processing Table: GLOBIOM Feedback\n",
      "no emissions included\n",
      "no emissions included\n",
      "no emissions included\n",
      "no emissions included\n",
      "no emissions included\n",
      "no emissions included\n",
      "no emissions included\n",
      "no emissions included\n",
      "no emissions included\n",
      "no emissions included\n",
      "no emissions included\n",
      "no emissions included\n",
      "no emissions included\n",
      "no emissions included\n",
      "no emissions included\n",
      "no emissions included\n",
      "no emissions included\n",
      "no emissions included\n",
      "no emissions included\n",
      "no emissions included\n",
      "no emissions included\n",
      "no emissions included\n",
      "no emissions included\n",
      "no emissions included\n",
      "no emissions included\n",
      "no emissions included\n",
      "no emissions included\n",
      "no emissions included\n",
      "no emissions included\n",
      "no emissions included\n",
      "no emissions included\n",
      "no emissions included\n",
      "no emissions included\n",
      "no emissions included\n",
      "no emissions included\n",
      "no emissions included\n",
      "no emissions included\n",
      "no emissions included\n",
      "no emissions included\n",
      "no emissions included\n",
      "no emissions included\n",
      "no emissions included\n",
      "Starting to upload timeseries\n",
      "    region                                variable   unit       2025  \\\n",
      "0  R12_AFR                     Resource|Extraction  EJ/yr  21.705672   \n",
      "1  R12_AFR                Resource|Extraction|Coal  EJ/yr   5.802705   \n",
      "2  R12_AFR                 Resource|Extraction|Gas  EJ/yr   6.834491   \n",
      "3  R12_AFR    Resource|Extraction|Gas|Conventional  EJ/yr   6.834491   \n",
      "4  R12_AFR  Resource|Extraction|Gas|Unconventional  EJ/yr   0.000000   \n",
      "\n",
      "        2030       2035       2040       2045       2050       2055  \\\n",
      "0  18.782491  18.141649  18.134179  18.305262  18.455276  20.166486   \n",
      "1   0.925383   0.796329   0.050280   0.024543   0.014460   0.022022   \n",
      "2   9.044117  10.318515  12.553804  14.147722  15.378979  17.854765   \n",
      "3   9.044117  10.318515  12.553804  14.147722  15.378979  17.854765   \n",
      "4   0.000000   0.000000   0.000000   0.000000   0.000000   0.000000   \n",
      "\n",
      "        2060       2070       2080      2090      2100      2110  \n",
      "0  19.231046  18.867719  10.906651  6.138375  3.398055  2.379544  \n",
      "1   0.042275   0.000000   0.000000  0.000000  0.000000  0.000000  \n",
      "2  17.285903  18.014806  10.663254  6.138375  3.398055  2.379544  \n",
      "3  17.285903  18.014806   3.928724  1.153387  0.848893  0.624785  \n",
      "4   0.000000   0.000000   6.734530  4.984987  2.549162  1.754759  \n",
      "Finished uploading timeseries\n"
     ]
    }
   ],
   "source": [
    "from message_data.tools.post_processing.iamc_report_hackathon import report as reporting\n",
    "\n",
    "for scen_name in rep_list[2:]:\n",
    "    import ixmp\n",
    "    import message_ix\n",
    "    mp = ixmp.Platform(\"ixmp_dev\")\n",
    "    scen = message_ix.Scenario(mp, model, scen_name)\n",
    "    reporting(\n",
    "        mp,\n",
    "        scen,\n",
    "        # NB(PNK) this is not an error; .iamc_report_hackathon.report() expects a\n",
    "        #         string containing \"True\" or \"False\" instead of an actual bool.\n",
    "        \"False\",\n",
    "        scen.model,\n",
    "        scen.scenario,\n",
    "        merge_hist=True,\n",
    "        merge_ts=True,\n",
    "        #run_config=\"materials_run_config.yaml\",\n",
    "    )\n",
    "    mp.close_db()"
   ],
   "metadata": {
    "collapsed": false
   }
  },
  {
   "cell_type": "code",
   "execution_count": 4,
   "outputs": [
    {
     "name": "stdout",
     "output_type": "stream",
     "text": [
      "processing Table: Resource|Extraction\n",
      "processing Table: Resource|Cumulative Extraction\n",
      "processing Table: Primary Energy\n",
      "processing Table: Primary Energy (substitution method)\n",
      "processing Table: Final Energy\n",
      "processing Table: Secondary Energy|Electricity\n",
      "processing Table: Secondary Energy|Heat\n",
      "processing Table: Secondary Energy\n",
      "processing Table: Secondary Energy|Gases\n",
      "processing Table: Secondary Energy|Solids\n",
      "processing Table: Emissions|CO2\n",
      "processing Table: Carbon Sequestration\n",
      "processing Table: Emissions|BC\n",
      "processing Table: Emissions|OC\n",
      "processing Table: Emissions|CO\n",
      "processing Table: Emissions|N2O\n",
      "processing Table: Emissions|CH4\n",
      "processing Table: Emissions|NH3\n",
      "processing Table: Emissions|Sulfur\n",
      "processing Table: Emissions|NOx\n",
      "processing Table: Emissions|VOC\n",
      "processing Table: Emissions|HFC\n",
      "processing Table: Emissions\n",
      "processing Table: Emissions\n",
      "processing Table: Agricultural Demand\n",
      "processing Table: Agricultural Production\n",
      "processing Table: Fertilizer Use\n",
      "processing Table: Fertilizer\n",
      "processing Table: Food Waste\n",
      "processing Table: Food Demand\n",
      "processing Table: Forestry Demand\n",
      "processing Table: Forestry Production\n",
      "processing Table: Land Cover\n",
      "processing Table: Yield\n",
      "processing Table: Capacity\n",
      "processing Table: Capacity Additions\n",
      "processing Table: Cumulative Capacity\n",
      "processing Table: Capital Cost\n",
      "processing Table: OM Cost|Fixed\n",
      "processing Table: OM Cost|Variable\n",
      "processing Table: Lifetime\n",
      "processing Table: Efficiency\n",
      "processing Table: Population\n",
      "processing Table: Price\n",
      "processing Table: Useful Energy\n",
      "processing Table: Useful Energy\n",
      "processing Table: Trade\n",
      "processing Table: Investment|Energy Supply\n",
      "processing Table: Water Consumption\n",
      "processing Table: Water Withdrawal\n",
      "processing Table: GDP\n",
      "processing Table: Cost\n",
      "processing Table: GLOBIOM Feedback\n",
      "Starting to upload timeseries\n",
      "    region                                variable   unit       2025  \\\n",
      "0  R12_AFR                     Resource|Extraction  EJ/yr  18.425755   \n",
      "1  R12_AFR                Resource|Extraction|Coal  EJ/yr   2.374063   \n",
      "2  R12_AFR                 Resource|Extraction|Gas  EJ/yr   7.104881   \n",
      "3  R12_AFR    Resource|Extraction|Gas|Conventional  EJ/yr   7.104881   \n",
      "4  R12_AFR  Resource|Extraction|Gas|Unconventional  EJ/yr   0.000000   \n",
      "\n",
      "        2030      2035      2040      2045          2050     2055      2060  \\\n",
      "0  13.297529  9.323047  6.774340  4.936031  3.528415e+00  2.43978  1.589079   \n",
      "1   1.158082  0.216647  0.018782  0.000170  3.322613e-07  0.00000  0.000000   \n",
      "2   5.350509  3.993009  2.942602  2.131803  1.506807e+00  1.02482  0.644342   \n",
      "3   5.350509  3.993009  2.942602  2.131803  1.506807e+00  1.02482  0.644342   \n",
      "4   0.000000  0.000000  0.000000  0.000000  0.000000e+00  0.00000  0.000000   \n",
      "\n",
      "       2070     2080      2090     2100      2110  \n",
      "0  0.417925  0.00286  0.005642  0.01113  0.021957  \n",
      "1  0.000000  0.00000  0.000000  0.00000  0.000000  \n",
      "2  0.122128  0.00000  0.000000  0.00000  0.000000  \n",
      "3  0.122128  0.00000  0.000000  0.00000  0.000000  \n",
      "4  0.000000  0.00000  0.000000  0.00000  0.000000  \n",
      "Finished uploading timeseries\n"
     ]
    }
   ],
   "source": [
    "# report baseline\n",
    "from message_data.tools.post_processing.iamc_report_hackathon import report as reporting\n",
    "reporting(\n",
    "    mp,\n",
    "    scen,\n",
    "    # NB(PNK) this is not an error; .iamc_report_hackathon.report() expects a\n",
    "    #         string containing \"True\" or \"False\" instead of an actual bool.\n",
    "    \"False\",\n",
    "    scen.model,\n",
    "    scen.scenario,\n",
    "    merge_hist=True,\n",
    "    merge_ts=True,\n",
    "    #run_config=\"materials_run_config.yaml\",\n",
    ")"
   ],
   "metadata": {
    "collapsed": false
   }
  },
  {
   "cell_type": "code",
   "execution_count": 14,
   "outputs": [
    {
     "data": {
      "text/plain": "True"
     },
     "execution_count": 14,
     "metadata": {},
     "output_type": "execute_result"
    }
   ],
   "source": [
    "scen.has_solution()"
   ],
   "metadata": {
    "collapsed": false
   }
  },
  {
   "cell_type": "code",
   "execution_count": 14,
   "outputs": [],
   "source": [
    "scen_name = \"600f_MP00BD1BI00\""
   ],
   "metadata": {
    "collapsed": false
   }
  },
  {
   "cell_type": "code",
   "execution_count": 4,
   "outputs": [],
   "source": [
    "model = \"MESSAGEix-GLOBIOM 1.1-R12-MAGPIE\""
   ],
   "metadata": {
    "collapsed": false
   }
  },
  {
   "cell_type": "code",
   "execution_count": 9,
   "outputs": [
    {
     "data": {
      "text/plain": "                                             model  \\\n6871              MESSAGEix-GLOBIOM 1.1-R12-MAGPIE   \n6870              MESSAGEix-GLOBIOM 1.1-R12-MAGPIE   \n6891  MESSAGEix-GLOBIOM 1.1-R12-MAGPIE-MP00BD1BI00   \n6892  MESSAGEix-GLOBIOM 1.1-R12-MAGPIE-MP00BD1BI00   \n6893  MESSAGEix-GLOBIOM 1.1-R12-MAGPIE_MP00BD1BI00   \n6878              MESSAGEix-GLOBIOM 1.1-R12-MAGPIE   \n6888              MESSAGEix-GLOBIOM 1.1-R12-MAGPIE   \n6876              MESSAGEix-GLOBIOM 1.1-R12-MAGPIE   \n6877              MESSAGEix-GLOBIOM 1.1-R12-MAGPIE   \n6887              MESSAGEix-GLOBIOM 1.1-R12-MAGPIE   \n6886              MESSAGEix-GLOBIOM 1.1-R12-MAGPIE   \n6869              MESSAGEix-GLOBIOM 1.1-R12-MAGPIE   \n6885              MESSAGEix-GLOBIOM 1.1-R12-MAGPIE   \n6882              MESSAGEix-GLOBIOM 1.1-R12-MAGPIE   \n6881              MESSAGEix-GLOBIOM 1.1-R12-MAGPIE   \n6874              MESSAGEix-GLOBIOM 1.1-R12-MAGPIE   \n6873              MESSAGEix-GLOBIOM 1.1-R12-MAGPIE   \n6884              MESSAGEix-GLOBIOM 1.1-R12-MAGPIE   \n6872              MESSAGEix-GLOBIOM 1.1-R12-MAGPIE   \n6880              MESSAGEix-GLOBIOM 1.1-R12-MAGPIE   \n6875              MESSAGEix-GLOBIOM 1.1-R12-MAGPIE   \n6883              MESSAGEix-GLOBIOM 1.1-R12-MAGPIE   \n6890              MESSAGEix-GLOBIOM 1.1-R12-MAGPIE   \n6889              MESSAGEix-GLOBIOM 1.1-R12-MAGPIE   \n6879              MESSAGEix-GLOBIOM 1.1-R12-MAGPIE   \n\n                                   scenario   scheme  is_default  is_locked  \\\n6871              1000f_MP76BD1BI00test_scp  MESSAGE           1          0   \n6870              1000f_MP76BD0BI78test_scp  MESSAGE           1          0   \n6891               NPi2020-con-prim-dir-ncr  MESSAGE           1          0   \n6892                               baseline  MESSAGE           1          0   \n6893                               baseline  MESSAGE           1          0   \n6878               600f_MP76BD1BI00test_scp  MESSAGE           1          0   \n6888           baseline_MP76BD1BI00test_scp  MESSAGE           1          0   \n6876               600f_MP76BD0BI78test_scp  MESSAGE           1          0   \n6877                       600f_MP76BD1BI00  MESSAGE           1          0   \n6887                   baseline_MP76BD1BI00  MESSAGE           1          0   \n6886           baseline_MP76BD0BI78test_scp  MESSAGE           1          0   \n6869     1000f_MP00BD0BI78_test_calib_macro  MESSAGE           1          0   \n6885                   baseline_MP76BD0BI78  MESSAGE           1          0   \n6882  baseline_MP00BD0BI78_test_calib_macro  MESSAGE           1          0   \n6881        baseline_MP00BD0BI78_test_calib  MESSAGE           1          0   \n6874      600f_MP00BD0BI78_test_calib_macro  MESSAGE           1          0   \n6873            600f_MP00BD0BI78_test_calib  MESSAGE           1          0   \n6884                   baseline_MP76BD0BI70  MESSAGE           1          0   \n6872                       600f_MP00BD0BI78  MESSAGE           1          0   \n6880                   baseline_MP00BD0BI78  MESSAGE           1          0   \n6875                       600f_MP00BD1BI00  MESSAGE           1          0   \n6883                   baseline_MP00BD1BI00  MESSAGE           1          0   \n6890                        baseline_w/o_LU  MESSAGE           1          0   \n6889                   baseline_cum_LU_emis  MESSAGE           1          0   \n6879                               baseline  MESSAGE           1          0   \n\n     cre_user                    cre_date upd_user  \\\n6871   maczek  2023-08-16 14:43:19.000000   maczek   \n6870   maczek  2023-08-16 14:04:03.000000   maczek   \n6891   maczek  2023-08-14 13:21:06.000000     None   \n6892   maczek  2023-08-14 13:08:04.000000   maczek   \n6893   maczek  2023-08-14 13:07:05.000000     None   \n6878   maczek  2023-08-09 17:27:58.000000   maczek   \n6888   maczek  2023-08-09 16:57:44.000000   maczek   \n6876   maczek  2023-08-09 16:27:09.000000   maczek   \n6877   maczek  2023-08-09 16:12:11.000000     None   \n6887   maczek  2023-08-09 15:20:37.000000     None   \n6886   maczek  2023-08-09 15:00:57.000000   maczek   \n6869   maczek  2023-08-09 13:45:52.000000   maczek   \n6885   maczek  2023-08-09 09:56:43.000000     None   \n6882   maczek  2023-08-09 09:37:24.000000   maczek   \n6881   maczek  2023-08-09 09:30:09.000000   maczek   \n6874   maczek  2023-08-09 09:23:31.000000     None   \n6873   maczek  2023-08-09 09:16:15.000000   maczek   \n6884   maczek  2023-08-09 09:10:13.000000     None   \n6872   maczek  2023-08-08 15:52:17.000000   maczek   \n6880   maczek  2023-08-08 13:39:45.000000   maczek   \n6875   maczek  2023-08-08 11:53:14.000000   maczek   \n6883   maczek  2023-08-08 10:17:35.000000   maczek   \n6890   maczek  2023-08-08 09:50:56.000000     None   \n6889   maczek  2023-08-06 20:02:21.000000   maczek   \n6879   maczek  2023-08-03 11:49:57.000000   maczek   \n\n                        upd_date lock_user lock_date  \\\n6871  2023-08-16 15:24:22.000000      None      None   \n6870  2023-08-16 14:38:21.000000      None      None   \n6891                        None      None      None   \n6892  2023-08-16 14:22:47.000000      None      None   \n6893                        None      None      None   \n6878  2023-08-09 18:00:37.000000      None      None   \n6888  2023-08-09 17:26:01.000000      None      None   \n6876  2023-08-09 16:53:19.000000      None      None   \n6877                        None      None      None   \n6887                        None      None      None   \n6886  2023-08-09 15:59:13.000000      None      None   \n6869  2023-08-09 14:12:46.000000      None      None   \n6885                        None      None      None   \n6882  2023-08-09 09:47:10.000000      None      None   \n6881  2023-08-09 09:35:09.000000      None      None   \n6874                        None      None      None   \n6873  2023-08-09 09:22:45.000000      None      None   \n6884                        None      None      None   \n6872  2023-08-08 16:31:06.000000      None      None   \n6880  2023-08-08 15:37:34.000000      None      None   \n6875  2023-08-08 12:22:46.000000      None      None   \n6883  2023-08-08 11:52:04.000000      None      None   \n6890                        None      None      None   \n6889  2023-08-06 20:05:37.000000      None      None   \n6879  2023-08-04 16:29:36.000000      None      None   \n\n                                             annotation  version  \n6871  clone Scenario from 'MESSAGEix-GLOBIOM 1.1-R12...        1  \n6870  clone Scenario from 'MESSAGEix-GLOBIOM 1.1-R12...        1  \n6891  clone Scenario from 'MESSAGEix-GLOBIOM 1.1-R12...        1  \n6892  clone Scenario from 'MESSAGEix-GLOBIOM 1.1-R12...        1  \n6893  clone Scenario from 'MESSAGEix-GLOBIOM 1.1-R12...        1  \n6878  clone Scenario from 'MESSAGEix-GLOBIOM 1.1-R12...        1  \n6888  clone Scenario from 'MESSAGEix-GLOBIOM 1.1-R12...        1  \n6876  clone Scenario from 'MESSAGEix-GLOBIOM 1.1-R12...        1  \n6877  clone Scenario from 'MESSAGEix-GLOBIOM 1.1-R12...        1  \n6887  clone Scenario from 'MESSAGEix-GLOBIOM 1.1-R12...        1  \n6886  clone Scenario from 'MESSAGEix-GLOBIOM 1.1-R12...        1  \n6869  clone Scenario from 'MESSAGEix-GLOBIOM 1.1-R12...        1  \n6885  clone Scenario from 'MESSAGEix-GLOBIOM 1.1-R12...        1  \n6882  clone Scenario from 'MESSAGEix-GLOBIOM 1.1-R12...        1  \n6881  clone Scenario from 'MESSAGEix-GLOBIOM 1.1-R12...        1  \n6874  clone Scenario from 'MESSAGEix-GLOBIOM 1.1-R12...        1  \n6873  clone Scenario from 'MESSAGEix-GLOBIOM 1.1-R12...        1  \n6884  clone Scenario from 'MESSAGEix-GLOBIOM 1.1-R12...        1  \n6872  clone Scenario from 'MESSAGEix-GLOBIOM 1.1-R12...        1  \n6880  clone Scenario from 'MESSAGEix-GLOBIOM 1.1-R12...        1  \n6875  clone Scenario from 'MESSAGEix-GLOBIOM 1.1-R12...        2  \n6883  clone Scenario from 'MESSAGEix-GLOBIOM 1.1-R12...        1  \n6890  clone Scenario from 'MESSAGEix-GLOBIOM 1.1-R12...        1  \n6889  clone Scenario from 'MESSAGEix-GLOBIOM 1.1-R12...        1  \n6879  clone Scenario from 'MESSAGEix-GLOBIOM 1.1-R12...        2  ",
      "text/html": "<div>\n<style scoped>\n    .dataframe tbody tr th:only-of-type {\n        vertical-align: middle;\n    }\n\n    .dataframe tbody tr th {\n        vertical-align: top;\n    }\n\n    .dataframe thead th {\n        text-align: right;\n    }\n</style>\n<table border=\"1\" class=\"dataframe\">\n  <thead>\n    <tr style=\"text-align: right;\">\n      <th></th>\n      <th>model</th>\n      <th>scenario</th>\n      <th>scheme</th>\n      <th>is_default</th>\n      <th>is_locked</th>\n      <th>cre_user</th>\n      <th>cre_date</th>\n      <th>upd_user</th>\n      <th>upd_date</th>\n      <th>lock_user</th>\n      <th>lock_date</th>\n      <th>annotation</th>\n      <th>version</th>\n    </tr>\n  </thead>\n  <tbody>\n    <tr>\n      <th>6871</th>\n      <td>MESSAGEix-GLOBIOM 1.1-R12-MAGPIE</td>\n      <td>1000f_MP76BD1BI00test_scp</td>\n      <td>MESSAGE</td>\n      <td>1</td>\n      <td>0</td>\n      <td>maczek</td>\n      <td>2023-08-16 14:43:19.000000</td>\n      <td>maczek</td>\n      <td>2023-08-16 15:24:22.000000</td>\n      <td>None</td>\n      <td>None</td>\n      <td>clone Scenario from 'MESSAGEix-GLOBIOM 1.1-R12...</td>\n      <td>1</td>\n    </tr>\n    <tr>\n      <th>6870</th>\n      <td>MESSAGEix-GLOBIOM 1.1-R12-MAGPIE</td>\n      <td>1000f_MP76BD0BI78test_scp</td>\n      <td>MESSAGE</td>\n      <td>1</td>\n      <td>0</td>\n      <td>maczek</td>\n      <td>2023-08-16 14:04:03.000000</td>\n      <td>maczek</td>\n      <td>2023-08-16 14:38:21.000000</td>\n      <td>None</td>\n      <td>None</td>\n      <td>clone Scenario from 'MESSAGEix-GLOBIOM 1.1-R12...</td>\n      <td>1</td>\n    </tr>\n    <tr>\n      <th>6891</th>\n      <td>MESSAGEix-GLOBIOM 1.1-R12-MAGPIE-MP00BD1BI00</td>\n      <td>NPi2020-con-prim-dir-ncr</td>\n      <td>MESSAGE</td>\n      <td>1</td>\n      <td>0</td>\n      <td>maczek</td>\n      <td>2023-08-14 13:21:06.000000</td>\n      <td>None</td>\n      <td>None</td>\n      <td>None</td>\n      <td>None</td>\n      <td>clone Scenario from 'MESSAGEix-GLOBIOM 1.1-R12...</td>\n      <td>1</td>\n    </tr>\n    <tr>\n      <th>6892</th>\n      <td>MESSAGEix-GLOBIOM 1.1-R12-MAGPIE-MP00BD1BI00</td>\n      <td>baseline</td>\n      <td>MESSAGE</td>\n      <td>1</td>\n      <td>0</td>\n      <td>maczek</td>\n      <td>2023-08-14 13:08:04.000000</td>\n      <td>maczek</td>\n      <td>2023-08-16 14:22:47.000000</td>\n      <td>None</td>\n      <td>None</td>\n      <td>clone Scenario from 'MESSAGEix-GLOBIOM 1.1-R12...</td>\n      <td>1</td>\n    </tr>\n    <tr>\n      <th>6893</th>\n      <td>MESSAGEix-GLOBIOM 1.1-R12-MAGPIE_MP00BD1BI00</td>\n      <td>baseline</td>\n      <td>MESSAGE</td>\n      <td>1</td>\n      <td>0</td>\n      <td>maczek</td>\n      <td>2023-08-14 13:07:05.000000</td>\n      <td>None</td>\n      <td>None</td>\n      <td>None</td>\n      <td>None</td>\n      <td>clone Scenario from 'MESSAGEix-GLOBIOM 1.1-R12...</td>\n      <td>1</td>\n    </tr>\n    <tr>\n      <th>6878</th>\n      <td>MESSAGEix-GLOBIOM 1.1-R12-MAGPIE</td>\n      <td>600f_MP76BD1BI00test_scp</td>\n      <td>MESSAGE</td>\n      <td>1</td>\n      <td>0</td>\n      <td>maczek</td>\n      <td>2023-08-09 17:27:58.000000</td>\n      <td>maczek</td>\n      <td>2023-08-09 18:00:37.000000</td>\n      <td>None</td>\n      <td>None</td>\n      <td>clone Scenario from 'MESSAGEix-GLOBIOM 1.1-R12...</td>\n      <td>1</td>\n    </tr>\n    <tr>\n      <th>6888</th>\n      <td>MESSAGEix-GLOBIOM 1.1-R12-MAGPIE</td>\n      <td>baseline_MP76BD1BI00test_scp</td>\n      <td>MESSAGE</td>\n      <td>1</td>\n      <td>0</td>\n      <td>maczek</td>\n      <td>2023-08-09 16:57:44.000000</td>\n      <td>maczek</td>\n      <td>2023-08-09 17:26:01.000000</td>\n      <td>None</td>\n      <td>None</td>\n      <td>clone Scenario from 'MESSAGEix-GLOBIOM 1.1-R12...</td>\n      <td>1</td>\n    </tr>\n    <tr>\n      <th>6876</th>\n      <td>MESSAGEix-GLOBIOM 1.1-R12-MAGPIE</td>\n      <td>600f_MP76BD0BI78test_scp</td>\n      <td>MESSAGE</td>\n      <td>1</td>\n      <td>0</td>\n      <td>maczek</td>\n      <td>2023-08-09 16:27:09.000000</td>\n      <td>maczek</td>\n      <td>2023-08-09 16:53:19.000000</td>\n      <td>None</td>\n      <td>None</td>\n      <td>clone Scenario from 'MESSAGEix-GLOBIOM 1.1-R12...</td>\n      <td>1</td>\n    </tr>\n    <tr>\n      <th>6877</th>\n      <td>MESSAGEix-GLOBIOM 1.1-R12-MAGPIE</td>\n      <td>600f_MP76BD1BI00</td>\n      <td>MESSAGE</td>\n      <td>1</td>\n      <td>0</td>\n      <td>maczek</td>\n      <td>2023-08-09 16:12:11.000000</td>\n      <td>None</td>\n      <td>None</td>\n      <td>None</td>\n      <td>None</td>\n      <td>clone Scenario from 'MESSAGEix-GLOBIOM 1.1-R12...</td>\n      <td>1</td>\n    </tr>\n    <tr>\n      <th>6887</th>\n      <td>MESSAGEix-GLOBIOM 1.1-R12-MAGPIE</td>\n      <td>baseline_MP76BD1BI00</td>\n      <td>MESSAGE</td>\n      <td>1</td>\n      <td>0</td>\n      <td>maczek</td>\n      <td>2023-08-09 15:20:37.000000</td>\n      <td>None</td>\n      <td>None</td>\n      <td>None</td>\n      <td>None</td>\n      <td>clone Scenario from 'MESSAGEix-GLOBIOM 1.1-R12...</td>\n      <td>1</td>\n    </tr>\n    <tr>\n      <th>6886</th>\n      <td>MESSAGEix-GLOBIOM 1.1-R12-MAGPIE</td>\n      <td>baseline_MP76BD0BI78test_scp</td>\n      <td>MESSAGE</td>\n      <td>1</td>\n      <td>0</td>\n      <td>maczek</td>\n      <td>2023-08-09 15:00:57.000000</td>\n      <td>maczek</td>\n      <td>2023-08-09 15:59:13.000000</td>\n      <td>None</td>\n      <td>None</td>\n      <td>clone Scenario from 'MESSAGEix-GLOBIOM 1.1-R12...</td>\n      <td>1</td>\n    </tr>\n    <tr>\n      <th>6869</th>\n      <td>MESSAGEix-GLOBIOM 1.1-R12-MAGPIE</td>\n      <td>1000f_MP00BD0BI78_test_calib_macro</td>\n      <td>MESSAGE</td>\n      <td>1</td>\n      <td>0</td>\n      <td>maczek</td>\n      <td>2023-08-09 13:45:52.000000</td>\n      <td>maczek</td>\n      <td>2023-08-09 14:12:46.000000</td>\n      <td>None</td>\n      <td>None</td>\n      <td>clone Scenario from 'MESSAGEix-GLOBIOM 1.1-R12...</td>\n      <td>1</td>\n    </tr>\n    <tr>\n      <th>6885</th>\n      <td>MESSAGEix-GLOBIOM 1.1-R12-MAGPIE</td>\n      <td>baseline_MP76BD0BI78</td>\n      <td>MESSAGE</td>\n      <td>1</td>\n      <td>0</td>\n      <td>maczek</td>\n      <td>2023-08-09 09:56:43.000000</td>\n      <td>None</td>\n      <td>None</td>\n      <td>None</td>\n      <td>None</td>\n      <td>clone Scenario from 'MESSAGEix-GLOBIOM 1.1-R12...</td>\n      <td>1</td>\n    </tr>\n    <tr>\n      <th>6882</th>\n      <td>MESSAGEix-GLOBIOM 1.1-R12-MAGPIE</td>\n      <td>baseline_MP00BD0BI78_test_calib_macro</td>\n      <td>MESSAGE</td>\n      <td>1</td>\n      <td>0</td>\n      <td>maczek</td>\n      <td>2023-08-09 09:37:24.000000</td>\n      <td>maczek</td>\n      <td>2023-08-09 09:47:10.000000</td>\n      <td>None</td>\n      <td>None</td>\n      <td>clone Scenario from 'MESSAGEix-GLOBIOM 1.1-R12...</td>\n      <td>1</td>\n    </tr>\n    <tr>\n      <th>6881</th>\n      <td>MESSAGEix-GLOBIOM 1.1-R12-MAGPIE</td>\n      <td>baseline_MP00BD0BI78_test_calib</td>\n      <td>MESSAGE</td>\n      <td>1</td>\n      <td>0</td>\n      <td>maczek</td>\n      <td>2023-08-09 09:30:09.000000</td>\n      <td>maczek</td>\n      <td>2023-08-09 09:35:09.000000</td>\n      <td>None</td>\n      <td>None</td>\n      <td>clone Scenario from 'MESSAGEix-GLOBIOM 1.1-R12...</td>\n      <td>1</td>\n    </tr>\n    <tr>\n      <th>6874</th>\n      <td>MESSAGEix-GLOBIOM 1.1-R12-MAGPIE</td>\n      <td>600f_MP00BD0BI78_test_calib_macro</td>\n      <td>MESSAGE</td>\n      <td>1</td>\n      <td>0</td>\n      <td>maczek</td>\n      <td>2023-08-09 09:23:31.000000</td>\n      <td>None</td>\n      <td>None</td>\n      <td>None</td>\n      <td>None</td>\n      <td>clone Scenario from 'MESSAGEix-GLOBIOM 1.1-R12...</td>\n      <td>1</td>\n    </tr>\n    <tr>\n      <th>6873</th>\n      <td>MESSAGEix-GLOBIOM 1.1-R12-MAGPIE</td>\n      <td>600f_MP00BD0BI78_test_calib</td>\n      <td>MESSAGE</td>\n      <td>1</td>\n      <td>0</td>\n      <td>maczek</td>\n      <td>2023-08-09 09:16:15.000000</td>\n      <td>maczek</td>\n      <td>2023-08-09 09:22:45.000000</td>\n      <td>None</td>\n      <td>None</td>\n      <td>clone Scenario from 'MESSAGEix-GLOBIOM 1.1-R12...</td>\n      <td>1</td>\n    </tr>\n    <tr>\n      <th>6884</th>\n      <td>MESSAGEix-GLOBIOM 1.1-R12-MAGPIE</td>\n      <td>baseline_MP76BD0BI70</td>\n      <td>MESSAGE</td>\n      <td>1</td>\n      <td>0</td>\n      <td>maczek</td>\n      <td>2023-08-09 09:10:13.000000</td>\n      <td>None</td>\n      <td>None</td>\n      <td>None</td>\n      <td>None</td>\n      <td>clone Scenario from 'MESSAGEix-GLOBIOM 1.1-R12...</td>\n      <td>1</td>\n    </tr>\n    <tr>\n      <th>6872</th>\n      <td>MESSAGEix-GLOBIOM 1.1-R12-MAGPIE</td>\n      <td>600f_MP00BD0BI78</td>\n      <td>MESSAGE</td>\n      <td>1</td>\n      <td>0</td>\n      <td>maczek</td>\n      <td>2023-08-08 15:52:17.000000</td>\n      <td>maczek</td>\n      <td>2023-08-08 16:31:06.000000</td>\n      <td>None</td>\n      <td>None</td>\n      <td>clone Scenario from 'MESSAGEix-GLOBIOM 1.1-R12...</td>\n      <td>1</td>\n    </tr>\n    <tr>\n      <th>6880</th>\n      <td>MESSAGEix-GLOBIOM 1.1-R12-MAGPIE</td>\n      <td>baseline_MP00BD0BI78</td>\n      <td>MESSAGE</td>\n      <td>1</td>\n      <td>0</td>\n      <td>maczek</td>\n      <td>2023-08-08 13:39:45.000000</td>\n      <td>maczek</td>\n      <td>2023-08-08 15:37:34.000000</td>\n      <td>None</td>\n      <td>None</td>\n      <td>clone Scenario from 'MESSAGEix-GLOBIOM 1.1-R12...</td>\n      <td>1</td>\n    </tr>\n    <tr>\n      <th>6875</th>\n      <td>MESSAGEix-GLOBIOM 1.1-R12-MAGPIE</td>\n      <td>600f_MP00BD1BI00</td>\n      <td>MESSAGE</td>\n      <td>1</td>\n      <td>0</td>\n      <td>maczek</td>\n      <td>2023-08-08 11:53:14.000000</td>\n      <td>maczek</td>\n      <td>2023-08-08 12:22:46.000000</td>\n      <td>None</td>\n      <td>None</td>\n      <td>clone Scenario from 'MESSAGEix-GLOBIOM 1.1-R12...</td>\n      <td>2</td>\n    </tr>\n    <tr>\n      <th>6883</th>\n      <td>MESSAGEix-GLOBIOM 1.1-R12-MAGPIE</td>\n      <td>baseline_MP00BD1BI00</td>\n      <td>MESSAGE</td>\n      <td>1</td>\n      <td>0</td>\n      <td>maczek</td>\n      <td>2023-08-08 10:17:35.000000</td>\n      <td>maczek</td>\n      <td>2023-08-08 11:52:04.000000</td>\n      <td>None</td>\n      <td>None</td>\n      <td>clone Scenario from 'MESSAGEix-GLOBIOM 1.1-R12...</td>\n      <td>1</td>\n    </tr>\n    <tr>\n      <th>6890</th>\n      <td>MESSAGEix-GLOBIOM 1.1-R12-MAGPIE</td>\n      <td>baseline_w/o_LU</td>\n      <td>MESSAGE</td>\n      <td>1</td>\n      <td>0</td>\n      <td>maczek</td>\n      <td>2023-08-08 09:50:56.000000</td>\n      <td>None</td>\n      <td>None</td>\n      <td>None</td>\n      <td>None</td>\n      <td>clone Scenario from 'MESSAGEix-GLOBIOM 1.1-R12...</td>\n      <td>1</td>\n    </tr>\n    <tr>\n      <th>6889</th>\n      <td>MESSAGEix-GLOBIOM 1.1-R12-MAGPIE</td>\n      <td>baseline_cum_LU_emis</td>\n      <td>MESSAGE</td>\n      <td>1</td>\n      <td>0</td>\n      <td>maczek</td>\n      <td>2023-08-06 20:02:21.000000</td>\n      <td>maczek</td>\n      <td>2023-08-06 20:05:37.000000</td>\n      <td>None</td>\n      <td>None</td>\n      <td>clone Scenario from 'MESSAGEix-GLOBIOM 1.1-R12...</td>\n      <td>1</td>\n    </tr>\n    <tr>\n      <th>6879</th>\n      <td>MESSAGEix-GLOBIOM 1.1-R12-MAGPIE</td>\n      <td>baseline</td>\n      <td>MESSAGE</td>\n      <td>1</td>\n      <td>0</td>\n      <td>maczek</td>\n      <td>2023-08-03 11:49:57.000000</td>\n      <td>maczek</td>\n      <td>2023-08-04 16:29:36.000000</td>\n      <td>None</td>\n      <td>None</td>\n      <td>clone Scenario from 'MESSAGEix-GLOBIOM 1.1-R12...</td>\n      <td>2</td>\n    </tr>\n  </tbody>\n</table>\n</div>"
     },
     "execution_count": 9,
     "metadata": {},
     "output_type": "execute_result"
    }
   ],
   "source": [
    "df = mp.scenario_list()\n",
    "df[df[\"model\"].str.contains(\"R12-MAGPIE\")].sort_values(\"cre_date\", ascending=False)"
   ],
   "metadata": {
    "collapsed": false
   }
  },
  {
   "cell_type": "code",
   "execution_count": 15,
   "outputs": [],
   "source": [
    "scen = message_ix.Scenario(mp, model, scen_name)"
   ],
   "metadata": {
    "collapsed": false
   }
  },
  {
   "cell_type": "code",
   "execution_count": 16,
   "outputs": [],
   "source": [
    "sc_clone = scen"
   ],
   "metadata": {
    "collapsed": false
   }
  },
  {
   "cell_type": "markdown",
   "source": [
    "## create budget scenario"
   ],
   "metadata": {
    "collapsed": false
   }
  },
  {
   "cell_type": "code",
   "execution_count": 18,
   "outputs": [],
   "source": [
    "mode = \"clone\"\n",
    "#mode = \"load\"\n",
    "\n",
    "budget = \"1000f\"\n",
    "#budget = \"600f\""
   ],
   "metadata": {
    "collapsed": false
   }
  },
  {
   "cell_type": "code",
   "execution_count": 19,
   "outputs": [
    {
     "data": {
      "text/plain": "'1000f_MP00BD1BI00'"
     },
     "execution_count": 19,
     "metadata": {},
     "output_type": "execute_result"
    }
   ],
   "source": [
    "scen.scenario.replace(\"600f\",budget)"
   ],
   "metadata": {
    "collapsed": false
   }
  },
  {
   "cell_type": "code",
   "execution_count": 20,
   "outputs": [],
   "source": [
    "if mode == \"clone\":\n",
    "    scen_budget = sc_clone.clone(model=sc_clone.model, scenario=sc_clone.scenario.replace(\"600f\",budget), keep_solution=False)\n",
    "else:\n",
    "    scen_budget = message_ix.Scenario(mp, model=\"ENGAGE-MAGPIE_SSP2_v4.1.8.3_T4.5_r3.1\", scenario=budget)"
   ],
   "metadata": {
    "collapsed": false
   }
  },
  {
   "cell_type": "code",
   "execution_count": 21,
   "outputs": [
    {
     "data": {
      "text/plain": "'1000f_MP00BD1BI00'"
     },
     "execution_count": 21,
     "metadata": {},
     "output_type": "execute_result"
    }
   ],
   "source": [
    "scen_budget.scenario"
   ],
   "metadata": {
    "collapsed": false
   }
  },
  {
   "cell_type": "code",
   "execution_count": 22,
   "outputs": [
    {
     "data": {
      "text/plain": "     type_year  year\n0   cumulative  2025\n1   cumulative  2030\n2   cumulative  2035\n3   cumulative  2040\n4   cumulative  2045\n5   cumulative  2050\n6   cumulative  2055\n7   cumulative  2060\n8   cumulative  2070\n9   cumulative  2080\n10  cumulative  2090\n11  cumulative  2100\n12  cumulative  2110",
      "text/html": "<div>\n<style scoped>\n    .dataframe tbody tr th:only-of-type {\n        vertical-align: middle;\n    }\n\n    .dataframe tbody tr th {\n        vertical-align: top;\n    }\n\n    .dataframe thead th {\n        text-align: right;\n    }\n</style>\n<table border=\"1\" class=\"dataframe\">\n  <thead>\n    <tr style=\"text-align: right;\">\n      <th></th>\n      <th>type_year</th>\n      <th>year</th>\n    </tr>\n  </thead>\n  <tbody>\n    <tr>\n      <th>0</th>\n      <td>cumulative</td>\n      <td>2025</td>\n    </tr>\n    <tr>\n      <th>1</th>\n      <td>cumulative</td>\n      <td>2030</td>\n    </tr>\n    <tr>\n      <th>2</th>\n      <td>cumulative</td>\n      <td>2035</td>\n    </tr>\n    <tr>\n      <th>3</th>\n      <td>cumulative</td>\n      <td>2040</td>\n    </tr>\n    <tr>\n      <th>4</th>\n      <td>cumulative</td>\n      <td>2045</td>\n    </tr>\n    <tr>\n      <th>5</th>\n      <td>cumulative</td>\n      <td>2050</td>\n    </tr>\n    <tr>\n      <th>6</th>\n      <td>cumulative</td>\n      <td>2055</td>\n    </tr>\n    <tr>\n      <th>7</th>\n      <td>cumulative</td>\n      <td>2060</td>\n    </tr>\n    <tr>\n      <th>8</th>\n      <td>cumulative</td>\n      <td>2070</td>\n    </tr>\n    <tr>\n      <th>9</th>\n      <td>cumulative</td>\n      <td>2080</td>\n    </tr>\n    <tr>\n      <th>10</th>\n      <td>cumulative</td>\n      <td>2090</td>\n    </tr>\n    <tr>\n      <th>11</th>\n      <td>cumulative</td>\n      <td>2100</td>\n    </tr>\n    <tr>\n      <th>12</th>\n      <td>cumulative</td>\n      <td>2110</td>\n    </tr>\n  </tbody>\n</table>\n</div>"
     },
     "execution_count": 22,
     "metadata": {},
     "output_type": "execute_result"
    }
   ],
   "source": [
    "extra = scen_budget.set(\"cat_year\", {\"type_year\": \"cumulative\", \"year\": [2020, 2015, 2010]})\n",
    "scen_budget.check_out()\n",
    "scen_budget.remove_set(\"cat_year\", extra)\n",
    "scen_budget.commit(\"remove cumulative years from cat_year set\")\n",
    "scen_budget.set(\"cat_year\", {\"type_year\": \"cumulative\"})"
   ],
   "metadata": {
    "collapsed": false
   }
  },
  {
   "cell_type": "code",
   "execution_count": 23,
   "outputs": [
    {
     "data": {
      "text/plain": "    node type_emission type_tec   type_year   value unit\n0  World           TCE      all  cumulative  4046.0  ???",
      "text/html": "<div>\n<style scoped>\n    .dataframe tbody tr th:only-of-type {\n        vertical-align: middle;\n    }\n\n    .dataframe tbody tr th {\n        vertical-align: top;\n    }\n\n    .dataframe thead th {\n        text-align: right;\n    }\n</style>\n<table border=\"1\" class=\"dataframe\">\n  <thead>\n    <tr style=\"text-align: right;\">\n      <th></th>\n      <th>node</th>\n      <th>type_emission</th>\n      <th>type_tec</th>\n      <th>type_year</th>\n      <th>value</th>\n      <th>unit</th>\n    </tr>\n  </thead>\n  <tbody>\n    <tr>\n      <th>0</th>\n      <td>World</td>\n      <td>TCE</td>\n      <td>all</td>\n      <td>cumulative</td>\n      <td>4046.0</td>\n      <td>???</td>\n    </tr>\n  </tbody>\n</table>\n</div>"
     },
     "execution_count": 23,
     "metadata": {},
     "output_type": "execute_result"
    }
   ],
   "source": [
    "emission_dict = {\n",
    "            \"node\": \"World\",\n",
    "            \"type_emission\": \"TCE\",\n",
    "            \"type_tec\": \"all\",\n",
    "            \"type_year\": \"cumulative\",\n",
    "            \"unit\": \"???\",\n",
    "        }\n",
    "if budget == \"1000f\":\n",
    "    value = 4046\n",
    "if budget == \"600f\":\n",
    "    value = 2605\n",
    "\n",
    "df = message_ix.make_df(\n",
    "    \"bound_emission\", value=value, **emission_dict\n",
    ")\n",
    "scen_budget.check_out()\n",
    "scen_budget.add_par(\"bound_emission\", df)\n",
    "scen_budget.commit(\"add emission bound\")\n",
    "scen_budget.par(\"bound_emission\")"
   ],
   "metadata": {
    "collapsed": false
   }
  },
  {
   "cell_type": "code",
   "execution_count": 24,
   "outputs": [],
   "source": [
    "scen_budget.solve(model=\"MESSAGE-MACRO\")"
   ],
   "metadata": {
    "collapsed": false
   }
  },
  {
   "cell_type": "code",
   "execution_count": 12,
   "outputs": [],
   "source": [
    "scen.check_out()\n",
    "scen.add_set(\"balance_equality\", (\"i_feed\", \"useful\"))"
   ],
   "metadata": {
    "collapsed": false
   }
  },
  {
   "cell_type": "code",
   "execution_count": 14,
   "outputs": [],
   "source": [
    "scen.commit(\"add i_feed to balance_equality\")"
   ],
   "metadata": {
    "collapsed": false
   }
  },
  {
   "cell_type": "code",
   "execution_count": 17,
   "outputs": [
    {
     "data": {
      "text/plain": "        commodity   level\n0     BIO01GHG000      LU\n1     BIO02GHG000      LU\n2     BIO03GHG000      LU\n3     BIO04GHG000      LU\n4     BIO05GHG000      LU\n..            ...     ...\n128  BIO60GHG2000      LU\n129  BIO60GHG3000      LU\n130   BIO60GHG400      LU\n131   BIO60GHG600      LU\n132        i_feed  useful\n\n[133 rows x 2 columns]",
      "text/html": "<div>\n<style scoped>\n    .dataframe tbody tr th:only-of-type {\n        vertical-align: middle;\n    }\n\n    .dataframe tbody tr th {\n        vertical-align: top;\n    }\n\n    .dataframe thead th {\n        text-align: right;\n    }\n</style>\n<table border=\"1\" class=\"dataframe\">\n  <thead>\n    <tr style=\"text-align: right;\">\n      <th></th>\n      <th>commodity</th>\n      <th>level</th>\n    </tr>\n  </thead>\n  <tbody>\n    <tr>\n      <th>0</th>\n      <td>BIO01GHG000</td>\n      <td>LU</td>\n    </tr>\n    <tr>\n      <th>1</th>\n      <td>BIO02GHG000</td>\n      <td>LU</td>\n    </tr>\n    <tr>\n      <th>2</th>\n      <td>BIO03GHG000</td>\n      <td>LU</td>\n    </tr>\n    <tr>\n      <th>3</th>\n      <td>BIO04GHG000</td>\n      <td>LU</td>\n    </tr>\n    <tr>\n      <th>4</th>\n      <td>BIO05GHG000</td>\n      <td>LU</td>\n    </tr>\n    <tr>\n      <th>...</th>\n      <td>...</td>\n      <td>...</td>\n    </tr>\n    <tr>\n      <th>128</th>\n      <td>BIO60GHG2000</td>\n      <td>LU</td>\n    </tr>\n    <tr>\n      <th>129</th>\n      <td>BIO60GHG3000</td>\n      <td>LU</td>\n    </tr>\n    <tr>\n      <th>130</th>\n      <td>BIO60GHG400</td>\n      <td>LU</td>\n    </tr>\n    <tr>\n      <th>131</th>\n      <td>BIO60GHG600</td>\n      <td>LU</td>\n    </tr>\n    <tr>\n      <th>132</th>\n      <td>i_feed</td>\n      <td>useful</td>\n    </tr>\n  </tbody>\n</table>\n<p>133 rows × 2 columns</p>\n</div>"
     },
     "execution_count": 17,
     "metadata": {},
     "output_type": "execute_result"
    }
   ],
   "source": [
    "scen.set(\"balance_equality\")"
   ],
   "metadata": {
    "collapsed": false
   }
  },
  {
   "cell_type": "code",
   "execution_count": 18,
   "outputs": [
    {
     "ename": "ModelError",
     "evalue": "GAMS errored with return code 3:\n    There was an execution error\n\nFor details, see the terminal output above, plus:\nListing   : C:\\Users\\maczek\\PycharmProjects\\message_ix\\message_ix\\model\\MESSAGE-MACRO_run.lst\nInput data: C:\\Users\\maczek\\PycharmProjects\\message_ix\\message_ix\\model\\data\\MsgData_MESSAGEix-GLOBIOM_1.1-R12-MAGPIE_600f_MP00BD0BI78_test_calib_macro.gdx",
     "output_type": "error",
     "traceback": [
      "\u001B[1;31m---------------------------------------------------------------------------\u001B[0m",
      "\u001B[1;31mModelError\u001B[0m                                Traceback (most recent call last)",
      "Input \u001B[1;32mIn [18]\u001B[0m, in \u001B[0;36m<cell line: 1>\u001B[1;34m()\u001B[0m\n\u001B[1;32m----> 1\u001B[0m \u001B[43mscen\u001B[49m\u001B[38;5;241;43m.\u001B[39;49m\u001B[43msolve\u001B[49m\u001B[43m(\u001B[49m\u001B[43mmodel\u001B[49m\u001B[38;5;241;43m=\u001B[39;49m\u001B[38;5;124;43m\"\u001B[39;49m\u001B[38;5;124;43mMESSAGE-MACRO\u001B[39;49m\u001B[38;5;124;43m\"\u001B[39;49m\u001B[43m,\u001B[49m\u001B[43m \u001B[49m\u001B[43msolve_options\u001B[49m\u001B[38;5;241;43m=\u001B[39;49m\u001B[43m{\u001B[49m\u001B[38;5;124;43m\"\u001B[39;49m\u001B[38;5;124;43mscaind\u001B[39;49m\u001B[38;5;124;43m\"\u001B[39;49m\u001B[43m:\u001B[49m\u001B[38;5;241;43m-\u001B[39;49m\u001B[38;5;241;43m1\u001B[39;49m\u001B[43m}\u001B[49m\u001B[43m)\u001B[49m\n",
      "File \u001B[1;32m~\\PycharmProjects\\message_ix\\message_ix\\core.py:677\u001B[0m, in \u001B[0;36mScenario.solve\u001B[1;34m(self, model, solve_options, **kwargs)\u001B[0m\n\u001B[0;32m    657\u001B[0m \u001B[38;5;28;01mdef\u001B[39;00m \u001B[38;5;21msolve\u001B[39m(\u001B[38;5;28mself\u001B[39m, model\u001B[38;5;241m=\u001B[39m\u001B[38;5;124m\"\u001B[39m\u001B[38;5;124mMESSAGE\u001B[39m\u001B[38;5;124m\"\u001B[39m, solve_options\u001B[38;5;241m=\u001B[39m{}, \u001B[38;5;241m*\u001B[39m\u001B[38;5;241m*\u001B[39mkwargs):\n\u001B[0;32m    658\u001B[0m     \u001B[38;5;124;03m\"\"\"Solve MESSAGE or MESSAGE-MACRO for the Scenario.\u001B[39;00m\n\u001B[0;32m    659\u001B[0m \n\u001B[0;32m    660\u001B[0m \u001B[38;5;124;03m    By default, :meth:`ixmp.Scenario.solve` is called with 'MESSAGE' as the\u001B[39;00m\n\u001B[1;32m   (...)\u001B[0m\n\u001B[0;32m    675\u001B[0m \u001B[38;5;124;03m        :class:`.GAMSModel`.\u001B[39;00m\n\u001B[0;32m    676\u001B[0m \u001B[38;5;124;03m    \"\"\"\u001B[39;00m\n\u001B[1;32m--> 677\u001B[0m     \u001B[38;5;28;43msuper\u001B[39;49m\u001B[43m(\u001B[49m\u001B[43m)\u001B[49m\u001B[38;5;241;43m.\u001B[39;49m\u001B[43msolve\u001B[49m\u001B[43m(\u001B[49m\u001B[43mmodel\u001B[49m\u001B[38;5;241;43m=\u001B[39;49m\u001B[43mmodel\u001B[49m\u001B[43m,\u001B[49m\u001B[43m \u001B[49m\u001B[43msolve_options\u001B[49m\u001B[38;5;241;43m=\u001B[39;49m\u001B[43msolve_options\u001B[49m\u001B[43m,\u001B[49m\u001B[43m \u001B[49m\u001B[38;5;241;43m*\u001B[39;49m\u001B[38;5;241;43m*\u001B[39;49m\u001B[43mkwargs\u001B[49m\u001B[43m)\u001B[49m\n",
      "File \u001B[1;32m~\\Anaconda3\\lib\\site-packages\\ixmp\\core\\scenario.py:835\u001B[0m, in \u001B[0;36mScenario.solve\u001B[1;34m(self, model, callback, cb_kwargs, **model_options)\u001B[0m\n\u001B[0;32m    833\u001B[0m \u001B[38;5;66;03m# Iterate until convergence\u001B[39;00m\n\u001B[0;32m    834\u001B[0m \u001B[38;5;28;01mwhile\u001B[39;00m \u001B[38;5;28;01mTrue\u001B[39;00m:\n\u001B[1;32m--> 835\u001B[0m     \u001B[43mmodel_obj\u001B[49m\u001B[38;5;241;43m.\u001B[39;49m\u001B[43mrun\u001B[49m\u001B[43m(\u001B[49m\u001B[38;5;28;43mself\u001B[39;49m\u001B[43m)\u001B[49m\n\u001B[0;32m    837\u001B[0m     \u001B[38;5;66;03m# Store an iteration number to help the callback\u001B[39;00m\n\u001B[0;32m    838\u001B[0m     \u001B[38;5;28;01mif\u001B[39;00m \u001B[38;5;129;01mnot\u001B[39;00m \u001B[38;5;28mhasattr\u001B[39m(\u001B[38;5;28mself\u001B[39m, \u001B[38;5;124m\"\u001B[39m\u001B[38;5;124miteration\u001B[39m\u001B[38;5;124m\"\u001B[39m):\n",
      "File \u001B[1;32m~\\PycharmProjects\\message_ix\\message_ix\\models.py:373\u001B[0m, in \u001B[0;36mGAMSModel.run\u001B[1;34m(self, scenario)\u001B[0m\n\u001B[0;32m    370\u001B[0m lines2 \u001B[38;5;241m=\u001B[39m (\u001B[38;5;124m\"\u001B[39m\u001B[38;5;132;01m{}\u001B[39;00m\u001B[38;5;124m = \u001B[39m\u001B[38;5;132;01m{}\u001B[39;00m\u001B[38;5;124m\"\u001B[39m\u001B[38;5;241m.\u001B[39mformat(\u001B[38;5;241m*\u001B[39mkv) \u001B[38;5;28;01mfor\u001B[39;00m kv \u001B[38;5;129;01min\u001B[39;00m \u001B[38;5;28mself\u001B[39m\u001B[38;5;241m.\u001B[39mcplex_opts\u001B[38;5;241m.\u001B[39mitems())\n\u001B[0;32m    371\u001B[0m optfile2\u001B[38;5;241m.\u001B[39mwrite_text(\u001B[38;5;124m\"\u001B[39m\u001B[38;5;130;01m\\n\u001B[39;00m\u001B[38;5;124m\"\u001B[39m\u001B[38;5;241m.\u001B[39mjoin(lines2))\n\u001B[1;32m--> 373\u001B[0m result \u001B[38;5;241m=\u001B[39m \u001B[38;5;28;43msuper\u001B[39;49m\u001B[43m(\u001B[49m\u001B[43m)\u001B[49m\u001B[38;5;241;43m.\u001B[39;49m\u001B[43mrun\u001B[49m\u001B[43m(\u001B[49m\u001B[43mscenario\u001B[49m\u001B[43m)\u001B[49m\n\u001B[0;32m    375\u001B[0m \u001B[38;5;66;03m# In previous versions, the `cplex.opt` file(s) were removed at this point\u001B[39;00m\n\u001B[0;32m    376\u001B[0m \u001B[38;5;66;03m# in the workflow. This has been removed due to issues when running\u001B[39;00m\n\u001B[0;32m    377\u001B[0m \u001B[38;5;66;03m# scenarios asynchronously.\u001B[39;00m\n\u001B[0;32m    379\u001B[0m \u001B[38;5;28;01mreturn\u001B[39;00m result\n",
      "File \u001B[1;32m~\\Anaconda3\\lib\\site-packages\\ixmp\\model\\gams.py:296\u001B[0m, in \u001B[0;36mGAMSModel.run\u001B[1;34m(self, scenario)\u001B[0m\n\u001B[0;32m    293\u001B[0m     check_call(command, shell\u001B[38;5;241m=\u001B[39mos\u001B[38;5;241m.\u001B[39mname \u001B[38;5;241m==\u001B[39m \u001B[38;5;124m\"\u001B[39m\u001B[38;5;124mnt\u001B[39m\u001B[38;5;124m\"\u001B[39m, cwd\u001B[38;5;241m=\u001B[39m\u001B[38;5;28mself\u001B[39m\u001B[38;5;241m.\u001B[39mcwd)\n\u001B[0;32m    294\u001B[0m \u001B[38;5;28;01mexcept\u001B[39;00m CalledProcessError \u001B[38;5;28;01mas\u001B[39;00m exc:\n\u001B[0;32m    295\u001B[0m     \u001B[38;5;66;03m# Do not remove self.temp_dir; the user may want to inspect the GDX file\u001B[39;00m\n\u001B[1;32m--> 296\u001B[0m     \u001B[38;5;28;01mraise\u001B[39;00m \u001B[38;5;28mself\u001B[39m\u001B[38;5;241m.\u001B[39mformat_exception(exc, model_file) \u001B[38;5;28;01mfrom\u001B[39;00m \u001B[38;5;28mNone\u001B[39m\n\u001B[0;32m    298\u001B[0m \u001B[38;5;66;03m# Read model solution\u001B[39;00m\n\u001B[0;32m    299\u001B[0m scenario\u001B[38;5;241m.\u001B[39mplatform\u001B[38;5;241m.\u001B[39m_backend\u001B[38;5;241m.\u001B[39mread_file(\n\u001B[0;32m    300\u001B[0m     \u001B[38;5;28mself\u001B[39m\u001B[38;5;241m.\u001B[39mout_file,\n\u001B[0;32m    301\u001B[0m     ItemType\u001B[38;5;241m.\u001B[39mMODEL,\n\u001B[1;32m   (...)\u001B[0m\n\u001B[0;32m    306\u001B[0m     var_list\u001B[38;5;241m=\u001B[39mas_str_list(\u001B[38;5;28mself\u001B[39m\u001B[38;5;241m.\u001B[39mvar_list) \u001B[38;5;129;01mor\u001B[39;00m [],\n\u001B[0;32m    307\u001B[0m )\n",
      "\u001B[1;31mModelError\u001B[0m: GAMS errored with return code 3:\n    There was an execution error\n\nFor details, see the terminal output above, plus:\nListing   : C:\\Users\\maczek\\PycharmProjects\\message_ix\\message_ix\\model\\MESSAGE-MACRO_run.lst\nInput data: C:\\Users\\maczek\\PycharmProjects\\message_ix\\message_ix\\model\\data\\MsgData_MESSAGEix-GLOBIOM_1.1-R12-MAGPIE_600f_MP00BD0BI78_test_calib_macro.gdx"
     ]
    }
   ],
   "source": [
    "scen.solve(model=\"MESSAGE-MACRO\", solve_options={\"scaind\":-1})"
   ],
   "metadata": {
    "collapsed": false
   }
  },
  {
   "cell_type": "code",
   "execution_count": 21,
   "outputs": [
    {
     "data": {
      "text/plain": "'1000f_MP00BD0BI78_test_calib_macro'"
     },
     "execution_count": 21,
     "metadata": {},
     "output_type": "execute_result"
    }
   ],
   "source": [
    "scen.scenario.replace(\"6\", \"10\")"
   ],
   "metadata": {
    "collapsed": false
   }
  },
  {
   "cell_type": "code",
   "execution_count": 22,
   "outputs": [],
   "source": [
    "sc_clone = scen.clone(scen.model, scen.scenario.replace(\"6\", \"10\"))"
   ],
   "metadata": {
    "collapsed": false
   }
  },
  {
   "cell_type": "code",
   "execution_count": 23,
   "outputs": [],
   "source": [
    "scen_budget = sc_clone"
   ],
   "metadata": {
    "collapsed": false
   }
  },
  {
   "cell_type": "code",
   "execution_count": null,
   "outputs": [],
   "source": [],
   "metadata": {
    "collapsed": false
   }
  },
  {
   "cell_type": "code",
   "execution_count": 25,
   "outputs": [],
   "source": [
    "df = scen_budget.par(\"bound_emission\")\n",
    "scen_budget.check_out()\n",
    "scen_budget.remove_par(\"bound_emission\", df)\n",
    "scen_budget.commit(\"remove emission bound\")"
   ],
   "metadata": {
    "collapsed": false
   }
  },
  {
   "cell_type": "code",
   "execution_count": 26,
   "outputs": [],
   "source": [
    "budget = \"1000f\""
   ],
   "metadata": {
    "collapsed": false
   }
  },
  {
   "cell_type": "code",
   "execution_count": 27,
   "outputs": [
    {
     "data": {
      "text/plain": "    node type_emission type_tec   type_year   value unit\n0  World           TCE      all  cumulative  4046.0  ???",
      "text/html": "<div>\n<style scoped>\n    .dataframe tbody tr th:only-of-type {\n        vertical-align: middle;\n    }\n\n    .dataframe tbody tr th {\n        vertical-align: top;\n    }\n\n    .dataframe thead th {\n        text-align: right;\n    }\n</style>\n<table border=\"1\" class=\"dataframe\">\n  <thead>\n    <tr style=\"text-align: right;\">\n      <th></th>\n      <th>node</th>\n      <th>type_emission</th>\n      <th>type_tec</th>\n      <th>type_year</th>\n      <th>value</th>\n      <th>unit</th>\n    </tr>\n  </thead>\n  <tbody>\n    <tr>\n      <th>0</th>\n      <td>World</td>\n      <td>TCE</td>\n      <td>all</td>\n      <td>cumulative</td>\n      <td>4046.0</td>\n      <td>???</td>\n    </tr>\n  </tbody>\n</table>\n</div>"
     },
     "execution_count": 27,
     "metadata": {},
     "output_type": "execute_result"
    }
   ],
   "source": [
    "3953\n",
    "emission_dict = {\n",
    "    \"node\": \"World\",\n",
    "    \"type_emission\": \"TCE\",\n",
    "    \"type_tec\": \"all\",\n",
    "    \"type_year\": \"cumulative\",\n",
    "    \"unit\": \"???\",\n",
    "}\n",
    "if budget == \"1000f\":\n",
    "    value = 4046\n",
    "if budget == \"600f\":\n",
    "    value = 2605\n",
    "\n",
    "df = message_ix.make_df(\n",
    "    \"bound_emission\", value=value, **emission_dict\n",
    ")\n",
    "scen_budget.check_out()\n",
    "scen_budget.add_par(\"bound_emission\", df)\n",
    "scen_budget.commit(\"add emission bound\")\n",
    "scen_budget.par(\"bound_emission\")"
   ],
   "metadata": {
    "collapsed": false
   }
  },
  {
   "cell_type": "code",
   "execution_count": 29,
   "outputs": [],
   "source": [
    "scen_budget.solve(model=\"MESSAGE-MACRO\", solve_options={\"scaind\":-1})"
   ],
   "metadata": {
    "collapsed": false
   }
  },
  {
   "cell_type": "code",
   "execution_count": 1,
   "outputs": [
    {
     "data": {
      "text/plain": "<IPython.core.display.Javascript object>",
      "application/javascript": "if (typeof IPython !== 'undefined') { IPython.OutputArea.prototype._should_scroll = function(lines){ return false; }}"
     },
     "metadata": {},
     "output_type": "display_data"
    }
   ],
   "source": [
    "import ixmp\n",
    "import message_ix\n",
    "\n",
    "mp = ixmp.Platform(\"ixmp_dev\")\n",
    "#scen = message_ix.Scenario(mp, \"MESSAGEix-GLOBIOM 1.1-R12-MAGPIE\", \"baseline_MP76BD0BI78\")"
   ],
   "metadata": {
    "collapsed": false
   }
  },
  {
   "cell_type": "code",
   "execution_count": 48,
   "outputs": [
    {
     "data": {
      "text/plain": "\"clone Scenario from 'MESSAGEix-GLOBIOM 1.1-M-R12-NAVIGATE|baseline', version: 19\""
     },
     "execution_count": 48,
     "metadata": {},
     "output_type": "execute_result"
    }
   ],
   "source": [
    "#df = mp.scenario_list()\n",
    "df[(df[\"model\"]==\"MESSAGEix-GLOBIOM 1.1-M-R12-NAVIGATE\") & (df[\"scenario\"].str.contains(\"NPi2020\"))]#[\"annotation\"][6632]\n",
    "#df = mp.scenario_list()\n",
    "df[(df[\"model\"]==\"MESSAGEix-GLOBIOM 1.1-M-R12-NAVIGATE\") & (df[\"scenario\"]==\"NPi2020\")][\"annotation\"][6632]"
   ],
   "metadata": {
    "collapsed": false
   }
  },
  {
   "cell_type": "code",
   "execution_count": null,
   "outputs": [],
   "source": [
    "NPi2020-con-prim-dir-ncr"
   ],
   "metadata": {
    "collapsed": false
   }
  },
  {
   "cell_type": "code",
   "execution_count": 24,
   "outputs": [
    {
     "data": {
      "text/plain": "array(['ENGAGE_SSP2_v4.1.2_R12', 'ENGAGE_SSP2_v4.1.4_R12_CHN',\n       'ENGAGE_SSP2_v4.1.4_R12_CHN_FG',\n       'ENGAGE_SSP2_v4.1.4_R12_CHN_FG_test', 'ENGAGE_SSP2_v4.1.4_R12_NOR',\n       'ENGAGE_SSP2_v4.1.7_R12', 'ENGAGE_SSP2_v4.1.7_R12_CHN',\n       'ENGAGE_SSP2_v4.1.7_R12_CHN_FG',\n       'ENGAGE_SSP2_v4.1.7_R12_CHN_FG_test', 'MESSAGE-SCP_R12',\n       'MESSAGE-_exDemand_SCP_R12',\n       'MESSAGEix-GLOBIOM 1.1-BM-R12 (NAVIGATE)',\n       'MESSAGEix-GLOBIOM 1.1-BM-R12 (SHAPE)',\n       'MESSAGEix-GLOBIOM 1.1-BM-R12-EFC',\n       'MESSAGEix-GLOBIOM 1.1-BM-R12-EFC_test_AM',\n       'MESSAGEix-GLOBIOM 1.1-BM-R12-NGFS',\n       'MESSAGEix-GLOBIOM 1.1-BMT-R12 (NAVIGATE)',\n       'MESSAGEix-GLOBIOM 1.1-BMT-R12-NAVIGATE',\n       'MESSAGEix-GLOBIOM 1.1-M-R12',\n       'MESSAGEix-GLOBIOM 1.1-M-R12 (NAVIGATE)',\n       'MESSAGEix-GLOBIOM 1.1-M-R12 (NGFS)',\n       'MESSAGEix-GLOBIOM 1.1-M-R12-NAVIGATE',\n       'MESSAGEix-GLOBIOM 1.1-M-R12-NAVIGATE-MAGPIE',\n       'MESSAGEix-GLOBIOM 1.1-M-R12-NAVIGATE_test',\n       'MESSAGEix-GLOBIOM 1.1-M-R12-NGFS',\n       'MESSAGEix-GLOBIOM 1.1-MT-B-R12-EFC',\n       'MESSAGEix-GLOBIOM 1.1-MT-R12',\n       'MESSAGEix-GLOBIOM 1.1-MT-R12 (NAVIGATE)',\n       'MESSAGEix-GLOBIOM 1.1-MT-R12-NGFS', 'MESSAGEix-GLOBIOM 1.1-R12',\n       'MESSAGEix-GLOBIOM 1.1-R12 (SHAPE)',\n       'MESSAGEix-GLOBIOM 1.1-R12 (agaur)',\n       'MESSAGEix-GLOBIOM 1.1-R12-MAGPIE',\n       'MESSAGEix-GLOBIOM 1.1-R12-MC (SHAPE)',\n       'MESSAGEix-GLOBIOM 1.1-R12-NGFS', 'MESSAGEix-GLOBIOM 1.1-T-R12',\n       'MESSAGEix-GLOBIOM1.1-BM-R12-NGFS',\n       'MESSAGEix-GLOBIOM_1.1-M-R12-NAVIGATE',\n       'MESSAGEix-GLOBIOM_R12_CHN', 'MESSAGEix-Materials_R12',\n       'MESSAGEix-R12',\n       'ixmp://local/MESSAGEix-Materials/NoPolicy_GLOBIOM_R12_local'],\n      dtype=object)"
     },
     "execution_count": 24,
     "metadata": {},
     "output_type": "execute_result"
    }
   ],
   "source": [
    "df[(df[\"model\"].str.contains(\"R12\"))][\"model\"].unique()"
   ],
   "metadata": {
    "collapsed": false
   }
  },
  {
   "cell_type": "code",
   "execution_count": 42,
   "outputs": [
    {
     "data": {
      "text/plain": "                               model                  scenario   scheme  \\\n6878  MESSAGEix-GLOBIOM 1.1-R12-NGFS  NPi2020-con-prim-dir-ncr  MESSAGE   \n6879  MESSAGEix-GLOBIOM 1.1-R12-NGFS                  baseline  MESSAGE   \n6880  MESSAGEix-GLOBIOM 1.1-R12-NGFS          baseline_DEFAULT  MESSAGE   \n6881  MESSAGEix-GLOBIOM 1.1-R12-NGFS         baseline_prep_gdp  MESSAGE   \n6882  MESSAGEix-GLOBIOM 1.1-R12-NGFS   baseline_prep_gdp_macro  MESSAGE   \n\n      is_default  is_locked cre_user                    cre_date upd_user  \\\n6878           1          0   fricko  2022-03-08 09:15:51.000000   fricko   \n6879           1          0   fricko  2022-03-08 10:43:11.000000   fricko   \n6880           1          0      min  2022-03-04 15:16:04.000000     None   \n6881           1          0      min  2022-03-04 13:21:50.000000      min   \n6882           1          0      min  2022-03-04 14:45:49.000000      min   \n\n                        upd_date lock_user lock_date  \\\n6878  2022-03-08 09:22:36.000000      None      None   \n6879  2022-03-08 10:47:08.000000      None      None   \n6880                        None      None      None   \n6881  2022-03-04 13:30:30.000000      None      None   \n6882  2022-03-04 14:54:27.000000      None      None   \n\n                                             annotation  version  \n6878  clone Scenario from 'MESSAGEix-GLOBIOM 1.1-R12...       29  \n6879  clone Scenario from 'MESSAGEix-GLOBIOM 1.1-R12...        4  \n6880  clone Scenario from 'MESSAGEix-GLOBIOM 1.1-R12...        3  \n6881  clone Scenario from 'MESSAGEix-GLOBIOM 1.1-R12...        5  \n6882  clone Scenario from 'MESSAGEix-GLOBIOM 1.1-R12...        5  ",
      "text/html": "<div>\n<style scoped>\n    .dataframe tbody tr th:only-of-type {\n        vertical-align: middle;\n    }\n\n    .dataframe tbody tr th {\n        vertical-align: top;\n    }\n\n    .dataframe thead th {\n        text-align: right;\n    }\n</style>\n<table border=\"1\" class=\"dataframe\">\n  <thead>\n    <tr style=\"text-align: right;\">\n      <th></th>\n      <th>model</th>\n      <th>scenario</th>\n      <th>scheme</th>\n      <th>is_default</th>\n      <th>is_locked</th>\n      <th>cre_user</th>\n      <th>cre_date</th>\n      <th>upd_user</th>\n      <th>upd_date</th>\n      <th>lock_user</th>\n      <th>lock_date</th>\n      <th>annotation</th>\n      <th>version</th>\n    </tr>\n  </thead>\n  <tbody>\n    <tr>\n      <th>6878</th>\n      <td>MESSAGEix-GLOBIOM 1.1-R12-NGFS</td>\n      <td>NPi2020-con-prim-dir-ncr</td>\n      <td>MESSAGE</td>\n      <td>1</td>\n      <td>0</td>\n      <td>fricko</td>\n      <td>2022-03-08 09:15:51.000000</td>\n      <td>fricko</td>\n      <td>2022-03-08 09:22:36.000000</td>\n      <td>None</td>\n      <td>None</td>\n      <td>clone Scenario from 'MESSAGEix-GLOBIOM 1.1-R12...</td>\n      <td>29</td>\n    </tr>\n    <tr>\n      <th>6879</th>\n      <td>MESSAGEix-GLOBIOM 1.1-R12-NGFS</td>\n      <td>baseline</td>\n      <td>MESSAGE</td>\n      <td>1</td>\n      <td>0</td>\n      <td>fricko</td>\n      <td>2022-03-08 10:43:11.000000</td>\n      <td>fricko</td>\n      <td>2022-03-08 10:47:08.000000</td>\n      <td>None</td>\n      <td>None</td>\n      <td>clone Scenario from 'MESSAGEix-GLOBIOM 1.1-R12...</td>\n      <td>4</td>\n    </tr>\n    <tr>\n      <th>6880</th>\n      <td>MESSAGEix-GLOBIOM 1.1-R12-NGFS</td>\n      <td>baseline_DEFAULT</td>\n      <td>MESSAGE</td>\n      <td>1</td>\n      <td>0</td>\n      <td>min</td>\n      <td>2022-03-04 15:16:04.000000</td>\n      <td>None</td>\n      <td>None</td>\n      <td>None</td>\n      <td>None</td>\n      <td>clone Scenario from 'MESSAGEix-GLOBIOM 1.1-R12...</td>\n      <td>3</td>\n    </tr>\n    <tr>\n      <th>6881</th>\n      <td>MESSAGEix-GLOBIOM 1.1-R12-NGFS</td>\n      <td>baseline_prep_gdp</td>\n      <td>MESSAGE</td>\n      <td>1</td>\n      <td>0</td>\n      <td>min</td>\n      <td>2022-03-04 13:21:50.000000</td>\n      <td>min</td>\n      <td>2022-03-04 13:30:30.000000</td>\n      <td>None</td>\n      <td>None</td>\n      <td>clone Scenario from 'MESSAGEix-GLOBIOM 1.1-R12...</td>\n      <td>5</td>\n    </tr>\n    <tr>\n      <th>6882</th>\n      <td>MESSAGEix-GLOBIOM 1.1-R12-NGFS</td>\n      <td>baseline_prep_gdp_macro</td>\n      <td>MESSAGE</td>\n      <td>1</td>\n      <td>0</td>\n      <td>min</td>\n      <td>2022-03-04 14:45:49.000000</td>\n      <td>min</td>\n      <td>2022-03-04 14:54:27.000000</td>\n      <td>None</td>\n      <td>None</td>\n      <td>clone Scenario from 'MESSAGEix-GLOBIOM 1.1-R12...</td>\n      <td>5</td>\n    </tr>\n  </tbody>\n</table>\n</div>"
     },
     "execution_count": 42,
     "metadata": {},
     "output_type": "execute_result"
    }
   ],
   "source": [
    "df[(df[\"model\"]==\"MESSAGEix-GLOBIOM 1.1-R12-NGFS\")]#[\"annotation\"][6881]"
   ],
   "metadata": {
    "collapsed": false
   }
  }
 ],
 "metadata": {
  "kernelspec": {
   "display_name": "Python 3",
   "language": "python",
   "name": "python3"
  },
  "language_info": {
   "codemirror_mode": {
    "name": "ipython",
    "version": 2
   },
   "file_extension": ".py",
   "mimetype": "text/x-python",
   "name": "python",
   "nbconvert_exporter": "python",
   "pygments_lexer": "ipython2",
   "version": "2.7.6"
  }
 },
 "nbformat": 4,
 "nbformat_minor": 0
}
