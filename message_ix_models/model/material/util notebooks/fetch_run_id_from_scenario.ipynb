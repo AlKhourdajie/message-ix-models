{
 "cells": [
  {
   "cell_type": "code",
   "execution_count": 13,
   "metadata": {
    "collapsed": true,
    "ExecuteTime": {
     "start_time": "2023-04-24T13:57:51.695781Z",
     "end_time": "2023-04-24T13:57:53.881033Z"
    }
   },
   "outputs": [
    {
     "data": {
      "text/plain": "162      8\n167     10\n180      1\n206      2\n208      1\n        ..\n9019     1\n9030     1\n9042     1\n9055     1\n9059     1\nName: version, Length: 192, dtype: int64"
     },
     "execution_count": 13,
     "metadata": {},
     "output_type": "execute_result"
    }
   ],
   "source": [
    "import ixmp\n",
    "from jaydebeapi import connect\n",
    "\n",
    "platform = \"ixmp_dev\"\n",
    "# model = \"MESSAGEix-Materials\"\n",
    "# scenario = \"2.0deg_petro_thesis_2_final_macro\"\n",
    "model = \"MESSAGEix-GLOBIOM 1.1-R12-MAGPIE\"\n",
    "model = \"MESSAGEix-GLOBIOM 1.1-R12-MAGPIE-MP50BD0BI78\"\n",
    "scenario = \"600f_MP00BD0BI78_test_calib_macro\"\n",
    "#scenario = \"2.0deg_no_SDGs_petro_thesis_1_macro\"\n",
    "scenario = \"baseline\"\n",
    "\n",
    "# Connect to the platform\n",
    "# This also starts the JVM with the correct classpath to find ojdbc*.jar\n",
    "mp = ixmp.Platform(platform)\n",
    "df = mp.scenario_list()\n",
    "version = df[df[\"scenario\"]==scenario][\"version\"]\n",
    "version"
   ]
  },
  {
   "cell_type": "code",
   "execution_count": 14,
   "outputs": [],
   "source": [
    "version = df[(df[\"scenario\"]==scenario) & (df[\"model\"]==model)][\"version\"]"
   ],
   "metadata": {
    "collapsed": false
   }
  },
  {
   "cell_type": "code",
   "execution_count": 15,
   "outputs": [
    {
     "data": {
      "text/plain": "7019    1\nName: version, dtype: int64"
     },
     "execution_count": 15,
     "metadata": {},
     "output_type": "execute_result"
    }
   ],
   "source": [
    "version"
   ],
   "metadata": {
    "collapsed": false
   }
  },
  {
   "cell_type": "code",
   "execution_count": 16,
   "outputs": [],
   "source": [
    "version = version.values[0]"
   ],
   "metadata": {
    "collapsed": false,
    "ExecuteTime": {
     "start_time": "2023-04-24T13:58:14.533265Z",
     "end_time": "2023-04-24T13:58:14.566259Z"
    }
   }
  },
  {
   "cell_type": "code",
   "execution_count": 17,
   "outputs": [
    {
     "name": "stdout",
     "output_type": "stream",
     "text": [
      "[(37485, 0, 'maczek', '2023-08-28 08:53:34')]\n"
     ]
    }
   ],
   "source": [
    "#version = 7\n",
    "\n",
    "\n",
    "conn = connect(\n",
    "    \"oracle.jdbc.driver.OracleDriver\",\n",
    "    \"jdbc:oracle:thin:@x8oda.iiasa.ac.at:1521/PIXMP2.iiasa.ac.at\",\n",
    "    driver_args=[\"ixmp_dev\", \"ixmp_dev\"]\n",
    ")\n",
    "curs = conn.cursor()\n",
    "\n",
    "curs.execute(f\"\"\"\n",
    "  SELECT RUN.id, status, lock_user, lock_date\n",
    "  FROM\n",
    "\tRUN\n",
    "\tJOIN MODEL ON RUN.MODEL_ID = MODEL.ID\n",
    "\tJOIN SCENARIO ON RUN.SCEN_ID = SCENARIO.ID\n",
    "  WHERE\n",
    "    MODEL.NAME = {model!r}\n",
    "\tAND SCENARIO.NAME = {scenario!r}\n",
    "\tAND VERSION = {version}\"\"\"\n",
    "             )\n",
    "print(curs.fetchall())\n",
    "conn.close()"
   ],
   "metadata": {
    "collapsed": false,
    "ExecuteTime": {
     "start_time": "2023-04-24T13:58:30.457765Z",
     "end_time": "2023-04-24T13:58:31.358340Z"
    }
   }
  },
  {
   "cell_type": "code",
   "execution_count": 19,
   "outputs": [],
   "source": [
    "mp._backend.jobj.unlockRunid(37485)\n",
    "#for i in mp._backend.get_scenarios(False, \"Materials\", \"baseline\"):\n",
    "#    mp._backend.check_out(i, False)"
   ],
   "metadata": {
    "collapsed": false,
    "ExecuteTime": {
     "start_time": "2023-04-24T13:58:37.686915Z",
     "end_time": "2023-04-24T13:58:37.721569Z"
    }
   }
  },
  {
   "cell_type": "code",
   "execution_count": null,
   "outputs": [],
   "source": [],
   "metadata": {
    "collapsed": false
   }
  }
 ],
 "metadata": {
  "kernelspec": {
   "name": "python3",
   "language": "python",
   "display_name": "Python 3 (ipykernel)"
  },
  "language_info": {
   "codemirror_mode": {
    "name": "ipython",
    "version": 2
   },
   "file_extension": ".py",
   "mimetype": "text/x-python",
   "name": "python",
   "nbconvert_exporter": "python",
   "pygments_lexer": "ipython2",
   "version": "2.7.6"
  }
 },
 "nbformat": 4,
 "nbformat_minor": 0
}
