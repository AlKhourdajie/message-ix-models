{
 "cells": [
  {
   "cell_type": "code",
   "execution_count": null,
   "outputs": [],
   "source": [
    "import ixmp as ix\n",
    "import message_ix\n",
    "import pandas as pd\n",
    "\n",
    "mp = ix.Platform(\"ixmp_dev\")\n",
    "scenario = message_ix.Scenario(mp, model=\"MESSAGEix-Materials\", scenario=\"NoPolicy_petro_thesis_2\")#, version=37)"
   ],
   "metadata": {
    "collapsed": false
   }
  },
  {
   "cell_type": "markdown",
   "source": [
    "## Generate new mode for methanol technologies"
   ],
   "metadata": {
    "collapsed": false
   }
  },
  {
   "cell_type": "code",
   "execution_count": null,
   "outputs": [],
   "source": [
    "par_dict = {}\n",
    "for i in scenario.par_list():\n",
    "    try: par_dict[i] = scenario.par(i, filters={\"technology\":[\"meth_ng\", \"meth_h2\", \"meth_coal\", \"meth_bio\", \"meth_bio_ccs\", \"meth_coal_ccs\", \"meth_ng_ccs\"]})\n",
    "    except:\n",
    "        pass"
   ],
   "metadata": {
    "collapsed": false
   }
  },
  {
   "cell_type": "code",
   "execution_count": null,
   "outputs": [],
   "source": [
    "par_dict = {}\n",
    "for i in scenario.par_list():\n",
    "    try:\n",
    "        df = scenario.par(i, filters={\"technology\":\"meth_bal\"})\n",
    "        if df.size != 0:\n",
    "            par_dict[i] = df\n",
    "    except:\n",
    "        pass"
   ],
   "metadata": {
    "collapsed": false
   }
  },
  {
   "cell_type": "code",
   "execution_count": null,
   "outputs": [],
   "source": [
    "for i in par_dict.keys():\n",
    "    if \"mode\" in par_dict[i].columns:\n",
    "        par_dict[i][\"mode\"] = \"feedstock\""
   ],
   "metadata": {
    "collapsed": false
   }
  },
  {
   "cell_type": "code",
   "execution_count": null,
   "outputs": [],
   "source": [
    "keys = list(par_dict.keys())\n",
    "for i in keys:\n",
    "    if par_dict[i].size == 0:\n",
    "        par_dict.pop(i)"
   ],
   "metadata": {
    "collapsed": false
   }
  },
  {
   "cell_type": "code",
   "execution_count": null,
   "outputs": [],
   "source": [
    "for j in par_dict.keys():\n",
    "    df = par_dict[j]\n",
    "    if \"mode\" in par_dict[j].columns:\n",
    "        df[\"mode\"] = \"M2\"\n",
    "\n",
    "df = par_dict[\"output\"]\n",
    "df.loc[df[\"commodity\"]==\"methanol\",\"level\"] = \"final_material\"\n",
    "par_dict[\"output\"] = df"
   ],
   "metadata": {
    "collapsed": false
   }
  },
  {
   "cell_type": "code",
   "execution_count": null,
   "outputs": [],
   "source": [
    "#scenario.remove_solution()\n",
    "#scenario.check_out()\n",
    "for i in par_dict.keys():\n",
    "    print(i)\n",
    "    scenario.check_out()\n",
    "    scenario.add_par(i, par_dict[i])\n",
    "    scenario.commit(\"add new mode for meth tecs\")"
   ],
   "metadata": {
    "collapsed": false
   }
  },
  {
   "cell_type": "code",
   "execution_count": null,
   "outputs": [],
   "source": [
    "scenario.par(\"input\", filters={\"technology\":\"meth_coal\", \"mode\":\"M2\"})"
   ],
   "metadata": {
    "collapsed": false
   }
  },
  {
   "cell_type": "markdown",
   "source": [
    "## update meth_bio(ccs)"
   ],
   "metadata": {
    "collapsed": false
   }
  },
  {
   "cell_type": "code",
   "execution_count": null,
   "outputs": [],
   "source": [
    "#df = scenario.par(\"output\", filters={\"technology\":\"meth_bio_ccs\"})\n",
    "#scenario.remove_solution()\n",
    "scenario.check_out()\n",
    "scenario.add_par(\"output\", df[df[\"year_act\"] > 2025])\n",
    "#df = scenario.par(\"input\", filters={\"technology\":\"meth_bio_ccs\"})\n",
    "#scenario.add_par(\"input\", df[df[\"year_act\"] > 2025])\n",
    "scenario.commit(comment=\"fix meth_bio_ccs issue\")"
   ],
   "metadata": {
    "collapsed": false
   }
  },
  {
   "cell_type": "code",
   "execution_count": null,
   "outputs": [],
   "source": [
    "scenario.check_out()\n",
    "df = scenario.par(\"input\", filters={\"technology\":\"meth_bio_ccs\"})\n",
    "scenario.remove_par(\"input\", df)\n",
    "scenario.add_par(\"input\", df[df[\"year_act\"] > 2025])"
   ],
   "metadata": {
    "collapsed": false
   }
  },
  {
   "cell_type": "code",
   "execution_count": null,
   "outputs": [],
   "source": [
    "scenario.commit(\"fix meth_bio_ccs input\")"
   ],
   "metadata": {
    "collapsed": false
   }
  },
  {
   "cell_type": "code",
   "execution_count": null,
   "outputs": [],
   "source": [
    "df1 = scenario.par(\"input\", filters={\"technology\":\"meth_bio_ccs\"})\n",
    "df1"
   ],
   "metadata": {
    "collapsed": false
   }
  },
  {
   "cell_type": "markdown",
   "source": [
    "## add missing years to methanol trade tecs"
   ],
   "metadata": {
    "collapsed": false
   }
  },
  {
   "cell_type": "code",
   "execution_count": null,
   "outputs": [],
   "source": [
    "paramList_tec = [x for x in scenario.par_list() if \"technology\" in scenario.idx_sets(x)]"
   ],
   "metadata": {
    "collapsed": false
   }
  },
  {
   "cell_type": "code",
   "execution_count": null,
   "outputs": [],
   "source": [
    "par_dict_exp = {}\n",
    "df_all_rows = pd.DataFrame()\n",
    "for p in paramList_tec:\n",
    "    df = scenario.par(p, filters={\"technology\":\"eth_bio_ccs\"})\n",
    "    if df.index.size:\n",
    "        par_dict_exp[p] = df\n",
    "\n",
    "list(par_dict_exp.keys())"
   ],
   "metadata": {
    "collapsed": false
   }
  },
  {
   "cell_type": "code",
   "execution_count": null,
   "outputs": [],
   "source": [
    "par_dict_exp.keys()"
   ],
   "metadata": {
    "collapsed": false
   }
  },
  {
   "cell_type": "code",
   "execution_count": null,
   "outputs": [],
   "source": [
    "par_dict_exp[\"relation_activity\"]"
   ],
   "metadata": {
    "collapsed": false
   }
  },
  {
   "cell_type": "code",
   "execution_count": null,
   "outputs": [],
   "source": [
    "for p in par_dict_exp.keys():\n",
    "    print(p, len(par_dict_exp[p].value.unique()))\n",
    "    try:\n",
    "        print(par_dict_exp[p][\"year_act\"].min())\n",
    "        print(par_dict_exp[p][\"year_vtg\"].min())\n",
    "        if par_dict_exp[p][\"year_act\"].min() < 2020:\n",
    "            print(par_dict_exp[p])\n",
    "    except:\n",
    "        continue"
   ],
   "metadata": {
    "collapsed": false
   }
  },
  {
   "cell_type": "code",
   "execution_count": null,
   "outputs": [],
   "source": [
    "import numpy as np\n",
    "par_dict_bc = {}\n",
    "for p in list(par_dict_exp.keys())[:-2]:\n",
    "    df = par_dict_exp[p].copy(deep=True)\n",
    "    if \"year_act\" in df.columns:\n",
    "        year_name = \"year_act\"\n",
    "    else:\n",
    "        year_name = \"year_vtg\"\n",
    "    min_year = df[year_name].min()\n",
    "    min_year = 2040\n",
    "    new_lowest_y = 2000\n",
    "    tec_lt = 20\n",
    "    new_years = np.linspace(new_lowest_y, min_year, int((min_year-new_lowest_y)/5)+1).astype(int)[:-1]\n",
    "    df_min_year = df[df[year_name] == min_year].copy(deep=True)\n",
    "    print(p, new_years)\n",
    "    if len(new_years) == 0:\n",
    "        continue\n",
    "    df_min_year_new = df_min_year.copy(deep=True)\n",
    "    for i in new_years:\n",
    "        df_min_year_add = df_min_year.copy(deep=True)\n",
    "        df_min_year_add[year_name] = i\n",
    "        if (year_name == \"year_act\") & (\"year_vtg\" in df.columns):\n",
    "            df_min_year_add = df_min_year_add[df_min_year_add[\"year_vtg\"] == min_year]\n",
    "            df_min_year_add[\"year_vtg\"] = i\n",
    "            old_years = np.linspace(i-tec_lt, i, int((tec_lt)/5)+1).astype(int)\n",
    "            print(i, old_years)\n",
    "            for j in old_years:\n",
    "                df_min_year_add_vtg = df_min_year_add[df_min_year_add[\"year_vtg\"]==df_min_year_add[\"year_act\"]].copy(deep=True)\n",
    "                df_min_year_add_vtg[\"year_vtg\"] = j\n",
    "                df_min_year_add = pd.concat([df_min_year_add, df_min_year_add_vtg])\n",
    "        df_min_year_new = pd.concat([df_min_year_new, df_min_year_add])\n",
    "    par_dict_bc[p] = df_min_year_new"
   ],
   "metadata": {
    "collapsed": false
   }
  },
  {
   "cell_type": "code",
   "execution_count": null,
   "outputs": [],
   "source": [
    "for i in par_dict_bc.keys():\n",
    "    par_dict_bc[i] = par_dict_bc[i].drop_duplicates()\n",
    "    if \"year_act\" in par_dict_bc[i].columns:\n",
    "        par_dict_bc[i] = par_dict_bc[i][par_dict_bc[i][\"year_act\"] >= 2020]\n",
    "    if \"year_vtg\" in par_dict_bc[i].columns:\n",
    "        par_dict_bc[i] = par_dict_bc[i][par_dict_bc[i][\"year_vtg\"] < 2020]\n",
    "\n",
    "\n",
    "keys = list(par_dict_bc.keys())\n",
    "for i in keys:\n",
    "    if \"year_vtg\" not in par_dict_bc[i].columns:\n",
    "        par_dict_bc.pop(i)"
   ],
   "metadata": {
    "collapsed": false
   }
  },
  {
   "cell_type": "code",
   "execution_count": null,
   "outputs": [],
   "source": [
    "df = par_dict_bc[\"input\"]\n",
    "df[df[\"year_act\"]==2035]"
   ],
   "metadata": {
    "collapsed": false
   }
  },
  {
   "cell_type": "code",
   "execution_count": null,
   "outputs": [],
   "source": [
    "par_dict_imp = {}\n",
    "df_all_rows = pd.DataFrame()\n",
    "for p in paramList_tec:\n",
    "    df = scenario.par(p, filters={\"technology\":\"meth_imp\"})\n",
    "    if df.index.size:\n",
    "        par_dict_imp[p] = df\n",
    "par_dict_imp.keys()"
   ],
   "metadata": {
    "collapsed": false
   }
  },
  {
   "cell_type": "code",
   "execution_count": null,
   "outputs": [],
   "source": [
    "par_dict_bc_imp = {}\n",
    "for p in list(par_dict_imp.keys())[:-2]:\n",
    "    df = par_dict_imp[p].copy(deep=True)\n",
    "    if \"year_act\" in df.columns:\n",
    "        year_name = \"year_act\"\n",
    "    else:\n",
    "        year_name = \"year_vtg\"\n",
    "    min_year = df[year_name].min()\n",
    "    min_year = 2045\n",
    "    print(p)\n",
    "    new_years = np.linspace(2020, min_year, int((min_year-2020)/5)+1).astype(int)[:-1]\n",
    "    df_min_year = df[df[year_name] == min_year].copy(deep=True)\n",
    "    if len(new_years) == 0:\n",
    "        continue\n",
    "    for i in new_years:\n",
    "        df_min_year_add = df_min_year.copy(deep=True)\n",
    "        df_min_year_add[year_name] = i\n",
    "        print(new_years)\n",
    "        if (year_name == \"year_act\") & (\"year_vtg\" in df.columns):\n",
    "            df_min_year_add[\"year_vtg\"] = i\n",
    "        if (year_name == \"year_act\") & (\"year_rel\" in df.columns):\n",
    "            df_min_year_add[\"year_rel\"] = i\n",
    "        df_min_year = pd.concat([df_min_year, df_min_year_add])\n",
    "    par_dict_bc_imp[p] = df_min_year"
   ],
   "metadata": {
    "collapsed": false
   }
  },
  {
   "cell_type": "code",
   "execution_count": null,
   "outputs": [],
   "source": [
    "for i in par_dict_bc_imp.keys():\n",
    "    par_dict_bc_imp[i] = par_dict_bc_imp[i].drop_duplicates()"
   ],
   "metadata": {
    "collapsed": false
   }
  },
  {
   "cell_type": "code",
   "execution_count": null,
   "outputs": [],
   "source": [
    "par_dict_trd = {}\n",
    "df_all_rows = pd.DataFrame()\n",
    "for p in paramList_tec:\n",
    "    df = scenario.par(p, filters={\"technology\":\"meth_trd\"})\n",
    "    if df.index.size:\n",
    "        par_dict_trd[p] = df\n",
    "par_dict_trd.keys()"
   ],
   "metadata": {
    "collapsed": false
   }
  },
  {
   "cell_type": "code",
   "execution_count": null,
   "outputs": [],
   "source": [
    "par_dict_bc_trd = {}\n",
    "for p in list(par_dict_trd.keys())[:-1]:\n",
    "    df = par_dict_trd[p].copy(deep=True)\n",
    "    if \"year_act\" in df.columns:\n",
    "        year_name = \"year_act\"\n",
    "    else:\n",
    "        year_name = \"year_vtg\"\n",
    "    min_year = df[year_name].min()\n",
    "    min_year = 2045\n",
    "    print(p)\n",
    "    new_years = np.linspace(2020, min_year, int((min_year-2020)/5)+1).astype(int)[:-1]\n",
    "    df_min_year = df[df[year_name] == min_year].copy(deep=True)\n",
    "    if len(new_years) == 0:\n",
    "        continue\n",
    "    for i in new_years:\n",
    "        df_min_year_add = df_min_year.copy(deep=True)\n",
    "        df_min_year_add[year_name] = i\n",
    "        print(new_years)\n",
    "        if (year_name == \"year_act\") & (\"year_vtg\" in df.columns):\n",
    "            df_min_year_add[\"year_vtg\"] = i\n",
    "        if (year_name == \"year_act\") & (\"year_rel\" in df.columns):\n",
    "            df_min_year_add[\"year_rel\"] = i\n",
    "        df_min_year = pd.concat([df_min_year, df_min_year_add])\n",
    "    par_dict_bc_trd[p] = df_min_year"
   ],
   "metadata": {
    "collapsed": false
   }
  },
  {
   "cell_type": "code",
   "execution_count": null,
   "outputs": [],
   "source": [
    "for i in par_dict_bc_trd.keys():\n",
    "    par_dict_bc_trd[i] = par_dict_bc_trd[i].drop_duplicates()"
   ],
   "metadata": {
    "collapsed": false
   }
  },
  {
   "cell_type": "code",
   "execution_count": null,
   "outputs": [],
   "source": [
    "list(par_dict_exp.keys())[7:-3]"
   ],
   "metadata": {
    "collapsed": false
   }
  },
  {
   "cell_type": "code",
   "execution_count": null,
   "outputs": [],
   "source": [
    "#par_dict_bc_imp.keys()\n",
    "#par_dict_bc_trd.keys()\n",
    "#par_dict_bc.keys()\n",
    "\n",
    "with pd.ExcelWriter('meth_bio_ccs_additions.xlsx') as writer:\n",
    "    for i in list(par_dict_exp.keys())[7:-3]:\n",
    "        par_dict_exp[i].to_excel(writer, sheet_name=i, index=False)"
   ],
   "metadata": {
    "collapsed": false
   }
  },
  {
   "cell_type": "code",
   "execution_count": null,
   "outputs": [],
   "source": [
    "scenario.commit(\"update meth costs\")"
   ],
   "metadata": {
    "collapsed": false
   }
  },
  {
   "cell_type": "code",
   "execution_count": null,
   "outputs": [],
   "source": [
    "df_bio = scenario.par(\"inv_cost\", filters={\"technology\": \"meth_coal\"})\n",
    "df_bio_ccs = scenario.par(\"inv_cost\", filters={\"technology\": \"meth_coal_ccs\"})\n",
    "df_bio.set_index([\"node_loc\", \"year_vtg\"])[\"value\"]-df_bio_ccs.set_index([\"node_loc\", \"year_vtg\"])[\"value\"]"
   ],
   "metadata": {
    "collapsed": false
   }
  },
  {
   "cell_type": "code",
   "execution_count": null,
   "outputs": [],
   "source": [
    "df = scenario.par(\"land_input\")"
   ],
   "metadata": {
    "collapsed": false
   }
  },
  {
   "cell_type": "code",
   "execution_count": null,
   "outputs": [],
   "source": [
    "df.groupby([\"land_scenario\", \"year\"]).sum().reset_index().set_index(\"year\").loc[2050].sort_values(\"value\")#.plot(x=\"year\")"
   ],
   "metadata": {
    "collapsed": false
   }
  },
  {
   "cell_type": "code",
   "execution_count": null,
   "outputs": [],
   "source": [
    "scenario.par(\"output\", filters={\"technology\":\"\"})"
   ],
   "metadata": {
    "collapsed": false
   }
  },
  {
   "cell_type": "code",
   "execution_count": null,
   "outputs": [],
   "source": [
    "from message_ix_models.util import broadcast, same_node\n",
    "bio_dict = data_methanol.gen_data_meth_bio(scenario)\n",
    "\n",
    "df_all = bio_dict[\"input\"]\n",
    "yv_ya = scenario.vintage_and_active_years()\n",
    "yv_ya = yv_ya[(yv_ya[\"year_act\"]>2015) & (yv_ya[\"year_act\"]-yv_ya[\"year_vtg\"]<20)]\n",
    "nodes=df_all[\"node_loc\"].unique()\n",
    "\n",
    "import pandas as pd\n",
    "\n",
    "df=df_all\n",
    "df_new = message_ix.make_df(\"input\", **yv_ya, **df.drop([\"year_vtg\", \"year_act\", \"node_loc\"], axis=1).iloc[0]).pipe(broadcast, node_loc=nodes).pipe(same_node)\n",
    "df_new.loc[df_new[\"year_vtg\"]<2030, \"value\"] = 1.7241\n",
    "df_new.loc[df_new[\"year_vtg\"].isin([2030, 2035]), \"value\"] = 1.6393\n",
    "df_new.loc[df_new[\"year_vtg\"].isin([2040, 2045]), \"value\"] = 1.5873\n",
    "df_new.loc[df_new[\"year_vtg\"]>2045, \"value\"] = 1.5385\n",
    "\n",
    "df_input_new = df_new.copy(deep=True)\n",
    "df_input_new"
   ],
   "metadata": {
    "collapsed": false
   }
  },
  {
   "cell_type": "code",
   "execution_count": null,
   "outputs": [],
   "source": [
    "df_all = bio_dict[\"output\"]\n",
    "df_output_new = pd.DataFrame()\n",
    "\n",
    "df = df_all[df_all[\"commodity\"]==\"d_heat\"]\n",
    "df_new = message_ix.make_df(\"output\", **yv_ya, **df.drop([\"year_vtg\", \"year_act\", \"node_loc\"], axis=1).iloc[0]).pipe(broadcast, node_loc=nodes).pipe(same_node)\n",
    "df_new.loc[df_new[\"year_vtg\"]<2030, \"value\"] = 0.3793\n",
    "df_new.loc[df_new[\"year_vtg\"].isin([2030, 2035]), \"value\"] = 0.3607\n",
    "df_new.loc[df_new[\"year_vtg\"].isin([2040, 2045]), \"value\"] = 0.3492\n",
    "df_new.loc[df_new[\"year_vtg\"]>2045, \"value\"] = 0.3385\n",
    "df_output_new = pd.concat([df_output_new, df_new])\n",
    "\n",
    "df = df_all[df_all[\"commodity\"]==\"electr\"]\n",
    "df_new = message_ix.make_df(\"output\", **yv_ya, **df.drop([\"year_vtg\", \"year_act\", \"node_loc\"], axis=1).iloc[0]).pipe(broadcast, node_loc=nodes).pipe(same_node)\n",
    "df_new.loc[df_new[\"year_vtg\"]<2030, \"value\"] = 0.03448\n",
    "df_new.loc[df_new[\"year_vtg\"].isin([2030, 2035]), \"value\"] = 0.0328\n",
    "df_new.loc[df_new[\"year_vtg\"].isin([2040, 2045]), \"value\"] = 0.03175\n",
    "df_new.loc[df_new[\"year_vtg\"]>2045, \"value\"] = 0.03077\n",
    "df_output_new = pd.concat([df_output_new, df_new])\n",
    "\n",
    "df = df_all[df_all[\"commodity\"]==\"methanol\"]\n",
    "df_new = message_ix.make_df(\"output\", **yv_ya, **df.drop([\"year_vtg\", \"year_act\", \"node_loc\"], axis=1).iloc[0]).pipe(broadcast, node_loc=nodes).pipe(same_node)\n",
    "df_output_new = pd.concat([df_output_new, df_new])"
   ],
   "metadata": {
    "collapsed": false
   }
  },
  {
   "cell_type": "code",
   "execution_count": null,
   "outputs": [],
   "source": [
    "df_all = bio_dict[\"capacity_factor\"]\n",
    "df = df_all\n",
    "df_cap = message_ix.make_df(\"capacity_factor\", **yv_ya,\n",
    "                            **df.drop([\"year_vtg\", \"year_act\", \"node_loc\"],\n",
    "                            axis=1).iloc[0]).pipe(broadcast, node_loc=nodes).pipe(same_node)\n",
    "df_cap.loc[df_new[\"year_vtg\"]<2030, \"value\"] = 0.9215\n",
    "\n",
    "\n",
    "df_all = bio_dict[\"var_cost\"]\n",
    "df = df_all\n",
    "df_var = message_ix.make_df(\"var_cost\", **yv_ya,\n",
    "                            **df.drop([\"year_vtg\", \"year_act\", \"node_loc\"]\n",
    "                                      , axis=1).iloc[0]).pipe(broadcast, node_loc=nodes).pipe(same_node)\n",
    "df_var.loc[df_new[\"year_vtg\"]<2030, \"value\"] = 18.89"
   ],
   "metadata": {
    "collapsed": false
   }
  },
  {
   "cell_type": "code",
   "execution_count": null,
   "outputs": [],
   "source": [
    "df_all = bio_dict[\"fix_cost\"]\n",
    "df = df_all\n",
    "\n",
    "df_fix = message_ix.make_df(\"fix_cost\", **yv_ya, **df.drop([\"year_vtg\", \"year_act\", \"node_loc\"], axis=1).iloc[0]).pipe(broadcast, node_loc=nodes).pipe(same_node)\n",
    "df_fix.loc[df_fix[\"year_vtg\"]<2030, \"value\"] = 54.101\n",
    "df_fix.loc[df_fix[\"year_vtg\"].isin([2030, 2035]), \"value\"] = 36.067\n",
    "df_fix.loc[df_fix[\"year_vtg\"].isin([2040, 2045]), \"value\"] = 35.521\n",
    "df_fix.loc[df_fix[\"year_vtg\"]>2045, \"value\"] = 36.067\n",
    "\n",
    "df_fix"
   ],
   "metadata": {
    "collapsed": false
   }
  },
  {
   "cell_type": "code",
   "execution_count": null,
   "outputs": [],
   "source": [
    "new_par_dict = {\n",
    "    \"capacity_factor\":df_cap,\n",
    "    \"input\":df_input_new,\n",
    "    \"output\":df_output_new,\n",
    "    \"fix_cost\":df_fix,\n",
    "    \"var_cost\":df_var,\n",
    "    \"inv_cost\":bio_dict[\"inv_cost\"],\n",
    "    \"technical_lifetime\":bio_dict[\"technical_lifetime\"]\n",
    "}\n",
    "with pd.ExcelWriter('meth_bio_techno_economic.xlsx') as writer:\n",
    "    for i in new_par_dict.keys():\n",
    "        new_par_dict[i].to_excel(writer, sheet_name=i, index=False)"
   ],
   "metadata": {
    "collapsed": false
   }
  },
  {
   "cell_type": "code",
   "execution_count": null,
   "outputs": [],
   "source": [
    "#data_methanol.gen_data_methanol(scenario)[\"historical_new_capacity\"]\n",
    "#data_methanol.add_methanol_trp_additives(scenario)\n",
    "#data_methanol.get_cost_ratio_2020(scenario, \"meth_coal\", \"inv_cost\", year=2020, ref_reg=\"R12_WEU\")\n",
    "df_bio = data_methanol.gen_data_meth_bio(scenario)[\"inv_cost\"]\n",
    "df_bio_ccs = data_methanol.gen_meth_bio_ccs(scenario)[\"inv_cost\"]\n",
    "df_bio.set_index([\"node_loc\", \"year_vtg\"])[\"value\"]-df_bio_ccs.set_index([\"node_loc\", \"year_vtg\"])[\"value\"]"
   ],
   "metadata": {
    "collapsed": false
   }
  },
  {
   "cell_type": "code",
   "execution_count": null,
   "outputs": [],
   "source": [
    "meth_dict = data_methanol.gen_data_methanol(scenario)"
   ],
   "metadata": {
    "collapsed": false
   }
  },
  {
   "cell_type": "code",
   "execution_count": null,
   "outputs": [],
   "source": [
    "meth_dict[\"relation_activity\"][\"technology\"].unique()"
   ],
   "metadata": {
    "collapsed": false
   }
  },
  {
   "cell_type": "code",
   "execution_count": null,
   "outputs": [],
   "source": [
    "\n",
    "arr = [\"meth_ng\", \"meth_coal\", \"meth_coal_ccs\", \"meth_ng_ccs\"]\n",
    "df = scenario.par(\"relation_activity\", filters={\"relation\": \"CO2_cc\", \"technology\":arr})\n",
    "df = df.rename({\"year_rel\":\"year_vtg\"}, axis=1)\n",
    "values = dict(zip(df[\"technology\"], df[\"value\"]))\n",
    "\n",
    "df_em = scenario.par(\"emission_factor\", filters={\"emission\": \"CO2_transformation\", \"technology\":arr})\n",
    "for i in arr:\n",
    "    df_em.loc[df_em[\"technology\"]==i,\"value\"] = values[i]\n",
    "df_em[\"emission\"] = \"CO2_industry\"\n",
    "df_em\n",
    "#scenario.add_par(df_em)"
   ],
   "metadata": {
    "collapsed": false
   }
  },
  {
   "cell_type": "code",
   "execution_count": null,
   "outputs": [],
   "source": [
    "df = scenario.par(\"input\", filters={\"technology\":\"meth_t_d\"})\n",
    "df[\"value\"] = 1\n",
    "df"
   ],
   "metadata": {
    "collapsed": false
   }
  },
  {
   "cell_type": "code",
   "execution_count": null,
   "outputs": [],
   "source": [
    "df = scenario.par(\"technical_lifetime\")\n",
    "dict = df.loc[df[\"technology\"].str.contains(\"NH3\"),[\"technology\",\"value\"]].set_index(\"technology\").to_dict()[\"value\"]\n",
    "for i in df.keys():\n",
    "    if (\"year_vtg\" in df[i].columns) & (\"year_act\" in df[i].columns):\n",
    "        df_temp = df[i]\n",
    "        df[i] = df_temp[(df_temp[\"year_act\"]-df_temp[\"year_vtg\"])<=dict[df_temp[\"technology\"]]]"
   ],
   "metadata": {
    "collapsed": false
   }
  },
  {
   "cell_type": "markdown",
   "source": [
    "## modify meth exp limit"
   ],
   "metadata": {
    "collapsed": false
   }
  },
  {
   "cell_type": "code",
   "execution_count": null,
   "outputs": [],
   "source": [
    "df = scenario.par(\"relation_activity\", filters={\"relation\":\"meth_exp_limit\"})\n",
    "df_mea = df[(df[\"technology\"]==\"meth_exp\") & (df[\"node_rel\"]==\"R12_MEA\")]\n",
    "df_mea[df_mea[\"value\"]] = -1.15\n",
    "df_lam = df[(df[\"technology\"]==\"meth_exp\") & (df[\"node_rel\"]==\"R12_LAM\")]\n",
    "df_lam[df_lam[\"value\"]] = -1.6\n",
    "df_rel = pd.concat([df_mea, df_lam])\n",
    "scenario.check_out()\n",
    "scenario.add_par(\"relation_activity\", df_rel)\n",
    "scenario.commit(\"modify meth exp share constraint for LAM and MEA\")"
   ],
   "metadata": {
    "collapsed": false
   }
  },
  {
   "cell_type": "code",
   "execution_count": null,
   "outputs": [],
   "source": [
    "#scenario.par(\"relation_lower\", filters={\"relation\":\"meth_exp_limit\"})\n",
    "rel_dict = {\n",
    "    \"relation\": \"meth_exp_tot\",\n",
    "    \"year_rel\": 2020,\n",
    "    \"year_act\": 2020,\n",
    "    \"technology\": \"meth_exp_tot\",\n",
    "    \"mode\": [\"fuel\", \"feedstock\"],\n",
    "    \"unit\": \"-\",\n",
    "    \"value\": 1\n",
    "\n",
    "}\n",
    "from message_ix_models.util import broadcast, same_node\n",
    "nodes = scenario.set(\"node\")[1:]\n",
    "nodes_share = nodes.drop(5).reset_index(drop=True)\n",
    "df = message_ix.make_df(\"relation_activity\", **rel_dict).pipe(broadcast, node_loc=nodes_share)\n",
    "df[\"node_rel\"] = df[\"node_loc\"]\n",
    "df[[\"relation\", \"node_rel\", \"year_rel\", \"node_loc\", \"technology\", \"year_act\", \"mode\", \"value\", \"unit\"]]\n",
    "# rel_dict = {\n",
    "#     \"relation\": \"meth_exp_tot\",\n",
    "#     \"year_rel\": 2020,\n",
    "#     \"year_act\": 2020,\n",
    "#     \"technology\": \"meth_exp_tot\",\n",
    "#     \"mode\": [\"fuel\", \"feedstock\"],\n",
    "#     \"unit\": \"-\",\n",
    "# }\n",
    "# df_up = message_ix.make_df(\"relation_upper\", **rel_dict).pipe(broadcast, node_rel=nodes_share)\n",
    "# df_lo = message_ix.make_df(\"relation_lower\", **rel_dict).pipe(broadcast, node_rel=nodes_share)"
   ],
   "metadata": {
    "collapsed": false
   }
  },
  {
   "cell_type": "code",
   "execution_count": null,
   "outputs": [],
   "source": [
    "df = scenario.par(\"relation_lower\", filters={\"relation\":\"meth_exp_tot\"})\n",
    "scenario.check_out()\n",
    "scenario.remove_par(\"relation_lower\", df)\n"
   ],
   "metadata": {
    "collapsed": false
   }
  },
  {
   "cell_type": "code",
   "execution_count": null,
   "outputs": [],
   "source": [
    "scenario.commit(\"remove meth exp tot upper\")"
   ],
   "metadata": {
    "collapsed": false
   }
  }
 ],
 "metadata": {
  "kernelspec": {
   "display_name": "Python 3",
   "language": "python",
   "name": "python3"
  },
  "language_info": {
   "codemirror_mode": {
    "name": "ipython",
    "version": 2
   },
   "file_extension": ".py",
   "mimetype": "text/x-python",
   "name": "python",
   "nbconvert_exporter": "python",
   "pygments_lexer": "ipython2",
   "version": "2.7.6"
  }
 },
 "nbformat": 4,
 "nbformat_minor": 0
}
