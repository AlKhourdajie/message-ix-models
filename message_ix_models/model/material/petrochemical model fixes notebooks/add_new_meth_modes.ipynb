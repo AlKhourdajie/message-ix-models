{
 "cells": [
  {
   "cell_type": "code",
   "execution_count": 2,
   "metadata": {
    "collapsed": true
   },
   "outputs": [],
   "source": [
    "import ixmp as ix\n",
    "\n",
    "mp = ix.Platform(\"ixmp_dev\")\n",
    "\n",
    "import message_ix\n",
    "scenario = message_ix.Scenario(mp, model=\"MESSAGEix-Materials\", scenario=\"NoPolicy_methanol_wood_new\")\n",
    "#scenario = message_ix.Scenario(mp, model=\"SHAPE_SSP2_v4.1.8\", scenario=\"baseline_no_globiom\")\n",
    "#scenario.has_solution()\n",
    "#scenario.version"
   ]
  },
  {
   "cell_type": "code",
   "execution_count": 3,
   "outputs": [],
   "source": [
    "import os\n",
    "from message_ix_models import Context\n",
    "from pathlib import Path\n",
    "Context.get_instance(-1).handle_cli_args(local_data=Path(os.getcwd()).parents[2].joinpath(\"data\"))\n",
    "#Path(os.getcwd()).parents[2].joinpath(\"data\")"
   ],
   "metadata": {
    "collapsed": false
   }
  },
  {
   "cell_type": "code",
   "execution_count": 4,
   "outputs": [
    {
     "name": "stderr",
     "output_type": "stream",
     "text": [
      "C:\\Users\\maczek\\PycharmProjects\\message_data\\message_data\\model\\material\\data_methanol.py:121: SettingWithCopyWarning: \n",
      "A value is trying to be set on a copy of a slice from a DataFrame.\n",
      "Try using .loc[row_indexer,col_indexer] = value instead\n",
      "\n",
      "See the caveats in the documentation: https://pandas.pydata.org/pandas-docs/stable/user_guide/indexing.html#returning-a-view-versus-a-copy\n",
      "  df_rel_meth[\"value\"] = df_rel_meth.apply(lambda x: get_embodied_emi(x, pars, \"meth_plastics_share\"), axis=1)\n",
      "C:\\Users\\maczek\\PycharmProjects\\message_data\\message_data\\model\\material\\data_methanol.py:123: SettingWithCopyWarning: \n",
      "A value is trying to be set on a copy of a slice from a DataFrame.\n",
      "Try using .loc[row_indexer,col_indexer] = value instead\n",
      "\n",
      "See the caveats in the documentation: https://pandas.pydata.org/pandas-docs/stable/user_guide/indexing.html#returning-a-view-versus-a-copy\n",
      "  df_rel_hvc[\"value\"] = df_rel_hvc.apply(lambda x: get_embodied_emi(x, pars, \"hvc_plastics_share\"), axis=1)\n"
     ]
    },
    {
     "data": {
      "text/plain": "    node_loc technology  year_vtg  year_act  mode node_dest commodity  \\\n0    R12_AFR    meth_h2      2020      2020  fuel   R12_AFR   ht_heat   \n1    R12_AFR    meth_h2      2020      2025  fuel   R12_AFR   ht_heat   \n2    R12_AFR    meth_h2      2020      2030  fuel   R12_AFR   ht_heat   \n3    R12_AFR    meth_h2      2020      2035  fuel   R12_AFR   ht_heat   \n4    R12_AFR    meth_h2      2020      2040  fuel   R12_AFR   ht_heat   \n..       ...        ...       ...       ...   ...       ...       ...   \n235  R12_SAS  meth_coal      2015      2035    M1   R12_SAS  methanol   \n236  R12_WEU  meth_coal      2015      2035    M1   R12_WEU    electr   \n237  R12_WEU  meth_coal      2015      2035    M1   R12_WEU  methanol   \n238  R12_CHN  meth_coal      2015      2035    M1   R12_CHN    electr   \n239  R12_CHN  meth_coal      2015      2035    M1   R12_CHN  methanol   \n\n         level  time time_dest     value unit  \n0    secondary  year      year  0.050000  GWa  \n1    secondary  year      year  0.050000  GWa  \n2    secondary  year      year  0.050000  GWa  \n3    secondary  year      year  0.050000  GWa  \n4    secondary  year      year  0.050000  GWa  \n..         ...   ...       ...       ...  ...  \n235    primary  year      year  1.000000  GWa  \n236  secondary  year      year  0.038462  GWa  \n237    primary  year      year  1.000000  GWa  \n238  secondary  year      year  0.038462  GWa  \n239    primary  year      year  1.000000  GWa  \n\n[25934 rows x 12 columns]",
      "text/html": "<div>\n<style scoped>\n    .dataframe tbody tr th:only-of-type {\n        vertical-align: middle;\n    }\n\n    .dataframe tbody tr th {\n        vertical-align: top;\n    }\n\n    .dataframe thead th {\n        text-align: right;\n    }\n</style>\n<table border=\"1\" class=\"dataframe\">\n  <thead>\n    <tr style=\"text-align: right;\">\n      <th></th>\n      <th>node_loc</th>\n      <th>technology</th>\n      <th>year_vtg</th>\n      <th>year_act</th>\n      <th>mode</th>\n      <th>node_dest</th>\n      <th>commodity</th>\n      <th>level</th>\n      <th>time</th>\n      <th>time_dest</th>\n      <th>value</th>\n      <th>unit</th>\n    </tr>\n  </thead>\n  <tbody>\n    <tr>\n      <th>0</th>\n      <td>R12_AFR</td>\n      <td>meth_h2</td>\n      <td>2020</td>\n      <td>2020</td>\n      <td>fuel</td>\n      <td>R12_AFR</td>\n      <td>ht_heat</td>\n      <td>secondary</td>\n      <td>year</td>\n      <td>year</td>\n      <td>0.050000</td>\n      <td>GWa</td>\n    </tr>\n    <tr>\n      <th>1</th>\n      <td>R12_AFR</td>\n      <td>meth_h2</td>\n      <td>2020</td>\n      <td>2025</td>\n      <td>fuel</td>\n      <td>R12_AFR</td>\n      <td>ht_heat</td>\n      <td>secondary</td>\n      <td>year</td>\n      <td>year</td>\n      <td>0.050000</td>\n      <td>GWa</td>\n    </tr>\n    <tr>\n      <th>2</th>\n      <td>R12_AFR</td>\n      <td>meth_h2</td>\n      <td>2020</td>\n      <td>2030</td>\n      <td>fuel</td>\n      <td>R12_AFR</td>\n      <td>ht_heat</td>\n      <td>secondary</td>\n      <td>year</td>\n      <td>year</td>\n      <td>0.050000</td>\n      <td>GWa</td>\n    </tr>\n    <tr>\n      <th>3</th>\n      <td>R12_AFR</td>\n      <td>meth_h2</td>\n      <td>2020</td>\n      <td>2035</td>\n      <td>fuel</td>\n      <td>R12_AFR</td>\n      <td>ht_heat</td>\n      <td>secondary</td>\n      <td>year</td>\n      <td>year</td>\n      <td>0.050000</td>\n      <td>GWa</td>\n    </tr>\n    <tr>\n      <th>4</th>\n      <td>R12_AFR</td>\n      <td>meth_h2</td>\n      <td>2020</td>\n      <td>2040</td>\n      <td>fuel</td>\n      <td>R12_AFR</td>\n      <td>ht_heat</td>\n      <td>secondary</td>\n      <td>year</td>\n      <td>year</td>\n      <td>0.050000</td>\n      <td>GWa</td>\n    </tr>\n    <tr>\n      <th>...</th>\n      <td>...</td>\n      <td>...</td>\n      <td>...</td>\n      <td>...</td>\n      <td>...</td>\n      <td>...</td>\n      <td>...</td>\n      <td>...</td>\n      <td>...</td>\n      <td>...</td>\n      <td>...</td>\n      <td>...</td>\n    </tr>\n    <tr>\n      <th>235</th>\n      <td>R12_SAS</td>\n      <td>meth_coal</td>\n      <td>2015</td>\n      <td>2035</td>\n      <td>M1</td>\n      <td>R12_SAS</td>\n      <td>methanol</td>\n      <td>primary</td>\n      <td>year</td>\n      <td>year</td>\n      <td>1.000000</td>\n      <td>GWa</td>\n    </tr>\n    <tr>\n      <th>236</th>\n      <td>R12_WEU</td>\n      <td>meth_coal</td>\n      <td>2015</td>\n      <td>2035</td>\n      <td>M1</td>\n      <td>R12_WEU</td>\n      <td>electr</td>\n      <td>secondary</td>\n      <td>year</td>\n      <td>year</td>\n      <td>0.038462</td>\n      <td>GWa</td>\n    </tr>\n    <tr>\n      <th>237</th>\n      <td>R12_WEU</td>\n      <td>meth_coal</td>\n      <td>2015</td>\n      <td>2035</td>\n      <td>M1</td>\n      <td>R12_WEU</td>\n      <td>methanol</td>\n      <td>primary</td>\n      <td>year</td>\n      <td>year</td>\n      <td>1.000000</td>\n      <td>GWa</td>\n    </tr>\n    <tr>\n      <th>238</th>\n      <td>R12_CHN</td>\n      <td>meth_coal</td>\n      <td>2015</td>\n      <td>2035</td>\n      <td>M1</td>\n      <td>R12_CHN</td>\n      <td>electr</td>\n      <td>secondary</td>\n      <td>year</td>\n      <td>year</td>\n      <td>0.038462</td>\n      <td>GWa</td>\n    </tr>\n    <tr>\n      <th>239</th>\n      <td>R12_CHN</td>\n      <td>meth_coal</td>\n      <td>2015</td>\n      <td>2035</td>\n      <td>M1</td>\n      <td>R12_CHN</td>\n      <td>methanol</td>\n      <td>primary</td>\n      <td>year</td>\n      <td>year</td>\n      <td>1.000000</td>\n      <td>GWa</td>\n    </tr>\n  </tbody>\n</table>\n<p>25934 rows × 12 columns</p>\n</div>"
     },
     "execution_count": 4,
     "metadata": {},
     "output_type": "execute_result"
    }
   ],
   "source": [
    "import data_methanol\n",
    "import importlib\n",
    "importlib.reload(data_methanol)\n",
    "df = data_methanol.gen_data_methanol(scenario)\n",
    "\n",
    "df[\"output\"]"
   ],
   "metadata": {
    "collapsed": false
   }
  },
  {
   "cell_type": "code",
   "execution_count": null,
   "outputs": [],
   "source": [],
   "metadata": {
    "collapsed": false
   }
  }
 ],
 "metadata": {
  "kernelspec": {
   "display_name": "Python 3",
   "language": "python",
   "name": "python3"
  },
  "language_info": {
   "codemirror_mode": {
    "name": "ipython",
    "version": 2
   },
   "file_extension": ".py",
   "mimetype": "text/x-python",
   "name": "python",
   "nbconvert_exporter": "python",
   "pygments_lexer": "ipython2",
   "version": "2.7.6"
  }
 },
 "nbformat": 4,
 "nbformat_minor": 0
}
