{
 "cells": [
  {
   "cell_type": "code",
   "execution_count": 30,
   "outputs": [],
   "source": [
    "import copy"
   ],
   "metadata": {
    "collapsed": false
   }
  },
  {
   "cell_type": "code",
   "execution_count": 19,
   "outputs": [],
   "source": [
    "import ixmp as ix\n",
    "import message_ix\n",
    "mp = ix.Platform(\"ixmp_dev\")\n",
    "\n",
    "scenario = message_ix.Scenario(mp, model=\"MESSAGEix-Materials\", scenario=\"NoPolicy_petro_thesis_2_macro\")\n",
    "#scenario = message_ix.Scenario(mp, model=\"MESSAGEix-Materials\", scenario=\"baseline_DEFAULT_rebase2\")\n",
    "#scenario = message_ix.Scenario(mp, model=\"MESSAGEix-Materials\", scenario=\"baseline_VK_Transport-Materials_VK\")#, version=37)"
   ],
   "metadata": {
    "collapsed": false
   }
  },
  {
   "cell_type": "code",
   "execution_count": 17,
   "outputs": [
    {
     "data": {
      "text/plain": "                    model                         scenario   scheme  \\\n6155  MESSAGEix-Materials            2.0deg_petro_thesis_1  MESSAGE   \n6156  MESSAGEix-Materials            2.0deg_petro_thesis_2  MESSAGE   \n6157  MESSAGEix-Materials      2.0deg_petro_thesis_2_macro  MESSAGE   \n6158  MESSAGEix-Materials           2degree_petro_thesis_2  MESSAGE   \n6282  MESSAGEix-Materials  NoPolicy_no_SDGs_petro_thesis_1  MESSAGE   \n6287  MESSAGEix-Materials           NoPolicy_petro_biomass  MESSAGE   \n6288  MESSAGEix-Materials              NoPolicy_petro_test  MESSAGE   \n6289  MESSAGEix-Materials            NoPolicy_petro_test_2  MESSAGE   \n6290  MESSAGEix-Materials            NoPolicy_petro_test_3  MESSAGE   \n6291  MESSAGEix-Materials            NoPolicy_petro_test_4  MESSAGE   \n6292  MESSAGEix-Materials            NoPolicy_petro_test_5  MESSAGE   \n6293  MESSAGEix-Materials            NoPolicy_petro_test_6  MESSAGE   \n6294  MESSAGEix-Materials          NoPolicy_petro_thesis_2  MESSAGE   \n6295  MESSAGEix-Materials    NoPolicy_petro_thesis_2_macro  MESSAGE   \n\n      is_default  is_locked cre_user                    cre_date upd_user  \\\n6155           1          0   maczek  2023-02-08 23:38:03.000000   maczek   \n6156           1          0   maczek  2023-04-06 16:44:33.000000     None   \n6157           1          0   maczek  2023-04-14 11:43:37.000000   maczek   \n6158           1          0     unlu  2023-04-06 15:35:51.000000     None   \n6282           1          0   maczek  2023-04-12 22:12:42.000000     None   \n6287           1          0     unlu  2022-08-09 14:51:56.000000     unlu   \n6288           1          0     unlu  2022-04-14 11:08:53.000000     None   \n6289           1          0     unlu  2022-04-14 14:05:39.000000     None   \n6290           1          0     unlu  2022-04-14 14:40:02.000000     None   \n6291           1          0     unlu  2022-04-14 15:13:25.000000     None   \n6292           1          0     unlu  2022-04-14 15:29:02.000000     None   \n6293           1          0     unlu  2022-04-14 15:38:19.000000     None   \n6294           1          0   maczek  2023-04-13 15:29:47.000000   maczek   \n6295           1          0   maczek  2023-04-14 11:18:27.000000   maczek   \n\n                        upd_date lock_user lock_date  \\\n6155  2023-02-08 23:44:53.000000      None      None   \n6156                        None      None      None   \n6157  2023-04-14 15:59:01.000000      None      None   \n6158                        None      None      None   \n6282                        None      None      None   \n6287  2022-08-09 15:14:46.000000      None      None   \n6288                        None      None      None   \n6289                        None      None      None   \n6290                        None      None      None   \n6291                        None      None      None   \n6292                        None      None      None   \n6293                        None      None      None   \n6294  2023-04-14 11:18:16.000000      None      None   \n6295  2023-04-14 11:28:34.000000      None      None   \n\n                                             annotation  version  \n6155  clone Scenario from 'MESSAGEix-Materials|NoPol...        1  \n6156  clone Scenario from 'MESSAGEix-Materials|NoPol...        6  \n6157  clone Scenario from 'MESSAGEix-Materials|NoPol...        2  \n6158  clone Scenario from 'MESSAGEix-Materials|NoPol...        1  \n6282  clone Scenario from 'SHAPE_SSP2_v4.1.8|baselin...        9  \n6287  clone Scenario from 'SHAPE_SSP2_v4.1.8|baselin...        3  \n6288  clone Scenario from 'SHAPE_SSP2_v4.1.8|baselin...        4  \n6289  clone Scenario from 'SHAPE_SSP2_v4.1.8|baselin...        1  \n6290  clone Scenario from 'SHAPE_SSP2_v4.1.8|baselin...        1  \n6291  clone Scenario from 'SHAPE_SSP2_v4.1.8|baselin...        2  \n6292  clone Scenario from 'SHAPE_SSP2_v4.1.8|baselin...        2  \n6293  clone Scenario from 'SHAPE_SSP2_v4.1.8|baselin...        1  \n6294  clone Scenario from 'SHAPE_SSP2_v4.1.8|baselin...       65  \n6295  clone Scenario from 'MESSAGEix-Materials|NoPol...        5  ",
      "text/html": "<div>\n<style scoped>\n    .dataframe tbody tr th:only-of-type {\n        vertical-align: middle;\n    }\n\n    .dataframe tbody tr th {\n        vertical-align: top;\n    }\n\n    .dataframe thead th {\n        text-align: right;\n    }\n</style>\n<table border=\"1\" class=\"dataframe\">\n  <thead>\n    <tr style=\"text-align: right;\">\n      <th></th>\n      <th>model</th>\n      <th>scenario</th>\n      <th>scheme</th>\n      <th>is_default</th>\n      <th>is_locked</th>\n      <th>cre_user</th>\n      <th>cre_date</th>\n      <th>upd_user</th>\n      <th>upd_date</th>\n      <th>lock_user</th>\n      <th>lock_date</th>\n      <th>annotation</th>\n      <th>version</th>\n    </tr>\n  </thead>\n  <tbody>\n    <tr>\n      <th>6155</th>\n      <td>MESSAGEix-Materials</td>\n      <td>2.0deg_petro_thesis_1</td>\n      <td>MESSAGE</td>\n      <td>1</td>\n      <td>0</td>\n      <td>maczek</td>\n      <td>2023-02-08 23:38:03.000000</td>\n      <td>maczek</td>\n      <td>2023-02-08 23:44:53.000000</td>\n      <td>None</td>\n      <td>None</td>\n      <td>clone Scenario from 'MESSAGEix-Materials|NoPol...</td>\n      <td>1</td>\n    </tr>\n    <tr>\n      <th>6156</th>\n      <td>MESSAGEix-Materials</td>\n      <td>2.0deg_petro_thesis_2</td>\n      <td>MESSAGE</td>\n      <td>1</td>\n      <td>0</td>\n      <td>maczek</td>\n      <td>2023-04-06 16:44:33.000000</td>\n      <td>None</td>\n      <td>None</td>\n      <td>None</td>\n      <td>None</td>\n      <td>clone Scenario from 'MESSAGEix-Materials|NoPol...</td>\n      <td>6</td>\n    </tr>\n    <tr>\n      <th>6157</th>\n      <td>MESSAGEix-Materials</td>\n      <td>2.0deg_petro_thesis_2_macro</td>\n      <td>MESSAGE</td>\n      <td>1</td>\n      <td>0</td>\n      <td>maczek</td>\n      <td>2023-04-14 11:43:37.000000</td>\n      <td>maczek</td>\n      <td>2023-04-14 15:59:01.000000</td>\n      <td>None</td>\n      <td>None</td>\n      <td>clone Scenario from 'MESSAGEix-Materials|NoPol...</td>\n      <td>2</td>\n    </tr>\n    <tr>\n      <th>6158</th>\n      <td>MESSAGEix-Materials</td>\n      <td>2degree_petro_thesis_2</td>\n      <td>MESSAGE</td>\n      <td>1</td>\n      <td>0</td>\n      <td>unlu</td>\n      <td>2023-04-06 15:35:51.000000</td>\n      <td>None</td>\n      <td>None</td>\n      <td>None</td>\n      <td>None</td>\n      <td>clone Scenario from 'MESSAGEix-Materials|NoPol...</td>\n      <td>1</td>\n    </tr>\n    <tr>\n      <th>6282</th>\n      <td>MESSAGEix-Materials</td>\n      <td>NoPolicy_no_SDGs_petro_thesis_1</td>\n      <td>MESSAGE</td>\n      <td>1</td>\n      <td>0</td>\n      <td>maczek</td>\n      <td>2023-04-12 22:12:42.000000</td>\n      <td>None</td>\n      <td>None</td>\n      <td>None</td>\n      <td>None</td>\n      <td>clone Scenario from 'SHAPE_SSP2_v4.1.8|baselin...</td>\n      <td>9</td>\n    </tr>\n    <tr>\n      <th>6287</th>\n      <td>MESSAGEix-Materials</td>\n      <td>NoPolicy_petro_biomass</td>\n      <td>MESSAGE</td>\n      <td>1</td>\n      <td>0</td>\n      <td>unlu</td>\n      <td>2022-08-09 14:51:56.000000</td>\n      <td>unlu</td>\n      <td>2022-08-09 15:14:46.000000</td>\n      <td>None</td>\n      <td>None</td>\n      <td>clone Scenario from 'SHAPE_SSP2_v4.1.8|baselin...</td>\n      <td>3</td>\n    </tr>\n    <tr>\n      <th>6288</th>\n      <td>MESSAGEix-Materials</td>\n      <td>NoPolicy_petro_test</td>\n      <td>MESSAGE</td>\n      <td>1</td>\n      <td>0</td>\n      <td>unlu</td>\n      <td>2022-04-14 11:08:53.000000</td>\n      <td>None</td>\n      <td>None</td>\n      <td>None</td>\n      <td>None</td>\n      <td>clone Scenario from 'SHAPE_SSP2_v4.1.8|baselin...</td>\n      <td>4</td>\n    </tr>\n    <tr>\n      <th>6289</th>\n      <td>MESSAGEix-Materials</td>\n      <td>NoPolicy_petro_test_2</td>\n      <td>MESSAGE</td>\n      <td>1</td>\n      <td>0</td>\n      <td>unlu</td>\n      <td>2022-04-14 14:05:39.000000</td>\n      <td>None</td>\n      <td>None</td>\n      <td>None</td>\n      <td>None</td>\n      <td>clone Scenario from 'SHAPE_SSP2_v4.1.8|baselin...</td>\n      <td>1</td>\n    </tr>\n    <tr>\n      <th>6290</th>\n      <td>MESSAGEix-Materials</td>\n      <td>NoPolicy_petro_test_3</td>\n      <td>MESSAGE</td>\n      <td>1</td>\n      <td>0</td>\n      <td>unlu</td>\n      <td>2022-04-14 14:40:02.000000</td>\n      <td>None</td>\n      <td>None</td>\n      <td>None</td>\n      <td>None</td>\n      <td>clone Scenario from 'SHAPE_SSP2_v4.1.8|baselin...</td>\n      <td>1</td>\n    </tr>\n    <tr>\n      <th>6291</th>\n      <td>MESSAGEix-Materials</td>\n      <td>NoPolicy_petro_test_4</td>\n      <td>MESSAGE</td>\n      <td>1</td>\n      <td>0</td>\n      <td>unlu</td>\n      <td>2022-04-14 15:13:25.000000</td>\n      <td>None</td>\n      <td>None</td>\n      <td>None</td>\n      <td>None</td>\n      <td>clone Scenario from 'SHAPE_SSP2_v4.1.8|baselin...</td>\n      <td>2</td>\n    </tr>\n    <tr>\n      <th>6292</th>\n      <td>MESSAGEix-Materials</td>\n      <td>NoPolicy_petro_test_5</td>\n      <td>MESSAGE</td>\n      <td>1</td>\n      <td>0</td>\n      <td>unlu</td>\n      <td>2022-04-14 15:29:02.000000</td>\n      <td>None</td>\n      <td>None</td>\n      <td>None</td>\n      <td>None</td>\n      <td>clone Scenario from 'SHAPE_SSP2_v4.1.8|baselin...</td>\n      <td>2</td>\n    </tr>\n    <tr>\n      <th>6293</th>\n      <td>MESSAGEix-Materials</td>\n      <td>NoPolicy_petro_test_6</td>\n      <td>MESSAGE</td>\n      <td>1</td>\n      <td>0</td>\n      <td>unlu</td>\n      <td>2022-04-14 15:38:19.000000</td>\n      <td>None</td>\n      <td>None</td>\n      <td>None</td>\n      <td>None</td>\n      <td>clone Scenario from 'SHAPE_SSP2_v4.1.8|baselin...</td>\n      <td>1</td>\n    </tr>\n    <tr>\n      <th>6294</th>\n      <td>MESSAGEix-Materials</td>\n      <td>NoPolicy_petro_thesis_2</td>\n      <td>MESSAGE</td>\n      <td>1</td>\n      <td>0</td>\n      <td>maczek</td>\n      <td>2023-04-13 15:29:47.000000</td>\n      <td>maczek</td>\n      <td>2023-04-14 11:18:16.000000</td>\n      <td>None</td>\n      <td>None</td>\n      <td>clone Scenario from 'SHAPE_SSP2_v4.1.8|baselin...</td>\n      <td>65</td>\n    </tr>\n    <tr>\n      <th>6295</th>\n      <td>MESSAGEix-Materials</td>\n      <td>NoPolicy_petro_thesis_2_macro</td>\n      <td>MESSAGE</td>\n      <td>1</td>\n      <td>0</td>\n      <td>maczek</td>\n      <td>2023-04-14 11:18:27.000000</td>\n      <td>maczek</td>\n      <td>2023-04-14 11:28:34.000000</td>\n      <td>None</td>\n      <td>None</td>\n      <td>clone Scenario from 'MESSAGEix-Materials|NoPol...</td>\n      <td>5</td>\n    </tr>\n  </tbody>\n</table>\n</div>"
     },
     "execution_count": 17,
     "metadata": {},
     "output_type": "execute_result"
    }
   ],
   "source": [
    "df = mp.scenario_list()\n",
    "df[df[\"scenario\"].str.contains(\"petro\")]"
   ],
   "metadata": {
    "collapsed": false
   }
  },
  {
   "cell_type": "code",
   "execution_count": 20,
   "outputs": [],
   "source": [
    "paramList_tec = [x for x in scenario.par_list() if ((\"technology\" in scenario.idx_sets(x)) & (\"mode\" in scenario.idx_sets(x)))]"
   ],
   "metadata": {
    "collapsed": false
   }
  },
  {
   "cell_type": "code",
   "execution_count": 27,
   "outputs": [],
   "source": [
    "import pandas as pd\n",
    "par_dict_meth = {}\n",
    "df_all_rows = pd.DataFrame()\n",
    "for p in paramList_tec:\n",
    "    df = scenario.par(p, filters={\"technology\":\"h2_elec\"})\n",
    "    if df.index.size:\n",
    "        par_dict_meth[p] = df"
   ],
   "metadata": {
    "collapsed": false
   }
  },
  {
   "cell_type": "code",
   "execution_count": 31,
   "outputs": [],
   "source": [
    "par_dict_fuel = copy.deepcopy(par_dict_meth)\n",
    "par_dict_fs = copy.deepcopy(par_dict_meth)"
   ],
   "metadata": {
    "collapsed": false
   }
  },
  {
   "cell_type": "code",
   "execution_count": 32,
   "outputs": [],
   "source": [
    "for k,v in par_dict_fuel.items():\n",
    "    v[\"mode\"] = \"fuel\"\n",
    "for k,v in par_dict_fs.items():\n",
    "    v[\"mode\"] = \"feedstock\""
   ],
   "metadata": {
    "collapsed": false
   }
  },
  {
   "cell_type": "code",
   "execution_count": 35,
   "outputs": [],
   "source": [
    "for k,v in par_dict_meth.items():\n",
    "    scenario.remove_par(k, v)"
   ],
   "metadata": {
    "collapsed": false
   }
  },
  {
   "cell_type": "code",
   "execution_count": 36,
   "outputs": [],
   "source": [
    "for k,v in par_dict_fuel.items():\n",
    "    scenario.add_par(k, v)"
   ],
   "metadata": {
    "collapsed": false
   }
  },
  {
   "cell_type": "code",
   "execution_count": 37,
   "outputs": [],
   "source": [
    "for k,v in par_dict_fs.items():\n",
    "    scenario.add_par(k, v)"
   ],
   "metadata": {
    "collapsed": false
   }
  },
  {
   "cell_type": "code",
   "execution_count": 38,
   "outputs": [],
   "source": [
    "scenario.commit(\"split h2_elec modes\")"
   ],
   "metadata": {
    "collapsed": false
   }
  },
  {
   "cell_type": "code",
   "execution_count": 42,
   "outputs": [
    {
     "data": {
      "text/plain": "['year',\n 'node',\n 'technology',\n 'relation',\n 'emission',\n 'land_scenario',\n 'land_type',\n 'lvl_spatial',\n 'time',\n 'lvl_temporal',\n 'type_node',\n 'type_tec',\n 'type_year',\n 'type_emission',\n 'type_relation',\n 'mode',\n 'grade',\n 'level',\n 'commodity',\n 'rating',\n 'shares',\n 'type_addon',\n 'level_storage',\n 'storage_tec',\n 'sector',\n 'time_relative',\n 'map_spatial_hierarchy',\n 'map_node',\n 'map_temporal_hierarchy',\n 'map_time',\n 'cat_node',\n 'cat_tec',\n 'cat_year',\n 'cat_emission',\n 'type_tec_land',\n 'cat_relation',\n 'level_resource',\n 'level_renewable',\n 'level_stocks',\n 'map_shares_commodity_total',\n 'map_shares_commodity_share',\n 'addon',\n 'cat_addon',\n 'map_tec_addon',\n 'balance_equality',\n 'mapping_macro_sector',\n 'is_capacity_factor',\n 'map_tec_storage']"
     },
     "execution_count": 42,
     "metadata": {},
     "output_type": "execute_result"
    }
   ],
   "source": [
    "scenario.set_list()"
   ],
   "metadata": {
    "collapsed": false
   }
  },
  {
   "cell_type": "code",
   "execution_count": null,
   "outputs": [],
   "source": [
    "for k,v in par_dict_meth.items():\n",
    "    print(k, v[\"mode\"].unique())"
   ],
   "metadata": {
    "collapsed": false
   }
  }
 ],
 "metadata": {
  "kernelspec": {
   "display_name": "Python 3",
   "language": "python",
   "name": "python3"
  },
  "language_info": {
   "codemirror_mode": {
    "name": "ipython",
    "version": 2
   },
   "file_extension": ".py",
   "mimetype": "text/x-python",
   "name": "python",
   "nbconvert_exporter": "python",
   "pygments_lexer": "ipython2",
   "version": "2.7.6"
  }
 },
 "nbformat": 4,
 "nbformat_minor": 0
}
