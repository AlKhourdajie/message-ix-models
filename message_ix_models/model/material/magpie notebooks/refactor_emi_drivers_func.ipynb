{
 "cells": [
  {
   "cell_type": "code",
   "execution_count": 1,
   "outputs": [],
   "source": [
    "import pandas as pd"
   ],
   "metadata": {
    "collapsed": false,
    "ExecuteTime": {
     "start_time": "2023-09-25T08:52:47.708814300Z"
    }
   },
   "id": "initial_id"
  },
  {
   "cell_type": "code",
   "execution_count": 8,
   "outputs": [],
   "source": [
    "iamc_index = [\"Region\", \"Variable\", \"Unit\"]"
   ],
   "metadata": {
    "collapsed": false,
    "ExecuteTime": {
     "start_time": "2023-09-25T08:52:49.112676200Z"
    }
   },
   "id": "14ab9fc74924209c"
  },
  {
   "cell_type": "code",
   "execution_count": 2,
   "outputs": [],
   "source": [
    "df = pd.read_csv(\"C:/Users\\maczek\\Desktop/emi_drivers.csv\")\n",
    "df = df.set_index([\"Region\", \"Scenario\", \"Unit\"])\n",
    "df.columns = [int(i) for i in df.columns]"
   ],
   "metadata": {
    "collapsed": false,
    "ExecuteTime": {
     "start_time": "2023-09-25T08:52:48.245828200Z"
    }
   },
   "id": "c2653dcb51d6727c"
  },
  {
   "cell_type": "code",
   "execution_count": 5,
   "outputs": [],
   "source": [
    "data = pd.read_csv(\"C:/Users\\maczek\\Desktop/data.csv\").set_index(\"Region\")\n",
    "data.columns = [int(i) for i in data.columns]"
   ],
   "metadata": {
    "collapsed": false,
    "ExecuteTime": {
     "start_time": "2023-09-25T08:52:48.473847700Z"
    }
   },
   "id": "af947380eec6c2b7"
  },
  {
   "cell_type": "markdown",
   "source": [],
   "metadata": {
    "collapsed": false
   },
   "id": "d4a75d09fb9d213f"
  },
  {
   "cell_type": "markdown",
   "source": [
    "## current implementation"
   ],
   "metadata": {
    "collapsed": false
   },
   "id": "101ca884844ac146"
  },
  {
   "cell_type": "code",
   "execution_count": 7,
   "outputs": [],
   "source": [
    "scn_cfg = {}\n",
    "scn_cfg[\"region_mapping\"] = df.index.get_level_values(0).unique()"
   ],
   "metadata": {
    "collapsed": false,
    "ExecuteTime": {
     "start_time": "2023-09-25T08:52:48.758487500Z"
    }
   },
   "id": "bd6451c021ec9be8"
  },
  {
   "cell_type": "code",
   "execution_count": 111,
   "outputs": [],
   "source": [
    "old_dfs_dict = {}\n",
    "new_dfs_dict = {}"
   ],
   "metadata": {
    "collapsed": false,
    "ExecuteTime": {
     "end_time": "2023-09-25T09:17:42.910070900Z",
     "start_time": "2023-09-25T09:17:42.825532300Z"
    }
   },
   "id": "fd8612083bddf1c1"
  },
  {
   "cell_type": "code",
   "execution_count": 123,
   "outputs": [],
   "source": [
    "for reg in scn_cfg[\"region_mapping\"]:\n",
    "    #tmp_gr = tmp = self.data.loc[reg, :, driver]\n",
    "    tmp_gr = tmp = df.loc[reg, :]\n",
    "    tmp_gr = tmp_gr.pct_change(axis=1)\n",
    "    for i in range(len(tmp.columns)):\n",
    "        # 2010 should remain hardcoded - it is the year until\n",
    "        # which we had calibrated the emi-drivers.\n",
    "        if tmp.columns[i] <= 2010:\n",
    "            # If there is no data available, a dataframe with\n",
    "            # values set to 0 is created.\n",
    "            if data.empty:\n",
    "                tmp.loc[:, tmp.columns[i]] = 0\n",
    "            else:\n",
    "                tmp.loc[:, tmp.columns[i]] = data.loc[\n",
    "                reg, tmp.columns[i]\n",
    "            ]\n",
    "        else:\n",
    "            tmp.loc[:, tmp.columns[i]] = (\n",
    "                tmp.loc[:, tmp.columns[i - 1]]\n",
    "                + tmp.loc[:, tmp.columns[i - 1]]\n",
    "                * tmp_gr.loc[:, tmp.columns[i]]\n",
    "            )\n",
    "    tmp = tmp.reset_index()\n",
    "    #tmp[\"Region\"] = reg\n",
    "    tmp[\"Unit\"] = \"Mt CO2/yr\"\n",
    "    #tmp[\"Variable\"] = \"test_tec\"\n",
    "    #tmp = tmp.set_index(iamc_index).fillna(0)\n",
    "    #self.data = tmp.combine_first(self.data)\n",
    "    old = tmp.set_index([\"Scenario\", \"Unit\"])\n",
    "    old.columns = old.columns.astype(int)\n",
    "    old_dfs_dict[reg] = old"
   ],
   "metadata": {
    "collapsed": false,
    "ExecuteTime": {
     "end_time": "2023-09-25T09:21:52.700786100Z",
     "start_time": "2023-09-25T09:21:52.500044200Z"
    }
   },
   "id": "11598920603d80ae"
  },
  {
   "cell_type": "code",
   "execution_count": 50,
   "outputs": [],
   "source": [
    "old_post_2010 = old.drop(old.columns[:4], axis=1).copy(deep=True)"
   ],
   "metadata": {
    "collapsed": false,
    "ExecuteTime": {
     "end_time": "2023-09-25T09:00:55.358425700Z",
     "start_time": "2023-09-25T09:00:55.327185600Z"
    }
   },
   "id": "a0ddced02ed86c32"
  },
  {
   "cell_type": "code",
   "execution_count": 134,
   "outputs": [
    {
     "data": {
      "text/plain": "                        2010  2015  2020  2025  2030  2035  2040  2045  2050  \\\nScenario     Unit                                                              \nBIO00GHG000  Mt CO2/yr   1.0   1.0   1.0   1.0   1.0   1.0   1.0   1.0   1.0   \nBIO00GHG010  Mt CO2/yr   1.0   1.0   1.0   1.0   1.0   1.0   1.0   1.0   1.0   \nBIO00GHG020  Mt CO2/yr   1.0   1.0   1.0   1.0   1.0   1.0   1.0   1.0   1.0   \nBIO00GHG050  Mt CO2/yr   1.0   1.0   1.0   1.0   1.0   1.0   1.0   1.0   1.0   \nBIO00GHG100  Mt CO2/yr   1.0   1.0   1.0   1.0   1.0   1.0   1.0   1.0   1.0   \n...                      ...   ...   ...   ...   ...   ...   ...   ...   ...   \nBIO45GHG3000 Mt CO2/yr   1.0   1.0   1.0   1.0   1.0   1.0   1.0   1.0   1.0   \nBIO45GHG400  Mt CO2/yr   1.0   1.0   1.0   1.0   1.0   1.0   1.0   1.0   1.0   \nBIO45GHG4000 Mt CO2/yr   1.0   1.0   1.0   1.0   1.0   1.0   1.0   1.0   1.0   \nBIO45GHG600  Mt CO2/yr   1.0   1.0   1.0   1.0   1.0   1.0   1.0   1.0   1.0   \nBIO45GHG990  Mt CO2/yr   1.0   1.0   1.0   1.0   1.0   1.0   1.0   1.0   1.0   \n\n                        2055  2060  2070  2080  2090  2100  2110  \nScenario     Unit                                                 \nBIO00GHG000  Mt CO2/yr   1.0   1.0   1.0   1.0   1.0   1.0   1.0  \nBIO00GHG010  Mt CO2/yr   1.0   1.0   1.0   1.0   1.0   1.0   1.0  \nBIO00GHG020  Mt CO2/yr   1.0   1.0   1.0   1.0   1.0   1.0   1.0  \nBIO00GHG050  Mt CO2/yr   1.0   1.0   1.0   1.0   1.0   1.0   1.0  \nBIO00GHG100  Mt CO2/yr   1.0   1.0   1.0   1.0   1.0   1.0   1.0  \n...                      ...   ...   ...   ...   ...   ...   ...  \nBIO45GHG3000 Mt CO2/yr   1.0   1.0   1.0   1.0   1.0   1.0   1.0  \nBIO45GHG400  Mt CO2/yr   1.0   1.0   1.0   1.0   1.0   1.0   1.0  \nBIO45GHG4000 Mt CO2/yr   1.0   1.0   1.0   1.0   1.0   1.0   1.0  \nBIO45GHG600  Mt CO2/yr   1.0   1.0   1.0   1.0   1.0   1.0   1.0  \nBIO45GHG990  Mt CO2/yr   1.0   1.0   1.0   1.0   1.0   1.0   1.0  \n\n[84 rows x 16 columns]",
      "text/html": "<div>\n<style scoped>\n    .dataframe tbody tr th:only-of-type {\n        vertical-align: middle;\n    }\n\n    .dataframe tbody tr th {\n        vertical-align: top;\n    }\n\n    .dataframe thead th {\n        text-align: right;\n    }\n</style>\n<table border=\"1\" class=\"dataframe\">\n  <thead>\n    <tr style=\"text-align: right;\">\n      <th></th>\n      <th></th>\n      <th>2010</th>\n      <th>2015</th>\n      <th>2020</th>\n      <th>2025</th>\n      <th>2030</th>\n      <th>2035</th>\n      <th>2040</th>\n      <th>2045</th>\n      <th>2050</th>\n      <th>2055</th>\n      <th>2060</th>\n      <th>2070</th>\n      <th>2080</th>\n      <th>2090</th>\n      <th>2100</th>\n      <th>2110</th>\n    </tr>\n    <tr>\n      <th>Scenario</th>\n      <th>Unit</th>\n      <th></th>\n      <th></th>\n      <th></th>\n      <th></th>\n      <th></th>\n      <th></th>\n      <th></th>\n      <th></th>\n      <th></th>\n      <th></th>\n      <th></th>\n      <th></th>\n      <th></th>\n      <th></th>\n      <th></th>\n      <th></th>\n    </tr>\n  </thead>\n  <tbody>\n    <tr>\n      <th>BIO00GHG000</th>\n      <th>Mt CO2/yr</th>\n      <td>1.0</td>\n      <td>1.0</td>\n      <td>1.0</td>\n      <td>1.0</td>\n      <td>1.0</td>\n      <td>1.0</td>\n      <td>1.0</td>\n      <td>1.0</td>\n      <td>1.0</td>\n      <td>1.0</td>\n      <td>1.0</td>\n      <td>1.0</td>\n      <td>1.0</td>\n      <td>1.0</td>\n      <td>1.0</td>\n      <td>1.0</td>\n    </tr>\n    <tr>\n      <th>BIO00GHG010</th>\n      <th>Mt CO2/yr</th>\n      <td>1.0</td>\n      <td>1.0</td>\n      <td>1.0</td>\n      <td>1.0</td>\n      <td>1.0</td>\n      <td>1.0</td>\n      <td>1.0</td>\n      <td>1.0</td>\n      <td>1.0</td>\n      <td>1.0</td>\n      <td>1.0</td>\n      <td>1.0</td>\n      <td>1.0</td>\n      <td>1.0</td>\n      <td>1.0</td>\n      <td>1.0</td>\n    </tr>\n    <tr>\n      <th>BIO00GHG020</th>\n      <th>Mt CO2/yr</th>\n      <td>1.0</td>\n      <td>1.0</td>\n      <td>1.0</td>\n      <td>1.0</td>\n      <td>1.0</td>\n      <td>1.0</td>\n      <td>1.0</td>\n      <td>1.0</td>\n      <td>1.0</td>\n      <td>1.0</td>\n      <td>1.0</td>\n      <td>1.0</td>\n      <td>1.0</td>\n      <td>1.0</td>\n      <td>1.0</td>\n      <td>1.0</td>\n    </tr>\n    <tr>\n      <th>BIO00GHG050</th>\n      <th>Mt CO2/yr</th>\n      <td>1.0</td>\n      <td>1.0</td>\n      <td>1.0</td>\n      <td>1.0</td>\n      <td>1.0</td>\n      <td>1.0</td>\n      <td>1.0</td>\n      <td>1.0</td>\n      <td>1.0</td>\n      <td>1.0</td>\n      <td>1.0</td>\n      <td>1.0</td>\n      <td>1.0</td>\n      <td>1.0</td>\n      <td>1.0</td>\n      <td>1.0</td>\n    </tr>\n    <tr>\n      <th>BIO00GHG100</th>\n      <th>Mt CO2/yr</th>\n      <td>1.0</td>\n      <td>1.0</td>\n      <td>1.0</td>\n      <td>1.0</td>\n      <td>1.0</td>\n      <td>1.0</td>\n      <td>1.0</td>\n      <td>1.0</td>\n      <td>1.0</td>\n      <td>1.0</td>\n      <td>1.0</td>\n      <td>1.0</td>\n      <td>1.0</td>\n      <td>1.0</td>\n      <td>1.0</td>\n      <td>1.0</td>\n    </tr>\n    <tr>\n      <th>...</th>\n      <th>...</th>\n      <td>...</td>\n      <td>...</td>\n      <td>...</td>\n      <td>...</td>\n      <td>...</td>\n      <td>...</td>\n      <td>...</td>\n      <td>...</td>\n      <td>...</td>\n      <td>...</td>\n      <td>...</td>\n      <td>...</td>\n      <td>...</td>\n      <td>...</td>\n      <td>...</td>\n      <td>...</td>\n    </tr>\n    <tr>\n      <th>BIO45GHG3000</th>\n      <th>Mt CO2/yr</th>\n      <td>1.0</td>\n      <td>1.0</td>\n      <td>1.0</td>\n      <td>1.0</td>\n      <td>1.0</td>\n      <td>1.0</td>\n      <td>1.0</td>\n      <td>1.0</td>\n      <td>1.0</td>\n      <td>1.0</td>\n      <td>1.0</td>\n      <td>1.0</td>\n      <td>1.0</td>\n      <td>1.0</td>\n      <td>1.0</td>\n      <td>1.0</td>\n    </tr>\n    <tr>\n      <th>BIO45GHG400</th>\n      <th>Mt CO2/yr</th>\n      <td>1.0</td>\n      <td>1.0</td>\n      <td>1.0</td>\n      <td>1.0</td>\n      <td>1.0</td>\n      <td>1.0</td>\n      <td>1.0</td>\n      <td>1.0</td>\n      <td>1.0</td>\n      <td>1.0</td>\n      <td>1.0</td>\n      <td>1.0</td>\n      <td>1.0</td>\n      <td>1.0</td>\n      <td>1.0</td>\n      <td>1.0</td>\n    </tr>\n    <tr>\n      <th>BIO45GHG4000</th>\n      <th>Mt CO2/yr</th>\n      <td>1.0</td>\n      <td>1.0</td>\n      <td>1.0</td>\n      <td>1.0</td>\n      <td>1.0</td>\n      <td>1.0</td>\n      <td>1.0</td>\n      <td>1.0</td>\n      <td>1.0</td>\n      <td>1.0</td>\n      <td>1.0</td>\n      <td>1.0</td>\n      <td>1.0</td>\n      <td>1.0</td>\n      <td>1.0</td>\n      <td>1.0</td>\n    </tr>\n    <tr>\n      <th>BIO45GHG600</th>\n      <th>Mt CO2/yr</th>\n      <td>1.0</td>\n      <td>1.0</td>\n      <td>1.0</td>\n      <td>1.0</td>\n      <td>1.0</td>\n      <td>1.0</td>\n      <td>1.0</td>\n      <td>1.0</td>\n      <td>1.0</td>\n      <td>1.0</td>\n      <td>1.0</td>\n      <td>1.0</td>\n      <td>1.0</td>\n      <td>1.0</td>\n      <td>1.0</td>\n      <td>1.0</td>\n    </tr>\n    <tr>\n      <th>BIO45GHG990</th>\n      <th>Mt CO2/yr</th>\n      <td>1.0</td>\n      <td>1.0</td>\n      <td>1.0</td>\n      <td>1.0</td>\n      <td>1.0</td>\n      <td>1.0</td>\n      <td>1.0</td>\n      <td>1.0</td>\n      <td>1.0</td>\n      <td>1.0</td>\n      <td>1.0</td>\n      <td>1.0</td>\n      <td>1.0</td>\n      <td>1.0</td>\n      <td>1.0</td>\n      <td>1.0</td>\n    </tr>\n  </tbody>\n</table>\n<p>84 rows × 16 columns</p>\n</div>"
     },
     "execution_count": 134,
     "metadata": {},
     "output_type": "execute_result"
    }
   ],
   "source": [
    "df.loc[\"R12_CHN\", :].divide(df.loc[\"R12_CHN\", :][2010], axis=0).drop(df.loc[\"R12_CHN\", :].columns[:4], axis=1)"
   ],
   "metadata": {
    "collapsed": false,
    "ExecuteTime": {
     "end_time": "2023-09-25T09:25:32.774062100Z",
     "start_time": "2023-09-25T09:25:32.673880900Z"
    }
   },
   "id": "bd87dc9331011540"
  },
  {
   "cell_type": "markdown",
   "source": [],
   "metadata": {
    "collapsed": false
   },
   "id": "1532726880abd30c"
  },
  {
   "cell_type": "markdown",
   "source": [
    "## new vectorized calculation"
   ],
   "metadata": {
    "collapsed": false
   },
   "id": "f02833576e276727"
  },
  {
   "cell_type": "code",
   "execution_count": 140,
   "outputs": [],
   "source": [
    "for reg in scn_cfg[\"region_mapping\"]:\n",
    "    #tmp = self.data.loc[reg, :, driver]\n",
    "    tmp = df.loc[reg, :]\n",
    "\n",
    "    tmp_rel_2010 = tmp.divide(tmp[2010], axis=0).drop(tmp.columns[:4], axis=1)\n",
    "    tec_afr = data.loc[reg]\n",
    "    new = tmp_rel_2010[tmp_rel_2010.columns] * tec_afr[2010]\n",
    "    data_bef_2010 = pd.DataFrame(data.loc[reg, :2010]).T\n",
    "    for col in data_bef_2010:\n",
    "        new[col] = data_bef_2010[col].values[0]\n",
    "    new = new[new.columns.sort_values()]\n",
    "    new = new.fillna(0)\n",
    "    \n",
    "    new_dfs_dict[reg] = new"
   ],
   "metadata": {
    "collapsed": false,
    "ExecuteTime": {
     "end_time": "2023-09-25T09:28:47.564726900Z",
     "start_time": "2023-09-25T09:28:47.517862500Z"
    }
   },
   "id": "33da9bcb802ee936"
  },
  {
   "cell_type": "code",
   "execution_count": 99,
   "outputs": [],
   "source": [
    "tmp_rel_2010 = tmp.divide(tmp[2010], axis=0).drop(tmp.columns[:4], axis=1)"
   ],
   "metadata": {
    "collapsed": false,
    "ExecuteTime": {
     "end_time": "2023-09-25T09:12:30.400010800Z",
     "start_time": "2023-09-25T09:12:30.368763300Z"
    }
   },
   "id": "15a0e53d9d20722a"
  },
  {
   "cell_type": "code",
   "execution_count": 100,
   "outputs": [],
   "source": [
    "tec_afr = data.loc[\"R12_AFR\"]"
   ],
   "metadata": {
    "collapsed": false,
    "ExecuteTime": {
     "end_time": "2023-09-25T09:12:30.747514900Z",
     "start_time": "2023-09-25T09:12:30.700449100Z"
    }
   },
   "id": "3b6086a46dc1e065"
  },
  {
   "cell_type": "code",
   "execution_count": 101,
   "outputs": [],
   "source": [
    "new = tmp_rel_2010[tmp_rel_2010.columns] * tec_afr[2010]"
   ],
   "metadata": {
    "collapsed": false,
    "ExecuteTime": {
     "end_time": "2023-09-25T09:12:31.101228400Z",
     "start_time": "2023-09-25T09:12:31.063474800Z"
    }
   },
   "id": "1a158eca7eea06ad"
  },
  {
   "cell_type": "code",
   "execution_count": 102,
   "outputs": [],
   "source": [
    "data_bef_2010 = pd.DataFrame(data.loc[reg, :2010]).T"
   ],
   "metadata": {
    "collapsed": false,
    "ExecuteTime": {
     "end_time": "2023-09-25T09:12:31.502279100Z",
     "start_time": "2023-09-25T09:12:31.471032Z"
    }
   },
   "id": "be8d0f5cc4687fa0"
  },
  {
   "cell_type": "code",
   "execution_count": 103,
   "outputs": [],
   "source": [
    "for col in data_bef_2010:\n",
    "    new[col] = data_bef_2010[col].values[0]"
   ],
   "metadata": {
    "collapsed": false,
    "ExecuteTime": {
     "end_time": "2023-09-25T09:12:32.065466800Z",
     "start_time": "2023-09-25T09:12:32.002950900Z"
    }
   },
   "id": "3d05af475086cc82"
  },
  {
   "cell_type": "code",
   "execution_count": 104,
   "outputs": [],
   "source": [
    "new = new[new.columns.sort_values()]"
   ],
   "metadata": {
    "collapsed": false,
    "ExecuteTime": {
     "end_time": "2023-09-25T09:12:32.573423400Z",
     "start_time": "2023-09-25T09:12:32.525508200Z"
    }
   },
   "id": "a070ba462231478a"
  },
  {
   "cell_type": "code",
   "execution_count": 106,
   "outputs": [
    {
     "data": {
      "text/plain": "                           1990     1995     2000     2005     2010  \\\nScenario     Unit                                                     \nBIO00GHG000  Mt CO2/yr  115.793  115.793  115.793  116.082  116.371   \nBIO00GHG010  Mt CO2/yr  115.793  115.793  115.793  116.082  116.371   \nBIO00GHG020  Mt CO2/yr  115.793  115.793  115.793  116.082  116.371   \nBIO00GHG050  Mt CO2/yr  115.793  115.793  115.793  116.082  116.371   \nBIO00GHG100  Mt CO2/yr  115.793  115.793  115.793  116.082  116.371   \n...                         ...      ...      ...      ...      ...   \nBIO45GHG3000 Mt CO2/yr  115.793  115.793  115.793  116.082  116.371   \nBIO45GHG400  Mt CO2/yr  115.793  115.793  115.793  116.082  116.371   \nBIO45GHG4000 Mt CO2/yr  115.793  115.793  115.793  116.082  116.371   \nBIO45GHG600  Mt CO2/yr  115.793  115.793  115.793  116.082  116.371   \nBIO45GHG990  Mt CO2/yr  115.793  115.793  115.793  116.082  116.371   \n\n                              2015        2020        2025       2030  \\\nScenario     Unit                                                       \nBIO00GHG000  Mt CO2/yr  116.862954  117.064786  104.533321  85.470978   \nBIO00GHG010  Mt CO2/yr  116.862954  117.064786  104.882979  86.171215   \nBIO00GHG020  Mt CO2/yr  116.862954  117.064786  104.987858  86.359776   \nBIO00GHG050  Mt CO2/yr  116.862954  117.064786  105.086286  86.579303   \nBIO00GHG100  Mt CO2/yr  116.862954  117.064786  105.308946  86.940757   \n...                            ...         ...         ...        ...   \nBIO45GHG3000 Mt CO2/yr  116.862954  117.064786  105.317794  86.959742   \nBIO45GHG400  Mt CO2/yr  116.862954  117.064786  105.316503  86.956978   \nBIO45GHG4000 Mt CO2/yr  116.862954  117.064786  105.317794  86.959742   \nBIO45GHG600  Mt CO2/yr  116.862954  117.064786  105.317241  86.958452   \nBIO45GHG990  Mt CO2/yr  116.862954  117.064786  105.317425  86.959190   \n\n                             2035       2040       2045      2050      2055  \\\nScenario     Unit                                                             \nBIO00GHG000  Mt CO2/yr  58.128176  31.002874  12.322813  3.466718  0.635540   \nBIO00GHG010  Mt CO2/yr  59.042042  31.812045  12.809237  3.658228  0.680146   \nBIO00GHG020  Mt CO2/yr  59.257329  31.975538  12.893656  3.687536  0.686598   \nBIO00GHG050  Mt CO2/yr  59.559617  32.243910  13.048671  3.744860  0.699316   \nBIO00GHG100  Mt CO2/yr  59.928075  32.492375  13.163503  3.781908  0.707242   \n...                           ...        ...        ...       ...       ...   \nBIO45GHG3000 Mt CO2/yr  59.957014  32.522973  13.185622  3.792046  0.710006   \nBIO45GHG400  Mt CO2/yr  59.952959  32.519102  13.183225  3.791124  0.709638   \nBIO45GHG4000 Mt CO2/yr  59.956645  32.522604  13.185253  3.792046  0.709822   \nBIO45GHG600  Mt CO2/yr  59.954986  32.520945  13.184331  3.791677  0.709822   \nBIO45GHG990  Mt CO2/yr  59.956092  32.522051  13.185069  3.792046  0.709822   \n\n                            2060  2070  2080  2090  2100  2110  \nScenario     Unit                                               \nBIO00GHG000  Mt CO2/yr  0.059536   0.0   0.0   0.0   0.0   0.0  \nBIO00GHG010  Mt CO2/yr  0.064144   0.0   0.0   0.0   0.0   0.0  \nBIO00GHG020  Mt CO2/yr  0.064881   0.0   0.0   0.0   0.0   0.0  \nBIO00GHG050  Mt CO2/yr  0.066171   0.0   0.0   0.0   0.0   0.0  \nBIO00GHG100  Mt CO2/yr  0.067093   0.0   0.0   0.0   0.0   0.0  \n...                          ...   ...   ...   ...   ...   ...  \nBIO45GHG3000 Mt CO2/yr  0.067277   0.0   0.0   0.0   0.0   0.0  \nBIO45GHG400  Mt CO2/yr  0.067277   0.0   0.0   0.0   0.0   0.0  \nBIO45GHG4000 Mt CO2/yr  0.067277   0.0   0.0   0.0   0.0   0.0  \nBIO45GHG600  Mt CO2/yr  0.067277   0.0   0.0   0.0   0.0   0.0  \nBIO45GHG990  Mt CO2/yr  0.067277   0.0   0.0   0.0   0.0   0.0  \n\n[84 rows x 20 columns]",
      "text/html": "<div>\n<style scoped>\n    .dataframe tbody tr th:only-of-type {\n        vertical-align: middle;\n    }\n\n    .dataframe tbody tr th {\n        vertical-align: top;\n    }\n\n    .dataframe thead th {\n        text-align: right;\n    }\n</style>\n<table border=\"1\" class=\"dataframe\">\n  <thead>\n    <tr style=\"text-align: right;\">\n      <th></th>\n      <th></th>\n      <th>1990</th>\n      <th>1995</th>\n      <th>2000</th>\n      <th>2005</th>\n      <th>2010</th>\n      <th>2015</th>\n      <th>2020</th>\n      <th>2025</th>\n      <th>2030</th>\n      <th>2035</th>\n      <th>2040</th>\n      <th>2045</th>\n      <th>2050</th>\n      <th>2055</th>\n      <th>2060</th>\n      <th>2070</th>\n      <th>2080</th>\n      <th>2090</th>\n      <th>2100</th>\n      <th>2110</th>\n    </tr>\n    <tr>\n      <th>Scenario</th>\n      <th>Unit</th>\n      <th></th>\n      <th></th>\n      <th></th>\n      <th></th>\n      <th></th>\n      <th></th>\n      <th></th>\n      <th></th>\n      <th></th>\n      <th></th>\n      <th></th>\n      <th></th>\n      <th></th>\n      <th></th>\n      <th></th>\n      <th></th>\n      <th></th>\n      <th></th>\n      <th></th>\n      <th></th>\n    </tr>\n  </thead>\n  <tbody>\n    <tr>\n      <th>BIO00GHG000</th>\n      <th>Mt CO2/yr</th>\n      <td>115.793</td>\n      <td>115.793</td>\n      <td>115.793</td>\n      <td>116.082</td>\n      <td>116.371</td>\n      <td>116.862954</td>\n      <td>117.064786</td>\n      <td>104.533321</td>\n      <td>85.470978</td>\n      <td>58.128176</td>\n      <td>31.002874</td>\n      <td>12.322813</td>\n      <td>3.466718</td>\n      <td>0.635540</td>\n      <td>0.059536</td>\n      <td>0.0</td>\n      <td>0.0</td>\n      <td>0.0</td>\n      <td>0.0</td>\n      <td>0.0</td>\n    </tr>\n    <tr>\n      <th>BIO00GHG010</th>\n      <th>Mt CO2/yr</th>\n      <td>115.793</td>\n      <td>115.793</td>\n      <td>115.793</td>\n      <td>116.082</td>\n      <td>116.371</td>\n      <td>116.862954</td>\n      <td>117.064786</td>\n      <td>104.882979</td>\n      <td>86.171215</td>\n      <td>59.042042</td>\n      <td>31.812045</td>\n      <td>12.809237</td>\n      <td>3.658228</td>\n      <td>0.680146</td>\n      <td>0.064144</td>\n      <td>0.0</td>\n      <td>0.0</td>\n      <td>0.0</td>\n      <td>0.0</td>\n      <td>0.0</td>\n    </tr>\n    <tr>\n      <th>BIO00GHG020</th>\n      <th>Mt CO2/yr</th>\n      <td>115.793</td>\n      <td>115.793</td>\n      <td>115.793</td>\n      <td>116.082</td>\n      <td>116.371</td>\n      <td>116.862954</td>\n      <td>117.064786</td>\n      <td>104.987858</td>\n      <td>86.359776</td>\n      <td>59.257329</td>\n      <td>31.975538</td>\n      <td>12.893656</td>\n      <td>3.687536</td>\n      <td>0.686598</td>\n      <td>0.064881</td>\n      <td>0.0</td>\n      <td>0.0</td>\n      <td>0.0</td>\n      <td>0.0</td>\n      <td>0.0</td>\n    </tr>\n    <tr>\n      <th>BIO00GHG050</th>\n      <th>Mt CO2/yr</th>\n      <td>115.793</td>\n      <td>115.793</td>\n      <td>115.793</td>\n      <td>116.082</td>\n      <td>116.371</td>\n      <td>116.862954</td>\n      <td>117.064786</td>\n      <td>105.086286</td>\n      <td>86.579303</td>\n      <td>59.559617</td>\n      <td>32.243910</td>\n      <td>13.048671</td>\n      <td>3.744860</td>\n      <td>0.699316</td>\n      <td>0.066171</td>\n      <td>0.0</td>\n      <td>0.0</td>\n      <td>0.0</td>\n      <td>0.0</td>\n      <td>0.0</td>\n    </tr>\n    <tr>\n      <th>BIO00GHG100</th>\n      <th>Mt CO2/yr</th>\n      <td>115.793</td>\n      <td>115.793</td>\n      <td>115.793</td>\n      <td>116.082</td>\n      <td>116.371</td>\n      <td>116.862954</td>\n      <td>117.064786</td>\n      <td>105.308946</td>\n      <td>86.940757</td>\n      <td>59.928075</td>\n      <td>32.492375</td>\n      <td>13.163503</td>\n      <td>3.781908</td>\n      <td>0.707242</td>\n      <td>0.067093</td>\n      <td>0.0</td>\n      <td>0.0</td>\n      <td>0.0</td>\n      <td>0.0</td>\n      <td>0.0</td>\n    </tr>\n    <tr>\n      <th>...</th>\n      <th>...</th>\n      <td>...</td>\n      <td>...</td>\n      <td>...</td>\n      <td>...</td>\n      <td>...</td>\n      <td>...</td>\n      <td>...</td>\n      <td>...</td>\n      <td>...</td>\n      <td>...</td>\n      <td>...</td>\n      <td>...</td>\n      <td>...</td>\n      <td>...</td>\n      <td>...</td>\n      <td>...</td>\n      <td>...</td>\n      <td>...</td>\n      <td>...</td>\n      <td>...</td>\n    </tr>\n    <tr>\n      <th>BIO45GHG3000</th>\n      <th>Mt CO2/yr</th>\n      <td>115.793</td>\n      <td>115.793</td>\n      <td>115.793</td>\n      <td>116.082</td>\n      <td>116.371</td>\n      <td>116.862954</td>\n      <td>117.064786</td>\n      <td>105.317794</td>\n      <td>86.959742</td>\n      <td>59.957014</td>\n      <td>32.522973</td>\n      <td>13.185622</td>\n      <td>3.792046</td>\n      <td>0.710006</td>\n      <td>0.067277</td>\n      <td>0.0</td>\n      <td>0.0</td>\n      <td>0.0</td>\n      <td>0.0</td>\n      <td>0.0</td>\n    </tr>\n    <tr>\n      <th>BIO45GHG400</th>\n      <th>Mt CO2/yr</th>\n      <td>115.793</td>\n      <td>115.793</td>\n      <td>115.793</td>\n      <td>116.082</td>\n      <td>116.371</td>\n      <td>116.862954</td>\n      <td>117.064786</td>\n      <td>105.316503</td>\n      <td>86.956978</td>\n      <td>59.952959</td>\n      <td>32.519102</td>\n      <td>13.183225</td>\n      <td>3.791124</td>\n      <td>0.709638</td>\n      <td>0.067277</td>\n      <td>0.0</td>\n      <td>0.0</td>\n      <td>0.0</td>\n      <td>0.0</td>\n      <td>0.0</td>\n    </tr>\n    <tr>\n      <th>BIO45GHG4000</th>\n      <th>Mt CO2/yr</th>\n      <td>115.793</td>\n      <td>115.793</td>\n      <td>115.793</td>\n      <td>116.082</td>\n      <td>116.371</td>\n      <td>116.862954</td>\n      <td>117.064786</td>\n      <td>105.317794</td>\n      <td>86.959742</td>\n      <td>59.956645</td>\n      <td>32.522604</td>\n      <td>13.185253</td>\n      <td>3.792046</td>\n      <td>0.709822</td>\n      <td>0.067277</td>\n      <td>0.0</td>\n      <td>0.0</td>\n      <td>0.0</td>\n      <td>0.0</td>\n      <td>0.0</td>\n    </tr>\n    <tr>\n      <th>BIO45GHG600</th>\n      <th>Mt CO2/yr</th>\n      <td>115.793</td>\n      <td>115.793</td>\n      <td>115.793</td>\n      <td>116.082</td>\n      <td>116.371</td>\n      <td>116.862954</td>\n      <td>117.064786</td>\n      <td>105.317241</td>\n      <td>86.958452</td>\n      <td>59.954986</td>\n      <td>32.520945</td>\n      <td>13.184331</td>\n      <td>3.791677</td>\n      <td>0.709822</td>\n      <td>0.067277</td>\n      <td>0.0</td>\n      <td>0.0</td>\n      <td>0.0</td>\n      <td>0.0</td>\n      <td>0.0</td>\n    </tr>\n    <tr>\n      <th>BIO45GHG990</th>\n      <th>Mt CO2/yr</th>\n      <td>115.793</td>\n      <td>115.793</td>\n      <td>115.793</td>\n      <td>116.082</td>\n      <td>116.371</td>\n      <td>116.862954</td>\n      <td>117.064786</td>\n      <td>105.317425</td>\n      <td>86.959190</td>\n      <td>59.956092</td>\n      <td>32.522051</td>\n      <td>13.185069</td>\n      <td>3.792046</td>\n      <td>0.709822</td>\n      <td>0.067277</td>\n      <td>0.0</td>\n      <td>0.0</td>\n      <td>0.0</td>\n      <td>0.0</td>\n      <td>0.0</td>\n    </tr>\n  </tbody>\n</table>\n<p>84 rows × 20 columns</p>\n</div>"
     },
     "execution_count": 106,
     "metadata": {},
     "output_type": "execute_result"
    }
   ],
   "source": [
    "new.fillna(0)"
   ],
   "metadata": {
    "collapsed": false,
    "ExecuteTime": {
     "end_time": "2023-09-25T09:12:48.537962500Z",
     "start_time": "2023-09-25T09:12:48.437702200Z"
    }
   },
   "id": "240d2b12b4968c7d"
  },
  {
   "cell_type": "markdown",
   "source": [],
   "metadata": {
    "collapsed": false
   },
   "id": "8cf23514ab0de739"
  },
  {
   "cell_type": "markdown",
   "source": [
    "## check if old and new calculation yield same output"
   ],
   "metadata": {
    "collapsed": false
   },
   "id": "dd042b4579161338"
  },
  {
   "cell_type": "code",
   "execution_count": 107,
   "outputs": [
    {
     "data": {
      "text/plain": "True"
     },
     "execution_count": 107,
     "metadata": {},
     "output_type": "execute_result"
    }
   ],
   "source": [
    "round = 11\n",
    "(old.fillna(0).round(round) == new.fillna(0).round(round)).all().all()"
   ],
   "metadata": {
    "collapsed": false,
    "ExecuteTime": {
     "end_time": "2023-09-25T09:13:28.864784400Z",
     "start_time": "2023-09-25T09:13:28.780131700Z"
    }
   },
   "id": "9041d5009d0a95b7"
  },
  {
   "cell_type": "code",
   "execution_count": 142,
   "outputs": [
    {
     "name": "stdout",
     "output_type": "stream",
     "text": [
      "R12_AFR\n",
      "True\n",
      "R12_CHN\n",
      "True\n",
      "R12_EEU\n",
      "True\n",
      "R12_FSU\n",
      "True\n",
      "R12_LAM\n",
      "True\n",
      "R12_MEA\n",
      "True\n",
      "R12_NAM\n",
      "True\n",
      "R12_PAO\n",
      "True\n",
      "R12_PAS\n",
      "True\n",
      "R12_RCPA\n",
      "True\n",
      "R12_SAS\n",
      "True\n",
      "R12_WEU\n",
      "True\n"
     ]
    }
   ],
   "source": [
    "for k,v in old_dfs_dict.items():\n",
    "    print(k)\n",
    "    #print(new_dfs_dict[k])\n",
    "    print((v.fillna(0).round(round) == new_dfs_dict[k].fillna(0).round(round)).all().all())\n",
    "    if not (v.fillna(0).round(round) == new_dfs_dict[k].fillna(0).round(round)).all().all():\n",
    "        break"
   ],
   "metadata": {
    "collapsed": false,
    "ExecuteTime": {
     "end_time": "2023-09-25T09:28:57.739335300Z",
     "start_time": "2023-09-25T09:28:57.407534300Z"
    }
   },
   "id": "ce3dfad183defef5"
  },
  {
   "cell_type": "code",
   "execution_count": 42,
   "outputs": [],
   "source": [
    "pd.testing.assert_frame_equal(old, new)"
   ],
   "metadata": {
    "collapsed": false,
    "ExecuteTime": {
     "start_time": "2023-09-25T08:56:04.961689700Z"
    }
   },
   "id": "8b0f59e3b8202475"
  }
 ],
 "metadata": {
  "kernelspec": {
   "display_name": "Python 3",
   "language": "python",
   "name": "python3"
  },
  "language_info": {
   "codemirror_mode": {
    "name": "ipython",
    "version": 2
   },
   "file_extension": ".py",
   "mimetype": "text/x-python",
   "name": "python",
   "nbconvert_exporter": "python",
   "pygments_lexer": "ipython2",
   "version": "2.7.6"
  }
 },
 "nbformat": 4,
 "nbformat_minor": 5
}
