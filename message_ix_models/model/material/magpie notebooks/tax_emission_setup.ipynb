{
 "cells": [
  {
   "cell_type": "code",
   "execution_count": 18,
   "outputs": [],
   "source": [
    "import ixmp\n",
    "import matplotlib.pyplot as plt\n",
    "import message_ix"
   ],
   "metadata": {
    "collapsed": false,
    "ExecuteTime": {
     "end_time": "2023-10-05T13:52:55.824837700Z",
     "start_time": "2023-10-05T13:52:55.787004900Z"
    }
   },
   "id": "e34c79b21d8c4a80"
  },
  {
   "cell_type": "code",
   "execution_count": 2,
   "outputs": [],
   "source": [
    "mp = ixmp.Platform(\"ixmp_dev\")"
   ],
   "metadata": {
    "collapsed": false,
    "ExecuteTime": {
     "end_time": "2023-10-05T13:45:38.626355200Z",
     "start_time": "2023-10-05T13:45:36.273179900Z"
    }
   },
   "id": "227c231f7a367485"
  },
  {
   "cell_type": "code",
   "execution_count": 9,
   "outputs": [],
   "source": [
    "target_model = \"...\"\n",
    "target_scenario = \"...\"\n",
    "peak_model = \"MESSAGEix-GLOBIOM 1.1-R12-MAGPIE-MP00BD1BI00\"\n",
    "peak_scenario = \"EN_NPi2020_1150\""
   ],
   "metadata": {
    "collapsed": false,
    "ExecuteTime": {
     "end_time": "2023-10-05T13:50:44.255403100Z",
     "start_time": "2023-10-05T13:50:44.239973600Z"
    }
   },
   "id": "56f8ec02603f447e"
  },
  {
   "cell_type": "code",
   "execution_count": 10,
   "outputs": [],
   "source": [
    "peak_scen = message_ix.Scenario(mp, peak_model, peak_scenario)\n",
    "target_scen = message_ix.Scenario(mp, target_model, target_scenario)"
   ],
   "metadata": {
    "collapsed": false,
    "ExecuteTime": {
     "end_time": "2023-10-05T13:50:46.628590500Z",
     "start_time": "2023-10-05T13:50:44.571545200Z"
    }
   },
   "id": "48d2afc1d5f9a47a"
  },
  {
   "cell_type": "code",
   "execution_count": 13,
   "outputs": [],
   "source": [
    "# pull and modify tax emission dataframe from peak scenario\n",
    "df_emi_tax = peak_scen.par(\"tax_emission\")\n",
    "df_emi_tax[\"type_emission\"] = \"TCE\""
   ],
   "metadata": {
    "collapsed": false,
    "ExecuteTime": {
     "end_time": "2023-10-05T13:51:35.379890600Z",
     "start_time": "2023-10-05T13:51:35.326754400Z"
    }
   },
   "id": "8b1af490dac35dd"
  },
  {
   "cell_type": "code",
   "execution_count": 21,
   "outputs": [
    {
     "data": {
      "text/plain": "Text(0.5, 0, '')"
     },
     "execution_count": 21,
     "metadata": {},
     "output_type": "execute_result"
    },
    {
     "data": {
      "text/plain": "<Figure size 432x288 with 1 Axes>",
      "image/png": "[encoded data removed]"
     },
     "metadata": {
      "needs_background": "light"
     },
     "output_type": "display_data"
    }
   ],
   "source": [
    "# quick visualization to check the emission tax trajectory\n",
    "fig, ax = plt.subplots()\n",
    "df_emi_tax.plot(x=\"type_year\", ax=ax)\n",
    "ax.set_ylabel(\"USD/tC\")\n",
    "ax.set_xlabel(\"\")"
   ],
   "metadata": {
    "collapsed": false,
    "ExecuteTime": {
     "end_time": "2023-10-05T13:53:20.623834300Z",
     "start_time": "2023-10-05T13:53:20.507446200Z"
    }
   },
   "id": "57bc9de8707bcde8"
  },
  {
   "cell_type": "code",
   "execution_count": null,
   "outputs": [],
   "source": [
    "df_emi_bound = target_scen.par(\"bound_emission\")"
   ],
   "metadata": {
    "collapsed": false
   },
   "id": "38e6964989aa4070"
  },
  {
   "cell_type": "code",
   "execution_count": null,
   "outputs": [],
   "source": [
    "# remove emission bound from target scenario\n",
    "# and add tax emission from peak scenario\n",
    "target_scen.check_out()\n",
    "if len(df_emi_bound) != 0:\n",
    "    target_scen.remove_par(\"bound_emission\", df_emi_bound)\n",
    "target_scen.add_par(\"tax_emission\", df_emi_tax)\n",
    "target_scen.commit(\"add emission tax to emulate peak budget scenario\")"
   ],
   "metadata": {
    "collapsed": false
   },
   "id": "3e49cf0636dab573"
  }
 ],
 "metadata": {
  "kernelspec": {
   "display_name": "Python 3",
   "language": "python",
   "name": "python3"
  },
  "language_info": {
   "codemirror_mode": {
    "name": "ipython",
    "version": 2
   },
   "file_extension": ".py",
   "mimetype": "text/x-python",
   "name": "python",
   "nbconvert_exporter": "python",
   "pygments_lexer": "ipython2",
   "version": "2.7.6"
  }
 },
 "nbformat": 4,
 "nbformat_minor": 5
}
