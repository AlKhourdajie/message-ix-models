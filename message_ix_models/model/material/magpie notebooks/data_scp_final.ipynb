{
 "cells": [
  {
   "cell_type": "code",
   "execution_count": 1,
   "metadata": {
    "collapsed": true,
    "ExecuteTime": {
     "end_time": "2023-07-20T15:27:10.206336800Z",
     "start_time": "2023-07-20T15:27:03.454843500Z"
    }
   },
   "outputs": [
    {
     "data": {
      "text/plain": "<IPython.core.display.Javascript object>",
      "application/javascript": "if (typeof IPython !== 'undefined') { IPython.OutputArea.prototype._should_scroll = function(lines){ return false; }}"
     },
     "metadata": {},
     "output_type": "display_data"
    },
    {
     "name": "stderr",
     "output_type": "stream",
     "text": [
      "Unable to determine R home: [WinError 2] The system cannot find the file specified\n"
     ]
    }
   ],
   "source": [
    "import ixmp as ix\n",
    "import message_ix\n",
    "import pandas as pd\n",
    "\n",
    "from message_ix_models.util import broadcast, private_data_path\n",
    "from message_data.model.material.data_methanol_new import broadcast_reduced_df"
   ]
  },
  {
   "cell_type": "code",
   "execution_count": 2,
   "outputs": [],
   "source": [
    "mp = ix.Platform(\"ixmp_dev\")"
   ],
   "metadata": {
    "collapsed": false
   }
  },
  {
   "cell_type": "markdown",
   "source": [],
   "metadata": {
    "collapsed": false
   }
  },
  {
   "cell_type": "markdown",
   "source": [
    "## add SCP tech and demand"
   ],
   "metadata": {
    "collapsed": false
   }
  },
  {
   "cell_type": "code",
   "execution_count": 4,
   "outputs": [],
   "source": [
    "model_name = \"MESSAGEix-GLOBIOM 1.1-R12-MAGPIE\"\n",
    "scen_name = \"baseline_MP76BD1BI00\"\n",
    "\n",
    "scenario = message_ix.Scenario(mp, model_name, scen_name)\n",
    "\n",
    "sc_clone = scenario.clone(model_name, scen_name+\"test_scp\")"
   ],
   "metadata": {
    "collapsed": false,
    "ExecuteTime": {
     "end_time": "2023-07-20T15:29:34.441051600Z",
     "start_time": "2023-07-20T15:27:10.212887200Z"
    }
   }
  },
  {
   "cell_type": "code",
   "execution_count": 11,
   "outputs": [],
   "source": [
    "all_years = scenario.vintage_and_active_years()\n",
    "years = all_years[all_years[\"year_act\"]==all_years[\"year_vtg\"]]\n",
    "first_year = 2025 # when should scp be available?? 2025? 2030?\n",
    "years = years[years[\"year_act\"] >= first_year]"
   ],
   "metadata": {
    "collapsed": false,
    "ExecuteTime": {
     "end_time": "2023-07-20T12:39:50.996074800Z",
     "start_time": "2023-07-20T12:39:50.974724Z"
    }
   }
  },
  {
   "cell_type": "code",
   "execution_count": 3,
   "outputs": [],
   "source": [
    "region_setup = \"R12\""
   ],
   "metadata": {
    "collapsed": false
   }
  },
  {
   "cell_type": "code",
   "execution_count": 13,
   "outputs": [],
   "source": [
    "scp_demand = pd.read_excel(private_data_path(\"scp\", \"population_beef_demand.xlsx\"),\n",
    "                           sheet_name=f\"demand_{region_setup}\")\n",
    "scp_demand[\"value\"] = scp_demand[\"value\"] / 1000\n",
    "scp_demand = scp_demand[scp_demand[\"year\"]>=first_year]\n",
    "\n",
    "input = pd.read_excel(private_data_path(\"scp\", \"scp_techno_economic.xlsx\"),\n",
    "                           sheet_name=f\"input_{region_setup}\")\n",
    "output = pd.read_excel(private_data_path(\"scp\", \"scp_techno_economic.xlsx\"),\n",
    "                           sheet_name=f\"output_{region_setup}\")"
   ],
   "metadata": {
    "collapsed": false,
    "ExecuteTime": {
     "end_time": "2023-07-20T12:39:52.665801700Z",
     "start_time": "2023-07-20T12:39:52.590786200Z"
    }
   }
  },
  {
   "cell_type": "code",
   "execution_count": 14,
   "outputs": [],
   "source": [
    "input = input.pipe(broadcast, year_vtg=years[\"year_vtg\"])\n",
    "input[\"year_act\"] = input[\"year_vtg\"]\n",
    "output = output.pipe(broadcast, year_vtg=years[\"year_vtg\"])\n",
    "output[\"year_act\"] = output[\"year_vtg\"]"
   ],
   "metadata": {
    "collapsed": false,
    "ExecuteTime": {
     "end_time": "2023-07-20T12:39:54.146585400Z",
     "start_time": "2023-07-20T12:39:54.122675300Z"
    }
   }
  },
  {
   "cell_type": "code",
   "execution_count": 15,
   "outputs": [],
   "source": [
    "input = input[input[\"commodity\"]!=\"NH3\"]"
   ],
   "metadata": {
    "collapsed": false
   }
  },
  {
   "cell_type": "code",
   "execution_count": 16,
   "outputs": [],
   "source": [
    "df_ccu_rel_act = broadcast_reduced_df(pd.read_excel(private_data_path(\"scp\", \"scp_techno_economic.xlsx\"),\n",
    "                                   sheet_name=f\"relation_activity_{region_setup}\"), \"relation_activity\")\n",
    "\n",
    "df_ccu_rel_lo = broadcast_reduced_df(pd.read_excel(private_data_path(\"scp\", \"scp_techno_economic.xlsx\"),\n",
    "                                   sheet_name=f\"relation_lower_{region_setup}\"), \"relation_lower\")"
   ],
   "metadata": {
    "collapsed": false,
    "ExecuteTime": {
     "end_time": "2023-07-20T12:39:55.547689700Z",
     "start_time": "2023-07-20T12:39:55.465648600Z"
    }
   }
  },
  {
   "cell_type": "code",
   "execution_count": 18,
   "outputs": [],
   "source": [
    "df = sc_clone.par(\"land_output\", {\"commodity\": \"Food Demand|Microbial protein\"})\n",
    "df[\"level\"] = \"final_material\""
   ],
   "metadata": {
    "collapsed": false
   }
  },
  {
   "cell_type": "code",
   "execution_count": 19,
   "outputs": [],
   "source": [
    "#sc_clone.check_out()\n",
    "\n",
    "sc_clone.add_set(\"technology\", \"syn_micr_beef\")\n",
    "sc_clone.add_set(\"commodity\", \"Food Demand|Microbial protein\")\n",
    "sc_clone.add_set(\"mode\", \"hydrogen\")\n",
    "\n",
    "if region_setup == \"R11\":\n",
    "    sc_clone.add_set(\"level\", \"demand\")\n",
    "    sc_clone.add_set(\"relation\", \"CO2_PtX_trans_disp_split\") # add relation to mimic CO2 input requirements for SCP\n",
    "    input = input[input[\"commodity\"]!=\"NH3\"] # remove NH3 input since it is not in R11 base model\n",
    "\n",
    "sc_clone.add_par(\"input\", input)\n",
    "sc_clone.add_set(\"level\", \"final_material\")\n",
    "sc_clone.add_par(\"output\", output)\n",
    "sc_clone.add_par(\"land_input\", df)\n",
    "sc_clone.add_set(\"relation\", \"CO2_PtX_trans_disp_split\")\n",
    "sc_clone.add_par(\"relation_activity\", df_ccu_rel_act)\n",
    "sc_clone.add_par(\"relation_lower\", df_ccu_rel_lo)"
   ],
   "metadata": {
    "collapsed": false,
    "ExecuteTime": {
     "end_time": "2023-07-20T12:40:30.081008500Z",
     "start_time": "2023-07-20T12:40:05.693199Z"
    }
   }
  },
  {
   "cell_type": "code",
   "execution_count": 20,
   "outputs": [],
   "source": [
    "sc_clone.commit(\"add scp model\")"
   ],
   "metadata": {
    "collapsed": false
   }
  },
  {
   "cell_type": "code",
   "execution_count": 23,
   "outputs": [],
   "source": [
    "#sc_clone.remove_solution()\n",
    "sc_clone.solve(model=\"MESSAGE-MACRO\")"
   ],
   "metadata": {
    "collapsed": false,
    "ExecuteTime": {
     "end_time": "2023-07-20T15:33:12.158785600Z",
     "start_time": "2023-07-20T15:29:42.459097500Z"
    }
   }
  },
  {
   "cell_type": "markdown",
   "source": [],
   "metadata": {
    "collapsed": false
   }
  },
  {
   "cell_type": "markdown",
   "source": [
    "## build 1000f/600f scenario"
   ],
   "metadata": {
    "collapsed": false
   }
  },
  {
   "cell_type": "code",
   "execution_count": 24,
   "outputs": [],
   "source": [
    "scen = sc_clone"
   ],
   "metadata": {
    "collapsed": false
   }
  },
  {
   "cell_type": "code",
   "execution_count": 25,
   "outputs": [],
   "source": [
    "mode = \"clone\"\n",
    "#mode = \"load\"\n",
    "\n",
    "#budget = \"1000f\"\n",
    "budget = \"600f\""
   ],
   "metadata": {
    "collapsed": false
   }
  },
  {
   "cell_type": "code",
   "execution_count": 26,
   "outputs": [
    {
     "data": {
      "text/plain": "'600f_MP76BD1BI00test_scp'"
     },
     "execution_count": 26,
     "metadata": {},
     "output_type": "execute_result"
    }
   ],
   "source": [
    "scen.scenario.replace(\"baseline\",budget)"
   ],
   "metadata": {
    "collapsed": false
   }
  },
  {
   "cell_type": "code",
   "execution_count": 27,
   "outputs": [
    {
     "name": "stderr",
     "output_type": "stream",
     "text": [
      "Override keep_solution=True for shift_first_model_year\n"
     ]
    }
   ],
   "source": [
    "if mode == \"clone\":\n",
    "    scen_budget = scen.clone(model=scen.model, scenario=scen.scenario.replace(\"baseline\",budget), shift_first_model_year=2025)\n",
    "else:\n",
    "    scen_budget = message_ix.Scenario(mp, model=\"ENGAGE-MAGPIE_SSP2_v4.1.8.3_T4.5_r3.1\", scenario=budget)"
   ],
   "metadata": {
    "collapsed": false
   }
  },
  {
   "cell_type": "code",
   "execution_count": null,
   "outputs": [],
   "source": [
    "if mode == \"clone\":\n",
    "    scen_budget = scen.clone(model=\"ENGAGE-MAGPIE_SSP2_v4.1.8.3_T4.5_r3.1\", scenario=budget, keep_solution=False,\n",
    "            shift_first_model_year=2025)\n",
    "else:\n",
    "    scen_budget = message_ix.Scenario(mp, model=\"ENGAGE-MAGPIE_SSP2_v4.1.8.3_T4.5_r3.1\", scenario=budget)"
   ],
   "metadata": {
    "collapsed": false
   }
  },
  {
   "cell_type": "code",
   "execution_count": 28,
   "outputs": [
    {
     "data": {
      "text/plain": "     type_year  year\n0   cumulative  2025\n1   cumulative  2030\n2   cumulative  2035\n3   cumulative  2040\n4   cumulative  2045\n5   cumulative  2050\n6   cumulative  2055\n7   cumulative  2060\n8   cumulative  2070\n9   cumulative  2080\n10  cumulative  2090\n11  cumulative  2100\n12  cumulative  2110",
      "text/html": "<div>\n<style scoped>\n    .dataframe tbody tr th:only-of-type {\n        vertical-align: middle;\n    }\n\n    .dataframe tbody tr th {\n        vertical-align: top;\n    }\n\n    .dataframe thead th {\n        text-align: right;\n    }\n</style>\n<table border=\"1\" class=\"dataframe\">\n  <thead>\n    <tr style=\"text-align: right;\">\n      <th></th>\n      <th>type_year</th>\n      <th>year</th>\n    </tr>\n  </thead>\n  <tbody>\n    <tr>\n      <th>0</th>\n      <td>cumulative</td>\n      <td>2025</td>\n    </tr>\n    <tr>\n      <th>1</th>\n      <td>cumulative</td>\n      <td>2030</td>\n    </tr>\n    <tr>\n      <th>2</th>\n      <td>cumulative</td>\n      <td>2035</td>\n    </tr>\n    <tr>\n      <th>3</th>\n      <td>cumulative</td>\n      <td>2040</td>\n    </tr>\n    <tr>\n      <th>4</th>\n      <td>cumulative</td>\n      <td>2045</td>\n    </tr>\n    <tr>\n      <th>5</th>\n      <td>cumulative</td>\n      <td>2050</td>\n    </tr>\n    <tr>\n      <th>6</th>\n      <td>cumulative</td>\n      <td>2055</td>\n    </tr>\n    <tr>\n      <th>7</th>\n      <td>cumulative</td>\n      <td>2060</td>\n    </tr>\n    <tr>\n      <th>8</th>\n      <td>cumulative</td>\n      <td>2070</td>\n    </tr>\n    <tr>\n      <th>9</th>\n      <td>cumulative</td>\n      <td>2080</td>\n    </tr>\n    <tr>\n      <th>10</th>\n      <td>cumulative</td>\n      <td>2090</td>\n    </tr>\n    <tr>\n      <th>11</th>\n      <td>cumulative</td>\n      <td>2100</td>\n    </tr>\n    <tr>\n      <th>12</th>\n      <td>cumulative</td>\n      <td>2110</td>\n    </tr>\n  </tbody>\n</table>\n</div>"
     },
     "execution_count": 28,
     "metadata": {},
     "output_type": "execute_result"
    }
   ],
   "source": [
    "extra = scen_budget.set(\"cat_year\", {\"type_year\": \"cumulative\", \"year\": [2020, 2015, 2010]})\n",
    "scen_budget.check_out()\n",
    "scen_budget.remove_set(\"cat_year\", extra)\n",
    "scen_budget.commit(\"remove cumulative years from cat_year set\")\n",
    "scen_budget.set(\"cat_year\", {\"type_year\": \"cumulative\"})"
   ],
   "metadata": {
    "collapsed": false
   }
  },
  {
   "cell_type": "code",
   "execution_count": 29,
   "outputs": [
    {
     "data": {
      "text/plain": "    node type_emission type_tec   type_year   value unit\n0  World           TCE      all  cumulative  2605.0  ???",
      "text/html": "<div>\n<style scoped>\n    .dataframe tbody tr th:only-of-type {\n        vertical-align: middle;\n    }\n\n    .dataframe tbody tr th {\n        vertical-align: top;\n    }\n\n    .dataframe thead th {\n        text-align: right;\n    }\n</style>\n<table border=\"1\" class=\"dataframe\">\n  <thead>\n    <tr style=\"text-align: right;\">\n      <th></th>\n      <th>node</th>\n      <th>type_emission</th>\n      <th>type_tec</th>\n      <th>type_year</th>\n      <th>value</th>\n      <th>unit</th>\n    </tr>\n  </thead>\n  <tbody>\n    <tr>\n      <th>0</th>\n      <td>World</td>\n      <td>TCE</td>\n      <td>all</td>\n      <td>cumulative</td>\n      <td>2605.0</td>\n      <td>???</td>\n    </tr>\n  </tbody>\n</table>\n</div>"
     },
     "execution_count": 29,
     "metadata": {},
     "output_type": "execute_result"
    }
   ],
   "source": [
    "emission_dict = {\n",
    "            \"node\": \"World\",\n",
    "            \"type_emission\": \"TCE\",\n",
    "            \"type_tec\": \"all\",\n",
    "            \"type_year\": \"cumulative\",\n",
    "            \"unit\": \"???\",\n",
    "        }\n",
    "if budget == \"1000f\":\n",
    "    value = 4046\n",
    "if budget == \"600f\":\n",
    "    value = 2605\n",
    "\n",
    "df = message_ix.make_df(\n",
    "    \"bound_emission\", value=value, **emission_dict\n",
    ")\n",
    "scen_budget.check_out()\n",
    "scen_budget.add_par(\"bound_emission\", df)\n",
    "scen_budget.commit(\"add emission bound\")\n",
    "scen_budget.par(\"bound_emission\")"
   ],
   "metadata": {
    "collapsed": false
   }
  },
  {
   "cell_type": "code",
   "execution_count": 31,
   "outputs": [],
   "source": [
    "scen_budget.solve(model=\"MESSAGE-MACRO\")"
   ],
   "metadata": {
    "collapsed": false
   }
  },
  {
   "cell_type": "markdown",
   "source": [
    "## reporting"
   ],
   "metadata": {
    "collapsed": false
   }
  },
  {
   "cell_type": "code",
   "execution_count": 3,
   "outputs": [],
   "source": [
    "df = mp.scenario_list()"
   ],
   "metadata": {
    "collapsed": false
   }
  },
  {
   "cell_type": "code",
   "execution_count": 12,
   "outputs": [],
   "source": [
    "import pyperclip"
   ],
   "metadata": {
    "collapsed": false
   }
  },
  {
   "cell_type": "code",
   "execution_count": 21,
   "outputs": [],
   "source": [
    "scen_list = str(df[df[\"model\"]==\"MESSAGEix-GLOBIOM 1.1-R12-MAGPIE\"].sort_values(\"cre_date\")[\"scenario\"].tolist())"
   ],
   "metadata": {
    "collapsed": false
   }
  },
  {
   "cell_type": "code",
   "execution_count": 22,
   "outputs": [],
   "source": [
    "pyperclip.copy(scen_list)"
   ],
   "metadata": {
    "collapsed": false
   }
  },
  {
   "cell_type": "code",
   "execution_count": 3,
   "outputs": [],
   "source": [
    "model_name = \"MESSAGEix-GLOBIOM 1.1-R12-MAGPIE\""
   ],
   "metadata": {
    "collapsed": false
   }
  },
  {
   "cell_type": "code",
   "execution_count": 3,
   "outputs": [],
   "source": [
    "rep_list = ['baseline_MP76BD0BI78test_scp', '600f_MP76BD0BI78test_scp', 'baseline_MP76BD1BI00test_scp', '600f_MP76BD1BI00test_scp']\n",
    "# 'baseline_MP76BD0BI70' still to build scp and 600f"
   ],
   "metadata": {
    "collapsed": false
   }
  },
  {
   "cell_type": "code",
   "execution_count": 7,
   "outputs": [
    {
     "data": {
      "text/plain": "True"
     },
     "execution_count": 7,
     "metadata": {},
     "output_type": "execute_result"
    }
   ],
   "source": [
    "scen = message_ix.Scenario(mp, model_name, \"1000f_MP00BD0BI78_test_calib_macro\")\n",
    "scen.has_solution()"
   ],
   "metadata": {
    "collapsed": false
   }
  },
  {
   "cell_type": "code",
   "execution_count": 10,
   "outputs": [],
   "source": [
    "from message_data.tools.post_processing.iamc_report_hackathon import report as reporting"
   ],
   "metadata": {
    "collapsed": false
   }
  },
  {
   "cell_type": "code",
   "execution_count": 5,
   "outputs": [
    {
     "name": "stdout",
     "output_type": "stream",
     "text": [
      "baseline_MP76BD0BI78\n",
      "600f_MP76BD0BI78\n",
      "baseline_MP76BD1BI00\n",
      "600f_MP76BD1BI00\n"
     ]
    }
   ],
   "source": [
    "for scen_name in rep_list:\n",
    "    print(scen_name.replace(\"test_scp\", \"\"))"
   ],
   "metadata": {
    "collapsed": false
   }
  },
  {
   "cell_type": "code",
   "execution_count": 7,
   "outputs": [
    {
     "data": {
      "text/plain": "['baseline_MP76BD1BI00test_scp', '600f_MP76BD1BI00test_scp']"
     },
     "execution_count": 7,
     "metadata": {},
     "output_type": "execute_result"
    }
   ],
   "source": [
    "rep_list[2:]"
   ],
   "metadata": {
    "collapsed": false
   }
  },
  {
   "cell_type": "code",
   "execution_count": 8,
   "outputs": [
    {
     "ename": "NameError",
     "evalue": "name 'rep_list' is not defined",
     "output_type": "error",
     "traceback": [
      "\u001B[1;31m---------------------------------------------------------------------------\u001B[0m",
      "\u001B[1;31mNameError\u001B[0m                                 Traceback (most recent call last)",
      "Input \u001B[1;32mIn [8]\u001B[0m, in \u001B[0;36m<cell line: 1>\u001B[1;34m()\u001B[0m\n\u001B[1;32m----> 1\u001B[0m \u001B[38;5;28;01mfor\u001B[39;00m scen_name \u001B[38;5;129;01min\u001B[39;00m \u001B[43mrep_list\u001B[49m[\u001B[38;5;241m2\u001B[39m:]:\n\u001B[0;32m      2\u001B[0m     scen \u001B[38;5;241m=\u001B[39m message_ix\u001B[38;5;241m.\u001B[39mScenario(mp, model_name, scen_name)\n\u001B[0;32m      3\u001B[0m     reporting(\n\u001B[0;32m      4\u001B[0m         mp,\n\u001B[0;32m      5\u001B[0m         scen,\n\u001B[1;32m   (...)\u001B[0m\n\u001B[0;32m     13\u001B[0m         \u001B[38;5;66;03m#run_config=\"materials_run_config.yaml\",\u001B[39;00m\n\u001B[0;32m     14\u001B[0m     )\n",
      "\u001B[1;31mNameError\u001B[0m: name 'rep_list' is not defined"
     ]
    }
   ],
   "source": [
    "for scen_name in rep_list[2:]:\n",
    "    scen = message_ix.Scenario(mp, model_name, scen_name)\n",
    "    reporting(\n",
    "        mp,\n",
    "        scen,\n",
    "        # NB(PNK) this is not an error; .iamc_report_hackathon.report() expects a\n",
    "        #         string containing \"True\" or \"False\" instead of an actual bool.\n",
    "        \"False\",\n",
    "        scen.model,\n",
    "        scen_name.replace(\"_test_calib_macro\", \"\"),\n",
    "        merge_hist=True,\n",
    "        merge_ts=True,\n",
    "        #run_config=\"materials_run_config.yaml\",\n",
    "    )"
   ],
   "metadata": {
    "collapsed": false
   }
  },
  {
   "cell_type": "code",
   "execution_count": 12,
   "outputs": [
    {
     "name": "stdout",
     "output_type": "stream",
     "text": [
      "processing Table: Resource|Extraction\n",
      "processing Table: Resource|Cumulative Extraction\n",
      "processing Table: Primary Energy\n",
      "processing Table: Primary Energy (substitution method)\n",
      "processing Table: Final Energy\n",
      "processing Table: Secondary Energy|Electricity\n",
      "processing Table: Secondary Energy|Heat\n",
      "processing Table: Secondary Energy\n",
      "processing Table: Secondary Energy|Gases\n",
      "processing Table: Secondary Energy|Solids\n",
      "processing Table: Emissions|CO2\n",
      "processing Table: Carbon Sequestration\n",
      "processing Table: Emissions|BC\n",
      "processing Table: Emissions|OC\n",
      "processing Table: Emissions|CO\n",
      "processing Table: Emissions|N2O\n",
      "processing Table: Emissions|CH4\n",
      "processing Table: Emissions|NH3\n",
      "processing Table: Emissions|Sulfur\n",
      "processing Table: Emissions|NOx\n",
      "processing Table: Emissions|VOC\n",
      "processing Table: Emissions|HFC\n",
      "processing Table: Emissions\n",
      "processing Table: Emissions\n",
      "processing Table: Agricultural Demand\n",
      "processing Table: Agricultural Production\n",
      "processing Table: Fertilizer Use\n",
      "processing Table: Fertilizer\n",
      "processing Table: Food Waste\n",
      "processing Table: Food Demand\n",
      "processing Table: Forestry Demand\n",
      "processing Table: Forestry Production\n",
      "processing Table: Land Cover\n",
      "processing Table: Yield\n",
      "processing Table: Capacity\n",
      "processing Table: Capacity Additions\n",
      "processing Table: Cumulative Capacity\n",
      "processing Table: Capital Cost\n",
      "processing Table: OM Cost|Fixed\n",
      "processing Table: OM Cost|Variable\n",
      "processing Table: Lifetime\n",
      "processing Table: Efficiency\n",
      "processing Table: Population\n",
      "processing Table: Price\n",
      "processing Table: Useful Energy\n",
      "processing Table: Useful Energy\n",
      "processing Table: Trade\n",
      "processing Table: Investment|Energy Supply\n",
      "processing Table: Water Consumption\n",
      "processing Table: Water Withdrawal\n",
      "processing Table: GDP\n",
      "processing Table: Cost\n",
      "processing Table: GLOBIOM Feedback\n",
      "Starting to upload timeseries\n",
      "    region                                variable   unit       2025  \\\n",
      "0  R12_AFR                     Resource|Extraction  EJ/yr  17.710206   \n",
      "1  R12_AFR                Resource|Extraction|Coal  EJ/yr   2.964129   \n",
      "2  R12_AFR                 Resource|Extraction|Gas  EJ/yr   6.834491   \n",
      "3  R12_AFR    Resource|Extraction|Gas|Conventional  EJ/yr   6.834491   \n",
      "4  R12_AFR  Resource|Extraction|Gas|Unconventional  EJ/yr   0.000000   \n",
      "\n",
      "        2030       2035       2040       2045       2050       2055  \\\n",
      "0  14.190102  13.207377  12.677562  12.923691  13.127013  15.616553   \n",
      "1   0.686702   0.192814   0.000340   0.000170   0.001140   0.000000   \n",
      "2   7.515499   8.521001   9.343876  10.490576  11.391426  14.423792   \n",
      "3   7.515499   8.521001   9.343876  10.490576  11.391426  14.423792   \n",
      "4   0.000000   0.000000   0.000000   0.000000   0.000000   0.000000   \n",
      "\n",
      "        2060       2070      2080      2090      2100      2110  \n",
      "0  15.670154  14.318625  8.187958  4.633826  2.532917  1.246648  \n",
      "1   0.000000   0.000000  0.000000  0.000000  0.000000  0.000000  \n",
      "2  14.897350  14.123627  8.187064  4.632625  2.530546  1.243462  \n",
      "3  14.897350  14.123627  8.187064  4.632625  2.530546  1.243462  \n",
      "4   0.000000   0.000000  0.000000  0.000000  0.000000  0.000000  \n",
      "Finished uploading timeseries\n"
     ]
    }
   ],
   "source": [
    "reporting(\n",
    "    mp,\n",
    "    scen,\n",
    "    # NB(PNK) this is not an error; .iamc_report_hackathon.report() expects a\n",
    "    #         string containing \"True\" or \"False\" instead of an actual bool.\n",
    "    \"False\",\n",
    "    scen.model,\n",
    "    scen.scenario.replace(\"_test_calib_macro\", \"\"),\n",
    "    merge_hist=True,\n",
    "    merge_ts=True,\n",
    "    #run_config=\"materials_run_config.yaml\",\n",
    ")"
   ],
   "metadata": {
    "collapsed": false
   }
  }
 ],
 "metadata": {
  "kernelspec": {
   "display_name": "Python 3",
   "language": "python",
   "name": "python3"
  },
  "language_info": {
   "codemirror_mode": {
    "name": "ipython",
    "version": 2
   },
   "file_extension": ".py",
   "mimetype": "text/x-python",
   "name": "python",
   "nbconvert_exporter": "python",
   "pygments_lexer": "ipython2",
   "version": "2.7.6"
  }
 },
 "nbformat": 4,
 "nbformat_minor": 0
}
