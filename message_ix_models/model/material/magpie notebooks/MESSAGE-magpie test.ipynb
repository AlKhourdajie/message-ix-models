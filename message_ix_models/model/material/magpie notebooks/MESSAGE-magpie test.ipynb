{
 "cells": [
  {
   "cell_type": "markdown",
   "source": [
    "# MAGPIE setup baseline"
   ],
   "metadata": {
    "collapsed": false
   }
  },
  {
   "cell_type": "code",
   "execution_count": 1,
   "outputs": [
    {
     "data": {
      "text/plain": "<IPython.core.display.Javascript object>",
      "application/javascript": "if (typeof IPython !== 'undefined') { IPython.OutputArea.prototype._should_scroll = function(lines){ return false; }}"
     },
     "metadata": {},
     "output_type": "display_data"
    },
    {
     "data": {
      "text/plain": "<module 'message_data.tools.utilities' from 'C:\\\\Users\\\\maczek\\\\PycharmProjects\\\\message_data\\\\message_data\\\\tools\\\\utilities\\\\__init__.py'>"
     },
     "execution_count": 1,
     "metadata": {},
     "output_type": "execute_result"
    }
   ],
   "source": [
    "import ixmp\n",
    "import message_ix\n",
    "from message_data.tools.utilities import calibrate_UE_gr_to_demand, add_globiom, transfer_demands\n",
    "from message_ix_models.util import private_data_path\n",
    "import message_data\n",
    "import importlib\n",
    "importlib.reload(message_data.tools.utilities)"
   ],
   "metadata": {
    "collapsed": false,
    "ExecuteTime": {
     "end_time": "2023-10-03T12:03:36.363202200Z",
     "start_time": "2023-10-03T12:03:20.633202800Z"
    }
   }
  },
  {
   "cell_type": "code",
   "execution_count": 2,
   "outputs": [
    {
     "ename": "ModuleNotFoundError",
     "evalue": "No module named 'data_scp'",
     "output_type": "error",
     "traceback": [
      "\u001B[1;31m---------------------------------------------------------------------------\u001B[0m",
      "\u001B[1;31mModuleNotFoundError\u001B[0m                       Traceback (most recent call last)",
      "Input \u001B[1;32mIn [2]\u001B[0m, in \u001B[0;36m<cell line: 1>\u001B[1;34m()\u001B[0m\n\u001B[1;32m----> 1\u001B[0m \u001B[38;5;28;01mimport\u001B[39;00m \u001B[38;5;21;01mdata_scp\u001B[39;00m\n\u001B[0;32m      2\u001B[0m \u001B[38;5;28;01mimport\u001B[39;00m \u001B[38;5;21;01mimportlib\u001B[39;00m\n\u001B[0;32m      3\u001B[0m importlib\u001B[38;5;241m.\u001B[39mreload(data_scp)\n",
      "\u001B[1;31mModuleNotFoundError\u001B[0m: No module named 'data_scp'"
     ]
    }
   ],
   "source": [
    "import data_scp\n",
    "import importlib\n",
    "importlib.reload(data_scp)"
   ],
   "metadata": {
    "collapsed": false,
    "ExecuteTime": {
     "end_time": "2023-10-03T12:03:36.942308700Z",
     "start_time": "2023-10-03T12:03:36.336284800Z"
    }
   }
  },
  {
   "cell_type": "code",
   "execution_count": 2,
   "outputs": [
    {
     "ename": "NameError",
     "evalue": "name 'scen' is not defined",
     "output_type": "error",
     "traceback": [
      "\u001B[1;31m---------------------------------------------------------------------------\u001B[0m",
      "\u001B[1;31mNameError\u001B[0m                                 Traceback (most recent call last)",
      "Input \u001B[1;32mIn [2]\u001B[0m, in \u001B[0;36m<cell line: 1>\u001B[1;34m()\u001B[0m\n\u001B[1;32m----> 1\u001B[0m df \u001B[38;5;241m=\u001B[39m \u001B[43mscen\u001B[49m\u001B[38;5;241m.\u001B[39mtimeseries()\n\u001B[0;32m      2\u001B[0m df\u001B[38;5;241m.\u001B[39myear\u001B[38;5;241m.\u001B[39munique()\n",
      "\u001B[1;31mNameError\u001B[0m: name 'scen' is not defined"
     ]
    }
   ],
   "source": [
    "df = scen.timeseries()\n",
    "df.year.unique()"
   ],
   "metadata": {
    "collapsed": false
   }
  },
  {
   "cell_type": "code",
   "execution_count": 4,
   "outputs": [],
   "source": [
    "mp = ixmp.Platform(\"ixmp_dev\")"
   ],
   "metadata": {
    "collapsed": false,
    "ExecuteTime": {
     "end_time": "2023-10-03T12:04:20.124790500Z",
     "start_time": "2023-10-03T12:04:13.917186600Z"
    }
   }
  },
  {
   "cell_type": "code",
   "execution_count": 4,
   "outputs": [],
   "source": [
    "df = mp.scenario_list()"
   ],
   "metadata": {
    "collapsed": false
   }
  },
  {
   "cell_type": "code",
   "execution_count": 7,
   "outputs": [
    {
     "data": {
      "text/plain": "array(['ENGAGE-MAGPIE_SSP2', 'ENGAGE-MAGPIE_SSP2_v4.1.8.3_T4.5_r3.1',\n       'ENGAGE_SSP2_MAGPIE_SCP', 'ENGAGE_SSP2_PtX_FL', 'ENGAGE_SSP2_test',\n       'ENGAGE_SSP2_test_FL', 'ENGAGE_SSP2_v1', 'ENGAGE_SSP2_v2',\n       'ENGAGE_SSP2_v2.1', 'ENGAGE_SSP2_v2_test', 'ENGAGE_SSP2_v4',\n       'ENGAGE_SSP2_v4.1', 'ENGAGE_SSP2_v4.1.1', 'ENGAGE_SSP2_v4.1.2',\n       'ENGAGE_SSP2_v4.1.2_NAV_test', 'ENGAGE_SSP2_v4.1.2_R12',\n       'ENGAGE_SSP2_v4.1.2_sens', 'ENGAGE_SSP2_v4.1.3',\n       'ENGAGE_SSP2_v4.1.4', 'ENGAGE_SSP2_v4.1.4_BZ',\n       'ENGAGE_SSP2_v4.1.4_DAC_PtX_FL', 'ENGAGE_SSP2_v4.1.4_FG',\n       'ENGAGE_SSP2_v4.1.4_R12_CHN', 'ENGAGE_SSP2_v4.1.4_R12_CHN_FG',\n       'ENGAGE_SSP2_v4.1.4_R12_CHN_FG_test', 'ENGAGE_SSP2_v4.1.4_R12_NOR',\n       'ENGAGE_SSP2_v4.1.4_sens', 'ENGAGE_SSP2_v4.1.5',\n       'ENGAGE_SSP2_v4.1.6', 'ENGAGE_SSP2_v4.1.7',\n       'ENGAGE_SSP2_v4.1.7 +transport', 'ENGAGE_SSP2_v4.1.7_DR10p',\n       'ENGAGE_SSP2_v4.1.7_DR1p', 'ENGAGE_SSP2_v4.1.7_DR_10p',\n       'ENGAGE_SSP2_v4.1.7_DR_1p', 'ENGAGE_SSP2_v4.1.7_DR_2p',\n       'ENGAGE_SSP2_v4.1.7_DR_3p', 'ENGAGE_SSP2_v4.1.7_DR_4p',\n       'ENGAGE_SSP2_v4.1.7_GLOBIOMupd', 'ENGAGE_SSP2_v4.1.7_R12',\n       'ENGAGE_SSP2_v4.1.7_R12_CHN', 'ENGAGE_SSP2_v4.1.7_R12_CHN_FG',\n       'ENGAGE_SSP2_v4.1.7_R12_CHN_FG_test', 'ENGAGE_SSP2_v4.1.7_T4.5',\n       'ENGAGE_SSP2_v4.1.7_T4.5_r1', 'ENGAGE_SSP2_v4.1.7_T4.5_r2',\n       'ENGAGE_SSP2_v4.1.7_T4.5_r3', 'ENGAGE_SSP2_v4.1.7_T4.5_r3.1',\n       'ENGAGE_SSP2_v4.1.7_T4.5_r3.1_test',\n       'ENGAGE_SSP2_v4.1.7_T4.5_r3.1_test1',\n       'ENGAGE_SSP2_v4.1.7_T4.5_r3.2', 'ENGAGE_SSP2_v4.1.7_WAT',\n       'ENGAGE_SSP2_v4.1.7_ar5_gwp100', 'ENGAGE_SSP2_v4.1.7_clean',\n       'ENGAGE_SSP2_v4.1.7_clean_FG', 'ENGAGE_SSP2_v4.1.7_clean_R4',\n       'ENGAGE_SSP2_v4.1.7_clean_R4_t12', 'ENGAGE_SSP2_v4.1.7_clean_t12',\n       'ENGAGE_SSP2_v4.1.7_t12', 'ENGAGE_SSP2_v4.1.7_test',\n       'ENGAGE_SSP2_v4.1.7_wat', 'ENGAGE_SSP2_v4.1.7_wat_wat',\n       'ENGAGE_SSP2_v4.1.8', 'ENGAGE_SSP2_v4.1.8.1',\n       'ENGAGE_SSP2_v4.1.8.1_test', 'ENGAGE_SSP2_v4.1.8.2',\n       'ENGAGE_SSP2_v4.1.8.2_test', 'ENGAGE_SSP2_v4.1.8.3',\n       'ENGAGE_SSP2_v4.1.8.3.1_T3.4_r3.1',\n       'ENGAGE_SSP2_v4.1.8.3.1_T3.4v2_r3.1',\n       'ENGAGE_SSP2_v4.1.8.3.1_T4.5_r3.1',\n       'ENGAGE_SSP2_v4.1.8.3.1_T4.5_r3.1_fe_h2_reporting',\n       'ENGAGE_SSP2_v4.1.8.3.1_T4.5_r3.1_test',\n       'ENGAGE_SSP2_v4.1.8.3.1_T4.5v2_r3.1',\n       'ENGAGE_SSP2_v4.1.8.3.1_test_T4.5_r3.1',\n       'ENGAGE_SSP2_v4.1.8.3_T4.5_r3.1', 'ENGAGE_SSP2_v4.1.8.3_test',\n       'ENGAGE_SSP2_v4.1.8.4', 'ENGAGE_SSP2_v4.1.8.5',\n       'ENGAGE_SSP2_v4.1.8_JT', 'ENGAGE_SSP2_v4.1.8_T4.5_test',\n       'ENGAGE_SSP2_v4.1.8_T4.5_test_test', 'ENGAGE_SSP2_v4.1.8_t12',\n       'ENGAGE_SSP2_v4_test', 'ENGAGE_V417_FG', 'ENGAGE_Yoga',\n       'ENGAGE_baseline_jsk', 'ENGAGE_experimental',\n       'ENGAGE_test_hydro_v4.1.7', 'ENGAGE_test_hydro_v4.1.8',\n       'ENGAGE_v4.1.7_SSP2_DAC_PtX_FL'], dtype=object)"
     },
     "execution_count": 7,
     "metadata": {},
     "output_type": "execute_result"
    }
   ],
   "source": [
    "df[df[\"model\"].str.startswith(\"ENGAGE\")].model.unique()"
   ],
   "metadata": {
    "collapsed": false
   }
  },
  {
   "cell_type": "code",
   "execution_count": 11,
   "outputs": [],
   "source": [
    "scen = message_ix.Scenario(mp, \"MESSAGEix-Materials\", \"baseline_DEFAULT_0108\")"
   ],
   "metadata": {
    "collapsed": false
   }
  },
  {
   "cell_type": "code",
   "execution_count": 13,
   "outputs": [],
   "source": [
    "df = scen.set(\"balance_equality\")"
   ],
   "metadata": {
    "collapsed": false
   }
  },
  {
   "cell_type": "code",
   "execution_count": 16,
   "outputs": [],
   "source": [
    "df_eth = df[df[\"commodity\"]==\"methanol\"]"
   ],
   "metadata": {
    "collapsed": false
   }
  },
  {
   "cell_type": "code",
   "execution_count": 18,
   "outputs": [],
   "source": [
    "df_eth[\"commodity\"] = \"ethanol\""
   ],
   "metadata": {
    "collapsed": false
   }
  },
  {
   "cell_type": "code",
   "execution_count": 22,
   "outputs": [],
   "source": [
    "df_eth = df_eth[~df_eth.level.str.contains(\"fs\")]"
   ],
   "metadata": {
    "collapsed": false
   }
  },
  {
   "cell_type": "code",
   "execution_count": 23,
   "outputs": [
    {
     "data": {
      "text/plain": "    commodity   level\n151   ethanol  export\n153   ethanol  import\n155   ethanol   final",
      "text/html": "<div>\n<style scoped>\n    .dataframe tbody tr th:only-of-type {\n        vertical-align: middle;\n    }\n\n    .dataframe tbody tr th {\n        vertical-align: top;\n    }\n\n    .dataframe thead th {\n        text-align: right;\n    }\n</style>\n<table border=\"1\" class=\"dataframe\">\n  <thead>\n    <tr style=\"text-align: right;\">\n      <th></th>\n      <th>commodity</th>\n      <th>level</th>\n    </tr>\n  </thead>\n  <tbody>\n    <tr>\n      <th>151</th>\n      <td>ethanol</td>\n      <td>export</td>\n    </tr>\n    <tr>\n      <th>153</th>\n      <td>ethanol</td>\n      <td>import</td>\n    </tr>\n    <tr>\n      <th>155</th>\n      <td>ethanol</td>\n      <td>final</td>\n    </tr>\n  </tbody>\n</table>\n</div>"
     },
     "execution_count": 23,
     "metadata": {},
     "output_type": "execute_result"
    }
   ],
   "source": [
    "df_eth"
   ],
   "metadata": {
    "collapsed": false
   }
  },
  {
   "cell_type": "code",
   "execution_count": 35,
   "outputs": [
    {
     "data": {
      "text/plain": "       commodity   level\n0    BIO01GHG000      LU\n1    BIO02GHG000      LU\n2    BIO03GHG000      LU\n3    BIO04GHG000      LU\n4    BIO05GHG000      LU\n..           ...     ...\n130  BIO60GHG400      LU\n131  BIO60GHG600      LU\n132      ethanol  export\n133      ethanol  import\n134      ethanol   final\n\n[135 rows x 2 columns]",
      "text/html": "<div>\n<style scoped>\n    .dataframe tbody tr th:only-of-type {\n        vertical-align: middle;\n    }\n\n    .dataframe tbody tr th {\n        vertical-align: top;\n    }\n\n    .dataframe thead th {\n        text-align: right;\n    }\n</style>\n<table border=\"1\" class=\"dataframe\">\n  <thead>\n    <tr style=\"text-align: right;\">\n      <th></th>\n      <th>commodity</th>\n      <th>level</th>\n    </tr>\n  </thead>\n  <tbody>\n    <tr>\n      <th>0</th>\n      <td>BIO01GHG000</td>\n      <td>LU</td>\n    </tr>\n    <tr>\n      <th>1</th>\n      <td>BIO02GHG000</td>\n      <td>LU</td>\n    </tr>\n    <tr>\n      <th>2</th>\n      <td>BIO03GHG000</td>\n      <td>LU</td>\n    </tr>\n    <tr>\n      <th>3</th>\n      <td>BIO04GHG000</td>\n      <td>LU</td>\n    </tr>\n    <tr>\n      <th>4</th>\n      <td>BIO05GHG000</td>\n      <td>LU</td>\n    </tr>\n    <tr>\n      <th>...</th>\n      <td>...</td>\n      <td>...</td>\n    </tr>\n    <tr>\n      <th>130</th>\n      <td>BIO60GHG400</td>\n      <td>LU</td>\n    </tr>\n    <tr>\n      <th>131</th>\n      <td>BIO60GHG600</td>\n      <td>LU</td>\n    </tr>\n    <tr>\n      <th>132</th>\n      <td>ethanol</td>\n      <td>export</td>\n    </tr>\n    <tr>\n      <th>133</th>\n      <td>ethanol</td>\n      <td>import</td>\n    </tr>\n    <tr>\n      <th>134</th>\n      <td>ethanol</td>\n      <td>final</td>\n    </tr>\n  </tbody>\n</table>\n<p>135 rows × 2 columns</p>\n</div>"
     },
     "execution_count": 35,
     "metadata": {},
     "output_type": "execute_result"
    }
   ],
   "source": [
    "scen_new.set(\"balance_equality\")"
   ],
   "metadata": {
    "collapsed": false
   }
  },
  {
   "cell_type": "code",
   "execution_count": 38,
   "outputs": [],
   "source": [
    "scen_new.check_out()"
   ],
   "metadata": {
    "collapsed": false
   }
  },
  {
   "cell_type": "code",
   "execution_count": 39,
   "outputs": [],
   "source": [
    "scen_new.add_set(\"balance_equality\", (\"ethanol\", \"primary\"))\n",
    "scen_new.add_set(\"balance_equality\", (\"ethanol\", \"secondary\"))"
   ],
   "metadata": {
    "collapsed": false
   }
  },
  {
   "cell_type": "code",
   "execution_count": 41,
   "outputs": [],
   "source": [
    "scen_new.commit(\"add further ethanol levels to bal_eq\")"
   ],
   "metadata": {
    "collapsed": false
   }
  },
  {
   "cell_type": "code",
   "execution_count": 43,
   "outputs": [],
   "source": [
    "scen_new.remove_solution()"
   ],
   "metadata": {
    "collapsed": false
   }
  },
  {
   "cell_type": "code",
   "execution_count": 25,
   "outputs": [],
   "source": [
    "scen_new = message_ix.Scenario(mp, \"MESSAGEix-GLOBIOM 1.1-R12-MAGPIE-MP50BD1BI00\", \"EN_NPi2020_500f\")"
   ],
   "metadata": {
    "collapsed": false
   }
  },
  {
   "cell_type": "code",
   "execution_count": 5,
   "outputs": [
    {
     "data": {
      "text/plain": "True"
     },
     "execution_count": 5,
     "metadata": {},
     "output_type": "execute_result"
    }
   ],
   "source": [
    "scen_new = message_ix.Scenario(mp, \"MESSAGEix-GLOBIOM 1.1-R12-MAGPIE-MP00BD1BI00\", \"cumu_cost_test_step7_1000f\")\n",
    "scen_new.has_solution()"
   ],
   "metadata": {
    "collapsed": false,
    "ExecuteTime": {
     "end_time": "2023-10-03T12:04:22.625833700Z",
     "start_time": "2023-10-03T12:04:20.127783400Z"
    }
   }
  },
  {
   "cell_type": "code",
   "execution_count": 6,
   "outputs": [],
   "source": [
    "df = scen_new.timeseries()"
   ],
   "metadata": {
    "collapsed": false,
    "ExecuteTime": {
     "end_time": "2023-10-03T12:04:50.109013400Z",
     "start_time": "2023-10-03T12:04:34.399154600Z"
    }
   }
  },
  {
   "cell_type": "code",
   "execution_count": 8,
   "outputs": [
    {
     "data": {
      "text/plain": "                  region       variable       unit  year         value  \\\n132                  CPA  Emissions|CO2  Mt CO2/yr  1990      0.000000   \n133                  CPA  Emissions|CO2  Mt CO2/yr  1995      0.000000   \n134                  CPA  Emissions|CO2  Mt CO2/yr  2000      0.000000   \n135                  CPA  Emissions|CO2  Mt CO2/yr  2005      0.000000   \n136                  CPA  Emissions|CO2  Mt CO2/yr  2010      0.000000   \n...                  ...            ...        ...   ...           ...   \n201441  GLB region (R12)  Emissions|CO2  Mt CO2/yr  2070   2569.568282   \n201442  GLB region (R12)  Emissions|CO2  Mt CO2/yr  2080  -8925.499016   \n201443  GLB region (R12)  Emissions|CO2  Mt CO2/yr  2090 -19558.089012   \n201444  GLB region (R12)  Emissions|CO2  Mt CO2/yr  2100 -20221.539211   \n201445  GLB region (R12)  Emissions|CO2  Mt CO2/yr  2110 -20562.001412   \n\n                                               model  \\\n132     MESSAGEix-GLOBIOM 1.1-R12-MAGPIE-MP00BD1BI00   \n133     MESSAGEix-GLOBIOM 1.1-R12-MAGPIE-MP00BD1BI00   \n134     MESSAGEix-GLOBIOM 1.1-R12-MAGPIE-MP00BD1BI00   \n135     MESSAGEix-GLOBIOM 1.1-R12-MAGPIE-MP00BD1BI00   \n136     MESSAGEix-GLOBIOM 1.1-R12-MAGPIE-MP00BD1BI00   \n...                                              ...   \n201441  MESSAGEix-GLOBIOM 1.1-R12-MAGPIE-MP00BD1BI00   \n201442  MESSAGEix-GLOBIOM 1.1-R12-MAGPIE-MP00BD1BI00   \n201443  MESSAGEix-GLOBIOM 1.1-R12-MAGPIE-MP00BD1BI00   \n201444  MESSAGEix-GLOBIOM 1.1-R12-MAGPIE-MP00BD1BI00   \n201445  MESSAGEix-GLOBIOM 1.1-R12-MAGPIE-MP00BD1BI00   \n\n                          scenario  \n132     cumu_cost_test_step7_1000f  \n133     cumu_cost_test_step7_1000f  \n134     cumu_cost_test_step7_1000f  \n135     cumu_cost_test_step7_1000f  \n136     cumu_cost_test_step7_1000f  \n...                            ...  \n201441  cumu_cost_test_step7_1000f  \n201442  cumu_cost_test_step7_1000f  \n201443  cumu_cost_test_step7_1000f  \n201444  cumu_cost_test_step7_1000f  \n201445  cumu_cost_test_step7_1000f  \n\n[266 rows x 7 columns]",
      "text/html": "<div>\n<style scoped>\n    .dataframe tbody tr th:only-of-type {\n        vertical-align: middle;\n    }\n\n    .dataframe tbody tr th {\n        vertical-align: top;\n    }\n\n    .dataframe thead th {\n        text-align: right;\n    }\n</style>\n<table border=\"1\" class=\"dataframe\">\n  <thead>\n    <tr style=\"text-align: right;\">\n      <th></th>\n      <th>region</th>\n      <th>variable</th>\n      <th>unit</th>\n      <th>year</th>\n      <th>value</th>\n      <th>model</th>\n      <th>scenario</th>\n    </tr>\n  </thead>\n  <tbody>\n    <tr>\n      <th>132</th>\n      <td>CPA</td>\n      <td>Emissions|CO2</td>\n      <td>Mt CO2/yr</td>\n      <td>1990</td>\n      <td>0.000000</td>\n      <td>MESSAGEix-GLOBIOM 1.1-R12-MAGPIE-MP00BD1BI00</td>\n      <td>cumu_cost_test_step7_1000f</td>\n    </tr>\n    <tr>\n      <th>133</th>\n      <td>CPA</td>\n      <td>Emissions|CO2</td>\n      <td>Mt CO2/yr</td>\n      <td>1995</td>\n      <td>0.000000</td>\n      <td>MESSAGEix-GLOBIOM 1.1-R12-MAGPIE-MP00BD1BI00</td>\n      <td>cumu_cost_test_step7_1000f</td>\n    </tr>\n    <tr>\n      <th>134</th>\n      <td>CPA</td>\n      <td>Emissions|CO2</td>\n      <td>Mt CO2/yr</td>\n      <td>2000</td>\n      <td>0.000000</td>\n      <td>MESSAGEix-GLOBIOM 1.1-R12-MAGPIE-MP00BD1BI00</td>\n      <td>cumu_cost_test_step7_1000f</td>\n    </tr>\n    <tr>\n      <th>135</th>\n      <td>CPA</td>\n      <td>Emissions|CO2</td>\n      <td>Mt CO2/yr</td>\n      <td>2005</td>\n      <td>0.000000</td>\n      <td>MESSAGEix-GLOBIOM 1.1-R12-MAGPIE-MP00BD1BI00</td>\n      <td>cumu_cost_test_step7_1000f</td>\n    </tr>\n    <tr>\n      <th>136</th>\n      <td>CPA</td>\n      <td>Emissions|CO2</td>\n      <td>Mt CO2/yr</td>\n      <td>2010</td>\n      <td>0.000000</td>\n      <td>MESSAGEix-GLOBIOM 1.1-R12-MAGPIE-MP00BD1BI00</td>\n      <td>cumu_cost_test_step7_1000f</td>\n    </tr>\n    <tr>\n      <th>...</th>\n      <td>...</td>\n      <td>...</td>\n      <td>...</td>\n      <td>...</td>\n      <td>...</td>\n      <td>...</td>\n      <td>...</td>\n    </tr>\n    <tr>\n      <th>201441</th>\n      <td>GLB region (R12)</td>\n      <td>Emissions|CO2</td>\n      <td>Mt CO2/yr</td>\n      <td>2070</td>\n      <td>2569.568282</td>\n      <td>MESSAGEix-GLOBIOM 1.1-R12-MAGPIE-MP00BD1BI00</td>\n      <td>cumu_cost_test_step7_1000f</td>\n    </tr>\n    <tr>\n      <th>201442</th>\n      <td>GLB region (R12)</td>\n      <td>Emissions|CO2</td>\n      <td>Mt CO2/yr</td>\n      <td>2080</td>\n      <td>-8925.499016</td>\n      <td>MESSAGEix-GLOBIOM 1.1-R12-MAGPIE-MP00BD1BI00</td>\n      <td>cumu_cost_test_step7_1000f</td>\n    </tr>\n    <tr>\n      <th>201443</th>\n      <td>GLB region (R12)</td>\n      <td>Emissions|CO2</td>\n      <td>Mt CO2/yr</td>\n      <td>2090</td>\n      <td>-19558.089012</td>\n      <td>MESSAGEix-GLOBIOM 1.1-R12-MAGPIE-MP00BD1BI00</td>\n      <td>cumu_cost_test_step7_1000f</td>\n    </tr>\n    <tr>\n      <th>201444</th>\n      <td>GLB region (R12)</td>\n      <td>Emissions|CO2</td>\n      <td>Mt CO2/yr</td>\n      <td>2100</td>\n      <td>-20221.539211</td>\n      <td>MESSAGEix-GLOBIOM 1.1-R12-MAGPIE-MP00BD1BI00</td>\n      <td>cumu_cost_test_step7_1000f</td>\n    </tr>\n    <tr>\n      <th>201445</th>\n      <td>GLB region (R12)</td>\n      <td>Emissions|CO2</td>\n      <td>Mt CO2/yr</td>\n      <td>2110</td>\n      <td>-20562.001412</td>\n      <td>MESSAGEix-GLOBIOM 1.1-R12-MAGPIE-MP00BD1BI00</td>\n      <td>cumu_cost_test_step7_1000f</td>\n    </tr>\n  </tbody>\n</table>\n<p>266 rows × 7 columns</p>\n</div>"
     },
     "execution_count": 8,
     "metadata": {},
     "output_type": "execute_result"
    }
   ],
   "source": [
    "df[df[\"variable\"]==\"Emissions|CO2\"]"
   ],
   "metadata": {
    "collapsed": false,
    "ExecuteTime": {
     "end_time": "2023-10-03T12:06:58.382788Z",
     "start_time": "2023-10-03T12:06:58.229677600Z"
    }
   }
  },
  {
   "cell_type": "code",
   "execution_count": 28,
   "outputs": [],
   "source": [
    "scen_new.remove_solution()"
   ],
   "metadata": {
    "collapsed": false
   }
  },
  {
   "cell_type": "code",
   "execution_count": 31,
   "outputs": [],
   "source": [
    "scen_new.check_out()\n",
    "scen_new.add_set(\"balance_equality\", df_eth)\n",
    "scen_new.commit(\"add equality to ethanol supply\")"
   ],
   "metadata": {
    "collapsed": false
   }
  },
  {
   "cell_type": "code",
   "execution_count": 44,
   "outputs": [],
   "source": [
    "scen_new.solve(\"MESSAGE-MACRO\")"
   ],
   "metadata": {
    "collapsed": false
   }
  },
  {
   "cell_type": "code",
   "execution_count": 8,
   "outputs": [
    {
     "data": {
      "text/plain": "                     model                         scenario   scheme  \\\n4390  ENGAGE_SSP2_v4.1.8.5                  EN_NPi2020_1000  MESSAGE   \n4391  ENGAGE_SSP2_v4.1.8.5           EN_NPi2020_1000_LU_fbk  MESSAGE   \n4392  ENGAGE_SSP2_v4.1.8.5            EN_NPi2020_1000_step1  MESSAGE   \n4393  ENGAGE_SSP2_v4.1.8.5            EN_NPi2020_1000_step2  MESSAGE   \n4394  ENGAGE_SSP2_v4.1.8.5                 EN_NPi2020_1000f  MESSAGE   \n...                    ...                              ...      ...   \n4483  ENGAGE_SSP2_v4.1.8.5             baseline_with_lu_bkp  MESSAGE   \n4484  ENGAGE_SSP2_v4.1.8.5               indci_low_dem_scen  MESSAGE   \n4485  ENGAGE_SSP2_v4.1.8.5                 npi_low_dem_scen  MESSAGE   \n4486  ENGAGE_SSP2_v4.1.8.5                npi_low_dem_scen2  MESSAGE   \n4487  ENGAGE_SSP2_v4.1.8.5  test to confirm MACRO converges  MESSAGE   \n\n      is_default  is_locked cre_user                    cre_date upd_user  \\\n4390           1          0   fricko  2023-07-12 10:58:00.000000   fricko   \n4391           1          0   fricko  2023-05-10 13:48:13.000000     None   \n4392           1          0   fricko  2023-07-12 10:13:53.000000   fricko   \n4393           1          0   fricko  2023-07-12 10:37:15.000000   fricko   \n4394           1          0   fricko  2023-07-12 13:13:05.000000   fricko   \n...          ...        ...      ...                         ...      ...   \n4483           1          0   fricko  2023-07-07 13:14:40.000000     None   \n4484           1          0   fricko  2023-07-07 22:19:40.000000   fricko   \n4485           1          0   fricko  2023-07-11 17:35:34.000000   fricko   \n4486           1          0   fricko  2023-07-11 18:08:18.000000   fricko   \n4487           1          0   fricko  2023-07-10 16:15:17.000000   fricko   \n\n                        upd_date lock_user lock_date  \\\n4390  2023-07-12 11:02:41.000000      None      None   \n4391                        None      None      None   \n4392  2023-07-12 10:21:09.000000      None      None   \n4393  2023-07-12 10:44:02.000000      None      None   \n4394  2023-07-12 13:28:49.000000      None      None   \n...                          ...       ...       ...   \n4483                        None      None      None   \n4484  2023-07-07 22:27:53.000000      None      None   \n4485  2023-07-11 17:51:18.000000      None      None   \n4486  2023-07-11 18:20:51.000000      None      None   \n4487  2023-07-10 16:18:01.000000      None      None   \n\n                                             annotation  version  \n4390  clone Scenario from 'ENGAGE_SSP2_v4.1.8.5|EN_N...        3  \n4391  clone Scenario from 'ENGAGE_SSP2_v4.1.8.5|EN_N...        3  \n4392  clone Scenario from 'ENGAGE_SSP2_v4.1.8.5|NPi2...        3  \n4393  clone Scenario from 'ENGAGE_SSP2_v4.1.8.5|EN_N...        6  \n4394  clone Scenario from 'ENGAGE_SSP2_v4.1.8.5|NPi2...        2  \n...                                                 ...      ...  \n4483  clone Scenario from 'ENGAGE_SSP2_v4.1.8.5|base...        2  \n4484  clone Scenario from 'ENGAGE_SSP2_v4.1.8.5|INDC...        1  \n4485  clone Scenario from 'ENGAGE_SSP2_v4.1.8.5|NPi2...        7  \n4486  clone Scenario from 'ENGAGE_SSP2_v4.1.8.5|NPi2...        3  \n4487  clone Scenario from 'ENGAGE_SSP2_v4.1.8.5|base...        8  \n\n[98 rows x 13 columns]",
      "text/html": "<div>\n<style scoped>\n    .dataframe tbody tr th:only-of-type {\n        vertical-align: middle;\n    }\n\n    .dataframe tbody tr th {\n        vertical-align: top;\n    }\n\n    .dataframe thead th {\n        text-align: right;\n    }\n</style>\n<table border=\"1\" class=\"dataframe\">\n  <thead>\n    <tr style=\"text-align: right;\">\n      <th></th>\n      <th>model</th>\n      <th>scenario</th>\n      <th>scheme</th>\n      <th>is_default</th>\n      <th>is_locked</th>\n      <th>cre_user</th>\n      <th>cre_date</th>\n      <th>upd_user</th>\n      <th>upd_date</th>\n      <th>lock_user</th>\n      <th>lock_date</th>\n      <th>annotation</th>\n      <th>version</th>\n    </tr>\n  </thead>\n  <tbody>\n    <tr>\n      <th>4390</th>\n      <td>ENGAGE_SSP2_v4.1.8.5</td>\n      <td>EN_NPi2020_1000</td>\n      <td>MESSAGE</td>\n      <td>1</td>\n      <td>0</td>\n      <td>fricko</td>\n      <td>2023-07-12 10:58:00.000000</td>\n      <td>fricko</td>\n      <td>2023-07-12 11:02:41.000000</td>\n      <td>None</td>\n      <td>None</td>\n      <td>clone Scenario from 'ENGAGE_SSP2_v4.1.8.5|EN_N...</td>\n      <td>3</td>\n    </tr>\n    <tr>\n      <th>4391</th>\n      <td>ENGAGE_SSP2_v4.1.8.5</td>\n      <td>EN_NPi2020_1000_LU_fbk</td>\n      <td>MESSAGE</td>\n      <td>1</td>\n      <td>0</td>\n      <td>fricko</td>\n      <td>2023-05-10 13:48:13.000000</td>\n      <td>None</td>\n      <td>None</td>\n      <td>None</td>\n      <td>None</td>\n      <td>clone Scenario from 'ENGAGE_SSP2_v4.1.8.5|EN_N...</td>\n      <td>3</td>\n    </tr>\n    <tr>\n      <th>4392</th>\n      <td>ENGAGE_SSP2_v4.1.8.5</td>\n      <td>EN_NPi2020_1000_step1</td>\n      <td>MESSAGE</td>\n      <td>1</td>\n      <td>0</td>\n      <td>fricko</td>\n      <td>2023-07-12 10:13:53.000000</td>\n      <td>fricko</td>\n      <td>2023-07-12 10:21:09.000000</td>\n      <td>None</td>\n      <td>None</td>\n      <td>clone Scenario from 'ENGAGE_SSP2_v4.1.8.5|NPi2...</td>\n      <td>3</td>\n    </tr>\n    <tr>\n      <th>4393</th>\n      <td>ENGAGE_SSP2_v4.1.8.5</td>\n      <td>EN_NPi2020_1000_step2</td>\n      <td>MESSAGE</td>\n      <td>1</td>\n      <td>0</td>\n      <td>fricko</td>\n      <td>2023-07-12 10:37:15.000000</td>\n      <td>fricko</td>\n      <td>2023-07-12 10:44:02.000000</td>\n      <td>None</td>\n      <td>None</td>\n      <td>clone Scenario from 'ENGAGE_SSP2_v4.1.8.5|EN_N...</td>\n      <td>6</td>\n    </tr>\n    <tr>\n      <th>4394</th>\n      <td>ENGAGE_SSP2_v4.1.8.5</td>\n      <td>EN_NPi2020_1000f</td>\n      <td>MESSAGE</td>\n      <td>1</td>\n      <td>0</td>\n      <td>fricko</td>\n      <td>2023-07-12 13:13:05.000000</td>\n      <td>fricko</td>\n      <td>2023-07-12 13:28:49.000000</td>\n      <td>None</td>\n      <td>None</td>\n      <td>clone Scenario from 'ENGAGE_SSP2_v4.1.8.5|NPi2...</td>\n      <td>2</td>\n    </tr>\n    <tr>\n      <th>...</th>\n      <td>...</td>\n      <td>...</td>\n      <td>...</td>\n      <td>...</td>\n      <td>...</td>\n      <td>...</td>\n      <td>...</td>\n      <td>...</td>\n      <td>...</td>\n      <td>...</td>\n      <td>...</td>\n      <td>...</td>\n      <td>...</td>\n    </tr>\n    <tr>\n      <th>4483</th>\n      <td>ENGAGE_SSP2_v4.1.8.5</td>\n      <td>baseline_with_lu_bkp</td>\n      <td>MESSAGE</td>\n      <td>1</td>\n      <td>0</td>\n      <td>fricko</td>\n      <td>2023-07-07 13:14:40.000000</td>\n      <td>None</td>\n      <td>None</td>\n      <td>None</td>\n      <td>None</td>\n      <td>clone Scenario from 'ENGAGE_SSP2_v4.1.8.5|base...</td>\n      <td>2</td>\n    </tr>\n    <tr>\n      <th>4484</th>\n      <td>ENGAGE_SSP2_v4.1.8.5</td>\n      <td>indci_low_dem_scen</td>\n      <td>MESSAGE</td>\n      <td>1</td>\n      <td>0</td>\n      <td>fricko</td>\n      <td>2023-07-07 22:19:40.000000</td>\n      <td>fricko</td>\n      <td>2023-07-07 22:27:53.000000</td>\n      <td>None</td>\n      <td>None</td>\n      <td>clone Scenario from 'ENGAGE_SSP2_v4.1.8.5|INDC...</td>\n      <td>1</td>\n    </tr>\n    <tr>\n      <th>4485</th>\n      <td>ENGAGE_SSP2_v4.1.8.5</td>\n      <td>npi_low_dem_scen</td>\n      <td>MESSAGE</td>\n      <td>1</td>\n      <td>0</td>\n      <td>fricko</td>\n      <td>2023-07-11 17:35:34.000000</td>\n      <td>fricko</td>\n      <td>2023-07-11 17:51:18.000000</td>\n      <td>None</td>\n      <td>None</td>\n      <td>clone Scenario from 'ENGAGE_SSP2_v4.1.8.5|NPi2...</td>\n      <td>7</td>\n    </tr>\n    <tr>\n      <th>4486</th>\n      <td>ENGAGE_SSP2_v4.1.8.5</td>\n      <td>npi_low_dem_scen2</td>\n      <td>MESSAGE</td>\n      <td>1</td>\n      <td>0</td>\n      <td>fricko</td>\n      <td>2023-07-11 18:08:18.000000</td>\n      <td>fricko</td>\n      <td>2023-07-11 18:20:51.000000</td>\n      <td>None</td>\n      <td>None</td>\n      <td>clone Scenario from 'ENGAGE_SSP2_v4.1.8.5|NPi2...</td>\n      <td>3</td>\n    </tr>\n    <tr>\n      <th>4487</th>\n      <td>ENGAGE_SSP2_v4.1.8.5</td>\n      <td>test to confirm MACRO converges</td>\n      <td>MESSAGE</td>\n      <td>1</td>\n      <td>0</td>\n      <td>fricko</td>\n      <td>2023-07-10 16:15:17.000000</td>\n      <td>fricko</td>\n      <td>2023-07-10 16:18:01.000000</td>\n      <td>None</td>\n      <td>None</td>\n      <td>clone Scenario from 'ENGAGE_SSP2_v4.1.8.5|base...</td>\n      <td>8</td>\n    </tr>\n  </tbody>\n</table>\n<p>98 rows × 13 columns</p>\n</div>"
     },
     "execution_count": 8,
     "metadata": {},
     "output_type": "execute_result"
    }
   ],
   "source": [
    "df[df[\"model\"].str.startswith(\"ENGAGE_SSP2_v4.1.8.5\") & (==\"EN_NPi2020_1000\")]"
   ],
   "metadata": {
    "collapsed": false
   }
  },
  {
   "cell_type": "code",
   "execution_count": 6,
   "outputs": [],
   "source": [
    "#scen = message_ix.Scenario(mp, \"MESSAGEix-GLOBIOM 1.1-R12-MAGPIE-MP00BD0BI70\", \"baseline\")\n",
    "scen = message_ix.Scenario(mp, \"MESSAGEix-GLOBIOM 1.1-R12-MAGPIE\", \"600f_MP00BD0BI78_test_calib_macro\")\n",
    "scen_base = message_ix.Scenario(mp, \"MESSAGEix-GLOBIOM 1.1-R12-MAGPIE\", \"1000f_MP00BD0BI78_test_calib_macro\")"
   ],
   "metadata": {
    "collapsed": false
   }
  },
  {
   "cell_type": "code",
   "execution_count": 9,
   "outputs": [],
   "source": [
    "scen = message_ix.Scenario(mp, \"MESSAGEix-GLOBIOM 1.1-R12\", \"baseline_DEFULT_check\")"
   ],
   "metadata": {
    "collapsed": false
   }
  },
  {
   "cell_type": "code",
   "execution_count": 10,
   "outputs": [
    {
     "data": {
      "text/plain": "        node land_scenario  year  commodity               level  time  \\\n0    R12_CHN   BIO00GHG000  2020  bioenergy            land_use  year   \n1    R12_CHN   BIO00GHG010  2020  bioenergy            land_use  year   \n2    R12_CHN   BIO00GHG020  2020  bioenergy            land_use  year   \n3    R12_CHN   BIO00GHG050  2020  bioenergy            land_use  year   \n4    R12_CHN   BIO00GHG100  2020  bioenergy            land_use  year   \n..       ...           ...   ...        ...                 ...   ...   \n163  R12_CHN   BIO60GHG200  2020  bioenergy  land_use_reporting  year   \n164  R12_CHN  BIO60GHG2000  2020  bioenergy  land_use_reporting  year   \n165  R12_CHN  BIO60GHG3000  2020  bioenergy  land_use_reporting  year   \n166  R12_CHN   BIO60GHG400  2020  bioenergy  land_use_reporting  year   \n167  R12_CHN   BIO60GHG600  2020  bioenergy  land_use_reporting  year   \n\n        value unit  \n0    161.6800  GWa  \n1    162.6100  GWa  \n2    162.4100  GWa  \n3    162.3600  GWa  \n4    161.6800  GWa  \n..        ...  ...  \n163  260.2013  GWa  \n164  260.3617  GWa  \n165  260.3803  GWa  \n166  260.0390  GWa  \n167  259.9724  GWa  \n\n[168 rows x 8 columns]",
      "text/html": "<div>\n<style scoped>\n    .dataframe tbody tr th:only-of-type {\n        vertical-align: middle;\n    }\n\n    .dataframe tbody tr th {\n        vertical-align: top;\n    }\n\n    .dataframe thead th {\n        text-align: right;\n    }\n</style>\n<table border=\"1\" class=\"dataframe\">\n  <thead>\n    <tr style=\"text-align: right;\">\n      <th></th>\n      <th>node</th>\n      <th>land_scenario</th>\n      <th>year</th>\n      <th>commodity</th>\n      <th>level</th>\n      <th>time</th>\n      <th>value</th>\n      <th>unit</th>\n    </tr>\n  </thead>\n  <tbody>\n    <tr>\n      <th>0</th>\n      <td>R12_CHN</td>\n      <td>BIO00GHG000</td>\n      <td>2020</td>\n      <td>bioenergy</td>\n      <td>land_use</td>\n      <td>year</td>\n      <td>161.6800</td>\n      <td>GWa</td>\n    </tr>\n    <tr>\n      <th>1</th>\n      <td>R12_CHN</td>\n      <td>BIO00GHG010</td>\n      <td>2020</td>\n      <td>bioenergy</td>\n      <td>land_use</td>\n      <td>year</td>\n      <td>162.6100</td>\n      <td>GWa</td>\n    </tr>\n    <tr>\n      <th>2</th>\n      <td>R12_CHN</td>\n      <td>BIO00GHG020</td>\n      <td>2020</td>\n      <td>bioenergy</td>\n      <td>land_use</td>\n      <td>year</td>\n      <td>162.4100</td>\n      <td>GWa</td>\n    </tr>\n    <tr>\n      <th>3</th>\n      <td>R12_CHN</td>\n      <td>BIO00GHG050</td>\n      <td>2020</td>\n      <td>bioenergy</td>\n      <td>land_use</td>\n      <td>year</td>\n      <td>162.3600</td>\n      <td>GWa</td>\n    </tr>\n    <tr>\n      <th>4</th>\n      <td>R12_CHN</td>\n      <td>BIO00GHG100</td>\n      <td>2020</td>\n      <td>bioenergy</td>\n      <td>land_use</td>\n      <td>year</td>\n      <td>161.6800</td>\n      <td>GWa</td>\n    </tr>\n    <tr>\n      <th>...</th>\n      <td>...</td>\n      <td>...</td>\n      <td>...</td>\n      <td>...</td>\n      <td>...</td>\n      <td>...</td>\n      <td>...</td>\n      <td>...</td>\n    </tr>\n    <tr>\n      <th>163</th>\n      <td>R12_CHN</td>\n      <td>BIO60GHG200</td>\n      <td>2020</td>\n      <td>bioenergy</td>\n      <td>land_use_reporting</td>\n      <td>year</td>\n      <td>260.2013</td>\n      <td>GWa</td>\n    </tr>\n    <tr>\n      <th>164</th>\n      <td>R12_CHN</td>\n      <td>BIO60GHG2000</td>\n      <td>2020</td>\n      <td>bioenergy</td>\n      <td>land_use_reporting</td>\n      <td>year</td>\n      <td>260.3617</td>\n      <td>GWa</td>\n    </tr>\n    <tr>\n      <th>165</th>\n      <td>R12_CHN</td>\n      <td>BIO60GHG3000</td>\n      <td>2020</td>\n      <td>bioenergy</td>\n      <td>land_use_reporting</td>\n      <td>year</td>\n      <td>260.3803</td>\n      <td>GWa</td>\n    </tr>\n    <tr>\n      <th>166</th>\n      <td>R12_CHN</td>\n      <td>BIO60GHG400</td>\n      <td>2020</td>\n      <td>bioenergy</td>\n      <td>land_use_reporting</td>\n      <td>year</td>\n      <td>260.0390</td>\n      <td>GWa</td>\n    </tr>\n    <tr>\n      <th>167</th>\n      <td>R12_CHN</td>\n      <td>BIO60GHG600</td>\n      <td>2020</td>\n      <td>bioenergy</td>\n      <td>land_use_reporting</td>\n      <td>year</td>\n      <td>259.9724</td>\n      <td>GWa</td>\n    </tr>\n  </tbody>\n</table>\n<p>168 rows × 8 columns</p>\n</div>"
     },
     "execution_count": 10,
     "metadata": {},
     "output_type": "execute_result"
    }
   ],
   "source": [
    "scen.par(\"land_output\", filters={\"commodity\":\"bioenergy\", \"node\":\"R12_CHN\", \"year\":\"2020\"})"
   ],
   "metadata": {
    "collapsed": false
   }
  },
  {
   "cell_type": "code",
   "execution_count": 6,
   "outputs": [],
   "source": [
    "scen_base = message_ix.Scenario(mp, \"MESSAGEix-GLOBIOM 1.1-R12-MAGPIE-MP30BD0BI78\", \"NPi2020-con-prim-dir-ncr\")"
   ],
   "metadata": {
    "collapsed": false
   }
  },
  {
   "cell_type": "code",
   "execution_count": 9,
   "outputs": [
    {
     "ename": "KeyboardInterrupt",
     "evalue": "",
     "output_type": "error",
     "traceback": [
      "\u001B[1;31m---------------------------------------------------------------------------\u001B[0m",
      "\u001B[1;31mKeyboardInterrupt\u001B[0m                         Traceback (most recent call last)",
      "Input \u001B[1;32mIn [9]\u001B[0m, in \u001B[0;36m<cell line: 1>\u001B[1;34m()\u001B[0m\n\u001B[1;32m----> 1\u001B[0m \u001B[43mscen_base\u001B[49m\u001B[38;5;241;43m.\u001B[39;49m\u001B[43msolve\u001B[49m\u001B[43m(\u001B[49m\u001B[43mmodel\u001B[49m\u001B[38;5;241;43m=\u001B[39;49m\u001B[38;5;124;43m\"\u001B[39;49m\u001B[38;5;124;43mMESSAGE-MACRO\u001B[39;49m\u001B[38;5;124;43m\"\u001B[39;49m\u001B[43m)\u001B[49m\n",
      "File \u001B[1;32m~\\PycharmProjects\\message_ix\\message_ix\\core.py:677\u001B[0m, in \u001B[0;36mScenario.solve\u001B[1;34m(self, model, solve_options, **kwargs)\u001B[0m\n\u001B[0;32m    657\u001B[0m \u001B[38;5;28;01mdef\u001B[39;00m \u001B[38;5;21msolve\u001B[39m(\u001B[38;5;28mself\u001B[39m, model\u001B[38;5;241m=\u001B[39m\u001B[38;5;124m\"\u001B[39m\u001B[38;5;124mMESSAGE\u001B[39m\u001B[38;5;124m\"\u001B[39m, solve_options\u001B[38;5;241m=\u001B[39m{}, \u001B[38;5;241m*\u001B[39m\u001B[38;5;241m*\u001B[39mkwargs):\n\u001B[0;32m    658\u001B[0m     \u001B[38;5;124;03m\"\"\"Solve MESSAGE or MESSAGE-MACRO for the Scenario.\u001B[39;00m\n\u001B[0;32m    659\u001B[0m \n\u001B[0;32m    660\u001B[0m \u001B[38;5;124;03m    By default, :meth:`ixmp.Scenario.solve` is called with 'MESSAGE' as the\u001B[39;00m\n\u001B[1;32m   (...)\u001B[0m\n\u001B[0;32m    675\u001B[0m \u001B[38;5;124;03m        :class:`.GAMSModel`.\u001B[39;00m\n\u001B[0;32m    676\u001B[0m \u001B[38;5;124;03m    \"\"\"\u001B[39;00m\n\u001B[1;32m--> 677\u001B[0m     \u001B[38;5;28;43msuper\u001B[39;49m\u001B[43m(\u001B[49m\u001B[43m)\u001B[49m\u001B[38;5;241;43m.\u001B[39;49m\u001B[43msolve\u001B[49m\u001B[43m(\u001B[49m\u001B[43mmodel\u001B[49m\u001B[38;5;241;43m=\u001B[39;49m\u001B[43mmodel\u001B[49m\u001B[43m,\u001B[49m\u001B[43m \u001B[49m\u001B[43msolve_options\u001B[49m\u001B[38;5;241;43m=\u001B[39;49m\u001B[43msolve_options\u001B[49m\u001B[43m,\u001B[49m\u001B[43m \u001B[49m\u001B[38;5;241;43m*\u001B[39;49m\u001B[38;5;241;43m*\u001B[39;49m\u001B[43mkwargs\u001B[49m\u001B[43m)\u001B[49m\n",
      "File \u001B[1;32m~\\Anaconda3\\lib\\site-packages\\ixmp\\core\\scenario.py:835\u001B[0m, in \u001B[0;36mScenario.solve\u001B[1;34m(self, model, callback, cb_kwargs, **model_options)\u001B[0m\n\u001B[0;32m    833\u001B[0m \u001B[38;5;66;03m# Iterate until convergence\u001B[39;00m\n\u001B[0;32m    834\u001B[0m \u001B[38;5;28;01mwhile\u001B[39;00m \u001B[38;5;28;01mTrue\u001B[39;00m:\n\u001B[1;32m--> 835\u001B[0m     \u001B[43mmodel_obj\u001B[49m\u001B[38;5;241;43m.\u001B[39;49m\u001B[43mrun\u001B[49m\u001B[43m(\u001B[49m\u001B[38;5;28;43mself\u001B[39;49m\u001B[43m)\u001B[49m\n\u001B[0;32m    837\u001B[0m     \u001B[38;5;66;03m# Store an iteration number to help the callback\u001B[39;00m\n\u001B[0;32m    838\u001B[0m     \u001B[38;5;28;01mif\u001B[39;00m \u001B[38;5;129;01mnot\u001B[39;00m \u001B[38;5;28mhasattr\u001B[39m(\u001B[38;5;28mself\u001B[39m, \u001B[38;5;124m\"\u001B[39m\u001B[38;5;124miteration\u001B[39m\u001B[38;5;124m\"\u001B[39m):\n",
      "File \u001B[1;32m~\\PycharmProjects\\message_ix\\message_ix\\models.py:373\u001B[0m, in \u001B[0;36mGAMSModel.run\u001B[1;34m(self, scenario)\u001B[0m\n\u001B[0;32m    370\u001B[0m lines2 \u001B[38;5;241m=\u001B[39m (\u001B[38;5;124m\"\u001B[39m\u001B[38;5;132;01m{}\u001B[39;00m\u001B[38;5;124m = \u001B[39m\u001B[38;5;132;01m{}\u001B[39;00m\u001B[38;5;124m\"\u001B[39m\u001B[38;5;241m.\u001B[39mformat(\u001B[38;5;241m*\u001B[39mkv) \u001B[38;5;28;01mfor\u001B[39;00m kv \u001B[38;5;129;01min\u001B[39;00m \u001B[38;5;28mself\u001B[39m\u001B[38;5;241m.\u001B[39mcplex_opts\u001B[38;5;241m.\u001B[39mitems())\n\u001B[0;32m    371\u001B[0m optfile2\u001B[38;5;241m.\u001B[39mwrite_text(\u001B[38;5;124m\"\u001B[39m\u001B[38;5;130;01m\\n\u001B[39;00m\u001B[38;5;124m\"\u001B[39m\u001B[38;5;241m.\u001B[39mjoin(lines2))\n\u001B[1;32m--> 373\u001B[0m result \u001B[38;5;241m=\u001B[39m \u001B[38;5;28;43msuper\u001B[39;49m\u001B[43m(\u001B[49m\u001B[43m)\u001B[49m\u001B[38;5;241;43m.\u001B[39;49m\u001B[43mrun\u001B[49m\u001B[43m(\u001B[49m\u001B[43mscenario\u001B[49m\u001B[43m)\u001B[49m\n\u001B[0;32m    375\u001B[0m \u001B[38;5;66;03m# In previous versions, the `cplex.opt` file(s) were removed at this point\u001B[39;00m\n\u001B[0;32m    376\u001B[0m \u001B[38;5;66;03m# in the workflow. This has been removed due to issues when running\u001B[39;00m\n\u001B[0;32m    377\u001B[0m \u001B[38;5;66;03m# scenarios asynchronously.\u001B[39;00m\n\u001B[0;32m    379\u001B[0m \u001B[38;5;28;01mreturn\u001B[39;00m result\n",
      "File \u001B[1;32m~\\Anaconda3\\lib\\site-packages\\ixmp\\model\\gams.py:293\u001B[0m, in \u001B[0;36mGAMSModel.run\u001B[1;34m(self, scenario)\u001B[0m\n\u001B[0;32m    286\u001B[0m     \u001B[38;5;28;01mraise\u001B[39;00m \u001B[38;5;167;01mNotImplementedError\u001B[39;00m(\n\u001B[0;32m    287\u001B[0m         \u001B[38;5;124m\"\u001B[39m\u001B[38;5;124mGAMSModel requires a Backend that can write to GDX files, e.g. \u001B[39m\u001B[38;5;124m\"\u001B[39m\n\u001B[0;32m    288\u001B[0m         \u001B[38;5;124m\"\u001B[39m\u001B[38;5;124mJDBCBackend\u001B[39m\u001B[38;5;124m\"\u001B[39m\n\u001B[0;32m    289\u001B[0m     )\n\u001B[0;32m    291\u001B[0m \u001B[38;5;28;01mtry\u001B[39;00m:\n\u001B[0;32m    292\u001B[0m     \u001B[38;5;66;03m# Invoke GAMS\u001B[39;00m\n\u001B[1;32m--> 293\u001B[0m     \u001B[43mcheck_call\u001B[49m\u001B[43m(\u001B[49m\u001B[43mcommand\u001B[49m\u001B[43m,\u001B[49m\u001B[43m \u001B[49m\u001B[43mshell\u001B[49m\u001B[38;5;241;43m=\u001B[39;49m\u001B[43mos\u001B[49m\u001B[38;5;241;43m.\u001B[39;49m\u001B[43mname\u001B[49m\u001B[43m \u001B[49m\u001B[38;5;241;43m==\u001B[39;49m\u001B[43m \u001B[49m\u001B[38;5;124;43m\"\u001B[39;49m\u001B[38;5;124;43mnt\u001B[39;49m\u001B[38;5;124;43m\"\u001B[39;49m\u001B[43m,\u001B[49m\u001B[43m \u001B[49m\u001B[43mcwd\u001B[49m\u001B[38;5;241;43m=\u001B[39;49m\u001B[38;5;28;43mself\u001B[39;49m\u001B[38;5;241;43m.\u001B[39;49m\u001B[43mcwd\u001B[49m\u001B[43m)\u001B[49m\n\u001B[0;32m    294\u001B[0m \u001B[38;5;28;01mexcept\u001B[39;00m CalledProcessError \u001B[38;5;28;01mas\u001B[39;00m exc:\n\u001B[0;32m    295\u001B[0m     \u001B[38;5;66;03m# Do not remove self.temp_dir; the user may want to inspect the GDX file\u001B[39;00m\n\u001B[0;32m    296\u001B[0m     \u001B[38;5;28;01mraise\u001B[39;00m \u001B[38;5;28mself\u001B[39m\u001B[38;5;241m.\u001B[39mformat_exception(exc, model_file) \u001B[38;5;28;01mfrom\u001B[39;00m \u001B[38;5;28mNone\u001B[39m\n",
      "File \u001B[1;32m~\\Anaconda3\\lib\\subprocess.py:359\u001B[0m, in \u001B[0;36mcheck_call\u001B[1;34m(*popenargs, **kwargs)\u001B[0m\n\u001B[0;32m    349\u001B[0m \u001B[38;5;28;01mdef\u001B[39;00m \u001B[38;5;21mcheck_call\u001B[39m(\u001B[38;5;241m*\u001B[39mpopenargs, \u001B[38;5;241m*\u001B[39m\u001B[38;5;241m*\u001B[39mkwargs):\n\u001B[0;32m    350\u001B[0m     \u001B[38;5;124;03m\"\"\"Run command with arguments.  Wait for command to complete.  If\u001B[39;00m\n\u001B[0;32m    351\u001B[0m \u001B[38;5;124;03m    the exit code was zero then return, otherwise raise\u001B[39;00m\n\u001B[0;32m    352\u001B[0m \u001B[38;5;124;03m    CalledProcessError.  The CalledProcessError object will have the\u001B[39;00m\n\u001B[1;32m   (...)\u001B[0m\n\u001B[0;32m    357\u001B[0m \u001B[38;5;124;03m    check_call([\"ls\", \"-l\"])\u001B[39;00m\n\u001B[0;32m    358\u001B[0m \u001B[38;5;124;03m    \"\"\"\u001B[39;00m\n\u001B[1;32m--> 359\u001B[0m     retcode \u001B[38;5;241m=\u001B[39m \u001B[43mcall\u001B[49m\u001B[43m(\u001B[49m\u001B[38;5;241;43m*\u001B[39;49m\u001B[43mpopenargs\u001B[49m\u001B[43m,\u001B[49m\u001B[43m \u001B[49m\u001B[38;5;241;43m*\u001B[39;49m\u001B[38;5;241;43m*\u001B[39;49m\u001B[43mkwargs\u001B[49m\u001B[43m)\u001B[49m\n\u001B[0;32m    360\u001B[0m     \u001B[38;5;28;01mif\u001B[39;00m retcode:\n\u001B[0;32m    361\u001B[0m         cmd \u001B[38;5;241m=\u001B[39m kwargs\u001B[38;5;241m.\u001B[39mget(\u001B[38;5;124m\"\u001B[39m\u001B[38;5;124margs\u001B[39m\u001B[38;5;124m\"\u001B[39m)\n",
      "File \u001B[1;32m~\\Anaconda3\\lib\\subprocess.py:342\u001B[0m, in \u001B[0;36mcall\u001B[1;34m(timeout, *popenargs, **kwargs)\u001B[0m\n\u001B[0;32m    340\u001B[0m \u001B[38;5;28;01mwith\u001B[39;00m Popen(\u001B[38;5;241m*\u001B[39mpopenargs, \u001B[38;5;241m*\u001B[39m\u001B[38;5;241m*\u001B[39mkwargs) \u001B[38;5;28;01mas\u001B[39;00m p:\n\u001B[0;32m    341\u001B[0m     \u001B[38;5;28;01mtry\u001B[39;00m:\n\u001B[1;32m--> 342\u001B[0m         \u001B[38;5;28;01mreturn\u001B[39;00m \u001B[43mp\u001B[49m\u001B[38;5;241;43m.\u001B[39;49m\u001B[43mwait\u001B[49m\u001B[43m(\u001B[49m\u001B[43mtimeout\u001B[49m\u001B[38;5;241;43m=\u001B[39;49m\u001B[43mtimeout\u001B[49m\u001B[43m)\u001B[49m\n\u001B[0;32m    343\u001B[0m     \u001B[38;5;28;01mexcept\u001B[39;00m:  \u001B[38;5;66;03m# Including KeyboardInterrupt, wait handled that.\u001B[39;00m\n\u001B[0;32m    344\u001B[0m         p\u001B[38;5;241m.\u001B[39mkill()\n",
      "File \u001B[1;32m~\\Anaconda3\\lib\\subprocess.py:1083\u001B[0m, in \u001B[0;36mPopen.wait\u001B[1;34m(self, timeout)\u001B[0m\n\u001B[0;32m   1081\u001B[0m     endtime \u001B[38;5;241m=\u001B[39m _time() \u001B[38;5;241m+\u001B[39m timeout\n\u001B[0;32m   1082\u001B[0m \u001B[38;5;28;01mtry\u001B[39;00m:\n\u001B[1;32m-> 1083\u001B[0m     \u001B[38;5;28;01mreturn\u001B[39;00m \u001B[38;5;28;43mself\u001B[39;49m\u001B[38;5;241;43m.\u001B[39;49m\u001B[43m_wait\u001B[49m\u001B[43m(\u001B[49m\u001B[43mtimeout\u001B[49m\u001B[38;5;241;43m=\u001B[39;49m\u001B[43mtimeout\u001B[49m\u001B[43m)\u001B[49m\n\u001B[0;32m   1084\u001B[0m \u001B[38;5;28;01mexcept\u001B[39;00m \u001B[38;5;167;01mKeyboardInterrupt\u001B[39;00m:\n\u001B[0;32m   1085\u001B[0m     \u001B[38;5;66;03m# https://bugs.python.org/issue25942\u001B[39;00m\n\u001B[0;32m   1086\u001B[0m     \u001B[38;5;66;03m# The first keyboard interrupt waits briefly for the child to\u001B[39;00m\n\u001B[0;32m   1087\u001B[0m     \u001B[38;5;66;03m# exit under the common assumption that it also received the ^C\u001B[39;00m\n\u001B[0;32m   1088\u001B[0m     \u001B[38;5;66;03m# generated SIGINT and will exit rapidly.\u001B[39;00m\n\u001B[0;32m   1089\u001B[0m     \u001B[38;5;28;01mif\u001B[39;00m timeout \u001B[38;5;129;01mis\u001B[39;00m \u001B[38;5;129;01mnot\u001B[39;00m \u001B[38;5;28;01mNone\u001B[39;00m:\n",
      "File \u001B[1;32m~\\Anaconda3\\lib\\subprocess.py:1361\u001B[0m, in \u001B[0;36mPopen._wait\u001B[1;34m(self, timeout)\u001B[0m\n\u001B[0;32m   1358\u001B[0m     timeout_millis \u001B[38;5;241m=\u001B[39m \u001B[38;5;28mint\u001B[39m(timeout \u001B[38;5;241m*\u001B[39m \u001B[38;5;241m1000\u001B[39m)\n\u001B[0;32m   1359\u001B[0m \u001B[38;5;28;01mif\u001B[39;00m \u001B[38;5;28mself\u001B[39m\u001B[38;5;241m.\u001B[39mreturncode \u001B[38;5;129;01mis\u001B[39;00m \u001B[38;5;28;01mNone\u001B[39;00m:\n\u001B[0;32m   1360\u001B[0m     \u001B[38;5;66;03m# API note: Returns immediately if timeout_millis == 0.\u001B[39;00m\n\u001B[1;32m-> 1361\u001B[0m     result \u001B[38;5;241m=\u001B[39m \u001B[43m_winapi\u001B[49m\u001B[38;5;241;43m.\u001B[39;49m\u001B[43mWaitForSingleObject\u001B[49m\u001B[43m(\u001B[49m\u001B[38;5;28;43mself\u001B[39;49m\u001B[38;5;241;43m.\u001B[39;49m\u001B[43m_handle\u001B[49m\u001B[43m,\u001B[49m\n\u001B[0;32m   1362\u001B[0m \u001B[43m                                         \u001B[49m\u001B[43mtimeout_millis\u001B[49m\u001B[43m)\u001B[49m\n\u001B[0;32m   1363\u001B[0m     \u001B[38;5;28;01mif\u001B[39;00m result \u001B[38;5;241m==\u001B[39m _winapi\u001B[38;5;241m.\u001B[39mWAIT_TIMEOUT:\n\u001B[0;32m   1364\u001B[0m         \u001B[38;5;28;01mraise\u001B[39;00m TimeoutExpired(\u001B[38;5;28mself\u001B[39m\u001B[38;5;241m.\u001B[39margs, timeout)\n",
      "\u001B[1;31mKeyboardInterrupt\u001B[0m: "
     ]
    }
   ],
   "source": [
    "scen_base.solve(model=\"MESSAGE-MACRO\")"
   ],
   "metadata": {
    "collapsed": false
   }
  },
  {
   "cell_type": "code",
   "execution_count": 12,
   "outputs": [
    {
     "data": {
      "text/plain": "array([1990, 1995, 2000, 2005, 2010, 2015], dtype=int64)"
     },
     "execution_count": 12,
     "metadata": {},
     "output_type": "execute_result"
    }
   ],
   "source": [
    "df = scen_base.timeseries()\n",
    "df.year.unique()"
   ],
   "metadata": {
    "collapsed": false
   }
  },
  {
   "cell_type": "code",
   "execution_count": 14,
   "outputs": [
    {
     "data": {
      "text/plain": "     node type_emission type_tec  year          lvl  mrg\n0   World       TCE_CO2      all  2030   508.879384  0.0\n1   World       TCE_CO2      all  2035   713.809308  0.0\n2   World       TCE_CO2      all  2040   907.404817  0.0\n3   World       TCE_CO2      all  2045  1151.119609  0.0\n4   World       TCE_CO2      all  2050  1561.134700  0.0\n5   World       TCE_CO2      all  2055  1653.599833  0.0\n6   World       TCE_CO2      all  2060  2351.461667  0.0\n7   World       TCE_CO2      all  2070  2019.232897  0.0\n8   World       TCE_CO2      all  2080  1192.303190  0.0\n9   World       TCE_CO2      all  2090  1041.983798  0.0\n10  World       TCE_CO2      all  2100  1241.847644  0.0\n11  World       TCE_CO2      all  2110  2058.269348  0.0",
      "text/html": "<div>\n<style scoped>\n    .dataframe tbody tr th:only-of-type {\n        vertical-align: middle;\n    }\n\n    .dataframe tbody tr th {\n        vertical-align: top;\n    }\n\n    .dataframe thead th {\n        text-align: right;\n    }\n</style>\n<table border=\"1\" class=\"dataframe\">\n  <thead>\n    <tr style=\"text-align: right;\">\n      <th></th>\n      <th>node</th>\n      <th>type_emission</th>\n      <th>type_tec</th>\n      <th>year</th>\n      <th>lvl</th>\n      <th>mrg</th>\n    </tr>\n  </thead>\n  <tbody>\n    <tr>\n      <th>0</th>\n      <td>World</td>\n      <td>TCE_CO2</td>\n      <td>all</td>\n      <td>2030</td>\n      <td>508.879384</td>\n      <td>0.0</td>\n    </tr>\n    <tr>\n      <th>1</th>\n      <td>World</td>\n      <td>TCE_CO2</td>\n      <td>all</td>\n      <td>2035</td>\n      <td>713.809308</td>\n      <td>0.0</td>\n    </tr>\n    <tr>\n      <th>2</th>\n      <td>World</td>\n      <td>TCE_CO2</td>\n      <td>all</td>\n      <td>2040</td>\n      <td>907.404817</td>\n      <td>0.0</td>\n    </tr>\n    <tr>\n      <th>3</th>\n      <td>World</td>\n      <td>TCE_CO2</td>\n      <td>all</td>\n      <td>2045</td>\n      <td>1151.119609</td>\n      <td>0.0</td>\n    </tr>\n    <tr>\n      <th>4</th>\n      <td>World</td>\n      <td>TCE_CO2</td>\n      <td>all</td>\n      <td>2050</td>\n      <td>1561.134700</td>\n      <td>0.0</td>\n    </tr>\n    <tr>\n      <th>5</th>\n      <td>World</td>\n      <td>TCE_CO2</td>\n      <td>all</td>\n      <td>2055</td>\n      <td>1653.599833</td>\n      <td>0.0</td>\n    </tr>\n    <tr>\n      <th>6</th>\n      <td>World</td>\n      <td>TCE_CO2</td>\n      <td>all</td>\n      <td>2060</td>\n      <td>2351.461667</td>\n      <td>0.0</td>\n    </tr>\n    <tr>\n      <th>7</th>\n      <td>World</td>\n      <td>TCE_CO2</td>\n      <td>all</td>\n      <td>2070</td>\n      <td>2019.232897</td>\n      <td>0.0</td>\n    </tr>\n    <tr>\n      <th>8</th>\n      <td>World</td>\n      <td>TCE_CO2</td>\n      <td>all</td>\n      <td>2080</td>\n      <td>1192.303190</td>\n      <td>0.0</td>\n    </tr>\n    <tr>\n      <th>9</th>\n      <td>World</td>\n      <td>TCE_CO2</td>\n      <td>all</td>\n      <td>2090</td>\n      <td>1041.983798</td>\n      <td>0.0</td>\n    </tr>\n    <tr>\n      <th>10</th>\n      <td>World</td>\n      <td>TCE_CO2</td>\n      <td>all</td>\n      <td>2100</td>\n      <td>1241.847644</td>\n      <td>0.0</td>\n    </tr>\n    <tr>\n      <th>11</th>\n      <td>World</td>\n      <td>TCE_CO2</td>\n      <td>all</td>\n      <td>2110</td>\n      <td>2058.269348</td>\n      <td>0.0</td>\n    </tr>\n  </tbody>\n</table>\n</div>"
     },
     "execution_count": 14,
     "metadata": {},
     "output_type": "execute_result"
    }
   ],
   "source": [
    "scen = message_ix.Scenario(mp, \"MESSAGEix-GLOBIOM 1.1-M-R12-NAVIGATE\", \"NAV_Ind_Comb_800\")\n",
    "scen.var(\"PRICE_EMISSION\")"
   ],
   "metadata": {
    "collapsed": false
   }
  },
  {
   "cell_type": "code",
   "execution_count": 7,
   "outputs": [],
   "source": [
    "transfer_demands(scen_base, scen)"
   ],
   "metadata": {
    "collapsed": false
   }
  },
  {
   "cell_type": "code",
   "execution_count": 8,
   "outputs": [],
   "source": [
    "scen.solve(model=\"MESSAGE-MACRO\")"
   ],
   "metadata": {
    "collapsed": false
   }
  },
  {
   "cell_type": "code",
   "execution_count": 3,
   "outputs": [],
   "source": [
    "df = mp.scenario_list()"
   ],
   "metadata": {
    "collapsed": false
   }
  },
  {
   "cell_type": "code",
   "execution_count": null,
   "outputs": [],
   "source": [],
   "metadata": {
    "collapsed": false
   }
  },
  {
   "cell_type": "code",
   "execution_count": 8,
   "outputs": [
    {
     "data": {
      "text/plain": "                          model                         scenario   scheme  \\\n6923  MESSAGEix-GLOBIOM 1.1-R12       base_GLOBIOM_noSDG_noConst  MESSAGE   \n6922  MESSAGEix-GLOBIOM 1.1-R12               base_GLOBIOM_noSDG  MESSAGE   \n6929  MESSAGEix-GLOBIOM 1.1-R12            baseline_DEFULT_check  MESSAGE   \n6925  MESSAGEix-GLOBIOM 1.1-R12                 baseline_DEFAULT  MESSAGE   \n6926  MESSAGEix-GLOBIOM 1.1-R12            baseline_DEFAULT_2507  MESSAGE   \n6924  MESSAGEix-GLOBIOM 1.1-R12              base_GLOBIOM_update  MESSAGE   \n6927  MESSAGEix-GLOBIOM 1.1-R12           baseline_DEFAULT_clone  MESSAGE   \n6921  MESSAGEix-GLOBIOM 1.1-R12                       MACRO_test  MESSAGE   \n6933  MESSAGEix-GLOBIOM 1.1-R12  test to confirm MACRO converges  MESSAGE   \n6932  MESSAGEix-GLOBIOM 1.1-R12        baseline_prep_macro_macro  MESSAGE   \n6930  MESSAGEix-GLOBIOM 1.1-R12                 baseline_prep_lu  MESSAGE   \n6928  MESSAGEix-GLOBIOM 1.1-R12      baseline_DEFAULT_gdp_update  MESSAGE   \n6931  MESSAGEix-GLOBIOM 1.1-R12              baseline_prep_macro  MESSAGE   \n\n      is_default  is_locked cre_user                    cre_date upd_user  \\\n6923           1          0      min  2023-08-11 15:17:05.000000     None   \n6922           1          0      min  2023-08-01 10:58:46.000000     None   \n6929           1          0     unlu  2023-07-31 14:17:24.000000     unlu   \n6925           1          0      min  2023-07-27 10:24:37.000000     None   \n6926           1          0     unlu  2023-07-25 17:28:24.000000     None   \n6924           1          0      min  2023-04-18 14:25:06.000000     None   \n6927           1          0     unlu  2023-02-01 09:55:44.000000     None   \n6921           1          0      min  2022-05-02 16:57:38.000000     None   \n6933           1          0      min  2022-04-30 20:34:54.000000      min   \n6932           1          0      min  2022-04-30 20:29:07.000000      min   \n6930           1          0      min  2022-04-30 17:29:17.000000      min   \n6928           1          0      min  2022-03-03 00:24:43.000000      min   \n6931           1          0      min  2022-03-02 14:21:00.000000     None   \n\n                        upd_date lock_user lock_date  \\\n6923                        None      None      None   \n6922                        None      None      None   \n6929  2023-07-31 14:26:45.000000      None      None   \n6925                        None      None      None   \n6926                        None      None      None   \n6924                        None      None      None   \n6927                        None      None      None   \n6921                        None      None      None   \n6933  2022-04-30 20:40:13.000000      None      None   \n6932  2022-04-30 20:34:39.000000      None      None   \n6930  2022-04-30 18:18:13.000000      None      None   \n6928  2022-03-03 00:33:38.000000      None      None   \n6931                        None      None      None   \n\n                                             annotation  version  \n6923  clone Scenario from 'MESSAGEix-GLOBIOM 1.1-R12...        1  \n6922  clone Scenario from 'MESSAGEix-GLOBIOM 1.1-R12...        6  \n6929  clone Scenario from 'MESSAGEix-GLOBIOM 1.1-R12...        1  \n6925  clone Scenario from 'MESSAGEix-GLOBIOM 1.1-R12...       21  \n6926  clone Scenario from 'MESSAGEix-GLOBIOM 1.1-R12...        1  \n6924  clone Scenario from 'MESSAGEix-GLOBIOM 1.1-R12...        3  \n6927  clone Scenario from 'MESSAGEix-GLOBIOM 1.1-R12...        1  \n6921  clone Scenario from 'MESSAGEix-GLOBIOM 1.1-R12...        1  \n6933  clone Scenario from 'MESSAGEix-GLOBIOM 1.1-R12...        6  \n6932  clone Scenario from 'MESSAGEix-GLOBIOM 1.1-R12...       17  \n6930  clone Scenario from 'MESSAGEix-GLOBIOM_R12_CHN...       17  \n6928  clone Scenario from 'MESSAGEix-GLOBIOM 1.1-R12...       25  \n6931  clone Scenario from 'MESSAGEix-GLOBIOM 1.1-R12...        1  ",
      "text/html": "<div>\n<style scoped>\n    .dataframe tbody tr th:only-of-type {\n        vertical-align: middle;\n    }\n\n    .dataframe tbody tr th {\n        vertical-align: top;\n    }\n\n    .dataframe thead th {\n        text-align: right;\n    }\n</style>\n<table border=\"1\" class=\"dataframe\">\n  <thead>\n    <tr style=\"text-align: right;\">\n      <th></th>\n      <th>model</th>\n      <th>scenario</th>\n      <th>scheme</th>\n      <th>is_default</th>\n      <th>is_locked</th>\n      <th>cre_user</th>\n      <th>cre_date</th>\n      <th>upd_user</th>\n      <th>upd_date</th>\n      <th>lock_user</th>\n      <th>lock_date</th>\n      <th>annotation</th>\n      <th>version</th>\n    </tr>\n  </thead>\n  <tbody>\n    <tr>\n      <th>6923</th>\n      <td>MESSAGEix-GLOBIOM 1.1-R12</td>\n      <td>base_GLOBIOM_noSDG_noConst</td>\n      <td>MESSAGE</td>\n      <td>1</td>\n      <td>0</td>\n      <td>min</td>\n      <td>2023-08-11 15:17:05.000000</td>\n      <td>None</td>\n      <td>None</td>\n      <td>None</td>\n      <td>None</td>\n      <td>clone Scenario from 'MESSAGEix-GLOBIOM 1.1-R12...</td>\n      <td>1</td>\n    </tr>\n    <tr>\n      <th>6922</th>\n      <td>MESSAGEix-GLOBIOM 1.1-R12</td>\n      <td>base_GLOBIOM_noSDG</td>\n      <td>MESSAGE</td>\n      <td>1</td>\n      <td>0</td>\n      <td>min</td>\n      <td>2023-08-01 10:58:46.000000</td>\n      <td>None</td>\n      <td>None</td>\n      <td>None</td>\n      <td>None</td>\n      <td>clone Scenario from 'MESSAGEix-GLOBIOM 1.1-R12...</td>\n      <td>6</td>\n    </tr>\n    <tr>\n      <th>6929</th>\n      <td>MESSAGEix-GLOBIOM 1.1-R12</td>\n      <td>baseline_DEFULT_check</td>\n      <td>MESSAGE</td>\n      <td>1</td>\n      <td>0</td>\n      <td>unlu</td>\n      <td>2023-07-31 14:17:24.000000</td>\n      <td>unlu</td>\n      <td>2023-07-31 14:26:45.000000</td>\n      <td>None</td>\n      <td>None</td>\n      <td>clone Scenario from 'MESSAGEix-GLOBIOM 1.1-R12...</td>\n      <td>1</td>\n    </tr>\n    <tr>\n      <th>6925</th>\n      <td>MESSAGEix-GLOBIOM 1.1-R12</td>\n      <td>baseline_DEFAULT</td>\n      <td>MESSAGE</td>\n      <td>1</td>\n      <td>0</td>\n      <td>min</td>\n      <td>2023-07-27 10:24:37.000000</td>\n      <td>None</td>\n      <td>None</td>\n      <td>None</td>\n      <td>None</td>\n      <td>clone Scenario from 'MESSAGEix-GLOBIOM 1.1-R12...</td>\n      <td>21</td>\n    </tr>\n    <tr>\n      <th>6926</th>\n      <td>MESSAGEix-GLOBIOM 1.1-R12</td>\n      <td>baseline_DEFAULT_2507</td>\n      <td>MESSAGE</td>\n      <td>1</td>\n      <td>0</td>\n      <td>unlu</td>\n      <td>2023-07-25 17:28:24.000000</td>\n      <td>None</td>\n      <td>None</td>\n      <td>None</td>\n      <td>None</td>\n      <td>clone Scenario from 'MESSAGEix-GLOBIOM 1.1-R12...</td>\n      <td>1</td>\n    </tr>\n    <tr>\n      <th>6924</th>\n      <td>MESSAGEix-GLOBIOM 1.1-R12</td>\n      <td>base_GLOBIOM_update</td>\n      <td>MESSAGE</td>\n      <td>1</td>\n      <td>0</td>\n      <td>min</td>\n      <td>2023-04-18 14:25:06.000000</td>\n      <td>None</td>\n      <td>None</td>\n      <td>None</td>\n      <td>None</td>\n      <td>clone Scenario from 'MESSAGEix-GLOBIOM 1.1-R12...</td>\n      <td>3</td>\n    </tr>\n    <tr>\n      <th>6927</th>\n      <td>MESSAGEix-GLOBIOM 1.1-R12</td>\n      <td>baseline_DEFAULT_clone</td>\n      <td>MESSAGE</td>\n      <td>1</td>\n      <td>0</td>\n      <td>unlu</td>\n      <td>2023-02-01 09:55:44.000000</td>\n      <td>None</td>\n      <td>None</td>\n      <td>None</td>\n      <td>None</td>\n      <td>clone Scenario from 'MESSAGEix-GLOBIOM 1.1-R12...</td>\n      <td>1</td>\n    </tr>\n    <tr>\n      <th>6921</th>\n      <td>MESSAGEix-GLOBIOM 1.1-R12</td>\n      <td>MACRO_test</td>\n      <td>MESSAGE</td>\n      <td>1</td>\n      <td>0</td>\n      <td>min</td>\n      <td>2022-05-02 16:57:38.000000</td>\n      <td>None</td>\n      <td>None</td>\n      <td>None</td>\n      <td>None</td>\n      <td>clone Scenario from 'MESSAGEix-GLOBIOM 1.1-R12...</td>\n      <td>1</td>\n    </tr>\n    <tr>\n      <th>6933</th>\n      <td>MESSAGEix-GLOBIOM 1.1-R12</td>\n      <td>test to confirm MACRO converges</td>\n      <td>MESSAGE</td>\n      <td>1</td>\n      <td>0</td>\n      <td>min</td>\n      <td>2022-04-30 20:34:54.000000</td>\n      <td>min</td>\n      <td>2022-04-30 20:40:13.000000</td>\n      <td>None</td>\n      <td>None</td>\n      <td>clone Scenario from 'MESSAGEix-GLOBIOM 1.1-R12...</td>\n      <td>6</td>\n    </tr>\n    <tr>\n      <th>6932</th>\n      <td>MESSAGEix-GLOBIOM 1.1-R12</td>\n      <td>baseline_prep_macro_macro</td>\n      <td>MESSAGE</td>\n      <td>1</td>\n      <td>0</td>\n      <td>min</td>\n      <td>2022-04-30 20:29:07.000000</td>\n      <td>min</td>\n      <td>2022-04-30 20:34:39.000000</td>\n      <td>None</td>\n      <td>None</td>\n      <td>clone Scenario from 'MESSAGEix-GLOBIOM 1.1-R12...</td>\n      <td>17</td>\n    </tr>\n    <tr>\n      <th>6930</th>\n      <td>MESSAGEix-GLOBIOM 1.1-R12</td>\n      <td>baseline_prep_lu</td>\n      <td>MESSAGE</td>\n      <td>1</td>\n      <td>0</td>\n      <td>min</td>\n      <td>2022-04-30 17:29:17.000000</td>\n      <td>min</td>\n      <td>2022-04-30 18:18:13.000000</td>\n      <td>None</td>\n      <td>None</td>\n      <td>clone Scenario from 'MESSAGEix-GLOBIOM_R12_CHN...</td>\n      <td>17</td>\n    </tr>\n    <tr>\n      <th>6928</th>\n      <td>MESSAGEix-GLOBIOM 1.1-R12</td>\n      <td>baseline_DEFAULT_gdp_update</td>\n      <td>MESSAGE</td>\n      <td>1</td>\n      <td>0</td>\n      <td>min</td>\n      <td>2022-03-03 00:24:43.000000</td>\n      <td>min</td>\n      <td>2022-03-03 00:33:38.000000</td>\n      <td>None</td>\n      <td>None</td>\n      <td>clone Scenario from 'MESSAGEix-GLOBIOM 1.1-R12...</td>\n      <td>25</td>\n    </tr>\n    <tr>\n      <th>6931</th>\n      <td>MESSAGEix-GLOBIOM 1.1-R12</td>\n      <td>baseline_prep_macro</td>\n      <td>MESSAGE</td>\n      <td>1</td>\n      <td>0</td>\n      <td>min</td>\n      <td>2022-03-02 14:21:00.000000</td>\n      <td>None</td>\n      <td>None</td>\n      <td>None</td>\n      <td>None</td>\n      <td>clone Scenario from 'MESSAGEix-GLOBIOM 1.1-R12...</td>\n      <td>1</td>\n    </tr>\n  </tbody>\n</table>\n</div>"
     },
     "execution_count": 8,
     "metadata": {},
     "output_type": "execute_result"
    }
   ],
   "source": [
    "df[(df[\"model\"]==(\"MESSAGEix-GLOBIOM 1.1-R12\"))].sort_values(\"cre_date\", ascending=False)"
   ],
   "metadata": {
    "collapsed": false
   }
  },
  {
   "cell_type": "code",
   "execution_count": null,
   "outputs": [],
   "source": [
    "from message_ix_models import workflow"
   ],
   "metadata": {
    "collapsed": false
   }
  },
  {
   "cell_type": "code",
   "execution_count": 5,
   "outputs": [
    {
     "data": {
      "text/plain": "                                             model  \\\n6950              MESSAGEix-GLOBIOM 1.1-R12-MAGPIE   \n6951              MESSAGEix-GLOBIOM 1.1-R12-MAGPIE   \n6952              MESSAGEix-GLOBIOM 1.1-R12-MAGPIE   \n6953              MESSAGEix-GLOBIOM 1.1-R12-MAGPIE   \n6954              MESSAGEix-GLOBIOM 1.1-R12-MAGPIE   \n6955              MESSAGEix-GLOBIOM 1.1-R12-MAGPIE   \n6956              MESSAGEix-GLOBIOM 1.1-R12-MAGPIE   \n6957              MESSAGEix-GLOBIOM 1.1-R12-MAGPIE   \n6958              MESSAGEix-GLOBIOM 1.1-R12-MAGPIE   \n6959              MESSAGEix-GLOBIOM 1.1-R12-MAGPIE   \n6960              MESSAGEix-GLOBIOM 1.1-R12-MAGPIE   \n6961              MESSAGEix-GLOBIOM 1.1-R12-MAGPIE   \n6962            MESSAGEix-GLOBIOM 1.1-R12-MAGPIE-M   \n6971  MESSAGEix-GLOBIOM 1.1-R12-MAGPIE-MP00BD0BI70   \n6977  MESSAGEix-GLOBIOM 1.1-R12-MAGPIE-MP00BD0BI74   \n6987  MESSAGEix-GLOBIOM 1.1-R12-MAGPIE-MP00BD0BI78   \n6998  MESSAGEix-GLOBIOM 1.1-R12-MAGPIE-MP00BD1BI00   \n7005  MESSAGEix-GLOBIOM 1.1-R12-MAGPIE-MP30BD0BI70   \n7011  MESSAGEix-GLOBIOM 1.1-R12-MAGPIE-MP30BD0BI74   \n7013  MESSAGEix-GLOBIOM 1.1-R12-MAGPIE-MP30BD0BI78   \n7020  MESSAGEix-GLOBIOM 1.1-R12-MAGPIE-MP30BD1BI00   \n7028  MESSAGEix-GLOBIOM 1.1-R12-MAGPIE-MP50BD0BI70   \n7036  MESSAGEix-GLOBIOM 1.1-R12-MAGPIE-MP50BD0BI74   \n7044  MESSAGEix-GLOBIOM 1.1-R12-MAGPIE-MP50BD0BI78   \n7052  MESSAGEix-GLOBIOM 1.1-R12-MAGPIE-MP50BD1BI00   \n7060  MESSAGEix-GLOBIOM 1.1-R12-MAGPIE-MP76BD0BI70   \n7068  MESSAGEix-GLOBIOM 1.1-R12-MAGPIE-MP76BD0BI74   \n7075  MESSAGEix-GLOBIOM 1.1-R12-MAGPIE-MP76BD0BI78   \n7083  MESSAGEix-GLOBIOM 1.1-R12-MAGPIE-MP76BD1BI00   \n7084  MESSAGEix-GLOBIOM 1.1-R12-MAGPIE_MP00BD1BI00   \n\n                                   scenario   scheme  is_default  is_locked  \\\n6950                               baseline  MESSAGE           1          0   \n6951                   baseline_MP00BD0BI78  MESSAGE           1          0   \n6952        baseline_MP00BD0BI78_test_calib  MESSAGE           1          0   \n6953  baseline_MP00BD0BI78_test_calib_macro  MESSAGE           1          0   \n6954                   baseline_MP00BD1BI00  MESSAGE           1          0   \n6955                   baseline_MP76BD0BI70  MESSAGE           1          0   \n6956                   baseline_MP76BD0BI78  MESSAGE           1          0   \n6957           baseline_MP76BD0BI78test_scp  MESSAGE           1          0   \n6958                   baseline_MP76BD1BI00  MESSAGE           1          0   \n6959           baseline_MP76BD1BI00test_scp  MESSAGE           1          0   \n6960                   baseline_cum_LU_emis  MESSAGE           1          0   \n6961                        baseline_w/o_LU  MESSAGE           1          0   \n6962                               baseline  MESSAGE           1          0   \n6971                               baseline  MESSAGE           1          0   \n6977                               baseline  MESSAGE           1          0   \n6987                               baseline  MESSAGE           1          0   \n6998                               baseline  MESSAGE           1          0   \n7005                               baseline  MESSAGE           1          0   \n7011                               baseline  MESSAGE           1          0   \n7013                               baseline  MESSAGE           1          0   \n7020                               baseline  MESSAGE           1          0   \n7028                               baseline  MESSAGE           1          0   \n7036                               baseline  MESSAGE           1          0   \n7044                               baseline  MESSAGE           1          0   \n7052                               baseline  MESSAGE           1          0   \n7060                               baseline  MESSAGE           1          0   \n7068                               baseline  MESSAGE           1          0   \n7075                               baseline  MESSAGE           1          0   \n7083                               baseline  MESSAGE           1          0   \n7084                               baseline  MESSAGE           1          0   \n\n     cre_user                    cre_date upd_user  \\\n6950   maczek  2023-08-03 11:49:57.000000   maczek   \n6951   maczek  2023-08-08 13:39:45.000000   maczek   \n6952   maczek  2023-08-09 09:30:09.000000   maczek   \n6953   maczek  2023-08-09 09:37:24.000000   maczek   \n6954   maczek  2023-08-08 10:17:35.000000   maczek   \n6955   maczek  2023-08-09 09:10:13.000000     None   \n6956   maczek  2023-08-09 09:56:43.000000     None   \n6957   maczek  2023-08-09 15:00:57.000000   maczek   \n6958   maczek  2023-08-09 15:20:37.000000     None   \n6959   maczek  2023-08-09 16:57:44.000000   maczek   \n6960   maczek  2023-08-06 20:02:21.000000   maczek   \n6961   maczek  2023-08-08 09:50:56.000000     None   \n6962   maczek  2023-08-24 09:43:03.000000     None   \n6971   maczek  2023-08-23 13:40:54.000000   maczek   \n6977   maczek  2023-08-23 13:30:41.000000   maczek   \n6987   maczek  2023-08-22 23:50:24.000000   maczek   \n6998   maczek  2023-08-23 14:39:04.000000   maczek   \n7005   maczek  2023-08-23 16:23:21.000000   maczek   \n7011   maczek  2023-08-23 16:12:44.000000   maczek   \n7013   maczek  2023-08-23 16:00:04.000000   maczek   \n7020   maczek  2023-08-23 17:53:09.000000   maczek   \n7028   maczek  2023-08-23 22:52:13.000000   maczek   \n7036   maczek  2023-08-23 22:42:02.000000   maczek   \n7044   maczek  2023-08-23 18:03:02.000000   maczek   \n7052   maczek  2023-08-24 00:05:58.000000   maczek   \n7060   maczek  2023-08-24 00:16:04.000000   maczek   \n7068   maczek  2023-08-24 08:22:27.000000   maczek   \n7075   maczek  2023-08-24 08:32:00.000000   maczek   \n7083   maczek  2023-08-24 09:44:01.000000   maczek   \n7084   maczek  2023-08-14 13:07:05.000000     None   \n\n                        upd_date lock_user lock_date  \\\n6950  2023-08-04 16:29:36.000000      None      None   \n6951  2023-08-08 15:37:34.000000      None      None   \n6952  2023-08-09 09:35:09.000000      None      None   \n6953  2023-08-09 09:47:10.000000      None      None   \n6954  2023-08-08 11:52:04.000000      None      None   \n6955                        None      None      None   \n6956                        None      None      None   \n6957  2023-08-09 15:59:13.000000      None      None   \n6958                        None      None      None   \n6959  2023-08-09 17:26:01.000000      None      None   \n6960  2023-08-06 20:05:37.000000      None      None   \n6961                        None      None      None   \n6962                        None      None      None   \n6971  2023-08-28 11:25:05.000000      None      None   \n6977  2023-08-28 11:17:38.000000      None      None   \n6987  2023-08-28 11:09:29.000000      None      None   \n6998  2023-08-28 11:48:42.000000      None      None   \n7005  2023-08-28 12:12:04.000000      None      None   \n7011  2023-08-28 12:03:48.000000      None      None   \n7013  2023-08-28 11:55:59.000000      None      None   \n7020  2023-08-28 12:20:17.000000      None      None   \n7028  2023-08-28 12:43:31.000000      None      None   \n7036  2023-08-28 12:35:35.000000      None      None   \n7044  2023-08-28 12:27:41.000000      None      None   \n7052  2023-08-28 13:10:43.000000      None      None   \n7060  2023-08-28 13:18:38.000000      None      None   \n7068  2023-08-28 13:26:36.000000      None      None   \n7075  2023-08-28 13:34:56.000000      None      None   \n7083  2023-08-28 13:44:05.000000      None      None   \n7084                        None      None      None   \n\n                                             annotation  version  \n6950  clone Scenario from 'MESSAGEix-GLOBIOM 1.1-R12...        2  \n6951  clone Scenario from 'MESSAGEix-GLOBIOM 1.1-R12...        1  \n6952  clone Scenario from 'MESSAGEix-GLOBIOM 1.1-R12...        1  \n6953  clone Scenario from 'MESSAGEix-GLOBIOM 1.1-R12...        1  \n6954  clone Scenario from 'MESSAGEix-GLOBIOM 1.1-R12...        1  \n6955  clone Scenario from 'MESSAGEix-GLOBIOM 1.1-R12...        1  \n6956  clone Scenario from 'MESSAGEix-GLOBIOM 1.1-R12...        1  \n6957  clone Scenario from 'MESSAGEix-GLOBIOM 1.1-R12...        1  \n6958  clone Scenario from 'MESSAGEix-GLOBIOM 1.1-R12...        1  \n6959  clone Scenario from 'MESSAGEix-GLOBIOM 1.1-R12...        1  \n6960  clone Scenario from 'MESSAGEix-GLOBIOM 1.1-R12...        1  \n6961  clone Scenario from 'MESSAGEix-GLOBIOM 1.1-R12...        1  \n6962  clone Scenario from 'MESSAGEix-GLOBIOM 1.1-R12...        1  \n6971  clone Scenario from 'MESSAGEix-GLOBIOM 1.1-R12...        1  \n6977  clone Scenario from 'MESSAGEix-GLOBIOM 1.1-R12...        1  \n6987  clone Scenario from 'MESSAGEix-GLOBIOM 1.1-R12...        2  \n6998  clone Scenario from 'MESSAGEix-GLOBIOM 1.1-R12...        4  \n7005  clone Scenario from 'MESSAGEix-GLOBIOM 1.1-R12...        1  \n7011  clone Scenario from 'MESSAGEix-GLOBIOM 1.1-R12...        1  \n7013  clone Scenario from 'MESSAGEix-GLOBIOM 1.1-R12...        2  \n7020  clone Scenario from 'MESSAGEix-GLOBIOM 1.1-R12...        2  \n7028  clone Scenario from 'MESSAGEix-GLOBIOM 1.1-R12...        1  \n7036  clone Scenario from 'MESSAGEix-GLOBIOM 1.1-R12...        1  \n7044  clone Scenario from 'MESSAGEix-GLOBIOM 1.1-R12...        1  \n7052  clone Scenario from 'MESSAGEix-GLOBIOM 1.1-R12...        1  \n7060  clone Scenario from 'MESSAGEix-GLOBIOM 1.1-R12...        1  \n7068  clone Scenario from 'MESSAGEix-GLOBIOM 1.1-R12...        1  \n7075  clone Scenario from 'MESSAGEix-GLOBIOM 1.1-R12...        1  \n7083  clone Scenario from 'MESSAGEix-GLOBIOM 1.1-R12...        1  \n7084  clone Scenario from 'MESSAGEix-GLOBIOM 1.1-R12...        1  ",
      "text/html": "<div>\n<style scoped>\n    .dataframe tbody tr th:only-of-type {\n        vertical-align: middle;\n    }\n\n    .dataframe tbody tr th {\n        vertical-align: top;\n    }\n\n    .dataframe thead th {\n        text-align: right;\n    }\n</style>\n<table border=\"1\" class=\"dataframe\">\n  <thead>\n    <tr style=\"text-align: right;\">\n      <th></th>\n      <th>model</th>\n      <th>scenario</th>\n      <th>scheme</th>\n      <th>is_default</th>\n      <th>is_locked</th>\n      <th>cre_user</th>\n      <th>cre_date</th>\n      <th>upd_user</th>\n      <th>upd_date</th>\n      <th>lock_user</th>\n      <th>lock_date</th>\n      <th>annotation</th>\n      <th>version</th>\n    </tr>\n  </thead>\n  <tbody>\n    <tr>\n      <th>6950</th>\n      <td>MESSAGEix-GLOBIOM 1.1-R12-MAGPIE</td>\n      <td>baseline</td>\n      <td>MESSAGE</td>\n      <td>1</td>\n      <td>0</td>\n      <td>maczek</td>\n      <td>2023-08-03 11:49:57.000000</td>\n      <td>maczek</td>\n      <td>2023-08-04 16:29:36.000000</td>\n      <td>None</td>\n      <td>None</td>\n      <td>clone Scenario from 'MESSAGEix-GLOBIOM 1.1-R12...</td>\n      <td>2</td>\n    </tr>\n    <tr>\n      <th>6951</th>\n      <td>MESSAGEix-GLOBIOM 1.1-R12-MAGPIE</td>\n      <td>baseline_MP00BD0BI78</td>\n      <td>MESSAGE</td>\n      <td>1</td>\n      <td>0</td>\n      <td>maczek</td>\n      <td>2023-08-08 13:39:45.000000</td>\n      <td>maczek</td>\n      <td>2023-08-08 15:37:34.000000</td>\n      <td>None</td>\n      <td>None</td>\n      <td>clone Scenario from 'MESSAGEix-GLOBIOM 1.1-R12...</td>\n      <td>1</td>\n    </tr>\n    <tr>\n      <th>6952</th>\n      <td>MESSAGEix-GLOBIOM 1.1-R12-MAGPIE</td>\n      <td>baseline_MP00BD0BI78_test_calib</td>\n      <td>MESSAGE</td>\n      <td>1</td>\n      <td>0</td>\n      <td>maczek</td>\n      <td>2023-08-09 09:30:09.000000</td>\n      <td>maczek</td>\n      <td>2023-08-09 09:35:09.000000</td>\n      <td>None</td>\n      <td>None</td>\n      <td>clone Scenario from 'MESSAGEix-GLOBIOM 1.1-R12...</td>\n      <td>1</td>\n    </tr>\n    <tr>\n      <th>6953</th>\n      <td>MESSAGEix-GLOBIOM 1.1-R12-MAGPIE</td>\n      <td>baseline_MP00BD0BI78_test_calib_macro</td>\n      <td>MESSAGE</td>\n      <td>1</td>\n      <td>0</td>\n      <td>maczek</td>\n      <td>2023-08-09 09:37:24.000000</td>\n      <td>maczek</td>\n      <td>2023-08-09 09:47:10.000000</td>\n      <td>None</td>\n      <td>None</td>\n      <td>clone Scenario from 'MESSAGEix-GLOBIOM 1.1-R12...</td>\n      <td>1</td>\n    </tr>\n    <tr>\n      <th>6954</th>\n      <td>MESSAGEix-GLOBIOM 1.1-R12-MAGPIE</td>\n      <td>baseline_MP00BD1BI00</td>\n      <td>MESSAGE</td>\n      <td>1</td>\n      <td>0</td>\n      <td>maczek</td>\n      <td>2023-08-08 10:17:35.000000</td>\n      <td>maczek</td>\n      <td>2023-08-08 11:52:04.000000</td>\n      <td>None</td>\n      <td>None</td>\n      <td>clone Scenario from 'MESSAGEix-GLOBIOM 1.1-R12...</td>\n      <td>1</td>\n    </tr>\n    <tr>\n      <th>6955</th>\n      <td>MESSAGEix-GLOBIOM 1.1-R12-MAGPIE</td>\n      <td>baseline_MP76BD0BI70</td>\n      <td>MESSAGE</td>\n      <td>1</td>\n      <td>0</td>\n      <td>maczek</td>\n      <td>2023-08-09 09:10:13.000000</td>\n      <td>None</td>\n      <td>None</td>\n      <td>None</td>\n      <td>None</td>\n      <td>clone Scenario from 'MESSAGEix-GLOBIOM 1.1-R12...</td>\n      <td>1</td>\n    </tr>\n    <tr>\n      <th>6956</th>\n      <td>MESSAGEix-GLOBIOM 1.1-R12-MAGPIE</td>\n      <td>baseline_MP76BD0BI78</td>\n      <td>MESSAGE</td>\n      <td>1</td>\n      <td>0</td>\n      <td>maczek</td>\n      <td>2023-08-09 09:56:43.000000</td>\n      <td>None</td>\n      <td>None</td>\n      <td>None</td>\n      <td>None</td>\n      <td>clone Scenario from 'MESSAGEix-GLOBIOM 1.1-R12...</td>\n      <td>1</td>\n    </tr>\n    <tr>\n      <th>6957</th>\n      <td>MESSAGEix-GLOBIOM 1.1-R12-MAGPIE</td>\n      <td>baseline_MP76BD0BI78test_scp</td>\n      <td>MESSAGE</td>\n      <td>1</td>\n      <td>0</td>\n      <td>maczek</td>\n      <td>2023-08-09 15:00:57.000000</td>\n      <td>maczek</td>\n      <td>2023-08-09 15:59:13.000000</td>\n      <td>None</td>\n      <td>None</td>\n      <td>clone Scenario from 'MESSAGEix-GLOBIOM 1.1-R12...</td>\n      <td>1</td>\n    </tr>\n    <tr>\n      <th>6958</th>\n      <td>MESSAGEix-GLOBIOM 1.1-R12-MAGPIE</td>\n      <td>baseline_MP76BD1BI00</td>\n      <td>MESSAGE</td>\n      <td>1</td>\n      <td>0</td>\n      <td>maczek</td>\n      <td>2023-08-09 15:20:37.000000</td>\n      <td>None</td>\n      <td>None</td>\n      <td>None</td>\n      <td>None</td>\n      <td>clone Scenario from 'MESSAGEix-GLOBIOM 1.1-R12...</td>\n      <td>1</td>\n    </tr>\n    <tr>\n      <th>6959</th>\n      <td>MESSAGEix-GLOBIOM 1.1-R12-MAGPIE</td>\n      <td>baseline_MP76BD1BI00test_scp</td>\n      <td>MESSAGE</td>\n      <td>1</td>\n      <td>0</td>\n      <td>maczek</td>\n      <td>2023-08-09 16:57:44.000000</td>\n      <td>maczek</td>\n      <td>2023-08-09 17:26:01.000000</td>\n      <td>None</td>\n      <td>None</td>\n      <td>clone Scenario from 'MESSAGEix-GLOBIOM 1.1-R12...</td>\n      <td>1</td>\n    </tr>\n    <tr>\n      <th>6960</th>\n      <td>MESSAGEix-GLOBIOM 1.1-R12-MAGPIE</td>\n      <td>baseline_cum_LU_emis</td>\n      <td>MESSAGE</td>\n      <td>1</td>\n      <td>0</td>\n      <td>maczek</td>\n      <td>2023-08-06 20:02:21.000000</td>\n      <td>maczek</td>\n      <td>2023-08-06 20:05:37.000000</td>\n      <td>None</td>\n      <td>None</td>\n      <td>clone Scenario from 'MESSAGEix-GLOBIOM 1.1-R12...</td>\n      <td>1</td>\n    </tr>\n    <tr>\n      <th>6961</th>\n      <td>MESSAGEix-GLOBIOM 1.1-R12-MAGPIE</td>\n      <td>baseline_w/o_LU</td>\n      <td>MESSAGE</td>\n      <td>1</td>\n      <td>0</td>\n      <td>maczek</td>\n      <td>2023-08-08 09:50:56.000000</td>\n      <td>None</td>\n      <td>None</td>\n      <td>None</td>\n      <td>None</td>\n      <td>clone Scenario from 'MESSAGEix-GLOBIOM 1.1-R12...</td>\n      <td>1</td>\n    </tr>\n    <tr>\n      <th>6962</th>\n      <td>MESSAGEix-GLOBIOM 1.1-R12-MAGPIE-M</td>\n      <td>baseline</td>\n      <td>MESSAGE</td>\n      <td>1</td>\n      <td>0</td>\n      <td>maczek</td>\n      <td>2023-08-24 09:43:03.000000</td>\n      <td>None</td>\n      <td>None</td>\n      <td>None</td>\n      <td>None</td>\n      <td>clone Scenario from 'MESSAGEix-GLOBIOM 1.1-R12...</td>\n      <td>1</td>\n    </tr>\n    <tr>\n      <th>6971</th>\n      <td>MESSAGEix-GLOBIOM 1.1-R12-MAGPIE-MP00BD0BI70</td>\n      <td>baseline</td>\n      <td>MESSAGE</td>\n      <td>1</td>\n      <td>0</td>\n      <td>maczek</td>\n      <td>2023-08-23 13:40:54.000000</td>\n      <td>maczek</td>\n      <td>2023-08-28 11:25:05.000000</td>\n      <td>None</td>\n      <td>None</td>\n      <td>clone Scenario from 'MESSAGEix-GLOBIOM 1.1-R12...</td>\n      <td>1</td>\n    </tr>\n    <tr>\n      <th>6977</th>\n      <td>MESSAGEix-GLOBIOM 1.1-R12-MAGPIE-MP00BD0BI74</td>\n      <td>baseline</td>\n      <td>MESSAGE</td>\n      <td>1</td>\n      <td>0</td>\n      <td>maczek</td>\n      <td>2023-08-23 13:30:41.000000</td>\n      <td>maczek</td>\n      <td>2023-08-28 11:17:38.000000</td>\n      <td>None</td>\n      <td>None</td>\n      <td>clone Scenario from 'MESSAGEix-GLOBIOM 1.1-R12...</td>\n      <td>1</td>\n    </tr>\n    <tr>\n      <th>6987</th>\n      <td>MESSAGEix-GLOBIOM 1.1-R12-MAGPIE-MP00BD0BI78</td>\n      <td>baseline</td>\n      <td>MESSAGE</td>\n      <td>1</td>\n      <td>0</td>\n      <td>maczek</td>\n      <td>2023-08-22 23:50:24.000000</td>\n      <td>maczek</td>\n      <td>2023-08-28 11:09:29.000000</td>\n      <td>None</td>\n      <td>None</td>\n      <td>clone Scenario from 'MESSAGEix-GLOBIOM 1.1-R12...</td>\n      <td>2</td>\n    </tr>\n    <tr>\n      <th>6998</th>\n      <td>MESSAGEix-GLOBIOM 1.1-R12-MAGPIE-MP00BD1BI00</td>\n      <td>baseline</td>\n      <td>MESSAGE</td>\n      <td>1</td>\n      <td>0</td>\n      <td>maczek</td>\n      <td>2023-08-23 14:39:04.000000</td>\n      <td>maczek</td>\n      <td>2023-08-28 11:48:42.000000</td>\n      <td>None</td>\n      <td>None</td>\n      <td>clone Scenario from 'MESSAGEix-GLOBIOM 1.1-R12...</td>\n      <td>4</td>\n    </tr>\n    <tr>\n      <th>7005</th>\n      <td>MESSAGEix-GLOBIOM 1.1-R12-MAGPIE-MP30BD0BI70</td>\n      <td>baseline</td>\n      <td>MESSAGE</td>\n      <td>1</td>\n      <td>0</td>\n      <td>maczek</td>\n      <td>2023-08-23 16:23:21.000000</td>\n      <td>maczek</td>\n      <td>2023-08-28 12:12:04.000000</td>\n      <td>None</td>\n      <td>None</td>\n      <td>clone Scenario from 'MESSAGEix-GLOBIOM 1.1-R12...</td>\n      <td>1</td>\n    </tr>\n    <tr>\n      <th>7011</th>\n      <td>MESSAGEix-GLOBIOM 1.1-R12-MAGPIE-MP30BD0BI74</td>\n      <td>baseline</td>\n      <td>MESSAGE</td>\n      <td>1</td>\n      <td>0</td>\n      <td>maczek</td>\n      <td>2023-08-23 16:12:44.000000</td>\n      <td>maczek</td>\n      <td>2023-08-28 12:03:48.000000</td>\n      <td>None</td>\n      <td>None</td>\n      <td>clone Scenario from 'MESSAGEix-GLOBIOM 1.1-R12...</td>\n      <td>1</td>\n    </tr>\n    <tr>\n      <th>7013</th>\n      <td>MESSAGEix-GLOBIOM 1.1-R12-MAGPIE-MP30BD0BI78</td>\n      <td>baseline</td>\n      <td>MESSAGE</td>\n      <td>1</td>\n      <td>0</td>\n      <td>maczek</td>\n      <td>2023-08-23 16:00:04.000000</td>\n      <td>maczek</td>\n      <td>2023-08-28 11:55:59.000000</td>\n      <td>None</td>\n      <td>None</td>\n      <td>clone Scenario from 'MESSAGEix-GLOBIOM 1.1-R12...</td>\n      <td>2</td>\n    </tr>\n    <tr>\n      <th>7020</th>\n      <td>MESSAGEix-GLOBIOM 1.1-R12-MAGPIE-MP30BD1BI00</td>\n      <td>baseline</td>\n      <td>MESSAGE</td>\n      <td>1</td>\n      <td>0</td>\n      <td>maczek</td>\n      <td>2023-08-23 17:53:09.000000</td>\n      <td>maczek</td>\n      <td>2023-08-28 12:20:17.000000</td>\n      <td>None</td>\n      <td>None</td>\n      <td>clone Scenario from 'MESSAGEix-GLOBIOM 1.1-R12...</td>\n      <td>2</td>\n    </tr>\n    <tr>\n      <th>7028</th>\n      <td>MESSAGEix-GLOBIOM 1.1-R12-MAGPIE-MP50BD0BI70</td>\n      <td>baseline</td>\n      <td>MESSAGE</td>\n      <td>1</td>\n      <td>0</td>\n      <td>maczek</td>\n      <td>2023-08-23 22:52:13.000000</td>\n      <td>maczek</td>\n      <td>2023-08-28 12:43:31.000000</td>\n      <td>None</td>\n      <td>None</td>\n      <td>clone Scenario from 'MESSAGEix-GLOBIOM 1.1-R12...</td>\n      <td>1</td>\n    </tr>\n    <tr>\n      <th>7036</th>\n      <td>MESSAGEix-GLOBIOM 1.1-R12-MAGPIE-MP50BD0BI74</td>\n      <td>baseline</td>\n      <td>MESSAGE</td>\n      <td>1</td>\n      <td>0</td>\n      <td>maczek</td>\n      <td>2023-08-23 22:42:02.000000</td>\n      <td>maczek</td>\n      <td>2023-08-28 12:35:35.000000</td>\n      <td>None</td>\n      <td>None</td>\n      <td>clone Scenario from 'MESSAGEix-GLOBIOM 1.1-R12...</td>\n      <td>1</td>\n    </tr>\n    <tr>\n      <th>7044</th>\n      <td>MESSAGEix-GLOBIOM 1.1-R12-MAGPIE-MP50BD0BI78</td>\n      <td>baseline</td>\n      <td>MESSAGE</td>\n      <td>1</td>\n      <td>0</td>\n      <td>maczek</td>\n      <td>2023-08-23 18:03:02.000000</td>\n      <td>maczek</td>\n      <td>2023-08-28 12:27:41.000000</td>\n      <td>None</td>\n      <td>None</td>\n      <td>clone Scenario from 'MESSAGEix-GLOBIOM 1.1-R12...</td>\n      <td>1</td>\n    </tr>\n    <tr>\n      <th>7052</th>\n      <td>MESSAGEix-GLOBIOM 1.1-R12-MAGPIE-MP50BD1BI00</td>\n      <td>baseline</td>\n      <td>MESSAGE</td>\n      <td>1</td>\n      <td>0</td>\n      <td>maczek</td>\n      <td>2023-08-24 00:05:58.000000</td>\n      <td>maczek</td>\n      <td>2023-08-28 13:10:43.000000</td>\n      <td>None</td>\n      <td>None</td>\n      <td>clone Scenario from 'MESSAGEix-GLOBIOM 1.1-R12...</td>\n      <td>1</td>\n    </tr>\n    <tr>\n      <th>7060</th>\n      <td>MESSAGEix-GLOBIOM 1.1-R12-MAGPIE-MP76BD0BI70</td>\n      <td>baseline</td>\n      <td>MESSAGE</td>\n      <td>1</td>\n      <td>0</td>\n      <td>maczek</td>\n      <td>2023-08-24 00:16:04.000000</td>\n      <td>maczek</td>\n      <td>2023-08-28 13:18:38.000000</td>\n      <td>None</td>\n      <td>None</td>\n      <td>clone Scenario from 'MESSAGEix-GLOBIOM 1.1-R12...</td>\n      <td>1</td>\n    </tr>\n    <tr>\n      <th>7068</th>\n      <td>MESSAGEix-GLOBIOM 1.1-R12-MAGPIE-MP76BD0BI74</td>\n      <td>baseline</td>\n      <td>MESSAGE</td>\n      <td>1</td>\n      <td>0</td>\n      <td>maczek</td>\n      <td>2023-08-24 08:22:27.000000</td>\n      <td>maczek</td>\n      <td>2023-08-28 13:26:36.000000</td>\n      <td>None</td>\n      <td>None</td>\n      <td>clone Scenario from 'MESSAGEix-GLOBIOM 1.1-R12...</td>\n      <td>1</td>\n    </tr>\n    <tr>\n      <th>7075</th>\n      <td>MESSAGEix-GLOBIOM 1.1-R12-MAGPIE-MP76BD0BI78</td>\n      <td>baseline</td>\n      <td>MESSAGE</td>\n      <td>1</td>\n      <td>0</td>\n      <td>maczek</td>\n      <td>2023-08-24 08:32:00.000000</td>\n      <td>maczek</td>\n      <td>2023-08-28 13:34:56.000000</td>\n      <td>None</td>\n      <td>None</td>\n      <td>clone Scenario from 'MESSAGEix-GLOBIOM 1.1-R12...</td>\n      <td>1</td>\n    </tr>\n    <tr>\n      <th>7083</th>\n      <td>MESSAGEix-GLOBIOM 1.1-R12-MAGPIE-MP76BD1BI00</td>\n      <td>baseline</td>\n      <td>MESSAGE</td>\n      <td>1</td>\n      <td>0</td>\n      <td>maczek</td>\n      <td>2023-08-24 09:44:01.000000</td>\n      <td>maczek</td>\n      <td>2023-08-28 13:44:05.000000</td>\n      <td>None</td>\n      <td>None</td>\n      <td>clone Scenario from 'MESSAGEix-GLOBIOM 1.1-R12...</td>\n      <td>1</td>\n    </tr>\n    <tr>\n      <th>7084</th>\n      <td>MESSAGEix-GLOBIOM 1.1-R12-MAGPIE_MP00BD1BI00</td>\n      <td>baseline</td>\n      <td>MESSAGE</td>\n      <td>1</td>\n      <td>0</td>\n      <td>maczek</td>\n      <td>2023-08-14 13:07:05.000000</td>\n      <td>None</td>\n      <td>None</td>\n      <td>None</td>\n      <td>None</td>\n      <td>clone Scenario from 'MESSAGEix-GLOBIOM 1.1-R12...</td>\n      <td>1</td>\n    </tr>\n  </tbody>\n</table>\n</div>"
     },
     "execution_count": 5,
     "metadata": {},
     "output_type": "execute_result"
    }
   ],
   "source": [
    "df[(df[\"model\"].str.startswith(\"MESSAGEix-GLOBIOM 1.1-R12-MAGPIE\")) & (df[\"scenario\"].str.contains(\"baseline\"))].sort_values(\"model\")"
   ],
   "metadata": {
    "collapsed": false
   }
  },
  {
   "cell_type": "code",
   "execution_count": 5,
   "outputs": [],
   "source": [
    "#scen = message_ix.Scenario(mp, \"MESSAGEix-GLOBIOM 1.1-R12-MAGPIE\", \"baseline\")\n",
    "#scen = message_ix.Scenario(mp, \"MESSAGEix-GLOBIOM 1.1-R12\", \"baseline_DEFAULT\")\n",
    "#scen = message_ix.Scenario(mp, \"MESSAGEix-GLOBIOM 1.1-R12-MAGPIE-MP00BD1BI00\", \"baseline\")\n",
    "#scen = message_ix.Scenario(mp, \"MESSAGEix-GLOBIOM 1.1-R12-MAGPIE-MP00BD1BI00\", \"NPi2020-con-prim-dir-ncr\")\n",
    "#scen = message_ix.Scenario(mp, \"MESSAGEix-GLOBIOM 1.1-R12-MAGPIE-MP00BD1BI00\", \"npi_low_dem_scen\")\n",
    "#scen = message_ix.Scenario(mp, \"ENGAGE_SSP2_v4.1.8.1\", \"baseline\")\n",
    "scen = message_ix.Scenario(mp, \"MESSAGEix-GLOBIOM 1.1-R12-MAGPIE\", \"baseline_w/o_LU\")"
   ],
   "metadata": {
    "collapsed": false,
    "ExecuteTime": {
     "end_time": "2023-09-11T08:01:14.451774300Z",
     "start_time": "2023-09-11T08:01:11.092726Z"
    }
   }
  },
  {
   "cell_type": "code",
   "execution_count": 4,
   "outputs": [],
   "source": [
    "def build_magpie_baseline_from_r12_base(scen_base, magpie_scen):\n",
    "    scen = scen_base.clone(scen_base.model+\"-\"+magpie_scen, \"baseline\")\n",
    "    if scen.has_solution():\n",
    "        scen.remove_solution()\n",
    "    add_globiom(\n",
    "        mp,\n",
    "        scen,\n",
    "        \"SSP2\",\n",
    "        private_data_path(),\n",
    "        2015,\n",
    "        globiom_scenario=\"noSDG_rcpref\",\n",
    "        regenerate_input_data=True,\n",
    "        #regenerate_input_data_only=True,\n",
    "        #allow_empty_drivers=True,\n",
    "        add_reporting_data=True,\n",
    "        config_setup=\"MAGPIE_\"+magpie_scen\n",
    "    )\n",
    "    scen.set_as_default()\n",
    "    return scen"
   ],
   "metadata": {
    "collapsed": false
   }
  },
  {
   "cell_type": "code",
   "execution_count": 5,
   "outputs": [],
   "source": [
    "magpie_scens = [\n",
    "    \"MP00BD0BI78\",\n",
    "    \"MP00BD0BI74\",\n",
    "    \"MP00BD0BI70\",\n",
    "    \"MP00BD1BI00\",\n",
    "    \"MP30BD0BI78\",\n",
    "    \"MP30BD0BI74\",\n",
    "    \"MP30BD0BI70\",\n",
    "    \"MP30BD1BI00\",\n",
    "    \"MP50BD0BI78\",\n",
    "    \"MP50BD0BI74\",\n",
    "    \"MP50BD0BI70\",\n",
    "    \"MP50BD1BI00\",\n",
    "    \"MP76BD0BI70\",\n",
    "    \"MP76BD0BI74\",\n",
    "    \"MP76BD0BI78\",\n",
    "    \"MP76BD1BI00\"\n",
    "]\n",
    "magpie_scen = magpie_scens[0]"
   ],
   "metadata": {
    "collapsed": false
   }
  },
  {
   "cell_type": "code",
   "execution_count": 6,
   "outputs": [],
   "source": [
    "mp = ixmp.Platform(\"ixmp_dev\")\n",
    "#scen_base = message_ix.Scenario(mp, \"MESSAGEix-GLOBIOM 1.1-R12-MAGPIE\", \"baseline_w/o_LU\")"
   ],
   "metadata": {
    "collapsed": false
   }
  },
  {
   "cell_type": "code",
   "execution_count": null,
   "outputs": [
    {
     "name": "stdout",
     "output_type": "stream",
     "text": [
      "read-in of MP00BD0BI74 matrix started\n",
      "Starting to process data input from csv file.\n",
      "Agricultural Demand\n",
      "Agricultural Demand|Energy\n",
      "Agricultural Demand|Energy|Crops\n",
      "Agricultural Demand|Energy|Crops|1st generation\n",
      "Agricultural Demand|Energy|Crops|2nd generation\n",
      "Agricultural Demand|Non-Energy\n",
      "Agricultural Demand|Non-Energy|Crops\n",
      "Agricultural Demand|Non-Energy|Crops|Feed\n",
      "Agricultural Demand|Non-Energy|Crops|Food\n",
      "Agricultural Demand|Non-Energy|Crops|Other\n",
      "Agricultural Demand|Non-Energy|Crops|Other|Waste\n",
      "Agricultural Demand|Non-Energy|Livestock\n",
      "Agricultural Demand|Non-Energy|Livestock|Food\n",
      "Agricultural Demand|Non-Energy|Livestock|Other\n",
      "Agricultural Demand|Non-Energy|Livestock|Other|Waste\n",
      "Agricultural Production\n",
      "Agricultural Production|Energy\n",
      "Agricultural Production|Energy|Crops\n",
      "Agricultural Production|Energy|Crops|1st generation\n",
      "Agricultural Production|Energy|Crops|2nd generation\n",
      "Agricultural Production|Non-Energy\n",
      "Agricultural Production|Non-Energy|Crops\n",
      "Agricultural Production|Non-Energy|Crops|Cereals\n",
      "Agricultural Production|Non-Energy|Livestock\n",
      "BCA_LandUseChangeEM\n",
      "BCA_SavanBurnEM\n",
      "Biodiversity|BII\n",
      "Biodiversity|BII|Biodiversity hotspots\n",
      "CH4_LandUseChangeEM\n",
      "CH4_SavanBurnEM\n",
      "CO_LandUseChangeEM\n",
      "CO_SavanBurnEM\n",
      "Costs|TC\n",
      "CrpLnd\n",
      "Emissions|CH4|AFOLU\n",
      "Emissions|CH4|AFOLU|Agriculture\n",
      "Emissions|CH4|AFOLU|Agriculture|Livestock\n",
      "Emissions|CH4|AFOLU|Agriculture|Livestock|Enteric Fermentation\n",
      "Emissions|CH4|AFOLU|Agriculture|Livestock|Manure Management\n",
      "Emissions|CH4|AFOLU|Agriculture|Rice\n",
      "Emissions|CH4|AFOLU|Biomass Burning\n",
      "Emissions|CH4|AFOLU|Land\n",
      "Emissions|CH4|AFOLU|Land|Grassland Burning\n",
      "Emissions|CO2|AFOLU\n",
      "Emissions|CO2|AFOLU|Afforestation\n",
      "Emissions|CO2|AFOLU|Agriculture\n",
      "Emissions|CO2|AFOLU|Deforestation\n",
      "Emissions|CO2|AFOLU|Forest Management\n",
      "Emissions|CO2|AFOLU|Negative\n",
      "Emissions|CO2|AFOLU|Other LUC\n",
      "Emissions|CO2|AFOLU|Positive\n",
      "Emissions|CO2|AFOLU|Soil Carbon\n",
      "Emissions|GHG|AFOLU\n",
      "Emissions|N2O|AFOLU\n",
      "Emissions|N2O|AFOLU|Agriculture\n",
      "Emissions|N2O|AFOLU|Agriculture|Livestock\n",
      "Emissions|N2O|AFOLU|Agriculture|Livestock|Manure Management\n",
      "Emissions|N2O|AFOLU|Agriculture|Managed Soils\n",
      "Emissions|N2O|AFOLU|Biomass Burning\n",
      "Emissions|N2O|AFOLU|Land\n",
      "Emissions|N2O|AFOLU|Land|Grassland Burning\n",
      "Emissions|N2O|AFOLU|Land|Grassland Pastures\n",
      "EneCrpLnd\n",
      "EneCrpLnd_gr\n",
      "Fertilizer Use|Nitrogen\n",
      "Fertilizer Use|Phosphorus\n",
      "Fertilizer|Nitrogen|Intensity\n",
      "Fertilizer|Phosphorus|Intensity\n",
      "Food Demand\n",
      "Food Demand|Crops\n",
      "Food Demand|Livestock\n",
      "Food Demand|Microbial protein\n",
      "Forestry Demand|Roundwood\n",
      "Forestry Demand|Roundwood|Industrial Roundwood\n",
      "Forestry Demand|Roundwood|Wood Fuel\n",
      "Forestry Production|Forest Residues\n",
      "Forestry Production|Roundwood\n",
      "Forestry Production|Roundwood|Industrial Roundwood\n",
      "Forestry Production|Roundwood|Wood Fuel\n",
      "GrassLnd\n",
      "LU_CH4\n",
      "LU_CH4_Agri\n",
      "LU_CH4_BioBurn\n",
      "LU_CO2\n",
      "LU_GHG\n",
      "LU_N2O\n",
      "Land Cover\n",
      "Land Cover|Cropland\n",
      "Land Cover|Cropland|Cereals\n",
      "Land Cover|Cropland|Energy Crops\n",
      "Land Cover|Cropland|Irrigated\n",
      "Land Cover|Cropland|Non-Energy Crops\n",
      "Land Cover|Cropland|Oilcrops\n",
      "Land Cover|Cropland|Sugarcrops\n",
      "Land Cover|Forest\n",
      "Land Cover|Forest|Afforestation and Reforestation\n",
      "Land Cover|Forest|Forest old\n",
      "Land Cover|Forest|Forestry\n",
      "Land Cover|Forest|Managed\n",
      "Land Cover|Forest|Natural Forest\n",
      "Land Cover|Other Land\n",
      "Land Cover|Pasture\n",
      "Land Cover|Protected\n",
      "Landuse intensity indicator Tau\n",
      "NH3_LandUseChangeEM\n",
      "NH3_ManureEM\n",
      "NH3_RiceEM\n",
      "NH3_SavanBurnEM\n",
      "NH3_SoilEM\n",
      "NOx_LandUseChangeEM\n",
      "NOx_SavanBurnEM\n",
      "NOx_SoilEM\n",
      "NewForLnd\n",
      "OCA_LandUseChangeEM\n",
      "OCA_SavanBurnEM\n",
      "OldForLnd\n",
      "OtherLnd\n",
      "Population\n",
      "Population|Risk of Hunger\n",
      "Price|Agriculture|Non-Energy Crops and Livestock|Index\n",
      "Price|Agriculture|Non-Energy Crops|Index\n",
      "Price|Carbon|CH4\n",
      "Price|Carbon|CO2\n",
      "Price|Carbon|N2O\n",
      "Price|Water\n",
      "Primary Energy|Biomass\n",
      "Primary Energy|Biomass|1st Generation\n",
      "Primary Energy|Biomass|1st Generation|Biodiesel\n",
      "Primary Energy|Biomass|1st Generation|Bioethanol\n",
      "Primary Energy|Biomass|Energy Crops\n",
      "Primary Energy|Biomass|Fuelwood\n",
      "Primary Energy|Biomass|Other\n",
      "Primary Energy|Biomass|Residues\n",
      "Primary Energy|Biomass|Residues|Forest industry\n",
      "Primary Energy|Biomass|Residues|Logging\n",
      "Primary Energy|Biomass|Roundwood harvest\n",
      "SO2_LandUseChangeEM\n",
      "SO2_SavanBurnEM\n",
      "TCE\n",
      "TotalLnd\n",
      "VOC_LandUseChangeEM\n",
      "VOC_SavanBurnEM\n",
      "Water|Withdrawal|Irrigation\n",
      "Water|Withdrawal|Irrigation|Cereals\n",
      "Water|Withdrawal|Irrigation|Oilcrops\n",
      "Water|Withdrawal|Irrigation|Sugarcrops\n",
      "Yield|Cereals\n",
      "Yield|Energy Crops\n",
      "Yield|Non-Energy Crops\n",
      "Yield|Oilcrops\n",
      "Yield|Sugarcrops\n",
      "bioenergy\n",
      "total_cost\n",
      "Price|Primary Energy|Biomass\n",
      "read-in of MP00BD0BI70 matrix started\n",
      "Starting to process data input from csv file.\n",
      "Agricultural Demand\n",
      "Agricultural Demand|Energy\n",
      "Agricultural Demand|Energy|Crops\n",
      "Agricultural Demand|Energy|Crops|1st generation\n",
      "Agricultural Demand|Energy|Crops|2nd generation\n",
      "Agricultural Demand|Non-Energy\n",
      "Agricultural Demand|Non-Energy|Crops\n",
      "Agricultural Demand|Non-Energy|Crops|Feed\n",
      "Agricultural Demand|Non-Energy|Crops|Food\n",
      "Agricultural Demand|Non-Energy|Crops|Other\n",
      "Agricultural Demand|Non-Energy|Crops|Other|Waste\n",
      "Agricultural Demand|Non-Energy|Livestock\n",
      "Agricultural Demand|Non-Energy|Livestock|Food\n",
      "Agricultural Demand|Non-Energy|Livestock|Other\n",
      "Agricultural Demand|Non-Energy|Livestock|Other|Waste\n",
      "Agricultural Production\n",
      "Agricultural Production|Energy\n",
      "Agricultural Production|Energy|Crops\n",
      "Agricultural Production|Energy|Crops|1st generation\n",
      "Agricultural Production|Energy|Crops|2nd generation\n",
      "Agricultural Production|Non-Energy\n",
      "Agricultural Production|Non-Energy|Crops\n",
      "Agricultural Production|Non-Energy|Crops|Cereals\n",
      "Agricultural Production|Non-Energy|Livestock\n",
      "BCA_LandUseChangeEM\n",
      "BCA_SavanBurnEM\n",
      "Biodiversity|BII\n",
      "Biodiversity|BII|Biodiversity hotspots\n",
      "CH4_LandUseChangeEM\n",
      "CH4_SavanBurnEM\n",
      "CO_LandUseChangeEM\n",
      "CO_SavanBurnEM\n",
      "Costs|TC\n",
      "CrpLnd\n",
      "Emissions|CH4|AFOLU\n",
      "Emissions|CH4|AFOLU|Agriculture\n",
      "Emissions|CH4|AFOLU|Agriculture|Livestock\n",
      "Emissions|CH4|AFOLU|Agriculture|Livestock|Enteric Fermentation\n",
      "Emissions|CH4|AFOLU|Agriculture|Livestock|Manure Management\n",
      "Emissions|CH4|AFOLU|Agriculture|Rice\n",
      "Emissions|CH4|AFOLU|Biomass Burning\n",
      "Emissions|CH4|AFOLU|Land\n",
      "Emissions|CH4|AFOLU|Land|Grassland Burning\n",
      "Emissions|CO2|AFOLU\n",
      "Emissions|CO2|AFOLU|Afforestation\n",
      "Emissions|CO2|AFOLU|Agriculture\n",
      "Emissions|CO2|AFOLU|Deforestation\n",
      "Emissions|CO2|AFOLU|Forest Management\n",
      "Emissions|CO2|AFOLU|Negative\n",
      "Emissions|CO2|AFOLU|Other LUC\n",
      "Emissions|CO2|AFOLU|Positive\n",
      "Emissions|CO2|AFOLU|Soil Carbon\n",
      "Emissions|GHG|AFOLU\n",
      "Emissions|N2O|AFOLU\n",
      "Emissions|N2O|AFOLU|Agriculture\n",
      "Emissions|N2O|AFOLU|Agriculture|Livestock\n",
      "Emissions|N2O|AFOLU|Agriculture|Livestock|Manure Management\n",
      "Emissions|N2O|AFOLU|Agriculture|Managed Soils\n",
      "Emissions|N2O|AFOLU|Biomass Burning\n",
      "Emissions|N2O|AFOLU|Land\n",
      "Emissions|N2O|AFOLU|Land|Grassland Burning\n",
      "Emissions|N2O|AFOLU|Land|Grassland Pastures\n",
      "EneCrpLnd\n",
      "EneCrpLnd_gr\n",
      "Fertilizer Use|Nitrogen\n",
      "Fertilizer Use|Phosphorus\n",
      "Fertilizer|Nitrogen|Intensity\n",
      "Fertilizer|Phosphorus|Intensity\n",
      "Food Demand\n",
      "Food Demand|Crops\n",
      "Food Demand|Livestock\n",
      "Food Demand|Microbial protein\n",
      "Forestry Demand|Roundwood\n",
      "Forestry Demand|Roundwood|Industrial Roundwood\n",
      "Forestry Demand|Roundwood|Wood Fuel\n",
      "Forestry Production|Forest Residues\n",
      "Forestry Production|Roundwood\n",
      "Forestry Production|Roundwood|Industrial Roundwood\n",
      "Forestry Production|Roundwood|Wood Fuel\n",
      "GrassLnd\n",
      "LU_CH4\n",
      "LU_CH4_Agri\n",
      "LU_CH4_BioBurn\n",
      "LU_CO2\n",
      "LU_GHG\n",
      "LU_N2O\n",
      "Land Cover\n",
      "Land Cover|Cropland\n",
      "Land Cover|Cropland|Cereals\n",
      "Land Cover|Cropland|Energy Crops\n",
      "Land Cover|Cropland|Irrigated\n",
      "Land Cover|Cropland|Non-Energy Crops\n",
      "Land Cover|Cropland|Oilcrops\n",
      "Land Cover|Cropland|Sugarcrops\n",
      "Land Cover|Forest\n",
      "Land Cover|Forest|Afforestation and Reforestation\n",
      "Land Cover|Forest|Forest old\n",
      "Land Cover|Forest|Forestry\n",
      "Land Cover|Forest|Managed\n",
      "Land Cover|Forest|Natural Forest\n",
      "Land Cover|Other Land\n",
      "Land Cover|Pasture\n",
      "Land Cover|Protected\n",
      "Landuse intensity indicator Tau\n",
      "NH3_LandUseChangeEM\n",
      "NH3_ManureEM\n",
      "NH3_RiceEM\n",
      "NH3_SavanBurnEM\n",
      "NH3_SoilEM\n",
      "NOx_LandUseChangeEM\n",
      "NOx_SavanBurnEM\n",
      "NOx_SoilEM\n",
      "NewForLnd\n",
      "OCA_LandUseChangeEM\n",
      "OCA_SavanBurnEM\n",
      "OldForLnd\n",
      "OtherLnd\n",
      "Population\n",
      "Population|Risk of Hunger\n",
      "Price|Agriculture|Non-Energy Crops and Livestock|Index\n",
      "Price|Agriculture|Non-Energy Crops|Index\n",
      "Price|Carbon|CH4\n",
      "Price|Carbon|CO2\n",
      "Price|Carbon|N2O\n",
      "Price|Water\n",
      "Primary Energy|Biomass\n",
      "Primary Energy|Biomass|1st Generation\n",
      "Primary Energy|Biomass|1st Generation|Biodiesel\n",
      "Primary Energy|Biomass|1st Generation|Bioethanol\n",
      "Primary Energy|Biomass|Energy Crops\n",
      "Primary Energy|Biomass|Fuelwood\n",
      "Primary Energy|Biomass|Other\n",
      "Primary Energy|Biomass|Residues\n",
      "Primary Energy|Biomass|Residues|Forest industry\n",
      "Primary Energy|Biomass|Residues|Logging\n",
      "Primary Energy|Biomass|Roundwood harvest\n",
      "SO2_LandUseChangeEM\n",
      "SO2_SavanBurnEM\n",
      "TCE\n",
      "TotalLnd\n",
      "VOC_LandUseChangeEM\n",
      "VOC_SavanBurnEM\n",
      "Water|Withdrawal|Irrigation\n",
      "Water|Withdrawal|Irrigation|Cereals\n",
      "Water|Withdrawal|Irrigation|Oilcrops\n",
      "Water|Withdrawal|Irrigation|Sugarcrops\n",
      "Yield|Cereals\n",
      "Yield|Energy Crops\n",
      "Yield|Non-Energy Crops\n",
      "Yield|Oilcrops\n",
      "Yield|Sugarcrops\n",
      "bioenergy\n",
      "total_cost\n",
      "Price|Primary Energy|Biomass\n",
      "read-in of MP00BD1BI00 matrix started\n",
      "Starting to process data input from csv file.\n"
     ]
    }
   ],
   "source": [
    "for magpie_scen in magpie_scens[1:]:\n",
    "    print(f\"read-in of {magpie_scen} matrix started\")\n",
    "    scen = build_magpie_baseline_from_r12_base(scen_base, magpie_scen)\n",
    "    if \"MP00\" not in magpie_scen:\n",
    "        print(f\"adding SCP model to {magpie_scen}\")\n",
    "        scp_dict = data_scp.gen_data_scp(scen)\n",
    "        scen.check_out()\n",
    "        for k,v in scp_dict.items():\n",
    "            scen.add_par(k, v)\n",
    "        scen.commit(\"add SCP tecs\")\n",
    "    scen.set_as_default()"
   ],
   "metadata": {
    "collapsed": false,
    "pycharm": {
     "is_executing": true
    }
   }
  },
  {
   "cell_type": "code",
   "execution_count": 9,
   "outputs": [
    {
     "data": {
      "text/plain": "'MESSAGEix-GLOBIOM 1.1-R12-MAGPIE-MP00BD0BI78'"
     },
     "execution_count": 9,
     "metadata": {},
     "output_type": "execute_result"
    }
   ],
   "source": [
    "scen.model"
   ],
   "metadata": {
    "collapsed": false
   }
  },
  {
   "cell_type": "code",
   "execution_count": 37,
   "outputs": [],
   "source": [
    "#scen.remove_solution()\n",
    "scen.solve(model=\"MESSAGE-MACRO\")"
   ],
   "metadata": {
    "collapsed": false
   }
  },
  {
   "cell_type": "code",
   "execution_count": 28,
   "outputs": [],
   "source": [
    "if \"MP00\" not in magpie_scen:\n",
    "    scp_dict = data_scp.gen_data_scp(scen)\n",
    "    scen.check_out()\n",
    "    for k,v in scp_dict.items():\n",
    "        scen.add_par(k, v)\n",
    "    scen.commit()"
   ],
   "metadata": {
    "collapsed": false
   }
  },
  {
   "cell_type": "code",
   "execution_count": null,
   "outputs": [],
   "source": [
    "scen.check_out()\n",
    "scen.add_set(\"balance_equality\", (\"i_feed\", \"useful\"))\n",
    "scen.commit(\"add ifeed to balance eqÄ\")"
   ],
   "metadata": {
    "collapsed": false
   }
  },
  {
   "cell_type": "code",
   "execution_count": null,
   "outputs": [],
   "source": [
    "scen.solve(model=\"MESSAGE-MACRO\")"
   ],
   "metadata": {
    "collapsed": false
   }
  },
  {
   "cell_type": "code",
   "execution_count": 16,
   "outputs": [],
   "source": [
    "df_ts = scen.timeseries()"
   ],
   "metadata": {
    "collapsed": false
   }
  },
  {
   "cell_type": "code",
   "execution_count": 17,
   "outputs": [
    {
     "data": {
      "text/plain": "array([], dtype=object)"
     },
     "execution_count": 17,
     "metadata": {},
     "output_type": "execute_result"
    }
   ],
   "source": [
    "df_ts[\"year\"].unique()"
   ],
   "metadata": {
    "collapsed": false
   }
  },
  {
   "cell_type": "code",
   "execution_count": 18,
   "outputs": [
    {
     "data": {
      "text/plain": "                                             model                  scenario  \\\n6969  MESSAGEix-GLOBIOM 1.1-R12-MAGPIE-MP00BD0BI70  NPi2020-con-prim-dir-ncr   \n6970  MESSAGEix-GLOBIOM 1.1-R12-MAGPIE-MP00BD0BI70  NPi2030-con-prim-dir-ncr   \n6976  MESSAGEix-GLOBIOM 1.1-R12-MAGPIE-MP00BD0BI74  NPi2020-con-prim-dir-ncr   \n6985  MESSAGEix-GLOBIOM 1.1-R12-MAGPIE-MP00BD0BI78  NPi2020-con-prim-dir-ncr   \n6986  MESSAGEix-GLOBIOM 1.1-R12-MAGPIE-MP00BD0BI78  NPi2030-con-prim-dir-ncr   \n6997  MESSAGEix-GLOBIOM 1.1-R12-MAGPIE-MP00BD1BI00  NPi2020-con-prim-dir-ncr   \n7004  MESSAGEix-GLOBIOM 1.1-R12-MAGPIE-MP30BD0BI70  NPi2020-con-prim-dir-ncr   \n7010  MESSAGEix-GLOBIOM 1.1-R12-MAGPIE-MP30BD0BI74  NPi2020-con-prim-dir-ncr   \n7012  MESSAGEix-GLOBIOM 1.1-R12-MAGPIE-MP30BD0BI78  NPi2020-con-prim-dir-ncr   \n7019  MESSAGEix-GLOBIOM 1.1-R12-MAGPIE-MP30BD1BI00  NPi2020-con-prim-dir-ncr   \n7027  MESSAGEix-GLOBIOM 1.1-R12-MAGPIE-MP50BD0BI70  NPi2020-con-prim-dir-ncr   \n7035  MESSAGEix-GLOBIOM 1.1-R12-MAGPIE-MP50BD0BI74  NPi2020-con-prim-dir-ncr   \n7043  MESSAGEix-GLOBIOM 1.1-R12-MAGPIE-MP50BD0BI78  NPi2020-con-prim-dir-ncr   \n7051  MESSAGEix-GLOBIOM 1.1-R12-MAGPIE-MP50BD1BI00  NPi2020-con-prim-dir-ncr   \n7059  MESSAGEix-GLOBIOM 1.1-R12-MAGPIE-MP76BD0BI70  NPi2020-con-prim-dir-ncr   \n7067  MESSAGEix-GLOBIOM 1.1-R12-MAGPIE-MP76BD0BI74  NPi2020-con-prim-dir-ncr   \n7074  MESSAGEix-GLOBIOM 1.1-R12-MAGPIE-MP76BD0BI78  NPi2020-con-prim-dir-ncr   \n7082  MESSAGEix-GLOBIOM 1.1-R12-MAGPIE-MP76BD1BI00  NPi2020-con-prim-dir-ncr   \n\n       scheme  is_default  is_locked cre_user                    cre_date  \\\n6969  MESSAGE           1          0   maczek  2023-08-25 10:07:00.000000   \n6970  MESSAGE           1          0   maczek  2023-08-24 22:55:18.000000   \n6976  MESSAGE           1          0   maczek  2023-08-24 23:51:00.000000   \n6985  MESSAGE           1          0   maczek  2023-08-24 23:14:26.000000   \n6986  MESSAGE           1          0   maczek  2023-08-22 13:43:19.000000   \n6997  MESSAGE           1          0   maczek  2023-08-25 10:36:08.000000   \n7004  MESSAGE           1          0   maczek  2023-08-25 13:38:00.000000   \n7010  MESSAGE           1          0   maczek  2023-08-25 11:22:25.000000   \n7012  MESSAGE           1          0   maczek  2023-08-28 17:00:51.000000   \n7019  MESSAGE           1          0   maczek  2023-08-25 14:38:55.000000   \n7027  MESSAGE           1          0   maczek  2023-08-25 15:49:51.000000   \n7035  MESSAGE           1          0   maczek  2023-08-25 15:27:05.000000   \n7043  MESSAGE           1          0   maczek  2023-08-25 15:04:01.000000   \n7051  MESSAGE           1          0   maczek  2023-08-25 16:17:51.000000   \n7059  MESSAGE           1          0   maczek  2023-08-25 16:41:07.000000   \n7067  MESSAGE           1          0   maczek  2023-08-25 17:06:02.000000   \n7074  MESSAGE           1          0   maczek  2023-08-25 17:29:13.000000   \n7082  MESSAGE           1          0   maczek  2023-08-25 17:51:18.000000   \n\n     upd_user                    upd_date lock_user lock_date  \\\n6969   maczek  2023-08-25 10:29:11.000000      None      None   \n6970     None                        None      None      None   \n6976   maczek  2023-08-25 00:11:14.000000      None      None   \n6985   maczek  2023-08-24 23:34:49.000000      None      None   \n6986     None                        None      None      None   \n6997   maczek  2023-08-25 11:05:51.000000      None      None   \n7004   maczek  2023-08-25 14:06:06.000000      None      None   \n7010     None                        None      None      None   \n7012     None                        None      None      None   \n7019   maczek  2023-08-25 15:03:05.000000      None      None   \n7027   maczek  2023-08-25 16:16:58.000000      None      None   \n7035   maczek  2023-08-25 15:49:10.000000      None      None   \n7043   maczek  2023-08-25 15:26:11.000000      None      None   \n7051   maczek  2023-08-25 16:40:26.000000      None      None   \n7059   maczek  2023-08-25 17:05:11.000000      None      None   \n7067   maczek  2023-08-25 17:28:15.000000      None      None   \n7074   maczek  2023-08-25 17:50:34.000000      None      None   \n7082   maczek  2023-08-25 18:12:37.000000      None      None   \n\n                                             annotation  version  \n6969  clone Scenario from 'MESSAGEix-GLOBIOM 1.1-R12...        4  \n6970  clone Scenario from 'MESSAGEix-GLOBIOM 1.1-R12...        1  \n6976  clone Scenario from 'MESSAGEix-GLOBIOM 1.1-R12...        1  \n6985  clone Scenario from 'MESSAGEix-GLOBIOM 1.1-R12...        5  \n6986  clone Scenario from 'MESSAGEix-GLOBIOM 1.1-R12...        1  \n6997  clone Scenario from 'MESSAGEix-GLOBIOM 1.1-R12...       23  \n7004  clone Scenario from 'MESSAGEix-GLOBIOM 1.1-R12...        1  \n7010  clone Scenario from 'MESSAGEix-GLOBIOM 1.1-R12...        1  \n7012  clone Scenario from 'MESSAGEix-GLOBIOM 1.1-R12...        1  \n7019  clone Scenario from 'MESSAGEix-GLOBIOM 1.1-R12...        1  \n7027  clone Scenario from 'MESSAGEix-GLOBIOM 1.1-R12...        1  \n7035  clone Scenario from 'MESSAGEix-GLOBIOM 1.1-R12...        1  \n7043  clone Scenario from 'MESSAGEix-GLOBIOM 1.1-R12...        1  \n7051  clone Scenario from 'MESSAGEix-GLOBIOM 1.1-R12...        1  \n7059  clone Scenario from 'MESSAGEix-GLOBIOM 1.1-R12...        1  \n7067  clone Scenario from 'MESSAGEix-GLOBIOM 1.1-R12...        1  \n7074  clone Scenario from 'MESSAGEix-GLOBIOM 1.1-R12...        1  \n7082  clone Scenario from 'MESSAGEix-GLOBIOM 1.1-R12...        1  ",
      "text/html": "<div>\n<style scoped>\n    .dataframe tbody tr th:only-of-type {\n        vertical-align: middle;\n    }\n\n    .dataframe tbody tr th {\n        vertical-align: top;\n    }\n\n    .dataframe thead th {\n        text-align: right;\n    }\n</style>\n<table border=\"1\" class=\"dataframe\">\n  <thead>\n    <tr style=\"text-align: right;\">\n      <th></th>\n      <th>model</th>\n      <th>scenario</th>\n      <th>scheme</th>\n      <th>is_default</th>\n      <th>is_locked</th>\n      <th>cre_user</th>\n      <th>cre_date</th>\n      <th>upd_user</th>\n      <th>upd_date</th>\n      <th>lock_user</th>\n      <th>lock_date</th>\n      <th>annotation</th>\n      <th>version</th>\n    </tr>\n  </thead>\n  <tbody>\n    <tr>\n      <th>6969</th>\n      <td>MESSAGEix-GLOBIOM 1.1-R12-MAGPIE-MP00BD0BI70</td>\n      <td>NPi2020-con-prim-dir-ncr</td>\n      <td>MESSAGE</td>\n      <td>1</td>\n      <td>0</td>\n      <td>maczek</td>\n      <td>2023-08-25 10:07:00.000000</td>\n      <td>maczek</td>\n      <td>2023-08-25 10:29:11.000000</td>\n      <td>None</td>\n      <td>None</td>\n      <td>clone Scenario from 'MESSAGEix-GLOBIOM 1.1-R12...</td>\n      <td>4</td>\n    </tr>\n    <tr>\n      <th>6970</th>\n      <td>MESSAGEix-GLOBIOM 1.1-R12-MAGPIE-MP00BD0BI70</td>\n      <td>NPi2030-con-prim-dir-ncr</td>\n      <td>MESSAGE</td>\n      <td>1</td>\n      <td>0</td>\n      <td>maczek</td>\n      <td>2023-08-24 22:55:18.000000</td>\n      <td>None</td>\n      <td>None</td>\n      <td>None</td>\n      <td>None</td>\n      <td>clone Scenario from 'MESSAGEix-GLOBIOM 1.1-R12...</td>\n      <td>1</td>\n    </tr>\n    <tr>\n      <th>6976</th>\n      <td>MESSAGEix-GLOBIOM 1.1-R12-MAGPIE-MP00BD0BI74</td>\n      <td>NPi2020-con-prim-dir-ncr</td>\n      <td>MESSAGE</td>\n      <td>1</td>\n      <td>0</td>\n      <td>maczek</td>\n      <td>2023-08-24 23:51:00.000000</td>\n      <td>maczek</td>\n      <td>2023-08-25 00:11:14.000000</td>\n      <td>None</td>\n      <td>None</td>\n      <td>clone Scenario from 'MESSAGEix-GLOBIOM 1.1-R12...</td>\n      <td>1</td>\n    </tr>\n    <tr>\n      <th>6985</th>\n      <td>MESSAGEix-GLOBIOM 1.1-R12-MAGPIE-MP00BD0BI78</td>\n      <td>NPi2020-con-prim-dir-ncr</td>\n      <td>MESSAGE</td>\n      <td>1</td>\n      <td>0</td>\n      <td>maczek</td>\n      <td>2023-08-24 23:14:26.000000</td>\n      <td>maczek</td>\n      <td>2023-08-24 23:34:49.000000</td>\n      <td>None</td>\n      <td>None</td>\n      <td>clone Scenario from 'MESSAGEix-GLOBIOM 1.1-R12...</td>\n      <td>5</td>\n    </tr>\n    <tr>\n      <th>6986</th>\n      <td>MESSAGEix-GLOBIOM 1.1-R12-MAGPIE-MP00BD0BI78</td>\n      <td>NPi2030-con-prim-dir-ncr</td>\n      <td>MESSAGE</td>\n      <td>1</td>\n      <td>0</td>\n      <td>maczek</td>\n      <td>2023-08-22 13:43:19.000000</td>\n      <td>None</td>\n      <td>None</td>\n      <td>None</td>\n      <td>None</td>\n      <td>clone Scenario from 'MESSAGEix-GLOBIOM 1.1-R12...</td>\n      <td>1</td>\n    </tr>\n    <tr>\n      <th>6997</th>\n      <td>MESSAGEix-GLOBIOM 1.1-R12-MAGPIE-MP00BD1BI00</td>\n      <td>NPi2020-con-prim-dir-ncr</td>\n      <td>MESSAGE</td>\n      <td>1</td>\n      <td>0</td>\n      <td>maczek</td>\n      <td>2023-08-25 10:36:08.000000</td>\n      <td>maczek</td>\n      <td>2023-08-25 11:05:51.000000</td>\n      <td>None</td>\n      <td>None</td>\n      <td>clone Scenario from 'MESSAGEix-GLOBIOM 1.1-R12...</td>\n      <td>23</td>\n    </tr>\n    <tr>\n      <th>7004</th>\n      <td>MESSAGEix-GLOBIOM 1.1-R12-MAGPIE-MP30BD0BI70</td>\n      <td>NPi2020-con-prim-dir-ncr</td>\n      <td>MESSAGE</td>\n      <td>1</td>\n      <td>0</td>\n      <td>maczek</td>\n      <td>2023-08-25 13:38:00.000000</td>\n      <td>maczek</td>\n      <td>2023-08-25 14:06:06.000000</td>\n      <td>None</td>\n      <td>None</td>\n      <td>clone Scenario from 'MESSAGEix-GLOBIOM 1.1-R12...</td>\n      <td>1</td>\n    </tr>\n    <tr>\n      <th>7010</th>\n      <td>MESSAGEix-GLOBIOM 1.1-R12-MAGPIE-MP30BD0BI74</td>\n      <td>NPi2020-con-prim-dir-ncr</td>\n      <td>MESSAGE</td>\n      <td>1</td>\n      <td>0</td>\n      <td>maczek</td>\n      <td>2023-08-25 11:22:25.000000</td>\n      <td>None</td>\n      <td>None</td>\n      <td>None</td>\n      <td>None</td>\n      <td>clone Scenario from 'MESSAGEix-GLOBIOM 1.1-R12...</td>\n      <td>1</td>\n    </tr>\n    <tr>\n      <th>7012</th>\n      <td>MESSAGEix-GLOBIOM 1.1-R12-MAGPIE-MP30BD0BI78</td>\n      <td>NPi2020-con-prim-dir-ncr</td>\n      <td>MESSAGE</td>\n      <td>1</td>\n      <td>0</td>\n      <td>maczek</td>\n      <td>2023-08-28 17:00:51.000000</td>\n      <td>None</td>\n      <td>None</td>\n      <td>None</td>\n      <td>None</td>\n      <td>clone Scenario from 'MESSAGEix-GLOBIOM 1.1-R12...</td>\n      <td>1</td>\n    </tr>\n    <tr>\n      <th>7019</th>\n      <td>MESSAGEix-GLOBIOM 1.1-R12-MAGPIE-MP30BD1BI00</td>\n      <td>NPi2020-con-prim-dir-ncr</td>\n      <td>MESSAGE</td>\n      <td>1</td>\n      <td>0</td>\n      <td>maczek</td>\n      <td>2023-08-25 14:38:55.000000</td>\n      <td>maczek</td>\n      <td>2023-08-25 15:03:05.000000</td>\n      <td>None</td>\n      <td>None</td>\n      <td>clone Scenario from 'MESSAGEix-GLOBIOM 1.1-R12...</td>\n      <td>1</td>\n    </tr>\n    <tr>\n      <th>7027</th>\n      <td>MESSAGEix-GLOBIOM 1.1-R12-MAGPIE-MP50BD0BI70</td>\n      <td>NPi2020-con-prim-dir-ncr</td>\n      <td>MESSAGE</td>\n      <td>1</td>\n      <td>0</td>\n      <td>maczek</td>\n      <td>2023-08-25 15:49:51.000000</td>\n      <td>maczek</td>\n      <td>2023-08-25 16:16:58.000000</td>\n      <td>None</td>\n      <td>None</td>\n      <td>clone Scenario from 'MESSAGEix-GLOBIOM 1.1-R12...</td>\n      <td>1</td>\n    </tr>\n    <tr>\n      <th>7035</th>\n      <td>MESSAGEix-GLOBIOM 1.1-R12-MAGPIE-MP50BD0BI74</td>\n      <td>NPi2020-con-prim-dir-ncr</td>\n      <td>MESSAGE</td>\n      <td>1</td>\n      <td>0</td>\n      <td>maczek</td>\n      <td>2023-08-25 15:27:05.000000</td>\n      <td>maczek</td>\n      <td>2023-08-25 15:49:10.000000</td>\n      <td>None</td>\n      <td>None</td>\n      <td>clone Scenario from 'MESSAGEix-GLOBIOM 1.1-R12...</td>\n      <td>1</td>\n    </tr>\n    <tr>\n      <th>7043</th>\n      <td>MESSAGEix-GLOBIOM 1.1-R12-MAGPIE-MP50BD0BI78</td>\n      <td>NPi2020-con-prim-dir-ncr</td>\n      <td>MESSAGE</td>\n      <td>1</td>\n      <td>0</td>\n      <td>maczek</td>\n      <td>2023-08-25 15:04:01.000000</td>\n      <td>maczek</td>\n      <td>2023-08-25 15:26:11.000000</td>\n      <td>None</td>\n      <td>None</td>\n      <td>clone Scenario from 'MESSAGEix-GLOBIOM 1.1-R12...</td>\n      <td>1</td>\n    </tr>\n    <tr>\n      <th>7051</th>\n      <td>MESSAGEix-GLOBIOM 1.1-R12-MAGPIE-MP50BD1BI00</td>\n      <td>NPi2020-con-prim-dir-ncr</td>\n      <td>MESSAGE</td>\n      <td>1</td>\n      <td>0</td>\n      <td>maczek</td>\n      <td>2023-08-25 16:17:51.000000</td>\n      <td>maczek</td>\n      <td>2023-08-25 16:40:26.000000</td>\n      <td>None</td>\n      <td>None</td>\n      <td>clone Scenario from 'MESSAGEix-GLOBIOM 1.1-R12...</td>\n      <td>1</td>\n    </tr>\n    <tr>\n      <th>7059</th>\n      <td>MESSAGEix-GLOBIOM 1.1-R12-MAGPIE-MP76BD0BI70</td>\n      <td>NPi2020-con-prim-dir-ncr</td>\n      <td>MESSAGE</td>\n      <td>1</td>\n      <td>0</td>\n      <td>maczek</td>\n      <td>2023-08-25 16:41:07.000000</td>\n      <td>maczek</td>\n      <td>2023-08-25 17:05:11.000000</td>\n      <td>None</td>\n      <td>None</td>\n      <td>clone Scenario from 'MESSAGEix-GLOBIOM 1.1-R12...</td>\n      <td>1</td>\n    </tr>\n    <tr>\n      <th>7067</th>\n      <td>MESSAGEix-GLOBIOM 1.1-R12-MAGPIE-MP76BD0BI74</td>\n      <td>NPi2020-con-prim-dir-ncr</td>\n      <td>MESSAGE</td>\n      <td>1</td>\n      <td>0</td>\n      <td>maczek</td>\n      <td>2023-08-25 17:06:02.000000</td>\n      <td>maczek</td>\n      <td>2023-08-25 17:28:15.000000</td>\n      <td>None</td>\n      <td>None</td>\n      <td>clone Scenario from 'MESSAGEix-GLOBIOM 1.1-R12...</td>\n      <td>1</td>\n    </tr>\n    <tr>\n      <th>7074</th>\n      <td>MESSAGEix-GLOBIOM 1.1-R12-MAGPIE-MP76BD0BI78</td>\n      <td>NPi2020-con-prim-dir-ncr</td>\n      <td>MESSAGE</td>\n      <td>1</td>\n      <td>0</td>\n      <td>maczek</td>\n      <td>2023-08-25 17:29:13.000000</td>\n      <td>maczek</td>\n      <td>2023-08-25 17:50:34.000000</td>\n      <td>None</td>\n      <td>None</td>\n      <td>clone Scenario from 'MESSAGEix-GLOBIOM 1.1-R12...</td>\n      <td>1</td>\n    </tr>\n    <tr>\n      <th>7082</th>\n      <td>MESSAGEix-GLOBIOM 1.1-R12-MAGPIE-MP76BD1BI00</td>\n      <td>NPi2020-con-prim-dir-ncr</td>\n      <td>MESSAGE</td>\n      <td>1</td>\n      <td>0</td>\n      <td>maczek</td>\n      <td>2023-08-25 17:51:18.000000</td>\n      <td>maczek</td>\n      <td>2023-08-25 18:12:37.000000</td>\n      <td>None</td>\n      <td>None</td>\n      <td>clone Scenario from 'MESSAGEix-GLOBIOM 1.1-R12...</td>\n      <td>1</td>\n    </tr>\n  </tbody>\n</table>\n</div>"
     },
     "execution_count": 18,
     "metadata": {},
     "output_type": "execute_result"
    }
   ],
   "source": [
    "df[(df[\"model\"].str.startswith(\"MESSAGEix-GLOBIOM 1.1-R12-MAGPIE\")) & (df[\"scenario\"].str.startswith(\"NP\")) & (df[\"model\"].str.contains(\"MP\"))]"
   ],
   "metadata": {
    "collapsed": false
   }
  },
  {
   "cell_type": "code",
   "execution_count": null,
   "outputs": [],
   "source": [
    "scen = message_ix.Scenario(mp, \"MESSAGEix-GLOBIOM 1.1-R12-MAGPIE\", \"baseline_MP00BD1BI00\")"
   ],
   "metadata": {
    "collapsed": false
   }
  },
  {
   "cell_type": "code",
   "execution_count": null,
   "outputs": [],
   "source": [
    "scen_new = scen.clone(scen.model+\"-\"+scen.scenario.split(\"_\")[1], scen.scenario.split(\"_\")[0])"
   ],
   "metadata": {
    "collapsed": false
   }
  },
  {
   "cell_type": "code",
   "execution_count": null,
   "outputs": [],
   "source": [
    "import pyperclip\n",
    "pyperclip.copy(scen_new.model)"
   ],
   "metadata": {
    "collapsed": false
   }
  },
  {
   "cell_type": "code",
   "execution_count": null,
   "outputs": [],
   "source": [
    "scen_no_lu = message_ix.Scenario(mp, \"MESSAGEix-GLOBIOM 1.1-R12-MAGPIE\", \"baseline_w/o_LU\")"
   ],
   "metadata": {
    "collapsed": false
   }
  },
  {
   "cell_type": "code",
   "execution_count": null,
   "outputs": [],
   "source": [
    "scen = message_ix.Scenario(mp, \"MESSAGEix-GLOBIOM 1.1-R12-MAGPIE\", \"baseline_MP00BD1BI00\")"
   ],
   "metadata": {
    "collapsed": false
   }
  },
  {
   "cell_type": "code",
   "execution_count": null,
   "outputs": [],
   "source": [
    "mp.scenario_list().sort_values(\"cre_date\", ascending=False)"
   ],
   "metadata": {
    "collapsed": false
   }
  },
  {
   "cell_type": "code",
   "execution_count": null,
   "outputs": [],
   "source": [
    "sc_clone = scen.clone(\"MESSAGEix-GLOBIOM 1.1-M-R12-NAVIGATE_test\",\"NPi2020-con-prim-dir-ncr_test\")"
   ],
   "metadata": {
    "collapsed": false
   }
  },
  {
   "cell_type": "code",
   "execution_count": null,
   "outputs": [],
   "source": [
    "sc_clone.remove_solution()"
   ],
   "metadata": {
    "collapsed": false
   }
  },
  {
   "cell_type": "code",
   "execution_count": null,
   "outputs": [],
   "source": [
    "sc_clone.solve()"
   ],
   "metadata": {
    "collapsed": false
   }
  },
  {
   "cell_type": "code",
   "execution_count": null,
   "outputs": [],
   "source": [
    "df = mp.scenario_list()"
   ],
   "metadata": {
    "collapsed": false
   }
  },
  {
   "cell_type": "code",
   "execution_count": null,
   "outputs": [],
   "source": [
    "df = scen.par(\"land_output\", filters={\"commodity\":\"bioenergy\"})"
   ],
   "metadata": {
    "collapsed": false
   }
  },
  {
   "cell_type": "code",
   "execution_count": null,
   "outputs": [],
   "source": [
    "df_act = scen.var(\"ACT\", filters={\"node_loc\":\"R12_AFR\", \"year_act\":2020})\n",
    "df_act[df_act[\"technology\"].str.contains(\"biomass\")].sort_values(\"lvl\", ascending=False).head(12)"
   ],
   "metadata": {
    "collapsed": false
   }
  },
  {
   "cell_type": "code",
   "execution_count": null,
   "outputs": [],
   "source": [
    "df.sort_values(\"cre_date\", ascending=False).head(20).loc[6764][\"annotation\"]"
   ],
   "metadata": {
    "collapsed": false
   }
  },
  {
   "cell_type": "code",
   "execution_count": null,
   "outputs": [],
   "source": [
    "df[df[\"model\"]==\"MESSAGEix-GLOBIOM 1.1-R12-MAGPIE\"]"
   ],
   "metadata": {
    "collapsed": false
   }
  },
  {
   "cell_type": "code",
   "execution_count": null,
   "outputs": [],
   "source": [
    "sc_base = message_ix.Scenario(mp, \"MESSAGEix-GLOBIOM 1.1-R12-MAGPIE\", \"baseline\")"
   ],
   "metadata": {
    "collapsed": false
   }
  },
  {
   "cell_type": "code",
   "execution_count": null,
   "outputs": [],
   "source": [
    "sc_base.set(\"technology\")"
   ],
   "metadata": {
    "collapsed": false
   }
  },
  {
   "cell_type": "code",
   "execution_count": null,
   "outputs": [],
   "source": [
    "scen = sc_base.clone(\"MESSAGEix-GLOBIOM 1.1-R12-MAGPIE\", \"baseline_w/o_LU\")"
   ],
   "metadata": {
    "collapsed": false
   }
  },
  {
   "cell_type": "code",
   "execution_count": null,
   "outputs": [],
   "source": [
    "#df[(df[\"year\"]==2020) & (df[\"land_scenario\"]==\"BIO00GHG000\")]\n",
    "#df[(df[\"year\"]==2020) & (df[\"node\"]==\"R12_CHN\")]\n",
    "df[(df[\"year\"]==2020) & (df[\"node\"]==\"R12_AFR\")]# & (df[\"land_scenario\"]==\"BIO00GHG2000\")]\n",
    "#scen.var(\"LAND\", filters={\"node\":\"R12_CHN\", \"year\":2020})\n",
    "#scen.var(\"LAND\", filters={\"node\":\"R12_AFR\", \"year\":2020}).sort_values(\"lvl\")"
   ],
   "metadata": {
    "collapsed": false
   }
  },
  {
   "cell_type": "code",
   "execution_count": null,
   "outputs": [],
   "source": [
    "df[(df[\"model\"]==\"MESSAGEix-GLOBIOM 1.1-M-R12-NAVIGATE\") & (df[\"scenario\"].str.contains(\"baseline\"))]"
   ],
   "metadata": {
    "collapsed": false
   }
  },
  {
   "cell_type": "code",
   "execution_count": null,
   "outputs": [],
   "source": [
    "scen = message_ix.Scenario(mp, \"MESSAGEix-GLOBIOM 1.1-M-R12-NAVIGATE\",\"NPi2020-con-prim-dir-ncr\")"
   ],
   "metadata": {
    "collapsed": false
   }
  },
  {
   "cell_type": "code",
   "execution_count": null,
   "outputs": [],
   "source": [
    "scen = message_ix.Scenario(mp, \"MESSAGEix-GLOBIOM 1.1-M-R12-NAVIGATE-MAGPIE\",\"NPi2020-con-prim-dir-ncr_MP00BD1BI00\")"
   ],
   "metadata": {
    "collapsed": false
   }
  },
  {
   "cell_type": "code",
   "execution_count": null,
   "outputs": [],
   "source": [
    "scen.scenario"
   ],
   "metadata": {
    "collapsed": false
   }
  },
  {
   "cell_type": "code",
   "execution_count": null,
   "outputs": [],
   "source": [
    "scen.solve(solve_options={\"scaind\":-1})"
   ],
   "metadata": {
    "collapsed": false
   }
  },
  {
   "cell_type": "markdown",
   "source": [
    "### solve new MAGPIE base (without materials) on LU cum message_ix branch"
   ],
   "metadata": {
    "collapsed": false
   }
  },
  {
   "cell_type": "code",
   "execution_count": null,
   "outputs": [],
   "source": [
    "scen = message_ix.Scenario(mp, \"MESSAGEix-GLOBIOM 1.1-R12-MAGPIE\", \"baseline\")"
   ],
   "metadata": {
    "collapsed": false
   }
  },
  {
   "cell_type": "code",
   "execution_count": null,
   "outputs": [],
   "source": [
    "sc_clone = scen.clone(\"MESSAGEix-GLOBIOM 1.1-R12-MAGPIE\", \"baseline_cum_LU_emis\", keep_solution=False)"
   ],
   "metadata": {
    "collapsed": false
   }
  },
  {
   "cell_type": "code",
   "execution_count": null,
   "outputs": [],
   "source": [
    "sc_clone.solve()"
   ],
   "metadata": {
    "collapsed": false
   }
  },
  {
   "cell_type": "code",
   "execution_count": null,
   "outputs": [],
   "source": [
    "scen.has_solution()"
   ],
   "metadata": {
    "collapsed": false
   }
  },
  {
   "cell_type": "code",
   "execution_count": null,
   "outputs": [],
   "source": [
    "df_scen_list = mp.scenario_list()"
   ],
   "metadata": {
    "collapsed": false
   }
  },
  {
   "cell_type": "markdown",
   "source": [
    "### get old R11 scenario of Jan"
   ],
   "metadata": {
    "collapsed": false
   }
  },
  {
   "cell_type": "code",
   "execution_count": null,
   "outputs": [],
   "source": [
    "sc_base_old = message_ix.Scenario(mp, 'ENGAGE-MAGPIE_SSP2', 'baseline')\n",
    "sc_base_old_clone = sc_base_old.clone(\"MAGPIE_SSP2_clone\", \"baseline_old_clone\")"
   ],
   "metadata": {
    "collapsed": false
   }
  },
  {
   "cell_type": "code",
   "execution_count": null,
   "outputs": [],
   "source": [
    "sc_base_old_clone.remove_solution()"
   ],
   "metadata": {
    "collapsed": false
   }
  },
  {
   "cell_type": "code",
   "execution_count": null,
   "outputs": [],
   "source": [
    "sc_base_old_clone.scenario"
   ],
   "metadata": {
    "collapsed": false
   }
  },
  {
   "cell_type": "code",
   "execution_count": null,
   "outputs": [],
   "source": [
    "sc_base_old_clone.solve()"
   ],
   "metadata": {
    "collapsed": false
   }
  },
  {
   "cell_type": "markdown",
   "source": [
    "### get biomass trade parametrization from NGFS scenario"
   ],
   "metadata": {
    "collapsed": false
   }
  },
  {
   "cell_type": "code",
   "execution_count": null,
   "outputs": [],
   "source": [
    "sc_ngfs = message_ix.Scenario(mp, \"MESSAGEix-GLOBIOM 1.1-M-R12 (NGFS)\", \"baseline_DEFAULT\")\n",
    "#sc_ngfs = message_ix.Scenario(mp, \"MESSAGEix-GLOBIOM 1.1-R12\", \"baseline_DEFAULT\", version=2)\n",
    "sc_ngfs.par(\"input\", filters={\"technology\":\"biomass_imp\"})"
   ],
   "metadata": {
    "collapsed": false
   }
  },
  {
   "cell_type": "code",
   "execution_count": null,
   "outputs": [],
   "source": [
    "import copy\n",
    "paramList_tec = [x for x in sc_ngfs.par_list() if (\"technology\" in sc_ngfs.idx_sets(x))]\n",
    "par_dict_meth = {}\n",
    "for p in paramList_tec:\n",
    "    df = sc_ngfs.par(p, filters={\"technology\": [\"biomass_imp\", \"biomass_exp\", \"biomass_trd\"]})\n",
    "    if df.index.size:\n",
    "        par_dict_meth[p] = df"
   ],
   "metadata": {
    "collapsed": false
   }
  },
  {
   "cell_type": "code",
   "execution_count": null,
   "outputs": [],
   "source": [
    "par_dict_meth.keys()"
   ],
   "metadata": {
    "collapsed": false
   }
  },
  {
   "cell_type": "code",
   "execution_count": null,
   "outputs": [],
   "source": [
    "par_dict_meth[\"input\"]#.relation.unique()"
   ],
   "metadata": {
    "collapsed": false
   }
  },
  {
   "cell_type": "markdown",
   "source": [
    "### list all MAGPIE models"
   ],
   "metadata": {
    "collapsed": false
   }
  },
  {
   "cell_type": "code",
   "execution_count": null,
   "outputs": [],
   "source": [
    "df_scen_list[(df_scen_list[\"model\"].str.contains(\"MAGPIE\")) & (df_scen_list[\"scenario\"].str.contains(\"NP\"))]"
   ],
   "metadata": {
    "collapsed": false
   }
  },
  {
   "cell_type": "code",
   "execution_count": null,
   "outputs": [],
   "source": [
    "scen = message_ix.Scenario(mp, model=\"MESSAGEix-GLOBIOM 1.1-R12-MAGPIE\", scenario=\"baseline\")"
   ],
   "metadata": {
    "collapsed": false
   }
  },
  {
   "cell_type": "markdown",
   "source": [
    "### R12 base (missing biomass trade!!)"
   ],
   "metadata": {
    "collapsed": false
   }
  },
  {
   "cell_type": "code",
   "execution_count": null,
   "outputs": [],
   "source": [
    "model_name = \"MESSAGEix-GLOBIOM 1.1-R12\"\n",
    "scenario_name = \"baseline_DEFAULT\"\n",
    "version = 21"
   ],
   "metadata": {
    "collapsed": false
   }
  },
  {
   "cell_type": "code",
   "execution_count": null,
   "outputs": [],
   "source": [
    "scen_ref = message_ix.Scenario(mp, model=model_name, scenario=scenario_name, version=21)\n",
    "scen = scen_ref.clone(\"MESSAGEix-GLOBIOM 1.1-R12-MAGPIE\", \"baseline\", keep_solution=False)"
   ],
   "metadata": {
    "collapsed": false
   }
  },
  {
   "cell_type": "code",
   "execution_count": null,
   "outputs": [],
   "source": [
    "#scen.check_out()\n",
    "#scen.add_set(\"technology\", \"biomass_exp\")\n",
    "#scen.add_set(\"technology\", \"biomass_trd\")\n",
    "for k,v in par_dict_meth.items():\n",
    "    scen.add_par(k, v)"
   ],
   "metadata": {
    "collapsed": false
   }
  },
  {
   "cell_type": "code",
   "execution_count": null,
   "outputs": [],
   "source": [
    "scen.commit(\"add biomass trade to R12 MAGPIE base model\")"
   ],
   "metadata": {
    "collapsed": false
   }
  },
  {
   "cell_type": "code",
   "execution_count": null,
   "outputs": [],
   "source": [
    "scen.par(\"land_output\")"
   ],
   "metadata": {
    "collapsed": false
   }
  },
  {
   "cell_type": "markdown",
   "source": [
    "### R12-M base"
   ],
   "metadata": {
    "collapsed": false
   }
  },
  {
   "cell_type": "code",
   "execution_count": null,
   "outputs": [],
   "source": [
    "model_name = \"MESSAGEix-GLOBIOM 1.1-M-R12-NAVIGATE\"\n",
    "#scenario_name = \"baseline\"\n",
    "scenario_name = \"NPi2020-con-prim-dir-ncr\""
   ],
   "metadata": {
    "collapsed": false
   }
  },
  {
   "cell_type": "code",
   "execution_count": null,
   "outputs": [],
   "source": [
    "df_scen_list[(df_scen_list[\"model\"].str.contains(\"NAVIGATE\")) & (df_scen_list[\"scenario\"].str.contains(\"NP\"))]"
   ],
   "metadata": {
    "collapsed": false
   }
  },
  {
   "cell_type": "code",
   "execution_count": null,
   "outputs": [],
   "source": [
    "#scen_ref = message_ix.Scenario(mp, model=model_name, scenario=scenario_name)\n",
    "magpie_scen_name = \"MESSAGEix-GLOBIOM 1.1-M-R12-NAVIGATE-MAGPIE\"\n",
    "scen = scen_ref.clone(magpie_scen_name, scenario_name, keep_solution=False)"
   ],
   "metadata": {
    "collapsed": false
   }
  },
  {
   "cell_type": "markdown",
   "source": [],
   "metadata": {
    "collapsed": false
   }
  },
  {
   "cell_type": "markdown",
   "source": [
    "### R11 base"
   ],
   "metadata": {
    "collapsed": false
   }
  },
  {
   "cell_type": "code",
   "execution_count": null,
   "outputs": [],
   "source": [
    "model_name = \"ENGAGE_SSP2_v4.1.8.3_T4.5_r3.1\"\n",
    "scenario_name = \"baseline_magpie\""
   ],
   "metadata": {
    "collapsed": false
   }
  },
  {
   "cell_type": "code",
   "execution_count": null,
   "outputs": [],
   "source": [
    "df = mp.scenario_list()"
   ],
   "metadata": {
    "collapsed": false
   }
  },
  {
   "cell_type": "markdown",
   "source": [
    "## remove land use matrix from scenario"
   ],
   "metadata": {
    "collapsed": false
   }
  },
  {
   "cell_type": "code",
   "execution_count": null,
   "outputs": [],
   "source": [
    "scen_no_lu = message_ix.Scenario(mp, \"MESSAGEix-GLOBIOM 1.1-M-R12-NAVIGATE-MAGPIE\", \"NPi2020-con-prim-dir-ncr_no_LU\")"
   ],
   "metadata": {
    "collapsed": false
   }
  },
  {
   "cell_type": "code",
   "execution_count": null,
   "outputs": [],
   "source": [
    "scen_no_lu.scenario"
   ],
   "metadata": {
    "collapsed": false
   }
  },
  {
   "cell_type": "code",
   "execution_count": null,
   "outputs": [],
   "source": [
    "#scen_no_lu = scen.clone(scen.model, scenario_name+\"_no_LU\")"
   ],
   "metadata": {
    "collapsed": false
   }
  },
  {
   "cell_type": "code",
   "execution_count": null,
   "outputs": [],
   "source": [
    "import importlib\n",
    "importlib.reload(message_data.tools.utilities)\n",
    "if scen.has_solution():\n",
    "    scen.remove_solution()\n",
    "add_globiom(\n",
    "    mp,\n",
    "    scen,\n",
    "    \"SSP2\",\n",
    "    private_data_path(),\n",
    "    2015,\n",
    "    globiom_scenario=\"magpie\",\n",
    "    #regenerate_input_data_only=True,\n",
    "    clean=True,\n",
    "    clean_only=True,\n",
    "    #globiom_scenario=\"no\",\n",
    "    #allow_empty_drivers=True,\n",
    "    add_reporting_data=True,\n",
    "    config_setup=\"MAGPIE\")"
   ],
   "metadata": {
    "collapsed": false
   }
  },
  {
   "cell_type": "code",
   "execution_count": null,
   "outputs": [],
   "source": [
    "#magpie_scen = \"MP00BD1BI00\"\n",
    "magpie_scen = \"MP00BD0BI78\"\n",
    "magpie_scen = \"MP76BD0BI78\"\n",
    "magpie_scen = \"MP76BD1BI00\""
   ],
   "metadata": {
    "collapsed": false
   }
  },
  {
   "cell_type": "code",
   "execution_count": null,
   "outputs": [],
   "source": [
    "scen_no_lu = scen"
   ],
   "metadata": {
    "collapsed": false
   }
  },
  {
   "cell_type": "code",
   "execution_count": null,
   "outputs": [],
   "source": [
    "scenario_name = \"baseline\""
   ],
   "metadata": {
    "collapsed": false
   }
  },
  {
   "cell_type": "code",
   "execution_count": null,
   "outputs": [],
   "source": [
    "scen = scen_no_lu.clone(scen_no_lu.model, scenario_name+\"_\"+magpie_scen)"
   ],
   "metadata": {
    "collapsed": false
   }
  },
  {
   "cell_type": "code",
   "execution_count": null,
   "outputs": [],
   "source": [
    "scen.set_as_default()"
   ],
   "metadata": {
    "collapsed": false
   }
  },
  {
   "cell_type": "code",
   "execution_count": null,
   "outputs": [],
   "source": [
    "df = mp.scenario_list()"
   ],
   "metadata": {
    "collapsed": false
   }
  },
  {
   "cell_type": "code",
   "execution_count": null,
   "outputs": [],
   "source": [
    "df[df[\"model\"]==\"MESSAGEix-GLOBIOM 1.1-R12\"]"
   ],
   "metadata": {
    "collapsed": false
   }
  },
  {
   "cell_type": "markdown",
   "source": [
    "## add MAGPIE matrix to scenario"
   ],
   "metadata": {
    "collapsed": false
   }
  },
  {
   "cell_type": "code",
   "execution_count": null,
   "outputs": [],
   "source": [
    "add_globiom(\n",
    "    mp,\n",
    "    scen,\n",
    "    \"SSP2\",\n",
    "    private_data_path(),\n",
    "    2015,\n",
    "    globiom_scenario=\"noSDG_rcpref\",\n",
    "    regenerate_input_data=True,\n",
    "    #regenerate_input_data_only=True,\n",
    "    #allow_empty_drivers=True,\n",
    "    add_reporting_data=True,\n",
    "    config_setup=\"MAGPIE_\"+magpie_scen)"
   ],
   "metadata": {
    "collapsed": false
   }
  },
  {
   "cell_type": "code",
   "execution_count": null,
   "outputs": [],
   "source": [
    "scen.solve()"
   ],
   "metadata": {
    "collapsed": false
   }
  },
  {
   "cell_type": "code",
   "execution_count": null,
   "outputs": [],
   "source": [
    "scen.set_as_default()"
   ],
   "metadata": {
    "collapsed": false
   }
  },
  {
   "cell_type": "code",
   "execution_count": null,
   "outputs": [],
   "source": [
    "scen.solve()"
   ],
   "metadata": {
    "collapsed": false
   }
  },
  {
   "cell_type": "code",
   "execution_count": null,
   "outputs": [],
   "source": [
    "#scen.remove_solution()\n",
    "scen.solve(\"MESSAGE-MACRO\")"
   ],
   "metadata": {
    "collapsed": false
   }
  },
  {
   "cell_type": "markdown",
   "source": [
    "### add biomass backstop to calibrate read-in of new matrix"
   ],
   "metadata": {
    "collapsed": false
   }
  },
  {
   "cell_type": "code",
   "execution_count": null,
   "outputs": [],
   "source": [
    "scen.check_out()\n",
    "\n",
    "# Add a new technology\n",
    "scen.add_set(\"technology\", \"bio_backstop\")\n",
    "\n",
    "# Retrieve technology for which will be used to create the backstop\n",
    "filters = {\"technology\": \"elec_rc\"}  #, \"node_loc\": \"R11_NAM\"}\n",
    "\n",
    "#for node in [\"R11_NAM\", \"R11_CPA\"]:\n",
    "for par in [\"output\", \"var_cost\"]:\n",
    "    df = scen.par(par, filters=filters)\n",
    "    df.technology = \"bio_backstop\"\n",
    "    #df.node_loc = node\n",
    "\n",
    "    # Make change to output\n",
    "    if par == \"output\":\n",
    "        #df.node_dest = node\n",
    "        df.commodity = \"biomass\"\n",
    "        df.level = \"primary\"\n",
    "\n",
    "    elif par == \"var_cost\":\n",
    "        df.value = 100000\n",
    "\n",
    "    #print(df)\n",
    "    scen.add_par(par, df)\n",
    "\n",
    "scen.commit(\"Add biomass dummy\")"
   ],
   "metadata": {
    "collapsed": false
   }
  },
  {
   "cell_type": "code",
   "execution_count": null,
   "outputs": [],
   "source": [
    "scen.check_out()\n",
    "scen.remove_set(\"technology\", \"bio_backstop\")\n",
    "scen.commit(\"remove backstop\")\n",
    "scen.par(\"output\", filters={\"technology\":\"bio_backstop\"})"
   ],
   "metadata": {
    "collapsed": false
   }
  },
  {
   "cell_type": "markdown",
   "source": [],
   "metadata": {
    "collapsed": false
   }
  },
  {
   "cell_type": "markdown",
   "source": [
    "## create budget scenario"
   ],
   "metadata": {
    "collapsed": false
   }
  },
  {
   "cell_type": "code",
   "execution_count": null,
   "outputs": [],
   "source": [
    "mode = \"clone\"\n",
    "#mode = \"load\"\n",
    "\n",
    "#budget = \"1000f\"\n",
    "budget = \"600f\""
   ],
   "metadata": {
    "collapsed": false
   }
  },
  {
   "cell_type": "code",
   "execution_count": null,
   "outputs": [],
   "source": [
    "scen.scenario.replace(\"baseline\",budget)"
   ],
   "metadata": {
    "collapsed": false
   }
  },
  {
   "cell_type": "code",
   "execution_count": null,
   "outputs": [],
   "source": [
    "if mode == \"clone\":\n",
    "    scen_budget = scen.clone(model=scen.model, scenario=scen.scenario.replace(\"baseline\",budget), shift_first_model_year=2025)\n",
    "else:\n",
    "    scen_budget = message_ix.Scenario(mp, model=\"ENGAGE-MAGPIE_SSP2_v4.1.8.3_T4.5_r3.1\", scenario=budget)"
   ],
   "metadata": {
    "collapsed": false
   }
  },
  {
   "cell_type": "code",
   "execution_count": null,
   "outputs": [],
   "source": [
    "if mode == \"clone\":\n",
    "    scen_budget = scen.clone(model=\"ENGAGE-MAGPIE_SSP2_v4.1.8.3_T4.5_r3.1\", scenario=budget, keep_solution=False,\n",
    "            shift_first_model_year=2025)\n",
    "else:\n",
    "    scen_budget = message_ix.Scenario(mp, model=\"ENGAGE-MAGPIE_SSP2_v4.1.8.3_T4.5_r3.1\", scenario=budget)"
   ],
   "metadata": {
    "collapsed": false
   }
  },
  {
   "cell_type": "code",
   "execution_count": null,
   "outputs": [],
   "source": [
    "extra = scen_budget.set(\"cat_year\", {\"type_year\": \"cumulative\", \"year\": [2020, 2015, 2010]})\n",
    "scen_budget.check_out()\n",
    "scen_budget.remove_set(\"cat_year\", extra)\n",
    "scen_budget.commit(\"remove cumulative years from cat_year set\")\n",
    "scen_budget.set(\"cat_year\", {\"type_year\": \"cumulative\"})"
   ],
   "metadata": {
    "collapsed": false
   }
  },
  {
   "cell_type": "code",
   "execution_count": null,
   "outputs": [],
   "source": [
    "emission_dict = {\n",
    "            \"node\": \"World\",\n",
    "            \"type_emission\": \"TCE\",\n",
    "            \"type_tec\": \"all\",\n",
    "            \"type_year\": \"cumulative\",\n",
    "            \"unit\": \"???\",\n",
    "        }\n",
    "if budget == \"1000f\":\n",
    "    value = 4046\n",
    "if budget == \"600f\":\n",
    "    value = 2605\n",
    "\n",
    "df = message_ix.make_df(\n",
    "    \"bound_emission\", value=value, **emission_dict\n",
    ")\n",
    "scen_budget.check_out()\n",
    "scen_budget.add_par(\"bound_emission\", df)\n",
    "scen_budget.commit(\"add emission bound\")\n",
    "scen_budget.par(\"bound_emission\")"
   ],
   "metadata": {
    "collapsed": false
   }
  },
  {
   "cell_type": "code",
   "execution_count": null,
   "outputs": [],
   "source": [
    "scen_budget.set_as_default()"
   ],
   "metadata": {
    "collapsed": false
   }
  },
  {
   "cell_type": "code",
   "execution_count": null,
   "outputs": [],
   "source": [
    "scen_budget.solve()"
   ],
   "metadata": {
    "collapsed": false
   }
  },
  {
   "cell_type": "code",
   "execution_count": 14,
   "outputs": [
    {
     "data": {
      "text/plain": "'600f_MP00BD0BI78'"
     },
     "execution_count": 14,
     "metadata": {},
     "output_type": "execute_result"
    }
   ],
   "source": [],
   "metadata": {
    "collapsed": false
   }
  },
  {
   "cell_type": "markdown",
   "source": [],
   "metadata": {
    "collapsed": false
   }
  },
  {
   "cell_type": "markdown",
   "source": [
    "## run reporting"
   ],
   "metadata": {
    "collapsed": false
   }
  },
  {
   "cell_type": "code",
   "execution_count": 3,
   "outputs": [],
   "source": [
    "import ixmp\n",
    "import ixmp as ix\n",
    "import message_ix\n",
    "\n",
    "model_name=\"MESSAGEix-Materials\"\n",
    "scenario_name=\"NoPolicy_petro_thesis_2_final_macro\"\n",
    "#scenario_name=\"NoPolicy_petro_thesis_2_macro_w_ENGAGE_fixes\"\n",
    "\n",
    "mp = ix.Platform(\"ixmp_dev\")\n",
    "scen = message_ix.Scenario(mp, model=model_name, scenario=scenario_name)#, version=37)"
   ],
   "metadata": {
    "collapsed": false,
    "ExecuteTime": {
     "end_time": "2023-11-22T09:43:44.817648400Z",
     "start_time": "2023-11-22T09:43:43.081087200Z"
    }
   }
  },
  {
   "cell_type": "code",
   "execution_count": 4,
   "outputs": [
    {
     "name": "stdout",
     "output_type": "stream",
     "text": [
      "processing Table: Resource|Extraction\n",
      "processing Table: Resource|Cumulative Extraction\n",
      "processing Table: Primary Energy\n"
     ]
    },
    {
     "name": "stderr",
     "output_type": "stream",
     "text": [
      "\n",
      "KeyboardInterrupt\n",
      "\n"
     ]
    }
   ],
   "source": [
    "import message_data.tools.post_processing.iamc_report_hackathon\n",
    "import importlib\n",
    "importlib.reload(message_data.tools.post_processing.iamc_report_hackathon)\n",
    "message_data.tools.post_processing.iamc_report_hackathon.report(\n",
    "    mp,\n",
    "    scen,\n",
    "    # NB(PNK) this is not an error; .iamc_report_hackathon.report() expects a\n",
    "    #         string containing \"True\" or \"False\" instead of an actual bool.\n",
    "    \"False\",\n",
    "    scen.model,\n",
    "    scen.scenario.replace(\"_test_calib_macro\", \"\"),\n",
    "    merge_hist=True,\n",
    "    merge_ts=True,\n",
    "    run_config=\"materials_run_config.yaml\",\n",
    ")"
   ],
   "metadata": {
    "collapsed": false,
    "ExecuteTime": {
     "end_time": "2023-11-22T09:43:57.385985Z",
     "start_time": "2023-11-22T09:43:45.456907800Z"
    }
   }
  },
  {
   "cell_type": "markdown",
   "source": [],
   "metadata": {
    "collapsed": false
   }
  },
  {
   "cell_type": "markdown",
   "source": [
    "## check if historic TS is missing"
   ],
   "metadata": {
    "collapsed": false
   }
  },
  {
   "cell_type": "code",
   "execution_count": null,
   "outputs": [],
   "source": [
    "df = scen.timeseries(iamc=True)"
   ],
   "metadata": {
    "collapsed": false
   }
  },
  {
   "cell_type": "code",
   "execution_count": null,
   "outputs": [],
   "source": [
    "(\n",
    "df[df.variable == \"Emissions|Kyoto Gases\"]\n",
    "        .drop(\"variable\", axis=1)\n",
    "        .set_index(\"region\")\n",
    "        )"
   ],
   "metadata": {
    "collapsed": false
   }
  },
  {
   "cell_type": "code",
   "execution_count": null,
   "outputs": [],
   "source": [
    "scen.set_as_default()"
   ],
   "metadata": {
    "collapsed": false
   }
  },
  {
   "cell_type": "markdown",
   "source": [
    "## add missing historic TS to SCP baseline scenario"
   ],
   "metadata": {
    "collapsed": false
   }
  },
  {
   "cell_type": "code",
   "execution_count": 18,
   "outputs": [
    {
     "name": "stderr",
     "output_type": "stream",
     "text": [
      "This Scenario has a solution, use `Scenario.remove_solution()` or `Scenario.clone(..., keep_solution=False)`\n"
     ]
    }
   ],
   "source": [
    "scen_ref = message_ix.Scenario(mp, \"MESSAGEix-GLOBIOM 1.1-R12-NGFS\", \"baseline\")"
   ],
   "metadata": {
    "collapsed": false
   }
  },
  {
   "cell_type": "code",
   "execution_count": 19,
   "outputs": [],
   "source": [
    "df_ref = scen_ref.timeseries(iamc=True)"
   ],
   "metadata": {
    "collapsed": false
   }
  },
  {
   "cell_type": "code",
   "execution_count": null,
   "outputs": [],
   "source": [
    "(\n",
    "df_ref[df_ref.variable == \"Emissions|Kyoto Gases\"]\n",
    "        .drop(\"variable\", axis=1)\n",
    "        .set_index(\"region\")\n",
    "        )"
   ],
   "metadata": {
    "collapsed": false
   }
  },
  {
   "cell_type": "code",
   "execution_count": 23,
   "outputs": [],
   "source": [
    "#scen.remove_solution()\n",
    "scen.check_out()\n",
    "scen.add_timeseries(df_ref)"
   ],
   "metadata": {
    "collapsed": false
   }
  },
  {
   "cell_type": "code",
   "execution_count": 24,
   "outputs": [],
   "source": [
    "scen.commit(\"add historic TS\")"
   ],
   "metadata": {
    "collapsed": false
   }
  },
  {
   "cell_type": "code",
   "execution_count": 25,
   "outputs": [],
   "source": [
    "scen.set_as_default()"
   ],
   "metadata": {
    "collapsed": false
   }
  },
  {
   "cell_type": "markdown",
   "source": [
    "## add missing biomass slack for NPi2020 scenario"
   ],
   "metadata": {
    "collapsed": false
   }
  },
  {
   "cell_type": "code",
   "execution_count": null,
   "outputs": [],
   "source": [
    "df = scen.par(\"land_output\", filters={\"node\":\"R12_CHN\", \"commodity\":\"bioenergy\", \"year\":2020})"
   ],
   "metadata": {
    "collapsed": false
   }
  },
  {
   "cell_type": "code",
   "execution_count": null,
   "outputs": [],
   "source": [
    "df[\"value\"] = df[\"value\"] + 11.3741"
   ],
   "metadata": {
    "collapsed": false
   }
  },
  {
   "cell_type": "code",
   "execution_count": null,
   "outputs": [],
   "source": [
    "scen.check_out()"
   ],
   "metadata": {
    "collapsed": false
   }
  },
  {
   "cell_type": "code",
   "execution_count": null,
   "outputs": [],
   "source": [
    "scen.add_par(\"land_output\", df)"
   ],
   "metadata": {
    "collapsed": false
   }
  },
  {
   "cell_type": "code",
   "execution_count": null,
   "outputs": [],
   "source": [
    "scen.commit(\"add R12_CHN biomass slack 2020\")"
   ],
   "metadata": {
    "collapsed": false
   }
  }
 ],
 "metadata": {
  "kernelspec": {
   "display_name": "Python 3",
   "language": "python",
   "name": "python3"
  },
  "language_info": {
   "codemirror_mode": {
    "name": "ipython",
    "version": 2
   },
   "file_extension": ".py",
   "mimetype": "text/x-python",
   "name": "python",
   "nbconvert_exporter": "python",
   "pygments_lexer": "ipython2",
   "version": "2.7.6"
  }
 },
 "nbformat": 4,
 "nbformat_minor": 0
}
