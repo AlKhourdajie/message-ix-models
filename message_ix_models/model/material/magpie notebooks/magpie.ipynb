{
 "cells": [
  {
   "cell_type": "markdown",
   "source": [
    "## MAGPIE setup baseline"
   ],
   "metadata": {
    "collapsed": false
   }
  },
  {
   "cell_type": "code",
   "execution_count": 1,
   "outputs": [
    {
     "data": {
      "text/plain": "<IPython.core.display.Javascript object>",
      "application/javascript": "if (typeof IPython !== 'undefined') { IPython.OutputArea.prototype._should_scroll = function(lines){ return false; }}"
     },
     "metadata": {},
     "output_type": "display_data"
    }
   ],
   "source": [
    "import ixmp\n",
    "import message_ix\n",
    "from message_ix_models.util import private_data_path\n",
    "import message_data\n",
    "import importlib\n",
    "#importlib.reload(message_data.tools.utilities)"
   ],
   "metadata": {
    "collapsed": false,
    "ExecuteTime": {
     "end_time": "2023-10-16T14:05:34.002478400Z",
     "start_time": "2023-10-16T14:05:25.844644400Z"
    }
   }
  },
  {
   "cell_type": "code",
   "execution_count": 2,
   "outputs": [],
   "source": [
    "import message_data.tools.utilities"
   ],
   "metadata": {
    "collapsed": false,
    "ExecuteTime": {
     "end_time": "2023-10-16T14:05:34.449804800Z",
     "start_time": "2023-10-16T14:05:33.971237200Z"
    }
   }
  },
  {
   "cell_type": "code",
   "execution_count": 3,
   "outputs": [],
   "source": [
    "mp = ixmp.Platform(\"ixmp_dev\")"
   ],
   "metadata": {
    "collapsed": false,
    "ExecuteTime": {
     "end_time": "2023-10-16T14:05:39.928527300Z",
     "start_time": "2023-10-16T14:05:34.449804800Z"
    }
   }
  },
  {
   "cell_type": "code",
   "execution_count": 4,
   "outputs": [],
   "source": [
    "scen = message_ix.Scenario(mp, \"MESSAGEix-Materials\", \"NoPolicy_no_SDGs_petro_thesis_1_final_premise\")"
   ],
   "metadata": {
    "collapsed": false,
    "ExecuteTime": {
     "end_time": "2023-10-09T07:43:02.244569500Z",
     "start_time": "2023-10-09T07:42:59.922975200Z"
    }
   }
  },
  {
   "cell_type": "code",
   "execution_count": 22,
   "outputs": [],
   "source": [
    "sc_clone = scen.clone(scen.model, scen.scenario+\"_updated\")"
   ],
   "metadata": {
    "collapsed": false,
    "ExecuteTime": {
     "end_time": "2023-10-09T07:49:04.893243700Z",
     "start_time": "2023-10-09T07:48:41.128939100Z"
    }
   }
  },
  {
   "cell_type": "code",
   "execution_count": 25,
   "outputs": [],
   "source": [
    "sc_clone.set_as_default()"
   ],
   "metadata": {
    "collapsed": false,
    "ExecuteTime": {
     "end_time": "2023-10-09T07:49:47.134774700Z",
     "start_time": "2023-10-09T07:49:47.068038200Z"
    }
   }
  },
  {
   "cell_type": "code",
   "execution_count": 24,
   "outputs": [
    {
     "data": {
      "text/plain": "'MESSAGEix-Materials'"
     },
     "execution_count": 24,
     "metadata": {},
     "output_type": "execute_result"
    }
   ],
   "source": [
    "sc_clone.model"
   ],
   "metadata": {
    "collapsed": false,
    "ExecuteTime": {
     "end_time": "2023-10-09T07:49:15.315295200Z",
     "start_time": "2023-10-09T07:49:15.199304500Z"
    }
   }
  },
  {
   "cell_type": "code",
   "execution_count": 17,
   "outputs": [
    {
     "data": {
      "text/plain": "                    model                                       scenario  \\\n7935  MESSAGEix-Materials  NoPolicy_no_SDGs_petro_thesis_1_final_premise   \n\n       scheme  is_default  is_locked cre_user                    cre_date  \\\n7935  MESSAGE           1          0   maczek  2023-07-20 11:57:30.000000   \n\n     upd_user upd_date lock_user lock_date  \\\n7935     None     None      None      None   \n\n                                             annotation  version  \n7935  clone Scenario from 'MESSAGEix-Materials|NoPol...        2  ",
      "text/html": "<div>\n<style scoped>\n    .dataframe tbody tr th:only-of-type {\n        vertical-align: middle;\n    }\n\n    .dataframe tbody tr th {\n        vertical-align: top;\n    }\n\n    .dataframe thead th {\n        text-align: right;\n    }\n</style>\n<table border=\"1\" class=\"dataframe\">\n  <thead>\n    <tr style=\"text-align: right;\">\n      <th></th>\n      <th>model</th>\n      <th>scenario</th>\n      <th>scheme</th>\n      <th>is_default</th>\n      <th>is_locked</th>\n      <th>cre_user</th>\n      <th>cre_date</th>\n      <th>upd_user</th>\n      <th>upd_date</th>\n      <th>lock_user</th>\n      <th>lock_date</th>\n      <th>annotation</th>\n      <th>version</th>\n    </tr>\n  </thead>\n  <tbody>\n    <tr>\n      <th>7935</th>\n      <td>MESSAGEix-Materials</td>\n      <td>NoPolicy_no_SDGs_petro_thesis_1_final_premise</td>\n      <td>MESSAGE</td>\n      <td>1</td>\n      <td>0</td>\n      <td>maczek</td>\n      <td>2023-07-20 11:57:30.000000</td>\n      <td>None</td>\n      <td>None</td>\n      <td>None</td>\n      <td>None</td>\n      <td>clone Scenario from 'MESSAGEix-Materials|NoPol...</td>\n      <td>2</td>\n    </tr>\n  </tbody>\n</table>\n</div>"
     },
     "execution_count": 17,
     "metadata": {},
     "output_type": "execute_result"
    }
   ],
   "source": [
    "model_pattern = \"MESSAGEix-Material\"\n",
    "scen_pattern = \"NoPolicy_no_SDGs_petro_thesis_1_final_premise\"\n",
    "df = mp.scenario_list()\n",
    "df[(df[\"model\"].str.contains(model_pattern)) & (df[\"scenario\"].str.startswith(scen_pattern))]"
   ],
   "metadata": {
    "collapsed": false,
    "ExecuteTime": {
     "end_time": "2023-10-09T07:46:39.014607300Z",
     "start_time": "2023-10-09T07:46:37.682873200Z"
    }
   }
  },
  {
   "cell_type": "code",
   "execution_count": 19,
   "outputs": [],
   "source": [
    "def get_scen_list(mp, scen_pattern, model_pattern):\n",
    "    df = mp.scenario_list()\n",
    "    print(df[(df[\"model\"].str.contains(model_pattern)) & (df[\"scenario\"].str.startswith(scen_pattern))])\n",
    "    return df[(df[\"model\"].str.contains(model_pattern)) & (df[\"scenario\"].str.startswith(scen_pattern))]"
   ],
   "metadata": {
    "collapsed": false,
    "ExecuteTime": {
     "end_time": "2023-10-09T07:47:19.226034900Z",
     "start_time": "2023-10-09T07:47:19.125116900Z"
    }
   }
  },
  {
   "cell_type": "code",
   "execution_count": 20,
   "outputs": [
    {
     "name": "stdout",
     "output_type": "stream",
     "text": [
      "Empty DataFrame\n",
      "Columns: [model, scenario, scheme, is_default, is_locked, cre_user, cre_date, upd_user, upd_date, lock_user, lock_date, annotation, version]\n",
      "Index: []\n"
     ]
    },
    {
     "data": {
      "text/plain": "Empty DataFrame\nColumns: [model, scenario, scheme, is_default, is_locked, cre_user, cre_date, upd_user, upd_date, lock_user, lock_date, annotation, version]\nIndex: []",
      "text/html": "<div>\n<style scoped>\n    .dataframe tbody tr th:only-of-type {\n        vertical-align: middle;\n    }\n\n    .dataframe tbody tr th {\n        vertical-align: top;\n    }\n\n    .dataframe thead th {\n        text-align: right;\n    }\n</style>\n<table border=\"1\" class=\"dataframe\">\n  <thead>\n    <tr style=\"text-align: right;\">\n      <th></th>\n      <th>model</th>\n      <th>scenario</th>\n      <th>scheme</th>\n      <th>is_default</th>\n      <th>is_locked</th>\n      <th>cre_user</th>\n      <th>cre_date</th>\n      <th>upd_user</th>\n      <th>upd_date</th>\n      <th>lock_user</th>\n      <th>lock_date</th>\n      <th>annotation</th>\n      <th>version</th>\n    </tr>\n  </thead>\n  <tbody>\n  </tbody>\n</table>\n</div>"
     },
     "execution_count": 20,
     "metadata": {},
     "output_type": "execute_result"
    }
   ],
   "source": [
    "get_scen_list(mp, model_pattern, scen_pattern)"
   ],
   "metadata": {
    "collapsed": false,
    "ExecuteTime": {
     "end_time": "2023-10-09T07:47:21.515731100Z",
     "start_time": "2023-10-09T07:47:20.537571400Z"
    }
   }
  },
  {
   "cell_type": "code",
   "execution_count": 19,
   "outputs": [
    {
     "ename": "AttributeError",
     "evalue": "'StringMethods' object has no attribute 'startwith'",
     "output_type": "error",
     "traceback": [
      "\u001B[1;31m---------------------------------------------------------------------------\u001B[0m",
      "\u001B[1;31mAttributeError\u001B[0m                            Traceback (most recent call last)",
      "Input \u001B[1;32mIn [19]\u001B[0m, in \u001B[0;36m<cell line: 1>\u001B[1;34m()\u001B[0m\n\u001B[1;32m----> 1\u001B[0m \u001B[43mget_scen_list\u001B[49m\u001B[43m(\u001B[49m\u001B[43mmp\u001B[49m\u001B[43m,\u001B[49m\u001B[43m \u001B[49m\u001B[38;5;124;43m\"\u001B[39;49m\u001B[38;5;124;43mMESSAGEix-GLOBIOM 1.1-R12-MAGPIE-MP00BD1BI00\u001B[39;49m\u001B[38;5;124;43m\"\u001B[39;49m\u001B[43m,\u001B[49m\u001B[43m \u001B[49m\u001B[38;5;124;43m\"\u001B[39;49m\u001B[38;5;124;43mnew\u001B[39;49m\u001B[38;5;124;43m\"\u001B[39;49m\u001B[43m)\u001B[49m\n",
      "Input \u001B[1;32mIn [18]\u001B[0m, in \u001B[0;36mget_scen_list\u001B[1;34m(mp, scen_pattern, model_pattern)\u001B[0m\n\u001B[0;32m      1\u001B[0m \u001B[38;5;28;01mdef\u001B[39;00m \u001B[38;5;21mget_scen_list\u001B[39m(mp, scen_pattern, model_pattern):\n\u001B[0;32m      2\u001B[0m     df \u001B[38;5;241m=\u001B[39m mp\u001B[38;5;241m.\u001B[39mscenario_list()\n\u001B[1;32m----> 3\u001B[0m     \u001B[38;5;28;01mreturn\u001B[39;00m df[(df[\u001B[38;5;124m\"\u001B[39m\u001B[38;5;124mmodel\u001B[39m\u001B[38;5;124m\"\u001B[39m]\u001B[38;5;241m.\u001B[39mstr\u001B[38;5;241m.\u001B[39mstartswith(model_pattern)) \u001B[38;5;241m&\u001B[39m (\u001B[43mdf\u001B[49m\u001B[43m[\u001B[49m\u001B[38;5;124;43m\"\u001B[39;49m\u001B[38;5;124;43mscenario\u001B[39;49m\u001B[38;5;124;43m\"\u001B[39;49m\u001B[43m]\u001B[49m\u001B[38;5;241;43m.\u001B[39;49m\u001B[43mstr\u001B[49m\u001B[38;5;241;43m.\u001B[39;49m\u001B[43mstartwith\u001B[49m(scen_pattern))]\n",
      "\u001B[1;31mAttributeError\u001B[0m: 'StringMethods' object has no attribute 'startwith'"
     ]
    }
   ],
   "source": [
    "get_scen_list(mp, \"MESSAGEix-GLOBIOM 1.1-R12-MAGPIE-MP00BD1BI00\", \"new\")"
   ],
   "metadata": {
    "collapsed": false,
    "ExecuteTime": {
     "end_time": "2023-09-19T16:44:44.127087500Z",
     "start_time": "2023-09-19T16:44:37.699794100Z"
    }
   }
  },
  {
   "cell_type": "code",
   "execution_count": 12,
   "outputs": [
    {
     "data": {
      "text/plain": "                                             model  \\\n7101  MESSAGEix-GLOBIOM 1.1-R12-MAGPIE-MP00BD1BI00   \n7103  MESSAGEix-GLOBIOM 1.1-R12-MAGPIE-MP00BD1BI00   \n7104  MESSAGEix-GLOBIOM 1.1-R12-MAGPIE-MP00BD1BI00   \n7105  MESSAGEix-GLOBIOM 1.1-R12-MAGPIE-MP00BD1BI00   \n\n                               scenario   scheme  is_default  is_locked  \\\n7101  bugfix_cost-correction_new-matrix  MESSAGE           1          0   \n7103           new-mapping_no-smoothing  MESSAGE           1          0   \n7104     new-mapping_no-smoothing_1000f  MESSAGE           1          0   \n7105         new-mapping_with-smoothing  MESSAGE           1          0   \n\n         cre_user                    cre_date     upd_user  \\\n7101       maczek  2023-09-18 16:26:29.000000         None   \n7103       maczek  2023-09-19 14:37:44.000000  steinhauser   \n7104  steinhauser  2023-09-19 15:03:24.000000         None   \n7105       maczek  2023-09-19 14:51:21.000000         None   \n\n                        upd_date lock_user lock_date  \\\n7101                        None      None      None   \n7103  2023-09-19 15:46:39.000000      None      None   \n7104                        None      None      None   \n7105                        None      None      None   \n\n                                             annotation  version  \n7101  clone Scenario from 'MESSAGEix-GLOBIOM 1.1-R12...        1  \n7103  clone Scenario from 'MESSAGEix-GLOBIOM 1.1-R12...        2  \n7104  clone Scenario from 'MESSAGEix-GLOBIOM 1.1-R12...        1  \n7105  clone Scenario from 'MESSAGEix-GLOBIOM 1.1-R12...        1  ",
      "text/html": "<div>\n<style scoped>\n    .dataframe tbody tr th:only-of-type {\n        vertical-align: middle;\n    }\n\n    .dataframe tbody tr th {\n        vertical-align: top;\n    }\n\n    .dataframe thead th {\n        text-align: right;\n    }\n</style>\n<table border=\"1\" class=\"dataframe\">\n  <thead>\n    <tr style=\"text-align: right;\">\n      <th></th>\n      <th>model</th>\n      <th>scenario</th>\n      <th>scheme</th>\n      <th>is_default</th>\n      <th>is_locked</th>\n      <th>cre_user</th>\n      <th>cre_date</th>\n      <th>upd_user</th>\n      <th>upd_date</th>\n      <th>lock_user</th>\n      <th>lock_date</th>\n      <th>annotation</th>\n      <th>version</th>\n    </tr>\n  </thead>\n  <tbody>\n    <tr>\n      <th>7101</th>\n      <td>MESSAGEix-GLOBIOM 1.1-R12-MAGPIE-MP00BD1BI00</td>\n      <td>bugfix_cost-correction_new-matrix</td>\n      <td>MESSAGE</td>\n      <td>1</td>\n      <td>0</td>\n      <td>maczek</td>\n      <td>2023-09-18 16:26:29.000000</td>\n      <td>None</td>\n      <td>None</td>\n      <td>None</td>\n      <td>None</td>\n      <td>clone Scenario from 'MESSAGEix-GLOBIOM 1.1-R12...</td>\n      <td>1</td>\n    </tr>\n    <tr>\n      <th>7103</th>\n      <td>MESSAGEix-GLOBIOM 1.1-R12-MAGPIE-MP00BD1BI00</td>\n      <td>new-mapping_no-smoothing</td>\n      <td>MESSAGE</td>\n      <td>1</td>\n      <td>0</td>\n      <td>maczek</td>\n      <td>2023-09-19 14:37:44.000000</td>\n      <td>steinhauser</td>\n      <td>2023-09-19 15:46:39.000000</td>\n      <td>None</td>\n      <td>None</td>\n      <td>clone Scenario from 'MESSAGEix-GLOBIOM 1.1-R12...</td>\n      <td>2</td>\n    </tr>\n    <tr>\n      <th>7104</th>\n      <td>MESSAGEix-GLOBIOM 1.1-R12-MAGPIE-MP00BD1BI00</td>\n      <td>new-mapping_no-smoothing_1000f</td>\n      <td>MESSAGE</td>\n      <td>1</td>\n      <td>0</td>\n      <td>steinhauser</td>\n      <td>2023-09-19 15:03:24.000000</td>\n      <td>None</td>\n      <td>None</td>\n      <td>None</td>\n      <td>None</td>\n      <td>clone Scenario from 'MESSAGEix-GLOBIOM 1.1-R12...</td>\n      <td>1</td>\n    </tr>\n    <tr>\n      <th>7105</th>\n      <td>MESSAGEix-GLOBIOM 1.1-R12-MAGPIE-MP00BD1BI00</td>\n      <td>new-mapping_with-smoothing</td>\n      <td>MESSAGE</td>\n      <td>1</td>\n      <td>0</td>\n      <td>maczek</td>\n      <td>2023-09-19 14:51:21.000000</td>\n      <td>None</td>\n      <td>None</td>\n      <td>None</td>\n      <td>None</td>\n      <td>clone Scenario from 'MESSAGEix-GLOBIOM 1.1-R12...</td>\n      <td>1</td>\n    </tr>\n  </tbody>\n</table>\n</div>"
     },
     "execution_count": 12,
     "metadata": {},
     "output_type": "execute_result"
    }
   ],
   "source": [
    "df = mp.scenario_list()\n",
    "df[(df[\"model\"].str.startswith(\"MESSAGEix-GLOBIOM 1.1-R12-MAGPIE-MP00BD1BI00\")) & (df[\"scenario\"].str.contains(\"new\"))]"
   ],
   "metadata": {
    "collapsed": false,
    "ExecuteTime": {
     "end_time": "2023-09-19T16:18:24.427634800Z",
     "start_time": "2023-09-19T16:18:23.037601600Z"
    }
   }
  },
  {
   "cell_type": "code",
   "execution_count": 7,
   "outputs": [],
   "source": [
    "#scen = message_ix.Scenario(mp, \"MESSAGEix-GLOBIOM 1.1-R12-MAGPIE-MP00BD0BI78\", \"EN_NPi2020_1000f\")\n",
    "models = [\"MESSAGEix-MAgPIE_Forest-test\", ]\n",
    "scenarios = [\"primary_constraint_1000f_landScenLo_002\"]\n",
    "#scen = message_ix.Scenario(mp, models[0], scenarios[0])"
   ],
   "metadata": {
    "collapsed": false,
    "ExecuteTime": {
     "end_time": "2023-09-14T15:35:05.007149100Z",
     "start_time": "2023-09-14T15:35:02.841426700Z"
    }
   }
  },
  {
   "cell_type": "code",
   "execution_count": 4,
   "outputs": [],
   "source": [
    "#scen = message_ix.Scenario(mp, \"MESSAGEix-GLOBIOM 1.1-R12-MAGPIE-MP00BD1BI00\", \"EN_NPi2020_1000f\")\n",
    "scen = message_ix.Scenario(mp, \"MESSAGEix-GLOBIOM 1.1-R12-MAGPIE\", \"baseline_w/o_LU\")\n",
    "#scen = message_ix.Scenario(mp, \"MESSAGEix-GLOBIOM 1.1-R12-MAGPIE-MP00BD0BI78\", \"test to confirm MACRO converges\")"
   ],
   "metadata": {
    "collapsed": false,
    "ExecuteTime": {
     "end_time": "2023-10-16T14:15:07.752450300Z",
     "start_time": "2023-10-16T14:15:04.240307100Z"
    }
   }
  },
  {
   "cell_type": "code",
   "execution_count": 6,
   "outputs": [],
   "source": [
    "scen.remove_solution()\n",
    "scen.solve()"
   ],
   "metadata": {
    "collapsed": false,
    "ExecuteTime": {
     "end_time": "2023-10-02T09:32:34.261763900Z",
     "start_time": "2023-10-02T09:29:05.034233600Z"
    }
   }
  },
  {
   "cell_type": "code",
   "execution_count": 4,
   "outputs": [],
   "source": [
    "#scen = message_ix.Scenario(mp, \"MESSAGEix-GLOBIOM 1.1-R12-MAGPIE-MP00BD1BI00\", \"new-mapping_no-smoothing_1000f\")\n",
    "#scen = message_ix.Scenario(mp, \"MESSAGEix-GLOBIOM 1.1-R12-MAGPIE-MP00BD1BI00\", \"new-mapping_with-smoothing\")\n",
    "#scen = message_ix.Scenario(mp, \"MESSAGEix-GLOBIOM 1.1-R12-MAGPIE-MP00BD1BI00\", \"new-mapping_with-smoothing_primary-forest-constraint_tax_100\")\n",
    "scen = message_ix.Scenario(mp, \"MESSAGEix-GLOBIOM 1.1-R12-MAGPIE-MP00BD1BI00\", \"new-mapping_with-smoothing_primary-forest-constraint_tax_1000\")"
   ],
   "metadata": {
    "collapsed": false,
    "ExecuteTime": {
     "end_time": "2023-09-20T20:22:20.385118700Z",
     "start_time": "2023-09-20T20:22:17.697414900Z"
    }
   }
  },
  {
   "cell_type": "code",
   "execution_count": 6,
   "outputs": [],
   "source": [
    "#sc_clone = scen.clone(\"MESSAGEix-GLOBIOM 1.1-R12-MAGPIE-MP00BD1BI00\", \"new-mapping_with-smoothing_primary-forest-constraint_tax_100\")\n",
    "sc_clone = scen.clone(\"MESSAGEix-GLOBIOM 1.1-R12-MAGPIE-MP00BD1BI00\", \"new-mapping_with-smoothing_primary-forest-constraint_tax_1000\", keep_solution=False)"
   ],
   "metadata": {
    "collapsed": false,
    "ExecuteTime": {
     "end_time": "2023-09-20T19:12:30.273833500Z",
     "start_time": "2023-09-20T19:12:11.848257400Z"
    }
   }
  },
  {
   "cell_type": "code",
   "execution_count": 5,
   "outputs": [],
   "source": [
    "#sc_clone = scen.clone(\"MESSAGEix-GLOBIOM 1.1-R12-MAGPIE-MP00BD1BI00\", \"exp_matrix_test\")\n",
    "sc_clone = scen.clone(\"MESSAGEix-GLOBIOM 1.1-R12-MAGPIE-MP00BD1BI00\", \"exp2110_matrix_test\")"
   ],
   "metadata": {
    "collapsed": false,
    "ExecuteTime": {
     "end_time": "2023-10-16T14:18:16.956351400Z",
     "start_time": "2023-10-16T14:17:58.254478800Z"
    }
   }
  },
  {
   "cell_type": "code",
   "execution_count": 19,
   "outputs": [],
   "source": [
    "sc_clone.remove_solution()"
   ],
   "metadata": {
    "collapsed": false,
    "ExecuteTime": {
     "end_time": "2023-09-20T18:22:13.578298800Z",
     "start_time": "2023-09-20T18:22:11.750390500Z"
    }
   }
  },
  {
   "cell_type": "code",
   "execution_count": 5,
   "outputs": [],
   "source": [
    "scen.solve(model=\"MESSAGE-MACRO\", solve_options={\"scaind\":-1})"
   ],
   "metadata": {
    "collapsed": false,
    "ExecuteTime": {
     "end_time": "2023-09-20T20:47:05.194037100Z",
     "start_time": "2023-09-20T20:22:24.447338300Z"
    }
   }
  },
  {
   "cell_type": "code",
   "execution_count": 23,
   "outputs": [
    {
     "data": {
      "text/plain": "True"
     },
     "execution_count": 23,
     "metadata": {},
     "output_type": "execute_result"
    }
   ],
   "source": [
    "sc_clone.has_solution()"
   ],
   "metadata": {
    "collapsed": false,
    "ExecuteTime": {
     "end_time": "2023-09-20T18:53:55.190420400Z",
     "start_time": "2023-09-20T18:53:55.018939700Z"
    }
   }
  },
  {
   "cell_type": "code",
   "execution_count": 10,
   "outputs": [],
   "source": [
    "sc_clone.check_out()\n",
    "sc_clone.add_par(\"tax_emission\", df)\n",
    "sc_clone.commit(\"add emi tax\")"
   ],
   "metadata": {
    "collapsed": false,
    "ExecuteTime": {
     "end_time": "2023-09-20T19:12:51.645775700Z",
     "start_time": "2023-09-20T19:12:51.058281800Z"
    }
   }
  },
  {
   "cell_type": "code",
   "execution_count": 7,
   "outputs": [],
   "source": [
    "scen2 = message_ix.Scenario(mp, \"MESSAGEix-GLOBIOM 1.1-R12-MAGPIE-MP30BD0BI70\", \"EN_NPi2020_1150\")"
   ],
   "metadata": {
    "collapsed": false,
    "ExecuteTime": {
     "end_time": "2023-09-20T18:01:46.858015600Z",
     "start_time": "2023-09-20T18:01:45.373668100Z"
    }
   }
  },
  {
   "cell_type": "code",
   "execution_count": 11,
   "outputs": [
    {
     "data": {
      "text/plain": "     node type_emission type_tec type_year        value    unit\n0   World           TCE      all      2020  3310.036812  USD/tC\n1   World           TCE      all      2025  3310.036812  USD/tC\n2   World           TCE      all      2030  3310.036812  USD/tC\n3   World           TCE      all      2035  3310.036812  USD/tC\n4   World           TCE      all      2040  3310.036812  USD/tC\n5   World           TCE      all      2045  3310.036812  USD/tC\n6   World           TCE      all      2050  3310.036812  USD/tC\n7   World           TCE      all      2055  3310.036812  USD/tC\n8   World           TCE      all      2060  3310.036812  USD/tC\n9   World           TCE      all      2070  3310.036812  USD/tC\n10  World           TCE      all      2080  3310.036812  USD/tC\n11  World           TCE      all      2090  3310.036812  USD/tC\n12  World           TCE      all      2100  3310.036812  USD/tC\n13  World           TCE      all      2110  3310.036812  USD/tC",
      "text/html": "<div>\n<style scoped>\n    .dataframe tbody tr th:only-of-type {\n        vertical-align: middle;\n    }\n\n    .dataframe tbody tr th {\n        vertical-align: top;\n    }\n\n    .dataframe thead th {\n        text-align: right;\n    }\n</style>\n<table border=\"1\" class=\"dataframe\">\n  <thead>\n    <tr style=\"text-align: right;\">\n      <th></th>\n      <th>node</th>\n      <th>type_emission</th>\n      <th>type_tec</th>\n      <th>type_year</th>\n      <th>value</th>\n      <th>unit</th>\n    </tr>\n  </thead>\n  <tbody>\n    <tr>\n      <th>0</th>\n      <td>World</td>\n      <td>TCE</td>\n      <td>all</td>\n      <td>2020</td>\n      <td>3310.036812</td>\n      <td>USD/tC</td>\n    </tr>\n    <tr>\n      <th>1</th>\n      <td>World</td>\n      <td>TCE</td>\n      <td>all</td>\n      <td>2025</td>\n      <td>3310.036812</td>\n      <td>USD/tC</td>\n    </tr>\n    <tr>\n      <th>2</th>\n      <td>World</td>\n      <td>TCE</td>\n      <td>all</td>\n      <td>2030</td>\n      <td>3310.036812</td>\n      <td>USD/tC</td>\n    </tr>\n    <tr>\n      <th>3</th>\n      <td>World</td>\n      <td>TCE</td>\n      <td>all</td>\n      <td>2035</td>\n      <td>3310.036812</td>\n      <td>USD/tC</td>\n    </tr>\n    <tr>\n      <th>4</th>\n      <td>World</td>\n      <td>TCE</td>\n      <td>all</td>\n      <td>2040</td>\n      <td>3310.036812</td>\n      <td>USD/tC</td>\n    </tr>\n    <tr>\n      <th>5</th>\n      <td>World</td>\n      <td>TCE</td>\n      <td>all</td>\n      <td>2045</td>\n      <td>3310.036812</td>\n      <td>USD/tC</td>\n    </tr>\n    <tr>\n      <th>6</th>\n      <td>World</td>\n      <td>TCE</td>\n      <td>all</td>\n      <td>2050</td>\n      <td>3310.036812</td>\n      <td>USD/tC</td>\n    </tr>\n    <tr>\n      <th>7</th>\n      <td>World</td>\n      <td>TCE</td>\n      <td>all</td>\n      <td>2055</td>\n      <td>3310.036812</td>\n      <td>USD/tC</td>\n    </tr>\n    <tr>\n      <th>8</th>\n      <td>World</td>\n      <td>TCE</td>\n      <td>all</td>\n      <td>2060</td>\n      <td>3310.036812</td>\n      <td>USD/tC</td>\n    </tr>\n    <tr>\n      <th>9</th>\n      <td>World</td>\n      <td>TCE</td>\n      <td>all</td>\n      <td>2070</td>\n      <td>3310.036812</td>\n      <td>USD/tC</td>\n    </tr>\n    <tr>\n      <th>10</th>\n      <td>World</td>\n      <td>TCE</td>\n      <td>all</td>\n      <td>2080</td>\n      <td>3310.036812</td>\n      <td>USD/tC</td>\n    </tr>\n    <tr>\n      <th>11</th>\n      <td>World</td>\n      <td>TCE</td>\n      <td>all</td>\n      <td>2090</td>\n      <td>3310.036812</td>\n      <td>USD/tC</td>\n    </tr>\n    <tr>\n      <th>12</th>\n      <td>World</td>\n      <td>TCE</td>\n      <td>all</td>\n      <td>2100</td>\n      <td>3310.036812</td>\n      <td>USD/tC</td>\n    </tr>\n    <tr>\n      <th>13</th>\n      <td>World</td>\n      <td>TCE</td>\n      <td>all</td>\n      <td>2110</td>\n      <td>3310.036812</td>\n      <td>USD/tC</td>\n    </tr>\n  </tbody>\n</table>\n</div>"
     },
     "execution_count": 11,
     "metadata": {},
     "output_type": "execute_result"
    }
   ],
   "source": [
    "df = sc_clone.par(\"tax_emission\")\n",
    "df"
   ],
   "metadata": {
    "collapsed": false,
    "ExecuteTime": {
     "end_time": "2023-09-20T19:12:53.660686600Z",
     "start_time": "2023-09-20T19:12:53.550006800Z"
    }
   }
  },
  {
   "cell_type": "code",
   "execution_count": 8,
   "outputs": [],
   "source": [
    "#df[\"type_emission\"] = \"TCE\"\n",
    "df[\"value\"] = (1000 * 3.310036812)"
   ],
   "metadata": {
    "collapsed": false,
    "ExecuteTime": {
     "end_time": "2023-09-20T19:12:37.910946600Z",
     "start_time": "2023-09-20T19:12:37.770609200Z"
    }
   }
  },
  {
   "cell_type": "code",
   "execution_count": 9,
   "outputs": [
    {
     "data": {
      "text/plain": "     node type_emission type_tec type_year        value    unit\n0   World           TCE      all      2020  3310.036812  USD/tC\n1   World           TCE      all      2025  3310.036812  USD/tC\n2   World           TCE      all      2030  3310.036812  USD/tC\n3   World           TCE      all      2035  3310.036812  USD/tC\n4   World           TCE      all      2040  3310.036812  USD/tC\n5   World           TCE      all      2045  3310.036812  USD/tC\n6   World           TCE      all      2050  3310.036812  USD/tC\n7   World           TCE      all      2055  3310.036812  USD/tC\n8   World           TCE      all      2060  3310.036812  USD/tC\n9   World           TCE      all      2070  3310.036812  USD/tC\n10  World           TCE      all      2080  3310.036812  USD/tC\n11  World           TCE      all      2090  3310.036812  USD/tC\n12  World           TCE      all      2100  3310.036812  USD/tC\n13  World           TCE      all      2110  3310.036812  USD/tC",
      "text/html": "<div>\n<style scoped>\n    .dataframe tbody tr th:only-of-type {\n        vertical-align: middle;\n    }\n\n    .dataframe tbody tr th {\n        vertical-align: top;\n    }\n\n    .dataframe thead th {\n        text-align: right;\n    }\n</style>\n<table border=\"1\" class=\"dataframe\">\n  <thead>\n    <tr style=\"text-align: right;\">\n      <th></th>\n      <th>node</th>\n      <th>type_emission</th>\n      <th>type_tec</th>\n      <th>type_year</th>\n      <th>value</th>\n      <th>unit</th>\n    </tr>\n  </thead>\n  <tbody>\n    <tr>\n      <th>0</th>\n      <td>World</td>\n      <td>TCE</td>\n      <td>all</td>\n      <td>2020</td>\n      <td>3310.036812</td>\n      <td>USD/tC</td>\n    </tr>\n    <tr>\n      <th>1</th>\n      <td>World</td>\n      <td>TCE</td>\n      <td>all</td>\n      <td>2025</td>\n      <td>3310.036812</td>\n      <td>USD/tC</td>\n    </tr>\n    <tr>\n      <th>2</th>\n      <td>World</td>\n      <td>TCE</td>\n      <td>all</td>\n      <td>2030</td>\n      <td>3310.036812</td>\n      <td>USD/tC</td>\n    </tr>\n    <tr>\n      <th>3</th>\n      <td>World</td>\n      <td>TCE</td>\n      <td>all</td>\n      <td>2035</td>\n      <td>3310.036812</td>\n      <td>USD/tC</td>\n    </tr>\n    <tr>\n      <th>4</th>\n      <td>World</td>\n      <td>TCE</td>\n      <td>all</td>\n      <td>2040</td>\n      <td>3310.036812</td>\n      <td>USD/tC</td>\n    </tr>\n    <tr>\n      <th>5</th>\n      <td>World</td>\n      <td>TCE</td>\n      <td>all</td>\n      <td>2045</td>\n      <td>3310.036812</td>\n      <td>USD/tC</td>\n    </tr>\n    <tr>\n      <th>6</th>\n      <td>World</td>\n      <td>TCE</td>\n      <td>all</td>\n      <td>2050</td>\n      <td>3310.036812</td>\n      <td>USD/tC</td>\n    </tr>\n    <tr>\n      <th>7</th>\n      <td>World</td>\n      <td>TCE</td>\n      <td>all</td>\n      <td>2055</td>\n      <td>3310.036812</td>\n      <td>USD/tC</td>\n    </tr>\n    <tr>\n      <th>8</th>\n      <td>World</td>\n      <td>TCE</td>\n      <td>all</td>\n      <td>2060</td>\n      <td>3310.036812</td>\n      <td>USD/tC</td>\n    </tr>\n    <tr>\n      <th>9</th>\n      <td>World</td>\n      <td>TCE</td>\n      <td>all</td>\n      <td>2070</td>\n      <td>3310.036812</td>\n      <td>USD/tC</td>\n    </tr>\n    <tr>\n      <th>10</th>\n      <td>World</td>\n      <td>TCE</td>\n      <td>all</td>\n      <td>2080</td>\n      <td>3310.036812</td>\n      <td>USD/tC</td>\n    </tr>\n    <tr>\n      <th>11</th>\n      <td>World</td>\n      <td>TCE</td>\n      <td>all</td>\n      <td>2090</td>\n      <td>3310.036812</td>\n      <td>USD/tC</td>\n    </tr>\n    <tr>\n      <th>12</th>\n      <td>World</td>\n      <td>TCE</td>\n      <td>all</td>\n      <td>2100</td>\n      <td>3310.036812</td>\n      <td>USD/tC</td>\n    </tr>\n    <tr>\n      <th>13</th>\n      <td>World</td>\n      <td>TCE</td>\n      <td>all</td>\n      <td>2110</td>\n      <td>3310.036812</td>\n      <td>USD/tC</td>\n    </tr>\n  </tbody>\n</table>\n</div>"
     },
     "execution_count": 9,
     "metadata": {},
     "output_type": "execute_result"
    }
   ],
   "source": [
    "df"
   ],
   "metadata": {
    "collapsed": false,
    "ExecuteTime": {
     "end_time": "2023-09-20T19:12:39.535922500Z",
     "start_time": "2023-09-20T19:12:39.422454400Z"
    }
   }
  },
  {
   "cell_type": "code",
   "execution_count": 5,
   "outputs": [
    {
     "data": {
      "text/plain": "True"
     },
     "execution_count": 5,
     "metadata": {},
     "output_type": "execute_result"
    }
   ],
   "source": [
    "scen.has_solution()"
   ],
   "metadata": {
    "collapsed": false,
    "ExecuteTime": {
     "end_time": "2023-09-20T12:09:33.535380800Z",
     "start_time": "2023-09-20T12:09:33.462699Z"
    }
   }
  },
  {
   "cell_type": "code",
   "execution_count": 8,
   "outputs": [],
   "source": [
    "scen.remove_solution()"
   ],
   "metadata": {
    "collapsed": false,
    "ExecuteTime": {
     "end_time": "2023-09-20T11:59:15.670992300Z",
     "start_time": "2023-09-20T11:58:32.559401200Z"
    }
   }
  },
  {
   "cell_type": "code",
   "execution_count": null,
   "outputs": [],
   "source": [
    "scen.solve(\"MESSAGE-MACRO\")"
   ],
   "metadata": {
    "collapsed": false,
    "ExecuteTime": {
     "start_time": "2023-09-20T12:10:04.268266300Z"
    }
   }
  },
  {
   "cell_type": "code",
   "execution_count": 5,
   "outputs": [],
   "source": [
    "#sc_clone3 = scen.clone(\"MESSAGEix-GLOBIOM 1.1-R12-MAGPIE-MP00BD1BI00_uncorrected\", \"baseline\")\n",
    "#sc_clone = scen.clone(\"MESSAGEix-GLOBIOM 1.1-R12-MAGPIE-MP00BD1BI00_incOldFor+PrimFor\", \"baseline\")\n",
    "#sc_clone = scen.clone(\"MESSAGEix-GLOBIOM 1.1-R12-MAGPIE-MP00BD1BI00_OldForSplit\", \"baseline\")\n",
    "#sc_clone = scen.clone(\"MESSAGEix-GLOBIOM 1.1-R12-MAGPIE-MP00BD1BI00\", \"bugfix\")\n",
    "#sc_clone2 = scen.clone(\"MESSAGEix-GLOBIOM 1.1-R12-MAGPIE-MP00BD1BI00\", \"bugfix_cost-correction\")\n",
    "#sc_clone2 = scen.clone(\"MESSAGEix-GLOBIOM 1.1-R12-MAGPIE-MP00BD1BI00\", \"bugfix_cost-correction_new-matrix\")\n",
    "#sc_clone2 = scen.clone(\"MESSAGEix-GLOBIOM 1.1-R12-MAGPIE-MP00BD1BI00\", \"new-mapping_no-smoothing\")\n",
    "sc_clone2 = scen.clone(\"MESSAGEix-GLOBIOM 1.1-R12-MAGPIE-MP00BD1BI00\", \"new-mapping_with-smoothing\")\n",
    "#sc_clone = message_ix.Scenario(mp, \"MESSAGEix-GLOBIOM 1.1-R12-MAGPIE-MP00BD1BI00_corrected\", \"baseline\")"
   ],
   "metadata": {
    "collapsed": false,
    "ExecuteTime": {
     "end_time": "2023-09-19T12:51:40.341511700Z",
     "start_time": "2023-09-19T12:51:21.425252Z"
    }
   }
  },
  {
   "cell_type": "code",
   "execution_count": 4,
   "outputs": [],
   "source": [
    "#scen = message_ix.Scenario(mp, \"MESSAGEix-GLOBIOM 1.1-R12-MAGPIE-MP00BD1BI00_uncorrected\", \"baseline\")\n",
    "#scen = message_ix.Scenario(mp, \"MESSAGEix-GLOBIOM 1.1-R12-MAGPIE-MP00BD1BI00\", \"bugfix_1000f\")\n",
    "scen = message_ix.Scenario(mp, \"MESSAGEix-GLOBIOM 1.1-R12-MAGPIE-MP00BD1BI00\", \"bugfix_cost-correction_new-matrix\")"
   ],
   "metadata": {
    "collapsed": false,
    "ExecuteTime": {
     "end_time": "2023-09-19T09:24:37.660479Z",
     "start_time": "2023-09-19T09:24:34.009163800Z"
    }
   }
  },
  {
   "cell_type": "code",
   "execution_count": 10,
   "outputs": [
    {
     "ename": "KeyboardInterrupt",
     "evalue": "",
     "output_type": "error",
     "traceback": [
      "\u001B[1;31m---------------------------------------------------------------------------\u001B[0m",
      "\u001B[1;31mKeyboardInterrupt\u001B[0m                         Traceback (most recent call last)",
      "Input \u001B[1;32mIn [10]\u001B[0m, in \u001B[0;36m<cell line: 1>\u001B[1;34m()\u001B[0m\n\u001B[1;32m----> 1\u001B[0m \u001B[43mscen\u001B[49m\u001B[38;5;241;43m.\u001B[39;49m\u001B[43msolve\u001B[49m\u001B[43m(\u001B[49m\u001B[43mmodel\u001B[49m\u001B[38;5;241;43m=\u001B[39;49m\u001B[38;5;124;43m\"\u001B[39;49m\u001B[38;5;124;43mMESSAGE-MACRO\u001B[39;49m\u001B[38;5;124;43m\"\u001B[39;49m\u001B[43m)\u001B[49m\n",
      "File \u001B[1;32m~\\PycharmProjects\\message_ix\\message_ix\\core.py:677\u001B[0m, in \u001B[0;36mScenario.solve\u001B[1;34m(self, model, solve_options, **kwargs)\u001B[0m\n\u001B[0;32m    657\u001B[0m \u001B[38;5;28;01mdef\u001B[39;00m \u001B[38;5;21msolve\u001B[39m(\u001B[38;5;28mself\u001B[39m, model\u001B[38;5;241m=\u001B[39m\u001B[38;5;124m\"\u001B[39m\u001B[38;5;124mMESSAGE\u001B[39m\u001B[38;5;124m\"\u001B[39m, solve_options\u001B[38;5;241m=\u001B[39m{}, \u001B[38;5;241m*\u001B[39m\u001B[38;5;241m*\u001B[39mkwargs):\n\u001B[0;32m    658\u001B[0m     \u001B[38;5;124;03m\"\"\"Solve MESSAGE or MESSAGE-MACRO for the Scenario.\u001B[39;00m\n\u001B[0;32m    659\u001B[0m \n\u001B[0;32m    660\u001B[0m \u001B[38;5;124;03m    By default, :meth:`ixmp.Scenario.solve` is called with 'MESSAGE' as the\u001B[39;00m\n\u001B[1;32m   (...)\u001B[0m\n\u001B[0;32m    675\u001B[0m \u001B[38;5;124;03m        :class:`.GAMSModel`.\u001B[39;00m\n\u001B[0;32m    676\u001B[0m \u001B[38;5;124;03m    \"\"\"\u001B[39;00m\n\u001B[1;32m--> 677\u001B[0m     \u001B[38;5;28;43msuper\u001B[39;49m\u001B[43m(\u001B[49m\u001B[43m)\u001B[49m\u001B[38;5;241;43m.\u001B[39;49m\u001B[43msolve\u001B[49m\u001B[43m(\u001B[49m\u001B[43mmodel\u001B[49m\u001B[38;5;241;43m=\u001B[39;49m\u001B[43mmodel\u001B[49m\u001B[43m,\u001B[49m\u001B[43m \u001B[49m\u001B[43msolve_options\u001B[49m\u001B[38;5;241;43m=\u001B[39;49m\u001B[43msolve_options\u001B[49m\u001B[43m,\u001B[49m\u001B[43m \u001B[49m\u001B[38;5;241;43m*\u001B[39;49m\u001B[38;5;241;43m*\u001B[39;49m\u001B[43mkwargs\u001B[49m\u001B[43m)\u001B[49m\n",
      "File \u001B[1;32m~\\Anaconda3\\lib\\site-packages\\ixmp\\core\\scenario.py:835\u001B[0m, in \u001B[0;36mScenario.solve\u001B[1;34m(self, model, callback, cb_kwargs, **model_options)\u001B[0m\n\u001B[0;32m    833\u001B[0m \u001B[38;5;66;03m# Iterate until convergence\u001B[39;00m\n\u001B[0;32m    834\u001B[0m \u001B[38;5;28;01mwhile\u001B[39;00m \u001B[38;5;28;01mTrue\u001B[39;00m:\n\u001B[1;32m--> 835\u001B[0m     \u001B[43mmodel_obj\u001B[49m\u001B[38;5;241;43m.\u001B[39;49m\u001B[43mrun\u001B[49m\u001B[43m(\u001B[49m\u001B[38;5;28;43mself\u001B[39;49m\u001B[43m)\u001B[49m\n\u001B[0;32m    837\u001B[0m     \u001B[38;5;66;03m# Store an iteration number to help the callback\u001B[39;00m\n\u001B[0;32m    838\u001B[0m     \u001B[38;5;28;01mif\u001B[39;00m \u001B[38;5;129;01mnot\u001B[39;00m \u001B[38;5;28mhasattr\u001B[39m(\u001B[38;5;28mself\u001B[39m, \u001B[38;5;124m\"\u001B[39m\u001B[38;5;124miteration\u001B[39m\u001B[38;5;124m\"\u001B[39m):\n",
      "File \u001B[1;32m~\\PycharmProjects\\message_ix\\message_ix\\models.py:373\u001B[0m, in \u001B[0;36mGAMSModel.run\u001B[1;34m(self, scenario)\u001B[0m\n\u001B[0;32m    370\u001B[0m lines2 \u001B[38;5;241m=\u001B[39m (\u001B[38;5;124m\"\u001B[39m\u001B[38;5;132;01m{}\u001B[39;00m\u001B[38;5;124m = \u001B[39m\u001B[38;5;132;01m{}\u001B[39;00m\u001B[38;5;124m\"\u001B[39m\u001B[38;5;241m.\u001B[39mformat(\u001B[38;5;241m*\u001B[39mkv) \u001B[38;5;28;01mfor\u001B[39;00m kv \u001B[38;5;129;01min\u001B[39;00m \u001B[38;5;28mself\u001B[39m\u001B[38;5;241m.\u001B[39mcplex_opts\u001B[38;5;241m.\u001B[39mitems())\n\u001B[0;32m    371\u001B[0m optfile2\u001B[38;5;241m.\u001B[39mwrite_text(\u001B[38;5;124m\"\u001B[39m\u001B[38;5;130;01m\\n\u001B[39;00m\u001B[38;5;124m\"\u001B[39m\u001B[38;5;241m.\u001B[39mjoin(lines2))\n\u001B[1;32m--> 373\u001B[0m result \u001B[38;5;241m=\u001B[39m \u001B[38;5;28;43msuper\u001B[39;49m\u001B[43m(\u001B[49m\u001B[43m)\u001B[49m\u001B[38;5;241;43m.\u001B[39;49m\u001B[43mrun\u001B[49m\u001B[43m(\u001B[49m\u001B[43mscenario\u001B[49m\u001B[43m)\u001B[49m\n\u001B[0;32m    375\u001B[0m \u001B[38;5;66;03m# In previous versions, the `cplex.opt` file(s) were removed at this point\u001B[39;00m\n\u001B[0;32m    376\u001B[0m \u001B[38;5;66;03m# in the workflow. This has been removed due to issues when running\u001B[39;00m\n\u001B[0;32m    377\u001B[0m \u001B[38;5;66;03m# scenarios asynchronously.\u001B[39;00m\n\u001B[0;32m    379\u001B[0m \u001B[38;5;28;01mreturn\u001B[39;00m result\n",
      "File \u001B[1;32m~\\Anaconda3\\lib\\site-packages\\ixmp\\model\\gams.py:293\u001B[0m, in \u001B[0;36mGAMSModel.run\u001B[1;34m(self, scenario)\u001B[0m\n\u001B[0;32m    286\u001B[0m     \u001B[38;5;28;01mraise\u001B[39;00m \u001B[38;5;167;01mNotImplementedError\u001B[39;00m(\n\u001B[0;32m    287\u001B[0m         \u001B[38;5;124m\"\u001B[39m\u001B[38;5;124mGAMSModel requires a Backend that can write to GDX files, e.g. \u001B[39m\u001B[38;5;124m\"\u001B[39m\n\u001B[0;32m    288\u001B[0m         \u001B[38;5;124m\"\u001B[39m\u001B[38;5;124mJDBCBackend\u001B[39m\u001B[38;5;124m\"\u001B[39m\n\u001B[0;32m    289\u001B[0m     )\n\u001B[0;32m    291\u001B[0m \u001B[38;5;28;01mtry\u001B[39;00m:\n\u001B[0;32m    292\u001B[0m     \u001B[38;5;66;03m# Invoke GAMS\u001B[39;00m\n\u001B[1;32m--> 293\u001B[0m     \u001B[43mcheck_call\u001B[49m\u001B[43m(\u001B[49m\u001B[43mcommand\u001B[49m\u001B[43m,\u001B[49m\u001B[43m \u001B[49m\u001B[43mshell\u001B[49m\u001B[38;5;241;43m=\u001B[39;49m\u001B[43mos\u001B[49m\u001B[38;5;241;43m.\u001B[39;49m\u001B[43mname\u001B[49m\u001B[43m \u001B[49m\u001B[38;5;241;43m==\u001B[39;49m\u001B[43m \u001B[49m\u001B[38;5;124;43m\"\u001B[39;49m\u001B[38;5;124;43mnt\u001B[39;49m\u001B[38;5;124;43m\"\u001B[39;49m\u001B[43m,\u001B[49m\u001B[43m \u001B[49m\u001B[43mcwd\u001B[49m\u001B[38;5;241;43m=\u001B[39;49m\u001B[38;5;28;43mself\u001B[39;49m\u001B[38;5;241;43m.\u001B[39;49m\u001B[43mcwd\u001B[49m\u001B[43m)\u001B[49m\n\u001B[0;32m    294\u001B[0m \u001B[38;5;28;01mexcept\u001B[39;00m CalledProcessError \u001B[38;5;28;01mas\u001B[39;00m exc:\n\u001B[0;32m    295\u001B[0m     \u001B[38;5;66;03m# Do not remove self.temp_dir; the user may want to inspect the GDX file\u001B[39;00m\n\u001B[0;32m    296\u001B[0m     \u001B[38;5;28;01mraise\u001B[39;00m \u001B[38;5;28mself\u001B[39m\u001B[38;5;241m.\u001B[39mformat_exception(exc, model_file) \u001B[38;5;28;01mfrom\u001B[39;00m \u001B[38;5;28mNone\u001B[39m\n",
      "File \u001B[1;32m~\\Anaconda3\\lib\\subprocess.py:359\u001B[0m, in \u001B[0;36mcheck_call\u001B[1;34m(*popenargs, **kwargs)\u001B[0m\n\u001B[0;32m    349\u001B[0m \u001B[38;5;28;01mdef\u001B[39;00m \u001B[38;5;21mcheck_call\u001B[39m(\u001B[38;5;241m*\u001B[39mpopenargs, \u001B[38;5;241m*\u001B[39m\u001B[38;5;241m*\u001B[39mkwargs):\n\u001B[0;32m    350\u001B[0m     \u001B[38;5;124;03m\"\"\"Run command with arguments.  Wait for command to complete.  If\u001B[39;00m\n\u001B[0;32m    351\u001B[0m \u001B[38;5;124;03m    the exit code was zero then return, otherwise raise\u001B[39;00m\n\u001B[0;32m    352\u001B[0m \u001B[38;5;124;03m    CalledProcessError.  The CalledProcessError object will have the\u001B[39;00m\n\u001B[1;32m   (...)\u001B[0m\n\u001B[0;32m    357\u001B[0m \u001B[38;5;124;03m    check_call([\"ls\", \"-l\"])\u001B[39;00m\n\u001B[0;32m    358\u001B[0m \u001B[38;5;124;03m    \"\"\"\u001B[39;00m\n\u001B[1;32m--> 359\u001B[0m     retcode \u001B[38;5;241m=\u001B[39m \u001B[43mcall\u001B[49m\u001B[43m(\u001B[49m\u001B[38;5;241;43m*\u001B[39;49m\u001B[43mpopenargs\u001B[49m\u001B[43m,\u001B[49m\u001B[43m \u001B[49m\u001B[38;5;241;43m*\u001B[39;49m\u001B[38;5;241;43m*\u001B[39;49m\u001B[43mkwargs\u001B[49m\u001B[43m)\u001B[49m\n\u001B[0;32m    360\u001B[0m     \u001B[38;5;28;01mif\u001B[39;00m retcode:\n\u001B[0;32m    361\u001B[0m         cmd \u001B[38;5;241m=\u001B[39m kwargs\u001B[38;5;241m.\u001B[39mget(\u001B[38;5;124m\"\u001B[39m\u001B[38;5;124margs\u001B[39m\u001B[38;5;124m\"\u001B[39m)\n",
      "File \u001B[1;32m~\\Anaconda3\\lib\\subprocess.py:342\u001B[0m, in \u001B[0;36mcall\u001B[1;34m(timeout, *popenargs, **kwargs)\u001B[0m\n\u001B[0;32m    340\u001B[0m \u001B[38;5;28;01mwith\u001B[39;00m Popen(\u001B[38;5;241m*\u001B[39mpopenargs, \u001B[38;5;241m*\u001B[39m\u001B[38;5;241m*\u001B[39mkwargs) \u001B[38;5;28;01mas\u001B[39;00m p:\n\u001B[0;32m    341\u001B[0m     \u001B[38;5;28;01mtry\u001B[39;00m:\n\u001B[1;32m--> 342\u001B[0m         \u001B[38;5;28;01mreturn\u001B[39;00m \u001B[43mp\u001B[49m\u001B[38;5;241;43m.\u001B[39;49m\u001B[43mwait\u001B[49m\u001B[43m(\u001B[49m\u001B[43mtimeout\u001B[49m\u001B[38;5;241;43m=\u001B[39;49m\u001B[43mtimeout\u001B[49m\u001B[43m)\u001B[49m\n\u001B[0;32m    343\u001B[0m     \u001B[38;5;28;01mexcept\u001B[39;00m:  \u001B[38;5;66;03m# Including KeyboardInterrupt, wait handled that.\u001B[39;00m\n\u001B[0;32m    344\u001B[0m         p\u001B[38;5;241m.\u001B[39mkill()\n",
      "File \u001B[1;32m~\\Anaconda3\\lib\\subprocess.py:1083\u001B[0m, in \u001B[0;36mPopen.wait\u001B[1;34m(self, timeout)\u001B[0m\n\u001B[0;32m   1081\u001B[0m     endtime \u001B[38;5;241m=\u001B[39m _time() \u001B[38;5;241m+\u001B[39m timeout\n\u001B[0;32m   1082\u001B[0m \u001B[38;5;28;01mtry\u001B[39;00m:\n\u001B[1;32m-> 1083\u001B[0m     \u001B[38;5;28;01mreturn\u001B[39;00m \u001B[38;5;28;43mself\u001B[39;49m\u001B[38;5;241;43m.\u001B[39;49m\u001B[43m_wait\u001B[49m\u001B[43m(\u001B[49m\u001B[43mtimeout\u001B[49m\u001B[38;5;241;43m=\u001B[39;49m\u001B[43mtimeout\u001B[49m\u001B[43m)\u001B[49m\n\u001B[0;32m   1084\u001B[0m \u001B[38;5;28;01mexcept\u001B[39;00m \u001B[38;5;167;01mKeyboardInterrupt\u001B[39;00m:\n\u001B[0;32m   1085\u001B[0m     \u001B[38;5;66;03m# https://bugs.python.org/issue25942\u001B[39;00m\n\u001B[0;32m   1086\u001B[0m     \u001B[38;5;66;03m# The first keyboard interrupt waits briefly for the child to\u001B[39;00m\n\u001B[0;32m   1087\u001B[0m     \u001B[38;5;66;03m# exit under the common assumption that it also received the ^C\u001B[39;00m\n\u001B[0;32m   1088\u001B[0m     \u001B[38;5;66;03m# generated SIGINT and will exit rapidly.\u001B[39;00m\n\u001B[0;32m   1089\u001B[0m     \u001B[38;5;28;01mif\u001B[39;00m timeout \u001B[38;5;129;01mis\u001B[39;00m \u001B[38;5;129;01mnot\u001B[39;00m \u001B[38;5;28;01mNone\u001B[39;00m:\n",
      "File \u001B[1;32m~\\Anaconda3\\lib\\subprocess.py:1361\u001B[0m, in \u001B[0;36mPopen._wait\u001B[1;34m(self, timeout)\u001B[0m\n\u001B[0;32m   1358\u001B[0m     timeout_millis \u001B[38;5;241m=\u001B[39m \u001B[38;5;28mint\u001B[39m(timeout \u001B[38;5;241m*\u001B[39m \u001B[38;5;241m1000\u001B[39m)\n\u001B[0;32m   1359\u001B[0m \u001B[38;5;28;01mif\u001B[39;00m \u001B[38;5;28mself\u001B[39m\u001B[38;5;241m.\u001B[39mreturncode \u001B[38;5;129;01mis\u001B[39;00m \u001B[38;5;28;01mNone\u001B[39;00m:\n\u001B[0;32m   1360\u001B[0m     \u001B[38;5;66;03m# API note: Returns immediately if timeout_millis == 0.\u001B[39;00m\n\u001B[1;32m-> 1361\u001B[0m     result \u001B[38;5;241m=\u001B[39m \u001B[43m_winapi\u001B[49m\u001B[38;5;241;43m.\u001B[39;49m\u001B[43mWaitForSingleObject\u001B[49m\u001B[43m(\u001B[49m\u001B[38;5;28;43mself\u001B[39;49m\u001B[38;5;241;43m.\u001B[39;49m\u001B[43m_handle\u001B[49m\u001B[43m,\u001B[49m\n\u001B[0;32m   1362\u001B[0m \u001B[43m                                         \u001B[49m\u001B[43mtimeout_millis\u001B[49m\u001B[43m)\u001B[49m\n\u001B[0;32m   1363\u001B[0m     \u001B[38;5;28;01mif\u001B[39;00m result \u001B[38;5;241m==\u001B[39m _winapi\u001B[38;5;241m.\u001B[39mWAIT_TIMEOUT:\n\u001B[0;32m   1364\u001B[0m         \u001B[38;5;28;01mraise\u001B[39;00m TimeoutExpired(\u001B[38;5;28mself\u001B[39m\u001B[38;5;241m.\u001B[39margs, timeout)\n",
      "\u001B[1;31mKeyboardInterrupt\u001B[0m: "
     ]
    }
   ],
   "source": [
    "scen.solve(model=\"MESSAGE-MACRO\")"
   ],
   "metadata": {
    "collapsed": false,
    "ExecuteTime": {
     "end_time": "2023-09-20T20:21:54.259873900Z",
     "start_time": "2023-09-20T19:52:18.976484100Z"
    }
   }
  },
  {
   "cell_type": "code",
   "execution_count": 7,
   "outputs": [],
   "source": [
    "scen.check_out()"
   ],
   "metadata": {
    "collapsed": false,
    "ExecuteTime": {
     "end_time": "2023-09-20T19:52:01.382482400Z",
     "start_time": "2023-09-20T19:52:01.242075700Z"
    }
   }
  },
  {
   "cell_type": "code",
   "execution_count": 8,
   "outputs": [],
   "source": [
    "scen.add_set(\"balance_equality\", (\"ethanol\", \"import\"))\n",
    "scen.add_set(\"balance_equality\", (\"ethanol\", \"export\"))\n",
    "scen.add_set(\"balance_equality\", (\"ethanol\", \"primary\"))\n",
    "scen.add_set(\"balance_equality\", (\"ethanol\", \"secondary\"))\n",
    "scen.add_set(\"balance_equality\", (\"ethanol\", \"final\"))"
   ],
   "metadata": {
    "collapsed": false,
    "ExecuteTime": {
     "end_time": "2023-09-20T19:52:03.914047Z",
     "start_time": "2023-09-20T19:52:03.835957300Z"
    }
   }
  },
  {
   "cell_type": "code",
   "execution_count": 9,
   "outputs": [],
   "source": [
    "scen.commit(\"add ethanol to bal eq\")"
   ],
   "metadata": {
    "collapsed": false,
    "ExecuteTime": {
     "end_time": "2023-09-20T19:52:16.492564900Z",
     "start_time": "2023-09-20T19:52:15.101269300Z"
    }
   }
  },
  {
   "cell_type": "code",
   "execution_count": 6,
   "outputs": [
    {
     "data": {
      "text/plain": "        commodity level\n0     BIO01GHG000    LU\n1     BIO02GHG000    LU\n2     BIO03GHG000    LU\n3     BIO04GHG000    LU\n4     BIO05GHG000    LU\n..            ...   ...\n127   BIO60GHG200    LU\n128  BIO60GHG2000    LU\n129  BIO60GHG3000    LU\n130   BIO60GHG400    LU\n131   BIO60GHG600    LU\n\n[132 rows x 2 columns]",
      "text/html": "<div>\n<style scoped>\n    .dataframe tbody tr th:only-of-type {\n        vertical-align: middle;\n    }\n\n    .dataframe tbody tr th {\n        vertical-align: top;\n    }\n\n    .dataframe thead th {\n        text-align: right;\n    }\n</style>\n<table border=\"1\" class=\"dataframe\">\n  <thead>\n    <tr style=\"text-align: right;\">\n      <th></th>\n      <th>commodity</th>\n      <th>level</th>\n    </tr>\n  </thead>\n  <tbody>\n    <tr>\n      <th>0</th>\n      <td>BIO01GHG000</td>\n      <td>LU</td>\n    </tr>\n    <tr>\n      <th>1</th>\n      <td>BIO02GHG000</td>\n      <td>LU</td>\n    </tr>\n    <tr>\n      <th>2</th>\n      <td>BIO03GHG000</td>\n      <td>LU</td>\n    </tr>\n    <tr>\n      <th>3</th>\n      <td>BIO04GHG000</td>\n      <td>LU</td>\n    </tr>\n    <tr>\n      <th>4</th>\n      <td>BIO05GHG000</td>\n      <td>LU</td>\n    </tr>\n    <tr>\n      <th>...</th>\n      <td>...</td>\n      <td>...</td>\n    </tr>\n    <tr>\n      <th>127</th>\n      <td>BIO60GHG200</td>\n      <td>LU</td>\n    </tr>\n    <tr>\n      <th>128</th>\n      <td>BIO60GHG2000</td>\n      <td>LU</td>\n    </tr>\n    <tr>\n      <th>129</th>\n      <td>BIO60GHG3000</td>\n      <td>LU</td>\n    </tr>\n    <tr>\n      <th>130</th>\n      <td>BIO60GHG400</td>\n      <td>LU</td>\n    </tr>\n    <tr>\n      <th>131</th>\n      <td>BIO60GHG600</td>\n      <td>LU</td>\n    </tr>\n  </tbody>\n</table>\n<p>132 rows × 2 columns</p>\n</div>"
     },
     "execution_count": 6,
     "metadata": {},
     "output_type": "execute_result"
    }
   ],
   "source": [
    "scen.set(\"balance_equality\")"
   ],
   "metadata": {
    "collapsed": false,
    "ExecuteTime": {
     "end_time": "2023-09-20T19:50:49.710622900Z",
     "start_time": "2023-09-20T19:50:49.523427Z"
    }
   }
  },
  {
   "cell_type": "code",
   "execution_count": 5,
   "outputs": [
    {
     "data": {
      "text/plain": "False"
     },
     "execution_count": 5,
     "metadata": {},
     "output_type": "execute_result"
    }
   ],
   "source": [
    "scen.has_solution()"
   ],
   "metadata": {
    "collapsed": false,
    "ExecuteTime": {
     "end_time": "2023-09-19T09:24:39.501008400Z",
     "start_time": "2023-09-19T09:24:39.385411300Z"
    }
   }
  },
  {
   "cell_type": "code",
   "execution_count": 40,
   "outputs": [
    {
     "data": {
      "text/plain": "                                   value\nnode    year BIOscen GHGscen            \nR12_AFR 2050 BIO05   20         22420.20\n        2055 BIO05   20         25769.78\n        2070 BIO45   10       3437540.72\n        2080 BIO25   10       2551086.76\n             BIO45   10       5378379.02\n...                                  ...\nR12_WEU 2110 BIO25   20        297068.80\n                     50        296870.50\n                     4000      513705.10\n             BIO45   50        541051.08\n                     3000      765584.27\n\n[1096 rows x 1 columns]",
      "text/html": "<div>\n<style scoped>\n    .dataframe tbody tr th:only-of-type {\n        vertical-align: middle;\n    }\n\n    .dataframe tbody tr th {\n        vertical-align: top;\n    }\n\n    .dataframe thead th {\n        text-align: right;\n    }\n</style>\n<table border=\"1\" class=\"dataframe\">\n  <thead>\n    <tr style=\"text-align: right;\">\n      <th></th>\n      <th></th>\n      <th></th>\n      <th></th>\n      <th>value</th>\n    </tr>\n    <tr>\n      <th>node</th>\n      <th>year</th>\n      <th>BIOscen</th>\n      <th>GHGscen</th>\n      <th></th>\n    </tr>\n  </thead>\n  <tbody>\n    <tr>\n      <th rowspan=\"5\" valign=\"top\">R12_AFR</th>\n      <th>2050</th>\n      <th>BIO05</th>\n      <th>20</th>\n      <td>22420.20</td>\n    </tr>\n    <tr>\n      <th>2055</th>\n      <th>BIO05</th>\n      <th>20</th>\n      <td>25769.78</td>\n    </tr>\n    <tr>\n      <th>2070</th>\n      <th>BIO45</th>\n      <th>10</th>\n      <td>3437540.72</td>\n    </tr>\n    <tr>\n      <th rowspan=\"2\" valign=\"top\">2080</th>\n      <th>BIO25</th>\n      <th>10</th>\n      <td>2551086.76</td>\n    </tr>\n    <tr>\n      <th>BIO45</th>\n      <th>10</th>\n      <td>5378379.02</td>\n    </tr>\n    <tr>\n      <th>...</th>\n      <th>...</th>\n      <th>...</th>\n      <th>...</th>\n      <td>...</td>\n    </tr>\n    <tr>\n      <th rowspan=\"5\" valign=\"top\">R12_WEU</th>\n      <th rowspan=\"5\" valign=\"top\">2110</th>\n      <th rowspan=\"3\" valign=\"top\">BIO25</th>\n      <th>20</th>\n      <td>297068.80</td>\n    </tr>\n    <tr>\n      <th>50</th>\n      <td>296870.50</td>\n    </tr>\n    <tr>\n      <th>4000</th>\n      <td>513705.10</td>\n    </tr>\n    <tr>\n      <th rowspan=\"2\" valign=\"top\">BIO45</th>\n      <th>50</th>\n      <td>541051.08</td>\n    </tr>\n    <tr>\n      <th>3000</th>\n      <td>765584.27</td>\n    </tr>\n  </tbody>\n</table>\n<p>1096 rows × 1 columns</p>\n</div>"
     },
     "execution_count": 40,
     "metadata": {},
     "output_type": "execute_result"
    }
   ],
   "source": [
    "df_cost = scen3.par(\"land_cost\")\n",
    "df_cost[df_cost[\"year\"] == 2030]\n",
    "df_cost_split = df_cost.join(df_cost[\"land_scenario\"].str.split(\"GHG\", expand=True)).drop(\"land_scenario\", axis=1)\n",
    "df_cost_split = df_cost_split.rename({0: \"BIOscen\", 1: \"GHGscen\"}, axis=1)\n",
    "df_cost_split[\"year\"] = df_cost_split[\"year\"].astype(int)\n",
    "df_cost_split[\"GHGscen\"] = df_cost_split[\"GHGscen\"].astype(int)\n",
    "df_cost_split = df_cost_split.set_index([\"node\", \"year\", \"BIOscen\", \"GHGscen\"]).sort_index().drop(\"unit\",\n",
    "                                                                                                  axis=1)  #.diff()\n",
    "df_cost_split[(df_cost_split.diff().value < 0) & (df_cost_split.index.get_level_values(3) != 0)]"
   ],
   "metadata": {
    "collapsed": false,
    "ExecuteTime": {
     "end_time": "2023-09-18T10:59:09.311612200Z",
     "start_time": "2023-09-18T10:59:08.765307200Z"
    }
   }
  },
  {
   "cell_type": "code",
   "execution_count": 9,
   "outputs": [],
   "source": [
    "df_cost = sc_clone2.par(\"land_cost\")"
   ],
   "metadata": {
    "collapsed": false,
    "ExecuteTime": {
     "end_time": "2023-09-18T10:44:16.060673400Z",
     "start_time": "2023-09-18T10:44:15.623115400Z"
    }
   }
  },
  {
   "cell_type": "code",
   "execution_count": 7,
   "outputs": [],
   "source": [
    "df_emi = scen3.par(\"land_emission\")"
   ],
   "metadata": {
    "collapsed": false,
    "ExecuteTime": {
     "end_time": "2023-09-18T12:42:55.460232900Z",
     "start_time": "2023-09-18T12:42:46.257002900Z"
    }
   }
  },
  {
   "cell_type": "code",
   "execution_count": 8,
   "outputs": [],
   "source": [
    "df_emi = df_emi[df_emi[\"emission\"]==\"TCE\"]"
   ],
   "metadata": {
    "collapsed": false,
    "ExecuteTime": {
     "end_time": "2023-09-18T12:42:55.585650600Z",
     "start_time": "2023-09-18T12:42:55.475924Z"
    }
   }
  },
  {
   "cell_type": "code",
   "execution_count": 9,
   "outputs": [],
   "source": [
    "df_emi_split = df_emi.join(df_emi[\"land_scenario\"].str.split(\"GHG\", expand=True)).drop(\"land_scenario\", axis=1)\n",
    "df_emi_split = df_emi_split.rename({0: \"BIOscen\", 1: \"GHGscen\"}, axis=1)\n",
    "df_emi_split[\"year\"] = df_emi_split[\"year\"].astype(int)\n",
    "df_emi_split[\"GHGscen\"] = df_emi_split[\"GHGscen\"].astype(int)\n",
    "df_emi_split = df_emi_split[df_emi_split[\"year\"] > 2020]"
   ],
   "metadata": {
    "collapsed": false,
    "ExecuteTime": {
     "end_time": "2023-09-18T12:43:04.335485900Z",
     "start_time": "2023-09-18T12:43:04.069623400Z"
    }
   }
  },
  {
   "cell_type": "code",
   "execution_count": 10,
   "outputs": [],
   "source": [
    "df_emi_split = df_emi_split.set_index([\"node\", \"year\", \"BIOscen\"]).join(df_emi_split.groupby([\"node\", \"year\", \"BIOscen\"]).min()[\"value\"], rsuffix=\"_min\")"
   ],
   "metadata": {
    "collapsed": false,
    "ExecuteTime": {
     "end_time": "2023-09-18T12:43:07.788537500Z",
     "start_time": "2023-09-18T12:43:07.554254700Z"
    }
   }
  },
  {
   "cell_type": "code",
   "execution_count": 11,
   "outputs": [
    {
     "data": {
      "text/plain": "                     emission    value     unit  GHGscen  value_min\nnode    year BIOscen                                               \nR12_AFR 2025 BIO00        TCE  618.938  Mt C/yr        0    339.305\n             BIO00        TCE  491.613  Mt C/yr       10    339.305\n             BIO00        TCE  469.864  Mt C/yr       20    339.305\n             BIO00        TCE  429.854  Mt C/yr       50    339.305\n             BIO00        TCE  388.521  Mt C/yr      100    339.305\n...                       ...      ...      ...      ...        ...\nR12_WEU 2110 BIO45        TCE   91.815  Mt C/yr     3000     89.084\n             BIO45        TCE  144.318  Mt C/yr      400     89.084\n             BIO45        TCE   89.084  Mt C/yr     4000     89.084\n             BIO45        TCE  131.225  Mt C/yr      600     89.084\n             BIO45        TCE  106.620  Mt C/yr      990     89.084\n\n[13104 rows x 5 columns]",
      "text/html": "<div>\n<style scoped>\n    .dataframe tbody tr th:only-of-type {\n        vertical-align: middle;\n    }\n\n    .dataframe tbody tr th {\n        vertical-align: top;\n    }\n\n    .dataframe thead th {\n        text-align: right;\n    }\n</style>\n<table border=\"1\" class=\"dataframe\">\n  <thead>\n    <tr style=\"text-align: right;\">\n      <th></th>\n      <th></th>\n      <th></th>\n      <th>emission</th>\n      <th>value</th>\n      <th>unit</th>\n      <th>GHGscen</th>\n      <th>value_min</th>\n    </tr>\n    <tr>\n      <th>node</th>\n      <th>year</th>\n      <th>BIOscen</th>\n      <th></th>\n      <th></th>\n      <th></th>\n      <th></th>\n      <th></th>\n    </tr>\n  </thead>\n  <tbody>\n    <tr>\n      <th rowspan=\"5\" valign=\"top\">R12_AFR</th>\n      <th rowspan=\"5\" valign=\"top\">2025</th>\n      <th>BIO00</th>\n      <td>TCE</td>\n      <td>618.938</td>\n      <td>Mt C/yr</td>\n      <td>0</td>\n      <td>339.305</td>\n    </tr>\n    <tr>\n      <th>BIO00</th>\n      <td>TCE</td>\n      <td>491.613</td>\n      <td>Mt C/yr</td>\n      <td>10</td>\n      <td>339.305</td>\n    </tr>\n    <tr>\n      <th>BIO00</th>\n      <td>TCE</td>\n      <td>469.864</td>\n      <td>Mt C/yr</td>\n      <td>20</td>\n      <td>339.305</td>\n    </tr>\n    <tr>\n      <th>BIO00</th>\n      <td>TCE</td>\n      <td>429.854</td>\n      <td>Mt C/yr</td>\n      <td>50</td>\n      <td>339.305</td>\n    </tr>\n    <tr>\n      <th>BIO00</th>\n      <td>TCE</td>\n      <td>388.521</td>\n      <td>Mt C/yr</td>\n      <td>100</td>\n      <td>339.305</td>\n    </tr>\n    <tr>\n      <th>...</th>\n      <th>...</th>\n      <th>...</th>\n      <td>...</td>\n      <td>...</td>\n      <td>...</td>\n      <td>...</td>\n      <td>...</td>\n    </tr>\n    <tr>\n      <th rowspan=\"5\" valign=\"top\">R12_WEU</th>\n      <th rowspan=\"5\" valign=\"top\">2110</th>\n      <th>BIO45</th>\n      <td>TCE</td>\n      <td>91.815</td>\n      <td>Mt C/yr</td>\n      <td>3000</td>\n      <td>89.084</td>\n    </tr>\n    <tr>\n      <th>BIO45</th>\n      <td>TCE</td>\n      <td>144.318</td>\n      <td>Mt C/yr</td>\n      <td>400</td>\n      <td>89.084</td>\n    </tr>\n    <tr>\n      <th>BIO45</th>\n      <td>TCE</td>\n      <td>89.084</td>\n      <td>Mt C/yr</td>\n      <td>4000</td>\n      <td>89.084</td>\n    </tr>\n    <tr>\n      <th>BIO45</th>\n      <td>TCE</td>\n      <td>131.225</td>\n      <td>Mt C/yr</td>\n      <td>600</td>\n      <td>89.084</td>\n    </tr>\n    <tr>\n      <th>BIO45</th>\n      <td>TCE</td>\n      <td>106.620</td>\n      <td>Mt C/yr</td>\n      <td>990</td>\n      <td>89.084</td>\n    </tr>\n  </tbody>\n</table>\n<p>13104 rows × 5 columns</p>\n</div>"
     },
     "execution_count": 11,
     "metadata": {},
     "output_type": "execute_result"
    }
   ],
   "source": [
    "df_emi_split"
   ],
   "metadata": {
    "collapsed": false,
    "ExecuteTime": {
     "end_time": "2023-09-18T12:43:08.507091900Z",
     "start_time": "2023-09-18T12:43:08.351074300Z"
    }
   }
  },
  {
   "cell_type": "code",
   "execution_count": 12,
   "outputs": [],
   "source": [
    "df_emi_split_final = df_emi_split.join(df_emi_split[df_emi_split[\"value\"] == df_emi_split[\"value_min\"]][[\"GHGscen\"]], rsuffix=\"_min\")#.groupby([\"node\", \"year\", \"BIOscen\"], as_index=False).min()"
   ],
   "metadata": {
    "collapsed": false,
    "ExecuteTime": {
     "end_time": "2023-09-18T12:43:22.583840200Z",
     "start_time": "2023-09-18T12:43:22.366484800Z"
    }
   }
  },
  {
   "cell_type": "code",
   "execution_count": 13,
   "outputs": [
    {
     "data": {
      "text/plain": "                     emission    value     unit  GHGscen  value_min  \\\nnode    year BIOscen                                                  \nR12_AFR 2025 BIO00        TCE  618.938  Mt C/yr        0    339.305   \n             BIO00        TCE  491.613  Mt C/yr       10    339.305   \n             BIO00        TCE  469.864  Mt C/yr       20    339.305   \n             BIO00        TCE  429.854  Mt C/yr       50    339.305   \n             BIO00        TCE  388.521  Mt C/yr      100    339.305   \n...                       ...      ...      ...      ...        ...   \nR12_WEU 2110 BIO45        TCE   91.815  Mt C/yr     3000     89.084   \n             BIO45        TCE  144.318  Mt C/yr      400     89.084   \n             BIO45        TCE   89.084  Mt C/yr     4000     89.084   \n             BIO45        TCE  131.225  Mt C/yr      600     89.084   \n             BIO45        TCE  106.620  Mt C/yr      990     89.084   \n\n                      GHGscen_min  \nnode    year BIOscen               \nR12_AFR 2025 BIO00           4000  \n             BIO00           4000  \n             BIO00           4000  \n             BIO00           4000  \n             BIO00           4000  \n...                           ...  \nR12_WEU 2110 BIO45           4000  \n             BIO45           4000  \n             BIO45           4000  \n             BIO45           4000  \n             BIO45           4000  \n\n[13104 rows x 6 columns]",
      "text/html": "<div>\n<style scoped>\n    .dataframe tbody tr th:only-of-type {\n        vertical-align: middle;\n    }\n\n    .dataframe tbody tr th {\n        vertical-align: top;\n    }\n\n    .dataframe thead th {\n        text-align: right;\n    }\n</style>\n<table border=\"1\" class=\"dataframe\">\n  <thead>\n    <tr style=\"text-align: right;\">\n      <th></th>\n      <th></th>\n      <th></th>\n      <th>emission</th>\n      <th>value</th>\n      <th>unit</th>\n      <th>GHGscen</th>\n      <th>value_min</th>\n      <th>GHGscen_min</th>\n    </tr>\n    <tr>\n      <th>node</th>\n      <th>year</th>\n      <th>BIOscen</th>\n      <th></th>\n      <th></th>\n      <th></th>\n      <th></th>\n      <th></th>\n      <th></th>\n    </tr>\n  </thead>\n  <tbody>\n    <tr>\n      <th rowspan=\"5\" valign=\"top\">R12_AFR</th>\n      <th rowspan=\"5\" valign=\"top\">2025</th>\n      <th>BIO00</th>\n      <td>TCE</td>\n      <td>618.938</td>\n      <td>Mt C/yr</td>\n      <td>0</td>\n      <td>339.305</td>\n      <td>4000</td>\n    </tr>\n    <tr>\n      <th>BIO00</th>\n      <td>TCE</td>\n      <td>491.613</td>\n      <td>Mt C/yr</td>\n      <td>10</td>\n      <td>339.305</td>\n      <td>4000</td>\n    </tr>\n    <tr>\n      <th>BIO00</th>\n      <td>TCE</td>\n      <td>469.864</td>\n      <td>Mt C/yr</td>\n      <td>20</td>\n      <td>339.305</td>\n      <td>4000</td>\n    </tr>\n    <tr>\n      <th>BIO00</th>\n      <td>TCE</td>\n      <td>429.854</td>\n      <td>Mt C/yr</td>\n      <td>50</td>\n      <td>339.305</td>\n      <td>4000</td>\n    </tr>\n    <tr>\n      <th>BIO00</th>\n      <td>TCE</td>\n      <td>388.521</td>\n      <td>Mt C/yr</td>\n      <td>100</td>\n      <td>339.305</td>\n      <td>4000</td>\n    </tr>\n    <tr>\n      <th>...</th>\n      <th>...</th>\n      <th>...</th>\n      <td>...</td>\n      <td>...</td>\n      <td>...</td>\n      <td>...</td>\n      <td>...</td>\n      <td>...</td>\n    </tr>\n    <tr>\n      <th rowspan=\"5\" valign=\"top\">R12_WEU</th>\n      <th rowspan=\"5\" valign=\"top\">2110</th>\n      <th>BIO45</th>\n      <td>TCE</td>\n      <td>91.815</td>\n      <td>Mt C/yr</td>\n      <td>3000</td>\n      <td>89.084</td>\n      <td>4000</td>\n    </tr>\n    <tr>\n      <th>BIO45</th>\n      <td>TCE</td>\n      <td>144.318</td>\n      <td>Mt C/yr</td>\n      <td>400</td>\n      <td>89.084</td>\n      <td>4000</td>\n    </tr>\n    <tr>\n      <th>BIO45</th>\n      <td>TCE</td>\n      <td>89.084</td>\n      <td>Mt C/yr</td>\n      <td>4000</td>\n      <td>89.084</td>\n      <td>4000</td>\n    </tr>\n    <tr>\n      <th>BIO45</th>\n      <td>TCE</td>\n      <td>131.225</td>\n      <td>Mt C/yr</td>\n      <td>600</td>\n      <td>89.084</td>\n      <td>4000</td>\n    </tr>\n    <tr>\n      <th>BIO45</th>\n      <td>TCE</td>\n      <td>106.620</td>\n      <td>Mt C/yr</td>\n      <td>990</td>\n      <td>89.084</td>\n      <td>4000</td>\n    </tr>\n  </tbody>\n</table>\n<p>13104 rows × 6 columns</p>\n</div>"
     },
     "execution_count": 13,
     "metadata": {},
     "output_type": "execute_result"
    }
   ],
   "source": [
    "df_emi_split_final"
   ],
   "metadata": {
    "collapsed": false,
    "ExecuteTime": {
     "end_time": "2023-09-18T12:43:23.577548300Z",
     "start_time": "2023-09-18T12:43:23.426726100Z"
    }
   }
  },
  {
   "cell_type": "code",
   "execution_count": 98,
   "outputs": [],
   "source": [
    "def set_val(df):\n",
    "    #print(df)\n",
    "    if df[\"GHG\"] > df.GHG_min:\n",
    "        df.value = df.value_min\n",
    "    return df"
   ],
   "metadata": {
    "collapsed": false,
    "ExecuteTime": {
     "end_time": "2023-09-18T13:37:08.494865900Z",
     "start_time": "2023-09-18T13:37:08.368149700Z"
    }
   }
  },
  {
   "cell_type": "code",
   "execution_count": 16,
   "outputs": [
    {
     "data": {
      "text/plain": "                     emission    value     unit  GHGscen  value_min\nnode    year BIOscen                                               \nR12_AFR 2025 BIO00        TCE  618.938  Mt C/yr        0    339.305\n             BIO00        TCE  491.613  Mt C/yr       10    339.305\n             BIO00        TCE  469.864  Mt C/yr       20    339.305\n             BIO00        TCE  429.854  Mt C/yr       50    339.305\n             BIO00        TCE  388.521  Mt C/yr      100    339.305\n...                       ...      ...      ...      ...        ...\nR12_WEU 2110 BIO45        TCE   91.815  Mt C/yr     3000     89.084\n             BIO45        TCE  144.318  Mt C/yr      400     89.084\n             BIO45        TCE   89.084  Mt C/yr     4000     89.084\n             BIO45        TCE  131.225  Mt C/yr      600     89.084\n             BIO45        TCE  106.620  Mt C/yr      990     89.084\n\n[13104 rows x 5 columns]",
      "text/html": "<div>\n<style scoped>\n    .dataframe tbody tr th:only-of-type {\n        vertical-align: middle;\n    }\n\n    .dataframe tbody tr th {\n        vertical-align: top;\n    }\n\n    .dataframe thead th {\n        text-align: right;\n    }\n</style>\n<table border=\"1\" class=\"dataframe\">\n  <thead>\n    <tr style=\"text-align: right;\">\n      <th></th>\n      <th></th>\n      <th></th>\n      <th>emission</th>\n      <th>value</th>\n      <th>unit</th>\n      <th>GHGscen</th>\n      <th>value_min</th>\n    </tr>\n    <tr>\n      <th>node</th>\n      <th>year</th>\n      <th>BIOscen</th>\n      <th></th>\n      <th></th>\n      <th></th>\n      <th></th>\n      <th></th>\n    </tr>\n  </thead>\n  <tbody>\n    <tr>\n      <th rowspan=\"5\" valign=\"top\">R12_AFR</th>\n      <th rowspan=\"5\" valign=\"top\">2025</th>\n      <th>BIO00</th>\n      <td>TCE</td>\n      <td>618.938</td>\n      <td>Mt C/yr</td>\n      <td>0</td>\n      <td>339.305</td>\n    </tr>\n    <tr>\n      <th>BIO00</th>\n      <td>TCE</td>\n      <td>491.613</td>\n      <td>Mt C/yr</td>\n      <td>10</td>\n      <td>339.305</td>\n    </tr>\n    <tr>\n      <th>BIO00</th>\n      <td>TCE</td>\n      <td>469.864</td>\n      <td>Mt C/yr</td>\n      <td>20</td>\n      <td>339.305</td>\n    </tr>\n    <tr>\n      <th>BIO00</th>\n      <td>TCE</td>\n      <td>429.854</td>\n      <td>Mt C/yr</td>\n      <td>50</td>\n      <td>339.305</td>\n    </tr>\n    <tr>\n      <th>BIO00</th>\n      <td>TCE</td>\n      <td>388.521</td>\n      <td>Mt C/yr</td>\n      <td>100</td>\n      <td>339.305</td>\n    </tr>\n    <tr>\n      <th>...</th>\n      <th>...</th>\n      <th>...</th>\n      <td>...</td>\n      <td>...</td>\n      <td>...</td>\n      <td>...</td>\n      <td>...</td>\n    </tr>\n    <tr>\n      <th rowspan=\"5\" valign=\"top\">R12_WEU</th>\n      <th rowspan=\"5\" valign=\"top\">2110</th>\n      <th>BIO45</th>\n      <td>TCE</td>\n      <td>91.815</td>\n      <td>Mt C/yr</td>\n      <td>3000</td>\n      <td>89.084</td>\n    </tr>\n    <tr>\n      <th>BIO45</th>\n      <td>TCE</td>\n      <td>144.318</td>\n      <td>Mt C/yr</td>\n      <td>400</td>\n      <td>89.084</td>\n    </tr>\n    <tr>\n      <th>BIO45</th>\n      <td>TCE</td>\n      <td>89.084</td>\n      <td>Mt C/yr</td>\n      <td>4000</td>\n      <td>89.084</td>\n    </tr>\n    <tr>\n      <th>BIO45</th>\n      <td>TCE</td>\n      <td>131.225</td>\n      <td>Mt C/yr</td>\n      <td>600</td>\n      <td>89.084</td>\n    </tr>\n    <tr>\n      <th>BIO45</th>\n      <td>TCE</td>\n      <td>106.620</td>\n      <td>Mt C/yr</td>\n      <td>990</td>\n      <td>89.084</td>\n    </tr>\n  </tbody>\n</table>\n<p>13104 rows × 5 columns</p>\n</div>"
     },
     "execution_count": 16,
     "metadata": {},
     "output_type": "execute_result"
    }
   ],
   "source": [
    "df_emi_split"
   ],
   "metadata": {
    "collapsed": false,
    "ExecuteTime": {
     "end_time": "2023-09-18T12:43:59.600890200Z",
     "start_time": "2023-09-18T12:43:59.397789600Z"
    }
   }
  },
  {
   "cell_type": "code",
   "execution_count": 21,
   "outputs": [],
   "source": [
    "import pandas as pd"
   ],
   "metadata": {
    "collapsed": false,
    "ExecuteTime": {
     "end_time": "2023-09-18T13:08:23.743522200Z",
     "start_time": "2023-09-18T13:08:23.558846300Z"
    }
   }
  },
  {
   "cell_type": "code",
   "execution_count": 22,
   "outputs": [],
   "source": [
    "df_ghg = pd.read_csv(\"C:/Users\\maczek\\Desktop/ghg.csv\")"
   ],
   "metadata": {
    "collapsed": false,
    "ExecuteTime": {
     "end_time": "2023-09-18T13:10:04.508971400Z",
     "start_time": "2023-09-18T13:10:04.332044300Z"
    }
   }
  },
  {
   "cell_type": "code",
   "execution_count": 40,
   "outputs": [],
   "source": [
    "df_ghg_long = df_ghg.melt(id_vars=[\"Region\", \"Scenario\", \"BIO\", \"GHG\", \"Variable\", \"Unit\"], var_name=\"Year\")#.groupby([\"Region\", \"Year\", \"BIO\"]))"
   ],
   "metadata": {
    "collapsed": false,
    "ExecuteTime": {
     "end_time": "2023-09-18T13:14:32.821827700Z",
     "start_time": "2023-09-18T13:14:32.649846Z"
    }
   }
  },
  {
   "cell_type": "code",
   "execution_count": 63,
   "outputs": [],
   "source": [
    "df_ghg_long[\"Year\"] = df_ghg_long[\"Year\"].astype(int)"
   ],
   "metadata": {
    "collapsed": false,
    "ExecuteTime": {
     "end_time": "2023-09-18T13:25:04.369234Z",
     "start_time": "2023-09-18T13:25:04.181566500Z"
    }
   }
  },
  {
   "cell_type": "code",
   "execution_count": 89,
   "outputs": [],
   "source": [
    "df_ghg_long = df_ghg_long[df_ghg_long[\"Year\"]>2020]"
   ],
   "metadata": {
    "collapsed": false,
    "ExecuteTime": {
     "end_time": "2023-09-18T13:34:26.369940Z",
     "start_time": "2023-09-18T13:34:26.244644200Z"
    }
   }
  },
  {
   "cell_type": "code",
   "execution_count": 90,
   "outputs": [],
   "source": [
    "df_ghg_long_min = df_ghg_long.groupby([\"Region\", \"Year\", \"BIO\"]).min()"
   ],
   "metadata": {
    "collapsed": false,
    "ExecuteTime": {
     "end_time": "2023-09-18T13:34:27.392222600Z",
     "start_time": "2023-09-18T13:34:27.104163700Z"
    }
   }
  },
  {
   "cell_type": "code",
   "execution_count": 92,
   "outputs": [
    {
     "data": {
      "text/plain": "                        Scenario   GHG Variable       Unit        value  \\\nRegion  Year BIO                                                          \nR12_AFR 2025 BIO00   BIO00GHG000     0   LU_GHG  Mt CO2/yr  2138.487660   \n             BIO00   BIO00GHG010    10   LU_GHG  Mt CO2/yr  2063.784906   \n             BIO00   BIO00GHG020    20   LU_GHG  Mt CO2/yr  1822.973364   \n             BIO00   BIO00GHG050    50   LU_GHG  Mt CO2/yr  1599.195430   \n             BIO00   BIO00GHG100   100   LU_GHG  Mt CO2/yr  1621.774631   \n...                          ...   ...      ...        ...          ...   \nR12_WEU 2110 BIO45   BIO45GHG600   600   LU_GHG  Mt CO2/yr   506.625325   \n             BIO45   BIO45GHG990   990   LU_GHG  Mt CO2/yr   419.190754   \n             BIO45  BIO45GHG2000  2000   LU_GHG  Mt CO2/yr   369.390249   \n             BIO45  BIO45GHG3000  3000   LU_GHG  Mt CO2/yr   361.430013   \n             BIO45  BIO45GHG4000  4000   LU_GHG  Mt CO2/yr   355.936202   \n\n                      value_min  \nRegion  Year BIO                 \nR12_AFR 2025 BIO00  1270.916475  \n             BIO00  1270.916475  \n             BIO00  1270.916475  \n             BIO00  1270.916475  \n             BIO00  1270.916475  \n...                         ...  \nR12_WEU 2110 BIO45   355.936202  \n             BIO45   355.936202  \n             BIO45   355.936202  \n             BIO45   355.936202  \n             BIO45   355.936202  \n\n[13104 rows x 6 columns]",
      "text/html": "<div>\n<style scoped>\n    .dataframe tbody tr th:only-of-type {\n        vertical-align: middle;\n    }\n\n    .dataframe tbody tr th {\n        vertical-align: top;\n    }\n\n    .dataframe thead th {\n        text-align: right;\n    }\n</style>\n<table border=\"1\" class=\"dataframe\">\n  <thead>\n    <tr style=\"text-align: right;\">\n      <th></th>\n      <th></th>\n      <th></th>\n      <th>Scenario</th>\n      <th>GHG</th>\n      <th>Variable</th>\n      <th>Unit</th>\n      <th>value</th>\n      <th>value_min</th>\n    </tr>\n    <tr>\n      <th>Region</th>\n      <th>Year</th>\n      <th>BIO</th>\n      <th></th>\n      <th></th>\n      <th></th>\n      <th></th>\n      <th></th>\n      <th></th>\n    </tr>\n  </thead>\n  <tbody>\n    <tr>\n      <th rowspan=\"5\" valign=\"top\">R12_AFR</th>\n      <th rowspan=\"5\" valign=\"top\">2025</th>\n      <th>BIO00</th>\n      <td>BIO00GHG000</td>\n      <td>0</td>\n      <td>LU_GHG</td>\n      <td>Mt CO2/yr</td>\n      <td>2138.487660</td>\n      <td>1270.916475</td>\n    </tr>\n    <tr>\n      <th>BIO00</th>\n      <td>BIO00GHG010</td>\n      <td>10</td>\n      <td>LU_GHG</td>\n      <td>Mt CO2/yr</td>\n      <td>2063.784906</td>\n      <td>1270.916475</td>\n    </tr>\n    <tr>\n      <th>BIO00</th>\n      <td>BIO00GHG020</td>\n      <td>20</td>\n      <td>LU_GHG</td>\n      <td>Mt CO2/yr</td>\n      <td>1822.973364</td>\n      <td>1270.916475</td>\n    </tr>\n    <tr>\n      <th>BIO00</th>\n      <td>BIO00GHG050</td>\n      <td>50</td>\n      <td>LU_GHG</td>\n      <td>Mt CO2/yr</td>\n      <td>1599.195430</td>\n      <td>1270.916475</td>\n    </tr>\n    <tr>\n      <th>BIO00</th>\n      <td>BIO00GHG100</td>\n      <td>100</td>\n      <td>LU_GHG</td>\n      <td>Mt CO2/yr</td>\n      <td>1621.774631</td>\n      <td>1270.916475</td>\n    </tr>\n    <tr>\n      <th>...</th>\n      <th>...</th>\n      <th>...</th>\n      <td>...</td>\n      <td>...</td>\n      <td>...</td>\n      <td>...</td>\n      <td>...</td>\n      <td>...</td>\n    </tr>\n    <tr>\n      <th rowspan=\"5\" valign=\"top\">R12_WEU</th>\n      <th rowspan=\"5\" valign=\"top\">2110</th>\n      <th>BIO45</th>\n      <td>BIO45GHG600</td>\n      <td>600</td>\n      <td>LU_GHG</td>\n      <td>Mt CO2/yr</td>\n      <td>506.625325</td>\n      <td>355.936202</td>\n    </tr>\n    <tr>\n      <th>BIO45</th>\n      <td>BIO45GHG990</td>\n      <td>990</td>\n      <td>LU_GHG</td>\n      <td>Mt CO2/yr</td>\n      <td>419.190754</td>\n      <td>355.936202</td>\n    </tr>\n    <tr>\n      <th>BIO45</th>\n      <td>BIO45GHG2000</td>\n      <td>2000</td>\n      <td>LU_GHG</td>\n      <td>Mt CO2/yr</td>\n      <td>369.390249</td>\n      <td>355.936202</td>\n    </tr>\n    <tr>\n      <th>BIO45</th>\n      <td>BIO45GHG3000</td>\n      <td>3000</td>\n      <td>LU_GHG</td>\n      <td>Mt CO2/yr</td>\n      <td>361.430013</td>\n      <td>355.936202</td>\n    </tr>\n    <tr>\n      <th>BIO45</th>\n      <td>BIO45GHG4000</td>\n      <td>4000</td>\n      <td>LU_GHG</td>\n      <td>Mt CO2/yr</td>\n      <td>355.936202</td>\n      <td>355.936202</td>\n    </tr>\n  </tbody>\n</table>\n<p>13104 rows × 6 columns</p>\n</div>"
     },
     "execution_count": 92,
     "metadata": {},
     "output_type": "execute_result"
    }
   ],
   "source": [
    "df_ghg_long_join = (df_ghg_long.set_index([\"Region\", \"Year\", \"BIO\"]).join(df_ghg_long_min[[\"value\"]], rsuffix=\"_min\"))\n",
    "df_ghg_long_join"
   ],
   "metadata": {
    "collapsed": false,
    "ExecuteTime": {
     "end_time": "2023-09-18T13:34:36.698101200Z",
     "start_time": "2023-09-18T13:34:36.447726100Z"
    }
   }
  },
  {
   "cell_type": "code",
   "execution_count": 93,
   "outputs": [
    {
     "data": {
      "text/plain": "                        Scenario   GHG Variable       Unit        value  \\\nRegion  Year BIO                                                          \nR12_AFR 2025 BIO00   BIO00GHG990   990   LU_GHG  Mt CO2/yr  1270.916475   \n             BIO05   BIO05GHG990   990   LU_GHG  Mt CO2/yr  1270.946775   \n             BIO07   BIO07GHG990   990   LU_GHG  Mt CO2/yr  1270.946775   \n             BIO10   BIO10GHG990   990   LU_GHG  Mt CO2/yr  1270.946775   \n             BIO15   BIO15GHG990   990   LU_GHG  Mt CO2/yr  1271.956851   \n...                          ...   ...      ...        ...          ...   \nR12_WEU 2110 BIO07  BIO07GHG2000  2000   LU_GHG  Mt CO2/yr   360.259355   \n             BIO10  BIO10GHG2000  2000   LU_GHG  Mt CO2/yr   368.318550   \n             BIO15  BIO15GHG3000  3000   LU_GHG  Mt CO2/yr   388.080595   \n             BIO25  BIO25GHG3000  3000   LU_GHG  Mt CO2/yr   364.388988   \n             BIO45  BIO45GHG4000  4000   LU_GHG  Mt CO2/yr   355.936202   \n\n                      value_min  \nRegion  Year BIO                 \nR12_AFR 2025 BIO00  1270.916475  \n             BIO05  1270.946775  \n             BIO07  1270.946775  \n             BIO10  1270.946775  \n             BIO15  1271.956851  \n...                         ...  \nR12_WEU 2110 BIO07   360.259355  \n             BIO10   368.318550  \n             BIO15   388.080595  \n             BIO25   364.388988  \n             BIO45   355.936202  \n\n[1092 rows x 6 columns]",
      "text/html": "<div>\n<style scoped>\n    .dataframe tbody tr th:only-of-type {\n        vertical-align: middle;\n    }\n\n    .dataframe tbody tr th {\n        vertical-align: top;\n    }\n\n    .dataframe thead th {\n        text-align: right;\n    }\n</style>\n<table border=\"1\" class=\"dataframe\">\n  <thead>\n    <tr style=\"text-align: right;\">\n      <th></th>\n      <th></th>\n      <th></th>\n      <th>Scenario</th>\n      <th>GHG</th>\n      <th>Variable</th>\n      <th>Unit</th>\n      <th>value</th>\n      <th>value_min</th>\n    </tr>\n    <tr>\n      <th>Region</th>\n      <th>Year</th>\n      <th>BIO</th>\n      <th></th>\n      <th></th>\n      <th></th>\n      <th></th>\n      <th></th>\n      <th></th>\n    </tr>\n  </thead>\n  <tbody>\n    <tr>\n      <th rowspan=\"5\" valign=\"top\">R12_AFR</th>\n      <th rowspan=\"5\" valign=\"top\">2025</th>\n      <th>BIO00</th>\n      <td>BIO00GHG990</td>\n      <td>990</td>\n      <td>LU_GHG</td>\n      <td>Mt CO2/yr</td>\n      <td>1270.916475</td>\n      <td>1270.916475</td>\n    </tr>\n    <tr>\n      <th>BIO05</th>\n      <td>BIO05GHG990</td>\n      <td>990</td>\n      <td>LU_GHG</td>\n      <td>Mt CO2/yr</td>\n      <td>1270.946775</td>\n      <td>1270.946775</td>\n    </tr>\n    <tr>\n      <th>BIO07</th>\n      <td>BIO07GHG990</td>\n      <td>990</td>\n      <td>LU_GHG</td>\n      <td>Mt CO2/yr</td>\n      <td>1270.946775</td>\n      <td>1270.946775</td>\n    </tr>\n    <tr>\n      <th>BIO10</th>\n      <td>BIO10GHG990</td>\n      <td>990</td>\n      <td>LU_GHG</td>\n      <td>Mt CO2/yr</td>\n      <td>1270.946775</td>\n      <td>1270.946775</td>\n    </tr>\n    <tr>\n      <th>BIO15</th>\n      <td>BIO15GHG990</td>\n      <td>990</td>\n      <td>LU_GHG</td>\n      <td>Mt CO2/yr</td>\n      <td>1271.956851</td>\n      <td>1271.956851</td>\n    </tr>\n    <tr>\n      <th>...</th>\n      <th>...</th>\n      <th>...</th>\n      <td>...</td>\n      <td>...</td>\n      <td>...</td>\n      <td>...</td>\n      <td>...</td>\n      <td>...</td>\n    </tr>\n    <tr>\n      <th rowspan=\"5\" valign=\"top\">R12_WEU</th>\n      <th rowspan=\"5\" valign=\"top\">2110</th>\n      <th>BIO07</th>\n      <td>BIO07GHG2000</td>\n      <td>2000</td>\n      <td>LU_GHG</td>\n      <td>Mt CO2/yr</td>\n      <td>360.259355</td>\n      <td>360.259355</td>\n    </tr>\n    <tr>\n      <th>BIO10</th>\n      <td>BIO10GHG2000</td>\n      <td>2000</td>\n      <td>LU_GHG</td>\n      <td>Mt CO2/yr</td>\n      <td>368.318550</td>\n      <td>368.318550</td>\n    </tr>\n    <tr>\n      <th>BIO15</th>\n      <td>BIO15GHG3000</td>\n      <td>3000</td>\n      <td>LU_GHG</td>\n      <td>Mt CO2/yr</td>\n      <td>388.080595</td>\n      <td>388.080595</td>\n    </tr>\n    <tr>\n      <th>BIO25</th>\n      <td>BIO25GHG3000</td>\n      <td>3000</td>\n      <td>LU_GHG</td>\n      <td>Mt CO2/yr</td>\n      <td>364.388988</td>\n      <td>364.388988</td>\n    </tr>\n    <tr>\n      <th>BIO45</th>\n      <td>BIO45GHG4000</td>\n      <td>4000</td>\n      <td>LU_GHG</td>\n      <td>Mt CO2/yr</td>\n      <td>355.936202</td>\n      <td>355.936202</td>\n    </tr>\n  </tbody>\n</table>\n<p>1092 rows × 6 columns</p>\n</div>"
     },
     "execution_count": 93,
     "metadata": {},
     "output_type": "execute_result"
    }
   ],
   "source": [
    "df_ghg_long_join[df_ghg_long_join[\"value\"]==df_ghg_long_join[\"value_min\"]]"
   ],
   "metadata": {
    "collapsed": false,
    "ExecuteTime": {
     "end_time": "2023-09-18T13:34:51.104101600Z",
     "start_time": "2023-09-18T13:34:50.932343700Z"
    }
   }
  },
  {
   "cell_type": "code",
   "execution_count": 95,
   "outputs": [],
   "source": [
    "df_ghg_long_join = df_ghg_long_join.join(df_ghg_long_join[df_ghg_long_join[\"value\"] == df_ghg_long_join[\"value_min\"]][\"GHG\"], rsuffix=\"_min\")"
   ],
   "metadata": {
    "collapsed": false,
    "ExecuteTime": {
     "end_time": "2023-09-18T13:36:13.979560800Z",
     "start_time": "2023-09-18T13:36:13.792048700Z"
    }
   }
  },
  {
   "cell_type": "code",
   "execution_count": 100,
   "outputs": [],
   "source": [
    "df_ghg_long_join_final = df_ghg_long_join.apply(lambda x: set_val(x), axis=1)"
   ],
   "metadata": {
    "collapsed": false,
    "ExecuteTime": {
     "end_time": "2023-09-18T13:37:57.749108900Z",
     "start_time": "2023-09-18T13:37:56.432295600Z"
    }
   }
  },
  {
   "cell_type": "code",
   "execution_count": 117,
   "outputs": [],
   "source": [
    "df_ghg_final = df_ghg_long_join_final.drop([\"value_min\", \"GHG_min\"], axis=1).reset_index().pivot(columns=\"Year\", values=\"value\", index=[\"Region\",\"Scenario\", \"Variable\", \"Unit\", \"BIO\", \"GHG\"])"
   ],
   "metadata": {
    "collapsed": false,
    "ExecuteTime": {
     "end_time": "2023-09-18T13:46:44.808123400Z",
     "start_time": "2023-09-18T13:46:44.620360800Z"
    }
   }
  },
  {
   "cell_type": "code",
   "execution_count": 120,
   "outputs": [
    {
     "data": {
      "text/plain": "Year                                                       2025         2030  \\\nRegion  Scenario     Variable Unit      BIO   GHG                              \nR12_AFR BIO00GHG000  LU_GHG   Mt CO2/yr BIO00 0     2138.487660  2618.828003   \n        BIO00GHG010  LU_GHG   Mt CO2/yr BIO00 10    2063.784906  2285.350912   \n        BIO00GHG020  LU_GHG   Mt CO2/yr BIO00 20    1822.973364  1905.371082   \n        BIO00GHG050  LU_GHG   Mt CO2/yr BIO00 50    1599.195430  1579.643292   \n        BIO00GHG100  LU_GHG   Mt CO2/yr BIO00 100   1621.774631  1545.687581   \n...                                                         ...          ...   \nR12_WEU BIO45GHG3000 LU_GHG   Mt CO2/yr BIO45 3000   644.372113   632.714191   \n        BIO45GHG400  LU_GHG   Mt CO2/yr BIO45 400    732.111950   678.303025   \n        BIO45GHG4000 LU_GHG   Mt CO2/yr BIO45 4000   644.372113   631.093216   \n        BIO45GHG600  LU_GHG   Mt CO2/yr BIO45 600    727.080232   672.949900   \n        BIO45GHG990  LU_GHG   Mt CO2/yr BIO45 990    644.372113   653.500355   \n\nYear                                                       2035         2040  \\\nRegion  Scenario     Variable Unit      BIO   GHG                              \nR12_AFR BIO00GHG000  LU_GHG   Mt CO2/yr BIO00 0     3046.831786  3348.098027   \n        BIO00GHG010  LU_GHG   Mt CO2/yr BIO00 10    2373.001104  2362.038757   \n        BIO00GHG020  LU_GHG   Mt CO2/yr BIO00 20    2003.213618  2122.678213   \n        BIO00GHG050  LU_GHG   Mt CO2/yr BIO00 50    1678.182227  1856.242320   \n        BIO00GHG100  LU_GHG   Mt CO2/yr BIO00 100   1575.732706  1695.510497   \n...                                                         ...          ...   \nR12_WEU BIO45GHG3000 LU_GHG   Mt CO2/yr BIO45 3000   590.803423   599.932465   \n        BIO45GHG400  LU_GHG   Mt CO2/yr BIO45 400    636.289335   682.739098   \n        BIO45GHG4000 LU_GHG   Mt CO2/yr BIO45 4000   590.803423   570.956727   \n        BIO45GHG600  LU_GHG   Mt CO2/yr BIO45 600    626.724454   680.439542   \n        BIO45GHG990  LU_GHG   Mt CO2/yr BIO45 990    639.014404   680.333981   \n\nYear                                                       2045         2050  \\\nRegion  Scenario     Variable Unit      BIO   GHG                              \nR12_AFR BIO00GHG000  LU_GHG   Mt CO2/yr BIO00 0     3651.476518  4182.934047   \n        BIO00GHG010  LU_GHG   Mt CO2/yr BIO00 10    2403.273844  2557.756949   \n        BIO00GHG020  LU_GHG   Mt CO2/yr BIO00 20    2230.066139  2385.444408   \n        BIO00GHG050  LU_GHG   Mt CO2/yr BIO00 50    2029.538087  2205.718056   \n        BIO00GHG100  LU_GHG   Mt CO2/yr BIO00 100   1857.875817  2051.872649   \n...                                                         ...          ...   \nR12_WEU BIO45GHG3000 LU_GHG   Mt CO2/yr BIO45 3000   593.256927   551.721501   \n        BIO45GHG400  LU_GHG   Mt CO2/yr BIO45 400    725.368357   700.713245   \n        BIO45GHG4000 LU_GHG   Mt CO2/yr BIO45 4000   515.454258   497.398756   \n        BIO45GHG600  LU_GHG   Mt CO2/yr BIO45 600    708.291402   708.254727   \n        BIO45GHG990  LU_GHG   Mt CO2/yr BIO45 990    692.023218   674.601341   \n\nYear                                                       2055         2060  \\\nRegion  Scenario     Variable Unit      BIO   GHG                              \nR12_AFR BIO00GHG000  LU_GHG   Mt CO2/yr BIO00 0     4920.254792  5741.654839   \n        BIO00GHG010  LU_GHG   Mt CO2/yr BIO00 10    2844.690571  3302.594530   \n        BIO00GHG020  LU_GHG   Mt CO2/yr BIO00 20    2639.371534  2977.705404   \n        BIO00GHG050  LU_GHG   Mt CO2/yr BIO00 50    2378.937662  2594.796580   \n        BIO00GHG100  LU_GHG   Mt CO2/yr BIO00 100   2241.188245  2467.624768   \n...                                                         ...          ...   \nR12_WEU BIO45GHG3000 LU_GHG   Mt CO2/yr BIO45 3000   527.806798   504.809004   \n        BIO45GHG400  LU_GHG   Mt CO2/yr BIO45 400    660.701527   617.525820   \n        BIO45GHG4000 LU_GHG   Mt CO2/yr BIO45 4000   481.081028   469.672034   \n        BIO45GHG600  LU_GHG   Mt CO2/yr BIO45 600    670.617239   626.624804   \n        BIO45GHG990  LU_GHG   Mt CO2/yr BIO45 990    637.176056   594.923460   \n\nYear                                                       2070         2080  \\\nRegion  Scenario     Variable Unit      BIO   GHG                              \nR12_AFR BIO00GHG000  LU_GHG   Mt CO2/yr BIO00 0     6357.920924  6103.922402   \n        BIO00GHG010  LU_GHG   Mt CO2/yr BIO00 10    3862.491747  4119.423536   \n        BIO00GHG020  LU_GHG   Mt CO2/yr BIO00 20    3308.837646  3314.616552   \n        BIO00GHG050  LU_GHG   Mt CO2/yr BIO00 50    2856.081743  2933.449334   \n        BIO00GHG100  LU_GHG   Mt CO2/yr BIO00 100   2703.323406  2711.529005   \n...                                                         ...          ...   \nR12_WEU BIO45GHG3000 LU_GHG   Mt CO2/yr BIO45 3000   467.423790   402.684836   \n        BIO45GHG400  LU_GHG   Mt CO2/yr BIO45 400    594.705974   576.482651   \n        BIO45GHG4000 LU_GHG   Mt CO2/yr BIO45 4000   431.316345   399.294218   \n        BIO45GHG600  LU_GHG   Mt CO2/yr BIO45 600    589.199300   541.679505   \n        BIO45GHG990  LU_GHG   Mt CO2/yr BIO45 990    561.125293   510.976352   \n\nYear                                                       2090         2100  \\\nRegion  Scenario     Variable Unit      BIO   GHG                              \nR12_AFR BIO00GHG000  LU_GHG   Mt CO2/yr BIO00 0     5280.287635  4726.518905   \n        BIO00GHG010  LU_GHG   Mt CO2/yr BIO00 10    4024.376079  3969.405081   \n        BIO00GHG020  LU_GHG   Mt CO2/yr BIO00 20    3085.746555  2958.811283   \n        BIO00GHG050  LU_GHG   Mt CO2/yr BIO00 50    2805.581073  2710.875387   \n        BIO00GHG100  LU_GHG   Mt CO2/yr BIO00 100   2533.542612  2481.916204   \n...                                                         ...          ...   \nR12_WEU BIO45GHG3000 LU_GHG   Mt CO2/yr BIO45 3000   369.753056   361.430013   \n        BIO45GHG400  LU_GHG   Mt CO2/yr BIO45 400    535.765561   537.274005   \n        BIO45GHG4000 LU_GHG   Mt CO2/yr BIO45 4000   368.741419   355.936202   \n        BIO45GHG600  LU_GHG   Mt CO2/yr BIO45 600    506.046646   506.625325   \n        BIO45GHG990  LU_GHG   Mt CO2/yr BIO45 990    456.903431   419.190754   \n\nYear                                                       2110  \nRegion  Scenario     Variable Unit      BIO   GHG                \nR12_AFR BIO00GHG000  LU_GHG   Mt CO2/yr BIO00 0     4726.518905  \n        BIO00GHG010  LU_GHG   Mt CO2/yr BIO00 10    3969.405081  \n        BIO00GHG020  LU_GHG   Mt CO2/yr BIO00 20    2958.811283  \n        BIO00GHG050  LU_GHG   Mt CO2/yr BIO00 50    2710.875387  \n        BIO00GHG100  LU_GHG   Mt CO2/yr BIO00 100   2481.916204  \n...                                                         ...  \nR12_WEU BIO45GHG3000 LU_GHG   Mt CO2/yr BIO45 3000   361.430013  \n        BIO45GHG400  LU_GHG   Mt CO2/yr BIO45 400    537.274005  \n        BIO45GHG4000 LU_GHG   Mt CO2/yr BIO45 4000   355.936202  \n        BIO45GHG600  LU_GHG   Mt CO2/yr BIO45 600    506.625325  \n        BIO45GHG990  LU_GHG   Mt CO2/yr BIO45 990    419.190754  \n\n[1008 rows x 13 columns]",
      "text/html": "<div>\n<style scoped>\n    .dataframe tbody tr th:only-of-type {\n        vertical-align: middle;\n    }\n\n    .dataframe tbody tr th {\n        vertical-align: top;\n    }\n\n    .dataframe thead th {\n        text-align: right;\n    }\n</style>\n<table border=\"1\" class=\"dataframe\">\n  <thead>\n    <tr style=\"text-align: right;\">\n      <th></th>\n      <th></th>\n      <th></th>\n      <th></th>\n      <th></th>\n      <th>Year</th>\n      <th>2025</th>\n      <th>2030</th>\n      <th>2035</th>\n      <th>2040</th>\n      <th>2045</th>\n      <th>2050</th>\n      <th>2055</th>\n      <th>2060</th>\n      <th>2070</th>\n      <th>2080</th>\n      <th>2090</th>\n      <th>2100</th>\n      <th>2110</th>\n    </tr>\n    <tr>\n      <th>Region</th>\n      <th>Scenario</th>\n      <th>Variable</th>\n      <th>Unit</th>\n      <th>BIO</th>\n      <th>GHG</th>\n      <th></th>\n      <th></th>\n      <th></th>\n      <th></th>\n      <th></th>\n      <th></th>\n      <th></th>\n      <th></th>\n      <th></th>\n      <th></th>\n      <th></th>\n      <th></th>\n      <th></th>\n    </tr>\n  </thead>\n  <tbody>\n    <tr>\n      <th rowspan=\"5\" valign=\"top\">R12_AFR</th>\n      <th>BIO00GHG000</th>\n      <th>LU_GHG</th>\n      <th>Mt CO2/yr</th>\n      <th>BIO00</th>\n      <th>0</th>\n      <td>2138.487660</td>\n      <td>2618.828003</td>\n      <td>3046.831786</td>\n      <td>3348.098027</td>\n      <td>3651.476518</td>\n      <td>4182.934047</td>\n      <td>4920.254792</td>\n      <td>5741.654839</td>\n      <td>6357.920924</td>\n      <td>6103.922402</td>\n      <td>5280.287635</td>\n      <td>4726.518905</td>\n      <td>4726.518905</td>\n    </tr>\n    <tr>\n      <th>BIO00GHG010</th>\n      <th>LU_GHG</th>\n      <th>Mt CO2/yr</th>\n      <th>BIO00</th>\n      <th>10</th>\n      <td>2063.784906</td>\n      <td>2285.350912</td>\n      <td>2373.001104</td>\n      <td>2362.038757</td>\n      <td>2403.273844</td>\n      <td>2557.756949</td>\n      <td>2844.690571</td>\n      <td>3302.594530</td>\n      <td>3862.491747</td>\n      <td>4119.423536</td>\n      <td>4024.376079</td>\n      <td>3969.405081</td>\n      <td>3969.405081</td>\n    </tr>\n    <tr>\n      <th>BIO00GHG020</th>\n      <th>LU_GHG</th>\n      <th>Mt CO2/yr</th>\n      <th>BIO00</th>\n      <th>20</th>\n      <td>1822.973364</td>\n      <td>1905.371082</td>\n      <td>2003.213618</td>\n      <td>2122.678213</td>\n      <td>2230.066139</td>\n      <td>2385.444408</td>\n      <td>2639.371534</td>\n      <td>2977.705404</td>\n      <td>3308.837646</td>\n      <td>3314.616552</td>\n      <td>3085.746555</td>\n      <td>2958.811283</td>\n      <td>2958.811283</td>\n    </tr>\n    <tr>\n      <th>BIO00GHG050</th>\n      <th>LU_GHG</th>\n      <th>Mt CO2/yr</th>\n      <th>BIO00</th>\n      <th>50</th>\n      <td>1599.195430</td>\n      <td>1579.643292</td>\n      <td>1678.182227</td>\n      <td>1856.242320</td>\n      <td>2029.538087</td>\n      <td>2205.718056</td>\n      <td>2378.937662</td>\n      <td>2594.796580</td>\n      <td>2856.081743</td>\n      <td>2933.449334</td>\n      <td>2805.581073</td>\n      <td>2710.875387</td>\n      <td>2710.875387</td>\n    </tr>\n    <tr>\n      <th>BIO00GHG100</th>\n      <th>LU_GHG</th>\n      <th>Mt CO2/yr</th>\n      <th>BIO00</th>\n      <th>100</th>\n      <td>1621.774631</td>\n      <td>1545.687581</td>\n      <td>1575.732706</td>\n      <td>1695.510497</td>\n      <td>1857.875817</td>\n      <td>2051.872649</td>\n      <td>2241.188245</td>\n      <td>2467.624768</td>\n      <td>2703.323406</td>\n      <td>2711.529005</td>\n      <td>2533.542612</td>\n      <td>2481.916204</td>\n      <td>2481.916204</td>\n    </tr>\n    <tr>\n      <th>...</th>\n      <th>...</th>\n      <th>...</th>\n      <th>...</th>\n      <th>...</th>\n      <th>...</th>\n      <td>...</td>\n      <td>...</td>\n      <td>...</td>\n      <td>...</td>\n      <td>...</td>\n      <td>...</td>\n      <td>...</td>\n      <td>...</td>\n      <td>...</td>\n      <td>...</td>\n      <td>...</td>\n      <td>...</td>\n      <td>...</td>\n    </tr>\n    <tr>\n      <th rowspan=\"5\" valign=\"top\">R12_WEU</th>\n      <th>BIO45GHG3000</th>\n      <th>LU_GHG</th>\n      <th>Mt CO2/yr</th>\n      <th>BIO45</th>\n      <th>3000</th>\n      <td>644.372113</td>\n      <td>632.714191</td>\n      <td>590.803423</td>\n      <td>599.932465</td>\n      <td>593.256927</td>\n      <td>551.721501</td>\n      <td>527.806798</td>\n      <td>504.809004</td>\n      <td>467.423790</td>\n      <td>402.684836</td>\n      <td>369.753056</td>\n      <td>361.430013</td>\n      <td>361.430013</td>\n    </tr>\n    <tr>\n      <th>BIO45GHG400</th>\n      <th>LU_GHG</th>\n      <th>Mt CO2/yr</th>\n      <th>BIO45</th>\n      <th>400</th>\n      <td>732.111950</td>\n      <td>678.303025</td>\n      <td>636.289335</td>\n      <td>682.739098</td>\n      <td>725.368357</td>\n      <td>700.713245</td>\n      <td>660.701527</td>\n      <td>617.525820</td>\n      <td>594.705974</td>\n      <td>576.482651</td>\n      <td>535.765561</td>\n      <td>537.274005</td>\n      <td>537.274005</td>\n    </tr>\n    <tr>\n      <th>BIO45GHG4000</th>\n      <th>LU_GHG</th>\n      <th>Mt CO2/yr</th>\n      <th>BIO45</th>\n      <th>4000</th>\n      <td>644.372113</td>\n      <td>631.093216</td>\n      <td>590.803423</td>\n      <td>570.956727</td>\n      <td>515.454258</td>\n      <td>497.398756</td>\n      <td>481.081028</td>\n      <td>469.672034</td>\n      <td>431.316345</td>\n      <td>399.294218</td>\n      <td>368.741419</td>\n      <td>355.936202</td>\n      <td>355.936202</td>\n    </tr>\n    <tr>\n      <th>BIO45GHG600</th>\n      <th>LU_GHG</th>\n      <th>Mt CO2/yr</th>\n      <th>BIO45</th>\n      <th>600</th>\n      <td>727.080232</td>\n      <td>672.949900</td>\n      <td>626.724454</td>\n      <td>680.439542</td>\n      <td>708.291402</td>\n      <td>708.254727</td>\n      <td>670.617239</td>\n      <td>626.624804</td>\n      <td>589.199300</td>\n      <td>541.679505</td>\n      <td>506.046646</td>\n      <td>506.625325</td>\n      <td>506.625325</td>\n    </tr>\n    <tr>\n      <th>BIO45GHG990</th>\n      <th>LU_GHG</th>\n      <th>Mt CO2/yr</th>\n      <th>BIO45</th>\n      <th>990</th>\n      <td>644.372113</td>\n      <td>653.500355</td>\n      <td>639.014404</td>\n      <td>680.333981</td>\n      <td>692.023218</td>\n      <td>674.601341</td>\n      <td>637.176056</td>\n      <td>594.923460</td>\n      <td>561.125293</td>\n      <td>510.976352</td>\n      <td>456.903431</td>\n      <td>419.190754</td>\n      <td>419.190754</td>\n    </tr>\n  </tbody>\n</table>\n<p>1008 rows × 13 columns</p>\n</div>"
     },
     "execution_count": 120,
     "metadata": {},
     "output_type": "execute_result"
    }
   ],
   "source": [
    "df_ghg_long = df_ghg.melt(id_vars=[\"Region\", \"Scenario\", \"BIO\", \"GHG\", \"Variable\", \"Unit\"],\n",
    "                          var_name=\"Year\")\n",
    "df_ghg_long[\"Year\"] = df_ghg_long[\"Year\"].astype(int)\n",
    "df_ghg_long = df_ghg_long[df_ghg_long[\"Year\"] > 2020]\n",
    "df_ghg_long_min = df_ghg_long.groupby([\"Region\", \"Year\", \"BIO\"]).min()\n",
    "df_ghg_long_join = (df_ghg_long.set_index([\"Region\", \"Year\", \"BIO\"]).join(df_ghg_long_min[[\"value\"]], rsuffix=\"_min\"))\n",
    "\n",
    "df_ghg_long_join = df_ghg_long_join.join(df_ghg_long_join[df_ghg_long_join[\"value\"] == df_ghg_long_join[\"value_min\"]][\"GHG\"], rsuffix=\"_min\")\n",
    "df_ghg_long_join_final = df_ghg_long_join.apply(lambda x: set_val(x), axis=1)\n",
    "df_ghg_final = df_ghg_long_join_final.drop([\"value_min\", \"GHG_min\"], axis=1).reset_index().pivot(columns=\"Year\", values=\"value\", index=[\"Region\",\"Scenario\", \"Variable\", \"Unit\", \"BIO\", \"GHG\"])\n",
    "df_ghg_final"
   ],
   "metadata": {
    "collapsed": false,
    "ExecuteTime": {
     "end_time": "2023-09-18T13:50:52.230367300Z",
     "start_time": "2023-09-18T13:50:50.480351700Z"
    }
   }
  },
  {
   "cell_type": "code",
   "execution_count": 129,
   "outputs": [],
   "source": [
    "df_ghg_new = df_ghg.set_index([\"Region\",\"Scenario\", \"Variable\", \"Unit\", \"BIO\", \"GHG\"])[[\"1990\", \"1995\", \"2000\", \"2005\", \"2010\", \"2015\", \"2020\"]].join(df_ghg_final)"
   ],
   "metadata": {
    "collapsed": false,
    "ExecuteTime": {
     "end_time": "2023-09-18T13:57:40.402198Z",
     "start_time": "2023-09-18T13:57:40.167794200Z"
    }
   }
  },
  {
   "cell_type": "code",
   "execution_count": 114,
   "outputs": [
    {
     "data": {
      "text/plain": "                                                    1990  1995  2000  2005  \\\nRegion  Scenario     Variable Unit      BIO   GHG                            \nR12_AFR BIO00GHG000  LU_GHG   Mt CO2/yr BIO00 0      NaN   NaN   NaN   NaN   \n        BIO00GHG010  LU_GHG   Mt CO2/yr BIO00 10     0.0   0.0   0.0   0.0   \n        BIO00GHG020  LU_GHG   Mt CO2/yr BIO00 20     0.0   0.0   0.0   0.0   \n        BIO00GHG050  LU_GHG   Mt CO2/yr BIO00 50     0.0   0.0   0.0   0.0   \n        BIO00GHG100  LU_GHG   Mt CO2/yr BIO00 100    0.0   0.0   0.0   0.0   \n...                                                  ...   ...   ...   ...   \nR12_WEU BIO45GHG600  LU_GHG   Mt CO2/yr BIO45 600    0.0   0.0   0.0   0.0   \n        BIO45GHG990  LU_GHG   Mt CO2/yr BIO45 990    0.0   0.0   0.0   0.0   \n        BIO45GHG2000 LU_GHG   Mt CO2/yr BIO45 2000   0.0   0.0   0.0   0.0   \n        BIO45GHG3000 LU_GHG   Mt CO2/yr BIO45 3000   0.0   0.0   0.0   0.0   \n        BIO45GHG4000 LU_GHG   Mt CO2/yr BIO45 4000   0.0   0.0   0.0   0.0   \n\n                                                    2010  2015  2020  \\\nRegion  Scenario     Variable Unit      BIO   GHG                      \nR12_AFR BIO00GHG000  LU_GHG   Mt CO2/yr BIO00 0      NaN   NaN   NaN   \n        BIO00GHG010  LU_GHG   Mt CO2/yr BIO00 10     0.0   0.0   0.0   \n        BIO00GHG020  LU_GHG   Mt CO2/yr BIO00 20     0.0   0.0   0.0   \n        BIO00GHG050  LU_GHG   Mt CO2/yr BIO00 50     0.0   0.0   0.0   \n        BIO00GHG100  LU_GHG   Mt CO2/yr BIO00 100    0.0   0.0   0.0   \n...                                                  ...   ...   ...   \nR12_WEU BIO45GHG600  LU_GHG   Mt CO2/yr BIO45 600    0.0   0.0   0.0   \n        BIO45GHG990  LU_GHG   Mt CO2/yr BIO45 990    0.0   0.0   0.0   \n        BIO45GHG2000 LU_GHG   Mt CO2/yr BIO45 2000   0.0   0.0   0.0   \n        BIO45GHG3000 LU_GHG   Mt CO2/yr BIO45 3000   0.0   0.0   0.0   \n        BIO45GHG4000 LU_GHG   Mt CO2/yr BIO45 4000   0.0   0.0   0.0   \n\n                                                          2025        2030  \\\nRegion  Scenario     Variable Unit      BIO   GHG                            \nR12_AFR BIO00GHG000  LU_GHG   Mt CO2/yr BIO00 0            NaN         NaN   \n        BIO00GHG010  LU_GHG   Mt CO2/yr BIO00 10    -74.702754 -333.477090   \n        BIO00GHG020  LU_GHG   Mt CO2/yr BIO00 20   -240.811542 -379.979831   \n        BIO00GHG050  LU_GHG   Mt CO2/yr BIO00 50   -223.777934 -325.727790   \n        BIO00GHG100  LU_GHG   Mt CO2/yr BIO00 100    22.579200  -33.955711   \n...                                                        ...         ...   \nR12_WEU BIO45GHG600  LU_GHG   Mt CO2/yr BIO45 600    -5.031718   -5.353125   \n        BIO45GHG990  LU_GHG   Mt CO2/yr BIO45 990   -82.708119  -19.449545   \n        BIO45GHG2000 LU_GHG   Mt CO2/yr BIO45 2000   83.945207   12.145148   \n        BIO45GHG3000 LU_GHG   Mt CO2/yr BIO45 3000   -3.327431  -32.931312   \n        BIO45GHG4000 LU_GHG   Mt CO2/yr BIO45 4000    1.869618   -1.620975   \n\n                                                          2035        2040  \\\nRegion  Scenario     Variable Unit      BIO   GHG                            \nR12_AFR BIO00GHG000  LU_GHG   Mt CO2/yr BIO00 0            NaN         NaN   \n        BIO00GHG010  LU_GHG   Mt CO2/yr BIO00 10   -673.830682 -986.059271   \n        BIO00GHG020  LU_GHG   Mt CO2/yr BIO00 20   -369.787486 -239.360543   \n        BIO00GHG050  LU_GHG   Mt CO2/yr BIO00 50   -325.031391 -266.435894   \n        BIO00GHG100  LU_GHG   Mt CO2/yr BIO00 100  -102.449521 -160.731823   \n...                                                        ...         ...   \nR12_WEU BIO45GHG600  LU_GHG   Mt CO2/yr BIO45 600    -9.564881   -2.299557   \n        BIO45GHG990  LU_GHG   Mt CO2/yr BIO45 990    12.289950   -0.105561   \n        BIO45GHG2000 LU_GHG   Mt CO2/yr BIO45 2000    5.249088  -45.788472   \n        BIO45GHG3000 LU_GHG   Mt CO2/yr BIO45 3000  -53.460068  -34.613044   \n        BIO45GHG4000 LU_GHG   Mt CO2/yr BIO45 4000    3.235089  -28.975738   \n\n                                                           2045         2050  \\\nRegion  Scenario     Variable Unit      BIO   GHG                              \nR12_AFR BIO00GHG000  LU_GHG   Mt CO2/yr BIO00 0             NaN          NaN   \n        BIO00GHG010  LU_GHG   Mt CO2/yr BIO00 10   -1248.202674 -1625.177098   \n        BIO00GHG020  LU_GHG   Mt CO2/yr BIO00 20    -173.207706  -172.312541   \n        BIO00GHG050  LU_GHG   Mt CO2/yr BIO00 50    -200.528052  -179.726352   \n        BIO00GHG100  LU_GHG   Mt CO2/yr BIO00 100   -171.662270  -153.845408   \n...                                                         ...          ...   \nR12_WEU BIO45GHG600  LU_GHG   Mt CO2/yr BIO45 600    -17.076956     7.541481   \n        BIO45GHG990  LU_GHG   Mt CO2/yr BIO45 990    -16.268184   -33.653386   \n        BIO45GHG2000 LU_GHG   Mt CO2/yr BIO45 2000   -71.048467   -78.928898   \n        BIO45GHG3000 LU_GHG   Mt CO2/yr BIO45 3000   -27.717824   -43.950942   \n        BIO45GHG4000 LU_GHG   Mt CO2/yr BIO45 4000   -77.802669   -54.322745   \n\n                                                           2055         2060  \\\nRegion  Scenario     Variable Unit      BIO   GHG                              \nR12_AFR BIO00GHG000  LU_GHG   Mt CO2/yr BIO00 0             NaN          NaN   \n        BIO00GHG010  LU_GHG   Mt CO2/yr BIO00 10   -2075.564221 -2439.060308   \n        BIO00GHG020  LU_GHG   Mt CO2/yr BIO00 20    -205.319036  -324.889127   \n        BIO00GHG050  LU_GHG   Mt CO2/yr BIO00 50    -260.433872  -382.908823   \n        BIO00GHG100  LU_GHG   Mt CO2/yr BIO00 100   -137.749417  -127.171812   \n...                                                         ...          ...   \nR12_WEU BIO45GHG600  LU_GHG   Mt CO2/yr BIO45 600      9.915712     9.098984   \n        BIO45GHG990  LU_GHG   Mt CO2/yr BIO45 990    -33.441183   -31.701343   \n        BIO45GHG2000 LU_GHG   Mt CO2/yr BIO45 2000   -82.656784   -85.508885   \n        BIO45GHG3000 LU_GHG   Mt CO2/yr BIO45 3000   -26.712474    -4.605572   \n        BIO45GHG4000 LU_GHG   Mt CO2/yr BIO45 4000   -46.725770   -35.136969   \n\n                                                           2070         2080  \\\nRegion  Scenario     Variable Unit      BIO   GHG                              \nR12_AFR BIO00GHG000  LU_GHG   Mt CO2/yr BIO00 0             NaN          NaN   \n        BIO00GHG010  LU_GHG   Mt CO2/yr BIO00 10   -2495.429177 -1984.498866   \n        BIO00GHG020  LU_GHG   Mt CO2/yr BIO00 20    -553.654101  -804.806984   \n        BIO00GHG050  LU_GHG   Mt CO2/yr BIO00 50    -452.755903  -381.167218   \n        BIO00GHG100  LU_GHG   Mt CO2/yr BIO00 100   -152.758337  -221.920329   \n...                                                         ...          ...   \nR12_WEU BIO45GHG600  LU_GHG   Mt CO2/yr BIO45 600     -5.506675   -34.803147   \n        BIO45GHG990  LU_GHG   Mt CO2/yr BIO45 990    -28.074007   -30.703152   \n        BIO45GHG2000 LU_GHG   Mt CO2/yr BIO45 2000   -99.702109  -102.103303   \n        BIO45GHG3000 LU_GHG   Mt CO2/yr BIO45 3000     6.000606    -6.188214   \n        BIO45GHG4000 LU_GHG   Mt CO2/yr BIO45 4000   -36.107445    -3.390618   \n\n                                                           2090         2100  \\\nRegion  Scenario     Variable Unit      BIO   GHG                              \nR12_AFR BIO00GHG000  LU_GHG   Mt CO2/yr BIO00 0             NaN          NaN   \n        BIO00GHG010  LU_GHG   Mt CO2/yr BIO00 10   -1255.911556  -757.113824   \n        BIO00GHG020  LU_GHG   Mt CO2/yr BIO00 20    -938.629524 -1010.593798   \n        BIO00GHG050  LU_GHG   Mt CO2/yr BIO00 50    -280.165482  -247.935896   \n        BIO00GHG100  LU_GHG   Mt CO2/yr BIO00 100   -272.038461  -228.959183   \n...                                                         ...          ...   \nR12_WEU BIO45GHG600  LU_GHG   Mt CO2/yr BIO45 600    -29.718914   -30.648680   \n        BIO45GHG990  LU_GHG   Mt CO2/yr BIO45 990    -49.143216   -87.434571   \n        BIO45GHG2000 LU_GHG   Mt CO2/yr BIO45 2000   -80.323076   -49.800505   \n        BIO45GHG3000 LU_GHG   Mt CO2/yr BIO45 3000    -6.827298    -7.960236   \n        BIO45GHG4000 LU_GHG   Mt CO2/yr BIO45 4000    -1.011637    -5.493810   \n\n                                                           2110  \nRegion  Scenario     Variable Unit      BIO   GHG                \nR12_AFR BIO00GHG000  LU_GHG   Mt CO2/yr BIO00 0             NaN  \n        BIO00GHG010  LU_GHG   Mt CO2/yr BIO00 10    -757.113824  \n        BIO00GHG020  LU_GHG   Mt CO2/yr BIO00 20   -1010.593798  \n        BIO00GHG050  LU_GHG   Mt CO2/yr BIO00 50    -247.935896  \n        BIO00GHG100  LU_GHG   Mt CO2/yr BIO00 100   -228.959183  \n...                                                         ...  \nR12_WEU BIO45GHG600  LU_GHG   Mt CO2/yr BIO45 600    -30.648680  \n        BIO45GHG990  LU_GHG   Mt CO2/yr BIO45 990    -87.434571  \n        BIO45GHG2000 LU_GHG   Mt CO2/yr BIO45 2000   -49.800505  \n        BIO45GHG3000 LU_GHG   Mt CO2/yr BIO45 3000    -7.960236  \n        BIO45GHG4000 LU_GHG   Mt CO2/yr BIO45 4000    -5.493810  \n\n[1008 rows x 20 columns]",
      "text/html": "<div>\n<style scoped>\n    .dataframe tbody tr th:only-of-type {\n        vertical-align: middle;\n    }\n\n    .dataframe tbody tr th {\n        vertical-align: top;\n    }\n\n    .dataframe thead th {\n        text-align: right;\n    }\n</style>\n<table border=\"1\" class=\"dataframe\">\n  <thead>\n    <tr style=\"text-align: right;\">\n      <th></th>\n      <th></th>\n      <th></th>\n      <th></th>\n      <th></th>\n      <th></th>\n      <th>1990</th>\n      <th>1995</th>\n      <th>2000</th>\n      <th>2005</th>\n      <th>2010</th>\n      <th>2015</th>\n      <th>2020</th>\n      <th>2025</th>\n      <th>2030</th>\n      <th>2035</th>\n      <th>2040</th>\n      <th>2045</th>\n      <th>2050</th>\n      <th>2055</th>\n      <th>2060</th>\n      <th>2070</th>\n      <th>2080</th>\n      <th>2090</th>\n      <th>2100</th>\n      <th>2110</th>\n    </tr>\n    <tr>\n      <th>Region</th>\n      <th>Scenario</th>\n      <th>Variable</th>\n      <th>Unit</th>\n      <th>BIO</th>\n      <th>GHG</th>\n      <th></th>\n      <th></th>\n      <th></th>\n      <th></th>\n      <th></th>\n      <th></th>\n      <th></th>\n      <th></th>\n      <th></th>\n      <th></th>\n      <th></th>\n      <th></th>\n      <th></th>\n      <th></th>\n      <th></th>\n      <th></th>\n      <th></th>\n      <th></th>\n      <th></th>\n      <th></th>\n    </tr>\n  </thead>\n  <tbody>\n    <tr>\n      <th rowspan=\"5\" valign=\"top\">R12_AFR</th>\n      <th>BIO00GHG000</th>\n      <th>LU_GHG</th>\n      <th>Mt CO2/yr</th>\n      <th>BIO00</th>\n      <th>0</th>\n      <td>NaN</td>\n      <td>NaN</td>\n      <td>NaN</td>\n      <td>NaN</td>\n      <td>NaN</td>\n      <td>NaN</td>\n      <td>NaN</td>\n      <td>NaN</td>\n      <td>NaN</td>\n      <td>NaN</td>\n      <td>NaN</td>\n      <td>NaN</td>\n      <td>NaN</td>\n      <td>NaN</td>\n      <td>NaN</td>\n      <td>NaN</td>\n      <td>NaN</td>\n      <td>NaN</td>\n      <td>NaN</td>\n      <td>NaN</td>\n    </tr>\n    <tr>\n      <th>BIO00GHG010</th>\n      <th>LU_GHG</th>\n      <th>Mt CO2/yr</th>\n      <th>BIO00</th>\n      <th>10</th>\n      <td>0.0</td>\n      <td>0.0</td>\n      <td>0.0</td>\n      <td>0.0</td>\n      <td>0.0</td>\n      <td>0.0</td>\n      <td>0.0</td>\n      <td>-74.702754</td>\n      <td>-333.477090</td>\n      <td>-673.830682</td>\n      <td>-986.059271</td>\n      <td>-1248.202674</td>\n      <td>-1625.177098</td>\n      <td>-2075.564221</td>\n      <td>-2439.060308</td>\n      <td>-2495.429177</td>\n      <td>-1984.498866</td>\n      <td>-1255.911556</td>\n      <td>-757.113824</td>\n      <td>-757.113824</td>\n    </tr>\n    <tr>\n      <th>BIO00GHG020</th>\n      <th>LU_GHG</th>\n      <th>Mt CO2/yr</th>\n      <th>BIO00</th>\n      <th>20</th>\n      <td>0.0</td>\n      <td>0.0</td>\n      <td>0.0</td>\n      <td>0.0</td>\n      <td>0.0</td>\n      <td>0.0</td>\n      <td>0.0</td>\n      <td>-240.811542</td>\n      <td>-379.979831</td>\n      <td>-369.787486</td>\n      <td>-239.360543</td>\n      <td>-173.207706</td>\n      <td>-172.312541</td>\n      <td>-205.319036</td>\n      <td>-324.889127</td>\n      <td>-553.654101</td>\n      <td>-804.806984</td>\n      <td>-938.629524</td>\n      <td>-1010.593798</td>\n      <td>-1010.593798</td>\n    </tr>\n    <tr>\n      <th>BIO00GHG050</th>\n      <th>LU_GHG</th>\n      <th>Mt CO2/yr</th>\n      <th>BIO00</th>\n      <th>50</th>\n      <td>0.0</td>\n      <td>0.0</td>\n      <td>0.0</td>\n      <td>0.0</td>\n      <td>0.0</td>\n      <td>0.0</td>\n      <td>0.0</td>\n      <td>-223.777934</td>\n      <td>-325.727790</td>\n      <td>-325.031391</td>\n      <td>-266.435894</td>\n      <td>-200.528052</td>\n      <td>-179.726352</td>\n      <td>-260.433872</td>\n      <td>-382.908823</td>\n      <td>-452.755903</td>\n      <td>-381.167218</td>\n      <td>-280.165482</td>\n      <td>-247.935896</td>\n      <td>-247.935896</td>\n    </tr>\n    <tr>\n      <th>BIO00GHG100</th>\n      <th>LU_GHG</th>\n      <th>Mt CO2/yr</th>\n      <th>BIO00</th>\n      <th>100</th>\n      <td>0.0</td>\n      <td>0.0</td>\n      <td>0.0</td>\n      <td>0.0</td>\n      <td>0.0</td>\n      <td>0.0</td>\n      <td>0.0</td>\n      <td>22.579200</td>\n      <td>-33.955711</td>\n      <td>-102.449521</td>\n      <td>-160.731823</td>\n      <td>-171.662270</td>\n      <td>-153.845408</td>\n      <td>-137.749417</td>\n      <td>-127.171812</td>\n      <td>-152.758337</td>\n      <td>-221.920329</td>\n      <td>-272.038461</td>\n      <td>-228.959183</td>\n      <td>-228.959183</td>\n    </tr>\n    <tr>\n      <th>...</th>\n      <th>...</th>\n      <th>...</th>\n      <th>...</th>\n      <th>...</th>\n      <th>...</th>\n      <td>...</td>\n      <td>...</td>\n      <td>...</td>\n      <td>...</td>\n      <td>...</td>\n      <td>...</td>\n      <td>...</td>\n      <td>...</td>\n      <td>...</td>\n      <td>...</td>\n      <td>...</td>\n      <td>...</td>\n      <td>...</td>\n      <td>...</td>\n      <td>...</td>\n      <td>...</td>\n      <td>...</td>\n      <td>...</td>\n      <td>...</td>\n      <td>...</td>\n    </tr>\n    <tr>\n      <th rowspan=\"5\" valign=\"top\">R12_WEU</th>\n      <th>BIO45GHG600</th>\n      <th>LU_GHG</th>\n      <th>Mt CO2/yr</th>\n      <th>BIO45</th>\n      <th>600</th>\n      <td>0.0</td>\n      <td>0.0</td>\n      <td>0.0</td>\n      <td>0.0</td>\n      <td>0.0</td>\n      <td>0.0</td>\n      <td>0.0</td>\n      <td>-5.031718</td>\n      <td>-5.353125</td>\n      <td>-9.564881</td>\n      <td>-2.299557</td>\n      <td>-17.076956</td>\n      <td>7.541481</td>\n      <td>9.915712</td>\n      <td>9.098984</td>\n      <td>-5.506675</td>\n      <td>-34.803147</td>\n      <td>-29.718914</td>\n      <td>-30.648680</td>\n      <td>-30.648680</td>\n    </tr>\n    <tr>\n      <th>BIO45GHG990</th>\n      <th>LU_GHG</th>\n      <th>Mt CO2/yr</th>\n      <th>BIO45</th>\n      <th>990</th>\n      <td>0.0</td>\n      <td>0.0</td>\n      <td>0.0</td>\n      <td>0.0</td>\n      <td>0.0</td>\n      <td>0.0</td>\n      <td>0.0</td>\n      <td>-82.708119</td>\n      <td>-19.449545</td>\n      <td>12.289950</td>\n      <td>-0.105561</td>\n      <td>-16.268184</td>\n      <td>-33.653386</td>\n      <td>-33.441183</td>\n      <td>-31.701343</td>\n      <td>-28.074007</td>\n      <td>-30.703152</td>\n      <td>-49.143216</td>\n      <td>-87.434571</td>\n      <td>-87.434571</td>\n    </tr>\n    <tr>\n      <th>BIO45GHG2000</th>\n      <th>LU_GHG</th>\n      <th>Mt CO2/yr</th>\n      <th>BIO45</th>\n      <th>2000</th>\n      <td>0.0</td>\n      <td>0.0</td>\n      <td>0.0</td>\n      <td>0.0</td>\n      <td>0.0</td>\n      <td>0.0</td>\n      <td>0.0</td>\n      <td>83.945207</td>\n      <td>12.145148</td>\n      <td>5.249088</td>\n      <td>-45.788472</td>\n      <td>-71.048467</td>\n      <td>-78.928898</td>\n      <td>-82.656784</td>\n      <td>-85.508885</td>\n      <td>-99.702109</td>\n      <td>-102.103303</td>\n      <td>-80.323076</td>\n      <td>-49.800505</td>\n      <td>-49.800505</td>\n    </tr>\n    <tr>\n      <th>BIO45GHG3000</th>\n      <th>LU_GHG</th>\n      <th>Mt CO2/yr</th>\n      <th>BIO45</th>\n      <th>3000</th>\n      <td>0.0</td>\n      <td>0.0</td>\n      <td>0.0</td>\n      <td>0.0</td>\n      <td>0.0</td>\n      <td>0.0</td>\n      <td>0.0</td>\n      <td>-3.327431</td>\n      <td>-32.931312</td>\n      <td>-53.460068</td>\n      <td>-34.613044</td>\n      <td>-27.717824</td>\n      <td>-43.950942</td>\n      <td>-26.712474</td>\n      <td>-4.605572</td>\n      <td>6.000606</td>\n      <td>-6.188214</td>\n      <td>-6.827298</td>\n      <td>-7.960236</td>\n      <td>-7.960236</td>\n    </tr>\n    <tr>\n      <th>BIO45GHG4000</th>\n      <th>LU_GHG</th>\n      <th>Mt CO2/yr</th>\n      <th>BIO45</th>\n      <th>4000</th>\n      <td>0.0</td>\n      <td>0.0</td>\n      <td>0.0</td>\n      <td>0.0</td>\n      <td>0.0</td>\n      <td>0.0</td>\n      <td>0.0</td>\n      <td>1.869618</td>\n      <td>-1.620975</td>\n      <td>3.235089</td>\n      <td>-28.975738</td>\n      <td>-77.802669</td>\n      <td>-54.322745</td>\n      <td>-46.725770</td>\n      <td>-35.136969</td>\n      <td>-36.107445</td>\n      <td>-3.390618</td>\n      <td>-1.011637</td>\n      <td>-5.493810</td>\n      <td>-5.493810</td>\n    </tr>\n  </tbody>\n</table>\n<p>1008 rows × 20 columns</p>\n</div>"
     },
     "execution_count": 114,
     "metadata": {},
     "output_type": "execute_result"
    }
   ],
   "source": [
    "df_ghg.set_index([\"Region\",\"Scenario\", \"Variable\", \"Unit\", \"BIO\", \"GHG\"]).diff()"
   ],
   "metadata": {
    "collapsed": false,
    "ExecuteTime": {
     "end_time": "2023-09-18T13:44:41.870578200Z",
     "start_time": "2023-09-18T13:44:41.667382800Z"
    }
   }
  },
  {
   "cell_type": "code",
   "execution_count": 103,
   "outputs": [
    {
     "ename": "KeyError",
     "evalue": "'GHG'",
     "output_type": "error",
     "traceback": [
      "\u001B[1;31m---------------------------------------------------------------------------\u001B[0m",
      "\u001B[1;31mKeyError\u001B[0m                                  Traceback (most recent call last)",
      "File \u001B[1;32m~\\Anaconda3\\lib\\site-packages\\pandas\\core\\indexes\\base.py:3621\u001B[0m, in \u001B[0;36mIndex.get_loc\u001B[1;34m(self, key, method, tolerance)\u001B[0m\n\u001B[0;32m   3620\u001B[0m \u001B[38;5;28;01mtry\u001B[39;00m:\n\u001B[1;32m-> 3621\u001B[0m     \u001B[38;5;28;01mreturn\u001B[39;00m \u001B[38;5;28;43mself\u001B[39;49m\u001B[38;5;241;43m.\u001B[39;49m\u001B[43m_engine\u001B[49m\u001B[38;5;241;43m.\u001B[39;49m\u001B[43mget_loc\u001B[49m\u001B[43m(\u001B[49m\u001B[43mcasted_key\u001B[49m\u001B[43m)\u001B[49m\n\u001B[0;32m   3622\u001B[0m \u001B[38;5;28;01mexcept\u001B[39;00m \u001B[38;5;167;01mKeyError\u001B[39;00m \u001B[38;5;28;01mas\u001B[39;00m err:\n",
      "File \u001B[1;32m~\\Anaconda3\\lib\\site-packages\\pandas\\_libs\\index.pyx:136\u001B[0m, in \u001B[0;36mpandas._libs.index.IndexEngine.get_loc\u001B[1;34m()\u001B[0m\n",
      "File \u001B[1;32m~\\Anaconda3\\lib\\site-packages\\pandas\\_libs\\index.pyx:163\u001B[0m, in \u001B[0;36mpandas._libs.index.IndexEngine.get_loc\u001B[1;34m()\u001B[0m\n",
      "File \u001B[1;32mpandas\\_libs\\hashtable_class_helper.pxi:5198\u001B[0m, in \u001B[0;36mpandas._libs.hashtable.PyObjectHashTable.get_item\u001B[1;34m()\u001B[0m\n",
      "File \u001B[1;32mpandas\\_libs\\hashtable_class_helper.pxi:5206\u001B[0m, in \u001B[0;36mpandas._libs.hashtable.PyObjectHashTable.get_item\u001B[1;34m()\u001B[0m\n",
      "\u001B[1;31mKeyError\u001B[0m: 'GHG'",
      "\nThe above exception was the direct cause of the following exception:\n",
      "\u001B[1;31mKeyError\u001B[0m                                  Traceback (most recent call last)",
      "Input \u001B[1;32mIn [103]\u001B[0m, in \u001B[0;36m<cell line: 1>\u001B[1;34m()\u001B[0m\n\u001B[1;32m----> 1\u001B[0m df_emi_split_final_min \u001B[38;5;241m=\u001B[39m \u001B[43mdf_emi_split_final\u001B[49m\u001B[38;5;241;43m.\u001B[39;49m\u001B[43mapply\u001B[49m\u001B[43m(\u001B[49m\u001B[38;5;28;43;01mlambda\u001B[39;49;00m\u001B[43m \u001B[49m\u001B[43mx\u001B[49m\u001B[43m:\u001B[49m\u001B[43m \u001B[49m\u001B[43mset_val\u001B[49m\u001B[43m(\u001B[49m\u001B[43mx\u001B[49m\u001B[43m)\u001B[49m\u001B[43m,\u001B[49m\u001B[43m \u001B[49m\u001B[43maxis\u001B[49m\u001B[38;5;241;43m=\u001B[39;49m\u001B[38;5;241;43m1\u001B[39;49m\u001B[43m)\u001B[49m\n",
      "File \u001B[1;32m~\\Anaconda3\\lib\\site-packages\\pandas\\core\\frame.py:8839\u001B[0m, in \u001B[0;36mDataFrame.apply\u001B[1;34m(self, func, axis, raw, result_type, args, **kwargs)\u001B[0m\n\u001B[0;32m   8828\u001B[0m \u001B[38;5;28;01mfrom\u001B[39;00m \u001B[38;5;21;01mpandas\u001B[39;00m\u001B[38;5;21;01m.\u001B[39;00m\u001B[38;5;21;01mcore\u001B[39;00m\u001B[38;5;21;01m.\u001B[39;00m\u001B[38;5;21;01mapply\u001B[39;00m \u001B[38;5;28;01mimport\u001B[39;00m frame_apply\n\u001B[0;32m   8830\u001B[0m op \u001B[38;5;241m=\u001B[39m frame_apply(\n\u001B[0;32m   8831\u001B[0m     \u001B[38;5;28mself\u001B[39m,\n\u001B[0;32m   8832\u001B[0m     func\u001B[38;5;241m=\u001B[39mfunc,\n\u001B[1;32m   (...)\u001B[0m\n\u001B[0;32m   8837\u001B[0m     kwargs\u001B[38;5;241m=\u001B[39mkwargs,\n\u001B[0;32m   8838\u001B[0m )\n\u001B[1;32m-> 8839\u001B[0m \u001B[38;5;28;01mreturn\u001B[39;00m \u001B[43mop\u001B[49m\u001B[38;5;241;43m.\u001B[39;49m\u001B[43mapply\u001B[49m\u001B[43m(\u001B[49m\u001B[43m)\u001B[49m\u001B[38;5;241m.\u001B[39m__finalize__(\u001B[38;5;28mself\u001B[39m, method\u001B[38;5;241m=\u001B[39m\u001B[38;5;124m\"\u001B[39m\u001B[38;5;124mapply\u001B[39m\u001B[38;5;124m\"\u001B[39m)\n",
      "File \u001B[1;32m~\\Anaconda3\\lib\\site-packages\\pandas\\core\\apply.py:727\u001B[0m, in \u001B[0;36mFrameApply.apply\u001B[1;34m(self)\u001B[0m\n\u001B[0;32m    724\u001B[0m \u001B[38;5;28;01melif\u001B[39;00m \u001B[38;5;28mself\u001B[39m\u001B[38;5;241m.\u001B[39mraw:\n\u001B[0;32m    725\u001B[0m     \u001B[38;5;28;01mreturn\u001B[39;00m \u001B[38;5;28mself\u001B[39m\u001B[38;5;241m.\u001B[39mapply_raw()\n\u001B[1;32m--> 727\u001B[0m \u001B[38;5;28;01mreturn\u001B[39;00m \u001B[38;5;28;43mself\u001B[39;49m\u001B[38;5;241;43m.\u001B[39;49m\u001B[43mapply_standard\u001B[49m\u001B[43m(\u001B[49m\u001B[43m)\u001B[49m\n",
      "File \u001B[1;32m~\\Anaconda3\\lib\\site-packages\\pandas\\core\\apply.py:851\u001B[0m, in \u001B[0;36mFrameApply.apply_standard\u001B[1;34m(self)\u001B[0m\n\u001B[0;32m    850\u001B[0m \u001B[38;5;28;01mdef\u001B[39;00m \u001B[38;5;21mapply_standard\u001B[39m(\u001B[38;5;28mself\u001B[39m):\n\u001B[1;32m--> 851\u001B[0m     results, res_index \u001B[38;5;241m=\u001B[39m \u001B[38;5;28;43mself\u001B[39;49m\u001B[38;5;241;43m.\u001B[39;49m\u001B[43mapply_series_generator\u001B[49m\u001B[43m(\u001B[49m\u001B[43m)\u001B[49m\n\u001B[0;32m    853\u001B[0m     \u001B[38;5;66;03m# wrap results\u001B[39;00m\n\u001B[0;32m    854\u001B[0m     \u001B[38;5;28;01mreturn\u001B[39;00m \u001B[38;5;28mself\u001B[39m\u001B[38;5;241m.\u001B[39mwrap_results(results, res_index)\n",
      "File \u001B[1;32m~\\Anaconda3\\lib\\site-packages\\pandas\\core\\apply.py:867\u001B[0m, in \u001B[0;36mFrameApply.apply_series_generator\u001B[1;34m(self)\u001B[0m\n\u001B[0;32m    864\u001B[0m \u001B[38;5;28;01mwith\u001B[39;00m option_context(\u001B[38;5;124m\"\u001B[39m\u001B[38;5;124mmode.chained_assignment\u001B[39m\u001B[38;5;124m\"\u001B[39m, \u001B[38;5;28;01mNone\u001B[39;00m):\n\u001B[0;32m    865\u001B[0m     \u001B[38;5;28;01mfor\u001B[39;00m i, v \u001B[38;5;129;01min\u001B[39;00m \u001B[38;5;28menumerate\u001B[39m(series_gen):\n\u001B[0;32m    866\u001B[0m         \u001B[38;5;66;03m# ignore SettingWithCopy here in case the user mutates\u001B[39;00m\n\u001B[1;32m--> 867\u001B[0m         results[i] \u001B[38;5;241m=\u001B[39m \u001B[38;5;28;43mself\u001B[39;49m\u001B[38;5;241;43m.\u001B[39;49m\u001B[43mf\u001B[49m\u001B[43m(\u001B[49m\u001B[43mv\u001B[49m\u001B[43m)\u001B[49m\n\u001B[0;32m    868\u001B[0m         \u001B[38;5;28;01mif\u001B[39;00m \u001B[38;5;28misinstance\u001B[39m(results[i], ABCSeries):\n\u001B[0;32m    869\u001B[0m             \u001B[38;5;66;03m# If we have a view on v, we need to make a copy because\u001B[39;00m\n\u001B[0;32m    870\u001B[0m             \u001B[38;5;66;03m#  series_generator will swap out the underlying data\u001B[39;00m\n\u001B[0;32m    871\u001B[0m             results[i] \u001B[38;5;241m=\u001B[39m results[i]\u001B[38;5;241m.\u001B[39mcopy(deep\u001B[38;5;241m=\u001B[39m\u001B[38;5;28;01mFalse\u001B[39;00m)\n",
      "Input \u001B[1;32mIn [103]\u001B[0m, in \u001B[0;36m<lambda>\u001B[1;34m(x)\u001B[0m\n\u001B[1;32m----> 1\u001B[0m df_emi_split_final_min \u001B[38;5;241m=\u001B[39m df_emi_split_final\u001B[38;5;241m.\u001B[39mapply(\u001B[38;5;28;01mlambda\u001B[39;00m x: \u001B[43mset_val\u001B[49m\u001B[43m(\u001B[49m\u001B[43mx\u001B[49m\u001B[43m)\u001B[49m, axis\u001B[38;5;241m=\u001B[39m\u001B[38;5;241m1\u001B[39m)\n",
      "Input \u001B[1;32mIn [98]\u001B[0m, in \u001B[0;36mset_val\u001B[1;34m(df)\u001B[0m\n\u001B[0;32m      1\u001B[0m \u001B[38;5;28;01mdef\u001B[39;00m \u001B[38;5;21mset_val\u001B[39m(df):\n\u001B[0;32m      2\u001B[0m     \u001B[38;5;66;03m#print(df)\u001B[39;00m\n\u001B[1;32m----> 3\u001B[0m     \u001B[38;5;28;01mif\u001B[39;00m \u001B[43mdf\u001B[49m\u001B[43m[\u001B[49m\u001B[38;5;124;43m\"\u001B[39;49m\u001B[38;5;124;43mGHG\u001B[39;49m\u001B[38;5;124;43m\"\u001B[39;49m\u001B[43m]\u001B[49m \u001B[38;5;241m>\u001B[39m df\u001B[38;5;241m.\u001B[39mGHG_min:\n\u001B[0;32m      4\u001B[0m         df\u001B[38;5;241m.\u001B[39mvalue \u001B[38;5;241m=\u001B[39m df\u001B[38;5;241m.\u001B[39mvalue_min\n\u001B[0;32m      5\u001B[0m     \u001B[38;5;28;01mreturn\u001B[39;00m df\n",
      "File \u001B[1;32m~\\Anaconda3\\lib\\site-packages\\pandas\\core\\series.py:958\u001B[0m, in \u001B[0;36mSeries.__getitem__\u001B[1;34m(self, key)\u001B[0m\n\u001B[0;32m    955\u001B[0m     \u001B[38;5;28;01mreturn\u001B[39;00m \u001B[38;5;28mself\u001B[39m\u001B[38;5;241m.\u001B[39m_values[key]\n\u001B[0;32m    957\u001B[0m \u001B[38;5;28;01melif\u001B[39;00m key_is_scalar:\n\u001B[1;32m--> 958\u001B[0m     \u001B[38;5;28;01mreturn\u001B[39;00m \u001B[38;5;28;43mself\u001B[39;49m\u001B[38;5;241;43m.\u001B[39;49m\u001B[43m_get_value\u001B[49m\u001B[43m(\u001B[49m\u001B[43mkey\u001B[49m\u001B[43m)\u001B[49m\n\u001B[0;32m    960\u001B[0m \u001B[38;5;28;01mif\u001B[39;00m is_hashable(key):\n\u001B[0;32m    961\u001B[0m     \u001B[38;5;66;03m# Otherwise index.get_value will raise InvalidIndexError\u001B[39;00m\n\u001B[0;32m    962\u001B[0m     \u001B[38;5;28;01mtry\u001B[39;00m:\n\u001B[0;32m    963\u001B[0m         \u001B[38;5;66;03m# For labels that don't resolve as scalars like tuples and frozensets\u001B[39;00m\n",
      "File \u001B[1;32m~\\Anaconda3\\lib\\site-packages\\pandas\\core\\series.py:1069\u001B[0m, in \u001B[0;36mSeries._get_value\u001B[1;34m(self, label, takeable)\u001B[0m\n\u001B[0;32m   1066\u001B[0m     \u001B[38;5;28;01mreturn\u001B[39;00m \u001B[38;5;28mself\u001B[39m\u001B[38;5;241m.\u001B[39m_values[label]\n\u001B[0;32m   1068\u001B[0m \u001B[38;5;66;03m# Similar to Index.get_value, but we do not fall back to positional\u001B[39;00m\n\u001B[1;32m-> 1069\u001B[0m loc \u001B[38;5;241m=\u001B[39m \u001B[38;5;28;43mself\u001B[39;49m\u001B[38;5;241;43m.\u001B[39;49m\u001B[43mindex\u001B[49m\u001B[38;5;241;43m.\u001B[39;49m\u001B[43mget_loc\u001B[49m\u001B[43m(\u001B[49m\u001B[43mlabel\u001B[49m\u001B[43m)\u001B[49m\n\u001B[0;32m   1070\u001B[0m \u001B[38;5;28;01mreturn\u001B[39;00m \u001B[38;5;28mself\u001B[39m\u001B[38;5;241m.\u001B[39mindex\u001B[38;5;241m.\u001B[39m_get_values_for_loc(\u001B[38;5;28mself\u001B[39m, loc, label)\n",
      "File \u001B[1;32m~\\Anaconda3\\lib\\site-packages\\pandas\\core\\indexes\\base.py:3623\u001B[0m, in \u001B[0;36mIndex.get_loc\u001B[1;34m(self, key, method, tolerance)\u001B[0m\n\u001B[0;32m   3621\u001B[0m     \u001B[38;5;28;01mreturn\u001B[39;00m \u001B[38;5;28mself\u001B[39m\u001B[38;5;241m.\u001B[39m_engine\u001B[38;5;241m.\u001B[39mget_loc(casted_key)\n\u001B[0;32m   3622\u001B[0m \u001B[38;5;28;01mexcept\u001B[39;00m \u001B[38;5;167;01mKeyError\u001B[39;00m \u001B[38;5;28;01mas\u001B[39;00m err:\n\u001B[1;32m-> 3623\u001B[0m     \u001B[38;5;28;01mraise\u001B[39;00m \u001B[38;5;167;01mKeyError\u001B[39;00m(key) \u001B[38;5;28;01mfrom\u001B[39;00m \u001B[38;5;21;01merr\u001B[39;00m\n\u001B[0;32m   3624\u001B[0m \u001B[38;5;28;01mexcept\u001B[39;00m \u001B[38;5;167;01mTypeError\u001B[39;00m:\n\u001B[0;32m   3625\u001B[0m     \u001B[38;5;66;03m# If we have a listlike key, _check_indexing_error will raise\u001B[39;00m\n\u001B[0;32m   3626\u001B[0m     \u001B[38;5;66;03m#  InvalidIndexError. Otherwise we fall through and re-raise\u001B[39;00m\n\u001B[0;32m   3627\u001B[0m     \u001B[38;5;66;03m#  the TypeError.\u001B[39;00m\n\u001B[0;32m   3628\u001B[0m     \u001B[38;5;28mself\u001B[39m\u001B[38;5;241m.\u001B[39m_check_indexing_error(key)\n",
      "\u001B[1;31mKeyError\u001B[0m: 'GHG'"
     ]
    }
   ],
   "source": [
    "df_emi_split_final_min = df_emi_split_final.apply(lambda x: set_val(x), axis=1)"
   ],
   "metadata": {
    "collapsed": false,
    "ExecuteTime": {
     "end_time": "2023-09-18T13:38:26.714015100Z",
     "start_time": "2023-09-18T13:38:26.416722600Z"
    }
   }
  },
  {
   "cell_type": "code",
   "execution_count": 20,
   "outputs": [
    {
     "data": {
      "text/plain": "                     emission    value     unit  GHGscen  value_min  \\\nnode    year BIOscen                                                  \nR12_CHN 2030 BIO00        TCE  370.205  Mt C/yr        0    276.073   \n             BIO00        TCE  359.754  Mt C/yr       10    276.073   \n             BIO00        TCE  359.133  Mt C/yr       20    276.073   \n             BIO00        TCE  356.055  Mt C/yr       50    276.073   \n             BIO00        TCE  352.996  Mt C/yr      100    276.073   \n...                       ...      ...      ...      ...        ...   \nR12_WEU 2110 BIO25        TCE   92.979  Mt C/yr     3000     92.979   \n             BIO25        TCE  146.292  Mt C/yr      400     92.979   \n             BIO25        TCE   92.979  Mt C/yr     4000     92.979   \n             BIO25        TCE  137.590  Mt C/yr      600     92.979   \n             BIO25        TCE  114.979  Mt C/yr      990     92.979   \n\n                      GHGscen_min  \nnode    year BIOscen               \nR12_CHN 2030 BIO00           3000  \n             BIO00           3000  \n             BIO00           3000  \n             BIO00           3000  \n             BIO00           3000  \n...                           ...  \nR12_WEU 2110 BIO25           3000  \n             BIO25           3000  \n             BIO25           3000  \n             BIO25           3000  \n             BIO25           3000  \n\n[2832 rows x 6 columns]",
      "text/html": "<div>\n<style scoped>\n    .dataframe tbody tr th:only-of-type {\n        vertical-align: middle;\n    }\n\n    .dataframe tbody tr th {\n        vertical-align: top;\n    }\n\n    .dataframe thead th {\n        text-align: right;\n    }\n</style>\n<table border=\"1\" class=\"dataframe\">\n  <thead>\n    <tr style=\"text-align: right;\">\n      <th></th>\n      <th></th>\n      <th></th>\n      <th>emission</th>\n      <th>value</th>\n      <th>unit</th>\n      <th>GHGscen</th>\n      <th>value_min</th>\n      <th>GHGscen_min</th>\n    </tr>\n    <tr>\n      <th>node</th>\n      <th>year</th>\n      <th>BIOscen</th>\n      <th></th>\n      <th></th>\n      <th></th>\n      <th></th>\n      <th></th>\n      <th></th>\n    </tr>\n  </thead>\n  <tbody>\n    <tr>\n      <th rowspan=\"5\" valign=\"top\">R12_CHN</th>\n      <th rowspan=\"5\" valign=\"top\">2030</th>\n      <th>BIO00</th>\n      <td>TCE</td>\n      <td>370.205</td>\n      <td>Mt C/yr</td>\n      <td>0</td>\n      <td>276.073</td>\n      <td>3000</td>\n    </tr>\n    <tr>\n      <th>BIO00</th>\n      <td>TCE</td>\n      <td>359.754</td>\n      <td>Mt C/yr</td>\n      <td>10</td>\n      <td>276.073</td>\n      <td>3000</td>\n    </tr>\n    <tr>\n      <th>BIO00</th>\n      <td>TCE</td>\n      <td>359.133</td>\n      <td>Mt C/yr</td>\n      <td>20</td>\n      <td>276.073</td>\n      <td>3000</td>\n    </tr>\n    <tr>\n      <th>BIO00</th>\n      <td>TCE</td>\n      <td>356.055</td>\n      <td>Mt C/yr</td>\n      <td>50</td>\n      <td>276.073</td>\n      <td>3000</td>\n    </tr>\n    <tr>\n      <th>BIO00</th>\n      <td>TCE</td>\n      <td>352.996</td>\n      <td>Mt C/yr</td>\n      <td>100</td>\n      <td>276.073</td>\n      <td>3000</td>\n    </tr>\n    <tr>\n      <th>...</th>\n      <th>...</th>\n      <th>...</th>\n      <td>...</td>\n      <td>...</td>\n      <td>...</td>\n      <td>...</td>\n      <td>...</td>\n      <td>...</td>\n    </tr>\n    <tr>\n      <th rowspan=\"5\" valign=\"top\">R12_WEU</th>\n      <th rowspan=\"5\" valign=\"top\">2110</th>\n      <th>BIO25</th>\n      <td>TCE</td>\n      <td>92.979</td>\n      <td>Mt C/yr</td>\n      <td>3000</td>\n      <td>92.979</td>\n      <td>3000</td>\n    </tr>\n    <tr>\n      <th>BIO25</th>\n      <td>TCE</td>\n      <td>146.292</td>\n      <td>Mt C/yr</td>\n      <td>400</td>\n      <td>92.979</td>\n      <td>3000</td>\n    </tr>\n    <tr>\n      <th>BIO25</th>\n      <td>TCE</td>\n      <td>92.979</td>\n      <td>Mt C/yr</td>\n      <td>4000</td>\n      <td>92.979</td>\n      <td>3000</td>\n    </tr>\n    <tr>\n      <th>BIO25</th>\n      <td>TCE</td>\n      <td>137.590</td>\n      <td>Mt C/yr</td>\n      <td>600</td>\n      <td>92.979</td>\n      <td>3000</td>\n    </tr>\n    <tr>\n      <th>BIO25</th>\n      <td>TCE</td>\n      <td>114.979</td>\n      <td>Mt C/yr</td>\n      <td>990</td>\n      <td>92.979</td>\n      <td>3000</td>\n    </tr>\n  </tbody>\n</table>\n<p>2832 rows × 6 columns</p>\n</div>"
     },
     "execution_count": 20,
     "metadata": {},
     "output_type": "execute_result"
    }
   ],
   "source": [
    "df_emi_split_final_min[df_emi_split_final_min[\"GHGscen_min\"]!=4000]"
   ],
   "metadata": {
    "collapsed": false,
    "ExecuteTime": {
     "end_time": "2023-09-18T12:45:21.805484800Z",
     "start_time": "2023-09-18T12:45:21.616944900Z"
    }
   }
  },
  {
   "cell_type": "code",
   "execution_count": 67,
   "outputs": [],
   "source": [
    "df_emi_split = df_emi_split.reset_index().set_index([\"node\", \"year\", \"BIOscen\", \"GHGscen\"]).sort_index()"
   ],
   "metadata": {
    "collapsed": false,
    "ExecuteTime": {
     "end_time": "2023-09-18T12:08:41.007587100Z",
     "start_time": "2023-09-18T12:08:40.886337600Z"
    }
   }
  },
  {
   "cell_type": "code",
   "execution_count": 58,
   "outputs": [
    {
     "data": {
      "text/plain": "         node land_scenario  year     value unit\n8064  R12_AFR   BIO00GHG000  2030    131.20  USD\n8065  R12_AFR   BIO00GHG010  2030   1111.61  USD\n8066  R12_AFR   BIO00GHG020  2030   1426.91  USD\n8067  R12_AFR   BIO00GHG050  2030   2918.26  USD\n8068  R12_AFR   BIO00GHG100  2030   4789.62  USD\n...       ...           ...   ...       ...  ...\n9067  R12_WEU  BIO45GHG3000  2030  39074.74  USD\n9068  R12_WEU   BIO45GHG400  2030  28098.57  USD\n9069  R12_WEU  BIO45GHG4000  2030  37804.04  USD\n9070  R12_WEU   BIO45GHG600  2030  28762.85  USD\n9071  R12_WEU   BIO45GHG990  2030  34236.04  USD\n\n[1008 rows x 5 columns]",
      "text/html": "<div>\n<style scoped>\n    .dataframe tbody tr th:only-of-type {\n        vertical-align: middle;\n    }\n\n    .dataframe tbody tr th {\n        vertical-align: top;\n    }\n\n    .dataframe thead th {\n        text-align: right;\n    }\n</style>\n<table border=\"1\" class=\"dataframe\">\n  <thead>\n    <tr style=\"text-align: right;\">\n      <th></th>\n      <th>node</th>\n      <th>land_scenario</th>\n      <th>year</th>\n      <th>value</th>\n      <th>unit</th>\n    </tr>\n  </thead>\n  <tbody>\n    <tr>\n      <th>8064</th>\n      <td>R12_AFR</td>\n      <td>BIO00GHG000</td>\n      <td>2030</td>\n      <td>131.20</td>\n      <td>USD</td>\n    </tr>\n    <tr>\n      <th>8065</th>\n      <td>R12_AFR</td>\n      <td>BIO00GHG010</td>\n      <td>2030</td>\n      <td>1111.61</td>\n      <td>USD</td>\n    </tr>\n    <tr>\n      <th>8066</th>\n      <td>R12_AFR</td>\n      <td>BIO00GHG020</td>\n      <td>2030</td>\n      <td>1426.91</td>\n      <td>USD</td>\n    </tr>\n    <tr>\n      <th>8067</th>\n      <td>R12_AFR</td>\n      <td>BIO00GHG050</td>\n      <td>2030</td>\n      <td>2918.26</td>\n      <td>USD</td>\n    </tr>\n    <tr>\n      <th>8068</th>\n      <td>R12_AFR</td>\n      <td>BIO00GHG100</td>\n      <td>2030</td>\n      <td>4789.62</td>\n      <td>USD</td>\n    </tr>\n    <tr>\n      <th>...</th>\n      <td>...</td>\n      <td>...</td>\n      <td>...</td>\n      <td>...</td>\n      <td>...</td>\n    </tr>\n    <tr>\n      <th>9067</th>\n      <td>R12_WEU</td>\n      <td>BIO45GHG3000</td>\n      <td>2030</td>\n      <td>39074.74</td>\n      <td>USD</td>\n    </tr>\n    <tr>\n      <th>9068</th>\n      <td>R12_WEU</td>\n      <td>BIO45GHG400</td>\n      <td>2030</td>\n      <td>28098.57</td>\n      <td>USD</td>\n    </tr>\n    <tr>\n      <th>9069</th>\n      <td>R12_WEU</td>\n      <td>BIO45GHG4000</td>\n      <td>2030</td>\n      <td>37804.04</td>\n      <td>USD</td>\n    </tr>\n    <tr>\n      <th>9070</th>\n      <td>R12_WEU</td>\n      <td>BIO45GHG600</td>\n      <td>2030</td>\n      <td>28762.85</td>\n      <td>USD</td>\n    </tr>\n    <tr>\n      <th>9071</th>\n      <td>R12_WEU</td>\n      <td>BIO45GHG990</td>\n      <td>2030</td>\n      <td>34236.04</td>\n      <td>USD</td>\n    </tr>\n  </tbody>\n</table>\n<p>1008 rows × 5 columns</p>\n</div>"
     },
     "execution_count": 58,
     "metadata": {},
     "output_type": "execute_result"
    }
   ],
   "source": [
    "df_cost[df_cost[\"year\"] == 2030]"
   ],
   "metadata": {
    "collapsed": false,
    "ExecuteTime": {
     "end_time": "2023-09-18T12:04:53.176338500Z",
     "start_time": "2023-09-18T12:04:52.910680700Z"
    }
   }
  },
  {
   "cell_type": "code",
   "execution_count": 19,
   "outputs": [],
   "source": [
    "df_cost_split = df_cost.join(df_cost[\"land_scenario\"].str.split(\"GHG\", expand=True)).drop(\"land_scenario\", axis=1)\n",
    "df_cost_split = df_cost_split.rename({0: \"BIOscen\", 1: \"GHGscen\"}, axis=1)\n",
    "df_cost_split[\"year\"] = df_cost_split[\"year\"].astype(int)\n",
    "df_cost_split[\"GHGscen\"] = df_cost_split[\"GHGscen\"].astype(int)"
   ],
   "metadata": {
    "collapsed": false,
    "ExecuteTime": {
     "end_time": "2023-09-18T10:48:13.331126500Z",
     "start_time": "2023-09-18T10:48:13.154426500Z"
    }
   }
  },
  {
   "cell_type": "code",
   "execution_count": 25,
   "outputs": [],
   "source": [
    "df_cost_split = df_cost_split.set_index([\"node\", \"year\", \"BIOscen\", \"GHGscen\"]).sort_index().drop(\"unit\", axis=1)#.diff()"
   ],
   "metadata": {
    "collapsed": false,
    "ExecuteTime": {
     "end_time": "2023-09-18T10:49:27.788734900Z",
     "start_time": "2023-09-18T10:49:27.623550500Z"
    }
   }
  },
  {
   "cell_type": "code",
   "execution_count": 29,
   "outputs": [
    {
     "data": {
      "text/plain": "                                  value\nnode    year BIOscen GHGscen           \nR12_AFR 2030 BIO00   400       -1327.67\n                     2000     -22741.68\n             BIO05   400        6732.67\n                     2000     -14678.76\n             BIO07   400       10035.83\n...                                 ...\nR12_WEU 2110 BIO15   100      190049.36\n                     4000     442089.01\n             BIO25   50       297005.83\n                     4000     551895.39\n             BIO45   50       541116.47\n\n[1122 rows x 1 columns]",
      "text/html": "<div>\n<style scoped>\n    .dataframe tbody tr th:only-of-type {\n        vertical-align: middle;\n    }\n\n    .dataframe tbody tr th {\n        vertical-align: top;\n    }\n\n    .dataframe thead th {\n        text-align: right;\n    }\n</style>\n<table border=\"1\" class=\"dataframe\">\n  <thead>\n    <tr style=\"text-align: right;\">\n      <th></th>\n      <th></th>\n      <th></th>\n      <th></th>\n      <th>value</th>\n    </tr>\n    <tr>\n      <th>node</th>\n      <th>year</th>\n      <th>BIOscen</th>\n      <th>GHGscen</th>\n      <th></th>\n    </tr>\n  </thead>\n  <tbody>\n    <tr>\n      <th rowspan=\"5\" valign=\"top\">R12_AFR</th>\n      <th rowspan=\"5\" valign=\"top\">2030</th>\n      <th rowspan=\"2\" valign=\"top\">BIO00</th>\n      <th>400</th>\n      <td>-1327.67</td>\n    </tr>\n    <tr>\n      <th>2000</th>\n      <td>-22741.68</td>\n    </tr>\n    <tr>\n      <th rowspan=\"2\" valign=\"top\">BIO05</th>\n      <th>400</th>\n      <td>6732.67</td>\n    </tr>\n    <tr>\n      <th>2000</th>\n      <td>-14678.76</td>\n    </tr>\n    <tr>\n      <th>BIO07</th>\n      <th>400</th>\n      <td>10035.83</td>\n    </tr>\n    <tr>\n      <th>...</th>\n      <th>...</th>\n      <th>...</th>\n      <th>...</th>\n      <td>...</td>\n    </tr>\n    <tr>\n      <th rowspan=\"5\" valign=\"top\">R12_WEU</th>\n      <th rowspan=\"5\" valign=\"top\">2110</th>\n      <th rowspan=\"2\" valign=\"top\">BIO15</th>\n      <th>100</th>\n      <td>190049.36</td>\n    </tr>\n    <tr>\n      <th>4000</th>\n      <td>442089.01</td>\n    </tr>\n    <tr>\n      <th rowspan=\"2\" valign=\"top\">BIO25</th>\n      <th>50</th>\n      <td>297005.83</td>\n    </tr>\n    <tr>\n      <th>4000</th>\n      <td>551895.39</td>\n    </tr>\n    <tr>\n      <th>BIO45</th>\n      <th>50</th>\n      <td>541116.47</td>\n    </tr>\n  </tbody>\n</table>\n<p>1122 rows × 1 columns</p>\n</div>"
     },
     "execution_count": 29,
     "metadata": {},
     "output_type": "execute_result"
    }
   ],
   "source": [
    "df_cost_split[(df_cost_split.diff().value < 0) & (df_cost_split.index.get_level_values(3) != 0)]"
   ],
   "metadata": {
    "collapsed": false,
    "ExecuteTime": {
     "end_time": "2023-09-18T10:50:54.654657800Z",
     "start_time": "2023-09-18T10:50:54.514383Z"
    }
   }
  },
  {
   "cell_type": "code",
   "execution_count": null,
   "outputs": [],
   "source": [
    "sc_clone.solve(model=\"MESSAGE-MACRO\")"
   ],
   "metadata": {
    "collapsed": false,
    "ExecuteTime": {
     "start_time": "2023-09-12T11:59:37.621512400Z"
    }
   }
  },
  {
   "cell_type": "code",
   "execution_count": 6,
   "outputs": [],
   "source": [
    "import message_data.tools.utilities"
   ],
   "metadata": {
    "collapsed": false,
    "ExecuteTime": {
     "end_time": "2023-09-13T15:36:09.534732900Z",
     "start_time": "2023-09-13T15:36:09.519035Z"
    }
   }
  },
  {
   "cell_type": "code",
   "execution_count": 10,
   "outputs": [
    {
     "name": "stdout",
     "output_type": "stream",
     "text": [
      "processing Table: Resource|Extraction\n",
      "processing Table: Resource|Cumulative Extraction\n",
      "processing Table: Primary Energy\n",
      "processing Table: Primary Energy (substitution method)\n",
      "processing Table: Final Energy\n",
      "processing Table: Secondary Energy|Electricity\n",
      "processing Table: Secondary Energy|Heat\n",
      "processing Table: Secondary Energy\n",
      "processing Table: Secondary Energy|Gases\n",
      "processing Table: Secondary Energy|Solids\n",
      "processing Table: Emissions|CO2\n",
      "processing Table: Carbon Sequestration\n",
      "processing Table: Emissions|BC\n",
      "processing Table: Emissions|OC\n",
      "processing Table: Emissions|CO\n",
      "processing Table: Emissions|N2O\n",
      "processing Table: Emissions|CH4\n",
      "processing Table: Emissions|NH3\n",
      "processing Table: Emissions|Sulfur\n",
      "processing Table: Emissions|NOx\n",
      "processing Table: Emissions|VOC\n",
      "processing Table: Emissions|HFC\n",
      "processing Table: Emissions\n",
      "processing Table: Emissions\n",
      "processing Table: Agricultural Demand\n",
      "processing Table: Agricultural Production\n",
      "processing Table: Fertilizer Use\n",
      "processing Table: Fertilizer\n",
      "processing Table: Food Waste\n",
      "processing Table: Food Demand\n",
      "processing Table: Forestry Demand\n",
      "processing Table: Forestry Production\n",
      "processing Table: Land Cover\n",
      "processing Table: Yield\n",
      "processing Table: Capacity\n",
      "processing Table: Capacity Additions\n",
      "processing Table: Cumulative Capacity\n",
      "processing Table: Capital Cost\n",
      "processing Table: OM Cost|Fixed\n",
      "processing Table: OM Cost|Variable\n",
      "processing Table: Lifetime\n",
      "processing Table: Efficiency\n",
      "processing Table: Population\n",
      "processing Table: Price\n",
      "processing Table: Useful Energy\n",
      "processing Table: Useful Energy\n",
      "processing Table: Trade\n",
      "processing Table: Investment|Energy Supply\n",
      "processing Table: Water Consumption\n",
      "processing Table: Water Withdrawal\n",
      "processing Table: GDP\n",
      "processing Table: Cost\n",
      "processing Table: GLOBIOM Feedback\n",
      "no emissions included\n",
      "no emissions included\n",
      "no emissions included\n",
      "no emissions included\n",
      "no emissions included\n",
      "no emissions included\n",
      "no emissions included\n",
      "no emissions included\n",
      "no emissions included\n",
      "no emissions included\n",
      "no emissions included\n",
      "no emissions included\n",
      "no emissions included\n",
      "no emissions included\n",
      "no emissions included\n",
      "no emissions included\n",
      "no emissions included\n",
      "no emissions included\n",
      "no emissions included\n",
      "no emissions included\n",
      "no emissions included\n",
      "no emissions included\n",
      "no emissions included\n",
      "no emissions included\n",
      "no emissions included\n",
      "no emissions included\n",
      "no emissions included\n",
      "no emissions included\n",
      "no emissions included\n",
      "no emissions included\n",
      "no emissions included\n",
      "no emissions included\n",
      "no emissions included\n",
      "no emissions included\n",
      "no emissions included\n",
      "no emissions included\n",
      "no emissions included\n",
      "no emissions included\n",
      "no emissions included\n",
      "no emissions included\n",
      "no emissions included\n",
      "no emissions included\n",
      "Starting to upload timeseries\n",
      "    region                                variable   unit       2020  \\\n",
      "0  R12_AFR                     Resource|Extraction  EJ/yr  22.425189   \n",
      "1  R12_AFR                Resource|Extraction|Coal  EJ/yr   7.762483   \n",
      "2  R12_AFR                 Resource|Extraction|Gas  EJ/yr   4.243681   \n",
      "3  R12_AFR    Resource|Extraction|Gas|Conventional  EJ/yr   4.243681   \n",
      "4  R12_AFR  Resource|Extraction|Gas|Unconventional  EJ/yr   0.000000   \n",
      "\n",
      "        2025       2030       2035       2040       2045       2050  \\\n",
      "0  25.994892  29.432686  32.148193  36.073644  39.695341  42.961276   \n",
      "1   9.690720  11.680136  13.889250  16.118193  18.702148  21.697660   \n",
      "2   6.834491   8.212897   9.515340   9.853557  11.543875  11.805179   \n",
      "3   6.834491   8.212897   9.515340   9.853557  11.543875  11.805179   \n",
      "4   0.000000   0.000000   0.000000   0.000000   0.000000   0.000000   \n",
      "\n",
      "        2055       2060       2070       2080       2090       2100       2110  \n",
      "0  47.483945  56.304720  67.500799  75.436121  83.513448  72.080130  38.622405  \n",
      "1  25.170280  29.195998  39.273137  45.796136  52.383412  49.979985  17.393034  \n",
      "2  13.330084  15.774029  18.048166  22.433829  20.245962  14.901028  10.967157  \n",
      "3  13.330084  15.774029  18.048166  11.505394   1.328787   0.977987   0.719799  \n",
      "4   0.000000   0.000000   0.000000  10.928435  18.917174  13.923040  10.247358  \n",
      "Finished uploading timeseries\n"
     ]
    }
   ],
   "source": [
    "# report baseline\n",
    "from message_data.tools.post_processing.iamc_report_hackathon import report as reporting\n",
    "reporting(\n",
    "    mp,\n",
    "    scen,\n",
    "    # NB(PNK) this is not an error; .iamc_report_hackathon.report() expects a\n",
    "    #         string containing \"True\" or \"False\" instead of an actual bool.\n",
    "    \"False\",\n",
    "    scen.model,\n",
    "    scen.scenario,\n",
    "    merge_hist=True,\n",
    "    merge_ts=True,\n",
    "    #run_config=\"materials_run_config.yaml\",\n",
    ")"
   ],
   "metadata": {
    "collapsed": false,
    "ExecuteTime": {
     "start_time": "2023-09-20T11:41:19.658236900Z"
    }
   }
  },
  {
   "cell_type": "code",
   "execution_count": 11,
   "outputs": [
    {
     "data": {
      "text/plain": "<module 'message_data.tools.utilities' from 'C:\\\\Users\\\\maczek\\\\PycharmProjects\\\\message_data\\\\message_data\\\\tools\\\\utilities\\\\__init__.py'>"
     },
     "execution_count": 11,
     "metadata": {},
     "output_type": "execute_result"
    }
   ],
   "source": [
    "import importlib\n",
    "importlib.reload(message_data.tools.utilities)"
   ],
   "metadata": {
    "collapsed": false,
    "ExecuteTime": {
     "end_time": "2023-09-13T15:21:15.534349300Z",
     "start_time": "2023-09-13T15:21:15.487434500Z"
    }
   }
  },
  {
   "cell_type": "code",
   "execution_count": 6,
   "outputs": [
    {
     "name": "stdout",
     "output_type": "stream",
     "text": [
      "Starting to process data input from csv file.\n",
      "Agricultural Demand\n",
      "Agricultural Demand|Energy\n",
      "Agricultural Demand|Energy|Crops\n",
      "Agricultural Demand|Energy|Crops|1st generation\n",
      "Agricultural Demand|Energy|Crops|2nd generation\n",
      "Agricultural Demand|Non-Energy\n",
      "Agricultural Demand|Non-Energy|Crops\n",
      "Agricultural Demand|Non-Energy|Crops|Feed\n",
      "Agricultural Demand|Non-Energy|Crops|Food\n",
      "Agricultural Demand|Non-Energy|Crops|Other\n",
      "Agricultural Demand|Non-Energy|Crops|Other|Waste\n",
      "Agricultural Demand|Non-Energy|Livestock\n",
      "Agricultural Demand|Non-Energy|Livestock|Food\n",
      "Agricultural Demand|Non-Energy|Livestock|Other\n",
      "Agricultural Demand|Non-Energy|Livestock|Other|Waste\n",
      "Agricultural Production\n",
      "Agricultural Production|Energy\n",
      "Agricultural Production|Energy|Crops\n",
      "Agricultural Production|Energy|Crops|1st generation\n",
      "Agricultural Production|Energy|Crops|2nd generation\n",
      "Agricultural Production|Non-Energy\n",
      "Agricultural Production|Non-Energy|Crops\n",
      "Agricultural Production|Non-Energy|Crops|Cereals\n",
      "Agricultural Production|Non-Energy|Livestock\n",
      "BCA_LandUseChangeEM\n",
      "BCA_SavanBurnEM\n",
      "Biodiversity|BII\n",
      "Biodiversity|BII|Biodiversity hotspots\n",
      "CH4_LandUseChangeEM\n",
      "CH4_SavanBurnEM\n",
      "CO_LandUseChangeEM\n",
      "CO_SavanBurnEM\n",
      "Costs|TC\n",
      "CrpLnd\n",
      "Emissions|CH4|AFOLU\n",
      "Emissions|CH4|AFOLU|Agriculture\n",
      "Emissions|CH4|AFOLU|Agriculture|Livestock\n",
      "Emissions|CH4|AFOLU|Agriculture|Livestock|Enteric Fermentation\n",
      "Emissions|CH4|AFOLU|Agriculture|Livestock|Manure Management\n",
      "Emissions|CH4|AFOLU|Agriculture|Rice\n",
      "Emissions|CH4|AFOLU|Biomass Burning\n",
      "Emissions|CH4|AFOLU|Land\n",
      "Emissions|CH4|AFOLU|Land|Grassland Burning\n",
      "Emissions|CO2|AFOLU\n",
      "Emissions|CO2|AFOLU|Afforestation\n",
      "Emissions|CO2|AFOLU|Agriculture\n",
      "Emissions|CO2|AFOLU|Deforestation\n",
      "Emissions|CO2|AFOLU|Forest Management\n",
      "Emissions|CO2|AFOLU|Negative\n",
      "Emissions|CO2|AFOLU|Other LUC\n",
      "Emissions|CO2|AFOLU|Positive\n",
      "Emissions|CO2|AFOLU|Soil Carbon\n",
      "Emissions|GHG|AFOLU\n",
      "Emissions|N2O|AFOLU\n",
      "Emissions|N2O|AFOLU|Agriculture\n",
      "Emissions|N2O|AFOLU|Agriculture|Livestock\n",
      "Emissions|N2O|AFOLU|Agriculture|Livestock|Manure Management\n",
      "Emissions|N2O|AFOLU|Agriculture|Managed Soils\n",
      "Emissions|N2O|AFOLU|Biomass Burning\n",
      "Emissions|N2O|AFOLU|Land\n",
      "Emissions|N2O|AFOLU|Land|Grassland Burning\n",
      "Emissions|N2O|AFOLU|Land|Grassland Pastures\n",
      "Fertilizer Use|Nitrogen\n",
      "Fertilizer Use|Phosphorus\n",
      "Fertilizer|Nitrogen|Intensity\n",
      "Fertilizer|Phosphorus|Intensity\n",
      "Food Demand\n",
      "Food Demand|Crops\n",
      "Food Demand|Livestock\n",
      "Food Demand|Microbial protein\n",
      "Forestry Demand|Roundwood\n",
      "Forestry Demand|Roundwood|Industrial Roundwood\n",
      "Forestry Demand|Roundwood|Wood Fuel\n",
      "Forestry Production|Forest Residues\n",
      "Forestry Production|Roundwood\n",
      "Forestry Production|Roundwood|Industrial Roundwood\n",
      "Forestry Production|Roundwood|Wood Fuel\n",
      "GrassLnd\n",
      "LU_CH4\n",
      "LU_CH4_Agri\n",
      "LU_CH4_BioBurn\n",
      "LU_CO2\n",
      "LU_GHG\n",
      "LU_N2O\n",
      "Land Cover\n",
      "Land Cover|Cropland\n",
      "Land Cover|Cropland|Cereals\n",
      "Land Cover|Cropland|Energy Crops\n",
      "Land Cover|Cropland|Irrigated\n",
      "Land Cover|Cropland|Non-Energy Crops\n",
      "Land Cover|Cropland|Oilcrops\n",
      "Land Cover|Cropland|Sugarcrops\n",
      "Land Cover|Forest\n",
      "Land Cover|Forest|Afforestation and Reforestation\n",
      "Land Cover|Forest|Forest old\n",
      "Land Cover|Forest|Forest old|Other forest\n",
      "Land Cover|Forest|Forest old|Primary forest\n",
      "Land Cover|Forest|Forestry\n",
      "Land Cover|Forest|Managed\n",
      "Land Cover|Forest|Natural Forest\n",
      "Land Cover|Other Land\n",
      "Land Cover|Pasture\n",
      "Land Cover|Protected\n",
      "Landuse intensity indicator Tau\n",
      "NH3_LandUseChangeEM\n",
      "NH3_ManureEM\n",
      "NH3_RiceEM\n",
      "NH3_SavanBurnEM\n",
      "NH3_SoilEM\n",
      "NOx_LandUseChangeEM\n",
      "NOx_SavanBurnEM\n",
      "NOx_SoilEM\n",
      "NewForLnd\n",
      "OCA_LandUseChangeEM\n",
      "OCA_SavanBurnEM\n",
      "OldForLnd_Prim\n",
      "OldForLnd_SndPlant\n",
      "OtherLnd\n",
      "Population\n",
      "Population|Risk of Hunger\n",
      "Price|Agriculture|Non-Energy Crops and Livestock|Index\n",
      "Price|Agriculture|Non-Energy Crops|Index\n",
      "Price|Carbon|CH4\n",
      "Price|Carbon|CO2\n",
      "Price|Carbon|N2O\n",
      "Price|Water\n",
      "Primary Energy|Biomass\n",
      "Primary Energy|Biomass|1st Generation\n",
      "Primary Energy|Biomass|1st Generation|Biodiesel\n",
      "Primary Energy|Biomass|1st Generation|Bioethanol\n",
      "Primary Energy|Biomass|Energy Crops\n",
      "Primary Energy|Biomass|Fuelwood\n",
      "Primary Energy|Biomass|Other\n",
      "Primary Energy|Biomass|Residues\n",
      "Primary Energy|Biomass|Residues|Forest industry\n",
      "Primary Energy|Biomass|Residues|Logging\n",
      "Primary Energy|Biomass|Roundwood harvest\n",
      "SO2_LandUseChangeEM\n",
      "SO2_SavanBurnEM\n",
      "TCE\n",
      "TotalLnd\n",
      "VOC_LandUseChangeEM\n",
      "VOC_SavanBurnEM\n",
      "Water|Withdrawal|Irrigation\n",
      "Water|Withdrawal|Irrigation|Cereals\n",
      "Water|Withdrawal|Irrigation|Oilcrops\n",
      "Water|Withdrawal|Irrigation|Sugarcrops\n",
      "Yield|Cereals\n",
      "Yield|Energy Crops\n",
      "Yield|Non-Energy Crops\n",
      "Yield|Oilcrops\n",
      "Yield|Sugarcrops\n",
      "bioenergy\n",
      "total_cost\n",
      "Price|Primary Energy|Biomass\n"
     ]
    },
    {
     "data": {
      "text/plain": "<message_data.tools.utilities.add_globiom.add_globiom at 0x1b233a64820>"
     },
     "execution_count": 6,
     "metadata": {},
     "output_type": "execute_result"
    }
   ],
   "source": [
    "message_data.tools.utilities.add_globiom(\n",
    "    mp,\n",
    "    sc_clone,\n",
    "    \"SSP2\",\n",
    "    private_data_path(),\n",
    "    2015,\n",
    "    globiom_scenario=\"noSDG_rcpref\",\n",
    "    regenerate_input_data=True,\n",
    "    #regenerate_input_data_only=True,\n",
    "    #allow_empty_drivers=True,\n",
    "    add_reporting_data=True,\n",
    "    config_file=\"magpie_config.yaml\",\n",
    "    config_setup=\"MAGPIE_MP00BI00_exp2110\")"
   ],
   "metadata": {
    "collapsed": false,
    "ExecuteTime": {
     "end_time": "2023-10-16T14:31:09.875880100Z",
     "start_time": "2023-10-16T14:20:00.060555200Z"
    }
   }
  },
  {
   "cell_type": "code",
   "execution_count": 14,
   "outputs": [
    {
     "data": {
      "text/plain": "            node land_scenario  year emission     value     unit\n532896   R12_AFR   BIO00GHG000  2100      TCE  1153.565  Mt C/yr\n532987   R12_CHN   BIO00GHG000  2100      TCE   211.385  Mt C/yr\n533078   R12_EEU   BIO00GHG000  2100      TCE    51.079  Mt C/yr\n533169   R12_FSU   BIO00GHG000  2100      TCE   108.907  Mt C/yr\n533260   R12_LAM   BIO00GHG000  2100      TCE   275.042  Mt C/yr\n533351   R12_MEA   BIO00GHG000  2100      TCE    76.391  Mt C/yr\n533442   R12_NAM   BIO00GHG000  2100      TCE   124.316  Mt C/yr\n533533   R12_PAO   BIO00GHG000  2100      TCE    72.617  Mt C/yr\n533624   R12_PAS   BIO00GHG000  2100      TCE   324.909  Mt C/yr\n533715  R12_RCPA   BIO00GHG000  2100      TCE    30.069  Mt C/yr\n533806   R12_SAS   BIO00GHG000  2100      TCE   582.181  Mt C/yr\n533897   R12_WEU   BIO00GHG000  2100      TCE   173.137  Mt C/yr\n561288   R12_AFR   BIO00GHG000  2110      TCE   986.762  Mt C/yr\n561379   R12_CHN   BIO00GHG000  2110      TCE   204.090  Mt C/yr\n561470   R12_EEU   BIO00GHG000  2110      TCE    51.117  Mt C/yr\n561561   R12_FSU   BIO00GHG000  2110      TCE   107.176  Mt C/yr\n561652   R12_LAM   BIO00GHG000  2110      TCE   214.274  Mt C/yr\n561743   R12_MEA   BIO00GHG000  2110      TCE    78.029  Mt C/yr\n561834   R12_NAM   BIO00GHG000  2110      TCE   124.822  Mt C/yr\n561925   R12_PAO   BIO00GHG000  2110      TCE    75.186  Mt C/yr\n562016   R12_PAS   BIO00GHG000  2110      TCE   307.080  Mt C/yr\n562107  R12_RCPA   BIO00GHG000  2110      TCE    29.367  Mt C/yr\n562198   R12_SAS   BIO00GHG000  2110      TCE   569.786  Mt C/yr\n562289   R12_WEU   BIO00GHG000  2110      TCE   176.483  Mt C/yr",
      "text/html": "<div>\n<style scoped>\n    .dataframe tbody tr th:only-of-type {\n        vertical-align: middle;\n    }\n\n    .dataframe tbody tr th {\n        vertical-align: top;\n    }\n\n    .dataframe thead th {\n        text-align: right;\n    }\n</style>\n<table border=\"1\" class=\"dataframe\">\n  <thead>\n    <tr style=\"text-align: right;\">\n      <th></th>\n      <th>node</th>\n      <th>land_scenario</th>\n      <th>year</th>\n      <th>emission</th>\n      <th>value</th>\n      <th>unit</th>\n    </tr>\n  </thead>\n  <tbody>\n    <tr>\n      <th>532896</th>\n      <td>R12_AFR</td>\n      <td>BIO00GHG000</td>\n      <td>2100</td>\n      <td>TCE</td>\n      <td>1153.565</td>\n      <td>Mt C/yr</td>\n    </tr>\n    <tr>\n      <th>532987</th>\n      <td>R12_CHN</td>\n      <td>BIO00GHG000</td>\n      <td>2100</td>\n      <td>TCE</td>\n      <td>211.385</td>\n      <td>Mt C/yr</td>\n    </tr>\n    <tr>\n      <th>533078</th>\n      <td>R12_EEU</td>\n      <td>BIO00GHG000</td>\n      <td>2100</td>\n      <td>TCE</td>\n      <td>51.079</td>\n      <td>Mt C/yr</td>\n    </tr>\n    <tr>\n      <th>533169</th>\n      <td>R12_FSU</td>\n      <td>BIO00GHG000</td>\n      <td>2100</td>\n      <td>TCE</td>\n      <td>108.907</td>\n      <td>Mt C/yr</td>\n    </tr>\n    <tr>\n      <th>533260</th>\n      <td>R12_LAM</td>\n      <td>BIO00GHG000</td>\n      <td>2100</td>\n      <td>TCE</td>\n      <td>275.042</td>\n      <td>Mt C/yr</td>\n    </tr>\n    <tr>\n      <th>533351</th>\n      <td>R12_MEA</td>\n      <td>BIO00GHG000</td>\n      <td>2100</td>\n      <td>TCE</td>\n      <td>76.391</td>\n      <td>Mt C/yr</td>\n    </tr>\n    <tr>\n      <th>533442</th>\n      <td>R12_NAM</td>\n      <td>BIO00GHG000</td>\n      <td>2100</td>\n      <td>TCE</td>\n      <td>124.316</td>\n      <td>Mt C/yr</td>\n    </tr>\n    <tr>\n      <th>533533</th>\n      <td>R12_PAO</td>\n      <td>BIO00GHG000</td>\n      <td>2100</td>\n      <td>TCE</td>\n      <td>72.617</td>\n      <td>Mt C/yr</td>\n    </tr>\n    <tr>\n      <th>533624</th>\n      <td>R12_PAS</td>\n      <td>BIO00GHG000</td>\n      <td>2100</td>\n      <td>TCE</td>\n      <td>324.909</td>\n      <td>Mt C/yr</td>\n    </tr>\n    <tr>\n      <th>533715</th>\n      <td>R12_RCPA</td>\n      <td>BIO00GHG000</td>\n      <td>2100</td>\n      <td>TCE</td>\n      <td>30.069</td>\n      <td>Mt C/yr</td>\n    </tr>\n    <tr>\n      <th>533806</th>\n      <td>R12_SAS</td>\n      <td>BIO00GHG000</td>\n      <td>2100</td>\n      <td>TCE</td>\n      <td>582.181</td>\n      <td>Mt C/yr</td>\n    </tr>\n    <tr>\n      <th>533897</th>\n      <td>R12_WEU</td>\n      <td>BIO00GHG000</td>\n      <td>2100</td>\n      <td>TCE</td>\n      <td>173.137</td>\n      <td>Mt C/yr</td>\n    </tr>\n    <tr>\n      <th>561288</th>\n      <td>R12_AFR</td>\n      <td>BIO00GHG000</td>\n      <td>2110</td>\n      <td>TCE</td>\n      <td>986.762</td>\n      <td>Mt C/yr</td>\n    </tr>\n    <tr>\n      <th>561379</th>\n      <td>R12_CHN</td>\n      <td>BIO00GHG000</td>\n      <td>2110</td>\n      <td>TCE</td>\n      <td>204.090</td>\n      <td>Mt C/yr</td>\n    </tr>\n    <tr>\n      <th>561470</th>\n      <td>R12_EEU</td>\n      <td>BIO00GHG000</td>\n      <td>2110</td>\n      <td>TCE</td>\n      <td>51.117</td>\n      <td>Mt C/yr</td>\n    </tr>\n    <tr>\n      <th>561561</th>\n      <td>R12_FSU</td>\n      <td>BIO00GHG000</td>\n      <td>2110</td>\n      <td>TCE</td>\n      <td>107.176</td>\n      <td>Mt C/yr</td>\n    </tr>\n    <tr>\n      <th>561652</th>\n      <td>R12_LAM</td>\n      <td>BIO00GHG000</td>\n      <td>2110</td>\n      <td>TCE</td>\n      <td>214.274</td>\n      <td>Mt C/yr</td>\n    </tr>\n    <tr>\n      <th>561743</th>\n      <td>R12_MEA</td>\n      <td>BIO00GHG000</td>\n      <td>2110</td>\n      <td>TCE</td>\n      <td>78.029</td>\n      <td>Mt C/yr</td>\n    </tr>\n    <tr>\n      <th>561834</th>\n      <td>R12_NAM</td>\n      <td>BIO00GHG000</td>\n      <td>2110</td>\n      <td>TCE</td>\n      <td>124.822</td>\n      <td>Mt C/yr</td>\n    </tr>\n    <tr>\n      <th>561925</th>\n      <td>R12_PAO</td>\n      <td>BIO00GHG000</td>\n      <td>2110</td>\n      <td>TCE</td>\n      <td>75.186</td>\n      <td>Mt C/yr</td>\n    </tr>\n    <tr>\n      <th>562016</th>\n      <td>R12_PAS</td>\n      <td>BIO00GHG000</td>\n      <td>2110</td>\n      <td>TCE</td>\n      <td>307.080</td>\n      <td>Mt C/yr</td>\n    </tr>\n    <tr>\n      <th>562107</th>\n      <td>R12_RCPA</td>\n      <td>BIO00GHG000</td>\n      <td>2110</td>\n      <td>TCE</td>\n      <td>29.367</td>\n      <td>Mt C/yr</td>\n    </tr>\n    <tr>\n      <th>562198</th>\n      <td>R12_SAS</td>\n      <td>BIO00GHG000</td>\n      <td>2110</td>\n      <td>TCE</td>\n      <td>569.786</td>\n      <td>Mt C/yr</td>\n    </tr>\n    <tr>\n      <th>562289</th>\n      <td>R12_WEU</td>\n      <td>BIO00GHG000</td>\n      <td>2110</td>\n      <td>TCE</td>\n      <td>176.483</td>\n      <td>Mt C/yr</td>\n    </tr>\n  </tbody>\n</table>\n</div>"
     },
     "execution_count": 14,
     "metadata": {},
     "output_type": "execute_result"
    }
   ],
   "source": [
    "sc_clone.par(\"land_emission\", filters={\"year\":[2100,2110], \"emission\":\"TCE\", \"land_scenario\":\"BIO00GHG000\"})"
   ],
   "metadata": {
    "collapsed": false,
    "ExecuteTime": {
     "end_time": "2023-10-16T14:51:01.363158200Z",
     "start_time": "2023-10-16T14:51:01.162574400Z"
    }
   }
  },
  {
   "cell_type": "code",
   "execution_count": 7,
   "outputs": [],
   "source": [
    "sc_clone.set_as_default()"
   ],
   "metadata": {
    "collapsed": false,
    "ExecuteTime": {
     "end_time": "2023-10-16T14:47:48.101224600Z",
     "start_time": "2023-10-16T14:47:48.022080100Z"
    }
   }
  },
  {
   "cell_type": "code",
   "execution_count": 9,
   "outputs": [
    {
     "data": {
      "text/plain": "'MESSAGEix-GLOBIOM 1.1-R12-MAGPIE-MP00BD1BI00'"
     },
     "execution_count": 9,
     "metadata": {},
     "output_type": "execute_result"
    }
   ],
   "source": [
    "sc_clone.model"
   ],
   "metadata": {
    "collapsed": false,
    "ExecuteTime": {
     "end_time": "2023-10-16T14:48:27.832391Z",
     "start_time": "2023-10-16T14:48:27.768777Z"
    }
   }
  },
  {
   "cell_type": "code",
   "execution_count": 10,
   "outputs": [
    {
     "data": {
      "text/plain": "'exp2110_matrix_test'"
     },
     "execution_count": 10,
     "metadata": {},
     "output_type": "execute_result"
    }
   ],
   "source": [
    "sc_clone.scenario"
   ],
   "metadata": {
    "collapsed": false,
    "ExecuteTime": {
     "end_time": "2023-10-16T14:48:43.500081500Z",
     "start_time": "2023-10-16T14:48:43.437548100Z"
    }
   }
  },
  {
   "cell_type": "code",
   "execution_count": 6,
   "outputs": [
    {
     "name": "stdout",
     "output_type": "stream",
     "text": [
      "Starting to process data input from csv file.\n"
     ]
    },
    {
     "name": "stderr",
     "output_type": "stream",
     "text": [
      "C:\\Users\\maczek\\PycharmProjects\\message_data\\message_data\\tools\\utilities\\add_globiom.py:481: SettingWithCopyWarning: \n",
      "A value is trying to be set on a copy of a slice from a DataFrame.\n",
      "Try using .loc[row_indexer,col_indexer] = value instead\n",
      "\n",
      "See the caveats in the documentation: https://pandas.pydata.org/pandas-docs/stable/user_guide/indexing.html#returning-a-view-versus-a-copy\n",
      "  tmp[tmp.columns[i]] = data.loc[reg][tmp.columns[i]]\n",
      "C:\\Users\\maczek\\PycharmProjects\\message_data\\message_data\\tools\\utilities\\add_globiom.py:483: SettingWithCopyWarning: \n",
      "A value is trying to be set on a copy of a slice from a DataFrame.\n",
      "Try using .loc[row_indexer,col_indexer] = value instead\n",
      "\n",
      "See the caveats in the documentation: https://pandas.pydata.org/pandas-docs/stable/user_guide/indexing.html#returning-a-view-versus-a-copy\n",
      "  tmp[tmp.columns[i]] = (\n",
      "C:\\Users\\maczek\\PycharmProjects\\message_data\\message_data\\tools\\utilities\\add_globiom.py:481: SettingWithCopyWarning: \n",
      "A value is trying to be set on a copy of a slice from a DataFrame.\n",
      "Try using .loc[row_indexer,col_indexer] = value instead\n",
      "\n",
      "See the caveats in the documentation: https://pandas.pydata.org/pandas-docs/stable/user_guide/indexing.html#returning-a-view-versus-a-copy\n",
      "  tmp[tmp.columns[i]] = data.loc[reg][tmp.columns[i]]\n",
      "C:\\Users\\maczek\\PycharmProjects\\message_data\\message_data\\tools\\utilities\\add_globiom.py:483: SettingWithCopyWarning: \n",
      "A value is trying to be set on a copy of a slice from a DataFrame.\n",
      "Try using .loc[row_indexer,col_indexer] = value instead\n",
      "\n",
      "See the caveats in the documentation: https://pandas.pydata.org/pandas-docs/stable/user_guide/indexing.html#returning-a-view-versus-a-copy\n",
      "  tmp[tmp.columns[i]] = (\n",
      "C:\\Users\\maczek\\PycharmProjects\\message_data\\message_data\\tools\\utilities\\add_globiom.py:481: SettingWithCopyWarning: \n",
      "A value is trying to be set on a copy of a slice from a DataFrame.\n",
      "Try using .loc[row_indexer,col_indexer] = value instead\n",
      "\n",
      "See the caveats in the documentation: https://pandas.pydata.org/pandas-docs/stable/user_guide/indexing.html#returning-a-view-versus-a-copy\n",
      "  tmp[tmp.columns[i]] = data.loc[reg][tmp.columns[i]]\n",
      "C:\\Users\\maczek\\PycharmProjects\\message_data\\message_data\\tools\\utilities\\add_globiom.py:483: SettingWithCopyWarning: \n",
      "A value is trying to be set on a copy of a slice from a DataFrame.\n",
      "Try using .loc[row_indexer,col_indexer] = value instead\n",
      "\n",
      "See the caveats in the documentation: https://pandas.pydata.org/pandas-docs/stable/user_guide/indexing.html#returning-a-view-versus-a-copy\n",
      "  tmp[tmp.columns[i]] = (\n",
      "C:\\Users\\maczek\\PycharmProjects\\message_data\\message_data\\tools\\utilities\\add_globiom.py:481: SettingWithCopyWarning: \n",
      "A value is trying to be set on a copy of a slice from a DataFrame.\n",
      "Try using .loc[row_indexer,col_indexer] = value instead\n",
      "\n",
      "See the caveats in the documentation: https://pandas.pydata.org/pandas-docs/stable/user_guide/indexing.html#returning-a-view-versus-a-copy\n",
      "  tmp[tmp.columns[i]] = data.loc[reg][tmp.columns[i]]\n",
      "C:\\Users\\maczek\\PycharmProjects\\message_data\\message_data\\tools\\utilities\\add_globiom.py:483: SettingWithCopyWarning: \n",
      "A value is trying to be set on a copy of a slice from a DataFrame.\n",
      "Try using .loc[row_indexer,col_indexer] = value instead\n",
      "\n",
      "See the caveats in the documentation: https://pandas.pydata.org/pandas-docs/stable/user_guide/indexing.html#returning-a-view-versus-a-copy\n",
      "  tmp[tmp.columns[i]] = (\n",
      "C:\\Users\\maczek\\PycharmProjects\\message_data\\message_data\\tools\\utilities\\add_globiom.py:481: SettingWithCopyWarning: \n",
      "A value is trying to be set on a copy of a slice from a DataFrame.\n",
      "Try using .loc[row_indexer,col_indexer] = value instead\n",
      "\n",
      "See the caveats in the documentation: https://pandas.pydata.org/pandas-docs/stable/user_guide/indexing.html#returning-a-view-versus-a-copy\n",
      "  tmp[tmp.columns[i]] = data.loc[reg][tmp.columns[i]]\n",
      "C:\\Users\\maczek\\PycharmProjects\\message_data\\message_data\\tools\\utilities\\add_globiom.py:483: SettingWithCopyWarning: \n",
      "A value is trying to be set on a copy of a slice from a DataFrame.\n",
      "Try using .loc[row_indexer,col_indexer] = value instead\n",
      "\n",
      "See the caveats in the documentation: https://pandas.pydata.org/pandas-docs/stable/user_guide/indexing.html#returning-a-view-versus-a-copy\n",
      "  tmp[tmp.columns[i]] = (\n",
      "C:\\Users\\maczek\\PycharmProjects\\message_data\\message_data\\tools\\utilities\\add_globiom.py:481: SettingWithCopyWarning: \n",
      "A value is trying to be set on a copy of a slice from a DataFrame.\n",
      "Try using .loc[row_indexer,col_indexer] = value instead\n",
      "\n",
      "See the caveats in the documentation: https://pandas.pydata.org/pandas-docs/stable/user_guide/indexing.html#returning-a-view-versus-a-copy\n",
      "  tmp[tmp.columns[i]] = data.loc[reg][tmp.columns[i]]\n",
      "C:\\Users\\maczek\\PycharmProjects\\message_data\\message_data\\tools\\utilities\\add_globiom.py:483: SettingWithCopyWarning: \n",
      "A value is trying to be set on a copy of a slice from a DataFrame.\n",
      "Try using .loc[row_indexer,col_indexer] = value instead\n",
      "\n",
      "See the caveats in the documentation: https://pandas.pydata.org/pandas-docs/stable/user_guide/indexing.html#returning-a-view-versus-a-copy\n",
      "  tmp[tmp.columns[i]] = (\n",
      "C:\\Users\\maczek\\PycharmProjects\\message_data\\message_data\\tools\\utilities\\add_globiom.py:481: SettingWithCopyWarning: \n",
      "A value is trying to be set on a copy of a slice from a DataFrame.\n",
      "Try using .loc[row_indexer,col_indexer] = value instead\n",
      "\n",
      "See the caveats in the documentation: https://pandas.pydata.org/pandas-docs/stable/user_guide/indexing.html#returning-a-view-versus-a-copy\n",
      "  tmp[tmp.columns[i]] = data.loc[reg][tmp.columns[i]]\n",
      "C:\\Users\\maczek\\PycharmProjects\\message_data\\message_data\\tools\\utilities\\add_globiom.py:483: SettingWithCopyWarning: \n",
      "A value is trying to be set on a copy of a slice from a DataFrame.\n",
      "Try using .loc[row_indexer,col_indexer] = value instead\n",
      "\n",
      "See the caveats in the documentation: https://pandas.pydata.org/pandas-docs/stable/user_guide/indexing.html#returning-a-view-versus-a-copy\n",
      "  tmp[tmp.columns[i]] = (\n",
      "C:\\Users\\maczek\\PycharmProjects\\message_data\\message_data\\tools\\utilities\\add_globiom.py:481: SettingWithCopyWarning: \n",
      "A value is trying to be set on a copy of a slice from a DataFrame.\n",
      "Try using .loc[row_indexer,col_indexer] = value instead\n",
      "\n",
      "See the caveats in the documentation: https://pandas.pydata.org/pandas-docs/stable/user_guide/indexing.html#returning-a-view-versus-a-copy\n",
      "  tmp[tmp.columns[i]] = data.loc[reg][tmp.columns[i]]\n",
      "C:\\Users\\maczek\\PycharmProjects\\message_data\\message_data\\tools\\utilities\\add_globiom.py:483: SettingWithCopyWarning: \n",
      "A value is trying to be set on a copy of a slice from a DataFrame.\n",
      "Try using .loc[row_indexer,col_indexer] = value instead\n",
      "\n",
      "See the caveats in the documentation: https://pandas.pydata.org/pandas-docs/stable/user_guide/indexing.html#returning-a-view-versus-a-copy\n",
      "  tmp[tmp.columns[i]] = (\n",
      "C:\\Users\\maczek\\PycharmProjects\\message_data\\message_data\\tools\\utilities\\add_globiom.py:481: SettingWithCopyWarning: \n",
      "A value is trying to be set on a copy of a slice from a DataFrame.\n",
      "Try using .loc[row_indexer,col_indexer] = value instead\n",
      "\n",
      "See the caveats in the documentation: https://pandas.pydata.org/pandas-docs/stable/user_guide/indexing.html#returning-a-view-versus-a-copy\n",
      "  tmp[tmp.columns[i]] = data.loc[reg][tmp.columns[i]]\n",
      "C:\\Users\\maczek\\PycharmProjects\\message_data\\message_data\\tools\\utilities\\add_globiom.py:483: SettingWithCopyWarning: \n",
      "A value is trying to be set on a copy of a slice from a DataFrame.\n",
      "Try using .loc[row_indexer,col_indexer] = value instead\n",
      "\n",
      "See the caveats in the documentation: https://pandas.pydata.org/pandas-docs/stable/user_guide/indexing.html#returning-a-view-versus-a-copy\n",
      "  tmp[tmp.columns[i]] = (\n",
      "C:\\Users\\maczek\\PycharmProjects\\message_data\\message_data\\tools\\utilities\\add_globiom.py:481: SettingWithCopyWarning: \n",
      "A value is trying to be set on a copy of a slice from a DataFrame.\n",
      "Try using .loc[row_indexer,col_indexer] = value instead\n",
      "\n",
      "See the caveats in the documentation: https://pandas.pydata.org/pandas-docs/stable/user_guide/indexing.html#returning-a-view-versus-a-copy\n",
      "  tmp[tmp.columns[i]] = data.loc[reg][tmp.columns[i]]\n",
      "C:\\Users\\maczek\\PycharmProjects\\message_data\\message_data\\tools\\utilities\\add_globiom.py:483: SettingWithCopyWarning: \n",
      "A value is trying to be set on a copy of a slice from a DataFrame.\n",
      "Try using .loc[row_indexer,col_indexer] = value instead\n",
      "\n",
      "See the caveats in the documentation: https://pandas.pydata.org/pandas-docs/stable/user_guide/indexing.html#returning-a-view-versus-a-copy\n",
      "  tmp[tmp.columns[i]] = (\n",
      "C:\\Users\\maczek\\PycharmProjects\\message_data\\message_data\\tools\\utilities\\add_globiom.py:481: SettingWithCopyWarning: \n",
      "A value is trying to be set on a copy of a slice from a DataFrame.\n",
      "Try using .loc[row_indexer,col_indexer] = value instead\n",
      "\n",
      "See the caveats in the documentation: https://pandas.pydata.org/pandas-docs/stable/user_guide/indexing.html#returning-a-view-versus-a-copy\n",
      "  tmp[tmp.columns[i]] = data.loc[reg][tmp.columns[i]]\n",
      "C:\\Users\\maczek\\PycharmProjects\\message_data\\message_data\\tools\\utilities\\add_globiom.py:483: SettingWithCopyWarning: \n",
      "A value is trying to be set on a copy of a slice from a DataFrame.\n",
      "Try using .loc[row_indexer,col_indexer] = value instead\n",
      "\n",
      "See the caveats in the documentation: https://pandas.pydata.org/pandas-docs/stable/user_guide/indexing.html#returning-a-view-versus-a-copy\n",
      "  tmp[tmp.columns[i]] = (\n",
      "C:\\Users\\maczek\\PycharmProjects\\message_data\\message_data\\tools\\utilities\\add_globiom.py:481: SettingWithCopyWarning: \n",
      "A value is trying to be set on a copy of a slice from a DataFrame.\n",
      "Try using .loc[row_indexer,col_indexer] = value instead\n",
      "\n",
      "See the caveats in the documentation: https://pandas.pydata.org/pandas-docs/stable/user_guide/indexing.html#returning-a-view-versus-a-copy\n",
      "  tmp[tmp.columns[i]] = data.loc[reg][tmp.columns[i]]\n",
      "C:\\Users\\maczek\\PycharmProjects\\message_data\\message_data\\tools\\utilities\\add_globiom.py:483: SettingWithCopyWarning: \n",
      "A value is trying to be set on a copy of a slice from a DataFrame.\n",
      "Try using .loc[row_indexer,col_indexer] = value instead\n",
      "\n",
      "See the caveats in the documentation: https://pandas.pydata.org/pandas-docs/stable/user_guide/indexing.html#returning-a-view-versus-a-copy\n",
      "  tmp[tmp.columns[i]] = (\n",
      "C:\\Users\\maczek\\PycharmProjects\\message_data\\message_data\\tools\\utilities\\add_globiom.py:481: SettingWithCopyWarning: \n",
      "A value is trying to be set on a copy of a slice from a DataFrame.\n",
      "Try using .loc[row_indexer,col_indexer] = value instead\n",
      "\n",
      "See the caveats in the documentation: https://pandas.pydata.org/pandas-docs/stable/user_guide/indexing.html#returning-a-view-versus-a-copy\n",
      "  tmp[tmp.columns[i]] = data.loc[reg][tmp.columns[i]]\n",
      "C:\\Users\\maczek\\PycharmProjects\\message_data\\message_data\\tools\\utilities\\add_globiom.py:483: SettingWithCopyWarning: \n",
      "A value is trying to be set on a copy of a slice from a DataFrame.\n",
      "Try using .loc[row_indexer,col_indexer] = value instead\n",
      "\n",
      "See the caveats in the documentation: https://pandas.pydata.org/pandas-docs/stable/user_guide/indexing.html#returning-a-view-versus-a-copy\n",
      "  tmp[tmp.columns[i]] = (\n",
      "C:\\Users\\maczek\\PycharmProjects\\message_data\\message_data\\tools\\utilities\\add_globiom.py:481: SettingWithCopyWarning: \n",
      "A value is trying to be set on a copy of a slice from a DataFrame.\n",
      "Try using .loc[row_indexer,col_indexer] = value instead\n",
      "\n",
      "See the caveats in the documentation: https://pandas.pydata.org/pandas-docs/stable/user_guide/indexing.html#returning-a-view-versus-a-copy\n",
      "  tmp[tmp.columns[i]] = data.loc[reg][tmp.columns[i]]\n",
      "C:\\Users\\maczek\\PycharmProjects\\message_data\\message_data\\tools\\utilities\\add_globiom.py:483: SettingWithCopyWarning: \n",
      "A value is trying to be set on a copy of a slice from a DataFrame.\n",
      "Try using .loc[row_indexer,col_indexer] = value instead\n",
      "\n",
      "See the caveats in the documentation: https://pandas.pydata.org/pandas-docs/stable/user_guide/indexing.html#returning-a-view-versus-a-copy\n",
      "  tmp[tmp.columns[i]] = (\n",
      "C:\\Users\\maczek\\PycharmProjects\\message_data\\message_data\\tools\\utilities\\add_globiom.py:481: SettingWithCopyWarning: \n",
      "A value is trying to be set on a copy of a slice from a DataFrame.\n",
      "Try using .loc[row_indexer,col_indexer] = value instead\n",
      "\n",
      "See the caveats in the documentation: https://pandas.pydata.org/pandas-docs/stable/user_guide/indexing.html#returning-a-view-versus-a-copy\n",
      "  tmp[tmp.columns[i]] = data.loc[reg][tmp.columns[i]]\n",
      "C:\\Users\\maczek\\PycharmProjects\\message_data\\message_data\\tools\\utilities\\add_globiom.py:483: SettingWithCopyWarning: \n",
      "A value is trying to be set on a copy of a slice from a DataFrame.\n",
      "Try using .loc[row_indexer,col_indexer] = value instead\n",
      "\n",
      "See the caveats in the documentation: https://pandas.pydata.org/pandas-docs/stable/user_guide/indexing.html#returning-a-view-versus-a-copy\n",
      "  tmp[tmp.columns[i]] = (\n",
      "C:\\Users\\maczek\\PycharmProjects\\message_data\\message_data\\tools\\utilities\\add_globiom.py:481: SettingWithCopyWarning: \n",
      "A value is trying to be set on a copy of a slice from a DataFrame.\n",
      "Try using .loc[row_indexer,col_indexer] = value instead\n",
      "\n",
      "See the caveats in the documentation: https://pandas.pydata.org/pandas-docs/stable/user_guide/indexing.html#returning-a-view-versus-a-copy\n",
      "  tmp[tmp.columns[i]] = data.loc[reg][tmp.columns[i]]\n",
      "C:\\Users\\maczek\\PycharmProjects\\message_data\\message_data\\tools\\utilities\\add_globiom.py:483: SettingWithCopyWarning: \n",
      "A value is trying to be set on a copy of a slice from a DataFrame.\n",
      "Try using .loc[row_indexer,col_indexer] = value instead\n",
      "\n",
      "See the caveats in the documentation: https://pandas.pydata.org/pandas-docs/stable/user_guide/indexing.html#returning-a-view-versus-a-copy\n",
      "  tmp[tmp.columns[i]] = (\n",
      "C:\\Users\\maczek\\PycharmProjects\\message_data\\message_data\\tools\\utilities\\add_globiom.py:481: SettingWithCopyWarning: \n",
      "A value is trying to be set on a copy of a slice from a DataFrame.\n",
      "Try using .loc[row_indexer,col_indexer] = value instead\n",
      "\n",
      "See the caveats in the documentation: https://pandas.pydata.org/pandas-docs/stable/user_guide/indexing.html#returning-a-view-versus-a-copy\n",
      "  tmp[tmp.columns[i]] = data.loc[reg][tmp.columns[i]]\n",
      "C:\\Users\\maczek\\PycharmProjects\\message_data\\message_data\\tools\\utilities\\add_globiom.py:483: SettingWithCopyWarning: \n",
      "A value is trying to be set on a copy of a slice from a DataFrame.\n",
      "Try using .loc[row_indexer,col_indexer] = value instead\n",
      "\n",
      "See the caveats in the documentation: https://pandas.pydata.org/pandas-docs/stable/user_guide/indexing.html#returning-a-view-versus-a-copy\n",
      "  tmp[tmp.columns[i]] = (\n",
      "C:\\Users\\maczek\\PycharmProjects\\message_data\\message_data\\tools\\utilities\\add_globiom.py:481: SettingWithCopyWarning: \n",
      "A value is trying to be set on a copy of a slice from a DataFrame.\n",
      "Try using .loc[row_indexer,col_indexer] = value instead\n",
      "\n",
      "See the caveats in the documentation: https://pandas.pydata.org/pandas-docs/stable/user_guide/indexing.html#returning-a-view-versus-a-copy\n",
      "  tmp[tmp.columns[i]] = data.loc[reg][tmp.columns[i]]\n",
      "C:\\Users\\maczek\\PycharmProjects\\message_data\\message_data\\tools\\utilities\\add_globiom.py:483: SettingWithCopyWarning: \n",
      "A value is trying to be set on a copy of a slice from a DataFrame.\n",
      "Try using .loc[row_indexer,col_indexer] = value instead\n",
      "\n",
      "See the caveats in the documentation: https://pandas.pydata.org/pandas-docs/stable/user_guide/indexing.html#returning-a-view-versus-a-copy\n",
      "  tmp[tmp.columns[i]] = (\n",
      "C:\\Users\\maczek\\PycharmProjects\\message_data\\message_data\\tools\\utilities\\add_globiom.py:481: SettingWithCopyWarning: \n",
      "A value is trying to be set on a copy of a slice from a DataFrame.\n",
      "Try using .loc[row_indexer,col_indexer] = value instead\n",
      "\n",
      "See the caveats in the documentation: https://pandas.pydata.org/pandas-docs/stable/user_guide/indexing.html#returning-a-view-versus-a-copy\n",
      "  tmp[tmp.columns[i]] = data.loc[reg][tmp.columns[i]]\n",
      "C:\\Users\\maczek\\PycharmProjects\\message_data\\message_data\\tools\\utilities\\add_globiom.py:483: SettingWithCopyWarning: \n",
      "A value is trying to be set on a copy of a slice from a DataFrame.\n",
      "Try using .loc[row_indexer,col_indexer] = value instead\n",
      "\n",
      "See the caveats in the documentation: https://pandas.pydata.org/pandas-docs/stable/user_guide/indexing.html#returning-a-view-versus-a-copy\n",
      "  tmp[tmp.columns[i]] = (\n",
      "C:\\Users\\maczek\\PycharmProjects\\message_data\\message_data\\tools\\utilities\\add_globiom.py:481: SettingWithCopyWarning: \n",
      "A value is trying to be set on a copy of a slice from a DataFrame.\n",
      "Try using .loc[row_indexer,col_indexer] = value instead\n",
      "\n",
      "See the caveats in the documentation: https://pandas.pydata.org/pandas-docs/stable/user_guide/indexing.html#returning-a-view-versus-a-copy\n",
      "  tmp[tmp.columns[i]] = data.loc[reg][tmp.columns[i]]\n",
      "C:\\Users\\maczek\\PycharmProjects\\message_data\\message_data\\tools\\utilities\\add_globiom.py:483: SettingWithCopyWarning: \n",
      "A value is trying to be set on a copy of a slice from a DataFrame.\n",
      "Try using .loc[row_indexer,col_indexer] = value instead\n",
      "\n",
      "See the caveats in the documentation: https://pandas.pydata.org/pandas-docs/stable/user_guide/indexing.html#returning-a-view-versus-a-copy\n",
      "  tmp[tmp.columns[i]] = (\n",
      "C:\\Users\\maczek\\PycharmProjects\\message_data\\message_data\\tools\\utilities\\add_globiom.py:481: SettingWithCopyWarning: \n",
      "A value is trying to be set on a copy of a slice from a DataFrame.\n",
      "Try using .loc[row_indexer,col_indexer] = value instead\n",
      "\n",
      "See the caveats in the documentation: https://pandas.pydata.org/pandas-docs/stable/user_guide/indexing.html#returning-a-view-versus-a-copy\n",
      "  tmp[tmp.columns[i]] = data.loc[reg][tmp.columns[i]]\n",
      "C:\\Users\\maczek\\PycharmProjects\\message_data\\message_data\\tools\\utilities\\add_globiom.py:483: SettingWithCopyWarning: \n",
      "A value is trying to be set on a copy of a slice from a DataFrame.\n",
      "Try using .loc[row_indexer,col_indexer] = value instead\n",
      "\n",
      "See the caveats in the documentation: https://pandas.pydata.org/pandas-docs/stable/user_guide/indexing.html#returning-a-view-versus-a-copy\n",
      "  tmp[tmp.columns[i]] = (\n",
      "C:\\Users\\maczek\\PycharmProjects\\message_data\\message_data\\tools\\utilities\\add_globiom.py:481: SettingWithCopyWarning: \n",
      "A value is trying to be set on a copy of a slice from a DataFrame.\n",
      "Try using .loc[row_indexer,col_indexer] = value instead\n",
      "\n",
      "See the caveats in the documentation: https://pandas.pydata.org/pandas-docs/stable/user_guide/indexing.html#returning-a-view-versus-a-copy\n",
      "  tmp[tmp.columns[i]] = data.loc[reg][tmp.columns[i]]\n",
      "C:\\Users\\maczek\\PycharmProjects\\message_data\\message_data\\tools\\utilities\\add_globiom.py:483: SettingWithCopyWarning: \n",
      "A value is trying to be set on a copy of a slice from a DataFrame.\n",
      "Try using .loc[row_indexer,col_indexer] = value instead\n",
      "\n",
      "See the caveats in the documentation: https://pandas.pydata.org/pandas-docs/stable/user_guide/indexing.html#returning-a-view-versus-a-copy\n",
      "  tmp[tmp.columns[i]] = (\n",
      "C:\\Users\\maczek\\PycharmProjects\\message_data\\message_data\\tools\\utilities\\add_globiom.py:481: SettingWithCopyWarning: \n",
      "A value is trying to be set on a copy of a slice from a DataFrame.\n",
      "Try using .loc[row_indexer,col_indexer] = value instead\n",
      "\n",
      "See the caveats in the documentation: https://pandas.pydata.org/pandas-docs/stable/user_guide/indexing.html#returning-a-view-versus-a-copy\n",
      "  tmp[tmp.columns[i]] = data.loc[reg][tmp.columns[i]]\n",
      "C:\\Users\\maczek\\PycharmProjects\\message_data\\message_data\\tools\\utilities\\add_globiom.py:483: SettingWithCopyWarning: \n",
      "A value is trying to be set on a copy of a slice from a DataFrame.\n",
      "Try using .loc[row_indexer,col_indexer] = value instead\n",
      "\n",
      "See the caveats in the documentation: https://pandas.pydata.org/pandas-docs/stable/user_guide/indexing.html#returning-a-view-versus-a-copy\n",
      "  tmp[tmp.columns[i]] = (\n",
      "C:\\Users\\maczek\\PycharmProjects\\message_data\\message_data\\tools\\utilities\\add_globiom.py:481: SettingWithCopyWarning: \n",
      "A value is trying to be set on a copy of a slice from a DataFrame.\n",
      "Try using .loc[row_indexer,col_indexer] = value instead\n",
      "\n",
      "See the caveats in the documentation: https://pandas.pydata.org/pandas-docs/stable/user_guide/indexing.html#returning-a-view-versus-a-copy\n",
      "  tmp[tmp.columns[i]] = data.loc[reg][tmp.columns[i]]\n",
      "C:\\Users\\maczek\\PycharmProjects\\message_data\\message_data\\tools\\utilities\\add_globiom.py:483: SettingWithCopyWarning: \n",
      "A value is trying to be set on a copy of a slice from a DataFrame.\n",
      "Try using .loc[row_indexer,col_indexer] = value instead\n",
      "\n",
      "See the caveats in the documentation: https://pandas.pydata.org/pandas-docs/stable/user_guide/indexing.html#returning-a-view-versus-a-copy\n",
      "  tmp[tmp.columns[i]] = (\n",
      "C:\\Users\\maczek\\PycharmProjects\\message_data\\message_data\\tools\\utilities\\add_globiom.py:481: SettingWithCopyWarning: \n",
      "A value is trying to be set on a copy of a slice from a DataFrame.\n",
      "Try using .loc[row_indexer,col_indexer] = value instead\n",
      "\n",
      "See the caveats in the documentation: https://pandas.pydata.org/pandas-docs/stable/user_guide/indexing.html#returning-a-view-versus-a-copy\n",
      "  tmp[tmp.columns[i]] = data.loc[reg][tmp.columns[i]]\n",
      "C:\\Users\\maczek\\PycharmProjects\\message_data\\message_data\\tools\\utilities\\add_globiom.py:483: SettingWithCopyWarning: \n",
      "A value is trying to be set on a copy of a slice from a DataFrame.\n",
      "Try using .loc[row_indexer,col_indexer] = value instead\n",
      "\n",
      "See the caveats in the documentation: https://pandas.pydata.org/pandas-docs/stable/user_guide/indexing.html#returning-a-view-versus-a-copy\n",
      "  tmp[tmp.columns[i]] = (\n",
      "C:\\Users\\maczek\\PycharmProjects\\message_data\\message_data\\tools\\utilities\\add_globiom.py:481: SettingWithCopyWarning: \n",
      "A value is trying to be set on a copy of a slice from a DataFrame.\n",
      "Try using .loc[row_indexer,col_indexer] = value instead\n",
      "\n",
      "See the caveats in the documentation: https://pandas.pydata.org/pandas-docs/stable/user_guide/indexing.html#returning-a-view-versus-a-copy\n",
      "  tmp[tmp.columns[i]] = data.loc[reg][tmp.columns[i]]\n",
      "C:\\Users\\maczek\\PycharmProjects\\message_data\\message_data\\tools\\utilities\\add_globiom.py:483: SettingWithCopyWarning: \n",
      "A value is trying to be set on a copy of a slice from a DataFrame.\n",
      "Try using .loc[row_indexer,col_indexer] = value instead\n",
      "\n",
      "See the caveats in the documentation: https://pandas.pydata.org/pandas-docs/stable/user_guide/indexing.html#returning-a-view-versus-a-copy\n",
      "  tmp[tmp.columns[i]] = (\n",
      "C:\\Users\\maczek\\PycharmProjects\\message_data\\message_data\\tools\\utilities\\add_globiom.py:481: SettingWithCopyWarning: \n",
      "A value is trying to be set on a copy of a slice from a DataFrame.\n",
      "Try using .loc[row_indexer,col_indexer] = value instead\n",
      "\n",
      "See the caveats in the documentation: https://pandas.pydata.org/pandas-docs/stable/user_guide/indexing.html#returning-a-view-versus-a-copy\n",
      "  tmp[tmp.columns[i]] = data.loc[reg][tmp.columns[i]]\n",
      "C:\\Users\\maczek\\PycharmProjects\\message_data\\message_data\\tools\\utilities\\add_globiom.py:483: SettingWithCopyWarning: \n",
      "A value is trying to be set on a copy of a slice from a DataFrame.\n",
      "Try using .loc[row_indexer,col_indexer] = value instead\n",
      "\n",
      "See the caveats in the documentation: https://pandas.pydata.org/pandas-docs/stable/user_guide/indexing.html#returning-a-view-versus-a-copy\n",
      "  tmp[tmp.columns[i]] = (\n",
      "C:\\Users\\maczek\\PycharmProjects\\message_data\\message_data\\tools\\utilities\\add_globiom.py:481: SettingWithCopyWarning: \n",
      "A value is trying to be set on a copy of a slice from a DataFrame.\n",
      "Try using .loc[row_indexer,col_indexer] = value instead\n",
      "\n",
      "See the caveats in the documentation: https://pandas.pydata.org/pandas-docs/stable/user_guide/indexing.html#returning-a-view-versus-a-copy\n",
      "  tmp[tmp.columns[i]] = data.loc[reg][tmp.columns[i]]\n",
      "C:\\Users\\maczek\\PycharmProjects\\message_data\\message_data\\tools\\utilities\\add_globiom.py:483: SettingWithCopyWarning: \n",
      "A value is trying to be set on a copy of a slice from a DataFrame.\n",
      "Try using .loc[row_indexer,col_indexer] = value instead\n",
      "\n",
      "See the caveats in the documentation: https://pandas.pydata.org/pandas-docs/stable/user_guide/indexing.html#returning-a-view-versus-a-copy\n",
      "  tmp[tmp.columns[i]] = (\n",
      "C:\\Users\\maczek\\PycharmProjects\\message_data\\message_data\\tools\\utilities\\add_globiom.py:481: SettingWithCopyWarning: \n",
      "A value is trying to be set on a copy of a slice from a DataFrame.\n",
      "Try using .loc[row_indexer,col_indexer] = value instead\n",
      "\n",
      "See the caveats in the documentation: https://pandas.pydata.org/pandas-docs/stable/user_guide/indexing.html#returning-a-view-versus-a-copy\n",
      "  tmp[tmp.columns[i]] = data.loc[reg][tmp.columns[i]]\n",
      "C:\\Users\\maczek\\PycharmProjects\\message_data\\message_data\\tools\\utilities\\add_globiom.py:483: SettingWithCopyWarning: \n",
      "A value is trying to be set on a copy of a slice from a DataFrame.\n",
      "Try using .loc[row_indexer,col_indexer] = value instead\n",
      "\n",
      "See the caveats in the documentation: https://pandas.pydata.org/pandas-docs/stable/user_guide/indexing.html#returning-a-view-versus-a-copy\n",
      "  tmp[tmp.columns[i]] = (\n",
      "C:\\Users\\maczek\\PycharmProjects\\message_data\\message_data\\tools\\utilities\\add_globiom.py:481: SettingWithCopyWarning: \n",
      "A value is trying to be set on a copy of a slice from a DataFrame.\n",
      "Try using .loc[row_indexer,col_indexer] = value instead\n",
      "\n",
      "See the caveats in the documentation: https://pandas.pydata.org/pandas-docs/stable/user_guide/indexing.html#returning-a-view-versus-a-copy\n",
      "  tmp[tmp.columns[i]] = data.loc[reg][tmp.columns[i]]\n",
      "C:\\Users\\maczek\\PycharmProjects\\message_data\\message_data\\tools\\utilities\\add_globiom.py:483: SettingWithCopyWarning: \n",
      "A value is trying to be set on a copy of a slice from a DataFrame.\n",
      "Try using .loc[row_indexer,col_indexer] = value instead\n",
      "\n",
      "See the caveats in the documentation: https://pandas.pydata.org/pandas-docs/stable/user_guide/indexing.html#returning-a-view-versus-a-copy\n",
      "  tmp[tmp.columns[i]] = (\n",
      "C:\\Users\\maczek\\PycharmProjects\\message_data\\message_data\\tools\\utilities\\add_globiom.py:481: SettingWithCopyWarning: \n",
      "A value is trying to be set on a copy of a slice from a DataFrame.\n",
      "Try using .loc[row_indexer,col_indexer] = value instead\n",
      "\n",
      "See the caveats in the documentation: https://pandas.pydata.org/pandas-docs/stable/user_guide/indexing.html#returning-a-view-versus-a-copy\n",
      "  tmp[tmp.columns[i]] = data.loc[reg][tmp.columns[i]]\n",
      "C:\\Users\\maczek\\PycharmProjects\\message_data\\message_data\\tools\\utilities\\add_globiom.py:483: SettingWithCopyWarning: \n",
      "A value is trying to be set on a copy of a slice from a DataFrame.\n",
      "Try using .loc[row_indexer,col_indexer] = value instead\n",
      "\n",
      "See the caveats in the documentation: https://pandas.pydata.org/pandas-docs/stable/user_guide/indexing.html#returning-a-view-versus-a-copy\n",
      "  tmp[tmp.columns[i]] = (\n",
      "C:\\Users\\maczek\\PycharmProjects\\message_data\\message_data\\tools\\utilities\\add_globiom.py:481: SettingWithCopyWarning: \n",
      "A value is trying to be set on a copy of a slice from a DataFrame.\n",
      "Try using .loc[row_indexer,col_indexer] = value instead\n",
      "\n",
      "See the caveats in the documentation: https://pandas.pydata.org/pandas-docs/stable/user_guide/indexing.html#returning-a-view-versus-a-copy\n",
      "  tmp[tmp.columns[i]] = data.loc[reg][tmp.columns[i]]\n",
      "C:\\Users\\maczek\\PycharmProjects\\message_data\\message_data\\tools\\utilities\\add_globiom.py:483: SettingWithCopyWarning: \n",
      "A value is trying to be set on a copy of a slice from a DataFrame.\n",
      "Try using .loc[row_indexer,col_indexer] = value instead\n",
      "\n",
      "See the caveats in the documentation: https://pandas.pydata.org/pandas-docs/stable/user_guide/indexing.html#returning-a-view-versus-a-copy\n",
      "  tmp[tmp.columns[i]] = (\n",
      "C:\\Users\\maczek\\PycharmProjects\\message_data\\message_data\\tools\\utilities\\add_globiom.py:481: SettingWithCopyWarning: \n",
      "A value is trying to be set on a copy of a slice from a DataFrame.\n",
      "Try using .loc[row_indexer,col_indexer] = value instead\n",
      "\n",
      "See the caveats in the documentation: https://pandas.pydata.org/pandas-docs/stable/user_guide/indexing.html#returning-a-view-versus-a-copy\n",
      "  tmp[tmp.columns[i]] = data.loc[reg][tmp.columns[i]]\n",
      "C:\\Users\\maczek\\PycharmProjects\\message_data\\message_data\\tools\\utilities\\add_globiom.py:483: SettingWithCopyWarning: \n",
      "A value is trying to be set on a copy of a slice from a DataFrame.\n",
      "Try using .loc[row_indexer,col_indexer] = value instead\n",
      "\n",
      "See the caveats in the documentation: https://pandas.pydata.org/pandas-docs/stable/user_guide/indexing.html#returning-a-view-versus-a-copy\n",
      "  tmp[tmp.columns[i]] = (\n",
      "C:\\Users\\maczek\\PycharmProjects\\message_data\\message_data\\tools\\utilities\\add_globiom.py:481: SettingWithCopyWarning: \n",
      "A value is trying to be set on a copy of a slice from a DataFrame.\n",
      "Try using .loc[row_indexer,col_indexer] = value instead\n",
      "\n",
      "See the caveats in the documentation: https://pandas.pydata.org/pandas-docs/stable/user_guide/indexing.html#returning-a-view-versus-a-copy\n",
      "  tmp[tmp.columns[i]] = data.loc[reg][tmp.columns[i]]\n",
      "C:\\Users\\maczek\\PycharmProjects\\message_data\\message_data\\tools\\utilities\\add_globiom.py:483: SettingWithCopyWarning: \n",
      "A value is trying to be set on a copy of a slice from a DataFrame.\n",
      "Try using .loc[row_indexer,col_indexer] = value instead\n",
      "\n",
      "See the caveats in the documentation: https://pandas.pydata.org/pandas-docs/stable/user_guide/indexing.html#returning-a-view-versus-a-copy\n",
      "  tmp[tmp.columns[i]] = (\n",
      "C:\\Users\\maczek\\PycharmProjects\\message_data\\message_data\\tools\\utilities\\add_globiom.py:481: SettingWithCopyWarning: \n",
      "A value is trying to be set on a copy of a slice from a DataFrame.\n",
      "Try using .loc[row_indexer,col_indexer] = value instead\n",
      "\n",
      "See the caveats in the documentation: https://pandas.pydata.org/pandas-docs/stable/user_guide/indexing.html#returning-a-view-versus-a-copy\n",
      "  tmp[tmp.columns[i]] = data.loc[reg][tmp.columns[i]]\n",
      "C:\\Users\\maczek\\PycharmProjects\\message_data\\message_data\\tools\\utilities\\add_globiom.py:483: SettingWithCopyWarning: \n",
      "A value is trying to be set on a copy of a slice from a DataFrame.\n",
      "Try using .loc[row_indexer,col_indexer] = value instead\n",
      "\n",
      "See the caveats in the documentation: https://pandas.pydata.org/pandas-docs/stable/user_guide/indexing.html#returning-a-view-versus-a-copy\n",
      "  tmp[tmp.columns[i]] = (\n",
      "C:\\Users\\maczek\\PycharmProjects\\message_data\\message_data\\tools\\utilities\\add_globiom.py:481: SettingWithCopyWarning: \n",
      "A value is trying to be set on a copy of a slice from a DataFrame.\n",
      "Try using .loc[row_indexer,col_indexer] = value instead\n",
      "\n",
      "See the caveats in the documentation: https://pandas.pydata.org/pandas-docs/stable/user_guide/indexing.html#returning-a-view-versus-a-copy\n",
      "  tmp[tmp.columns[i]] = data.loc[reg][tmp.columns[i]]\n",
      "C:\\Users\\maczek\\PycharmProjects\\message_data\\message_data\\tools\\utilities\\add_globiom.py:483: SettingWithCopyWarning: \n",
      "A value is trying to be set on a copy of a slice from a DataFrame.\n",
      "Try using .loc[row_indexer,col_indexer] = value instead\n",
      "\n",
      "See the caveats in the documentation: https://pandas.pydata.org/pandas-docs/stable/user_guide/indexing.html#returning-a-view-versus-a-copy\n",
      "  tmp[tmp.columns[i]] = (\n",
      "C:\\Users\\maczek\\PycharmProjects\\message_data\\message_data\\tools\\utilities\\add_globiom.py:481: SettingWithCopyWarning: \n",
      "A value is trying to be set on a copy of a slice from a DataFrame.\n",
      "Try using .loc[row_indexer,col_indexer] = value instead\n",
      "\n",
      "See the caveats in the documentation: https://pandas.pydata.org/pandas-docs/stable/user_guide/indexing.html#returning-a-view-versus-a-copy\n",
      "  tmp[tmp.columns[i]] = data.loc[reg][tmp.columns[i]]\n",
      "C:\\Users\\maczek\\PycharmProjects\\message_data\\message_data\\tools\\utilities\\add_globiom.py:483: SettingWithCopyWarning: \n",
      "A value is trying to be set on a copy of a slice from a DataFrame.\n",
      "Try using .loc[row_indexer,col_indexer] = value instead\n",
      "\n",
      "See the caveats in the documentation: https://pandas.pydata.org/pandas-docs/stable/user_guide/indexing.html#returning-a-view-versus-a-copy\n",
      "  tmp[tmp.columns[i]] = (\n",
      "C:\\Users\\maczek\\PycharmProjects\\message_data\\message_data\\tools\\utilities\\add_globiom.py:481: SettingWithCopyWarning: \n",
      "A value is trying to be set on a copy of a slice from a DataFrame.\n",
      "Try using .loc[row_indexer,col_indexer] = value instead\n",
      "\n",
      "See the caveats in the documentation: https://pandas.pydata.org/pandas-docs/stable/user_guide/indexing.html#returning-a-view-versus-a-copy\n",
      "  tmp[tmp.columns[i]] = data.loc[reg][tmp.columns[i]]\n",
      "C:\\Users\\maczek\\PycharmProjects\\message_data\\message_data\\tools\\utilities\\add_globiom.py:483: SettingWithCopyWarning: \n",
      "A value is trying to be set on a copy of a slice from a DataFrame.\n",
      "Try using .loc[row_indexer,col_indexer] = value instead\n",
      "\n",
      "See the caveats in the documentation: https://pandas.pydata.org/pandas-docs/stable/user_guide/indexing.html#returning-a-view-versus-a-copy\n",
      "  tmp[tmp.columns[i]] = (\n",
      "C:\\Users\\maczek\\PycharmProjects\\message_data\\message_data\\tools\\utilities\\add_globiom.py:481: SettingWithCopyWarning: \n",
      "A value is trying to be set on a copy of a slice from a DataFrame.\n",
      "Try using .loc[row_indexer,col_indexer] = value instead\n",
      "\n",
      "See the caveats in the documentation: https://pandas.pydata.org/pandas-docs/stable/user_guide/indexing.html#returning-a-view-versus-a-copy\n",
      "  tmp[tmp.columns[i]] = data.loc[reg][tmp.columns[i]]\n",
      "C:\\Users\\maczek\\PycharmProjects\\message_data\\message_data\\tools\\utilities\\add_globiom.py:483: SettingWithCopyWarning: \n",
      "A value is trying to be set on a copy of a slice from a DataFrame.\n",
      "Try using .loc[row_indexer,col_indexer] = value instead\n",
      "\n",
      "See the caveats in the documentation: https://pandas.pydata.org/pandas-docs/stable/user_guide/indexing.html#returning-a-view-versus-a-copy\n",
      "  tmp[tmp.columns[i]] = (\n",
      "C:\\Users\\maczek\\PycharmProjects\\message_data\\message_data\\tools\\utilities\\add_globiom.py:481: SettingWithCopyWarning: \n",
      "A value is trying to be set on a copy of a slice from a DataFrame.\n",
      "Try using .loc[row_indexer,col_indexer] = value instead\n",
      "\n",
      "See the caveats in the documentation: https://pandas.pydata.org/pandas-docs/stable/user_guide/indexing.html#returning-a-view-versus-a-copy\n",
      "  tmp[tmp.columns[i]] = data.loc[reg][tmp.columns[i]]\n",
      "C:\\Users\\maczek\\PycharmProjects\\message_data\\message_data\\tools\\utilities\\add_globiom.py:483: SettingWithCopyWarning: \n",
      "A value is trying to be set on a copy of a slice from a DataFrame.\n",
      "Try using .loc[row_indexer,col_indexer] = value instead\n",
      "\n",
      "See the caveats in the documentation: https://pandas.pydata.org/pandas-docs/stable/user_guide/indexing.html#returning-a-view-versus-a-copy\n",
      "  tmp[tmp.columns[i]] = (\n",
      "C:\\Users\\maczek\\PycharmProjects\\message_data\\message_data\\tools\\utilities\\add_globiom.py:481: SettingWithCopyWarning: \n",
      "A value is trying to be set on a copy of a slice from a DataFrame.\n",
      "Try using .loc[row_indexer,col_indexer] = value instead\n",
      "\n",
      "See the caveats in the documentation: https://pandas.pydata.org/pandas-docs/stable/user_guide/indexing.html#returning-a-view-versus-a-copy\n",
      "  tmp[tmp.columns[i]] = data.loc[reg][tmp.columns[i]]\n",
      "C:\\Users\\maczek\\PycharmProjects\\message_data\\message_data\\tools\\utilities\\add_globiom.py:483: SettingWithCopyWarning: \n",
      "A value is trying to be set on a copy of a slice from a DataFrame.\n",
      "Try using .loc[row_indexer,col_indexer] = value instead\n",
      "\n",
      "See the caveats in the documentation: https://pandas.pydata.org/pandas-docs/stable/user_guide/indexing.html#returning-a-view-versus-a-copy\n",
      "  tmp[tmp.columns[i]] = (\n",
      "C:\\Users\\maczek\\PycharmProjects\\message_data\\message_data\\tools\\utilities\\add_globiom.py:481: SettingWithCopyWarning: \n",
      "A value is trying to be set on a copy of a slice from a DataFrame.\n",
      "Try using .loc[row_indexer,col_indexer] = value instead\n",
      "\n",
      "See the caveats in the documentation: https://pandas.pydata.org/pandas-docs/stable/user_guide/indexing.html#returning-a-view-versus-a-copy\n",
      "  tmp[tmp.columns[i]] = data.loc[reg][tmp.columns[i]]\n",
      "C:\\Users\\maczek\\PycharmProjects\\message_data\\message_data\\tools\\utilities\\add_globiom.py:483: SettingWithCopyWarning: \n",
      "A value is trying to be set on a copy of a slice from a DataFrame.\n",
      "Try using .loc[row_indexer,col_indexer] = value instead\n",
      "\n",
      "See the caveats in the documentation: https://pandas.pydata.org/pandas-docs/stable/user_guide/indexing.html#returning-a-view-versus-a-copy\n",
      "  tmp[tmp.columns[i]] = (\n",
      "C:\\Users\\maczek\\PycharmProjects\\message_data\\message_data\\tools\\utilities\\add_globiom.py:481: SettingWithCopyWarning: \n",
      "A value is trying to be set on a copy of a slice from a DataFrame.\n",
      "Try using .loc[row_indexer,col_indexer] = value instead\n",
      "\n",
      "See the caveats in the documentation: https://pandas.pydata.org/pandas-docs/stable/user_guide/indexing.html#returning-a-view-versus-a-copy\n",
      "  tmp[tmp.columns[i]] = data.loc[reg][tmp.columns[i]]\n",
      "C:\\Users\\maczek\\PycharmProjects\\message_data\\message_data\\tools\\utilities\\add_globiom.py:483: SettingWithCopyWarning: \n",
      "A value is trying to be set on a copy of a slice from a DataFrame.\n",
      "Try using .loc[row_indexer,col_indexer] = value instead\n",
      "\n",
      "See the caveats in the documentation: https://pandas.pydata.org/pandas-docs/stable/user_guide/indexing.html#returning-a-view-versus-a-copy\n",
      "  tmp[tmp.columns[i]] = (\n",
      "C:\\Users\\maczek\\PycharmProjects\\message_data\\message_data\\tools\\utilities\\add_globiom.py:481: SettingWithCopyWarning: \n",
      "A value is trying to be set on a copy of a slice from a DataFrame.\n",
      "Try using .loc[row_indexer,col_indexer] = value instead\n",
      "\n",
      "See the caveats in the documentation: https://pandas.pydata.org/pandas-docs/stable/user_guide/indexing.html#returning-a-view-versus-a-copy\n",
      "  tmp[tmp.columns[i]] = data.loc[reg][tmp.columns[i]]\n",
      "C:\\Users\\maczek\\PycharmProjects\\message_data\\message_data\\tools\\utilities\\add_globiom.py:483: SettingWithCopyWarning: \n",
      "A value is trying to be set on a copy of a slice from a DataFrame.\n",
      "Try using .loc[row_indexer,col_indexer] = value instead\n",
      "\n",
      "See the caveats in the documentation: https://pandas.pydata.org/pandas-docs/stable/user_guide/indexing.html#returning-a-view-versus-a-copy\n",
      "  tmp[tmp.columns[i]] = (\n",
      "C:\\Users\\maczek\\PycharmProjects\\message_data\\message_data\\tools\\utilities\\add_globiom.py:481: SettingWithCopyWarning: \n",
      "A value is trying to be set on a copy of a slice from a DataFrame.\n",
      "Try using .loc[row_indexer,col_indexer] = value instead\n",
      "\n",
      "See the caveats in the documentation: https://pandas.pydata.org/pandas-docs/stable/user_guide/indexing.html#returning-a-view-versus-a-copy\n",
      "  tmp[tmp.columns[i]] = data.loc[reg][tmp.columns[i]]\n",
      "C:\\Users\\maczek\\PycharmProjects\\message_data\\message_data\\tools\\utilities\\add_globiom.py:483: SettingWithCopyWarning: \n",
      "A value is trying to be set on a copy of a slice from a DataFrame.\n",
      "Try using .loc[row_indexer,col_indexer] = value instead\n",
      "\n",
      "See the caveats in the documentation: https://pandas.pydata.org/pandas-docs/stable/user_guide/indexing.html#returning-a-view-versus-a-copy\n",
      "  tmp[tmp.columns[i]] = (\n",
      "C:\\Users\\maczek\\PycharmProjects\\message_data\\message_data\\tools\\utilities\\add_globiom.py:481: SettingWithCopyWarning: \n",
      "A value is trying to be set on a copy of a slice from a DataFrame.\n",
      "Try using .loc[row_indexer,col_indexer] = value instead\n",
      "\n",
      "See the caveats in the documentation: https://pandas.pydata.org/pandas-docs/stable/user_guide/indexing.html#returning-a-view-versus-a-copy\n",
      "  tmp[tmp.columns[i]] = data.loc[reg][tmp.columns[i]]\n",
      "C:\\Users\\maczek\\PycharmProjects\\message_data\\message_data\\tools\\utilities\\add_globiom.py:483: SettingWithCopyWarning: \n",
      "A value is trying to be set on a copy of a slice from a DataFrame.\n",
      "Try using .loc[row_indexer,col_indexer] = value instead\n",
      "\n",
      "See the caveats in the documentation: https://pandas.pydata.org/pandas-docs/stable/user_guide/indexing.html#returning-a-view-versus-a-copy\n",
      "  tmp[tmp.columns[i]] = (\n",
      "C:\\Users\\maczek\\PycharmProjects\\message_data\\message_data\\tools\\utilities\\add_globiom.py:481: SettingWithCopyWarning: \n",
      "A value is trying to be set on a copy of a slice from a DataFrame.\n",
      "Try using .loc[row_indexer,col_indexer] = value instead\n",
      "\n",
      "See the caveats in the documentation: https://pandas.pydata.org/pandas-docs/stable/user_guide/indexing.html#returning-a-view-versus-a-copy\n",
      "  tmp[tmp.columns[i]] = data.loc[reg][tmp.columns[i]]\n",
      "C:\\Users\\maczek\\PycharmProjects\\message_data\\message_data\\tools\\utilities\\add_globiom.py:483: SettingWithCopyWarning: \n",
      "A value is trying to be set on a copy of a slice from a DataFrame.\n",
      "Try using .loc[row_indexer,col_indexer] = value instead\n",
      "\n",
      "See the caveats in the documentation: https://pandas.pydata.org/pandas-docs/stable/user_guide/indexing.html#returning-a-view-versus-a-copy\n",
      "  tmp[tmp.columns[i]] = (\n",
      "C:\\Users\\maczek\\PycharmProjects\\message_data\\message_data\\tools\\utilities\\add_globiom.py:481: SettingWithCopyWarning: \n",
      "A value is trying to be set on a copy of a slice from a DataFrame.\n",
      "Try using .loc[row_indexer,col_indexer] = value instead\n",
      "\n",
      "See the caveats in the documentation: https://pandas.pydata.org/pandas-docs/stable/user_guide/indexing.html#returning-a-view-versus-a-copy\n",
      "  tmp[tmp.columns[i]] = data.loc[reg][tmp.columns[i]]\n",
      "C:\\Users\\maczek\\PycharmProjects\\message_data\\message_data\\tools\\utilities\\add_globiom.py:483: SettingWithCopyWarning: \n",
      "A value is trying to be set on a copy of a slice from a DataFrame.\n",
      "Try using .loc[row_indexer,col_indexer] = value instead\n",
      "\n",
      "See the caveats in the documentation: https://pandas.pydata.org/pandas-docs/stable/user_guide/indexing.html#returning-a-view-versus-a-copy\n",
      "  tmp[tmp.columns[i]] = (\n",
      "C:\\Users\\maczek\\PycharmProjects\\message_data\\message_data\\tools\\utilities\\add_globiom.py:481: SettingWithCopyWarning: \n",
      "A value is trying to be set on a copy of a slice from a DataFrame.\n",
      "Try using .loc[row_indexer,col_indexer] = value instead\n",
      "\n",
      "See the caveats in the documentation: https://pandas.pydata.org/pandas-docs/stable/user_guide/indexing.html#returning-a-view-versus-a-copy\n",
      "  tmp[tmp.columns[i]] = data.loc[reg][tmp.columns[i]]\n",
      "C:\\Users\\maczek\\PycharmProjects\\message_data\\message_data\\tools\\utilities\\add_globiom.py:483: SettingWithCopyWarning: \n",
      "A value is trying to be set on a copy of a slice from a DataFrame.\n",
      "Try using .loc[row_indexer,col_indexer] = value instead\n",
      "\n",
      "See the caveats in the documentation: https://pandas.pydata.org/pandas-docs/stable/user_guide/indexing.html#returning-a-view-versus-a-copy\n",
      "  tmp[tmp.columns[i]] = (\n",
      "C:\\Users\\maczek\\PycharmProjects\\message_data\\message_data\\tools\\utilities\\add_globiom.py:481: SettingWithCopyWarning: \n",
      "A value is trying to be set on a copy of a slice from a DataFrame.\n",
      "Try using .loc[row_indexer,col_indexer] = value instead\n",
      "\n",
      "See the caveats in the documentation: https://pandas.pydata.org/pandas-docs/stable/user_guide/indexing.html#returning-a-view-versus-a-copy\n",
      "  tmp[tmp.columns[i]] = data.loc[reg][tmp.columns[i]]\n",
      "C:\\Users\\maczek\\PycharmProjects\\message_data\\message_data\\tools\\utilities\\add_globiom.py:483: SettingWithCopyWarning: \n",
      "A value is trying to be set on a copy of a slice from a DataFrame.\n",
      "Try using .loc[row_indexer,col_indexer] = value instead\n",
      "\n",
      "See the caveats in the documentation: https://pandas.pydata.org/pandas-docs/stable/user_guide/indexing.html#returning-a-view-versus-a-copy\n",
      "  tmp[tmp.columns[i]] = (\n",
      "C:\\Users\\maczek\\PycharmProjects\\message_data\\message_data\\tools\\utilities\\add_globiom.py:481: SettingWithCopyWarning: \n",
      "A value is trying to be set on a copy of a slice from a DataFrame.\n",
      "Try using .loc[row_indexer,col_indexer] = value instead\n",
      "\n",
      "See the caveats in the documentation: https://pandas.pydata.org/pandas-docs/stable/user_guide/indexing.html#returning-a-view-versus-a-copy\n",
      "  tmp[tmp.columns[i]] = data.loc[reg][tmp.columns[i]]\n",
      "C:\\Users\\maczek\\PycharmProjects\\message_data\\message_data\\tools\\utilities\\add_globiom.py:483: SettingWithCopyWarning: \n",
      "A value is trying to be set on a copy of a slice from a DataFrame.\n",
      "Try using .loc[row_indexer,col_indexer] = value instead\n",
      "\n",
      "See the caveats in the documentation: https://pandas.pydata.org/pandas-docs/stable/user_guide/indexing.html#returning-a-view-versus-a-copy\n",
      "  tmp[tmp.columns[i]] = (\n",
      "C:\\Users\\maczek\\PycharmProjects\\message_data\\message_data\\tools\\utilities\\add_globiom.py:481: SettingWithCopyWarning: \n",
      "A value is trying to be set on a copy of a slice from a DataFrame.\n",
      "Try using .loc[row_indexer,col_indexer] = value instead\n",
      "\n",
      "See the caveats in the documentation: https://pandas.pydata.org/pandas-docs/stable/user_guide/indexing.html#returning-a-view-versus-a-copy\n",
      "  tmp[tmp.columns[i]] = data.loc[reg][tmp.columns[i]]\n",
      "C:\\Users\\maczek\\PycharmProjects\\message_data\\message_data\\tools\\utilities\\add_globiom.py:483: SettingWithCopyWarning: \n",
      "A value is trying to be set on a copy of a slice from a DataFrame.\n",
      "Try using .loc[row_indexer,col_indexer] = value instead\n",
      "\n",
      "See the caveats in the documentation: https://pandas.pydata.org/pandas-docs/stable/user_guide/indexing.html#returning-a-view-versus-a-copy\n",
      "  tmp[tmp.columns[i]] = (\n",
      "C:\\Users\\maczek\\PycharmProjects\\message_data\\message_data\\tools\\utilities\\add_globiom.py:481: SettingWithCopyWarning: \n",
      "A value is trying to be set on a copy of a slice from a DataFrame.\n",
      "Try using .loc[row_indexer,col_indexer] = value instead\n",
      "\n",
      "See the caveats in the documentation: https://pandas.pydata.org/pandas-docs/stable/user_guide/indexing.html#returning-a-view-versus-a-copy\n",
      "  tmp[tmp.columns[i]] = data.loc[reg][tmp.columns[i]]\n",
      "C:\\Users\\maczek\\PycharmProjects\\message_data\\message_data\\tools\\utilities\\add_globiom.py:483: SettingWithCopyWarning: \n",
      "A value is trying to be set on a copy of a slice from a DataFrame.\n",
      "Try using .loc[row_indexer,col_indexer] = value instead\n",
      "\n",
      "See the caveats in the documentation: https://pandas.pydata.org/pandas-docs/stable/user_guide/indexing.html#returning-a-view-versus-a-copy\n",
      "  tmp[tmp.columns[i]] = (\n",
      "C:\\Users\\maczek\\PycharmProjects\\message_data\\message_data\\tools\\utilities\\add_globiom.py:481: SettingWithCopyWarning: \n",
      "A value is trying to be set on a copy of a slice from a DataFrame.\n",
      "Try using .loc[row_indexer,col_indexer] = value instead\n",
      "\n",
      "See the caveats in the documentation: https://pandas.pydata.org/pandas-docs/stable/user_guide/indexing.html#returning-a-view-versus-a-copy\n",
      "  tmp[tmp.columns[i]] = data.loc[reg][tmp.columns[i]]\n",
      "C:\\Users\\maczek\\PycharmProjects\\message_data\\message_data\\tools\\utilities\\add_globiom.py:483: SettingWithCopyWarning: \n",
      "A value is trying to be set on a copy of a slice from a DataFrame.\n",
      "Try using .loc[row_indexer,col_indexer] = value instead\n",
      "\n",
      "See the caveats in the documentation: https://pandas.pydata.org/pandas-docs/stable/user_guide/indexing.html#returning-a-view-versus-a-copy\n",
      "  tmp[tmp.columns[i]] = (\n",
      "C:\\Users\\maczek\\PycharmProjects\\message_data\\message_data\\tools\\utilities\\add_globiom.py:481: SettingWithCopyWarning: \n",
      "A value is trying to be set on a copy of a slice from a DataFrame.\n",
      "Try using .loc[row_indexer,col_indexer] = value instead\n",
      "\n",
      "See the caveats in the documentation: https://pandas.pydata.org/pandas-docs/stable/user_guide/indexing.html#returning-a-view-versus-a-copy\n",
      "  tmp[tmp.columns[i]] = data.loc[reg][tmp.columns[i]]\n",
      "C:\\Users\\maczek\\PycharmProjects\\message_data\\message_data\\tools\\utilities\\add_globiom.py:483: SettingWithCopyWarning: \n",
      "A value is trying to be set on a copy of a slice from a DataFrame.\n",
      "Try using .loc[row_indexer,col_indexer] = value instead\n",
      "\n",
      "See the caveats in the documentation: https://pandas.pydata.org/pandas-docs/stable/user_guide/indexing.html#returning-a-view-versus-a-copy\n",
      "  tmp[tmp.columns[i]] = (\n",
      "C:\\Users\\maczek\\PycharmProjects\\message_data\\message_data\\tools\\utilities\\add_globiom.py:481: SettingWithCopyWarning: \n",
      "A value is trying to be set on a copy of a slice from a DataFrame.\n",
      "Try using .loc[row_indexer,col_indexer] = value instead\n",
      "\n",
      "See the caveats in the documentation: https://pandas.pydata.org/pandas-docs/stable/user_guide/indexing.html#returning-a-view-versus-a-copy\n",
      "  tmp[tmp.columns[i]] = data.loc[reg][tmp.columns[i]]\n",
      "C:\\Users\\maczek\\PycharmProjects\\message_data\\message_data\\tools\\utilities\\add_globiom.py:483: SettingWithCopyWarning: \n",
      "A value is trying to be set on a copy of a slice from a DataFrame.\n",
      "Try using .loc[row_indexer,col_indexer] = value instead\n",
      "\n",
      "See the caveats in the documentation: https://pandas.pydata.org/pandas-docs/stable/user_guide/indexing.html#returning-a-view-versus-a-copy\n",
      "  tmp[tmp.columns[i]] = (\n",
      "C:\\Users\\maczek\\PycharmProjects\\message_data\\message_data\\tools\\utilities\\add_globiom.py:481: SettingWithCopyWarning: \n",
      "A value is trying to be set on a copy of a slice from a DataFrame.\n",
      "Try using .loc[row_indexer,col_indexer] = value instead\n",
      "\n",
      "See the caveats in the documentation: https://pandas.pydata.org/pandas-docs/stable/user_guide/indexing.html#returning-a-view-versus-a-copy\n",
      "  tmp[tmp.columns[i]] = data.loc[reg][tmp.columns[i]]\n",
      "C:\\Users\\maczek\\PycharmProjects\\message_data\\message_data\\tools\\utilities\\add_globiom.py:483: SettingWithCopyWarning: \n",
      "A value is trying to be set on a copy of a slice from a DataFrame.\n",
      "Try using .loc[row_indexer,col_indexer] = value instead\n",
      "\n",
      "See the caveats in the documentation: https://pandas.pydata.org/pandas-docs/stable/user_guide/indexing.html#returning-a-view-versus-a-copy\n",
      "  tmp[tmp.columns[i]] = (\n",
      "C:\\Users\\maczek\\PycharmProjects\\message_data\\message_data\\tools\\utilities\\add_globiom.py:481: SettingWithCopyWarning: \n",
      "A value is trying to be set on a copy of a slice from a DataFrame.\n",
      "Try using .loc[row_indexer,col_indexer] = value instead\n",
      "\n",
      "See the caveats in the documentation: https://pandas.pydata.org/pandas-docs/stable/user_guide/indexing.html#returning-a-view-versus-a-copy\n",
      "  tmp[tmp.columns[i]] = data.loc[reg][tmp.columns[i]]\n",
      "C:\\Users\\maczek\\PycharmProjects\\message_data\\message_data\\tools\\utilities\\add_globiom.py:483: SettingWithCopyWarning: \n",
      "A value is trying to be set on a copy of a slice from a DataFrame.\n",
      "Try using .loc[row_indexer,col_indexer] = value instead\n",
      "\n",
      "See the caveats in the documentation: https://pandas.pydata.org/pandas-docs/stable/user_guide/indexing.html#returning-a-view-versus-a-copy\n",
      "  tmp[tmp.columns[i]] = (\n",
      "C:\\Users\\maczek\\PycharmProjects\\message_data\\message_data\\tools\\utilities\\add_globiom.py:481: SettingWithCopyWarning: \n",
      "A value is trying to be set on a copy of a slice from a DataFrame.\n",
      "Try using .loc[row_indexer,col_indexer] = value instead\n",
      "\n",
      "See the caveats in the documentation: https://pandas.pydata.org/pandas-docs/stable/user_guide/indexing.html#returning-a-view-versus-a-copy\n",
      "  tmp[tmp.columns[i]] = data.loc[reg][tmp.columns[i]]\n",
      "C:\\Users\\maczek\\PycharmProjects\\message_data\\message_data\\tools\\utilities\\add_globiom.py:483: SettingWithCopyWarning: \n",
      "A value is trying to be set on a copy of a slice from a DataFrame.\n",
      "Try using .loc[row_indexer,col_indexer] = value instead\n",
      "\n",
      "See the caveats in the documentation: https://pandas.pydata.org/pandas-docs/stable/user_guide/indexing.html#returning-a-view-versus-a-copy\n",
      "  tmp[tmp.columns[i]] = (\n",
      "C:\\Users\\maczek\\PycharmProjects\\message_data\\message_data\\tools\\utilities\\add_globiom.py:481: SettingWithCopyWarning: \n",
      "A value is trying to be set on a copy of a slice from a DataFrame.\n",
      "Try using .loc[row_indexer,col_indexer] = value instead\n",
      "\n",
      "See the caveats in the documentation: https://pandas.pydata.org/pandas-docs/stable/user_guide/indexing.html#returning-a-view-versus-a-copy\n",
      "  tmp[tmp.columns[i]] = data.loc[reg][tmp.columns[i]]\n",
      "C:\\Users\\maczek\\PycharmProjects\\message_data\\message_data\\tools\\utilities\\add_globiom.py:483: SettingWithCopyWarning: \n",
      "A value is trying to be set on a copy of a slice from a DataFrame.\n",
      "Try using .loc[row_indexer,col_indexer] = value instead\n",
      "\n",
      "See the caveats in the documentation: https://pandas.pydata.org/pandas-docs/stable/user_guide/indexing.html#returning-a-view-versus-a-copy\n",
      "  tmp[tmp.columns[i]] = (\n",
      "C:\\Users\\maczek\\PycharmProjects\\message_data\\message_data\\tools\\utilities\\add_globiom.py:481: SettingWithCopyWarning: \n",
      "A value is trying to be set on a copy of a slice from a DataFrame.\n",
      "Try using .loc[row_indexer,col_indexer] = value instead\n",
      "\n",
      "See the caveats in the documentation: https://pandas.pydata.org/pandas-docs/stable/user_guide/indexing.html#returning-a-view-versus-a-copy\n",
      "  tmp[tmp.columns[i]] = data.loc[reg][tmp.columns[i]]\n",
      "C:\\Users\\maczek\\PycharmProjects\\message_data\\message_data\\tools\\utilities\\add_globiom.py:483: SettingWithCopyWarning: \n",
      "A value is trying to be set on a copy of a slice from a DataFrame.\n",
      "Try using .loc[row_indexer,col_indexer] = value instead\n",
      "\n",
      "See the caveats in the documentation: https://pandas.pydata.org/pandas-docs/stable/user_guide/indexing.html#returning-a-view-versus-a-copy\n",
      "  tmp[tmp.columns[i]] = (\n",
      "C:\\Users\\maczek\\PycharmProjects\\message_data\\message_data\\tools\\utilities\\add_globiom.py:481: SettingWithCopyWarning: \n",
      "A value is trying to be set on a copy of a slice from a DataFrame.\n",
      "Try using .loc[row_indexer,col_indexer] = value instead\n",
      "\n",
      "See the caveats in the documentation: https://pandas.pydata.org/pandas-docs/stable/user_guide/indexing.html#returning-a-view-versus-a-copy\n",
      "  tmp[tmp.columns[i]] = data.loc[reg][tmp.columns[i]]\n",
      "C:\\Users\\maczek\\PycharmProjects\\message_data\\message_data\\tools\\utilities\\add_globiom.py:483: SettingWithCopyWarning: \n",
      "A value is trying to be set on a copy of a slice from a DataFrame.\n",
      "Try using .loc[row_indexer,col_indexer] = value instead\n",
      "\n",
      "See the caveats in the documentation: https://pandas.pydata.org/pandas-docs/stable/user_guide/indexing.html#returning-a-view-versus-a-copy\n",
      "  tmp[tmp.columns[i]] = (\n",
      "C:\\Users\\maczek\\PycharmProjects\\message_data\\message_data\\tools\\utilities\\add_globiom.py:481: SettingWithCopyWarning: \n",
      "A value is trying to be set on a copy of a slice from a DataFrame.\n",
      "Try using .loc[row_indexer,col_indexer] = value instead\n",
      "\n",
      "See the caveats in the documentation: https://pandas.pydata.org/pandas-docs/stable/user_guide/indexing.html#returning-a-view-versus-a-copy\n",
      "  tmp[tmp.columns[i]] = data.loc[reg][tmp.columns[i]]\n",
      "C:\\Users\\maczek\\PycharmProjects\\message_data\\message_data\\tools\\utilities\\add_globiom.py:483: SettingWithCopyWarning: \n",
      "A value is trying to be set on a copy of a slice from a DataFrame.\n",
      "Try using .loc[row_indexer,col_indexer] = value instead\n",
      "\n",
      "See the caveats in the documentation: https://pandas.pydata.org/pandas-docs/stable/user_guide/indexing.html#returning-a-view-versus-a-copy\n",
      "  tmp[tmp.columns[i]] = (\n",
      "C:\\Users\\maczek\\PycharmProjects\\message_data\\message_data\\tools\\utilities\\add_globiom.py:481: SettingWithCopyWarning: \n",
      "A value is trying to be set on a copy of a slice from a DataFrame.\n",
      "Try using .loc[row_indexer,col_indexer] = value instead\n",
      "\n",
      "See the caveats in the documentation: https://pandas.pydata.org/pandas-docs/stable/user_guide/indexing.html#returning-a-view-versus-a-copy\n",
      "  tmp[tmp.columns[i]] = data.loc[reg][tmp.columns[i]]\n",
      "C:\\Users\\maczek\\PycharmProjects\\message_data\\message_data\\tools\\utilities\\add_globiom.py:483: SettingWithCopyWarning: \n",
      "A value is trying to be set on a copy of a slice from a DataFrame.\n",
      "Try using .loc[row_indexer,col_indexer] = value instead\n",
      "\n",
      "See the caveats in the documentation: https://pandas.pydata.org/pandas-docs/stable/user_guide/indexing.html#returning-a-view-versus-a-copy\n",
      "  tmp[tmp.columns[i]] = (\n",
      "C:\\Users\\maczek\\PycharmProjects\\message_data\\message_data\\tools\\utilities\\add_globiom.py:481: SettingWithCopyWarning: \n",
      "A value is trying to be set on a copy of a slice from a DataFrame.\n",
      "Try using .loc[row_indexer,col_indexer] = value instead\n",
      "\n",
      "See the caveats in the documentation: https://pandas.pydata.org/pandas-docs/stable/user_guide/indexing.html#returning-a-view-versus-a-copy\n",
      "  tmp[tmp.columns[i]] = data.loc[reg][tmp.columns[i]]\n",
      "C:\\Users\\maczek\\PycharmProjects\\message_data\\message_data\\tools\\utilities\\add_globiom.py:483: SettingWithCopyWarning: \n",
      "A value is trying to be set on a copy of a slice from a DataFrame.\n",
      "Try using .loc[row_indexer,col_indexer] = value instead\n",
      "\n",
      "See the caveats in the documentation: https://pandas.pydata.org/pandas-docs/stable/user_guide/indexing.html#returning-a-view-versus-a-copy\n",
      "  tmp[tmp.columns[i]] = (\n",
      "C:\\Users\\maczek\\PycharmProjects\\message_data\\message_data\\tools\\utilities\\add_globiom.py:481: SettingWithCopyWarning: \n",
      "A value is trying to be set on a copy of a slice from a DataFrame.\n",
      "Try using .loc[row_indexer,col_indexer] = value instead\n",
      "\n",
      "See the caveats in the documentation: https://pandas.pydata.org/pandas-docs/stable/user_guide/indexing.html#returning-a-view-versus-a-copy\n",
      "  tmp[tmp.columns[i]] = data.loc[reg][tmp.columns[i]]\n",
      "C:\\Users\\maczek\\PycharmProjects\\message_data\\message_data\\tools\\utilities\\add_globiom.py:483: SettingWithCopyWarning: \n",
      "A value is trying to be set on a copy of a slice from a DataFrame.\n",
      "Try using .loc[row_indexer,col_indexer] = value instead\n",
      "\n",
      "See the caveats in the documentation: https://pandas.pydata.org/pandas-docs/stable/user_guide/indexing.html#returning-a-view-versus-a-copy\n",
      "  tmp[tmp.columns[i]] = (\n",
      "C:\\Users\\maczek\\PycharmProjects\\message_data\\message_data\\tools\\utilities\\add_globiom.py:481: SettingWithCopyWarning: \n",
      "A value is trying to be set on a copy of a slice from a DataFrame.\n",
      "Try using .loc[row_indexer,col_indexer] = value instead\n",
      "\n",
      "See the caveats in the documentation: https://pandas.pydata.org/pandas-docs/stable/user_guide/indexing.html#returning-a-view-versus-a-copy\n",
      "  tmp[tmp.columns[i]] = data.loc[reg][tmp.columns[i]]\n",
      "C:\\Users\\maczek\\PycharmProjects\\message_data\\message_data\\tools\\utilities\\add_globiom.py:483: SettingWithCopyWarning: \n",
      "A value is trying to be set on a copy of a slice from a DataFrame.\n",
      "Try using .loc[row_indexer,col_indexer] = value instead\n",
      "\n",
      "See the caveats in the documentation: https://pandas.pydata.org/pandas-docs/stable/user_guide/indexing.html#returning-a-view-versus-a-copy\n",
      "  tmp[tmp.columns[i]] = (\n",
      "C:\\Users\\maczek\\PycharmProjects\\message_data\\message_data\\tools\\utilities\\add_globiom.py:481: SettingWithCopyWarning: \n",
      "A value is trying to be set on a copy of a slice from a DataFrame.\n",
      "Try using .loc[row_indexer,col_indexer] = value instead\n",
      "\n",
      "See the caveats in the documentation: https://pandas.pydata.org/pandas-docs/stable/user_guide/indexing.html#returning-a-view-versus-a-copy\n",
      "  tmp[tmp.columns[i]] = data.loc[reg][tmp.columns[i]]\n",
      "C:\\Users\\maczek\\PycharmProjects\\message_data\\message_data\\tools\\utilities\\add_globiom.py:483: SettingWithCopyWarning: \n",
      "A value is trying to be set on a copy of a slice from a DataFrame.\n",
      "Try using .loc[row_indexer,col_indexer] = value instead\n",
      "\n",
      "See the caveats in the documentation: https://pandas.pydata.org/pandas-docs/stable/user_guide/indexing.html#returning-a-view-versus-a-copy\n",
      "  tmp[tmp.columns[i]] = (\n",
      "C:\\Users\\maczek\\PycharmProjects\\message_data\\message_data\\tools\\utilities\\add_globiom.py:481: SettingWithCopyWarning: \n",
      "A value is trying to be set on a copy of a slice from a DataFrame.\n",
      "Try using .loc[row_indexer,col_indexer] = value instead\n",
      "\n",
      "See the caveats in the documentation: https://pandas.pydata.org/pandas-docs/stable/user_guide/indexing.html#returning-a-view-versus-a-copy\n",
      "  tmp[tmp.columns[i]] = data.loc[reg][tmp.columns[i]]\n",
      "C:\\Users\\maczek\\PycharmProjects\\message_data\\message_data\\tools\\utilities\\add_globiom.py:483: SettingWithCopyWarning: \n",
      "A value is trying to be set on a copy of a slice from a DataFrame.\n",
      "Try using .loc[row_indexer,col_indexer] = value instead\n",
      "\n",
      "See the caveats in the documentation: https://pandas.pydata.org/pandas-docs/stable/user_guide/indexing.html#returning-a-view-versus-a-copy\n",
      "  tmp[tmp.columns[i]] = (\n",
      "C:\\Users\\maczek\\PycharmProjects\\message_data\\message_data\\tools\\utilities\\add_globiom.py:481: SettingWithCopyWarning: \n",
      "A value is trying to be set on a copy of a slice from a DataFrame.\n",
      "Try using .loc[row_indexer,col_indexer] = value instead\n",
      "\n",
      "See the caveats in the documentation: https://pandas.pydata.org/pandas-docs/stable/user_guide/indexing.html#returning-a-view-versus-a-copy\n",
      "  tmp[tmp.columns[i]] = data.loc[reg][tmp.columns[i]]\n",
      "C:\\Users\\maczek\\PycharmProjects\\message_data\\message_data\\tools\\utilities\\add_globiom.py:483: SettingWithCopyWarning: \n",
      "A value is trying to be set on a copy of a slice from a DataFrame.\n",
      "Try using .loc[row_indexer,col_indexer] = value instead\n",
      "\n",
      "See the caveats in the documentation: https://pandas.pydata.org/pandas-docs/stable/user_guide/indexing.html#returning-a-view-versus-a-copy\n",
      "  tmp[tmp.columns[i]] = (\n",
      "C:\\Users\\maczek\\PycharmProjects\\message_data\\message_data\\tools\\utilities\\add_globiom.py:481: SettingWithCopyWarning: \n",
      "A value is trying to be set on a copy of a slice from a DataFrame.\n",
      "Try using .loc[row_indexer,col_indexer] = value instead\n",
      "\n",
      "See the caveats in the documentation: https://pandas.pydata.org/pandas-docs/stable/user_guide/indexing.html#returning-a-view-versus-a-copy\n",
      "  tmp[tmp.columns[i]] = data.loc[reg][tmp.columns[i]]\n",
      "C:\\Users\\maczek\\PycharmProjects\\message_data\\message_data\\tools\\utilities\\add_globiom.py:483: SettingWithCopyWarning: \n",
      "A value is trying to be set on a copy of a slice from a DataFrame.\n",
      "Try using .loc[row_indexer,col_indexer] = value instead\n",
      "\n",
      "See the caveats in the documentation: https://pandas.pydata.org/pandas-docs/stable/user_guide/indexing.html#returning-a-view-versus-a-copy\n",
      "  tmp[tmp.columns[i]] = (\n",
      "C:\\Users\\maczek\\PycharmProjects\\message_data\\message_data\\tools\\utilities\\add_globiom.py:481: SettingWithCopyWarning: \n",
      "A value is trying to be set on a copy of a slice from a DataFrame.\n",
      "Try using .loc[row_indexer,col_indexer] = value instead\n",
      "\n",
      "See the caveats in the documentation: https://pandas.pydata.org/pandas-docs/stable/user_guide/indexing.html#returning-a-view-versus-a-copy\n",
      "  tmp[tmp.columns[i]] = data.loc[reg][tmp.columns[i]]\n",
      "C:\\Users\\maczek\\PycharmProjects\\message_data\\message_data\\tools\\utilities\\add_globiom.py:483: SettingWithCopyWarning: \n",
      "A value is trying to be set on a copy of a slice from a DataFrame.\n",
      "Try using .loc[row_indexer,col_indexer] = value instead\n",
      "\n",
      "See the caveats in the documentation: https://pandas.pydata.org/pandas-docs/stable/user_guide/indexing.html#returning-a-view-versus-a-copy\n",
      "  tmp[tmp.columns[i]] = (\n",
      "C:\\Users\\maczek\\PycharmProjects\\message_data\\message_data\\tools\\utilities\\add_globiom.py:481: SettingWithCopyWarning: \n",
      "A value is trying to be set on a copy of a slice from a DataFrame.\n",
      "Try using .loc[row_indexer,col_indexer] = value instead\n",
      "\n",
      "See the caveats in the documentation: https://pandas.pydata.org/pandas-docs/stable/user_guide/indexing.html#returning-a-view-versus-a-copy\n",
      "  tmp[tmp.columns[i]] = data.loc[reg][tmp.columns[i]]\n",
      "C:\\Users\\maczek\\PycharmProjects\\message_data\\message_data\\tools\\utilities\\add_globiom.py:483: SettingWithCopyWarning: \n",
      "A value is trying to be set on a copy of a slice from a DataFrame.\n",
      "Try using .loc[row_indexer,col_indexer] = value instead\n",
      "\n",
      "See the caveats in the documentation: https://pandas.pydata.org/pandas-docs/stable/user_guide/indexing.html#returning-a-view-versus-a-copy\n",
      "  tmp[tmp.columns[i]] = (\n",
      "C:\\Users\\maczek\\PycharmProjects\\message_data\\message_data\\tools\\utilities\\add_globiom.py:481: SettingWithCopyWarning: \n",
      "A value is trying to be set on a copy of a slice from a DataFrame.\n",
      "Try using .loc[row_indexer,col_indexer] = value instead\n",
      "\n",
      "See the caveats in the documentation: https://pandas.pydata.org/pandas-docs/stable/user_guide/indexing.html#returning-a-view-versus-a-copy\n",
      "  tmp[tmp.columns[i]] = data.loc[reg][tmp.columns[i]]\n",
      "C:\\Users\\maczek\\PycharmProjects\\message_data\\message_data\\tools\\utilities\\add_globiom.py:483: SettingWithCopyWarning: \n",
      "A value is trying to be set on a copy of a slice from a DataFrame.\n",
      "Try using .loc[row_indexer,col_indexer] = value instead\n",
      "\n",
      "See the caveats in the documentation: https://pandas.pydata.org/pandas-docs/stable/user_guide/indexing.html#returning-a-view-versus-a-copy\n",
      "  tmp[tmp.columns[i]] = (\n",
      "C:\\Users\\maczek\\PycharmProjects\\message_data\\message_data\\tools\\utilities\\add_globiom.py:481: SettingWithCopyWarning: \n",
      "A value is trying to be set on a copy of a slice from a DataFrame.\n",
      "Try using .loc[row_indexer,col_indexer] = value instead\n",
      "\n",
      "See the caveats in the documentation: https://pandas.pydata.org/pandas-docs/stable/user_guide/indexing.html#returning-a-view-versus-a-copy\n",
      "  tmp[tmp.columns[i]] = data.loc[reg][tmp.columns[i]]\n",
      "C:\\Users\\maczek\\PycharmProjects\\message_data\\message_data\\tools\\utilities\\add_globiom.py:483: SettingWithCopyWarning: \n",
      "A value is trying to be set on a copy of a slice from a DataFrame.\n",
      "Try using .loc[row_indexer,col_indexer] = value instead\n",
      "\n",
      "See the caveats in the documentation: https://pandas.pydata.org/pandas-docs/stable/user_guide/indexing.html#returning-a-view-versus-a-copy\n",
      "  tmp[tmp.columns[i]] = (\n",
      "C:\\Users\\maczek\\PycharmProjects\\message_data\\message_data\\tools\\utilities\\add_globiom.py:481: SettingWithCopyWarning: \n",
      "A value is trying to be set on a copy of a slice from a DataFrame.\n",
      "Try using .loc[row_indexer,col_indexer] = value instead\n",
      "\n",
      "See the caveats in the documentation: https://pandas.pydata.org/pandas-docs/stable/user_guide/indexing.html#returning-a-view-versus-a-copy\n",
      "  tmp[tmp.columns[i]] = data.loc[reg][tmp.columns[i]]\n",
      "C:\\Users\\maczek\\PycharmProjects\\message_data\\message_data\\tools\\utilities\\add_globiom.py:483: SettingWithCopyWarning: \n",
      "A value is trying to be set on a copy of a slice from a DataFrame.\n",
      "Try using .loc[row_indexer,col_indexer] = value instead\n",
      "\n",
      "See the caveats in the documentation: https://pandas.pydata.org/pandas-docs/stable/user_guide/indexing.html#returning-a-view-versus-a-copy\n",
      "  tmp[tmp.columns[i]] = (\n",
      "C:\\Users\\maczek\\PycharmProjects\\message_data\\message_data\\tools\\utilities\\add_globiom.py:481: SettingWithCopyWarning: \n",
      "A value is trying to be set on a copy of a slice from a DataFrame.\n",
      "Try using .loc[row_indexer,col_indexer] = value instead\n",
      "\n",
      "See the caveats in the documentation: https://pandas.pydata.org/pandas-docs/stable/user_guide/indexing.html#returning-a-view-versus-a-copy\n",
      "  tmp[tmp.columns[i]] = data.loc[reg][tmp.columns[i]]\n",
      "C:\\Users\\maczek\\PycharmProjects\\message_data\\message_data\\tools\\utilities\\add_globiom.py:483: SettingWithCopyWarning: \n",
      "A value is trying to be set on a copy of a slice from a DataFrame.\n",
      "Try using .loc[row_indexer,col_indexer] = value instead\n",
      "\n",
      "See the caveats in the documentation: https://pandas.pydata.org/pandas-docs/stable/user_guide/indexing.html#returning-a-view-versus-a-copy\n",
      "  tmp[tmp.columns[i]] = (\n",
      "C:\\Users\\maczek\\PycharmProjects\\message_data\\message_data\\tools\\utilities\\add_globiom.py:481: SettingWithCopyWarning: \n",
      "A value is trying to be set on a copy of a slice from a DataFrame.\n",
      "Try using .loc[row_indexer,col_indexer] = value instead\n",
      "\n",
      "See the caveats in the documentation: https://pandas.pydata.org/pandas-docs/stable/user_guide/indexing.html#returning-a-view-versus-a-copy\n",
      "  tmp[tmp.columns[i]] = data.loc[reg][tmp.columns[i]]\n",
      "C:\\Users\\maczek\\PycharmProjects\\message_data\\message_data\\tools\\utilities\\add_globiom.py:483: SettingWithCopyWarning: \n",
      "A value is trying to be set on a copy of a slice from a DataFrame.\n",
      "Try using .loc[row_indexer,col_indexer] = value instead\n",
      "\n",
      "See the caveats in the documentation: https://pandas.pydata.org/pandas-docs/stable/user_guide/indexing.html#returning-a-view-versus-a-copy\n",
      "  tmp[tmp.columns[i]] = (\n",
      "C:\\Users\\maczek\\PycharmProjects\\message_data\\message_data\\tools\\utilities\\add_globiom.py:481: SettingWithCopyWarning: \n",
      "A value is trying to be set on a copy of a slice from a DataFrame.\n",
      "Try using .loc[row_indexer,col_indexer] = value instead\n",
      "\n",
      "See the caveats in the documentation: https://pandas.pydata.org/pandas-docs/stable/user_guide/indexing.html#returning-a-view-versus-a-copy\n",
      "  tmp[tmp.columns[i]] = data.loc[reg][tmp.columns[i]]\n",
      "C:\\Users\\maczek\\PycharmProjects\\message_data\\message_data\\tools\\utilities\\add_globiom.py:483: SettingWithCopyWarning: \n",
      "A value is trying to be set on a copy of a slice from a DataFrame.\n",
      "Try using .loc[row_indexer,col_indexer] = value instead\n",
      "\n",
      "See the caveats in the documentation: https://pandas.pydata.org/pandas-docs/stable/user_guide/indexing.html#returning-a-view-versus-a-copy\n",
      "  tmp[tmp.columns[i]] = (\n",
      "C:\\Users\\maczek\\PycharmProjects\\message_data\\message_data\\tools\\utilities\\add_globiom.py:481: SettingWithCopyWarning: \n",
      "A value is trying to be set on a copy of a slice from a DataFrame.\n",
      "Try using .loc[row_indexer,col_indexer] = value instead\n",
      "\n",
      "See the caveats in the documentation: https://pandas.pydata.org/pandas-docs/stable/user_guide/indexing.html#returning-a-view-versus-a-copy\n",
      "  tmp[tmp.columns[i]] = data.loc[reg][tmp.columns[i]]\n",
      "C:\\Users\\maczek\\PycharmProjects\\message_data\\message_data\\tools\\utilities\\add_globiom.py:483: SettingWithCopyWarning: \n",
      "A value is trying to be set on a copy of a slice from a DataFrame.\n",
      "Try using .loc[row_indexer,col_indexer] = value instead\n",
      "\n",
      "See the caveats in the documentation: https://pandas.pydata.org/pandas-docs/stable/user_guide/indexing.html#returning-a-view-versus-a-copy\n",
      "  tmp[tmp.columns[i]] = (\n",
      "C:\\Users\\maczek\\PycharmProjects\\message_data\\message_data\\tools\\utilities\\add_globiom.py:481: SettingWithCopyWarning: \n",
      "A value is trying to be set on a copy of a slice from a DataFrame.\n",
      "Try using .loc[row_indexer,col_indexer] = value instead\n",
      "\n",
      "See the caveats in the documentation: https://pandas.pydata.org/pandas-docs/stable/user_guide/indexing.html#returning-a-view-versus-a-copy\n",
      "  tmp[tmp.columns[i]] = data.loc[reg][tmp.columns[i]]\n",
      "C:\\Users\\maczek\\PycharmProjects\\message_data\\message_data\\tools\\utilities\\add_globiom.py:483: SettingWithCopyWarning: \n",
      "A value is trying to be set on a copy of a slice from a DataFrame.\n",
      "Try using .loc[row_indexer,col_indexer] = value instead\n",
      "\n",
      "See the caveats in the documentation: https://pandas.pydata.org/pandas-docs/stable/user_guide/indexing.html#returning-a-view-versus-a-copy\n",
      "  tmp[tmp.columns[i]] = (\n",
      "C:\\Users\\maczek\\PycharmProjects\\message_data\\message_data\\tools\\utilities\\add_globiom.py:481: SettingWithCopyWarning: \n",
      "A value is trying to be set on a copy of a slice from a DataFrame.\n",
      "Try using .loc[row_indexer,col_indexer] = value instead\n",
      "\n",
      "See the caveats in the documentation: https://pandas.pydata.org/pandas-docs/stable/user_guide/indexing.html#returning-a-view-versus-a-copy\n",
      "  tmp[tmp.columns[i]] = data.loc[reg][tmp.columns[i]]\n",
      "C:\\Users\\maczek\\PycharmProjects\\message_data\\message_data\\tools\\utilities\\add_globiom.py:483: SettingWithCopyWarning: \n",
      "A value is trying to be set on a copy of a slice from a DataFrame.\n",
      "Try using .loc[row_indexer,col_indexer] = value instead\n",
      "\n",
      "See the caveats in the documentation: https://pandas.pydata.org/pandas-docs/stable/user_guide/indexing.html#returning-a-view-versus-a-copy\n",
      "  tmp[tmp.columns[i]] = (\n",
      "C:\\Users\\maczek\\PycharmProjects\\message_data\\message_data\\tools\\utilities\\add_globiom.py:481: SettingWithCopyWarning: \n",
      "A value is trying to be set on a copy of a slice from a DataFrame.\n",
      "Try using .loc[row_indexer,col_indexer] = value instead\n",
      "\n",
      "See the caveats in the documentation: https://pandas.pydata.org/pandas-docs/stable/user_guide/indexing.html#returning-a-view-versus-a-copy\n",
      "  tmp[tmp.columns[i]] = data.loc[reg][tmp.columns[i]]\n",
      "C:\\Users\\maczek\\PycharmProjects\\message_data\\message_data\\tools\\utilities\\add_globiom.py:483: SettingWithCopyWarning: \n",
      "A value is trying to be set on a copy of a slice from a DataFrame.\n",
      "Try using .loc[row_indexer,col_indexer] = value instead\n",
      "\n",
      "See the caveats in the documentation: https://pandas.pydata.org/pandas-docs/stable/user_guide/indexing.html#returning-a-view-versus-a-copy\n",
      "  tmp[tmp.columns[i]] = (\n",
      "C:\\Users\\maczek\\PycharmProjects\\message_data\\message_data\\tools\\utilities\\add_globiom.py:481: SettingWithCopyWarning: \n",
      "A value is trying to be set on a copy of a slice from a DataFrame.\n",
      "Try using .loc[row_indexer,col_indexer] = value instead\n",
      "\n",
      "See the caveats in the documentation: https://pandas.pydata.org/pandas-docs/stable/user_guide/indexing.html#returning-a-view-versus-a-copy\n",
      "  tmp[tmp.columns[i]] = data.loc[reg][tmp.columns[i]]\n",
      "C:\\Users\\maczek\\PycharmProjects\\message_data\\message_data\\tools\\utilities\\add_globiom.py:483: SettingWithCopyWarning: \n",
      "A value is trying to be set on a copy of a slice from a DataFrame.\n",
      "Try using .loc[row_indexer,col_indexer] = value instead\n",
      "\n",
      "See the caveats in the documentation: https://pandas.pydata.org/pandas-docs/stable/user_guide/indexing.html#returning-a-view-versus-a-copy\n",
      "  tmp[tmp.columns[i]] = (\n",
      "C:\\Users\\maczek\\PycharmProjects\\message_data\\message_data\\tools\\utilities\\add_globiom.py:481: SettingWithCopyWarning: \n",
      "A value is trying to be set on a copy of a slice from a DataFrame.\n",
      "Try using .loc[row_indexer,col_indexer] = value instead\n",
      "\n",
      "See the caveats in the documentation: https://pandas.pydata.org/pandas-docs/stable/user_guide/indexing.html#returning-a-view-versus-a-copy\n",
      "  tmp[tmp.columns[i]] = data.loc[reg][tmp.columns[i]]\n",
      "C:\\Users\\maczek\\PycharmProjects\\message_data\\message_data\\tools\\utilities\\add_globiom.py:483: SettingWithCopyWarning: \n",
      "A value is trying to be set on a copy of a slice from a DataFrame.\n",
      "Try using .loc[row_indexer,col_indexer] = value instead\n",
      "\n",
      "See the caveats in the documentation: https://pandas.pydata.org/pandas-docs/stable/user_guide/indexing.html#returning-a-view-versus-a-copy\n",
      "  tmp[tmp.columns[i]] = (\n",
      "C:\\Users\\maczek\\PycharmProjects\\message_data\\message_data\\tools\\utilities\\add_globiom.py:481: SettingWithCopyWarning: \n",
      "A value is trying to be set on a copy of a slice from a DataFrame.\n",
      "Try using .loc[row_indexer,col_indexer] = value instead\n",
      "\n",
      "See the caveats in the documentation: https://pandas.pydata.org/pandas-docs/stable/user_guide/indexing.html#returning-a-view-versus-a-copy\n",
      "  tmp[tmp.columns[i]] = data.loc[reg][tmp.columns[i]]\n",
      "C:\\Users\\maczek\\PycharmProjects\\message_data\\message_data\\tools\\utilities\\add_globiom.py:483: SettingWithCopyWarning: \n",
      "A value is trying to be set on a copy of a slice from a DataFrame.\n",
      "Try using .loc[row_indexer,col_indexer] = value instead\n",
      "\n",
      "See the caveats in the documentation: https://pandas.pydata.org/pandas-docs/stable/user_guide/indexing.html#returning-a-view-versus-a-copy\n",
      "  tmp[tmp.columns[i]] = (\n",
      "C:\\Users\\maczek\\PycharmProjects\\message_data\\message_data\\tools\\utilities\\add_globiom.py:481: SettingWithCopyWarning: \n",
      "A value is trying to be set on a copy of a slice from a DataFrame.\n",
      "Try using .loc[row_indexer,col_indexer] = value instead\n",
      "\n",
      "See the caveats in the documentation: https://pandas.pydata.org/pandas-docs/stable/user_guide/indexing.html#returning-a-view-versus-a-copy\n",
      "  tmp[tmp.columns[i]] = data.loc[reg][tmp.columns[i]]\n",
      "C:\\Users\\maczek\\PycharmProjects\\message_data\\message_data\\tools\\utilities\\add_globiom.py:483: SettingWithCopyWarning: \n",
      "A value is trying to be set on a copy of a slice from a DataFrame.\n",
      "Try using .loc[row_indexer,col_indexer] = value instead\n",
      "\n",
      "See the caveats in the documentation: https://pandas.pydata.org/pandas-docs/stable/user_guide/indexing.html#returning-a-view-versus-a-copy\n",
      "  tmp[tmp.columns[i]] = (\n",
      "C:\\Users\\maczek\\PycharmProjects\\message_data\\message_data\\tools\\utilities\\add_globiom.py:481: SettingWithCopyWarning: \n",
      "A value is trying to be set on a copy of a slice from a DataFrame.\n",
      "Try using .loc[row_indexer,col_indexer] = value instead\n",
      "\n",
      "See the caveats in the documentation: https://pandas.pydata.org/pandas-docs/stable/user_guide/indexing.html#returning-a-view-versus-a-copy\n",
      "  tmp[tmp.columns[i]] = data.loc[reg][tmp.columns[i]]\n",
      "C:\\Users\\maczek\\PycharmProjects\\message_data\\message_data\\tools\\utilities\\add_globiom.py:483: SettingWithCopyWarning: \n",
      "A value is trying to be set on a copy of a slice from a DataFrame.\n",
      "Try using .loc[row_indexer,col_indexer] = value instead\n",
      "\n",
      "See the caveats in the documentation: https://pandas.pydata.org/pandas-docs/stable/user_guide/indexing.html#returning-a-view-versus-a-copy\n",
      "  tmp[tmp.columns[i]] = (\n",
      "C:\\Users\\maczek\\PycharmProjects\\message_data\\message_data\\tools\\utilities\\add_globiom.py:481: SettingWithCopyWarning: \n",
      "A value is trying to be set on a copy of a slice from a DataFrame.\n",
      "Try using .loc[row_indexer,col_indexer] = value instead\n",
      "\n",
      "See the caveats in the documentation: https://pandas.pydata.org/pandas-docs/stable/user_guide/indexing.html#returning-a-view-versus-a-copy\n",
      "  tmp[tmp.columns[i]] = data.loc[reg][tmp.columns[i]]\n",
      "C:\\Users\\maczek\\PycharmProjects\\message_data\\message_data\\tools\\utilities\\add_globiom.py:483: SettingWithCopyWarning: \n",
      "A value is trying to be set on a copy of a slice from a DataFrame.\n",
      "Try using .loc[row_indexer,col_indexer] = value instead\n",
      "\n",
      "See the caveats in the documentation: https://pandas.pydata.org/pandas-docs/stable/user_guide/indexing.html#returning-a-view-versus-a-copy\n",
      "  tmp[tmp.columns[i]] = (\n",
      "C:\\Users\\maczek\\PycharmProjects\\message_data\\message_data\\tools\\utilities\\add_globiom.py:481: SettingWithCopyWarning: \n",
      "A value is trying to be set on a copy of a slice from a DataFrame.\n",
      "Try using .loc[row_indexer,col_indexer] = value instead\n",
      "\n",
      "See the caveats in the documentation: https://pandas.pydata.org/pandas-docs/stable/user_guide/indexing.html#returning-a-view-versus-a-copy\n",
      "  tmp[tmp.columns[i]] = data.loc[reg][tmp.columns[i]]\n",
      "C:\\Users\\maczek\\PycharmProjects\\message_data\\message_data\\tools\\utilities\\add_globiom.py:483: SettingWithCopyWarning: \n",
      "A value is trying to be set on a copy of a slice from a DataFrame.\n",
      "Try using .loc[row_indexer,col_indexer] = value instead\n",
      "\n",
      "See the caveats in the documentation: https://pandas.pydata.org/pandas-docs/stable/user_guide/indexing.html#returning-a-view-versus-a-copy\n",
      "  tmp[tmp.columns[i]] = (\n",
      "C:\\Users\\maczek\\PycharmProjects\\message_data\\message_data\\tools\\utilities\\add_globiom.py:481: SettingWithCopyWarning: \n",
      "A value is trying to be set on a copy of a slice from a DataFrame.\n",
      "Try using .loc[row_indexer,col_indexer] = value instead\n",
      "\n",
      "See the caveats in the documentation: https://pandas.pydata.org/pandas-docs/stable/user_guide/indexing.html#returning-a-view-versus-a-copy\n",
      "  tmp[tmp.columns[i]] = data.loc[reg][tmp.columns[i]]\n",
      "C:\\Users\\maczek\\PycharmProjects\\message_data\\message_data\\tools\\utilities\\add_globiom.py:483: SettingWithCopyWarning: \n",
      "A value is trying to be set on a copy of a slice from a DataFrame.\n",
      "Try using .loc[row_indexer,col_indexer] = value instead\n",
      "\n",
      "See the caveats in the documentation: https://pandas.pydata.org/pandas-docs/stable/user_guide/indexing.html#returning-a-view-versus-a-copy\n",
      "  tmp[tmp.columns[i]] = (\n",
      "C:\\Users\\maczek\\PycharmProjects\\message_data\\message_data\\tools\\utilities\\add_globiom.py:481: SettingWithCopyWarning: \n",
      "A value is trying to be set on a copy of a slice from a DataFrame.\n",
      "Try using .loc[row_indexer,col_indexer] = value instead\n",
      "\n",
      "See the caveats in the documentation: https://pandas.pydata.org/pandas-docs/stable/user_guide/indexing.html#returning-a-view-versus-a-copy\n",
      "  tmp[tmp.columns[i]] = data.loc[reg][tmp.columns[i]]\n",
      "C:\\Users\\maczek\\PycharmProjects\\message_data\\message_data\\tools\\utilities\\add_globiom.py:483: SettingWithCopyWarning: \n",
      "A value is trying to be set on a copy of a slice from a DataFrame.\n",
      "Try using .loc[row_indexer,col_indexer] = value instead\n",
      "\n",
      "See the caveats in the documentation: https://pandas.pydata.org/pandas-docs/stable/user_guide/indexing.html#returning-a-view-versus-a-copy\n",
      "  tmp[tmp.columns[i]] = (\n",
      "C:\\Users\\maczek\\PycharmProjects\\message_data\\message_data\\tools\\utilities\\add_globiom.py:481: SettingWithCopyWarning: \n",
      "A value is trying to be set on a copy of a slice from a DataFrame.\n",
      "Try using .loc[row_indexer,col_indexer] = value instead\n",
      "\n",
      "See the caveats in the documentation: https://pandas.pydata.org/pandas-docs/stable/user_guide/indexing.html#returning-a-view-versus-a-copy\n",
      "  tmp[tmp.columns[i]] = data.loc[reg][tmp.columns[i]]\n",
      "C:\\Users\\maczek\\PycharmProjects\\message_data\\message_data\\tools\\utilities\\add_globiom.py:483: SettingWithCopyWarning: \n",
      "A value is trying to be set on a copy of a slice from a DataFrame.\n",
      "Try using .loc[row_indexer,col_indexer] = value instead\n",
      "\n",
      "See the caveats in the documentation: https://pandas.pydata.org/pandas-docs/stable/user_guide/indexing.html#returning-a-view-versus-a-copy\n",
      "  tmp[tmp.columns[i]] = (\n",
      "C:\\Users\\maczek\\PycharmProjects\\message_data\\message_data\\tools\\utilities\\add_globiom.py:481: SettingWithCopyWarning: \n",
      "A value is trying to be set on a copy of a slice from a DataFrame.\n",
      "Try using .loc[row_indexer,col_indexer] = value instead\n",
      "\n",
      "See the caveats in the documentation: https://pandas.pydata.org/pandas-docs/stable/user_guide/indexing.html#returning-a-view-versus-a-copy\n",
      "  tmp[tmp.columns[i]] = data.loc[reg][tmp.columns[i]]\n",
      "C:\\Users\\maczek\\PycharmProjects\\message_data\\message_data\\tools\\utilities\\add_globiom.py:483: SettingWithCopyWarning: \n",
      "A value is trying to be set on a copy of a slice from a DataFrame.\n",
      "Try using .loc[row_indexer,col_indexer] = value instead\n",
      "\n",
      "See the caveats in the documentation: https://pandas.pydata.org/pandas-docs/stable/user_guide/indexing.html#returning-a-view-versus-a-copy\n",
      "  tmp[tmp.columns[i]] = (\n",
      "C:\\Users\\maczek\\PycharmProjects\\message_data\\message_data\\tools\\utilities\\add_globiom.py:481: SettingWithCopyWarning: \n",
      "A value is trying to be set on a copy of a slice from a DataFrame.\n",
      "Try using .loc[row_indexer,col_indexer] = value instead\n",
      "\n",
      "See the caveats in the documentation: https://pandas.pydata.org/pandas-docs/stable/user_guide/indexing.html#returning-a-view-versus-a-copy\n",
      "  tmp[tmp.columns[i]] = data.loc[reg][tmp.columns[i]]\n",
      "C:\\Users\\maczek\\PycharmProjects\\message_data\\message_data\\tools\\utilities\\add_globiom.py:483: SettingWithCopyWarning: \n",
      "A value is trying to be set on a copy of a slice from a DataFrame.\n",
      "Try using .loc[row_indexer,col_indexer] = value instead\n",
      "\n",
      "See the caveats in the documentation: https://pandas.pydata.org/pandas-docs/stable/user_guide/indexing.html#returning-a-view-versus-a-copy\n",
      "  tmp[tmp.columns[i]] = (\n",
      "C:\\Users\\maczek\\PycharmProjects\\message_data\\message_data\\tools\\utilities\\add_globiom.py:481: SettingWithCopyWarning: \n",
      "A value is trying to be set on a copy of a slice from a DataFrame.\n",
      "Try using .loc[row_indexer,col_indexer] = value instead\n",
      "\n",
      "See the caveats in the documentation: https://pandas.pydata.org/pandas-docs/stable/user_guide/indexing.html#returning-a-view-versus-a-copy\n",
      "  tmp[tmp.columns[i]] = data.loc[reg][tmp.columns[i]]\n",
      "C:\\Users\\maczek\\PycharmProjects\\message_data\\message_data\\tools\\utilities\\add_globiom.py:483: SettingWithCopyWarning: \n",
      "A value is trying to be set on a copy of a slice from a DataFrame.\n",
      "Try using .loc[row_indexer,col_indexer] = value instead\n",
      "\n",
      "See the caveats in the documentation: https://pandas.pydata.org/pandas-docs/stable/user_guide/indexing.html#returning-a-view-versus-a-copy\n",
      "  tmp[tmp.columns[i]] = (\n",
      "C:\\Users\\maczek\\PycharmProjects\\message_data\\message_data\\tools\\utilities\\add_globiom.py:481: SettingWithCopyWarning: \n",
      "A value is trying to be set on a copy of a slice from a DataFrame.\n",
      "Try using .loc[row_indexer,col_indexer] = value instead\n",
      "\n",
      "See the caveats in the documentation: https://pandas.pydata.org/pandas-docs/stable/user_guide/indexing.html#returning-a-view-versus-a-copy\n",
      "  tmp[tmp.columns[i]] = data.loc[reg][tmp.columns[i]]\n",
      "C:\\Users\\maczek\\PycharmProjects\\message_data\\message_data\\tools\\utilities\\add_globiom.py:483: SettingWithCopyWarning: \n",
      "A value is trying to be set on a copy of a slice from a DataFrame.\n",
      "Try using .loc[row_indexer,col_indexer] = value instead\n",
      "\n",
      "See the caveats in the documentation: https://pandas.pydata.org/pandas-docs/stable/user_guide/indexing.html#returning-a-view-versus-a-copy\n",
      "  tmp[tmp.columns[i]] = (\n",
      "C:\\Users\\maczek\\PycharmProjects\\message_data\\message_data\\tools\\utilities\\add_globiom.py:481: SettingWithCopyWarning: \n",
      "A value is trying to be set on a copy of a slice from a DataFrame.\n",
      "Try using .loc[row_indexer,col_indexer] = value instead\n",
      "\n",
      "See the caveats in the documentation: https://pandas.pydata.org/pandas-docs/stable/user_guide/indexing.html#returning-a-view-versus-a-copy\n",
      "  tmp[tmp.columns[i]] = data.loc[reg][tmp.columns[i]]\n",
      "C:\\Users\\maczek\\PycharmProjects\\message_data\\message_data\\tools\\utilities\\add_globiom.py:483: SettingWithCopyWarning: \n",
      "A value is trying to be set on a copy of a slice from a DataFrame.\n",
      "Try using .loc[row_indexer,col_indexer] = value instead\n",
      "\n",
      "See the caveats in the documentation: https://pandas.pydata.org/pandas-docs/stable/user_guide/indexing.html#returning-a-view-versus-a-copy\n",
      "  tmp[tmp.columns[i]] = (\n",
      "C:\\Users\\maczek\\PycharmProjects\\message_data\\message_data\\tools\\utilities\\add_globiom.py:481: SettingWithCopyWarning: \n",
      "A value is trying to be set on a copy of a slice from a DataFrame.\n",
      "Try using .loc[row_indexer,col_indexer] = value instead\n",
      "\n",
      "See the caveats in the documentation: https://pandas.pydata.org/pandas-docs/stable/user_guide/indexing.html#returning-a-view-versus-a-copy\n",
      "  tmp[tmp.columns[i]] = data.loc[reg][tmp.columns[i]]\n",
      "C:\\Users\\maczek\\PycharmProjects\\message_data\\message_data\\tools\\utilities\\add_globiom.py:483: SettingWithCopyWarning: \n",
      "A value is trying to be set on a copy of a slice from a DataFrame.\n",
      "Try using .loc[row_indexer,col_indexer] = value instead\n",
      "\n",
      "See the caveats in the documentation: https://pandas.pydata.org/pandas-docs/stable/user_guide/indexing.html#returning-a-view-versus-a-copy\n",
      "  tmp[tmp.columns[i]] = (\n",
      "C:\\Users\\maczek\\PycharmProjects\\message_data\\message_data\\tools\\utilities\\add_globiom.py:481: SettingWithCopyWarning: \n",
      "A value is trying to be set on a copy of a slice from a DataFrame.\n",
      "Try using .loc[row_indexer,col_indexer] = value instead\n",
      "\n",
      "See the caveats in the documentation: https://pandas.pydata.org/pandas-docs/stable/user_guide/indexing.html#returning-a-view-versus-a-copy\n",
      "  tmp[tmp.columns[i]] = data.loc[reg][tmp.columns[i]]\n",
      "C:\\Users\\maczek\\PycharmProjects\\message_data\\message_data\\tools\\utilities\\add_globiom.py:483: SettingWithCopyWarning: \n",
      "A value is trying to be set on a copy of a slice from a DataFrame.\n",
      "Try using .loc[row_indexer,col_indexer] = value instead\n",
      "\n",
      "See the caveats in the documentation: https://pandas.pydata.org/pandas-docs/stable/user_guide/indexing.html#returning-a-view-versus-a-copy\n",
      "  tmp[tmp.columns[i]] = (\n",
      "C:\\Users\\maczek\\PycharmProjects\\message_data\\message_data\\tools\\utilities\\add_globiom.py:481: SettingWithCopyWarning: \n",
      "A value is trying to be set on a copy of a slice from a DataFrame.\n",
      "Try using .loc[row_indexer,col_indexer] = value instead\n",
      "\n",
      "See the caveats in the documentation: https://pandas.pydata.org/pandas-docs/stable/user_guide/indexing.html#returning-a-view-versus-a-copy\n",
      "  tmp[tmp.columns[i]] = data.loc[reg][tmp.columns[i]]\n",
      "C:\\Users\\maczek\\PycharmProjects\\message_data\\message_data\\tools\\utilities\\add_globiom.py:483: SettingWithCopyWarning: \n",
      "A value is trying to be set on a copy of a slice from a DataFrame.\n",
      "Try using .loc[row_indexer,col_indexer] = value instead\n",
      "\n",
      "See the caveats in the documentation: https://pandas.pydata.org/pandas-docs/stable/user_guide/indexing.html#returning-a-view-versus-a-copy\n",
      "  tmp[tmp.columns[i]] = (\n",
      "C:\\Users\\maczek\\PycharmProjects\\message_data\\message_data\\tools\\utilities\\add_globiom.py:481: SettingWithCopyWarning: \n",
      "A value is trying to be set on a copy of a slice from a DataFrame.\n",
      "Try using .loc[row_indexer,col_indexer] = value instead\n",
      "\n",
      "See the caveats in the documentation: https://pandas.pydata.org/pandas-docs/stable/user_guide/indexing.html#returning-a-view-versus-a-copy\n",
      "  tmp[tmp.columns[i]] = data.loc[reg][tmp.columns[i]]\n",
      "C:\\Users\\maczek\\PycharmProjects\\message_data\\message_data\\tools\\utilities\\add_globiom.py:483: SettingWithCopyWarning: \n",
      "A value is trying to be set on a copy of a slice from a DataFrame.\n",
      "Try using .loc[row_indexer,col_indexer] = value instead\n",
      "\n",
      "See the caveats in the documentation: https://pandas.pydata.org/pandas-docs/stable/user_guide/indexing.html#returning-a-view-versus-a-copy\n",
      "  tmp[tmp.columns[i]] = (\n",
      "C:\\Users\\maczek\\PycharmProjects\\message_data\\message_data\\tools\\utilities\\add_globiom.py:481: SettingWithCopyWarning: \n",
      "A value is trying to be set on a copy of a slice from a DataFrame.\n",
      "Try using .loc[row_indexer,col_indexer] = value instead\n",
      "\n",
      "See the caveats in the documentation: https://pandas.pydata.org/pandas-docs/stable/user_guide/indexing.html#returning-a-view-versus-a-copy\n",
      "  tmp[tmp.columns[i]] = data.loc[reg][tmp.columns[i]]\n",
      "C:\\Users\\maczek\\PycharmProjects\\message_data\\message_data\\tools\\utilities\\add_globiom.py:483: SettingWithCopyWarning: \n",
      "A value is trying to be set on a copy of a slice from a DataFrame.\n",
      "Try using .loc[row_indexer,col_indexer] = value instead\n",
      "\n",
      "See the caveats in the documentation: https://pandas.pydata.org/pandas-docs/stable/user_guide/indexing.html#returning-a-view-versus-a-copy\n",
      "  tmp[tmp.columns[i]] = (\n",
      "C:\\Users\\maczek\\PycharmProjects\\message_data\\message_data\\tools\\utilities\\add_globiom.py:481: SettingWithCopyWarning: \n",
      "A value is trying to be set on a copy of a slice from a DataFrame.\n",
      "Try using .loc[row_indexer,col_indexer] = value instead\n",
      "\n",
      "See the caveats in the documentation: https://pandas.pydata.org/pandas-docs/stable/user_guide/indexing.html#returning-a-view-versus-a-copy\n",
      "  tmp[tmp.columns[i]] = data.loc[reg][tmp.columns[i]]\n",
      "C:\\Users\\maczek\\PycharmProjects\\message_data\\message_data\\tools\\utilities\\add_globiom.py:483: SettingWithCopyWarning: \n",
      "A value is trying to be set on a copy of a slice from a DataFrame.\n",
      "Try using .loc[row_indexer,col_indexer] = value instead\n",
      "\n",
      "See the caveats in the documentation: https://pandas.pydata.org/pandas-docs/stable/user_guide/indexing.html#returning-a-view-versus-a-copy\n",
      "  tmp[tmp.columns[i]] = (\n",
      "C:\\Users\\maczek\\PycharmProjects\\message_data\\message_data\\tools\\utilities\\add_globiom.py:481: SettingWithCopyWarning: \n",
      "A value is trying to be set on a copy of a slice from a DataFrame.\n",
      "Try using .loc[row_indexer,col_indexer] = value instead\n",
      "\n",
      "See the caveats in the documentation: https://pandas.pydata.org/pandas-docs/stable/user_guide/indexing.html#returning-a-view-versus-a-copy\n",
      "  tmp[tmp.columns[i]] = data.loc[reg][tmp.columns[i]]\n",
      "C:\\Users\\maczek\\PycharmProjects\\message_data\\message_data\\tools\\utilities\\add_globiom.py:483: SettingWithCopyWarning: \n",
      "A value is trying to be set on a copy of a slice from a DataFrame.\n",
      "Try using .loc[row_indexer,col_indexer] = value instead\n",
      "\n",
      "See the caveats in the documentation: https://pandas.pydata.org/pandas-docs/stable/user_guide/indexing.html#returning-a-view-versus-a-copy\n",
      "  tmp[tmp.columns[i]] = (\n",
      "C:\\Users\\maczek\\PycharmProjects\\message_data\\message_data\\tools\\utilities\\add_globiom.py:481: SettingWithCopyWarning: \n",
      "A value is trying to be set on a copy of a slice from a DataFrame.\n",
      "Try using .loc[row_indexer,col_indexer] = value instead\n",
      "\n",
      "See the caveats in the documentation: https://pandas.pydata.org/pandas-docs/stable/user_guide/indexing.html#returning-a-view-versus-a-copy\n",
      "  tmp[tmp.columns[i]] = data.loc[reg][tmp.columns[i]]\n",
      "C:\\Users\\maczek\\PycharmProjects\\message_data\\message_data\\tools\\utilities\\add_globiom.py:483: SettingWithCopyWarning: \n",
      "A value is trying to be set on a copy of a slice from a DataFrame.\n",
      "Try using .loc[row_indexer,col_indexer] = value instead\n",
      "\n",
      "See the caveats in the documentation: https://pandas.pydata.org/pandas-docs/stable/user_guide/indexing.html#returning-a-view-versus-a-copy\n",
      "  tmp[tmp.columns[i]] = (\n",
      "C:\\Users\\maczek\\PycharmProjects\\message_data\\message_data\\tools\\utilities\\add_globiom.py:481: SettingWithCopyWarning: \n",
      "A value is trying to be set on a copy of a slice from a DataFrame.\n",
      "Try using .loc[row_indexer,col_indexer] = value instead\n",
      "\n",
      "See the caveats in the documentation: https://pandas.pydata.org/pandas-docs/stable/user_guide/indexing.html#returning-a-view-versus-a-copy\n",
      "  tmp[tmp.columns[i]] = data.loc[reg][tmp.columns[i]]\n",
      "C:\\Users\\maczek\\PycharmProjects\\message_data\\message_data\\tools\\utilities\\add_globiom.py:483: SettingWithCopyWarning: \n",
      "A value is trying to be set on a copy of a slice from a DataFrame.\n",
      "Try using .loc[row_indexer,col_indexer] = value instead\n",
      "\n",
      "See the caveats in the documentation: https://pandas.pydata.org/pandas-docs/stable/user_guide/indexing.html#returning-a-view-versus-a-copy\n",
      "  tmp[tmp.columns[i]] = (\n",
      "C:\\Users\\maczek\\PycharmProjects\\message_data\\message_data\\tools\\utilities\\add_globiom.py:481: SettingWithCopyWarning: \n",
      "A value is trying to be set on a copy of a slice from a DataFrame.\n",
      "Try using .loc[row_indexer,col_indexer] = value instead\n",
      "\n",
      "See the caveats in the documentation: https://pandas.pydata.org/pandas-docs/stable/user_guide/indexing.html#returning-a-view-versus-a-copy\n",
      "  tmp[tmp.columns[i]] = data.loc[reg][tmp.columns[i]]\n",
      "C:\\Users\\maczek\\PycharmProjects\\message_data\\message_data\\tools\\utilities\\add_globiom.py:483: SettingWithCopyWarning: \n",
      "A value is trying to be set on a copy of a slice from a DataFrame.\n",
      "Try using .loc[row_indexer,col_indexer] = value instead\n",
      "\n",
      "See the caveats in the documentation: https://pandas.pydata.org/pandas-docs/stable/user_guide/indexing.html#returning-a-view-versus-a-copy\n",
      "  tmp[tmp.columns[i]] = (\n",
      "C:\\Users\\maczek\\PycharmProjects\\message_data\\message_data\\tools\\utilities\\add_globiom.py:481: SettingWithCopyWarning: \n",
      "A value is trying to be set on a copy of a slice from a DataFrame.\n",
      "Try using .loc[row_indexer,col_indexer] = value instead\n",
      "\n",
      "See the caveats in the documentation: https://pandas.pydata.org/pandas-docs/stable/user_guide/indexing.html#returning-a-view-versus-a-copy\n",
      "  tmp[tmp.columns[i]] = data.loc[reg][tmp.columns[i]]\n",
      "C:\\Users\\maczek\\PycharmProjects\\message_data\\message_data\\tools\\utilities\\add_globiom.py:483: SettingWithCopyWarning: \n",
      "A value is trying to be set on a copy of a slice from a DataFrame.\n",
      "Try using .loc[row_indexer,col_indexer] = value instead\n",
      "\n",
      "See the caveats in the documentation: https://pandas.pydata.org/pandas-docs/stable/user_guide/indexing.html#returning-a-view-versus-a-copy\n",
      "  tmp[tmp.columns[i]] = (\n",
      "C:\\Users\\maczek\\PycharmProjects\\message_data\\message_data\\tools\\utilities\\add_globiom.py:481: SettingWithCopyWarning: \n",
      "A value is trying to be set on a copy of a slice from a DataFrame.\n",
      "Try using .loc[row_indexer,col_indexer] = value instead\n",
      "\n",
      "See the caveats in the documentation: https://pandas.pydata.org/pandas-docs/stable/user_guide/indexing.html#returning-a-view-versus-a-copy\n",
      "  tmp[tmp.columns[i]] = data.loc[reg][tmp.columns[i]]\n",
      "C:\\Users\\maczek\\PycharmProjects\\message_data\\message_data\\tools\\utilities\\add_globiom.py:483: SettingWithCopyWarning: \n",
      "A value is trying to be set on a copy of a slice from a DataFrame.\n",
      "Try using .loc[row_indexer,col_indexer] = value instead\n",
      "\n",
      "See the caveats in the documentation: https://pandas.pydata.org/pandas-docs/stable/user_guide/indexing.html#returning-a-view-versus-a-copy\n",
      "  tmp[tmp.columns[i]] = (\n",
      "C:\\Users\\maczek\\PycharmProjects\\message_data\\message_data\\tools\\utilities\\add_globiom.py:481: SettingWithCopyWarning: \n",
      "A value is trying to be set on a copy of a slice from a DataFrame.\n",
      "Try using .loc[row_indexer,col_indexer] = value instead\n",
      "\n",
      "See the caveats in the documentation: https://pandas.pydata.org/pandas-docs/stable/user_guide/indexing.html#returning-a-view-versus-a-copy\n",
      "  tmp[tmp.columns[i]] = data.loc[reg][tmp.columns[i]]\n",
      "C:\\Users\\maczek\\PycharmProjects\\message_data\\message_data\\tools\\utilities\\add_globiom.py:483: SettingWithCopyWarning: \n",
      "A value is trying to be set on a copy of a slice from a DataFrame.\n",
      "Try using .loc[row_indexer,col_indexer] = value instead\n",
      "\n",
      "See the caveats in the documentation: https://pandas.pydata.org/pandas-docs/stable/user_guide/indexing.html#returning-a-view-versus-a-copy\n",
      "  tmp[tmp.columns[i]] = (\n",
      "C:\\Users\\maczek\\PycharmProjects\\message_data\\message_data\\tools\\utilities\\add_globiom.py:481: SettingWithCopyWarning: \n",
      "A value is trying to be set on a copy of a slice from a DataFrame.\n",
      "Try using .loc[row_indexer,col_indexer] = value instead\n",
      "\n",
      "See the caveats in the documentation: https://pandas.pydata.org/pandas-docs/stable/user_guide/indexing.html#returning-a-view-versus-a-copy\n",
      "  tmp[tmp.columns[i]] = data.loc[reg][tmp.columns[i]]\n",
      "C:\\Users\\maczek\\PycharmProjects\\message_data\\message_data\\tools\\utilities\\add_globiom.py:483: SettingWithCopyWarning: \n",
      "A value is trying to be set on a copy of a slice from a DataFrame.\n",
      "Try using .loc[row_indexer,col_indexer] = value instead\n",
      "\n",
      "See the caveats in the documentation: https://pandas.pydata.org/pandas-docs/stable/user_guide/indexing.html#returning-a-view-versus-a-copy\n",
      "  tmp[tmp.columns[i]] = (\n",
      "C:\\Users\\maczek\\PycharmProjects\\message_data\\message_data\\tools\\utilities\\add_globiom.py:481: SettingWithCopyWarning: \n",
      "A value is trying to be set on a copy of a slice from a DataFrame.\n",
      "Try using .loc[row_indexer,col_indexer] = value instead\n",
      "\n",
      "See the caveats in the documentation: https://pandas.pydata.org/pandas-docs/stable/user_guide/indexing.html#returning-a-view-versus-a-copy\n",
      "  tmp[tmp.columns[i]] = data.loc[reg][tmp.columns[i]]\n",
      "C:\\Users\\maczek\\PycharmProjects\\message_data\\message_data\\tools\\utilities\\add_globiom.py:483: SettingWithCopyWarning: \n",
      "A value is trying to be set on a copy of a slice from a DataFrame.\n",
      "Try using .loc[row_indexer,col_indexer] = value instead\n",
      "\n",
      "See the caveats in the documentation: https://pandas.pydata.org/pandas-docs/stable/user_guide/indexing.html#returning-a-view-versus-a-copy\n",
      "  tmp[tmp.columns[i]] = (\n",
      "C:\\Users\\maczek\\PycharmProjects\\message_data\\message_data\\tools\\utilities\\add_globiom.py:481: SettingWithCopyWarning: \n",
      "A value is trying to be set on a copy of a slice from a DataFrame.\n",
      "Try using .loc[row_indexer,col_indexer] = value instead\n",
      "\n",
      "See the caveats in the documentation: https://pandas.pydata.org/pandas-docs/stable/user_guide/indexing.html#returning-a-view-versus-a-copy\n",
      "  tmp[tmp.columns[i]] = data.loc[reg][tmp.columns[i]]\n",
      "C:\\Users\\maczek\\PycharmProjects\\message_data\\message_data\\tools\\utilities\\add_globiom.py:483: SettingWithCopyWarning: \n",
      "A value is trying to be set on a copy of a slice from a DataFrame.\n",
      "Try using .loc[row_indexer,col_indexer] = value instead\n",
      "\n",
      "See the caveats in the documentation: https://pandas.pydata.org/pandas-docs/stable/user_guide/indexing.html#returning-a-view-versus-a-copy\n",
      "  tmp[tmp.columns[i]] = (\n",
      "C:\\Users\\maczek\\PycharmProjects\\message_data\\message_data\\tools\\utilities\\add_globiom.py:481: SettingWithCopyWarning: \n",
      "A value is trying to be set on a copy of a slice from a DataFrame.\n",
      "Try using .loc[row_indexer,col_indexer] = value instead\n",
      "\n",
      "See the caveats in the documentation: https://pandas.pydata.org/pandas-docs/stable/user_guide/indexing.html#returning-a-view-versus-a-copy\n",
      "  tmp[tmp.columns[i]] = data.loc[reg][tmp.columns[i]]\n",
      "C:\\Users\\maczek\\PycharmProjects\\message_data\\message_data\\tools\\utilities\\add_globiom.py:483: SettingWithCopyWarning: \n",
      "A value is trying to be set on a copy of a slice from a DataFrame.\n",
      "Try using .loc[row_indexer,col_indexer] = value instead\n",
      "\n",
      "See the caveats in the documentation: https://pandas.pydata.org/pandas-docs/stable/user_guide/indexing.html#returning-a-view-versus-a-copy\n",
      "  tmp[tmp.columns[i]] = (\n",
      "C:\\Users\\maczek\\PycharmProjects\\message_data\\message_data\\tools\\utilities\\add_globiom.py:481: SettingWithCopyWarning: \n",
      "A value is trying to be set on a copy of a slice from a DataFrame.\n",
      "Try using .loc[row_indexer,col_indexer] = value instead\n",
      "\n",
      "See the caveats in the documentation: https://pandas.pydata.org/pandas-docs/stable/user_guide/indexing.html#returning-a-view-versus-a-copy\n",
      "  tmp[tmp.columns[i]] = data.loc[reg][tmp.columns[i]]\n",
      "C:\\Users\\maczek\\PycharmProjects\\message_data\\message_data\\tools\\utilities\\add_globiom.py:483: SettingWithCopyWarning: \n",
      "A value is trying to be set on a copy of a slice from a DataFrame.\n",
      "Try using .loc[row_indexer,col_indexer] = value instead\n",
      "\n",
      "See the caveats in the documentation: https://pandas.pydata.org/pandas-docs/stable/user_guide/indexing.html#returning-a-view-versus-a-copy\n",
      "  tmp[tmp.columns[i]] = (\n",
      "C:\\Users\\maczek\\PycharmProjects\\message_data\\message_data\\tools\\utilities\\add_globiom.py:481: SettingWithCopyWarning: \n",
      "A value is trying to be set on a copy of a slice from a DataFrame.\n",
      "Try using .loc[row_indexer,col_indexer] = value instead\n",
      "\n",
      "See the caveats in the documentation: https://pandas.pydata.org/pandas-docs/stable/user_guide/indexing.html#returning-a-view-versus-a-copy\n",
      "  tmp[tmp.columns[i]] = data.loc[reg][tmp.columns[i]]\n",
      "C:\\Users\\maczek\\PycharmProjects\\message_data\\message_data\\tools\\utilities\\add_globiom.py:483: SettingWithCopyWarning: \n",
      "A value is trying to be set on a copy of a slice from a DataFrame.\n",
      "Try using .loc[row_indexer,col_indexer] = value instead\n",
      "\n",
      "See the caveats in the documentation: https://pandas.pydata.org/pandas-docs/stable/user_guide/indexing.html#returning-a-view-versus-a-copy\n",
      "  tmp[tmp.columns[i]] = (\n",
      "C:\\Users\\maczek\\PycharmProjects\\message_data\\message_data\\tools\\utilities\\add_globiom.py:481: SettingWithCopyWarning: \n",
      "A value is trying to be set on a copy of a slice from a DataFrame.\n",
      "Try using .loc[row_indexer,col_indexer] = value instead\n",
      "\n",
      "See the caveats in the documentation: https://pandas.pydata.org/pandas-docs/stable/user_guide/indexing.html#returning-a-view-versus-a-copy\n",
      "  tmp[tmp.columns[i]] = data.loc[reg][tmp.columns[i]]\n",
      "C:\\Users\\maczek\\PycharmProjects\\message_data\\message_data\\tools\\utilities\\add_globiom.py:483: SettingWithCopyWarning: \n",
      "A value is trying to be set on a copy of a slice from a DataFrame.\n",
      "Try using .loc[row_indexer,col_indexer] = value instead\n",
      "\n",
      "See the caveats in the documentation: https://pandas.pydata.org/pandas-docs/stable/user_guide/indexing.html#returning-a-view-versus-a-copy\n",
      "  tmp[tmp.columns[i]] = (\n",
      "C:\\Users\\maczek\\PycharmProjects\\message_data\\message_data\\tools\\utilities\\add_globiom.py:481: SettingWithCopyWarning: \n",
      "A value is trying to be set on a copy of a slice from a DataFrame.\n",
      "Try using .loc[row_indexer,col_indexer] = value instead\n",
      "\n",
      "See the caveats in the documentation: https://pandas.pydata.org/pandas-docs/stable/user_guide/indexing.html#returning-a-view-versus-a-copy\n",
      "  tmp[tmp.columns[i]] = data.loc[reg][tmp.columns[i]]\n",
      "C:\\Users\\maczek\\PycharmProjects\\message_data\\message_data\\tools\\utilities\\add_globiom.py:483: SettingWithCopyWarning: \n",
      "A value is trying to be set on a copy of a slice from a DataFrame.\n",
      "Try using .loc[row_indexer,col_indexer] = value instead\n",
      "\n",
      "See the caveats in the documentation: https://pandas.pydata.org/pandas-docs/stable/user_guide/indexing.html#returning-a-view-versus-a-copy\n",
      "  tmp[tmp.columns[i]] = (\n",
      "C:\\Users\\maczek\\PycharmProjects\\message_data\\message_data\\tools\\utilities\\add_globiom.py:481: SettingWithCopyWarning: \n",
      "A value is trying to be set on a copy of a slice from a DataFrame.\n",
      "Try using .loc[row_indexer,col_indexer] = value instead\n",
      "\n",
      "See the caveats in the documentation: https://pandas.pydata.org/pandas-docs/stable/user_guide/indexing.html#returning-a-view-versus-a-copy\n",
      "  tmp[tmp.columns[i]] = data.loc[reg][tmp.columns[i]]\n",
      "C:\\Users\\maczek\\PycharmProjects\\message_data\\message_data\\tools\\utilities\\add_globiom.py:483: SettingWithCopyWarning: \n",
      "A value is trying to be set on a copy of a slice from a DataFrame.\n",
      "Try using .loc[row_indexer,col_indexer] = value instead\n",
      "\n",
      "See the caveats in the documentation: https://pandas.pydata.org/pandas-docs/stable/user_guide/indexing.html#returning-a-view-versus-a-copy\n",
      "  tmp[tmp.columns[i]] = (\n",
      "C:\\Users\\maczek\\PycharmProjects\\message_data\\message_data\\tools\\utilities\\add_globiom.py:481: SettingWithCopyWarning: \n",
      "A value is trying to be set on a copy of a slice from a DataFrame.\n",
      "Try using .loc[row_indexer,col_indexer] = value instead\n",
      "\n",
      "See the caveats in the documentation: https://pandas.pydata.org/pandas-docs/stable/user_guide/indexing.html#returning-a-view-versus-a-copy\n",
      "  tmp[tmp.columns[i]] = data.loc[reg][tmp.columns[i]]\n",
      "C:\\Users\\maczek\\PycharmProjects\\message_data\\message_data\\tools\\utilities\\add_globiom.py:483: SettingWithCopyWarning: \n",
      "A value is trying to be set on a copy of a slice from a DataFrame.\n",
      "Try using .loc[row_indexer,col_indexer] = value instead\n",
      "\n",
      "See the caveats in the documentation: https://pandas.pydata.org/pandas-docs/stable/user_guide/indexing.html#returning-a-view-versus-a-copy\n",
      "  tmp[tmp.columns[i]] = (\n",
      "C:\\Users\\maczek\\PycharmProjects\\message_data\\message_data\\tools\\utilities\\add_globiom.py:481: SettingWithCopyWarning: \n",
      "A value is trying to be set on a copy of a slice from a DataFrame.\n",
      "Try using .loc[row_indexer,col_indexer] = value instead\n",
      "\n",
      "See the caveats in the documentation: https://pandas.pydata.org/pandas-docs/stable/user_guide/indexing.html#returning-a-view-versus-a-copy\n",
      "  tmp[tmp.columns[i]] = data.loc[reg][tmp.columns[i]]\n",
      "C:\\Users\\maczek\\PycharmProjects\\message_data\\message_data\\tools\\utilities\\add_globiom.py:483: SettingWithCopyWarning: \n",
      "A value is trying to be set on a copy of a slice from a DataFrame.\n",
      "Try using .loc[row_indexer,col_indexer] = value instead\n",
      "\n",
      "See the caveats in the documentation: https://pandas.pydata.org/pandas-docs/stable/user_guide/indexing.html#returning-a-view-versus-a-copy\n",
      "  tmp[tmp.columns[i]] = (\n",
      "C:\\Users\\maczek\\PycharmProjects\\message_data\\message_data\\tools\\utilities\\add_globiom.py:481: SettingWithCopyWarning: \n",
      "A value is trying to be set on a copy of a slice from a DataFrame.\n",
      "Try using .loc[row_indexer,col_indexer] = value instead\n",
      "\n",
      "See the caveats in the documentation: https://pandas.pydata.org/pandas-docs/stable/user_guide/indexing.html#returning-a-view-versus-a-copy\n",
      "  tmp[tmp.columns[i]] = data.loc[reg][tmp.columns[i]]\n",
      "C:\\Users\\maczek\\PycharmProjects\\message_data\\message_data\\tools\\utilities\\add_globiom.py:483: SettingWithCopyWarning: \n",
      "A value is trying to be set on a copy of a slice from a DataFrame.\n",
      "Try using .loc[row_indexer,col_indexer] = value instead\n",
      "\n",
      "See the caveats in the documentation: https://pandas.pydata.org/pandas-docs/stable/user_guide/indexing.html#returning-a-view-versus-a-copy\n",
      "  tmp[tmp.columns[i]] = (\n",
      "C:\\Users\\maczek\\PycharmProjects\\message_data\\message_data\\tools\\utilities\\add_globiom.py:481: SettingWithCopyWarning: \n",
      "A value is trying to be set on a copy of a slice from a DataFrame.\n",
      "Try using .loc[row_indexer,col_indexer] = value instead\n",
      "\n",
      "See the caveats in the documentation: https://pandas.pydata.org/pandas-docs/stable/user_guide/indexing.html#returning-a-view-versus-a-copy\n",
      "  tmp[tmp.columns[i]] = data.loc[reg][tmp.columns[i]]\n",
      "C:\\Users\\maczek\\PycharmProjects\\message_data\\message_data\\tools\\utilities\\add_globiom.py:483: SettingWithCopyWarning: \n",
      "A value is trying to be set on a copy of a slice from a DataFrame.\n",
      "Try using .loc[row_indexer,col_indexer] = value instead\n",
      "\n",
      "See the caveats in the documentation: https://pandas.pydata.org/pandas-docs/stable/user_guide/indexing.html#returning-a-view-versus-a-copy\n",
      "  tmp[tmp.columns[i]] = (\n",
      "C:\\Users\\maczek\\PycharmProjects\\message_data\\message_data\\tools\\utilities\\add_globiom.py:481: SettingWithCopyWarning: \n",
      "A value is trying to be set on a copy of a slice from a DataFrame.\n",
      "Try using .loc[row_indexer,col_indexer] = value instead\n",
      "\n",
      "See the caveats in the documentation: https://pandas.pydata.org/pandas-docs/stable/user_guide/indexing.html#returning-a-view-versus-a-copy\n",
      "  tmp[tmp.columns[i]] = data.loc[reg][tmp.columns[i]]\n",
      "C:\\Users\\maczek\\PycharmProjects\\message_data\\message_data\\tools\\utilities\\add_globiom.py:483: SettingWithCopyWarning: \n",
      "A value is trying to be set on a copy of a slice from a DataFrame.\n",
      "Try using .loc[row_indexer,col_indexer] = value instead\n",
      "\n",
      "See the caveats in the documentation: https://pandas.pydata.org/pandas-docs/stable/user_guide/indexing.html#returning-a-view-versus-a-copy\n",
      "  tmp[tmp.columns[i]] = (\n",
      "C:\\Users\\maczek\\PycharmProjects\\message_data\\message_data\\tools\\utilities\\add_globiom.py:481: SettingWithCopyWarning: \n",
      "A value is trying to be set on a copy of a slice from a DataFrame.\n",
      "Try using .loc[row_indexer,col_indexer] = value instead\n",
      "\n",
      "See the caveats in the documentation: https://pandas.pydata.org/pandas-docs/stable/user_guide/indexing.html#returning-a-view-versus-a-copy\n",
      "  tmp[tmp.columns[i]] = data.loc[reg][tmp.columns[i]]\n",
      "C:\\Users\\maczek\\PycharmProjects\\message_data\\message_data\\tools\\utilities\\add_globiom.py:483: SettingWithCopyWarning: \n",
      "A value is trying to be set on a copy of a slice from a DataFrame.\n",
      "Try using .loc[row_indexer,col_indexer] = value instead\n",
      "\n",
      "See the caveats in the documentation: https://pandas.pydata.org/pandas-docs/stable/user_guide/indexing.html#returning-a-view-versus-a-copy\n",
      "  tmp[tmp.columns[i]] = (\n",
      "C:\\Users\\maczek\\PycharmProjects\\message_data\\message_data\\tools\\utilities\\add_globiom.py:481: SettingWithCopyWarning: \n",
      "A value is trying to be set on a copy of a slice from a DataFrame.\n",
      "Try using .loc[row_indexer,col_indexer] = value instead\n",
      "\n",
      "See the caveats in the documentation: https://pandas.pydata.org/pandas-docs/stable/user_guide/indexing.html#returning-a-view-versus-a-copy\n",
      "  tmp[tmp.columns[i]] = data.loc[reg][tmp.columns[i]]\n",
      "C:\\Users\\maczek\\PycharmProjects\\message_data\\message_data\\tools\\utilities\\add_globiom.py:483: SettingWithCopyWarning: \n",
      "A value is trying to be set on a copy of a slice from a DataFrame.\n",
      "Try using .loc[row_indexer,col_indexer] = value instead\n",
      "\n",
      "See the caveats in the documentation: https://pandas.pydata.org/pandas-docs/stable/user_guide/indexing.html#returning-a-view-versus-a-copy\n",
      "  tmp[tmp.columns[i]] = (\n",
      "C:\\Users\\maczek\\PycharmProjects\\message_data\\message_data\\tools\\utilities\\add_globiom.py:481: SettingWithCopyWarning: \n",
      "A value is trying to be set on a copy of a slice from a DataFrame.\n",
      "Try using .loc[row_indexer,col_indexer] = value instead\n",
      "\n",
      "See the caveats in the documentation: https://pandas.pydata.org/pandas-docs/stable/user_guide/indexing.html#returning-a-view-versus-a-copy\n",
      "  tmp[tmp.columns[i]] = data.loc[reg][tmp.columns[i]]\n",
      "C:\\Users\\maczek\\PycharmProjects\\message_data\\message_data\\tools\\utilities\\add_globiom.py:483: SettingWithCopyWarning: \n",
      "A value is trying to be set on a copy of a slice from a DataFrame.\n",
      "Try using .loc[row_indexer,col_indexer] = value instead\n",
      "\n",
      "See the caveats in the documentation: https://pandas.pydata.org/pandas-docs/stable/user_guide/indexing.html#returning-a-view-versus-a-copy\n",
      "  tmp[tmp.columns[i]] = (\n",
      "C:\\Users\\maczek\\PycharmProjects\\message_data\\message_data\\tools\\utilities\\add_globiom.py:481: SettingWithCopyWarning: \n",
      "A value is trying to be set on a copy of a slice from a DataFrame.\n",
      "Try using .loc[row_indexer,col_indexer] = value instead\n",
      "\n",
      "See the caveats in the documentation: https://pandas.pydata.org/pandas-docs/stable/user_guide/indexing.html#returning-a-view-versus-a-copy\n",
      "  tmp[tmp.columns[i]] = data.loc[reg][tmp.columns[i]]\n",
      "C:\\Users\\maczek\\PycharmProjects\\message_data\\message_data\\tools\\utilities\\add_globiom.py:483: SettingWithCopyWarning: \n",
      "A value is trying to be set on a copy of a slice from a DataFrame.\n",
      "Try using .loc[row_indexer,col_indexer] = value instead\n",
      "\n",
      "See the caveats in the documentation: https://pandas.pydata.org/pandas-docs/stable/user_guide/indexing.html#returning-a-view-versus-a-copy\n",
      "  tmp[tmp.columns[i]] = (\n",
      "C:\\Users\\maczek\\PycharmProjects\\message_data\\message_data\\tools\\utilities\\add_globiom.py:481: SettingWithCopyWarning: \n",
      "A value is trying to be set on a copy of a slice from a DataFrame.\n",
      "Try using .loc[row_indexer,col_indexer] = value instead\n",
      "\n",
      "See the caveats in the documentation: https://pandas.pydata.org/pandas-docs/stable/user_guide/indexing.html#returning-a-view-versus-a-copy\n",
      "  tmp[tmp.columns[i]] = data.loc[reg][tmp.columns[i]]\n",
      "C:\\Users\\maczek\\PycharmProjects\\message_data\\message_data\\tools\\utilities\\add_globiom.py:483: SettingWithCopyWarning: \n",
      "A value is trying to be set on a copy of a slice from a DataFrame.\n",
      "Try using .loc[row_indexer,col_indexer] = value instead\n",
      "\n",
      "See the caveats in the documentation: https://pandas.pydata.org/pandas-docs/stable/user_guide/indexing.html#returning-a-view-versus-a-copy\n",
      "  tmp[tmp.columns[i]] = (\n",
      "C:\\Users\\maczek\\PycharmProjects\\message_data\\message_data\\tools\\utilities\\add_globiom.py:481: SettingWithCopyWarning: \n",
      "A value is trying to be set on a copy of a slice from a DataFrame.\n",
      "Try using .loc[row_indexer,col_indexer] = value instead\n",
      "\n",
      "See the caveats in the documentation: https://pandas.pydata.org/pandas-docs/stable/user_guide/indexing.html#returning-a-view-versus-a-copy\n",
      "  tmp[tmp.columns[i]] = data.loc[reg][tmp.columns[i]]\n",
      "C:\\Users\\maczek\\PycharmProjects\\message_data\\message_data\\tools\\utilities\\add_globiom.py:483: SettingWithCopyWarning: \n",
      "A value is trying to be set on a copy of a slice from a DataFrame.\n",
      "Try using .loc[row_indexer,col_indexer] = value instead\n",
      "\n",
      "See the caveats in the documentation: https://pandas.pydata.org/pandas-docs/stable/user_guide/indexing.html#returning-a-view-versus-a-copy\n",
      "  tmp[tmp.columns[i]] = (\n",
      "C:\\Users\\maczek\\PycharmProjects\\message_data\\message_data\\tools\\utilities\\add_globiom.py:481: SettingWithCopyWarning: \n",
      "A value is trying to be set on a copy of a slice from a DataFrame.\n",
      "Try using .loc[row_indexer,col_indexer] = value instead\n",
      "\n",
      "See the caveats in the documentation: https://pandas.pydata.org/pandas-docs/stable/user_guide/indexing.html#returning-a-view-versus-a-copy\n",
      "  tmp[tmp.columns[i]] = data.loc[reg][tmp.columns[i]]\n",
      "C:\\Users\\maczek\\PycharmProjects\\message_data\\message_data\\tools\\utilities\\add_globiom.py:483: SettingWithCopyWarning: \n",
      "A value is trying to be set on a copy of a slice from a DataFrame.\n",
      "Try using .loc[row_indexer,col_indexer] = value instead\n",
      "\n",
      "See the caveats in the documentation: https://pandas.pydata.org/pandas-docs/stable/user_guide/indexing.html#returning-a-view-versus-a-copy\n",
      "  tmp[tmp.columns[i]] = (\n",
      "C:\\Users\\maczek\\PycharmProjects\\message_data\\message_data\\tools\\utilities\\add_globiom.py:481: SettingWithCopyWarning: \n",
      "A value is trying to be set on a copy of a slice from a DataFrame.\n",
      "Try using .loc[row_indexer,col_indexer] = value instead\n",
      "\n",
      "See the caveats in the documentation: https://pandas.pydata.org/pandas-docs/stable/user_guide/indexing.html#returning-a-view-versus-a-copy\n",
      "  tmp[tmp.columns[i]] = data.loc[reg][tmp.columns[i]]\n",
      "C:\\Users\\maczek\\PycharmProjects\\message_data\\message_data\\tools\\utilities\\add_globiom.py:483: SettingWithCopyWarning: \n",
      "A value is trying to be set on a copy of a slice from a DataFrame.\n",
      "Try using .loc[row_indexer,col_indexer] = value instead\n",
      "\n",
      "See the caveats in the documentation: https://pandas.pydata.org/pandas-docs/stable/user_guide/indexing.html#returning-a-view-versus-a-copy\n",
      "  tmp[tmp.columns[i]] = (\n",
      "C:\\Users\\maczek\\PycharmProjects\\message_data\\message_data\\tools\\utilities\\add_globiom.py:481: SettingWithCopyWarning: \n",
      "A value is trying to be set on a copy of a slice from a DataFrame.\n",
      "Try using .loc[row_indexer,col_indexer] = value instead\n",
      "\n",
      "See the caveats in the documentation: https://pandas.pydata.org/pandas-docs/stable/user_guide/indexing.html#returning-a-view-versus-a-copy\n",
      "  tmp[tmp.columns[i]] = data.loc[reg][tmp.columns[i]]\n",
      "C:\\Users\\maczek\\PycharmProjects\\message_data\\message_data\\tools\\utilities\\add_globiom.py:483: SettingWithCopyWarning: \n",
      "A value is trying to be set on a copy of a slice from a DataFrame.\n",
      "Try using .loc[row_indexer,col_indexer] = value instead\n",
      "\n",
      "See the caveats in the documentation: https://pandas.pydata.org/pandas-docs/stable/user_guide/indexing.html#returning-a-view-versus-a-copy\n",
      "  tmp[tmp.columns[i]] = (\n",
      "C:\\Users\\maczek\\PycharmProjects\\message_data\\message_data\\tools\\utilities\\add_globiom.py:481: SettingWithCopyWarning: \n",
      "A value is trying to be set on a copy of a slice from a DataFrame.\n",
      "Try using .loc[row_indexer,col_indexer] = value instead\n",
      "\n",
      "See the caveats in the documentation: https://pandas.pydata.org/pandas-docs/stable/user_guide/indexing.html#returning-a-view-versus-a-copy\n",
      "  tmp[tmp.columns[i]] = data.loc[reg][tmp.columns[i]]\n",
      "C:\\Users\\maczek\\PycharmProjects\\message_data\\message_data\\tools\\utilities\\add_globiom.py:483: SettingWithCopyWarning: \n",
      "A value is trying to be set on a copy of a slice from a DataFrame.\n",
      "Try using .loc[row_indexer,col_indexer] = value instead\n",
      "\n",
      "See the caveats in the documentation: https://pandas.pydata.org/pandas-docs/stable/user_guide/indexing.html#returning-a-view-versus-a-copy\n",
      "  tmp[tmp.columns[i]] = (\n",
      "C:\\Users\\maczek\\PycharmProjects\\message_data\\message_data\\tools\\utilities\\add_globiom.py:481: SettingWithCopyWarning: \n",
      "A value is trying to be set on a copy of a slice from a DataFrame.\n",
      "Try using .loc[row_indexer,col_indexer] = value instead\n",
      "\n",
      "See the caveats in the documentation: https://pandas.pydata.org/pandas-docs/stable/user_guide/indexing.html#returning-a-view-versus-a-copy\n",
      "  tmp[tmp.columns[i]] = data.loc[reg][tmp.columns[i]]\n",
      "C:\\Users\\maczek\\PycharmProjects\\message_data\\message_data\\tools\\utilities\\add_globiom.py:483: SettingWithCopyWarning: \n",
      "A value is trying to be set on a copy of a slice from a DataFrame.\n",
      "Try using .loc[row_indexer,col_indexer] = value instead\n",
      "\n",
      "See the caveats in the documentation: https://pandas.pydata.org/pandas-docs/stable/user_guide/indexing.html#returning-a-view-versus-a-copy\n",
      "  tmp[tmp.columns[i]] = (\n",
      "C:\\Users\\maczek\\PycharmProjects\\message_data\\message_data\\tools\\utilities\\add_globiom.py:481: SettingWithCopyWarning: \n",
      "A value is trying to be set on a copy of a slice from a DataFrame.\n",
      "Try using .loc[row_indexer,col_indexer] = value instead\n",
      "\n",
      "See the caveats in the documentation: https://pandas.pydata.org/pandas-docs/stable/user_guide/indexing.html#returning-a-view-versus-a-copy\n",
      "  tmp[tmp.columns[i]] = data.loc[reg][tmp.columns[i]]\n",
      "C:\\Users\\maczek\\PycharmProjects\\message_data\\message_data\\tools\\utilities\\add_globiom.py:483: SettingWithCopyWarning: \n",
      "A value is trying to be set on a copy of a slice from a DataFrame.\n",
      "Try using .loc[row_indexer,col_indexer] = value instead\n",
      "\n",
      "See the caveats in the documentation: https://pandas.pydata.org/pandas-docs/stable/user_guide/indexing.html#returning-a-view-versus-a-copy\n",
      "  tmp[tmp.columns[i]] = (\n",
      "C:\\Users\\maczek\\PycharmProjects\\message_data\\message_data\\tools\\utilities\\add_globiom.py:481: SettingWithCopyWarning: \n",
      "A value is trying to be set on a copy of a slice from a DataFrame.\n",
      "Try using .loc[row_indexer,col_indexer] = value instead\n",
      "\n",
      "See the caveats in the documentation: https://pandas.pydata.org/pandas-docs/stable/user_guide/indexing.html#returning-a-view-versus-a-copy\n",
      "  tmp[tmp.columns[i]] = data.loc[reg][tmp.columns[i]]\n",
      "C:\\Users\\maczek\\PycharmProjects\\message_data\\message_data\\tools\\utilities\\add_globiom.py:483: SettingWithCopyWarning: \n",
      "A value is trying to be set on a copy of a slice from a DataFrame.\n",
      "Try using .loc[row_indexer,col_indexer] = value instead\n",
      "\n",
      "See the caveats in the documentation: https://pandas.pydata.org/pandas-docs/stable/user_guide/indexing.html#returning-a-view-versus-a-copy\n",
      "  tmp[tmp.columns[i]] = (\n",
      "C:\\Users\\maczek\\PycharmProjects\\message_data\\message_data\\tools\\utilities\\add_globiom.py:481: SettingWithCopyWarning: \n",
      "A value is trying to be set on a copy of a slice from a DataFrame.\n",
      "Try using .loc[row_indexer,col_indexer] = value instead\n",
      "\n",
      "See the caveats in the documentation: https://pandas.pydata.org/pandas-docs/stable/user_guide/indexing.html#returning-a-view-versus-a-copy\n",
      "  tmp[tmp.columns[i]] = data.loc[reg][tmp.columns[i]]\n",
      "C:\\Users\\maczek\\PycharmProjects\\message_data\\message_data\\tools\\utilities\\add_globiom.py:483: SettingWithCopyWarning: \n",
      "A value is trying to be set on a copy of a slice from a DataFrame.\n",
      "Try using .loc[row_indexer,col_indexer] = value instead\n",
      "\n",
      "See the caveats in the documentation: https://pandas.pydata.org/pandas-docs/stable/user_guide/indexing.html#returning-a-view-versus-a-copy\n",
      "  tmp[tmp.columns[i]] = (\n",
      "C:\\Users\\maczek\\PycharmProjects\\message_data\\message_data\\tools\\utilities\\add_globiom.py:481: SettingWithCopyWarning: \n",
      "A value is trying to be set on a copy of a slice from a DataFrame.\n",
      "Try using .loc[row_indexer,col_indexer] = value instead\n",
      "\n",
      "See the caveats in the documentation: https://pandas.pydata.org/pandas-docs/stable/user_guide/indexing.html#returning-a-view-versus-a-copy\n",
      "  tmp[tmp.columns[i]] = data.loc[reg][tmp.columns[i]]\n",
      "C:\\Users\\maczek\\PycharmProjects\\message_data\\message_data\\tools\\utilities\\add_globiom.py:483: SettingWithCopyWarning: \n",
      "A value is trying to be set on a copy of a slice from a DataFrame.\n",
      "Try using .loc[row_indexer,col_indexer] = value instead\n",
      "\n",
      "See the caveats in the documentation: https://pandas.pydata.org/pandas-docs/stable/user_guide/indexing.html#returning-a-view-versus-a-copy\n",
      "  tmp[tmp.columns[i]] = (\n",
      "C:\\Users\\maczek\\PycharmProjects\\message_data\\message_data\\tools\\utilities\\add_globiom.py:481: SettingWithCopyWarning: \n",
      "A value is trying to be set on a copy of a slice from a DataFrame.\n",
      "Try using .loc[row_indexer,col_indexer] = value instead\n",
      "\n",
      "See the caveats in the documentation: https://pandas.pydata.org/pandas-docs/stable/user_guide/indexing.html#returning-a-view-versus-a-copy\n",
      "  tmp[tmp.columns[i]] = data.loc[reg][tmp.columns[i]]\n",
      "C:\\Users\\maczek\\PycharmProjects\\message_data\\message_data\\tools\\utilities\\add_globiom.py:483: SettingWithCopyWarning: \n",
      "A value is trying to be set on a copy of a slice from a DataFrame.\n",
      "Try using .loc[row_indexer,col_indexer] = value instead\n",
      "\n",
      "See the caveats in the documentation: https://pandas.pydata.org/pandas-docs/stable/user_guide/indexing.html#returning-a-view-versus-a-copy\n",
      "  tmp[tmp.columns[i]] = (\n",
      "C:\\Users\\maczek\\PycharmProjects\\message_data\\message_data\\tools\\utilities\\add_globiom.py:481: SettingWithCopyWarning: \n",
      "A value is trying to be set on a copy of a slice from a DataFrame.\n",
      "Try using .loc[row_indexer,col_indexer] = value instead\n",
      "\n",
      "See the caveats in the documentation: https://pandas.pydata.org/pandas-docs/stable/user_guide/indexing.html#returning-a-view-versus-a-copy\n",
      "  tmp[tmp.columns[i]] = data.loc[reg][tmp.columns[i]]\n",
      "C:\\Users\\maczek\\PycharmProjects\\message_data\\message_data\\tools\\utilities\\add_globiom.py:483: SettingWithCopyWarning: \n",
      "A value is trying to be set on a copy of a slice from a DataFrame.\n",
      "Try using .loc[row_indexer,col_indexer] = value instead\n",
      "\n",
      "See the caveats in the documentation: https://pandas.pydata.org/pandas-docs/stable/user_guide/indexing.html#returning-a-view-versus-a-copy\n",
      "  tmp[tmp.columns[i]] = (\n",
      "C:\\Users\\maczek\\PycharmProjects\\message_data\\message_data\\tools\\utilities\\add_globiom.py:481: SettingWithCopyWarning: \n",
      "A value is trying to be set on a copy of a slice from a DataFrame.\n",
      "Try using .loc[row_indexer,col_indexer] = value instead\n",
      "\n",
      "See the caveats in the documentation: https://pandas.pydata.org/pandas-docs/stable/user_guide/indexing.html#returning-a-view-versus-a-copy\n",
      "  tmp[tmp.columns[i]] = data.loc[reg][tmp.columns[i]]\n",
      "C:\\Users\\maczek\\PycharmProjects\\message_data\\message_data\\tools\\utilities\\add_globiom.py:483: SettingWithCopyWarning: \n",
      "A value is trying to be set on a copy of a slice from a DataFrame.\n",
      "Try using .loc[row_indexer,col_indexer] = value instead\n",
      "\n",
      "See the caveats in the documentation: https://pandas.pydata.org/pandas-docs/stable/user_guide/indexing.html#returning-a-view-versus-a-copy\n",
      "  tmp[tmp.columns[i]] = (\n",
      "C:\\Users\\maczek\\PycharmProjects\\message_data\\message_data\\tools\\utilities\\add_globiom.py:481: SettingWithCopyWarning: \n",
      "A value is trying to be set on a copy of a slice from a DataFrame.\n",
      "Try using .loc[row_indexer,col_indexer] = value instead\n",
      "\n",
      "See the caveats in the documentation: https://pandas.pydata.org/pandas-docs/stable/user_guide/indexing.html#returning-a-view-versus-a-copy\n",
      "  tmp[tmp.columns[i]] = data.loc[reg][tmp.columns[i]]\n",
      "C:\\Users\\maczek\\PycharmProjects\\message_data\\message_data\\tools\\utilities\\add_globiom.py:483: SettingWithCopyWarning: \n",
      "A value is trying to be set on a copy of a slice from a DataFrame.\n",
      "Try using .loc[row_indexer,col_indexer] = value instead\n",
      "\n",
      "See the caveats in the documentation: https://pandas.pydata.org/pandas-docs/stable/user_guide/indexing.html#returning-a-view-versus-a-copy\n",
      "  tmp[tmp.columns[i]] = (\n",
      "C:\\Users\\maczek\\PycharmProjects\\message_data\\message_data\\tools\\utilities\\add_globiom.py:481: SettingWithCopyWarning: \n",
      "A value is trying to be set on a copy of a slice from a DataFrame.\n",
      "Try using .loc[row_indexer,col_indexer] = value instead\n",
      "\n",
      "See the caveats in the documentation: https://pandas.pydata.org/pandas-docs/stable/user_guide/indexing.html#returning-a-view-versus-a-copy\n",
      "  tmp[tmp.columns[i]] = data.loc[reg][tmp.columns[i]]\n",
      "C:\\Users\\maczek\\PycharmProjects\\message_data\\message_data\\tools\\utilities\\add_globiom.py:483: SettingWithCopyWarning: \n",
      "A value is trying to be set on a copy of a slice from a DataFrame.\n",
      "Try using .loc[row_indexer,col_indexer] = value instead\n",
      "\n",
      "See the caveats in the documentation: https://pandas.pydata.org/pandas-docs/stable/user_guide/indexing.html#returning-a-view-versus-a-copy\n",
      "  tmp[tmp.columns[i]] = (\n",
      "C:\\Users\\maczek\\PycharmProjects\\message_data\\message_data\\tools\\utilities\\add_globiom.py:481: SettingWithCopyWarning: \n",
      "A value is trying to be set on a copy of a slice from a DataFrame.\n",
      "Try using .loc[row_indexer,col_indexer] = value instead\n",
      "\n",
      "See the caveats in the documentation: https://pandas.pydata.org/pandas-docs/stable/user_guide/indexing.html#returning-a-view-versus-a-copy\n",
      "  tmp[tmp.columns[i]] = data.loc[reg][tmp.columns[i]]\n",
      "C:\\Users\\maczek\\PycharmProjects\\message_data\\message_data\\tools\\utilities\\add_globiom.py:483: SettingWithCopyWarning: \n",
      "A value is trying to be set on a copy of a slice from a DataFrame.\n",
      "Try using .loc[row_indexer,col_indexer] = value instead\n",
      "\n",
      "See the caveats in the documentation: https://pandas.pydata.org/pandas-docs/stable/user_guide/indexing.html#returning-a-view-versus-a-copy\n",
      "  tmp[tmp.columns[i]] = (\n",
      "C:\\Users\\maczek\\PycharmProjects\\message_data\\message_data\\tools\\utilities\\add_globiom.py:481: SettingWithCopyWarning: \n",
      "A value is trying to be set on a copy of a slice from a DataFrame.\n",
      "Try using .loc[row_indexer,col_indexer] = value instead\n",
      "\n",
      "See the caveats in the documentation: https://pandas.pydata.org/pandas-docs/stable/user_guide/indexing.html#returning-a-view-versus-a-copy\n",
      "  tmp[tmp.columns[i]] = data.loc[reg][tmp.columns[i]]\n",
      "C:\\Users\\maczek\\PycharmProjects\\message_data\\message_data\\tools\\utilities\\add_globiom.py:483: SettingWithCopyWarning: \n",
      "A value is trying to be set on a copy of a slice from a DataFrame.\n",
      "Try using .loc[row_indexer,col_indexer] = value instead\n",
      "\n",
      "See the caveats in the documentation: https://pandas.pydata.org/pandas-docs/stable/user_guide/indexing.html#returning-a-view-versus-a-copy\n",
      "  tmp[tmp.columns[i]] = (\n",
      "C:\\Users\\maczek\\PycharmProjects\\message_data\\message_data\\tools\\utilities\\add_globiom.py:481: SettingWithCopyWarning: \n",
      "A value is trying to be set on a copy of a slice from a DataFrame.\n",
      "Try using .loc[row_indexer,col_indexer] = value instead\n",
      "\n",
      "See the caveats in the documentation: https://pandas.pydata.org/pandas-docs/stable/user_guide/indexing.html#returning-a-view-versus-a-copy\n",
      "  tmp[tmp.columns[i]] = data.loc[reg][tmp.columns[i]]\n",
      "C:\\Users\\maczek\\PycharmProjects\\message_data\\message_data\\tools\\utilities\\add_globiom.py:483: SettingWithCopyWarning: \n",
      "A value is trying to be set on a copy of a slice from a DataFrame.\n",
      "Try using .loc[row_indexer,col_indexer] = value instead\n",
      "\n",
      "See the caveats in the documentation: https://pandas.pydata.org/pandas-docs/stable/user_guide/indexing.html#returning-a-view-versus-a-copy\n",
      "  tmp[tmp.columns[i]] = (\n",
      "C:\\Users\\maczek\\PycharmProjects\\message_data\\message_data\\tools\\utilities\\add_globiom.py:481: SettingWithCopyWarning: \n",
      "A value is trying to be set on a copy of a slice from a DataFrame.\n",
      "Try using .loc[row_indexer,col_indexer] = value instead\n",
      "\n",
      "See the caveats in the documentation: https://pandas.pydata.org/pandas-docs/stable/user_guide/indexing.html#returning-a-view-versus-a-copy\n",
      "  tmp[tmp.columns[i]] = data.loc[reg][tmp.columns[i]]\n",
      "C:\\Users\\maczek\\PycharmProjects\\message_data\\message_data\\tools\\utilities\\add_globiom.py:483: SettingWithCopyWarning: \n",
      "A value is trying to be set on a copy of a slice from a DataFrame.\n",
      "Try using .loc[row_indexer,col_indexer] = value instead\n",
      "\n",
      "See the caveats in the documentation: https://pandas.pydata.org/pandas-docs/stable/user_guide/indexing.html#returning-a-view-versus-a-copy\n",
      "  tmp[tmp.columns[i]] = (\n",
      "C:\\Users\\maczek\\PycharmProjects\\message_data\\message_data\\tools\\utilities\\add_globiom.py:481: SettingWithCopyWarning: \n",
      "A value is trying to be set on a copy of a slice from a DataFrame.\n",
      "Try using .loc[row_indexer,col_indexer] = value instead\n",
      "\n",
      "See the caveats in the documentation: https://pandas.pydata.org/pandas-docs/stable/user_guide/indexing.html#returning-a-view-versus-a-copy\n",
      "  tmp[tmp.columns[i]] = data.loc[reg][tmp.columns[i]]\n",
      "C:\\Users\\maczek\\PycharmProjects\\message_data\\message_data\\tools\\utilities\\add_globiom.py:483: SettingWithCopyWarning: \n",
      "A value is trying to be set on a copy of a slice from a DataFrame.\n",
      "Try using .loc[row_indexer,col_indexer] = value instead\n",
      "\n",
      "See the caveats in the documentation: https://pandas.pydata.org/pandas-docs/stable/user_guide/indexing.html#returning-a-view-versus-a-copy\n",
      "  tmp[tmp.columns[i]] = (\n",
      "C:\\Users\\maczek\\PycharmProjects\\message_data\\message_data\\tools\\utilities\\add_globiom.py:481: SettingWithCopyWarning: \n",
      "A value is trying to be set on a copy of a slice from a DataFrame.\n",
      "Try using .loc[row_indexer,col_indexer] = value instead\n",
      "\n",
      "See the caveats in the documentation: https://pandas.pydata.org/pandas-docs/stable/user_guide/indexing.html#returning-a-view-versus-a-copy\n",
      "  tmp[tmp.columns[i]] = data.loc[reg][tmp.columns[i]]\n",
      "C:\\Users\\maczek\\PycharmProjects\\message_data\\message_data\\tools\\utilities\\add_globiom.py:483: SettingWithCopyWarning: \n",
      "A value is trying to be set on a copy of a slice from a DataFrame.\n",
      "Try using .loc[row_indexer,col_indexer] = value instead\n",
      "\n",
      "See the caveats in the documentation: https://pandas.pydata.org/pandas-docs/stable/user_guide/indexing.html#returning-a-view-versus-a-copy\n",
      "  tmp[tmp.columns[i]] = (\n",
      "C:\\Users\\maczek\\PycharmProjects\\message_data\\message_data\\tools\\utilities\\add_globiom.py:481: SettingWithCopyWarning: \n",
      "A value is trying to be set on a copy of a slice from a DataFrame.\n",
      "Try using .loc[row_indexer,col_indexer] = value instead\n",
      "\n",
      "See the caveats in the documentation: https://pandas.pydata.org/pandas-docs/stable/user_guide/indexing.html#returning-a-view-versus-a-copy\n",
      "  tmp[tmp.columns[i]] = data.loc[reg][tmp.columns[i]]\n",
      "C:\\Users\\maczek\\PycharmProjects\\message_data\\message_data\\tools\\utilities\\add_globiom.py:483: SettingWithCopyWarning: \n",
      "A value is trying to be set on a copy of a slice from a DataFrame.\n",
      "Try using .loc[row_indexer,col_indexer] = value instead\n",
      "\n",
      "See the caveats in the documentation: https://pandas.pydata.org/pandas-docs/stable/user_guide/indexing.html#returning-a-view-versus-a-copy\n",
      "  tmp[tmp.columns[i]] = (\n",
      "C:\\Users\\maczek\\PycharmProjects\\message_data\\message_data\\tools\\utilities\\add_globiom.py:481: SettingWithCopyWarning: \n",
      "A value is trying to be set on a copy of a slice from a DataFrame.\n",
      "Try using .loc[row_indexer,col_indexer] = value instead\n",
      "\n",
      "See the caveats in the documentation: https://pandas.pydata.org/pandas-docs/stable/user_guide/indexing.html#returning-a-view-versus-a-copy\n",
      "  tmp[tmp.columns[i]] = data.loc[reg][tmp.columns[i]]\n",
      "C:\\Users\\maczek\\PycharmProjects\\message_data\\message_data\\tools\\utilities\\add_globiom.py:483: SettingWithCopyWarning: \n",
      "A value is trying to be set on a copy of a slice from a DataFrame.\n",
      "Try using .loc[row_indexer,col_indexer] = value instead\n",
      "\n",
      "See the caveats in the documentation: https://pandas.pydata.org/pandas-docs/stable/user_guide/indexing.html#returning-a-view-versus-a-copy\n",
      "  tmp[tmp.columns[i]] = (\n",
      "C:\\Users\\maczek\\PycharmProjects\\message_data\\message_data\\tools\\utilities\\add_globiom.py:481: SettingWithCopyWarning: \n",
      "A value is trying to be set on a copy of a slice from a DataFrame.\n",
      "Try using .loc[row_indexer,col_indexer] = value instead\n",
      "\n",
      "See the caveats in the documentation: https://pandas.pydata.org/pandas-docs/stable/user_guide/indexing.html#returning-a-view-versus-a-copy\n",
      "  tmp[tmp.columns[i]] = data.loc[reg][tmp.columns[i]]\n",
      "C:\\Users\\maczek\\PycharmProjects\\message_data\\message_data\\tools\\utilities\\add_globiom.py:483: SettingWithCopyWarning: \n",
      "A value is trying to be set on a copy of a slice from a DataFrame.\n",
      "Try using .loc[row_indexer,col_indexer] = value instead\n",
      "\n",
      "See the caveats in the documentation: https://pandas.pydata.org/pandas-docs/stable/user_guide/indexing.html#returning-a-view-versus-a-copy\n",
      "  tmp[tmp.columns[i]] = (\n",
      "C:\\Users\\maczek\\PycharmProjects\\message_data\\message_data\\tools\\utilities\\add_globiom.py:481: SettingWithCopyWarning: \n",
      "A value is trying to be set on a copy of a slice from a DataFrame.\n",
      "Try using .loc[row_indexer,col_indexer] = value instead\n",
      "\n",
      "See the caveats in the documentation: https://pandas.pydata.org/pandas-docs/stable/user_guide/indexing.html#returning-a-view-versus-a-copy\n",
      "  tmp[tmp.columns[i]] = data.loc[reg][tmp.columns[i]]\n",
      "C:\\Users\\maczek\\PycharmProjects\\message_data\\message_data\\tools\\utilities\\add_globiom.py:483: SettingWithCopyWarning: \n",
      "A value is trying to be set on a copy of a slice from a DataFrame.\n",
      "Try using .loc[row_indexer,col_indexer] = value instead\n",
      "\n",
      "See the caveats in the documentation: https://pandas.pydata.org/pandas-docs/stable/user_guide/indexing.html#returning-a-view-versus-a-copy\n",
      "  tmp[tmp.columns[i]] = (\n",
      "C:\\Users\\maczek\\PycharmProjects\\message_data\\message_data\\tools\\utilities\\add_globiom.py:481: SettingWithCopyWarning: \n",
      "A value is trying to be set on a copy of a slice from a DataFrame.\n",
      "Try using .loc[row_indexer,col_indexer] = value instead\n",
      "\n",
      "See the caveats in the documentation: https://pandas.pydata.org/pandas-docs/stable/user_guide/indexing.html#returning-a-view-versus-a-copy\n",
      "  tmp[tmp.columns[i]] = data.loc[reg][tmp.columns[i]]\n",
      "C:\\Users\\maczek\\PycharmProjects\\message_data\\message_data\\tools\\utilities\\add_globiom.py:483: SettingWithCopyWarning: \n",
      "A value is trying to be set on a copy of a slice from a DataFrame.\n",
      "Try using .loc[row_indexer,col_indexer] = value instead\n",
      "\n",
      "See the caveats in the documentation: https://pandas.pydata.org/pandas-docs/stable/user_guide/indexing.html#returning-a-view-versus-a-copy\n",
      "  tmp[tmp.columns[i]] = (\n",
      "C:\\Users\\maczek\\PycharmProjects\\message_data\\message_data\\tools\\utilities\\add_globiom.py:481: SettingWithCopyWarning: \n",
      "A value is trying to be set on a copy of a slice from a DataFrame.\n",
      "Try using .loc[row_indexer,col_indexer] = value instead\n",
      "\n",
      "See the caveats in the documentation: https://pandas.pydata.org/pandas-docs/stable/user_guide/indexing.html#returning-a-view-versus-a-copy\n",
      "  tmp[tmp.columns[i]] = data.loc[reg][tmp.columns[i]]\n",
      "C:\\Users\\maczek\\PycharmProjects\\message_data\\message_data\\tools\\utilities\\add_globiom.py:483: SettingWithCopyWarning: \n",
      "A value is trying to be set on a copy of a slice from a DataFrame.\n",
      "Try using .loc[row_indexer,col_indexer] = value instead\n",
      "\n",
      "See the caveats in the documentation: https://pandas.pydata.org/pandas-docs/stable/user_guide/indexing.html#returning-a-view-versus-a-copy\n",
      "  tmp[tmp.columns[i]] = (\n",
      "C:\\Users\\maczek\\PycharmProjects\\message_data\\message_data\\tools\\utilities\\add_globiom.py:481: SettingWithCopyWarning: \n",
      "A value is trying to be set on a copy of a slice from a DataFrame.\n",
      "Try using .loc[row_indexer,col_indexer] = value instead\n",
      "\n",
      "See the caveats in the documentation: https://pandas.pydata.org/pandas-docs/stable/user_guide/indexing.html#returning-a-view-versus-a-copy\n",
      "  tmp[tmp.columns[i]] = data.loc[reg][tmp.columns[i]]\n",
      "C:\\Users\\maczek\\PycharmProjects\\message_data\\message_data\\tools\\utilities\\add_globiom.py:483: SettingWithCopyWarning: \n",
      "A value is trying to be set on a copy of a slice from a DataFrame.\n",
      "Try using .loc[row_indexer,col_indexer] = value instead\n",
      "\n",
      "See the caveats in the documentation: https://pandas.pydata.org/pandas-docs/stable/user_guide/indexing.html#returning-a-view-versus-a-copy\n",
      "  tmp[tmp.columns[i]] = (\n",
      "C:\\Users\\maczek\\PycharmProjects\\message_data\\message_data\\tools\\utilities\\add_globiom.py:481: SettingWithCopyWarning: \n",
      "A value is trying to be set on a copy of a slice from a DataFrame.\n",
      "Try using .loc[row_indexer,col_indexer] = value instead\n",
      "\n",
      "See the caveats in the documentation: https://pandas.pydata.org/pandas-docs/stable/user_guide/indexing.html#returning-a-view-versus-a-copy\n",
      "  tmp[tmp.columns[i]] = data.loc[reg][tmp.columns[i]]\n",
      "C:\\Users\\maczek\\PycharmProjects\\message_data\\message_data\\tools\\utilities\\add_globiom.py:483: SettingWithCopyWarning: \n",
      "A value is trying to be set on a copy of a slice from a DataFrame.\n",
      "Try using .loc[row_indexer,col_indexer] = value instead\n",
      "\n",
      "See the caveats in the documentation: https://pandas.pydata.org/pandas-docs/stable/user_guide/indexing.html#returning-a-view-versus-a-copy\n",
      "  tmp[tmp.columns[i]] = (\n",
      "C:\\Users\\maczek\\PycharmProjects\\message_data\\message_data\\tools\\utilities\\add_globiom.py:481: SettingWithCopyWarning: \n",
      "A value is trying to be set on a copy of a slice from a DataFrame.\n",
      "Try using .loc[row_indexer,col_indexer] = value instead\n",
      "\n",
      "See the caveats in the documentation: https://pandas.pydata.org/pandas-docs/stable/user_guide/indexing.html#returning-a-view-versus-a-copy\n",
      "  tmp[tmp.columns[i]] = data.loc[reg][tmp.columns[i]]\n",
      "C:\\Users\\maczek\\PycharmProjects\\message_data\\message_data\\tools\\utilities\\add_globiom.py:483: SettingWithCopyWarning: \n",
      "A value is trying to be set on a copy of a slice from a DataFrame.\n",
      "Try using .loc[row_indexer,col_indexer] = value instead\n",
      "\n",
      "See the caveats in the documentation: https://pandas.pydata.org/pandas-docs/stable/user_guide/indexing.html#returning-a-view-versus-a-copy\n",
      "  tmp[tmp.columns[i]] = (\n",
      "C:\\Users\\maczek\\PycharmProjects\\message_data\\message_data\\tools\\utilities\\add_globiom.py:481: SettingWithCopyWarning: \n",
      "A value is trying to be set on a copy of a slice from a DataFrame.\n",
      "Try using .loc[row_indexer,col_indexer] = value instead\n",
      "\n",
      "See the caveats in the documentation: https://pandas.pydata.org/pandas-docs/stable/user_guide/indexing.html#returning-a-view-versus-a-copy\n",
      "  tmp[tmp.columns[i]] = data.loc[reg][tmp.columns[i]]\n",
      "C:\\Users\\maczek\\PycharmProjects\\message_data\\message_data\\tools\\utilities\\add_globiom.py:483: SettingWithCopyWarning: \n",
      "A value is trying to be set on a copy of a slice from a DataFrame.\n",
      "Try using .loc[row_indexer,col_indexer] = value instead\n",
      "\n",
      "See the caveats in the documentation: https://pandas.pydata.org/pandas-docs/stable/user_guide/indexing.html#returning-a-view-versus-a-copy\n",
      "  tmp[tmp.columns[i]] = (\n",
      "C:\\Users\\maczek\\PycharmProjects\\message_data\\message_data\\tools\\utilities\\add_globiom.py:481: SettingWithCopyWarning: \n",
      "A value is trying to be set on a copy of a slice from a DataFrame.\n",
      "Try using .loc[row_indexer,col_indexer] = value instead\n",
      "\n",
      "See the caveats in the documentation: https://pandas.pydata.org/pandas-docs/stable/user_guide/indexing.html#returning-a-view-versus-a-copy\n",
      "  tmp[tmp.columns[i]] = data.loc[reg][tmp.columns[i]]\n",
      "C:\\Users\\maczek\\PycharmProjects\\message_data\\message_data\\tools\\utilities\\add_globiom.py:483: SettingWithCopyWarning: \n",
      "A value is trying to be set on a copy of a slice from a DataFrame.\n",
      "Try using .loc[row_indexer,col_indexer] = value instead\n",
      "\n",
      "See the caveats in the documentation: https://pandas.pydata.org/pandas-docs/stable/user_guide/indexing.html#returning-a-view-versus-a-copy\n",
      "  tmp[tmp.columns[i]] = (\n",
      "C:\\Users\\maczek\\PycharmProjects\\message_data\\message_data\\tools\\utilities\\add_globiom.py:481: SettingWithCopyWarning: \n",
      "A value is trying to be set on a copy of a slice from a DataFrame.\n",
      "Try using .loc[row_indexer,col_indexer] = value instead\n",
      "\n",
      "See the caveats in the documentation: https://pandas.pydata.org/pandas-docs/stable/user_guide/indexing.html#returning-a-view-versus-a-copy\n",
      "  tmp[tmp.columns[i]] = data.loc[reg][tmp.columns[i]]\n",
      "C:\\Users\\maczek\\PycharmProjects\\message_data\\message_data\\tools\\utilities\\add_globiom.py:483: SettingWithCopyWarning: \n",
      "A value is trying to be set on a copy of a slice from a DataFrame.\n",
      "Try using .loc[row_indexer,col_indexer] = value instead\n",
      "\n",
      "See the caveats in the documentation: https://pandas.pydata.org/pandas-docs/stable/user_guide/indexing.html#returning-a-view-versus-a-copy\n",
      "  tmp[tmp.columns[i]] = (\n",
      "C:\\Users\\maczek\\PycharmProjects\\message_data\\message_data\\tools\\utilities\\add_globiom.py:481: SettingWithCopyWarning: \n",
      "A value is trying to be set on a copy of a slice from a DataFrame.\n",
      "Try using .loc[row_indexer,col_indexer] = value instead\n",
      "\n",
      "See the caveats in the documentation: https://pandas.pydata.org/pandas-docs/stable/user_guide/indexing.html#returning-a-view-versus-a-copy\n",
      "  tmp[tmp.columns[i]] = data.loc[reg][tmp.columns[i]]\n",
      "C:\\Users\\maczek\\PycharmProjects\\message_data\\message_data\\tools\\utilities\\add_globiom.py:483: SettingWithCopyWarning: \n",
      "A value is trying to be set on a copy of a slice from a DataFrame.\n",
      "Try using .loc[row_indexer,col_indexer] = value instead\n",
      "\n",
      "See the caveats in the documentation: https://pandas.pydata.org/pandas-docs/stable/user_guide/indexing.html#returning-a-view-versus-a-copy\n",
      "  tmp[tmp.columns[i]] = (\n",
      "C:\\Users\\maczek\\PycharmProjects\\message_data\\message_data\\tools\\utilities\\add_globiom.py:481: SettingWithCopyWarning: \n",
      "A value is trying to be set on a copy of a slice from a DataFrame.\n",
      "Try using .loc[row_indexer,col_indexer] = value instead\n",
      "\n",
      "See the caveats in the documentation: https://pandas.pydata.org/pandas-docs/stable/user_guide/indexing.html#returning-a-view-versus-a-copy\n",
      "  tmp[tmp.columns[i]] = data.loc[reg][tmp.columns[i]]\n",
      "C:\\Users\\maczek\\PycharmProjects\\message_data\\message_data\\tools\\utilities\\add_globiom.py:483: SettingWithCopyWarning: \n",
      "A value is trying to be set on a copy of a slice from a DataFrame.\n",
      "Try using .loc[row_indexer,col_indexer] = value instead\n",
      "\n",
      "See the caveats in the documentation: https://pandas.pydata.org/pandas-docs/stable/user_guide/indexing.html#returning-a-view-versus-a-copy\n",
      "  tmp[tmp.columns[i]] = (\n",
      "C:\\Users\\maczek\\PycharmProjects\\message_data\\message_data\\tools\\utilities\\add_globiom.py:481: SettingWithCopyWarning: \n",
      "A value is trying to be set on a copy of a slice from a DataFrame.\n",
      "Try using .loc[row_indexer,col_indexer] = value instead\n",
      "\n",
      "See the caveats in the documentation: https://pandas.pydata.org/pandas-docs/stable/user_guide/indexing.html#returning-a-view-versus-a-copy\n",
      "  tmp[tmp.columns[i]] = data.loc[reg][tmp.columns[i]]\n",
      "C:\\Users\\maczek\\PycharmProjects\\message_data\\message_data\\tools\\utilities\\add_globiom.py:483: SettingWithCopyWarning: \n",
      "A value is trying to be set on a copy of a slice from a DataFrame.\n",
      "Try using .loc[row_indexer,col_indexer] = value instead\n",
      "\n",
      "See the caveats in the documentation: https://pandas.pydata.org/pandas-docs/stable/user_guide/indexing.html#returning-a-view-versus-a-copy\n",
      "  tmp[tmp.columns[i]] = (\n",
      "C:\\Users\\maczek\\PycharmProjects\\message_data\\message_data\\tools\\utilities\\add_globiom.py:481: SettingWithCopyWarning: \n",
      "A value is trying to be set on a copy of a slice from a DataFrame.\n",
      "Try using .loc[row_indexer,col_indexer] = value instead\n",
      "\n",
      "See the caveats in the documentation: https://pandas.pydata.org/pandas-docs/stable/user_guide/indexing.html#returning-a-view-versus-a-copy\n",
      "  tmp[tmp.columns[i]] = data.loc[reg][tmp.columns[i]]\n",
      "C:\\Users\\maczek\\PycharmProjects\\message_data\\message_data\\tools\\utilities\\add_globiom.py:483: SettingWithCopyWarning: \n",
      "A value is trying to be set on a copy of a slice from a DataFrame.\n",
      "Try using .loc[row_indexer,col_indexer] = value instead\n",
      "\n",
      "See the caveats in the documentation: https://pandas.pydata.org/pandas-docs/stable/user_guide/indexing.html#returning-a-view-versus-a-copy\n",
      "  tmp[tmp.columns[i]] = (\n",
      "C:\\Users\\maczek\\PycharmProjects\\message_data\\message_data\\tools\\utilities\\add_globiom.py:481: SettingWithCopyWarning: \n",
      "A value is trying to be set on a copy of a slice from a DataFrame.\n",
      "Try using .loc[row_indexer,col_indexer] = value instead\n",
      "\n",
      "See the caveats in the documentation: https://pandas.pydata.org/pandas-docs/stable/user_guide/indexing.html#returning-a-view-versus-a-copy\n",
      "  tmp[tmp.columns[i]] = data.loc[reg][tmp.columns[i]]\n",
      "C:\\Users\\maczek\\PycharmProjects\\message_data\\message_data\\tools\\utilities\\add_globiom.py:483: SettingWithCopyWarning: \n",
      "A value is trying to be set on a copy of a slice from a DataFrame.\n",
      "Try using .loc[row_indexer,col_indexer] = value instead\n",
      "\n",
      "See the caveats in the documentation: https://pandas.pydata.org/pandas-docs/stable/user_guide/indexing.html#returning-a-view-versus-a-copy\n",
      "  tmp[tmp.columns[i]] = (\n",
      "C:\\Users\\maczek\\PycharmProjects\\message_data\\message_data\\tools\\utilities\\add_globiom.py:481: SettingWithCopyWarning: \n",
      "A value is trying to be set on a copy of a slice from a DataFrame.\n",
      "Try using .loc[row_indexer,col_indexer] = value instead\n",
      "\n",
      "See the caveats in the documentation: https://pandas.pydata.org/pandas-docs/stable/user_guide/indexing.html#returning-a-view-versus-a-copy\n",
      "  tmp[tmp.columns[i]] = data.loc[reg][tmp.columns[i]]\n",
      "C:\\Users\\maczek\\PycharmProjects\\message_data\\message_data\\tools\\utilities\\add_globiom.py:483: SettingWithCopyWarning: \n",
      "A value is trying to be set on a copy of a slice from a DataFrame.\n",
      "Try using .loc[row_indexer,col_indexer] = value instead\n",
      "\n",
      "See the caveats in the documentation: https://pandas.pydata.org/pandas-docs/stable/user_guide/indexing.html#returning-a-view-versus-a-copy\n",
      "  tmp[tmp.columns[i]] = (\n",
      "C:\\Users\\maczek\\PycharmProjects\\message_data\\message_data\\tools\\utilities\\add_globiom.py:481: SettingWithCopyWarning: \n",
      "A value is trying to be set on a copy of a slice from a DataFrame.\n",
      "Try using .loc[row_indexer,col_indexer] = value instead\n",
      "\n",
      "See the caveats in the documentation: https://pandas.pydata.org/pandas-docs/stable/user_guide/indexing.html#returning-a-view-versus-a-copy\n",
      "  tmp[tmp.columns[i]] = data.loc[reg][tmp.columns[i]]\n",
      "C:\\Users\\maczek\\PycharmProjects\\message_data\\message_data\\tools\\utilities\\add_globiom.py:483: SettingWithCopyWarning: \n",
      "A value is trying to be set on a copy of a slice from a DataFrame.\n",
      "Try using .loc[row_indexer,col_indexer] = value instead\n",
      "\n",
      "See the caveats in the documentation: https://pandas.pydata.org/pandas-docs/stable/user_guide/indexing.html#returning-a-view-versus-a-copy\n",
      "  tmp[tmp.columns[i]] = (\n",
      "C:\\Users\\maczek\\PycharmProjects\\message_data\\message_data\\tools\\utilities\\add_globiom.py:481: SettingWithCopyWarning: \n",
      "A value is trying to be set on a copy of a slice from a DataFrame.\n",
      "Try using .loc[row_indexer,col_indexer] = value instead\n",
      "\n",
      "See the caveats in the documentation: https://pandas.pydata.org/pandas-docs/stable/user_guide/indexing.html#returning-a-view-versus-a-copy\n",
      "  tmp[tmp.columns[i]] = data.loc[reg][tmp.columns[i]]\n",
      "C:\\Users\\maczek\\PycharmProjects\\message_data\\message_data\\tools\\utilities\\add_globiom.py:483: SettingWithCopyWarning: \n",
      "A value is trying to be set on a copy of a slice from a DataFrame.\n",
      "Try using .loc[row_indexer,col_indexer] = value instead\n",
      "\n",
      "See the caveats in the documentation: https://pandas.pydata.org/pandas-docs/stable/user_guide/indexing.html#returning-a-view-versus-a-copy\n",
      "  tmp[tmp.columns[i]] = (\n",
      "C:\\Users\\maczek\\PycharmProjects\\message_data\\message_data\\tools\\utilities\\add_globiom.py:481: SettingWithCopyWarning: \n",
      "A value is trying to be set on a copy of a slice from a DataFrame.\n",
      "Try using .loc[row_indexer,col_indexer] = value instead\n",
      "\n",
      "See the caveats in the documentation: https://pandas.pydata.org/pandas-docs/stable/user_guide/indexing.html#returning-a-view-versus-a-copy\n",
      "  tmp[tmp.columns[i]] = data.loc[reg][tmp.columns[i]]\n",
      "C:\\Users\\maczek\\PycharmProjects\\message_data\\message_data\\tools\\utilities\\add_globiom.py:483: SettingWithCopyWarning: \n",
      "A value is trying to be set on a copy of a slice from a DataFrame.\n",
      "Try using .loc[row_indexer,col_indexer] = value instead\n",
      "\n",
      "See the caveats in the documentation: https://pandas.pydata.org/pandas-docs/stable/user_guide/indexing.html#returning-a-view-versus-a-copy\n",
      "  tmp[tmp.columns[i]] = (\n",
      "C:\\Users\\maczek\\PycharmProjects\\message_data\\message_data\\tools\\utilities\\add_globiom.py:481: SettingWithCopyWarning: \n",
      "A value is trying to be set on a copy of a slice from a DataFrame.\n",
      "Try using .loc[row_indexer,col_indexer] = value instead\n",
      "\n",
      "See the caveats in the documentation: https://pandas.pydata.org/pandas-docs/stable/user_guide/indexing.html#returning-a-view-versus-a-copy\n",
      "  tmp[tmp.columns[i]] = data.loc[reg][tmp.columns[i]]\n",
      "C:\\Users\\maczek\\PycharmProjects\\message_data\\message_data\\tools\\utilities\\add_globiom.py:483: SettingWithCopyWarning: \n",
      "A value is trying to be set on a copy of a slice from a DataFrame.\n",
      "Try using .loc[row_indexer,col_indexer] = value instead\n",
      "\n",
      "See the caveats in the documentation: https://pandas.pydata.org/pandas-docs/stable/user_guide/indexing.html#returning-a-view-versus-a-copy\n",
      "  tmp[tmp.columns[i]] = (\n",
      "C:\\Users\\maczek\\PycharmProjects\\message_data\\message_data\\tools\\utilities\\add_globiom.py:481: SettingWithCopyWarning: \n",
      "A value is trying to be set on a copy of a slice from a DataFrame.\n",
      "Try using .loc[row_indexer,col_indexer] = value instead\n",
      "\n",
      "See the caveats in the documentation: https://pandas.pydata.org/pandas-docs/stable/user_guide/indexing.html#returning-a-view-versus-a-copy\n",
      "  tmp[tmp.columns[i]] = data.loc[reg][tmp.columns[i]]\n",
      "C:\\Users\\maczek\\PycharmProjects\\message_data\\message_data\\tools\\utilities\\add_globiom.py:483: SettingWithCopyWarning: \n",
      "A value is trying to be set on a copy of a slice from a DataFrame.\n",
      "Try using .loc[row_indexer,col_indexer] = value instead\n",
      "\n",
      "See the caveats in the documentation: https://pandas.pydata.org/pandas-docs/stable/user_guide/indexing.html#returning-a-view-versus-a-copy\n",
      "  tmp[tmp.columns[i]] = (\n",
      "C:\\Users\\maczek\\PycharmProjects\\message_data\\message_data\\tools\\utilities\\add_globiom.py:481: SettingWithCopyWarning: \n",
      "A value is trying to be set on a copy of a slice from a DataFrame.\n",
      "Try using .loc[row_indexer,col_indexer] = value instead\n",
      "\n",
      "See the caveats in the documentation: https://pandas.pydata.org/pandas-docs/stable/user_guide/indexing.html#returning-a-view-versus-a-copy\n",
      "  tmp[tmp.columns[i]] = data.loc[reg][tmp.columns[i]]\n",
      "C:\\Users\\maczek\\PycharmProjects\\message_data\\message_data\\tools\\utilities\\add_globiom.py:483: SettingWithCopyWarning: \n",
      "A value is trying to be set on a copy of a slice from a DataFrame.\n",
      "Try using .loc[row_indexer,col_indexer] = value instead\n",
      "\n",
      "See the caveats in the documentation: https://pandas.pydata.org/pandas-docs/stable/user_guide/indexing.html#returning-a-view-versus-a-copy\n",
      "  tmp[tmp.columns[i]] = (\n",
      "C:\\Users\\maczek\\PycharmProjects\\message_data\\message_data\\tools\\utilities\\add_globiom.py:481: SettingWithCopyWarning: \n",
      "A value is trying to be set on a copy of a slice from a DataFrame.\n",
      "Try using .loc[row_indexer,col_indexer] = value instead\n",
      "\n",
      "See the caveats in the documentation: https://pandas.pydata.org/pandas-docs/stable/user_guide/indexing.html#returning-a-view-versus-a-copy\n",
      "  tmp[tmp.columns[i]] = data.loc[reg][tmp.columns[i]]\n",
      "C:\\Users\\maczek\\PycharmProjects\\message_data\\message_data\\tools\\utilities\\add_globiom.py:483: SettingWithCopyWarning: \n",
      "A value is trying to be set on a copy of a slice from a DataFrame.\n",
      "Try using .loc[row_indexer,col_indexer] = value instead\n",
      "\n",
      "See the caveats in the documentation: https://pandas.pydata.org/pandas-docs/stable/user_guide/indexing.html#returning-a-view-versus-a-copy\n",
      "  tmp[tmp.columns[i]] = (\n",
      "C:\\Users\\maczek\\PycharmProjects\\message_data\\message_data\\tools\\utilities\\add_globiom.py:481: SettingWithCopyWarning: \n",
      "A value is trying to be set on a copy of a slice from a DataFrame.\n",
      "Try using .loc[row_indexer,col_indexer] = value instead\n",
      "\n",
      "See the caveats in the documentation: https://pandas.pydata.org/pandas-docs/stable/user_guide/indexing.html#returning-a-view-versus-a-copy\n",
      "  tmp[tmp.columns[i]] = data.loc[reg][tmp.columns[i]]\n",
      "C:\\Users\\maczek\\PycharmProjects\\message_data\\message_data\\tools\\utilities\\add_globiom.py:483: SettingWithCopyWarning: \n",
      "A value is trying to be set on a copy of a slice from a DataFrame.\n",
      "Try using .loc[row_indexer,col_indexer] = value instead\n",
      "\n",
      "See the caveats in the documentation: https://pandas.pydata.org/pandas-docs/stable/user_guide/indexing.html#returning-a-view-versus-a-copy\n",
      "  tmp[tmp.columns[i]] = (\n",
      "C:\\Users\\maczek\\PycharmProjects\\message_data\\message_data\\tools\\utilities\\add_globiom.py:481: SettingWithCopyWarning: \n",
      "A value is trying to be set on a copy of a slice from a DataFrame.\n",
      "Try using .loc[row_indexer,col_indexer] = value instead\n",
      "\n",
      "See the caveats in the documentation: https://pandas.pydata.org/pandas-docs/stable/user_guide/indexing.html#returning-a-view-versus-a-copy\n",
      "  tmp[tmp.columns[i]] = data.loc[reg][tmp.columns[i]]\n",
      "C:\\Users\\maczek\\PycharmProjects\\message_data\\message_data\\tools\\utilities\\add_globiom.py:483: SettingWithCopyWarning: \n",
      "A value is trying to be set on a copy of a slice from a DataFrame.\n",
      "Try using .loc[row_indexer,col_indexer] = value instead\n",
      "\n",
      "See the caveats in the documentation: https://pandas.pydata.org/pandas-docs/stable/user_guide/indexing.html#returning-a-view-versus-a-copy\n",
      "  tmp[tmp.columns[i]] = (\n",
      "C:\\Users\\maczek\\PycharmProjects\\message_data\\message_data\\tools\\utilities\\add_globiom.py:481: SettingWithCopyWarning: \n",
      "A value is trying to be set on a copy of a slice from a DataFrame.\n",
      "Try using .loc[row_indexer,col_indexer] = value instead\n",
      "\n",
      "See the caveats in the documentation: https://pandas.pydata.org/pandas-docs/stable/user_guide/indexing.html#returning-a-view-versus-a-copy\n",
      "  tmp[tmp.columns[i]] = data.loc[reg][tmp.columns[i]]\n",
      "C:\\Users\\maczek\\PycharmProjects\\message_data\\message_data\\tools\\utilities\\add_globiom.py:483: SettingWithCopyWarning: \n",
      "A value is trying to be set on a copy of a slice from a DataFrame.\n",
      "Try using .loc[row_indexer,col_indexer] = value instead\n",
      "\n",
      "See the caveats in the documentation: https://pandas.pydata.org/pandas-docs/stable/user_guide/indexing.html#returning-a-view-versus-a-copy\n",
      "  tmp[tmp.columns[i]] = (\n",
      "C:\\Users\\maczek\\PycharmProjects\\message_data\\message_data\\tools\\utilities\\add_globiom.py:481: SettingWithCopyWarning: \n",
      "A value is trying to be set on a copy of a slice from a DataFrame.\n",
      "Try using .loc[row_indexer,col_indexer] = value instead\n",
      "\n",
      "See the caveats in the documentation: https://pandas.pydata.org/pandas-docs/stable/user_guide/indexing.html#returning-a-view-versus-a-copy\n",
      "  tmp[tmp.columns[i]] = data.loc[reg][tmp.columns[i]]\n",
      "C:\\Users\\maczek\\PycharmProjects\\message_data\\message_data\\tools\\utilities\\add_globiom.py:483: SettingWithCopyWarning: \n",
      "A value is trying to be set on a copy of a slice from a DataFrame.\n",
      "Try using .loc[row_indexer,col_indexer] = value instead\n",
      "\n",
      "See the caveats in the documentation: https://pandas.pydata.org/pandas-docs/stable/user_guide/indexing.html#returning-a-view-versus-a-copy\n",
      "  tmp[tmp.columns[i]] = (\n",
      "C:\\Users\\maczek\\PycharmProjects\\message_data\\message_data\\tools\\utilities\\add_globiom.py:481: SettingWithCopyWarning: \n",
      "A value is trying to be set on a copy of a slice from a DataFrame.\n",
      "Try using .loc[row_indexer,col_indexer] = value instead\n",
      "\n",
      "See the caveats in the documentation: https://pandas.pydata.org/pandas-docs/stable/user_guide/indexing.html#returning-a-view-versus-a-copy\n",
      "  tmp[tmp.columns[i]] = data.loc[reg][tmp.columns[i]]\n",
      "C:\\Users\\maczek\\PycharmProjects\\message_data\\message_data\\tools\\utilities\\add_globiom.py:483: SettingWithCopyWarning: \n",
      "A value is trying to be set on a copy of a slice from a DataFrame.\n",
      "Try using .loc[row_indexer,col_indexer] = value instead\n",
      "\n",
      "See the caveats in the documentation: https://pandas.pydata.org/pandas-docs/stable/user_guide/indexing.html#returning-a-view-versus-a-copy\n",
      "  tmp[tmp.columns[i]] = (\n",
      "C:\\Users\\maczek\\PycharmProjects\\message_data\\message_data\\tools\\utilities\\add_globiom.py:481: SettingWithCopyWarning: \n",
      "A value is trying to be set on a copy of a slice from a DataFrame.\n",
      "Try using .loc[row_indexer,col_indexer] = value instead\n",
      "\n",
      "See the caveats in the documentation: https://pandas.pydata.org/pandas-docs/stable/user_guide/indexing.html#returning-a-view-versus-a-copy\n",
      "  tmp[tmp.columns[i]] = data.loc[reg][tmp.columns[i]]\n",
      "C:\\Users\\maczek\\PycharmProjects\\message_data\\message_data\\tools\\utilities\\add_globiom.py:483: SettingWithCopyWarning: \n",
      "A value is trying to be set on a copy of a slice from a DataFrame.\n",
      "Try using .loc[row_indexer,col_indexer] = value instead\n",
      "\n",
      "See the caveats in the documentation: https://pandas.pydata.org/pandas-docs/stable/user_guide/indexing.html#returning-a-view-versus-a-copy\n",
      "  tmp[tmp.columns[i]] = (\n",
      "C:\\Users\\maczek\\PycharmProjects\\message_data\\message_data\\tools\\utilities\\add_globiom.py:481: SettingWithCopyWarning: \n",
      "A value is trying to be set on a copy of a slice from a DataFrame.\n",
      "Try using .loc[row_indexer,col_indexer] = value instead\n",
      "\n",
      "See the caveats in the documentation: https://pandas.pydata.org/pandas-docs/stable/user_guide/indexing.html#returning-a-view-versus-a-copy\n",
      "  tmp[tmp.columns[i]] = data.loc[reg][tmp.columns[i]]\n",
      "C:\\Users\\maczek\\PycharmProjects\\message_data\\message_data\\tools\\utilities\\add_globiom.py:483: SettingWithCopyWarning: \n",
      "A value is trying to be set on a copy of a slice from a DataFrame.\n",
      "Try using .loc[row_indexer,col_indexer] = value instead\n",
      "\n",
      "See the caveats in the documentation: https://pandas.pydata.org/pandas-docs/stable/user_guide/indexing.html#returning-a-view-versus-a-copy\n",
      "  tmp[tmp.columns[i]] = (\n",
      "C:\\Users\\maczek\\PycharmProjects\\message_data\\message_data\\tools\\utilities\\add_globiom.py:481: SettingWithCopyWarning: \n",
      "A value is trying to be set on a copy of a slice from a DataFrame.\n",
      "Try using .loc[row_indexer,col_indexer] = value instead\n",
      "\n",
      "See the caveats in the documentation: https://pandas.pydata.org/pandas-docs/stable/user_guide/indexing.html#returning-a-view-versus-a-copy\n",
      "  tmp[tmp.columns[i]] = data.loc[reg][tmp.columns[i]]\n",
      "C:\\Users\\maczek\\PycharmProjects\\message_data\\message_data\\tools\\utilities\\add_globiom.py:483: SettingWithCopyWarning: \n",
      "A value is trying to be set on a copy of a slice from a DataFrame.\n",
      "Try using .loc[row_indexer,col_indexer] = value instead\n",
      "\n",
      "See the caveats in the documentation: https://pandas.pydata.org/pandas-docs/stable/user_guide/indexing.html#returning-a-view-versus-a-copy\n",
      "  tmp[tmp.columns[i]] = (\n",
      "C:\\Users\\maczek\\PycharmProjects\\message_data\\message_data\\tools\\utilities\\add_globiom.py:481: SettingWithCopyWarning: \n",
      "A value is trying to be set on a copy of a slice from a DataFrame.\n",
      "Try using .loc[row_indexer,col_indexer] = value instead\n",
      "\n",
      "See the caveats in the documentation: https://pandas.pydata.org/pandas-docs/stable/user_guide/indexing.html#returning-a-view-versus-a-copy\n",
      "  tmp[tmp.columns[i]] = data.loc[reg][tmp.columns[i]]\n",
      "C:\\Users\\maczek\\PycharmProjects\\message_data\\message_data\\tools\\utilities\\add_globiom.py:483: SettingWithCopyWarning: \n",
      "A value is trying to be set on a copy of a slice from a DataFrame.\n",
      "Try using .loc[row_indexer,col_indexer] = value instead\n",
      "\n",
      "See the caveats in the documentation: https://pandas.pydata.org/pandas-docs/stable/user_guide/indexing.html#returning-a-view-versus-a-copy\n",
      "  tmp[tmp.columns[i]] = (\n",
      "C:\\Users\\maczek\\PycharmProjects\\message_data\\message_data\\tools\\utilities\\add_globiom.py:481: SettingWithCopyWarning: \n",
      "A value is trying to be set on a copy of a slice from a DataFrame.\n",
      "Try using .loc[row_indexer,col_indexer] = value instead\n",
      "\n",
      "See the caveats in the documentation: https://pandas.pydata.org/pandas-docs/stable/user_guide/indexing.html#returning-a-view-versus-a-copy\n",
      "  tmp[tmp.columns[i]] = data.loc[reg][tmp.columns[i]]\n",
      "C:\\Users\\maczek\\PycharmProjects\\message_data\\message_data\\tools\\utilities\\add_globiom.py:483: SettingWithCopyWarning: \n",
      "A value is trying to be set on a copy of a slice from a DataFrame.\n",
      "Try using .loc[row_indexer,col_indexer] = value instead\n",
      "\n",
      "See the caveats in the documentation: https://pandas.pydata.org/pandas-docs/stable/user_guide/indexing.html#returning-a-view-versus-a-copy\n",
      "  tmp[tmp.columns[i]] = (\n",
      "C:\\Users\\maczek\\PycharmProjects\\message_data\\message_data\\tools\\utilities\\add_globiom.py:481: SettingWithCopyWarning: \n",
      "A value is trying to be set on a copy of a slice from a DataFrame.\n",
      "Try using .loc[row_indexer,col_indexer] = value instead\n",
      "\n",
      "See the caveats in the documentation: https://pandas.pydata.org/pandas-docs/stable/user_guide/indexing.html#returning-a-view-versus-a-copy\n",
      "  tmp[tmp.columns[i]] = data.loc[reg][tmp.columns[i]]\n",
      "C:\\Users\\maczek\\PycharmProjects\\message_data\\message_data\\tools\\utilities\\add_globiom.py:483: SettingWithCopyWarning: \n",
      "A value is trying to be set on a copy of a slice from a DataFrame.\n",
      "Try using .loc[row_indexer,col_indexer] = value instead\n",
      "\n",
      "See the caveats in the documentation: https://pandas.pydata.org/pandas-docs/stable/user_guide/indexing.html#returning-a-view-versus-a-copy\n",
      "  tmp[tmp.columns[i]] = (\n",
      "C:\\Users\\maczek\\PycharmProjects\\message_data\\message_data\\tools\\utilities\\add_globiom.py:481: SettingWithCopyWarning: \n",
      "A value is trying to be set on a copy of a slice from a DataFrame.\n",
      "Try using .loc[row_indexer,col_indexer] = value instead\n",
      "\n",
      "See the caveats in the documentation: https://pandas.pydata.org/pandas-docs/stable/user_guide/indexing.html#returning-a-view-versus-a-copy\n",
      "  tmp[tmp.columns[i]] = data.loc[reg][tmp.columns[i]]\n",
      "C:\\Users\\maczek\\PycharmProjects\\message_data\\message_data\\tools\\utilities\\add_globiom.py:483: SettingWithCopyWarning: \n",
      "A value is trying to be set on a copy of a slice from a DataFrame.\n",
      "Try using .loc[row_indexer,col_indexer] = value instead\n",
      "\n",
      "See the caveats in the documentation: https://pandas.pydata.org/pandas-docs/stable/user_guide/indexing.html#returning-a-view-versus-a-copy\n",
      "  tmp[tmp.columns[i]] = (\n",
      "C:\\Users\\maczek\\PycharmProjects\\message_data\\message_data\\tools\\utilities\\add_globiom.py:481: SettingWithCopyWarning: \n",
      "A value is trying to be set on a copy of a slice from a DataFrame.\n",
      "Try using .loc[row_indexer,col_indexer] = value instead\n",
      "\n",
      "See the caveats in the documentation: https://pandas.pydata.org/pandas-docs/stable/user_guide/indexing.html#returning-a-view-versus-a-copy\n",
      "  tmp[tmp.columns[i]] = data.loc[reg][tmp.columns[i]]\n",
      "C:\\Users\\maczek\\PycharmProjects\\message_data\\message_data\\tools\\utilities\\add_globiom.py:483: SettingWithCopyWarning: \n",
      "A value is trying to be set on a copy of a slice from a DataFrame.\n",
      "Try using .loc[row_indexer,col_indexer] = value instead\n",
      "\n",
      "See the caveats in the documentation: https://pandas.pydata.org/pandas-docs/stable/user_guide/indexing.html#returning-a-view-versus-a-copy\n",
      "  tmp[tmp.columns[i]] = (\n",
      "C:\\Users\\maczek\\PycharmProjects\\message_data\\message_data\\tools\\utilities\\add_globiom.py:481: SettingWithCopyWarning: \n",
      "A value is trying to be set on a copy of a slice from a DataFrame.\n",
      "Try using .loc[row_indexer,col_indexer] = value instead\n",
      "\n",
      "See the caveats in the documentation: https://pandas.pydata.org/pandas-docs/stable/user_guide/indexing.html#returning-a-view-versus-a-copy\n",
      "  tmp[tmp.columns[i]] = data.loc[reg][tmp.columns[i]]\n",
      "C:\\Users\\maczek\\PycharmProjects\\message_data\\message_data\\tools\\utilities\\add_globiom.py:483: SettingWithCopyWarning: \n",
      "A value is trying to be set on a copy of a slice from a DataFrame.\n",
      "Try using .loc[row_indexer,col_indexer] = value instead\n",
      "\n",
      "See the caveats in the documentation: https://pandas.pydata.org/pandas-docs/stable/user_guide/indexing.html#returning-a-view-versus-a-copy\n",
      "  tmp[tmp.columns[i]] = (\n",
      "C:\\Users\\maczek\\PycharmProjects\\message_data\\message_data\\tools\\utilities\\add_globiom.py:481: SettingWithCopyWarning: \n",
      "A value is trying to be set on a copy of a slice from a DataFrame.\n",
      "Try using .loc[row_indexer,col_indexer] = value instead\n",
      "\n",
      "See the caveats in the documentation: https://pandas.pydata.org/pandas-docs/stable/user_guide/indexing.html#returning-a-view-versus-a-copy\n",
      "  tmp[tmp.columns[i]] = data.loc[reg][tmp.columns[i]]\n",
      "C:\\Users\\maczek\\PycharmProjects\\message_data\\message_data\\tools\\utilities\\add_globiom.py:483: SettingWithCopyWarning: \n",
      "A value is trying to be set on a copy of a slice from a DataFrame.\n",
      "Try using .loc[row_indexer,col_indexer] = value instead\n",
      "\n",
      "See the caveats in the documentation: https://pandas.pydata.org/pandas-docs/stable/user_guide/indexing.html#returning-a-view-versus-a-copy\n",
      "  tmp[tmp.columns[i]] = (\n",
      "C:\\Users\\maczek\\PycharmProjects\\message_data\\message_data\\tools\\utilities\\add_globiom.py:481: SettingWithCopyWarning: \n",
      "A value is trying to be set on a copy of a slice from a DataFrame.\n",
      "Try using .loc[row_indexer,col_indexer] = value instead\n",
      "\n",
      "See the caveats in the documentation: https://pandas.pydata.org/pandas-docs/stable/user_guide/indexing.html#returning-a-view-versus-a-copy\n",
      "  tmp[tmp.columns[i]] = data.loc[reg][tmp.columns[i]]\n",
      "C:\\Users\\maczek\\PycharmProjects\\message_data\\message_data\\tools\\utilities\\add_globiom.py:483: SettingWithCopyWarning: \n",
      "A value is trying to be set on a copy of a slice from a DataFrame.\n",
      "Try using .loc[row_indexer,col_indexer] = value instead\n",
      "\n",
      "See the caveats in the documentation: https://pandas.pydata.org/pandas-docs/stable/user_guide/indexing.html#returning-a-view-versus-a-copy\n",
      "  tmp[tmp.columns[i]] = (\n",
      "C:\\Users\\maczek\\PycharmProjects\\message_data\\message_data\\tools\\utilities\\add_globiom.py:481: SettingWithCopyWarning: \n",
      "A value is trying to be set on a copy of a slice from a DataFrame.\n",
      "Try using .loc[row_indexer,col_indexer] = value instead\n",
      "\n",
      "See the caveats in the documentation: https://pandas.pydata.org/pandas-docs/stable/user_guide/indexing.html#returning-a-view-versus-a-copy\n",
      "  tmp[tmp.columns[i]] = data.loc[reg][tmp.columns[i]]\n",
      "C:\\Users\\maczek\\PycharmProjects\\message_data\\message_data\\tools\\utilities\\add_globiom.py:483: SettingWithCopyWarning: \n",
      "A value is trying to be set on a copy of a slice from a DataFrame.\n",
      "Try using .loc[row_indexer,col_indexer] = value instead\n",
      "\n",
      "See the caveats in the documentation: https://pandas.pydata.org/pandas-docs/stable/user_guide/indexing.html#returning-a-view-versus-a-copy\n",
      "  tmp[tmp.columns[i]] = (\n",
      "C:\\Users\\maczek\\PycharmProjects\\message_data\\message_data\\tools\\utilities\\add_globiom.py:481: SettingWithCopyWarning: \n",
      "A value is trying to be set on a copy of a slice from a DataFrame.\n",
      "Try using .loc[row_indexer,col_indexer] = value instead\n",
      "\n",
      "See the caveats in the documentation: https://pandas.pydata.org/pandas-docs/stable/user_guide/indexing.html#returning-a-view-versus-a-copy\n",
      "  tmp[tmp.columns[i]] = data.loc[reg][tmp.columns[i]]\n",
      "C:\\Users\\maczek\\PycharmProjects\\message_data\\message_data\\tools\\utilities\\add_globiom.py:483: SettingWithCopyWarning: \n",
      "A value is trying to be set on a copy of a slice from a DataFrame.\n",
      "Try using .loc[row_indexer,col_indexer] = value instead\n",
      "\n",
      "See the caveats in the documentation: https://pandas.pydata.org/pandas-docs/stable/user_guide/indexing.html#returning-a-view-versus-a-copy\n",
      "  tmp[tmp.columns[i]] = (\n",
      "C:\\Users\\maczek\\PycharmProjects\\message_data\\message_data\\tools\\utilities\\add_globiom.py:481: SettingWithCopyWarning: \n",
      "A value is trying to be set on a copy of a slice from a DataFrame.\n",
      "Try using .loc[row_indexer,col_indexer] = value instead\n",
      "\n",
      "See the caveats in the documentation: https://pandas.pydata.org/pandas-docs/stable/user_guide/indexing.html#returning-a-view-versus-a-copy\n",
      "  tmp[tmp.columns[i]] = data.loc[reg][tmp.columns[i]]\n",
      "C:\\Users\\maczek\\PycharmProjects\\message_data\\message_data\\tools\\utilities\\add_globiom.py:483: SettingWithCopyWarning: \n",
      "A value is trying to be set on a copy of a slice from a DataFrame.\n",
      "Try using .loc[row_indexer,col_indexer] = value instead\n",
      "\n",
      "See the caveats in the documentation: https://pandas.pydata.org/pandas-docs/stable/user_guide/indexing.html#returning-a-view-versus-a-copy\n",
      "  tmp[tmp.columns[i]] = (\n",
      "C:\\Users\\maczek\\PycharmProjects\\message_data\\message_data\\tools\\utilities\\add_globiom.py:481: SettingWithCopyWarning: \n",
      "A value is trying to be set on a copy of a slice from a DataFrame.\n",
      "Try using .loc[row_indexer,col_indexer] = value instead\n",
      "\n",
      "See the caveats in the documentation: https://pandas.pydata.org/pandas-docs/stable/user_guide/indexing.html#returning-a-view-versus-a-copy\n",
      "  tmp[tmp.columns[i]] = data.loc[reg][tmp.columns[i]]\n",
      "C:\\Users\\maczek\\PycharmProjects\\message_data\\message_data\\tools\\utilities\\add_globiom.py:483: SettingWithCopyWarning: \n",
      "A value is trying to be set on a copy of a slice from a DataFrame.\n",
      "Try using .loc[row_indexer,col_indexer] = value instead\n",
      "\n",
      "See the caveats in the documentation: https://pandas.pydata.org/pandas-docs/stable/user_guide/indexing.html#returning-a-view-versus-a-copy\n",
      "  tmp[tmp.columns[i]] = (\n",
      "C:\\Users\\maczek\\PycharmProjects\\message_data\\message_data\\tools\\utilities\\add_globiom.py:481: SettingWithCopyWarning: \n",
      "A value is trying to be set on a copy of a slice from a DataFrame.\n",
      "Try using .loc[row_indexer,col_indexer] = value instead\n",
      "\n",
      "See the caveats in the documentation: https://pandas.pydata.org/pandas-docs/stable/user_guide/indexing.html#returning-a-view-versus-a-copy\n",
      "  tmp[tmp.columns[i]] = data.loc[reg][tmp.columns[i]]\n",
      "C:\\Users\\maczek\\PycharmProjects\\message_data\\message_data\\tools\\utilities\\add_globiom.py:483: SettingWithCopyWarning: \n",
      "A value is trying to be set on a copy of a slice from a DataFrame.\n",
      "Try using .loc[row_indexer,col_indexer] = value instead\n",
      "\n",
      "See the caveats in the documentation: https://pandas.pydata.org/pandas-docs/stable/user_guide/indexing.html#returning-a-view-versus-a-copy\n",
      "  tmp[tmp.columns[i]] = (\n",
      "C:\\Users\\maczek\\PycharmProjects\\message_data\\message_data\\tools\\utilities\\add_globiom.py:481: SettingWithCopyWarning: \n",
      "A value is trying to be set on a copy of a slice from a DataFrame.\n",
      "Try using .loc[row_indexer,col_indexer] = value instead\n",
      "\n",
      "See the caveats in the documentation: https://pandas.pydata.org/pandas-docs/stable/user_guide/indexing.html#returning-a-view-versus-a-copy\n",
      "  tmp[tmp.columns[i]] = data.loc[reg][tmp.columns[i]]\n",
      "C:\\Users\\maczek\\PycharmProjects\\message_data\\message_data\\tools\\utilities\\add_globiom.py:483: SettingWithCopyWarning: \n",
      "A value is trying to be set on a copy of a slice from a DataFrame.\n",
      "Try using .loc[row_indexer,col_indexer] = value instead\n",
      "\n",
      "See the caveats in the documentation: https://pandas.pydata.org/pandas-docs/stable/user_guide/indexing.html#returning-a-view-versus-a-copy\n",
      "  tmp[tmp.columns[i]] = (\n",
      "C:\\Users\\maczek\\PycharmProjects\\message_data\\message_data\\tools\\utilities\\add_globiom.py:481: SettingWithCopyWarning: \n",
      "A value is trying to be set on a copy of a slice from a DataFrame.\n",
      "Try using .loc[row_indexer,col_indexer] = value instead\n",
      "\n",
      "See the caveats in the documentation: https://pandas.pydata.org/pandas-docs/stable/user_guide/indexing.html#returning-a-view-versus-a-copy\n",
      "  tmp[tmp.columns[i]] = data.loc[reg][tmp.columns[i]]\n",
      "C:\\Users\\maczek\\PycharmProjects\\message_data\\message_data\\tools\\utilities\\add_globiom.py:483: SettingWithCopyWarning: \n",
      "A value is trying to be set on a copy of a slice from a DataFrame.\n",
      "Try using .loc[row_indexer,col_indexer] = value instead\n",
      "\n",
      "See the caveats in the documentation: https://pandas.pydata.org/pandas-docs/stable/user_guide/indexing.html#returning-a-view-versus-a-copy\n",
      "  tmp[tmp.columns[i]] = (\n",
      "C:\\Users\\maczek\\PycharmProjects\\message_data\\message_data\\tools\\utilities\\add_globiom.py:481: SettingWithCopyWarning: \n",
      "A value is trying to be set on a copy of a slice from a DataFrame.\n",
      "Try using .loc[row_indexer,col_indexer] = value instead\n",
      "\n",
      "See the caveats in the documentation: https://pandas.pydata.org/pandas-docs/stable/user_guide/indexing.html#returning-a-view-versus-a-copy\n",
      "  tmp[tmp.columns[i]] = data.loc[reg][tmp.columns[i]]\n",
      "C:\\Users\\maczek\\PycharmProjects\\message_data\\message_data\\tools\\utilities\\add_globiom.py:483: SettingWithCopyWarning: \n",
      "A value is trying to be set on a copy of a slice from a DataFrame.\n",
      "Try using .loc[row_indexer,col_indexer] = value instead\n",
      "\n",
      "See the caveats in the documentation: https://pandas.pydata.org/pandas-docs/stable/user_guide/indexing.html#returning-a-view-versus-a-copy\n",
      "  tmp[tmp.columns[i]] = (\n",
      "C:\\Users\\maczek\\PycharmProjects\\message_data\\message_data\\tools\\utilities\\add_globiom.py:481: SettingWithCopyWarning: \n",
      "A value is trying to be set on a copy of a slice from a DataFrame.\n",
      "Try using .loc[row_indexer,col_indexer] = value instead\n",
      "\n",
      "See the caveats in the documentation: https://pandas.pydata.org/pandas-docs/stable/user_guide/indexing.html#returning-a-view-versus-a-copy\n",
      "  tmp[tmp.columns[i]] = data.loc[reg][tmp.columns[i]]\n",
      "C:\\Users\\maczek\\PycharmProjects\\message_data\\message_data\\tools\\utilities\\add_globiom.py:483: SettingWithCopyWarning: \n",
      "A value is trying to be set on a copy of a slice from a DataFrame.\n",
      "Try using .loc[row_indexer,col_indexer] = value instead\n",
      "\n",
      "See the caveats in the documentation: https://pandas.pydata.org/pandas-docs/stable/user_guide/indexing.html#returning-a-view-versus-a-copy\n",
      "  tmp[tmp.columns[i]] = (\n",
      "C:\\Users\\maczek\\PycharmProjects\\message_data\\message_data\\tools\\utilities\\add_globiom.py:481: SettingWithCopyWarning: \n",
      "A value is trying to be set on a copy of a slice from a DataFrame.\n",
      "Try using .loc[row_indexer,col_indexer] = value instead\n",
      "\n",
      "See the caveats in the documentation: https://pandas.pydata.org/pandas-docs/stable/user_guide/indexing.html#returning-a-view-versus-a-copy\n",
      "  tmp[tmp.columns[i]] = data.loc[reg][tmp.columns[i]]\n",
      "C:\\Users\\maczek\\PycharmProjects\\message_data\\message_data\\tools\\utilities\\add_globiom.py:483: SettingWithCopyWarning: \n",
      "A value is trying to be set on a copy of a slice from a DataFrame.\n",
      "Try using .loc[row_indexer,col_indexer] = value instead\n",
      "\n",
      "See the caveats in the documentation: https://pandas.pydata.org/pandas-docs/stable/user_guide/indexing.html#returning-a-view-versus-a-copy\n",
      "  tmp[tmp.columns[i]] = (\n",
      "C:\\Users\\maczek\\PycharmProjects\\message_data\\message_data\\tools\\utilities\\add_globiom.py:481: SettingWithCopyWarning: \n",
      "A value is trying to be set on a copy of a slice from a DataFrame.\n",
      "Try using .loc[row_indexer,col_indexer] = value instead\n",
      "\n",
      "See the caveats in the documentation: https://pandas.pydata.org/pandas-docs/stable/user_guide/indexing.html#returning-a-view-versus-a-copy\n",
      "  tmp[tmp.columns[i]] = data.loc[reg][tmp.columns[i]]\n",
      "C:\\Users\\maczek\\PycharmProjects\\message_data\\message_data\\tools\\utilities\\add_globiom.py:483: SettingWithCopyWarning: \n",
      "A value is trying to be set on a copy of a slice from a DataFrame.\n",
      "Try using .loc[row_indexer,col_indexer] = value instead\n",
      "\n",
      "See the caveats in the documentation: https://pandas.pydata.org/pandas-docs/stable/user_guide/indexing.html#returning-a-view-versus-a-copy\n",
      "  tmp[tmp.columns[i]] = (\n",
      "C:\\Users\\maczek\\PycharmProjects\\message_data\\message_data\\tools\\utilities\\add_globiom.py:481: SettingWithCopyWarning: \n",
      "A value is trying to be set on a copy of a slice from a DataFrame.\n",
      "Try using .loc[row_indexer,col_indexer] = value instead\n",
      "\n",
      "See the caveats in the documentation: https://pandas.pydata.org/pandas-docs/stable/user_guide/indexing.html#returning-a-view-versus-a-copy\n",
      "  tmp[tmp.columns[i]] = data.loc[reg][tmp.columns[i]]\n",
      "C:\\Users\\maczek\\PycharmProjects\\message_data\\message_data\\tools\\utilities\\add_globiom.py:483: SettingWithCopyWarning: \n",
      "A value is trying to be set on a copy of a slice from a DataFrame.\n",
      "Try using .loc[row_indexer,col_indexer] = value instead\n",
      "\n",
      "See the caveats in the documentation: https://pandas.pydata.org/pandas-docs/stable/user_guide/indexing.html#returning-a-view-versus-a-copy\n",
      "  tmp[tmp.columns[i]] = (\n",
      "C:\\Users\\maczek\\PycharmProjects\\message_data\\message_data\\tools\\utilities\\add_globiom.py:481: SettingWithCopyWarning: \n",
      "A value is trying to be set on a copy of a slice from a DataFrame.\n",
      "Try using .loc[row_indexer,col_indexer] = value instead\n",
      "\n",
      "See the caveats in the documentation: https://pandas.pydata.org/pandas-docs/stable/user_guide/indexing.html#returning-a-view-versus-a-copy\n",
      "  tmp[tmp.columns[i]] = data.loc[reg][tmp.columns[i]]\n",
      "C:\\Users\\maczek\\PycharmProjects\\message_data\\message_data\\tools\\utilities\\add_globiom.py:483: SettingWithCopyWarning: \n",
      "A value is trying to be set on a copy of a slice from a DataFrame.\n",
      "Try using .loc[row_indexer,col_indexer] = value instead\n",
      "\n",
      "See the caveats in the documentation: https://pandas.pydata.org/pandas-docs/stable/user_guide/indexing.html#returning-a-view-versus-a-copy\n",
      "  tmp[tmp.columns[i]] = (\n",
      "C:\\Users\\maczek\\PycharmProjects\\message_data\\message_data\\tools\\utilities\\add_globiom.py:481: SettingWithCopyWarning: \n",
      "A value is trying to be set on a copy of a slice from a DataFrame.\n",
      "Try using .loc[row_indexer,col_indexer] = value instead\n",
      "\n",
      "See the caveats in the documentation: https://pandas.pydata.org/pandas-docs/stable/user_guide/indexing.html#returning-a-view-versus-a-copy\n",
      "  tmp[tmp.columns[i]] = data.loc[reg][tmp.columns[i]]\n",
      "C:\\Users\\maczek\\PycharmProjects\\message_data\\message_data\\tools\\utilities\\add_globiom.py:483: SettingWithCopyWarning: \n",
      "A value is trying to be set on a copy of a slice from a DataFrame.\n",
      "Try using .loc[row_indexer,col_indexer] = value instead\n",
      "\n",
      "See the caveats in the documentation: https://pandas.pydata.org/pandas-docs/stable/user_guide/indexing.html#returning-a-view-versus-a-copy\n",
      "  tmp[tmp.columns[i]] = (\n",
      "C:\\Users\\maczek\\PycharmProjects\\message_data\\message_data\\tools\\utilities\\add_globiom.py:481: SettingWithCopyWarning: \n",
      "A value is trying to be set on a copy of a slice from a DataFrame.\n",
      "Try using .loc[row_indexer,col_indexer] = value instead\n",
      "\n",
      "See the caveats in the documentation: https://pandas.pydata.org/pandas-docs/stable/user_guide/indexing.html#returning-a-view-versus-a-copy\n",
      "  tmp[tmp.columns[i]] = data.loc[reg][tmp.columns[i]]\n",
      "C:\\Users\\maczek\\PycharmProjects\\message_data\\message_data\\tools\\utilities\\add_globiom.py:483: SettingWithCopyWarning: \n",
      "A value is trying to be set on a copy of a slice from a DataFrame.\n",
      "Try using .loc[row_indexer,col_indexer] = value instead\n",
      "\n",
      "See the caveats in the documentation: https://pandas.pydata.org/pandas-docs/stable/user_guide/indexing.html#returning-a-view-versus-a-copy\n",
      "  tmp[tmp.columns[i]] = (\n",
      "C:\\Users\\maczek\\PycharmProjects\\message_data\\message_data\\tools\\utilities\\add_globiom.py:481: SettingWithCopyWarning: \n",
      "A value is trying to be set on a copy of a slice from a DataFrame.\n",
      "Try using .loc[row_indexer,col_indexer] = value instead\n",
      "\n",
      "See the caveats in the documentation: https://pandas.pydata.org/pandas-docs/stable/user_guide/indexing.html#returning-a-view-versus-a-copy\n",
      "  tmp[tmp.columns[i]] = data.loc[reg][tmp.columns[i]]\n",
      "C:\\Users\\maczek\\PycharmProjects\\message_data\\message_data\\tools\\utilities\\add_globiom.py:483: SettingWithCopyWarning: \n",
      "A value is trying to be set on a copy of a slice from a DataFrame.\n",
      "Try using .loc[row_indexer,col_indexer] = value instead\n",
      "\n",
      "See the caveats in the documentation: https://pandas.pydata.org/pandas-docs/stable/user_guide/indexing.html#returning-a-view-versus-a-copy\n",
      "  tmp[tmp.columns[i]] = (\n",
      "C:\\Users\\maczek\\PycharmProjects\\message_data\\message_data\\tools\\utilities\\add_globiom.py:481: SettingWithCopyWarning: \n",
      "A value is trying to be set on a copy of a slice from a DataFrame.\n",
      "Try using .loc[row_indexer,col_indexer] = value instead\n",
      "\n",
      "See the caveats in the documentation: https://pandas.pydata.org/pandas-docs/stable/user_guide/indexing.html#returning-a-view-versus-a-copy\n",
      "  tmp[tmp.columns[i]] = data.loc[reg][tmp.columns[i]]\n",
      "C:\\Users\\maczek\\PycharmProjects\\message_data\\message_data\\tools\\utilities\\add_globiom.py:483: SettingWithCopyWarning: \n",
      "A value is trying to be set on a copy of a slice from a DataFrame.\n",
      "Try using .loc[row_indexer,col_indexer] = value instead\n",
      "\n",
      "See the caveats in the documentation: https://pandas.pydata.org/pandas-docs/stable/user_guide/indexing.html#returning-a-view-versus-a-copy\n",
      "  tmp[tmp.columns[i]] = (\n",
      "C:\\Users\\maczek\\PycharmProjects\\message_data\\message_data\\tools\\utilities\\add_globiom.py:481: SettingWithCopyWarning: \n",
      "A value is trying to be set on a copy of a slice from a DataFrame.\n",
      "Try using .loc[row_indexer,col_indexer] = value instead\n",
      "\n",
      "See the caveats in the documentation: https://pandas.pydata.org/pandas-docs/stable/user_guide/indexing.html#returning-a-view-versus-a-copy\n",
      "  tmp[tmp.columns[i]] = data.loc[reg][tmp.columns[i]]\n",
      "C:\\Users\\maczek\\PycharmProjects\\message_data\\message_data\\tools\\utilities\\add_globiom.py:483: SettingWithCopyWarning: \n",
      "A value is trying to be set on a copy of a slice from a DataFrame.\n",
      "Try using .loc[row_indexer,col_indexer] = value instead\n",
      "\n",
      "See the caveats in the documentation: https://pandas.pydata.org/pandas-docs/stable/user_guide/indexing.html#returning-a-view-versus-a-copy\n",
      "  tmp[tmp.columns[i]] = (\n",
      "C:\\Users\\maczek\\PycharmProjects\\message_data\\message_data\\tools\\utilities\\add_globiom.py:481: SettingWithCopyWarning: \n",
      "A value is trying to be set on a copy of a slice from a DataFrame.\n",
      "Try using .loc[row_indexer,col_indexer] = value instead\n",
      "\n",
      "See the caveats in the documentation: https://pandas.pydata.org/pandas-docs/stable/user_guide/indexing.html#returning-a-view-versus-a-copy\n",
      "  tmp[tmp.columns[i]] = data.loc[reg][tmp.columns[i]]\n",
      "C:\\Users\\maczek\\PycharmProjects\\message_data\\message_data\\tools\\utilities\\add_globiom.py:483: SettingWithCopyWarning: \n",
      "A value is trying to be set on a copy of a slice from a DataFrame.\n",
      "Try using .loc[row_indexer,col_indexer] = value instead\n",
      "\n",
      "See the caveats in the documentation: https://pandas.pydata.org/pandas-docs/stable/user_guide/indexing.html#returning-a-view-versus-a-copy\n",
      "  tmp[tmp.columns[i]] = (\n",
      "C:\\Users\\maczek\\PycharmProjects\\message_data\\message_data\\tools\\utilities\\add_globiom.py:481: SettingWithCopyWarning: \n",
      "A value is trying to be set on a copy of a slice from a DataFrame.\n",
      "Try using .loc[row_indexer,col_indexer] = value instead\n",
      "\n",
      "See the caveats in the documentation: https://pandas.pydata.org/pandas-docs/stable/user_guide/indexing.html#returning-a-view-versus-a-copy\n",
      "  tmp[tmp.columns[i]] = data.loc[reg][tmp.columns[i]]\n",
      "C:\\Users\\maczek\\PycharmProjects\\message_data\\message_data\\tools\\utilities\\add_globiom.py:483: SettingWithCopyWarning: \n",
      "A value is trying to be set on a copy of a slice from a DataFrame.\n",
      "Try using .loc[row_indexer,col_indexer] = value instead\n",
      "\n",
      "See the caveats in the documentation: https://pandas.pydata.org/pandas-docs/stable/user_guide/indexing.html#returning-a-view-versus-a-copy\n",
      "  tmp[tmp.columns[i]] = (\n",
      "C:\\Users\\maczek\\PycharmProjects\\message_data\\message_data\\tools\\utilities\\add_globiom.py:481: SettingWithCopyWarning: \n",
      "A value is trying to be set on a copy of a slice from a DataFrame.\n",
      "Try using .loc[row_indexer,col_indexer] = value instead\n",
      "\n",
      "See the caveats in the documentation: https://pandas.pydata.org/pandas-docs/stable/user_guide/indexing.html#returning-a-view-versus-a-copy\n",
      "  tmp[tmp.columns[i]] = data.loc[reg][tmp.columns[i]]\n",
      "C:\\Users\\maczek\\PycharmProjects\\message_data\\message_data\\tools\\utilities\\add_globiom.py:483: SettingWithCopyWarning: \n",
      "A value is trying to be set on a copy of a slice from a DataFrame.\n",
      "Try using .loc[row_indexer,col_indexer] = value instead\n",
      "\n",
      "See the caveats in the documentation: https://pandas.pydata.org/pandas-docs/stable/user_guide/indexing.html#returning-a-view-versus-a-copy\n",
      "  tmp[tmp.columns[i]] = (\n",
      "C:\\Users\\maczek\\PycharmProjects\\message_data\\message_data\\tools\\utilities\\add_globiom.py:481: SettingWithCopyWarning: \n",
      "A value is trying to be set on a copy of a slice from a DataFrame.\n",
      "Try using .loc[row_indexer,col_indexer] = value instead\n",
      "\n",
      "See the caveats in the documentation: https://pandas.pydata.org/pandas-docs/stable/user_guide/indexing.html#returning-a-view-versus-a-copy\n",
      "  tmp[tmp.columns[i]] = data.loc[reg][tmp.columns[i]]\n",
      "C:\\Users\\maczek\\PycharmProjects\\message_data\\message_data\\tools\\utilities\\add_globiom.py:483: SettingWithCopyWarning: \n",
      "A value is trying to be set on a copy of a slice from a DataFrame.\n",
      "Try using .loc[row_indexer,col_indexer] = value instead\n",
      "\n",
      "See the caveats in the documentation: https://pandas.pydata.org/pandas-docs/stable/user_guide/indexing.html#returning-a-view-versus-a-copy\n",
      "  tmp[tmp.columns[i]] = (\n",
      "C:\\Users\\maczek\\PycharmProjects\\message_data\\message_data\\tools\\utilities\\add_globiom.py:481: SettingWithCopyWarning: \n",
      "A value is trying to be set on a copy of a slice from a DataFrame.\n",
      "Try using .loc[row_indexer,col_indexer] = value instead\n",
      "\n",
      "See the caveats in the documentation: https://pandas.pydata.org/pandas-docs/stable/user_guide/indexing.html#returning-a-view-versus-a-copy\n",
      "  tmp[tmp.columns[i]] = data.loc[reg][tmp.columns[i]]\n",
      "C:\\Users\\maczek\\PycharmProjects\\message_data\\message_data\\tools\\utilities\\add_globiom.py:483: SettingWithCopyWarning: \n",
      "A value is trying to be set on a copy of a slice from a DataFrame.\n",
      "Try using .loc[row_indexer,col_indexer] = value instead\n",
      "\n",
      "See the caveats in the documentation: https://pandas.pydata.org/pandas-docs/stable/user_guide/indexing.html#returning-a-view-versus-a-copy\n",
      "  tmp[tmp.columns[i]] = (\n",
      "C:\\Users\\maczek\\PycharmProjects\\message_data\\message_data\\tools\\utilities\\add_globiom.py:481: SettingWithCopyWarning: \n",
      "A value is trying to be set on a copy of a slice from a DataFrame.\n",
      "Try using .loc[row_indexer,col_indexer] = value instead\n",
      "\n",
      "See the caveats in the documentation: https://pandas.pydata.org/pandas-docs/stable/user_guide/indexing.html#returning-a-view-versus-a-copy\n",
      "  tmp[tmp.columns[i]] = data.loc[reg][tmp.columns[i]]\n",
      "C:\\Users\\maczek\\PycharmProjects\\message_data\\message_data\\tools\\utilities\\add_globiom.py:483: SettingWithCopyWarning: \n",
      "A value is trying to be set on a copy of a slice from a DataFrame.\n",
      "Try using .loc[row_indexer,col_indexer] = value instead\n",
      "\n",
      "See the caveats in the documentation: https://pandas.pydata.org/pandas-docs/stable/user_guide/indexing.html#returning-a-view-versus-a-copy\n",
      "  tmp[tmp.columns[i]] = (\n",
      "C:\\Users\\maczek\\PycharmProjects\\message_data\\message_data\\tools\\utilities\\add_globiom.py:481: SettingWithCopyWarning: \n",
      "A value is trying to be set on a copy of a slice from a DataFrame.\n",
      "Try using .loc[row_indexer,col_indexer] = value instead\n",
      "\n",
      "See the caveats in the documentation: https://pandas.pydata.org/pandas-docs/stable/user_guide/indexing.html#returning-a-view-versus-a-copy\n",
      "  tmp[tmp.columns[i]] = data.loc[reg][tmp.columns[i]]\n",
      "C:\\Users\\maczek\\PycharmProjects\\message_data\\message_data\\tools\\utilities\\add_globiom.py:483: SettingWithCopyWarning: \n",
      "A value is trying to be set on a copy of a slice from a DataFrame.\n",
      "Try using .loc[row_indexer,col_indexer] = value instead\n",
      "\n",
      "See the caveats in the documentation: https://pandas.pydata.org/pandas-docs/stable/user_guide/indexing.html#returning-a-view-versus-a-copy\n",
      "  tmp[tmp.columns[i]] = (\n",
      "C:\\Users\\maczek\\PycharmProjects\\message_data\\message_data\\tools\\utilities\\add_globiom.py:481: SettingWithCopyWarning: \n",
      "A value is trying to be set on a copy of a slice from a DataFrame.\n",
      "Try using .loc[row_indexer,col_indexer] = value instead\n",
      "\n",
      "See the caveats in the documentation: https://pandas.pydata.org/pandas-docs/stable/user_guide/indexing.html#returning-a-view-versus-a-copy\n",
      "  tmp[tmp.columns[i]] = data.loc[reg][tmp.columns[i]]\n",
      "C:\\Users\\maczek\\PycharmProjects\\message_data\\message_data\\tools\\utilities\\add_globiom.py:483: SettingWithCopyWarning: \n",
      "A value is trying to be set on a copy of a slice from a DataFrame.\n",
      "Try using .loc[row_indexer,col_indexer] = value instead\n",
      "\n",
      "See the caveats in the documentation: https://pandas.pydata.org/pandas-docs/stable/user_guide/indexing.html#returning-a-view-versus-a-copy\n",
      "  tmp[tmp.columns[i]] = (\n",
      "C:\\Users\\maczek\\PycharmProjects\\message_data\\message_data\\tools\\utilities\\add_globiom.py:481: SettingWithCopyWarning: \n",
      "A value is trying to be set on a copy of a slice from a DataFrame.\n",
      "Try using .loc[row_indexer,col_indexer] = value instead\n",
      "\n",
      "See the caveats in the documentation: https://pandas.pydata.org/pandas-docs/stable/user_guide/indexing.html#returning-a-view-versus-a-copy\n",
      "  tmp[tmp.columns[i]] = data.loc[reg][tmp.columns[i]]\n",
      "C:\\Users\\maczek\\PycharmProjects\\message_data\\message_data\\tools\\utilities\\add_globiom.py:483: SettingWithCopyWarning: \n",
      "A value is trying to be set on a copy of a slice from a DataFrame.\n",
      "Try using .loc[row_indexer,col_indexer] = value instead\n",
      "\n",
      "See the caveats in the documentation: https://pandas.pydata.org/pandas-docs/stable/user_guide/indexing.html#returning-a-view-versus-a-copy\n",
      "  tmp[tmp.columns[i]] = (\n",
      "C:\\Users\\maczek\\PycharmProjects\\message_data\\message_data\\tools\\utilities\\add_globiom.py:481: SettingWithCopyWarning: \n",
      "A value is trying to be set on a copy of a slice from a DataFrame.\n",
      "Try using .loc[row_indexer,col_indexer] = value instead\n",
      "\n",
      "See the caveats in the documentation: https://pandas.pydata.org/pandas-docs/stable/user_guide/indexing.html#returning-a-view-versus-a-copy\n",
      "  tmp[tmp.columns[i]] = data.loc[reg][tmp.columns[i]]\n",
      "C:\\Users\\maczek\\PycharmProjects\\message_data\\message_data\\tools\\utilities\\add_globiom.py:483: SettingWithCopyWarning: \n",
      "A value is trying to be set on a copy of a slice from a DataFrame.\n",
      "Try using .loc[row_indexer,col_indexer] = value instead\n",
      "\n",
      "See the caveats in the documentation: https://pandas.pydata.org/pandas-docs/stable/user_guide/indexing.html#returning-a-view-versus-a-copy\n",
      "  tmp[tmp.columns[i]] = (\n",
      "C:\\Users\\maczek\\PycharmProjects\\message_data\\message_data\\tools\\utilities\\add_globiom.py:481: SettingWithCopyWarning: \n",
      "A value is trying to be set on a copy of a slice from a DataFrame.\n",
      "Try using .loc[row_indexer,col_indexer] = value instead\n",
      "\n",
      "See the caveats in the documentation: https://pandas.pydata.org/pandas-docs/stable/user_guide/indexing.html#returning-a-view-versus-a-copy\n",
      "  tmp[tmp.columns[i]] = data.loc[reg][tmp.columns[i]]\n",
      "C:\\Users\\maczek\\PycharmProjects\\message_data\\message_data\\tools\\utilities\\add_globiom.py:483: SettingWithCopyWarning: \n",
      "A value is trying to be set on a copy of a slice from a DataFrame.\n",
      "Try using .loc[row_indexer,col_indexer] = value instead\n",
      "\n",
      "See the caveats in the documentation: https://pandas.pydata.org/pandas-docs/stable/user_guide/indexing.html#returning-a-view-versus-a-copy\n",
      "  tmp[tmp.columns[i]] = (\n",
      "C:\\Users\\maczek\\PycharmProjects\\message_data\\message_data\\tools\\utilities\\add_globiom.py:481: SettingWithCopyWarning: \n",
      "A value is trying to be set on a copy of a slice from a DataFrame.\n",
      "Try using .loc[row_indexer,col_indexer] = value instead\n",
      "\n",
      "See the caveats in the documentation: https://pandas.pydata.org/pandas-docs/stable/user_guide/indexing.html#returning-a-view-versus-a-copy\n",
      "  tmp[tmp.columns[i]] = data.loc[reg][tmp.columns[i]]\n",
      "C:\\Users\\maczek\\PycharmProjects\\message_data\\message_data\\tools\\utilities\\add_globiom.py:483: SettingWithCopyWarning: \n",
      "A value is trying to be set on a copy of a slice from a DataFrame.\n",
      "Try using .loc[row_indexer,col_indexer] = value instead\n",
      "\n",
      "See the caveats in the documentation: https://pandas.pydata.org/pandas-docs/stable/user_guide/indexing.html#returning-a-view-versus-a-copy\n",
      "  tmp[tmp.columns[i]] = (\n",
      "C:\\Users\\maczek\\PycharmProjects\\message_data\\message_data\\tools\\utilities\\add_globiom.py:481: SettingWithCopyWarning: \n",
      "A value is trying to be set on a copy of a slice from a DataFrame.\n",
      "Try using .loc[row_indexer,col_indexer] = value instead\n",
      "\n",
      "See the caveats in the documentation: https://pandas.pydata.org/pandas-docs/stable/user_guide/indexing.html#returning-a-view-versus-a-copy\n",
      "  tmp[tmp.columns[i]] = data.loc[reg][tmp.columns[i]]\n",
      "C:\\Users\\maczek\\PycharmProjects\\message_data\\message_data\\tools\\utilities\\add_globiom.py:483: SettingWithCopyWarning: \n",
      "A value is trying to be set on a copy of a slice from a DataFrame.\n",
      "Try using .loc[row_indexer,col_indexer] = value instead\n",
      "\n",
      "See the caveats in the documentation: https://pandas.pydata.org/pandas-docs/stable/user_guide/indexing.html#returning-a-view-versus-a-copy\n",
      "  tmp[tmp.columns[i]] = (\n",
      "C:\\Users\\maczek\\PycharmProjects\\message_data\\message_data\\tools\\utilities\\add_globiom.py:481: SettingWithCopyWarning: \n",
      "A value is trying to be set on a copy of a slice from a DataFrame.\n",
      "Try using .loc[row_indexer,col_indexer] = value instead\n",
      "\n",
      "See the caveats in the documentation: https://pandas.pydata.org/pandas-docs/stable/user_guide/indexing.html#returning-a-view-versus-a-copy\n",
      "  tmp[tmp.columns[i]] = data.loc[reg][tmp.columns[i]]\n",
      "C:\\Users\\maczek\\PycharmProjects\\message_data\\message_data\\tools\\utilities\\add_globiom.py:483: SettingWithCopyWarning: \n",
      "A value is trying to be set on a copy of a slice from a DataFrame.\n",
      "Try using .loc[row_indexer,col_indexer] = value instead\n",
      "\n",
      "See the caveats in the documentation: https://pandas.pydata.org/pandas-docs/stable/user_guide/indexing.html#returning-a-view-versus-a-copy\n",
      "  tmp[tmp.columns[i]] = (\n",
      "C:\\Users\\maczek\\PycharmProjects\\message_data\\message_data\\tools\\utilities\\add_globiom.py:481: SettingWithCopyWarning: \n",
      "A value is trying to be set on a copy of a slice from a DataFrame.\n",
      "Try using .loc[row_indexer,col_indexer] = value instead\n",
      "\n",
      "See the caveats in the documentation: https://pandas.pydata.org/pandas-docs/stable/user_guide/indexing.html#returning-a-view-versus-a-copy\n",
      "  tmp[tmp.columns[i]] = data.loc[reg][tmp.columns[i]]\n",
      "C:\\Users\\maczek\\PycharmProjects\\message_data\\message_data\\tools\\utilities\\add_globiom.py:483: SettingWithCopyWarning: \n",
      "A value is trying to be set on a copy of a slice from a DataFrame.\n",
      "Try using .loc[row_indexer,col_indexer] = value instead\n",
      "\n",
      "See the caveats in the documentation: https://pandas.pydata.org/pandas-docs/stable/user_guide/indexing.html#returning-a-view-versus-a-copy\n",
      "  tmp[tmp.columns[i]] = (\n",
      "C:\\Users\\maczek\\PycharmProjects\\message_data\\message_data\\tools\\utilities\\add_globiom.py:481: SettingWithCopyWarning: \n",
      "A value is trying to be set on a copy of a slice from a DataFrame.\n",
      "Try using .loc[row_indexer,col_indexer] = value instead\n",
      "\n",
      "See the caveats in the documentation: https://pandas.pydata.org/pandas-docs/stable/user_guide/indexing.html#returning-a-view-versus-a-copy\n",
      "  tmp[tmp.columns[i]] = data.loc[reg][tmp.columns[i]]\n",
      "C:\\Users\\maczek\\PycharmProjects\\message_data\\message_data\\tools\\utilities\\add_globiom.py:483: SettingWithCopyWarning: \n",
      "A value is trying to be set on a copy of a slice from a DataFrame.\n",
      "Try using .loc[row_indexer,col_indexer] = value instead\n",
      "\n",
      "See the caveats in the documentation: https://pandas.pydata.org/pandas-docs/stable/user_guide/indexing.html#returning-a-view-versus-a-copy\n",
      "  tmp[tmp.columns[i]] = (\n",
      "C:\\Users\\maczek\\PycharmProjects\\message_data\\message_data\\tools\\utilities\\add_globiom.py:481: SettingWithCopyWarning: \n",
      "A value is trying to be set on a copy of a slice from a DataFrame.\n",
      "Try using .loc[row_indexer,col_indexer] = value instead\n",
      "\n",
      "See the caveats in the documentation: https://pandas.pydata.org/pandas-docs/stable/user_guide/indexing.html#returning-a-view-versus-a-copy\n",
      "  tmp[tmp.columns[i]] = data.loc[reg][tmp.columns[i]]\n",
      "C:\\Users\\maczek\\PycharmProjects\\message_data\\message_data\\tools\\utilities\\add_globiom.py:483: SettingWithCopyWarning: \n",
      "A value is trying to be set on a copy of a slice from a DataFrame.\n",
      "Try using .loc[row_indexer,col_indexer] = value instead\n",
      "\n",
      "See the caveats in the documentation: https://pandas.pydata.org/pandas-docs/stable/user_guide/indexing.html#returning-a-view-versus-a-copy\n",
      "  tmp[tmp.columns[i]] = (\n",
      "C:\\Users\\maczek\\PycharmProjects\\message_data\\message_data\\tools\\utilities\\add_globiom.py:481: SettingWithCopyWarning: \n",
      "A value is trying to be set on a copy of a slice from a DataFrame.\n",
      "Try using .loc[row_indexer,col_indexer] = value instead\n",
      "\n",
      "See the caveats in the documentation: https://pandas.pydata.org/pandas-docs/stable/user_guide/indexing.html#returning-a-view-versus-a-copy\n",
      "  tmp[tmp.columns[i]] = data.loc[reg][tmp.columns[i]]\n",
      "C:\\Users\\maczek\\PycharmProjects\\message_data\\message_data\\tools\\utilities\\add_globiom.py:483: SettingWithCopyWarning: \n",
      "A value is trying to be set on a copy of a slice from a DataFrame.\n",
      "Try using .loc[row_indexer,col_indexer] = value instead\n",
      "\n",
      "See the caveats in the documentation: https://pandas.pydata.org/pandas-docs/stable/user_guide/indexing.html#returning-a-view-versus-a-copy\n",
      "  tmp[tmp.columns[i]] = (\n",
      "C:\\Users\\maczek\\PycharmProjects\\message_data\\message_data\\tools\\utilities\\add_globiom.py:481: SettingWithCopyWarning: \n",
      "A value is trying to be set on a copy of a slice from a DataFrame.\n",
      "Try using .loc[row_indexer,col_indexer] = value instead\n",
      "\n",
      "See the caveats in the documentation: https://pandas.pydata.org/pandas-docs/stable/user_guide/indexing.html#returning-a-view-versus-a-copy\n",
      "  tmp[tmp.columns[i]] = data.loc[reg][tmp.columns[i]]\n",
      "C:\\Users\\maczek\\PycharmProjects\\message_data\\message_data\\tools\\utilities\\add_globiom.py:483: SettingWithCopyWarning: \n",
      "A value is trying to be set on a copy of a slice from a DataFrame.\n",
      "Try using .loc[row_indexer,col_indexer] = value instead\n",
      "\n",
      "See the caveats in the documentation: https://pandas.pydata.org/pandas-docs/stable/user_guide/indexing.html#returning-a-view-versus-a-copy\n",
      "  tmp[tmp.columns[i]] = (\n",
      "C:\\Users\\maczek\\PycharmProjects\\message_data\\message_data\\tools\\utilities\\add_globiom.py:481: SettingWithCopyWarning: \n",
      "A value is trying to be set on a copy of a slice from a DataFrame.\n",
      "Try using .loc[row_indexer,col_indexer] = value instead\n",
      "\n",
      "See the caveats in the documentation: https://pandas.pydata.org/pandas-docs/stable/user_guide/indexing.html#returning-a-view-versus-a-copy\n",
      "  tmp[tmp.columns[i]] = data.loc[reg][tmp.columns[i]]\n",
      "C:\\Users\\maczek\\PycharmProjects\\message_data\\message_data\\tools\\utilities\\add_globiom.py:483: SettingWithCopyWarning: \n",
      "A value is trying to be set on a copy of a slice from a DataFrame.\n",
      "Try using .loc[row_indexer,col_indexer] = value instead\n",
      "\n",
      "See the caveats in the documentation: https://pandas.pydata.org/pandas-docs/stable/user_guide/indexing.html#returning-a-view-versus-a-copy\n",
      "  tmp[tmp.columns[i]] = (\n",
      "C:\\Users\\maczek\\PycharmProjects\\message_data\\message_data\\tools\\utilities\\add_globiom.py:481: SettingWithCopyWarning: \n",
      "A value is trying to be set on a copy of a slice from a DataFrame.\n",
      "Try using .loc[row_indexer,col_indexer] = value instead\n",
      "\n",
      "See the caveats in the documentation: https://pandas.pydata.org/pandas-docs/stable/user_guide/indexing.html#returning-a-view-versus-a-copy\n",
      "  tmp[tmp.columns[i]] = data.loc[reg][tmp.columns[i]]\n",
      "C:\\Users\\maczek\\PycharmProjects\\message_data\\message_data\\tools\\utilities\\add_globiom.py:483: SettingWithCopyWarning: \n",
      "A value is trying to be set on a copy of a slice from a DataFrame.\n",
      "Try using .loc[row_indexer,col_indexer] = value instead\n",
      "\n",
      "See the caveats in the documentation: https://pandas.pydata.org/pandas-docs/stable/user_guide/indexing.html#returning-a-view-versus-a-copy\n",
      "  tmp[tmp.columns[i]] = (\n",
      "C:\\Users\\maczek\\PycharmProjects\\message_data\\message_data\\tools\\utilities\\add_globiom.py:481: SettingWithCopyWarning: \n",
      "A value is trying to be set on a copy of a slice from a DataFrame.\n",
      "Try using .loc[row_indexer,col_indexer] = value instead\n",
      "\n",
      "See the caveats in the documentation: https://pandas.pydata.org/pandas-docs/stable/user_guide/indexing.html#returning-a-view-versus-a-copy\n",
      "  tmp[tmp.columns[i]] = data.loc[reg][tmp.columns[i]]\n",
      "C:\\Users\\maczek\\PycharmProjects\\message_data\\message_data\\tools\\utilities\\add_globiom.py:483: SettingWithCopyWarning: \n",
      "A value is trying to be set on a copy of a slice from a DataFrame.\n",
      "Try using .loc[row_indexer,col_indexer] = value instead\n",
      "\n",
      "See the caveats in the documentation: https://pandas.pydata.org/pandas-docs/stable/user_guide/indexing.html#returning-a-view-versus-a-copy\n",
      "  tmp[tmp.columns[i]] = (\n",
      "C:\\Users\\maczek\\PycharmProjects\\message_data\\message_data\\tools\\utilities\\add_globiom.py:481: SettingWithCopyWarning: \n",
      "A value is trying to be set on a copy of a slice from a DataFrame.\n",
      "Try using .loc[row_indexer,col_indexer] = value instead\n",
      "\n",
      "See the caveats in the documentation: https://pandas.pydata.org/pandas-docs/stable/user_guide/indexing.html#returning-a-view-versus-a-copy\n",
      "  tmp[tmp.columns[i]] = data.loc[reg][tmp.columns[i]]\n",
      "C:\\Users\\maczek\\PycharmProjects\\message_data\\message_data\\tools\\utilities\\add_globiom.py:483: SettingWithCopyWarning: \n",
      "A value is trying to be set on a copy of a slice from a DataFrame.\n",
      "Try using .loc[row_indexer,col_indexer] = value instead\n",
      "\n",
      "See the caveats in the documentation: https://pandas.pydata.org/pandas-docs/stable/user_guide/indexing.html#returning-a-view-versus-a-copy\n",
      "  tmp[tmp.columns[i]] = (\n",
      "C:\\Users\\maczek\\PycharmProjects\\message_data\\message_data\\tools\\utilities\\add_globiom.py:481: SettingWithCopyWarning: \n",
      "A value is trying to be set on a copy of a slice from a DataFrame.\n",
      "Try using .loc[row_indexer,col_indexer] = value instead\n",
      "\n",
      "See the caveats in the documentation: https://pandas.pydata.org/pandas-docs/stable/user_guide/indexing.html#returning-a-view-versus-a-copy\n",
      "  tmp[tmp.columns[i]] = data.loc[reg][tmp.columns[i]]\n",
      "C:\\Users\\maczek\\PycharmProjects\\message_data\\message_data\\tools\\utilities\\add_globiom.py:483: SettingWithCopyWarning: \n",
      "A value is trying to be set on a copy of a slice from a DataFrame.\n",
      "Try using .loc[row_indexer,col_indexer] = value instead\n",
      "\n",
      "See the caveats in the documentation: https://pandas.pydata.org/pandas-docs/stable/user_guide/indexing.html#returning-a-view-versus-a-copy\n",
      "  tmp[tmp.columns[i]] = (\n",
      "C:\\Users\\maczek\\PycharmProjects\\message_data\\message_data\\tools\\utilities\\add_globiom.py:481: SettingWithCopyWarning: \n",
      "A value is trying to be set on a copy of a slice from a DataFrame.\n",
      "Try using .loc[row_indexer,col_indexer] = value instead\n",
      "\n",
      "See the caveats in the documentation: https://pandas.pydata.org/pandas-docs/stable/user_guide/indexing.html#returning-a-view-versus-a-copy\n",
      "  tmp[tmp.columns[i]] = data.loc[reg][tmp.columns[i]]\n",
      "C:\\Users\\maczek\\PycharmProjects\\message_data\\message_data\\tools\\utilities\\add_globiom.py:483: SettingWithCopyWarning: \n",
      "A value is trying to be set on a copy of a slice from a DataFrame.\n",
      "Try using .loc[row_indexer,col_indexer] = value instead\n",
      "\n",
      "See the caveats in the documentation: https://pandas.pydata.org/pandas-docs/stable/user_guide/indexing.html#returning-a-view-versus-a-copy\n",
      "  tmp[tmp.columns[i]] = (\n",
      "C:\\Users\\maczek\\PycharmProjects\\message_data\\message_data\\tools\\utilities\\add_globiom.py:481: SettingWithCopyWarning: \n",
      "A value is trying to be set on a copy of a slice from a DataFrame.\n",
      "Try using .loc[row_indexer,col_indexer] = value instead\n",
      "\n",
      "See the caveats in the documentation: https://pandas.pydata.org/pandas-docs/stable/user_guide/indexing.html#returning-a-view-versus-a-copy\n",
      "  tmp[tmp.columns[i]] = data.loc[reg][tmp.columns[i]]\n",
      "C:\\Users\\maczek\\PycharmProjects\\message_data\\message_data\\tools\\utilities\\add_globiom.py:483: SettingWithCopyWarning: \n",
      "A value is trying to be set on a copy of a slice from a DataFrame.\n",
      "Try using .loc[row_indexer,col_indexer] = value instead\n",
      "\n",
      "See the caveats in the documentation: https://pandas.pydata.org/pandas-docs/stable/user_guide/indexing.html#returning-a-view-versus-a-copy\n",
      "  tmp[tmp.columns[i]] = (\n",
      "C:\\Users\\maczek\\PycharmProjects\\message_data\\message_data\\tools\\utilities\\add_globiom.py:481: SettingWithCopyWarning: \n",
      "A value is trying to be set on a copy of a slice from a DataFrame.\n",
      "Try using .loc[row_indexer,col_indexer] = value instead\n",
      "\n",
      "See the caveats in the documentation: https://pandas.pydata.org/pandas-docs/stable/user_guide/indexing.html#returning-a-view-versus-a-copy\n",
      "  tmp[tmp.columns[i]] = data.loc[reg][tmp.columns[i]]\n",
      "C:\\Users\\maczek\\PycharmProjects\\message_data\\message_data\\tools\\utilities\\add_globiom.py:483: SettingWithCopyWarning: \n",
      "A value is trying to be set on a copy of a slice from a DataFrame.\n",
      "Try using .loc[row_indexer,col_indexer] = value instead\n",
      "\n",
      "See the caveats in the documentation: https://pandas.pydata.org/pandas-docs/stable/user_guide/indexing.html#returning-a-view-versus-a-copy\n",
      "  tmp[tmp.columns[i]] = (\n",
      "C:\\Users\\maczek\\PycharmProjects\\message_data\\message_data\\tools\\utilities\\add_globiom.py:481: SettingWithCopyWarning: \n",
      "A value is trying to be set on a copy of a slice from a DataFrame.\n",
      "Try using .loc[row_indexer,col_indexer] = value instead\n",
      "\n",
      "See the caveats in the documentation: https://pandas.pydata.org/pandas-docs/stable/user_guide/indexing.html#returning-a-view-versus-a-copy\n",
      "  tmp[tmp.columns[i]] = data.loc[reg][tmp.columns[i]]\n",
      "C:\\Users\\maczek\\PycharmProjects\\message_data\\message_data\\tools\\utilities\\add_globiom.py:483: SettingWithCopyWarning: \n",
      "A value is trying to be set on a copy of a slice from a DataFrame.\n",
      "Try using .loc[row_indexer,col_indexer] = value instead\n",
      "\n",
      "See the caveats in the documentation: https://pandas.pydata.org/pandas-docs/stable/user_guide/indexing.html#returning-a-view-versus-a-copy\n",
      "  tmp[tmp.columns[i]] = (\n",
      "C:\\Users\\maczek\\PycharmProjects\\message_data\\message_data\\tools\\utilities\\add_globiom.py:481: SettingWithCopyWarning: \n",
      "A value is trying to be set on a copy of a slice from a DataFrame.\n",
      "Try using .loc[row_indexer,col_indexer] = value instead\n",
      "\n",
      "See the caveats in the documentation: https://pandas.pydata.org/pandas-docs/stable/user_guide/indexing.html#returning-a-view-versus-a-copy\n",
      "  tmp[tmp.columns[i]] = data.loc[reg][tmp.columns[i]]\n",
      "C:\\Users\\maczek\\PycharmProjects\\message_data\\message_data\\tools\\utilities\\add_globiom.py:483: SettingWithCopyWarning: \n",
      "A value is trying to be set on a copy of a slice from a DataFrame.\n",
      "Try using .loc[row_indexer,col_indexer] = value instead\n",
      "\n",
      "See the caveats in the documentation: https://pandas.pydata.org/pandas-docs/stable/user_guide/indexing.html#returning-a-view-versus-a-copy\n",
      "  tmp[tmp.columns[i]] = (\n",
      "C:\\Users\\maczek\\PycharmProjects\\message_data\\message_data\\tools\\utilities\\add_globiom.py:481: SettingWithCopyWarning: \n",
      "A value is trying to be set on a copy of a slice from a DataFrame.\n",
      "Try using .loc[row_indexer,col_indexer] = value instead\n",
      "\n",
      "See the caveats in the documentation: https://pandas.pydata.org/pandas-docs/stable/user_guide/indexing.html#returning-a-view-versus-a-copy\n",
      "  tmp[tmp.columns[i]] = data.loc[reg][tmp.columns[i]]\n",
      "C:\\Users\\maczek\\PycharmProjects\\message_data\\message_data\\tools\\utilities\\add_globiom.py:483: SettingWithCopyWarning: \n",
      "A value is trying to be set on a copy of a slice from a DataFrame.\n",
      "Try using .loc[row_indexer,col_indexer] = value instead\n",
      "\n",
      "See the caveats in the documentation: https://pandas.pydata.org/pandas-docs/stable/user_guide/indexing.html#returning-a-view-versus-a-copy\n",
      "  tmp[tmp.columns[i]] = (\n"
     ]
    },
    {
     "name": "stdout",
     "output_type": "stream",
     "text": [
      "Agricultural Demand\n",
      "Agricultural Demand|Energy\n",
      "Agricultural Demand|Energy|Crops\n",
      "Agricultural Demand|Energy|Crops|1st generation\n",
      "Agricultural Demand|Energy|Crops|2nd generation\n",
      "Agricultural Demand|Non-Energy\n",
      "Agricultural Demand|Non-Energy|Crops\n",
      "Agricultural Demand|Non-Energy|Crops|Feed\n",
      "Agricultural Demand|Non-Energy|Crops|Food\n",
      "Agricultural Demand|Non-Energy|Crops|Other\n",
      "Agricultural Demand|Non-Energy|Crops|Other|Waste\n",
      "Agricultural Demand|Non-Energy|Livestock\n",
      "Agricultural Demand|Non-Energy|Livestock|Food\n",
      "Agricultural Demand|Non-Energy|Livestock|Other\n",
      "Agricultural Demand|Non-Energy|Livestock|Other|Waste\n",
      "Agricultural Production\n",
      "Agricultural Production|Energy\n",
      "Agricultural Production|Energy|Crops\n",
      "Agricultural Production|Energy|Crops|1st generation\n",
      "Agricultural Production|Energy|Crops|2nd generation\n",
      "Agricultural Production|Non-Energy\n",
      "Agricultural Production|Non-Energy|Crops\n",
      "Agricultural Production|Non-Energy|Crops|Cereals\n",
      "Agricultural Production|Non-Energy|Livestock\n",
      "BCA_LandUseChangeEM\n",
      "BCA_SavanBurnEM\n",
      "Biodiversity|BII\n",
      "Biodiversity|BII|Biodiversity hotspots\n",
      "CH4_LandUseChangeEM\n",
      "CH4_SavanBurnEM\n",
      "CO_LandUseChangeEM\n",
      "CO_SavanBurnEM\n",
      "Costs|TC\n",
      "CrpLnd\n",
      "Emissions|CH4|AFOLU\n",
      "Emissions|CH4|AFOLU|Agriculture\n",
      "Emissions|CH4|AFOLU|Agriculture|Livestock\n",
      "Emissions|CH4|AFOLU|Agriculture|Livestock|Enteric Fermentation\n",
      "Emissions|CH4|AFOLU|Agriculture|Livestock|Manure Management\n",
      "Emissions|CH4|AFOLU|Agriculture|Rice\n",
      "Emissions|CH4|AFOLU|Biomass Burning\n",
      "Emissions|CH4|AFOLU|Land\n",
      "Emissions|CH4|AFOLU|Land|Grassland Burning\n",
      "Emissions|CO2|AFOLU\n",
      "Emissions|CO2|AFOLU|Afforestation\n",
      "Emissions|CO2|AFOLU|Agriculture\n",
      "Emissions|CO2|AFOLU|Deforestation\n",
      "Emissions|CO2|AFOLU|Forest Management\n",
      "Emissions|CO2|AFOLU|Negative\n",
      "Emissions|CO2|AFOLU|Other LUC\n",
      "Emissions|CO2|AFOLU|Positive\n",
      "Emissions|CO2|AFOLU|Soil Carbon\n",
      "Emissions|GHG|AFOLU\n",
      "Emissions|N2O|AFOLU\n",
      "Emissions|N2O|AFOLU|Agriculture\n",
      "Emissions|N2O|AFOLU|Agriculture|Livestock\n",
      "Emissions|N2O|AFOLU|Agriculture|Livestock|Manure Management\n",
      "Emissions|N2O|AFOLU|Agriculture|Managed Soils\n",
      "Emissions|N2O|AFOLU|Biomass Burning\n",
      "Emissions|N2O|AFOLU|Land\n",
      "Emissions|N2O|AFOLU|Land|Grassland Burning\n",
      "Emissions|N2O|AFOLU|Land|Grassland Pastures\n",
      "Fertilizer Use|Nitrogen\n",
      "Fertilizer Use|Phosphorus\n",
      "Fertilizer|Nitrogen|Intensity\n",
      "Fertilizer|Phosphorus|Intensity\n",
      "Food Demand\n",
      "Food Demand|Crops\n",
      "Food Demand|Livestock\n",
      "Food Demand|Microbial protein\n",
      "Forestry Demand|Roundwood\n",
      "Forestry Demand|Roundwood|Industrial Roundwood\n",
      "Forestry Demand|Roundwood|Wood Fuel\n",
      "Forestry Production|Forest Residues\n",
      "Forestry Production|Roundwood\n",
      "Forestry Production|Roundwood|Industrial Roundwood\n",
      "Forestry Production|Roundwood|Wood Fuel\n",
      "GrassLnd\n",
      "LU_CH4\n",
      "LU_CH4_Agri\n",
      "LU_CH4_BioBurn\n",
      "LU_CO2\n",
      "LU_GHG\n",
      "LU_N2O\n",
      "Land Cover\n",
      "Land Cover|Cropland\n",
      "Land Cover|Cropland|Cereals\n",
      "Land Cover|Cropland|Energy Crops\n",
      "Land Cover|Cropland|Irrigated\n",
      "Land Cover|Cropland|Non-Energy Crops\n",
      "Land Cover|Cropland|Oilcrops\n",
      "Land Cover|Cropland|Sugarcrops\n",
      "Land Cover|Forest\n",
      "Land Cover|Forest|Afforestation and Reforestation\n",
      "Land Cover|Forest|Forest old\n",
      "Land Cover|Forest|Forest old|Other forest\n",
      "Land Cover|Forest|Forest old|Primary forest\n",
      "Land Cover|Forest|Forestry\n",
      "Land Cover|Forest|Managed\n",
      "Land Cover|Forest|Natural Forest\n",
      "Land Cover|Other Land\n",
      "Land Cover|Pasture\n",
      "Land Cover|Protected\n",
      "Landuse intensity indicator Tau\n",
      "NH3_LandUseChangeEM\n",
      "NH3_ManureEM\n",
      "NH3_RiceEM\n",
      "NH3_SavanBurnEM\n",
      "NH3_SoilEM\n",
      "NOx_LandUseChangeEM\n",
      "NOx_SavanBurnEM\n",
      "NOx_SoilEM\n",
      "NewForLnd\n",
      "OCA_LandUseChangeEM\n",
      "OCA_SavanBurnEM\n",
      "OldForLnd_Prim\n",
      "OldForLnd_SndPlant\n",
      "OtherLnd\n",
      "Population\n",
      "Population|Risk of Hunger\n",
      "Price|Agriculture|Non-Energy Crops and Livestock|Index\n",
      "Price|Agriculture|Non-Energy Crops|Index\n",
      "Price|Carbon|CH4\n",
      "Price|Carbon|CO2\n",
      "Price|Carbon|N2O\n",
      "Price|Water\n",
      "Primary Energy|Biomass\n",
      "Primary Energy|Biomass|1st Generation\n",
      "Primary Energy|Biomass|1st Generation|Biodiesel\n",
      "Primary Energy|Biomass|1st Generation|Bioethanol\n",
      "Primary Energy|Biomass|Energy Crops\n",
      "Primary Energy|Biomass|Fuelwood\n",
      "Primary Energy|Biomass|Other\n",
      "Primary Energy|Biomass|Residues\n",
      "Primary Energy|Biomass|Residues|Forest industry\n",
      "Primary Energy|Biomass|Residues|Logging\n",
      "Primary Energy|Biomass|Roundwood harvest\n",
      "SO2_LandUseChangeEM\n",
      "SO2_SavanBurnEM\n",
      "TCE\n",
      "TotalLnd\n",
      "VOC_LandUseChangeEM\n",
      "VOC_SavanBurnEM\n",
      "Water|Withdrawal|Irrigation\n",
      "Water|Withdrawal|Irrigation|Cereals\n",
      "Water|Withdrawal|Irrigation|Oilcrops\n",
      "Water|Withdrawal|Irrigation|Sugarcrops\n",
      "Yield|Cereals\n",
      "Yield|Energy Crops\n",
      "Yield|Non-Energy Crops\n",
      "Yield|Oilcrops\n",
      "Yield|Sugarcrops\n",
      "bioenergy\n",
      "total_cost\n",
      "Price|Primary Energy|Biomass\n"
     ]
    },
    {
     "data": {
      "text/plain": "<message_data.tools.utilities.add_globiom.add_globiom at 0x1d1b5928070>"
     },
     "execution_count": 6,
     "metadata": {},
     "output_type": "execute_result"
    }
   ],
   "source": [
    "message_data.tools.utilities.add_globiom(\n",
    "    mp,\n",
    "    sc_clone2,\n",
    "    \"SSP2\",\n",
    "    private_data_path(),\n",
    "    2015,\n",
    "    globiom_scenario=\"noSDG_rcpref\",\n",
    "    regenerate_input_data=True,\n",
    "    #regenerate_input_data_only=True,\n",
    "    #allow_empty_drivers=True,\n",
    "    add_reporting_data=True,\n",
    "    config_file=\"magpie_config.yaml\",\n",
    "    config_setup=\"MAGPIE_MP00BI00_OldForSplit\")"
   ],
   "metadata": {
    "collapsed": false,
    "ExecuteTime": {
     "end_time": "2023-09-19T13:02:56.778310400Z",
     "start_time": "2023-09-19T12:51:40.341511700Z"
    }
   }
  },
  {
   "cell_type": "code",
   "execution_count": 7,
   "outputs": [
    {
     "name": "stdout",
     "output_type": "stream",
     "text": [
      "MESSAGEix-GLOBIOM 1.1-R12-MAGPIE-MP00BD1BI00 new-mapping_with-smoothing\n"
     ]
    }
   ],
   "source": [
    "sc_clone2.set_as_default()\n",
    "print(sc_clone2.model, sc_clone2.scenario)"
   ],
   "metadata": {
    "collapsed": false,
    "ExecuteTime": {
     "end_time": "2023-09-19T13:02:56.809581600Z",
     "start_time": "2023-09-19T13:02:56.778310400Z"
    }
   }
  },
  {
   "cell_type": "code",
   "execution_count": null,
   "outputs": [],
   "source": [
    "scen.remove_solution()"
   ],
   "metadata": {
    "collapsed": false
   }
  },
  {
   "cell_type": "code",
   "execution_count": null,
   "outputs": [],
   "source": [
    "extra = scen.set(\"cat_year\", {\"type_year\": \"cumulative\", \"year\": [2015, 2010]})\n",
    "scen.check_out()\n",
    "scen.remove_set(\"cat_year\", extra)\n",
    "scen.commit(\"remove cumulative years from cat_year set\")\n",
    "scen.set(\"cat_year\", {\"type_year\": \"cumulative\"})"
   ],
   "metadata": {
    "collapsed": false
   }
  },
  {
   "cell_type": "code",
   "execution_count": 8,
   "outputs": [
    {
     "name": "stderr",
     "output_type": "stream",
     "text": [
      "\n",
      "KeyboardInterrupt\n",
      "\n",
      "KeyboardInterrupt\n",
      "\n"
     ]
    }
   ],
   "source": [
    "scen.solve(\"MESSAGE-MACRO\")"
   ],
   "metadata": {
    "collapsed": false,
    "ExecuteTime": {
     "end_time": "2023-09-11T14:50:37.754227400Z",
     "start_time": "2023-09-11T14:50:27.403030200Z"
    }
   }
  },
  {
   "cell_type": "code",
   "execution_count": 4,
   "outputs": [],
   "source": [
    "df = mp.scenario_list()"
   ],
   "metadata": {
    "collapsed": false,
    "ExecuteTime": {
     "end_time": "2023-09-12T11:43:23.281436900Z",
     "start_time": "2023-09-12T11:43:21.916538800Z"
    }
   }
  },
  {
   "cell_type": "code",
   "execution_count": 5,
   "outputs": [
    {
     "data": {
      "text/plain": "                                                  model  scenario   scheme  \\\n7072  MESSAGEix-GLOBIOM 1.1-R12-MAGPIE-MP00BD1BI00_c...  baseline  MESSAGE   \n7073  MESSAGEix-GLOBIOM 1.1-R12-MAGPIE-MP00BD1BI00_c...  baseline  MESSAGE   \n\n      is_default  is_locked cre_user                    cre_date upd_user  \\\n7072           1          0   maczek  2023-09-11 16:34:23.000000     None   \n7073           1          0   maczek  2023-09-11 13:19:28.000000     None   \n\n     upd_date lock_user lock_date  \\\n7072     None      None      None   \n7073     None      None      None   \n\n                                             annotation  version  \n7072  clone Scenario from 'MESSAGEix-GLOBIOM 1.1-R12...        2  \n7073  clone Scenario from 'MESSAGEix-GLOBIOM 1.1-R12...        1  ",
      "text/html": "<div>\n<style scoped>\n    .dataframe tbody tr th:only-of-type {\n        vertical-align: middle;\n    }\n\n    .dataframe tbody tr th {\n        vertical-align: top;\n    }\n\n    .dataframe thead th {\n        text-align: right;\n    }\n</style>\n<table border=\"1\" class=\"dataframe\">\n  <thead>\n    <tr style=\"text-align: right;\">\n      <th></th>\n      <th>model</th>\n      <th>scenario</th>\n      <th>scheme</th>\n      <th>is_default</th>\n      <th>is_locked</th>\n      <th>cre_user</th>\n      <th>cre_date</th>\n      <th>upd_user</th>\n      <th>upd_date</th>\n      <th>lock_user</th>\n      <th>lock_date</th>\n      <th>annotation</th>\n      <th>version</th>\n    </tr>\n  </thead>\n  <tbody>\n    <tr>\n      <th>7072</th>\n      <td>MESSAGEix-GLOBIOM 1.1-R12-MAGPIE-MP00BD1BI00_c...</td>\n      <td>baseline</td>\n      <td>MESSAGE</td>\n      <td>1</td>\n      <td>0</td>\n      <td>maczek</td>\n      <td>2023-09-11 16:34:23.000000</td>\n      <td>None</td>\n      <td>None</td>\n      <td>None</td>\n      <td>None</td>\n      <td>clone Scenario from 'MESSAGEix-GLOBIOM 1.1-R12...</td>\n      <td>2</td>\n    </tr>\n    <tr>\n      <th>7073</th>\n      <td>MESSAGEix-GLOBIOM 1.1-R12-MAGPIE-MP00BD1BI00_c...</td>\n      <td>baseline</td>\n      <td>MESSAGE</td>\n      <td>1</td>\n      <td>0</td>\n      <td>maczek</td>\n      <td>2023-09-11 13:19:28.000000</td>\n      <td>None</td>\n      <td>None</td>\n      <td>None</td>\n      <td>None</td>\n      <td>clone Scenario from 'MESSAGEix-GLOBIOM 1.1-R12...</td>\n      <td>1</td>\n    </tr>\n  </tbody>\n</table>\n</div>"
     },
     "execution_count": 5,
     "metadata": {},
     "output_type": "execute_result"
    }
   ],
   "source": [
    "df[df[\"model\"].str.contains(\"corr\")]"
   ],
   "metadata": {
    "collapsed": false,
    "ExecuteTime": {
     "end_time": "2023-09-12T11:44:04.887557400Z",
     "start_time": "2023-09-12T11:44:04.816399100Z"
    }
   }
  },
  {
   "cell_type": "code",
   "execution_count": null,
   "outputs": [],
   "source": [
    "df.scheme.unique()"
   ],
   "metadata": {
    "collapsed": false
   }
  },
  {
   "cell_type": "code",
   "execution_count": null,
   "outputs": [],
   "source": [
    "scen.scheme"
   ],
   "metadata": {
    "collapsed": false
   }
  },
  {
   "cell_type": "code",
   "execution_count": null,
   "outputs": [],
   "source": [
    "df[df[\"scenario\"].str.contains(\"_macro\")]"
   ],
   "metadata": {
    "collapsed": false
   }
  },
  {
   "cell_type": "code",
   "execution_count": null,
   "outputs": [],
   "source": [
    "model_name = \"ENGAGE_SSP2_v4.1.8.3_T4.5_r3.1\"\n",
    "scenario_name = \"baseline_magpie\""
   ],
   "metadata": {
    "collapsed": false
   }
  },
  {
   "cell_type": "code",
   "execution_count": null,
   "outputs": [],
   "source": [
    "scen = message_ix.Scenario(mp, model=model_name, scenario=scenario_name)"
   ],
   "metadata": {
    "collapsed": false
   }
  },
  {
   "cell_type": "code",
   "execution_count": null,
   "outputs": [],
   "source": [
    "import importlib\n",
    "importlib.reload(message_data.tools.utilities)\n",
    "if scen.has_solution():\n",
    "    scen.remove_solution()\n",
    "add_globiom(\n",
    "    mp,\n",
    "    scen,\n",
    "    \"SSP2\",\n",
    "    private_data_path(),\n",
    "    2015,\n",
    "    #globiom_scenario=\"magpie\",\n",
    "    #regenerate_input_data=True,\n",
    "    #regenerate_input_data_only=True,\n",
    "    clean=True,\n",
    "    clean_only=True,\n",
    "    #globiom_scenario=\"no\",\n",
    "    #allow_empty_drivers=True,\n",
    "    add_reporting_data=True,\n",
    "    config_setup=\"MAGPIE\")"
   ],
   "metadata": {
    "collapsed": false
   }
  },
  {
   "cell_type": "code",
   "execution_count": null,
   "outputs": [],
   "source": [
    "add_globiom(\n",
    "    mp,\n",
    "    scen,\n",
    "    \"SSP2\",\n",
    "    private_data_path(),\n",
    "    2015,\n",
    "    globiom_scenario=\"noSDG_rcpref\",\n",
    "    regenerate_input_data=True,\n",
    "    #regenerate_input_data_only=True,\n",
    "    #globiom_scenario=\"no\",\n",
    "    #allow_empty_drivers=True,\n",
    "    add_reporting_data=True,\n",
    "    config_setup=\"MAGPIE\")"
   ],
   "metadata": {
    "collapsed": false
   }
  },
  {
   "cell_type": "code",
   "execution_count": null,
   "outputs": [],
   "source": [
    "mps = [\"50\"]\n",
    "bis = [\"00\", \"70\", \"74\", \"78\"]\n",
    "bis = [\"00\", \"70\", \"74\", \"78\"]\n",
    "for mp in mps:\n",
    "        for bi in bis:\n",
    "            if bi == \"00\":\n",
    "                bd = 1\n",
    "            else:\n",
    "                bd = 0\n",
    "            model = f\"MP{mp}BD{bd}BI{bi}\"\n",
    "            print(model)\n",
    "            scen = message_ix.Scenario(mp_obj, f\"MESSAGEix-GLOBIOM 1.1-R12-MAGPIE-{model}\", \"baseline\")\n",
    "            if scen.has_solution():\n",
    "                scen.remove_solution()\n",
    "            if \"bio_backstop\" in scen.set(\"technology\").tolist():\n",
    "                scen.check_out()\n",
    "                scen.remove_set(\"technology\", \"bio_backstop\")\n",
    "                scen.commit(\"remove backstop\")\n",
    "            #print(scen.par(\"output\", filters={\"technology\":\"bio_backstop\"}))\n",
    "            del scen"
   ],
   "metadata": {
    "collapsed": false
   }
  },
  {
   "cell_type": "code",
   "execution_count": null,
   "outputs": [],
   "source": [
    "scen.check_out()\n",
    "scen.remove_set(\"technology\", \"bio_backstop\")\n",
    "scen.commit(\"remove backstop\")\n",
    "scen.par(\"output\", filters={\"technology\":\"bio_backstop\"})"
   ],
   "metadata": {
    "collapsed": false
   }
  },
  {
   "cell_type": "code",
   "execution_count": null,
   "outputs": [],
   "source": [
    "scen.remove_solution()\n",
    "scen.solve(\"MESSAGE-MACRO\")"
   ],
   "metadata": {
    "collapsed": false
   }
  },
  {
   "cell_type": "markdown",
   "source": [
    "## SCP setup"
   ],
   "metadata": {
    "collapsed": false
   }
  },
  {
   "cell_type": "code",
   "execution_count": null,
   "outputs": [],
   "source": [
    "base = message_ix.Scenario(mp, \"ENGAGE_SSP2_v4.1.8.3.1_T4.5_r3.1\", \"baseline\")"
   ],
   "metadata": {
    "collapsed": false
   }
  },
  {
   "cell_type": "code",
   "execution_count": null,
   "outputs": [],
   "source": [
    "#base_clone = base.clone(\"ENGAGE_SSP2_MAGPIE_SCP\", \"baseline_MP00\")\n",
    "base_clone = base.clone(\"ENGAGE_SSP2_MAGPIE_SCP\", \"baseline_MP80\")"
   ],
   "metadata": {
    "collapsed": false
   }
  },
  {
   "cell_type": "code",
   "execution_count": null,
   "outputs": [],
   "source": [
    "import importlib\n",
    "importlib.reload(message_data.tools.utilities)\n",
    "if base_clone.has_solution():\n",
    "    base_clone.remove_solution()\n",
    "add_globiom(\n",
    "    mp,\n",
    "    base_clone,\n",
    "    \"SSP2\",\n",
    "    private_data_path(),\n",
    "    2015,\n",
    "    #globiom_scenario=\"magpie\",\n",
    "    #regenerate_input_data=True,\n",
    "    #regenerate_input_data_only=True,\n",
    "    clean=True,\n",
    "    clean_only=True,\n",
    "    #globiom_scenario=\"no\",\n",
    "    #allow_empty_drivers=True,\n",
    "    add_reporting_data=True,\n",
    "    config_setup=\"MAGPIE\")"
   ],
   "metadata": {
    "collapsed": false
   }
  },
  {
   "cell_type": "code",
   "execution_count": null,
   "outputs": [],
   "source": [
    "add_globiom(\n",
    "    mp,\n",
    "    base_clone,\n",
    "    \"SSP2\",\n",
    "    private_data_path(),\n",
    "    2015,\n",
    "    globiom_scenario=\"noSDG_rcpref\",\n",
    "    regenerate_input_data=True,\n",
    "    #regenerate_input_data_only=True,\n",
    "    #globiom_scenario=\"no\",\n",
    "    #allow_empty_drivers=True,\n",
    "    add_reporting_data=True,\n",
    "    config_setup=\"MAGPIE\")"
   ],
   "metadata": {
    "collapsed": false
   }
  },
  {
   "cell_type": "code",
   "execution_count": null,
   "outputs": [],
   "source": [
    "base_clone.set_as_default()"
   ],
   "metadata": {
    "collapsed": false
   }
  },
  {
   "cell_type": "code",
   "execution_count": null,
   "outputs": [],
   "source": [
    "df = mp.scenario_list()\n",
    "df[df[\"model\"].str.contains(\"SCP\")]"
   ],
   "metadata": {
    "collapsed": false
   }
  },
  {
   "cell_type": "markdown",
   "source": [],
   "metadata": {
    "collapsed": false
   }
  },
  {
   "cell_type": "markdown",
   "source": [
    "## create budget scenario"
   ],
   "metadata": {
    "collapsed": false
   }
  },
  {
   "cell_type": "code",
   "execution_count": 34,
   "outputs": [],
   "source": [
    "mode = \"clone\"\n",
    "#mode = \"load\"\n",
    "\n",
    "budget = \"1000f\"\n",
    "#budget = \"600f\""
   ],
   "metadata": {
    "collapsed": false,
    "ExecuteTime": {
     "end_time": "2023-09-13T07:27:28.476248600Z",
     "start_time": "2023-09-13T07:27:28.422805300Z"
    }
   }
  },
  {
   "cell_type": "code",
   "execution_count": null,
   "outputs": [],
   "source": [
    "if mode == \"clone\":\n",
    "    scen_budget = scen.clone(model=\"ENGAGE-MAGPIE_SSP2_v4.1.8.3_T4.5_r3.1\", scenario=budget, keep_solution=False,\n",
    "            shift_first_model_year=2025)\n",
    "else:\n",
    "    scen_budget = message_ix.Scenario(mp, model=\"ENGAGE-MAGPIE_SSP2_v4.1.8.3_T4.5_r3.1\", scenario=budget)"
   ],
   "metadata": {
    "collapsed": false
   }
  },
  {
   "cell_type": "code",
   "execution_count": null,
   "outputs": [],
   "source": [
    "extra = scen_budget.set(\"cat_year\", {\"type_year\": \"cumulative\", \"year\": [2020, 2015, 2010]})\n",
    "scen_budget.check_out()\n",
    "scen_budget.remove_set(\"cat_year\", extra)\n",
    "scen_budget.commit(\"remove cumulative years from cat_year set\")\n",
    "scen_budget.set(\"cat_year\", {\"type_year\": \"cumulative\"})"
   ],
   "metadata": {
    "collapsed": false
   }
  },
  {
   "cell_type": "code",
   "execution_count": null,
   "outputs": [],
   "source": [
    "emission_dict = {\n",
    "            \"node\": \"World\",\n",
    "            \"type_emission\": \"TCE\",\n",
    "            \"type_tec\": \"all\",\n",
    "            \"type_year\": \"cumulative\",\n",
    "            \"unit\": \"???\",\n",
    "        }\n",
    "if budget == \"1000f\":\n",
    "    value = 4046\n",
    "if budget == \"600f\":\n",
    "    value = 2605\n",
    "\n",
    "df = message_ix.make_df(\n",
    "    \"bound_emission\", value=value, **emission_dict\n",
    ")\n",
    "scen_budget.check_out()\n",
    "scen_budget.add_par(\"bound_emission\", df)\n",
    "scen_budget.commit(\"add emission bound\")\n",
    "scen_budget.par(\"bound_emission\")"
   ],
   "metadata": {
    "collapsed": false
   }
  },
  {
   "cell_type": "code",
   "execution_count": null,
   "outputs": [],
   "source": [
    "scen_budget.remove_solution()\n",
    "scen_budget.solve(model=\"MESSAGE-MACRO\")"
   ],
   "metadata": {
    "collapsed": false
   }
  },
  {
   "cell_type": "code",
   "execution_count": null,
   "outputs": [],
   "source": [
    "scen_budget.set_as_default()"
   ],
   "metadata": {
    "collapsed": false
   }
  },
  {
   "cell_type": "markdown",
   "source": [],
   "metadata": {
    "collapsed": false
   }
  },
  {
   "cell_type": "markdown",
   "source": [
    "## run reporting"
   ],
   "metadata": {
    "collapsed": false
   }
  },
  {
   "cell_type": "code",
   "execution_count": 10,
   "outputs": [
    {
     "name": "stdout",
     "output_type": "stream",
     "text": [
      "processing Table: Resource|Extraction\n",
      "processing Table: Resource|Cumulative Extraction\n",
      "processing Table: Primary Energy\n",
      "processing Table: Primary Energy (substitution method)\n",
      "processing Table: Final Energy\n",
      "processing Table: Secondary Energy|Electricity\n",
      "processing Table: Secondary Energy|Heat\n",
      "processing Table: Secondary Energy\n",
      "processing Table: Secondary Energy|Gases\n",
      "processing Table: Secondary Energy|Solids\n",
      "processing Table: Emissions|CO2\n",
      "processing Table: Carbon Sequestration\n",
      "processing Table: Emissions|BC\n",
      "processing Table: Emissions|OC\n",
      "processing Table: Emissions|CO\n",
      "processing Table: Emissions|N2O\n",
      "processing Table: Emissions|CH4\n",
      "processing Table: Emissions|NH3\n",
      "processing Table: Emissions|Sulfur\n",
      "processing Table: Emissions|NOx\n",
      "processing Table: Emissions|VOC\n",
      "processing Table: Emissions|HFC\n",
      "processing Table: Emissions\n",
      "processing Table: Emissions\n",
      "processing Table: Agricultural Demand\n",
      "processing Table: Agricultural Production\n",
      "processing Table: Fertilizer Use\n",
      "processing Table: Fertilizer\n",
      "processing Table: Food Waste\n",
      "processing Table: Food Demand\n",
      "processing Table: Forestry Demand\n",
      "processing Table: Forestry Production\n",
      "processing Table: Land Cover\n",
      "processing Table: Yield\n",
      "processing Table: Capacity\n",
      "processing Table: Capacity Additions\n",
      "processing Table: Cumulative Capacity\n",
      "processing Table: Capital Cost\n",
      "processing Table: OM Cost|Fixed\n",
      "processing Table: OM Cost|Variable\n",
      "processing Table: Lifetime\n",
      "processing Table: Efficiency\n",
      "processing Table: Population\n",
      "processing Table: Price\n",
      "processing Table: Useful Energy\n",
      "processing Table: Useful Energy\n",
      "processing Table: Trade\n",
      "processing Table: Investment|Energy Supply\n",
      "processing Table: Water Consumption\n",
      "processing Table: Water Withdrawal\n",
      "processing Table: GDP\n",
      "processing Table: Cost\n",
      "processing Table: GLOBIOM Feedback\n",
      "no emissions included\n",
      "no emissions included\n",
      "no emissions included\n",
      "no emissions included\n",
      "no emissions included\n",
      "no emissions included\n",
      "no emissions included\n",
      "no emissions included\n",
      "no emissions included\n",
      "no emissions included\n",
      "no emissions included\n",
      "no emissions included\n",
      "no emissions included\n",
      "no emissions included\n",
      "no emissions included\n",
      "no emissions included\n",
      "no emissions included\n",
      "no emissions included\n",
      "no emissions included\n",
      "no emissions included\n",
      "no emissions included\n",
      "no emissions included\n",
      "no emissions included\n",
      "no emissions included\n",
      "no emissions included\n",
      "no emissions included\n",
      "no emissions included\n",
      "no emissions included\n",
      "no emissions included\n",
      "no emissions included\n",
      "no emissions included\n",
      "no emissions included\n",
      "no emissions included\n",
      "no emissions included\n",
      "no emissions included\n",
      "no emissions included\n",
      "no emissions included\n",
      "no emissions included\n",
      "no emissions included\n",
      "no emissions included\n",
      "no emissions included\n",
      "no emissions included\n",
      "Starting to upload timeseries\n",
      "    region                                variable   unit       2025  \\\n",
      "0  R12_AFR                     Resource|Extraction  EJ/yr  23.180454   \n",
      "1  R12_AFR                Resource|Extraction|Coal  EJ/yr   7.266278   \n",
      "2  R12_AFR                 Resource|Extraction|Gas  EJ/yr   6.834491   \n",
      "3  R12_AFR    Resource|Extraction|Gas|Conventional  EJ/yr   6.834491   \n",
      "4  R12_AFR  Resource|Extraction|Gas|Unconventional  EJ/yr   0.000000   \n",
      "\n",
      "        2030       2035       2040       2045       2050       2055  \\\n",
      "0  20.273657  19.952535  18.933601  20.577608  20.405360  22.329736   \n",
      "1   2.423100   1.583713   0.867861   0.184598   0.230745   0.253654   \n",
      "2   9.028904  10.612705  12.200300  14.689182  15.898805  18.912043   \n",
      "3   9.028904  10.612705  12.200300  14.689182  15.898805  18.912043   \n",
      "4   0.000000   0.000000   0.000000   0.000000   0.000000   0.000000   \n",
      "\n",
      "        2060       2070       2080       2090      2100      2110  \n",
      "0  21.929689  22.723112  21.102234  12.027721  6.912506  3.818970  \n",
      "1   0.310799   0.160775   0.070950   0.017169  0.030747  0.000000  \n",
      "2  18.931974  21.239637  20.509762  11.973180  6.868753  3.817505  \n",
      "3  18.931974  18.531374   1.567102   1.153387  0.848893  0.624785  \n",
      "4   0.000000   2.708263  18.942660  10.819793  6.019860  3.192720  \n",
      "Finished uploading timeseries\n"
     ]
    }
   ],
   "source": [
    "# report budget scenario\n",
    "from message_data.tools.post_processing.iamc_report_hackathon import report as reporting\n",
    "reporting(\n",
    "    mp,\n",
    "    scen_budget,\n",
    "    # NB(PNK) this is not an error; .iamc_report_hackathon.report() expects a\n",
    "    #         string containing \"True\" or \"False\" instead of an actual bool.\n",
    "    \"False\",\n",
    "    scen_budget.model,\n",
    "    scen_budget.scenario,\n",
    "    merge_hist=True,\n",
    "    merge_ts=True,\n",
    "    #run_config=\"materials_run_config.yaml\",\n",
    ")"
   ],
   "metadata": {
    "collapsed": false,
    "ExecuteTime": {
     "end_time": "2023-09-20T14:53:33.158659800Z",
     "start_time": "2023-09-20T14:38:43.624078500Z"
    }
   }
  },
  {
   "cell_type": "code",
   "execution_count": 13,
   "outputs": [
    {
     "data": {
      "text/plain": "'new-mapping_with-smoothing_primary-forest-constraint_1000f'"
     },
     "execution_count": 13,
     "metadata": {},
     "output_type": "execute_result"
    }
   ],
   "source": [
    "scen_budget.scenario"
   ],
   "metadata": {
    "collapsed": false,
    "ExecuteTime": {
     "end_time": "2023-09-20T14:55:38.002761800Z",
     "start_time": "2023-09-20T14:55:37.940314800Z"
    }
   }
  },
  {
   "cell_type": "code",
   "execution_count": null,
   "outputs": [],
   "source": [
    "scen = message_ix.Scenario(mp, \"MESSAGE-SCP_R11\", \"baseline_MP00\")"
   ],
   "metadata": {
    "collapsed": false
   }
  },
  {
   "cell_type": "code",
   "execution_count": null,
   "outputs": [],
   "source": [
    "# report baseline\n",
    "from message_data.tools.post_processing.iamc_report_hackathon import report as reporting\n",
    "reporting(\n",
    "    mp,\n",
    "    scen,\n",
    "    # NB(PNK) this is not an error; .iamc_report_hackathon.report() expects a\n",
    "    #         string containing \"True\" or \"False\" instead of an actual bool.\n",
    "    \"False\",\n",
    "    scen.model,\n",
    "    scen.scenario,\n",
    "    merge_hist=True,\n",
    "    merge_ts=True,\n",
    "    #run_config=\"materials_run_config.yaml\",\n",
    ")"
   ],
   "metadata": {
    "collapsed": false
   }
  },
  {
   "cell_type": "code",
   "execution_count": null,
   "outputs": [],
   "source": [
    "scen.set(\"is_test\")"
   ],
   "metadata": {
    "collapsed": false
   }
  },
  {
   "cell_type": "code",
   "execution_count": null,
   "outputs": [],
   "source": [
    "df = mp.scenario_list()"
   ],
   "metadata": {
    "collapsed": false
   }
  },
  {
   "cell_type": "code",
   "execution_count": null,
   "outputs": [],
   "source": [
    "df[df[\"model\"].str.contains(\"SCP\")]"
   ],
   "metadata": {
    "collapsed": false
   }
  },
  {
   "cell_type": "code",
   "execution_count": null,
   "outputs": [],
   "source": [
    "base = message_ix.Scenario(mp, \"ENGAGE_SSP2_MAGPIE_SCP\", \"baseline_MP00\")\n",
    "base_solved = base.clone(\"ENGAGE_SSP2_MAGPIE_SCP\", \"baseline_MP00_solved\")"
   ],
   "metadata": {
    "collapsed": false
   }
  },
  {
   "cell_type": "code",
   "execution_count": null,
   "outputs": [],
   "source": [
    "base_solved.solve()"
   ],
   "metadata": {
    "collapsed": false
   }
  },
  {
   "cell_type": "code",
   "execution_count": null,
   "outputs": [],
   "source": [
    "# report baseline\n",
    "from message_data.tools.post_processing.iamc_report_hackathon import report as reporting\n",
    "reporting(\n",
    "    mp,\n",
    "    base_solved,\n",
    "    # NB(PNK) this is not an error; .iamc_report_hackathon.report() expects a\n",
    "    #         string containing \"True\" or \"False\" instead of an actual bool.\n",
    "    \"False\",\n",
    "    base_solved.model,\n",
    "    base_solved.scenario,\n",
    "    merge_hist=True,\n",
    "    merge_ts=True,\n",
    "    #run_config=\"materials_run_config.yaml\",\n",
    ")"
   ],
   "metadata": {
    "collapsed": false
   }
  },
  {
   "cell_type": "code",
   "execution_count": null,
   "outputs": [],
   "source": [
    "#scen.read_excel(\"sceniario.xlsx\")"
   ],
   "metadata": {
    "collapsed": false
   }
  },
  {
   "cell_type": "code",
   "execution_count": null,
   "outputs": [],
   "source": [
    "#scen.to_excel"
   ],
   "metadata": {
    "collapsed": false
   }
  },
  {
   "cell_type": "code",
   "execution_count": null,
   "outputs": [],
   "source": [
    "import pandas as pd"
   ],
   "metadata": {
    "collapsed": false
   }
  },
  {
   "cell_type": "code",
   "execution_count": null,
   "outputs": [],
   "source": [
    "df_mag = pd.read_csv(\"C:/Users\\maczek\\PycharmProjects\\message_data\\data\\globiom/magpie_input_MP76BD1BI00.csv\")"
   ],
   "metadata": {
    "collapsed": false
   }
  },
  {
   "cell_type": "code",
   "execution_count": null,
   "outputs": [],
   "source": [
    "df_glo = pd.read_csv(\"C:/Users\\maczek\\PycharmProjects\\message_data\\data\\globiom/SSP2_globiom_input_noSDG_rcpref.csv\")"
   ],
   "metadata": {
    "collapsed": false
   }
  },
  {
   "cell_type": "code",
   "execution_count": null,
   "outputs": [],
   "source": [
    "df_mag[\"GHGscen\"]\n",
    "df_mag[\"BIOscen\"]\n",
    "df_mag[\"GHGscen\"]"
   ],
   "metadata": {
    "collapsed": false
   }
  },
  {
   "cell_type": "code",
   "execution_count": null,
   "outputs": [],
   "source": [
    "df_mag[df_mag.Variable.str.startswith(\"Land Cover\")]"
   ],
   "metadata": {
    "collapsed": false
   }
  },
  {
   "cell_type": "code",
   "execution_count": null,
   "outputs": [],
   "source": [
    "df_glo[df_glo.Variable.str.startswith(\"Land Cover\") & (df_glo.Variable.str.count(\"\\\\|\")==1)][\"Variable\"].unique()"
   ],
   "metadata": {
    "collapsed": false
   }
  },
  {
   "cell_type": "code",
   "execution_count": null,
   "outputs": [],
   "source": [
    "vars = [#\"Land Cover\",\n",
    "\"Land Cover|Cropland|Non-Energy Crops\",\n",
    "\"Land Cover|Other Land\",\n",
    "\"Land Cover|Pasture\",\n",
    "\"Land Cover|Cropland|Energy Crops\",\n",
    "\"Land Cover|Forest|Forest old\",\n",
    "\"Land Cover|Forest|Afforestation and Reforestation\"]"
   ],
   "metadata": {
    "collapsed": false
   }
  },
  {
   "cell_type": "code",
   "execution_count": null,
   "outputs": [],
   "source": [
    "df_mag[df_mag.Variable.isin(vars)].groupby([\"Region\", \"GHGscen\", \"BIOscen\"]).sum()"
   ],
   "metadata": {
    "collapsed": false
   }
  },
  {
   "cell_type": "code",
   "execution_count": null,
   "outputs": [],
   "source": [
    "df_mag[df_mag.Variable.isin([\"Land Cover\"])].groupby([\"Region\", \"GHGscen\", \"BIOscen\"]).sum()"
   ],
   "metadata": {
    "collapsed": false
   }
  },
  {
   "cell_type": "code",
   "execution_count": null,
   "outputs": [],
   "source": [
    "df_glo[df_glo.Variable.isin([\"Land Cover\"])].groupby([\"Region\", \"Scenario\"]).sum()"
   ],
   "metadata": {
    "collapsed": false
   }
  },
  {
   "cell_type": "code",
   "execution_count": null,
   "outputs": [],
   "source": [
    "df_glo[df_glo.Variable.isin([vars])].groupby([\"Region\", \"Scenario\"]).sum()"
   ],
   "metadata": {
    "collapsed": false
   }
  },
  {
   "cell_type": "markdown",
   "source": [
    "### modify emulator constraints"
   ],
   "metadata": {
    "collapsed": false
   }
  },
  {
   "cell_type": "code",
   "execution_count": 4,
   "outputs": [],
   "source": [
    "scen = message_ix.Scenario(mp,\"MESSAGEix-GLOBIOM 1.1-R12-MAGPIE-MP00BD1BI00_uncorrected\", \"baseline\")"
   ],
   "metadata": {
    "collapsed": false,
    "ExecuteTime": {
     "end_time": "2023-09-12T15:27:28.137030200Z",
     "start_time": "2023-09-12T15:27:24.630401300Z"
    }
   }
  },
  {
   "cell_type": "code",
   "execution_count": 11,
   "outputs": [],
   "source": [
    "df1 = scen.par(\"growth_land_up\", filters={\"land_type\":\"OldForLnd\",\"node\":\"R12_EEU\", \"year\":[\"2050\"]})\n",
    "df2 = scen.par(\"growth_land_up\", filters={\"land_type\":\"OldForLnd\",\"node\":\"R12_EEU\", \"year\":[\"2090\"]})\n",
    "\n",
    "df3 = scen.par(\"growth_land_up\", filters={\"land_type\":\"OldForLnd\",\"node\":\"R12_NAM\", \"year\":[\"2060\"]})\n",
    "df4 = scen.par(\"growth_land_up\", filters={\"land_type\":\"OldForLnd\",\"node\":\"R12_NAM\", \"year\":[\"2090\"]})\n",
    "\n",
    "df5 = scen.par(\"growth_land_up\", filters={\"land_type\":\"OldForLnd\",\"node\":\"R12_PAS\", \"year\":[\"2060\"]})\n",
    "df6 = scen.par(\"growth_land_up\", filters={\"land_type\":\"OldForLnd\",\"node\":\"R12_PAS\", \"year\":[\"2070\"]})\n",
    "df7 = scen.par(\"growth_land_up\", filters={\"land_type\":\"OldForLnd\",\"node\":\"R12_PAS\", \"year\":[\"2080\"]})\n",
    "df8 = scen.par(\"growth_land_up\", filters={\"land_type\":\"OldForLnd\",\"node\":\"R12_PAS\", \"year\":[\"2090\"]})"
   ],
   "metadata": {
    "collapsed": false,
    "ExecuteTime": {
     "end_time": "2023-09-12T14:26:50.088412100Z",
     "start_time": "2023-09-12T14:26:50.057167200Z"
    }
   }
  },
  {
   "cell_type": "code",
   "execution_count": 13,
   "outputs": [],
   "source": [
    "df1[\"value\"] = 0.0019\n",
    "df2[\"value\"] = 0.0039\n",
    "\n",
    "df3[\"value\"] = 0.0034\n",
    "df4[\"value\"] = 0.0023\n",
    "\n",
    "df5[\"value\"] = 0.0021\n",
    "df6[\"value\"] = 0.0297\n",
    "df7[\"value\"] = 0.0088\n",
    "df8[\"value\"] = 0.0143"
   ],
   "metadata": {
    "collapsed": false,
    "ExecuteTime": {
     "end_time": "2023-09-12T14:30:36.093022600Z",
     "start_time": "2023-09-12T14:30:36.061779800Z"
    }
   }
  },
  {
   "cell_type": "code",
   "execution_count": 16,
   "outputs": [],
   "source": [
    "scen.check_out()\n",
    "scen.add_par(\"growth_land_up\", df1)\n",
    "scen.add_par(\"growth_land_up\", df2)\n",
    "\n",
    "scen.add_par(\"growth_land_up\", df3)\n",
    "scen.add_par(\"growth_land_up\", df4)\n",
    "\n",
    "scen.add_par(\"growth_land_up\", df5)\n",
    "scen.add_par(\"growth_land_up\", df6)\n",
    "scen.add_par(\"growth_land_up\", df7)\n",
    "scen.add_par(\"growth_land_up\", df8)\n",
    "scen.commit(\"fix forrest constraint\")"
   ],
   "metadata": {
    "collapsed": false,
    "ExecuteTime": {
     "end_time": "2023-09-12T14:32:05.221078500Z",
     "start_time": "2023-09-12T14:32:04.065505800Z"
    }
   }
  },
  {
   "cell_type": "code",
   "execution_count": 17,
   "outputs": [],
   "source": [
    "df1 = scen.par(\"growth_land_up\", filters={\"land_type\":\"CrpLnd\", \"node\":['R12_WEU', 'R12_PAO', 'R12_AFR', 'R12_MEA', \n",
    "                                                                       'R12_LAM', 'R12_RCPA', 'R12_SAS']})\n",
    "df2 = scen.par(\"growth_land_up\", filters={\"land_type\":\"CrpLnd\", \"node\":\"R12_WEU\", \"year\":[\"2055\"]})"
   ],
   "metadata": {
    "collapsed": false,
    "ExecuteTime": {
     "end_time": "2023-09-12T14:38:34.032636400Z",
     "start_time": "2023-09-12T14:38:33.871687200Z"
    }
   }
  },
  {
   "cell_type": "code",
   "execution_count": 20,
   "outputs": [],
   "source": [
    "df2[\"value\"] = 0.026"
   ],
   "metadata": {
    "collapsed": false,
    "ExecuteTime": {
     "end_time": "2023-09-12T14:39:03.935959500Z",
     "start_time": "2023-09-12T14:39:03.898154200Z"
    }
   }
  },
  {
   "cell_type": "code",
   "execution_count": 21,
   "outputs": [],
   "source": [
    "df1[\"value\"] = 0.0206"
   ],
   "metadata": {
    "collapsed": false,
    "ExecuteTime": {
     "end_time": "2023-09-12T14:39:26.166895500Z",
     "start_time": "2023-09-12T14:39:26.104375900Z"
    }
   }
  },
  {
   "cell_type": "code",
   "execution_count": 22,
   "outputs": [],
   "source": [
    "scen.check_out()\n",
    "scen.add_par(\"growth_land_up\", df1)\n",
    "scen.add_par(\"growth_land_up\", df2)\n",
    "scen.commit(\"fix cropland constraint\")"
   ],
   "metadata": {
    "collapsed": false,
    "ExecuteTime": {
     "end_time": "2023-09-12T14:39:44.977825400Z",
     "start_time": "2023-09-12T14:39:43.958900Z"
    }
   }
  },
  {
   "cell_type": "code",
   "execution_count": 31,
   "outputs": [],
   "source": [
    "scen.solve(model=\"MESSAGE-MACRO\")"
   ],
   "metadata": {
    "collapsed": false,
    "ExecuteTime": {
     "end_time": "2023-09-12T15:47:21.294914600Z",
     "start_time": "2023-09-12T15:41:40.318234400Z"
    }
   }
  },
  {
   "cell_type": "code",
   "execution_count": 20,
   "outputs": [],
   "source": [
    "df3 = scen.par(\"growth_land_up\", filters={\"land_type\":\"OldForLnd\",\"node\":\"R12_EEU\", \"year\":[\"2050\"]})\n",
    "df4 = scen.par(\"growth_land_up\", filters={\"land_type\":\"OldForLnd\",\"node\":\"R12_NAM\", \"year\":[\"2060\"]})"
   ],
   "metadata": {
    "collapsed": false,
    "ExecuteTime": {
     "end_time": "2023-09-12T15:37:19.744066Z",
     "start_time": "2023-09-12T15:37:19.628247400Z"
    }
   }
  },
  {
   "cell_type": "code",
   "execution_count": 15,
   "outputs": [],
   "source": [
    "df2 = scen.par(\"growth_land_up\", filters={\"land_type\":\"OldForLnd\",\"node\":\"R12_EEU\", \"year\":[\"2055\"]})"
   ],
   "metadata": {
    "collapsed": false,
    "ExecuteTime": {
     "end_time": "2023-09-12T15:31:25.020306Z",
     "start_time": "2023-09-12T15:31:24.938051600Z"
    }
   }
  },
  {
   "cell_type": "code",
   "execution_count": 13,
   "outputs": [],
   "source": [
    "df3[\"year\"] = 2055"
   ],
   "metadata": {
    "collapsed": false,
    "ExecuteTime": {
     "end_time": "2023-09-12T15:31:11.709356Z",
     "start_time": "2023-09-12T15:31:11.668956600Z"
    }
   }
  },
  {
   "cell_type": "code",
   "execution_count": 17,
   "outputs": [],
   "source": [
    "df2[\"year\"]= 2050"
   ],
   "metadata": {
    "collapsed": false,
    "ExecuteTime": {
     "end_time": "2023-09-12T15:31:37.731761Z",
     "start_time": "2023-09-12T15:31:37.647046400Z"
    }
   }
  },
  {
   "cell_type": "code",
   "execution_count": 18,
   "outputs": [],
   "source": [
    "scen.check_out()\n",
    "scen.add_par(\"growth_land_up\", df2)\n",
    "scen.add_par(\"growth_land_up\", df3)\n",
    "scen.commit(\"fix cropland constraint\")"
   ],
   "metadata": {
    "collapsed": false,
    "ExecuteTime": {
     "end_time": "2023-09-12T15:31:48.421502200Z",
     "start_time": "2023-09-12T15:31:47.366177100Z"
    }
   }
  },
  {
   "cell_type": "code",
   "execution_count": 22,
   "outputs": [],
   "source": [
    "df4 = scen.par(\"growth_land_up\", filters={\"land_type\":\"OldForLnd\",\"node\":\"R12_NAM\"})"
   ],
   "metadata": {
    "collapsed": false,
    "ExecuteTime": {
     "end_time": "2023-09-12T15:37:44.159751400Z",
     "start_time": "2023-09-12T15:37:44.041331200Z"
    }
   }
  },
  {
   "cell_type": "code",
   "execution_count": 30,
   "outputs": [],
   "source": [
    "scen.check_out()\n",
    "scen.add_par(\"growth_land_up\", df4.set_index([\"node\", \"year\", \"land_type\"]).shift().reset_index().drop(0))\n",
    "scen.commit(\"fix forrest again\")"
   ],
   "metadata": {
    "collapsed": false,
    "ExecuteTime": {
     "end_time": "2023-09-12T15:41:29.477690900Z",
     "start_time": "2023-09-12T15:41:28.143364100Z"
    }
   }
  },
  {
   "cell_type": "code",
   "execution_count": 33,
   "outputs": [
    {
     "data": {
      "text/plain": "'MESSAGEix-GLOBIOM 1.1-R12-MAGPIE-MP00BD1BI00_uncorrected'"
     },
     "execution_count": 33,
     "metadata": {},
     "output_type": "execute_result"
    }
   ],
   "source": [
    "scen.model"
   ],
   "metadata": {
    "collapsed": false,
    "ExecuteTime": {
     "end_time": "2023-09-13T07:26:49.127432200Z",
     "start_time": "2023-09-13T07:26:49.064948100Z"
    }
   }
  },
  {
   "cell_type": "code",
   "execution_count": 5,
   "outputs": [],
   "source": [
    "mode = \"clone\"\n",
    "#mode = \"load\"\n",
    "\n",
    "budget = \"1000f\"\n",
    "#budget = \"600f\""
   ],
   "metadata": {
    "collapsed": false,
    "ExecuteTime": {
     "end_time": "2023-09-20T12:10:56.172808300Z",
     "start_time": "2023-09-20T12:10:56.110318400Z"
    }
   }
  },
  {
   "cell_type": "code",
   "execution_count": 6,
   "outputs": [],
   "source": [
    "if mode == \"clone\":\n",
    "    scen_budget = scen.clone(model=scen.model, scenario=scen.scenario+\"_\"+budget, \n",
    "                             keep_solution=False, shift_first_model_year=2025)\n",
    "else:\n",
    "    scen_budget = message_ix.Scenario(mp, model=\"ENGAGE-MAGPIE_SSP2_v4.1.8.3_T4.5_r3.1\", scenario=budget)"
   ],
   "metadata": {
    "collapsed": false,
    "ExecuteTime": {
     "end_time": "2023-09-20T12:11:22.993257Z",
     "start_time": "2023-09-20T12:10:57.074124400Z"
    }
   }
  },
  {
   "cell_type": "code",
   "execution_count": 7,
   "outputs": [
    {
     "data": {
      "text/plain": "     type_year  year\n0   cumulative  2025\n1   cumulative  2030\n2   cumulative  2035\n3   cumulative  2040\n4   cumulative  2045\n5   cumulative  2050\n6   cumulative  2055\n7   cumulative  2060\n8   cumulative  2070\n9   cumulative  2080\n10  cumulative  2090\n11  cumulative  2100\n12  cumulative  2110",
      "text/html": "<div>\n<style scoped>\n    .dataframe tbody tr th:only-of-type {\n        vertical-align: middle;\n    }\n\n    .dataframe tbody tr th {\n        vertical-align: top;\n    }\n\n    .dataframe thead th {\n        text-align: right;\n    }\n</style>\n<table border=\"1\" class=\"dataframe\">\n  <thead>\n    <tr style=\"text-align: right;\">\n      <th></th>\n      <th>type_year</th>\n      <th>year</th>\n    </tr>\n  </thead>\n  <tbody>\n    <tr>\n      <th>0</th>\n      <td>cumulative</td>\n      <td>2025</td>\n    </tr>\n    <tr>\n      <th>1</th>\n      <td>cumulative</td>\n      <td>2030</td>\n    </tr>\n    <tr>\n      <th>2</th>\n      <td>cumulative</td>\n      <td>2035</td>\n    </tr>\n    <tr>\n      <th>3</th>\n      <td>cumulative</td>\n      <td>2040</td>\n    </tr>\n    <tr>\n      <th>4</th>\n      <td>cumulative</td>\n      <td>2045</td>\n    </tr>\n    <tr>\n      <th>5</th>\n      <td>cumulative</td>\n      <td>2050</td>\n    </tr>\n    <tr>\n      <th>6</th>\n      <td>cumulative</td>\n      <td>2055</td>\n    </tr>\n    <tr>\n      <th>7</th>\n      <td>cumulative</td>\n      <td>2060</td>\n    </tr>\n    <tr>\n      <th>8</th>\n      <td>cumulative</td>\n      <td>2070</td>\n    </tr>\n    <tr>\n      <th>9</th>\n      <td>cumulative</td>\n      <td>2080</td>\n    </tr>\n    <tr>\n      <th>10</th>\n      <td>cumulative</td>\n      <td>2090</td>\n    </tr>\n    <tr>\n      <th>11</th>\n      <td>cumulative</td>\n      <td>2100</td>\n    </tr>\n    <tr>\n      <th>12</th>\n      <td>cumulative</td>\n      <td>2110</td>\n    </tr>\n  </tbody>\n</table>\n</div>"
     },
     "execution_count": 7,
     "metadata": {},
     "output_type": "execute_result"
    }
   ],
   "source": [
    "extra = scen_budget.set(\"cat_year\", {\"type_year\": \"cumulative\", \"year\": [2020, 2015, 2010]})\n",
    "scen_budget.check_out()\n",
    "scen_budget.remove_set(\"cat_year\", extra)\n",
    "scen_budget.commit(\"remove cumulative years from cat_year set\")\n",
    "scen_budget.set(\"cat_year\", {\"type_year\": \"cumulative\"})"
   ],
   "metadata": {
    "collapsed": false,
    "ExecuteTime": {
     "end_time": "2023-09-20T12:11:24.095437500Z",
     "start_time": "2023-09-20T12:11:22.993257Z"
    }
   }
  },
  {
   "cell_type": "code",
   "execution_count": 8,
   "outputs": [
    {
     "data": {
      "text/plain": "    node type_emission type_tec   type_year   value unit\n0  World           TCE      all  cumulative  4046.0  ???",
      "text/html": "<div>\n<style scoped>\n    .dataframe tbody tr th:only-of-type {\n        vertical-align: middle;\n    }\n\n    .dataframe tbody tr th {\n        vertical-align: top;\n    }\n\n    .dataframe thead th {\n        text-align: right;\n    }\n</style>\n<table border=\"1\" class=\"dataframe\">\n  <thead>\n    <tr style=\"text-align: right;\">\n      <th></th>\n      <th>node</th>\n      <th>type_emission</th>\n      <th>type_tec</th>\n      <th>type_year</th>\n      <th>value</th>\n      <th>unit</th>\n    </tr>\n  </thead>\n  <tbody>\n    <tr>\n      <th>0</th>\n      <td>World</td>\n      <td>TCE</td>\n      <td>all</td>\n      <td>cumulative</td>\n      <td>4046.0</td>\n      <td>???</td>\n    </tr>\n  </tbody>\n</table>\n</div>"
     },
     "execution_count": 8,
     "metadata": {},
     "output_type": "execute_result"
    }
   ],
   "source": [
    "emission_dict = {\n",
    "            \"node\": \"World\",\n",
    "            \"type_emission\": \"TCE\",\n",
    "            \"type_tec\": \"all\",\n",
    "            \"type_year\": \"cumulative\",\n",
    "            \"unit\": \"???\",\n",
    "        }\n",
    "if budget == \"1000f\":\n",
    "    value = 4046\n",
    "if budget == \"600f\":\n",
    "    value = 2605\n",
    "\n",
    "df = message_ix.make_df(\n",
    "    \"bound_emission\", value=value, **emission_dict\n",
    ")\n",
    "scen_budget.check_out()\n",
    "scen_budget.add_par(\"bound_emission\", df)\n",
    "scen_budget.commit(\"add emission bound\")\n",
    "scen_budget.par(\"bound_emission\")"
   ],
   "metadata": {
    "collapsed": false,
    "ExecuteTime": {
     "end_time": "2023-09-20T12:11:25.569954500Z",
     "start_time": "2023-09-20T12:11:24.100427Z"
    }
   }
  },
  {
   "cell_type": "code",
   "execution_count": 9,
   "outputs": [],
   "source": [
    "#scen_budget.remove_solution()\n",
    "scen_budget.solve(model=\"MESSAGE-MACRO\")"
   ],
   "metadata": {
    "collapsed": false,
    "ExecuteTime": {
     "end_time": "2023-09-20T12:38:01.821675600Z",
     "start_time": "2023-09-20T12:11:25.553999600Z"
    }
   }
  },
  {
   "cell_type": "code",
   "execution_count": 14,
   "outputs": [],
   "source": [
    "scen_budget.set_as_default()"
   ],
   "metadata": {
    "collapsed": false,
    "ExecuteTime": {
     "end_time": "2023-09-20T14:55:52.252811800Z",
     "start_time": "2023-09-20T14:55:52.168235Z"
    }
   }
  },
  {
   "cell_type": "code",
   "execution_count": null,
   "outputs": [],
   "source": [
    "sc"
   ],
   "metadata": {
    "collapsed": false
   }
  }
 ],
 "metadata": {
  "kernelspec": {
   "display_name": "Python 3",
   "language": "python",
   "name": "python3"
  },
  "language_info": {
   "codemirror_mode": {
    "name": "ipython",
    "version": 2
   },
   "file_extension": ".py",
   "mimetype": "text/x-python",
   "name": "python",
   "nbconvert_exporter": "python",
   "pygments_lexer": "ipython2",
   "version": "2.7.6"
  }
 },
 "nbformat": 4,
 "nbformat_minor": 0
}
