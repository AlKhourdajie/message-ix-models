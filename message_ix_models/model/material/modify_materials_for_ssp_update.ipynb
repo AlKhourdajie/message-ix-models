{
 "cells": [
  {
   "cell_type": "code",
   "execution_count": 1,
   "outputs": [
    {
     "data": {
      "text/plain": "<IPython.core.display.Javascript object>",
      "application/javascript": "if (typeof IPython !== 'undefined') { IPython.OutputArea.prototype._should_scroll = function(lines){ return false; }}"
     },
     "metadata": {},
     "output_type": "display_data"
    }
   ],
   "source": [
    "model = \"SSP_dev_SSP2_v0.1\"\n",
    "scenario = \"baseline_v0.1_materials_no_pow_sect\"\n",
    "\n",
    "\n",
    "import ixmp\n",
    "import message_ix\n",
    "mp = ixmp.Platform(\"ixmp_dev\")\n",
    "#scen = message_ix.Scenario(mp, model, scenario)"
   ],
   "metadata": {
    "collapsed": false,
    "ExecuteTime": {
     "end_time": "2023-11-27T11:02:02.715065500Z",
     "start_time": "2023-11-27T11:01:49.501141Z"
    }
   },
   "id": "5b8dbb8cae325fed"
  },
  {
   "cell_type": "code",
   "execution_count": 5,
   "outputs": [],
   "source": [
    "from message_data.model.material import data_petro\n",
    "import importlib"
   ],
   "metadata": {
    "collapsed": false,
    "ExecuteTime": {
     "end_time": "2023-11-23T14:25:21.171813800Z",
     "start_time": "2023-11-23T14:25:21.140567100Z"
    }
   },
   "id": "c13b9ce5f19fc9b0"
  },
  {
   "cell_type": "code",
   "execution_count": 47,
   "outputs": [],
   "source": [
    "importlib.reload(data_petro)\n",
    "df = data_petro.gen_mock_demand_petro(scen, 1, 1)\n",
    "df_baseyear = df[(df[\"commodity\"]==\"HVC\") & (df[\"year\"]==2025)]"
   ],
   "metadata": {
    "collapsed": false,
    "ExecuteTime": {
     "end_time": "2023-11-23T15:36:06.906718800Z",
     "start_time": "2023-11-23T15:36:06.646978100Z"
    }
   },
   "id": "b7749376f111cb06"
  },
  {
   "cell_type": "code",
   "execution_count": 49,
   "outputs": [
    {
     "data": {
      "text/plain": "         node commodity   level  year  time      value unit\n0     R12_AFR       HVC  demand  2030  year   3.257632    t\n1     R12_CHN       HVC  demand  2030  year   0.614827    t\n2     R12_EEU       HVC  demand  2030  year   3.551030    t\n3     R12_FSU       HVC  demand  2030  year   6.284582    t\n4     R12_LAM       HVC  demand  2030  year  13.712894    t\n..        ...       ...     ...   ...   ...        ...  ...\n151   R12_PAO       HVC  demand  2025  year  11.000000    t\n152   R12_PAS       HVC  demand  2025  year  37.500000    t\n153  R12_RCPA       HVC  demand  2025  year  10.700000    t\n154   R12_SAS       HVC  demand  2025  year  29.200000    t\n155   R12_WEU       HVC  demand  2025  year  50.500000    t\n\n[156 rows x 7 columns]",
      "text/html": "<div>\n<style scoped>\n    .dataframe tbody tr th:only-of-type {\n        vertical-align: middle;\n    }\n\n    .dataframe tbody tr th {\n        vertical-align: top;\n    }\n\n    .dataframe thead th {\n        text-align: right;\n    }\n</style>\n<table border=\"1\" class=\"dataframe\">\n  <thead>\n    <tr style=\"text-align: right;\">\n      <th></th>\n      <th>node</th>\n      <th>commodity</th>\n      <th>level</th>\n      <th>year</th>\n      <th>time</th>\n      <th>value</th>\n      <th>unit</th>\n    </tr>\n  </thead>\n  <tbody>\n    <tr>\n      <th>0</th>\n      <td>R12_AFR</td>\n      <td>HVC</td>\n      <td>demand</td>\n      <td>2030</td>\n      <td>year</td>\n      <td>3.257632</td>\n      <td>t</td>\n    </tr>\n    <tr>\n      <th>1</th>\n      <td>R12_CHN</td>\n      <td>HVC</td>\n      <td>demand</td>\n      <td>2030</td>\n      <td>year</td>\n      <td>0.614827</td>\n      <td>t</td>\n    </tr>\n    <tr>\n      <th>2</th>\n      <td>R12_EEU</td>\n      <td>HVC</td>\n      <td>demand</td>\n      <td>2030</td>\n      <td>year</td>\n      <td>3.551030</td>\n      <td>t</td>\n    </tr>\n    <tr>\n      <th>3</th>\n      <td>R12_FSU</td>\n      <td>HVC</td>\n      <td>demand</td>\n      <td>2030</td>\n      <td>year</td>\n      <td>6.284582</td>\n      <td>t</td>\n    </tr>\n    <tr>\n      <th>4</th>\n      <td>R12_LAM</td>\n      <td>HVC</td>\n      <td>demand</td>\n      <td>2030</td>\n      <td>year</td>\n      <td>13.712894</td>\n      <td>t</td>\n    </tr>\n    <tr>\n      <th>...</th>\n      <td>...</td>\n      <td>...</td>\n      <td>...</td>\n      <td>...</td>\n      <td>...</td>\n      <td>...</td>\n      <td>...</td>\n    </tr>\n    <tr>\n      <th>151</th>\n      <td>R12_PAO</td>\n      <td>HVC</td>\n      <td>demand</td>\n      <td>2025</td>\n      <td>year</td>\n      <td>11.000000</td>\n      <td>t</td>\n    </tr>\n    <tr>\n      <th>152</th>\n      <td>R12_PAS</td>\n      <td>HVC</td>\n      <td>demand</td>\n      <td>2025</td>\n      <td>year</td>\n      <td>37.500000</td>\n      <td>t</td>\n    </tr>\n    <tr>\n      <th>153</th>\n      <td>R12_RCPA</td>\n      <td>HVC</td>\n      <td>demand</td>\n      <td>2025</td>\n      <td>year</td>\n      <td>10.700000</td>\n      <td>t</td>\n    </tr>\n    <tr>\n      <th>154</th>\n      <td>R12_SAS</td>\n      <td>HVC</td>\n      <td>demand</td>\n      <td>2025</td>\n      <td>year</td>\n      <td>29.200000</td>\n      <td>t</td>\n    </tr>\n    <tr>\n      <th>155</th>\n      <td>R12_WEU</td>\n      <td>HVC</td>\n      <td>demand</td>\n      <td>2025</td>\n      <td>year</td>\n      <td>50.500000</td>\n      <td>t</td>\n    </tr>\n  </tbody>\n</table>\n<p>156 rows × 7 columns</p>\n</div>"
     },
     "execution_count": 49,
     "metadata": {},
     "output_type": "execute_result"
    }
   ],
   "source": [
    "df"
   ],
   "metadata": {
    "collapsed": false,
    "ExecuteTime": {
     "end_time": "2023-11-23T15:36:22.137635700Z",
     "start_time": "2023-11-23T15:36:22.085727100Z"
    }
   },
   "id": "2f3408d63ca5432a"
  },
  {
   "cell_type": "code",
   "execution_count": 37,
   "outputs": [
    {
     "data": {
      "text/plain": "2025"
     },
     "execution_count": 37,
     "metadata": {},
     "output_type": "execute_result"
    }
   ],
   "source": [
    "scen.firstmodelyear"
   ],
   "metadata": {
    "collapsed": false,
    "ExecuteTime": {
     "end_time": "2023-11-23T14:42:10.504171500Z",
     "start_time": "2023-11-23T14:42:10.457063400Z"
    }
   },
   "id": "b841a5e58b768c5b"
  },
  {
   "cell_type": "code",
   "execution_count": 112,
   "outputs": [],
   "source": [
    "df_gdp = scen.par(\"gdp_calibrate\")"
   ],
   "metadata": {
    "collapsed": false,
    "ExecuteTime": {
     "end_time": "2023-11-23T16:07:20.225623900Z",
     "start_time": "2023-11-23T16:07:20.170634300Z"
    }
   },
   "id": "40d0282e9d3e7dc2"
  },
  {
   "cell_type": "code",
   "execution_count": 113,
   "outputs": [],
   "source": [
    "df_gdp = df_gdp.set_index(\"node\")\n",
    "df_gdp = df_gdp.join(df_gdp[df_gdp[\"year\"]==2020][\"value\"], rsuffix=\"_2020\")\n",
    "df_gdp[\"growth\"] = (df_gdp[\"value\"] / df_gdp[\"value_2020\"])-1"
   ],
   "metadata": {
    "collapsed": false,
    "ExecuteTime": {
     "end_time": "2023-11-23T16:07:20.434690600Z",
     "start_time": "2023-11-23T16:07:20.385791200Z"
    }
   },
   "id": "f2eb8581f5c11c5"
  },
  {
   "cell_type": "code",
   "execution_count": 114,
   "outputs": [
    {
     "data": {
      "text/plain": "         year        value unit   value_2020    growth\nnode                                                  \nR12_AFR  2020    998.98924   T$    998.98924  0.000000\nR12_AFR  2025   1368.01863   T$    998.98924  0.369403\nR12_AFR  2030   1856.87524   T$    998.98924  0.858754\nR12_AFR  2035   2479.36677   T$    998.98924  1.481875\nR12_AFR  2040   3314.60341   T$    998.98924  2.317957\n...       ...          ...  ...          ...       ...\nR12_WEU  2070  38793.79891   T$  13849.19218  1.801160\nR12_WEU  2080  45819.24718   T$  13849.19218  2.308442\nR12_WEU  2090  52976.57491   T$  13849.19218  2.825247\nR12_WEU  2100  59671.75882   T$  13849.19218  3.308682\nR12_WEU  2110  59671.75882   T$  13849.19218  3.308682\n\n[168 rows x 5 columns]",
      "text/html": "<div>\n<style scoped>\n    .dataframe tbody tr th:only-of-type {\n        vertical-align: middle;\n    }\n\n    .dataframe tbody tr th {\n        vertical-align: top;\n    }\n\n    .dataframe thead th {\n        text-align: right;\n    }\n</style>\n<table border=\"1\" class=\"dataframe\">\n  <thead>\n    <tr style=\"text-align: right;\">\n      <th></th>\n      <th>year</th>\n      <th>value</th>\n      <th>unit</th>\n      <th>value_2020</th>\n      <th>growth</th>\n    </tr>\n    <tr>\n      <th>node</th>\n      <th></th>\n      <th></th>\n      <th></th>\n      <th></th>\n      <th></th>\n    </tr>\n  </thead>\n  <tbody>\n    <tr>\n      <th>R12_AFR</th>\n      <td>2020</td>\n      <td>998.98924</td>\n      <td>T$</td>\n      <td>998.98924</td>\n      <td>0.000000</td>\n    </tr>\n    <tr>\n      <th>R12_AFR</th>\n      <td>2025</td>\n      <td>1368.01863</td>\n      <td>T$</td>\n      <td>998.98924</td>\n      <td>0.369403</td>\n    </tr>\n    <tr>\n      <th>R12_AFR</th>\n      <td>2030</td>\n      <td>1856.87524</td>\n      <td>T$</td>\n      <td>998.98924</td>\n      <td>0.858754</td>\n    </tr>\n    <tr>\n      <th>R12_AFR</th>\n      <td>2035</td>\n      <td>2479.36677</td>\n      <td>T$</td>\n      <td>998.98924</td>\n      <td>1.481875</td>\n    </tr>\n    <tr>\n      <th>R12_AFR</th>\n      <td>2040</td>\n      <td>3314.60341</td>\n      <td>T$</td>\n      <td>998.98924</td>\n      <td>2.317957</td>\n    </tr>\n    <tr>\n      <th>...</th>\n      <td>...</td>\n      <td>...</td>\n      <td>...</td>\n      <td>...</td>\n      <td>...</td>\n    </tr>\n    <tr>\n      <th>R12_WEU</th>\n      <td>2070</td>\n      <td>38793.79891</td>\n      <td>T$</td>\n      <td>13849.19218</td>\n      <td>1.801160</td>\n    </tr>\n    <tr>\n      <th>R12_WEU</th>\n      <td>2080</td>\n      <td>45819.24718</td>\n      <td>T$</td>\n      <td>13849.19218</td>\n      <td>2.308442</td>\n    </tr>\n    <tr>\n      <th>R12_WEU</th>\n      <td>2090</td>\n      <td>52976.57491</td>\n      <td>T$</td>\n      <td>13849.19218</td>\n      <td>2.825247</td>\n    </tr>\n    <tr>\n      <th>R12_WEU</th>\n      <td>2100</td>\n      <td>59671.75882</td>\n      <td>T$</td>\n      <td>13849.19218</td>\n      <td>3.308682</td>\n    </tr>\n    <tr>\n      <th>R12_WEU</th>\n      <td>2110</td>\n      <td>59671.75882</td>\n      <td>T$</td>\n      <td>13849.19218</td>\n      <td>3.308682</td>\n    </tr>\n  </tbody>\n</table>\n<p>168 rows × 5 columns</p>\n</div>"
     },
     "execution_count": 114,
     "metadata": {},
     "output_type": "execute_result"
    }
   ],
   "source": [
    "df_gdp"
   ],
   "metadata": {
    "collapsed": false,
    "ExecuteTime": {
     "end_time": "2023-11-23T16:07:20.866898900Z",
     "start_time": "2023-11-23T16:07:20.819939400Z"
    }
   },
   "id": "c7a7c51e9e511da5"
  },
  {
   "cell_type": "code",
   "execution_count": 92,
   "outputs": [
    {
     "data": {
      "text/plain": "         node  year        value unit   growth_abs\n0     R12_AFR  2020    998.98924   T$          NaN\n140   R12_CHN  2020  12597.24955   T$ -84206.84352\n14    R12_EEU  2020   1782.52848   T$ -68011.55969\n98    R12_FSU  2020   2824.38360   T$  -5491.21456\n28    R12_LAM  2020   4997.59636   T$ -13906.42139\n42    R12_MEA  2020   3620.98548   T$ -45701.43853\n56    R12_NAM  2020  18030.12282   T$ -30434.35428\n112   R12_PAO  2020   4865.43755   T$ -50091.24951\n126   R12_PAS  2020   4867.54648   T$  -8906.70881\n154  R12_RCPA  2020    354.01999   T$ -43266.03017\n70    R12_SAS  2020   2559.91153   T$  -3893.55831\n84    R12_WEU  2020  13849.19218   T$ -90687.68030",
      "text/html": "<div>\n<style scoped>\n    .dataframe tbody tr th:only-of-type {\n        vertical-align: middle;\n    }\n\n    .dataframe tbody tr th {\n        vertical-align: top;\n    }\n\n    .dataframe thead th {\n        text-align: right;\n    }\n</style>\n<table border=\"1\" class=\"dataframe\">\n  <thead>\n    <tr style=\"text-align: right;\">\n      <th></th>\n      <th>node</th>\n      <th>year</th>\n      <th>value</th>\n      <th>unit</th>\n      <th>growth_abs</th>\n    </tr>\n  </thead>\n  <tbody>\n    <tr>\n      <th>0</th>\n      <td>R12_AFR</td>\n      <td>2020</td>\n      <td>998.98924</td>\n      <td>T$</td>\n      <td>NaN</td>\n    </tr>\n    <tr>\n      <th>140</th>\n      <td>R12_CHN</td>\n      <td>2020</td>\n      <td>12597.24955</td>\n      <td>T$</td>\n      <td>-84206.84352</td>\n    </tr>\n    <tr>\n      <th>14</th>\n      <td>R12_EEU</td>\n      <td>2020</td>\n      <td>1782.52848</td>\n      <td>T$</td>\n      <td>-68011.55969</td>\n    </tr>\n    <tr>\n      <th>98</th>\n      <td>R12_FSU</td>\n      <td>2020</td>\n      <td>2824.38360</td>\n      <td>T$</td>\n      <td>-5491.21456</td>\n    </tr>\n    <tr>\n      <th>28</th>\n      <td>R12_LAM</td>\n      <td>2020</td>\n      <td>4997.59636</td>\n      <td>T$</td>\n      <td>-13906.42139</td>\n    </tr>\n    <tr>\n      <th>42</th>\n      <td>R12_MEA</td>\n      <td>2020</td>\n      <td>3620.98548</td>\n      <td>T$</td>\n      <td>-45701.43853</td>\n    </tr>\n    <tr>\n      <th>56</th>\n      <td>R12_NAM</td>\n      <td>2020</td>\n      <td>18030.12282</td>\n      <td>T$</td>\n      <td>-30434.35428</td>\n    </tr>\n    <tr>\n      <th>112</th>\n      <td>R12_PAO</td>\n      <td>2020</td>\n      <td>4865.43755</td>\n      <td>T$</td>\n      <td>-50091.24951</td>\n    </tr>\n    <tr>\n      <th>126</th>\n      <td>R12_PAS</td>\n      <td>2020</td>\n      <td>4867.54648</td>\n      <td>T$</td>\n      <td>-8906.70881</td>\n    </tr>\n    <tr>\n      <th>154</th>\n      <td>R12_RCPA</td>\n      <td>2020</td>\n      <td>354.01999</td>\n      <td>T$</td>\n      <td>-43266.03017</td>\n    </tr>\n    <tr>\n      <th>70</th>\n      <td>R12_SAS</td>\n      <td>2020</td>\n      <td>2559.91153</td>\n      <td>T$</td>\n      <td>-3893.55831</td>\n    </tr>\n    <tr>\n      <th>84</th>\n      <td>R12_WEU</td>\n      <td>2020</td>\n      <td>13849.19218</td>\n      <td>T$</td>\n      <td>-90687.68030</td>\n    </tr>\n  </tbody>\n</table>\n</div>"
     },
     "execution_count": 92,
     "metadata": {},
     "output_type": "execute_result"
    }
   ],
   "source": [
    "df_gdp[df_gdp[\"year\"]==2020][\"value\"]"
   ],
   "metadata": {
    "collapsed": false,
    "ExecuteTime": {
     "end_time": "2023-11-23T16:03:57.582043300Z",
     "start_time": "2023-11-23T16:03:57.505271100Z"
    }
   },
   "id": "5ddadd5106a8ebf4"
  },
  {
   "cell_type": "code",
   "execution_count": 84,
   "outputs": [],
   "source": [
    "#df_gdp_gro = pd.concat([df_gdp, ], axis=1)\n",
    "df_gdp[\"growth_rel\"] = df_gdp[\"growth_abs\"].cumsum() / df_gdp[\"value\"]"
   ],
   "metadata": {
    "collapsed": false,
    "ExecuteTime": {
     "start_time": "2023-11-23T16:00:40.108836Z"
    }
   },
   "id": "f889f4dd6457b0e9"
  },
  {
   "cell_type": "code",
   "execution_count": 73,
   "outputs": [
    {
     "data": {
      "text/plain": "         node  year       value unit\n0     R12_AFR  2020   998.98924   T$\n1     R12_AFR  2025  1368.01863   T$\n2     R12_AFR  2030  1856.87524   T$\n3     R12_AFR  2035  2479.36677   T$\n4     R12_AFR  2040  3314.60341   T$\n..        ...   ...         ...  ...\n163  R12_RCPA  2070  3360.28429   T$\n164  R12_RCPA  2080  4304.25447   T$\n165  R12_RCPA  2090  5373.51508   T$\n166  R12_RCPA  2100  6453.46984   T$\n167  R12_RCPA  2110  6453.46984   T$\n\n[168 rows x 4 columns]",
      "text/html": "<div>\n<style scoped>\n    .dataframe tbody tr th:only-of-type {\n        vertical-align: middle;\n    }\n\n    .dataframe tbody tr th {\n        vertical-align: top;\n    }\n\n    .dataframe thead th {\n        text-align: right;\n    }\n</style>\n<table border=\"1\" class=\"dataframe\">\n  <thead>\n    <tr style=\"text-align: right;\">\n      <th></th>\n      <th>node</th>\n      <th>year</th>\n      <th>value</th>\n      <th>unit</th>\n    </tr>\n  </thead>\n  <tbody>\n    <tr>\n      <th>0</th>\n      <td>R12_AFR</td>\n      <td>2020</td>\n      <td>998.98924</td>\n      <td>T$</td>\n    </tr>\n    <tr>\n      <th>1</th>\n      <td>R12_AFR</td>\n      <td>2025</td>\n      <td>1368.01863</td>\n      <td>T$</td>\n    </tr>\n    <tr>\n      <th>2</th>\n      <td>R12_AFR</td>\n      <td>2030</td>\n      <td>1856.87524</td>\n      <td>T$</td>\n    </tr>\n    <tr>\n      <th>3</th>\n      <td>R12_AFR</td>\n      <td>2035</td>\n      <td>2479.36677</td>\n      <td>T$</td>\n    </tr>\n    <tr>\n      <th>4</th>\n      <td>R12_AFR</td>\n      <td>2040</td>\n      <td>3314.60341</td>\n      <td>T$</td>\n    </tr>\n    <tr>\n      <th>...</th>\n      <td>...</td>\n      <td>...</td>\n      <td>...</td>\n      <td>...</td>\n    </tr>\n    <tr>\n      <th>163</th>\n      <td>R12_RCPA</td>\n      <td>2070</td>\n      <td>3360.28429</td>\n      <td>T$</td>\n    </tr>\n    <tr>\n      <th>164</th>\n      <td>R12_RCPA</td>\n      <td>2080</td>\n      <td>4304.25447</td>\n      <td>T$</td>\n    </tr>\n    <tr>\n      <th>165</th>\n      <td>R12_RCPA</td>\n      <td>2090</td>\n      <td>5373.51508</td>\n      <td>T$</td>\n    </tr>\n    <tr>\n      <th>166</th>\n      <td>R12_RCPA</td>\n      <td>2100</td>\n      <td>6453.46984</td>\n      <td>T$</td>\n    </tr>\n    <tr>\n      <th>167</th>\n      <td>R12_RCPA</td>\n      <td>2110</td>\n      <td>6453.46984</td>\n      <td>T$</td>\n    </tr>\n  </tbody>\n</table>\n<p>168 rows × 4 columns</p>\n</div>"
     },
     "execution_count": 73,
     "metadata": {},
     "output_type": "execute_result"
    }
   ],
   "source": [
    "scen.par(\"gdp_calibrate\")"
   ],
   "metadata": {
    "collapsed": false,
    "ExecuteTime": {
     "start_time": "2023-11-23T15:50:24.321689200Z"
    }
   },
   "id": "cb0f0cd0ecb06cb1"
  },
  {
   "cell_type": "code",
   "execution_count": 65,
   "outputs": [
    {
     "data": {
      "text/plain": "0        18.552009\n1        55.053443\n2        96.956958\n3       139.034792\n4       135.760735\n          ...     \n190    7025.448265\n191    7157.327735\n192    6695.183911\n193       0.000000\n194            NaN\nName: value, Length: 240, dtype: float64"
     },
     "execution_count": 65,
     "metadata": {},
     "output_type": "execute_result"
    }
   ],
   "source": [
    "df_gdp[\"value\"].diff().shift(-1)"
   ],
   "metadata": {
    "collapsed": false,
    "ExecuteTime": {
     "end_time": "2023-11-23T15:42:53.399086500Z",
     "start_time": "2023-11-23T15:42:53.314295800Z"
    }
   },
   "id": "ab5bf200d0f3b2c5"
  },
  {
   "cell_type": "code",
   "execution_count": null,
   "outputs": [],
   "source": [],
   "metadata": {
    "collapsed": false
   },
   "id": "f1ed71a6bb560d34"
  },
  {
   "cell_type": "code",
   "execution_count": 119,
   "outputs": [],
   "source": [
    "from message_data.model.material.material_demand import refactor_mat_demand_calc"
   ],
   "metadata": {
    "collapsed": false,
    "ExecuteTime": {
     "end_time": "2023-11-24T09:18:11.864211800Z",
     "start_time": "2023-11-24T09:18:11.779779900Z"
    }
   },
   "id": "681b232fd2af6a05"
  },
  {
   "cell_type": "code",
   "execution_count": 129,
   "outputs": [
    {
     "name": "stdout",
     "output_type": "stream",
     "text": [
      "Index([   'Model', 'Scenario',   'Region', 'Variable',     'Unit',       2000,\n",
      "             2005,       2010,       2015,       2020,       2025,       2030,\n",
      "             2035,       2040,       2045,       2050,       2055,       2060,\n",
      "             2070,       2080,       2090,       2100,       2110,    'Notes'],\n",
      "      dtype='object')\n",
      "Index(['TIMER Region',   'Unnamed: 1',            't',           1970,\n",
      "                 1971,           1972,           1973,           1974,\n",
      "                 1975,           1976,           1977,           1978,\n",
      "                 1979,           1980,           1981,           1982,\n",
      "                 1983,           1984,           1985,           1986,\n",
      "                 1987,           1988,           1989,           1990,\n",
      "                 1991,           1992,           1993,           1994,\n",
      "                 1995,           1996,           1997,           1998,\n",
      "                 1999,           2000,           2001,           2002,\n",
      "                 2003,           2004,           2005,           2006,\n",
      "                 2007,           2008,           2009,           2010,\n",
      "                 2011,           2012],\n",
      "      dtype='object')\n"
     ]
    },
    {
     "ename": "KeyError",
     "evalue": "'Reg_no'",
     "output_type": "error",
     "traceback": [
      "\u001B[1;31m---------------------------------------------------------------------------\u001B[0m",
      "\u001B[1;31mKeyError\u001B[0m                                  Traceback (most recent call last)",
      "File \u001B[1;32m~\\Anaconda3\\lib\\site-packages\\pandas\\core\\indexes\\base.py:3621\u001B[0m, in \u001B[0;36mIndex.get_loc\u001B[1;34m(self, key, method, tolerance)\u001B[0m\n\u001B[0;32m   3620\u001B[0m \u001B[38;5;28;01mtry\u001B[39;00m:\n\u001B[1;32m-> 3621\u001B[0m     \u001B[38;5;28;01mreturn\u001B[39;00m \u001B[38;5;28;43mself\u001B[39;49m\u001B[38;5;241;43m.\u001B[39;49m\u001B[43m_engine\u001B[49m\u001B[38;5;241;43m.\u001B[39;49m\u001B[43mget_loc\u001B[49m\u001B[43m(\u001B[49m\u001B[43mcasted_key\u001B[49m\u001B[43m)\u001B[49m\n\u001B[0;32m   3622\u001B[0m \u001B[38;5;28;01mexcept\u001B[39;00m \u001B[38;5;167;01mKeyError\u001B[39;00m \u001B[38;5;28;01mas\u001B[39;00m err:\n",
      "File \u001B[1;32m~\\Anaconda3\\lib\\site-packages\\pandas\\_libs\\index.pyx:136\u001B[0m, in \u001B[0;36mpandas._libs.index.IndexEngine.get_loc\u001B[1;34m()\u001B[0m\n",
      "File \u001B[1;32m~\\Anaconda3\\lib\\site-packages\\pandas\\_libs\\index.pyx:163\u001B[0m, in \u001B[0;36mpandas._libs.index.IndexEngine.get_loc\u001B[1;34m()\u001B[0m\n",
      "File \u001B[1;32mpandas\\_libs\\hashtable_class_helper.pxi:5198\u001B[0m, in \u001B[0;36mpandas._libs.hashtable.PyObjectHashTable.get_item\u001B[1;34m()\u001B[0m\n",
      "File \u001B[1;32mpandas\\_libs\\hashtable_class_helper.pxi:5206\u001B[0m, in \u001B[0;36mpandas._libs.hashtable.PyObjectHashTable.get_item\u001B[1;34m()\u001B[0m\n",
      "\u001B[1;31mKeyError\u001B[0m: 'Reg_no'",
      "\nThe above exception was the direct cause of the following exception:\n",
      "\u001B[1;31mKeyError\u001B[0m                                  Traceback (most recent call last)",
      "Input \u001B[1;32mIn [129]\u001B[0m, in \u001B[0;36m<cell line: 21>\u001B[1;34m()\u001B[0m\n\u001B[0;32m     16\u001B[0m base_demand \u001B[38;5;241m=\u001B[39m gen_mock_demand_aluminum(scen)\n\u001B[0;32m     17\u001B[0m base_demand \u001B[38;5;241m=\u001B[39m base_demand\u001B[38;5;241m.\u001B[39mloc[base_demand\u001B[38;5;241m.\u001B[39myear \u001B[38;5;241m==\u001B[39m \u001B[38;5;241m2020\u001B[39m]\u001B[38;5;241m.\u001B[39mrename(\n\u001B[0;32m     18\u001B[0m     columns\u001B[38;5;241m=\u001B[39m{\u001B[38;5;124m\"\u001B[39m\u001B[38;5;124mvalue\u001B[39m\u001B[38;5;124m\"\u001B[39m: \u001B[38;5;124m\"\u001B[39m\u001B[38;5;124mdemand.tot.base\u001B[39m\u001B[38;5;124m\"\u001B[39m, \u001B[38;5;124m\"\u001B[39m\u001B[38;5;124mnode\u001B[39m\u001B[38;5;124m\"\u001B[39m: \u001B[38;5;124m\"\u001B[39m\u001B[38;5;124mregion\u001B[39m\u001B[38;5;124m\"\u001B[39m}\n\u001B[0;32m     19\u001B[0m )\n\u001B[1;32m---> 21\u001B[0m \u001B[43mrefactor_mat_demand_calc\u001B[49m\u001B[38;5;241;43m.\u001B[39;49m\u001B[43mderive_steel_demand\u001B[49m\u001B[43m(\u001B[49m\u001B[43mpop\u001B[49m\u001B[43m,\u001B[49m\u001B[43m \u001B[49m\u001B[43mbase_demand\u001B[49m\u001B[43m,\u001B[49m\u001B[43m \u001B[49m\u001B[38;5;28;43mstr\u001B[39;49m\u001B[43m(\u001B[49m\u001B[43mprivate_data_path\u001B[49m\u001B[43m(\u001B[49m\u001B[38;5;124;43m\"\u001B[39;49m\u001B[38;5;124;43mmaterial\u001B[39;49m\u001B[38;5;124;43m\"\u001B[39;49m\u001B[43m)\u001B[49m\u001B[43m)\u001B[49m\u001B[43m)\u001B[49m\n",
      "File \u001B[1;32m~\\PycharmProjects\\message_data\\message_data\\model\\material\\material_demand\\refactor_mat_demand_calc.py:38\u001B[0m, in \u001B[0;36mderive_steel_demand\u001B[1;34m(df_pop, df_demand, datapath)\u001B[0m\n\u001B[0;32m     36\u001B[0m     df_raw_steel_consumption.drop(columns='Unnamed: 2')\n\u001B[0;32m     37\u001B[0m     .melt(id_vars='Reg_no', var_name='year', value_name='consumption')\n\u001B[1;32m---> 38\u001B[0m )\n\u001B[0;32m     39\u001B[0m \n\u001B[0;32m     40\u001B[0m # Read population data\n",
      "File \u001B[1;32m~\\Anaconda3\\lib\\site-packages\\pandas\\core\\frame.py:8434\u001B[0m, in \u001B[0;36mDataFrame.melt\u001B[1;34m(self, id_vars, value_vars, var_name, value_name, col_level, ignore_index)\u001B[0m\n\u001B[0;32m   8423\u001B[0m \u001B[38;5;129m@Appender\u001B[39m(_shared_docs[\u001B[38;5;124m\"\u001B[39m\u001B[38;5;124mmelt\u001B[39m\u001B[38;5;124m\"\u001B[39m] \u001B[38;5;241m%\u001B[39m {\u001B[38;5;124m\"\u001B[39m\u001B[38;5;124mcaller\u001B[39m\u001B[38;5;124m\"\u001B[39m: \u001B[38;5;124m\"\u001B[39m\u001B[38;5;124mdf.melt(\u001B[39m\u001B[38;5;124m\"\u001B[39m, \u001B[38;5;124m\"\u001B[39m\u001B[38;5;124mother\u001B[39m\u001B[38;5;124m\"\u001B[39m: \u001B[38;5;124m\"\u001B[39m\u001B[38;5;124mmelt\u001B[39m\u001B[38;5;124m\"\u001B[39m})\n\u001B[0;32m   8424\u001B[0m \u001B[38;5;28;01mdef\u001B[39;00m \u001B[38;5;21mmelt\u001B[39m(\n\u001B[0;32m   8425\u001B[0m     \u001B[38;5;28mself\u001B[39m,\n\u001B[1;32m   (...)\u001B[0m\n\u001B[0;32m   8431\u001B[0m     ignore_index: \u001B[38;5;28mbool\u001B[39m \u001B[38;5;241m=\u001B[39m \u001B[38;5;28;01mTrue\u001B[39;00m,\n\u001B[0;32m   8432\u001B[0m ) \u001B[38;5;241m-\u001B[39m\u001B[38;5;241m>\u001B[39m DataFrame:\n\u001B[1;32m-> 8434\u001B[0m     \u001B[38;5;28;01mreturn\u001B[39;00m \u001B[43mmelt\u001B[49m\u001B[43m(\u001B[49m\n\u001B[0;32m   8435\u001B[0m \u001B[43m        \u001B[49m\u001B[38;5;28;43mself\u001B[39;49m\u001B[43m,\u001B[49m\n\u001B[0;32m   8436\u001B[0m \u001B[43m        \u001B[49m\u001B[43mid_vars\u001B[49m\u001B[38;5;241;43m=\u001B[39;49m\u001B[43mid_vars\u001B[49m\u001B[43m,\u001B[49m\n\u001B[0;32m   8437\u001B[0m \u001B[43m        \u001B[49m\u001B[43mvalue_vars\u001B[49m\u001B[38;5;241;43m=\u001B[39;49m\u001B[43mvalue_vars\u001B[49m\u001B[43m,\u001B[49m\n\u001B[0;32m   8438\u001B[0m \u001B[43m        \u001B[49m\u001B[43mvar_name\u001B[49m\u001B[38;5;241;43m=\u001B[39;49m\u001B[43mvar_name\u001B[49m\u001B[43m,\u001B[49m\n\u001B[0;32m   8439\u001B[0m \u001B[43m        \u001B[49m\u001B[43mvalue_name\u001B[49m\u001B[38;5;241;43m=\u001B[39;49m\u001B[43mvalue_name\u001B[49m\u001B[43m,\u001B[49m\n\u001B[0;32m   8440\u001B[0m \u001B[43m        \u001B[49m\u001B[43mcol_level\u001B[49m\u001B[38;5;241;43m=\u001B[39;49m\u001B[43mcol_level\u001B[49m\u001B[43m,\u001B[49m\n\u001B[0;32m   8441\u001B[0m \u001B[43m        \u001B[49m\u001B[43mignore_index\u001B[49m\u001B[38;5;241;43m=\u001B[39;49m\u001B[43mignore_index\u001B[49m\u001B[43m,\u001B[49m\n\u001B[0;32m   8442\u001B[0m \u001B[43m    \u001B[49m\u001B[43m)\u001B[49m\n",
      "File \u001B[1;32m~\\Anaconda3\\lib\\site-packages\\pandas\\core\\reshape\\melt.py:132\u001B[0m, in \u001B[0;36mmelt\u001B[1;34m(frame, id_vars, value_vars, var_name, value_name, col_level, ignore_index)\u001B[0m\n\u001B[0;32m    130\u001B[0m mdata \u001B[38;5;241m=\u001B[39m {}\n\u001B[0;32m    131\u001B[0m \u001B[38;5;28;01mfor\u001B[39;00m col \u001B[38;5;129;01min\u001B[39;00m id_vars:\n\u001B[1;32m--> 132\u001B[0m     id_data \u001B[38;5;241m=\u001B[39m \u001B[43mframe\u001B[49m\u001B[38;5;241;43m.\u001B[39;49m\u001B[43mpop\u001B[49m\u001B[43m(\u001B[49m\u001B[43mcol\u001B[49m\u001B[43m)\u001B[49m\n\u001B[0;32m    133\u001B[0m     \u001B[38;5;28;01mif\u001B[39;00m is_extension_array_dtype(id_data):\n\u001B[0;32m    134\u001B[0m         id_data \u001B[38;5;241m=\u001B[39m concat([id_data] \u001B[38;5;241m*\u001B[39m K, ignore_index\u001B[38;5;241m=\u001B[39m\u001B[38;5;28;01mTrue\u001B[39;00m)\n",
      "File \u001B[1;32m~\\Anaconda3\\lib\\site-packages\\pandas\\core\\frame.py:5270\u001B[0m, in \u001B[0;36mDataFrame.pop\u001B[1;34m(self, item)\u001B[0m\n\u001B[0;32m   5229\u001B[0m \u001B[38;5;28;01mdef\u001B[39;00m \u001B[38;5;21mpop\u001B[39m(\u001B[38;5;28mself\u001B[39m, item: Hashable) \u001B[38;5;241m-\u001B[39m\u001B[38;5;241m>\u001B[39m Series:\n\u001B[0;32m   5230\u001B[0m     \u001B[38;5;124;03m\"\"\"\u001B[39;00m\n\u001B[0;32m   5231\u001B[0m \u001B[38;5;124;03m    Return item and drop from frame. Raise KeyError if not found.\u001B[39;00m\n\u001B[0;32m   5232\u001B[0m \n\u001B[1;32m   (...)\u001B[0m\n\u001B[0;32m   5268\u001B[0m \u001B[38;5;124;03m    3  monkey        NaN\u001B[39;00m\n\u001B[0;32m   5269\u001B[0m \u001B[38;5;124;03m    \"\"\"\u001B[39;00m\n\u001B[1;32m-> 5270\u001B[0m     \u001B[38;5;28;01mreturn\u001B[39;00m \u001B[38;5;28;43msuper\u001B[39;49m\u001B[43m(\u001B[49m\u001B[43m)\u001B[49m\u001B[38;5;241;43m.\u001B[39;49m\u001B[43mpop\u001B[49m\u001B[43m(\u001B[49m\u001B[43mitem\u001B[49m\u001B[38;5;241;43m=\u001B[39;49m\u001B[43mitem\u001B[49m\u001B[43m)\u001B[49m\n",
      "File \u001B[1;32m~\\Anaconda3\\lib\\site-packages\\pandas\\core\\generic.py:865\u001B[0m, in \u001B[0;36mNDFrame.pop\u001B[1;34m(self, item)\u001B[0m\n\u001B[0;32m    864\u001B[0m \u001B[38;5;28;01mdef\u001B[39;00m \u001B[38;5;21mpop\u001B[39m(\u001B[38;5;28mself\u001B[39m, item: Hashable) \u001B[38;5;241m-\u001B[39m\u001B[38;5;241m>\u001B[39m Series \u001B[38;5;241m|\u001B[39m Any:\n\u001B[1;32m--> 865\u001B[0m     result \u001B[38;5;241m=\u001B[39m \u001B[38;5;28;43mself\u001B[39;49m\u001B[43m[\u001B[49m\u001B[43mitem\u001B[49m\u001B[43m]\u001B[49m\n\u001B[0;32m    866\u001B[0m     \u001B[38;5;28;01mdel\u001B[39;00m \u001B[38;5;28mself\u001B[39m[item]\n\u001B[0;32m    868\u001B[0m     \u001B[38;5;28;01mreturn\u001B[39;00m result\n",
      "File \u001B[1;32m~\\Anaconda3\\lib\\site-packages\\pandas\\core\\frame.py:3505\u001B[0m, in \u001B[0;36mDataFrame.__getitem__\u001B[1;34m(self, key)\u001B[0m\n\u001B[0;32m   3503\u001B[0m \u001B[38;5;28;01mif\u001B[39;00m \u001B[38;5;28mself\u001B[39m\u001B[38;5;241m.\u001B[39mcolumns\u001B[38;5;241m.\u001B[39mnlevels \u001B[38;5;241m>\u001B[39m \u001B[38;5;241m1\u001B[39m:\n\u001B[0;32m   3504\u001B[0m     \u001B[38;5;28;01mreturn\u001B[39;00m \u001B[38;5;28mself\u001B[39m\u001B[38;5;241m.\u001B[39m_getitem_multilevel(key)\n\u001B[1;32m-> 3505\u001B[0m indexer \u001B[38;5;241m=\u001B[39m \u001B[38;5;28;43mself\u001B[39;49m\u001B[38;5;241;43m.\u001B[39;49m\u001B[43mcolumns\u001B[49m\u001B[38;5;241;43m.\u001B[39;49m\u001B[43mget_loc\u001B[49m\u001B[43m(\u001B[49m\u001B[43mkey\u001B[49m\u001B[43m)\u001B[49m\n\u001B[0;32m   3506\u001B[0m \u001B[38;5;28;01mif\u001B[39;00m is_integer(indexer):\n\u001B[0;32m   3507\u001B[0m     indexer \u001B[38;5;241m=\u001B[39m [indexer]\n",
      "File \u001B[1;32m~\\Anaconda3\\lib\\site-packages\\pandas\\core\\indexes\\base.py:3623\u001B[0m, in \u001B[0;36mIndex.get_loc\u001B[1;34m(self, key, method, tolerance)\u001B[0m\n\u001B[0;32m   3621\u001B[0m     \u001B[38;5;28;01mreturn\u001B[39;00m \u001B[38;5;28mself\u001B[39m\u001B[38;5;241m.\u001B[39m_engine\u001B[38;5;241m.\u001B[39mget_loc(casted_key)\n\u001B[0;32m   3622\u001B[0m \u001B[38;5;28;01mexcept\u001B[39;00m \u001B[38;5;167;01mKeyError\u001B[39;00m \u001B[38;5;28;01mas\u001B[39;00m err:\n\u001B[1;32m-> 3623\u001B[0m     \u001B[38;5;28;01mraise\u001B[39;00m \u001B[38;5;167;01mKeyError\u001B[39;00m(key) \u001B[38;5;28;01mfrom\u001B[39;00m \u001B[38;5;21;01merr\u001B[39;00m\n\u001B[0;32m   3624\u001B[0m \u001B[38;5;28;01mexcept\u001B[39;00m \u001B[38;5;167;01mTypeError\u001B[39;00m:\n\u001B[0;32m   3625\u001B[0m     \u001B[38;5;66;03m# If we have a listlike key, _check_indexing_error will raise\u001B[39;00m\n\u001B[0;32m   3626\u001B[0m     \u001B[38;5;66;03m#  InvalidIndexError. Otherwise we fall through and re-raise\u001B[39;00m\n\u001B[0;32m   3627\u001B[0m     \u001B[38;5;66;03m#  the TypeError.\u001B[39;00m\n\u001B[0;32m   3628\u001B[0m     \u001B[38;5;28mself\u001B[39m\u001B[38;5;241m.\u001B[39m_check_indexing_error(key)\n",
      "\u001B[1;31mKeyError\u001B[0m: 'Reg_no'"
     ]
    }
   ],
   "source": [
    "from message_ix_models.util import private_data_path\n",
    "from message_data.model.material.data_aluminum import gen_mock_demand_aluminum\n",
    "\n",
    "import importlib\n",
    "importlib.reload(refactor_mat_demand_calc)\n",
    "\n",
    "pop = scen.par(\"bound_activity_up\", {\"technology\": \"Population\"})\n",
    "pop = pop.loc[pop.year_act >= 2020].rename(\n",
    "    columns={\"year_act\": \"year\", \"value\": \"pop.mil\", \"node_loc\": \"region\"}\n",
    ")\n",
    "\n",
    "# import pdb; pdb.set_trace()\n",
    "\n",
    "pop = pop[[\"region\", \"year\", \"pop.mil\"]]\n",
    "\n",
    "base_demand = gen_mock_demand_aluminum(scen)\n",
    "base_demand = base_demand.loc[base_demand.year == 2020].rename(\n",
    "    columns={\"value\": \"demand.tot.base\", \"node\": \"region\"}\n",
    ")\n",
    "\n",
    "refactor_mat_demand_calc.derive_steel_demand(pop, base_demand, str(private_data_path(\"material\")))"
   ],
   "metadata": {
    "collapsed": false,
    "ExecuteTime": {
     "end_time": "2023-11-24T09:23:43.822801700Z",
     "start_time": "2023-11-24T09:23:43.236417500Z"
    }
   },
   "id": "5ebc89de5e68e22"
  },
  {
   "cell_type": "code",
   "execution_count": 24,
   "outputs": [
    {
     "data": {
      "text/plain": "                 Model  Scenario Region Variable  \\\n0   ENGAGE_SSP2_v4.1.5  baseline    AFR  GDP|PPP   \n1   ENGAGE_SSP2_v4.1.5  baseline   RCPA  GDP|PPP   \n2   ENGAGE_SSP2_v4.1.5  baseline    EEU  GDP|PPP   \n3   ENGAGE_SSP2_v4.1.5  baseline    FSU  GDP|PPP   \n4   ENGAGE_SSP2_v4.1.5  baseline    LAM  GDP|PPP   \n5   ENGAGE_SSP2_v4.1.5  baseline    MEA  GDP|PPP   \n6   ENGAGE_SSP2_v4.1.5  baseline    NAM  GDP|PPP   \n7   ENGAGE_SSP2_v4.1.5  baseline    PAO  GDP|PPP   \n8   ENGAGE_SSP2_v4.1.5  baseline    PAS  GDP|PPP   \n9   ENGAGE_SSP2_v4.1.5  baseline    SAS  GDP|PPP   \n10  ENGAGE_SSP2_v4.1.5  baseline    WEU  GDP|PPP   \n11                   -  baseline    CHN  GDP|PPP   \n\n                                    Unit        2010          2015  \\\n0   billion US$2010/yr OR local currency   1794.2820   2402.228030   \n1   billion US$2010/yr OR local currency   1079.8701   2150.548072   \n2   billion US$2010/yr OR local currency   2076.9590   2618.822609   \n3   billion US$2010/yr OR local currency   3162.3830   4356.569587   \n4   billion US$2010/yr OR local currency   6463.3140   8526.634978   \n5   billion US$2010/yr OR local currency   4119.7470   5191.844904   \n6   billion US$2010/yr OR local currency  15903.0700  16473.205062   \n7   billion US$2010/yr OR local currency   5323.9890   5498.664307   \n8   billion US$2010/yr OR local currency   5112.7630   6593.728910   \n9   billion US$2010/yr OR local currency   4943.5830   7639.789695   \n10  billion US$2010/yr OR local currency  15126.8600  15885.840026   \n11  billion US$2010/yr OR local currency   9718.8309  19354.932650   \n\n            2020          2025          2030  ...          2040          2045  \\\n0    3084.364057   4244.401513   5306.159830  ...   8819.133966  11918.121112   \n1    2373.445674   3270.479945   3893.061971  ...   5073.624444   5537.560712   \n2    2730.706601   3143.074779   3501.253203  ...   4256.420498   4597.068272   \n3    4731.600636   5781.870531   6651.451416  ...   8506.190346   9251.644256   \n4    9420.268593  11361.550043  12958.770551  ...  16842.884509  19144.971803   \n5    6351.518847   8052.544729   9560.925873  ...  13412.104505  15685.103462   \n6   20642.913911  23092.253472  25377.748594  ...  29535.387817  31456.430747   \n7    6170.836262   6626.157558   7058.364196  ...   7782.799460   8172.236645   \n8    8074.694821  10087.804348  11864.037191  ...  15989.457685  18306.797895   \n9    9198.303861  13133.949690  15990.168190  ...  25016.096851  31679.807625   \n10  18046.985482  19720.652041  21315.555794  ...  25135.170593  27351.221411   \n11  21361.011063  29434.319503  35037.557742  ...  45662.620000  49838.046404   \n\n            2050          2055          2060          2070          2080  \\\n0   14602.417875  19755.749042  23807.218699  37616.622442  56865.524017   \n1    5964.216044   6245.074034   6503.801283   6880.935088   7096.848967   \n2    4910.855123   5246.396492   5553.862302   6242.035364   6847.727435   \n3    9950.008692  10722.125627  11446.507830  13192.598513  14735.329180   \n4   21230.787541  23785.112717  26129.992341  31454.646621  37181.975468   \n5   17790.488063  20402.696892  22849.032178  28824.680775  35379.951669   \n6   33290.073322  35187.978277  36999.868551  40983.108844  44752.779080   \n7    8539.725624   8980.617553   9391.395793  10315.595017  11207.031058   \n8   20390.026395  22741.413604  24982.135093  29828.339187  34700.948700   \n9   36496.175849  44208.145112  50386.897810  66407.736884  83868.117540   \n10  29432.165059  31909.731358  34205.015495  39523.950514  44994.729214   \n11  53677.944399  56205.666302  58534.211546  61928.415791  63871.640704   \n\n             2090           2100           2110  \n0    81978.281459  112862.365070  155381.562316  \n1     7207.835099    7292.012794    7377.173569  \n2     7413.134880    7998.343398    8629.749513  \n3    16214.272854   17702.925869   19328.254011  \n4    43231.355239   49620.005864   56952.759595  \n5    42596.412518   50429.418189   59702.826330  \n6    48349.422545   51744.756419   55378.527310  \n7    12090.062676   12969.968251   13913.912686  \n8    39529.321059   44257.183183   49550.516195  \n9   102061.793719  120825.538934  143038.940693  \n10   50555.126628   56171.213456   62411.182238  \n11   64870.515894   65628.115143   66394.562119  \n\n[12 rows x 21 columns]",
      "text/html": "<div>\n<style scoped>\n    .dataframe tbody tr th:only-of-type {\n        vertical-align: middle;\n    }\n\n    .dataframe tbody tr th {\n        vertical-align: top;\n    }\n\n    .dataframe thead th {\n        text-align: right;\n    }\n</style>\n<table border=\"1\" class=\"dataframe\">\n  <thead>\n    <tr style=\"text-align: right;\">\n      <th></th>\n      <th>Model</th>\n      <th>Scenario</th>\n      <th>Region</th>\n      <th>Variable</th>\n      <th>Unit</th>\n      <th>2010</th>\n      <th>2015</th>\n      <th>2020</th>\n      <th>2025</th>\n      <th>2030</th>\n      <th>...</th>\n      <th>2040</th>\n      <th>2045</th>\n      <th>2050</th>\n      <th>2055</th>\n      <th>2060</th>\n      <th>2070</th>\n      <th>2080</th>\n      <th>2090</th>\n      <th>2100</th>\n      <th>2110</th>\n    </tr>\n  </thead>\n  <tbody>\n    <tr>\n      <th>0</th>\n      <td>ENGAGE_SSP2_v4.1.5</td>\n      <td>baseline</td>\n      <td>AFR</td>\n      <td>GDP|PPP</td>\n      <td>billion US$2010/yr OR local currency</td>\n      <td>1794.2820</td>\n      <td>2402.228030</td>\n      <td>3084.364057</td>\n      <td>4244.401513</td>\n      <td>5306.159830</td>\n      <td>...</td>\n      <td>8819.133966</td>\n      <td>11918.121112</td>\n      <td>14602.417875</td>\n      <td>19755.749042</td>\n      <td>23807.218699</td>\n      <td>37616.622442</td>\n      <td>56865.524017</td>\n      <td>81978.281459</td>\n      <td>112862.365070</td>\n      <td>155381.562316</td>\n    </tr>\n    <tr>\n      <th>1</th>\n      <td>ENGAGE_SSP2_v4.1.5</td>\n      <td>baseline</td>\n      <td>RCPA</td>\n      <td>GDP|PPP</td>\n      <td>billion US$2010/yr OR local currency</td>\n      <td>1079.8701</td>\n      <td>2150.548072</td>\n      <td>2373.445674</td>\n      <td>3270.479945</td>\n      <td>3893.061971</td>\n      <td>...</td>\n      <td>5073.624444</td>\n      <td>5537.560712</td>\n      <td>5964.216044</td>\n      <td>6245.074034</td>\n      <td>6503.801283</td>\n      <td>6880.935088</td>\n      <td>7096.848967</td>\n      <td>7207.835099</td>\n      <td>7292.012794</td>\n      <td>7377.173569</td>\n    </tr>\n    <tr>\n      <th>2</th>\n      <td>ENGAGE_SSP2_v4.1.5</td>\n      <td>baseline</td>\n      <td>EEU</td>\n      <td>GDP|PPP</td>\n      <td>billion US$2010/yr OR local currency</td>\n      <td>2076.9590</td>\n      <td>2618.822609</td>\n      <td>2730.706601</td>\n      <td>3143.074779</td>\n      <td>3501.253203</td>\n      <td>...</td>\n      <td>4256.420498</td>\n      <td>4597.068272</td>\n      <td>4910.855123</td>\n      <td>5246.396492</td>\n      <td>5553.862302</td>\n      <td>6242.035364</td>\n      <td>6847.727435</td>\n      <td>7413.134880</td>\n      <td>7998.343398</td>\n      <td>8629.749513</td>\n    </tr>\n    <tr>\n      <th>3</th>\n      <td>ENGAGE_SSP2_v4.1.5</td>\n      <td>baseline</td>\n      <td>FSU</td>\n      <td>GDP|PPP</td>\n      <td>billion US$2010/yr OR local currency</td>\n      <td>3162.3830</td>\n      <td>4356.569587</td>\n      <td>4731.600636</td>\n      <td>5781.870531</td>\n      <td>6651.451416</td>\n      <td>...</td>\n      <td>8506.190346</td>\n      <td>9251.644256</td>\n      <td>9950.008692</td>\n      <td>10722.125627</td>\n      <td>11446.507830</td>\n      <td>13192.598513</td>\n      <td>14735.329180</td>\n      <td>16214.272854</td>\n      <td>17702.925869</td>\n      <td>19328.254011</td>\n    </tr>\n    <tr>\n      <th>4</th>\n      <td>ENGAGE_SSP2_v4.1.5</td>\n      <td>baseline</td>\n      <td>LAM</td>\n      <td>GDP|PPP</td>\n      <td>billion US$2010/yr OR local currency</td>\n      <td>6463.3140</td>\n      <td>8526.634978</td>\n      <td>9420.268593</td>\n      <td>11361.550043</td>\n      <td>12958.770551</td>\n      <td>...</td>\n      <td>16842.884509</td>\n      <td>19144.971803</td>\n      <td>21230.787541</td>\n      <td>23785.112717</td>\n      <td>26129.992341</td>\n      <td>31454.646621</td>\n      <td>37181.975468</td>\n      <td>43231.355239</td>\n      <td>49620.005864</td>\n      <td>56952.759595</td>\n    </tr>\n    <tr>\n      <th>5</th>\n      <td>ENGAGE_SSP2_v4.1.5</td>\n      <td>baseline</td>\n      <td>MEA</td>\n      <td>GDP|PPP</td>\n      <td>billion US$2010/yr OR local currency</td>\n      <td>4119.7470</td>\n      <td>5191.844904</td>\n      <td>6351.518847</td>\n      <td>8052.544729</td>\n      <td>9560.925873</td>\n      <td>...</td>\n      <td>13412.104505</td>\n      <td>15685.103462</td>\n      <td>17790.488063</td>\n      <td>20402.696892</td>\n      <td>22849.032178</td>\n      <td>28824.680775</td>\n      <td>35379.951669</td>\n      <td>42596.412518</td>\n      <td>50429.418189</td>\n      <td>59702.826330</td>\n    </tr>\n    <tr>\n      <th>6</th>\n      <td>ENGAGE_SSP2_v4.1.5</td>\n      <td>baseline</td>\n      <td>NAM</td>\n      <td>GDP|PPP</td>\n      <td>billion US$2010/yr OR local currency</td>\n      <td>15903.0700</td>\n      <td>16473.205062</td>\n      <td>20642.913911</td>\n      <td>23092.253472</td>\n      <td>25377.748594</td>\n      <td>...</td>\n      <td>29535.387817</td>\n      <td>31456.430747</td>\n      <td>33290.073322</td>\n      <td>35187.978277</td>\n      <td>36999.868551</td>\n      <td>40983.108844</td>\n      <td>44752.779080</td>\n      <td>48349.422545</td>\n      <td>51744.756419</td>\n      <td>55378.527310</td>\n    </tr>\n    <tr>\n      <th>7</th>\n      <td>ENGAGE_SSP2_v4.1.5</td>\n      <td>baseline</td>\n      <td>PAO</td>\n      <td>GDP|PPP</td>\n      <td>billion US$2010/yr OR local currency</td>\n      <td>5323.9890</td>\n      <td>5498.664307</td>\n      <td>6170.836262</td>\n      <td>6626.157558</td>\n      <td>7058.364196</td>\n      <td>...</td>\n      <td>7782.799460</td>\n      <td>8172.236645</td>\n      <td>8539.725624</td>\n      <td>8980.617553</td>\n      <td>9391.395793</td>\n      <td>10315.595017</td>\n      <td>11207.031058</td>\n      <td>12090.062676</td>\n      <td>12969.968251</td>\n      <td>13913.912686</td>\n    </tr>\n    <tr>\n      <th>8</th>\n      <td>ENGAGE_SSP2_v4.1.5</td>\n      <td>baseline</td>\n      <td>PAS</td>\n      <td>GDP|PPP</td>\n      <td>billion US$2010/yr OR local currency</td>\n      <td>5112.7630</td>\n      <td>6593.728910</td>\n      <td>8074.694821</td>\n      <td>10087.804348</td>\n      <td>11864.037191</td>\n      <td>...</td>\n      <td>15989.457685</td>\n      <td>18306.797895</td>\n      <td>20390.026395</td>\n      <td>22741.413604</td>\n      <td>24982.135093</td>\n      <td>29828.339187</td>\n      <td>34700.948700</td>\n      <td>39529.321059</td>\n      <td>44257.183183</td>\n      <td>49550.516195</td>\n    </tr>\n    <tr>\n      <th>9</th>\n      <td>ENGAGE_SSP2_v4.1.5</td>\n      <td>baseline</td>\n      <td>SAS</td>\n      <td>GDP|PPP</td>\n      <td>billion US$2010/yr OR local currency</td>\n      <td>4943.5830</td>\n      <td>7639.789695</td>\n      <td>9198.303861</td>\n      <td>13133.949690</td>\n      <td>15990.168190</td>\n      <td>...</td>\n      <td>25016.096851</td>\n      <td>31679.807625</td>\n      <td>36496.175849</td>\n      <td>44208.145112</td>\n      <td>50386.897810</td>\n      <td>66407.736884</td>\n      <td>83868.117540</td>\n      <td>102061.793719</td>\n      <td>120825.538934</td>\n      <td>143038.940693</td>\n    </tr>\n    <tr>\n      <th>10</th>\n      <td>ENGAGE_SSP2_v4.1.5</td>\n      <td>baseline</td>\n      <td>WEU</td>\n      <td>GDP|PPP</td>\n      <td>billion US$2010/yr OR local currency</td>\n      <td>15126.8600</td>\n      <td>15885.840026</td>\n      <td>18046.985482</td>\n      <td>19720.652041</td>\n      <td>21315.555794</td>\n      <td>...</td>\n      <td>25135.170593</td>\n      <td>27351.221411</td>\n      <td>29432.165059</td>\n      <td>31909.731358</td>\n      <td>34205.015495</td>\n      <td>39523.950514</td>\n      <td>44994.729214</td>\n      <td>50555.126628</td>\n      <td>56171.213456</td>\n      <td>62411.182238</td>\n    </tr>\n    <tr>\n      <th>11</th>\n      <td>-</td>\n      <td>baseline</td>\n      <td>CHN</td>\n      <td>GDP|PPP</td>\n      <td>billion US$2010/yr OR local currency</td>\n      <td>9718.8309</td>\n      <td>19354.932650</td>\n      <td>21361.011063</td>\n      <td>29434.319503</td>\n      <td>35037.557742</td>\n      <td>...</td>\n      <td>45662.620000</td>\n      <td>49838.046404</td>\n      <td>53677.944399</td>\n      <td>56205.666302</td>\n      <td>58534.211546</td>\n      <td>61928.415791</td>\n      <td>63871.640704</td>\n      <td>64870.515894</td>\n      <td>65628.115143</td>\n      <td>66394.562119</td>\n    </tr>\n  </tbody>\n</table>\n<p>12 rows × 21 columns</p>\n</div>"
     },
     "execution_count": 24,
     "metadata": {},
     "output_type": "execute_result"
    }
   ],
   "source": [
    "from message_ix_models.util import (\n",
    "    broadcast,\n",
    "    make_io,\n",
    "    make_matched_dfs,\n",
    "    same_node,\n",
    "    add_par_data,\n",
    "    private_data_path,\n",
    ")\n",
    "import pandas as pd\n",
    "df_gdp = pd.read_excel(\n",
    "        private_data_path(\"material\", \"methanol\", \"methanol demand.xlsx\"),\n",
    "        sheet_name=\"GDP_baseline\",\n",
    "    )    \n",
    "df = df_gdp[(~df_gdp[\"Region\"].isna()) & (df_gdp[\"Region\"] != \"World\")]\n",
    "df = df.dropna(axis=1)\n",
    "df"
   ],
   "metadata": {
    "collapsed": false,
    "ExecuteTime": {
     "end_time": "2023-11-23T14:34:29.280833300Z",
     "start_time": "2023-11-23T14:34:29.164902900Z"
    }
   },
   "id": "77768b1f5532e68e"
  },
  {
   "cell_type": "code",
   "execution_count": 17,
   "outputs": [
    {
     "data": {
      "text/plain": "year_act         1990         1995          2000          2005          2010  \\\nnode_loc                                                                       \nR12_AFR    271.455524   290.007532    345.060976    442.017934    581.052726   \nR12_CHN    838.663234  1455.044821   2160.256814   3396.324652   5703.315566   \nR12_EEU    890.917087   802.783706    944.330209   1164.365537   1356.751983   \nR12_FSU   1749.056217  1035.815476   1116.838624   1549.642196   1887.986772   \nR12_LAM   1777.475911  2104.621622   2448.478261   2794.058167   3428.029377   \nR12_MEA    923.149621  1139.373737   1518.708333   1872.857955   2347.592803   \nR12_NAM   8424.876209  9511.891683  11766.032882  13260.831721  13881.779497   \nR12_PAO   3232.875109  3491.610480   3743.429694   4056.182533   4197.181659   \nR12_PAS    984.333333  1414.102258   1631.705179   2061.975432   3085.776892   \nR12_RCPA    41.795276    65.186554     90.467595    130.345245    182.959419   \nR12_SAS    420.882861   537.195129    700.336621    968.940197   1375.864982   \nR12_WEU   8056.231293  8760.541667  10122.277211  11096.446429  11614.874150   \n\nyear_act          2015          2020          2025          2030  \\\nnode_loc                                                           \nR12_AFR     716.813461    998.989240   1368.018625   1856.875242   \nR12_CHN    6612.838095  12597.249546  18796.728814  26265.311778   \nR12_EEU    1429.632941   1782.528479   2135.375473   2527.594422   \nR12_FSU    2070.092516   2824.383598   3612.532110   4540.650530   \nR12_LAM    3752.743938   4997.596357   6313.315558   7870.347914   \nR12_MEA    2728.016143   3620.985480   4689.533422   6001.189152   \nR12_NAM   15164.541706  18030.122824  20731.982116  23411.377937   \nR12_PAO    4444.424839   4865.437555   5328.230735   5790.865455   \nR12_PAS    3667.170716   4867.546481   6274.462718   7885.997801   \nR12_RCPA    191.311034    354.019988    525.926102    759.780600   \nR12_SAS    1722.991014   2559.911529   3815.393732   5561.916763   \nR12_WEU   12353.633028  13849.192177  15375.603814  17016.715296   \n\nyear_act          2035          2040          2045          2050  \\\nnode_loc                                                           \nR12_AFR    2479.366774   3314.603412   4517.417565   6162.000935   \nR12_CHN   31779.168946  37291.085088  42057.027778  46300.743062   \nR12_EEU    2908.785626   3307.539451   3673.647838   4045.608182   \nR12_FSU    5400.750295   6288.079443   7034.991188   7731.857143   \nR12_LAM    9439.545455  11247.304734  13141.528193  15271.185657   \nR12_MEA    7468.361988   9180.558757  10973.157936  12956.405973   \nR12_NAM   25908.973396  28432.682303  30839.028757  33195.516022   \nR12_PAO    6207.936141   6620.625825   7084.795192   7566.369971   \nR12_PAS    9667.563245  11716.739693  13845.204708  16171.420315   \nR12_RCPA    976.608206   1238.055602   1519.934896   1830.640107   \nR12_SAS    7857.039482  11068.494608  14866.729189  19848.371084   \nR12_WEU   18838.770758  20906.461751  23218.843794  25700.197292   \n\nyear_act          2055          2060          2070          2080  \\\nnode_loc                                                           \nR12_AFR    8577.989840  11963.585420  22747.571333  39895.853924   \nR12_CHN   49633.467401  52750.003770  58298.326044  63001.761304   \nR12_EEU    4427.270005   4850.211186   5775.938713   6672.119355   \nR12_FSU    8453.431718   9324.554152  11366.946565  13374.462312   \nR12_LAM   17543.266146  20056.958333  25680.038879  32385.211186   \nR12_MEA   15113.972648  17571.820273  23368.410602  30275.401896   \nR12_NAM   35609.614390  38212.132723  43260.486550  47544.976471   \nR12_PAO    8111.292818   8719.640947  10185.261488  11671.063437   \nR12_PAS   18335.382760  20622.422972  25656.708175  31310.156530   \nR12_RCPA   2157.717172   2515.990575   3360.284294   4304.254469   \nR12_SAS   25211.747491  31827.305808  46668.655253  63617.247899   \nR12_WEU   28475.555666  31585.048057  38793.798913  45819.247178   \n\nyear_act          2090           2100           2110  \nnode_loc                                              \nR12_AFR   64039.060554   96804.093067   96804.093067  \nR12_CHN   67276.308380   69794.088167   69794.088167  \nR12_EEU    7552.177728    8315.598163    8315.598163  \nR12_FSU   15560.537726   17847.927374   18904.017751  \nR12_LAM   40462.277720   49322.424009   49322.424009  \nR12_MEA   38534.015030   48464.477103   48464.477103  \nR12_NAM   51359.255294   54956.687059   54956.687059  \nR12_PAO   12839.161176   13774.255294   13774.255294  \nR12_PAS   37491.349057   43620.050164   43620.050164  \nR12_RCPA   5373.515084    6453.469838    6453.469838  \nR12_SAS   82725.072711  104536.872483  104536.872483  \nR12_WEU   52976.574913   59671.758824   59671.758824  ",
      "text/html": "<div>\n<style scoped>\n    .dataframe tbody tr th:only-of-type {\n        vertical-align: middle;\n    }\n\n    .dataframe tbody tr th {\n        vertical-align: top;\n    }\n\n    .dataframe thead th {\n        text-align: right;\n    }\n</style>\n<table border=\"1\" class=\"dataframe\">\n  <thead>\n    <tr style=\"text-align: right;\">\n      <th>year_act</th>\n      <th>1990</th>\n      <th>1995</th>\n      <th>2000</th>\n      <th>2005</th>\n      <th>2010</th>\n      <th>2015</th>\n      <th>2020</th>\n      <th>2025</th>\n      <th>2030</th>\n      <th>2035</th>\n      <th>2040</th>\n      <th>2045</th>\n      <th>2050</th>\n      <th>2055</th>\n      <th>2060</th>\n      <th>2070</th>\n      <th>2080</th>\n      <th>2090</th>\n      <th>2100</th>\n      <th>2110</th>\n    </tr>\n    <tr>\n      <th>node_loc</th>\n      <th></th>\n      <th></th>\n      <th></th>\n      <th></th>\n      <th></th>\n      <th></th>\n      <th></th>\n      <th></th>\n      <th></th>\n      <th></th>\n      <th></th>\n      <th></th>\n      <th></th>\n      <th></th>\n      <th></th>\n      <th></th>\n      <th></th>\n      <th></th>\n      <th></th>\n      <th></th>\n    </tr>\n  </thead>\n  <tbody>\n    <tr>\n      <th>R12_AFR</th>\n      <td>271.455524</td>\n      <td>290.007532</td>\n      <td>345.060976</td>\n      <td>442.017934</td>\n      <td>581.052726</td>\n      <td>716.813461</td>\n      <td>998.989240</td>\n      <td>1368.018625</td>\n      <td>1856.875242</td>\n      <td>2479.366774</td>\n      <td>3314.603412</td>\n      <td>4517.417565</td>\n      <td>6162.000935</td>\n      <td>8577.989840</td>\n      <td>11963.585420</td>\n      <td>22747.571333</td>\n      <td>39895.853924</td>\n      <td>64039.060554</td>\n      <td>96804.093067</td>\n      <td>96804.093067</td>\n    </tr>\n    <tr>\n      <th>R12_CHN</th>\n      <td>838.663234</td>\n      <td>1455.044821</td>\n      <td>2160.256814</td>\n      <td>3396.324652</td>\n      <td>5703.315566</td>\n      <td>6612.838095</td>\n      <td>12597.249546</td>\n      <td>18796.728814</td>\n      <td>26265.311778</td>\n      <td>31779.168946</td>\n      <td>37291.085088</td>\n      <td>42057.027778</td>\n      <td>46300.743062</td>\n      <td>49633.467401</td>\n      <td>52750.003770</td>\n      <td>58298.326044</td>\n      <td>63001.761304</td>\n      <td>67276.308380</td>\n      <td>69794.088167</td>\n      <td>69794.088167</td>\n    </tr>\n    <tr>\n      <th>R12_EEU</th>\n      <td>890.917087</td>\n      <td>802.783706</td>\n      <td>944.330209</td>\n      <td>1164.365537</td>\n      <td>1356.751983</td>\n      <td>1429.632941</td>\n      <td>1782.528479</td>\n      <td>2135.375473</td>\n      <td>2527.594422</td>\n      <td>2908.785626</td>\n      <td>3307.539451</td>\n      <td>3673.647838</td>\n      <td>4045.608182</td>\n      <td>4427.270005</td>\n      <td>4850.211186</td>\n      <td>5775.938713</td>\n      <td>6672.119355</td>\n      <td>7552.177728</td>\n      <td>8315.598163</td>\n      <td>8315.598163</td>\n    </tr>\n    <tr>\n      <th>R12_FSU</th>\n      <td>1749.056217</td>\n      <td>1035.815476</td>\n      <td>1116.838624</td>\n      <td>1549.642196</td>\n      <td>1887.986772</td>\n      <td>2070.092516</td>\n      <td>2824.383598</td>\n      <td>3612.532110</td>\n      <td>4540.650530</td>\n      <td>5400.750295</td>\n      <td>6288.079443</td>\n      <td>7034.991188</td>\n      <td>7731.857143</td>\n      <td>8453.431718</td>\n      <td>9324.554152</td>\n      <td>11366.946565</td>\n      <td>13374.462312</td>\n      <td>15560.537726</td>\n      <td>17847.927374</td>\n      <td>18904.017751</td>\n    </tr>\n    <tr>\n      <th>R12_LAM</th>\n      <td>1777.475911</td>\n      <td>2104.621622</td>\n      <td>2448.478261</td>\n      <td>2794.058167</td>\n      <td>3428.029377</td>\n      <td>3752.743938</td>\n      <td>4997.596357</td>\n      <td>6313.315558</td>\n      <td>7870.347914</td>\n      <td>9439.545455</td>\n      <td>11247.304734</td>\n      <td>13141.528193</td>\n      <td>15271.185657</td>\n      <td>17543.266146</td>\n      <td>20056.958333</td>\n      <td>25680.038879</td>\n      <td>32385.211186</td>\n      <td>40462.277720</td>\n      <td>49322.424009</td>\n      <td>49322.424009</td>\n    </tr>\n    <tr>\n      <th>R12_MEA</th>\n      <td>923.149621</td>\n      <td>1139.373737</td>\n      <td>1518.708333</td>\n      <td>1872.857955</td>\n      <td>2347.592803</td>\n      <td>2728.016143</td>\n      <td>3620.985480</td>\n      <td>4689.533422</td>\n      <td>6001.189152</td>\n      <td>7468.361988</td>\n      <td>9180.558757</td>\n      <td>10973.157936</td>\n      <td>12956.405973</td>\n      <td>15113.972648</td>\n      <td>17571.820273</td>\n      <td>23368.410602</td>\n      <td>30275.401896</td>\n      <td>38534.015030</td>\n      <td>48464.477103</td>\n      <td>48464.477103</td>\n    </tr>\n    <tr>\n      <th>R12_NAM</th>\n      <td>8424.876209</td>\n      <td>9511.891683</td>\n      <td>11766.032882</td>\n      <td>13260.831721</td>\n      <td>13881.779497</td>\n      <td>15164.541706</td>\n      <td>18030.122824</td>\n      <td>20731.982116</td>\n      <td>23411.377937</td>\n      <td>25908.973396</td>\n      <td>28432.682303</td>\n      <td>30839.028757</td>\n      <td>33195.516022</td>\n      <td>35609.614390</td>\n      <td>38212.132723</td>\n      <td>43260.486550</td>\n      <td>47544.976471</td>\n      <td>51359.255294</td>\n      <td>54956.687059</td>\n      <td>54956.687059</td>\n    </tr>\n    <tr>\n      <th>R12_PAO</th>\n      <td>3232.875109</td>\n      <td>3491.610480</td>\n      <td>3743.429694</td>\n      <td>4056.182533</td>\n      <td>4197.181659</td>\n      <td>4444.424839</td>\n      <td>4865.437555</td>\n      <td>5328.230735</td>\n      <td>5790.865455</td>\n      <td>6207.936141</td>\n      <td>6620.625825</td>\n      <td>7084.795192</td>\n      <td>7566.369971</td>\n      <td>8111.292818</td>\n      <td>8719.640947</td>\n      <td>10185.261488</td>\n      <td>11671.063437</td>\n      <td>12839.161176</td>\n      <td>13774.255294</td>\n      <td>13774.255294</td>\n    </tr>\n    <tr>\n      <th>R12_PAS</th>\n      <td>984.333333</td>\n      <td>1414.102258</td>\n      <td>1631.705179</td>\n      <td>2061.975432</td>\n      <td>3085.776892</td>\n      <td>3667.170716</td>\n      <td>4867.546481</td>\n      <td>6274.462718</td>\n      <td>7885.997801</td>\n      <td>9667.563245</td>\n      <td>11716.739693</td>\n      <td>13845.204708</td>\n      <td>16171.420315</td>\n      <td>18335.382760</td>\n      <td>20622.422972</td>\n      <td>25656.708175</td>\n      <td>31310.156530</td>\n      <td>37491.349057</td>\n      <td>43620.050164</td>\n      <td>43620.050164</td>\n    </tr>\n    <tr>\n      <th>R12_RCPA</th>\n      <td>41.795276</td>\n      <td>65.186554</td>\n      <td>90.467595</td>\n      <td>130.345245</td>\n      <td>182.959419</td>\n      <td>191.311034</td>\n      <td>354.019988</td>\n      <td>525.926102</td>\n      <td>759.780600</td>\n      <td>976.608206</td>\n      <td>1238.055602</td>\n      <td>1519.934896</td>\n      <td>1830.640107</td>\n      <td>2157.717172</td>\n      <td>2515.990575</td>\n      <td>3360.284294</td>\n      <td>4304.254469</td>\n      <td>5373.515084</td>\n      <td>6453.469838</td>\n      <td>6453.469838</td>\n    </tr>\n    <tr>\n      <th>R12_SAS</th>\n      <td>420.882861</td>\n      <td>537.195129</td>\n      <td>700.336621</td>\n      <td>968.940197</td>\n      <td>1375.864982</td>\n      <td>1722.991014</td>\n      <td>2559.911529</td>\n      <td>3815.393732</td>\n      <td>5561.916763</td>\n      <td>7857.039482</td>\n      <td>11068.494608</td>\n      <td>14866.729189</td>\n      <td>19848.371084</td>\n      <td>25211.747491</td>\n      <td>31827.305808</td>\n      <td>46668.655253</td>\n      <td>63617.247899</td>\n      <td>82725.072711</td>\n      <td>104536.872483</td>\n      <td>104536.872483</td>\n    </tr>\n    <tr>\n      <th>R12_WEU</th>\n      <td>8056.231293</td>\n      <td>8760.541667</td>\n      <td>10122.277211</td>\n      <td>11096.446429</td>\n      <td>11614.874150</td>\n      <td>12353.633028</td>\n      <td>13849.192177</td>\n      <td>15375.603814</td>\n      <td>17016.715296</td>\n      <td>18838.770758</td>\n      <td>20906.461751</td>\n      <td>23218.843794</td>\n      <td>25700.197292</td>\n      <td>28475.555666</td>\n      <td>31585.048057</td>\n      <td>38793.798913</td>\n      <td>45819.247178</td>\n      <td>52976.574913</td>\n      <td>59671.758824</td>\n      <td>59671.758824</td>\n    </tr>\n  </tbody>\n</table>\n</div>"
     },
     "execution_count": 17,
     "metadata": {},
     "output_type": "execute_result"
    }
   ],
   "source": [
    "df_gdp.pivot(columns=\"year_act\", values=\"value\", index=\"node_loc\")"
   ],
   "metadata": {
    "collapsed": false,
    "ExecuteTime": {
     "end_time": "2023-11-23T14:30:40.784322100Z",
     "start_time": "2023-11-23T14:30:40.746572900Z"
    }
   },
   "id": "6c4ab6e19490cdd0"
  },
  {
   "cell_type": "code",
   "execution_count": 4,
   "outputs": [
    {
     "data": {
      "text/plain": "<module 'message_data.model.material.data_methanol_new' from 'C:\\\\Users\\\\maczek\\\\PycharmProjects\\\\message_data\\\\message_data\\\\model\\\\material\\\\data_methanol_new.py'>"
     },
     "execution_count": 4,
     "metadata": {},
     "output_type": "execute_result"
    }
   ],
   "source": [
    "from message_data.model.material import data_methanol_new\n",
    "import importlib\n",
    "importlib.reload(data_methanol_new)"
   ],
   "metadata": {
    "collapsed": false
   },
   "id": "17e354a124d8a5e9"
  },
  {
   "cell_type": "code",
   "execution_count": 5,
   "outputs": [],
   "source": [
    "meth_dict = data_methanol_new.gen_data_methanol_new(scen)"
   ],
   "metadata": {
    "collapsed": false
   },
   "id": "9c54b44117ba6e67"
  },
  {
   "cell_type": "code",
   "execution_count": 9,
   "outputs": [],
   "source": [
    "setlist = scen.set_list()"
   ],
   "metadata": {
    "collapsed": false
   },
   "id": "dfaacb0ebce0d997"
  },
  {
   "cell_type": "code",
   "execution_count": 21,
   "outputs": [
    {
     "name": "stdout",
     "output_type": "stream",
     "text": [
      "node :\n",
      "\n",
      "level :\n",
      "final_material\n",
      "\n",
      "year :\n",
      "time :\n",
      "\n",
      "value :\n",
      "\n",
      "unit :\n",
      "\n",
      "node_loc :\n",
      "\n",
      "year_vtg :\n",
      "\n",
      "value :\n",
      "\n",
      "unit :\n",
      "\n",
      "node_loc :\n",
      "\n",
      "year_vtg :\n",
      "\n",
      "year_act :\n",
      "\n",
      "value :\n",
      "\n",
      "unit :\n",
      "\n",
      "node_loc :\n",
      "\n",
      "year_vtg :\n",
      "\n",
      "year_act :\n",
      "\n",
      "mode :\n",
      "fuel\n",
      "feedstock\n",
      "ethanol\n",
      "\n",
      "time :\n",
      "\n",
      "value :\n",
      "\n",
      "unit :\n",
      "\n",
      "node_loc :\n",
      "\n",
      "year_vtg :\n",
      "\n",
      "year_act :\n",
      "\n",
      "mode :\n",
      "fuel\n",
      "feedstock\n",
      "ethanol\n",
      "\n",
      "node_origin :\n",
      "\n",
      "level :\n",
      "primary_material\n",
      "import_fs\n",
      "export_fs\n",
      "secondary_material\n",
      "final_material\n",
      "useful_petro\n",
      "useful_resins\n",
      "\n",
      "time :\n",
      "\n",
      "time_origin :\n",
      "\n",
      "value :\n",
      "\n",
      "unit :\n",
      "\n",
      "node_loc :\n",
      "\n",
      "year_vtg :\n",
      "\n",
      "year_act :\n",
      "\n",
      "mode :\n",
      "fuel\n",
      "feedstock\n",
      "ethanol\n",
      "\n",
      "node_dest :\n",
      "\n",
      "level :\n",
      "primary_material\n",
      "secondary_material\n",
      "import_fs\n",
      "export_fs\n",
      "final_material\n",
      "\n",
      "time :\n",
      "\n",
      "time_dest :\n",
      "\n",
      "value :\n",
      "\n",
      "unit :\n",
      "\n",
      "node_loc :\n",
      "\n",
      "year_vtg :\n",
      "\n",
      "value :\n",
      "\n",
      "unit :\n",
      "\n",
      "node_loc :\n",
      "\n",
      "year_vtg :\n",
      "\n",
      "value :\n",
      "\n",
      "unit :\n",
      "\n",
      "node_loc :\n",
      "\n",
      "year_vtg :\n",
      "\n",
      "year_act :\n",
      "\n",
      "time :\n",
      "\n",
      "value :\n",
      "\n",
      "unit :\n",
      "\n",
      "relation :\n",
      "CO2_PtX_trans_disp_split\n",
      "gas_util\n",
      "SO2_red_synf\n",
      "global_GSO2\n",
      "global_GCO2\n",
      "meth_exp_tot\n",
      "OilPrices\n",
      "PE_export_total\n",
      "PE_import_total\n",
      "PE_synliquids\n",
      "PE_total_direct\n",
      "PE_total_engineering\n",
      "FE_transport\n",
      "SO2_red_ref\n",
      "trp_energy\n",
      "total_TCO2\n",
      "nuc_lc_in_el\n",
      "FE_liquids\n",
      "FE_final_energy\n",
      "\n",
      "node_rel :\n",
      "\n",
      "year_rel :\n",
      "\n",
      "node_loc :\n",
      "\n",
      "year_act :\n",
      "\n",
      "mode :\n",
      "fuel\n",
      "feedstock\n",
      "naphtha\n",
      "atm_gasoil\n",
      "vacuum_gasoil\n",
      "ethane\n",
      "propane\n",
      "ethanol\n",
      "\n",
      "value :\n",
      "\n",
      "unit :\n",
      "\n",
      "relation :\n",
      "meth_exp_tot\n",
      "\n",
      "node_rel :\n",
      "\n",
      "year_rel :\n",
      "\n",
      "value :\n",
      "\n",
      "unit :\n",
      "\n",
      "relation :\n",
      "CO2_PtX_trans_disp_split\n",
      "meth_exp_tot\n",
      "\n",
      "node_rel :\n",
      "\n",
      "year_rel :\n",
      "\n",
      "value :\n",
      "\n",
      "unit :\n",
      "\n",
      "node_loc :\n",
      "\n",
      "year_vtg :\n",
      "\n",
      "year_act :\n",
      "\n",
      "mode :\n",
      "feedstock\n",
      "fuel\n",
      "ethanol\n",
      "\n",
      "value :\n",
      "\n",
      "unit :\n",
      "\n",
      "node :\n",
      "\n",
      "year_vtg :\n",
      "\n",
      "year_act :\n",
      "\n",
      "mode :\n",
      "feedstock\n",
      "fuel\n",
      "\n",
      "time :\n",
      "\n",
      "type_addon :\n",
      "methanol_synthesis_addon\n",
      "\n",
      "value :\n",
      "\n",
      "unit :\n",
      "\n",
      "node :\n",
      "\n",
      "year_act :\n",
      "\n",
      "mode :\n",
      "feedstock\n",
      "fuel\n",
      "\n",
      "time :\n",
      "\n",
      "type_addon :\n",
      "methanol_synthesis_addon\n",
      "\n",
      "value :\n",
      "\n",
      "unit :\n",
      "\n",
      "node_loc :\n",
      "\n",
      "year_act :\n",
      "\n",
      "mode :\n",
      "feedstock\n",
      "fuel\n",
      "\n",
      "time :\n",
      "\n",
      "value :\n",
      "\n",
      "unit :\n",
      "\n",
      "node_loc :\n",
      "\n",
      "year_vtg :\n",
      "\n",
      "value :\n",
      "\n",
      "unit :\n",
      "\n",
      "node_loc :\n",
      "\n",
      "year_act :\n",
      "\n",
      "time :\n",
      "\n",
      "value :\n",
      "\n",
      "unit :\n",
      "\n",
      "node_loc :\n",
      "\n",
      "year_act :\n",
      "\n",
      "time :\n",
      "\n",
      "value :\n",
      "\n",
      "unit :\n",
      "\n",
      "node_loc :\n",
      "\n",
      "year_act :\n",
      "\n",
      "time :\n",
      "\n",
      "value :\n",
      "\n",
      "unit :\n",
      "\n",
      "node_loc :\n",
      "\n",
      "year_act :\n",
      "\n",
      "time :\n",
      "\n",
      "value :\n",
      "\n",
      "unit :\n",
      "\n",
      "node_loc :\n",
      "\n",
      "year_act :\n",
      "\n",
      "mode :\n",
      "feedstock\n",
      "fuel\n",
      "\n",
      "time :\n",
      "\n",
      "value :\n",
      "\n",
      "unit :\n",
      "\n",
      "node_loc :\n",
      "\n",
      "year_act :\n",
      "\n",
      "mode :\n",
      "feedstock\n",
      "fuel\n",
      "\n",
      "time :\n",
      "\n",
      "value :\n",
      "\n",
      "unit :\n",
      "\n",
      "node_loc :\n",
      "\n",
      "year_vtg :\n",
      "\n",
      "value :\n",
      "\n",
      "unit :\n",
      "\n",
      "node_loc :\n",
      "\n",
      "year_vtg :\n",
      "\n",
      "value :\n",
      "\n",
      "unit :\n",
      "\n",
      "node_loc :\n",
      "\n",
      "year_act :\n",
      "\n",
      "value :\n",
      "\n",
      "unit :\n",
      "\n",
      "node_loc :\n",
      "\n",
      "year_act :\n",
      "\n",
      "time :\n",
      "\n",
      "value :\n",
      "\n",
      "unit :\n",
      "\n",
      "node_loc :\n",
      "\n",
      "year_act :\n",
      "\n",
      "time :\n",
      "\n",
      "value :\n",
      "\n",
      "unit :\n",
      "\n",
      "node_loc :\n",
      "\n",
      "year_act :\n",
      "\n",
      "time :\n",
      "\n",
      "value :\n",
      "\n",
      "unit :\n",
      "\n",
      "node_loc :\n",
      "\n",
      "year_act :\n",
      "\n",
      "time :\n",
      "\n",
      "value :\n",
      "\n",
      "unit :\n",
      "\n",
      "node_loc :\n",
      "\n",
      "year_act :\n",
      "\n",
      "time :\n",
      "\n",
      "value :\n",
      "\n",
      "unit :\n",
      "\n",
      "node_loc :\n",
      "\n",
      "year_act :\n",
      "\n",
      "time :\n",
      "\n",
      "value :\n",
      "\n",
      "unit :\n",
      "\n",
      "node_loc :\n",
      "\n",
      "year_act :\n",
      "\n",
      "mode :\n",
      "feedstock\n",
      "fuel\n",
      "\n",
      "time :\n",
      "\n",
      "value :\n",
      "\n",
      "unit :\n",
      "\n",
      "node_loc :\n",
      "\n",
      "year_vtg :\n",
      "\n",
      "value :\n",
      "\n",
      "unit :\n"
     ]
    }
   ],
   "source": [
    "for par, df in meth_dict.items():\n",
    "    for col in df.columns:\n",
    "        df_set = list(df[col].unique())\n",
    "        if col in [\"technology\", \"commodity\", \"emission\"]:\n",
    "            continue\n",
    "        print(col,\":\")\n",
    "        if col in setlist:\n",
    "            for _set in df_set:\n",
    "                if _set not in list(scen.set(col)):\n",
    "                    print(_set)\n",
    "        print()"
   ],
   "metadata": {
    "collapsed": false
   },
   "id": "57d247938684e749"
  },
  {
   "cell_type": "code",
   "execution_count": 25,
   "outputs": [
    {
     "name": "stdout",
     "output_type": "stream",
     "text": [
      "relation :\n"
     ]
    }
   ],
   "source": [
    "relations = []\n",
    "for par, df in meth_dict.items():\n",
    "    if par != \"relation_activity\":\n",
    "        continue\n",
    "    for col in df.columns:\n",
    "        df_set = list(df[col].unique())\n",
    "        if col not in [\"relation\"]:\n",
    "            continue\n",
    "        print(col,\":\")\n",
    "        if col in setlist:\n",
    "            for _set in df_set:\n",
    "                if _set not in list(scen.set(col)):\n",
    "                    relations.append(_set)\n",
    "        print()"
   ],
   "metadata": {
    "collapsed": false
   },
   "id": "618e1291b9c47679"
  },
  {
   "cell_type": "code",
   "execution_count": 33,
   "outputs": [
    {
     "name": "stdout",
     "output_type": "stream",
     "text": [
      "{'common': {'commodity': {'require': ['coal', 'gas', 'electr', 'ethanol', 'methanol', 'fueloil', 'lightoil', 'hydrogen', 'lh2', 'd_heat'], 'add': ['biomass', 'water', 'fresh_water']}, 'level': {'require': ['primary', 'secondary', 'useful', 'final', 'water_supply', 'export', 'import']}, 'type_tec': {'add': ['industry']}, 'mode': {'add': ['M1', 'M2']}, 'emission': {'add': ['CO2', 'CH4', 'N2O', 'NOx', 'SO2', 'PM2p5', 'CF4']}, 'year': {'add': [1980, 1990, 2000, 2010]}, 'type_year': {'add': [2010]}}, 'generic': {'commodity': {'add': ['ht_heat', 'lt_heat']}, 'level': {'add': ['useful_steel', 'useful_cement', 'useful_aluminum', 'useful_refining', 'useful_petro', 'useful_resins']}, 'technology': {'add': ['furnace_foil_steel', 'furnace_loil_steel', 'furnace_biomass_steel', 'furnace_ethanol_steel', 'furnace_methanol_steel', 'furnace_gas_steel', 'furnace_coal_steel', 'furnace_elec_steel', 'furnace_h2_steel', 'hp_gas_steel', 'hp_elec_steel', 'fc_h2_steel', 'solar_steel', 'dheat_steel', 'furnace_foil_cement', 'furnace_loil_cement', 'furnace_biomass_cement', 'furnace_ethanol_cement', 'furnace_methanol_cement', 'furnace_gas_cement', 'furnace_coal_cement', 'furnace_elec_cement', 'furnace_h2_cement', 'hp_gas_cement', 'hp_elec_cement', 'fc_h2_cement', 'solar_cement', 'dheat_cement', 'furnace_coal_aluminum', 'furnace_foil_aluminum', 'furnace_loil_aluminum', 'furnace_ethanol_aluminum', 'furnace_biomass_aluminum', 'furnace_methanol_aluminum', 'furnace_gas_aluminum', 'furnace_elec_aluminum', 'furnace_h2_aluminum', 'hp_gas_aluminum', 'hp_elec_aluminum', 'fc_h2_aluminum', 'solar_aluminum', 'dheat_aluminum', 'furnace_coke_petro', 'furnace_coal_petro', 'furnace_foil_petro', 'furnace_loil_petro', 'furnace_ethanol_petro', 'furnace_biomass_petro', 'furnace_methanol_petro', 'furnace_gas_petro', 'furnace_elec_petro', 'furnace_h2_petro', 'hp_gas_petro', 'hp_elec_petro', 'fc_h2_petro', 'solar_petro', 'dheat_petro', 'furnace_coke_refining', 'furnace_coal_refining', 'furnace_foil_refining', 'furnace_loil_refining', 'furnace_ethanol_refining', 'furnace_biomass_refining', 'furnace_methanol_refining', 'furnace_gas_refining', 'furnace_elec_refining', 'furnace_h2_refining', 'hp_gas_refining', 'hp_elec_refining', 'fc_h2_refining', 'solar_refining', 'dheat_refining', 'furnace_coal_resins', 'furnace_foil_resins', 'furnace_loil_resins', 'furnace_ethanol_resins', 'furnace_biomass_resins', 'furnace_methanol_resins', 'furnace_gas_resins', 'furnace_elec_resins', 'furnace_h2_resins', 'hp_gas_resins', 'hp_elec_resins', 'fc_h2_resins', 'solar_resins', 'dheat_resins']}, 'mode': {'add': ['low_temp', 'high_temp']}}, 'petro_chemicals': {'commodity': {'require': ['crudeoil'], 'add': ['HVC', 'naphtha', 'kerosene', 'diesel', 'atm_residue', 'refinery_gas', 'atm_gasoil', 'atm_residue', 'vacuum_gasoil', 'vacuum_residue', 'gasoline', 'heavy_foil', 'light_foil', 'propylene', 'pet_coke', 'ethane', 'propane', 'ethylene', 'BTX']}, 'level': {'require': ['secondary', 'final'], 'add': ['pre_intermediate', 'desulfurized', 'intermediate', 'secondary_material', 'final_material', 'demand']}, 'balance_equality': {'add': [['lightoil', 'import'], ['lightoil', 'export'], ['fueloil', 'import'], ['fueloil', 'export']]}, 'mode': {'add': ['atm_gasoil', 'vacuum_gasoil', 'naphtha', 'kerosene', 'diesel', 'cracking_gasoline', 'cracking_loil', 'ethane', 'propane', 'light_foil', 'refinery_gas', 'refinery_gas_int', 'heavy_foil', 'pet_coke', 'atm_residue', 'vacuum_residue', 'gasoline', 'ethylene', 'propylene', 'BTX']}, 'technology': {'add': ['atm_distillation_ref', 'vacuum_distillation_ref', 'hydrotreating_ref', 'catalytic_cracking_ref', 'visbreaker_ref', 'coking_ref', 'catalytic_reforming_ref', 'hydro_cracking_ref', 'steam_cracker_petro', 'ethanol_to_ethylene_petro', 'agg_ref', 'gas_processing_petro', 'trade_petro', 'import_petro', 'export_petro', 'feedstock_t/d', 'production_HVC'], 'remove': ['ref_hil', 'ref_lol']}, 'shares': {'add': ['steam_cracker']}}, 'steel': {'commodity': {'add': ['steel', 'pig_iron', 'sponge_iron', 'sinter_iron', 'pellet_iron', 'ore_iron', 'limestone_iron', 'coke_iron', 'slag_iron', 'co_gas', 'bf_gas']}, 'level': {'add': ['new_scrap', 'old_scrap_1', 'old_scrap_2', 'old_scrap_3', 'primary_material', 'secondary_material', 'tertiary_material', 'final_material', 'useful_material', 'waste_material', 'product', 'demand', 'dummy_emission', 'end_of_life', 'dummy_end_of_life']}, 'technology': {'add': ['cokeoven_steel', 'sinter_steel', 'pellet_steel', 'bf_steel', 'dri_steel', 'sr_steel', 'bof_steel', 'eaf_steel', 'prep_secondary_steel_1', 'prep_secondary_steel_2', 'prep_secondary_steel_3', 'finishing_steel', 'manuf_steel', 'scrap_recovery_steel', 'DUMMY_ore_supply', 'DUMMY_limestone_supply_steel', 'DUMMY_coal_supply', 'DUMMY_gas_supply', 'trade_steel', 'import_steel', 'export_steel', 'other_EOL_steel', 'total_EOL_steel']}, 'relation': {'add': ['minimum_recycling_steel', 'max_global_recycling_steel', 'max_regional_recycling_steel']}, 'balance_equality': {'add': [['steel', 'old_scrap_1'], ['steel', 'old_scrap_2'], ['steel', 'old_scrap_3'], ['steel', 'end_of_life'], ['steel', 'product'], ['steel', 'new_scrap'], ['steel', 'useful_material'], ['steel', 'final_material']]}}, 'cement': {'commodity': {'add': ['cement', 'clinker_cement', 'raw_meal_cement', 'limestone_cement']}, 'level': {'add': ['primary_material', 'secondary_material', 'tertiary_material', 'final_material', 'useful_material', 'demand', 'dummy_end_of_life', 'end_of_life']}, 'technology': {'add': ['raw_meal_prep_cement', 'clinker_dry_cement', 'clinker_wet_cement', 'clinker_dry_ccs_cement', 'clinker_wet_ccs_cement', 'grinding_ballmill_cement', 'grinding_vertmill_cement', 'DUMMY_limestone_supply_cement', 'total_EOL_cement', 'other_EOL_cement', 'scrap_recovery_cement'], 'remove': ['cement_co2scr', 'cement_CO2']}, 'relation': {'remove': ['cement_pro', 'cement_scrub_lim']}, 'balance_equality': {'add': [['cement', 'end_of_life']]}, 'addon': {'add': ['clinker_dry_ccs_cement', 'clinker_wet_ccs_cement']}, 'type_addon': {'add': ['ccs_cement']}, 'map_tec_addon': {'add': [['clinker_dry_cement', 'ccs_cement'], ['clinker_wet_cement', 'ccs_cement']]}, 'cat_addon': {'add': [['ccs_cement', 'clinker_dry_ccs_cement'], ['ccs_cement', 'clinker_wet_ccs_cement']]}}, 'aluminum': {'commodity': {'add': ['aluminum']}, 'level': {'add': ['new_scrap', 'old_scrap_1', 'old_scrap_2', 'old_scrap_3', 'useful_aluminum', 'final_material', 'useful_material', 'product', 'secondary_material', 'demand', 'end_of_life', 'dummy_end_of_life_1', 'dummy_end_of_life_2', 'dummy_end_of_life_3']}, 'technology': {'add': ['soderberg_aluminum', 'prebake_aluminum', 'secondary_aluminum', 'prep_secondary_aluminum_1', 'prep_secondary_aluminum_2', 'prep_secondary_aluminum_3', 'finishing_aluminum', 'manuf_aluminum', 'scrap_recovery_aluminum_1', 'scrap_recovery_aluminum_2', 'scrap_recovery_aluminum_3', 'DUMMY_alumina_supply', 'trade_aluminum', 'import_aluminum', 'export_aluminum', 'other_EOL_aluminum', 'total_EOL_aluminum']}, 'relation': {'add': ['minimum_recycling_aluminum', 'maximum_recycling_aluminum']}, 'balance_equality': {'add': [['aluminum', 'old_scrap_1'], ['aluminum', 'old_scrap_2'], ['aluminum', 'old_scrap_3'], ['aluminum', 'end_of_life'], ['aluminum', 'product'], ['aluminum', 'new_scrap']]}}, 'fertilizer': {'commodity': {'require': ['electr', 'freshwater_supply'], 'add': ['NH3', 'Fertilizer Use|Nitrogen', 'wastewater']}, 'level': {'add': ['secondary_material', 'final_material', 'wastewater']}, 'technology': {'require': ['h2_bio_ccs'], 'add': ['biomass_NH3', 'electr_NH3', 'gas_NH3', 'coal_NH3', 'fueloil_NH3', 'NH3_to_N_fertil', 'trade_NFert', 'export_NFert', 'import_NFert', 'trade_NH3', 'export_NH3', 'import_NH3', 'residual_NH3', 'biomass_NH3_ccs', 'gas_NH3_ccs', 'coal_NH3_ccs', 'fueloil_NH3_ccs']}, 'relation': {'add': ['NH3_trd_cap', 'NFert_trd_cap']}}, 'methanol': {'commodity': {'require': ['electr', 'biomass', 'hydrogen', 'd_heat'], 'add': ['methanol', 'ht_heat', 'formaldehyde', 'ethylene', 'propylene', 'fcoh_resin']}, 'level': {'add': ['final_material', 'secondary_material', 'primary_material', 'export_fs', 'import_fs']}, 'mode': {'add': ['feedstock', 'fuel', 'ethanol']}, 'technology': {'add': ['meth_bio', 'meth_bio_ccs', 'meth_h2', 'meth_t_d_material', 'MTO_petro', 'CH2O_synth', 'CH2O_to_resin', 'meth_coal', 'meth_coal_ccs', 'meth_ng', 'meth_ng_ccs', 'meth_t_d', 'meth_bal', 'meth_trd', 'meth_exp', 'meth_imp'], 'remove': ['sp_meth_I', 'meth_rc', 'meth_ic_trp', 'meth_fc_trp', 'meth_i', 'meth_coal', 'meth_coal_ccs', 'meth_ng', 'meth_ng_ccs', 'meth_t_d', 'meth_bal', 'meth_trd', 'meth_exp', 'meth_imp']}, 'addon': {'add': ['meth_h2']}, 'type_addon': {'add': ['methanol_synthesis_addon']}, 'map_tec_addon': {'add': [['h2_elec', 'methanol_synthesis_addon']]}, 'cat_addon': {'add': [['methanol_synthesis_addon', 'meth_h2']]}, 'relation': {'add': ['CO2_PtX_trans_disp_split', 'meth_exp_tot']}, 'balance_equality': {'add': [['methanol', 'export'], ['methanol', 'export_fs'], ['methanol', 'import'], ['methanol', 'import_fs'], ['methanol', 'final']]}}, 'buildings': {'level': {'add': ['service']}, 'commodity': {'add': ['floor_area']}, 'technology': {'add': ['buildings']}}, 'power_sector': {'unit': {'add': ['t/kW']}}}\n"
     ]
    },
    {
     "data": {
      "text/plain": "{'steel': ['minimum_recycling_steel',\n  'max_global_recycling_steel',\n  'max_regional_recycling_steel'],\n 'aluminum': ['minimum_recycling_aluminum', 'maximum_recycling_aluminum'],\n 'fertilizer': ['NH3_trd_cap', 'NFert_trd_cap'],\n 'methanol': ['CO2_PtX_trans_disp_split', 'meth_exp_tot']}"
     },
     "execution_count": 33,
     "metadata": {},
     "output_type": "execute_result"
    }
   ],
   "source": [
    "import yaml\n",
    "\n",
    "file_path = \"C:/Users\\maczek\\PycharmProjects\\message_data\\data\\material\\set.yaml\"\n",
    "try:\n",
    "    with open(file_path, 'r') as file:\n",
    "        yaml_data = yaml.safe_load(file)\n",
    "        #print(yaml_data)\n",
    "except FileNotFoundError:\n",
    "    print(\"File not found.\")\n",
    "except yaml.YAMLError as e:\n",
    "    print(\"Error reading YAML:\", e)\n",
    "for i in yaml_data.values():\n",
    "    if \"add\" in i.keys():\n",
    "        i[\"add\"]\n",
    "tec_list = {}\n",
    "for k, v in list(yaml_data.items()):\n",
    "    if \"relation\" in v.keys():\n",
    "        if \"add\" in v[\"relation\"].keys():\n",
    "            tec_list[k] = v[\"relation\"][\"add\"]\n",
    "tec_list"
   ],
   "metadata": {
    "collapsed": false
   },
   "id": "63202ecc1092200d"
  },
  {
   "cell_type": "code",
   "execution_count": 34,
   "outputs": [
    {
     "data": {
      "text/plain": "['minimum_recycling_steel',\n 'max_global_recycling_steel',\n 'max_regional_recycling_steel',\n 'minimum_recycling_aluminum',\n 'maximum_recycling_aluminum',\n 'NH3_trd_cap',\n 'NFert_trd_cap',\n 'CO2_PtX_trans_disp_split',\n 'meth_exp_tot']"
     },
     "execution_count": 34,
     "metadata": {},
     "output_type": "execute_result"
    }
   ],
   "source": [
    "tec_list_flat = [item for sublist in tec_list.values() for item in sublist]\n",
    "tec_list_flat"
   ],
   "metadata": {
    "collapsed": false
   },
   "id": "ccc0003e590dd93b"
  },
  {
   "cell_type": "code",
   "execution_count": 36,
   "outputs": [],
   "source": [
    "rels_depr = [i for i in relations if i not in tec_list_flat]"
   ],
   "metadata": {
    "collapsed": false
   },
   "id": "184529ea8b44a9d5"
  },
  {
   "cell_type": "code",
   "execution_count": 37,
   "outputs": [],
   "source": [
    "import yaml\n",
    "file_path = 'missing_rels.yaml'\n",
    "\n",
    "# Dump the list to the YAML file\n",
    "with open(file_path, 'w') as file:\n",
    "    yaml.dump(rels_depr, file, default_flow_style=False)"
   ],
   "metadata": {
    "collapsed": false
   },
   "id": "88612c44b58baa7b"
  },
  {
   "cell_type": "code",
   "execution_count": 40,
   "outputs": [],
   "source": [
    "file.close()"
   ],
   "metadata": {
    "collapsed": false
   },
   "id": "361019e1f3b9621f"
  },
  {
   "cell_type": "code",
   "execution_count": 41,
   "outputs": [
    {
     "data": {
      "text/plain": "['gas_util',\n 'SO2_red_synf',\n 'global_GSO2',\n 'global_GCO2',\n 'OilPrices',\n 'PE_export_total',\n 'PE_import_total',\n 'PE_synliquids',\n 'PE_total_direct',\n 'PE_total_engineering',\n 'FE_transport',\n 'SO2_red_ref',\n 'trp_energy',\n 'total_TCO2',\n 'nuc_lc_in_el',\n 'FE_liquids',\n 'FE_final_energy']"
     },
     "execution_count": 41,
     "metadata": {},
     "output_type": "execute_result"
    }
   ],
   "source": [
    "file_path = \"C:/Users\\maczek\\PycharmProjects\\message_data\\message_data\\model\\material\\petrochemical model fixes notebooks\\missing_rels.yaml\"\n",
    "\n",
    "with open(file_path, 'r') as file:\n",
    "    yaml_data = yaml.safe_load(file)\n",
    "    \n",
    "yaml_data"
   ],
   "metadata": {
    "collapsed": false
   },
   "id": "28ceabe429b7e7bf"
  },
  {
   "cell_type": "code",
   "execution_count": 2,
   "outputs": [],
   "source": [
    "df_scens = mp.scenario_list(model=\"MESSAGEix-Materials\")"
   ],
   "metadata": {
    "collapsed": false,
    "ExecuteTime": {
     "end_time": "2023-11-27T11:02:02.883815800Z",
     "start_time": "2023-11-27T11:02:02.715065500Z"
    }
   },
   "id": "e2da838c5fdf1877"
  },
  {
   "cell_type": "code",
   "execution_count": 3,
   "outputs": [
    {
     "data": {
      "text/plain": "                   model                           scenario   scheme  \\\n221  MESSAGEix-Materials           SSP_supply_cost_test_LED  MESSAGE   \n225  MESSAGEix-Materials          SSP_supply_cost_test_SSP4  MESSAGE   \n224  MESSAGEix-Materials          SSP_supply_cost_test_SSP3  MESSAGE   \n222  MESSAGEix-Materials          SSP_supply_cost_test_SSP1  MESSAGE   \n226  MESSAGEix-Materials          SSP_supply_cost_test_SSP5  MESSAGE   \n..                   ...                                ...      ...   \n32   MESSAGEix-Materials                           NoPolicy  MESSAGE   \n81   MESSAGEix-Materials  NoPolicy_all_with_power_sect_bldg  MESSAGE   \n80   MESSAGEix-Materials       NoPolicy_all_with_power_sect  MESSAGE   \n220  MESSAGEix-Materials                      NoPolicypower  MESSAGE   \n178  MESSAGEix-Materials                     NoPolicy_power  MESSAGE   \n\n     is_default  is_locked cre_user                    cre_date upd_user  \\\n221           1          0   maczek  2023-11-27 01:43:09.000000     None   \n225           1          0   maczek  2023-11-27 01:24:36.000000     None   \n224           1          0   maczek  2023-11-27 01:17:11.000000   maczek   \n222           1          0   maczek  2023-11-27 00:59:57.000000   maczek   \n226           1          0   maczek  2023-11-27 00:54:14.000000     None   \n..          ...        ...      ...                         ...      ...   \n32            1          0     unlu  2021-04-26 18:00:28.000000   maczek   \n81            1          0      min  2021-03-26 17:18:25.000000      min   \n80            1          0      min  2021-03-26 14:47:46.000000     None   \n220           1          0      min  2021-03-26 11:23:39.000000     None   \n178           1          1      min  2021-03-16 17:22:08.000000     None   \n\n                       upd_date lock_user                   lock_date  \\\n221                        None      None                        None   \n225                        None      None                        None   \n224  2023-11-27 01:24:20.000000      None                        None   \n222  2023-11-27 01:07:41.000000      None                        None   \n226                        None      None                        None   \n..                          ...       ...                         ...   \n32   2022-10-26 18:48:00.000000      None                        None   \n81   2021-03-26 18:38:22.000000      None                        None   \n80                         None      None                        None   \n220                        None      None                        None   \n178                        None       min  2021-03-16 17:23:14.000000   \n\n                                            annotation  version  \n221  clone Scenario from 'MESSAGEix-Materials|SSP_s...        1  \n225  clone Scenario from 'MESSAGEix-Materials|SSP_s...        1  \n224  clone Scenario from 'MESSAGEix-Materials|SSP_s...        1  \n222  clone Scenario from 'MESSAGEix-Materials|SSP_s...        1  \n226  clone Scenario from 'MESSAGEix-Materials|SSP_s...        1  \n..                                                 ...      ...  \n32   clone Scenario from 'ENGAGE_SSP2_v4.1.5|baseli...       88  \n81   clone Scenario from 'ENGAGE_SSP2_v4.1.4|baseli...        1  \n80   clone Scenario from 'ENGAGE_SSP2_v4.1.4|baseli...        2  \n220  clone Scenario from 'ENGAGE_SSP2_v4.1.4|baseli...       25  \n178  clone Scenario from 'ENGAGE_SSP2_v4.1.4|baseli...        1  \n\n[375 rows x 13 columns]",
      "text/html": "<div>\n<style scoped>\n    .dataframe tbody tr th:only-of-type {\n        vertical-align: middle;\n    }\n\n    .dataframe tbody tr th {\n        vertical-align: top;\n    }\n\n    .dataframe thead th {\n        text-align: right;\n    }\n</style>\n<table border=\"1\" class=\"dataframe\">\n  <thead>\n    <tr style=\"text-align: right;\">\n      <th></th>\n      <th>model</th>\n      <th>scenario</th>\n      <th>scheme</th>\n      <th>is_default</th>\n      <th>is_locked</th>\n      <th>cre_user</th>\n      <th>cre_date</th>\n      <th>upd_user</th>\n      <th>upd_date</th>\n      <th>lock_user</th>\n      <th>lock_date</th>\n      <th>annotation</th>\n      <th>version</th>\n    </tr>\n  </thead>\n  <tbody>\n    <tr>\n      <th>221</th>\n      <td>MESSAGEix-Materials</td>\n      <td>SSP_supply_cost_test_LED</td>\n      <td>MESSAGE</td>\n      <td>1</td>\n      <td>0</td>\n      <td>maczek</td>\n      <td>2023-11-27 01:43:09.000000</td>\n      <td>None</td>\n      <td>None</td>\n      <td>None</td>\n      <td>None</td>\n      <td>clone Scenario from 'MESSAGEix-Materials|SSP_s...</td>\n      <td>1</td>\n    </tr>\n    <tr>\n      <th>225</th>\n      <td>MESSAGEix-Materials</td>\n      <td>SSP_supply_cost_test_SSP4</td>\n      <td>MESSAGE</td>\n      <td>1</td>\n      <td>0</td>\n      <td>maczek</td>\n      <td>2023-11-27 01:24:36.000000</td>\n      <td>None</td>\n      <td>None</td>\n      <td>None</td>\n      <td>None</td>\n      <td>clone Scenario from 'MESSAGEix-Materials|SSP_s...</td>\n      <td>1</td>\n    </tr>\n    <tr>\n      <th>224</th>\n      <td>MESSAGEix-Materials</td>\n      <td>SSP_supply_cost_test_SSP3</td>\n      <td>MESSAGE</td>\n      <td>1</td>\n      <td>0</td>\n      <td>maczek</td>\n      <td>2023-11-27 01:17:11.000000</td>\n      <td>maczek</td>\n      <td>2023-11-27 01:24:20.000000</td>\n      <td>None</td>\n      <td>None</td>\n      <td>clone Scenario from 'MESSAGEix-Materials|SSP_s...</td>\n      <td>1</td>\n    </tr>\n    <tr>\n      <th>222</th>\n      <td>MESSAGEix-Materials</td>\n      <td>SSP_supply_cost_test_SSP1</td>\n      <td>MESSAGE</td>\n      <td>1</td>\n      <td>0</td>\n      <td>maczek</td>\n      <td>2023-11-27 00:59:57.000000</td>\n      <td>maczek</td>\n      <td>2023-11-27 01:07:41.000000</td>\n      <td>None</td>\n      <td>None</td>\n      <td>clone Scenario from 'MESSAGEix-Materials|SSP_s...</td>\n      <td>1</td>\n    </tr>\n    <tr>\n      <th>226</th>\n      <td>MESSAGEix-Materials</td>\n      <td>SSP_supply_cost_test_SSP5</td>\n      <td>MESSAGE</td>\n      <td>1</td>\n      <td>0</td>\n      <td>maczek</td>\n      <td>2023-11-27 00:54:14.000000</td>\n      <td>None</td>\n      <td>None</td>\n      <td>None</td>\n      <td>None</td>\n      <td>clone Scenario from 'MESSAGEix-Materials|SSP_s...</td>\n      <td>1</td>\n    </tr>\n    <tr>\n      <th>...</th>\n      <td>...</td>\n      <td>...</td>\n      <td>...</td>\n      <td>...</td>\n      <td>...</td>\n      <td>...</td>\n      <td>...</td>\n      <td>...</td>\n      <td>...</td>\n      <td>...</td>\n      <td>...</td>\n      <td>...</td>\n      <td>...</td>\n    </tr>\n    <tr>\n      <th>32</th>\n      <td>MESSAGEix-Materials</td>\n      <td>NoPolicy</td>\n      <td>MESSAGE</td>\n      <td>1</td>\n      <td>0</td>\n      <td>unlu</td>\n      <td>2021-04-26 18:00:28.000000</td>\n      <td>maczek</td>\n      <td>2022-10-26 18:48:00.000000</td>\n      <td>None</td>\n      <td>None</td>\n      <td>clone Scenario from 'ENGAGE_SSP2_v4.1.5|baseli...</td>\n      <td>88</td>\n    </tr>\n    <tr>\n      <th>81</th>\n      <td>MESSAGEix-Materials</td>\n      <td>NoPolicy_all_with_power_sect_bldg</td>\n      <td>MESSAGE</td>\n      <td>1</td>\n      <td>0</td>\n      <td>min</td>\n      <td>2021-03-26 17:18:25.000000</td>\n      <td>min</td>\n      <td>2021-03-26 18:38:22.000000</td>\n      <td>None</td>\n      <td>None</td>\n      <td>clone Scenario from 'ENGAGE_SSP2_v4.1.4|baseli...</td>\n      <td>1</td>\n    </tr>\n    <tr>\n      <th>80</th>\n      <td>MESSAGEix-Materials</td>\n      <td>NoPolicy_all_with_power_sect</td>\n      <td>MESSAGE</td>\n      <td>1</td>\n      <td>0</td>\n      <td>min</td>\n      <td>2021-03-26 14:47:46.000000</td>\n      <td>None</td>\n      <td>None</td>\n      <td>None</td>\n      <td>None</td>\n      <td>clone Scenario from 'ENGAGE_SSP2_v4.1.4|baseli...</td>\n      <td>2</td>\n    </tr>\n    <tr>\n      <th>220</th>\n      <td>MESSAGEix-Materials</td>\n      <td>NoPolicypower</td>\n      <td>MESSAGE</td>\n      <td>1</td>\n      <td>0</td>\n      <td>min</td>\n      <td>2021-03-26 11:23:39.000000</td>\n      <td>None</td>\n      <td>None</td>\n      <td>None</td>\n      <td>None</td>\n      <td>clone Scenario from 'ENGAGE_SSP2_v4.1.4|baseli...</td>\n      <td>25</td>\n    </tr>\n    <tr>\n      <th>178</th>\n      <td>MESSAGEix-Materials</td>\n      <td>NoPolicy_power</td>\n      <td>MESSAGE</td>\n      <td>1</td>\n      <td>1</td>\n      <td>min</td>\n      <td>2021-03-16 17:22:08.000000</td>\n      <td>None</td>\n      <td>None</td>\n      <td>min</td>\n      <td>2021-03-16 17:23:14.000000</td>\n      <td>clone Scenario from 'ENGAGE_SSP2_v4.1.4|baseli...</td>\n      <td>1</td>\n    </tr>\n  </tbody>\n</table>\n<p>375 rows × 13 columns</p>\n</div>"
     },
     "execution_count": 3,
     "metadata": {},
     "output_type": "execute_result"
    }
   ],
   "source": [
    "df_scens.sort_values(\"cre_date\", ascending=False)"
   ],
   "metadata": {
    "collapsed": false,
    "ExecuteTime": {
     "end_time": "2023-11-27T11:02:02.930659700Z",
     "start_time": "2023-11-27T11:02:02.883815800Z"
    }
   },
   "id": "db66efc69c0773ab"
  },
  {
   "cell_type": "code",
   "execution_count": null,
   "outputs": [],
   "source": [
    "clone Scenario from 'MESSAGEix-GLOBIOM 1.1-R12|baseline_DEFAULT', version: 21"
   ],
   "metadata": {
    "collapsed": false
   },
   "id": "d779b88ddf1f6f20"
  },
  {
   "cell_type": "code",
   "execution_count": 138,
   "outputs": [
    {
     "data": {
      "text/plain": "                        model                         scenario   scheme  \\\n0   MESSAGEix-GLOBIOM 1.1-R12                         2degrees  MESSAGE   \n1   MESSAGEix-GLOBIOM 1.1-R12                       MACRO_test  MESSAGE   \n2   MESSAGEix-GLOBIOM 1.1-R12               base_GLOBIOM_noSDG  MESSAGE   \n3   MESSAGEix-GLOBIOM 1.1-R12       base_GLOBIOM_noSDG_noConst  MESSAGE   \n4   MESSAGEix-GLOBIOM 1.1-R12              base_GLOBIOM_update  MESSAGE   \n5   MESSAGEix-GLOBIOM 1.1-R12                 baseline_DEFAULT  MESSAGE   \n6   MESSAGEix-GLOBIOM 1.1-R12            baseline_DEFAULT_2507  MESSAGE   \n7   MESSAGEix-GLOBIOM 1.1-R12           baseline_DEFAULT_clone  MESSAGE   \n8   MESSAGEix-GLOBIOM 1.1-R12      baseline_DEFAULT_gdp_update  MESSAGE   \n9   MESSAGEix-GLOBIOM 1.1-R12            baseline_DEFULT_check  MESSAGE   \n10  MESSAGEix-GLOBIOM 1.1-R12                 baseline_prep_lu  MESSAGE   \n11  MESSAGEix-GLOBIOM 1.1-R12              baseline_prep_macro  MESSAGE   \n12  MESSAGEix-GLOBIOM 1.1-R12        baseline_prep_macro_macro  MESSAGE   \n13  MESSAGEix-GLOBIOM 1.1-R12  test to confirm MACRO converges  MESSAGE   \n\n    is_default  is_locked cre_user                    cre_date upd_user  \\\n0            1          0     unlu  2023-10-09 11:41:56.000000     unlu   \n1            1          0      min  2022-05-02 16:57:38.000000     None   \n2            1          0      min  2023-08-01 10:58:46.000000     None   \n3            1          0      min  2023-08-11 15:17:05.000000     None   \n4            1          0      min  2023-04-18 14:25:06.000000     None   \n5            1          0      min  2023-07-27 10:24:37.000000     None   \n6            1          0     unlu  2023-07-25 17:28:24.000000     None   \n7            1          0     unlu  2023-02-01 09:55:44.000000     None   \n8            1          0      min  2022-03-03 00:24:43.000000      min   \n9            1          0     unlu  2023-07-31 14:17:24.000000     unlu   \n10           1          0      min  2022-04-30 17:29:17.000000      min   \n11           1          0      min  2022-03-02 14:21:00.000000     None   \n12           1          0      min  2022-04-30 20:29:07.000000      min   \n13           1          0      min  2022-04-30 20:34:54.000000      min   \n\n                      upd_date lock_user lock_date  \\\n0   2023-10-09 12:06:23.000000      None      None   \n1                         None      None      None   \n2                         None      None      None   \n3                         None      None      None   \n4                         None      None      None   \n5                         None      None      None   \n6                         None      None      None   \n7                         None      None      None   \n8   2022-03-03 00:33:38.000000      None      None   \n9   2023-07-31 14:26:45.000000      None      None   \n10  2022-04-30 18:18:13.000000      None      None   \n11                        None      None      None   \n12  2022-04-30 20:34:39.000000      None      None   \n13  2022-04-30 20:40:13.000000      None      None   \n\n                                           annotation  version  \n0   clone Scenario from 'MESSAGEix-GLOBIOM 1.1-R12...        1  \n1   clone Scenario from 'MESSAGEix-GLOBIOM 1.1-R12...        1  \n2   clone Scenario from 'MESSAGEix-GLOBIOM 1.1-R12...        6  \n3   clone Scenario from 'MESSAGEix-GLOBIOM 1.1-R12...        1  \n4   clone Scenario from 'MESSAGEix-GLOBIOM 1.1-R12...        3  \n5   clone Scenario from 'MESSAGEix-GLOBIOM 1.1-R12...       21  \n6   clone Scenario from 'MESSAGEix-GLOBIOM 1.1-R12...        1  \n7   clone Scenario from 'MESSAGEix-GLOBIOM 1.1-R12...        1  \n8   clone Scenario from 'MESSAGEix-GLOBIOM 1.1-R12...       25  \n9   clone Scenario from 'MESSAGEix-GLOBIOM 1.1-R12...        1  \n10  clone Scenario from 'MESSAGEix-GLOBIOM_R12_CHN...       17  \n11  clone Scenario from 'MESSAGEix-GLOBIOM 1.1-R12...        1  \n12  clone Scenario from 'MESSAGEix-GLOBIOM 1.1-R12...       17  \n13  clone Scenario from 'MESSAGEix-GLOBIOM 1.1-R12...        6  ",
      "text/html": "<div>\n<style scoped>\n    .dataframe tbody tr th:only-of-type {\n        vertical-align: middle;\n    }\n\n    .dataframe tbody tr th {\n        vertical-align: top;\n    }\n\n    .dataframe thead th {\n        text-align: right;\n    }\n</style>\n<table border=\"1\" class=\"dataframe\">\n  <thead>\n    <tr style=\"text-align: right;\">\n      <th></th>\n      <th>model</th>\n      <th>scenario</th>\n      <th>scheme</th>\n      <th>is_default</th>\n      <th>is_locked</th>\n      <th>cre_user</th>\n      <th>cre_date</th>\n      <th>upd_user</th>\n      <th>upd_date</th>\n      <th>lock_user</th>\n      <th>lock_date</th>\n      <th>annotation</th>\n      <th>version</th>\n    </tr>\n  </thead>\n  <tbody>\n    <tr>\n      <th>0</th>\n      <td>MESSAGEix-GLOBIOM 1.1-R12</td>\n      <td>2degrees</td>\n      <td>MESSAGE</td>\n      <td>1</td>\n      <td>0</td>\n      <td>unlu</td>\n      <td>2023-10-09 11:41:56.000000</td>\n      <td>unlu</td>\n      <td>2023-10-09 12:06:23.000000</td>\n      <td>None</td>\n      <td>None</td>\n      <td>clone Scenario from 'MESSAGEix-GLOBIOM 1.1-R12...</td>\n      <td>1</td>\n    </tr>\n    <tr>\n      <th>1</th>\n      <td>MESSAGEix-GLOBIOM 1.1-R12</td>\n      <td>MACRO_test</td>\n      <td>MESSAGE</td>\n      <td>1</td>\n      <td>0</td>\n      <td>min</td>\n      <td>2022-05-02 16:57:38.000000</td>\n      <td>None</td>\n      <td>None</td>\n      <td>None</td>\n      <td>None</td>\n      <td>clone Scenario from 'MESSAGEix-GLOBIOM 1.1-R12...</td>\n      <td>1</td>\n    </tr>\n    <tr>\n      <th>2</th>\n      <td>MESSAGEix-GLOBIOM 1.1-R12</td>\n      <td>base_GLOBIOM_noSDG</td>\n      <td>MESSAGE</td>\n      <td>1</td>\n      <td>0</td>\n      <td>min</td>\n      <td>2023-08-01 10:58:46.000000</td>\n      <td>None</td>\n      <td>None</td>\n      <td>None</td>\n      <td>None</td>\n      <td>clone Scenario from 'MESSAGEix-GLOBIOM 1.1-R12...</td>\n      <td>6</td>\n    </tr>\n    <tr>\n      <th>3</th>\n      <td>MESSAGEix-GLOBIOM 1.1-R12</td>\n      <td>base_GLOBIOM_noSDG_noConst</td>\n      <td>MESSAGE</td>\n      <td>1</td>\n      <td>0</td>\n      <td>min</td>\n      <td>2023-08-11 15:17:05.000000</td>\n      <td>None</td>\n      <td>None</td>\n      <td>None</td>\n      <td>None</td>\n      <td>clone Scenario from 'MESSAGEix-GLOBIOM 1.1-R12...</td>\n      <td>1</td>\n    </tr>\n    <tr>\n      <th>4</th>\n      <td>MESSAGEix-GLOBIOM 1.1-R12</td>\n      <td>base_GLOBIOM_update</td>\n      <td>MESSAGE</td>\n      <td>1</td>\n      <td>0</td>\n      <td>min</td>\n      <td>2023-04-18 14:25:06.000000</td>\n      <td>None</td>\n      <td>None</td>\n      <td>None</td>\n      <td>None</td>\n      <td>clone Scenario from 'MESSAGEix-GLOBIOM 1.1-R12...</td>\n      <td>3</td>\n    </tr>\n    <tr>\n      <th>5</th>\n      <td>MESSAGEix-GLOBIOM 1.1-R12</td>\n      <td>baseline_DEFAULT</td>\n      <td>MESSAGE</td>\n      <td>1</td>\n      <td>0</td>\n      <td>min</td>\n      <td>2023-07-27 10:24:37.000000</td>\n      <td>None</td>\n      <td>None</td>\n      <td>None</td>\n      <td>None</td>\n      <td>clone Scenario from 'MESSAGEix-GLOBIOM 1.1-R12...</td>\n      <td>21</td>\n    </tr>\n    <tr>\n      <th>6</th>\n      <td>MESSAGEix-GLOBIOM 1.1-R12</td>\n      <td>baseline_DEFAULT_2507</td>\n      <td>MESSAGE</td>\n      <td>1</td>\n      <td>0</td>\n      <td>unlu</td>\n      <td>2023-07-25 17:28:24.000000</td>\n      <td>None</td>\n      <td>None</td>\n      <td>None</td>\n      <td>None</td>\n      <td>clone Scenario from 'MESSAGEix-GLOBIOM 1.1-R12...</td>\n      <td>1</td>\n    </tr>\n    <tr>\n      <th>7</th>\n      <td>MESSAGEix-GLOBIOM 1.1-R12</td>\n      <td>baseline_DEFAULT_clone</td>\n      <td>MESSAGE</td>\n      <td>1</td>\n      <td>0</td>\n      <td>unlu</td>\n      <td>2023-02-01 09:55:44.000000</td>\n      <td>None</td>\n      <td>None</td>\n      <td>None</td>\n      <td>None</td>\n      <td>clone Scenario from 'MESSAGEix-GLOBIOM 1.1-R12...</td>\n      <td>1</td>\n    </tr>\n    <tr>\n      <th>8</th>\n      <td>MESSAGEix-GLOBIOM 1.1-R12</td>\n      <td>baseline_DEFAULT_gdp_update</td>\n      <td>MESSAGE</td>\n      <td>1</td>\n      <td>0</td>\n      <td>min</td>\n      <td>2022-03-03 00:24:43.000000</td>\n      <td>min</td>\n      <td>2022-03-03 00:33:38.000000</td>\n      <td>None</td>\n      <td>None</td>\n      <td>clone Scenario from 'MESSAGEix-GLOBIOM 1.1-R12...</td>\n      <td>25</td>\n    </tr>\n    <tr>\n      <th>9</th>\n      <td>MESSAGEix-GLOBIOM 1.1-R12</td>\n      <td>baseline_DEFULT_check</td>\n      <td>MESSAGE</td>\n      <td>1</td>\n      <td>0</td>\n      <td>unlu</td>\n      <td>2023-07-31 14:17:24.000000</td>\n      <td>unlu</td>\n      <td>2023-07-31 14:26:45.000000</td>\n      <td>None</td>\n      <td>None</td>\n      <td>clone Scenario from 'MESSAGEix-GLOBIOM 1.1-R12...</td>\n      <td>1</td>\n    </tr>\n    <tr>\n      <th>10</th>\n      <td>MESSAGEix-GLOBIOM 1.1-R12</td>\n      <td>baseline_prep_lu</td>\n      <td>MESSAGE</td>\n      <td>1</td>\n      <td>0</td>\n      <td>min</td>\n      <td>2022-04-30 17:29:17.000000</td>\n      <td>min</td>\n      <td>2022-04-30 18:18:13.000000</td>\n      <td>None</td>\n      <td>None</td>\n      <td>clone Scenario from 'MESSAGEix-GLOBIOM_R12_CHN...</td>\n      <td>17</td>\n    </tr>\n    <tr>\n      <th>11</th>\n      <td>MESSAGEix-GLOBIOM 1.1-R12</td>\n      <td>baseline_prep_macro</td>\n      <td>MESSAGE</td>\n      <td>1</td>\n      <td>0</td>\n      <td>min</td>\n      <td>2022-03-02 14:21:00.000000</td>\n      <td>None</td>\n      <td>None</td>\n      <td>None</td>\n      <td>None</td>\n      <td>clone Scenario from 'MESSAGEix-GLOBIOM 1.1-R12...</td>\n      <td>1</td>\n    </tr>\n    <tr>\n      <th>12</th>\n      <td>MESSAGEix-GLOBIOM 1.1-R12</td>\n      <td>baseline_prep_macro_macro</td>\n      <td>MESSAGE</td>\n      <td>1</td>\n      <td>0</td>\n      <td>min</td>\n      <td>2022-04-30 20:29:07.000000</td>\n      <td>min</td>\n      <td>2022-04-30 20:34:39.000000</td>\n      <td>None</td>\n      <td>None</td>\n      <td>clone Scenario from 'MESSAGEix-GLOBIOM 1.1-R12...</td>\n      <td>17</td>\n    </tr>\n    <tr>\n      <th>13</th>\n      <td>MESSAGEix-GLOBIOM 1.1-R12</td>\n      <td>test to confirm MACRO converges</td>\n      <td>MESSAGE</td>\n      <td>1</td>\n      <td>0</td>\n      <td>min</td>\n      <td>2022-04-30 20:34:54.000000</td>\n      <td>min</td>\n      <td>2022-04-30 20:40:13.000000</td>\n      <td>None</td>\n      <td>None</td>\n      <td>clone Scenario from 'MESSAGEix-GLOBIOM 1.1-R12...</td>\n      <td>6</td>\n    </tr>\n  </tbody>\n</table>\n</div>"
     },
     "execution_count": 138,
     "metadata": {},
     "output_type": "execute_result"
    }
   ],
   "source": [
    "#'MESSAGEix-GLOBIOM 1.1-R12|baseline_DEFAULT'\n",
    "mp.scenario_list(model=\"MESSAGEix-GLOBIOM 1.1-R12\")"
   ],
   "metadata": {
    "collapsed": false,
    "ExecuteTime": {
     "end_time": "2023-11-26T23:09:05.055299100Z",
     "start_time": "2023-11-26T23:09:04.964181400Z"
    }
   },
   "id": "a331aff3c9bd8ecf"
  },
  {
   "cell_type": "code",
   "execution_count": null,
   "outputs": [],
   "source": [],
   "metadata": {
    "collapsed": false
   },
   "id": "de251c1ec9184d76"
  }
 ],
 "metadata": {
  "kernelspec": {
   "display_name": "Python 3",
   "language": "python",
   "name": "python3"
  },
  "language_info": {
   "codemirror_mode": {
    "name": "ipython",
    "version": 2
   },
   "file_extension": ".py",
   "mimetype": "text/x-python",
   "name": "python",
   "nbconvert_exporter": "python",
   "pygments_lexer": "ipython2",
   "version": "2.7.6"
  }
 },
 "nbformat": 4,
 "nbformat_minor": 5
}
