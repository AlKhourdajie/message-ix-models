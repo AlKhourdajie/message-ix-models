{
 "cells": [
  {
   "cell_type": "code",
   "execution_count": 32,
   "outputs": [
    {
     "name": "stderr",
     "output_type": "stream",
     "text": [
      "This Scenario has a solution, use `Scenario.remove_solution()` or `Scenario.clone(..., keep_solution=False)`\n"
     ]
    },
    {
     "name": "stdout",
     "output_type": "stream",
     "text": [
      "New carbon prices added\n",
      "New scenario name is 2degrees_1_5C\n"
     ]
    },
    {
     "data": {
      "text/plain": "     node type_emission type_tec type_year        value      unit\n0   World           TCE      all      2025   102.143928  USD/tCO2\n1   World           TCE      all      2030   130.364412  USD/tCO2\n2   World           TCE      all      2035   166.381695  USD/tCO2\n3   World           TCE      all      2040   212.349890  USD/tCO2\n4   World           TCE      all      2045   271.018249  USD/tCO2\n5   World           TCE      all      2050   345.895595  USD/tCO2\n6   World           TCE      all      2055   441.460170  USD/tCO2\n7   World           TCE      all      2060   563.427476  USD/tCO2\n8   World           TCE      all      2070   917.763988  USD/tCO2\n9   World           TCE      all      2080  1494.940829  USD/tCO2\n10  World           TCE      all      2090  2435.101083  USD/tCO2\n11  World           TCE      all      2100  3966.523070  USD/tCO2\n12  World           TCE      all      2110  6461.048116  USD/tCO2",
      "text/html": "<div>\n<style scoped>\n    .dataframe tbody tr th:only-of-type {\n        vertical-align: middle;\n    }\n\n    .dataframe tbody tr th {\n        vertical-align: top;\n    }\n\n    .dataframe thead th {\n        text-align: right;\n    }\n</style>\n<table border=\"1\" class=\"dataframe\">\n  <thead>\n    <tr style=\"text-align: right;\">\n      <th></th>\n      <th>node</th>\n      <th>type_emission</th>\n      <th>type_tec</th>\n      <th>type_year</th>\n      <th>value</th>\n      <th>unit</th>\n    </tr>\n  </thead>\n  <tbody>\n    <tr>\n      <th>0</th>\n      <td>World</td>\n      <td>TCE</td>\n      <td>all</td>\n      <td>2025</td>\n      <td>102.143928</td>\n      <td>USD/tCO2</td>\n    </tr>\n    <tr>\n      <th>1</th>\n      <td>World</td>\n      <td>TCE</td>\n      <td>all</td>\n      <td>2030</td>\n      <td>130.364412</td>\n      <td>USD/tCO2</td>\n    </tr>\n    <tr>\n      <th>2</th>\n      <td>World</td>\n      <td>TCE</td>\n      <td>all</td>\n      <td>2035</td>\n      <td>166.381695</td>\n      <td>USD/tCO2</td>\n    </tr>\n    <tr>\n      <th>3</th>\n      <td>World</td>\n      <td>TCE</td>\n      <td>all</td>\n      <td>2040</td>\n      <td>212.349890</td>\n      <td>USD/tCO2</td>\n    </tr>\n    <tr>\n      <th>4</th>\n      <td>World</td>\n      <td>TCE</td>\n      <td>all</td>\n      <td>2045</td>\n      <td>271.018249</td>\n      <td>USD/tCO2</td>\n    </tr>\n    <tr>\n      <th>5</th>\n      <td>World</td>\n      <td>TCE</td>\n      <td>all</td>\n      <td>2050</td>\n      <td>345.895595</td>\n      <td>USD/tCO2</td>\n    </tr>\n    <tr>\n      <th>6</th>\n      <td>World</td>\n      <td>TCE</td>\n      <td>all</td>\n      <td>2055</td>\n      <td>441.460170</td>\n      <td>USD/tCO2</td>\n    </tr>\n    <tr>\n      <th>7</th>\n      <td>World</td>\n      <td>TCE</td>\n      <td>all</td>\n      <td>2060</td>\n      <td>563.427476</td>\n      <td>USD/tCO2</td>\n    </tr>\n    <tr>\n      <th>8</th>\n      <td>World</td>\n      <td>TCE</td>\n      <td>all</td>\n      <td>2070</td>\n      <td>917.763988</td>\n      <td>USD/tCO2</td>\n    </tr>\n    <tr>\n      <th>9</th>\n      <td>World</td>\n      <td>TCE</td>\n      <td>all</td>\n      <td>2080</td>\n      <td>1494.940829</td>\n      <td>USD/tCO2</td>\n    </tr>\n    <tr>\n      <th>10</th>\n      <td>World</td>\n      <td>TCE</td>\n      <td>all</td>\n      <td>2090</td>\n      <td>2435.101083</td>\n      <td>USD/tCO2</td>\n    </tr>\n    <tr>\n      <th>11</th>\n      <td>World</td>\n      <td>TCE</td>\n      <td>all</td>\n      <td>2100</td>\n      <td>3966.523070</td>\n      <td>USD/tCO2</td>\n    </tr>\n    <tr>\n      <th>12</th>\n      <td>World</td>\n      <td>TCE</td>\n      <td>all</td>\n      <td>2110</td>\n      <td>6461.048116</td>\n      <td>USD/tCO2</td>\n    </tr>\n  </tbody>\n</table>\n</div>"
     },
     "execution_count": 32,
     "metadata": {},
     "output_type": "execute_result"
    }
   ],
   "source": [
    "import pandas as pd\n",
    "import ixmp\n",
    "import message_ix\n",
    "\n",
    "climate_target = \"2C\"\n",
    "climate_target = \"1_5C\"\n",
    "\n",
    "baseline_name = \"put name of shipping baseline scenario here\"\n",
    "\n",
    "if climate_target == \"2°C\":\n",
    "    tax_emission_new = pd.read_csv(\"tax_emission_1000f.csv\") # 2°C carbon prices\n",
    "if climate_target == \"1.5°C\": \n",
    "    tax_emission_new = pd.read_csv(\"tax_emission_600f.csv\") # 1.5°C carbon prices\n",
    "\n",
    "scenario = message_ix.Scenario(mp, 'MESSAGEix-Materials', \"NoPolicy_petro_thesis_2_final\")\n",
    "\n",
    "output_scenario_name = output_scenario_name + '_' + climate_target # choose whatever name you want for the carbon price run\n",
    "\n",
    "scen_cprice = scenario.clone('MESSAGEix-Materials', output_scenario_name,\n",
    "                          keep_solution=False, shift_first_model_year=2025)\n",
    "\n",
    "scen_cprice.check_out()\n",
    "tax_emission_new.columns = scen_cprice.par(\"tax_emission\").columns\n",
    "tax_emission_new[\"unit\"] = \"USD/tCO2\"\n",
    "scen_cprice.add_par(\"tax_emission\", tax_emission_new)\n",
    "scen_cprice.commit('2 degree prices are added')\n",
    "print('New carbon prices added')\n",
    "print('New scenario name is ' + output_scenario_name)\n",
    "scen_cprice.par(\"tax_emission\")\n",
    "#scen_cprice.set_as_default()"
   ],
   "metadata": {
    "collapsed": false,
    "ExecuteTime": {
     "end_time": "2023-11-29T15:59:11.705882400Z",
     "start_time": "2023-11-29T15:58:46.810437100Z"
    }
   },
   "id": "906a600a96493f6e"
  },
  {
   "cell_type": "code",
   "execution_count": null,
   "outputs": [],
   "source": [],
   "metadata": {
    "collapsed": false
   },
   "id": "86789658e0575882"
  }
 ],
 "metadata": {
  "kernelspec": {
   "display_name": "Python 3",
   "language": "python",
   "name": "python3"
  },
  "language_info": {
   "codemirror_mode": {
    "name": "ipython",
    "version": 2
   },
   "file_extension": ".py",
   "mimetype": "text/x-python",
   "name": "python",
   "nbconvert_exporter": "python",
   "pygments_lexer": "ipython2",
   "version": "2.7.6"
  }
 },
 "nbformat": 4,
 "nbformat_minor": 5
}
