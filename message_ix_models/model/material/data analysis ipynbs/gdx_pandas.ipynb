{
 "cells": [
  {
   "cell_type": "code",
   "execution_count": 3,
   "metadata": {
    "collapsed": true
   },
   "outputs": [],
   "source": [
    "import gdxpds\n",
    "import pandas as pd\n",
    "co2_c_factor = 44/12"
   ]
  },
  {
   "cell_type": "code",
   "execution_count": 1,
   "outputs": [],
   "source": [
    "#gdx_file = 'C:/Users\\maczek\\PycharmProjects\\message_ix\\message_ix\\model\\output\\MsgOutput_MESSAGEix-Materials_2.0deg_petro_thesis_2_macro.gdx'\n",
    "#gdx_file = 'C:/Users\\maczek\\PycharmProjects\\message_ix\\message_ix\\model\\output\\MsgOutput_MESSAGEix-Materials_2.0deg_petro_thesis_2_macro_w_ENGAGE_fixes_test_loil_exp_fix.gdx'\n",
    "#gdx_file = 'C:/Users\\maczek\\PycharmProjects\\message_ix\\message_ix\\model\\output\\MsgOutput_ENGAGE_SSP2_v4.1.8.3_T4.5_r3.1_baseline_magpie.gdx'\n",
    "#gdx_file = 'C:/Users\\maczek\\PycharmProjects\\message_ix\\message_ix\\model\\output\\MsgOutput_MESSAGEix-Materials_NoPolicy_petro_thesis_2_w_ENGAGE_fixes_test_build_2_macro.gdx'\n",
    "#gdx_file = 'C:/Users\\maczek\\PycharmProjects\\message_ix\\message_ix\\model\\output/thesis final/MsgOutput_MESSAGEix-Materials_NoPolicy_petro_thesis_2_final_macro.gdx'\n",
    "gdx_file = 'C:/Users\\maczek\\PycharmProjects\\message_ix\\message_ix\\model\\output/MsgOutput_MESSAGEix-GLOBIOM_1.1-R12-MAGPIE-MP00BD1BI00_baseline.gdx'\n",
    "#gdx_file = 'C:/Users\\maczek\\PycharmProjects\\message_ix\\message_ix\\model\\output/MsgOutput_MESSAGEix-GLOBIOM_1.1-R12-MAGPIE-MP00BD1BI00_NPi2020-con-prim-dir-ncr_master.gdx'\n",
    "#dataframes = gdxpds.to_dataframes(gdx_file)"
   ],
   "metadata": {
    "collapsed": false
   }
  },
  {
   "cell_type": "code",
   "execution_count": 3,
   "outputs": [],
   "source": [
    "mps = [\"00\", \"30\", \"50\", \"76\"]\n",
    "bis = [\"00\", \"70\", \"74\", \"78\"]"
   ],
   "metadata": {
    "collapsed": false
   }
  },
  {
   "cell_type": "code",
   "execution_count": 28,
   "outputs": [
    {
     "name": "stdout",
     "output_type": "stream",
     "text": [
      "MP00BD1BI00 []\n",
      "MP00BD0BI70 [0.03030621]\n",
      "MP00BD0BI74 []\n",
      "MP00BD0BI78 []\n",
      "MP30BD1BI00 [0.08847191]\n",
      "MP30BD0BI70 []\n",
      "MP30BD0BI74 [0.02933949]\n",
      "MP50BD1BI00 []\n",
      "MP50BD0BI70 [0.0890051]\n",
      "MP50BD0BI74 [0.01935185]\n",
      "MP50BD0BI78 []\n",
      "MP76BD1BI00 [0.12013137]\n",
      "MP76BD0BI70 [0.0857669]\n",
      "MP76BD0BI74 [0.02513131]\n",
      "MP76BD0BI78 [0.04660288]\n"
     ]
    }
   ],
   "source": [
    "import os\n",
    "\n",
    "for mp in mps:\n",
    "        for bi in bis:\n",
    "            if bi == \"00\":\n",
    "                bd = 1\n",
    "            else:\n",
    "                bd = 0\n",
    "            model = f\"MP{mp}BD{bd}BI{bi}\"\n",
    "            gdx_name = f\"C:/Users\\maczek\\PycharmProjects\\message_ix\\message_ix\\model\\output/MsgOutput_MESSAGEix-GLOBIOM_1.1-R12-MAGPIE-MP{mp}BD{bd}BI{bi}_NPi2020-con-prim-dir-ncr.gdx\"\n",
    "            gdx_name = f\"C:/Users\\maczek\\PycharmProjects\\message_ix\\message_ix\\model\\output/MsgOutput_MESSAGEix-GLOBIOM_1.1-R12-MAGPIE-MP{mp}BD{bd}BI{bi}_EN_NPi2020_650.gdx\"\n",
    "            #print(os.path.exists(gdx_name))\n",
    "            if not os.path.exists(gdx_name):\n",
    "                continue\n",
    "            #print(\"test\")\n",
    "            df_act = gdxpds.to_dataframe(gdx_name, \"ACT\")[\"ACT\"]\n",
    "            #print(df_act.columns)\n",
    "            print(model, df_act[(df_act[\"Level\"]!=0) & (df_act[\"tec\"]==\"bio_backstop\")][\"Level\"].values)\n",
    "            #break\n",
    "        #break"
   ],
   "metadata": {
    "collapsed": false
   }
  },
  {
   "cell_type": "code",
   "execution_count": 16,
   "outputs": [],
   "source": [
    "#df_all = gdxpds.to_dataframes(gdx_file)\n",
    "df_all = gdxpds.to_dataframe(gdx_file, \"land_output\")"
   ],
   "metadata": {
    "collapsed": false
   }
  },
  {
   "cell_type": "code",
   "execution_count": 4,
   "outputs": [],
   "source": [
    "df_gro = gdxpds.to_dataframe(gdx_file, \"growth_activity_lo\")[\"growth_activity_lo\"]\n",
    "df_soft = gdxpds.to_dataframe(gdx_file, \"soft_activity_lo\")[\"soft_activity_lo\"]"
   ],
   "metadata": {
    "collapsed": false
   }
  },
  {
   "cell_type": "code",
   "execution_count": 13,
   "outputs": [],
   "source": [
    "df_var = gdxpds.to_dataframe(gdx_file, \"ACTIVITY_CONSTRAINT_LO\")[\"ACTIVITY_CONSTRAINT_LO\"]"
   ],
   "metadata": {
    "collapsed": false
   }
  },
  {
   "cell_type": "code",
   "execution_count": 20,
   "outputs": [],
   "source": [
    "df_var.columns = [\"node\", \"tec\", \"year_all\", \"time\", \"Level\", \"Marginal\", \"Lower\", \"Upper\", \"Scale\"]"
   ],
   "metadata": {
    "collapsed": false
   }
  },
  {
   "cell_type": "code",
   "execution_count": 21,
   "outputs": [
    {
     "data": {
      "text/plain": "          node          tec year_all  time       Level  Marginal      Lower  \\\n0      R12_AFR      LNG_exp     2020  year   64.134989       0.0  29.753100   \n1      R12_AFR      LNG_exp     2025  year   32.884912       0.0  -9.048762   \n2      R12_AFR      LNG_exp     2030  year   31.082772       0.0  -9.048762   \n3      R12_AFR      LNG_exp     2035  year   12.542668       0.0  -9.048762   \n4      R12_AFR      LNG_exp     2040  year   32.041154       0.0  -9.048762   \n...        ...          ...      ...   ...         ...       ...        ...   \n13732  R12_CHN  biomass_exp     2070  year   83.981427       0.0 -16.050522   \n13733  R12_CHN  biomass_exp     2080  year   81.488368       0.0 -16.050522   \n13734  R12_CHN  biomass_exp     2090  year   80.277312       0.0 -16.050522   \n13735  R12_CHN  biomass_exp     2100  year  102.884565       0.0 -16.050522   \n13736  R12_CHN  biomass_exp     2110  year   65.048786       0.0 -16.050522   \n\n               Upper  Scale  \n0      3.000000e+300    1.0  \n1      3.000000e+300    1.0  \n2      3.000000e+300    1.0  \n3      3.000000e+300    1.0  \n4      3.000000e+300    1.0  \n...              ...    ...  \n13732  3.000000e+300    1.0  \n13733  3.000000e+300    1.0  \n13734  3.000000e+300    1.0  \n13735  3.000000e+300    1.0  \n13736  3.000000e+300    1.0  \n\n[13737 rows x 9 columns]",
      "text/html": "<div>\n<style scoped>\n    .dataframe tbody tr th:only-of-type {\n        vertical-align: middle;\n    }\n\n    .dataframe tbody tr th {\n        vertical-align: top;\n    }\n\n    .dataframe thead th {\n        text-align: right;\n    }\n</style>\n<table border=\"1\" class=\"dataframe\">\n  <thead>\n    <tr style=\"text-align: right;\">\n      <th></th>\n      <th>node</th>\n      <th>tec</th>\n      <th>year_all</th>\n      <th>time</th>\n      <th>Level</th>\n      <th>Marginal</th>\n      <th>Lower</th>\n      <th>Upper</th>\n      <th>Scale</th>\n    </tr>\n  </thead>\n  <tbody>\n    <tr>\n      <th>0</th>\n      <td>R12_AFR</td>\n      <td>LNG_exp</td>\n      <td>2020</td>\n      <td>year</td>\n      <td>64.134989</td>\n      <td>0.0</td>\n      <td>29.753100</td>\n      <td>3.000000e+300</td>\n      <td>1.0</td>\n    </tr>\n    <tr>\n      <th>1</th>\n      <td>R12_AFR</td>\n      <td>LNG_exp</td>\n      <td>2025</td>\n      <td>year</td>\n      <td>32.884912</td>\n      <td>0.0</td>\n      <td>-9.048762</td>\n      <td>3.000000e+300</td>\n      <td>1.0</td>\n    </tr>\n    <tr>\n      <th>2</th>\n      <td>R12_AFR</td>\n      <td>LNG_exp</td>\n      <td>2030</td>\n      <td>year</td>\n      <td>31.082772</td>\n      <td>0.0</td>\n      <td>-9.048762</td>\n      <td>3.000000e+300</td>\n      <td>1.0</td>\n    </tr>\n    <tr>\n      <th>3</th>\n      <td>R12_AFR</td>\n      <td>LNG_exp</td>\n      <td>2035</td>\n      <td>year</td>\n      <td>12.542668</td>\n      <td>0.0</td>\n      <td>-9.048762</td>\n      <td>3.000000e+300</td>\n      <td>1.0</td>\n    </tr>\n    <tr>\n      <th>4</th>\n      <td>R12_AFR</td>\n      <td>LNG_exp</td>\n      <td>2040</td>\n      <td>year</td>\n      <td>32.041154</td>\n      <td>0.0</td>\n      <td>-9.048762</td>\n      <td>3.000000e+300</td>\n      <td>1.0</td>\n    </tr>\n    <tr>\n      <th>...</th>\n      <td>...</td>\n      <td>...</td>\n      <td>...</td>\n      <td>...</td>\n      <td>...</td>\n      <td>...</td>\n      <td>...</td>\n      <td>...</td>\n      <td>...</td>\n    </tr>\n    <tr>\n      <th>13732</th>\n      <td>R12_CHN</td>\n      <td>biomass_exp</td>\n      <td>2070</td>\n      <td>year</td>\n      <td>83.981427</td>\n      <td>0.0</td>\n      <td>-16.050522</td>\n      <td>3.000000e+300</td>\n      <td>1.0</td>\n    </tr>\n    <tr>\n      <th>13733</th>\n      <td>R12_CHN</td>\n      <td>biomass_exp</td>\n      <td>2080</td>\n      <td>year</td>\n      <td>81.488368</td>\n      <td>0.0</td>\n      <td>-16.050522</td>\n      <td>3.000000e+300</td>\n      <td>1.0</td>\n    </tr>\n    <tr>\n      <th>13734</th>\n      <td>R12_CHN</td>\n      <td>biomass_exp</td>\n      <td>2090</td>\n      <td>year</td>\n      <td>80.277312</td>\n      <td>0.0</td>\n      <td>-16.050522</td>\n      <td>3.000000e+300</td>\n      <td>1.0</td>\n    </tr>\n    <tr>\n      <th>13735</th>\n      <td>R12_CHN</td>\n      <td>biomass_exp</td>\n      <td>2100</td>\n      <td>year</td>\n      <td>102.884565</td>\n      <td>0.0</td>\n      <td>-16.050522</td>\n      <td>3.000000e+300</td>\n      <td>1.0</td>\n    </tr>\n    <tr>\n      <th>13736</th>\n      <td>R12_CHN</td>\n      <td>biomass_exp</td>\n      <td>2110</td>\n      <td>year</td>\n      <td>65.048786</td>\n      <td>0.0</td>\n      <td>-16.050522</td>\n      <td>3.000000e+300</td>\n      <td>1.0</td>\n    </tr>\n  </tbody>\n</table>\n<p>13737 rows × 9 columns</p>\n</div>"
     },
     "execution_count": 21,
     "metadata": {},
     "output_type": "execute_result"
    }
   ],
   "source": [
    "df_var"
   ],
   "metadata": {
    "collapsed": false
   }
  },
  {
   "cell_type": "code",
   "execution_count": 34,
   "outputs": [
    {
     "data": {
      "text/plain": "['wind_ppf',\n 'biomass_imp',\n 'biomass_exp',\n 'LH2_bunker',\n 'LNG_bunker',\n 'eth_bunker',\n 'foil_bunker',\n 'loil_bunker',\n 'meth_bunker']"
     },
     "execution_count": 34,
     "metadata": {},
     "output_type": "execute_result"
    }
   ],
   "source": [
    "[i for i in list(df_gro.tec.unique()) if i not in list(df_soft.tec.unique())]\n",
    "#[i for i in list(df_soft.tec.unique()) if i not in list(df_gro.tec.unique())]\n",
    "[i for i in list(df_soft.tec.unique()) if i not in list(df_var.tec.unique())]\n",
    "#[i for i in list(df_var.tec.unique()) if i not in list(df_soft.tec.unique())]\n",
    "#[i for i in list(df_var.tec.unique()) if ((i not in list(df_gro.tec.unique())) & (i not in list(df_soft.tec.unique())))]\n",
    "[i for i in list(df_var.tec.unique()) if (i not in list(df_soft.tec.unique()))]"
   ],
   "metadata": {
    "collapsed": false
   }
  },
  {
   "cell_type": "code",
   "execution_count": 17,
   "outputs": [],
   "source": [
    "df_all = df_all[\"land_output\"]"
   ],
   "metadata": {
    "collapsed": false
   }
  },
  {
   "cell_type": "code",
   "execution_count": 18,
   "outputs": [
    {
     "data": {
      "text/plain": "            node land_scenario year_all  commodity               level  time  \\\n2201157  R12_CHN   BIO05GHG000     2020  bioenergy            land_use  year   \n2201158  R12_CHN   BIO05GHG000     2020  bioenergy  land_use_reporting  year   \n2203425  R12_CHN   BIO05GHG010     2020  bioenergy            land_use  year   \n2203426  R12_CHN   BIO05GHG010     2020  bioenergy  land_use_reporting  year   \n2205735  R12_CHN   BIO05GHG020     2020  bioenergy            land_use  year   \n...          ...           ...      ...        ...                 ...   ...   \n2388263  R12_CHN  BIO45GHG4000     2020  bioenergy  land_use_reporting  year   \n2390583  R12_CHN   BIO45GHG600     2020  bioenergy            land_use  year   \n2390584  R12_CHN   BIO45GHG600     2020  bioenergy  land_use_reporting  year   \n2392903  R12_CHN   BIO45GHG990     2020  bioenergy            land_use  year   \n2392904  R12_CHN   BIO45GHG990     2020  bioenergy  land_use_reporting  year   \n\n            Value  \n2201157  238.5000  \n2201158  238.5029  \n2203425  238.5000  \n2203426  238.5029  \n2205735  238.5000  \n...           ...  \n2388263  238.5029  \n2390583  238.5000  \n2390584  238.5029  \n2392903  238.5000  \n2392904  238.5029  \n\n[168 rows x 7 columns]",
      "text/html": "<div>\n<style scoped>\n    .dataframe tbody tr th:only-of-type {\n        vertical-align: middle;\n    }\n\n    .dataframe tbody tr th {\n        vertical-align: top;\n    }\n\n    .dataframe thead th {\n        text-align: right;\n    }\n</style>\n<table border=\"1\" class=\"dataframe\">\n  <thead>\n    <tr style=\"text-align: right;\">\n      <th></th>\n      <th>node</th>\n      <th>land_scenario</th>\n      <th>year_all</th>\n      <th>commodity</th>\n      <th>level</th>\n      <th>time</th>\n      <th>Value</th>\n    </tr>\n  </thead>\n  <tbody>\n    <tr>\n      <th>2201157</th>\n      <td>R12_CHN</td>\n      <td>BIO05GHG000</td>\n      <td>2020</td>\n      <td>bioenergy</td>\n      <td>land_use</td>\n      <td>year</td>\n      <td>238.5000</td>\n    </tr>\n    <tr>\n      <th>2201158</th>\n      <td>R12_CHN</td>\n      <td>BIO05GHG000</td>\n      <td>2020</td>\n      <td>bioenergy</td>\n      <td>land_use_reporting</td>\n      <td>year</td>\n      <td>238.5029</td>\n    </tr>\n    <tr>\n      <th>2203425</th>\n      <td>R12_CHN</td>\n      <td>BIO05GHG010</td>\n      <td>2020</td>\n      <td>bioenergy</td>\n      <td>land_use</td>\n      <td>year</td>\n      <td>238.5000</td>\n    </tr>\n    <tr>\n      <th>2203426</th>\n      <td>R12_CHN</td>\n      <td>BIO05GHG010</td>\n      <td>2020</td>\n      <td>bioenergy</td>\n      <td>land_use_reporting</td>\n      <td>year</td>\n      <td>238.5029</td>\n    </tr>\n    <tr>\n      <th>2205735</th>\n      <td>R12_CHN</td>\n      <td>BIO05GHG020</td>\n      <td>2020</td>\n      <td>bioenergy</td>\n      <td>land_use</td>\n      <td>year</td>\n      <td>238.5000</td>\n    </tr>\n    <tr>\n      <th>...</th>\n      <td>...</td>\n      <td>...</td>\n      <td>...</td>\n      <td>...</td>\n      <td>...</td>\n      <td>...</td>\n      <td>...</td>\n    </tr>\n    <tr>\n      <th>2388263</th>\n      <td>R12_CHN</td>\n      <td>BIO45GHG4000</td>\n      <td>2020</td>\n      <td>bioenergy</td>\n      <td>land_use_reporting</td>\n      <td>year</td>\n      <td>238.5029</td>\n    </tr>\n    <tr>\n      <th>2390583</th>\n      <td>R12_CHN</td>\n      <td>BIO45GHG600</td>\n      <td>2020</td>\n      <td>bioenergy</td>\n      <td>land_use</td>\n      <td>year</td>\n      <td>238.5000</td>\n    </tr>\n    <tr>\n      <th>2390584</th>\n      <td>R12_CHN</td>\n      <td>BIO45GHG600</td>\n      <td>2020</td>\n      <td>bioenergy</td>\n      <td>land_use_reporting</td>\n      <td>year</td>\n      <td>238.5029</td>\n    </tr>\n    <tr>\n      <th>2392903</th>\n      <td>R12_CHN</td>\n      <td>BIO45GHG990</td>\n      <td>2020</td>\n      <td>bioenergy</td>\n      <td>land_use</td>\n      <td>year</td>\n      <td>238.5000</td>\n    </tr>\n    <tr>\n      <th>2392904</th>\n      <td>R12_CHN</td>\n      <td>BIO45GHG990</td>\n      <td>2020</td>\n      <td>bioenergy</td>\n      <td>land_use_reporting</td>\n      <td>year</td>\n      <td>238.5029</td>\n    </tr>\n  </tbody>\n</table>\n<p>168 rows × 7 columns</p>\n</div>"
     },
     "execution_count": 18,
     "metadata": {},
     "output_type": "execute_result"
    }
   ],
   "source": [
    "df_all[(df_all[\"commodity\"]==\"bioenergy\") & ( df_all[\"node\"]==\"R12_CHN\") & (df_all[\"year_all\"]==\"2020\")]"
   ],
   "metadata": {
    "collapsed": false
   }
  },
  {
   "cell_type": "code",
   "execution_count": 33,
   "outputs": [
    {
     "name": "stderr",
     "output_type": "stream",
     "text": [
      "C:\\Users\\maczek\\AppData\\Local\\Temp\\ipykernel_24400\\878313158.py:1: FutureWarning: reindexing with a non-unique Index is deprecated and will raise in a future version.\n",
      "  v[v.node.isin([\"R12_CHN\"])]\n"
     ]
    },
    {
     "ename": "ValueError",
     "evalue": "cannot reindex on an axis with duplicate labels",
     "output_type": "error",
     "traceback": [
      "\u001B[1;31m---------------------------------------------------------------------------\u001B[0m",
      "\u001B[1;31mValueError\u001B[0m                                Traceback (most recent call last)",
      "Input \u001B[1;32mIn [33]\u001B[0m, in \u001B[0;36m<cell line: 1>\u001B[1;34m()\u001B[0m\n\u001B[1;32m----> 1\u001B[0m \u001B[43mv\u001B[49m\u001B[43m[\u001B[49m\u001B[43mv\u001B[49m\u001B[38;5;241;43m.\u001B[39;49m\u001B[43mnode\u001B[49m\u001B[38;5;241;43m.\u001B[39;49m\u001B[43misin\u001B[49m\u001B[43m(\u001B[49m\u001B[43m[\u001B[49m\u001B[38;5;124;43m\"\u001B[39;49m\u001B[38;5;124;43mR12_CHN\u001B[39;49m\u001B[38;5;124;43m\"\u001B[39;49m\u001B[43m]\u001B[49m\u001B[43m)\u001B[49m\u001B[43m]\u001B[49m\n",
      "File \u001B[1;32m~\\Anaconda3\\lib\\site-packages\\pandas\\core\\frame.py:3492\u001B[0m, in \u001B[0;36mDataFrame.__getitem__\u001B[1;34m(self, key)\u001B[0m\n\u001B[0;32m   3490\u001B[0m \u001B[38;5;66;03m# Do we have a (boolean) DataFrame?\u001B[39;00m\n\u001B[0;32m   3491\u001B[0m \u001B[38;5;28;01mif\u001B[39;00m \u001B[38;5;28misinstance\u001B[39m(key, DataFrame):\n\u001B[1;32m-> 3492\u001B[0m     \u001B[38;5;28;01mreturn\u001B[39;00m \u001B[38;5;28;43mself\u001B[39;49m\u001B[38;5;241;43m.\u001B[39;49m\u001B[43mwhere\u001B[49m\u001B[43m(\u001B[49m\u001B[43mkey\u001B[49m\u001B[43m)\u001B[49m\n\u001B[0;32m   3494\u001B[0m \u001B[38;5;66;03m# Do we have a (boolean) 1d indexer?\u001B[39;00m\n\u001B[0;32m   3495\u001B[0m \u001B[38;5;28;01mif\u001B[39;00m com\u001B[38;5;241m.\u001B[39mis_bool_indexer(key):\n",
      "File \u001B[1;32m~\\Anaconda3\\lib\\site-packages\\pandas\\util\\_decorators.py:311\u001B[0m, in \u001B[0;36mdeprecate_nonkeyword_arguments.<locals>.decorate.<locals>.wrapper\u001B[1;34m(*args, **kwargs)\u001B[0m\n\u001B[0;32m    305\u001B[0m \u001B[38;5;28;01mif\u001B[39;00m \u001B[38;5;28mlen\u001B[39m(args) \u001B[38;5;241m>\u001B[39m num_allow_args:\n\u001B[0;32m    306\u001B[0m     warnings\u001B[38;5;241m.\u001B[39mwarn(\n\u001B[0;32m    307\u001B[0m         msg\u001B[38;5;241m.\u001B[39mformat(arguments\u001B[38;5;241m=\u001B[39marguments),\n\u001B[0;32m    308\u001B[0m         \u001B[38;5;167;01mFutureWarning\u001B[39;00m,\n\u001B[0;32m    309\u001B[0m         stacklevel\u001B[38;5;241m=\u001B[39mstacklevel,\n\u001B[0;32m    310\u001B[0m     )\n\u001B[1;32m--> 311\u001B[0m \u001B[38;5;28;01mreturn\u001B[39;00m \u001B[43mfunc\u001B[49m\u001B[43m(\u001B[49m\u001B[38;5;241;43m*\u001B[39;49m\u001B[43margs\u001B[49m\u001B[43m,\u001B[49m\u001B[43m \u001B[49m\u001B[38;5;241;43m*\u001B[39;49m\u001B[38;5;241;43m*\u001B[39;49m\u001B[43mkwargs\u001B[49m\u001B[43m)\u001B[49m\n",
      "File \u001B[1;32m~\\Anaconda3\\lib\\site-packages\\pandas\\core\\frame.py:10955\u001B[0m, in \u001B[0;36mDataFrame.where\u001B[1;34m(self, cond, other, inplace, axis, level, errors, try_cast)\u001B[0m\n\u001B[0;32m  10942\u001B[0m \u001B[38;5;129m@deprecate_nonkeyword_arguments\u001B[39m(\n\u001B[0;32m  10943\u001B[0m     version\u001B[38;5;241m=\u001B[39m\u001B[38;5;28;01mNone\u001B[39;00m, allowed_args\u001B[38;5;241m=\u001B[39m[\u001B[38;5;124m\"\u001B[39m\u001B[38;5;124mself\u001B[39m\u001B[38;5;124m\"\u001B[39m, \u001B[38;5;124m\"\u001B[39m\u001B[38;5;124mcond\u001B[39m\u001B[38;5;124m\"\u001B[39m, \u001B[38;5;124m\"\u001B[39m\u001B[38;5;124mother\u001B[39m\u001B[38;5;124m\"\u001B[39m]\n\u001B[0;32m  10944\u001B[0m )\n\u001B[1;32m   (...)\u001B[0m\n\u001B[0;32m  10953\u001B[0m     try_cast\u001B[38;5;241m=\u001B[39mlib\u001B[38;5;241m.\u001B[39mno_default,\n\u001B[0;32m  10954\u001B[0m ):\n\u001B[1;32m> 10955\u001B[0m     \u001B[38;5;28;01mreturn\u001B[39;00m \u001B[38;5;28;43msuper\u001B[39;49m\u001B[43m(\u001B[49m\u001B[43m)\u001B[49m\u001B[38;5;241;43m.\u001B[39;49m\u001B[43mwhere\u001B[49m\u001B[43m(\u001B[49m\u001B[43mcond\u001B[49m\u001B[43m,\u001B[49m\u001B[43m \u001B[49m\u001B[43mother\u001B[49m\u001B[43m,\u001B[49m\u001B[43m \u001B[49m\u001B[43minplace\u001B[49m\u001B[43m,\u001B[49m\u001B[43m \u001B[49m\u001B[43maxis\u001B[49m\u001B[43m,\u001B[49m\u001B[43m \u001B[49m\u001B[43mlevel\u001B[49m\u001B[43m,\u001B[49m\u001B[43m \u001B[49m\u001B[43merrors\u001B[49m\u001B[43m,\u001B[49m\u001B[43m \u001B[49m\u001B[43mtry_cast\u001B[49m\u001B[43m)\u001B[49m\n",
      "File \u001B[1;32m~\\Anaconda3\\lib\\site-packages\\pandas\\core\\generic.py:9308\u001B[0m, in \u001B[0;36mNDFrame.where\u001B[1;34m(self, cond, other, inplace, axis, level, errors, try_cast)\u001B[0m\n\u001B[0;32m   9300\u001B[0m \u001B[38;5;28;01mif\u001B[39;00m try_cast \u001B[38;5;129;01mis\u001B[39;00m \u001B[38;5;129;01mnot\u001B[39;00m lib\u001B[38;5;241m.\u001B[39mno_default:\n\u001B[0;32m   9301\u001B[0m     warnings\u001B[38;5;241m.\u001B[39mwarn(\n\u001B[0;32m   9302\u001B[0m         \u001B[38;5;124m\"\u001B[39m\u001B[38;5;124mtry_cast keyword is deprecated and will be removed in a \u001B[39m\u001B[38;5;124m\"\u001B[39m\n\u001B[0;32m   9303\u001B[0m         \u001B[38;5;124m\"\u001B[39m\u001B[38;5;124mfuture version.\u001B[39m\u001B[38;5;124m\"\u001B[39m,\n\u001B[0;32m   9304\u001B[0m         \u001B[38;5;167;01mFutureWarning\u001B[39;00m,\n\u001B[0;32m   9305\u001B[0m         stacklevel\u001B[38;5;241m=\u001B[39mfind_stack_level(),\n\u001B[0;32m   9306\u001B[0m     )\n\u001B[1;32m-> 9308\u001B[0m \u001B[38;5;28;01mreturn\u001B[39;00m \u001B[38;5;28;43mself\u001B[39;49m\u001B[38;5;241;43m.\u001B[39;49m\u001B[43m_where\u001B[49m\u001B[43m(\u001B[49m\u001B[43mcond\u001B[49m\u001B[43m,\u001B[49m\u001B[43m \u001B[49m\u001B[43mother\u001B[49m\u001B[43m,\u001B[49m\u001B[43m \u001B[49m\u001B[43minplace\u001B[49m\u001B[43m,\u001B[49m\u001B[43m \u001B[49m\u001B[43maxis\u001B[49m\u001B[43m,\u001B[49m\u001B[43m \u001B[49m\u001B[43mlevel\u001B[49m\u001B[43m,\u001B[49m\u001B[43m \u001B[49m\u001B[43merrors\u001B[49m\u001B[38;5;241;43m=\u001B[39;49m\u001B[43merrors\u001B[49m\u001B[43m)\u001B[49m\n",
      "File \u001B[1;32m~\\Anaconda3\\lib\\site-packages\\pandas\\core\\generic.py:9075\u001B[0m, in \u001B[0;36mNDFrame._where\u001B[1;34m(self, cond, other, inplace, axis, level, errors)\u001B[0m\n\u001B[0;32m   9072\u001B[0m     cond \u001B[38;5;241m=\u001B[39m cond\u001B[38;5;241m.\u001B[39mastype(\u001B[38;5;28mbool\u001B[39m)\n\u001B[0;32m   9074\u001B[0m cond \u001B[38;5;241m=\u001B[39m \u001B[38;5;241m-\u001B[39mcond \u001B[38;5;28;01mif\u001B[39;00m inplace \u001B[38;5;28;01melse\u001B[39;00m cond\n\u001B[1;32m-> 9075\u001B[0m cond \u001B[38;5;241m=\u001B[39m \u001B[43mcond\u001B[49m\u001B[38;5;241;43m.\u001B[39;49m\u001B[43mreindex\u001B[49m\u001B[43m(\u001B[49m\u001B[38;5;28;43mself\u001B[39;49m\u001B[38;5;241;43m.\u001B[39;49m\u001B[43m_info_axis\u001B[49m\u001B[43m,\u001B[49m\u001B[43m \u001B[49m\u001B[43maxis\u001B[49m\u001B[38;5;241;43m=\u001B[39;49m\u001B[38;5;28;43mself\u001B[39;49m\u001B[38;5;241;43m.\u001B[39;49m\u001B[43m_info_axis_number\u001B[49m\u001B[43m,\u001B[49m\u001B[43m \u001B[49m\u001B[43mcopy\u001B[49m\u001B[38;5;241;43m=\u001B[39;49m\u001B[38;5;28;43;01mFalse\u001B[39;49;00m\u001B[43m)\u001B[49m\n\u001B[0;32m   9077\u001B[0m \u001B[38;5;66;03m# try to align with other\u001B[39;00m\n\u001B[0;32m   9078\u001B[0m \u001B[38;5;28;01mif\u001B[39;00m \u001B[38;5;28misinstance\u001B[39m(other, NDFrame):\n\u001B[0;32m   9079\u001B[0m \n\u001B[0;32m   9080\u001B[0m     \u001B[38;5;66;03m# align with me\u001B[39;00m\n",
      "File \u001B[1;32m~\\Anaconda3\\lib\\site-packages\\pandas\\util\\_decorators.py:324\u001B[0m, in \u001B[0;36mrewrite_axis_style_signature.<locals>.decorate.<locals>.wrapper\u001B[1;34m(*args, **kwargs)\u001B[0m\n\u001B[0;32m    322\u001B[0m \u001B[38;5;129m@wraps\u001B[39m(func)\n\u001B[0;32m    323\u001B[0m \u001B[38;5;28;01mdef\u001B[39;00m \u001B[38;5;21mwrapper\u001B[39m(\u001B[38;5;241m*\u001B[39margs, \u001B[38;5;241m*\u001B[39m\u001B[38;5;241m*\u001B[39mkwargs) \u001B[38;5;241m-\u001B[39m\u001B[38;5;241m>\u001B[39m Callable[\u001B[38;5;241m.\u001B[39m\u001B[38;5;241m.\u001B[39m\u001B[38;5;241m.\u001B[39m, Any]:\n\u001B[1;32m--> 324\u001B[0m     \u001B[38;5;28;01mreturn\u001B[39;00m \u001B[43mfunc\u001B[49m\u001B[43m(\u001B[49m\u001B[38;5;241;43m*\u001B[39;49m\u001B[43margs\u001B[49m\u001B[43m,\u001B[49m\u001B[43m \u001B[49m\u001B[38;5;241;43m*\u001B[39;49m\u001B[38;5;241;43m*\u001B[39;49m\u001B[43mkwargs\u001B[49m\u001B[43m)\u001B[49m\n",
      "File \u001B[1;32m~\\Anaconda3\\lib\\site-packages\\pandas\\core\\frame.py:4804\u001B[0m, in \u001B[0;36mDataFrame.reindex\u001B[1;34m(self, *args, **kwargs)\u001B[0m\n\u001B[0;32m   4802\u001B[0m kwargs\u001B[38;5;241m.\u001B[39mpop(\u001B[38;5;124m\"\u001B[39m\u001B[38;5;124maxis\u001B[39m\u001B[38;5;124m\"\u001B[39m, \u001B[38;5;28;01mNone\u001B[39;00m)\n\u001B[0;32m   4803\u001B[0m kwargs\u001B[38;5;241m.\u001B[39mpop(\u001B[38;5;124m\"\u001B[39m\u001B[38;5;124mlabels\u001B[39m\u001B[38;5;124m\"\u001B[39m, \u001B[38;5;28;01mNone\u001B[39;00m)\n\u001B[1;32m-> 4804\u001B[0m \u001B[38;5;28;01mreturn\u001B[39;00m \u001B[38;5;28;43msuper\u001B[39;49m\u001B[43m(\u001B[49m\u001B[43m)\u001B[49m\u001B[38;5;241;43m.\u001B[39;49m\u001B[43mreindex\u001B[49m\u001B[43m(\u001B[49m\u001B[38;5;241;43m*\u001B[39;49m\u001B[38;5;241;43m*\u001B[39;49m\u001B[43mkwargs\u001B[49m\u001B[43m)\u001B[49m\n",
      "File \u001B[1;32m~\\Anaconda3\\lib\\site-packages\\pandas\\core\\generic.py:4966\u001B[0m, in \u001B[0;36mNDFrame.reindex\u001B[1;34m(self, *args, **kwargs)\u001B[0m\n\u001B[0;32m   4963\u001B[0m     \u001B[38;5;28;01mreturn\u001B[39;00m \u001B[38;5;28mself\u001B[39m\u001B[38;5;241m.\u001B[39m_reindex_multi(axes, copy, fill_value)\n\u001B[0;32m   4965\u001B[0m \u001B[38;5;66;03m# perform the reindex on the axes\u001B[39;00m\n\u001B[1;32m-> 4966\u001B[0m \u001B[38;5;28;01mreturn\u001B[39;00m \u001B[38;5;28;43mself\u001B[39;49m\u001B[38;5;241;43m.\u001B[39;49m\u001B[43m_reindex_axes\u001B[49m\u001B[43m(\u001B[49m\n\u001B[0;32m   4967\u001B[0m \u001B[43m    \u001B[49m\u001B[43maxes\u001B[49m\u001B[43m,\u001B[49m\u001B[43m \u001B[49m\u001B[43mlevel\u001B[49m\u001B[43m,\u001B[49m\u001B[43m \u001B[49m\u001B[43mlimit\u001B[49m\u001B[43m,\u001B[49m\u001B[43m \u001B[49m\u001B[43mtolerance\u001B[49m\u001B[43m,\u001B[49m\u001B[43m \u001B[49m\u001B[43mmethod\u001B[49m\u001B[43m,\u001B[49m\u001B[43m \u001B[49m\u001B[43mfill_value\u001B[49m\u001B[43m,\u001B[49m\u001B[43m \u001B[49m\u001B[43mcopy\u001B[49m\n\u001B[0;32m   4968\u001B[0m \u001B[43m\u001B[49m\u001B[43m)\u001B[49m\u001B[38;5;241m.\u001B[39m__finalize__(\u001B[38;5;28mself\u001B[39m, method\u001B[38;5;241m=\u001B[39m\u001B[38;5;124m\"\u001B[39m\u001B[38;5;124mreindex\u001B[39m\u001B[38;5;124m\"\u001B[39m)\n",
      "File \u001B[1;32m~\\Anaconda3\\lib\\site-packages\\pandas\\core\\frame.py:4617\u001B[0m, in \u001B[0;36mDataFrame._reindex_axes\u001B[1;34m(self, axes, level, limit, tolerance, method, fill_value, copy)\u001B[0m\n\u001B[0;32m   4615\u001B[0m columns \u001B[38;5;241m=\u001B[39m axes[\u001B[38;5;124m\"\u001B[39m\u001B[38;5;124mcolumns\u001B[39m\u001B[38;5;124m\"\u001B[39m]\n\u001B[0;32m   4616\u001B[0m \u001B[38;5;28;01mif\u001B[39;00m columns \u001B[38;5;129;01mis\u001B[39;00m \u001B[38;5;129;01mnot\u001B[39;00m \u001B[38;5;28;01mNone\u001B[39;00m:\n\u001B[1;32m-> 4617\u001B[0m     frame \u001B[38;5;241m=\u001B[39m \u001B[43mframe\u001B[49m\u001B[38;5;241;43m.\u001B[39;49m\u001B[43m_reindex_columns\u001B[49m\u001B[43m(\u001B[49m\n\u001B[0;32m   4618\u001B[0m \u001B[43m        \u001B[49m\u001B[43mcolumns\u001B[49m\u001B[43m,\u001B[49m\u001B[43m \u001B[49m\u001B[43mmethod\u001B[49m\u001B[43m,\u001B[49m\u001B[43m \u001B[49m\u001B[43mcopy\u001B[49m\u001B[43m,\u001B[49m\u001B[43m \u001B[49m\u001B[43mlevel\u001B[49m\u001B[43m,\u001B[49m\u001B[43m \u001B[49m\u001B[43mfill_value\u001B[49m\u001B[43m,\u001B[49m\u001B[43m \u001B[49m\u001B[43mlimit\u001B[49m\u001B[43m,\u001B[49m\u001B[43m \u001B[49m\u001B[43mtolerance\u001B[49m\n\u001B[0;32m   4619\u001B[0m \u001B[43m    \u001B[49m\u001B[43m)\u001B[49m\n\u001B[0;32m   4621\u001B[0m index \u001B[38;5;241m=\u001B[39m axes[\u001B[38;5;124m\"\u001B[39m\u001B[38;5;124mindex\u001B[39m\u001B[38;5;124m\"\u001B[39m]\n\u001B[0;32m   4622\u001B[0m \u001B[38;5;28;01mif\u001B[39;00m index \u001B[38;5;129;01mis\u001B[39;00m \u001B[38;5;129;01mnot\u001B[39;00m \u001B[38;5;28;01mNone\u001B[39;00m:\n",
      "File \u001B[1;32m~\\Anaconda3\\lib\\site-packages\\pandas\\core\\frame.py:4662\u001B[0m, in \u001B[0;36mDataFrame._reindex_columns\u001B[1;34m(self, new_columns, method, copy, level, fill_value, limit, tolerance)\u001B[0m\n\u001B[0;32m   4649\u001B[0m \u001B[38;5;28;01mdef\u001B[39;00m \u001B[38;5;21m_reindex_columns\u001B[39m(\n\u001B[0;32m   4650\u001B[0m     \u001B[38;5;28mself\u001B[39m,\n\u001B[0;32m   4651\u001B[0m     new_columns,\n\u001B[1;32m   (...)\u001B[0m\n\u001B[0;32m   4657\u001B[0m     tolerance\u001B[38;5;241m=\u001B[39m\u001B[38;5;28;01mNone\u001B[39;00m,\n\u001B[0;32m   4658\u001B[0m ):\n\u001B[0;32m   4659\u001B[0m     new_columns, indexer \u001B[38;5;241m=\u001B[39m \u001B[38;5;28mself\u001B[39m\u001B[38;5;241m.\u001B[39mcolumns\u001B[38;5;241m.\u001B[39mreindex(\n\u001B[0;32m   4660\u001B[0m         new_columns, method\u001B[38;5;241m=\u001B[39mmethod, level\u001B[38;5;241m=\u001B[39mlevel, limit\u001B[38;5;241m=\u001B[39mlimit, tolerance\u001B[38;5;241m=\u001B[39mtolerance\n\u001B[0;32m   4661\u001B[0m     )\n\u001B[1;32m-> 4662\u001B[0m     \u001B[38;5;28;01mreturn\u001B[39;00m \u001B[38;5;28;43mself\u001B[39;49m\u001B[38;5;241;43m.\u001B[39;49m\u001B[43m_reindex_with_indexers\u001B[49m\u001B[43m(\u001B[49m\n\u001B[0;32m   4663\u001B[0m \u001B[43m        \u001B[49m\u001B[43m{\u001B[49m\u001B[38;5;241;43m1\u001B[39;49m\u001B[43m:\u001B[49m\u001B[43m \u001B[49m\u001B[43m[\u001B[49m\u001B[43mnew_columns\u001B[49m\u001B[43m,\u001B[49m\u001B[43m \u001B[49m\u001B[43mindexer\u001B[49m\u001B[43m]\u001B[49m\u001B[43m}\u001B[49m\u001B[43m,\u001B[49m\n\u001B[0;32m   4664\u001B[0m \u001B[43m        \u001B[49m\u001B[43mcopy\u001B[49m\u001B[38;5;241;43m=\u001B[39;49m\u001B[43mcopy\u001B[49m\u001B[43m,\u001B[49m\n\u001B[0;32m   4665\u001B[0m \u001B[43m        \u001B[49m\u001B[43mfill_value\u001B[49m\u001B[38;5;241;43m=\u001B[39;49m\u001B[43mfill_value\u001B[49m\u001B[43m,\u001B[49m\n\u001B[0;32m   4666\u001B[0m \u001B[43m        \u001B[49m\u001B[43mallow_dups\u001B[49m\u001B[38;5;241;43m=\u001B[39;49m\u001B[38;5;28;43;01mFalse\u001B[39;49;00m\u001B[43m,\u001B[49m\n\u001B[0;32m   4667\u001B[0m \u001B[43m    \u001B[49m\u001B[43m)\u001B[49m\n",
      "File \u001B[1;32m~\\Anaconda3\\lib\\site-packages\\pandas\\core\\generic.py:5032\u001B[0m, in \u001B[0;36mNDFrame._reindex_with_indexers\u001B[1;34m(self, reindexers, fill_value, copy, allow_dups)\u001B[0m\n\u001B[0;32m   5029\u001B[0m     indexer \u001B[38;5;241m=\u001B[39m ensure_platform_int(indexer)\n\u001B[0;32m   5031\u001B[0m \u001B[38;5;66;03m# TODO: speed up on homogeneous DataFrame objects (see _reindex_multi)\u001B[39;00m\n\u001B[1;32m-> 5032\u001B[0m new_data \u001B[38;5;241m=\u001B[39m \u001B[43mnew_data\u001B[49m\u001B[38;5;241;43m.\u001B[39;49m\u001B[43mreindex_indexer\u001B[49m\u001B[43m(\u001B[49m\n\u001B[0;32m   5033\u001B[0m \u001B[43m    \u001B[49m\u001B[43mindex\u001B[49m\u001B[43m,\u001B[49m\n\u001B[0;32m   5034\u001B[0m \u001B[43m    \u001B[49m\u001B[43mindexer\u001B[49m\u001B[43m,\u001B[49m\n\u001B[0;32m   5035\u001B[0m \u001B[43m    \u001B[49m\u001B[43maxis\u001B[49m\u001B[38;5;241;43m=\u001B[39;49m\u001B[43mbaxis\u001B[49m\u001B[43m,\u001B[49m\n\u001B[0;32m   5036\u001B[0m \u001B[43m    \u001B[49m\u001B[43mfill_value\u001B[49m\u001B[38;5;241;43m=\u001B[39;49m\u001B[43mfill_value\u001B[49m\u001B[43m,\u001B[49m\n\u001B[0;32m   5037\u001B[0m \u001B[43m    \u001B[49m\u001B[43mallow_dups\u001B[49m\u001B[38;5;241;43m=\u001B[39;49m\u001B[43mallow_dups\u001B[49m\u001B[43m,\u001B[49m\n\u001B[0;32m   5038\u001B[0m \u001B[43m    \u001B[49m\u001B[43mcopy\u001B[49m\u001B[38;5;241;43m=\u001B[39;49m\u001B[43mcopy\u001B[49m\u001B[43m,\u001B[49m\n\u001B[0;32m   5039\u001B[0m \u001B[43m\u001B[49m\u001B[43m)\u001B[49m\n\u001B[0;32m   5040\u001B[0m \u001B[38;5;66;03m# If we've made a copy once, no need to make another one\u001B[39;00m\n\u001B[0;32m   5041\u001B[0m copy \u001B[38;5;241m=\u001B[39m \u001B[38;5;28;01mFalse\u001B[39;00m\n",
      "File \u001B[1;32m~\\Anaconda3\\lib\\site-packages\\pandas\\core\\internals\\managers.py:679\u001B[0m, in \u001B[0;36mBaseBlockManager.reindex_indexer\u001B[1;34m(self, new_axis, indexer, axis, fill_value, allow_dups, copy, consolidate, only_slice, use_na_proxy)\u001B[0m\n\u001B[0;32m    677\u001B[0m \u001B[38;5;66;03m# some axes don't allow reindexing with dups\u001B[39;00m\n\u001B[0;32m    678\u001B[0m \u001B[38;5;28;01mif\u001B[39;00m \u001B[38;5;129;01mnot\u001B[39;00m allow_dups:\n\u001B[1;32m--> 679\u001B[0m     \u001B[38;5;28;43mself\u001B[39;49m\u001B[38;5;241;43m.\u001B[39;49m\u001B[43maxes\u001B[49m\u001B[43m[\u001B[49m\u001B[43maxis\u001B[49m\u001B[43m]\u001B[49m\u001B[38;5;241;43m.\u001B[39;49m\u001B[43m_validate_can_reindex\u001B[49m\u001B[43m(\u001B[49m\u001B[43mindexer\u001B[49m\u001B[43m)\u001B[49m\n\u001B[0;32m    681\u001B[0m \u001B[38;5;28;01mif\u001B[39;00m axis \u001B[38;5;241m>\u001B[39m\u001B[38;5;241m=\u001B[39m \u001B[38;5;28mself\u001B[39m\u001B[38;5;241m.\u001B[39mndim:\n\u001B[0;32m    682\u001B[0m     \u001B[38;5;28;01mraise\u001B[39;00m \u001B[38;5;167;01mIndexError\u001B[39;00m(\u001B[38;5;124m\"\u001B[39m\u001B[38;5;124mRequested axis not found in manager\u001B[39m\u001B[38;5;124m\"\u001B[39m)\n",
      "File \u001B[1;32m~\\Anaconda3\\lib\\site-packages\\pandas\\core\\indexes\\base.py:4107\u001B[0m, in \u001B[0;36mIndex._validate_can_reindex\u001B[1;34m(self, indexer)\u001B[0m\n\u001B[0;32m   4105\u001B[0m \u001B[38;5;66;03m# trying to reindex on an axis with duplicates\u001B[39;00m\n\u001B[0;32m   4106\u001B[0m \u001B[38;5;28;01mif\u001B[39;00m \u001B[38;5;129;01mnot\u001B[39;00m \u001B[38;5;28mself\u001B[39m\u001B[38;5;241m.\u001B[39m_index_as_unique \u001B[38;5;129;01mand\u001B[39;00m \u001B[38;5;28mlen\u001B[39m(indexer):\n\u001B[1;32m-> 4107\u001B[0m     \u001B[38;5;28;01mraise\u001B[39;00m \u001B[38;5;167;01mValueError\u001B[39;00m(\u001B[38;5;124m\"\u001B[39m\u001B[38;5;124mcannot reindex on an axis with duplicate labels\u001B[39m\u001B[38;5;124m\"\u001B[39m)\n",
      "\u001B[1;31mValueError\u001B[0m: cannot reindex on an axis with duplicate labels"
     ]
    }
   ],
   "source": [
    "v[v.node.isin([\"R12_CHN\"])]"
   ],
   "metadata": {
    "collapsed": false
   }
  },
  {
   "cell_type": "code",
   "execution_count": 57,
   "outputs": [],
   "source": [
    "bio_dict = {}\n",
    "for k,v in df_all.items():\n",
    "    if \"tec\" in v.columns:\n",
    "        if len(v[v.tec.str.contains(\"bio\")][\"tec\"].unique()):\n",
    "        #print(v[v.tec.str.contains(\"bio\")][\"tec\"].unique())\n",
    "            if \"node\" in v.columns:\n",
    "                v_temp = v.loc[:,~v.columns.duplicated()].copy()\n",
    "                bio_dict[k] = v_temp[(v_temp.tec.str.contains(\"bio\")) & (v_temp.node ==\"R12_CHN\")]"
   ],
   "metadata": {
    "collapsed": false
   }
  },
  {
   "cell_type": "code",
   "execution_count": 69,
   "outputs": [
    {
     "data": {
      "text/plain": "{'is_bound_new_capacity_lo': array(['bio_ppl', 'eth_bio'], dtype=object),\n 'is_dynamic_activity_lo': array(['bio_ppl', 'biomass_i', 'biomass_rc', 'biomass_imp', 'biomass_exp'],\n       dtype=object),\n 'bound_new_capacity_lo': array(['bio_ppl', 'eth_bio'], dtype=object),\n 'bound_activity_lo': array(['bio_hpl', 'bio_ppl', 'biomass_i', 'eth_bio'], dtype=object),\n 'initial_activity_lo': array(['bio_ppl', 'biomass_i', 'biomass_rc', 'biomass_imp', 'biomass_exp'],\n       dtype=object),\n 'growth_activity_lo': array(['bio_ppl', 'biomass_i', 'biomass_rc', 'biomass_imp', 'biomass_exp'],\n       dtype=object),\n 'soft_activity_lo': array(['bio_extr_mpen', 'bio_hpl', 'bio_istig', 'bio_istig_ccs',\n        'bio_ppl', 'bio_ppl_co2scr', 'biomass_i', 'biomass_rc',\n        'biomass_t_d', 'eth_bio', 'eth_bio_ccs', 'gas_bio', 'h2_bio',\n        'h2_bio_ccs', 'landfill_mechbio', 'liq_bio', 'liq_bio_ccs'],\n       dtype=object),\n 'abs_cost_activity_soft_lo': array(['bio_extr_mpen'], dtype=object),\n 'level_cost_activity_soft_lo': array(['bio_hpl', 'bio_istig', 'bio_istig_ccs', 'bio_ppl',\n        'bio_ppl_co2scr', 'biomass_i', 'biomass_rc', 'biomass_t_d',\n        'eth_bio', 'eth_bio_ccs', 'gas_bio', 'h2_bio', 'h2_bio_ccs',\n        'landfill_mechbio', 'liq_bio', 'liq_bio_ccs'], dtype=object)}"
     },
     "execution_count": 69,
     "metadata": {},
     "output_type": "execute_result"
    }
   ],
   "source": [
    "lo_dict = {k:v for k,v in bio_dict.items() if ((\"lo\" in k))}\n",
    "{k:i.tec.unique() for k,i in lo_dict.items()}"
   ],
   "metadata": {
    "collapsed": false
   }
  },
  {
   "cell_type": "code",
   "execution_count": 42,
   "outputs": [
    {
     "name": "stdout",
     "output_type": "stream",
     "text": [
      "is_bound_new_capacity_lo ['bio_ppl' 'eth_bio' 'bio_istig']\n",
      "is_dynamic_activity_lo ['biomass_i' 'biomass_rc' 'biomass_imp' 'biomass_exp' 'bio_ppl']\n",
      "bound_new_capacity_lo ['bio_ppl' 'eth_bio']\n",
      "bound_activity_lo ['bio_ppl' 'biomass_i' 'eth_bio' 'bio_hpl' 'biomass_rc' 'biomass_t_d'\n",
      " 'biomass_nc' 'bio_istig' 'gas_bio']\n",
      "initial_activity_lo ['biomass_i' 'biomass_rc' 'biomass_imp' 'biomass_exp' 'bio_ppl']\n",
      "growth_activity_lo ['biomass_i' 'biomass_rc' 'biomass_imp' 'biomass_exp' 'bio_ppl']\n",
      "soft_activity_lo ['bio_extr_mpen' 'bio_hpl' 'bio_istig' 'bio_istig_ccs' 'bio_ppl'\n",
      " 'bio_ppl_co2scr' 'biomass_i' 'biomass_rc' 'biomass_t_d' 'eth_bio'\n",
      " 'eth_bio_ccs' 'gas_bio' 'h2_bio' 'h2_bio_ccs' 'landfill_mechbio'\n",
      " 'liq_bio' 'liq_bio_ccs']\n",
      "abs_cost_activity_soft_lo ['bio_extr_mpen']\n",
      "level_cost_activity_soft_lo ['bio_hpl' 'bio_istig' 'bio_istig_ccs' 'bio_ppl' 'bio_ppl_co2scr'\n",
      " 'biomass_i' 'biomass_rc' 'biomass_t_d' 'eth_bio' 'eth_bio_ccs' 'gas_bio'\n",
      " 'h2_bio' 'h2_bio_ccs' 'landfill_mechbio' 'liq_bio' 'liq_bio_ccs']\n"
     ]
    }
   ],
   "source": [
    "for k,v in lo_dict.items():\n",
    "    print(k,v)"
   ],
   "metadata": {
    "collapsed": false
   }
  },
  {
   "cell_type": "code",
   "execution_count": 12,
   "outputs": [
    {
     "data": {
      "text/plain": "<IPython.core.display.Javascript object>",
      "application/javascript": "if (typeof IPython !== 'undefined') { IPython.OutputArea.prototype._should_scroll = function(lines){ return false; }}"
     },
     "metadata": {},
     "output_type": "display_data"
    }
   ],
   "source": [
    "import ixmp\n",
    "import message_ix\n",
    "\n",
    "mp = ixmp.Platform(\"ixmp_dev\")\n",
    "df = mp.scenario_list()"
   ],
   "metadata": {
    "collapsed": false
   }
  },
  {
   "cell_type": "code",
   "execution_count": 16,
   "outputs": [
    {
     "data": {
      "text/plain": "                   model                         scenario   scheme  \\\n1249  ENGAGE-MAGPIE_SSP2                            1000f  MESSAGE   \n1250  ENGAGE-MAGPIE_SSP2                  EN_NPi2020_1000  MESSAGE   \n1251  ENGAGE-MAGPIE_SSP2            EN_NPi2020_1000_step1  MESSAGE   \n1252  ENGAGE-MAGPIE_SSP2            EN_NPi2020_1000_step2  MESSAGE   \n1253  ENGAGE-MAGPIE_SSP2                 EN_NPi2020_1000f  MESSAGE   \n...                  ...                              ...      ...   \n1319  ENGAGE-MAGPIE_SSP2                npi_low_dem_scen2  MESSAGE   \n1320  ENGAGE-MAGPIE_SSP2                    orgCode_1000f  MESSAGE   \n1321  ENGAGE-MAGPIE_SSP2        orgCode_1000f_slackLandUp  MESSAGE   \n1322  ENGAGE-MAGPIE_SSP2                 orgCode_baseline  MESSAGE   \n1323  ENGAGE-MAGPIE_SSP2  test to confirm MACRO converges  MESSAGE   \n\n      is_default  is_locked     cre_user                    cre_date  \\\n1249           1          0  steinhauser  2023-05-05 13:33:33.000000   \n1250           1          0  steinhauser  2023-07-24 17:05:34.000000   \n1251           1          0  steinhauser  2023-07-24 16:20:13.000000   \n1252           1          0  steinhauser  2023-07-24 16:47:04.000000   \n1253           1          0  steinhauser  2023-07-24 19:49:23.000000   \n...          ...        ...          ...                         ...   \n1319           1          0  steinhauser  2023-07-12 11:09:57.000000   \n1320           1          1  steinhauser  2023-05-13 19:37:52.000000   \n1321           1          0  steinhauser  2023-05-16 09:18:19.000000   \n1322           1          0  steinhauser  2023-05-15 13:04:26.000000   \n1323           1          0       fricko  2023-07-06 07:34:01.000000   \n\n         upd_user                    upd_date    lock_user  \\\n1249  steinhauser  2023-05-12 17:07:36.000000         None   \n1250  steinhauser  2023-07-24 17:12:10.000000         None   \n1251  steinhauser  2023-07-24 16:32:50.000000         None   \n1252  steinhauser  2023-07-24 16:50:29.000000         None   \n1253  steinhauser  2023-07-24 20:05:26.000000         None   \n...           ...                         ...          ...   \n1319  steinhauser  2023-07-12 11:19:35.000000         None   \n1320         None                        None  steinhauser   \n1321         None                        None         None   \n1322  steinhauser  2023-05-15 13:43:43.000000         None   \n1323       fricko  2023-07-06 07:36:41.000000         None   \n\n                       lock_date  \\\n1249                        None   \n1250                        None   \n1251                        None   \n1252                        None   \n1253                        None   \n...                          ...   \n1319                        None   \n1320  2023-05-13 20:47:53.000000   \n1321                        None   \n1322                        None   \n1323                        None   \n\n                                             annotation  version  \n1249  clone Scenario from 'ENGAGE-MAGPIE_SSP2|baseli...        1  \n1250  clone Scenario from 'ENGAGE-MAGPIE_SSP2|EN_NPi...        1  \n1251  clone Scenario from 'ENGAGE-MAGPIE_SSP2|NPi202...        1  \n1252  clone Scenario from 'ENGAGE-MAGPIE_SSP2|EN_NPi...        1  \n1253  clone Scenario from 'ENGAGE-MAGPIE_SSP2|NPi202...        1  \n...                                                 ...      ...  \n1319  clone Scenario from 'ENGAGE-MAGPIE_SSP2|NPi202...        1  \n1320  clone Scenario from 'ENGAGE-MAGPIE_SSP2|orgCod...        1  \n1321  clone Scenario from 'ENGAGE-MAGPIE_SSP2|orgCod...        1  \n1322  clone Scenario from 'JST_test|ENGAGE_baseline_...        2  \n1323  clone Scenario from 'ENGAGE-MAGPIE_SSP2|baseli...        2  \n\n[75 rows x 13 columns]",
      "text/html": "<div>\n<style scoped>\n    .dataframe tbody tr th:only-of-type {\n        vertical-align: middle;\n    }\n\n    .dataframe tbody tr th {\n        vertical-align: top;\n    }\n\n    .dataframe thead th {\n        text-align: right;\n    }\n</style>\n<table border=\"1\" class=\"dataframe\">\n  <thead>\n    <tr style=\"text-align: right;\">\n      <th></th>\n      <th>model</th>\n      <th>scenario</th>\n      <th>scheme</th>\n      <th>is_default</th>\n      <th>is_locked</th>\n      <th>cre_user</th>\n      <th>cre_date</th>\n      <th>upd_user</th>\n      <th>upd_date</th>\n      <th>lock_user</th>\n      <th>lock_date</th>\n      <th>annotation</th>\n      <th>version</th>\n    </tr>\n  </thead>\n  <tbody>\n    <tr>\n      <th>1249</th>\n      <td>ENGAGE-MAGPIE_SSP2</td>\n      <td>1000f</td>\n      <td>MESSAGE</td>\n      <td>1</td>\n      <td>0</td>\n      <td>steinhauser</td>\n      <td>2023-05-05 13:33:33.000000</td>\n      <td>steinhauser</td>\n      <td>2023-05-12 17:07:36.000000</td>\n      <td>None</td>\n      <td>None</td>\n      <td>clone Scenario from 'ENGAGE-MAGPIE_SSP2|baseli...</td>\n      <td>1</td>\n    </tr>\n    <tr>\n      <th>1250</th>\n      <td>ENGAGE-MAGPIE_SSP2</td>\n      <td>EN_NPi2020_1000</td>\n      <td>MESSAGE</td>\n      <td>1</td>\n      <td>0</td>\n      <td>steinhauser</td>\n      <td>2023-07-24 17:05:34.000000</td>\n      <td>steinhauser</td>\n      <td>2023-07-24 17:12:10.000000</td>\n      <td>None</td>\n      <td>None</td>\n      <td>clone Scenario from 'ENGAGE-MAGPIE_SSP2|EN_NPi...</td>\n      <td>1</td>\n    </tr>\n    <tr>\n      <th>1251</th>\n      <td>ENGAGE-MAGPIE_SSP2</td>\n      <td>EN_NPi2020_1000_step1</td>\n      <td>MESSAGE</td>\n      <td>1</td>\n      <td>0</td>\n      <td>steinhauser</td>\n      <td>2023-07-24 16:20:13.000000</td>\n      <td>steinhauser</td>\n      <td>2023-07-24 16:32:50.000000</td>\n      <td>None</td>\n      <td>None</td>\n      <td>clone Scenario from 'ENGAGE-MAGPIE_SSP2|NPi202...</td>\n      <td>1</td>\n    </tr>\n    <tr>\n      <th>1252</th>\n      <td>ENGAGE-MAGPIE_SSP2</td>\n      <td>EN_NPi2020_1000_step2</td>\n      <td>MESSAGE</td>\n      <td>1</td>\n      <td>0</td>\n      <td>steinhauser</td>\n      <td>2023-07-24 16:47:04.000000</td>\n      <td>steinhauser</td>\n      <td>2023-07-24 16:50:29.000000</td>\n      <td>None</td>\n      <td>None</td>\n      <td>clone Scenario from 'ENGAGE-MAGPIE_SSP2|EN_NPi...</td>\n      <td>1</td>\n    </tr>\n    <tr>\n      <th>1253</th>\n      <td>ENGAGE-MAGPIE_SSP2</td>\n      <td>EN_NPi2020_1000f</td>\n      <td>MESSAGE</td>\n      <td>1</td>\n      <td>0</td>\n      <td>steinhauser</td>\n      <td>2023-07-24 19:49:23.000000</td>\n      <td>steinhauser</td>\n      <td>2023-07-24 20:05:26.000000</td>\n      <td>None</td>\n      <td>None</td>\n      <td>clone Scenario from 'ENGAGE-MAGPIE_SSP2|NPi202...</td>\n      <td>1</td>\n    </tr>\n    <tr>\n      <th>...</th>\n      <td>...</td>\n      <td>...</td>\n      <td>...</td>\n      <td>...</td>\n      <td>...</td>\n      <td>...</td>\n      <td>...</td>\n      <td>...</td>\n      <td>...</td>\n      <td>...</td>\n      <td>...</td>\n      <td>...</td>\n      <td>...</td>\n    </tr>\n    <tr>\n      <th>1319</th>\n      <td>ENGAGE-MAGPIE_SSP2</td>\n      <td>npi_low_dem_scen2</td>\n      <td>MESSAGE</td>\n      <td>1</td>\n      <td>0</td>\n      <td>steinhauser</td>\n      <td>2023-07-12 11:09:57.000000</td>\n      <td>steinhauser</td>\n      <td>2023-07-12 11:19:35.000000</td>\n      <td>None</td>\n      <td>None</td>\n      <td>clone Scenario from 'ENGAGE-MAGPIE_SSP2|NPi202...</td>\n      <td>1</td>\n    </tr>\n    <tr>\n      <th>1320</th>\n      <td>ENGAGE-MAGPIE_SSP2</td>\n      <td>orgCode_1000f</td>\n      <td>MESSAGE</td>\n      <td>1</td>\n      <td>1</td>\n      <td>steinhauser</td>\n      <td>2023-05-13 19:37:52.000000</td>\n      <td>None</td>\n      <td>None</td>\n      <td>steinhauser</td>\n      <td>2023-05-13 20:47:53.000000</td>\n      <td>clone Scenario from 'ENGAGE-MAGPIE_SSP2|orgCod...</td>\n      <td>1</td>\n    </tr>\n    <tr>\n      <th>1321</th>\n      <td>ENGAGE-MAGPIE_SSP2</td>\n      <td>orgCode_1000f_slackLandUp</td>\n      <td>MESSAGE</td>\n      <td>1</td>\n      <td>0</td>\n      <td>steinhauser</td>\n      <td>2023-05-16 09:18:19.000000</td>\n      <td>None</td>\n      <td>None</td>\n      <td>None</td>\n      <td>None</td>\n      <td>clone Scenario from 'ENGAGE-MAGPIE_SSP2|orgCod...</td>\n      <td>1</td>\n    </tr>\n    <tr>\n      <th>1322</th>\n      <td>ENGAGE-MAGPIE_SSP2</td>\n      <td>orgCode_baseline</td>\n      <td>MESSAGE</td>\n      <td>1</td>\n      <td>0</td>\n      <td>steinhauser</td>\n      <td>2023-05-15 13:04:26.000000</td>\n      <td>steinhauser</td>\n      <td>2023-05-15 13:43:43.000000</td>\n      <td>None</td>\n      <td>None</td>\n      <td>clone Scenario from 'JST_test|ENGAGE_baseline_...</td>\n      <td>2</td>\n    </tr>\n    <tr>\n      <th>1323</th>\n      <td>ENGAGE-MAGPIE_SSP2</td>\n      <td>test to confirm MACRO converges</td>\n      <td>MESSAGE</td>\n      <td>1</td>\n      <td>0</td>\n      <td>fricko</td>\n      <td>2023-07-06 07:34:01.000000</td>\n      <td>fricko</td>\n      <td>2023-07-06 07:36:41.000000</td>\n      <td>None</td>\n      <td>None</td>\n      <td>clone Scenario from 'ENGAGE-MAGPIE_SSP2|baseli...</td>\n      <td>2</td>\n    </tr>\n  </tbody>\n</table>\n<p>75 rows × 13 columns</p>\n</div>"
     },
     "execution_count": 16,
     "metadata": {},
     "output_type": "execute_result"
    }
   ],
   "source": [
    "df[df[\"model\"].str.contains(\"MAGPIE\")][\"model\"].unique()\n",
    "df[df[\"model\"]==\"ENGAGE-MAGPIE_SSP2\"]"
   ],
   "metadata": {
    "collapsed": false
   }
  },
  {
   "cell_type": "code",
   "execution_count": 17,
   "outputs": [],
   "source": [
    "scen = message_ix.Scenario(mp, \"ENGAGE-MAGPIE_SSP2\", \"baseline\")"
   ],
   "metadata": {
    "collapsed": false
   }
  },
  {
   "cell_type": "code",
   "execution_count": 19,
   "outputs": [],
   "source": [
    "df_lu_old = scen.par(\"land_use\")"
   ],
   "metadata": {
    "collapsed": false
   }
  },
  {
   "cell_type": "code",
   "execution_count": 22,
   "outputs": [
    {
     "data": {
      "text/plain": "                             value\nnode    land_scenario year        \nR11_AFR BIO00GHG000   1990  0.7953\n                      1995  0.7953\n                      2000  0.7951\n                      2005  0.7975\n                      2010  0.8051\n...                            ...\nR11_WEU BIO45GHG600   2070  0.7248\n                      2080  0.7245\n                      2090  0.7221\n                      2100  0.7225\n                      2110  0.7225\n\n[18480 rows x 1 columns]",
      "text/html": "<div>\n<style scoped>\n    .dataframe tbody tr th:only-of-type {\n        vertical-align: middle;\n    }\n\n    .dataframe tbody tr th {\n        vertical-align: top;\n    }\n\n    .dataframe thead th {\n        text-align: right;\n    }\n</style>\n<table border=\"1\" class=\"dataframe\">\n  <thead>\n    <tr style=\"text-align: right;\">\n      <th></th>\n      <th></th>\n      <th></th>\n      <th>value</th>\n    </tr>\n    <tr>\n      <th>node</th>\n      <th>land_scenario</th>\n      <th>year</th>\n      <th></th>\n    </tr>\n  </thead>\n  <tbody>\n    <tr>\n      <th rowspan=\"5\" valign=\"top\">R11_AFR</th>\n      <th rowspan=\"5\" valign=\"top\">BIO00GHG000</th>\n      <th>1990</th>\n      <td>0.7953</td>\n    </tr>\n    <tr>\n      <th>1995</th>\n      <td>0.7953</td>\n    </tr>\n    <tr>\n      <th>2000</th>\n      <td>0.7951</td>\n    </tr>\n    <tr>\n      <th>2005</th>\n      <td>0.7975</td>\n    </tr>\n    <tr>\n      <th>2010</th>\n      <td>0.8051</td>\n    </tr>\n    <tr>\n      <th>...</th>\n      <th>...</th>\n      <th>...</th>\n      <td>...</td>\n    </tr>\n    <tr>\n      <th rowspan=\"5\" valign=\"top\">R11_WEU</th>\n      <th rowspan=\"5\" valign=\"top\">BIO45GHG600</th>\n      <th>2070</th>\n      <td>0.7248</td>\n    </tr>\n    <tr>\n      <th>2080</th>\n      <td>0.7245</td>\n    </tr>\n    <tr>\n      <th>2090</th>\n      <td>0.7221</td>\n    </tr>\n    <tr>\n      <th>2100</th>\n      <td>0.7225</td>\n    </tr>\n    <tr>\n      <th>2110</th>\n      <td>0.7225</td>\n    </tr>\n  </tbody>\n</table>\n<p>18480 rows × 1 columns</p>\n</div>"
     },
     "execution_count": 22,
     "metadata": {},
     "output_type": "execute_result"
    }
   ],
   "source": [
    "df_lu_old.groupby([\"node\", \"land_scenario\", \"year\"]).sum()"
   ],
   "metadata": {
    "collapsed": false
   }
  },
  {
   "cell_type": "code",
   "execution_count": 10,
   "outputs": [
    {
     "data": {
      "text/plain": "Index(['node', 'land_scenario', 'year_all', 'land_type', 'Value'], dtype='object')"
     },
     "execution_count": 10,
     "metadata": {},
     "output_type": "execute_result"
    }
   ],
   "source": [
    "df_lu_act = gdxpds.to_dataframe(gdx_file, \"land_use\")[\"land_use\"]\n",
    "df_lu_act.columns"
   ],
   "metadata": {
    "collapsed": false
   }
  },
  {
   "cell_type": "code",
   "execution_count": 11,
   "outputs": [
    {
     "data": {
      "text/plain": "                                 Value\nnode    land_scenario year_all        \nR12_AFR BIO00GHG000   1990      0.7945\n                      1995      0.7945\n                      2000      0.7943\n                      2005      0.7941\n                      2010      0.8016\n...                                ...\nR12_WEU BIO45GHG990   2070      0.7251\n                      2080      0.7249\n                      2090      0.7231\n                      2100      0.7216\n                      2110      0.7216\n\n[20160 rows x 1 columns]",
      "text/html": "<div>\n<style scoped>\n    .dataframe tbody tr th:only-of-type {\n        vertical-align: middle;\n    }\n\n    .dataframe tbody tr th {\n        vertical-align: top;\n    }\n\n    .dataframe thead th {\n        text-align: right;\n    }\n</style>\n<table border=\"1\" class=\"dataframe\">\n  <thead>\n    <tr style=\"text-align: right;\">\n      <th></th>\n      <th></th>\n      <th></th>\n      <th>Value</th>\n    </tr>\n    <tr>\n      <th>node</th>\n      <th>land_scenario</th>\n      <th>year_all</th>\n      <th></th>\n    </tr>\n  </thead>\n  <tbody>\n    <tr>\n      <th rowspan=\"5\" valign=\"top\">R12_AFR</th>\n      <th rowspan=\"5\" valign=\"top\">BIO00GHG000</th>\n      <th>1990</th>\n      <td>0.7945</td>\n    </tr>\n    <tr>\n      <th>1995</th>\n      <td>0.7945</td>\n    </tr>\n    <tr>\n      <th>2000</th>\n      <td>0.7943</td>\n    </tr>\n    <tr>\n      <th>2005</th>\n      <td>0.7941</td>\n    </tr>\n    <tr>\n      <th>2010</th>\n      <td>0.8016</td>\n    </tr>\n    <tr>\n      <th>...</th>\n      <th>...</th>\n      <th>...</th>\n      <td>...</td>\n    </tr>\n    <tr>\n      <th rowspan=\"5\" valign=\"top\">R12_WEU</th>\n      <th rowspan=\"5\" valign=\"top\">BIO45GHG990</th>\n      <th>2070</th>\n      <td>0.7251</td>\n    </tr>\n    <tr>\n      <th>2080</th>\n      <td>0.7249</td>\n    </tr>\n    <tr>\n      <th>2090</th>\n      <td>0.7231</td>\n    </tr>\n    <tr>\n      <th>2100</th>\n      <td>0.7216</td>\n    </tr>\n    <tr>\n      <th>2110</th>\n      <td>0.7216</td>\n    </tr>\n  </tbody>\n</table>\n<p>20160 rows × 1 columns</p>\n</div>"
     },
     "execution_count": 11,
     "metadata": {},
     "output_type": "execute_result"
    }
   ],
   "source": [
    "df_lu_act.groupby([\"node\", \"land_scenario\", \"year_all\"]).sum()"
   ],
   "metadata": {
    "collapsed": false
   }
  },
  {
   "cell_type": "code",
   "execution_count": 57,
   "outputs": [],
   "source": [
    "df_lu_act = gdxpds.to_dataframe(gdx_file, \"LAND\")\n",
    "df_lu_out = gdxpds.to_dataframe(gdx_file, \"land_output\")"
   ],
   "metadata": {
    "collapsed": false
   }
  },
  {
   "cell_type": "code",
   "execution_count": 58,
   "outputs": [],
   "source": [
    "df_lu_out = df_lu_out[\"land_output\"]\n",
    "df_lu_act = df_lu_act[\"LAND\"]"
   ],
   "metadata": {
    "collapsed": false
   }
  },
  {
   "cell_type": "code",
   "execution_count": 59,
   "outputs": [],
   "source": [
    "df_lu_act = df_lu_act[df_lu_act.columns[:-4]]\n",
    "df_lu_act = df_lu_act[df_lu_act[\"Level\"] != 0]\n",
    "df_lu_out = df_lu_out.set_index([\"node\", \"land_scenario\", \"year_all\"])\n",
    "df_lu_act = df_lu_act.set_index([\"node\", \"land_scenario\", \"year_all\"])\n",
    "df_lu = df_lu_act.join(df_lu_out)\n",
    "df_lu[\"value\"] = df_lu[\"Level\"] * df_lu[\"Value\"]"
   ],
   "metadata": {
    "collapsed": false
   }
  },
  {
   "cell_type": "code",
   "execution_count": 68,
   "outputs": [],
   "source": [
    "df_matrix = pd.read_csv(\"C:/Users\\maczek\\PycharmProjects\\message_data\\data\\globiom/magpie_input_MP00BD1BI00.csv\")"
   ],
   "metadata": {
    "collapsed": false
   }
  },
  {
   "cell_type": "code",
   "execution_count": 70,
   "outputs": [],
   "source": [
    "data_swapped = {\n",
    "    'SubSaharanAfrica': 'R12_AFR',\n",
    "    'PlannedAsiaChina': 'R12_RCPA',\n",
    "    'ChinaReg': 'R12_CHN',\n",
    "    'CentralEastEurope': 'R12_EEU',\n",
    "    'FormerSovietUnion': 'R12_FSU',\n",
    "    'LatinAmericaCarib': 'R12_LAM',\n",
    "    'MidEastNorthAfrica': 'R12_MEA',\n",
    "    'NorthAmerica': 'R12_NAM',\n",
    "    'PacificOECD': 'R12_PAO',\n",
    "    'OtherPacificAsia': 'R12_PAS',\n",
    "    'SouthAsia': 'R12_SAS',\n",
    "    'WesternEurope': 'R12_WEU'\n",
    "}\n"
   ],
   "metadata": {
    "collapsed": false
   }
  },
  {
   "cell_type": "code",
   "execution_count": 77,
   "outputs": [],
   "source": [
    "df_matrix = df_matrix.drop([\"SSPscen\", \"SDGscen\"], axis=1)"
   ],
   "metadata": {
    "collapsed": false
   }
  },
  {
   "cell_type": "code",
   "execution_count": 80,
   "outputs": [],
   "source": [
    "df_matrix[\"land_scenario\"] = df_matrix[\"BIOscen\"] + df_matrix[\"GHGscen\"]"
   ],
   "metadata": {
    "collapsed": false
   }
  },
  {
   "cell_type": "code",
   "execution_count": 82,
   "outputs": [],
   "source": [
    "df_matrix = df_matrix.drop([\"BIOscen\", \"GHGscen\"], axis=1)"
   ],
   "metadata": {
    "collapsed": false
   }
  },
  {
   "cell_type": "code",
   "execution_count": 87,
   "outputs": [],
   "source": [
    "df_matrix = df_matrix.melt(id_vars=[\"Region\", \"Variable\", \"Unit\", \"land_scenario\"], var_name=\"year_all\")"
   ],
   "metadata": {
    "collapsed": false
   }
  },
  {
   "cell_type": "code",
   "execution_count": 88,
   "outputs": [],
   "source": [
    "df_matrix = df_matrix.replace({'Region': data_swapped})"
   ],
   "metadata": {
    "collapsed": false
   }
  },
  {
   "cell_type": "code",
   "execution_count": 93,
   "outputs": [],
   "source": [
    "df_matrix = df_matrix.rename({\"Region\":\"node\", \"Variable\":\"commodity\"}, axis=1)\n",
    "df_matrix = df_matrix.drop(\"Unit\", axis=1)"
   ],
   "metadata": {
    "collapsed": false
   }
  },
  {
   "cell_type": "code",
   "execution_count": 97,
   "outputs": [],
   "source": [
    "df_matrix = df_matrix.set_index([\"node\", \"land_scenario\", \"year_all\"])"
   ],
   "metadata": {
    "collapsed": false
   }
  },
  {
   "cell_type": "code",
   "execution_count": 112,
   "outputs": [],
   "source": [
    "df_lu = df_lu_act.join(df_matrix)#.swaplevel(0,2).loc[\"2035\"]#.groupby([\"node\", \"year_all\"]).sum()"
   ],
   "metadata": {
    "collapsed": false
   }
  },
  {
   "cell_type": "code",
   "execution_count": 114,
   "outputs": [],
   "source": [
    "df_lu[\"val_eff\"] = df_lu[\"Level\"] * df_lu[\"value\"]"
   ],
   "metadata": {
    "collapsed": false
   }
  },
  {
   "cell_type": "code",
   "execution_count": 137,
   "outputs": [],
   "source": [
    "indic = \"Biodiversity|BII\""
   ],
   "metadata": {
    "collapsed": false
   }
  },
  {
   "cell_type": "code",
   "execution_count": null,
   "outputs": [],
   "source": [
    "legend1 = []\n",
    "import matplotlib.pyplot as plt\n",
    "fig,ax = plt.subplots(figsize=(15,10))\n",
    "for i, reg in df_lu.index.get_level_values(0).unique()[:6]:\n",
    "    df_temp = df_lu.loc[reg]\n",
    "    df_temp[(df_temp[\"commodity\"]==indic)][\"val_eff\"].groupby([\"year_all\"]).sum().plot(x=\"year_all\")\n",
    "    legend.append(reg)\n",
    "ax.legend(legend, loc=2, ncol=3)"
   ],
   "metadata": {
    "collapsed": false,
    "pycharm": {
     "is_executing": true
    }
   }
  },
  {
   "cell_type": "code",
   "execution_count": 1,
   "outputs": [
    {
     "ename": "NameError",
     "evalue": "name 'df_lu' is not defined",
     "output_type": "error",
     "traceback": [
      "\u001B[1;31m---------------------------------------------------------------------------\u001B[0m",
      "\u001B[1;31mNameError\u001B[0m                                 Traceback (most recent call last)",
      "Input \u001B[1;32mIn [1]\u001B[0m, in \u001B[0;36m<cell line: 4>\u001B[1;34m()\u001B[0m\n\u001B[0;32m      2\u001B[0m \u001B[38;5;28;01mimport\u001B[39;00m \u001B[38;5;21;01mmatplotlib\u001B[39;00m\u001B[38;5;21;01m.\u001B[39;00m\u001B[38;5;21;01mpyplot\u001B[39;00m \u001B[38;5;28;01mas\u001B[39;00m \u001B[38;5;21;01mplt\u001B[39;00m\n\u001B[0;32m      3\u001B[0m fig,ax \u001B[38;5;241m=\u001B[39m plt\u001B[38;5;241m.\u001B[39msubplots(figsize\u001B[38;5;241m=\u001B[39m(\u001B[38;5;241m15\u001B[39m,\u001B[38;5;241m10\u001B[39m))\n\u001B[1;32m----> 4\u001B[0m \u001B[38;5;28;01mfor\u001B[39;00m i, reg \u001B[38;5;129;01min\u001B[39;00m \u001B[43mdf_lu\u001B[49m\u001B[38;5;241m.\u001B[39mindex\u001B[38;5;241m.\u001B[39mget_level_values(\u001B[38;5;241m0\u001B[39m)\u001B[38;5;241m.\u001B[39munique()[:\u001B[38;5;241m6\u001B[39m]:\n\u001B[0;32m      5\u001B[0m     df_temp \u001B[38;5;241m=\u001B[39m df_lu\u001B[38;5;241m.\u001B[39mloc[reg]\n\u001B[0;32m      6\u001B[0m     df_temp[(df_temp[\u001B[38;5;124m\"\u001B[39m\u001B[38;5;124mcommodity\u001B[39m\u001B[38;5;124m\"\u001B[39m]\u001B[38;5;241m==\u001B[39mindic)][\u001B[38;5;124m\"\u001B[39m\u001B[38;5;124mval_eff\u001B[39m\u001B[38;5;124m\"\u001B[39m]\u001B[38;5;241m.\u001B[39mgroupby([\u001B[38;5;124m\"\u001B[39m\u001B[38;5;124myear_all\u001B[39m\u001B[38;5;124m\"\u001B[39m])\u001B[38;5;241m.\u001B[39msum()\u001B[38;5;241m.\u001B[39mplot(x\u001B[38;5;241m=\u001B[39m\u001B[38;5;124m\"\u001B[39m\u001B[38;5;124myear_all\u001B[39m\u001B[38;5;124m\"\u001B[39m)\n",
      "\u001B[1;31mNameError\u001B[0m: name 'df_lu' is not defined"
     ]
    },
    {
     "data": {
      "text/plain": "<Figure size 1080x720 with 1 Axes>",
      "image/png": "[encoded data removed]"
     },
     "metadata": {
      "needs_background": "light"
     },
     "output_type": "display_data"
    }
   ],
   "source": [
    "legend1 = []\n",
    "import matplotlib.pyplot as plt\n",
    "fig,ax = plt.subplots(figsize=(15,10))\n",
    "for i, reg in df_lu.index.get_level_values(0).unique()[6:]:\n",
    "    df_temp = df_lu.loc[reg]\n",
    "    df_temp[(df_temp[\"commodity\"]==indic)][\"val_eff\"].groupby([\"year_all\"]).sum().plot(x=\"year_all\")\n",
    "    legend.append(reg)\n",
    "ax.legend(legend, loc=2, ncol=3)"
   ],
   "metadata": {
    "collapsed": false
   }
  },
  {
   "cell_type": "code",
   "execution_count": 121,
   "outputs": [
    {
     "data": {
      "text/plain": "node     land_scenario  year_all\nR12_AFR  BIO00GHG000    2035        0.167425\n                        2040        0.295972\n                        2045        0.394696\n                        2050        0.471256\n                        2055        0.528590\n                                      ...   \nR12_WEU  BIO00GHG990    2070        0.036868\n                        2080        0.022109\n                        2090        0.013248\n                        2100        0.007938\n         BIO05GHG050    2020        0.759600\nName: val_eff, Length: 305, dtype: float64"
     },
     "execution_count": 121,
     "metadata": {},
     "output_type": "execute_result"
    }
   ],
   "source": [
    "df_lu[(df_lu[\"commodity\"]==\"Biodiversity|BII\")][\"val_eff\"]"
   ],
   "metadata": {
    "collapsed": false
   }
  },
  {
   "cell_type": "code",
   "execution_count": 90,
   "outputs": [
    {
     "data": {
      "text/plain": "                                   Level                        commodity  \\\nnode    land_scenario year_all                                              \nR12_AFR BIO00GHG000   2035      0.226219                       Population   \n                      2035      0.226219                              TCE   \n                      2035      0.226219                           LU_CO2   \n                      2035      0.226219              BCA_LandUseChangeEM   \n                      2035      0.226219                  BCA_SavanBurnEM   \n...                                  ...                              ...   \nR12_WEU BIO05GHG050   2020      1.000000                         Costs|TC   \n                      2020      1.000000  Emissions|CO2|AFOLU|Agriculture   \n                      2020      1.000000  Emissions|CO2|AFOLU|Soil Carbon   \n                      2020      1.000000              Emissions|GHG|AFOLU   \n                      2020      1.000000  Landuse intensity indicator Tau   \n\n                                             level  time      Value  \\\nnode    land_scenario year_all                                        \nR12_AFR BIO00GHG000   2035      land_use_reporting  year  1605.5862   \n                      2035      land_use_reporting  year   863.1115   \n                      2035      land_use_reporting  year   469.4045   \n                      2035      land_use_reporting  year    58.1282   \n                      2035      land_use_reporting  year   715.0514   \n...                                            ...   ...        ...   \nR12_WEU BIO05GHG050   2020      land_use_reporting  year  5418.4543   \n                      2020      land_use_reporting  year    -5.1668   \n                      2020      land_use_reporting  year   -40.2557   \n                      2020      land_use_reporting  year   480.2134   \n                      2020      land_use_reporting  year     2.0366   \n\n                                      value  \nnode    land_scenario year_all               \nR12_AFR BIO00GHG000   2035       363.214205  \n                      2035       195.252274  \n                      2035       106.188246  \n                      2035        13.149707  \n                      2035       161.758257  \n...                                     ...  \nR12_WEU BIO05GHG050   2020      5418.454300  \n                      2020        -5.166800  \n                      2020       -40.255700  \n                      2020       480.213400  \n                      2020         2.036600  \n\n[39628 rows x 6 columns]",
      "text/html": "<div>\n<style scoped>\n    .dataframe tbody tr th:only-of-type {\n        vertical-align: middle;\n    }\n\n    .dataframe tbody tr th {\n        vertical-align: top;\n    }\n\n    .dataframe thead th {\n        text-align: right;\n    }\n</style>\n<table border=\"1\" class=\"dataframe\">\n  <thead>\n    <tr style=\"text-align: right;\">\n      <th></th>\n      <th></th>\n      <th></th>\n      <th>Level</th>\n      <th>commodity</th>\n      <th>level</th>\n      <th>time</th>\n      <th>Value</th>\n      <th>value</th>\n    </tr>\n    <tr>\n      <th>node</th>\n      <th>land_scenario</th>\n      <th>year_all</th>\n      <th></th>\n      <th></th>\n      <th></th>\n      <th></th>\n      <th></th>\n      <th></th>\n    </tr>\n  </thead>\n  <tbody>\n    <tr>\n      <th rowspan=\"5\" valign=\"top\">R12_AFR</th>\n      <th rowspan=\"5\" valign=\"top\">BIO00GHG000</th>\n      <th>2035</th>\n      <td>0.226219</td>\n      <td>Population</td>\n      <td>land_use_reporting</td>\n      <td>year</td>\n      <td>1605.5862</td>\n      <td>363.214205</td>\n    </tr>\n    <tr>\n      <th>2035</th>\n      <td>0.226219</td>\n      <td>TCE</td>\n      <td>land_use_reporting</td>\n      <td>year</td>\n      <td>863.1115</td>\n      <td>195.252274</td>\n    </tr>\n    <tr>\n      <th>2035</th>\n      <td>0.226219</td>\n      <td>LU_CO2</td>\n      <td>land_use_reporting</td>\n      <td>year</td>\n      <td>469.4045</td>\n      <td>106.188246</td>\n    </tr>\n    <tr>\n      <th>2035</th>\n      <td>0.226219</td>\n      <td>BCA_LandUseChangeEM</td>\n      <td>land_use_reporting</td>\n      <td>year</td>\n      <td>58.1282</td>\n      <td>13.149707</td>\n    </tr>\n    <tr>\n      <th>2035</th>\n      <td>0.226219</td>\n      <td>BCA_SavanBurnEM</td>\n      <td>land_use_reporting</td>\n      <td>year</td>\n      <td>715.0514</td>\n      <td>161.758257</td>\n    </tr>\n    <tr>\n      <th>...</th>\n      <th>...</th>\n      <th>...</th>\n      <td>...</td>\n      <td>...</td>\n      <td>...</td>\n      <td>...</td>\n      <td>...</td>\n      <td>...</td>\n    </tr>\n    <tr>\n      <th rowspan=\"5\" valign=\"top\">R12_WEU</th>\n      <th rowspan=\"5\" valign=\"top\">BIO05GHG050</th>\n      <th>2020</th>\n      <td>1.000000</td>\n      <td>Costs|TC</td>\n      <td>land_use_reporting</td>\n      <td>year</td>\n      <td>5418.4543</td>\n      <td>5418.454300</td>\n    </tr>\n    <tr>\n      <th>2020</th>\n      <td>1.000000</td>\n      <td>Emissions|CO2|AFOLU|Agriculture</td>\n      <td>land_use_reporting</td>\n      <td>year</td>\n      <td>-5.1668</td>\n      <td>-5.166800</td>\n    </tr>\n    <tr>\n      <th>2020</th>\n      <td>1.000000</td>\n      <td>Emissions|CO2|AFOLU|Soil Carbon</td>\n      <td>land_use_reporting</td>\n      <td>year</td>\n      <td>-40.2557</td>\n      <td>-40.255700</td>\n    </tr>\n    <tr>\n      <th>2020</th>\n      <td>1.000000</td>\n      <td>Emissions|GHG|AFOLU</td>\n      <td>land_use_reporting</td>\n      <td>year</td>\n      <td>480.2134</td>\n      <td>480.213400</td>\n    </tr>\n    <tr>\n      <th>2020</th>\n      <td>1.000000</td>\n      <td>Landuse intensity indicator Tau</td>\n      <td>land_use_reporting</td>\n      <td>year</td>\n      <td>2.0366</td>\n      <td>2.036600</td>\n    </tr>\n  </tbody>\n</table>\n<p>39628 rows × 6 columns</p>\n</div>"
     },
     "execution_count": 90,
     "metadata": {},
     "output_type": "execute_result"
    }
   ],
   "source": [
    "df_matrix[df_matrix[\"commodity\"]==\"Biodiversity|BII\"]"
   ],
   "metadata": {
    "collapsed": false
   }
  },
  {
   "cell_type": "code",
   "execution_count": 66,
   "outputs": [
    {
     "data": {
      "text/plain": "Empty DataFrame\nColumns: [Level, commodity, level, time, Value, value]\nIndex: []",
      "text/html": "<div>\n<style scoped>\n    .dataframe tbody tr th:only-of-type {\n        vertical-align: middle;\n    }\n\n    .dataframe tbody tr th {\n        vertical-align: top;\n    }\n\n    .dataframe thead th {\n        text-align: right;\n    }\n</style>\n<table border=\"1\" class=\"dataframe\">\n  <thead>\n    <tr style=\"text-align: right;\">\n      <th></th>\n      <th></th>\n      <th>Level</th>\n      <th>commodity</th>\n      <th>level</th>\n      <th>time</th>\n      <th>Value</th>\n      <th>value</th>\n    </tr>\n    <tr>\n      <th>land_scenario</th>\n      <th>year_all</th>\n      <th></th>\n      <th></th>\n      <th></th>\n      <th></th>\n      <th></th>\n      <th></th>\n    </tr>\n  </thead>\n  <tbody>\n  </tbody>\n</table>\n</div>"
     },
     "execution_count": 66,
     "metadata": {},
     "output_type": "execute_result"
    }
   ],
   "source": [
    "#df_afr = df_lu.loc[\"R12_AFR\"]\n",
    "df_afr[(df_afr[\"commodity\"]==\"Biodiversity|BII\")]"
   ],
   "metadata": {
    "collapsed": false
   }
  },
  {
   "cell_type": "code",
   "execution_count": 50,
   "outputs": [
    {
     "data": {
      "text/plain": "node     year_all\nR12_AFR  2020        494.475077\n         2025        475.040000\n         2030        458.300000\n         2035        441.650000\n         2040        425.000000\n                        ...    \nR12_WEU  2070         82.237854\n         2080         75.834860\n         2090         70.045717\n         2100         64.567990\n         2110         59.274784\nName: value, Length: 168, dtype: float64"
     },
     "execution_count": 50,
     "metadata": {},
     "output_type": "execute_result"
    }
   ],
   "source": [
    "df_lu[(df_lu[\"commodity\"]==\"bioenergy\") & (df_lu[\"level\"]==\"land_use\")][\"value\"].groupby([\"node\", \"year_all\"]).sum()"
   ],
   "metadata": {
    "collapsed": false
   }
  },
  {
   "cell_type": "code",
   "execution_count": 3,
   "outputs": [],
   "source": [
    "df = gdxpds.to_dataframe(gdx_file, \"inv_cost\")"
   ],
   "metadata": {
    "collapsed": false
   }
  },
  {
   "cell_type": "code",
   "execution_count": null,
   "outputs": [
    {
     "ename": "KeyError",
     "evalue": "'inv_cost'",
     "output_type": "error",
     "traceback": [
      "\u001B[1;31m---------------------------------------------------------------------------\u001B[0m",
      "\u001B[1;31mKeyError\u001B[0m                                  Traceback (most recent call last)",
      "File \u001B[1;32m~\\Anaconda3\\lib\\site-packages\\pandas\\core\\indexes\\base.py:3621\u001B[0m, in \u001B[0;36mIndex.get_loc\u001B[1;34m(self, key, method, tolerance)\u001B[0m\n\u001B[0;32m   3620\u001B[0m \u001B[38;5;28;01mtry\u001B[39;00m:\n\u001B[1;32m-> 3621\u001B[0m     \u001B[38;5;28;01mreturn\u001B[39;00m \u001B[38;5;28;43mself\u001B[39;49m\u001B[38;5;241;43m.\u001B[39;49m\u001B[43m_engine\u001B[49m\u001B[38;5;241;43m.\u001B[39;49m\u001B[43mget_loc\u001B[49m\u001B[43m(\u001B[49m\u001B[43mcasted_key\u001B[49m\u001B[43m)\u001B[49m\n\u001B[0;32m   3622\u001B[0m \u001B[38;5;28;01mexcept\u001B[39;00m \u001B[38;5;167;01mKeyError\u001B[39;00m \u001B[38;5;28;01mas\u001B[39;00m err:\n",
      "File \u001B[1;32m~\\Anaconda3\\lib\\site-packages\\pandas\\_libs\\index.pyx:136\u001B[0m, in \u001B[0;36mpandas._libs.index.IndexEngine.get_loc\u001B[1;34m()\u001B[0m\n",
      "File \u001B[1;32m~\\Anaconda3\\lib\\site-packages\\pandas\\_libs\\index.pyx:163\u001B[0m, in \u001B[0;36mpandas._libs.index.IndexEngine.get_loc\u001B[1;34m()\u001B[0m\n",
      "File \u001B[1;32mpandas\\_libs\\hashtable_class_helper.pxi:5198\u001B[0m, in \u001B[0;36mpandas._libs.hashtable.PyObjectHashTable.get_item\u001B[1;34m()\u001B[0m\n",
      "File \u001B[1;32mpandas\\_libs\\hashtable_class_helper.pxi:5206\u001B[0m, in \u001B[0;36mpandas._libs.hashtable.PyObjectHashTable.get_item\u001B[1;34m()\u001B[0m\n",
      "\u001B[1;31mKeyError\u001B[0m: 'inv_cost'",
      "\nThe above exception was the direct cause of the following exception:\n",
      "\u001B[1;31mKeyError\u001B[0m                                  Traceback (most recent call last)",
      "Input \u001B[1;32mIn [5]\u001B[0m, in \u001B[0;36m<cell line: 1>\u001B[1;34m()\u001B[0m\n\u001B[1;32m----> 1\u001B[0m df\u001B[38;5;241m=\u001B[39m\u001B[43mdf\u001B[49m\u001B[43m[\u001B[49m\u001B[38;5;124;43m\"\u001B[39;49m\u001B[38;5;124;43minv_cost\u001B[39;49m\u001B[38;5;124;43m\"\u001B[39;49m\u001B[43m]\u001B[49m\n",
      "File \u001B[1;32m~\\Anaconda3\\lib\\site-packages\\pandas\\core\\frame.py:3505\u001B[0m, in \u001B[0;36mDataFrame.__getitem__\u001B[1;34m(self, key)\u001B[0m\n\u001B[0;32m   3503\u001B[0m \u001B[38;5;28;01mif\u001B[39;00m \u001B[38;5;28mself\u001B[39m\u001B[38;5;241m.\u001B[39mcolumns\u001B[38;5;241m.\u001B[39mnlevels \u001B[38;5;241m>\u001B[39m \u001B[38;5;241m1\u001B[39m:\n\u001B[0;32m   3504\u001B[0m     \u001B[38;5;28;01mreturn\u001B[39;00m \u001B[38;5;28mself\u001B[39m\u001B[38;5;241m.\u001B[39m_getitem_multilevel(key)\n\u001B[1;32m-> 3505\u001B[0m indexer \u001B[38;5;241m=\u001B[39m \u001B[38;5;28;43mself\u001B[39;49m\u001B[38;5;241;43m.\u001B[39;49m\u001B[43mcolumns\u001B[49m\u001B[38;5;241;43m.\u001B[39;49m\u001B[43mget_loc\u001B[49m\u001B[43m(\u001B[49m\u001B[43mkey\u001B[49m\u001B[43m)\u001B[49m\n\u001B[0;32m   3506\u001B[0m \u001B[38;5;28;01mif\u001B[39;00m is_integer(indexer):\n\u001B[0;32m   3507\u001B[0m     indexer \u001B[38;5;241m=\u001B[39m [indexer]\n",
      "File \u001B[1;32m~\\Anaconda3\\lib\\site-packages\\pandas\\core\\indexes\\base.py:3623\u001B[0m, in \u001B[0;36mIndex.get_loc\u001B[1;34m(self, key, method, tolerance)\u001B[0m\n\u001B[0;32m   3621\u001B[0m     \u001B[38;5;28;01mreturn\u001B[39;00m \u001B[38;5;28mself\u001B[39m\u001B[38;5;241m.\u001B[39m_engine\u001B[38;5;241m.\u001B[39mget_loc(casted_key)\n\u001B[0;32m   3622\u001B[0m \u001B[38;5;28;01mexcept\u001B[39;00m \u001B[38;5;167;01mKeyError\u001B[39;00m \u001B[38;5;28;01mas\u001B[39;00m err:\n\u001B[1;32m-> 3623\u001B[0m     \u001B[38;5;28;01mraise\u001B[39;00m \u001B[38;5;167;01mKeyError\u001B[39;00m(key) \u001B[38;5;28;01mfrom\u001B[39;00m \u001B[38;5;21;01merr\u001B[39;00m\n\u001B[0;32m   3624\u001B[0m \u001B[38;5;28;01mexcept\u001B[39;00m \u001B[38;5;167;01mTypeError\u001B[39;00m:\n\u001B[0;32m   3625\u001B[0m     \u001B[38;5;66;03m# If we have a listlike key, _check_indexing_error will raise\u001B[39;00m\n\u001B[0;32m   3626\u001B[0m     \u001B[38;5;66;03m#  InvalidIndexError. Otherwise we fall through and re-raise\u001B[39;00m\n\u001B[0;32m   3627\u001B[0m     \u001B[38;5;66;03m#  the TypeError.\u001B[39;00m\n\u001B[0;32m   3628\u001B[0m     \u001B[38;5;28mself\u001B[39m\u001B[38;5;241m.\u001B[39m_check_indexing_error(key)\n",
      "\u001B[1;31mKeyError\u001B[0m: 'inv_cost'"
     ]
    }
   ],
   "source": [
    "df=df[\"inv_cost\"]"
   ],
   "metadata": {
    "collapsed": false
   }
  },
  {
   "cell_type": "code",
   "execution_count": 14,
   "outputs": [
    {
     "data": {
      "text/plain": "          node       tec  year_all  Value\n0      R12_AFR   LNG_exp      1995  235.0\n1      R12_AFR   LNG_exp      2000  235.0\n2      R12_AFR   LNG_exp      2005  235.0\n3      R12_AFR   LNG_exp      2010  235.0\n4      R12_AFR   LNG_exp      2015  235.0\n...        ...       ...       ...    ...\n66344  R12_CHN  meth_exp      2070  235.0\n66345  R12_CHN  meth_exp      2080  235.0\n66346  R12_CHN  meth_exp      2090  235.0\n66347  R12_CHN  meth_exp      2100  235.0\n66348  R12_CHN  meth_exp      2110  235.0\n\n[66349 rows x 4 columns]",
      "text/html": "<div>\n<style scoped>\n    .dataframe tbody tr th:only-of-type {\n        vertical-align: middle;\n    }\n\n    .dataframe tbody tr th {\n        vertical-align: top;\n    }\n\n    .dataframe thead th {\n        text-align: right;\n    }\n</style>\n<table border=\"1\" class=\"dataframe\">\n  <thead>\n    <tr style=\"text-align: right;\">\n      <th></th>\n      <th>node</th>\n      <th>tec</th>\n      <th>year_all</th>\n      <th>Value</th>\n    </tr>\n  </thead>\n  <tbody>\n    <tr>\n      <th>0</th>\n      <td>R12_AFR</td>\n      <td>LNG_exp</td>\n      <td>1995</td>\n      <td>235.0</td>\n    </tr>\n    <tr>\n      <th>1</th>\n      <td>R12_AFR</td>\n      <td>LNG_exp</td>\n      <td>2000</td>\n      <td>235.0</td>\n    </tr>\n    <tr>\n      <th>2</th>\n      <td>R12_AFR</td>\n      <td>LNG_exp</td>\n      <td>2005</td>\n      <td>235.0</td>\n    </tr>\n    <tr>\n      <th>3</th>\n      <td>R12_AFR</td>\n      <td>LNG_exp</td>\n      <td>2010</td>\n      <td>235.0</td>\n    </tr>\n    <tr>\n      <th>4</th>\n      <td>R12_AFR</td>\n      <td>LNG_exp</td>\n      <td>2015</td>\n      <td>235.0</td>\n    </tr>\n    <tr>\n      <th>...</th>\n      <td>...</td>\n      <td>...</td>\n      <td>...</td>\n      <td>...</td>\n    </tr>\n    <tr>\n      <th>66344</th>\n      <td>R12_CHN</td>\n      <td>meth_exp</td>\n      <td>2070</td>\n      <td>235.0</td>\n    </tr>\n    <tr>\n      <th>66345</th>\n      <td>R12_CHN</td>\n      <td>meth_exp</td>\n      <td>2080</td>\n      <td>235.0</td>\n    </tr>\n    <tr>\n      <th>66346</th>\n      <td>R12_CHN</td>\n      <td>meth_exp</td>\n      <td>2090</td>\n      <td>235.0</td>\n    </tr>\n    <tr>\n      <th>66347</th>\n      <td>R12_CHN</td>\n      <td>meth_exp</td>\n      <td>2100</td>\n      <td>235.0</td>\n    </tr>\n    <tr>\n      <th>66348</th>\n      <td>R12_CHN</td>\n      <td>meth_exp</td>\n      <td>2110</td>\n      <td>235.0</td>\n    </tr>\n  </tbody>\n</table>\n<p>66349 rows × 4 columns</p>\n</div>"
     },
     "execution_count": 14,
     "metadata": {},
     "output_type": "execute_result"
    }
   ],
   "source": [
    "df"
   ],
   "metadata": {
    "collapsed": false
   }
  },
  {
   "cell_type": "code",
   "execution_count": 7,
   "outputs": [],
   "source": [
    "df.year_all = df.year_all.astype(\"int\")"
   ],
   "metadata": {
    "collapsed": false
   }
  },
  {
   "cell_type": "code",
   "execution_count": 17,
   "outputs": [],
   "source": [
    "df_nam = df[df[\"node\"]==\"R12_NAM\"].set_index([\"tec\", \"year_all\"])"
   ],
   "metadata": {
    "collapsed": false
   }
  },
  {
   "cell_type": "code",
   "execution_count": 26,
   "outputs": [],
   "source": [
    "df_merge = df.set_index([\"tec\", \"year_all\"]).merge(df_nam, left_index=True, right_index=True)\n",
    "df_merge[\"ratio\"]=df_merge[\"Value_x\"] / df_merge[\"Value_y\"]"
   ],
   "metadata": {
    "collapsed": false
   }
  },
  {
   "cell_type": "code",
   "execution_count": 33,
   "outputs": [],
   "source": [
    "df_merge = df_merge.reset_index()"
   ],
   "metadata": {
    "collapsed": false
   }
  },
  {
   "cell_type": "code",
   "execution_count": 38,
   "outputs": [
    {
     "data": {
      "text/plain": "(2018.0, 2055.0)"
     },
     "execution_count": 38,
     "metadata": {},
     "output_type": "execute_result"
    },
    {
     "data": {
      "text/plain": "<Figure size 720x360 with 1 Axes>",
      "image/png": "[encoded data removed]"
     },
     "metadata": {
      "needs_background": "light"
     },
     "output_type": "display_data"
    }
   ],
   "source": [
    "tec_name = \"meth_bio\"\n",
    "\n",
    "import matplotlib.pyplot as plt\n",
    "fig, ax = plt.subplots(figsize=(10,5))\n",
    "legend = []\n",
    "for reg in df_merge.node_x.unique():\n",
    "    df_merge[(df_merge[\"tec\"]==tec_name) & (df_merge[\"node_x\"]==reg) & (df_merge[\"year_all\"] > 2015)].plot(x=\"year_all\", y=\"ratio\",ax=ax)\n",
    "    legend.append(reg)\n",
    "ax.legend(legend, ncol=3)\n",
    "ax.set_title(f\"inv_cost - {tec_name}\", fontsize=16)\n",
    "ax.set_xticks([i for i in range(2020, 2110, 10)])\n",
    "ax.set_xlim(2018, 2055)"
   ],
   "metadata": {
    "collapsed": false
   }
  },
  {
   "cell_type": "code",
   "execution_count": 12,
   "outputs": [
    {
     "data": {
      "text/plain": "(2018.0, 2060.0)"
     },
     "execution_count": 12,
     "metadata": {},
     "output_type": "execute_result"
    },
    {
     "data": {
      "text/plain": "<Figure size 720x360 with 1 Axes>",
      "image/png": "[encoded data removed]"
     },
     "metadata": {
      "needs_background": "light"
     },
     "output_type": "display_data"
    }
   ],
   "source": [
    "tec_name = \"meth_bio\"\n",
    "\n",
    "import matplotlib.pyplot as plt\n",
    "fig, ax = plt.subplots(figsize=(10,5))\n",
    "legend = []\n",
    "for reg in df.node.unique():\n",
    "    df[(df[\"tec\"]==tec_name) & (df[\"node\"]==reg) & (df[\"year_all\"] > 2015)].plot(x=\"year_all\", y=\"Value\",ax=ax)\n",
    "    legend.append(reg)\n",
    "ax.legend(legend, ncol=3)\n",
    "ax.set_title(f\"inv_cost - {tec_name}\", fontsize=16)\n",
    "ax.set_xticks([i for i in range(2020, 2110, 10)])\n",
    "ax.set_xlim(2018, 2060)"
   ],
   "metadata": {
    "collapsed": false
   }
  },
  {
   "cell_type": "code",
   "execution_count": 4,
   "outputs": [],
   "source": [
    "hist_act = dataframes[\"historical_activity\"]"
   ],
   "metadata": {
    "collapsed": false
   }
  },
  {
   "cell_type": "code",
   "execution_count": 15,
   "outputs": [],
   "source": [
    "#h\n",
    "hist_act = hist_act[hist_act[\"year_all\"]==\"2015\"]\n",
    "hist_act_rcpa = hist_act[hist_act[\"node\"]==\"R12_RCPA\"]\n",
    "hist_act_chn = hist_act[hist_act[\"node\"]==\"R12_CHN\"]\n",
    "hist_act_merge = hist_act_rcpa.merge(hist_act_chn, left_on=\"tec\", right_on=\"tec\")\n",
    "hist_act_merge[\"ratio\"] = hist_act_merge[\"Value_x\"] / hist_act_merge[\"Value_y\"]"
   ],
   "metadata": {
    "collapsed": false
   }
  },
  {
   "cell_type": "code",
   "execution_count": 21,
   "outputs": [
    {
     "data": {
      "text/plain": "       node_x                     tec year_all_x      mode_x time_x   Value_x  \\\n35   R12_RCPA                elec_trp       2015          M1   year  5.000000   \n54   R12_RCPA           gas_extr_mpen       2015          M1   year  0.100000   \n81   R12_RCPA                 oil_exp       2015          M1   year  1.000000   \n85   R12_RCPA           oil_extr_mpen       2015          M1   year  0.100000   \n156  R12_RCPA               eaf_steel       2015          M2   year  0.893333   \n165  R12_RCPA  catalytic_cracking_ref       2015  atm_gasoil   year  5.953922   \n173  R12_RCPA            import_petro       2015          M1   year  0.120969   \n174  R12_RCPA            export_petro       2015          M1   year  0.004573   \n175  R12_RCPA                 gas_NH3       2015          M1   year  0.165746   \n176  R12_RCPA                coal_NH3       2015          M1   year  0.834254   \n177  R12_RCPA            export_NFert       2015          M1   year  0.041194   \n180  R12_RCPA                meth_exp       2015   feedstock   year  0.000272   \n181  R12_RCPA                meth_exp       2015   feedstock   year  0.000272   \n182  R12_RCPA                meth_exp       2015        fuel   year  0.000272   \n183  R12_RCPA                meth_exp       2015        fuel   year  0.000272   \n184  R12_RCPA                meth_imp       2015   feedstock   year  0.177914   \n185  R12_RCPA                meth_imp       2015   feedstock   year  0.177914   \n186  R12_RCPA                meth_imp       2015        fuel   year  0.177914   \n187  R12_RCPA                meth_imp       2015        fuel   year  0.177914   \n\n      node_y year_all_y         mode_y time_y     Value_y     ratio  \n35   R12_CHN       2015             M1   year   54.270254  0.092132  \n54   R12_CHN       2015             M1   year  153.154140  0.000653  \n81   R12_CHN       2015             M1   year   51.318611  0.019486  \n85   R12_CHN       2015             M1   year  250.804477  0.000399  \n156  R12_CHN       2015             M1   year   72.360000  0.012346  \n165  R12_CHN       2015  vacuum_gasoil   year  112.350506  0.052994  \n173  R12_CHN       2015             M1   year   18.270686  0.006621  \n174  R12_CHN       2015             M1   year    0.221271  0.020667  \n175  R12_CHN       2015             M1   year    9.662983  0.017153  \n176  R12_CHN       2015             M1   year   48.637017  0.017153  \n177  R12_CHN       2015             M1   year   20.080371  0.002051  \n180  R12_CHN       2015      feedstock   year    0.096487  0.002823  \n181  R12_CHN       2015           fuel   year    0.096487  0.002823  \n182  R12_CHN       2015      feedstock   year    0.096487  0.002823  \n183  R12_CHN       2015           fuel   year    0.096487  0.002823  \n184  R12_CHN       2015      feedstock   year    3.405133  0.052249  \n185  R12_CHN       2015           fuel   year    3.405133  0.052249  \n186  R12_CHN       2015      feedstock   year    3.405133  0.052249  \n187  R12_CHN       2015           fuel   year    3.405133  0.052249  ",
      "text/html": "<div>\n<style scoped>\n    .dataframe tbody tr th:only-of-type {\n        vertical-align: middle;\n    }\n\n    .dataframe tbody tr th {\n        vertical-align: top;\n    }\n\n    .dataframe thead th {\n        text-align: right;\n    }\n</style>\n<table border=\"1\" class=\"dataframe\">\n  <thead>\n    <tr style=\"text-align: right;\">\n      <th></th>\n      <th>node_x</th>\n      <th>tec</th>\n      <th>year_all_x</th>\n      <th>mode_x</th>\n      <th>time_x</th>\n      <th>Value_x</th>\n      <th>node_y</th>\n      <th>year_all_y</th>\n      <th>mode_y</th>\n      <th>time_y</th>\n      <th>Value_y</th>\n      <th>ratio</th>\n    </tr>\n  </thead>\n  <tbody>\n    <tr>\n      <th>35</th>\n      <td>R12_RCPA</td>\n      <td>elec_trp</td>\n      <td>2015</td>\n      <td>M1</td>\n      <td>year</td>\n      <td>5.000000</td>\n      <td>R12_CHN</td>\n      <td>2015</td>\n      <td>M1</td>\n      <td>year</td>\n      <td>54.270254</td>\n      <td>0.092132</td>\n    </tr>\n    <tr>\n      <th>54</th>\n      <td>R12_RCPA</td>\n      <td>gas_extr_mpen</td>\n      <td>2015</td>\n      <td>M1</td>\n      <td>year</td>\n      <td>0.100000</td>\n      <td>R12_CHN</td>\n      <td>2015</td>\n      <td>M1</td>\n      <td>year</td>\n      <td>153.154140</td>\n      <td>0.000653</td>\n    </tr>\n    <tr>\n      <th>81</th>\n      <td>R12_RCPA</td>\n      <td>oil_exp</td>\n      <td>2015</td>\n      <td>M1</td>\n      <td>year</td>\n      <td>1.000000</td>\n      <td>R12_CHN</td>\n      <td>2015</td>\n      <td>M1</td>\n      <td>year</td>\n      <td>51.318611</td>\n      <td>0.019486</td>\n    </tr>\n    <tr>\n      <th>85</th>\n      <td>R12_RCPA</td>\n      <td>oil_extr_mpen</td>\n      <td>2015</td>\n      <td>M1</td>\n      <td>year</td>\n      <td>0.100000</td>\n      <td>R12_CHN</td>\n      <td>2015</td>\n      <td>M1</td>\n      <td>year</td>\n      <td>250.804477</td>\n      <td>0.000399</td>\n    </tr>\n    <tr>\n      <th>156</th>\n      <td>R12_RCPA</td>\n      <td>eaf_steel</td>\n      <td>2015</td>\n      <td>M2</td>\n      <td>year</td>\n      <td>0.893333</td>\n      <td>R12_CHN</td>\n      <td>2015</td>\n      <td>M1</td>\n      <td>year</td>\n      <td>72.360000</td>\n      <td>0.012346</td>\n    </tr>\n    <tr>\n      <th>165</th>\n      <td>R12_RCPA</td>\n      <td>catalytic_cracking_ref</td>\n      <td>2015</td>\n      <td>atm_gasoil</td>\n      <td>year</td>\n      <td>5.953922</td>\n      <td>R12_CHN</td>\n      <td>2015</td>\n      <td>vacuum_gasoil</td>\n      <td>year</td>\n      <td>112.350506</td>\n      <td>0.052994</td>\n    </tr>\n    <tr>\n      <th>173</th>\n      <td>R12_RCPA</td>\n      <td>import_petro</td>\n      <td>2015</td>\n      <td>M1</td>\n      <td>year</td>\n      <td>0.120969</td>\n      <td>R12_CHN</td>\n      <td>2015</td>\n      <td>M1</td>\n      <td>year</td>\n      <td>18.270686</td>\n      <td>0.006621</td>\n    </tr>\n    <tr>\n      <th>174</th>\n      <td>R12_RCPA</td>\n      <td>export_petro</td>\n      <td>2015</td>\n      <td>M1</td>\n      <td>year</td>\n      <td>0.004573</td>\n      <td>R12_CHN</td>\n      <td>2015</td>\n      <td>M1</td>\n      <td>year</td>\n      <td>0.221271</td>\n      <td>0.020667</td>\n    </tr>\n    <tr>\n      <th>175</th>\n      <td>R12_RCPA</td>\n      <td>gas_NH3</td>\n      <td>2015</td>\n      <td>M1</td>\n      <td>year</td>\n      <td>0.165746</td>\n      <td>R12_CHN</td>\n      <td>2015</td>\n      <td>M1</td>\n      <td>year</td>\n      <td>9.662983</td>\n      <td>0.017153</td>\n    </tr>\n    <tr>\n      <th>176</th>\n      <td>R12_RCPA</td>\n      <td>coal_NH3</td>\n      <td>2015</td>\n      <td>M1</td>\n      <td>year</td>\n      <td>0.834254</td>\n      <td>R12_CHN</td>\n      <td>2015</td>\n      <td>M1</td>\n      <td>year</td>\n      <td>48.637017</td>\n      <td>0.017153</td>\n    </tr>\n    <tr>\n      <th>177</th>\n      <td>R12_RCPA</td>\n      <td>export_NFert</td>\n      <td>2015</td>\n      <td>M1</td>\n      <td>year</td>\n      <td>0.041194</td>\n      <td>R12_CHN</td>\n      <td>2015</td>\n      <td>M1</td>\n      <td>year</td>\n      <td>20.080371</td>\n      <td>0.002051</td>\n    </tr>\n    <tr>\n      <th>180</th>\n      <td>R12_RCPA</td>\n      <td>meth_exp</td>\n      <td>2015</td>\n      <td>feedstock</td>\n      <td>year</td>\n      <td>0.000272</td>\n      <td>R12_CHN</td>\n      <td>2015</td>\n      <td>feedstock</td>\n      <td>year</td>\n      <td>0.096487</td>\n      <td>0.002823</td>\n    </tr>\n    <tr>\n      <th>181</th>\n      <td>R12_RCPA</td>\n      <td>meth_exp</td>\n      <td>2015</td>\n      <td>feedstock</td>\n      <td>year</td>\n      <td>0.000272</td>\n      <td>R12_CHN</td>\n      <td>2015</td>\n      <td>fuel</td>\n      <td>year</td>\n      <td>0.096487</td>\n      <td>0.002823</td>\n    </tr>\n    <tr>\n      <th>182</th>\n      <td>R12_RCPA</td>\n      <td>meth_exp</td>\n      <td>2015</td>\n      <td>fuel</td>\n      <td>year</td>\n      <td>0.000272</td>\n      <td>R12_CHN</td>\n      <td>2015</td>\n      <td>feedstock</td>\n      <td>year</td>\n      <td>0.096487</td>\n      <td>0.002823</td>\n    </tr>\n    <tr>\n      <th>183</th>\n      <td>R12_RCPA</td>\n      <td>meth_exp</td>\n      <td>2015</td>\n      <td>fuel</td>\n      <td>year</td>\n      <td>0.000272</td>\n      <td>R12_CHN</td>\n      <td>2015</td>\n      <td>fuel</td>\n      <td>year</td>\n      <td>0.096487</td>\n      <td>0.002823</td>\n    </tr>\n    <tr>\n      <th>184</th>\n      <td>R12_RCPA</td>\n      <td>meth_imp</td>\n      <td>2015</td>\n      <td>feedstock</td>\n      <td>year</td>\n      <td>0.177914</td>\n      <td>R12_CHN</td>\n      <td>2015</td>\n      <td>feedstock</td>\n      <td>year</td>\n      <td>3.405133</td>\n      <td>0.052249</td>\n    </tr>\n    <tr>\n      <th>185</th>\n      <td>R12_RCPA</td>\n      <td>meth_imp</td>\n      <td>2015</td>\n      <td>feedstock</td>\n      <td>year</td>\n      <td>0.177914</td>\n      <td>R12_CHN</td>\n      <td>2015</td>\n      <td>fuel</td>\n      <td>year</td>\n      <td>3.405133</td>\n      <td>0.052249</td>\n    </tr>\n    <tr>\n      <th>186</th>\n      <td>R12_RCPA</td>\n      <td>meth_imp</td>\n      <td>2015</td>\n      <td>fuel</td>\n      <td>year</td>\n      <td>0.177914</td>\n      <td>R12_CHN</td>\n      <td>2015</td>\n      <td>feedstock</td>\n      <td>year</td>\n      <td>3.405133</td>\n      <td>0.052249</td>\n    </tr>\n    <tr>\n      <th>187</th>\n      <td>R12_RCPA</td>\n      <td>meth_imp</td>\n      <td>2015</td>\n      <td>fuel</td>\n      <td>year</td>\n      <td>0.177914</td>\n      <td>R12_CHN</td>\n      <td>2015</td>\n      <td>fuel</td>\n      <td>year</td>\n      <td>3.405133</td>\n      <td>0.052249</td>\n    </tr>\n  </tbody>\n</table>\n</div>"
     },
     "execution_count": 21,
     "metadata": {},
     "output_type": "execute_result"
    }
   ],
   "source": [
    "hist_act_merge[hist_act_merge[\"ratio\"]<0.111]"
   ],
   "metadata": {
    "collapsed": false
   }
  },
  {
   "cell_type": "code",
   "execution_count": 38,
   "outputs": [
    {
     "data": {
      "text/plain": "         node   commodity           level year_all  time     Level  Marginal  \\\n0     R12_AFR         NH3  final_material     2020  year  2.500000       0.0   \n1     R12_AFR         NH3  final_material     2025  year  2.735064       0.0   \n2     R12_AFR         NH3  final_material     2030  year  2.906112       0.0   \n3     R12_AFR         NH3  final_material     2035  year  3.156448       0.0   \n4     R12_AFR         NH3  final_material     2040  year  3.342780       0.0   \n...       ...         ...             ...      ...   ...       ...       ...   \n2060  R12_CHN  fcoh_resin  final_material     2060  year  0.282172       0.0   \n2061  R12_CHN  fcoh_resin  final_material     2070  year  0.215595       0.0   \n2062  R12_CHN  fcoh_resin  final_material     2080  year  0.094929       0.0   \n2063  R12_CHN  fcoh_resin  final_material     2090  year  0.030637       0.0   \n2064  R12_CHN  fcoh_resin  final_material     2100  year  0.011176       0.0   \n\n              Lower          Upper  Scale  \n0     4.000000e+300  3.000000e+300    1.0  \n1     4.000000e+300  3.000000e+300    1.0  \n2     4.000000e+300  3.000000e+300    1.0  \n3     4.000000e+300  3.000000e+300    1.0  \n4     4.000000e+300  3.000000e+300    1.0  \n...             ...            ...    ...  \n2060  4.000000e+300  3.000000e+300    1.0  \n2061  4.000000e+300  3.000000e+300    1.0  \n2062  4.000000e+300  3.000000e+300    1.0  \n2063  4.000000e+300  3.000000e+300    1.0  \n2064  4.000000e+300  3.000000e+300    1.0  \n\n[2065 rows x 10 columns]",
      "text/html": "<div>\n<style scoped>\n    .dataframe tbody tr th:only-of-type {\n        vertical-align: middle;\n    }\n\n    .dataframe tbody tr th {\n        vertical-align: top;\n    }\n\n    .dataframe thead th {\n        text-align: right;\n    }\n</style>\n<table border=\"1\" class=\"dataframe\">\n  <thead>\n    <tr style=\"text-align: right;\">\n      <th></th>\n      <th>node</th>\n      <th>commodity</th>\n      <th>level</th>\n      <th>year_all</th>\n      <th>time</th>\n      <th>Level</th>\n      <th>Marginal</th>\n      <th>Lower</th>\n      <th>Upper</th>\n      <th>Scale</th>\n    </tr>\n  </thead>\n  <tbody>\n    <tr>\n      <th>0</th>\n      <td>R12_AFR</td>\n      <td>NH3</td>\n      <td>final_material</td>\n      <td>2020</td>\n      <td>year</td>\n      <td>2.500000</td>\n      <td>0.0</td>\n      <td>4.000000e+300</td>\n      <td>3.000000e+300</td>\n      <td>1.0</td>\n    </tr>\n    <tr>\n      <th>1</th>\n      <td>R12_AFR</td>\n      <td>NH3</td>\n      <td>final_material</td>\n      <td>2025</td>\n      <td>year</td>\n      <td>2.735064</td>\n      <td>0.0</td>\n      <td>4.000000e+300</td>\n      <td>3.000000e+300</td>\n      <td>1.0</td>\n    </tr>\n    <tr>\n      <th>2</th>\n      <td>R12_AFR</td>\n      <td>NH3</td>\n      <td>final_material</td>\n      <td>2030</td>\n      <td>year</td>\n      <td>2.906112</td>\n      <td>0.0</td>\n      <td>4.000000e+300</td>\n      <td>3.000000e+300</td>\n      <td>1.0</td>\n    </tr>\n    <tr>\n      <th>3</th>\n      <td>R12_AFR</td>\n      <td>NH3</td>\n      <td>final_material</td>\n      <td>2035</td>\n      <td>year</td>\n      <td>3.156448</td>\n      <td>0.0</td>\n      <td>4.000000e+300</td>\n      <td>3.000000e+300</td>\n      <td>1.0</td>\n    </tr>\n    <tr>\n      <th>4</th>\n      <td>R12_AFR</td>\n      <td>NH3</td>\n      <td>final_material</td>\n      <td>2040</td>\n      <td>year</td>\n      <td>3.342780</td>\n      <td>0.0</td>\n      <td>4.000000e+300</td>\n      <td>3.000000e+300</td>\n      <td>1.0</td>\n    </tr>\n    <tr>\n      <th>...</th>\n      <td>...</td>\n      <td>...</td>\n      <td>...</td>\n      <td>...</td>\n      <td>...</td>\n      <td>...</td>\n      <td>...</td>\n      <td>...</td>\n      <td>...</td>\n      <td>...</td>\n    </tr>\n    <tr>\n      <th>2060</th>\n      <td>R12_CHN</td>\n      <td>fcoh_resin</td>\n      <td>final_material</td>\n      <td>2060</td>\n      <td>year</td>\n      <td>0.282172</td>\n      <td>0.0</td>\n      <td>4.000000e+300</td>\n      <td>3.000000e+300</td>\n      <td>1.0</td>\n    </tr>\n    <tr>\n      <th>2061</th>\n      <td>R12_CHN</td>\n      <td>fcoh_resin</td>\n      <td>final_material</td>\n      <td>2070</td>\n      <td>year</td>\n      <td>0.215595</td>\n      <td>0.0</td>\n      <td>4.000000e+300</td>\n      <td>3.000000e+300</td>\n      <td>1.0</td>\n    </tr>\n    <tr>\n      <th>2062</th>\n      <td>R12_CHN</td>\n      <td>fcoh_resin</td>\n      <td>final_material</td>\n      <td>2080</td>\n      <td>year</td>\n      <td>0.094929</td>\n      <td>0.0</td>\n      <td>4.000000e+300</td>\n      <td>3.000000e+300</td>\n      <td>1.0</td>\n    </tr>\n    <tr>\n      <th>2063</th>\n      <td>R12_CHN</td>\n      <td>fcoh_resin</td>\n      <td>final_material</td>\n      <td>2090</td>\n      <td>year</td>\n      <td>0.030637</td>\n      <td>0.0</td>\n      <td>4.000000e+300</td>\n      <td>3.000000e+300</td>\n      <td>1.0</td>\n    </tr>\n    <tr>\n      <th>2064</th>\n      <td>R12_CHN</td>\n      <td>fcoh_resin</td>\n      <td>final_material</td>\n      <td>2100</td>\n      <td>year</td>\n      <td>0.011176</td>\n      <td>0.0</td>\n      <td>4.000000e+300</td>\n      <td>3.000000e+300</td>\n      <td>1.0</td>\n    </tr>\n  </tbody>\n</table>\n<p>2065 rows × 10 columns</p>\n</div>"
     },
     "execution_count": 38,
     "metadata": {},
     "output_type": "execute_result"
    }
   ],
   "source": [
    "hist_act = dataframes[\"DEMAND\"]\n",
    "hist_act"
   ],
   "metadata": {
    "collapsed": false
   }
  },
  {
   "cell_type": "code",
   "execution_count": 70,
   "outputs": [],
   "source": [
    "#h\n",
    "hist_act = hist_act[hist_act[\"year_all\"]==\"2020\"]\n",
    "#hist_act = hist_act.set_index([\"commodity\", \"level\"])\n",
    "hist_act_rcpa = hist_act[hist_act[\"node\"]==\"R12_RCPA\"]\n",
    "hist_act_chn = hist_act[hist_act[\"node\"]==\"R12_CHN\"]\n",
    "\n",
    "hist_act_merge = hist_act_rcpa.join(hist_act_chn[\"Level\"], rsuffix=\"_x\")\n",
    "hist_act_merge[\"ratio\"] = hist_act_merge[\"Level\"] / hist_act_merge[\"Level_x\"]"
   ],
   "metadata": {
    "collapsed": false
   }
  },
  {
   "cell_type": "code",
   "execution_count": 71,
   "outputs": [
    {
     "data": {
      "text/plain": "                               node year_all  time       Level  Marginal  \\\ncommodity  level                                                           \nNH3        final_material  R12_RCPA     2020  year    2.500000       0.0   \nmethanol   final_material  R12_RCPA     2020  year    0.204400       0.0   \ni_spec     useful          R12_RCPA     2020  year   16.366848       0.0   \ni_therm    useful          R12_RCPA     2020  year   25.932783       0.0   \nnon-comm   useful          R12_RCPA     2020  year    2.142900       0.0   \nrc_spec    useful          R12_RCPA     2020  year    9.493912       0.0   \nrc_therm   useful          R12_RCPA     2020  year   34.041000       0.0   \ntransport  useful          R12_RCPA     2020  year   55.257000       0.0   \nsteel      demand          R12_RCPA     2020  year   12.083479       0.0   \ncement     demand          R12_RCPA     2020  year  237.872109       0.0   \naluminum   demand          R12_RCPA     2020  year    1.999989       0.0   \nHVC        demand          R12_RCPA     2020  year    0.440000       0.0   \nfcoh_resin final_material  R12_RCPA     2020  year    0.058829       0.0   \n\n                                   Lower          Upper  Scale      Level_x  \\\ncommodity  level                                                              \nNH3        final_material  4.000000e+300  3.000000e+300    1.0    18.000000   \nmethanol   final_material  4.000000e+300  3.000000e+300    1.0    24.732400   \ni_spec     useful          4.000000e+300  3.000000e+300    1.0   147.301632   \ni_therm    useful          4.000000e+300  3.000000e+300    1.0   233.395048   \nnon-comm   useful          4.000000e+300  3.000000e+300    1.0    19.286100   \nrc_spec    useful          4.000000e+300  3.000000e+300    1.0    85.445212   \nrc_therm   useful          4.000000e+300  3.000000e+300    1.0   306.369000   \ntransport  useful          4.000000e+300  3.000000e+300    1.0   497.313000   \nsteel      demand          4.000000e+300  3.000000e+300    1.0   980.023775   \ncement     demand          4.000000e+300  3.000000e+300    1.0  2140.848982   \naluminum   demand          4.000000e+300  3.000000e+300    1.0    25.998916   \nHVC        demand          4.000000e+300  3.000000e+300    1.0    50.500000   \nfcoh_resin final_material  4.000000e+300  3.000000e+300    1.0     0.724910   \n\n                              ratio  \ncommodity  level                     \nNH3        final_material  0.138889  \nmethanol   final_material  0.008264  \ni_spec     useful          0.111111  \ni_therm    useful          0.111111  \nnon-comm   useful          0.111111  \nrc_spec    useful          0.111111  \nrc_therm   useful          0.111111  \ntransport  useful          0.111111  \nsteel      demand          0.012330  \ncement     demand          0.111111  \naluminum   demand          0.076926  \nHVC        demand          0.008713  \nfcoh_resin final_material  0.081154  ",
      "text/html": "<div>\n<style scoped>\n    .dataframe tbody tr th:only-of-type {\n        vertical-align: middle;\n    }\n\n    .dataframe tbody tr th {\n        vertical-align: top;\n    }\n\n    .dataframe thead th {\n        text-align: right;\n    }\n</style>\n<table border=\"1\" class=\"dataframe\">\n  <thead>\n    <tr style=\"text-align: right;\">\n      <th></th>\n      <th></th>\n      <th>node</th>\n      <th>year_all</th>\n      <th>time</th>\n      <th>Level</th>\n      <th>Marginal</th>\n      <th>Lower</th>\n      <th>Upper</th>\n      <th>Scale</th>\n      <th>Level_x</th>\n      <th>ratio</th>\n    </tr>\n    <tr>\n      <th>commodity</th>\n      <th>level</th>\n      <th></th>\n      <th></th>\n      <th></th>\n      <th></th>\n      <th></th>\n      <th></th>\n      <th></th>\n      <th></th>\n      <th></th>\n      <th></th>\n    </tr>\n  </thead>\n  <tbody>\n    <tr>\n      <th>NH3</th>\n      <th>final_material</th>\n      <td>R12_RCPA</td>\n      <td>2020</td>\n      <td>year</td>\n      <td>2.500000</td>\n      <td>0.0</td>\n      <td>4.000000e+300</td>\n      <td>3.000000e+300</td>\n      <td>1.0</td>\n      <td>18.000000</td>\n      <td>0.138889</td>\n    </tr>\n    <tr>\n      <th>methanol</th>\n      <th>final_material</th>\n      <td>R12_RCPA</td>\n      <td>2020</td>\n      <td>year</td>\n      <td>0.204400</td>\n      <td>0.0</td>\n      <td>4.000000e+300</td>\n      <td>3.000000e+300</td>\n      <td>1.0</td>\n      <td>24.732400</td>\n      <td>0.008264</td>\n    </tr>\n    <tr>\n      <th>i_spec</th>\n      <th>useful</th>\n      <td>R12_RCPA</td>\n      <td>2020</td>\n      <td>year</td>\n      <td>16.366848</td>\n      <td>0.0</td>\n      <td>4.000000e+300</td>\n      <td>3.000000e+300</td>\n      <td>1.0</td>\n      <td>147.301632</td>\n      <td>0.111111</td>\n    </tr>\n    <tr>\n      <th>i_therm</th>\n      <th>useful</th>\n      <td>R12_RCPA</td>\n      <td>2020</td>\n      <td>year</td>\n      <td>25.932783</td>\n      <td>0.0</td>\n      <td>4.000000e+300</td>\n      <td>3.000000e+300</td>\n      <td>1.0</td>\n      <td>233.395048</td>\n      <td>0.111111</td>\n    </tr>\n    <tr>\n      <th>non-comm</th>\n      <th>useful</th>\n      <td>R12_RCPA</td>\n      <td>2020</td>\n      <td>year</td>\n      <td>2.142900</td>\n      <td>0.0</td>\n      <td>4.000000e+300</td>\n      <td>3.000000e+300</td>\n      <td>1.0</td>\n      <td>19.286100</td>\n      <td>0.111111</td>\n    </tr>\n    <tr>\n      <th>rc_spec</th>\n      <th>useful</th>\n      <td>R12_RCPA</td>\n      <td>2020</td>\n      <td>year</td>\n      <td>9.493912</td>\n      <td>0.0</td>\n      <td>4.000000e+300</td>\n      <td>3.000000e+300</td>\n      <td>1.0</td>\n      <td>85.445212</td>\n      <td>0.111111</td>\n    </tr>\n    <tr>\n      <th>rc_therm</th>\n      <th>useful</th>\n      <td>R12_RCPA</td>\n      <td>2020</td>\n      <td>year</td>\n      <td>34.041000</td>\n      <td>0.0</td>\n      <td>4.000000e+300</td>\n      <td>3.000000e+300</td>\n      <td>1.0</td>\n      <td>306.369000</td>\n      <td>0.111111</td>\n    </tr>\n    <tr>\n      <th>transport</th>\n      <th>useful</th>\n      <td>R12_RCPA</td>\n      <td>2020</td>\n      <td>year</td>\n      <td>55.257000</td>\n      <td>0.0</td>\n      <td>4.000000e+300</td>\n      <td>3.000000e+300</td>\n      <td>1.0</td>\n      <td>497.313000</td>\n      <td>0.111111</td>\n    </tr>\n    <tr>\n      <th>steel</th>\n      <th>demand</th>\n      <td>R12_RCPA</td>\n      <td>2020</td>\n      <td>year</td>\n      <td>12.083479</td>\n      <td>0.0</td>\n      <td>4.000000e+300</td>\n      <td>3.000000e+300</td>\n      <td>1.0</td>\n      <td>980.023775</td>\n      <td>0.012330</td>\n    </tr>\n    <tr>\n      <th>cement</th>\n      <th>demand</th>\n      <td>R12_RCPA</td>\n      <td>2020</td>\n      <td>year</td>\n      <td>237.872109</td>\n      <td>0.0</td>\n      <td>4.000000e+300</td>\n      <td>3.000000e+300</td>\n      <td>1.0</td>\n      <td>2140.848982</td>\n      <td>0.111111</td>\n    </tr>\n    <tr>\n      <th>aluminum</th>\n      <th>demand</th>\n      <td>R12_RCPA</td>\n      <td>2020</td>\n      <td>year</td>\n      <td>1.999989</td>\n      <td>0.0</td>\n      <td>4.000000e+300</td>\n      <td>3.000000e+300</td>\n      <td>1.0</td>\n      <td>25.998916</td>\n      <td>0.076926</td>\n    </tr>\n    <tr>\n      <th>HVC</th>\n      <th>demand</th>\n      <td>R12_RCPA</td>\n      <td>2020</td>\n      <td>year</td>\n      <td>0.440000</td>\n      <td>0.0</td>\n      <td>4.000000e+300</td>\n      <td>3.000000e+300</td>\n      <td>1.0</td>\n      <td>50.500000</td>\n      <td>0.008713</td>\n    </tr>\n    <tr>\n      <th>fcoh_resin</th>\n      <th>final_material</th>\n      <td>R12_RCPA</td>\n      <td>2020</td>\n      <td>year</td>\n      <td>0.058829</td>\n      <td>0.0</td>\n      <td>4.000000e+300</td>\n      <td>3.000000e+300</td>\n      <td>1.0</td>\n      <td>0.724910</td>\n      <td>0.081154</td>\n    </tr>\n  </tbody>\n</table>\n</div>"
     },
     "execution_count": 71,
     "metadata": {},
     "output_type": "execute_result"
    }
   ],
   "source": [
    "hist_act_merge"
   ],
   "metadata": {
    "collapsed": false
   }
  },
  {
   "cell_type": "code",
   "execution_count": null,
   "outputs": [],
   "source": [
    "hist_act_merge[hist_act_merge[\"ratio\"]<0.111]"
   ],
   "metadata": {
    "collapsed": false
   }
  },
  {
   "cell_type": "code",
   "execution_count": 18,
   "outputs": [
    {
     "data": {
      "text/plain": "                            tec      ratio\n85                oil_extr_mpen   0.000399\n54                gas_extr_mpen   0.000653\n177                export_NFert   0.002051\n183                    meth_exp   0.002823\n182                    meth_exp   0.002823\n..                          ...        ...\n166      catalytic_cracking_ref   0.232963\n142  extract__freshwater_supply   0.250000\n179                  import_NH3   0.331096\n155                   eaf_steel   1.000000\n178                import_NFert  49.573951\n\n[188 rows x 2 columns]",
      "text/html": "<div>\n<style scoped>\n    .dataframe tbody tr th:only-of-type {\n        vertical-align: middle;\n    }\n\n    .dataframe tbody tr th {\n        vertical-align: top;\n    }\n\n    .dataframe thead th {\n        text-align: right;\n    }\n</style>\n<table border=\"1\" class=\"dataframe\">\n  <thead>\n    <tr style=\"text-align: right;\">\n      <th></th>\n      <th>tec</th>\n      <th>ratio</th>\n    </tr>\n  </thead>\n  <tbody>\n    <tr>\n      <th>85</th>\n      <td>oil_extr_mpen</td>\n      <td>0.000399</td>\n    </tr>\n    <tr>\n      <th>54</th>\n      <td>gas_extr_mpen</td>\n      <td>0.000653</td>\n    </tr>\n    <tr>\n      <th>177</th>\n      <td>export_NFert</td>\n      <td>0.002051</td>\n    </tr>\n    <tr>\n      <th>183</th>\n      <td>meth_exp</td>\n      <td>0.002823</td>\n    </tr>\n    <tr>\n      <th>182</th>\n      <td>meth_exp</td>\n      <td>0.002823</td>\n    </tr>\n    <tr>\n      <th>...</th>\n      <td>...</td>\n      <td>...</td>\n    </tr>\n    <tr>\n      <th>166</th>\n      <td>catalytic_cracking_ref</td>\n      <td>0.232963</td>\n    </tr>\n    <tr>\n      <th>142</th>\n      <td>extract__freshwater_supply</td>\n      <td>0.250000</td>\n    </tr>\n    <tr>\n      <th>179</th>\n      <td>import_NH3</td>\n      <td>0.331096</td>\n    </tr>\n    <tr>\n      <th>155</th>\n      <td>eaf_steel</td>\n      <td>1.000000</td>\n    </tr>\n    <tr>\n      <th>178</th>\n      <td>import_NFert</td>\n      <td>49.573951</td>\n    </tr>\n  </tbody>\n</table>\n<p>188 rows × 2 columns</p>\n</div>"
     },
     "execution_count": 18,
     "metadata": {},
     "output_type": "execute_result"
    }
   ],
   "source": [
    "hist_act_merge[[\"tec\", \"ratio\"]].sort_values(\"ratio\")"
   ],
   "metadata": {
    "collapsed": false
   }
  },
  {
   "cell_type": "code",
   "execution_count": 3,
   "outputs": [],
   "source": [
    "act = dataframes[\"ACT\"].drop([\"time\", \"Marginal\", \"Lower\", \"Upper\", \"Scale\"], axis=1)\n",
    "act = act[act[\"Level\"] != 0]\n",
    "act = act.rename({\"vintage\":\"year_vtg\", \"year_all\":\"year_act\", \"node\":\"node_loc\"}, axis=1)\n",
    "act = act.set_index([\"node_loc\", \"year_act\", \"tec\", \"mode\", \"year_vtg\"])"
   ],
   "metadata": {
    "collapsed": false
   }
  },
  {
   "cell_type": "code",
   "execution_count": 4,
   "outputs": [],
   "source": [
    "inp = dataframes[\"input\"].drop(\"time\", axis=1)\n",
    "node_cols = inp[\"node\"]\n",
    "node_cols.columns = [\"node_loc\", \"node_origin\"]\n",
    "inp[\"node_loc\"] = node_cols[\"node_loc\"]\n",
    "inp[\"node_origin\"] = node_cols[\"node_origin\"]\n",
    "inp = inp.rename({\"vintage\":\"year_vtg\", \"year_all\":\"year_act\"}, axis=1)\n",
    "inp = inp.drop(\"node\", axis=1)\n",
    "inp = inp.set_index([\"node_loc\", \"year_act\", \"tec\", \"mode\", \"year_vtg\"])"
   ],
   "metadata": {
    "collapsed": false
   }
  },
  {
   "cell_type": "code",
   "execution_count": 5,
   "outputs": [],
   "source": [
    "act_in = act.join(inp)\n",
    "act_in = act_in.dropna()\n",
    "act_in[\"input\"] = act_in[\"Level\"] * act_in[\"Value\"]"
   ],
   "metadata": {
    "collapsed": false
   }
  },
  {
   "cell_type": "code",
   "execution_count": 6,
   "outputs": [],
   "source": [
    "out = dataframes[\"output\"].drop(\"time\", axis=1)\n",
    "node_cols = out[\"node\"]\n",
    "node_cols.columns = [\"node_loc\", \"node_dest\"]\n",
    "out[\"node_loc\"] = node_cols[\"node_loc\"]\n",
    "out[\"node_origin\"] = node_cols[\"node_dest\"]\n",
    "out = out.rename({\"vintage\":\"year_vtg\", \"year_all\":\"year_act\"}, axis=1)\n",
    "out = out.drop(\"node\", axis=1)\n",
    "out = out.set_index([\"node_loc\", \"year_act\", \"year_vtg\", \"tec\", \"mode\"])"
   ],
   "metadata": {
    "collapsed": false
   }
  },
  {
   "cell_type": "code",
   "execution_count": 7,
   "outputs": [],
   "source": [
    "act_out = act.join(out)\n",
    "act_out = act_out.dropna()\n",
    "act_out[\"output\"] = act_out[\"Level\"] * act_out[\"Value\"]"
   ],
   "metadata": {
    "collapsed": false
   }
  },
  {
   "cell_type": "code",
   "execution_count": 8,
   "outputs": [],
   "source": [
    "rel = dataframes[\"relation_activity\"]\n",
    "node_cols = rel[\"node\"]\n",
    "node_cols.columns = [\"node_loc\", \"node_dest\"]\n",
    "rel[\"node_loc\"] = node_cols[\"node_loc\"]\n",
    "rel[\"node_origin\"] = node_cols[\"node_dest\"]\n",
    "\n",
    "year_cols = rel[\"year_all\"]\n",
    "year_cols.columns = [\"year_act\", \"year_rel\"]\n",
    "rel[\"year_act\"] = year_cols[\"year_act\"]\n",
    "rel[\"year_rel\"] = year_cols[\"year_rel\"]\n",
    "\n",
    "rel = rel.drop(\"node\", axis=1)\n",
    "rel = rel.drop(\"year_all\", axis=1)\n",
    "rel = rel.set_index([\"node_loc\", \"year_act\", \"tec\", \"mode\"])"
   ],
   "metadata": {
    "collapsed": false
   }
  },
  {
   "cell_type": "code",
   "execution_count": 9,
   "outputs": [],
   "source": [
    "rel_co2emi = rel[rel[\"relation\"]==\"CO2_Emission\"]"
   ],
   "metadata": {
    "collapsed": false
   }
  },
  {
   "cell_type": "code",
   "execution_count": 10,
   "outputs": [],
   "source": [
    "emi_top_down = rel_co2emi.join(act).dropna()\n",
    "emi_top_down[\"emi\"] = emi_top_down[\"Value\"] * emi_top_down[\"Level\"] #<"
   ],
   "metadata": {
    "collapsed": false
   }
  },
  {
   "cell_type": "code",
   "execution_count": 11,
   "outputs": [],
   "source": [
    "emi_bott_up_names =  [\"CO2_ind\", \"CO2_r_c\", \"CO2_trp\", \"CO2_trade\", \"CO2_shipping\", \"CO2_cc\"]"
   ],
   "metadata": {
    "collapsed": false
   }
  },
  {
   "cell_type": "code",
   "execution_count": 12,
   "outputs": [],
   "source": [
    "emi_bott_up = rel[rel[\"relation\"].isin(emi_bott_up_names).values]\n",
    "emi_bott_up = emi_bott_up.join(act).dropna()\n",
    "emi_bott_up[\"emi\"] = emi_bott_up[\"Value\"] * emi_bott_up[\"Level\"]"
   ],
   "metadata": {
    "collapsed": false
   }
  },
  {
   "cell_type": "code",
   "execution_count": 38,
   "outputs": [
    {
     "data": {
      "text/plain": "                Level\ntec                  \nbiomass_i  167.172537\ncoal_i     646.478318\nelec_i      87.922704\nfoil_i     100.367546\ngas_i      569.083035\nheat_i     176.669585\nhp_gas_i     5.982707\nloil_i      96.592091\nsolar_i     96.415719",
      "text/html": "<div>\n<style scoped>\n    .dataframe tbody tr th:only-of-type {\n        vertical-align: middle;\n    }\n\n    .dataframe tbody tr th {\n        vertical-align: top;\n    }\n\n    .dataframe thead th {\n        text-align: right;\n    }\n</style>\n<table border=\"1\" class=\"dataframe\">\n  <thead>\n    <tr style=\"text-align: right;\">\n      <th></th>\n      <th>Level</th>\n    </tr>\n    <tr>\n      <th>tec</th>\n      <th></th>\n    </tr>\n  </thead>\n  <tbody>\n    <tr>\n      <th>biomass_i</th>\n      <td>167.172537</td>\n    </tr>\n    <tr>\n      <th>coal_i</th>\n      <td>646.478318</td>\n    </tr>\n    <tr>\n      <th>elec_i</th>\n      <td>87.922704</td>\n    </tr>\n    <tr>\n      <th>foil_i</th>\n      <td>100.367546</td>\n    </tr>\n    <tr>\n      <th>gas_i</th>\n      <td>569.083035</td>\n    </tr>\n    <tr>\n      <th>heat_i</th>\n      <td>176.669585</td>\n    </tr>\n    <tr>\n      <th>hp_gas_i</th>\n      <td>5.982707</td>\n    </tr>\n    <tr>\n      <th>loil_i</th>\n      <td>96.592091</td>\n    </tr>\n    <tr>\n      <th>solar_i</th>\n      <td>96.415719</td>\n    </tr>\n  </tbody>\n</table>\n</div>"
     },
     "execution_count": 38,
     "metadata": {},
     "output_type": "execute_result"
    }
   ],
   "source": [
    "act.index = act.index.swaplevel(0,1)\n",
    "act.index = act.index.swaplevel(1,2)\n",
    "#act2020 = act.loc[\"2020\"]\n",
    "act2020[act2020.index.get_level_values(0).str.startswith(\"oil_i\")].groupby(\"tec\").sum()"
   ],
   "metadata": {
    "collapsed": false
   }
  },
  {
   "cell_type": "code",
   "execution_count": 5,
   "outputs": [
    {
     "data": {
      "text/plain": "                                                   Level\ntec      year_act node_loc mode      year_vtg           \nCH4_TCE  2020     R12_AFR  M1        2020      10.356186\n         2025     R12_AFR  M1        2025      11.408378\n         2030     R12_AFR  M1        2030      12.528957\n         2035     R12_AFR  M1        2035      13.711018\n         2040     R12_AFR  M1        2040      14.759977\n...                                                  ...\nmeth_imp 2035     R12_CHN  feedstock 2035      24.245616\n         2040     R12_CHN  feedstock 2040      31.090559\n         2045     R12_CHN  feedstock 2045      25.668182\n         2050     R12_CHN  feedstock 2050      11.717664\n         2055     R12_CHN  feedstock 2055       0.923019\n\n[66620 rows x 1 columns]",
      "text/html": "<div>\n<style scoped>\n    .dataframe tbody tr th:only-of-type {\n        vertical-align: middle;\n    }\n\n    .dataframe tbody tr th {\n        vertical-align: top;\n    }\n\n    .dataframe thead th {\n        text-align: right;\n    }\n</style>\n<table border=\"1\" class=\"dataframe\">\n  <thead>\n    <tr style=\"text-align: right;\">\n      <th></th>\n      <th></th>\n      <th></th>\n      <th></th>\n      <th></th>\n      <th>Level</th>\n    </tr>\n    <tr>\n      <th>tec</th>\n      <th>year_act</th>\n      <th>node_loc</th>\n      <th>mode</th>\n      <th>year_vtg</th>\n      <th></th>\n    </tr>\n  </thead>\n  <tbody>\n    <tr>\n      <th rowspan=\"5\" valign=\"top\">CH4_TCE</th>\n      <th>2020</th>\n      <th>R12_AFR</th>\n      <th>M1</th>\n      <th>2020</th>\n      <td>10.356186</td>\n    </tr>\n    <tr>\n      <th>2025</th>\n      <th>R12_AFR</th>\n      <th>M1</th>\n      <th>2025</th>\n      <td>11.408378</td>\n    </tr>\n    <tr>\n      <th>2030</th>\n      <th>R12_AFR</th>\n      <th>M1</th>\n      <th>2030</th>\n      <td>12.528957</td>\n    </tr>\n    <tr>\n      <th>2035</th>\n      <th>R12_AFR</th>\n      <th>M1</th>\n      <th>2035</th>\n      <td>13.711018</td>\n    </tr>\n    <tr>\n      <th>2040</th>\n      <th>R12_AFR</th>\n      <th>M1</th>\n      <th>2040</th>\n      <td>14.759977</td>\n    </tr>\n    <tr>\n      <th>...</th>\n      <th>...</th>\n      <th>...</th>\n      <th>...</th>\n      <th>...</th>\n      <td>...</td>\n    </tr>\n    <tr>\n      <th rowspan=\"5\" valign=\"top\">meth_imp</th>\n      <th>2035</th>\n      <th>R12_CHN</th>\n      <th>feedstock</th>\n      <th>2035</th>\n      <td>24.245616</td>\n    </tr>\n    <tr>\n      <th>2040</th>\n      <th>R12_CHN</th>\n      <th>feedstock</th>\n      <th>2040</th>\n      <td>31.090559</td>\n    </tr>\n    <tr>\n      <th>2045</th>\n      <th>R12_CHN</th>\n      <th>feedstock</th>\n      <th>2045</th>\n      <td>25.668182</td>\n    </tr>\n    <tr>\n      <th>2050</th>\n      <th>R12_CHN</th>\n      <th>feedstock</th>\n      <th>2050</th>\n      <td>11.717664</td>\n    </tr>\n    <tr>\n      <th>2055</th>\n      <th>R12_CHN</th>\n      <th>feedstock</th>\n      <th>2055</th>\n      <td>0.923019</td>\n    </tr>\n  </tbody>\n</table>\n<p>66620 rows × 1 columns</p>\n</div>"
     },
     "execution_count": 5,
     "metadata": {},
     "output_type": "execute_result"
    }
   ],
   "source": [
    "act.index = act.index.swaplevel(0, 2)\n",
    "act"
   ],
   "metadata": {
    "collapsed": false
   }
  },
  {
   "cell_type": "code",
   "execution_count": 6,
   "outputs": [
    {
     "name": "stdout",
     "output_type": "stream",
     "text": [
      "                Level\n",
      "year_act             \n",
      "2020      3215.410027\n",
      "2025      3639.927256\n",
      "2030      4032.417858\n",
      "2035      4384.430552\n",
      "2040      4582.811404\n",
      "2045      4625.292203\n",
      "2050      4473.551896\n",
      "2055      4183.626996\n",
      "2060      3755.588088\n",
      "2070      2300.091380\n",
      "2080      1324.577029\n",
      "2090       857.266707\n",
      "2100       796.318673\n",
      "2110      1468.300602\n",
      "                Level\n",
      "year_act             \n",
      "2020        39.794360\n",
      "2025        68.371773\n",
      "2030       116.419351\n",
      "2035       192.174476\n",
      "2040       317.179604\n",
      "2045       476.168020\n",
      "2050       703.454829\n",
      "2055      1018.044083\n",
      "2060      1447.998813\n",
      "2070      2065.563856\n",
      "2080      2384.014642\n",
      "2090      3410.512507\n",
      "2100      4269.243252\n",
      "2110      5530.804486\n"
     ]
    },
    {
     "data": {
      "text/plain": "<matplotlib.legend.Legend at 0x1e20d80e9d0>"
     },
     "execution_count": 6,
     "metadata": {},
     "output_type": "execute_result"
    },
    {
     "data": {
      "text/plain": "<Figure size 432x288 with 1 Axes>",
      "image/png": "[encoded data removed]"
     },
     "metadata": {
      "needs_background": "light"
     },
     "output_type": "display_data"
    }
   ],
   "source": [
    "import matplotlib.pyplot as plt\n",
    "fig, ax = plt.subplots()\n",
    "legend = []\n",
    "for i in [\"loil_trp\", \"foil_trp\"]:\n",
    "    print(act.loc[i].groupby([\"year_act\"]).sum())\n",
    "    act.loc[i].groupby([\"year_act\"]).sum().reset_index().plot(ax=ax, x=\"year_act\", y=\"Level\")\n",
    "    legend.append(i)\n",
    "ax.legend(legend)"
   ],
   "metadata": {
    "collapsed": false
   }
  },
  {
   "cell_type": "markdown",
   "source": [],
   "metadata": {
    "collapsed": false
   }
  },
  {
   "cell_type": "markdown",
   "source": [
    "## identify missing relations"
   ],
   "metadata": {
    "collapsed": false
   }
  },
  {
   "cell_type": "code",
   "execution_count": 16,
   "outputs": [],
   "source": [
    "rel[\"count\"] = 1\n",
    "tecs = list(rel[rel.index.get_level_values(2).str.startswith(\"meth_\")].index.get_level_values(2).unique())\n",
    "\n",
    "meth_rel = rel.swaplevel(0,2).loc[tecs]\n",
    "counts = meth_rel[~meth_rel.index.get_level_values(1).isin([\"1990\", \"1995\", \"2000\", \"2005\", \"2010\", \"2015\"])].groupby([\"tec\",\"year_act\", \"node_loc\", \"relation\"]).sum()[\"count\"]"
   ],
   "metadata": {
    "collapsed": false
   }
  },
  {
   "cell_type": "code",
   "execution_count": 17,
   "outputs": [],
   "source": [
    "fuel = meth_rel.swaplevel(0,3).loc[\"fuel\"]\n",
    "fuel[\"df\"] = \"fuel\"\n",
    "\n",
    "m1 = meth_rel.swaplevel(0,3).loc[\"M1\"]\n",
    "m1[\"df\"] = \"M1\"\n",
    "\n",
    "w_labels = pd.concat([fuel, m1]).reset_index()\n",
    "wo_labels = pd.concat([fuel.drop(\"df\", axis=1), m1.drop(\"df\", axis=1)]).reset_index()"
   ],
   "metadata": {
    "collapsed": false
   }
  },
  {
   "cell_type": "code",
   "execution_count": 18,
   "outputs": [
    {
     "data": {
      "text/plain": "      year_act node_loc       tec    relation     Value node_origin year_rel  \\\n0         1990  R12_GLB  meth_trd   CO2_trade  0.005545     R12_GLB     1990   \n1         1995  R12_GLB  meth_trd   CO2_trade  0.005545     R12_GLB     1995   \n2         2000  R12_GLB  meth_trd   CO2_trade  0.005545     R12_GLB     2000   \n3         2005  R12_GLB  meth_trd   CO2_trade  0.005545     R12_GLB     2005   \n4         2010  R12_GLB  meth_trd   CO2_trade  0.005545     R12_GLB     2010   \n...        ...      ...       ...         ...       ...         ...      ...   \n13679     2070  R12_CHN  meth_t_d  FE_liquids  1.000000     R12_CHN     2070   \n13680     2080  R12_CHN  meth_t_d  FE_liquids  1.000000     R12_CHN     2080   \n13681     2090  R12_CHN  meth_t_d  FE_liquids  1.000000     R12_CHN     2090   \n13682     2100  R12_CHN  meth_t_d  FE_liquids  1.000000     R12_CHN     2100   \n13683     2110  R12_CHN  meth_t_d  FE_liquids  1.000000     R12_CHN     2110   \n\n       count    df  \n0          1  fuel  \n1          1  fuel  \n2          1  fuel  \n3          1  fuel  \n4          1  fuel  \n...      ...   ...  \n13679      1  fuel  \n13680      1  fuel  \n13681      1  fuel  \n13682      1  fuel  \n13683      1  fuel  \n\n[13684 rows x 9 columns]",
      "text/html": "<div>\n<style scoped>\n    .dataframe tbody tr th:only-of-type {\n        vertical-align: middle;\n    }\n\n    .dataframe tbody tr th {\n        vertical-align: top;\n    }\n\n    .dataframe thead th {\n        text-align: right;\n    }\n</style>\n<table border=\"1\" class=\"dataframe\">\n  <thead>\n    <tr style=\"text-align: right;\">\n      <th></th>\n      <th>year_act</th>\n      <th>node_loc</th>\n      <th>tec</th>\n      <th>relation</th>\n      <th>Value</th>\n      <th>node_origin</th>\n      <th>year_rel</th>\n      <th>count</th>\n      <th>df</th>\n    </tr>\n  </thead>\n  <tbody>\n    <tr>\n      <th>0</th>\n      <td>1990</td>\n      <td>R12_GLB</td>\n      <td>meth_trd</td>\n      <td>CO2_trade</td>\n      <td>0.005545</td>\n      <td>R12_GLB</td>\n      <td>1990</td>\n      <td>1</td>\n      <td>fuel</td>\n    </tr>\n    <tr>\n      <th>1</th>\n      <td>1995</td>\n      <td>R12_GLB</td>\n      <td>meth_trd</td>\n      <td>CO2_trade</td>\n      <td>0.005545</td>\n      <td>R12_GLB</td>\n      <td>1995</td>\n      <td>1</td>\n      <td>fuel</td>\n    </tr>\n    <tr>\n      <th>2</th>\n      <td>2000</td>\n      <td>R12_GLB</td>\n      <td>meth_trd</td>\n      <td>CO2_trade</td>\n      <td>0.005545</td>\n      <td>R12_GLB</td>\n      <td>2000</td>\n      <td>1</td>\n      <td>fuel</td>\n    </tr>\n    <tr>\n      <th>3</th>\n      <td>2005</td>\n      <td>R12_GLB</td>\n      <td>meth_trd</td>\n      <td>CO2_trade</td>\n      <td>0.005545</td>\n      <td>R12_GLB</td>\n      <td>2005</td>\n      <td>1</td>\n      <td>fuel</td>\n    </tr>\n    <tr>\n      <th>4</th>\n      <td>2010</td>\n      <td>R12_GLB</td>\n      <td>meth_trd</td>\n      <td>CO2_trade</td>\n      <td>0.005545</td>\n      <td>R12_GLB</td>\n      <td>2010</td>\n      <td>1</td>\n      <td>fuel</td>\n    </tr>\n    <tr>\n      <th>...</th>\n      <td>...</td>\n      <td>...</td>\n      <td>...</td>\n      <td>...</td>\n      <td>...</td>\n      <td>...</td>\n      <td>...</td>\n      <td>...</td>\n      <td>...</td>\n    </tr>\n    <tr>\n      <th>13679</th>\n      <td>2070</td>\n      <td>R12_CHN</td>\n      <td>meth_t_d</td>\n      <td>FE_liquids</td>\n      <td>1.000000</td>\n      <td>R12_CHN</td>\n      <td>2070</td>\n      <td>1</td>\n      <td>fuel</td>\n    </tr>\n    <tr>\n      <th>13680</th>\n      <td>2080</td>\n      <td>R12_CHN</td>\n      <td>meth_t_d</td>\n      <td>FE_liquids</td>\n      <td>1.000000</td>\n      <td>R12_CHN</td>\n      <td>2080</td>\n      <td>1</td>\n      <td>fuel</td>\n    </tr>\n    <tr>\n      <th>13681</th>\n      <td>2090</td>\n      <td>R12_CHN</td>\n      <td>meth_t_d</td>\n      <td>FE_liquids</td>\n      <td>1.000000</td>\n      <td>R12_CHN</td>\n      <td>2090</td>\n      <td>1</td>\n      <td>fuel</td>\n    </tr>\n    <tr>\n      <th>13682</th>\n      <td>2100</td>\n      <td>R12_CHN</td>\n      <td>meth_t_d</td>\n      <td>FE_liquids</td>\n      <td>1.000000</td>\n      <td>R12_CHN</td>\n      <td>2100</td>\n      <td>1</td>\n      <td>fuel</td>\n    </tr>\n    <tr>\n      <th>13683</th>\n      <td>2110</td>\n      <td>R12_CHN</td>\n      <td>meth_t_d</td>\n      <td>FE_liquids</td>\n      <td>1.000000</td>\n      <td>R12_CHN</td>\n      <td>2110</td>\n      <td>1</td>\n      <td>fuel</td>\n    </tr>\n  </tbody>\n</table>\n<p>13684 rows × 9 columns</p>\n</div>"
     },
     "execution_count": 18,
     "metadata": {},
     "output_type": "execute_result"
    }
   ],
   "source": [
    "diff = wo_labels.drop_duplicates(keep=False).merge(w_labels[\"df\"], left_index=True, right_index=True)\n",
    "diff[diff[\"df\"]==\"fuel\"]"
   ],
   "metadata": {
    "collapsed": false
   }
  },
  {
   "cell_type": "markdown",
   "source": [],
   "metadata": {
    "collapsed": false
   }
  },
  {
   "cell_type": "markdown",
   "source": [
    "## co2 emissions analysis"
   ],
   "metadata": {
    "collapsed": false
   }
  },
  {
   "cell_type": "code",
   "execution_count": 19,
   "outputs": [],
   "source": [
    "def get_bot_up_emi_by_fuel(df, node, year):\n",
    "    #df = df.loc[node, year]\n",
    "\n",
    "    df_oil = df[df.index.get_level_values(0).str.contains(\"oil\") |\n",
    "        (df.index.get_level_values(0).str.contains(\"liq\")) |\n",
    "        (df.index.get_level_values(0).str.contains(\"treat\")) |\n",
    "        (df.index.get_level_values(0).str.contains(\"coki\")) |\n",
    "        (df.index.get_level_values(0).str.contains(\"cata\"))\n",
    "    ].sort_values(\"emi\")\n",
    "    df_oil = df_oil[df_oil.index.get_level_values(0) != \"liq_bio_ccs\"]\n",
    "\n",
    "    df_gas = df[(\n",
    "        (df.index.get_level_values(0).str.contains(\"gas\")) |\n",
    "        (df.index.get_level_values(0).str.contains(\"meth_ng\")) |\n",
    "        (df.index.get_level_values(0).str.contains(\"smr\")) |\n",
    "        (df.index.get_level_values(0) == \"h2_mix\") |\n",
    "        (df.index.get_level_values(0).str.contains(\"flar\"))\n",
    "    )].sort_values(\"emi\")\n",
    "\n",
    "    df_coal = df[(df.index.get_level_values(0).str.contains(\"coal\")) | (df.index.get_level_values(0).str.contains(\"igcc\"))].sort_values(\"emi\")\n",
    "\n",
    "    return df_gas, df_oil, df_coal"
   ],
   "metadata": {
    "collapsed": false
   }
  },
  {
   "cell_type": "code",
   "execution_count": 20,
   "outputs": [],
   "source": [
    "def get_top_dn_emi_by_fuel(df, node, year):\n",
    "    #df = df.loc[node, year]\n",
    "\n",
    "    top_gas = df[((df.index.get_level_values(0).str.contains(\"gas\")) |\n",
    "                (df.index.get_level_values(0).str.contains(\"LNG\")) |\n",
    "                (df.index.get_level_values(1).str.contains(\"ane\")) |\n",
    "                (df.index.get_level_values(0).str.contains(\"h2_smr\")) |\n",
    "                (df.index.get_level_values(0).str.contains(\"flar\")))]#.sum()\n",
    "\n",
    "    top_oil = df[(df.index.get_level_values(0).str.contains(\"oil\"))\n",
    "                 |(df.index.get_level_values(1).str.contains(\"gasoil\"))].sort_values(\"emi\")#.sum()\n",
    "    #top_oil = top_oil[top_oil.index.get_level_values(0) != \"liq_bio_ccs\"]\n",
    "    top_coal = df[(df.index.get_level_values(0).str.contains(\"coal\")) |\n",
    "                                (df.index.get_level_values(0).str.contains(\"lign\"))].sort_values(\"emi\")#.sum()\n",
    "\n",
    "    return top_gas, top_oil, top_coal"
   ],
   "metadata": {
    "collapsed": false
   }
  },
  {
   "cell_type": "code",
   "execution_count": 21,
   "outputs": [],
   "source": [
    "elec_list = [\n",
    "            \"coal_ppl_u\",\n",
    "            \"coal_ppl\",\n",
    "            \"coal_adv\",\n",
    "            \"coal_adv_ccs\",\n",
    "            \"igcc\",\n",
    "            \"igcc_ccs\",\n",
    "            \"foil_ppl\",\n",
    "            \"loil_ppl\",\n",
    "            \"loil_cc\",\n",
    "            \"oil_ppl\",\n",
    "            \"gas_ppl\",\n",
    "            \"gas_cc\",\n",
    "            \"gas_cc_ccs\",\n",
    "            \"gas_ct\",\n",
    "            \"gas_htfc\",\n",
    "            \"bio_istig\",\n",
    "            \"g_ppl_co2scr\",\n",
    "            \"c_ppl_co2scr\",\n",
    "            \"bio_ppl_co2scr\",\n",
    "            \"igcc_co2scr\",\n",
    "            \"gfc_co2scr\",\n",
    "            \"cfc_co2scr\",\n",
    "            \"bio_istig_ccs\",\n",
    "        ]"
   ],
   "metadata": {
    "collapsed": false
   }
  },
  {
   "cell_type": "code",
   "execution_count": 22,
   "outputs": [],
   "source": [
    "region = \"R12_LAM\"\n",
    "year = \"2020\""
   ],
   "metadata": {
    "collapsed": false
   }
  },
  {
   "cell_type": "markdown",
   "source": [
    "## get global emissions for specific year"
   ],
   "metadata": {
    "collapsed": false
   }
  },
  {
   "cell_type": "code",
   "execution_count": 23,
   "outputs": [
    {
     "name": "stderr",
     "output_type": "stream",
     "text": [
      "C:\\Users\\maczek\\AppData\\Local\\Temp\\ipykernel_17352\\2128802406.py:7: FutureWarning: The frame.append method is deprecated and will be removed from pandas in a future version. Use pandas.concat instead.\n",
      "  emi_bot_up_new = emi_bot_up_new.append(emi_top_down_new[emi_top_down_new.index.get_level_values(0) == \"meth_bio_ccs\"])\n"
     ]
    }
   ],
   "source": [
    "emi_top_down_new = emi_top_down.reset_index().set_index([\"tec\", \"mode\"])\n",
    "emi_bot_up_new = emi_bott_up.reset_index().set_index([\"tec\", \"mode\"])\n",
    "\n",
    "emi_top_down_new = emi_top_down_new[emi_top_down_new[\"year_act\"]==year]\n",
    "emi_bot_up_new = emi_bot_up_new[emi_bot_up_new[\"year_act\"]==year]\n",
    "\n",
    "emi_bot_up_new = emi_bot_up_new.append(emi_top_down_new[emi_top_down_new.index.get_level_values(0) == \"meth_bio_ccs\"])\n",
    "emi_top_down_new = emi_top_down_new.drop(\"CO2_TCE\")\n",
    "emi_bot_up_new = emi_bot_up_new.drop([\"CO2t_TCE\", \"CO2s_TCE\"])\n",
    "\n",
    "emi_bot_up_new = pd.concat([emi_bot_up_new, emi_top_down_new[emi_top_down_new.index.get_level_values(0).str.contains(\"alu\")]])\n",
    "emi_bot_up_new = pd.concat([emi_bot_up_new, emi_top_down_new[emi_top_down_new.index.get_level_values(0).str.contains(\"clink\")]])\n",
    "\n",
    "top_new_gas, top_new_oil, top_new_coal = get_top_dn_emi_by_fuel(emi_top_down_new[emi_top_down_new[\"year_act\"]==year], \"test\", \"test\")\n",
    "bot_new_gas, bot_new_oil, bot_new_coal = get_bot_up_emi_by_fuel(emi_bot_up_new[emi_bot_up_new[\"year_act\"]==year], \"test\", \"test\")"
   ],
   "metadata": {
    "collapsed": false
   }
  },
  {
   "cell_type": "code",
   "execution_count": 24,
   "outputs": [],
   "source": [
    "oil_tecs = ['hydrotreating_ref', 'catalytic_reforming_ref', 'oil_extr_1_ch4',\n",
    "           'furnace_foil_petro', 'loil_t_d', 'oil_extr_2_ch4', 'foil_hpl',\n",
    "           'foil_t_d', 'furnace_foil_refining', 'oil_extr_2', 'oil_extr_1',\n",
    "           'oil_extr_3', 'furnace_foil_aluminum', 'loil_rc', 'oil_extr_3_ch4',\n",
    "           'furnace_foil_cement', 'oil_extr_4_ch4', 'foil_trd', 'oil_trd',\n",
    "\n",
    "            'fueloil_NH3', 'fueloil_NH3_ccs', 'loil_i', 'foil_i', 'foil_trp', 'loil_trp', 'loil_bunker',\n",
    "            'foil_bunker', 'oil_ppl', 'loil_ppl', 'loil_cc', 'foil_rc', 'foil_ppl',\n",
    "            'catalytic_cracking_ref', 'loil_trd', 'oil_extr_4', \"coking_ref\", 'LNG_bunker', 'sp_liq_I']\n",
    "bot_new_oil = emi_bot_up_new[(emi_bot_up_new.index.get_level_values(0).isin(oil_tecs))]\n",
    "\n",
    "coal_tecs = ['furnace_coal_aluminum', 'coal_hpl', 'furnace_coal_refining',\n",
    "       'furnace_coal_cement', 'DUMMY_coal_supply', 'h2_coal_ccs',\n",
    "       'coal_NH3_ccs',\n",
    "\n",
    " 'coal_ppl', 'coal_ppl_u', 'meth_coal', 'meth_coal_ccs', 'coal_rc', 'coal_NH3', 'coal_adv', 'coal_i', 'coal_gas'\n",
    " ]\n",
    "bot_new_coal = emi_bot_up_new[(emi_bot_up_new.index.get_level_values(0).isin(coal_tecs))]\n",
    "\n",
    "gas = ['h2_mix', 'gas_t_d', 'gas_hpl', 'furnace_gas_petro', 'gas_extr_2',\n",
    "       'gas_extr_1', 'gas_t_d_ch4', 'gas_NH3_ccs', 'furnace_gas_refining',\n",
    "       'gas_extr_3', 'DUMMY_gas_supply', 'gas_cc', 'gas_extr_4', 'gas_extr_5',\n",
    "       'gas_extr_6', 'gas_i', 'gas_trp',\n",
    "\n",
    "    'gas_NH3','gas_cc_ccs', 'hp_gas_rc', 'hp_gas_i', 'gas_rc', 'gas_ct',\n",
    "    'gas_ppl', 'meth_ng_ccs', 'h2_smr_ccs', 'meth_ng', 'LNG_trd', 'h2_smr',\n",
    "]\n",
    "bot_new_gas = emi_bot_up_new[(emi_bot_up_new.index.get_level_values(0).isin(gas))]"
   ],
   "metadata": {
    "collapsed": false
   }
  },
  {
   "cell_type": "code",
   "execution_count": 25,
   "outputs": [],
   "source": [
    "top_new_trd = emi_top_down_new[(emi_top_down_new.index.get_level_values(0).str.contains(\"exp\")) | (emi_top_down_new.index.get_level_values(0).str.contains(\"imp\"))]\n",
    "bot_new_trd = emi_bot_up_new[(emi_bot_up_new.index.get_level_values(0).str.contains(\"exp\")) | (emi_bot_up_new.index.get_level_values(0).str.contains(\"imp\"))]"
   ],
   "metadata": {
    "collapsed": false
   }
  },
  {
   "cell_type": "markdown",
   "source": [],
   "metadata": {
    "collapsed": false
   }
  },
  {
   "cell_type": "markdown",
   "source": [
    "## residual carbon emissions"
   ],
   "metadata": {
    "collapsed": false
   }
  },
  {
   "cell_type": "code",
   "execution_count": 26,
   "outputs": [],
   "source": [
    "bot_new_rest = emi_bot_up_new[~(emi_bot_up_new.index.get_level_values(0).isin(bot_new_coal.index.get_level_values(0))) &\n",
    "            ~(emi_bot_up_new.index.get_level_values(0).isin(bot_new_oil.index.get_level_values(0))) &\n",
    "            ~(emi_bot_up_new.index.get_level_values(0).isin(bot_new_gas.index.get_level_values(0)))\n",
    "].sort_values(\"emi\")\n",
    "\n",
    "top_new_rest = emi_top_down_new[~(emi_top_down_new.index.get_level_values(0).isin(top_new_oil.index.get_level_values(0))) &\n",
    "           ~(emi_top_down_new.index.get_level_values(0).isin(top_new_gas.index.get_level_values(0))) &\n",
    "            ~(emi_top_down_new.index.get_level_values(0).isin(top_new_coal.index.get_level_values(0))) &\n",
    "            ~(emi_top_down_new.index.get_level_values(0).isin(top_new_trd.index.get_level_values(0)))\n",
    "].sort_values(\"emi\")"
   ],
   "metadata": {
    "collapsed": false
   }
  },
  {
   "cell_type": "code",
   "execution_count": 27,
   "outputs": [
    {
     "data": {
      "text/plain": "211.23699782794165"
     },
     "execution_count": 27,
     "metadata": {},
     "output_type": "execute_result"
    }
   ],
   "source": [
    "bot_new_rest.sum()[\"emi\"] * (44/12) - top_new_rest.sum()[\"emi\"] * (44/12)"
   ],
   "metadata": {
    "collapsed": false
   }
  },
  {
   "cell_type": "code",
   "execution_count": 28,
   "outputs": [
    {
     "data": {
      "text/plain": "423.78991342878"
     },
     "execution_count": 28,
     "metadata": {},
     "output_type": "execute_result"
    }
   ],
   "source": [
    "emi_bot_up_new.sum().emi * (44/12) - emi_top_down_new.sum().emi * (44/12)"
   ],
   "metadata": {
    "collapsed": false
   }
  },
  {
   "cell_type": "code",
   "execution_count": 29,
   "outputs": [
    {
     "data": {
      "text/plain": "-12.097574083883933"
     },
     "execution_count": 29,
     "metadata": {},
     "output_type": "execute_result"
    }
   ],
   "source": [
    "top_new_rest[top_new_rest[\"emi\"]<0].loc[\"meth_t_d\"].sum()[\"emi\"]"
   ],
   "metadata": {
    "collapsed": false
   }
  },
  {
   "cell_type": "code",
   "execution_count": 30,
   "outputs": [
    {
     "data": {
      "text/plain": "-44.35777164090775"
     },
     "execution_count": 30,
     "metadata": {},
     "output_type": "execute_result"
    }
   ],
   "source": [
    "top_new_rest.loc[\"meth_t_d\"].sum().emi * co2_c_factor\n",
    "#top_new_rest.loc[\"clinker_dry_cement\"].sum().emi * co2_c_factor"
   ],
   "metadata": {
    "collapsed": false
   }
  },
  {
   "cell_type": "code",
   "execution_count": 31,
   "outputs": [
    {
     "name": "stdout",
     "output_type": "stream",
     "text": [
      "Index([], dtype='object', name='tec')\n",
      "Index(['meth_t_d'], dtype='object', name='tec')\n",
      "Index(['CH2O_synth', 'soderberg_aluminum', 'eth_t_d', 'flaring_CO2',\n",
      "       'prebake_aluminum', 'meth_trd', 'furnace_methanol_cement',\n",
      "       'DUMMY_limestone_supply_steel', 'MTO_petro', 'h2_coal',\n",
      "       'clinker_wet_cement', 'clinker_dry_cement', 'igcc'],\n",
      "      dtype='object', name='tec')\n",
      "Index(['soderberg_aluminum', 'prebake_aluminum', 'clinker_wet_cement',\n",
      "       'clinker_dry_cement'],\n",
      "      dtype='object', name='tec')\n"
     ]
    }
   ],
   "source": [
    "print(bot_new_rest[bot_new_rest[\"emi\"]<0].drop_duplicates().index.get_level_values(0).unique())\n",
    "print(top_new_rest[top_new_rest[\"emi\"]<0].drop_duplicates().index.get_level_values(0).unique())\n",
    "print(bot_new_rest[bot_new_rest[\"emi\"]>0].drop_duplicates().index.get_level_values(0).unique())\n",
    "print(top_new_rest[top_new_rest[\"emi\"]>0].drop_duplicates().index.get_level_values(0).unique())"
   ],
   "metadata": {
    "collapsed": false
   }
  },
  {
   "cell_type": "code",
   "execution_count": 32,
   "outputs": [
    {
     "name": "stdout",
     "output_type": "stream",
     "text": [
      "negative residual emission bottom-up:  0.0\n",
      "negative residual emission top-down:  -44.35777164090775\n",
      "positive residual emission bottom-up:  2137.403984064366\n",
      "positive residual emission top-down:  1970.5247578773321\n"
     ]
    }
   ],
   "source": [
    "print(\"negative residual emission bottom-up: \", bot_new_rest[bot_new_rest[\"emi\"]<0].drop_duplicates().sum()[\"emi\"] * (44/12))\n",
    "print(\"negative residual emission top-down: \", top_new_rest[top_new_rest[\"emi\"]<0].sum()[\"emi\"] * (44/12))\n",
    "print(\"positive residual emission bottom-up: \", bot_new_rest[bot_new_rest[\"emi\"]>0].sum()[\"emi\"] * (44/12))\n",
    "print(\"positive residual emission top-down: \", top_new_rest[top_new_rest[\"emi\"]>0].sum()[\"emi\"] * (44/12))"
   ],
   "metadata": {
    "collapsed": false
   }
  },
  {
   "cell_type": "markdown",
   "source": [],
   "metadata": {
    "collapsed": false
   }
  },
  {
   "cell_type": "markdown",
   "source": [
    "## check trade carbon balances"
   ],
   "metadata": {
    "collapsed": false
   }
  },
  {
   "cell_type": "code",
   "execution_count": 33,
   "outputs": [
    {
     "data": {
      "text/plain": "               node_loc year_act year_vtg      relation  Value node_origin  \\\ntec      mode                                                                \nloil_exp M1     R12_AFR     2020     2015  CO2_Emission -0.631     R12_AFR   \nloil_imp M1     R12_AFR     2020     2020  CO2_Emission  0.631     R12_AFR   \n         M1     R12_CHN     2020     2020  CO2_Emission  0.631     R12_CHN   \nloil_exp M1     R12_FSU     2020     2000  CO2_Emission -0.631     R12_FSU   \n         M1     R12_FSU     2020     2005  CO2_Emission -0.631     R12_FSU   \n         M1     R12_FSU     2020     2015  CO2_Emission -0.631     R12_FSU   \n         M1     R12_FSU     2020     2020  CO2_Emission -0.631     R12_FSU   \n         M1     R12_LAM     2020     2015  CO2_Emission -0.631     R12_LAM   \n         M1     R12_MEA     2020     2000  CO2_Emission -0.631     R12_MEA   \n         M1     R12_MEA     2020     2005  CO2_Emission -0.631     R12_MEA   \n         M1     R12_MEA     2020     2010  CO2_Emission -0.631     R12_MEA   \n         M1     R12_MEA     2020     2020  CO2_Emission -0.631     R12_MEA   \n         M1     R12_NAM     2020     2000  CO2_Emission -0.631     R12_NAM   \n         M1     R12_NAM     2020     2015  CO2_Emission -0.631     R12_NAM   \nloil_imp M1     R12_NAM     2020     2020  CO2_Emission  0.631     R12_NAM   \n         M1     R12_PAO     2020     2020  CO2_Emission  0.631     R12_PAO   \n         M1    R12_RCPA     2020     2020  CO2_Emission  0.631    R12_RCPA   \nloil_exp M1     R12_SAS     2020     2015  CO2_Emission -0.631     R12_SAS   \nloil_imp M1     R12_SAS     2020     2020  CO2_Emission  0.631     R12_SAS   \n         M1     R12_WEU     2020     2020  CO2_Emission  0.631     R12_WEU   \n\n              year_rel       Level         emi  \ntec      mode                                   \nloil_exp M1       2020    0.399258   -0.251931  \nloil_imp M1       2020   47.653442   30.069322  \n         M1       2020   39.268683   24.778539  \nloil_exp M1       2020   10.142300   -6.399791  \n         M1       2020   40.339789  -25.454407  \n         M1       2020   13.855435   -8.742779  \n         M1       2020   39.340764  -24.824022  \n         M1       2020   40.069433  -25.283812  \n         M1       2020   51.848149  -32.716182  \n         M1       2020   23.071599  -14.558179  \n         M1       2020   51.197000  -32.305307  \n         M1       2020  127.024324  -80.152349  \n         M1       2020   10.000000   -6.310000  \n         M1       2020   54.575404  -34.437080  \nloil_imp M1       2020  302.049754  190.593395  \n         M1       2020    9.866751    6.225920  \n         M1       2020    5.307703    3.349160  \nloil_exp M1       2020   15.521467   -9.794046  \nloil_imp M1       2020   33.309633   21.018378  \n         M1       2020   23.414262   14.774399  ",
      "text/html": "<div>\n<style scoped>\n    .dataframe tbody tr th:only-of-type {\n        vertical-align: middle;\n    }\n\n    .dataframe tbody tr th {\n        vertical-align: top;\n    }\n\n    .dataframe thead th {\n        text-align: right;\n    }\n</style>\n<table border=\"1\" class=\"dataframe\">\n  <thead>\n    <tr style=\"text-align: right;\">\n      <th></th>\n      <th></th>\n      <th>node_loc</th>\n      <th>year_act</th>\n      <th>year_vtg</th>\n      <th>relation</th>\n      <th>Value</th>\n      <th>node_origin</th>\n      <th>year_rel</th>\n      <th>Level</th>\n      <th>emi</th>\n    </tr>\n    <tr>\n      <th>tec</th>\n      <th>mode</th>\n      <th></th>\n      <th></th>\n      <th></th>\n      <th></th>\n      <th></th>\n      <th></th>\n      <th></th>\n      <th></th>\n      <th></th>\n    </tr>\n  </thead>\n  <tbody>\n    <tr>\n      <th>loil_exp</th>\n      <th>M1</th>\n      <td>R12_AFR</td>\n      <td>2020</td>\n      <td>2015</td>\n      <td>CO2_Emission</td>\n      <td>-0.631</td>\n      <td>R12_AFR</td>\n      <td>2020</td>\n      <td>0.399258</td>\n      <td>-0.251931</td>\n    </tr>\n    <tr>\n      <th rowspan=\"2\" valign=\"top\">loil_imp</th>\n      <th>M1</th>\n      <td>R12_AFR</td>\n      <td>2020</td>\n      <td>2020</td>\n      <td>CO2_Emission</td>\n      <td>0.631</td>\n      <td>R12_AFR</td>\n      <td>2020</td>\n      <td>47.653442</td>\n      <td>30.069322</td>\n    </tr>\n    <tr>\n      <th>M1</th>\n      <td>R12_CHN</td>\n      <td>2020</td>\n      <td>2020</td>\n      <td>CO2_Emission</td>\n      <td>0.631</td>\n      <td>R12_CHN</td>\n      <td>2020</td>\n      <td>39.268683</td>\n      <td>24.778539</td>\n    </tr>\n    <tr>\n      <th rowspan=\"11\" valign=\"top\">loil_exp</th>\n      <th>M1</th>\n      <td>R12_FSU</td>\n      <td>2020</td>\n      <td>2000</td>\n      <td>CO2_Emission</td>\n      <td>-0.631</td>\n      <td>R12_FSU</td>\n      <td>2020</td>\n      <td>10.142300</td>\n      <td>-6.399791</td>\n    </tr>\n    <tr>\n      <th>M1</th>\n      <td>R12_FSU</td>\n      <td>2020</td>\n      <td>2005</td>\n      <td>CO2_Emission</td>\n      <td>-0.631</td>\n      <td>R12_FSU</td>\n      <td>2020</td>\n      <td>40.339789</td>\n      <td>-25.454407</td>\n    </tr>\n    <tr>\n      <th>M1</th>\n      <td>R12_FSU</td>\n      <td>2020</td>\n      <td>2015</td>\n      <td>CO2_Emission</td>\n      <td>-0.631</td>\n      <td>R12_FSU</td>\n      <td>2020</td>\n      <td>13.855435</td>\n      <td>-8.742779</td>\n    </tr>\n    <tr>\n      <th>M1</th>\n      <td>R12_FSU</td>\n      <td>2020</td>\n      <td>2020</td>\n      <td>CO2_Emission</td>\n      <td>-0.631</td>\n      <td>R12_FSU</td>\n      <td>2020</td>\n      <td>39.340764</td>\n      <td>-24.824022</td>\n    </tr>\n    <tr>\n      <th>M1</th>\n      <td>R12_LAM</td>\n      <td>2020</td>\n      <td>2015</td>\n      <td>CO2_Emission</td>\n      <td>-0.631</td>\n      <td>R12_LAM</td>\n      <td>2020</td>\n      <td>40.069433</td>\n      <td>-25.283812</td>\n    </tr>\n    <tr>\n      <th>M1</th>\n      <td>R12_MEA</td>\n      <td>2020</td>\n      <td>2000</td>\n      <td>CO2_Emission</td>\n      <td>-0.631</td>\n      <td>R12_MEA</td>\n      <td>2020</td>\n      <td>51.848149</td>\n      <td>-32.716182</td>\n    </tr>\n    <tr>\n      <th>M1</th>\n      <td>R12_MEA</td>\n      <td>2020</td>\n      <td>2005</td>\n      <td>CO2_Emission</td>\n      <td>-0.631</td>\n      <td>R12_MEA</td>\n      <td>2020</td>\n      <td>23.071599</td>\n      <td>-14.558179</td>\n    </tr>\n    <tr>\n      <th>M1</th>\n      <td>R12_MEA</td>\n      <td>2020</td>\n      <td>2010</td>\n      <td>CO2_Emission</td>\n      <td>-0.631</td>\n      <td>R12_MEA</td>\n      <td>2020</td>\n      <td>51.197000</td>\n      <td>-32.305307</td>\n    </tr>\n    <tr>\n      <th>M1</th>\n      <td>R12_MEA</td>\n      <td>2020</td>\n      <td>2020</td>\n      <td>CO2_Emission</td>\n      <td>-0.631</td>\n      <td>R12_MEA</td>\n      <td>2020</td>\n      <td>127.024324</td>\n      <td>-80.152349</td>\n    </tr>\n    <tr>\n      <th>M1</th>\n      <td>R12_NAM</td>\n      <td>2020</td>\n      <td>2000</td>\n      <td>CO2_Emission</td>\n      <td>-0.631</td>\n      <td>R12_NAM</td>\n      <td>2020</td>\n      <td>10.000000</td>\n      <td>-6.310000</td>\n    </tr>\n    <tr>\n      <th>M1</th>\n      <td>R12_NAM</td>\n      <td>2020</td>\n      <td>2015</td>\n      <td>CO2_Emission</td>\n      <td>-0.631</td>\n      <td>R12_NAM</td>\n      <td>2020</td>\n      <td>54.575404</td>\n      <td>-34.437080</td>\n    </tr>\n    <tr>\n      <th rowspan=\"3\" valign=\"top\">loil_imp</th>\n      <th>M1</th>\n      <td>R12_NAM</td>\n      <td>2020</td>\n      <td>2020</td>\n      <td>CO2_Emission</td>\n      <td>0.631</td>\n      <td>R12_NAM</td>\n      <td>2020</td>\n      <td>302.049754</td>\n      <td>190.593395</td>\n    </tr>\n    <tr>\n      <th>M1</th>\n      <td>R12_PAO</td>\n      <td>2020</td>\n      <td>2020</td>\n      <td>CO2_Emission</td>\n      <td>0.631</td>\n      <td>R12_PAO</td>\n      <td>2020</td>\n      <td>9.866751</td>\n      <td>6.225920</td>\n    </tr>\n    <tr>\n      <th>M1</th>\n      <td>R12_RCPA</td>\n      <td>2020</td>\n      <td>2020</td>\n      <td>CO2_Emission</td>\n      <td>0.631</td>\n      <td>R12_RCPA</td>\n      <td>2020</td>\n      <td>5.307703</td>\n      <td>3.349160</td>\n    </tr>\n    <tr>\n      <th>loil_exp</th>\n      <th>M1</th>\n      <td>R12_SAS</td>\n      <td>2020</td>\n      <td>2015</td>\n      <td>CO2_Emission</td>\n      <td>-0.631</td>\n      <td>R12_SAS</td>\n      <td>2020</td>\n      <td>15.521467</td>\n      <td>-9.794046</td>\n    </tr>\n    <tr>\n      <th rowspan=\"2\" valign=\"top\">loil_imp</th>\n      <th>M1</th>\n      <td>R12_SAS</td>\n      <td>2020</td>\n      <td>2020</td>\n      <td>CO2_Emission</td>\n      <td>0.631</td>\n      <td>R12_SAS</td>\n      <td>2020</td>\n      <td>33.309633</td>\n      <td>21.018378</td>\n    </tr>\n    <tr>\n      <th>M1</th>\n      <td>R12_WEU</td>\n      <td>2020</td>\n      <td>2020</td>\n      <td>CO2_Emission</td>\n      <td>0.631</td>\n      <td>R12_WEU</td>\n      <td>2020</td>\n      <td>23.414262</td>\n      <td>14.774399</td>\n    </tr>\n  </tbody>\n</table>\n</div>"
     },
     "execution_count": 33,
     "metadata": {},
     "output_type": "execute_result"
    }
   ],
   "source": [
    "emi_top_down_new[emi_top_down_new.index.get_level_values(0).str.contains(\"loil\")]"
   ],
   "metadata": {
    "collapsed": false
   }
  },
  {
   "cell_type": "code",
   "execution_count": 34,
   "outputs": [
    {
     "data": {
      "text/plain": "\"['gas_exp_chn', 'gas_exp_cpa', 'gas_exp_eeu', 'gas_exp_sas', 'gas_exp_weu', 'gas_imp', 'loil_exp']\""
     },
     "execution_count": 34,
     "metadata": {},
     "output_type": "execute_result"
    }
   ],
   "source": [
    "trd_tecs = sorted(list(emi_top_down_new.loc[(emi_top_down_new.index.get_level_values(0).str.contains(\"exp\")) | (emi_top_down_new.index.get_level_values(0).str.contains(\"imp\")) | (emi_top_down_new.index.get_level_values(0).str.contains(\"LNG\"))].index.get_level_values(0).unique()))#.sum()\n",
    "comm_trd = [*trd_tecs[6:13]]#, trd_tecs[0]]\n",
    "str(comm_trd)"
   ],
   "metadata": {
    "collapsed": false
   }
  },
  {
   "cell_type": "code",
   "execution_count": 35,
   "outputs": [
    {
     "name": "stdout",
     "output_type": "stream",
     "text": [
      "total top-down:  10106.387931650237\n"
     ]
    }
   ],
   "source": [
    "print(\"total top-down: \", emi_top_down_new.sum()[\"emi\"])"
   ],
   "metadata": {
    "collapsed": false
   }
  },
  {
   "cell_type": "code",
   "execution_count": 36,
   "outputs": [
    {
     "name": "stdout",
     "output_type": "stream",
     "text": [
      "top-down trade balance:  -309.90262543642564\n"
     ]
    }
   ],
   "source": [
    "print(\"top-down trade balance: \", emi_top_down_new.loc[(emi_top_down_new.index.get_level_values(0).isin(comm_trd))].sum()[\"emi\"])"
   ],
   "metadata": {
    "collapsed": false
   }
  },
  {
   "cell_type": "code",
   "execution_count": 37,
   "outputs": [
    {
     "name": "stdout",
     "output_type": "stream",
     "text": [
      "          top-down              bottom-up\n",
      "coal:  15310.756509423185     15367.135755810177\n",
      "oil:   12224.570955760117   12550.335173360832\n",
      "gas:   7622.870492500809   7425.670749577608\n",
      "total:   35158.19795768411   35343.141678748616\n"
     ]
    }
   ],
   "source": [
    "print(\"          top-down              bottom-up\")\n",
    "print(\"coal: \", top_new_coal.sum()[\"emi\"] * co2_c_factor,\"   \", bot_new_coal.sum()[\"emi\"] * co2_c_factor)\n",
    "print(\"oil:  \", top_new_oil.sum()[\"emi\"] * co2_c_factor, \" \", bot_new_oil.sum()[\"emi\"] * co2_c_factor)\n",
    "print(\"gas:  \", top_new_gas.sum()[\"emi\"] * co2_c_factor,\" \", bot_new_gas.sum()[\"emi\"] * co2_c_factor)\n",
    "print(\"total:  \", (top_new_coal.sum()[\"emi\"]+top_new_oil.sum()[\"emi\"]+top_new_gas.sum()[\"emi\"]) * co2_c_factor,\" \", (bot_new_coal.sum()[\"emi\"]+bot_new_oil.sum()[\"emi\"]+bot_new_gas.sum()[\"emi\"]) * co2_c_factor)"
   ],
   "metadata": {
    "collapsed": false
   }
  },
  {
   "cell_type": "markdown",
   "source": [],
   "metadata": {
    "collapsed": false
   }
  },
  {
   "cell_type": "markdown",
   "source": [
    "## carbon IO gas"
   ],
   "metadata": {
    "collapsed": false
   }
  },
  {
   "cell_type": "code",
   "execution_count": 38,
   "outputs": [],
   "source": [
    "emi_factor_gas = 0.482"
   ],
   "metadata": {
    "collapsed": false
   }
  },
  {
   "cell_type": "code",
   "execution_count": 39,
   "outputs": [
    {
     "data": {
      "text/plain": "node_loc  year_act  tec            mode  year_vtg\nR12_LAM   2020      gas_extr_mpen  M1    2020        139.81507\nName: output, dtype: float64"
     },
     "execution_count": 39,
     "metadata": {},
     "output_type": "execute_result"
    }
   ],
   "source": [
    "act_out.loc[region, year, [\"gas_extr_mpen\"]][\"output\"] * emi_factor_gas"
   ],
   "metadata": {
    "collapsed": false
   }
  },
  {
   "cell_type": "code",
   "execution_count": 40,
   "outputs": [
    {
     "name": "stderr",
     "output_type": "stream",
     "text": [
      "C:\\Users\\maczek\\AppData\\Local\\Temp\\ipykernel_17352\\2951075765.py:1: FutureWarning: The behavior of indexing on a MultiIndex with a nested sequence of labels is deprecated and will change in a future version. `series.loc[label, sequence]` will raise if any members of 'sequence' or not present in the index's second level. To retain the old behavior, use `series.index.isin(sequence, level=1)`\n",
      "  inp_atm_dist = act_in.loc[region, year, [\"gas_bal\", \"gas_exp_nam\", \"LNG_prod\", \"gas_exp_cpa\", \"gas_exp_chn\", \"gas_exp_eeu\", \"gas_exp_sas\",\"gas_exp_weu\"]]\n"
     ]
    },
    {
     "data": {
      "text/plain": "                                               Level commodity    level  \\\nnode_loc year_act tec      mode year_vtg                                  \nR12_LAM  2020     gas_bal  M1   2020      252.783802       gas  primary   \n                  LNG_prod M1   2020       37.305296       gas  primary   \n\n                                          Value node_origin       input  \nnode_loc year_act tec      mode year_vtg                                 \nR12_LAM  2020     gas_bal  M1   2020        1.0     R12_LAM  252.783802  \n                  LNG_prod M1   2020        1.0     R12_LAM   37.305296  ",
      "text/html": "<div>\n<style scoped>\n    .dataframe tbody tr th:only-of-type {\n        vertical-align: middle;\n    }\n\n    .dataframe tbody tr th {\n        vertical-align: top;\n    }\n\n    .dataframe thead th {\n        text-align: right;\n    }\n</style>\n<table border=\"1\" class=\"dataframe\">\n  <thead>\n    <tr style=\"text-align: right;\">\n      <th></th>\n      <th></th>\n      <th></th>\n      <th></th>\n      <th></th>\n      <th>Level</th>\n      <th>commodity</th>\n      <th>level</th>\n      <th>Value</th>\n      <th>node_origin</th>\n      <th>input</th>\n    </tr>\n    <tr>\n      <th>node_loc</th>\n      <th>year_act</th>\n      <th>tec</th>\n      <th>mode</th>\n      <th>year_vtg</th>\n      <th></th>\n      <th></th>\n      <th></th>\n      <th></th>\n      <th></th>\n      <th></th>\n    </tr>\n  </thead>\n  <tbody>\n    <tr>\n      <th rowspan=\"2\" valign=\"top\">R12_LAM</th>\n      <th rowspan=\"2\" valign=\"top\">2020</th>\n      <th>gas_bal</th>\n      <th>M1</th>\n      <th>2020</th>\n      <td>252.783802</td>\n      <td>gas</td>\n      <td>primary</td>\n      <td>1.0</td>\n      <td>R12_LAM</td>\n      <td>252.783802</td>\n    </tr>\n    <tr>\n      <th>LNG_prod</th>\n      <th>M1</th>\n      <th>2020</th>\n      <td>37.305296</td>\n      <td>gas</td>\n      <td>primary</td>\n      <td>1.0</td>\n      <td>R12_LAM</td>\n      <td>37.305296</td>\n    </tr>\n  </tbody>\n</table>\n</div>"
     },
     "execution_count": 40,
     "metadata": {},
     "output_type": "execute_result"
    }
   ],
   "source": [
    "inp_atm_dist = act_in.loc[region, year, [\"gas_bal\", \"gas_exp_nam\", \"LNG_prod\", \"gas_exp_cpa\", \"gas_exp_chn\", \"gas_exp_eeu\", \"gas_exp_sas\",\"gas_exp_weu\"]]\n",
    "inp_atm_dist#.sum()"
   ],
   "metadata": {
    "collapsed": false
   }
  },
  {
   "cell_type": "code",
   "execution_count": 41,
   "outputs": [
    {
     "data": {
      "text/plain": "node_loc  year_act  tec       mode  year_vtg\nR12_LAM   2020      gas_bal   M1    2020        121.841792\n                    LNG_prod  M1    2020         17.981153\nName: input, dtype: float64"
     },
     "execution_count": 41,
     "metadata": {},
     "output_type": "execute_result"
    }
   ],
   "source": [
    "#in_gas_proc = act_in.loc[region, year, \"gas_processing_petro\"]\n",
    "(inp_atm_dist[\"input\"] * emi_factor_gas)#.sum()"
   ],
   "metadata": {
    "collapsed": false
   }
  },
  {
   "cell_type": "code",
   "execution_count": 42,
   "outputs": [
    {
     "data": {
      "text/plain": "tec\nfurnace_gas_refining    22.566977\ngas_NH3                  2.610735\ngas_cc                  38.983500\ngas_ppl                  2.953142\ngas_t_d                 47.083041\nh2_smr                   3.473940\nmeth_ng                  4.170458\nName: input, dtype: float64"
     },
     "execution_count": 42,
     "metadata": {},
     "output_type": "execute_result"
    }
   ],
   "source": [
    "(act_in.loc[region, year, act_in[\"level\"]==\"secondary\", act_in[\"commodity\"]==\"gas\"][\"input\"]\n",
    " * emi_factor_gas).groupby(\"tec\").sum()"
   ],
   "metadata": {
    "collapsed": false
   }
  },
  {
   "cell_type": "code",
   "execution_count": 43,
   "outputs": [
    {
     "data": {
      "text/plain": "tec\ndri_steel                0.428896\neaf_steel                0.019407\nfurnace_gas_petro        2.164642\ngas_i                   18.358918\ngas_processing_petro     2.809953\ngas_rc                  15.804027\nhp_gas_aluminum          0.014086\nhp_gas_rc                1.386845\nName: input, dtype: float64"
     },
     "execution_count": 43,
     "metadata": {},
     "output_type": "execute_result"
    }
   ],
   "source": [
    "(act_in.loc[region, year, act_in[\"level\"]==\"final\", act_in[\"commodity\"]==\"gas\"][\"input\"]  * emi_factor_gas).groupby(\"tec\").sum()"
   ],
   "metadata": {
    "collapsed": false
   }
  },
  {
   "cell_type": "code",
   "execution_count": 44,
   "outputs": [
    {
     "data": {
      "text/plain": "2.932242552118641"
     },
     "execution_count": 44,
     "metadata": {},
     "output_type": "execute_result"
    }
   ],
   "source": [
    "(act_out.loc[region, year, act_out[\"commodity\"].isin([\"ethane\", \"propane\"])][\"output\"]  * 0.81).sum()"
   ],
   "metadata": {
    "collapsed": false
   }
  },
  {
   "cell_type": "code",
   "execution_count": 45,
   "outputs": [
    {
     "data": {
      "text/plain": "2.0096798752590517"
     },
     "execution_count": 45,
     "metadata": {},
     "output_type": "execute_result"
    }
   ],
   "source": [
    "(act_out.loc[region, year, act_out.index.get_level_values(3).isin([\"ethane\", \"propane\"])][\"output\"]  * 0.5).sum()"
   ],
   "metadata": {
    "collapsed": false
   }
  },
  {
   "cell_type": "code",
   "execution_count": 46,
   "outputs": [
    {
     "data": {
      "text/plain": "1.2016059460355528"
     },
     "execution_count": 46,
     "metadata": {},
     "output_type": "execute_result"
    }
   ],
   "source": [
    "act_out.loc[region, year, \"steam_cracker_petro\", act_out[\"commodity\"]==\"gas\"].sum()[\"output\"] * emi_factor_gas"
   ],
   "metadata": {
    "collapsed": false
   }
  },
  {
   "cell_type": "markdown",
   "source": [],
   "metadata": {
    "collapsed": false
   }
  },
  {
   "cell_type": "markdown",
   "source": [
    "## carbon IO oil"
   ],
   "metadata": {
    "collapsed": false
   }
  },
  {
   "cell_type": "code",
   "execution_count": 47,
   "outputs": [
    {
     "ename": "KeyError",
     "evalue": "('R12_LAM', '2020', 'oil_imp')",
     "output_type": "error",
     "traceback": [
      "\u001B[1;31m---------------------------------------------------------------------------\u001B[0m",
      "\u001B[1;31mKeyError\u001B[0m                                  Traceback (most recent call last)",
      "Input \u001B[1;32mIn [47]\u001B[0m, in \u001B[0;36m<cell line: 4>\u001B[1;34m()\u001B[0m\n\u001B[0;32m      2\u001B[0m out_oil_extr \u001B[38;5;241m=\u001B[39m act_out\u001B[38;5;241m.\u001B[39mloc[region, year, extr_tec]\n\u001B[0;32m      3\u001B[0m out_oil_exp \u001B[38;5;241m=\u001B[39m act_out\u001B[38;5;241m.\u001B[39mloc[region, year, \u001B[38;5;124m\"\u001B[39m\u001B[38;5;124moil_exp\u001B[39m\u001B[38;5;124m\"\u001B[39m]\n\u001B[1;32m----> 4\u001B[0m in_oil_imp \u001B[38;5;241m=\u001B[39m \u001B[43mact_in\u001B[49m\u001B[38;5;241;43m.\u001B[39;49m\u001B[43mloc\u001B[49m\u001B[43m[\u001B[49m\u001B[43mregion\u001B[49m\u001B[43m,\u001B[49m\u001B[43m \u001B[49m\u001B[43myear\u001B[49m\u001B[43m,\u001B[49m\u001B[43m \u001B[49m\u001B[38;5;124;43m\"\u001B[39;49m\u001B[38;5;124;43moil_imp\u001B[39;49m\u001B[38;5;124;43m\"\u001B[39;49m\u001B[43m]\u001B[49m\n\u001B[0;32m      6\u001B[0m carbon_in_extr \u001B[38;5;241m=\u001B[39m (out_oil_extr\u001B[38;5;241m.\u001B[39msum()[\u001B[38;5;124m\"\u001B[39m\u001B[38;5;124moutput\u001B[39m\u001B[38;5;124m\"\u001B[39m] \u001B[38;5;241m-\u001B[39m out_oil_exp\u001B[38;5;241m.\u001B[39msum()[\u001B[38;5;124m\"\u001B[39m\u001B[38;5;124moutput\u001B[39m\u001B[38;5;124m\"\u001B[39m] \u001B[38;5;241m+\u001B[39m in_oil_imp\u001B[38;5;241m.\u001B[39msum()[\u001B[38;5;124m\"\u001B[39m\u001B[38;5;124minput\u001B[39m\u001B[38;5;124m\"\u001B[39m]) \u001B[38;5;241m*\u001B[39m \u001B[38;5;241m0.631\u001B[39m\n\u001B[0;32m      7\u001B[0m carbon_in_extr\n",
      "File \u001B[1;32m~\\Anaconda3\\lib\\site-packages\\pandas\\core\\indexing.py:961\u001B[0m, in \u001B[0;36m_LocationIndexer.__getitem__\u001B[1;34m(self, key)\u001B[0m\n\u001B[0;32m    959\u001B[0m     \u001B[38;5;28;01mif\u001B[39;00m \u001B[38;5;28mself\u001B[39m\u001B[38;5;241m.\u001B[39m_is_scalar_access(key):\n\u001B[0;32m    960\u001B[0m         \u001B[38;5;28;01mreturn\u001B[39;00m \u001B[38;5;28mself\u001B[39m\u001B[38;5;241m.\u001B[39mobj\u001B[38;5;241m.\u001B[39m_get_value(\u001B[38;5;241m*\u001B[39mkey, takeable\u001B[38;5;241m=\u001B[39m\u001B[38;5;28mself\u001B[39m\u001B[38;5;241m.\u001B[39m_takeable)\n\u001B[1;32m--> 961\u001B[0m     \u001B[38;5;28;01mreturn\u001B[39;00m \u001B[38;5;28;43mself\u001B[39;49m\u001B[38;5;241;43m.\u001B[39;49m\u001B[43m_getitem_tuple\u001B[49m\u001B[43m(\u001B[49m\u001B[43mkey\u001B[49m\u001B[43m)\u001B[49m\n\u001B[0;32m    962\u001B[0m \u001B[38;5;28;01melse\u001B[39;00m:\n\u001B[0;32m    963\u001B[0m     \u001B[38;5;66;03m# we by definition only have the 0th axis\u001B[39;00m\n\u001B[0;32m    964\u001B[0m     axis \u001B[38;5;241m=\u001B[39m \u001B[38;5;28mself\u001B[39m\u001B[38;5;241m.\u001B[39maxis \u001B[38;5;129;01mor\u001B[39;00m \u001B[38;5;241m0\u001B[39m\n",
      "File \u001B[1;32m~\\Anaconda3\\lib\\site-packages\\pandas\\core\\indexing.py:1140\u001B[0m, in \u001B[0;36m_LocIndexer._getitem_tuple\u001B[1;34m(self, tup)\u001B[0m\n\u001B[0;32m   1138\u001B[0m \u001B[38;5;28;01mwith\u001B[39;00m suppress(IndexingError):\n\u001B[0;32m   1139\u001B[0m     tup \u001B[38;5;241m=\u001B[39m \u001B[38;5;28mself\u001B[39m\u001B[38;5;241m.\u001B[39m_expand_ellipsis(tup)\n\u001B[1;32m-> 1140\u001B[0m     \u001B[38;5;28;01mreturn\u001B[39;00m \u001B[38;5;28;43mself\u001B[39;49m\u001B[38;5;241;43m.\u001B[39;49m\u001B[43m_getitem_lowerdim\u001B[49m\u001B[43m(\u001B[49m\u001B[43mtup\u001B[49m\u001B[43m)\u001B[49m\n\u001B[0;32m   1142\u001B[0m \u001B[38;5;66;03m# no multi-index, so validate all of the indexers\u001B[39;00m\n\u001B[0;32m   1143\u001B[0m tup \u001B[38;5;241m=\u001B[39m \u001B[38;5;28mself\u001B[39m\u001B[38;5;241m.\u001B[39m_validate_tuple_indexer(tup)\n",
      "File \u001B[1;32m~\\Anaconda3\\lib\\site-packages\\pandas\\core\\indexing.py:859\u001B[0m, in \u001B[0;36m_LocationIndexer._getitem_lowerdim\u001B[1;34m(self, tup)\u001B[0m\n\u001B[0;32m    849\u001B[0m \u001B[38;5;28;01mif\u001B[39;00m (\n\u001B[0;32m    850\u001B[0m     \u001B[38;5;28misinstance\u001B[39m(ax0, MultiIndex)\n\u001B[0;32m    851\u001B[0m     \u001B[38;5;129;01mand\u001B[39;00m \u001B[38;5;28mself\u001B[39m\u001B[38;5;241m.\u001B[39mname \u001B[38;5;241m!=\u001B[39m \u001B[38;5;124m\"\u001B[39m\u001B[38;5;124miloc\u001B[39m\u001B[38;5;124m\"\u001B[39m\n\u001B[1;32m   (...)\u001B[0m\n\u001B[0;32m    856\u001B[0m     \u001B[38;5;66;03m#  is equivalent.\u001B[39;00m\n\u001B[0;32m    857\u001B[0m     \u001B[38;5;66;03m#  (see the other place where we call _handle_lowerdim_multi_index_axis0)\u001B[39;00m\n\u001B[0;32m    858\u001B[0m     \u001B[38;5;28;01mwith\u001B[39;00m suppress(IndexingError):\n\u001B[1;32m--> 859\u001B[0m         \u001B[38;5;28;01mreturn\u001B[39;00m \u001B[38;5;28;43mself\u001B[39;49m\u001B[38;5;241;43m.\u001B[39;49m\u001B[43m_handle_lowerdim_multi_index_axis0\u001B[49m\u001B[43m(\u001B[49m\u001B[43mtup\u001B[49m\u001B[43m)\u001B[49m\n\u001B[0;32m    861\u001B[0m tup \u001B[38;5;241m=\u001B[39m \u001B[38;5;28mself\u001B[39m\u001B[38;5;241m.\u001B[39m_validate_key_length(tup)\n\u001B[0;32m    863\u001B[0m \u001B[38;5;28;01mfor\u001B[39;00m i, key \u001B[38;5;129;01min\u001B[39;00m \u001B[38;5;28menumerate\u001B[39m(tup):\n",
      "File \u001B[1;32m~\\Anaconda3\\lib\\site-packages\\pandas\\core\\indexing.py:1166\u001B[0m, in \u001B[0;36m_LocIndexer._handle_lowerdim_multi_index_axis0\u001B[1;34m(self, tup)\u001B[0m\n\u001B[0;32m   1162\u001B[0m \u001B[38;5;28;01mexcept\u001B[39;00m \u001B[38;5;167;01mKeyError\u001B[39;00m \u001B[38;5;28;01mas\u001B[39;00m ek:\n\u001B[0;32m   1163\u001B[0m     \u001B[38;5;66;03m# raise KeyError if number of indexers match\u001B[39;00m\n\u001B[0;32m   1164\u001B[0m     \u001B[38;5;66;03m# else IndexingError will be raised\u001B[39;00m\n\u001B[0;32m   1165\u001B[0m     \u001B[38;5;28;01mif\u001B[39;00m \u001B[38;5;28mself\u001B[39m\u001B[38;5;241m.\u001B[39mndim \u001B[38;5;241m<\u001B[39m \u001B[38;5;28mlen\u001B[39m(tup) \u001B[38;5;241m<\u001B[39m\u001B[38;5;241m=\u001B[39m \u001B[38;5;28mself\u001B[39m\u001B[38;5;241m.\u001B[39mobj\u001B[38;5;241m.\u001B[39mindex\u001B[38;5;241m.\u001B[39mnlevels:\n\u001B[1;32m-> 1166\u001B[0m         \u001B[38;5;28;01mraise\u001B[39;00m ek\n\u001B[0;32m   1167\u001B[0m     \u001B[38;5;28;01mraise\u001B[39;00m IndexingError(\u001B[38;5;124m\"\u001B[39m\u001B[38;5;124mNo label returned\u001B[39m\u001B[38;5;124m\"\u001B[39m) \u001B[38;5;28;01mfrom\u001B[39;00m \u001B[38;5;21;01mek\u001B[39;00m\n",
      "File \u001B[1;32m~\\Anaconda3\\lib\\site-packages\\pandas\\core\\indexing.py:1160\u001B[0m, in \u001B[0;36m_LocIndexer._handle_lowerdim_multi_index_axis0\u001B[1;34m(self, tup)\u001B[0m\n\u001B[0;32m   1157\u001B[0m axis \u001B[38;5;241m=\u001B[39m \u001B[38;5;28mself\u001B[39m\u001B[38;5;241m.\u001B[39maxis \u001B[38;5;129;01mor\u001B[39;00m \u001B[38;5;241m0\u001B[39m\n\u001B[0;32m   1158\u001B[0m \u001B[38;5;28;01mtry\u001B[39;00m:\n\u001B[0;32m   1159\u001B[0m     \u001B[38;5;66;03m# fast path for series or for tup devoid of slices\u001B[39;00m\n\u001B[1;32m-> 1160\u001B[0m     \u001B[38;5;28;01mreturn\u001B[39;00m \u001B[38;5;28;43mself\u001B[39;49m\u001B[38;5;241;43m.\u001B[39;49m\u001B[43m_get_label\u001B[49m\u001B[43m(\u001B[49m\u001B[43mtup\u001B[49m\u001B[43m,\u001B[49m\u001B[43m \u001B[49m\u001B[43maxis\u001B[49m\u001B[38;5;241;43m=\u001B[39;49m\u001B[43maxis\u001B[49m\u001B[43m)\u001B[49m\n\u001B[0;32m   1162\u001B[0m \u001B[38;5;28;01mexcept\u001B[39;00m \u001B[38;5;167;01mKeyError\u001B[39;00m \u001B[38;5;28;01mas\u001B[39;00m ek:\n\u001B[0;32m   1163\u001B[0m     \u001B[38;5;66;03m# raise KeyError if number of indexers match\u001B[39;00m\n\u001B[0;32m   1164\u001B[0m     \u001B[38;5;66;03m# else IndexingError will be raised\u001B[39;00m\n\u001B[0;32m   1165\u001B[0m     \u001B[38;5;28;01mif\u001B[39;00m \u001B[38;5;28mself\u001B[39m\u001B[38;5;241m.\u001B[39mndim \u001B[38;5;241m<\u001B[39m \u001B[38;5;28mlen\u001B[39m(tup) \u001B[38;5;241m<\u001B[39m\u001B[38;5;241m=\u001B[39m \u001B[38;5;28mself\u001B[39m\u001B[38;5;241m.\u001B[39mobj\u001B[38;5;241m.\u001B[39mindex\u001B[38;5;241m.\u001B[39mnlevels:\n",
      "File \u001B[1;32m~\\Anaconda3\\lib\\site-packages\\pandas\\core\\indexing.py:1153\u001B[0m, in \u001B[0;36m_LocIndexer._get_label\u001B[1;34m(self, label, axis)\u001B[0m\n\u001B[0;32m   1151\u001B[0m \u001B[38;5;28;01mdef\u001B[39;00m \u001B[38;5;21m_get_label\u001B[39m(\u001B[38;5;28mself\u001B[39m, label, axis: \u001B[38;5;28mint\u001B[39m):\n\u001B[0;32m   1152\u001B[0m     \u001B[38;5;66;03m# GH#5667 this will fail if the label is not present in the axis.\u001B[39;00m\n\u001B[1;32m-> 1153\u001B[0m     \u001B[38;5;28;01mreturn\u001B[39;00m \u001B[38;5;28;43mself\u001B[39;49m\u001B[38;5;241;43m.\u001B[39;49m\u001B[43mobj\u001B[49m\u001B[38;5;241;43m.\u001B[39;49m\u001B[43mxs\u001B[49m\u001B[43m(\u001B[49m\u001B[43mlabel\u001B[49m\u001B[43m,\u001B[49m\u001B[43m \u001B[49m\u001B[43maxis\u001B[49m\u001B[38;5;241;43m=\u001B[39;49m\u001B[43maxis\u001B[49m\u001B[43m)\u001B[49m\n",
      "File \u001B[1;32m~\\Anaconda3\\lib\\site-packages\\pandas\\core\\generic.py:3857\u001B[0m, in \u001B[0;36mNDFrame.xs\u001B[1;34m(self, key, axis, level, drop_level)\u001B[0m\n\u001B[0;32m   3854\u001B[0m \u001B[38;5;28mself\u001B[39m\u001B[38;5;241m.\u001B[39m_consolidate_inplace()\n\u001B[0;32m   3856\u001B[0m \u001B[38;5;28;01mif\u001B[39;00m \u001B[38;5;28misinstance\u001B[39m(index, MultiIndex):\n\u001B[1;32m-> 3857\u001B[0m     loc, new_index \u001B[38;5;241m=\u001B[39m \u001B[43mindex\u001B[49m\u001B[38;5;241;43m.\u001B[39;49m\u001B[43m_get_loc_level\u001B[49m\u001B[43m(\u001B[49m\u001B[43mkey\u001B[49m\u001B[43m,\u001B[49m\u001B[43m \u001B[49m\u001B[43mlevel\u001B[49m\u001B[38;5;241;43m=\u001B[39;49m\u001B[38;5;241;43m0\u001B[39;49m\u001B[43m)\u001B[49m\n\u001B[0;32m   3858\u001B[0m     \u001B[38;5;28;01mif\u001B[39;00m \u001B[38;5;129;01mnot\u001B[39;00m drop_level:\n\u001B[0;32m   3859\u001B[0m         \u001B[38;5;28;01mif\u001B[39;00m lib\u001B[38;5;241m.\u001B[39mis_integer(loc):\n",
      "File \u001B[1;32m~\\Anaconda3\\lib\\site-packages\\pandas\\core\\indexes\\multi.py:3052\u001B[0m, in \u001B[0;36mMultiIndex._get_loc_level\u001B[1;34m(self, key, level)\u001B[0m\n\u001B[0;32m   3049\u001B[0m         \u001B[38;5;28;01mpass\u001B[39;00m\n\u001B[0;32m   3051\u001B[0m \u001B[38;5;66;03m# partial selection\u001B[39;00m\n\u001B[1;32m-> 3052\u001B[0m indexer \u001B[38;5;241m=\u001B[39m \u001B[38;5;28;43mself\u001B[39;49m\u001B[38;5;241;43m.\u001B[39;49m\u001B[43mget_loc\u001B[49m\u001B[43m(\u001B[49m\u001B[43mkey\u001B[49m\u001B[43m)\u001B[49m\n\u001B[0;32m   3053\u001B[0m ilevels \u001B[38;5;241m=\u001B[39m [i \u001B[38;5;28;01mfor\u001B[39;00m i \u001B[38;5;129;01min\u001B[39;00m \u001B[38;5;28mrange\u001B[39m(\u001B[38;5;28mlen\u001B[39m(key)) \u001B[38;5;28;01mif\u001B[39;00m key[i] \u001B[38;5;241m!=\u001B[39m \u001B[38;5;28mslice\u001B[39m(\u001B[38;5;28;01mNone\u001B[39;00m, \u001B[38;5;28;01mNone\u001B[39;00m)]\n\u001B[0;32m   3054\u001B[0m \u001B[38;5;28;01mif\u001B[39;00m \u001B[38;5;28mlen\u001B[39m(ilevels) \u001B[38;5;241m==\u001B[39m \u001B[38;5;28mself\u001B[39m\u001B[38;5;241m.\u001B[39mnlevels:\n",
      "File \u001B[1;32m~\\Anaconda3\\lib\\site-packages\\pandas\\core\\indexes\\multi.py:2905\u001B[0m, in \u001B[0;36mMultiIndex.get_loc\u001B[1;34m(self, key, method)\u001B[0m\n\u001B[0;32m   2902\u001B[0m         \u001B[38;5;28;01mraise\u001B[39;00m \u001B[38;5;167;01mKeyError\u001B[39;00m(key) \u001B[38;5;28;01mfrom\u001B[39;00m \u001B[38;5;21;01merr\u001B[39;00m\n\u001B[0;32m   2904\u001B[0m \u001B[38;5;28;01mif\u001B[39;00m start \u001B[38;5;241m==\u001B[39m stop:\n\u001B[1;32m-> 2905\u001B[0m     \u001B[38;5;28;01mraise\u001B[39;00m \u001B[38;5;167;01mKeyError\u001B[39;00m(key)\n\u001B[0;32m   2907\u001B[0m \u001B[38;5;28;01mif\u001B[39;00m \u001B[38;5;129;01mnot\u001B[39;00m follow_key:\n\u001B[0;32m   2908\u001B[0m     \u001B[38;5;28;01mreturn\u001B[39;00m \u001B[38;5;28mslice\u001B[39m(start, stop)\n",
      "\u001B[1;31mKeyError\u001B[0m: ('R12_LAM', '2020', 'oil_imp')"
     ]
    }
   ],
   "source": [
    "extr_tec = \"oil_extr_mpen\"\n",
    "out_oil_extr = act_out.loc[region, year, extr_tec]\n",
    "out_oil_exp = act_out.loc[region, year, \"oil_exp\"]\n",
    "in_oil_imp = act_in.loc[region, year, \"oil_imp\"]\n",
    "\n",
    "carbon_in_extr = (out_oil_extr.sum()[\"output\"] - out_oil_exp.sum()[\"output\"] + in_oil_imp.sum()[\"input\"]) * 0.631\n",
    "carbon_in_extr"
   ],
   "metadata": {
    "collapsed": false
   }
  },
  {
   "cell_type": "code",
   "execution_count": 48,
   "outputs": [
    {
     "data": {
      "text/plain": "319.2508439033615"
     },
     "execution_count": 48,
     "metadata": {},
     "output_type": "execute_result"
    }
   ],
   "source": [
    "inp_atm_dist = act_in.loc[region, year, \"atm_distillation_ref\"]\n",
    "carbon_in_ref = inp_atm_dist[inp_atm_dist[\"commodity\"] == \"crudeoil\"].sum()[\"input\"] * 0.631\n",
    "carbon_in_ref"
   ],
   "metadata": {
    "collapsed": false
   }
  },
  {
   "cell_type": "code",
   "execution_count": 49,
   "outputs": [
    {
     "name": "stdout",
     "output_type": "stream",
     "text": [
      "10.089172440637014\n"
     ]
    }
   ],
   "source": [
    "out_agg_ref = act_out.loc[region, year, \"agg_ref\"]\n",
    "carbon_out_agg_ref = out_agg_ref.loc[out_agg_ref[\"commodity\"].isin([\"fueloil\"])][\"output\"].sum() * 0.665 \\\n",
    "+ out_agg_ref[~out_agg_ref[\"commodity\"].isin([\"fueloil\"])].sum()[\"output\"] * 0.631\n",
    "\n",
    "print(carbon_in_ref - carbon_out_agg_ref)"
   ],
   "metadata": {
    "collapsed": false
   }
  },
  {
   "cell_type": "code",
   "execution_count": 50,
   "outputs": [
    {
     "name": "stderr",
     "output_type": "stream",
     "text": [
      "C:\\Users\\maczek\\AppData\\Local\\Temp\\ipykernel_17352\\3261112422.py:1: PerformanceWarning: indexing past lexsort depth may impact performance.\n",
      "  inp_atm_dist = act_in.swaplevel(0,2).loc[\"atm_distillation_ref\", year]\n"
     ]
    },
    {
     "name": "stdout",
     "output_type": "stream",
     "text": [
      "252.94682658537567\n"
     ]
    },
    {
     "name": "stderr",
     "output_type": "stream",
     "text": [
      "C:\\Users\\maczek\\AppData\\Local\\Temp\\ipykernel_17352\\3261112422.py:4: PerformanceWarning: indexing past lexsort depth may impact performance.\n",
      "  out_agg_ref = act_out.swaplevel(0,2).loc[\"agg_ref\", year]\n"
     ]
    }
   ],
   "source": [
    "inp_atm_dist = act_in.swaplevel(0,2).loc[\"atm_distillation_ref\", year]\n",
    "carbon_in_ref = inp_atm_dist[inp_atm_dist[\"commodity\"] == \"crudeoil\"].sum()[\"input\"] * 0.631\n",
    "\n",
    "out_agg_ref = act_out.swaplevel(0,2).loc[\"agg_ref\", year]\n",
    "carbon_out_agg_ref = out_agg_ref.loc[out_agg_ref[\"commodity\"].isin([\"fueloil\"])][\"output\"].sum() * 0.665 + out_agg_ref[~out_agg_ref[\"commodity\"].isin([\"fueloil\"])].sum()[\"output\"] * 0.631\n",
    "\n",
    "print(carbon_in_ref - carbon_out_agg_ref)"
   ],
   "metadata": {
    "collapsed": false
   }
  },
  {
   "cell_type": "code",
   "execution_count": 51,
   "outputs": [
    {
     "name": "stderr",
     "output_type": "stream",
     "text": [
      "C:\\Users\\maczek\\AppData\\Local\\Temp\\ipykernel_17352\\2343031665.py:1: PerformanceWarning: indexing past lexsort depth may impact performance.\n",
      "  sc_in = act_in.swaplevel(0,2).loc[\"steam_cracker_petro\", year]\n"
     ]
    },
    {
     "data": {
      "text/plain": "301.4771887846489"
     },
     "execution_count": 51,
     "metadata": {},
     "output_type": "execute_result"
    }
   ],
   "source": [
    "sc_in = act_in.swaplevel(0,2).loc[\"steam_cracker_petro\", year]\n",
    "sc_in[~sc_in.index.get_level_values(1).isin([\"ethane\", \"propane\"])].sum()[\"input\"] * 0.631"
   ],
   "metadata": {
    "collapsed": false
   }
  },
  {
   "cell_type": "markdown",
   "source": [],
   "metadata": {
    "collapsed": false
   }
  },
  {
   "cell_type": "markdown",
   "source": [
    "## carbon IO coal"
   ],
   "metadata": {
    "collapsed": false
   }
  },
  {
   "cell_type": "code",
   "execution_count": 52,
   "outputs": [
    {
     "data": {
      "text/plain": "                             Level commodity           level     Value  \\\ntec       mode year_vtg                                                  \nLNG_prod  M1   2020      37.305296       gas         primary  1.000000   \ndri_steel M1   2020       2.696444       gas           final  0.330000   \n               2020       2.696444       gas  dummy_emission  0.330000   \neaf_steel M2   2005       0.265603       gas           final  0.002000   \n               2005       0.265603       gas  dummy_emission  0.002000   \n...                            ...       ...             ...       ...   \nmeth_ng   fuel 2015       2.359075       gas       secondary  1.666667   \n               2015       2.359075       gas       secondary  1.666667   \n               2015       2.359075       gas       secondary  1.666667   \n               2015       2.359075       gas       secondary  1.666667   \n               2015       2.359075       gas       secondary  1.666667   \n\n                        node_origin      input  emi_factor  \ntec       mode year_vtg                                     \nLNG_prod  M1   2020         R12_LAM  37.305296         NaN  \ndri_steel M1   2020         R12_LAM   0.889827         NaN  \n               2020         R12_LAM   0.889827         NaN  \neaf_steel M2   2005         R12_LAM   0.000531         NaN  \n               2005         R12_LAM   0.000531         NaN  \n...                             ...        ...         ...  \nmeth_ng   fuel 2015         R12_LAM   3.931792    0.253333  \n               2015         R12_LAM   3.931792    0.253333  \n               2015         R12_LAM   3.931792    0.253333  \n               2015         R12_LAM   3.931792    0.253333  \n               2015         R12_LAM   3.931792    0.253333  \n\n[2135 rows x 7 columns]",
      "text/html": "<div>\n<style scoped>\n    .dataframe tbody tr th:only-of-type {\n        vertical-align: middle;\n    }\n\n    .dataframe tbody tr th {\n        vertical-align: top;\n    }\n\n    .dataframe thead th {\n        text-align: right;\n    }\n</style>\n<table border=\"1\" class=\"dataframe\">\n  <thead>\n    <tr style=\"text-align: right;\">\n      <th></th>\n      <th></th>\n      <th></th>\n      <th>Level</th>\n      <th>commodity</th>\n      <th>level</th>\n      <th>Value</th>\n      <th>node_origin</th>\n      <th>input</th>\n      <th>emi_factor</th>\n    </tr>\n    <tr>\n      <th>tec</th>\n      <th>mode</th>\n      <th>year_vtg</th>\n      <th></th>\n      <th></th>\n      <th></th>\n      <th></th>\n      <th></th>\n      <th></th>\n      <th></th>\n    </tr>\n  </thead>\n  <tbody>\n    <tr>\n      <th>LNG_prod</th>\n      <th>M1</th>\n      <th>2020</th>\n      <td>37.305296</td>\n      <td>gas</td>\n      <td>primary</td>\n      <td>1.000000</td>\n      <td>R12_LAM</td>\n      <td>37.305296</td>\n      <td>NaN</td>\n    </tr>\n    <tr>\n      <th rowspan=\"2\" valign=\"top\">dri_steel</th>\n      <th rowspan=\"2\" valign=\"top\">M1</th>\n      <th>2020</th>\n      <td>2.696444</td>\n      <td>gas</td>\n      <td>final</td>\n      <td>0.330000</td>\n      <td>R12_LAM</td>\n      <td>0.889827</td>\n      <td>NaN</td>\n    </tr>\n    <tr>\n      <th>2020</th>\n      <td>2.696444</td>\n      <td>gas</td>\n      <td>dummy_emission</td>\n      <td>0.330000</td>\n      <td>R12_LAM</td>\n      <td>0.889827</td>\n      <td>NaN</td>\n    </tr>\n    <tr>\n      <th rowspan=\"2\" valign=\"top\">eaf_steel</th>\n      <th rowspan=\"2\" valign=\"top\">M2</th>\n      <th>2005</th>\n      <td>0.265603</td>\n      <td>gas</td>\n      <td>final</td>\n      <td>0.002000</td>\n      <td>R12_LAM</td>\n      <td>0.000531</td>\n      <td>NaN</td>\n    </tr>\n    <tr>\n      <th>2005</th>\n      <td>0.265603</td>\n      <td>gas</td>\n      <td>dummy_emission</td>\n      <td>0.002000</td>\n      <td>R12_LAM</td>\n      <td>0.000531</td>\n      <td>NaN</td>\n    </tr>\n    <tr>\n      <th>...</th>\n      <th>...</th>\n      <th>...</th>\n      <td>...</td>\n      <td>...</td>\n      <td>...</td>\n      <td>...</td>\n      <td>...</td>\n      <td>...</td>\n      <td>...</td>\n    </tr>\n    <tr>\n      <th rowspan=\"5\" valign=\"top\">meth_ng</th>\n      <th rowspan=\"5\" valign=\"top\">fuel</th>\n      <th>2015</th>\n      <td>2.359075</td>\n      <td>gas</td>\n      <td>secondary</td>\n      <td>1.666667</td>\n      <td>R12_LAM</td>\n      <td>3.931792</td>\n      <td>0.253333</td>\n    </tr>\n    <tr>\n      <th>2015</th>\n      <td>2.359075</td>\n      <td>gas</td>\n      <td>secondary</td>\n      <td>1.666667</td>\n      <td>R12_LAM</td>\n      <td>3.931792</td>\n      <td>0.253333</td>\n    </tr>\n    <tr>\n      <th>2015</th>\n      <td>2.359075</td>\n      <td>gas</td>\n      <td>secondary</td>\n      <td>1.666667</td>\n      <td>R12_LAM</td>\n      <td>3.931792</td>\n      <td>0.253333</td>\n    </tr>\n    <tr>\n      <th>2015</th>\n      <td>2.359075</td>\n      <td>gas</td>\n      <td>secondary</td>\n      <td>1.666667</td>\n      <td>R12_LAM</td>\n      <td>3.931792</td>\n      <td>0.253333</td>\n    </tr>\n    <tr>\n      <th>2015</th>\n      <td>2.359075</td>\n      <td>gas</td>\n      <td>secondary</td>\n      <td>1.666667</td>\n      <td>R12_LAM</td>\n      <td>3.931792</td>\n      <td>0.253333</td>\n    </tr>\n  </tbody>\n</table>\n<p>2135 rows × 7 columns</p>\n</div>"
     },
     "execution_count": 52,
     "metadata": {},
     "output_type": "execute_result"
    }
   ],
   "source": [
    "act_in_yr_reg = act_in.loc[region, year]\n",
    "comm = \"gas\"\n",
    "bott_dict = {\n",
    "    \"coal\":bot_new_coal,\n",
    "    \"gas\":bot_new_gas\n",
    "}\n",
    "bott_yr_reg_coal_merge = bott_dict[comm].copy(deep=True)\n",
    "x = act_in_yr_reg[(act_in_yr_reg.index.get_level_values(0).str.contains(comm)) & (act_in_yr_reg[\"commodity\"]==comm) & (act_in_yr_reg[\"level\"]==\"final\")].join(bott_yr_reg_coal_merge.rename({\"Value\": \"emi_factor\"}, axis=1)[\"emi_factor\"])\n",
    "x = act_in_yr_reg[(act_in_yr_reg[\"commodity\"]==comm)].join(bott_yr_reg_coal_merge.rename({\"Value\": \"emi_factor\"}, axis=1)[\"emi_factor\"])\n",
    "x"
   ],
   "metadata": {
    "collapsed": false
   }
  },
  {
   "cell_type": "code",
   "execution_count": 53,
   "outputs": [
    {
     "data": {
      "text/plain": "                                               Level commodity      level  \\\ntec      mode node_loc year_act year_vtg                                    \nLNG_prod M1   R12_AFR  2020     2020       60.182113       gas    primary   \n                       2025     2025       69.629561       gas    primary   \n                       2030     2030       94.292866       gas    primary   \n                       2035     2035      101.502785       gas    primary   \n                       2040     2040      100.225163       gas    primary   \n...                                              ...       ...        ...   \nmeth_ng  fuel R12_WEU  2025     2015        0.331997       gas  secondary   \n                                2015        0.331997       gas  secondary   \n                                2015        0.331997       gas  secondary   \n                                2015        0.331997       gas  secondary   \n                                2015        0.331997       gas  secondary   \n\n                                             Value node_origin       input  \\\ntec      mode node_loc year_act year_vtg                                     \nLNG_prod M1   R12_AFR  2020     2020      1.000000     R12_AFR   60.182113   \n                       2025     2025      1.000000     R12_AFR   69.629561   \n                       2030     2030      1.000000     R12_AFR   94.292866   \n                       2035     2035      1.000000     R12_AFR  101.502785   \n                       2040     2040      1.000000     R12_AFR  100.225163   \n...                                            ...         ...         ...   \nmeth_ng  fuel R12_WEU  2025     2015      1.666667     R12_WEU    0.553329   \n                                2015      1.666667     R12_WEU    0.553329   \n                                2015      1.666667     R12_WEU    0.553329   \n                                2015      1.666667     R12_WEU    0.553329   \n                                2015      1.666667     R12_WEU    0.553329   \n\n                                          emi_factor  \ntec      mode node_loc year_act year_vtg              \nLNG_prod M1   R12_AFR  2020     2020             NaN  \n                       2025     2025             NaN  \n                       2030     2030             NaN  \n                       2035     2035             NaN  \n                       2040     2040             NaN  \n...                                              ...  \nmeth_ng  fuel R12_WEU  2025     2015        0.253333  \n                                2015        0.253333  \n                                2015        0.253333  \n                                2015        0.253333  \n                                2015        0.253333  \n\n[204796 rows x 7 columns]",
      "text/html": "<div>\n<style scoped>\n    .dataframe tbody tr th:only-of-type {\n        vertical-align: middle;\n    }\n\n    .dataframe tbody tr th {\n        vertical-align: top;\n    }\n\n    .dataframe thead th {\n        text-align: right;\n    }\n</style>\n<table border=\"1\" class=\"dataframe\">\n  <thead>\n    <tr style=\"text-align: right;\">\n      <th></th>\n      <th></th>\n      <th></th>\n      <th></th>\n      <th></th>\n      <th>Level</th>\n      <th>commodity</th>\n      <th>level</th>\n      <th>Value</th>\n      <th>node_origin</th>\n      <th>input</th>\n      <th>emi_factor</th>\n    </tr>\n    <tr>\n      <th>tec</th>\n      <th>mode</th>\n      <th>node_loc</th>\n      <th>year_act</th>\n      <th>year_vtg</th>\n      <th></th>\n      <th></th>\n      <th></th>\n      <th></th>\n      <th></th>\n      <th></th>\n      <th></th>\n    </tr>\n  </thead>\n  <tbody>\n    <tr>\n      <th rowspan=\"5\" valign=\"top\">LNG_prod</th>\n      <th rowspan=\"5\" valign=\"top\">M1</th>\n      <th rowspan=\"5\" valign=\"top\">R12_AFR</th>\n      <th>2020</th>\n      <th>2020</th>\n      <td>60.182113</td>\n      <td>gas</td>\n      <td>primary</td>\n      <td>1.000000</td>\n      <td>R12_AFR</td>\n      <td>60.182113</td>\n      <td>NaN</td>\n    </tr>\n    <tr>\n      <th>2025</th>\n      <th>2025</th>\n      <td>69.629561</td>\n      <td>gas</td>\n      <td>primary</td>\n      <td>1.000000</td>\n      <td>R12_AFR</td>\n      <td>69.629561</td>\n      <td>NaN</td>\n    </tr>\n    <tr>\n      <th>2030</th>\n      <th>2030</th>\n      <td>94.292866</td>\n      <td>gas</td>\n      <td>primary</td>\n      <td>1.000000</td>\n      <td>R12_AFR</td>\n      <td>94.292866</td>\n      <td>NaN</td>\n    </tr>\n    <tr>\n      <th>2035</th>\n      <th>2035</th>\n      <td>101.502785</td>\n      <td>gas</td>\n      <td>primary</td>\n      <td>1.000000</td>\n      <td>R12_AFR</td>\n      <td>101.502785</td>\n      <td>NaN</td>\n    </tr>\n    <tr>\n      <th>2040</th>\n      <th>2040</th>\n      <td>100.225163</td>\n      <td>gas</td>\n      <td>primary</td>\n      <td>1.000000</td>\n      <td>R12_AFR</td>\n      <td>100.225163</td>\n      <td>NaN</td>\n    </tr>\n    <tr>\n      <th>...</th>\n      <th>...</th>\n      <th>...</th>\n      <th>...</th>\n      <th>...</th>\n      <td>...</td>\n      <td>...</td>\n      <td>...</td>\n      <td>...</td>\n      <td>...</td>\n      <td>...</td>\n      <td>...</td>\n    </tr>\n    <tr>\n      <th rowspan=\"5\" valign=\"top\">meth_ng</th>\n      <th rowspan=\"5\" valign=\"top\">fuel</th>\n      <th rowspan=\"5\" valign=\"top\">R12_WEU</th>\n      <th rowspan=\"5\" valign=\"top\">2025</th>\n      <th>2015</th>\n      <td>0.331997</td>\n      <td>gas</td>\n      <td>secondary</td>\n      <td>1.666667</td>\n      <td>R12_WEU</td>\n      <td>0.553329</td>\n      <td>0.253333</td>\n    </tr>\n    <tr>\n      <th>2015</th>\n      <td>0.331997</td>\n      <td>gas</td>\n      <td>secondary</td>\n      <td>1.666667</td>\n      <td>R12_WEU</td>\n      <td>0.553329</td>\n      <td>0.253333</td>\n    </tr>\n    <tr>\n      <th>2015</th>\n      <td>0.331997</td>\n      <td>gas</td>\n      <td>secondary</td>\n      <td>1.666667</td>\n      <td>R12_WEU</td>\n      <td>0.553329</td>\n      <td>0.253333</td>\n    </tr>\n    <tr>\n      <th>2015</th>\n      <td>0.331997</td>\n      <td>gas</td>\n      <td>secondary</td>\n      <td>1.666667</td>\n      <td>R12_WEU</td>\n      <td>0.553329</td>\n      <td>0.253333</td>\n    </tr>\n    <tr>\n      <th>2015</th>\n      <td>0.331997</td>\n      <td>gas</td>\n      <td>secondary</td>\n      <td>1.666667</td>\n      <td>R12_WEU</td>\n      <td>0.553329</td>\n      <td>0.253333</td>\n    </tr>\n  </tbody>\n</table>\n<p>204796 rows × 7 columns</p>\n</div>"
     },
     "execution_count": 53,
     "metadata": {},
     "output_type": "execute_result"
    }
   ],
   "source": [
    "act_in_yr_reg = act_in#.swaplevel(0,1).loc[year]\n",
    "comm = \"gas\"\n",
    "bott_dict = {\n",
    "    \"coal\":bot_new_coal,\n",
    "    \"gas\":bot_new_gas\n",
    "}\n",
    "bott_yr_reg_coal_merge = bott_dict[comm].copy(deep=True)\n",
    "x = act_in_yr_reg[(act_in_yr_reg.index.get_level_values(0).str.contains(comm)) & (act_in_yr_reg[\"commodity\"]==comm) & (act_in_yr_reg[\"level\"]==\"final\")].join(bott_yr_reg_coal_merge.rename({\"Value\": \"emi_factor\"}, axis=1)[\"emi_factor\"])\n",
    "x = act_in_yr_reg[(act_in_yr_reg[\"commodity\"]==comm)].join(bott_yr_reg_coal_merge.rename({\"Value\": \"emi_factor\"}, axis=1)[\"emi_factor\"])\n",
    "x"
   ],
   "metadata": {
    "collapsed": false
   }
  },
  {
   "cell_type": "code",
   "execution_count": 54,
   "outputs": [
    {
     "data": {
      "text/plain": "                               node_loc year_act year_vtg relation     Value  \\\ntec                  mode                                                      \nDUMMY_gas_supply     M1         R12_AFR     2020     2020  CO2_ind  0.482000   \nfurnace_gas_petro    high_temp  R12_AFR     2020     2020  CO2_ind  0.523913   \nfurnace_gas_refining high_temp  R12_AFR     2020     2020   CO2_cc  0.800120   \ngas_NH3              M1         R12_AFR     2020     2005   CO2_cc  0.534804   \n                     M1         R12_AFR     2020     2010   CO2_cc  0.534804   \n...                                 ...      ...      ...      ...       ...   \ngas_t_d              M1         R12_WEU     2020     2005   CO2_cc  0.034737   \n                     M1         R12_WEU     2020     2010   CO2_cc  0.034737   \nhp_gas_rc            M1         R12_WEU     2020     2020  CO2_r_c  0.321333   \nmeth_ng              feedstock  R12_WEU     2020     2015   CO2_cc  0.253333   \n                     fuel       R12_WEU     2020     2015   CO2_cc  0.253333   \n\n                               node_origin year_rel      Level        emi  \ntec                  mode                                                  \nDUMMY_gas_supply     M1            R12_AFR     2020   1.660615   0.800417  \nfurnace_gas_petro    high_temp     R12_AFR     2020   1.179212   0.617805  \nfurnace_gas_refining high_temp     R12_AFR     2020   4.492885   3.594847  \ngas_NH3              M1            R12_AFR     2020   1.065932   0.570065  \n                     M1            R12_AFR     2020   2.041205   1.091645  \n...                                    ...      ...        ...        ...  \ngas_t_d              M1            R12_WEU     2020  64.785421   2.250441  \n                     M1            R12_WEU     2020  15.089721   0.524169  \nhp_gas_rc            M1            R12_WEU     2020  33.288225  10.696616  \nmeth_ng              feedstock     R12_WEU     2020   1.287200   0.326091  \n                     fuel          R12_WEU     2020   1.468320   0.371975  \n\n[520 rows x 9 columns]",
      "text/html": "<div>\n<style scoped>\n    .dataframe tbody tr th:only-of-type {\n        vertical-align: middle;\n    }\n\n    .dataframe tbody tr th {\n        vertical-align: top;\n    }\n\n    .dataframe thead th {\n        text-align: right;\n    }\n</style>\n<table border=\"1\" class=\"dataframe\">\n  <thead>\n    <tr style=\"text-align: right;\">\n      <th></th>\n      <th></th>\n      <th>node_loc</th>\n      <th>year_act</th>\n      <th>year_vtg</th>\n      <th>relation</th>\n      <th>Value</th>\n      <th>node_origin</th>\n      <th>year_rel</th>\n      <th>Level</th>\n      <th>emi</th>\n    </tr>\n    <tr>\n      <th>tec</th>\n      <th>mode</th>\n      <th></th>\n      <th></th>\n      <th></th>\n      <th></th>\n      <th></th>\n      <th></th>\n      <th></th>\n      <th></th>\n      <th></th>\n    </tr>\n  </thead>\n  <tbody>\n    <tr>\n      <th>DUMMY_gas_supply</th>\n      <th>M1</th>\n      <td>R12_AFR</td>\n      <td>2020</td>\n      <td>2020</td>\n      <td>CO2_ind</td>\n      <td>0.482000</td>\n      <td>R12_AFR</td>\n      <td>2020</td>\n      <td>1.660615</td>\n      <td>0.800417</td>\n    </tr>\n    <tr>\n      <th>furnace_gas_petro</th>\n      <th>high_temp</th>\n      <td>R12_AFR</td>\n      <td>2020</td>\n      <td>2020</td>\n      <td>CO2_ind</td>\n      <td>0.523913</td>\n      <td>R12_AFR</td>\n      <td>2020</td>\n      <td>1.179212</td>\n      <td>0.617805</td>\n    </tr>\n    <tr>\n      <th>furnace_gas_refining</th>\n      <th>high_temp</th>\n      <td>R12_AFR</td>\n      <td>2020</td>\n      <td>2020</td>\n      <td>CO2_cc</td>\n      <td>0.800120</td>\n      <td>R12_AFR</td>\n      <td>2020</td>\n      <td>4.492885</td>\n      <td>3.594847</td>\n    </tr>\n    <tr>\n      <th rowspan=\"2\" valign=\"top\">gas_NH3</th>\n      <th>M1</th>\n      <td>R12_AFR</td>\n      <td>2020</td>\n      <td>2005</td>\n      <td>CO2_cc</td>\n      <td>0.534804</td>\n      <td>R12_AFR</td>\n      <td>2020</td>\n      <td>1.065932</td>\n      <td>0.570065</td>\n    </tr>\n    <tr>\n      <th>M1</th>\n      <td>R12_AFR</td>\n      <td>2020</td>\n      <td>2010</td>\n      <td>CO2_cc</td>\n      <td>0.534804</td>\n      <td>R12_AFR</td>\n      <td>2020</td>\n      <td>2.041205</td>\n      <td>1.091645</td>\n    </tr>\n    <tr>\n      <th>...</th>\n      <th>...</th>\n      <td>...</td>\n      <td>...</td>\n      <td>...</td>\n      <td>...</td>\n      <td>...</td>\n      <td>...</td>\n      <td>...</td>\n      <td>...</td>\n      <td>...</td>\n    </tr>\n    <tr>\n      <th rowspan=\"2\" valign=\"top\">gas_t_d</th>\n      <th>M1</th>\n      <td>R12_WEU</td>\n      <td>2020</td>\n      <td>2005</td>\n      <td>CO2_cc</td>\n      <td>0.034737</td>\n      <td>R12_WEU</td>\n      <td>2020</td>\n      <td>64.785421</td>\n      <td>2.250441</td>\n    </tr>\n    <tr>\n      <th>M1</th>\n      <td>R12_WEU</td>\n      <td>2020</td>\n      <td>2010</td>\n      <td>CO2_cc</td>\n      <td>0.034737</td>\n      <td>R12_WEU</td>\n      <td>2020</td>\n      <td>15.089721</td>\n      <td>0.524169</td>\n    </tr>\n    <tr>\n      <th>hp_gas_rc</th>\n      <th>M1</th>\n      <td>R12_WEU</td>\n      <td>2020</td>\n      <td>2020</td>\n      <td>CO2_r_c</td>\n      <td>0.321333</td>\n      <td>R12_WEU</td>\n      <td>2020</td>\n      <td>33.288225</td>\n      <td>10.696616</td>\n    </tr>\n    <tr>\n      <th rowspan=\"2\" valign=\"top\">meth_ng</th>\n      <th>feedstock</th>\n      <td>R12_WEU</td>\n      <td>2020</td>\n      <td>2015</td>\n      <td>CO2_cc</td>\n      <td>0.253333</td>\n      <td>R12_WEU</td>\n      <td>2020</td>\n      <td>1.287200</td>\n      <td>0.326091</td>\n    </tr>\n    <tr>\n      <th>fuel</th>\n      <td>R12_WEU</td>\n      <td>2020</td>\n      <td>2015</td>\n      <td>CO2_cc</td>\n      <td>0.253333</td>\n      <td>R12_WEU</td>\n      <td>2020</td>\n      <td>1.468320</td>\n      <td>0.371975</td>\n    </tr>\n  </tbody>\n</table>\n<p>520 rows × 9 columns</p>\n</div>"
     },
     "execution_count": 54,
     "metadata": {},
     "output_type": "execute_result"
    }
   ],
   "source": [
    "bot_new_gas.loc[\"gas_i\"]\n",
    "bott_yr_reg_coal_merge"
   ],
   "metadata": {
    "collapsed": false
   }
  },
  {
   "cell_type": "code",
   "execution_count": 55,
   "outputs": [
    {
     "data": {
      "text/plain": "mode  node_loc  year_act  year_vtg\nM1    R12_AFR   2020      2005        0.482000\n                          2005        0.482000\n                          2005        0.482000\n                          2005        0.482000\n                          2005        0.482000\n                                        ...   \n      R12_WEU   2060      2040        0.637941\n                          2040        0.637941\n                          2040        0.637941\n                          2040        0.516429\n                          2040        0.516429\nLength: 4557, dtype: float64"
     },
     "execution_count": 55,
     "metadata": {},
     "output_type": "execute_result"
    }
   ],
   "source": [
    "(x[\"emi_factor\"] / x[\"Value\"]).dropna().loc[\"gas_i\"]#.reset_index()#.drop([\"year_vtg\", \"node_loc\", \"year_act\"], axis=1).drop_duplicates()"
   ],
   "metadata": {
    "collapsed": false
   }
  },
  {
   "cell_type": "code",
   "execution_count": 56,
   "outputs": [
    {
     "name": "stderr",
     "output_type": "stream",
     "text": [
      "C:\\Users\\maczek\\AppData\\Local\\Temp\\ipykernel_17352\\3091354.py:1: PerformanceWarning: indexing past lexsort depth may impact performance.\n",
      "  x.loc[\"gas_i\", \"M1\", \"R12_CHN\"]\n"
     ]
    },
    {
     "data": {
      "text/plain": "                      Level commodity  level     Value node_origin     input  \\\nyear_act year_vtg                                                              \n2020     2005      1.228475       gas  final  1.408451     R12_CHN  1.730247   \n         2005      1.228475       gas  final  1.408451     R12_CHN  1.730247   \n         2005      1.228475       gas  final  1.408451     R12_CHN  1.730247   \n         2005      1.228475       gas  final  1.408451     R12_CHN  1.730247   \n         2005      1.228475       gas  final  1.408451     R12_CHN  1.730247   \n...                     ...       ...    ...       ...         ...       ...   \n         2015      3.930682       gas  final  1.408451     R12_CHN  5.536172   \n         2015      3.930682       gas  final  1.408451     R12_CHN  5.536172   \n         2015      3.930682       gas  final  1.408451     R12_CHN  5.536172   \n         2015      3.930682       gas  final  1.408451     R12_CHN  5.536172   \n         2015      3.930682       gas  final  1.408451     R12_CHN  5.536172   \n\n                   emi_factor  \nyear_act year_vtg              \n2020     2005        0.678873  \n         2005        0.678873  \n         2005        0.678873  \n         2005        0.678873  \n         2005        0.678873  \n...                       ...  \n         2015        0.708824  \n         2015        0.708824  \n         2015        0.708824  \n         2015        0.573810  \n         2015        0.573810  \n\n[62 rows x 7 columns]",
      "text/html": "<div>\n<style scoped>\n    .dataframe tbody tr th:only-of-type {\n        vertical-align: middle;\n    }\n\n    .dataframe tbody tr th {\n        vertical-align: top;\n    }\n\n    .dataframe thead th {\n        text-align: right;\n    }\n</style>\n<table border=\"1\" class=\"dataframe\">\n  <thead>\n    <tr style=\"text-align: right;\">\n      <th></th>\n      <th></th>\n      <th>Level</th>\n      <th>commodity</th>\n      <th>level</th>\n      <th>Value</th>\n      <th>node_origin</th>\n      <th>input</th>\n      <th>emi_factor</th>\n    </tr>\n    <tr>\n      <th>year_act</th>\n      <th>year_vtg</th>\n      <th></th>\n      <th></th>\n      <th></th>\n      <th></th>\n      <th></th>\n      <th></th>\n      <th></th>\n    </tr>\n  </thead>\n  <tbody>\n    <tr>\n      <th rowspan=\"11\" valign=\"top\">2020</th>\n      <th>2005</th>\n      <td>1.228475</td>\n      <td>gas</td>\n      <td>final</td>\n      <td>1.408451</td>\n      <td>R12_CHN</td>\n      <td>1.730247</td>\n      <td>0.678873</td>\n    </tr>\n    <tr>\n      <th>2005</th>\n      <td>1.228475</td>\n      <td>gas</td>\n      <td>final</td>\n      <td>1.408451</td>\n      <td>R12_CHN</td>\n      <td>1.730247</td>\n      <td>0.678873</td>\n    </tr>\n    <tr>\n      <th>2005</th>\n      <td>1.228475</td>\n      <td>gas</td>\n      <td>final</td>\n      <td>1.408451</td>\n      <td>R12_CHN</td>\n      <td>1.730247</td>\n      <td>0.678873</td>\n    </tr>\n    <tr>\n      <th>2005</th>\n      <td>1.228475</td>\n      <td>gas</td>\n      <td>final</td>\n      <td>1.408451</td>\n      <td>R12_CHN</td>\n      <td>1.730247</td>\n      <td>0.678873</td>\n    </tr>\n    <tr>\n      <th>2005</th>\n      <td>1.228475</td>\n      <td>gas</td>\n      <td>final</td>\n      <td>1.408451</td>\n      <td>R12_CHN</td>\n      <td>1.730247</td>\n      <td>0.678873</td>\n    </tr>\n    <tr>\n      <th>...</th>\n      <td>...</td>\n      <td>...</td>\n      <td>...</td>\n      <td>...</td>\n      <td>...</td>\n      <td>...</td>\n      <td>...</td>\n    </tr>\n    <tr>\n      <th>2015</th>\n      <td>3.930682</td>\n      <td>gas</td>\n      <td>final</td>\n      <td>1.408451</td>\n      <td>R12_CHN</td>\n      <td>5.536172</td>\n      <td>0.708824</td>\n    </tr>\n    <tr>\n      <th>2015</th>\n      <td>3.930682</td>\n      <td>gas</td>\n      <td>final</td>\n      <td>1.408451</td>\n      <td>R12_CHN</td>\n      <td>5.536172</td>\n      <td>0.708824</td>\n    </tr>\n    <tr>\n      <th>2015</th>\n      <td>3.930682</td>\n      <td>gas</td>\n      <td>final</td>\n      <td>1.408451</td>\n      <td>R12_CHN</td>\n      <td>5.536172</td>\n      <td>0.708824</td>\n    </tr>\n    <tr>\n      <th>2015</th>\n      <td>3.930682</td>\n      <td>gas</td>\n      <td>final</td>\n      <td>1.408451</td>\n      <td>R12_CHN</td>\n      <td>5.536172</td>\n      <td>0.573810</td>\n    </tr>\n    <tr>\n      <th>2015</th>\n      <td>3.930682</td>\n      <td>gas</td>\n      <td>final</td>\n      <td>1.408451</td>\n      <td>R12_CHN</td>\n      <td>5.536172</td>\n      <td>0.573810</td>\n    </tr>\n  </tbody>\n</table>\n<p>62 rows × 7 columns</p>\n</div>"
     },
     "execution_count": 56,
     "metadata": {},
     "output_type": "execute_result"
    }
   ],
   "source": [
    "x.loc[\"gas_i\", \"M1\", \"R12_CHN\"]"
   ],
   "metadata": {
    "collapsed": false
   }
  },
  {
   "cell_type": "markdown",
   "source": [
    "## check *_t_d tecs emission factors"
   ],
   "metadata": {
    "collapsed": false
   }
  },
  {
   "cell_type": "code",
   "execution_count": 92,
   "outputs": [],
   "source": [
    "df_gas_t_d = act_in[act_in.index.get_level_values(2).str.contains(\"coal\")].join(emi_bott_up.rename({\"Value\": \"emi_factor\"}, axis=1)[\"emi_factor\"])"
   ],
   "metadata": {
    "collapsed": false
   }
  },
  {
   "cell_type": "code",
   "execution_count": 58,
   "outputs": [],
   "source": [
    "df_gas_t_d = act_in.join(emi_bott_up.rename({\"Value\": \"emi_factor\"}, axis=1)[\"emi_factor\"]).dropna()"
   ],
   "metadata": {
    "collapsed": false
   }
  },
  {
   "cell_type": "code",
   "execution_count": 93,
   "outputs": [],
   "source": [
    "ef_dict = {\n",
    "    'biomass':0,\n",
    "     'coal':0.814,\n",
    "     'electr':0,\n",
    "     'ethanol':0,\n",
    "     'fueloil':0.665,\n",
    "     'gas':0.482,\n",
    "    'gas_1':0.482,\n",
    "    'gas_2':0.482,\n",
    "    'gas_3':0.482,\n",
    "    'gas_4':0.482,\n",
    "    'gas_5':0.482,\n",
    "    'gas_6':0.482,\n",
    "    'gas_afr':0.482,\n",
    "    'gas_chn':0.482,\n",
    "    'gas_cpa':0.482,\n",
    "    'gas_weu':0.482,\n",
    "    'gas_eeu':0.482,\n",
    "    'gas_sas':0.482,\n",
    "    'LNG':0.482,\n",
    "     'd_heat':0,\n",
    "     'lightoil':0.631,\n",
    "     'methanol':0.549,\n",
    "     'hydrogen':0,\n",
    "    'freshwater_supply':0,\n",
    "    \"crudeoil\":0.63,\n",
    "    \"crude_1\":0.665,\n",
    "    \"crude_2\":0.665,\n",
    "    \"crude_3\":0.665,\n",
    "    \"crude_4\":0.665,\n",
    "    \"crude_5\":0.665,\n",
    "    \"crude_6\":0.665,\n",
    "    \"crude_7\":0.665,\n",
    "    \"ht_heat\":0,\n",
    "    \"lh2\":0,\n",
    "}\n",
    "\n",
    "def get_ef(df):\n",
    "    df[\"ef\"] = ef_dict[df[\"commodity\"]]\n",
    "    return df\n",
    "\n",
    "df_gas_t_d = df_gas_t_d.apply(lambda x: get_ef(x), axis=1)"
   ],
   "metadata": {
    "collapsed": false
   }
  },
  {
   "cell_type": "code",
   "execution_count": 67,
   "outputs": [],
   "source": [
    "df_gas_t_d = df_gas_t_d.join(act_out.rename({\"commodity\":\"comm_out\"}, axis=1)[\"comm_out\"])\n",
    "df_gas_t_d = df_gas_t_d[df_gas_t_d[\"commodity\"]==df_gas_t_d[\"comm_out\"]]\n",
    "#df_gas_t_d = df_gas_t_d[~df_gas_t_d.index.get_level_values(2).str.contains(\"_extr\")]"
   ],
   "metadata": {
    "collapsed": false
   }
  },
  {
   "cell_type": "code",
   "execution_count": 94,
   "outputs": [],
   "source": [
    "# for IO tecs\n",
    "ef_false = (df_gas_t_d[\"emi_factor\"] / (df_gas_t_d[\"Value\"] - 1)).dropna()\n",
    "# for input only tecs\n",
    "ef_false = (df_gas_t_d[\"emi_factor\"] / df_gas_t_d[\"Value\"]).dropna()"
   ],
   "metadata": {
    "collapsed": false
   }
  },
  {
   "cell_type": "code",
   "execution_count": 95,
   "outputs": [],
   "source": [
    "tec_comm_map = df_gas_t_d.reset_index()[[\"tec\", \"commodity\"]].drop_duplicates().set_index(\"tec\").to_dict()[\"commodity\"]\n",
    "tec_list = [i for i in list(tec_comm_map.keys())]"
   ],
   "metadata": {
    "collapsed": false
   }
  },
  {
   "cell_type": "code",
   "execution_count": 99,
   "outputs": [
    {
     "data": {
      "text/plain": "                                        0\nyear_act node_loc mode year_vtg          \n2045     R12_PAS  M1   2010      0.823070\n2050     R12_NAM  M1   2010      0.816775\n2035     R12_CHN  M1   2000      0.816429\n         R12_RCPA M1   2000      0.816429\n2025     R12_LAM  M1   1980      0.814000\n...                                   ...\n2045     R12_SAS  M1   2020      0.814000\n                       2025      0.814000\n                       2030      0.814000\n                       2035      0.814000\n2035     R12_PAS  M1   2015      0.814000\n\n[476 rows x 1 columns]",
      "text/html": "<div>\n<style scoped>\n    .dataframe tbody tr th:only-of-type {\n        vertical-align: middle;\n    }\n\n    .dataframe tbody tr th {\n        vertical-align: top;\n    }\n\n    .dataframe thead th {\n        text-align: right;\n    }\n</style>\n<table border=\"1\" class=\"dataframe\">\n  <thead>\n    <tr style=\"text-align: right;\">\n      <th></th>\n      <th></th>\n      <th></th>\n      <th></th>\n      <th>0</th>\n    </tr>\n    <tr>\n      <th>year_act</th>\n      <th>node_loc</th>\n      <th>mode</th>\n      <th>year_vtg</th>\n      <th></th>\n    </tr>\n  </thead>\n  <tbody>\n    <tr>\n      <th>2045</th>\n      <th>R12_PAS</th>\n      <th>M1</th>\n      <th>2010</th>\n      <td>0.823070</td>\n    </tr>\n    <tr>\n      <th>2050</th>\n      <th>R12_NAM</th>\n      <th>M1</th>\n      <th>2010</th>\n      <td>0.816775</td>\n    </tr>\n    <tr>\n      <th rowspan=\"2\" valign=\"top\">2035</th>\n      <th>R12_CHN</th>\n      <th>M1</th>\n      <th>2000</th>\n      <td>0.816429</td>\n    </tr>\n    <tr>\n      <th>R12_RCPA</th>\n      <th>M1</th>\n      <th>2000</th>\n      <td>0.816429</td>\n    </tr>\n    <tr>\n      <th>2025</th>\n      <th>R12_LAM</th>\n      <th>M1</th>\n      <th>1980</th>\n      <td>0.814000</td>\n    </tr>\n    <tr>\n      <th>...</th>\n      <th>...</th>\n      <th>...</th>\n      <th>...</th>\n      <td>...</td>\n    </tr>\n    <tr>\n      <th rowspan=\"4\" valign=\"top\">2045</th>\n      <th rowspan=\"4\" valign=\"top\">R12_SAS</th>\n      <th rowspan=\"4\" valign=\"top\">M1</th>\n      <th>2020</th>\n      <td>0.814000</td>\n    </tr>\n    <tr>\n      <th>2025</th>\n      <td>0.814000</td>\n    </tr>\n    <tr>\n      <th>2030</th>\n      <td>0.814000</td>\n    </tr>\n    <tr>\n      <th>2035</th>\n      <td>0.814000</td>\n    </tr>\n    <tr>\n      <th>2035</th>\n      <th>R12_PAS</th>\n      <th>M1</th>\n      <th>2015</th>\n      <td>0.814000</td>\n    </tr>\n  </tbody>\n</table>\n<p>476 rows × 1 columns</p>\n</div>"
     },
     "execution_count": 99,
     "metadata": {},
     "output_type": "execute_result"
    }
   ],
   "source": [
    "pd.DataFrame(ef_false).swaplevel(0,2).loc[\"coal_ppl\"].sort_values(0, ascending=False)"
   ],
   "metadata": {
    "collapsed": false
   }
  },
  {
   "cell_type": "code",
   "execution_count": 98,
   "outputs": [
    {
     "data": {
      "text/plain": "year_act  node_loc  mode  year_vtg\n2020      R12_AFR   M1    1960       NaN\n                          1965       NaN\n                          1970       NaN\n                          1975       NaN\n                          1980       NaN\n                                      ..\n2090      R12_AFR   M1    2080       NaN\n2100      R12_AFR   M1    2080       NaN\n                          2100       NaN\n2110      R12_AFR   M1    2100       NaN\n                          2110       NaN\nLength: 632, dtype: float64"
     },
     "execution_count": 98,
     "metadata": {},
     "output_type": "execute_result"
    }
   ],
   "source": [
    "df_gas_t_d.swaplevel(0,2).loc[\"coal_ppl_u\"][\"emi_factor\"] / df_gas_t_d.swaplevel(0,2).loc[\"coal_ppl_u\"][\"Value\"]"
   ],
   "metadata": {
    "collapsed": false
   }
  },
  {
   "cell_type": "code",
   "execution_count": 96,
   "outputs": [
    {
     "name": "stdout",
     "output_type": "stream",
     "text": [
      "coal_adv\n",
      "coal_bal\n",
      "coal_exp\n",
      "coal_extr\n",
      "coal_extr_ch4\n",
      "coal_i\n",
      "coal_ppl\n",
      "coal_ppl_u\n",
      "coal_rc\n",
      "coal_t_d\n",
      "furnace_coal_aluminum\n",
      "furnace_coal_cement\n",
      "furnace_coal_refining\n",
      "furnace_coal_petro\n",
      "coal_hpl\n",
      "furnace_coal_resins\n",
      "coal_imp\n",
      "meth_coal\n",
      "coal_NH3\n",
      "coal_trd\n",
      "sp_coal_I\n",
      "coal_gas\n",
      "h2_coal\n"
     ]
    },
    {
     "data": {
      "text/plain": "<Figure size 2880x1440 with 16 Axes>",
      "image/png": "[encoded data removed]"
     },
     "metadata": {},
     "output_type": "display_data"
    }
   ],
   "source": [
    "import math\n",
    "import matplotlib.pyplot as plt\n",
    "fig, axs = plt.subplots(int(math.sqrt(len(tec_list))), int(math.sqrt(len(tec_list))), figsize=(40,20), facecolor=\"w\")\n",
    "ax_it = iter(fig.axes)\n",
    "for k in tec_list:\n",
    "    print(k)\n",
    "    try:\n",
    "        tec = k\n",
    "        y = ef_false.swaplevel(0,2).loc[tec].droplevel([3,2]).reset_index()\n",
    "        ax = next((ax_it))\n",
    "        y.plot.scatter(x=\"year_act\", y=0, ax=ax)\n",
    "        ax.plot([ef_dict[tec_comm_map[tec]]]*len(y.year_act.unique()), color=\"red\")\n",
    "        ax.set_ylabel(\"Mt C / GWa\")\n",
    "        ax.set_title(tec)\n",
    "        ax.set_xlabel(\"\")\n",
    "    except:\n",
    "        pass"
   ],
   "metadata": {
    "collapsed": false
   }
  },
  {
   "cell_type": "code",
   "execution_count": 64,
   "outputs": [],
   "source": [
    "fig.savefig(\"test.png\", facecolor=\"w\")"
   ],
   "metadata": {
    "collapsed": false
   }
  },
  {
   "cell_type": "code",
   "execution_count": null,
   "outputs": [],
   "source": [
    "ef_false.swaplevel(0,2).loc[\"hp_gas_i\"].droplevel([3,2]).reset_index()"
   ],
   "metadata": {
    "collapsed": false
   }
  },
  {
   "cell_type": "markdown",
   "source": [
    "## aggregated emissions comparison"
   ],
   "metadata": {
    "collapsed": false
   }
  },
  {
   "cell_type": "code",
   "execution_count": null,
   "outputs": [],
   "source": [
    "df_gas_t_d[\"loss\"] = (df_gas_t_d[\"Value\"] - 1) * df_gas_t_d[\"Level\"]\n",
    "t_d_emi = (df_gas_t_d[\"emi_factor\"] * df_gas_t_d[\"Level\"]).groupby([\"year_act\"]).sum() * co2_c_factor"
   ],
   "metadata": {
    "collapsed": false
   }
  },
  {
   "cell_type": "code",
   "execution_count": null,
   "outputs": [],
   "source": [
    "df_gas_t_d[\"emi_factor_corr\"] = (df_gas_t_d[\"Value\"] - 1) * df_gas_t_d[\"ef\"]\n",
    "t_d_emi_corr =(df_gas_t_d[\"emi_factor_corr\"] * df_gas_t_d[\"Level\"]).groupby([\"year_act\"]).sum() * co2_c_factor"
   ],
   "metadata": {
    "collapsed": false
   }
  },
  {
   "cell_type": "code",
   "execution_count": null,
   "outputs": [],
   "source": [
    "fig,ax = plt.subplots(figsize=(10,5))\n",
    "t_d_emi.plot(ax=ax)\n",
    "t_d_emi_corr.plot(ax=ax)\n",
    "ax.set_ylabel(\"Mt CO2\")\n",
    "ax.set_title(\"CO2 Emissions from t_d technologies\")\n",
    "ax.legend([\"current CO2_cc\", \"corrected CO2_cc\"])"
   ],
   "metadata": {
    "collapsed": false
   }
  },
  {
   "cell_type": "code",
   "execution_count": null,
   "outputs": [],
   "source": [
    "df_gas_t_d.swaplevel(0,2).loc[\"gas_t_d\"]"
   ],
   "metadata": {
    "collapsed": false
   }
  },
  {
   "cell_type": "code",
   "execution_count": null,
   "outputs": [],
   "source": [
    "act_in_yr_reg = act_in.loc[region, year]\n",
    "comm = \"coal\"\n",
    "bott_dict = {\n",
    "    \"coal\":top_yr_reg_gas,\n",
    "    \"gas\":bott_yr_reg_gas\n",
    "}\n",
    "bott_yr_reg_coal_merge = bott_dict[comm].copy(deep=True)\n",
    "x = act_in_yr_reg[(act_in_yr_reg.index.get_level_values(0).str.contains(comm)) & (act_in_yr_reg[\"commodity\"]==comm) & (act_in_yr_reg[\"level\"]==\"final\")].join(bott_yr_reg_coal_merge.rename({\"Value\": \"emi_factor\"}, axis=1)[\"emi_factor\"])\n",
    "x = act_in_yr_reg[(act_in_yr_reg[\"commodity\"]==comm)].join(bott_yr_reg_coal_merge.rename({\"Value\": \"emi_factor\"}, axis=1)[\"emi_factor\"])\n",
    "x#.sum()"
   ],
   "metadata": {
    "collapsed": false
   }
  },
  {
   "cell_type": "code",
   "execution_count": null,
   "outputs": [],
   "source": [
    "x#(x[\"emi_factor\"]/ x[\"Value\"]).dropna()"
   ],
   "metadata": {
    "collapsed": false
   }
  },
  {
   "cell_type": "markdown",
   "source": [],
   "metadata": {
    "collapsed": false
   }
  },
  {
   "cell_type": "markdown",
   "source": [
    "## oil emissions"
   ],
   "metadata": {
    "collapsed": false
   }
  },
  {
   "cell_type": "code",
   "execution_count": null,
   "outputs": [],
   "source": [
    "df_bot_oil = get_bot_up_emi_by_fuel(emi_bott_up, region, year)[1]"
   ],
   "metadata": {
    "collapsed": false
   }
  },
  {
   "cell_type": "code",
   "execution_count": null,
   "outputs": [],
   "source": [
    "df_bot_oil[df_bot_oil.index.get_level_values(0).str.contains(\"extr\")].sum()"
   ],
   "metadata": {
    "collapsed": false
   }
  },
  {
   "cell_type": "code",
   "execution_count": null,
   "outputs": [],
   "source": [
    "emi_bot_up_refining = df_bot_oil.loc[df_bot_oil.index.get_level_values(0).str.endswith(\"_ref\")]#.sum()\n",
    "emi_bot_up_extr = df_bot_oil.loc[df_bot_oil.index.get_level_values(0).str.contains(\"extr\")]\n",
    "emi_bot_up_final = df_bot_oil.loc[(df_bot_oil.index.difference(emi_bot_up_refining.index)) & (df_bot_oil.index.difference(emi_bot_up_extr.index))]"
   ],
   "metadata": {
    "collapsed": false
   }
  },
  {
   "cell_type": "code",
   "execution_count": null,
   "outputs": [],
   "source": [
    "emi_bot_up_refining.sum()"
   ],
   "metadata": {
    "collapsed": false
   }
  },
  {
   "cell_type": "code",
   "execution_count": null,
   "outputs": [],
   "source": [
    "emi_bot_up_final.sort_values(\"emi\")"
   ],
   "metadata": {
    "collapsed": false
   }
  },
  {
   "cell_type": "code",
   "execution_count": null,
   "outputs": [],
   "source": [
    "print(\"extraction emissions: \",emi_bot_up_extr.sum()[\"emi\"])\n",
    "print(\"refining emissions: \",emi_bot_up_refining.sum()[\"emi\"])\n",
    "print(\"combustion emissions: \",emi_bot_up_final.sum()[\"emi\"])"
   ],
   "metadata": {
    "collapsed": false
   }
  },
  {
   "cell_type": "code",
   "execution_count": null,
   "outputs": [],
   "source": [
    "inp_hyd_crack = act_in.loc[region, year, \"hydro_cracking_ref\"]\n",
    "inp_hyd_crack[inp_hyd_crack[\"commodity\"] == \"hydrogen\"].sum()"
   ],
   "metadata": {
    "collapsed": false
   }
  },
  {
   "cell_type": "code",
   "execution_count": null,
   "outputs": [],
   "source": [
    "inp_steam_crack = act_in.loc[region, year, \"steam_cracker_petro\"]\n",
    "inp_steam_crack[~inp_steam_crack[\"commodity\"].isin([\"ethane\",\"propane\", \"electr\", \"ht_heat\"])].sum()[\"input\"] * 0.64"
   ],
   "metadata": {
    "collapsed": false
   }
  },
  {
   "cell_type": "code",
   "execution_count": null,
   "outputs": [],
   "source": [
    "df_top_oil = get_top_dn_emi_by_fuel(emi_top_down, region, year)[1]"
   ],
   "metadata": {
    "collapsed": false
   }
  },
  {
   "cell_type": "code",
   "execution_count": null,
   "outputs": [],
   "source": [
    "df_top_oil.loc[df_top_oil.index.get_level_values(0).str.startswith(\"oil\")].sum()"
   ],
   "metadata": {
    "collapsed": false
   }
  },
  {
   "cell_type": "code",
   "execution_count": null,
   "outputs": [],
   "source": [
    "df_top_oil.loc[~df_top_oil.index.get_level_values(0).str.endswith(\"ref\")]#.sum()#.sort_index()"
   ],
   "metadata": {
    "collapsed": false
   }
  },
  {
   "cell_type": "code",
   "execution_count": null,
   "outputs": [],
   "source": [
    "carbon_out_foil_loil_exp = df_top_oil[df_top_oil.index.get_level_values(0).str.contains(\"loil\")].sum()[\"emi\"] + df_top_oil[df_top_oil.index.get_level_values(0).str.contains(\"foil\")].sum()[\"emi\"]"
   ],
   "metadata": {
    "collapsed": false
   }
  },
  {
   "cell_type": "code",
   "execution_count": null,
   "outputs": [],
   "source": [
    "act_out.swaplevel(0,2).loc[\"MTO_petro\"].loc[\"2025\", \"R12_CHN\"].sum()#.groupby(\"year_act\").sum()"
   ],
   "metadata": {
    "collapsed": false
   }
  }
 ],
 "metadata": {
  "kernelspec": {
   "display_name": "Python 3",
   "language": "python",
   "name": "python3"
  },
  "language_info": {
   "codemirror_mode": {
    "name": "ipython",
    "version": 2
   },
   "file_extension": ".py",
   "mimetype": "text/x-python",
   "name": "python",
   "nbconvert_exporter": "python",
   "pygments_lexer": "ipython2",
   "version": "2.7.6"
  }
 },
 "nbformat": 4,
 "nbformat_minor": 0
}
