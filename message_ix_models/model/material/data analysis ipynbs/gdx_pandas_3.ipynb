{
 "cells": [
  {
   "cell_type": "code",
   "execution_count": 3,
   "metadata": {
    "collapsed": true
   },
   "outputs": [],
   "source": [
    "import gdxpds\n",
    "import pandas as pd\n",
    "co2_c_factor = 44/12"
   ]
  },
  {
   "cell_type": "code",
   "execution_count": 4,
   "outputs": [],
   "source": [
    "#gdx_file = 'C:/Users\\maczek\\PycharmProjects\\message_ix\\message_ix\\model\\output\\MsgOutput_MESSAGEix-Materials_2.0deg_petro_thesis_2_macro.gdx'\n",
    "#gdx_file = 'C:/Users\\maczek\\PycharmProjects\\message_ix\\message_ix\\model\\output\\MsgOutput_MESSAGEix-Materials_2.0deg_petro_thesis_2_macro_w_ENGAGE_fixes_test_loil_exp_fix.gdx'\n",
    "gdx_file = 'C:/Users\\maczek\\PycharmProjects\\message_ix\\message_ix\\model\\output\\MsgOutput_ENGAGE_SSP2_v4.1.8.3_T4.5_r3.1_baseline_magpie.gdx'\n",
    "#gdx_file = 'C:/Users\\maczek\\PycharmProjects\\message_ix\\message_ix\\model\\output\\MsgOutput_MESSAGEix-Materials_NoPolicy_petro_thesis_2_w_ENGAGE_fixes_test_build_2_macro.gdx'\n",
    "#gdx_file = 'C:/Users\\maczek\\PycharmProjects\\message_ix\\message_ix\\model\\output/thesis final/MsgOutput_MESSAGEix-Materials_NoPolicy_petro_thesis_2_final_macro.gdx'\n",
    "dataframes = gdxpds.to_dataframes(gdx_file)"
   ],
   "metadata": {
    "collapsed": false
   }
  },
  {
   "cell_type": "code",
   "execution_count": 5,
   "outputs": [],
   "source": [
    "hist_act = dataframes[\"historical_activity\"]"
   ],
   "metadata": {
    "collapsed": false
   }
  },
  {
   "cell_type": "code",
   "execution_count": 15,
   "outputs": [],
   "source": [
    "#h\n",
    "hist_act = hist_act[hist_act[\"year_all\"]==\"2015\"]\n",
    "hist_act_rcpa = hist_act[hist_act[\"node\"]==\"R12_RCPA\"]\n",
    "hist_act_chn = hist_act[hist_act[\"node\"]==\"R12_CHN\"]\n",
    "hist_act_merge = hist_act_rcpa.merge(hist_act_chn, left_on=\"tec\", right_on=\"tec\")\n",
    "hist_act_merge[\"ratio\"] = hist_act_merge[\"Value_x\"] / hist_act_merge[\"Value_y\"]"
   ],
   "metadata": {
    "collapsed": false
   }
  },
  {
   "cell_type": "code",
   "execution_count": 21,
   "outputs": [
    {
     "data": {
      "text/plain": "       node_x                     tec year_all_x      mode_x time_x   Value_x  \\\n35   R12_RCPA                elec_trp       2015          M1   year  5.000000   \n54   R12_RCPA           gas_extr_mpen       2015          M1   year  0.100000   \n81   R12_RCPA                 oil_exp       2015          M1   year  1.000000   \n85   R12_RCPA           oil_extr_mpen       2015          M1   year  0.100000   \n156  R12_RCPA               eaf_steel       2015          M2   year  0.893333   \n165  R12_RCPA  catalytic_cracking_ref       2015  atm_gasoil   year  5.953922   \n173  R12_RCPA            import_petro       2015          M1   year  0.120969   \n174  R12_RCPA            export_petro       2015          M1   year  0.004573   \n175  R12_RCPA                 gas_NH3       2015          M1   year  0.165746   \n176  R12_RCPA                coal_NH3       2015          M1   year  0.834254   \n177  R12_RCPA            export_NFert       2015          M1   year  0.041194   \n180  R12_RCPA                meth_exp       2015   feedstock   year  0.000272   \n181  R12_RCPA                meth_exp       2015   feedstock   year  0.000272   \n182  R12_RCPA                meth_exp       2015        fuel   year  0.000272   \n183  R12_RCPA                meth_exp       2015        fuel   year  0.000272   \n184  R12_RCPA                meth_imp       2015   feedstock   year  0.177914   \n185  R12_RCPA                meth_imp       2015   feedstock   year  0.177914   \n186  R12_RCPA                meth_imp       2015        fuel   year  0.177914   \n187  R12_RCPA                meth_imp       2015        fuel   year  0.177914   \n\n      node_y year_all_y         mode_y time_y     Value_y     ratio  \n35   R12_CHN       2015             M1   year   54.270254  0.092132  \n54   R12_CHN       2015             M1   year  153.154140  0.000653  \n81   R12_CHN       2015             M1   year   51.318611  0.019486  \n85   R12_CHN       2015             M1   year  250.804477  0.000399  \n156  R12_CHN       2015             M1   year   72.360000  0.012346  \n165  R12_CHN       2015  vacuum_gasoil   year  112.350506  0.052994  \n173  R12_CHN       2015             M1   year   18.270686  0.006621  \n174  R12_CHN       2015             M1   year    0.221271  0.020667  \n175  R12_CHN       2015             M1   year    9.662983  0.017153  \n176  R12_CHN       2015             M1   year   48.637017  0.017153  \n177  R12_CHN       2015             M1   year   20.080371  0.002051  \n180  R12_CHN       2015      feedstock   year    0.096487  0.002823  \n181  R12_CHN       2015           fuel   year    0.096487  0.002823  \n182  R12_CHN       2015      feedstock   year    0.096487  0.002823  \n183  R12_CHN       2015           fuel   year    0.096487  0.002823  \n184  R12_CHN       2015      feedstock   year    3.405133  0.052249  \n185  R12_CHN       2015           fuel   year    3.405133  0.052249  \n186  R12_CHN       2015      feedstock   year    3.405133  0.052249  \n187  R12_CHN       2015           fuel   year    3.405133  0.052249  ",
      "text/html": "<div>\n<style scoped>\n    .dataframe tbody tr th:only-of-type {\n        vertical-align: middle;\n    }\n\n    .dataframe tbody tr th {\n        vertical-align: top;\n    }\n\n    .dataframe thead th {\n        text-align: right;\n    }\n</style>\n<table border=\"1\" class=\"dataframe\">\n  <thead>\n    <tr style=\"text-align: right;\">\n      <th></th>\n      <th>node_x</th>\n      <th>tec</th>\n      <th>year_all_x</th>\n      <th>mode_x</th>\n      <th>time_x</th>\n      <th>Value_x</th>\n      <th>node_y</th>\n      <th>year_all_y</th>\n      <th>mode_y</th>\n      <th>time_y</th>\n      <th>Value_y</th>\n      <th>ratio</th>\n    </tr>\n  </thead>\n  <tbody>\n    <tr>\n      <th>35</th>\n      <td>R12_RCPA</td>\n      <td>elec_trp</td>\n      <td>2015</td>\n      <td>M1</td>\n      <td>year</td>\n      <td>5.000000</td>\n      <td>R12_CHN</td>\n      <td>2015</td>\n      <td>M1</td>\n      <td>year</td>\n      <td>54.270254</td>\n      <td>0.092132</td>\n    </tr>\n    <tr>\n      <th>54</th>\n      <td>R12_RCPA</td>\n      <td>gas_extr_mpen</td>\n      <td>2015</td>\n      <td>M1</td>\n      <td>year</td>\n      <td>0.100000</td>\n      <td>R12_CHN</td>\n      <td>2015</td>\n      <td>M1</td>\n      <td>year</td>\n      <td>153.154140</td>\n      <td>0.000653</td>\n    </tr>\n    <tr>\n      <th>81</th>\n      <td>R12_RCPA</td>\n      <td>oil_exp</td>\n      <td>2015</td>\n      <td>M1</td>\n      <td>year</td>\n      <td>1.000000</td>\n      <td>R12_CHN</td>\n      <td>2015</td>\n      <td>M1</td>\n      <td>year</td>\n      <td>51.318611</td>\n      <td>0.019486</td>\n    </tr>\n    <tr>\n      <th>85</th>\n      <td>R12_RCPA</td>\n      <td>oil_extr_mpen</td>\n      <td>2015</td>\n      <td>M1</td>\n      <td>year</td>\n      <td>0.100000</td>\n      <td>R12_CHN</td>\n      <td>2015</td>\n      <td>M1</td>\n      <td>year</td>\n      <td>250.804477</td>\n      <td>0.000399</td>\n    </tr>\n    <tr>\n      <th>156</th>\n      <td>R12_RCPA</td>\n      <td>eaf_steel</td>\n      <td>2015</td>\n      <td>M2</td>\n      <td>year</td>\n      <td>0.893333</td>\n      <td>R12_CHN</td>\n      <td>2015</td>\n      <td>M1</td>\n      <td>year</td>\n      <td>72.360000</td>\n      <td>0.012346</td>\n    </tr>\n    <tr>\n      <th>165</th>\n      <td>R12_RCPA</td>\n      <td>catalytic_cracking_ref</td>\n      <td>2015</td>\n      <td>atm_gasoil</td>\n      <td>year</td>\n      <td>5.953922</td>\n      <td>R12_CHN</td>\n      <td>2015</td>\n      <td>vacuum_gasoil</td>\n      <td>year</td>\n      <td>112.350506</td>\n      <td>0.052994</td>\n    </tr>\n    <tr>\n      <th>173</th>\n      <td>R12_RCPA</td>\n      <td>import_petro</td>\n      <td>2015</td>\n      <td>M1</td>\n      <td>year</td>\n      <td>0.120969</td>\n      <td>R12_CHN</td>\n      <td>2015</td>\n      <td>M1</td>\n      <td>year</td>\n      <td>18.270686</td>\n      <td>0.006621</td>\n    </tr>\n    <tr>\n      <th>174</th>\n      <td>R12_RCPA</td>\n      <td>export_petro</td>\n      <td>2015</td>\n      <td>M1</td>\n      <td>year</td>\n      <td>0.004573</td>\n      <td>R12_CHN</td>\n      <td>2015</td>\n      <td>M1</td>\n      <td>year</td>\n      <td>0.221271</td>\n      <td>0.020667</td>\n    </tr>\n    <tr>\n      <th>175</th>\n      <td>R12_RCPA</td>\n      <td>gas_NH3</td>\n      <td>2015</td>\n      <td>M1</td>\n      <td>year</td>\n      <td>0.165746</td>\n      <td>R12_CHN</td>\n      <td>2015</td>\n      <td>M1</td>\n      <td>year</td>\n      <td>9.662983</td>\n      <td>0.017153</td>\n    </tr>\n    <tr>\n      <th>176</th>\n      <td>R12_RCPA</td>\n      <td>coal_NH3</td>\n      <td>2015</td>\n      <td>M1</td>\n      <td>year</td>\n      <td>0.834254</td>\n      <td>R12_CHN</td>\n      <td>2015</td>\n      <td>M1</td>\n      <td>year</td>\n      <td>48.637017</td>\n      <td>0.017153</td>\n    </tr>\n    <tr>\n      <th>177</th>\n      <td>R12_RCPA</td>\n      <td>export_NFert</td>\n      <td>2015</td>\n      <td>M1</td>\n      <td>year</td>\n      <td>0.041194</td>\n      <td>R12_CHN</td>\n      <td>2015</td>\n      <td>M1</td>\n      <td>year</td>\n      <td>20.080371</td>\n      <td>0.002051</td>\n    </tr>\n    <tr>\n      <th>180</th>\n      <td>R12_RCPA</td>\n      <td>meth_exp</td>\n      <td>2015</td>\n      <td>feedstock</td>\n      <td>year</td>\n      <td>0.000272</td>\n      <td>R12_CHN</td>\n      <td>2015</td>\n      <td>feedstock</td>\n      <td>year</td>\n      <td>0.096487</td>\n      <td>0.002823</td>\n    </tr>\n    <tr>\n      <th>181</th>\n      <td>R12_RCPA</td>\n      <td>meth_exp</td>\n      <td>2015</td>\n      <td>feedstock</td>\n      <td>year</td>\n      <td>0.000272</td>\n      <td>R12_CHN</td>\n      <td>2015</td>\n      <td>fuel</td>\n      <td>year</td>\n      <td>0.096487</td>\n      <td>0.002823</td>\n    </tr>\n    <tr>\n      <th>182</th>\n      <td>R12_RCPA</td>\n      <td>meth_exp</td>\n      <td>2015</td>\n      <td>fuel</td>\n      <td>year</td>\n      <td>0.000272</td>\n      <td>R12_CHN</td>\n      <td>2015</td>\n      <td>feedstock</td>\n      <td>year</td>\n      <td>0.096487</td>\n      <td>0.002823</td>\n    </tr>\n    <tr>\n      <th>183</th>\n      <td>R12_RCPA</td>\n      <td>meth_exp</td>\n      <td>2015</td>\n      <td>fuel</td>\n      <td>year</td>\n      <td>0.000272</td>\n      <td>R12_CHN</td>\n      <td>2015</td>\n      <td>fuel</td>\n      <td>year</td>\n      <td>0.096487</td>\n      <td>0.002823</td>\n    </tr>\n    <tr>\n      <th>184</th>\n      <td>R12_RCPA</td>\n      <td>meth_imp</td>\n      <td>2015</td>\n      <td>feedstock</td>\n      <td>year</td>\n      <td>0.177914</td>\n      <td>R12_CHN</td>\n      <td>2015</td>\n      <td>feedstock</td>\n      <td>year</td>\n      <td>3.405133</td>\n      <td>0.052249</td>\n    </tr>\n    <tr>\n      <th>185</th>\n      <td>R12_RCPA</td>\n      <td>meth_imp</td>\n      <td>2015</td>\n      <td>feedstock</td>\n      <td>year</td>\n      <td>0.177914</td>\n      <td>R12_CHN</td>\n      <td>2015</td>\n      <td>fuel</td>\n      <td>year</td>\n      <td>3.405133</td>\n      <td>0.052249</td>\n    </tr>\n    <tr>\n      <th>186</th>\n      <td>R12_RCPA</td>\n      <td>meth_imp</td>\n      <td>2015</td>\n      <td>fuel</td>\n      <td>year</td>\n      <td>0.177914</td>\n      <td>R12_CHN</td>\n      <td>2015</td>\n      <td>feedstock</td>\n      <td>year</td>\n      <td>3.405133</td>\n      <td>0.052249</td>\n    </tr>\n    <tr>\n      <th>187</th>\n      <td>R12_RCPA</td>\n      <td>meth_imp</td>\n      <td>2015</td>\n      <td>fuel</td>\n      <td>year</td>\n      <td>0.177914</td>\n      <td>R12_CHN</td>\n      <td>2015</td>\n      <td>fuel</td>\n      <td>year</td>\n      <td>3.405133</td>\n      <td>0.052249</td>\n    </tr>\n  </tbody>\n</table>\n</div>"
     },
     "execution_count": 21,
     "metadata": {},
     "output_type": "execute_result"
    }
   ],
   "source": [
    "hist_act_merge[hist_act_merge[\"ratio\"]<0.111]"
   ],
   "metadata": {
    "collapsed": false
   }
  },
  {
   "cell_type": "code",
   "execution_count": 38,
   "outputs": [
    {
     "data": {
      "text/plain": "         node   commodity           level year_all  time     Level  Marginal  \\\n0     R12_AFR         NH3  final_material     2020  year  2.500000       0.0   \n1     R12_AFR         NH3  final_material     2025  year  2.735064       0.0   \n2     R12_AFR         NH3  final_material     2030  year  2.906112       0.0   \n3     R12_AFR         NH3  final_material     2035  year  3.156448       0.0   \n4     R12_AFR         NH3  final_material     2040  year  3.342780       0.0   \n...       ...         ...             ...      ...   ...       ...       ...   \n2060  R12_CHN  fcoh_resin  final_material     2060  year  0.282172       0.0   \n2061  R12_CHN  fcoh_resin  final_material     2070  year  0.215595       0.0   \n2062  R12_CHN  fcoh_resin  final_material     2080  year  0.094929       0.0   \n2063  R12_CHN  fcoh_resin  final_material     2090  year  0.030637       0.0   \n2064  R12_CHN  fcoh_resin  final_material     2100  year  0.011176       0.0   \n\n              Lower          Upper  Scale  \n0     4.000000e+300  3.000000e+300    1.0  \n1     4.000000e+300  3.000000e+300    1.0  \n2     4.000000e+300  3.000000e+300    1.0  \n3     4.000000e+300  3.000000e+300    1.0  \n4     4.000000e+300  3.000000e+300    1.0  \n...             ...            ...    ...  \n2060  4.000000e+300  3.000000e+300    1.0  \n2061  4.000000e+300  3.000000e+300    1.0  \n2062  4.000000e+300  3.000000e+300    1.0  \n2063  4.000000e+300  3.000000e+300    1.0  \n2064  4.000000e+300  3.000000e+300    1.0  \n\n[2065 rows x 10 columns]",
      "text/html": "<div>\n<style scoped>\n    .dataframe tbody tr th:only-of-type {\n        vertical-align: middle;\n    }\n\n    .dataframe tbody tr th {\n        vertical-align: top;\n    }\n\n    .dataframe thead th {\n        text-align: right;\n    }\n</style>\n<table border=\"1\" class=\"dataframe\">\n  <thead>\n    <tr style=\"text-align: right;\">\n      <th></th>\n      <th>node</th>\n      <th>commodity</th>\n      <th>level</th>\n      <th>year_all</th>\n      <th>time</th>\n      <th>Level</th>\n      <th>Marginal</th>\n      <th>Lower</th>\n      <th>Upper</th>\n      <th>Scale</th>\n    </tr>\n  </thead>\n  <tbody>\n    <tr>\n      <th>0</th>\n      <td>R12_AFR</td>\n      <td>NH3</td>\n      <td>final_material</td>\n      <td>2020</td>\n      <td>year</td>\n      <td>2.500000</td>\n      <td>0.0</td>\n      <td>4.000000e+300</td>\n      <td>3.000000e+300</td>\n      <td>1.0</td>\n    </tr>\n    <tr>\n      <th>1</th>\n      <td>R12_AFR</td>\n      <td>NH3</td>\n      <td>final_material</td>\n      <td>2025</td>\n      <td>year</td>\n      <td>2.735064</td>\n      <td>0.0</td>\n      <td>4.000000e+300</td>\n      <td>3.000000e+300</td>\n      <td>1.0</td>\n    </tr>\n    <tr>\n      <th>2</th>\n      <td>R12_AFR</td>\n      <td>NH3</td>\n      <td>final_material</td>\n      <td>2030</td>\n      <td>year</td>\n      <td>2.906112</td>\n      <td>0.0</td>\n      <td>4.000000e+300</td>\n      <td>3.000000e+300</td>\n      <td>1.0</td>\n    </tr>\n    <tr>\n      <th>3</th>\n      <td>R12_AFR</td>\n      <td>NH3</td>\n      <td>final_material</td>\n      <td>2035</td>\n      <td>year</td>\n      <td>3.156448</td>\n      <td>0.0</td>\n      <td>4.000000e+300</td>\n      <td>3.000000e+300</td>\n      <td>1.0</td>\n    </tr>\n    <tr>\n      <th>4</th>\n      <td>R12_AFR</td>\n      <td>NH3</td>\n      <td>final_material</td>\n      <td>2040</td>\n      <td>year</td>\n      <td>3.342780</td>\n      <td>0.0</td>\n      <td>4.000000e+300</td>\n      <td>3.000000e+300</td>\n      <td>1.0</td>\n    </tr>\n    <tr>\n      <th>...</th>\n      <td>...</td>\n      <td>...</td>\n      <td>...</td>\n      <td>...</td>\n      <td>...</td>\n      <td>...</td>\n      <td>...</td>\n      <td>...</td>\n      <td>...</td>\n      <td>...</td>\n    </tr>\n    <tr>\n      <th>2060</th>\n      <td>R12_CHN</td>\n      <td>fcoh_resin</td>\n      <td>final_material</td>\n      <td>2060</td>\n      <td>year</td>\n      <td>0.282172</td>\n      <td>0.0</td>\n      <td>4.000000e+300</td>\n      <td>3.000000e+300</td>\n      <td>1.0</td>\n    </tr>\n    <tr>\n      <th>2061</th>\n      <td>R12_CHN</td>\n      <td>fcoh_resin</td>\n      <td>final_material</td>\n      <td>2070</td>\n      <td>year</td>\n      <td>0.215595</td>\n      <td>0.0</td>\n      <td>4.000000e+300</td>\n      <td>3.000000e+300</td>\n      <td>1.0</td>\n    </tr>\n    <tr>\n      <th>2062</th>\n      <td>R12_CHN</td>\n      <td>fcoh_resin</td>\n      <td>final_material</td>\n      <td>2080</td>\n      <td>year</td>\n      <td>0.094929</td>\n      <td>0.0</td>\n      <td>4.000000e+300</td>\n      <td>3.000000e+300</td>\n      <td>1.0</td>\n    </tr>\n    <tr>\n      <th>2063</th>\n      <td>R12_CHN</td>\n      <td>fcoh_resin</td>\n      <td>final_material</td>\n      <td>2090</td>\n      <td>year</td>\n      <td>0.030637</td>\n      <td>0.0</td>\n      <td>4.000000e+300</td>\n      <td>3.000000e+300</td>\n      <td>1.0</td>\n    </tr>\n    <tr>\n      <th>2064</th>\n      <td>R12_CHN</td>\n      <td>fcoh_resin</td>\n      <td>final_material</td>\n      <td>2100</td>\n      <td>year</td>\n      <td>0.011176</td>\n      <td>0.0</td>\n      <td>4.000000e+300</td>\n      <td>3.000000e+300</td>\n      <td>1.0</td>\n    </tr>\n  </tbody>\n</table>\n<p>2065 rows × 10 columns</p>\n</div>"
     },
     "execution_count": 38,
     "metadata": {},
     "output_type": "execute_result"
    }
   ],
   "source": [
    "hist_act = dataframes[\"DEMAND\"]\n",
    "hist_act"
   ],
   "metadata": {
    "collapsed": false
   }
  },
  {
   "cell_type": "code",
   "execution_count": 70,
   "outputs": [],
   "source": [
    "#h\n",
    "hist_act = hist_act[hist_act[\"year_all\"]==\"2020\"]\n",
    "#hist_act = hist_act.set_index([\"commodity\", \"level\"])\n",
    "hist_act_rcpa = hist_act[hist_act[\"node\"]==\"R12_RCPA\"]\n",
    "hist_act_chn = hist_act[hist_act[\"node\"]==\"R12_CHN\"]\n",
    "\n",
    "hist_act_merge = hist_act_rcpa.join(hist_act_chn[\"Level\"], rsuffix=\"_x\")\n",
    "hist_act_merge[\"ratio\"] = hist_act_merge[\"Level\"] / hist_act_merge[\"Level_x\"]"
   ],
   "metadata": {
    "collapsed": false
   }
  },
  {
   "cell_type": "code",
   "execution_count": 71,
   "outputs": [
    {
     "data": {
      "text/plain": "                               node year_all  time       Level  Marginal  \\\ncommodity  level                                                           \nNH3        final_material  R12_RCPA     2020  year    2.500000       0.0   \nmethanol   final_material  R12_RCPA     2020  year    0.204400       0.0   \ni_spec     useful          R12_RCPA     2020  year   16.366848       0.0   \ni_therm    useful          R12_RCPA     2020  year   25.932783       0.0   \nnon-comm   useful          R12_RCPA     2020  year    2.142900       0.0   \nrc_spec    useful          R12_RCPA     2020  year    9.493912       0.0   \nrc_therm   useful          R12_RCPA     2020  year   34.041000       0.0   \ntransport  useful          R12_RCPA     2020  year   55.257000       0.0   \nsteel      demand          R12_RCPA     2020  year   12.083479       0.0   \ncement     demand          R12_RCPA     2020  year  237.872109       0.0   \naluminum   demand          R12_RCPA     2020  year    1.999989       0.0   \nHVC        demand          R12_RCPA     2020  year    0.440000       0.0   \nfcoh_resin final_material  R12_RCPA     2020  year    0.058829       0.0   \n\n                                   Lower          Upper  Scale      Level_x  \\\ncommodity  level                                                              \nNH3        final_material  4.000000e+300  3.000000e+300    1.0    18.000000   \nmethanol   final_material  4.000000e+300  3.000000e+300    1.0    24.732400   \ni_spec     useful          4.000000e+300  3.000000e+300    1.0   147.301632   \ni_therm    useful          4.000000e+300  3.000000e+300    1.0   233.395048   \nnon-comm   useful          4.000000e+300  3.000000e+300    1.0    19.286100   \nrc_spec    useful          4.000000e+300  3.000000e+300    1.0    85.445212   \nrc_therm   useful          4.000000e+300  3.000000e+300    1.0   306.369000   \ntransport  useful          4.000000e+300  3.000000e+300    1.0   497.313000   \nsteel      demand          4.000000e+300  3.000000e+300    1.0   980.023775   \ncement     demand          4.000000e+300  3.000000e+300    1.0  2140.848982   \naluminum   demand          4.000000e+300  3.000000e+300    1.0    25.998916   \nHVC        demand          4.000000e+300  3.000000e+300    1.0    50.500000   \nfcoh_resin final_material  4.000000e+300  3.000000e+300    1.0     0.724910   \n\n                              ratio  \ncommodity  level                     \nNH3        final_material  0.138889  \nmethanol   final_material  0.008264  \ni_spec     useful          0.111111  \ni_therm    useful          0.111111  \nnon-comm   useful          0.111111  \nrc_spec    useful          0.111111  \nrc_therm   useful          0.111111  \ntransport  useful          0.111111  \nsteel      demand          0.012330  \ncement     demand          0.111111  \naluminum   demand          0.076926  \nHVC        demand          0.008713  \nfcoh_resin final_material  0.081154  ",
      "text/html": "<div>\n<style scoped>\n    .dataframe tbody tr th:only-of-type {\n        vertical-align: middle;\n    }\n\n    .dataframe tbody tr th {\n        vertical-align: top;\n    }\n\n    .dataframe thead th {\n        text-align: right;\n    }\n</style>\n<table border=\"1\" class=\"dataframe\">\n  <thead>\n    <tr style=\"text-align: right;\">\n      <th></th>\n      <th></th>\n      <th>node</th>\n      <th>year_all</th>\n      <th>time</th>\n      <th>Level</th>\n      <th>Marginal</th>\n      <th>Lower</th>\n      <th>Upper</th>\n      <th>Scale</th>\n      <th>Level_x</th>\n      <th>ratio</th>\n    </tr>\n    <tr>\n      <th>commodity</th>\n      <th>level</th>\n      <th></th>\n      <th></th>\n      <th></th>\n      <th></th>\n      <th></th>\n      <th></th>\n      <th></th>\n      <th></th>\n      <th></th>\n      <th></th>\n    </tr>\n  </thead>\n  <tbody>\n    <tr>\n      <th>NH3</th>\n      <th>final_material</th>\n      <td>R12_RCPA</td>\n      <td>2020</td>\n      <td>year</td>\n      <td>2.500000</td>\n      <td>0.0</td>\n      <td>4.000000e+300</td>\n      <td>3.000000e+300</td>\n      <td>1.0</td>\n      <td>18.000000</td>\n      <td>0.138889</td>\n    </tr>\n    <tr>\n      <th>methanol</th>\n      <th>final_material</th>\n      <td>R12_RCPA</td>\n      <td>2020</td>\n      <td>year</td>\n      <td>0.204400</td>\n      <td>0.0</td>\n      <td>4.000000e+300</td>\n      <td>3.000000e+300</td>\n      <td>1.0</td>\n      <td>24.732400</td>\n      <td>0.008264</td>\n    </tr>\n    <tr>\n      <th>i_spec</th>\n      <th>useful</th>\n      <td>R12_RCPA</td>\n      <td>2020</td>\n      <td>year</td>\n      <td>16.366848</td>\n      <td>0.0</td>\n      <td>4.000000e+300</td>\n      <td>3.000000e+300</td>\n      <td>1.0</td>\n      <td>147.301632</td>\n      <td>0.111111</td>\n    </tr>\n    <tr>\n      <th>i_therm</th>\n      <th>useful</th>\n      <td>R12_RCPA</td>\n      <td>2020</td>\n      <td>year</td>\n      <td>25.932783</td>\n      <td>0.0</td>\n      <td>4.000000e+300</td>\n      <td>3.000000e+300</td>\n      <td>1.0</td>\n      <td>233.395048</td>\n      <td>0.111111</td>\n    </tr>\n    <tr>\n      <th>non-comm</th>\n      <th>useful</th>\n      <td>R12_RCPA</td>\n      <td>2020</td>\n      <td>year</td>\n      <td>2.142900</td>\n      <td>0.0</td>\n      <td>4.000000e+300</td>\n      <td>3.000000e+300</td>\n      <td>1.0</td>\n      <td>19.286100</td>\n      <td>0.111111</td>\n    </tr>\n    <tr>\n      <th>rc_spec</th>\n      <th>useful</th>\n      <td>R12_RCPA</td>\n      <td>2020</td>\n      <td>year</td>\n      <td>9.493912</td>\n      <td>0.0</td>\n      <td>4.000000e+300</td>\n      <td>3.000000e+300</td>\n      <td>1.0</td>\n      <td>85.445212</td>\n      <td>0.111111</td>\n    </tr>\n    <tr>\n      <th>rc_therm</th>\n      <th>useful</th>\n      <td>R12_RCPA</td>\n      <td>2020</td>\n      <td>year</td>\n      <td>34.041000</td>\n      <td>0.0</td>\n      <td>4.000000e+300</td>\n      <td>3.000000e+300</td>\n      <td>1.0</td>\n      <td>306.369000</td>\n      <td>0.111111</td>\n    </tr>\n    <tr>\n      <th>transport</th>\n      <th>useful</th>\n      <td>R12_RCPA</td>\n      <td>2020</td>\n      <td>year</td>\n      <td>55.257000</td>\n      <td>0.0</td>\n      <td>4.000000e+300</td>\n      <td>3.000000e+300</td>\n      <td>1.0</td>\n      <td>497.313000</td>\n      <td>0.111111</td>\n    </tr>\n    <tr>\n      <th>steel</th>\n      <th>demand</th>\n      <td>R12_RCPA</td>\n      <td>2020</td>\n      <td>year</td>\n      <td>12.083479</td>\n      <td>0.0</td>\n      <td>4.000000e+300</td>\n      <td>3.000000e+300</td>\n      <td>1.0</td>\n      <td>980.023775</td>\n      <td>0.012330</td>\n    </tr>\n    <tr>\n      <th>cement</th>\n      <th>demand</th>\n      <td>R12_RCPA</td>\n      <td>2020</td>\n      <td>year</td>\n      <td>237.872109</td>\n      <td>0.0</td>\n      <td>4.000000e+300</td>\n      <td>3.000000e+300</td>\n      <td>1.0</td>\n      <td>2140.848982</td>\n      <td>0.111111</td>\n    </tr>\n    <tr>\n      <th>aluminum</th>\n      <th>demand</th>\n      <td>R12_RCPA</td>\n      <td>2020</td>\n      <td>year</td>\n      <td>1.999989</td>\n      <td>0.0</td>\n      <td>4.000000e+300</td>\n      <td>3.000000e+300</td>\n      <td>1.0</td>\n      <td>25.998916</td>\n      <td>0.076926</td>\n    </tr>\n    <tr>\n      <th>HVC</th>\n      <th>demand</th>\n      <td>R12_RCPA</td>\n      <td>2020</td>\n      <td>year</td>\n      <td>0.440000</td>\n      <td>0.0</td>\n      <td>4.000000e+300</td>\n      <td>3.000000e+300</td>\n      <td>1.0</td>\n      <td>50.500000</td>\n      <td>0.008713</td>\n    </tr>\n    <tr>\n      <th>fcoh_resin</th>\n      <th>final_material</th>\n      <td>R12_RCPA</td>\n      <td>2020</td>\n      <td>year</td>\n      <td>0.058829</td>\n      <td>0.0</td>\n      <td>4.000000e+300</td>\n      <td>3.000000e+300</td>\n      <td>1.0</td>\n      <td>0.724910</td>\n      <td>0.081154</td>\n    </tr>\n  </tbody>\n</table>\n</div>"
     },
     "execution_count": 71,
     "metadata": {},
     "output_type": "execute_result"
    }
   ],
   "source": [
    "hist_act_merge"
   ],
   "metadata": {
    "collapsed": false
   }
  },
  {
   "cell_type": "code",
   "execution_count": null,
   "outputs": [],
   "source": [
    "hist_act_merge[hist_act_merge[\"ratio\"]<0.111]"
   ],
   "metadata": {
    "collapsed": false
   }
  },
  {
   "cell_type": "code",
   "execution_count": 18,
   "outputs": [
    {
     "data": {
      "text/plain": "                            tec      ratio\n85                oil_extr_mpen   0.000399\n54                gas_extr_mpen   0.000653\n177                export_NFert   0.002051\n183                    meth_exp   0.002823\n182                    meth_exp   0.002823\n..                          ...        ...\n166      catalytic_cracking_ref   0.232963\n142  extract__freshwater_supply   0.250000\n179                  import_NH3   0.331096\n155                   eaf_steel   1.000000\n178                import_NFert  49.573951\n\n[188 rows x 2 columns]",
      "text/html": "<div>\n<style scoped>\n    .dataframe tbody tr th:only-of-type {\n        vertical-align: middle;\n    }\n\n    .dataframe tbody tr th {\n        vertical-align: top;\n    }\n\n    .dataframe thead th {\n        text-align: right;\n    }\n</style>\n<table border=\"1\" class=\"dataframe\">\n  <thead>\n    <tr style=\"text-align: right;\">\n      <th></th>\n      <th>tec</th>\n      <th>ratio</th>\n    </tr>\n  </thead>\n  <tbody>\n    <tr>\n      <th>85</th>\n      <td>oil_extr_mpen</td>\n      <td>0.000399</td>\n    </tr>\n    <tr>\n      <th>54</th>\n      <td>gas_extr_mpen</td>\n      <td>0.000653</td>\n    </tr>\n    <tr>\n      <th>177</th>\n      <td>export_NFert</td>\n      <td>0.002051</td>\n    </tr>\n    <tr>\n      <th>183</th>\n      <td>meth_exp</td>\n      <td>0.002823</td>\n    </tr>\n    <tr>\n      <th>182</th>\n      <td>meth_exp</td>\n      <td>0.002823</td>\n    </tr>\n    <tr>\n      <th>...</th>\n      <td>...</td>\n      <td>...</td>\n    </tr>\n    <tr>\n      <th>166</th>\n      <td>catalytic_cracking_ref</td>\n      <td>0.232963</td>\n    </tr>\n    <tr>\n      <th>142</th>\n      <td>extract__freshwater_supply</td>\n      <td>0.250000</td>\n    </tr>\n    <tr>\n      <th>179</th>\n      <td>import_NH3</td>\n      <td>0.331096</td>\n    </tr>\n    <tr>\n      <th>155</th>\n      <td>eaf_steel</td>\n      <td>1.000000</td>\n    </tr>\n    <tr>\n      <th>178</th>\n      <td>import_NFert</td>\n      <td>49.573951</td>\n    </tr>\n  </tbody>\n</table>\n<p>188 rows × 2 columns</p>\n</div>"
     },
     "execution_count": 18,
     "metadata": {},
     "output_type": "execute_result"
    }
   ],
   "source": [
    "hist_act_merge[[\"tec\", \"ratio\"]].sort_values(\"ratio\")"
   ],
   "metadata": {
    "collapsed": false
   }
  },
  {
   "cell_type": "code",
   "execution_count": 7,
   "outputs": [],
   "source": [
    "act = dataframes[\"ACT\"].drop([\"time\", \"Marginal\", \"Lower\", \"Upper\", \"Scale\"], axis=1)\n",
    "act = act[act[\"Level\"] != 0]\n",
    "act = act.rename({\"vintage\":\"year_vtg\", \"year_all\":\"year_act\", \"node\":\"node_loc\"}, axis=1)\n",
    "act = act.set_index([\"node_loc\", \"year_act\", \"tec\", \"mode\", \"year_vtg\"])"
   ],
   "metadata": {
    "collapsed": false
   }
  },
  {
   "cell_type": "code",
   "execution_count": 4,
   "outputs": [],
   "source": [
    "inp = dataframes[\"input\"].drop(\"time\", axis=1)\n",
    "node_cols = inp[\"node\"]\n",
    "node_cols.columns = [\"node_loc\", \"node_origin\"]\n",
    "inp[\"node_loc\"] = node_cols[\"node_loc\"]\n",
    "inp[\"node_origin\"] = node_cols[\"node_origin\"]\n",
    "inp = inp.rename({\"vintage\":\"year_vtg\", \"year_all\":\"year_act\"}, axis=1)\n",
    "inp = inp.drop(\"node\", axis=1)\n",
    "inp = inp.set_index([\"node_loc\", \"year_act\", \"tec\", \"mode\", \"year_vtg\"])"
   ],
   "metadata": {
    "collapsed": false
   }
  },
  {
   "cell_type": "code",
   "execution_count": 5,
   "outputs": [],
   "source": [
    "act_in = act.join(inp)\n",
    "act_in = act_in.dropna()\n",
    "act_in[\"input\"] = act_in[\"Level\"] * act_in[\"Value\"]"
   ],
   "metadata": {
    "collapsed": false
   }
  },
  {
   "cell_type": "code",
   "execution_count": 6,
   "outputs": [],
   "source": [
    "out = dataframes[\"output\"].drop(\"time\", axis=1)\n",
    "node_cols = out[\"node\"]\n",
    "node_cols.columns = [\"node_loc\", \"node_dest\"]\n",
    "out[\"node_loc\"] = node_cols[\"node_loc\"]\n",
    "out[\"node_origin\"] = node_cols[\"node_dest\"]\n",
    "out = out.rename({\"vintage\":\"year_vtg\", \"year_all\":\"year_act\"}, axis=1)\n",
    "out = out.drop(\"node\", axis=1)\n",
    "out = out.set_index([\"node_loc\", \"year_act\", \"year_vtg\", \"tec\", \"mode\"])"
   ],
   "metadata": {
    "collapsed": false
   }
  },
  {
   "cell_type": "code",
   "execution_count": 7,
   "outputs": [],
   "source": [
    "act_out = act.join(out)\n",
    "act_out = act_out.dropna()\n",
    "act_out[\"output\"] = act_out[\"Level\"] * act_out[\"Value\"]"
   ],
   "metadata": {
    "collapsed": false
   }
  },
  {
   "cell_type": "code",
   "execution_count": 8,
   "outputs": [],
   "source": [
    "rel = dataframes[\"relation_activity\"]\n",
    "node_cols = rel[\"node\"]\n",
    "node_cols.columns = [\"node_loc\", \"node_dest\"]\n",
    "rel[\"node_loc\"] = node_cols[\"node_loc\"]\n",
    "rel[\"node_origin\"] = node_cols[\"node_dest\"]\n",
    "\n",
    "year_cols = rel[\"year_all\"]\n",
    "year_cols.columns = [\"year_act\", \"year_rel\"]\n",
    "rel[\"year_act\"] = year_cols[\"year_act\"]\n",
    "rel[\"year_rel\"] = year_cols[\"year_rel\"]\n",
    "\n",
    "rel = rel.drop(\"node\", axis=1)\n",
    "rel = rel.drop(\"year_all\", axis=1)\n",
    "rel = rel.set_index([\"node_loc\", \"year_act\", \"tec\", \"mode\"])"
   ],
   "metadata": {
    "collapsed": false
   }
  },
  {
   "cell_type": "code",
   "execution_count": 9,
   "outputs": [],
   "source": [
    "rel_co2emi = rel[rel[\"relation\"]==\"CO2_Emission\"]"
   ],
   "metadata": {
    "collapsed": false
   }
  },
  {
   "cell_type": "code",
   "execution_count": 10,
   "outputs": [],
   "source": [
    "emi_top_down = rel_co2emi.join(act).dropna()\n",
    "emi_top_down[\"emi\"] = emi_top_down[\"Value\"] * emi_top_down[\"Level\"] #<"
   ],
   "metadata": {
    "collapsed": false
   }
  },
  {
   "cell_type": "code",
   "execution_count": 11,
   "outputs": [],
   "source": [
    "emi_bott_up_names =  [\"CO2_ind\", \"CO2_r_c\", \"CO2_trp\", \"CO2_trade\", \"CO2_shipping\", \"CO2_cc\"]"
   ],
   "metadata": {
    "collapsed": false
   }
  },
  {
   "cell_type": "code",
   "execution_count": 12,
   "outputs": [],
   "source": [
    "emi_bott_up = rel[rel[\"relation\"].isin(emi_bott_up_names).values]\n",
    "emi_bott_up = emi_bott_up.join(act).dropna()\n",
    "emi_bott_up[\"emi\"] = emi_bott_up[\"Value\"] * emi_bott_up[\"Level\"]"
   ],
   "metadata": {
    "collapsed": false
   }
  },
  {
   "cell_type": "code",
   "execution_count": 9,
   "outputs": [
    {
     "data": {
      "text/plain": "                                                 Level\ntec         year_act node_loc mode year_vtg           \nCF4_TCE     2020     R11_AFR  M1   2020       0.000214\n            2025     R11_AFR  M1   2025       0.000244\n            2030     R11_AFR  M1   2030       0.000259\n            2035     R11_AFR  M1   2035       0.000283\n            2040     R11_AFR  M1   2040       0.000288\n...                                                ...\nbiomass_exp 2045     R11_WEU  M1   2025       0.603323\n            2050     R11_WEU  M1   2025       0.603323\n            2100     R11_WEU  M1   2100       2.542521\n            2110     R11_WEU  M1   2100       2.542521\n                                   2110      20.742661\n\n[39186 rows x 1 columns]",
      "text/html": "<div>\n<style scoped>\n    .dataframe tbody tr th:only-of-type {\n        vertical-align: middle;\n    }\n\n    .dataframe tbody tr th {\n        vertical-align: top;\n    }\n\n    .dataframe thead th {\n        text-align: right;\n    }\n</style>\n<table border=\"1\" class=\"dataframe\">\n  <thead>\n    <tr style=\"text-align: right;\">\n      <th></th>\n      <th></th>\n      <th></th>\n      <th></th>\n      <th></th>\n      <th>Level</th>\n    </tr>\n    <tr>\n      <th>tec</th>\n      <th>year_act</th>\n      <th>node_loc</th>\n      <th>mode</th>\n      <th>year_vtg</th>\n      <th></th>\n    </tr>\n  </thead>\n  <tbody>\n    <tr>\n      <th rowspan=\"5\" valign=\"top\">CF4_TCE</th>\n      <th>2020</th>\n      <th>R11_AFR</th>\n      <th>M1</th>\n      <th>2020</th>\n      <td>0.000214</td>\n    </tr>\n    <tr>\n      <th>2025</th>\n      <th>R11_AFR</th>\n      <th>M1</th>\n      <th>2025</th>\n      <td>0.000244</td>\n    </tr>\n    <tr>\n      <th>2030</th>\n      <th>R11_AFR</th>\n      <th>M1</th>\n      <th>2030</th>\n      <td>0.000259</td>\n    </tr>\n    <tr>\n      <th>2035</th>\n      <th>R11_AFR</th>\n      <th>M1</th>\n      <th>2035</th>\n      <td>0.000283</td>\n    </tr>\n    <tr>\n      <th>2040</th>\n      <th>R11_AFR</th>\n      <th>M1</th>\n      <th>2040</th>\n      <td>0.000288</td>\n    </tr>\n    <tr>\n      <th>...</th>\n      <th>...</th>\n      <th>...</th>\n      <th>...</th>\n      <th>...</th>\n      <td>...</td>\n    </tr>\n    <tr>\n      <th rowspan=\"5\" valign=\"top\">biomass_exp</th>\n      <th>2045</th>\n      <th>R11_WEU</th>\n      <th>M1</th>\n      <th>2025</th>\n      <td>0.603323</td>\n    </tr>\n    <tr>\n      <th>2050</th>\n      <th>R11_WEU</th>\n      <th>M1</th>\n      <th>2025</th>\n      <td>0.603323</td>\n    </tr>\n    <tr>\n      <th>2100</th>\n      <th>R11_WEU</th>\n      <th>M1</th>\n      <th>2100</th>\n      <td>2.542521</td>\n    </tr>\n    <tr>\n      <th rowspan=\"2\" valign=\"top\">2110</th>\n      <th rowspan=\"2\" valign=\"top\">R11_WEU</th>\n      <th rowspan=\"2\" valign=\"top\">M1</th>\n      <th>2100</th>\n      <td>2.542521</td>\n    </tr>\n    <tr>\n      <th>2110</th>\n      <td>20.742661</td>\n    </tr>\n  </tbody>\n</table>\n<p>39186 rows × 1 columns</p>\n</div>"
     },
     "execution_count": 9,
     "metadata": {},
     "output_type": "execute_result"
    }
   ],
   "source": [
    "act.index = act.index.swaplevel(0, 2)\n",
    "act"
   ],
   "metadata": {
    "collapsed": false
   }
  },
  {
   "cell_type": "code",
   "execution_count": 31,
   "outputs": [
    {
     "name": "stdout",
     "output_type": "stream",
     "text": [
      "                Level\n",
      "year_act             \n",
      "2020      3245.894213\n",
      "2025      3695.781712\n",
      "2030      4134.097917\n",
      "2035      4584.361981\n",
      "2040      4981.643773\n",
      "2045      5219.056006\n",
      "2050      5334.279704\n",
      "2055      5294.281771\n",
      "2060      5022.616845\n",
      "2070      4145.596276\n",
      "2080      3708.114331\n",
      "2090      4277.202731\n",
      "2100      5114.284017\n",
      "2110      7212.136752\n",
      "              Level\n",
      "year_act           \n",
      "2020      16.657540\n",
      "2025      19.424365\n",
      "2030      18.510678\n",
      "2035       2.421083\n",
      "2040       0.085181\n",
      "2045       0.125159\n",
      "2050       0.179682\n"
     ]
    },
    {
     "data": {
      "text/plain": "<matplotlib.legend.Legend at 0x1f6594a2250>"
     },
     "execution_count": 31,
     "metadata": {},
     "output_type": "execute_result"
    },
    {
     "data": {
      "text/plain": "<Figure size 432x288 with 1 Axes>",
      "image/png": "[encoded data removed]"
     },
     "metadata": {
      "needs_background": "light"
     },
     "output_type": "display_data"
    }
   ],
   "source": [
    "import matplotlib.pyplot as plt\n",
    "fig, ax = plt.subplots()\n",
    "legend = []\n",
    "for i in [\"loil_trp\", \"foil_trp\"]:\n",
    "    print(act.loc[i].groupby([\"year_act\"]).sum())\n",
    "    act.loc[i].groupby([\"year_act\"]).sum().reset_index().plot(ax=ax, x=\"year_act\", y=\"Level\")\n",
    "    legend.append(i)\n",
    "ax.legend(legend)"
   ],
   "metadata": {
    "collapsed": false
   }
  },
  {
   "cell_type": "code",
   "execution_count": 38,
   "outputs": [
    {
     "data": {
      "text/plain": "                Level\ntec                  \nbiomass_i  167.172537\ncoal_i     646.478318\nelec_i      87.922704\nfoil_i     100.367546\ngas_i      569.083035\nheat_i     176.669585\nhp_gas_i     5.982707\nloil_i      96.592091\nsolar_i     96.415719",
      "text/html": "<div>\n<style scoped>\n    .dataframe tbody tr th:only-of-type {\n        vertical-align: middle;\n    }\n\n    .dataframe tbody tr th {\n        vertical-align: top;\n    }\n\n    .dataframe thead th {\n        text-align: right;\n    }\n</style>\n<table border=\"1\" class=\"dataframe\">\n  <thead>\n    <tr style=\"text-align: right;\">\n      <th></th>\n      <th>Level</th>\n    </tr>\n    <tr>\n      <th>tec</th>\n      <th></th>\n    </tr>\n  </thead>\n  <tbody>\n    <tr>\n      <th>biomass_i</th>\n      <td>167.172537</td>\n    </tr>\n    <tr>\n      <th>coal_i</th>\n      <td>646.478318</td>\n    </tr>\n    <tr>\n      <th>elec_i</th>\n      <td>87.922704</td>\n    </tr>\n    <tr>\n      <th>foil_i</th>\n      <td>100.367546</td>\n    </tr>\n    <tr>\n      <th>gas_i</th>\n      <td>569.083035</td>\n    </tr>\n    <tr>\n      <th>heat_i</th>\n      <td>176.669585</td>\n    </tr>\n    <tr>\n      <th>hp_gas_i</th>\n      <td>5.982707</td>\n    </tr>\n    <tr>\n      <th>loil_i</th>\n      <td>96.592091</td>\n    </tr>\n    <tr>\n      <th>solar_i</th>\n      <td>96.415719</td>\n    </tr>\n  </tbody>\n</table>\n</div>"
     },
     "execution_count": 38,
     "metadata": {},
     "output_type": "execute_result"
    }
   ],
   "source": [
    "#act.index = act.index.swaplevel(0,2)\n",
    "#act.index = act.index.swaplevel(1,2)\n",
    "#act2020 = act.loc[\"2020\"]\n",
    "act2020[act2020.index.get_level_values(0).str.startswith(\"furnace\")].groupby(\"tec\").sum()"
   ],
   "metadata": {
    "collapsed": false
   }
  },
  {
   "cell_type": "markdown",
   "source": [],
   "metadata": {
    "collapsed": false
   }
  },
  {
   "cell_type": "markdown",
   "source": [
    "## identify missing relations"
   ],
   "metadata": {
    "collapsed": false
   }
  },
  {
   "cell_type": "code",
   "execution_count": 16,
   "outputs": [],
   "source": [
    "rel[\"count\"] = 1\n",
    "tecs = list(rel[rel.index.get_level_values(2).str.startswith(\"meth_\")].index.get_level_values(2).unique())\n",
    "\n",
    "meth_rel = rel.swaplevel(0,2).loc[tecs]\n",
    "counts = meth_rel[~meth_rel.index.get_level_values(1).isin([\"1990\", \"1995\", \"2000\", \"2005\", \"2010\", \"2015\"])].groupby([\"tec\",\"year_act\", \"node_loc\", \"relation\"]).sum()[\"count\"]"
   ],
   "metadata": {
    "collapsed": false
   }
  },
  {
   "cell_type": "code",
   "execution_count": 17,
   "outputs": [],
   "source": [
    "fuel = meth_rel.swaplevel(0,3).loc[\"fuel\"]\n",
    "fuel[\"df\"] = \"fuel\"\n",
    "\n",
    "m1 = meth_rel.swaplevel(0,3).loc[\"M1\"]\n",
    "m1[\"df\"] = \"M1\"\n",
    "\n",
    "w_labels = pd.concat([fuel, m1]).reset_index()\n",
    "wo_labels = pd.concat([fuel.drop(\"df\", axis=1), m1.drop(\"df\", axis=1)]).reset_index()"
   ],
   "metadata": {
    "collapsed": false
   }
  },
  {
   "cell_type": "code",
   "execution_count": 18,
   "outputs": [
    {
     "data": {
      "text/plain": "      year_act node_loc       tec    relation     Value node_origin year_rel  \\\n0         1990  R12_GLB  meth_trd   CO2_trade  0.005545     R12_GLB     1990   \n1         1995  R12_GLB  meth_trd   CO2_trade  0.005545     R12_GLB     1995   \n2         2000  R12_GLB  meth_trd   CO2_trade  0.005545     R12_GLB     2000   \n3         2005  R12_GLB  meth_trd   CO2_trade  0.005545     R12_GLB     2005   \n4         2010  R12_GLB  meth_trd   CO2_trade  0.005545     R12_GLB     2010   \n...        ...      ...       ...         ...       ...         ...      ...   \n13679     2070  R12_CHN  meth_t_d  FE_liquids  1.000000     R12_CHN     2070   \n13680     2080  R12_CHN  meth_t_d  FE_liquids  1.000000     R12_CHN     2080   \n13681     2090  R12_CHN  meth_t_d  FE_liquids  1.000000     R12_CHN     2090   \n13682     2100  R12_CHN  meth_t_d  FE_liquids  1.000000     R12_CHN     2100   \n13683     2110  R12_CHN  meth_t_d  FE_liquids  1.000000     R12_CHN     2110   \n\n       count    df  \n0          1  fuel  \n1          1  fuel  \n2          1  fuel  \n3          1  fuel  \n4          1  fuel  \n...      ...   ...  \n13679      1  fuel  \n13680      1  fuel  \n13681      1  fuel  \n13682      1  fuel  \n13683      1  fuel  \n\n[13684 rows x 9 columns]",
      "text/html": "<div>\n<style scoped>\n    .dataframe tbody tr th:only-of-type {\n        vertical-align: middle;\n    }\n\n    .dataframe tbody tr th {\n        vertical-align: top;\n    }\n\n    .dataframe thead th {\n        text-align: right;\n    }\n</style>\n<table border=\"1\" class=\"dataframe\">\n  <thead>\n    <tr style=\"text-align: right;\">\n      <th></th>\n      <th>year_act</th>\n      <th>node_loc</th>\n      <th>tec</th>\n      <th>relation</th>\n      <th>Value</th>\n      <th>node_origin</th>\n      <th>year_rel</th>\n      <th>count</th>\n      <th>df</th>\n    </tr>\n  </thead>\n  <tbody>\n    <tr>\n      <th>0</th>\n      <td>1990</td>\n      <td>R12_GLB</td>\n      <td>meth_trd</td>\n      <td>CO2_trade</td>\n      <td>0.005545</td>\n      <td>R12_GLB</td>\n      <td>1990</td>\n      <td>1</td>\n      <td>fuel</td>\n    </tr>\n    <tr>\n      <th>1</th>\n      <td>1995</td>\n      <td>R12_GLB</td>\n      <td>meth_trd</td>\n      <td>CO2_trade</td>\n      <td>0.005545</td>\n      <td>R12_GLB</td>\n      <td>1995</td>\n      <td>1</td>\n      <td>fuel</td>\n    </tr>\n    <tr>\n      <th>2</th>\n      <td>2000</td>\n      <td>R12_GLB</td>\n      <td>meth_trd</td>\n      <td>CO2_trade</td>\n      <td>0.005545</td>\n      <td>R12_GLB</td>\n      <td>2000</td>\n      <td>1</td>\n      <td>fuel</td>\n    </tr>\n    <tr>\n      <th>3</th>\n      <td>2005</td>\n      <td>R12_GLB</td>\n      <td>meth_trd</td>\n      <td>CO2_trade</td>\n      <td>0.005545</td>\n      <td>R12_GLB</td>\n      <td>2005</td>\n      <td>1</td>\n      <td>fuel</td>\n    </tr>\n    <tr>\n      <th>4</th>\n      <td>2010</td>\n      <td>R12_GLB</td>\n      <td>meth_trd</td>\n      <td>CO2_trade</td>\n      <td>0.005545</td>\n      <td>R12_GLB</td>\n      <td>2010</td>\n      <td>1</td>\n      <td>fuel</td>\n    </tr>\n    <tr>\n      <th>...</th>\n      <td>...</td>\n      <td>...</td>\n      <td>...</td>\n      <td>...</td>\n      <td>...</td>\n      <td>...</td>\n      <td>...</td>\n      <td>...</td>\n      <td>...</td>\n    </tr>\n    <tr>\n      <th>13679</th>\n      <td>2070</td>\n      <td>R12_CHN</td>\n      <td>meth_t_d</td>\n      <td>FE_liquids</td>\n      <td>1.000000</td>\n      <td>R12_CHN</td>\n      <td>2070</td>\n      <td>1</td>\n      <td>fuel</td>\n    </tr>\n    <tr>\n      <th>13680</th>\n      <td>2080</td>\n      <td>R12_CHN</td>\n      <td>meth_t_d</td>\n      <td>FE_liquids</td>\n      <td>1.000000</td>\n      <td>R12_CHN</td>\n      <td>2080</td>\n      <td>1</td>\n      <td>fuel</td>\n    </tr>\n    <tr>\n      <th>13681</th>\n      <td>2090</td>\n      <td>R12_CHN</td>\n      <td>meth_t_d</td>\n      <td>FE_liquids</td>\n      <td>1.000000</td>\n      <td>R12_CHN</td>\n      <td>2090</td>\n      <td>1</td>\n      <td>fuel</td>\n    </tr>\n    <tr>\n      <th>13682</th>\n      <td>2100</td>\n      <td>R12_CHN</td>\n      <td>meth_t_d</td>\n      <td>FE_liquids</td>\n      <td>1.000000</td>\n      <td>R12_CHN</td>\n      <td>2100</td>\n      <td>1</td>\n      <td>fuel</td>\n    </tr>\n    <tr>\n      <th>13683</th>\n      <td>2110</td>\n      <td>R12_CHN</td>\n      <td>meth_t_d</td>\n      <td>FE_liquids</td>\n      <td>1.000000</td>\n      <td>R12_CHN</td>\n      <td>2110</td>\n      <td>1</td>\n      <td>fuel</td>\n    </tr>\n  </tbody>\n</table>\n<p>13684 rows × 9 columns</p>\n</div>"
     },
     "execution_count": 18,
     "metadata": {},
     "output_type": "execute_result"
    }
   ],
   "source": [
    "diff = wo_labels.drop_duplicates(keep=False).merge(w_labels[\"df\"], left_index=True, right_index=True)\n",
    "diff[diff[\"df\"]==\"fuel\"]"
   ],
   "metadata": {
    "collapsed": false
   }
  },
  {
   "cell_type": "markdown",
   "source": [],
   "metadata": {
    "collapsed": false
   }
  },
  {
   "cell_type": "markdown",
   "source": [
    "## co2 emissions analysis"
   ],
   "metadata": {
    "collapsed": false
   }
  },
  {
   "cell_type": "code",
   "execution_count": 19,
   "outputs": [],
   "source": [
    "def get_bot_up_emi_by_fuel(df, node, year):\n",
    "    #df = df.loc[node, year]\n",
    "\n",
    "    df_oil = df[df.index.get_level_values(0).str.contains(\"oil\") |\n",
    "        (df.index.get_level_values(0).str.contains(\"liq\")) |\n",
    "        (df.index.get_level_values(0).str.contains(\"treat\")) |\n",
    "        (df.index.get_level_values(0).str.contains(\"coki\")) |\n",
    "        (df.index.get_level_values(0).str.contains(\"cata\"))\n",
    "    ].sort_values(\"emi\")\n",
    "    df_oil = df_oil[df_oil.index.get_level_values(0) != \"liq_bio_ccs\"]\n",
    "\n",
    "    df_gas = df[(\n",
    "        (df.index.get_level_values(0).str.contains(\"gas\")) |\n",
    "        (df.index.get_level_values(0).str.contains(\"meth_ng\")) |\n",
    "        (df.index.get_level_values(0).str.contains(\"smr\")) |\n",
    "        (df.index.get_level_values(0) == \"h2_mix\") |\n",
    "        (df.index.get_level_values(0).str.contains(\"flar\"))\n",
    "    )].sort_values(\"emi\")\n",
    "\n",
    "    df_coal = df[(df.index.get_level_values(0).str.contains(\"coal\")) | (df.index.get_level_values(0).str.contains(\"igcc\"))].sort_values(\"emi\")\n",
    "\n",
    "    return df_gas, df_oil, df_coal"
   ],
   "metadata": {
    "collapsed": false
   }
  },
  {
   "cell_type": "code",
   "execution_count": 20,
   "outputs": [],
   "source": [
    "def get_top_dn_emi_by_fuel(df, node, year):\n",
    "    #df = df.loc[node, year]\n",
    "\n",
    "    top_gas = df[((df.index.get_level_values(0).str.contains(\"gas\")) |\n",
    "                (df.index.get_level_values(0).str.contains(\"LNG\")) |\n",
    "                (df.index.get_level_values(1).str.contains(\"ane\")) |\n",
    "                (df.index.get_level_values(0).str.contains(\"h2_smr\")) |\n",
    "                (df.index.get_level_values(0).str.contains(\"flar\")))]#.sum()\n",
    "\n",
    "    top_oil = df[(df.index.get_level_values(0).str.contains(\"oil\"))\n",
    "                 |(df.index.get_level_values(1).str.contains(\"gasoil\"))].sort_values(\"emi\")#.sum()\n",
    "    #top_oil = top_oil[top_oil.index.get_level_values(0) != \"liq_bio_ccs\"]\n",
    "    top_coal = df[(df.index.get_level_values(0).str.contains(\"coal\")) |\n",
    "                                (df.index.get_level_values(0).str.contains(\"lign\"))].sort_values(\"emi\")#.sum()\n",
    "\n",
    "    return top_gas, top_oil, top_coal"
   ],
   "metadata": {
    "collapsed": false
   }
  },
  {
   "cell_type": "code",
   "execution_count": 21,
   "outputs": [],
   "source": [
    "elec_list = [\n",
    "            \"coal_ppl_u\",\n",
    "            \"coal_ppl\",\n",
    "            \"coal_adv\",\n",
    "            \"coal_adv_ccs\",\n",
    "            \"igcc\",\n",
    "            \"igcc_ccs\",\n",
    "            \"foil_ppl\",\n",
    "            \"loil_ppl\",\n",
    "            \"loil_cc\",\n",
    "            \"oil_ppl\",\n",
    "            \"gas_ppl\",\n",
    "            \"gas_cc\",\n",
    "            \"gas_cc_ccs\",\n",
    "            \"gas_ct\",\n",
    "            \"gas_htfc\",\n",
    "            \"bio_istig\",\n",
    "            \"g_ppl_co2scr\",\n",
    "            \"c_ppl_co2scr\",\n",
    "            \"bio_ppl_co2scr\",\n",
    "            \"igcc_co2scr\",\n",
    "            \"gfc_co2scr\",\n",
    "            \"cfc_co2scr\",\n",
    "            \"bio_istig_ccs\",\n",
    "        ]"
   ],
   "metadata": {
    "collapsed": false
   }
  },
  {
   "cell_type": "code",
   "execution_count": 22,
   "outputs": [],
   "source": [
    "region = \"R12_LAM\"\n",
    "year = \"2020\""
   ],
   "metadata": {
    "collapsed": false
   }
  },
  {
   "cell_type": "markdown",
   "source": [
    "## get global emissions for specific year"
   ],
   "metadata": {
    "collapsed": false
   }
  },
  {
   "cell_type": "code",
   "execution_count": 23,
   "outputs": [
    {
     "name": "stderr",
     "output_type": "stream",
     "text": [
      "C:\\Users\\maczek\\AppData\\Local\\Temp\\ipykernel_17352\\2128802406.py:7: FutureWarning: The frame.append method is deprecated and will be removed from pandas in a future version. Use pandas.concat instead.\n",
      "  emi_bot_up_new = emi_bot_up_new.append(emi_top_down_new[emi_top_down_new.index.get_level_values(0) == \"meth_bio_ccs\"])\n"
     ]
    }
   ],
   "source": [
    "emi_top_down_new = emi_top_down.reset_index().set_index([\"tec\", \"mode\"])\n",
    "emi_bot_up_new = emi_bott_up.reset_index().set_index([\"tec\", \"mode\"])\n",
    "\n",
    "emi_top_down_new = emi_top_down_new[emi_top_down_new[\"year_act\"]==year]\n",
    "emi_bot_up_new = emi_bot_up_new[emi_bot_up_new[\"year_act\"]==year]\n",
    "\n",
    "emi_bot_up_new = emi_bot_up_new.append(emi_top_down_new[emi_top_down_new.index.get_level_values(0) == \"meth_bio_ccs\"])\n",
    "emi_top_down_new = emi_top_down_new.drop(\"CO2_TCE\")\n",
    "emi_bot_up_new = emi_bot_up_new.drop([\"CO2t_TCE\", \"CO2s_TCE\"])\n",
    "\n",
    "emi_bot_up_new = pd.concat([emi_bot_up_new, emi_top_down_new[emi_top_down_new.index.get_level_values(0).str.contains(\"alu\")]])\n",
    "emi_bot_up_new = pd.concat([emi_bot_up_new, emi_top_down_new[emi_top_down_new.index.get_level_values(0).str.contains(\"clink\")]])\n",
    "\n",
    "top_new_gas, top_new_oil, top_new_coal = get_top_dn_emi_by_fuel(emi_top_down_new[emi_top_down_new[\"year_act\"]==year], \"test\", \"test\")\n",
    "bot_new_gas, bot_new_oil, bot_new_coal = get_bot_up_emi_by_fuel(emi_bot_up_new[emi_bot_up_new[\"year_act\"]==year], \"test\", \"test\")"
   ],
   "metadata": {
    "collapsed": false
   }
  },
  {
   "cell_type": "code",
   "execution_count": 24,
   "outputs": [],
   "source": [
    "oil_tecs = ['hydrotreating_ref', 'catalytic_reforming_ref', 'oil_extr_1_ch4',\n",
    "           'furnace_foil_petro', 'loil_t_d', 'oil_extr_2_ch4', 'foil_hpl',\n",
    "           'foil_t_d', 'furnace_foil_refining', 'oil_extr_2', 'oil_extr_1',\n",
    "           'oil_extr_3', 'furnace_foil_aluminum', 'loil_rc', 'oil_extr_3_ch4',\n",
    "           'furnace_foil_cement', 'oil_extr_4_ch4', 'foil_trd', 'oil_trd',\n",
    "\n",
    "            'fueloil_NH3', 'fueloil_NH3_ccs', 'loil_i', 'foil_i', 'foil_trp', 'loil_trp', 'loil_bunker',\n",
    "            'foil_bunker', 'oil_ppl', 'loil_ppl', 'loil_cc', 'foil_rc', 'foil_ppl',\n",
    "            'catalytic_cracking_ref', 'loil_trd', 'oil_extr_4', \"coking_ref\", 'LNG_bunker', 'sp_liq_I']\n",
    "bot_new_oil = emi_bot_up_new[(emi_bot_up_new.index.get_level_values(0).isin(oil_tecs))]\n",
    "\n",
    "coal_tecs = ['furnace_coal_aluminum', 'coal_hpl', 'furnace_coal_refining',\n",
    "       'furnace_coal_cement', 'DUMMY_coal_supply', 'h2_coal_ccs',\n",
    "       'coal_NH3_ccs',\n",
    "\n",
    " 'coal_ppl', 'coal_ppl_u', 'meth_coal', 'meth_coal_ccs', 'coal_rc', 'coal_NH3', 'coal_adv', 'coal_i', 'coal_gas'\n",
    " ]\n",
    "bot_new_coal = emi_bot_up_new[(emi_bot_up_new.index.get_level_values(0).isin(coal_tecs))]\n",
    "\n",
    "gas = ['h2_mix', 'gas_t_d', 'gas_hpl', 'furnace_gas_petro', 'gas_extr_2',\n",
    "       'gas_extr_1', 'gas_t_d_ch4', 'gas_NH3_ccs', 'furnace_gas_refining',\n",
    "       'gas_extr_3', 'DUMMY_gas_supply', 'gas_cc', 'gas_extr_4', 'gas_extr_5',\n",
    "       'gas_extr_6', 'gas_i', 'gas_trp',\n",
    "\n",
    "    'gas_NH3','gas_cc_ccs', 'hp_gas_rc', 'hp_gas_i', 'gas_rc', 'gas_ct',\n",
    "    'gas_ppl', 'meth_ng_ccs', 'h2_smr_ccs', 'meth_ng', 'LNG_trd', 'h2_smr',\n",
    "]\n",
    "bot_new_gas = emi_bot_up_new[(emi_bot_up_new.index.get_level_values(0).isin(gas))]"
   ],
   "metadata": {
    "collapsed": false
   }
  },
  {
   "cell_type": "code",
   "execution_count": 25,
   "outputs": [],
   "source": [
    "top_new_trd = emi_top_down_new[(emi_top_down_new.index.get_level_values(0).str.contains(\"exp\")) | (emi_top_down_new.index.get_level_values(0).str.contains(\"imp\"))]\n",
    "bot_new_trd = emi_bot_up_new[(emi_bot_up_new.index.get_level_values(0).str.contains(\"exp\")) | (emi_bot_up_new.index.get_level_values(0).str.contains(\"imp\"))]"
   ],
   "metadata": {
    "collapsed": false
   }
  },
  {
   "cell_type": "markdown",
   "source": [],
   "metadata": {
    "collapsed": false
   }
  },
  {
   "cell_type": "markdown",
   "source": [
    "## residual carbon emissions"
   ],
   "metadata": {
    "collapsed": false
   }
  },
  {
   "cell_type": "code",
   "execution_count": 26,
   "outputs": [],
   "source": [
    "bot_new_rest = emi_bot_up_new[~(emi_bot_up_new.index.get_level_values(0).isin(bot_new_coal.index.get_level_values(0))) &\n",
    "            ~(emi_bot_up_new.index.get_level_values(0).isin(bot_new_oil.index.get_level_values(0))) &\n",
    "            ~(emi_bot_up_new.index.get_level_values(0).isin(bot_new_gas.index.get_level_values(0)))\n",
    "].sort_values(\"emi\")\n",
    "\n",
    "top_new_rest = emi_top_down_new[~(emi_top_down_new.index.get_level_values(0).isin(top_new_oil.index.get_level_values(0))) &\n",
    "           ~(emi_top_down_new.index.get_level_values(0).isin(top_new_gas.index.get_level_values(0))) &\n",
    "            ~(emi_top_down_new.index.get_level_values(0).isin(top_new_coal.index.get_level_values(0))) &\n",
    "            ~(emi_top_down_new.index.get_level_values(0).isin(top_new_trd.index.get_level_values(0)))\n",
    "].sort_values(\"emi\")"
   ],
   "metadata": {
    "collapsed": false
   }
  },
  {
   "cell_type": "code",
   "execution_count": 27,
   "outputs": [
    {
     "data": {
      "text/plain": "211.23699782794165"
     },
     "execution_count": 27,
     "metadata": {},
     "output_type": "execute_result"
    }
   ],
   "source": [
    "bot_new_rest.sum()[\"emi\"] * (44/12) - top_new_rest.sum()[\"emi\"] * (44/12)"
   ],
   "metadata": {
    "collapsed": false
   }
  },
  {
   "cell_type": "code",
   "execution_count": 28,
   "outputs": [
    {
     "data": {
      "text/plain": "423.78991342878"
     },
     "execution_count": 28,
     "metadata": {},
     "output_type": "execute_result"
    }
   ],
   "source": [
    "emi_bot_up_new.sum().emi * (44/12) - emi_top_down_new.sum().emi * (44/12)"
   ],
   "metadata": {
    "collapsed": false
   }
  },
  {
   "cell_type": "code",
   "execution_count": 29,
   "outputs": [
    {
     "data": {
      "text/plain": "-12.097574083883933"
     },
     "execution_count": 29,
     "metadata": {},
     "output_type": "execute_result"
    }
   ],
   "source": [
    "top_new_rest[top_new_rest[\"emi\"]<0].loc[\"meth_t_d\"].sum()[\"emi\"]"
   ],
   "metadata": {
    "collapsed": false
   }
  },
  {
   "cell_type": "code",
   "execution_count": 30,
   "outputs": [
    {
     "data": {
      "text/plain": "-44.35777164090775"
     },
     "execution_count": 30,
     "metadata": {},
     "output_type": "execute_result"
    }
   ],
   "source": [
    "top_new_rest.loc[\"meth_t_d\"].sum().emi * co2_c_factor\n",
    "#top_new_rest.loc[\"clinker_dry_cement\"].sum().emi * co2_c_factor"
   ],
   "metadata": {
    "collapsed": false
   }
  },
  {
   "cell_type": "code",
   "execution_count": 31,
   "outputs": [
    {
     "name": "stdout",
     "output_type": "stream",
     "text": [
      "Index([], dtype='object', name='tec')\n",
      "Index(['meth_t_d'], dtype='object', name='tec')\n",
      "Index(['CH2O_synth', 'soderberg_aluminum', 'eth_t_d', 'flaring_CO2',\n",
      "       'prebake_aluminum', 'meth_trd', 'furnace_methanol_cement',\n",
      "       'DUMMY_limestone_supply_steel', 'MTO_petro', 'h2_coal',\n",
      "       'clinker_wet_cement', 'clinker_dry_cement', 'igcc'],\n",
      "      dtype='object', name='tec')\n",
      "Index(['soderberg_aluminum', 'prebake_aluminum', 'clinker_wet_cement',\n",
      "       'clinker_dry_cement'],\n",
      "      dtype='object', name='tec')\n"
     ]
    }
   ],
   "source": [
    "print(bot_new_rest[bot_new_rest[\"emi\"]<0].drop_duplicates().index.get_level_values(0).unique())\n",
    "print(top_new_rest[top_new_rest[\"emi\"]<0].drop_duplicates().index.get_level_values(0).unique())\n",
    "print(bot_new_rest[bot_new_rest[\"emi\"]>0].drop_duplicates().index.get_level_values(0).unique())\n",
    "print(top_new_rest[top_new_rest[\"emi\"]>0].drop_duplicates().index.get_level_values(0).unique())"
   ],
   "metadata": {
    "collapsed": false
   }
  },
  {
   "cell_type": "code",
   "execution_count": 32,
   "outputs": [
    {
     "name": "stdout",
     "output_type": "stream",
     "text": [
      "negative residual emission bottom-up:  0.0\n",
      "negative residual emission top-down:  -44.35777164090775\n",
      "positive residual emission bottom-up:  2137.403984064366\n",
      "positive residual emission top-down:  1970.5247578773321\n"
     ]
    }
   ],
   "source": [
    "print(\"negative residual emission bottom-up: \", bot_new_rest[bot_new_rest[\"emi\"]<0].drop_duplicates().sum()[\"emi\"] * (44/12))\n",
    "print(\"negative residual emission top-down: \", top_new_rest[top_new_rest[\"emi\"]<0].sum()[\"emi\"] * (44/12))\n",
    "print(\"positive residual emission bottom-up: \", bot_new_rest[bot_new_rest[\"emi\"]>0].sum()[\"emi\"] * (44/12))\n",
    "print(\"positive residual emission top-down: \", top_new_rest[top_new_rest[\"emi\"]>0].sum()[\"emi\"] * (44/12))"
   ],
   "metadata": {
    "collapsed": false
   }
  },
  {
   "cell_type": "markdown",
   "source": [],
   "metadata": {
    "collapsed": false
   }
  },
  {
   "cell_type": "markdown",
   "source": [
    "## check trade carbon balances"
   ],
   "metadata": {
    "collapsed": false
   }
  },
  {
   "cell_type": "code",
   "execution_count": 33,
   "outputs": [
    {
     "data": {
      "text/plain": "               node_loc year_act year_vtg      relation  Value node_origin  \\\ntec      mode                                                                \nloil_exp M1     R12_AFR     2020     2015  CO2_Emission -0.631     R12_AFR   \nloil_imp M1     R12_AFR     2020     2020  CO2_Emission  0.631     R12_AFR   \n         M1     R12_CHN     2020     2020  CO2_Emission  0.631     R12_CHN   \nloil_exp M1     R12_FSU     2020     2000  CO2_Emission -0.631     R12_FSU   \n         M1     R12_FSU     2020     2005  CO2_Emission -0.631     R12_FSU   \n         M1     R12_FSU     2020     2015  CO2_Emission -0.631     R12_FSU   \n         M1     R12_FSU     2020     2020  CO2_Emission -0.631     R12_FSU   \n         M1     R12_LAM     2020     2015  CO2_Emission -0.631     R12_LAM   \n         M1     R12_MEA     2020     2000  CO2_Emission -0.631     R12_MEA   \n         M1     R12_MEA     2020     2005  CO2_Emission -0.631     R12_MEA   \n         M1     R12_MEA     2020     2010  CO2_Emission -0.631     R12_MEA   \n         M1     R12_MEA     2020     2020  CO2_Emission -0.631     R12_MEA   \n         M1     R12_NAM     2020     2000  CO2_Emission -0.631     R12_NAM   \n         M1     R12_NAM     2020     2015  CO2_Emission -0.631     R12_NAM   \nloil_imp M1     R12_NAM     2020     2020  CO2_Emission  0.631     R12_NAM   \n         M1     R12_PAO     2020     2020  CO2_Emission  0.631     R12_PAO   \n         M1    R12_RCPA     2020     2020  CO2_Emission  0.631    R12_RCPA   \nloil_exp M1     R12_SAS     2020     2015  CO2_Emission -0.631     R12_SAS   \nloil_imp M1     R12_SAS     2020     2020  CO2_Emission  0.631     R12_SAS   \n         M1     R12_WEU     2020     2020  CO2_Emission  0.631     R12_WEU   \n\n              year_rel       Level         emi  \ntec      mode                                   \nloil_exp M1       2020    0.399258   -0.251931  \nloil_imp M1       2020   47.653442   30.069322  \n         M1       2020   39.268683   24.778539  \nloil_exp M1       2020   10.142300   -6.399791  \n         M1       2020   40.339789  -25.454407  \n         M1       2020   13.855435   -8.742779  \n         M1       2020   39.340764  -24.824022  \n         M1       2020   40.069433  -25.283812  \n         M1       2020   51.848149  -32.716182  \n         M1       2020   23.071599  -14.558179  \n         M1       2020   51.197000  -32.305307  \n         M1       2020  127.024324  -80.152349  \n         M1       2020   10.000000   -6.310000  \n         M1       2020   54.575404  -34.437080  \nloil_imp M1       2020  302.049754  190.593395  \n         M1       2020    9.866751    6.225920  \n         M1       2020    5.307703    3.349160  \nloil_exp M1       2020   15.521467   -9.794046  \nloil_imp M1       2020   33.309633   21.018378  \n         M1       2020   23.414262   14.774399  ",
      "text/html": "<div>\n<style scoped>\n    .dataframe tbody tr th:only-of-type {\n        vertical-align: middle;\n    }\n\n    .dataframe tbody tr th {\n        vertical-align: top;\n    }\n\n    .dataframe thead th {\n        text-align: right;\n    }\n</style>\n<table border=\"1\" class=\"dataframe\">\n  <thead>\n    <tr style=\"text-align: right;\">\n      <th></th>\n      <th></th>\n      <th>node_loc</th>\n      <th>year_act</th>\n      <th>year_vtg</th>\n      <th>relation</th>\n      <th>Value</th>\n      <th>node_origin</th>\n      <th>year_rel</th>\n      <th>Level</th>\n      <th>emi</th>\n    </tr>\n    <tr>\n      <th>tec</th>\n      <th>mode</th>\n      <th></th>\n      <th></th>\n      <th></th>\n      <th></th>\n      <th></th>\n      <th></th>\n      <th></th>\n      <th></th>\n      <th></th>\n    </tr>\n  </thead>\n  <tbody>\n    <tr>\n      <th>loil_exp</th>\n      <th>M1</th>\n      <td>R12_AFR</td>\n      <td>2020</td>\n      <td>2015</td>\n      <td>CO2_Emission</td>\n      <td>-0.631</td>\n      <td>R12_AFR</td>\n      <td>2020</td>\n      <td>0.399258</td>\n      <td>-0.251931</td>\n    </tr>\n    <tr>\n      <th rowspan=\"2\" valign=\"top\">loil_imp</th>\n      <th>M1</th>\n      <td>R12_AFR</td>\n      <td>2020</td>\n      <td>2020</td>\n      <td>CO2_Emission</td>\n      <td>0.631</td>\n      <td>R12_AFR</td>\n      <td>2020</td>\n      <td>47.653442</td>\n      <td>30.069322</td>\n    </tr>\n    <tr>\n      <th>M1</th>\n      <td>R12_CHN</td>\n      <td>2020</td>\n      <td>2020</td>\n      <td>CO2_Emission</td>\n      <td>0.631</td>\n      <td>R12_CHN</td>\n      <td>2020</td>\n      <td>39.268683</td>\n      <td>24.778539</td>\n    </tr>\n    <tr>\n      <th rowspan=\"11\" valign=\"top\">loil_exp</th>\n      <th>M1</th>\n      <td>R12_FSU</td>\n      <td>2020</td>\n      <td>2000</td>\n      <td>CO2_Emission</td>\n      <td>-0.631</td>\n      <td>R12_FSU</td>\n      <td>2020</td>\n      <td>10.142300</td>\n      <td>-6.399791</td>\n    </tr>\n    <tr>\n      <th>M1</th>\n      <td>R12_FSU</td>\n      <td>2020</td>\n      <td>2005</td>\n      <td>CO2_Emission</td>\n      <td>-0.631</td>\n      <td>R12_FSU</td>\n      <td>2020</td>\n      <td>40.339789</td>\n      <td>-25.454407</td>\n    </tr>\n    <tr>\n      <th>M1</th>\n      <td>R12_FSU</td>\n      <td>2020</td>\n      <td>2015</td>\n      <td>CO2_Emission</td>\n      <td>-0.631</td>\n      <td>R12_FSU</td>\n      <td>2020</td>\n      <td>13.855435</td>\n      <td>-8.742779</td>\n    </tr>\n    <tr>\n      <th>M1</th>\n      <td>R12_FSU</td>\n      <td>2020</td>\n      <td>2020</td>\n      <td>CO2_Emission</td>\n      <td>-0.631</td>\n      <td>R12_FSU</td>\n      <td>2020</td>\n      <td>39.340764</td>\n      <td>-24.824022</td>\n    </tr>\n    <tr>\n      <th>M1</th>\n      <td>R12_LAM</td>\n      <td>2020</td>\n      <td>2015</td>\n      <td>CO2_Emission</td>\n      <td>-0.631</td>\n      <td>R12_LAM</td>\n      <td>2020</td>\n      <td>40.069433</td>\n      <td>-25.283812</td>\n    </tr>\n    <tr>\n      <th>M1</th>\n      <td>R12_MEA</td>\n      <td>2020</td>\n      <td>2000</td>\n      <td>CO2_Emission</td>\n      <td>-0.631</td>\n      <td>R12_MEA</td>\n      <td>2020</td>\n      <td>51.848149</td>\n      <td>-32.716182</td>\n    </tr>\n    <tr>\n      <th>M1</th>\n      <td>R12_MEA</td>\n      <td>2020</td>\n      <td>2005</td>\n      <td>CO2_Emission</td>\n      <td>-0.631</td>\n      <td>R12_MEA</td>\n      <td>2020</td>\n      <td>23.071599</td>\n      <td>-14.558179</td>\n    </tr>\n    <tr>\n      <th>M1</th>\n      <td>R12_MEA</td>\n      <td>2020</td>\n      <td>2010</td>\n      <td>CO2_Emission</td>\n      <td>-0.631</td>\n      <td>R12_MEA</td>\n      <td>2020</td>\n      <td>51.197000</td>\n      <td>-32.305307</td>\n    </tr>\n    <tr>\n      <th>M1</th>\n      <td>R12_MEA</td>\n      <td>2020</td>\n      <td>2020</td>\n      <td>CO2_Emission</td>\n      <td>-0.631</td>\n      <td>R12_MEA</td>\n      <td>2020</td>\n      <td>127.024324</td>\n      <td>-80.152349</td>\n    </tr>\n    <tr>\n      <th>M1</th>\n      <td>R12_NAM</td>\n      <td>2020</td>\n      <td>2000</td>\n      <td>CO2_Emission</td>\n      <td>-0.631</td>\n      <td>R12_NAM</td>\n      <td>2020</td>\n      <td>10.000000</td>\n      <td>-6.310000</td>\n    </tr>\n    <tr>\n      <th>M1</th>\n      <td>R12_NAM</td>\n      <td>2020</td>\n      <td>2015</td>\n      <td>CO2_Emission</td>\n      <td>-0.631</td>\n      <td>R12_NAM</td>\n      <td>2020</td>\n      <td>54.575404</td>\n      <td>-34.437080</td>\n    </tr>\n    <tr>\n      <th rowspan=\"3\" valign=\"top\">loil_imp</th>\n      <th>M1</th>\n      <td>R12_NAM</td>\n      <td>2020</td>\n      <td>2020</td>\n      <td>CO2_Emission</td>\n      <td>0.631</td>\n      <td>R12_NAM</td>\n      <td>2020</td>\n      <td>302.049754</td>\n      <td>190.593395</td>\n    </tr>\n    <tr>\n      <th>M1</th>\n      <td>R12_PAO</td>\n      <td>2020</td>\n      <td>2020</td>\n      <td>CO2_Emission</td>\n      <td>0.631</td>\n      <td>R12_PAO</td>\n      <td>2020</td>\n      <td>9.866751</td>\n      <td>6.225920</td>\n    </tr>\n    <tr>\n      <th>M1</th>\n      <td>R12_RCPA</td>\n      <td>2020</td>\n      <td>2020</td>\n      <td>CO2_Emission</td>\n      <td>0.631</td>\n      <td>R12_RCPA</td>\n      <td>2020</td>\n      <td>5.307703</td>\n      <td>3.349160</td>\n    </tr>\n    <tr>\n      <th>loil_exp</th>\n      <th>M1</th>\n      <td>R12_SAS</td>\n      <td>2020</td>\n      <td>2015</td>\n      <td>CO2_Emission</td>\n      <td>-0.631</td>\n      <td>R12_SAS</td>\n      <td>2020</td>\n      <td>15.521467</td>\n      <td>-9.794046</td>\n    </tr>\n    <tr>\n      <th rowspan=\"2\" valign=\"top\">loil_imp</th>\n      <th>M1</th>\n      <td>R12_SAS</td>\n      <td>2020</td>\n      <td>2020</td>\n      <td>CO2_Emission</td>\n      <td>0.631</td>\n      <td>R12_SAS</td>\n      <td>2020</td>\n      <td>33.309633</td>\n      <td>21.018378</td>\n    </tr>\n    <tr>\n      <th>M1</th>\n      <td>R12_WEU</td>\n      <td>2020</td>\n      <td>2020</td>\n      <td>CO2_Emission</td>\n      <td>0.631</td>\n      <td>R12_WEU</td>\n      <td>2020</td>\n      <td>23.414262</td>\n      <td>14.774399</td>\n    </tr>\n  </tbody>\n</table>\n</div>"
     },
     "execution_count": 33,
     "metadata": {},
     "output_type": "execute_result"
    }
   ],
   "source": [
    "emi_top_down_new[emi_top_down_new.index.get_level_values(0).str.contains(\"loil\")]"
   ],
   "metadata": {
    "collapsed": false
   }
  },
  {
   "cell_type": "code",
   "execution_count": 34,
   "outputs": [
    {
     "data": {
      "text/plain": "\"['gas_exp_chn', 'gas_exp_cpa', 'gas_exp_eeu', 'gas_exp_sas', 'gas_exp_weu', 'gas_imp', 'loil_exp']\""
     },
     "execution_count": 34,
     "metadata": {},
     "output_type": "execute_result"
    }
   ],
   "source": [
    "trd_tecs = sorted(list(emi_top_down_new.loc[(emi_top_down_new.index.get_level_values(0).str.contains(\"exp\")) | (emi_top_down_new.index.get_level_values(0).str.contains(\"imp\")) | (emi_top_down_new.index.get_level_values(0).str.contains(\"LNG\"))].index.get_level_values(0).unique()))#.sum()\n",
    "comm_trd = [*trd_tecs[6:13]]#, trd_tecs[0]]\n",
    "str(comm_trd)"
   ],
   "metadata": {
    "collapsed": false
   }
  },
  {
   "cell_type": "code",
   "execution_count": 35,
   "outputs": [
    {
     "name": "stdout",
     "output_type": "stream",
     "text": [
      "total top-down:  10106.387931650237\n"
     ]
    }
   ],
   "source": [
    "print(\"total top-down: \", emi_top_down_new.sum()[\"emi\"])"
   ],
   "metadata": {
    "collapsed": false
   }
  },
  {
   "cell_type": "code",
   "execution_count": 36,
   "outputs": [
    {
     "name": "stdout",
     "output_type": "stream",
     "text": [
      "top-down trade balance:  -309.90262543642564\n"
     ]
    }
   ],
   "source": [
    "print(\"top-down trade balance: \", emi_top_down_new.loc[(emi_top_down_new.index.get_level_values(0).isin(comm_trd))].sum()[\"emi\"])"
   ],
   "metadata": {
    "collapsed": false
   }
  },
  {
   "cell_type": "code",
   "execution_count": 37,
   "outputs": [
    {
     "name": "stdout",
     "output_type": "stream",
     "text": [
      "          top-down              bottom-up\n",
      "coal:  15310.756509423185     15367.135755810177\n",
      "oil:   12224.570955760117   12550.335173360832\n",
      "gas:   7622.870492500809   7425.670749577608\n",
      "total:   35158.19795768411   35343.141678748616\n"
     ]
    }
   ],
   "source": [
    "print(\"          top-down              bottom-up\")\n",
    "print(\"coal: \", top_new_coal.sum()[\"emi\"] * co2_c_factor,\"   \", bot_new_coal.sum()[\"emi\"] * co2_c_factor)\n",
    "print(\"oil:  \", top_new_oil.sum()[\"emi\"] * co2_c_factor, \" \", bot_new_oil.sum()[\"emi\"] * co2_c_factor)\n",
    "print(\"gas:  \", top_new_gas.sum()[\"emi\"] * co2_c_factor,\" \", bot_new_gas.sum()[\"emi\"] * co2_c_factor)\n",
    "print(\"total:  \", (top_new_coal.sum()[\"emi\"]+top_new_oil.sum()[\"emi\"]+top_new_gas.sum()[\"emi\"]) * co2_c_factor,\" \", (bot_new_coal.sum()[\"emi\"]+bot_new_oil.sum()[\"emi\"]+bot_new_gas.sum()[\"emi\"]) * co2_c_factor)"
   ],
   "metadata": {
    "collapsed": false
   }
  },
  {
   "cell_type": "markdown",
   "source": [],
   "metadata": {
    "collapsed": false
   }
  },
  {
   "cell_type": "markdown",
   "source": [
    "## carbon IO gas"
   ],
   "metadata": {
    "collapsed": false
   }
  },
  {
   "cell_type": "code",
   "execution_count": 38,
   "outputs": [],
   "source": [
    "emi_factor_gas = 0.482"
   ],
   "metadata": {
    "collapsed": false
   }
  },
  {
   "cell_type": "code",
   "execution_count": 39,
   "outputs": [
    {
     "data": {
      "text/plain": "node_loc  year_act  tec            mode  year_vtg\nR12_LAM   2020      gas_extr_mpen  M1    2020        139.81507\nName: output, dtype: float64"
     },
     "execution_count": 39,
     "metadata": {},
     "output_type": "execute_result"
    }
   ],
   "source": [
    "act_out.loc[region, year, [\"gas_extr_mpen\"]][\"output\"] * emi_factor_gas"
   ],
   "metadata": {
    "collapsed": false
   }
  },
  {
   "cell_type": "code",
   "execution_count": 40,
   "outputs": [
    {
     "name": "stderr",
     "output_type": "stream",
     "text": [
      "C:\\Users\\maczek\\AppData\\Local\\Temp\\ipykernel_17352\\2951075765.py:1: FutureWarning: The behavior of indexing on a MultiIndex with a nested sequence of labels is deprecated and will change in a future version. `series.loc[label, sequence]` will raise if any members of 'sequence' or not present in the index's second level. To retain the old behavior, use `series.index.isin(sequence, level=1)`\n",
      "  inp_atm_dist = act_in.loc[region, year, [\"gas_bal\", \"gas_exp_nam\", \"LNG_prod\", \"gas_exp_cpa\", \"gas_exp_chn\", \"gas_exp_eeu\", \"gas_exp_sas\",\"gas_exp_weu\"]]\n"
     ]
    },
    {
     "data": {
      "text/plain": "                                               Level commodity    level  \\\nnode_loc year_act tec      mode year_vtg                                  \nR12_LAM  2020     gas_bal  M1   2020      252.783802       gas  primary   \n                  LNG_prod M1   2020       37.305296       gas  primary   \n\n                                          Value node_origin       input  \nnode_loc year_act tec      mode year_vtg                                 \nR12_LAM  2020     gas_bal  M1   2020        1.0     R12_LAM  252.783802  \n                  LNG_prod M1   2020        1.0     R12_LAM   37.305296  ",
      "text/html": "<div>\n<style scoped>\n    .dataframe tbody tr th:only-of-type {\n        vertical-align: middle;\n    }\n\n    .dataframe tbody tr th {\n        vertical-align: top;\n    }\n\n    .dataframe thead th {\n        text-align: right;\n    }\n</style>\n<table border=\"1\" class=\"dataframe\">\n  <thead>\n    <tr style=\"text-align: right;\">\n      <th></th>\n      <th></th>\n      <th></th>\n      <th></th>\n      <th></th>\n      <th>Level</th>\n      <th>commodity</th>\n      <th>level</th>\n      <th>Value</th>\n      <th>node_origin</th>\n      <th>input</th>\n    </tr>\n    <tr>\n      <th>node_loc</th>\n      <th>year_act</th>\n      <th>tec</th>\n      <th>mode</th>\n      <th>year_vtg</th>\n      <th></th>\n      <th></th>\n      <th></th>\n      <th></th>\n      <th></th>\n      <th></th>\n    </tr>\n  </thead>\n  <tbody>\n    <tr>\n      <th rowspan=\"2\" valign=\"top\">R12_LAM</th>\n      <th rowspan=\"2\" valign=\"top\">2020</th>\n      <th>gas_bal</th>\n      <th>M1</th>\n      <th>2020</th>\n      <td>252.783802</td>\n      <td>gas</td>\n      <td>primary</td>\n      <td>1.0</td>\n      <td>R12_LAM</td>\n      <td>252.783802</td>\n    </tr>\n    <tr>\n      <th>LNG_prod</th>\n      <th>M1</th>\n      <th>2020</th>\n      <td>37.305296</td>\n      <td>gas</td>\n      <td>primary</td>\n      <td>1.0</td>\n      <td>R12_LAM</td>\n      <td>37.305296</td>\n    </tr>\n  </tbody>\n</table>\n</div>"
     },
     "execution_count": 40,
     "metadata": {},
     "output_type": "execute_result"
    }
   ],
   "source": [
    "inp_atm_dist = act_in.loc[region, year, [\"gas_bal\", \"gas_exp_nam\", \"LNG_prod\", \"gas_exp_cpa\", \"gas_exp_chn\", \"gas_exp_eeu\", \"gas_exp_sas\",\"gas_exp_weu\"]]\n",
    "inp_atm_dist#.sum()"
   ],
   "metadata": {
    "collapsed": false
   }
  },
  {
   "cell_type": "code",
   "execution_count": 41,
   "outputs": [
    {
     "data": {
      "text/plain": "node_loc  year_act  tec       mode  year_vtg\nR12_LAM   2020      gas_bal   M1    2020        121.841792\n                    LNG_prod  M1    2020         17.981153\nName: input, dtype: float64"
     },
     "execution_count": 41,
     "metadata": {},
     "output_type": "execute_result"
    }
   ],
   "source": [
    "#in_gas_proc = act_in.loc[region, year, \"gas_processing_petro\"]\n",
    "(inp_atm_dist[\"input\"] * emi_factor_gas)#.sum()"
   ],
   "metadata": {
    "collapsed": false
   }
  },
  {
   "cell_type": "code",
   "execution_count": 42,
   "outputs": [
    {
     "data": {
      "text/plain": "tec\nfurnace_gas_refining    22.566977\ngas_NH3                  2.610735\ngas_cc                  38.983500\ngas_ppl                  2.953142\ngas_t_d                 47.083041\nh2_smr                   3.473940\nmeth_ng                  4.170458\nName: input, dtype: float64"
     },
     "execution_count": 42,
     "metadata": {},
     "output_type": "execute_result"
    }
   ],
   "source": [
    "(act_in.loc[region, year, act_in[\"level\"]==\"secondary\", act_in[\"commodity\"]==\"gas\"][\"input\"]\n",
    " * emi_factor_gas).groupby(\"tec\").sum()"
   ],
   "metadata": {
    "collapsed": false
   }
  },
  {
   "cell_type": "code",
   "execution_count": 43,
   "outputs": [
    {
     "data": {
      "text/plain": "tec\ndri_steel                0.428896\neaf_steel                0.019407\nfurnace_gas_petro        2.164642\ngas_i                   18.358918\ngas_processing_petro     2.809953\ngas_rc                  15.804027\nhp_gas_aluminum          0.014086\nhp_gas_rc                1.386845\nName: input, dtype: float64"
     },
     "execution_count": 43,
     "metadata": {},
     "output_type": "execute_result"
    }
   ],
   "source": [
    "(act_in.loc[region, year, act_in[\"level\"]==\"final\", act_in[\"commodity\"]==\"gas\"][\"input\"]  * emi_factor_gas).groupby(\"tec\").sum()"
   ],
   "metadata": {
    "collapsed": false
   }
  },
  {
   "cell_type": "code",
   "execution_count": 44,
   "outputs": [
    {
     "data": {
      "text/plain": "2.932242552118641"
     },
     "execution_count": 44,
     "metadata": {},
     "output_type": "execute_result"
    }
   ],
   "source": [
    "(act_out.loc[region, year, act_out[\"commodity\"].isin([\"ethane\", \"propane\"])][\"output\"]  * 0.81).sum()"
   ],
   "metadata": {
    "collapsed": false
   }
  },
  {
   "cell_type": "code",
   "execution_count": 45,
   "outputs": [
    {
     "data": {
      "text/plain": "2.0096798752590517"
     },
     "execution_count": 45,
     "metadata": {},
     "output_type": "execute_result"
    }
   ],
   "source": [
    "(act_out.loc[region, year, act_out.index.get_level_values(3).isin([\"ethane\", \"propane\"])][\"output\"]  * 0.5).sum()"
   ],
   "metadata": {
    "collapsed": false
   }
  },
  {
   "cell_type": "code",
   "execution_count": 46,
   "outputs": [
    {
     "data": {
      "text/plain": "1.2016059460355528"
     },
     "execution_count": 46,
     "metadata": {},
     "output_type": "execute_result"
    }
   ],
   "source": [
    "act_out.loc[region, year, \"steam_cracker_petro\", act_out[\"commodity\"]==\"gas\"].sum()[\"output\"] * emi_factor_gas"
   ],
   "metadata": {
    "collapsed": false
   }
  },
  {
   "cell_type": "markdown",
   "source": [],
   "metadata": {
    "collapsed": false
   }
  },
  {
   "cell_type": "markdown",
   "source": [
    "## carbon IO oil"
   ],
   "metadata": {
    "collapsed": false
   }
  },
  {
   "cell_type": "code",
   "execution_count": 47,
   "outputs": [
    {
     "ename": "KeyError",
     "evalue": "('R12_LAM', '2020', 'oil_imp')",
     "output_type": "error",
     "traceback": [
      "\u001B[1;31m---------------------------------------------------------------------------\u001B[0m",
      "\u001B[1;31mKeyError\u001B[0m                                  Traceback (most recent call last)",
      "Input \u001B[1;32mIn [47]\u001B[0m, in \u001B[0;36m<cell line: 4>\u001B[1;34m()\u001B[0m\n\u001B[0;32m      2\u001B[0m out_oil_extr \u001B[38;5;241m=\u001B[39m act_out\u001B[38;5;241m.\u001B[39mloc[region, year, extr_tec]\n\u001B[0;32m      3\u001B[0m out_oil_exp \u001B[38;5;241m=\u001B[39m act_out\u001B[38;5;241m.\u001B[39mloc[region, year, \u001B[38;5;124m\"\u001B[39m\u001B[38;5;124moil_exp\u001B[39m\u001B[38;5;124m\"\u001B[39m]\n\u001B[1;32m----> 4\u001B[0m in_oil_imp \u001B[38;5;241m=\u001B[39m \u001B[43mact_in\u001B[49m\u001B[38;5;241;43m.\u001B[39;49m\u001B[43mloc\u001B[49m\u001B[43m[\u001B[49m\u001B[43mregion\u001B[49m\u001B[43m,\u001B[49m\u001B[43m \u001B[49m\u001B[43myear\u001B[49m\u001B[43m,\u001B[49m\u001B[43m \u001B[49m\u001B[38;5;124;43m\"\u001B[39;49m\u001B[38;5;124;43moil_imp\u001B[39;49m\u001B[38;5;124;43m\"\u001B[39;49m\u001B[43m]\u001B[49m\n\u001B[0;32m      6\u001B[0m carbon_in_extr \u001B[38;5;241m=\u001B[39m (out_oil_extr\u001B[38;5;241m.\u001B[39msum()[\u001B[38;5;124m\"\u001B[39m\u001B[38;5;124moutput\u001B[39m\u001B[38;5;124m\"\u001B[39m] \u001B[38;5;241m-\u001B[39m out_oil_exp\u001B[38;5;241m.\u001B[39msum()[\u001B[38;5;124m\"\u001B[39m\u001B[38;5;124moutput\u001B[39m\u001B[38;5;124m\"\u001B[39m] \u001B[38;5;241m+\u001B[39m in_oil_imp\u001B[38;5;241m.\u001B[39msum()[\u001B[38;5;124m\"\u001B[39m\u001B[38;5;124minput\u001B[39m\u001B[38;5;124m\"\u001B[39m]) \u001B[38;5;241m*\u001B[39m \u001B[38;5;241m0.631\u001B[39m\n\u001B[0;32m      7\u001B[0m carbon_in_extr\n",
      "File \u001B[1;32m~\\Anaconda3\\lib\\site-packages\\pandas\\core\\indexing.py:961\u001B[0m, in \u001B[0;36m_LocationIndexer.__getitem__\u001B[1;34m(self, key)\u001B[0m\n\u001B[0;32m    959\u001B[0m     \u001B[38;5;28;01mif\u001B[39;00m \u001B[38;5;28mself\u001B[39m\u001B[38;5;241m.\u001B[39m_is_scalar_access(key):\n\u001B[0;32m    960\u001B[0m         \u001B[38;5;28;01mreturn\u001B[39;00m \u001B[38;5;28mself\u001B[39m\u001B[38;5;241m.\u001B[39mobj\u001B[38;5;241m.\u001B[39m_get_value(\u001B[38;5;241m*\u001B[39mkey, takeable\u001B[38;5;241m=\u001B[39m\u001B[38;5;28mself\u001B[39m\u001B[38;5;241m.\u001B[39m_takeable)\n\u001B[1;32m--> 961\u001B[0m     \u001B[38;5;28;01mreturn\u001B[39;00m \u001B[38;5;28;43mself\u001B[39;49m\u001B[38;5;241;43m.\u001B[39;49m\u001B[43m_getitem_tuple\u001B[49m\u001B[43m(\u001B[49m\u001B[43mkey\u001B[49m\u001B[43m)\u001B[49m\n\u001B[0;32m    962\u001B[0m \u001B[38;5;28;01melse\u001B[39;00m:\n\u001B[0;32m    963\u001B[0m     \u001B[38;5;66;03m# we by definition only have the 0th axis\u001B[39;00m\n\u001B[0;32m    964\u001B[0m     axis \u001B[38;5;241m=\u001B[39m \u001B[38;5;28mself\u001B[39m\u001B[38;5;241m.\u001B[39maxis \u001B[38;5;129;01mor\u001B[39;00m \u001B[38;5;241m0\u001B[39m\n",
      "File \u001B[1;32m~\\Anaconda3\\lib\\site-packages\\pandas\\core\\indexing.py:1140\u001B[0m, in \u001B[0;36m_LocIndexer._getitem_tuple\u001B[1;34m(self, tup)\u001B[0m\n\u001B[0;32m   1138\u001B[0m \u001B[38;5;28;01mwith\u001B[39;00m suppress(IndexingError):\n\u001B[0;32m   1139\u001B[0m     tup \u001B[38;5;241m=\u001B[39m \u001B[38;5;28mself\u001B[39m\u001B[38;5;241m.\u001B[39m_expand_ellipsis(tup)\n\u001B[1;32m-> 1140\u001B[0m     \u001B[38;5;28;01mreturn\u001B[39;00m \u001B[38;5;28;43mself\u001B[39;49m\u001B[38;5;241;43m.\u001B[39;49m\u001B[43m_getitem_lowerdim\u001B[49m\u001B[43m(\u001B[49m\u001B[43mtup\u001B[49m\u001B[43m)\u001B[49m\n\u001B[0;32m   1142\u001B[0m \u001B[38;5;66;03m# no multi-index, so validate all of the indexers\u001B[39;00m\n\u001B[0;32m   1143\u001B[0m tup \u001B[38;5;241m=\u001B[39m \u001B[38;5;28mself\u001B[39m\u001B[38;5;241m.\u001B[39m_validate_tuple_indexer(tup)\n",
      "File \u001B[1;32m~\\Anaconda3\\lib\\site-packages\\pandas\\core\\indexing.py:859\u001B[0m, in \u001B[0;36m_LocationIndexer._getitem_lowerdim\u001B[1;34m(self, tup)\u001B[0m\n\u001B[0;32m    849\u001B[0m \u001B[38;5;28;01mif\u001B[39;00m (\n\u001B[0;32m    850\u001B[0m     \u001B[38;5;28misinstance\u001B[39m(ax0, MultiIndex)\n\u001B[0;32m    851\u001B[0m     \u001B[38;5;129;01mand\u001B[39;00m \u001B[38;5;28mself\u001B[39m\u001B[38;5;241m.\u001B[39mname \u001B[38;5;241m!=\u001B[39m \u001B[38;5;124m\"\u001B[39m\u001B[38;5;124miloc\u001B[39m\u001B[38;5;124m\"\u001B[39m\n\u001B[1;32m   (...)\u001B[0m\n\u001B[0;32m    856\u001B[0m     \u001B[38;5;66;03m#  is equivalent.\u001B[39;00m\n\u001B[0;32m    857\u001B[0m     \u001B[38;5;66;03m#  (see the other place where we call _handle_lowerdim_multi_index_axis0)\u001B[39;00m\n\u001B[0;32m    858\u001B[0m     \u001B[38;5;28;01mwith\u001B[39;00m suppress(IndexingError):\n\u001B[1;32m--> 859\u001B[0m         \u001B[38;5;28;01mreturn\u001B[39;00m \u001B[38;5;28;43mself\u001B[39;49m\u001B[38;5;241;43m.\u001B[39;49m\u001B[43m_handle_lowerdim_multi_index_axis0\u001B[49m\u001B[43m(\u001B[49m\u001B[43mtup\u001B[49m\u001B[43m)\u001B[49m\n\u001B[0;32m    861\u001B[0m tup \u001B[38;5;241m=\u001B[39m \u001B[38;5;28mself\u001B[39m\u001B[38;5;241m.\u001B[39m_validate_key_length(tup)\n\u001B[0;32m    863\u001B[0m \u001B[38;5;28;01mfor\u001B[39;00m i, key \u001B[38;5;129;01min\u001B[39;00m \u001B[38;5;28menumerate\u001B[39m(tup):\n",
      "File \u001B[1;32m~\\Anaconda3\\lib\\site-packages\\pandas\\core\\indexing.py:1166\u001B[0m, in \u001B[0;36m_LocIndexer._handle_lowerdim_multi_index_axis0\u001B[1;34m(self, tup)\u001B[0m\n\u001B[0;32m   1162\u001B[0m \u001B[38;5;28;01mexcept\u001B[39;00m \u001B[38;5;167;01mKeyError\u001B[39;00m \u001B[38;5;28;01mas\u001B[39;00m ek:\n\u001B[0;32m   1163\u001B[0m     \u001B[38;5;66;03m# raise KeyError if number of indexers match\u001B[39;00m\n\u001B[0;32m   1164\u001B[0m     \u001B[38;5;66;03m# else IndexingError will be raised\u001B[39;00m\n\u001B[0;32m   1165\u001B[0m     \u001B[38;5;28;01mif\u001B[39;00m \u001B[38;5;28mself\u001B[39m\u001B[38;5;241m.\u001B[39mndim \u001B[38;5;241m<\u001B[39m \u001B[38;5;28mlen\u001B[39m(tup) \u001B[38;5;241m<\u001B[39m\u001B[38;5;241m=\u001B[39m \u001B[38;5;28mself\u001B[39m\u001B[38;5;241m.\u001B[39mobj\u001B[38;5;241m.\u001B[39mindex\u001B[38;5;241m.\u001B[39mnlevels:\n\u001B[1;32m-> 1166\u001B[0m         \u001B[38;5;28;01mraise\u001B[39;00m ek\n\u001B[0;32m   1167\u001B[0m     \u001B[38;5;28;01mraise\u001B[39;00m IndexingError(\u001B[38;5;124m\"\u001B[39m\u001B[38;5;124mNo label returned\u001B[39m\u001B[38;5;124m\"\u001B[39m) \u001B[38;5;28;01mfrom\u001B[39;00m \u001B[38;5;21;01mek\u001B[39;00m\n",
      "File \u001B[1;32m~\\Anaconda3\\lib\\site-packages\\pandas\\core\\indexing.py:1160\u001B[0m, in \u001B[0;36m_LocIndexer._handle_lowerdim_multi_index_axis0\u001B[1;34m(self, tup)\u001B[0m\n\u001B[0;32m   1157\u001B[0m axis \u001B[38;5;241m=\u001B[39m \u001B[38;5;28mself\u001B[39m\u001B[38;5;241m.\u001B[39maxis \u001B[38;5;129;01mor\u001B[39;00m \u001B[38;5;241m0\u001B[39m\n\u001B[0;32m   1158\u001B[0m \u001B[38;5;28;01mtry\u001B[39;00m:\n\u001B[0;32m   1159\u001B[0m     \u001B[38;5;66;03m# fast path for series or for tup devoid of slices\u001B[39;00m\n\u001B[1;32m-> 1160\u001B[0m     \u001B[38;5;28;01mreturn\u001B[39;00m \u001B[38;5;28;43mself\u001B[39;49m\u001B[38;5;241;43m.\u001B[39;49m\u001B[43m_get_label\u001B[49m\u001B[43m(\u001B[49m\u001B[43mtup\u001B[49m\u001B[43m,\u001B[49m\u001B[43m \u001B[49m\u001B[43maxis\u001B[49m\u001B[38;5;241;43m=\u001B[39;49m\u001B[43maxis\u001B[49m\u001B[43m)\u001B[49m\n\u001B[0;32m   1162\u001B[0m \u001B[38;5;28;01mexcept\u001B[39;00m \u001B[38;5;167;01mKeyError\u001B[39;00m \u001B[38;5;28;01mas\u001B[39;00m ek:\n\u001B[0;32m   1163\u001B[0m     \u001B[38;5;66;03m# raise KeyError if number of indexers match\u001B[39;00m\n\u001B[0;32m   1164\u001B[0m     \u001B[38;5;66;03m# else IndexingError will be raised\u001B[39;00m\n\u001B[0;32m   1165\u001B[0m     \u001B[38;5;28;01mif\u001B[39;00m \u001B[38;5;28mself\u001B[39m\u001B[38;5;241m.\u001B[39mndim \u001B[38;5;241m<\u001B[39m \u001B[38;5;28mlen\u001B[39m(tup) \u001B[38;5;241m<\u001B[39m\u001B[38;5;241m=\u001B[39m \u001B[38;5;28mself\u001B[39m\u001B[38;5;241m.\u001B[39mobj\u001B[38;5;241m.\u001B[39mindex\u001B[38;5;241m.\u001B[39mnlevels:\n",
      "File \u001B[1;32m~\\Anaconda3\\lib\\site-packages\\pandas\\core\\indexing.py:1153\u001B[0m, in \u001B[0;36m_LocIndexer._get_label\u001B[1;34m(self, label, axis)\u001B[0m\n\u001B[0;32m   1151\u001B[0m \u001B[38;5;28;01mdef\u001B[39;00m \u001B[38;5;21m_get_label\u001B[39m(\u001B[38;5;28mself\u001B[39m, label, axis: \u001B[38;5;28mint\u001B[39m):\n\u001B[0;32m   1152\u001B[0m     \u001B[38;5;66;03m# GH#5667 this will fail if the label is not present in the axis.\u001B[39;00m\n\u001B[1;32m-> 1153\u001B[0m     \u001B[38;5;28;01mreturn\u001B[39;00m \u001B[38;5;28;43mself\u001B[39;49m\u001B[38;5;241;43m.\u001B[39;49m\u001B[43mobj\u001B[49m\u001B[38;5;241;43m.\u001B[39;49m\u001B[43mxs\u001B[49m\u001B[43m(\u001B[49m\u001B[43mlabel\u001B[49m\u001B[43m,\u001B[49m\u001B[43m \u001B[49m\u001B[43maxis\u001B[49m\u001B[38;5;241;43m=\u001B[39;49m\u001B[43maxis\u001B[49m\u001B[43m)\u001B[49m\n",
      "File \u001B[1;32m~\\Anaconda3\\lib\\site-packages\\pandas\\core\\generic.py:3857\u001B[0m, in \u001B[0;36mNDFrame.xs\u001B[1;34m(self, key, axis, level, drop_level)\u001B[0m\n\u001B[0;32m   3854\u001B[0m \u001B[38;5;28mself\u001B[39m\u001B[38;5;241m.\u001B[39m_consolidate_inplace()\n\u001B[0;32m   3856\u001B[0m \u001B[38;5;28;01mif\u001B[39;00m \u001B[38;5;28misinstance\u001B[39m(index, MultiIndex):\n\u001B[1;32m-> 3857\u001B[0m     loc, new_index \u001B[38;5;241m=\u001B[39m \u001B[43mindex\u001B[49m\u001B[38;5;241;43m.\u001B[39;49m\u001B[43m_get_loc_level\u001B[49m\u001B[43m(\u001B[49m\u001B[43mkey\u001B[49m\u001B[43m,\u001B[49m\u001B[43m \u001B[49m\u001B[43mlevel\u001B[49m\u001B[38;5;241;43m=\u001B[39;49m\u001B[38;5;241;43m0\u001B[39;49m\u001B[43m)\u001B[49m\n\u001B[0;32m   3858\u001B[0m     \u001B[38;5;28;01mif\u001B[39;00m \u001B[38;5;129;01mnot\u001B[39;00m drop_level:\n\u001B[0;32m   3859\u001B[0m         \u001B[38;5;28;01mif\u001B[39;00m lib\u001B[38;5;241m.\u001B[39mis_integer(loc):\n",
      "File \u001B[1;32m~\\Anaconda3\\lib\\site-packages\\pandas\\core\\indexes\\multi.py:3052\u001B[0m, in \u001B[0;36mMultiIndex._get_loc_level\u001B[1;34m(self, key, level)\u001B[0m\n\u001B[0;32m   3049\u001B[0m         \u001B[38;5;28;01mpass\u001B[39;00m\n\u001B[0;32m   3051\u001B[0m \u001B[38;5;66;03m# partial selection\u001B[39;00m\n\u001B[1;32m-> 3052\u001B[0m indexer \u001B[38;5;241m=\u001B[39m \u001B[38;5;28;43mself\u001B[39;49m\u001B[38;5;241;43m.\u001B[39;49m\u001B[43mget_loc\u001B[49m\u001B[43m(\u001B[49m\u001B[43mkey\u001B[49m\u001B[43m)\u001B[49m\n\u001B[0;32m   3053\u001B[0m ilevels \u001B[38;5;241m=\u001B[39m [i \u001B[38;5;28;01mfor\u001B[39;00m i \u001B[38;5;129;01min\u001B[39;00m \u001B[38;5;28mrange\u001B[39m(\u001B[38;5;28mlen\u001B[39m(key)) \u001B[38;5;28;01mif\u001B[39;00m key[i] \u001B[38;5;241m!=\u001B[39m \u001B[38;5;28mslice\u001B[39m(\u001B[38;5;28;01mNone\u001B[39;00m, \u001B[38;5;28;01mNone\u001B[39;00m)]\n\u001B[0;32m   3054\u001B[0m \u001B[38;5;28;01mif\u001B[39;00m \u001B[38;5;28mlen\u001B[39m(ilevels) \u001B[38;5;241m==\u001B[39m \u001B[38;5;28mself\u001B[39m\u001B[38;5;241m.\u001B[39mnlevels:\n",
      "File \u001B[1;32m~\\Anaconda3\\lib\\site-packages\\pandas\\core\\indexes\\multi.py:2905\u001B[0m, in \u001B[0;36mMultiIndex.get_loc\u001B[1;34m(self, key, method)\u001B[0m\n\u001B[0;32m   2902\u001B[0m         \u001B[38;5;28;01mraise\u001B[39;00m \u001B[38;5;167;01mKeyError\u001B[39;00m(key) \u001B[38;5;28;01mfrom\u001B[39;00m \u001B[38;5;21;01merr\u001B[39;00m\n\u001B[0;32m   2904\u001B[0m \u001B[38;5;28;01mif\u001B[39;00m start \u001B[38;5;241m==\u001B[39m stop:\n\u001B[1;32m-> 2905\u001B[0m     \u001B[38;5;28;01mraise\u001B[39;00m \u001B[38;5;167;01mKeyError\u001B[39;00m(key)\n\u001B[0;32m   2907\u001B[0m \u001B[38;5;28;01mif\u001B[39;00m \u001B[38;5;129;01mnot\u001B[39;00m follow_key:\n\u001B[0;32m   2908\u001B[0m     \u001B[38;5;28;01mreturn\u001B[39;00m \u001B[38;5;28mslice\u001B[39m(start, stop)\n",
      "\u001B[1;31mKeyError\u001B[0m: ('R12_LAM', '2020', 'oil_imp')"
     ]
    }
   ],
   "source": [
    "extr_tec = \"oil_extr_mpen\"\n",
    "out_oil_extr = act_out.loc[region, year, extr_tec]\n",
    "out_oil_exp = act_out.loc[region, year, \"oil_exp\"]\n",
    "in_oil_imp = act_in.loc[region, year, \"oil_imp\"]\n",
    "\n",
    "carbon_in_extr = (out_oil_extr.sum()[\"output\"] - out_oil_exp.sum()[\"output\"] + in_oil_imp.sum()[\"input\"]) * 0.631\n",
    "carbon_in_extr"
   ],
   "metadata": {
    "collapsed": false
   }
  },
  {
   "cell_type": "code",
   "execution_count": 48,
   "outputs": [
    {
     "data": {
      "text/plain": "319.2508439033615"
     },
     "execution_count": 48,
     "metadata": {},
     "output_type": "execute_result"
    }
   ],
   "source": [
    "inp_atm_dist = act_in.loc[region, year, \"atm_distillation_ref\"]\n",
    "carbon_in_ref = inp_atm_dist[inp_atm_dist[\"commodity\"] == \"crudeoil\"].sum()[\"input\"] * 0.631\n",
    "carbon_in_ref"
   ],
   "metadata": {
    "collapsed": false
   }
  },
  {
   "cell_type": "code",
   "execution_count": 49,
   "outputs": [
    {
     "name": "stdout",
     "output_type": "stream",
     "text": [
      "10.089172440637014\n"
     ]
    }
   ],
   "source": [
    "out_agg_ref = act_out.loc[region, year, \"agg_ref\"]\n",
    "carbon_out_agg_ref = out_agg_ref.loc[out_agg_ref[\"commodity\"].isin([\"fueloil\"])][\"output\"].sum() * 0.665 \\\n",
    "+ out_agg_ref[~out_agg_ref[\"commodity\"].isin([\"fueloil\"])].sum()[\"output\"] * 0.631\n",
    "\n",
    "print(carbon_in_ref - carbon_out_agg_ref)"
   ],
   "metadata": {
    "collapsed": false
   }
  },
  {
   "cell_type": "code",
   "execution_count": 50,
   "outputs": [
    {
     "name": "stderr",
     "output_type": "stream",
     "text": [
      "C:\\Users\\maczek\\AppData\\Local\\Temp\\ipykernel_17352\\3261112422.py:1: PerformanceWarning: indexing past lexsort depth may impact performance.\n",
      "  inp_atm_dist = act_in.swaplevel(0,2).loc[\"atm_distillation_ref\", year]\n"
     ]
    },
    {
     "name": "stdout",
     "output_type": "stream",
     "text": [
      "252.94682658537567\n"
     ]
    },
    {
     "name": "stderr",
     "output_type": "stream",
     "text": [
      "C:\\Users\\maczek\\AppData\\Local\\Temp\\ipykernel_17352\\3261112422.py:4: PerformanceWarning: indexing past lexsort depth may impact performance.\n",
      "  out_agg_ref = act_out.swaplevel(0,2).loc[\"agg_ref\", year]\n"
     ]
    }
   ],
   "source": [
    "inp_atm_dist = act_in.swaplevel(0,2).loc[\"atm_distillation_ref\", year]\n",
    "carbon_in_ref = inp_atm_dist[inp_atm_dist[\"commodity\"] == \"crudeoil\"].sum()[\"input\"] * 0.631\n",
    "\n",
    "out_agg_ref = act_out.swaplevel(0,2).loc[\"agg_ref\", year]\n",
    "carbon_out_agg_ref = out_agg_ref.loc[out_agg_ref[\"commodity\"].isin([\"fueloil\"])][\"output\"].sum() * 0.665 + out_agg_ref[~out_agg_ref[\"commodity\"].isin([\"fueloil\"])].sum()[\"output\"] * 0.631\n",
    "\n",
    "print(carbon_in_ref - carbon_out_agg_ref)"
   ],
   "metadata": {
    "collapsed": false
   }
  },
  {
   "cell_type": "code",
   "execution_count": 51,
   "outputs": [
    {
     "name": "stderr",
     "output_type": "stream",
     "text": [
      "C:\\Users\\maczek\\AppData\\Local\\Temp\\ipykernel_17352\\2343031665.py:1: PerformanceWarning: indexing past lexsort depth may impact performance.\n",
      "  sc_in = act_in.swaplevel(0,2).loc[\"steam_cracker_petro\", year]\n"
     ]
    },
    {
     "data": {
      "text/plain": "301.4771887846489"
     },
     "execution_count": 51,
     "metadata": {},
     "output_type": "execute_result"
    }
   ],
   "source": [
    "sc_in = act_in.swaplevel(0,2).loc[\"steam_cracker_petro\", year]\n",
    "sc_in[~sc_in.index.get_level_values(1).isin([\"ethane\", \"propane\"])].sum()[\"input\"] * 0.631"
   ],
   "metadata": {
    "collapsed": false
   }
  },
  {
   "cell_type": "markdown",
   "source": [],
   "metadata": {
    "collapsed": false
   }
  },
  {
   "cell_type": "markdown",
   "source": [
    "## carbon IO coal"
   ],
   "metadata": {
    "collapsed": false
   }
  },
  {
   "cell_type": "code",
   "execution_count": 52,
   "outputs": [
    {
     "data": {
      "text/plain": "                             Level commodity           level     Value  \\\ntec       mode year_vtg                                                  \nLNG_prod  M1   2020      37.305296       gas         primary  1.000000   \ndri_steel M1   2020       2.696444       gas           final  0.330000   \n               2020       2.696444       gas  dummy_emission  0.330000   \neaf_steel M2   2005       0.265603       gas           final  0.002000   \n               2005       0.265603       gas  dummy_emission  0.002000   \n...                            ...       ...             ...       ...   \nmeth_ng   fuel 2015       2.359075       gas       secondary  1.666667   \n               2015       2.359075       gas       secondary  1.666667   \n               2015       2.359075       gas       secondary  1.666667   \n               2015       2.359075       gas       secondary  1.666667   \n               2015       2.359075       gas       secondary  1.666667   \n\n                        node_origin      input  emi_factor  \ntec       mode year_vtg                                     \nLNG_prod  M1   2020         R12_LAM  37.305296         NaN  \ndri_steel M1   2020         R12_LAM   0.889827         NaN  \n               2020         R12_LAM   0.889827         NaN  \neaf_steel M2   2005         R12_LAM   0.000531         NaN  \n               2005         R12_LAM   0.000531         NaN  \n...                             ...        ...         ...  \nmeth_ng   fuel 2015         R12_LAM   3.931792    0.253333  \n               2015         R12_LAM   3.931792    0.253333  \n               2015         R12_LAM   3.931792    0.253333  \n               2015         R12_LAM   3.931792    0.253333  \n               2015         R12_LAM   3.931792    0.253333  \n\n[2135 rows x 7 columns]",
      "text/html": "<div>\n<style scoped>\n    .dataframe tbody tr th:only-of-type {\n        vertical-align: middle;\n    }\n\n    .dataframe tbody tr th {\n        vertical-align: top;\n    }\n\n    .dataframe thead th {\n        text-align: right;\n    }\n</style>\n<table border=\"1\" class=\"dataframe\">\n  <thead>\n    <tr style=\"text-align: right;\">\n      <th></th>\n      <th></th>\n      <th></th>\n      <th>Level</th>\n      <th>commodity</th>\n      <th>level</th>\n      <th>Value</th>\n      <th>node_origin</th>\n      <th>input</th>\n      <th>emi_factor</th>\n    </tr>\n    <tr>\n      <th>tec</th>\n      <th>mode</th>\n      <th>year_vtg</th>\n      <th></th>\n      <th></th>\n      <th></th>\n      <th></th>\n      <th></th>\n      <th></th>\n      <th></th>\n    </tr>\n  </thead>\n  <tbody>\n    <tr>\n      <th>LNG_prod</th>\n      <th>M1</th>\n      <th>2020</th>\n      <td>37.305296</td>\n      <td>gas</td>\n      <td>primary</td>\n      <td>1.000000</td>\n      <td>R12_LAM</td>\n      <td>37.305296</td>\n      <td>NaN</td>\n    </tr>\n    <tr>\n      <th rowspan=\"2\" valign=\"top\">dri_steel</th>\n      <th rowspan=\"2\" valign=\"top\">M1</th>\n      <th>2020</th>\n      <td>2.696444</td>\n      <td>gas</td>\n      <td>final</td>\n      <td>0.330000</td>\n      <td>R12_LAM</td>\n      <td>0.889827</td>\n      <td>NaN</td>\n    </tr>\n    <tr>\n      <th>2020</th>\n      <td>2.696444</td>\n      <td>gas</td>\n      <td>dummy_emission</td>\n      <td>0.330000</td>\n      <td>R12_LAM</td>\n      <td>0.889827</td>\n      <td>NaN</td>\n    </tr>\n    <tr>\n      <th rowspan=\"2\" valign=\"top\">eaf_steel</th>\n      <th rowspan=\"2\" valign=\"top\">M2</th>\n      <th>2005</th>\n      <td>0.265603</td>\n      <td>gas</td>\n      <td>final</td>\n      <td>0.002000</td>\n      <td>R12_LAM</td>\n      <td>0.000531</td>\n      <td>NaN</td>\n    </tr>\n    <tr>\n      <th>2005</th>\n      <td>0.265603</td>\n      <td>gas</td>\n      <td>dummy_emission</td>\n      <td>0.002000</td>\n      <td>R12_LAM</td>\n      <td>0.000531</td>\n      <td>NaN</td>\n    </tr>\n    <tr>\n      <th>...</th>\n      <th>...</th>\n      <th>...</th>\n      <td>...</td>\n      <td>...</td>\n      <td>...</td>\n      <td>...</td>\n      <td>...</td>\n      <td>...</td>\n      <td>...</td>\n    </tr>\n    <tr>\n      <th rowspan=\"5\" valign=\"top\">meth_ng</th>\n      <th rowspan=\"5\" valign=\"top\">fuel</th>\n      <th>2015</th>\n      <td>2.359075</td>\n      <td>gas</td>\n      <td>secondary</td>\n      <td>1.666667</td>\n      <td>R12_LAM</td>\n      <td>3.931792</td>\n      <td>0.253333</td>\n    </tr>\n    <tr>\n      <th>2015</th>\n      <td>2.359075</td>\n      <td>gas</td>\n      <td>secondary</td>\n      <td>1.666667</td>\n      <td>R12_LAM</td>\n      <td>3.931792</td>\n      <td>0.253333</td>\n    </tr>\n    <tr>\n      <th>2015</th>\n      <td>2.359075</td>\n      <td>gas</td>\n      <td>secondary</td>\n      <td>1.666667</td>\n      <td>R12_LAM</td>\n      <td>3.931792</td>\n      <td>0.253333</td>\n    </tr>\n    <tr>\n      <th>2015</th>\n      <td>2.359075</td>\n      <td>gas</td>\n      <td>secondary</td>\n      <td>1.666667</td>\n      <td>R12_LAM</td>\n      <td>3.931792</td>\n      <td>0.253333</td>\n    </tr>\n    <tr>\n      <th>2015</th>\n      <td>2.359075</td>\n      <td>gas</td>\n      <td>secondary</td>\n      <td>1.666667</td>\n      <td>R12_LAM</td>\n      <td>3.931792</td>\n      <td>0.253333</td>\n    </tr>\n  </tbody>\n</table>\n<p>2135 rows × 7 columns</p>\n</div>"
     },
     "execution_count": 52,
     "metadata": {},
     "output_type": "execute_result"
    }
   ],
   "source": [
    "act_in_yr_reg = act_in.loc[region, year]\n",
    "comm = \"gas\"\n",
    "bott_dict = {\n",
    "    \"coal\":bot_new_coal,\n",
    "    \"gas\":bot_new_gas\n",
    "}\n",
    "bott_yr_reg_coal_merge = bott_dict[comm].copy(deep=True)\n",
    "x = act_in_yr_reg[(act_in_yr_reg.index.get_level_values(0).str.contains(comm)) & (act_in_yr_reg[\"commodity\"]==comm) & (act_in_yr_reg[\"level\"]==\"final\")].join(bott_yr_reg_coal_merge.rename({\"Value\": \"emi_factor\"}, axis=1)[\"emi_factor\"])\n",
    "x = act_in_yr_reg[(act_in_yr_reg[\"commodity\"]==comm)].join(bott_yr_reg_coal_merge.rename({\"Value\": \"emi_factor\"}, axis=1)[\"emi_factor\"])\n",
    "x"
   ],
   "metadata": {
    "collapsed": false
   }
  },
  {
   "cell_type": "code",
   "execution_count": 53,
   "outputs": [
    {
     "data": {
      "text/plain": "                                               Level commodity      level  \\\ntec      mode node_loc year_act year_vtg                                    \nLNG_prod M1   R12_AFR  2020     2020       60.182113       gas    primary   \n                       2025     2025       69.629561       gas    primary   \n                       2030     2030       94.292866       gas    primary   \n                       2035     2035      101.502785       gas    primary   \n                       2040     2040      100.225163       gas    primary   \n...                                              ...       ...        ...   \nmeth_ng  fuel R12_WEU  2025     2015        0.331997       gas  secondary   \n                                2015        0.331997       gas  secondary   \n                                2015        0.331997       gas  secondary   \n                                2015        0.331997       gas  secondary   \n                                2015        0.331997       gas  secondary   \n\n                                             Value node_origin       input  \\\ntec      mode node_loc year_act year_vtg                                     \nLNG_prod M1   R12_AFR  2020     2020      1.000000     R12_AFR   60.182113   \n                       2025     2025      1.000000     R12_AFR   69.629561   \n                       2030     2030      1.000000     R12_AFR   94.292866   \n                       2035     2035      1.000000     R12_AFR  101.502785   \n                       2040     2040      1.000000     R12_AFR  100.225163   \n...                                            ...         ...         ...   \nmeth_ng  fuel R12_WEU  2025     2015      1.666667     R12_WEU    0.553329   \n                                2015      1.666667     R12_WEU    0.553329   \n                                2015      1.666667     R12_WEU    0.553329   \n                                2015      1.666667     R12_WEU    0.553329   \n                                2015      1.666667     R12_WEU    0.553329   \n\n                                          emi_factor  \ntec      mode node_loc year_act year_vtg              \nLNG_prod M1   R12_AFR  2020     2020             NaN  \n                       2025     2025             NaN  \n                       2030     2030             NaN  \n                       2035     2035             NaN  \n                       2040     2040             NaN  \n...                                              ...  \nmeth_ng  fuel R12_WEU  2025     2015        0.253333  \n                                2015        0.253333  \n                                2015        0.253333  \n                                2015        0.253333  \n                                2015        0.253333  \n\n[204796 rows x 7 columns]",
      "text/html": "<div>\n<style scoped>\n    .dataframe tbody tr th:only-of-type {\n        vertical-align: middle;\n    }\n\n    .dataframe tbody tr th {\n        vertical-align: top;\n    }\n\n    .dataframe thead th {\n        text-align: right;\n    }\n</style>\n<table border=\"1\" class=\"dataframe\">\n  <thead>\n    <tr style=\"text-align: right;\">\n      <th></th>\n      <th></th>\n      <th></th>\n      <th></th>\n      <th></th>\n      <th>Level</th>\n      <th>commodity</th>\n      <th>level</th>\n      <th>Value</th>\n      <th>node_origin</th>\n      <th>input</th>\n      <th>emi_factor</th>\n    </tr>\n    <tr>\n      <th>tec</th>\n      <th>mode</th>\n      <th>node_loc</th>\n      <th>year_act</th>\n      <th>year_vtg</th>\n      <th></th>\n      <th></th>\n      <th></th>\n      <th></th>\n      <th></th>\n      <th></th>\n      <th></th>\n    </tr>\n  </thead>\n  <tbody>\n    <tr>\n      <th rowspan=\"5\" valign=\"top\">LNG_prod</th>\n      <th rowspan=\"5\" valign=\"top\">M1</th>\n      <th rowspan=\"5\" valign=\"top\">R12_AFR</th>\n      <th>2020</th>\n      <th>2020</th>\n      <td>60.182113</td>\n      <td>gas</td>\n      <td>primary</td>\n      <td>1.000000</td>\n      <td>R12_AFR</td>\n      <td>60.182113</td>\n      <td>NaN</td>\n    </tr>\n    <tr>\n      <th>2025</th>\n      <th>2025</th>\n      <td>69.629561</td>\n      <td>gas</td>\n      <td>primary</td>\n      <td>1.000000</td>\n      <td>R12_AFR</td>\n      <td>69.629561</td>\n      <td>NaN</td>\n    </tr>\n    <tr>\n      <th>2030</th>\n      <th>2030</th>\n      <td>94.292866</td>\n      <td>gas</td>\n      <td>primary</td>\n      <td>1.000000</td>\n      <td>R12_AFR</td>\n      <td>94.292866</td>\n      <td>NaN</td>\n    </tr>\n    <tr>\n      <th>2035</th>\n      <th>2035</th>\n      <td>101.502785</td>\n      <td>gas</td>\n      <td>primary</td>\n      <td>1.000000</td>\n      <td>R12_AFR</td>\n      <td>101.502785</td>\n      <td>NaN</td>\n    </tr>\n    <tr>\n      <th>2040</th>\n      <th>2040</th>\n      <td>100.225163</td>\n      <td>gas</td>\n      <td>primary</td>\n      <td>1.000000</td>\n      <td>R12_AFR</td>\n      <td>100.225163</td>\n      <td>NaN</td>\n    </tr>\n    <tr>\n      <th>...</th>\n      <th>...</th>\n      <th>...</th>\n      <th>...</th>\n      <th>...</th>\n      <td>...</td>\n      <td>...</td>\n      <td>...</td>\n      <td>...</td>\n      <td>...</td>\n      <td>...</td>\n      <td>...</td>\n    </tr>\n    <tr>\n      <th rowspan=\"5\" valign=\"top\">meth_ng</th>\n      <th rowspan=\"5\" valign=\"top\">fuel</th>\n      <th rowspan=\"5\" valign=\"top\">R12_WEU</th>\n      <th rowspan=\"5\" valign=\"top\">2025</th>\n      <th>2015</th>\n      <td>0.331997</td>\n      <td>gas</td>\n      <td>secondary</td>\n      <td>1.666667</td>\n      <td>R12_WEU</td>\n      <td>0.553329</td>\n      <td>0.253333</td>\n    </tr>\n    <tr>\n      <th>2015</th>\n      <td>0.331997</td>\n      <td>gas</td>\n      <td>secondary</td>\n      <td>1.666667</td>\n      <td>R12_WEU</td>\n      <td>0.553329</td>\n      <td>0.253333</td>\n    </tr>\n    <tr>\n      <th>2015</th>\n      <td>0.331997</td>\n      <td>gas</td>\n      <td>secondary</td>\n      <td>1.666667</td>\n      <td>R12_WEU</td>\n      <td>0.553329</td>\n      <td>0.253333</td>\n    </tr>\n    <tr>\n      <th>2015</th>\n      <td>0.331997</td>\n      <td>gas</td>\n      <td>secondary</td>\n      <td>1.666667</td>\n      <td>R12_WEU</td>\n      <td>0.553329</td>\n      <td>0.253333</td>\n    </tr>\n    <tr>\n      <th>2015</th>\n      <td>0.331997</td>\n      <td>gas</td>\n      <td>secondary</td>\n      <td>1.666667</td>\n      <td>R12_WEU</td>\n      <td>0.553329</td>\n      <td>0.253333</td>\n    </tr>\n  </tbody>\n</table>\n<p>204796 rows × 7 columns</p>\n</div>"
     },
     "execution_count": 53,
     "metadata": {},
     "output_type": "execute_result"
    }
   ],
   "source": [
    "act_in_yr_reg = act_in#.swaplevel(0,1).loc[year]\n",
    "comm = \"gas\"\n",
    "bott_dict = {\n",
    "    \"coal\":bot_new_coal,\n",
    "    \"gas\":bot_new_gas\n",
    "}\n",
    "bott_yr_reg_coal_merge = bott_dict[comm].copy(deep=True)\n",
    "x = act_in_yr_reg[(act_in_yr_reg.index.get_level_values(0).str.contains(comm)) & (act_in_yr_reg[\"commodity\"]==comm) & (act_in_yr_reg[\"level\"]==\"final\")].join(bott_yr_reg_coal_merge.rename({\"Value\": \"emi_factor\"}, axis=1)[\"emi_factor\"])\n",
    "x = act_in_yr_reg[(act_in_yr_reg[\"commodity\"]==comm)].join(bott_yr_reg_coal_merge.rename({\"Value\": \"emi_factor\"}, axis=1)[\"emi_factor\"])\n",
    "x"
   ],
   "metadata": {
    "collapsed": false
   }
  },
  {
   "cell_type": "code",
   "execution_count": 54,
   "outputs": [
    {
     "data": {
      "text/plain": "                               node_loc year_act year_vtg relation     Value  \\\ntec                  mode                                                      \nDUMMY_gas_supply     M1         R12_AFR     2020     2020  CO2_ind  0.482000   \nfurnace_gas_petro    high_temp  R12_AFR     2020     2020  CO2_ind  0.523913   \nfurnace_gas_refining high_temp  R12_AFR     2020     2020   CO2_cc  0.800120   \ngas_NH3              M1         R12_AFR     2020     2005   CO2_cc  0.534804   \n                     M1         R12_AFR     2020     2010   CO2_cc  0.534804   \n...                                 ...      ...      ...      ...       ...   \ngas_t_d              M1         R12_WEU     2020     2005   CO2_cc  0.034737   \n                     M1         R12_WEU     2020     2010   CO2_cc  0.034737   \nhp_gas_rc            M1         R12_WEU     2020     2020  CO2_r_c  0.321333   \nmeth_ng              feedstock  R12_WEU     2020     2015   CO2_cc  0.253333   \n                     fuel       R12_WEU     2020     2015   CO2_cc  0.253333   \n\n                               node_origin year_rel      Level        emi  \ntec                  mode                                                  \nDUMMY_gas_supply     M1            R12_AFR     2020   1.660615   0.800417  \nfurnace_gas_petro    high_temp     R12_AFR     2020   1.179212   0.617805  \nfurnace_gas_refining high_temp     R12_AFR     2020   4.492885   3.594847  \ngas_NH3              M1            R12_AFR     2020   1.065932   0.570065  \n                     M1            R12_AFR     2020   2.041205   1.091645  \n...                                    ...      ...        ...        ...  \ngas_t_d              M1            R12_WEU     2020  64.785421   2.250441  \n                     M1            R12_WEU     2020  15.089721   0.524169  \nhp_gas_rc            M1            R12_WEU     2020  33.288225  10.696616  \nmeth_ng              feedstock     R12_WEU     2020   1.287200   0.326091  \n                     fuel          R12_WEU     2020   1.468320   0.371975  \n\n[520 rows x 9 columns]",
      "text/html": "<div>\n<style scoped>\n    .dataframe tbody tr th:only-of-type {\n        vertical-align: middle;\n    }\n\n    .dataframe tbody tr th {\n        vertical-align: top;\n    }\n\n    .dataframe thead th {\n        text-align: right;\n    }\n</style>\n<table border=\"1\" class=\"dataframe\">\n  <thead>\n    <tr style=\"text-align: right;\">\n      <th></th>\n      <th></th>\n      <th>node_loc</th>\n      <th>year_act</th>\n      <th>year_vtg</th>\n      <th>relation</th>\n      <th>Value</th>\n      <th>node_origin</th>\n      <th>year_rel</th>\n      <th>Level</th>\n      <th>emi</th>\n    </tr>\n    <tr>\n      <th>tec</th>\n      <th>mode</th>\n      <th></th>\n      <th></th>\n      <th></th>\n      <th></th>\n      <th></th>\n      <th></th>\n      <th></th>\n      <th></th>\n      <th></th>\n    </tr>\n  </thead>\n  <tbody>\n    <tr>\n      <th>DUMMY_gas_supply</th>\n      <th>M1</th>\n      <td>R12_AFR</td>\n      <td>2020</td>\n      <td>2020</td>\n      <td>CO2_ind</td>\n      <td>0.482000</td>\n      <td>R12_AFR</td>\n      <td>2020</td>\n      <td>1.660615</td>\n      <td>0.800417</td>\n    </tr>\n    <tr>\n      <th>furnace_gas_petro</th>\n      <th>high_temp</th>\n      <td>R12_AFR</td>\n      <td>2020</td>\n      <td>2020</td>\n      <td>CO2_ind</td>\n      <td>0.523913</td>\n      <td>R12_AFR</td>\n      <td>2020</td>\n      <td>1.179212</td>\n      <td>0.617805</td>\n    </tr>\n    <tr>\n      <th>furnace_gas_refining</th>\n      <th>high_temp</th>\n      <td>R12_AFR</td>\n      <td>2020</td>\n      <td>2020</td>\n      <td>CO2_cc</td>\n      <td>0.800120</td>\n      <td>R12_AFR</td>\n      <td>2020</td>\n      <td>4.492885</td>\n      <td>3.594847</td>\n    </tr>\n    <tr>\n      <th rowspan=\"2\" valign=\"top\">gas_NH3</th>\n      <th>M1</th>\n      <td>R12_AFR</td>\n      <td>2020</td>\n      <td>2005</td>\n      <td>CO2_cc</td>\n      <td>0.534804</td>\n      <td>R12_AFR</td>\n      <td>2020</td>\n      <td>1.065932</td>\n      <td>0.570065</td>\n    </tr>\n    <tr>\n      <th>M1</th>\n      <td>R12_AFR</td>\n      <td>2020</td>\n      <td>2010</td>\n      <td>CO2_cc</td>\n      <td>0.534804</td>\n      <td>R12_AFR</td>\n      <td>2020</td>\n      <td>2.041205</td>\n      <td>1.091645</td>\n    </tr>\n    <tr>\n      <th>...</th>\n      <th>...</th>\n      <td>...</td>\n      <td>...</td>\n      <td>...</td>\n      <td>...</td>\n      <td>...</td>\n      <td>...</td>\n      <td>...</td>\n      <td>...</td>\n      <td>...</td>\n    </tr>\n    <tr>\n      <th rowspan=\"2\" valign=\"top\">gas_t_d</th>\n      <th>M1</th>\n      <td>R12_WEU</td>\n      <td>2020</td>\n      <td>2005</td>\n      <td>CO2_cc</td>\n      <td>0.034737</td>\n      <td>R12_WEU</td>\n      <td>2020</td>\n      <td>64.785421</td>\n      <td>2.250441</td>\n    </tr>\n    <tr>\n      <th>M1</th>\n      <td>R12_WEU</td>\n      <td>2020</td>\n      <td>2010</td>\n      <td>CO2_cc</td>\n      <td>0.034737</td>\n      <td>R12_WEU</td>\n      <td>2020</td>\n      <td>15.089721</td>\n      <td>0.524169</td>\n    </tr>\n    <tr>\n      <th>hp_gas_rc</th>\n      <th>M1</th>\n      <td>R12_WEU</td>\n      <td>2020</td>\n      <td>2020</td>\n      <td>CO2_r_c</td>\n      <td>0.321333</td>\n      <td>R12_WEU</td>\n      <td>2020</td>\n      <td>33.288225</td>\n      <td>10.696616</td>\n    </tr>\n    <tr>\n      <th rowspan=\"2\" valign=\"top\">meth_ng</th>\n      <th>feedstock</th>\n      <td>R12_WEU</td>\n      <td>2020</td>\n      <td>2015</td>\n      <td>CO2_cc</td>\n      <td>0.253333</td>\n      <td>R12_WEU</td>\n      <td>2020</td>\n      <td>1.287200</td>\n      <td>0.326091</td>\n    </tr>\n    <tr>\n      <th>fuel</th>\n      <td>R12_WEU</td>\n      <td>2020</td>\n      <td>2015</td>\n      <td>CO2_cc</td>\n      <td>0.253333</td>\n      <td>R12_WEU</td>\n      <td>2020</td>\n      <td>1.468320</td>\n      <td>0.371975</td>\n    </tr>\n  </tbody>\n</table>\n<p>520 rows × 9 columns</p>\n</div>"
     },
     "execution_count": 54,
     "metadata": {},
     "output_type": "execute_result"
    }
   ],
   "source": [
    "bot_new_gas.loc[\"gas_i\"]\n",
    "bott_yr_reg_coal_merge"
   ],
   "metadata": {
    "collapsed": false
   }
  },
  {
   "cell_type": "code",
   "execution_count": 55,
   "outputs": [
    {
     "data": {
      "text/plain": "mode  node_loc  year_act  year_vtg\nM1    R12_AFR   2020      2005        0.482000\n                          2005        0.482000\n                          2005        0.482000\n                          2005        0.482000\n                          2005        0.482000\n                                        ...   \n      R12_WEU   2060      2040        0.637941\n                          2040        0.637941\n                          2040        0.637941\n                          2040        0.516429\n                          2040        0.516429\nLength: 4557, dtype: float64"
     },
     "execution_count": 55,
     "metadata": {},
     "output_type": "execute_result"
    }
   ],
   "source": [
    "(x[\"emi_factor\"] / x[\"Value\"]).dropna().loc[\"gas_i\"]#.reset_index()#.drop([\"year_vtg\", \"node_loc\", \"year_act\"], axis=1).drop_duplicates()"
   ],
   "metadata": {
    "collapsed": false
   }
  },
  {
   "cell_type": "code",
   "execution_count": 56,
   "outputs": [
    {
     "name": "stderr",
     "output_type": "stream",
     "text": [
      "C:\\Users\\maczek\\AppData\\Local\\Temp\\ipykernel_17352\\3091354.py:1: PerformanceWarning: indexing past lexsort depth may impact performance.\n",
      "  x.loc[\"gas_i\", \"M1\", \"R12_CHN\"]\n"
     ]
    },
    {
     "data": {
      "text/plain": "                      Level commodity  level     Value node_origin     input  \\\nyear_act year_vtg                                                              \n2020     2005      1.228475       gas  final  1.408451     R12_CHN  1.730247   \n         2005      1.228475       gas  final  1.408451     R12_CHN  1.730247   \n         2005      1.228475       gas  final  1.408451     R12_CHN  1.730247   \n         2005      1.228475       gas  final  1.408451     R12_CHN  1.730247   \n         2005      1.228475       gas  final  1.408451     R12_CHN  1.730247   \n...                     ...       ...    ...       ...         ...       ...   \n         2015      3.930682       gas  final  1.408451     R12_CHN  5.536172   \n         2015      3.930682       gas  final  1.408451     R12_CHN  5.536172   \n         2015      3.930682       gas  final  1.408451     R12_CHN  5.536172   \n         2015      3.930682       gas  final  1.408451     R12_CHN  5.536172   \n         2015      3.930682       gas  final  1.408451     R12_CHN  5.536172   \n\n                   emi_factor  \nyear_act year_vtg              \n2020     2005        0.678873  \n         2005        0.678873  \n         2005        0.678873  \n         2005        0.678873  \n         2005        0.678873  \n...                       ...  \n         2015        0.708824  \n         2015        0.708824  \n         2015        0.708824  \n         2015        0.573810  \n         2015        0.573810  \n\n[62 rows x 7 columns]",
      "text/html": "<div>\n<style scoped>\n    .dataframe tbody tr th:only-of-type {\n        vertical-align: middle;\n    }\n\n    .dataframe tbody tr th {\n        vertical-align: top;\n    }\n\n    .dataframe thead th {\n        text-align: right;\n    }\n</style>\n<table border=\"1\" class=\"dataframe\">\n  <thead>\n    <tr style=\"text-align: right;\">\n      <th></th>\n      <th></th>\n      <th>Level</th>\n      <th>commodity</th>\n      <th>level</th>\n      <th>Value</th>\n      <th>node_origin</th>\n      <th>input</th>\n      <th>emi_factor</th>\n    </tr>\n    <tr>\n      <th>year_act</th>\n      <th>year_vtg</th>\n      <th></th>\n      <th></th>\n      <th></th>\n      <th></th>\n      <th></th>\n      <th></th>\n      <th></th>\n    </tr>\n  </thead>\n  <tbody>\n    <tr>\n      <th rowspan=\"11\" valign=\"top\">2020</th>\n      <th>2005</th>\n      <td>1.228475</td>\n      <td>gas</td>\n      <td>final</td>\n      <td>1.408451</td>\n      <td>R12_CHN</td>\n      <td>1.730247</td>\n      <td>0.678873</td>\n    </tr>\n    <tr>\n      <th>2005</th>\n      <td>1.228475</td>\n      <td>gas</td>\n      <td>final</td>\n      <td>1.408451</td>\n      <td>R12_CHN</td>\n      <td>1.730247</td>\n      <td>0.678873</td>\n    </tr>\n    <tr>\n      <th>2005</th>\n      <td>1.228475</td>\n      <td>gas</td>\n      <td>final</td>\n      <td>1.408451</td>\n      <td>R12_CHN</td>\n      <td>1.730247</td>\n      <td>0.678873</td>\n    </tr>\n    <tr>\n      <th>2005</th>\n      <td>1.228475</td>\n      <td>gas</td>\n      <td>final</td>\n      <td>1.408451</td>\n      <td>R12_CHN</td>\n      <td>1.730247</td>\n      <td>0.678873</td>\n    </tr>\n    <tr>\n      <th>2005</th>\n      <td>1.228475</td>\n      <td>gas</td>\n      <td>final</td>\n      <td>1.408451</td>\n      <td>R12_CHN</td>\n      <td>1.730247</td>\n      <td>0.678873</td>\n    </tr>\n    <tr>\n      <th>...</th>\n      <td>...</td>\n      <td>...</td>\n      <td>...</td>\n      <td>...</td>\n      <td>...</td>\n      <td>...</td>\n      <td>...</td>\n    </tr>\n    <tr>\n      <th>2015</th>\n      <td>3.930682</td>\n      <td>gas</td>\n      <td>final</td>\n      <td>1.408451</td>\n      <td>R12_CHN</td>\n      <td>5.536172</td>\n      <td>0.708824</td>\n    </tr>\n    <tr>\n      <th>2015</th>\n      <td>3.930682</td>\n      <td>gas</td>\n      <td>final</td>\n      <td>1.408451</td>\n      <td>R12_CHN</td>\n      <td>5.536172</td>\n      <td>0.708824</td>\n    </tr>\n    <tr>\n      <th>2015</th>\n      <td>3.930682</td>\n      <td>gas</td>\n      <td>final</td>\n      <td>1.408451</td>\n      <td>R12_CHN</td>\n      <td>5.536172</td>\n      <td>0.708824</td>\n    </tr>\n    <tr>\n      <th>2015</th>\n      <td>3.930682</td>\n      <td>gas</td>\n      <td>final</td>\n      <td>1.408451</td>\n      <td>R12_CHN</td>\n      <td>5.536172</td>\n      <td>0.573810</td>\n    </tr>\n    <tr>\n      <th>2015</th>\n      <td>3.930682</td>\n      <td>gas</td>\n      <td>final</td>\n      <td>1.408451</td>\n      <td>R12_CHN</td>\n      <td>5.536172</td>\n      <td>0.573810</td>\n    </tr>\n  </tbody>\n</table>\n<p>62 rows × 7 columns</p>\n</div>"
     },
     "execution_count": 56,
     "metadata": {},
     "output_type": "execute_result"
    }
   ],
   "source": [
    "x.loc[\"gas_i\", \"M1\", \"R12_CHN\"]"
   ],
   "metadata": {
    "collapsed": false
   }
  },
  {
   "cell_type": "markdown",
   "source": [
    "## check *_t_d tecs emission factors"
   ],
   "metadata": {
    "collapsed": false
   }
  },
  {
   "cell_type": "code",
   "execution_count": 92,
   "outputs": [],
   "source": [
    "df_gas_t_d = act_in[act_in.index.get_level_values(2).str.contains(\"coal\")].join(emi_bott_up.rename({\"Value\": \"emi_factor\"}, axis=1)[\"emi_factor\"])"
   ],
   "metadata": {
    "collapsed": false
   }
  },
  {
   "cell_type": "code",
   "execution_count": 58,
   "outputs": [],
   "source": [
    "df_gas_t_d = act_in.join(emi_bott_up.rename({\"Value\": \"emi_factor\"}, axis=1)[\"emi_factor\"]).dropna()"
   ],
   "metadata": {
    "collapsed": false
   }
  },
  {
   "cell_type": "code",
   "execution_count": 93,
   "outputs": [],
   "source": [
    "ef_dict = {\n",
    "    'biomass':0,\n",
    "     'coal':0.814,\n",
    "     'electr':0,\n",
    "     'ethanol':0,\n",
    "     'fueloil':0.665,\n",
    "     'gas':0.482,\n",
    "    'gas_1':0.482,\n",
    "    'gas_2':0.482,\n",
    "    'gas_3':0.482,\n",
    "    'gas_4':0.482,\n",
    "    'gas_5':0.482,\n",
    "    'gas_6':0.482,\n",
    "    'gas_afr':0.482,\n",
    "    'gas_chn':0.482,\n",
    "    'gas_cpa':0.482,\n",
    "    'gas_weu':0.482,\n",
    "    'gas_eeu':0.482,\n",
    "    'gas_sas':0.482,\n",
    "    'LNG':0.482,\n",
    "     'd_heat':0,\n",
    "     'lightoil':0.631,\n",
    "     'methanol':0.549,\n",
    "     'hydrogen':0,\n",
    "    'freshwater_supply':0,\n",
    "    \"crudeoil\":0.63,\n",
    "    \"crude_1\":0.665,\n",
    "    \"crude_2\":0.665,\n",
    "    \"crude_3\":0.665,\n",
    "    \"crude_4\":0.665,\n",
    "    \"crude_5\":0.665,\n",
    "    \"crude_6\":0.665,\n",
    "    \"crude_7\":0.665,\n",
    "    \"ht_heat\":0,\n",
    "    \"lh2\":0,\n",
    "}\n",
    "\n",
    "def get_ef(df):\n",
    "    df[\"ef\"] = ef_dict[df[\"commodity\"]]\n",
    "    return df\n",
    "\n",
    "df_gas_t_d = df_gas_t_d.apply(lambda x: get_ef(x), axis=1)"
   ],
   "metadata": {
    "collapsed": false
   }
  },
  {
   "cell_type": "code",
   "execution_count": 67,
   "outputs": [],
   "source": [
    "df_gas_t_d = df_gas_t_d.join(act_out.rename({\"commodity\":\"comm_out\"}, axis=1)[\"comm_out\"])\n",
    "df_gas_t_d = df_gas_t_d[df_gas_t_d[\"commodity\"]==df_gas_t_d[\"comm_out\"]]\n",
    "#df_gas_t_d = df_gas_t_d[~df_gas_t_d.index.get_level_values(2).str.contains(\"_extr\")]"
   ],
   "metadata": {
    "collapsed": false
   }
  },
  {
   "cell_type": "code",
   "execution_count": 94,
   "outputs": [],
   "source": [
    "# for IO tecs\n",
    "ef_false = (df_gas_t_d[\"emi_factor\"] / (df_gas_t_d[\"Value\"] - 1)).dropna()\n",
    "# for input only tecs\n",
    "ef_false = (df_gas_t_d[\"emi_factor\"] / df_gas_t_d[\"Value\"]).dropna()"
   ],
   "metadata": {
    "collapsed": false
   }
  },
  {
   "cell_type": "code",
   "execution_count": 95,
   "outputs": [],
   "source": [
    "tec_comm_map = df_gas_t_d.reset_index()[[\"tec\", \"commodity\"]].drop_duplicates().set_index(\"tec\").to_dict()[\"commodity\"]\n",
    "tec_list = [i for i in list(tec_comm_map.keys())]"
   ],
   "metadata": {
    "collapsed": false
   }
  },
  {
   "cell_type": "code",
   "execution_count": 99,
   "outputs": [
    {
     "data": {
      "text/plain": "                                        0\nyear_act node_loc mode year_vtg          \n2045     R12_PAS  M1   2010      0.823070\n2050     R12_NAM  M1   2010      0.816775\n2035     R12_CHN  M1   2000      0.816429\n         R12_RCPA M1   2000      0.816429\n2025     R12_LAM  M1   1980      0.814000\n...                                   ...\n2045     R12_SAS  M1   2020      0.814000\n                       2025      0.814000\n                       2030      0.814000\n                       2035      0.814000\n2035     R12_PAS  M1   2015      0.814000\n\n[476 rows x 1 columns]",
      "text/html": "<div>\n<style scoped>\n    .dataframe tbody tr th:only-of-type {\n        vertical-align: middle;\n    }\n\n    .dataframe tbody tr th {\n        vertical-align: top;\n    }\n\n    .dataframe thead th {\n        text-align: right;\n    }\n</style>\n<table border=\"1\" class=\"dataframe\">\n  <thead>\n    <tr style=\"text-align: right;\">\n      <th></th>\n      <th></th>\n      <th></th>\n      <th></th>\n      <th>0</th>\n    </tr>\n    <tr>\n      <th>year_act</th>\n      <th>node_loc</th>\n      <th>mode</th>\n      <th>year_vtg</th>\n      <th></th>\n    </tr>\n  </thead>\n  <tbody>\n    <tr>\n      <th>2045</th>\n      <th>R12_PAS</th>\n      <th>M1</th>\n      <th>2010</th>\n      <td>0.823070</td>\n    </tr>\n    <tr>\n      <th>2050</th>\n      <th>R12_NAM</th>\n      <th>M1</th>\n      <th>2010</th>\n      <td>0.816775</td>\n    </tr>\n    <tr>\n      <th rowspan=\"2\" valign=\"top\">2035</th>\n      <th>R12_CHN</th>\n      <th>M1</th>\n      <th>2000</th>\n      <td>0.816429</td>\n    </tr>\n    <tr>\n      <th>R12_RCPA</th>\n      <th>M1</th>\n      <th>2000</th>\n      <td>0.816429</td>\n    </tr>\n    <tr>\n      <th>2025</th>\n      <th>R12_LAM</th>\n      <th>M1</th>\n      <th>1980</th>\n      <td>0.814000</td>\n    </tr>\n    <tr>\n      <th>...</th>\n      <th>...</th>\n      <th>...</th>\n      <th>...</th>\n      <td>...</td>\n    </tr>\n    <tr>\n      <th rowspan=\"4\" valign=\"top\">2045</th>\n      <th rowspan=\"4\" valign=\"top\">R12_SAS</th>\n      <th rowspan=\"4\" valign=\"top\">M1</th>\n      <th>2020</th>\n      <td>0.814000</td>\n    </tr>\n    <tr>\n      <th>2025</th>\n      <td>0.814000</td>\n    </tr>\n    <tr>\n      <th>2030</th>\n      <td>0.814000</td>\n    </tr>\n    <tr>\n      <th>2035</th>\n      <td>0.814000</td>\n    </tr>\n    <tr>\n      <th>2035</th>\n      <th>R12_PAS</th>\n      <th>M1</th>\n      <th>2015</th>\n      <td>0.814000</td>\n    </tr>\n  </tbody>\n</table>\n<p>476 rows × 1 columns</p>\n</div>"
     },
     "execution_count": 99,
     "metadata": {},
     "output_type": "execute_result"
    }
   ],
   "source": [
    "pd.DataFrame(ef_false).swaplevel(0,2).loc[\"coal_ppl\"].sort_values(0, ascending=False)"
   ],
   "metadata": {
    "collapsed": false
   }
  },
  {
   "cell_type": "code",
   "execution_count": 98,
   "outputs": [
    {
     "data": {
      "text/plain": "year_act  node_loc  mode  year_vtg\n2020      R12_AFR   M1    1960       NaN\n                          1965       NaN\n                          1970       NaN\n                          1975       NaN\n                          1980       NaN\n                                      ..\n2090      R12_AFR   M1    2080       NaN\n2100      R12_AFR   M1    2080       NaN\n                          2100       NaN\n2110      R12_AFR   M1    2100       NaN\n                          2110       NaN\nLength: 632, dtype: float64"
     },
     "execution_count": 98,
     "metadata": {},
     "output_type": "execute_result"
    }
   ],
   "source": [
    "df_gas_t_d.swaplevel(0,2).loc[\"coal_ppl_u\"][\"emi_factor\"] / df_gas_t_d.swaplevel(0,2).loc[\"coal_ppl_u\"][\"Value\"]"
   ],
   "metadata": {
    "collapsed": false
   }
  },
  {
   "cell_type": "code",
   "execution_count": 96,
   "outputs": [
    {
     "name": "stdout",
     "output_type": "stream",
     "text": [
      "coal_adv\n",
      "coal_bal\n",
      "coal_exp\n",
      "coal_extr\n",
      "coal_extr_ch4\n",
      "coal_i\n",
      "coal_ppl\n",
      "coal_ppl_u\n",
      "coal_rc\n",
      "coal_t_d\n",
      "furnace_coal_aluminum\n",
      "furnace_coal_cement\n",
      "furnace_coal_refining\n",
      "furnace_coal_petro\n",
      "coal_hpl\n",
      "furnace_coal_resins\n",
      "coal_imp\n",
      "meth_coal\n",
      "coal_NH3\n",
      "coal_trd\n",
      "sp_coal_I\n",
      "coal_gas\n",
      "h2_coal\n"
     ]
    },
    {
     "data": {
      "text/plain": "<Figure size 2880x1440 with 16 Axes>",
      "image/png": "[encoded data removed]"
     },
     "metadata": {},
     "output_type": "display_data"
    }
   ],
   "source": [
    "import math\n",
    "import matplotlib.pyplot as plt\n",
    "fig, axs = plt.subplots(int(math.sqrt(len(tec_list))), int(math.sqrt(len(tec_list))), figsize=(40,20), facecolor=\"w\")\n",
    "ax_it = iter(fig.axes)\n",
    "for k in tec_list:\n",
    "    print(k)\n",
    "    try:\n",
    "        tec = k\n",
    "        y = ef_false.swaplevel(0,2).loc[tec].droplevel([3,2]).reset_index()\n",
    "        ax = next((ax_it))\n",
    "        y.plot.scatter(x=\"year_act\", y=0, ax=ax)\n",
    "        ax.plot([ef_dict[tec_comm_map[tec]]]*len(y.year_act.unique()), color=\"red\")\n",
    "        ax.set_ylabel(\"Mt C / GWa\")\n",
    "        ax.set_title(tec)\n",
    "        ax.set_xlabel(\"\")\n",
    "    except:\n",
    "        pass"
   ],
   "metadata": {
    "collapsed": false
   }
  },
  {
   "cell_type": "code",
   "execution_count": 64,
   "outputs": [],
   "source": [
    "fig.savefig(\"test.png\", facecolor=\"w\")"
   ],
   "metadata": {
    "collapsed": false
   }
  },
  {
   "cell_type": "code",
   "execution_count": null,
   "outputs": [],
   "source": [
    "ef_false.swaplevel(0,2).loc[\"hp_gas_i\"].droplevel([3,2]).reset_index()"
   ],
   "metadata": {
    "collapsed": false
   }
  },
  {
   "cell_type": "markdown",
   "source": [
    "## aggregated emissions comparison"
   ],
   "metadata": {
    "collapsed": false
   }
  },
  {
   "cell_type": "code",
   "execution_count": null,
   "outputs": [],
   "source": [
    "df_gas_t_d[\"loss\"] = (df_gas_t_d[\"Value\"] - 1) * df_gas_t_d[\"Level\"]\n",
    "t_d_emi = (df_gas_t_d[\"emi_factor\"] * df_gas_t_d[\"Level\"]).groupby([\"year_act\"]).sum() * co2_c_factor"
   ],
   "metadata": {
    "collapsed": false
   }
  },
  {
   "cell_type": "code",
   "execution_count": null,
   "outputs": [],
   "source": [
    "df_gas_t_d[\"emi_factor_corr\"] = (df_gas_t_d[\"Value\"] - 1) * df_gas_t_d[\"ef\"]\n",
    "t_d_emi_corr =(df_gas_t_d[\"emi_factor_corr\"] * df_gas_t_d[\"Level\"]).groupby([\"year_act\"]).sum() * co2_c_factor"
   ],
   "metadata": {
    "collapsed": false
   }
  },
  {
   "cell_type": "code",
   "execution_count": null,
   "outputs": [],
   "source": [
    "fig,ax = plt.subplots(figsize=(10,5))\n",
    "t_d_emi.plot(ax=ax)\n",
    "t_d_emi_corr.plot(ax=ax)\n",
    "ax.set_ylabel(\"Mt CO2\")\n",
    "ax.set_title(\"CO2 Emissions from t_d technologies\")\n",
    "ax.legend([\"current CO2_cc\", \"corrected CO2_cc\"])"
   ],
   "metadata": {
    "collapsed": false
   }
  },
  {
   "cell_type": "code",
   "execution_count": null,
   "outputs": [],
   "source": [
    "df_gas_t_d.swaplevel(0,2).loc[\"gas_t_d\"]"
   ],
   "metadata": {
    "collapsed": false
   }
  },
  {
   "cell_type": "code",
   "execution_count": null,
   "outputs": [],
   "source": [
    "act_in_yr_reg = act_in.loc[region, year]\n",
    "comm = \"coal\"\n",
    "bott_dict = {\n",
    "    \"coal\":top_yr_reg_gas,\n",
    "    \"gas\":bott_yr_reg_gas\n",
    "}\n",
    "bott_yr_reg_coal_merge = bott_dict[comm].copy(deep=True)\n",
    "x = act_in_yr_reg[(act_in_yr_reg.index.get_level_values(0).str.contains(comm)) & (act_in_yr_reg[\"commodity\"]==comm) & (act_in_yr_reg[\"level\"]==\"final\")].join(bott_yr_reg_coal_merge.rename({\"Value\": \"emi_factor\"}, axis=1)[\"emi_factor\"])\n",
    "x = act_in_yr_reg[(act_in_yr_reg[\"commodity\"]==comm)].join(bott_yr_reg_coal_merge.rename({\"Value\": \"emi_factor\"}, axis=1)[\"emi_factor\"])\n",
    "x#.sum()"
   ],
   "metadata": {
    "collapsed": false
   }
  },
  {
   "cell_type": "code",
   "execution_count": null,
   "outputs": [],
   "source": [
    "x#(x[\"emi_factor\"]/ x[\"Value\"]).dropna()"
   ],
   "metadata": {
    "collapsed": false
   }
  },
  {
   "cell_type": "markdown",
   "source": [],
   "metadata": {
    "collapsed": false
   }
  },
  {
   "cell_type": "markdown",
   "source": [
    "## oil emissions"
   ],
   "metadata": {
    "collapsed": false
   }
  },
  {
   "cell_type": "code",
   "execution_count": null,
   "outputs": [],
   "source": [
    "df_bot_oil = get_bot_up_emi_by_fuel(emi_bott_up, region, year)[1]"
   ],
   "metadata": {
    "collapsed": false
   }
  },
  {
   "cell_type": "code",
   "execution_count": null,
   "outputs": [],
   "source": [
    "df_bot_oil[df_bot_oil.index.get_level_values(0).str.contains(\"extr\")].sum()"
   ],
   "metadata": {
    "collapsed": false
   }
  },
  {
   "cell_type": "code",
   "execution_count": null,
   "outputs": [],
   "source": [
    "emi_bot_up_refining = df_bot_oil.loc[df_bot_oil.index.get_level_values(0).str.endswith(\"_ref\")]#.sum()\n",
    "emi_bot_up_extr = df_bot_oil.loc[df_bot_oil.index.get_level_values(0).str.contains(\"extr\")]\n",
    "emi_bot_up_final = df_bot_oil.loc[(df_bot_oil.index.difference(emi_bot_up_refining.index)) & (df_bot_oil.index.difference(emi_bot_up_extr.index))]"
   ],
   "metadata": {
    "collapsed": false
   }
  },
  {
   "cell_type": "code",
   "execution_count": null,
   "outputs": [],
   "source": [
    "emi_bot_up_refining.sum()"
   ],
   "metadata": {
    "collapsed": false
   }
  },
  {
   "cell_type": "code",
   "execution_count": null,
   "outputs": [],
   "source": [
    "emi_bot_up_final.sort_values(\"emi\")"
   ],
   "metadata": {
    "collapsed": false
   }
  },
  {
   "cell_type": "code",
   "execution_count": null,
   "outputs": [],
   "source": [
    "print(\"extraction emissions: \",emi_bot_up_extr.sum()[\"emi\"])\n",
    "print(\"refining emissions: \",emi_bot_up_refining.sum()[\"emi\"])\n",
    "print(\"combustion emissions: \",emi_bot_up_final.sum()[\"emi\"])"
   ],
   "metadata": {
    "collapsed": false
   }
  },
  {
   "cell_type": "code",
   "execution_count": null,
   "outputs": [],
   "source": [
    "inp_hyd_crack = act_in.loc[region, year, \"hydro_cracking_ref\"]\n",
    "inp_hyd_crack[inp_hyd_crack[\"commodity\"] == \"hydrogen\"].sum()"
   ],
   "metadata": {
    "collapsed": false
   }
  },
  {
   "cell_type": "code",
   "execution_count": null,
   "outputs": [],
   "source": [
    "inp_steam_crack = act_in.loc[region, year, \"steam_cracker_petro\"]\n",
    "inp_steam_crack[~inp_steam_crack[\"commodity\"].isin([\"ethane\",\"propane\", \"electr\", \"ht_heat\"])].sum()[\"input\"] * 0.64"
   ],
   "metadata": {
    "collapsed": false
   }
  },
  {
   "cell_type": "code",
   "execution_count": null,
   "outputs": [],
   "source": [
    "df_top_oil = get_top_dn_emi_by_fuel(emi_top_down, region, year)[1]"
   ],
   "metadata": {
    "collapsed": false
   }
  },
  {
   "cell_type": "code",
   "execution_count": null,
   "outputs": [],
   "source": [
    "df_top_oil.loc[df_top_oil.index.get_level_values(0).str.startswith(\"oil\")].sum()"
   ],
   "metadata": {
    "collapsed": false
   }
  },
  {
   "cell_type": "code",
   "execution_count": null,
   "outputs": [],
   "source": [
    "df_top_oil.loc[~df_top_oil.index.get_level_values(0).str.endswith(\"ref\")]#.sum()#.sort_index()"
   ],
   "metadata": {
    "collapsed": false
   }
  },
  {
   "cell_type": "code",
   "execution_count": null,
   "outputs": [],
   "source": [
    "carbon_out_foil_loil_exp = df_top_oil[df_top_oil.index.get_level_values(0).str.contains(\"loil\")].sum()[\"emi\"] + df_top_oil[df_top_oil.index.get_level_values(0).str.contains(\"foil\")].sum()[\"emi\"]"
   ],
   "metadata": {
    "collapsed": false
   }
  },
  {
   "cell_type": "code",
   "execution_count": null,
   "outputs": [],
   "source": [
    "act_out.swaplevel(0,2).loc[\"MTO_petro\"].loc[\"2025\", \"R12_CHN\"].sum()#.groupby(\"year_act\").sum()"
   ],
   "metadata": {
    "collapsed": false
   }
  }
 ],
 "metadata": {
  "kernelspec": {
   "display_name": "Python 3",
   "language": "python",
   "name": "python3"
  },
  "language_info": {
   "codemirror_mode": {
    "name": "ipython",
    "version": 2
   },
   "file_extension": ".py",
   "mimetype": "text/x-python",
   "name": "python",
   "nbconvert_exporter": "python",
   "pygments_lexer": "ipython2",
   "version": "2.7.6"
  }
 },
 "nbformat": 4,
 "nbformat_minor": 0
}
