{
 "cells": [
  {
   "cell_type": "markdown",
   "source": [
    "## create thesis scenarios"
   ],
   "metadata": {
    "collapsed": false
   }
  },
  {
   "cell_type": "code",
   "execution_count": 1,
   "outputs": [
    {
     "data": {
      "text/plain": "      GLOBIOM  resin_conc       MTBE  NH3_residual_elasticity  \\\n0    baseline        0.01   baseline                     0.50   \n1    baseline        0.01   baseline                     0.50   \n2    baseline        0.01   baseline                     0.50   \n3    baseline        0.01   baseline                     0.50   \n4    baseline        0.01   baseline                     0.50   \n..        ...         ...        ...                      ...   \n251   no_SDGs        0.03  phase-out                     0.25   \n252   no_SDGs        0.03  phase-out                     0.25   \n253   no_SDGs        0.03  phase-out                     0.25   \n254   no_SDGs        0.03  phase-out                     0.25   \n255   no_SDGs        0.03  phase-out                     0.25   \n\n     HVC_elasticity_2020  HVC _elasticity_2030  meth_residual_elasticity_2020  \\\n0                   1.00                  0.59                            1.4   \n1                   1.00                  0.59                            1.4   \n2                   1.00                  0.59                            1.2   \n3                   1.00                  0.59                            1.2   \n4                   1.00                  0.25                            1.4   \n..                   ...                   ...                            ...   \n251                 0.75                  0.59                            1.2   \n252                 0.75                  0.25                            1.4   \n253                 0.75                  0.25                            1.4   \n254                 0.75                  0.25                            1.2   \n255                 0.75                  0.25                            1.2   \n\n     meth_elasticity_2030  \n0                    0.54  \n1                    0.25  \n2                    0.54  \n3                    0.25  \n4                    0.54  \n..                    ...  \n251                  0.25  \n252                  0.54  \n253                  0.25  \n254                  0.54  \n255                  0.25  \n\n[256 rows x 8 columns]",
      "text/html": "<div>\n<style scoped>\n    .dataframe tbody tr th:only-of-type {\n        vertical-align: middle;\n    }\n\n    .dataframe tbody tr th {\n        vertical-align: top;\n    }\n\n    .dataframe thead th {\n        text-align: right;\n    }\n</style>\n<table border=\"1\" class=\"dataframe\">\n  <thead>\n    <tr style=\"text-align: right;\">\n      <th></th>\n      <th>GLOBIOM</th>\n      <th>resin_conc</th>\n      <th>MTBE</th>\n      <th>NH3_residual_elasticity</th>\n      <th>HVC_elasticity_2020</th>\n      <th>HVC _elasticity_2030</th>\n      <th>meth_residual_elasticity_2020</th>\n      <th>meth_elasticity_2030</th>\n    </tr>\n  </thead>\n  <tbody>\n    <tr>\n      <th>0</th>\n      <td>baseline</td>\n      <td>0.01</td>\n      <td>baseline</td>\n      <td>0.50</td>\n      <td>1.00</td>\n      <td>0.59</td>\n      <td>1.4</td>\n      <td>0.54</td>\n    </tr>\n    <tr>\n      <th>1</th>\n      <td>baseline</td>\n      <td>0.01</td>\n      <td>baseline</td>\n      <td>0.50</td>\n      <td>1.00</td>\n      <td>0.59</td>\n      <td>1.4</td>\n      <td>0.25</td>\n    </tr>\n    <tr>\n      <th>2</th>\n      <td>baseline</td>\n      <td>0.01</td>\n      <td>baseline</td>\n      <td>0.50</td>\n      <td>1.00</td>\n      <td>0.59</td>\n      <td>1.2</td>\n      <td>0.54</td>\n    </tr>\n    <tr>\n      <th>3</th>\n      <td>baseline</td>\n      <td>0.01</td>\n      <td>baseline</td>\n      <td>0.50</td>\n      <td>1.00</td>\n      <td>0.59</td>\n      <td>1.2</td>\n      <td>0.25</td>\n    </tr>\n    <tr>\n      <th>4</th>\n      <td>baseline</td>\n      <td>0.01</td>\n      <td>baseline</td>\n      <td>0.50</td>\n      <td>1.00</td>\n      <td>0.25</td>\n      <td>1.4</td>\n      <td>0.54</td>\n    </tr>\n    <tr>\n      <th>...</th>\n      <td>...</td>\n      <td>...</td>\n      <td>...</td>\n      <td>...</td>\n      <td>...</td>\n      <td>...</td>\n      <td>...</td>\n      <td>...</td>\n    </tr>\n    <tr>\n      <th>251</th>\n      <td>no_SDGs</td>\n      <td>0.03</td>\n      <td>phase-out</td>\n      <td>0.25</td>\n      <td>0.75</td>\n      <td>0.59</td>\n      <td>1.2</td>\n      <td>0.25</td>\n    </tr>\n    <tr>\n      <th>252</th>\n      <td>no_SDGs</td>\n      <td>0.03</td>\n      <td>phase-out</td>\n      <td>0.25</td>\n      <td>0.75</td>\n      <td>0.25</td>\n      <td>1.4</td>\n      <td>0.54</td>\n    </tr>\n    <tr>\n      <th>253</th>\n      <td>no_SDGs</td>\n      <td>0.03</td>\n      <td>phase-out</td>\n      <td>0.25</td>\n      <td>0.75</td>\n      <td>0.25</td>\n      <td>1.4</td>\n      <td>0.25</td>\n    </tr>\n    <tr>\n      <th>254</th>\n      <td>no_SDGs</td>\n      <td>0.03</td>\n      <td>phase-out</td>\n      <td>0.25</td>\n      <td>0.75</td>\n      <td>0.25</td>\n      <td>1.2</td>\n      <td>0.54</td>\n    </tr>\n    <tr>\n      <th>255</th>\n      <td>no_SDGs</td>\n      <td>0.03</td>\n      <td>phase-out</td>\n      <td>0.25</td>\n      <td>0.75</td>\n      <td>0.25</td>\n      <td>1.2</td>\n      <td>0.25</td>\n    </tr>\n  </tbody>\n</table>\n<p>256 rows × 8 columns</p>\n</div>"
     },
     "execution_count": 1,
     "metadata": {},
     "output_type": "execute_result"
    }
   ],
   "source": [
    "import pandas as pd\n",
    "df = pd.read_excel(\"C:/Users\\maczek\\PycharmProjects\\message_data\\data\\material\\methanol/scenario_list.xlsx\")\n",
    "df_new = df.copy(deep=True).iloc[:,:1]\n",
    "for i in range(len(df.columns)):\n",
    "    df_new = df_new.merge(df.iloc[:,i+2:i+3], how=\"cross\") #.merge(df.iloc[:,3:4], how=\"cross\")\n",
    "df_new.drop_duplicates().reset_index(drop=True)\n",
    "#df_new.drop_duplicates().reset_index(drop=True).to_excel(\"test.xlsx\")"
   ],
   "metadata": {
    "collapsed": false
   }
  },
  {
   "cell_type": "code",
   "execution_count": 2,
   "outputs": [
    {
     "data": {
      "text/plain": "<IPython.core.display.Javascript object>",
      "application/javascript": "if (typeof IPython !== 'undefined') { IPython.OutputArea.prototype._should_scroll = function(lines){ return false; }}"
     },
     "metadata": {},
     "output_type": "display_data"
    },
    {
     "name": "stderr",
     "output_type": "stream",
     "text": [
      "Unable to determine R home: [WinError 2] The system cannot find the file specified\n"
     ]
    },
    {
     "name": "stdout",
     "output_type": "stream",
     "text": [
      "rpy2 version:\n",
      "3.5.3\n",
      "Python version:\n",
      "3.8.8 (default, Apr 13 2021, 15:08:03) [MSC v.1916 64 bit (AMD64)]\n",
      "Looking for R's HOME:\n",
      "    Environment variable R_HOME: None\n",
      "    InstallPath in the registry: C:\\Users\\maczek\\AppData\\Local\\Programs\\R\\R-4.2.1\n",
      "    Environment variable R_USER: None\n",
      "    Environment variable R_LIBS_USER: None\n",
      "R version:\n",
      "    In the PATH: R version 4.2.1 (2022-06-23 ucrt) -- \"Funny-Looking Kid\"\n",
      "    Loading R library from rpy2: OK\n",
      "Additional directories to load R packages from:\n",
      "None\n",
      "C extension compilation:\n",
      "    Warning: Unable to get R compilation flags.\n"
     ]
    }
   ],
   "source": [
    "import message_data.model.material.data_methanol"
   ],
   "metadata": {
    "collapsed": false
   }
  },
  {
   "cell_type": "code",
   "execution_count": 3,
   "outputs": [
    {
     "data": {
      "text/plain": "<module 'message_data.model.material.data_methanol' from 'C:\\\\Users\\\\maczek\\\\PycharmProjects\\\\message_data\\\\message_data\\\\model\\\\material\\\\data_methanol.py'>"
     },
     "execution_count": 3,
     "metadata": {},
     "output_type": "execute_result"
    }
   ],
   "source": [
    "import importlib\n",
    "importlib.reload(message_data.model.material.data_methanol)"
   ],
   "metadata": {
    "collapsed": false
   }
  },
  {
   "cell_type": "code",
   "execution_count": 21,
   "outputs": [
    {
     "name": "stdout",
     "output_type": "stream",
     "text": [
      "<class 'str'>\n",
      "True\n",
      "phase_out\n"
     ]
    }
   ],
   "source": [
    "#add_mtbe_act_bound(scenario)\n",
    "pardict = message_data.model.material.data_methanol.gen_data_methanol(scenario)"
   ],
   "metadata": {
    "collapsed": false
   }
  },
  {
   "cell_type": "code",
   "execution_count": 23,
   "outputs": [
    {
     "data": {
      "text/plain": "'NoPolicy_petro_thesis_2_macro'"
     },
     "execution_count": 23,
     "metadata": {},
     "output_type": "execute_result"
    }
   ],
   "source": [
    "scenario.scenario"
   ],
   "metadata": {
    "collapsed": false
   }
  },
  {
   "cell_type": "code",
   "execution_count": 24,
   "outputs": [],
   "source": [
    "scenario.remove_solution()\n",
    "scenario.check_out()\n",
    "scenario.add_par(\"bound_activity_up\", pardict[\"bound_activity_up\"])\n",
    "#scenario.commit()"
   ],
   "metadata": {
    "collapsed": false
   }
  },
  {
   "cell_type": "code",
   "execution_count": 25,
   "outputs": [],
   "source": [
    "scenario.commit(\"fix mtbe phase out\")"
   ],
   "metadata": {
    "collapsed": false
   }
  },
  {
   "cell_type": "code",
   "execution_count": 22,
   "outputs": [
    {
     "data": {
      "text/plain": "     node_loc technology  year_act       mode  time  value unit\n0     R12_AFR  meth_coal      2015  feedstock  year    0.0  GWa\n1     R12_AFR    meth_ng      2015  feedstock  year    0.0  GWa\n2    R12_RCPA  meth_coal      2015  feedstock  year    0.0  GWa\n3    R12_RCPA    meth_ng      2015  feedstock  year    0.0  GWa\n4     R12_EEU  meth_coal      2015  feedstock  year    0.0  GWa\n..        ...        ...       ...        ...   ...    ...  ...\n139   R12_CHN   loil_trp      2070         M1  year    0.0    -\n140   R12_CHN   loil_trp      2080         M1  year    0.0    -\n141   R12_CHN   loil_trp      2090         M1  year    0.0    -\n142   R12_CHN   loil_trp      2100         M1  year    0.0    -\n143   R12_CHN   loil_trp      2110         M1  year    0.0    -\n\n[193 rows x 7 columns]",
      "text/html": "<div>\n<style scoped>\n    .dataframe tbody tr th:only-of-type {\n        vertical-align: middle;\n    }\n\n    .dataframe tbody tr th {\n        vertical-align: top;\n    }\n\n    .dataframe thead th {\n        text-align: right;\n    }\n</style>\n<table border=\"1\" class=\"dataframe\">\n  <thead>\n    <tr style=\"text-align: right;\">\n      <th></th>\n      <th>node_loc</th>\n      <th>technology</th>\n      <th>year_act</th>\n      <th>mode</th>\n      <th>time</th>\n      <th>value</th>\n      <th>unit</th>\n    </tr>\n  </thead>\n  <tbody>\n    <tr>\n      <th>0</th>\n      <td>R12_AFR</td>\n      <td>meth_coal</td>\n      <td>2015</td>\n      <td>feedstock</td>\n      <td>year</td>\n      <td>0.0</td>\n      <td>GWa</td>\n    </tr>\n    <tr>\n      <th>1</th>\n      <td>R12_AFR</td>\n      <td>meth_ng</td>\n      <td>2015</td>\n      <td>feedstock</td>\n      <td>year</td>\n      <td>0.0</td>\n      <td>GWa</td>\n    </tr>\n    <tr>\n      <th>2</th>\n      <td>R12_RCPA</td>\n      <td>meth_coal</td>\n      <td>2015</td>\n      <td>feedstock</td>\n      <td>year</td>\n      <td>0.0</td>\n      <td>GWa</td>\n    </tr>\n    <tr>\n      <th>3</th>\n      <td>R12_RCPA</td>\n      <td>meth_ng</td>\n      <td>2015</td>\n      <td>feedstock</td>\n      <td>year</td>\n      <td>0.0</td>\n      <td>GWa</td>\n    </tr>\n    <tr>\n      <th>4</th>\n      <td>R12_EEU</td>\n      <td>meth_coal</td>\n      <td>2015</td>\n      <td>feedstock</td>\n      <td>year</td>\n      <td>0.0</td>\n      <td>GWa</td>\n    </tr>\n    <tr>\n      <th>...</th>\n      <td>...</td>\n      <td>...</td>\n      <td>...</td>\n      <td>...</td>\n      <td>...</td>\n      <td>...</td>\n      <td>...</td>\n    </tr>\n    <tr>\n      <th>139</th>\n      <td>R12_CHN</td>\n      <td>loil_trp</td>\n      <td>2070</td>\n      <td>M1</td>\n      <td>year</td>\n      <td>0.0</td>\n      <td>-</td>\n    </tr>\n    <tr>\n      <th>140</th>\n      <td>R12_CHN</td>\n      <td>loil_trp</td>\n      <td>2080</td>\n      <td>M1</td>\n      <td>year</td>\n      <td>0.0</td>\n      <td>-</td>\n    </tr>\n    <tr>\n      <th>141</th>\n      <td>R12_CHN</td>\n      <td>loil_trp</td>\n      <td>2090</td>\n      <td>M1</td>\n      <td>year</td>\n      <td>0.0</td>\n      <td>-</td>\n    </tr>\n    <tr>\n      <th>142</th>\n      <td>R12_CHN</td>\n      <td>loil_trp</td>\n      <td>2100</td>\n      <td>M1</td>\n      <td>year</td>\n      <td>0.0</td>\n      <td>-</td>\n    </tr>\n    <tr>\n      <th>143</th>\n      <td>R12_CHN</td>\n      <td>loil_trp</td>\n      <td>2110</td>\n      <td>M1</td>\n      <td>year</td>\n      <td>0.0</td>\n      <td>-</td>\n    </tr>\n  </tbody>\n</table>\n<p>193 rows × 7 columns</p>\n</div>"
     },
     "execution_count": 22,
     "metadata": {},
     "output_type": "execute_result"
    }
   ],
   "source": [
    "pardict[\"bound_activity_up\"]"
   ],
   "metadata": {
    "collapsed": false
   }
  },
  {
   "cell_type": "markdown",
   "source": [],
   "metadata": {
    "collapsed": false
   }
  },
  {
   "cell_type": "code",
   "execution_count": 2,
   "outputs": [
    {
     "data": {
      "text/plain": "Empty DataFrame\nColumns: [relation, node_rel, year_rel, value, unit]\nIndex: []",
      "text/html": "<div>\n<style scoped>\n    .dataframe tbody tr th:only-of-type {\n        vertical-align: middle;\n    }\n\n    .dataframe tbody tr th {\n        vertical-align: top;\n    }\n\n    .dataframe thead th {\n        text-align: right;\n    }\n</style>\n<table border=\"1\" class=\"dataframe\">\n  <thead>\n    <tr style=\"text-align: right;\">\n      <th></th>\n      <th>relation</th>\n      <th>node_rel</th>\n      <th>year_rel</th>\n      <th>value</th>\n      <th>unit</th>\n    </tr>\n  </thead>\n  <tbody>\n  </tbody>\n</table>\n</div>"
     },
     "execution_count": 2,
     "metadata": {},
     "output_type": "execute_result"
    }
   ],
   "source": [
    "df = scenario.par(\"relation_upper\", filters={\"relation\":\"CO2_PtX_trans_disp_split\"})\n",
    "df"
   ],
   "metadata": {
    "collapsed": false
   }
  },
  {
   "cell_type": "code",
   "execution_count": 2,
   "outputs": [
    {
     "data": {
      "text/plain": "                    model                               scenario   scheme  \\\n6410  MESSAGEix-Materials    2.0deg_no_SDGs_petro_thesis_1_macro  MESSAGE   \n6411  MESSAGEix-Materials                  2.0deg_petro_thesis_1  MESSAGE   \n6412  MESSAGEix-Materials                  2.0deg_petro_thesis_2  MESSAGE   \n6413  MESSAGEix-Materials            2.0deg_petro_thesis_2_macro  MESSAGE   \n6414  MESSAGEix-Materials                 2degree_petro_thesis_2  MESSAGE   \n6543  MESSAGEix-Materials        NoPolicy_no_SDGs_petro_thesis_1  MESSAGE   \n6544  MESSAGEix-Materials  NoPolicy_no_SDGs_petro_thesis_1_macro  MESSAGE   \n6548  MESSAGEix-Materials                      NoPolicy_no_petro  MESSAGE   \n6550  MESSAGEix-Materials                 NoPolicy_petro_biomass  MESSAGE   \n6551  MESSAGEix-Materials                    NoPolicy_petro_test  MESSAGE   \n6552  MESSAGEix-Materials                  NoPolicy_petro_test_2  MESSAGE   \n6553  MESSAGEix-Materials                  NoPolicy_petro_test_3  MESSAGE   \n6554  MESSAGEix-Materials                  NoPolicy_petro_test_4  MESSAGE   \n6555  MESSAGEix-Materials                  NoPolicy_petro_test_5  MESSAGE   \n6556  MESSAGEix-Materials                  NoPolicy_petro_test_6  MESSAGE   \n6557  MESSAGEix-Materials                NoPolicy_petro_thesis_2  MESSAGE   \n6558  MESSAGEix-Materials          NoPolicy_petro_thesis_2_macro  MESSAGE   \n6559  MESSAGEix-Materials   NoPolicy_petro_thesis_2_test_meth_h2  MESSAGE   \n\n      is_default  is_locked cre_user                    cre_date upd_user  \\\n6410           1          0   maczek  2023-05-09 09:34:33.000000   maczek   \n6411           1          0   maczek  2023-02-08 23:38:03.000000   maczek   \n6412           1          0   maczek  2023-04-06 16:44:33.000000     None   \n6413           1          0   maczek  2023-05-12 08:31:34.000000   maczek   \n6414           1          0     unlu  2023-04-06 15:35:51.000000     None   \n6543           1          0   maczek  2023-05-08 22:47:58.000000   maczek   \n6544           1          0   maczek  2023-05-09 04:15:13.000000   maczek   \n6548           1          0   maczek  2023-05-04 09:18:27.000000   maczek   \n6550           1          0     unlu  2022-08-09 14:51:56.000000     unlu   \n6551           1          0     unlu  2022-04-14 11:08:53.000000     None   \n6552           1          0     unlu  2022-04-14 14:05:39.000000     None   \n6553           1          0     unlu  2022-04-14 14:40:02.000000     None   \n6554           1          0     unlu  2022-04-14 15:13:25.000000     None   \n6555           1          0     unlu  2022-04-14 15:29:02.000000     None   \n6556           1          0     unlu  2022-04-14 15:38:19.000000     None   \n6557           1          0   maczek  2023-05-09 11:02:33.000000   maczek   \n6558           1          0   maczek  2023-05-10 08:04:11.000000   maczek   \n6559           1          0   maczek  2023-05-15 10:42:54.000000   maczek   \n\n                        upd_date lock_user lock_date  \\\n6410  2023-05-09 10:28:12.000000      None      None   \n6411  2023-02-08 23:44:53.000000      None      None   \n6412                        None      None      None   \n6413  2023-05-12 09:20:07.000000      None      None   \n6414                        None      None      None   \n6543  2023-05-09 04:15:01.000000      None      None   \n6544  2023-05-09 04:47:38.000000      None      None   \n6548  2023-05-04 09:44:52.000000      None      None   \n6550  2022-08-09 15:14:46.000000      None      None   \n6551                        None      None      None   \n6552                        None      None      None   \n6553                        None      None      None   \n6554                        None      None      None   \n6555                        None      None      None   \n6556                        None      None      None   \n6557  2023-05-10 08:03:55.000000      None      None   \n6558  2023-05-11 10:08:56.000000      None      None   \n6559  2023-05-15 11:44:21.000000      None      None   \n\n                                             annotation  version  \n6410  clone Scenario from 'MESSAGEix-Materials|NoPol...        4  \n6411  clone Scenario from 'MESSAGEix-Materials|NoPol...        1  \n6412  clone Scenario from 'MESSAGEix-Materials|NoPol...        6  \n6413  clone Scenario from 'MESSAGEix-Materials|NoPol...       10  \n6414  clone Scenario from 'MESSAGEix-Materials|NoPol...        1  \n6543  clone Scenario from 'SHAPE_SSP2_v4.1.8|baselin...       11  \n6544  clone Scenario from 'MESSAGEix-Materials|NoPol...        4  \n6548  clone Scenario from 'SHAPE_SSP2_v4.1.8|baselin...        3  \n6550  clone Scenario from 'SHAPE_SSP2_v4.1.8|baselin...        3  \n6551  clone Scenario from 'SHAPE_SSP2_v4.1.8|baselin...        4  \n6552  clone Scenario from 'SHAPE_SSP2_v4.1.8|baselin...        1  \n6553  clone Scenario from 'SHAPE_SSP2_v4.1.8|baselin...        1  \n6554  clone Scenario from 'SHAPE_SSP2_v4.1.8|baselin...        2  \n6555  clone Scenario from 'SHAPE_SSP2_v4.1.8|baselin...        2  \n6556  clone Scenario from 'SHAPE_SSP2_v4.1.8|baselin...        1  \n6557  clone Scenario from 'SHAPE_SSP2_v4.1.8|baselin...       70  \n6558  clone Scenario from 'MESSAGEix-Materials|NoPol...        9  \n6559  clone Scenario from 'SHAPE_SSP2_v4.1.8|baselin...        1  ",
      "text/html": "<div>\n<style scoped>\n    .dataframe tbody tr th:only-of-type {\n        vertical-align: middle;\n    }\n\n    .dataframe tbody tr th {\n        vertical-align: top;\n    }\n\n    .dataframe thead th {\n        text-align: right;\n    }\n</style>\n<table border=\"1\" class=\"dataframe\">\n  <thead>\n    <tr style=\"text-align: right;\">\n      <th></th>\n      <th>model</th>\n      <th>scenario</th>\n      <th>scheme</th>\n      <th>is_default</th>\n      <th>is_locked</th>\n      <th>cre_user</th>\n      <th>cre_date</th>\n      <th>upd_user</th>\n      <th>upd_date</th>\n      <th>lock_user</th>\n      <th>lock_date</th>\n      <th>annotation</th>\n      <th>version</th>\n    </tr>\n  </thead>\n  <tbody>\n    <tr>\n      <th>6410</th>\n      <td>MESSAGEix-Materials</td>\n      <td>2.0deg_no_SDGs_petro_thesis_1_macro</td>\n      <td>MESSAGE</td>\n      <td>1</td>\n      <td>0</td>\n      <td>maczek</td>\n      <td>2023-05-09 09:34:33.000000</td>\n      <td>maczek</td>\n      <td>2023-05-09 10:28:12.000000</td>\n      <td>None</td>\n      <td>None</td>\n      <td>clone Scenario from 'MESSAGEix-Materials|NoPol...</td>\n      <td>4</td>\n    </tr>\n    <tr>\n      <th>6411</th>\n      <td>MESSAGEix-Materials</td>\n      <td>2.0deg_petro_thesis_1</td>\n      <td>MESSAGE</td>\n      <td>1</td>\n      <td>0</td>\n      <td>maczek</td>\n      <td>2023-02-08 23:38:03.000000</td>\n      <td>maczek</td>\n      <td>2023-02-08 23:44:53.000000</td>\n      <td>None</td>\n      <td>None</td>\n      <td>clone Scenario from 'MESSAGEix-Materials|NoPol...</td>\n      <td>1</td>\n    </tr>\n    <tr>\n      <th>6412</th>\n      <td>MESSAGEix-Materials</td>\n      <td>2.0deg_petro_thesis_2</td>\n      <td>MESSAGE</td>\n      <td>1</td>\n      <td>0</td>\n      <td>maczek</td>\n      <td>2023-04-06 16:44:33.000000</td>\n      <td>None</td>\n      <td>None</td>\n      <td>None</td>\n      <td>None</td>\n      <td>clone Scenario from 'MESSAGEix-Materials|NoPol...</td>\n      <td>6</td>\n    </tr>\n    <tr>\n      <th>6413</th>\n      <td>MESSAGEix-Materials</td>\n      <td>2.0deg_petro_thesis_2_macro</td>\n      <td>MESSAGE</td>\n      <td>1</td>\n      <td>0</td>\n      <td>maczek</td>\n      <td>2023-05-12 08:31:34.000000</td>\n      <td>maczek</td>\n      <td>2023-05-12 09:20:07.000000</td>\n      <td>None</td>\n      <td>None</td>\n      <td>clone Scenario from 'MESSAGEix-Materials|NoPol...</td>\n      <td>10</td>\n    </tr>\n    <tr>\n      <th>6414</th>\n      <td>MESSAGEix-Materials</td>\n      <td>2degree_petro_thesis_2</td>\n      <td>MESSAGE</td>\n      <td>1</td>\n      <td>0</td>\n      <td>unlu</td>\n      <td>2023-04-06 15:35:51.000000</td>\n      <td>None</td>\n      <td>None</td>\n      <td>None</td>\n      <td>None</td>\n      <td>clone Scenario from 'MESSAGEix-Materials|NoPol...</td>\n      <td>1</td>\n    </tr>\n    <tr>\n      <th>6543</th>\n      <td>MESSAGEix-Materials</td>\n      <td>NoPolicy_no_SDGs_petro_thesis_1</td>\n      <td>MESSAGE</td>\n      <td>1</td>\n      <td>0</td>\n      <td>maczek</td>\n      <td>2023-05-08 22:47:58.000000</td>\n      <td>maczek</td>\n      <td>2023-05-09 04:15:01.000000</td>\n      <td>None</td>\n      <td>None</td>\n      <td>clone Scenario from 'SHAPE_SSP2_v4.1.8|baselin...</td>\n      <td>11</td>\n    </tr>\n    <tr>\n      <th>6544</th>\n      <td>MESSAGEix-Materials</td>\n      <td>NoPolicy_no_SDGs_petro_thesis_1_macro</td>\n      <td>MESSAGE</td>\n      <td>1</td>\n      <td>0</td>\n      <td>maczek</td>\n      <td>2023-05-09 04:15:13.000000</td>\n      <td>maczek</td>\n      <td>2023-05-09 04:47:38.000000</td>\n      <td>None</td>\n      <td>None</td>\n      <td>clone Scenario from 'MESSAGEix-Materials|NoPol...</td>\n      <td>4</td>\n    </tr>\n    <tr>\n      <th>6548</th>\n      <td>MESSAGEix-Materials</td>\n      <td>NoPolicy_no_petro</td>\n      <td>MESSAGE</td>\n      <td>1</td>\n      <td>0</td>\n      <td>maczek</td>\n      <td>2023-05-04 09:18:27.000000</td>\n      <td>maczek</td>\n      <td>2023-05-04 09:44:52.000000</td>\n      <td>None</td>\n      <td>None</td>\n      <td>clone Scenario from 'SHAPE_SSP2_v4.1.8|baselin...</td>\n      <td>3</td>\n    </tr>\n    <tr>\n      <th>6550</th>\n      <td>MESSAGEix-Materials</td>\n      <td>NoPolicy_petro_biomass</td>\n      <td>MESSAGE</td>\n      <td>1</td>\n      <td>0</td>\n      <td>unlu</td>\n      <td>2022-08-09 14:51:56.000000</td>\n      <td>unlu</td>\n      <td>2022-08-09 15:14:46.000000</td>\n      <td>None</td>\n      <td>None</td>\n      <td>clone Scenario from 'SHAPE_SSP2_v4.1.8|baselin...</td>\n      <td>3</td>\n    </tr>\n    <tr>\n      <th>6551</th>\n      <td>MESSAGEix-Materials</td>\n      <td>NoPolicy_petro_test</td>\n      <td>MESSAGE</td>\n      <td>1</td>\n      <td>0</td>\n      <td>unlu</td>\n      <td>2022-04-14 11:08:53.000000</td>\n      <td>None</td>\n      <td>None</td>\n      <td>None</td>\n      <td>None</td>\n      <td>clone Scenario from 'SHAPE_SSP2_v4.1.8|baselin...</td>\n      <td>4</td>\n    </tr>\n    <tr>\n      <th>6552</th>\n      <td>MESSAGEix-Materials</td>\n      <td>NoPolicy_petro_test_2</td>\n      <td>MESSAGE</td>\n      <td>1</td>\n      <td>0</td>\n      <td>unlu</td>\n      <td>2022-04-14 14:05:39.000000</td>\n      <td>None</td>\n      <td>None</td>\n      <td>None</td>\n      <td>None</td>\n      <td>clone Scenario from 'SHAPE_SSP2_v4.1.8|baselin...</td>\n      <td>1</td>\n    </tr>\n    <tr>\n      <th>6553</th>\n      <td>MESSAGEix-Materials</td>\n      <td>NoPolicy_petro_test_3</td>\n      <td>MESSAGE</td>\n      <td>1</td>\n      <td>0</td>\n      <td>unlu</td>\n      <td>2022-04-14 14:40:02.000000</td>\n      <td>None</td>\n      <td>None</td>\n      <td>None</td>\n      <td>None</td>\n      <td>clone Scenario from 'SHAPE_SSP2_v4.1.8|baselin...</td>\n      <td>1</td>\n    </tr>\n    <tr>\n      <th>6554</th>\n      <td>MESSAGEix-Materials</td>\n      <td>NoPolicy_petro_test_4</td>\n      <td>MESSAGE</td>\n      <td>1</td>\n      <td>0</td>\n      <td>unlu</td>\n      <td>2022-04-14 15:13:25.000000</td>\n      <td>None</td>\n      <td>None</td>\n      <td>None</td>\n      <td>None</td>\n      <td>clone Scenario from 'SHAPE_SSP2_v4.1.8|baselin...</td>\n      <td>2</td>\n    </tr>\n    <tr>\n      <th>6555</th>\n      <td>MESSAGEix-Materials</td>\n      <td>NoPolicy_petro_test_5</td>\n      <td>MESSAGE</td>\n      <td>1</td>\n      <td>0</td>\n      <td>unlu</td>\n      <td>2022-04-14 15:29:02.000000</td>\n      <td>None</td>\n      <td>None</td>\n      <td>None</td>\n      <td>None</td>\n      <td>clone Scenario from 'SHAPE_SSP2_v4.1.8|baselin...</td>\n      <td>2</td>\n    </tr>\n    <tr>\n      <th>6556</th>\n      <td>MESSAGEix-Materials</td>\n      <td>NoPolicy_petro_test_6</td>\n      <td>MESSAGE</td>\n      <td>1</td>\n      <td>0</td>\n      <td>unlu</td>\n      <td>2022-04-14 15:38:19.000000</td>\n      <td>None</td>\n      <td>None</td>\n      <td>None</td>\n      <td>None</td>\n      <td>clone Scenario from 'SHAPE_SSP2_v4.1.8|baselin...</td>\n      <td>1</td>\n    </tr>\n    <tr>\n      <th>6557</th>\n      <td>MESSAGEix-Materials</td>\n      <td>NoPolicy_petro_thesis_2</td>\n      <td>MESSAGE</td>\n      <td>1</td>\n      <td>0</td>\n      <td>maczek</td>\n      <td>2023-05-09 11:02:33.000000</td>\n      <td>maczek</td>\n      <td>2023-05-10 08:03:55.000000</td>\n      <td>None</td>\n      <td>None</td>\n      <td>clone Scenario from 'SHAPE_SSP2_v4.1.8|baselin...</td>\n      <td>70</td>\n    </tr>\n    <tr>\n      <th>6558</th>\n      <td>MESSAGEix-Materials</td>\n      <td>NoPolicy_petro_thesis_2_macro</td>\n      <td>MESSAGE</td>\n      <td>1</td>\n      <td>0</td>\n      <td>maczek</td>\n      <td>2023-05-10 08:04:11.000000</td>\n      <td>maczek</td>\n      <td>2023-05-11 10:08:56.000000</td>\n      <td>None</td>\n      <td>None</td>\n      <td>clone Scenario from 'MESSAGEix-Materials|NoPol...</td>\n      <td>9</td>\n    </tr>\n    <tr>\n      <th>6559</th>\n      <td>MESSAGEix-Materials</td>\n      <td>NoPolicy_petro_thesis_2_test_meth_h2</td>\n      <td>MESSAGE</td>\n      <td>1</td>\n      <td>0</td>\n      <td>maczek</td>\n      <td>2023-05-15 10:42:54.000000</td>\n      <td>maczek</td>\n      <td>2023-05-15 11:44:21.000000</td>\n      <td>None</td>\n      <td>None</td>\n      <td>clone Scenario from 'SHAPE_SSP2_v4.1.8|baselin...</td>\n      <td>1</td>\n    </tr>\n  </tbody>\n</table>\n</div>"
     },
     "execution_count": 2,
     "metadata": {},
     "output_type": "execute_result"
    }
   ],
   "source": [
    "df = mp.scenario_list()\n",
    "df[df[\"scenario\"].str.contains(\"petro\")]\n",
    "#2023-04-24 22:27:03.000000,None,None,None,None,\"clone Scenario from 'MESSAGEix-Materials|NoPolicy_no_SDGs_petro_thesis_1_macro', version: 2\",2"
   ],
   "metadata": {
    "collapsed": false
   }
  },
  {
   "cell_type": "code",
   "execution_count": 4,
   "outputs": [],
   "source": [
    "scenario.remove_solution()\n",
    "scenario.check_out()\n",
    "scenario.remove_par(\"relation_upper\", df)\n",
    "scenario.commit(\"remove CCS constraint\")"
   ],
   "metadata": {
    "collapsed": false
   }
  },
  {
   "cell_type": "markdown",
   "source": [
    "## check for conflicts with growth constraints"
   ],
   "metadata": {
    "collapsed": false
   }
  },
  {
   "cell_type": "code",
   "execution_count": 1,
   "outputs": [
    {
     "data": {
      "text/plain": "<IPython.core.display.Javascript object>",
      "application/javascript": "if (typeof IPython !== 'undefined') { IPython.OutputArea.prototype._should_scroll = function(lines){ return false; }}"
     },
     "metadata": {},
     "output_type": "display_data"
    }
   ],
   "source": [
    "import ixmp as ix\n",
    "import message_ix\n",
    "\n",
    "mp = ix.Platform(\"ixmp_dev\")"
   ],
   "metadata": {
    "collapsed": false,
    "ExecuteTime": {
     "end_time": "2023-10-11T11:19:28.326312700Z",
     "start_time": "2023-10-11T11:19:04.611575400Z"
    }
   }
  },
  {
   "cell_type": "code",
   "execution_count": 2,
   "outputs": [],
   "source": [
    "scen = message_ix.Scenario(mp, \"MESSAGEix-Materials\", \"baseline_DEFAULT_0108_updated_SSP1_chemicals_Y\")"
   ],
   "metadata": {
    "collapsed": false,
    "ExecuteTime": {
     "end_time": "2023-10-11T11:19:30.819515500Z",
     "start_time": "2023-10-11T11:19:28.326312700Z"
    }
   }
  },
  {
   "cell_type": "code",
   "execution_count": 4,
   "outputs": [
    {
     "data": {
      "text/plain": "                     model                                        scenario  \\\n0      MESSAGEix-Materials  baseline_DEFAULT_0108_updated_SSP1_chemicals_Y   \n1      MESSAGEix-Materials  baseline_DEFAULT_0108_updated_SSP1_chemicals_Y   \n2      MESSAGEix-Materials  baseline_DEFAULT_0108_updated_SSP1_chemicals_Y   \n3      MESSAGEix-Materials  baseline_DEFAULT_0108_updated_SSP1_chemicals_Y   \n4      MESSAGEix-Materials  baseline_DEFAULT_0108_updated_SSP1_chemicals_Y   \n...                    ...                                             ...   \n32758  MESSAGEix-Materials  baseline_DEFAULT_0108_updated_SSP1_chemicals_Y   \n32759  MESSAGEix-Materials  baseline_DEFAULT_0108_updated_SSP1_chemicals_Y   \n32760  MESSAGEix-Materials  baseline_DEFAULT_0108_updated_SSP1_chemicals_Y   \n32761  MESSAGEix-Materials  baseline_DEFAULT_0108_updated_SSP1_chemicals_Y   \n32762  MESSAGEix-Materials  baseline_DEFAULT_0108_updated_SSP1_chemicals_Y   \n\n                     region                    variable             unit  \\\n0                       CPA                  Population          million   \n1                       CPA            Population|Rural          million   \n2                       CPA            Population|Urban          million   \n3               China (R12)         Agricultural Demand  million t DM/yr   \n4               China (R12)  Agricultural Demand|Energy  million t DM/yr   \n...                     ...                         ...              ...   \n32758  Western Europe (R12)                Yield|Cereal       t DM/ha/yr   \n32759  Western Europe (R12)          Yield|Energy Crops       t DM/ha/yr   \n32760  Western Europe (R12)      Yield|Non-Energy Crops       t DM/ha/yr   \n32761  Western Europe (R12)              Yield|Oilcrops       t DM/ha/yr   \n32762  Western Europe (R12)            Yield|Sugarcrops       t DM/ha/yr   \n\n           2020      2025      2030      2035      2040      2045        2050  \\\n0        0.0000    0.0000    0.0000    0.0000    0.0000    0.0000    0.000000   \n1        0.0000    0.0000    0.0000    0.0000    0.0000    0.0000    0.000000   \n2        0.0000    0.0000    0.0000    0.0000    0.0000    0.0000    0.000000   \n3      773.1930  750.3587  726.2460  710.6230  695.0001  659.6072  625.019042   \n4       48.7939    3.0609    3.2875    3.1393    2.9911    2.9911    2.985015   \n...         ...       ...       ...       ...       ...       ...         ...   \n32758    4.7784    4.8983    5.0183    5.0927    5.1671    5.2521    5.337100   \n32759    0.0000    0.0000    0.0000    0.0000    0.0000    0.0000    0.000000   \n32760    2.0796    2.0958    2.1121    2.1701    2.2280    2.2677    2.307500   \n32761    2.7800    2.8554    2.9308    2.9534    2.9760    3.0187    3.061300   \n32762   22.0911   22.4336   22.7761    0.0000    0.0000    0.0000    0.000000   \n\n             2055        2060        2070        2080        2090        2100  \\\n0        0.000000    0.000000    0.000000    0.000000    0.000000    0.000000   \n1        0.000000    0.000000    0.000000    0.000000    0.000000    0.000000   \n2        0.000000    0.000000    0.000000    0.000000    0.000000    0.000000   \n3      603.654901  582.473065  483.324285  457.339577  419.300834  377.512951   \n4        3.030702    3.076596    2.496485   34.491232   40.984672   36.500276   \n...           ...         ...         ...         ...         ...         ...   \n32758    5.460600    5.584200    5.762029    5.925012    6.008445    6.024653   \n32759    0.000000    0.000000    0.000000    0.000000    0.000000    0.000000   \n32760    2.367900    2.428300    2.529550    2.617236    2.666845    2.669336   \n32761    2.982600    2.903900    3.104353    3.190358    3.363317    3.593627   \n32762    0.000000    0.000000    0.000000    0.000000    0.000000    0.000000   \n\n             2110  \n0        0.000000  \n1        0.000000  \n2        0.000000  \n3      362.301770  \n4       22.167891  \n...           ...  \n32758    6.011952  \n32759    0.000000  \n32760    2.673214  \n32761    3.594700  \n32762    0.000000  \n\n[32763 rows x 19 columns]",
      "text/html": "<div>\n<style scoped>\n    .dataframe tbody tr th:only-of-type {\n        vertical-align: middle;\n    }\n\n    .dataframe tbody tr th {\n        vertical-align: top;\n    }\n\n    .dataframe thead th {\n        text-align: right;\n    }\n</style>\n<table border=\"1\" class=\"dataframe\">\n  <thead>\n    <tr style=\"text-align: right;\">\n      <th></th>\n      <th>model</th>\n      <th>scenario</th>\n      <th>region</th>\n      <th>variable</th>\n      <th>unit</th>\n      <th>2020</th>\n      <th>2025</th>\n      <th>2030</th>\n      <th>2035</th>\n      <th>2040</th>\n      <th>2045</th>\n      <th>2050</th>\n      <th>2055</th>\n      <th>2060</th>\n      <th>2070</th>\n      <th>2080</th>\n      <th>2090</th>\n      <th>2100</th>\n      <th>2110</th>\n    </tr>\n  </thead>\n  <tbody>\n    <tr>\n      <th>0</th>\n      <td>MESSAGEix-Materials</td>\n      <td>baseline_DEFAULT_0108_updated_SSP1_chemicals_Y</td>\n      <td>CPA</td>\n      <td>Population</td>\n      <td>million</td>\n      <td>0.0000</td>\n      <td>0.0000</td>\n      <td>0.0000</td>\n      <td>0.0000</td>\n      <td>0.0000</td>\n      <td>0.0000</td>\n      <td>0.000000</td>\n      <td>0.000000</td>\n      <td>0.000000</td>\n      <td>0.000000</td>\n      <td>0.000000</td>\n      <td>0.000000</td>\n      <td>0.000000</td>\n      <td>0.000000</td>\n    </tr>\n    <tr>\n      <th>1</th>\n      <td>MESSAGEix-Materials</td>\n      <td>baseline_DEFAULT_0108_updated_SSP1_chemicals_Y</td>\n      <td>CPA</td>\n      <td>Population|Rural</td>\n      <td>million</td>\n      <td>0.0000</td>\n      <td>0.0000</td>\n      <td>0.0000</td>\n      <td>0.0000</td>\n      <td>0.0000</td>\n      <td>0.0000</td>\n      <td>0.000000</td>\n      <td>0.000000</td>\n      <td>0.000000</td>\n      <td>0.000000</td>\n      <td>0.000000</td>\n      <td>0.000000</td>\n      <td>0.000000</td>\n      <td>0.000000</td>\n    </tr>\n    <tr>\n      <th>2</th>\n      <td>MESSAGEix-Materials</td>\n      <td>baseline_DEFAULT_0108_updated_SSP1_chemicals_Y</td>\n      <td>CPA</td>\n      <td>Population|Urban</td>\n      <td>million</td>\n      <td>0.0000</td>\n      <td>0.0000</td>\n      <td>0.0000</td>\n      <td>0.0000</td>\n      <td>0.0000</td>\n      <td>0.0000</td>\n      <td>0.000000</td>\n      <td>0.000000</td>\n      <td>0.000000</td>\n      <td>0.000000</td>\n      <td>0.000000</td>\n      <td>0.000000</td>\n      <td>0.000000</td>\n      <td>0.000000</td>\n    </tr>\n    <tr>\n      <th>3</th>\n      <td>MESSAGEix-Materials</td>\n      <td>baseline_DEFAULT_0108_updated_SSP1_chemicals_Y</td>\n      <td>China (R12)</td>\n      <td>Agricultural Demand</td>\n      <td>million t DM/yr</td>\n      <td>773.1930</td>\n      <td>750.3587</td>\n      <td>726.2460</td>\n      <td>710.6230</td>\n      <td>695.0001</td>\n      <td>659.6072</td>\n      <td>625.019042</td>\n      <td>603.654901</td>\n      <td>582.473065</td>\n      <td>483.324285</td>\n      <td>457.339577</td>\n      <td>419.300834</td>\n      <td>377.512951</td>\n      <td>362.301770</td>\n    </tr>\n    <tr>\n      <th>4</th>\n      <td>MESSAGEix-Materials</td>\n      <td>baseline_DEFAULT_0108_updated_SSP1_chemicals_Y</td>\n      <td>China (R12)</td>\n      <td>Agricultural Demand|Energy</td>\n      <td>million t DM/yr</td>\n      <td>48.7939</td>\n      <td>3.0609</td>\n      <td>3.2875</td>\n      <td>3.1393</td>\n      <td>2.9911</td>\n      <td>2.9911</td>\n      <td>2.985015</td>\n      <td>3.030702</td>\n      <td>3.076596</td>\n      <td>2.496485</td>\n      <td>34.491232</td>\n      <td>40.984672</td>\n      <td>36.500276</td>\n      <td>22.167891</td>\n    </tr>\n    <tr>\n      <th>...</th>\n      <td>...</td>\n      <td>...</td>\n      <td>...</td>\n      <td>...</td>\n      <td>...</td>\n      <td>...</td>\n      <td>...</td>\n      <td>...</td>\n      <td>...</td>\n      <td>...</td>\n      <td>...</td>\n      <td>...</td>\n      <td>...</td>\n      <td>...</td>\n      <td>...</td>\n      <td>...</td>\n      <td>...</td>\n      <td>...</td>\n      <td>...</td>\n    </tr>\n    <tr>\n      <th>32758</th>\n      <td>MESSAGEix-Materials</td>\n      <td>baseline_DEFAULT_0108_updated_SSP1_chemicals_Y</td>\n      <td>Western Europe (R12)</td>\n      <td>Yield|Cereal</td>\n      <td>t DM/ha/yr</td>\n      <td>4.7784</td>\n      <td>4.8983</td>\n      <td>5.0183</td>\n      <td>5.0927</td>\n      <td>5.1671</td>\n      <td>5.2521</td>\n      <td>5.337100</td>\n      <td>5.460600</td>\n      <td>5.584200</td>\n      <td>5.762029</td>\n      <td>5.925012</td>\n      <td>6.008445</td>\n      <td>6.024653</td>\n      <td>6.011952</td>\n    </tr>\n    <tr>\n      <th>32759</th>\n      <td>MESSAGEix-Materials</td>\n      <td>baseline_DEFAULT_0108_updated_SSP1_chemicals_Y</td>\n      <td>Western Europe (R12)</td>\n      <td>Yield|Energy Crops</td>\n      <td>t DM/ha/yr</td>\n      <td>0.0000</td>\n      <td>0.0000</td>\n      <td>0.0000</td>\n      <td>0.0000</td>\n      <td>0.0000</td>\n      <td>0.0000</td>\n      <td>0.000000</td>\n      <td>0.000000</td>\n      <td>0.000000</td>\n      <td>0.000000</td>\n      <td>0.000000</td>\n      <td>0.000000</td>\n      <td>0.000000</td>\n      <td>0.000000</td>\n    </tr>\n    <tr>\n      <th>32760</th>\n      <td>MESSAGEix-Materials</td>\n      <td>baseline_DEFAULT_0108_updated_SSP1_chemicals_Y</td>\n      <td>Western Europe (R12)</td>\n      <td>Yield|Non-Energy Crops</td>\n      <td>t DM/ha/yr</td>\n      <td>2.0796</td>\n      <td>2.0958</td>\n      <td>2.1121</td>\n      <td>2.1701</td>\n      <td>2.2280</td>\n      <td>2.2677</td>\n      <td>2.307500</td>\n      <td>2.367900</td>\n      <td>2.428300</td>\n      <td>2.529550</td>\n      <td>2.617236</td>\n      <td>2.666845</td>\n      <td>2.669336</td>\n      <td>2.673214</td>\n    </tr>\n    <tr>\n      <th>32761</th>\n      <td>MESSAGEix-Materials</td>\n      <td>baseline_DEFAULT_0108_updated_SSP1_chemicals_Y</td>\n      <td>Western Europe (R12)</td>\n      <td>Yield|Oilcrops</td>\n      <td>t DM/ha/yr</td>\n      <td>2.7800</td>\n      <td>2.8554</td>\n      <td>2.9308</td>\n      <td>2.9534</td>\n      <td>2.9760</td>\n      <td>3.0187</td>\n      <td>3.061300</td>\n      <td>2.982600</td>\n      <td>2.903900</td>\n      <td>3.104353</td>\n      <td>3.190358</td>\n      <td>3.363317</td>\n      <td>3.593627</td>\n      <td>3.594700</td>\n    </tr>\n    <tr>\n      <th>32762</th>\n      <td>MESSAGEix-Materials</td>\n      <td>baseline_DEFAULT_0108_updated_SSP1_chemicals_Y</td>\n      <td>Western Europe (R12)</td>\n      <td>Yield|Sugarcrops</td>\n      <td>t DM/ha/yr</td>\n      <td>22.0911</td>\n      <td>22.4336</td>\n      <td>22.7761</td>\n      <td>0.0000</td>\n      <td>0.0000</td>\n      <td>0.0000</td>\n      <td>0.000000</td>\n      <td>0.000000</td>\n      <td>0.000000</td>\n      <td>0.000000</td>\n      <td>0.000000</td>\n      <td>0.000000</td>\n      <td>0.000000</td>\n      <td>0.000000</td>\n    </tr>\n  </tbody>\n</table>\n<p>32763 rows × 19 columns</p>\n</div>"
     },
     "execution_count": 4,
     "metadata": {},
     "output_type": "execute_result"
    }
   ],
   "source": [
    "scen.timeseries(iamc=True)"
   ],
   "metadata": {
    "collapsed": false,
    "ExecuteTime": {
     "end_time": "2023-10-11T11:21:22.267110400Z",
     "start_time": "2023-10-11T11:20:51.496907900Z"
    }
   }
  },
  {
   "cell_type": "code",
   "execution_count": 14,
   "outputs": [
    {
     "data": {
      "text/plain": "True"
     },
     "execution_count": 14,
     "metadata": {},
     "output_type": "execute_result"
    }
   ],
   "source": [
    "scen.has_solution()"
   ],
   "metadata": {
    "collapsed": false
   }
  },
  {
   "cell_type": "code",
   "execution_count": 15,
   "outputs": [],
   "source": [
    "import message_ix_models"
   ],
   "metadata": {
    "collapsed": false
   }
  },
  {
   "cell_type": "code",
   "execution_count": 20,
   "outputs": [
    {
     "data": {
      "text/plain": "'C:\\\\Users\\\\maczek\\\\PycharmProjects\\\\message_data\\\\data\\\\material\\\\yuheng/MESSAGEix-Materials_baseline_DEFAULT_0108_updated_SSP1_chemicals_Y'"
     },
     "execution_count": 20,
     "metadata": {},
     "output_type": "execute_result"
    }
   ],
   "source": [
    "f\"{message_ix_models.util.private_data_path()}\\material\\yuheng/{scen.model}_{scen.scenario}.xlsx\""
   ],
   "metadata": {
    "collapsed": false
   }
  },
  {
   "cell_type": "code",
   "execution_count": null,
   "outputs": [
    {
     "name": "stdout",
     "output_type": "stream",
     "text": [
      "Unexpected exception formatting exception. Falling back to standard exception\n"
     ]
    },
    {
     "name": "stderr",
     "output_type": "stream",
     "text": [
      "Traceback (most recent call last):\n",
      "  File \"C:\\Users\\maczek\\Anaconda3\\lib\\site-packages\\IPython\\core\\interactiveshell.py\", line 3398, in run_code\n",
      "    exec(code_obj, self.user_global_ns, self.user_ns)\n",
      "  File \"C:\\Users\\maczek\\AppData\\Local\\Temp\\ipykernel_8832\\1922672665.py\", line 1, in <cell line: 1>\n",
      "    scen.to_excel(f\"{message_ix_models.util.private_data_path()}\\material\\yuheng/{scen.model}_{scen.scenario}.xlsx\")\n",
      "  File \"C:\\Users\\maczek\\Anaconda3\\lib\\site-packages\\ixmp\\core\\scenario.py\", line 896, in to_excel\n",
      "    self.platform._backend.write_file(\n",
      "  File \"C:\\Users\\maczek\\Anaconda3\\lib\\site-packages\\ixmp\\backend\\jdbc.py\", line 565, in write_file\n",
      "    super().write_file(path, item_type, **kwargs)\n"
     ]
    }
   ],
   "source": [
    "scen.to_excel(f\"{message_ix_models.util.private_data_path()}\\material\\yuheng/{scen.model}_{scen.scenario}.xlsx\")"
   ],
   "metadata": {
    "collapsed": false,
    "pycharm": {
     "is_executing": true
    }
   }
  },
  {
   "cell_type": "code",
   "execution_count": 10,
   "outputs": [],
   "source": [
    "df = mp.scenario_list()"
   ],
   "metadata": {
    "collapsed": false
   }
  },
  {
   "cell_type": "code",
   "execution_count": 6,
   "outputs": [
    {
     "data": {
      "text/plain": "True"
     },
     "execution_count": 6,
     "metadata": {},
     "output_type": "execute_result"
    }
   ],
   "source": [
    "scen.has_solution()"
   ],
   "metadata": {
    "collapsed": false
   }
  },
  {
   "cell_type": "code",
   "execution_count": null,
   "outputs": [],
   "source": [
    "scen.clone(\"\")"
   ],
   "metadata": {
    "collapsed": false
   }
  },
  {
   "cell_type": "code",
   "execution_count": null,
   "outputs": [],
   "source": [
    "scen.remove_solution()"
   ],
   "metadata": {
    "collapsed": false
   }
  },
  {
   "cell_type": "code",
   "execution_count": null,
   "outputs": [],
   "source": [
    "scen.check_out()"
   ],
   "metadata": {
    "collapsed": false
   }
  },
  {
   "cell_type": "code",
   "execution_count": null,
   "outputs": [],
   "source": [
    "scen.commit()"
   ],
   "metadata": {
    "collapsed": false
   }
  },
  {
   "cell_type": "code",
   "execution_count": 11,
   "outputs": [
    {
     "ename": "KeyError",
     "evalue": "\"None of [Index(['node_loc', 'technology', 'year_vtg', 'year_act', 'mode', 'node_origin',\\n       'commodity', 'level', 'time', 'time_origin'],\\n      dtype='object')] are in the [columns]\"",
     "output_type": "error",
     "traceback": [
      "\u001B[1;31m---------------------------------------------------------------------------\u001B[0m",
      "\u001B[1;31mKeyError\u001B[0m                                  Traceback (most recent call last)",
      "Input \u001B[1;32mIn [11]\u001B[0m, in \u001B[0;36m<cell line: 1>\u001B[1;34m()\u001B[0m\n\u001B[1;32m----> 1\u001B[0m \u001B[43mscen\u001B[49m\u001B[38;5;241;43m.\u001B[39;49m\u001B[43madd_par\u001B[49m\u001B[43m(\u001B[49m\u001B[38;5;124;43m\"\u001B[39;49m\u001B[38;5;124;43minput\u001B[39;49m\u001B[38;5;124;43m\"\u001B[39;49m\u001B[43m,\u001B[49m\u001B[43m \u001B[49m\u001B[43mdf\u001B[49m\u001B[43m)\u001B[49m\n",
      "File \u001B[1;32m~\\Anaconda3\\lib\\site-packages\\ixmp\\core\\scenario.py:505\u001B[0m, in \u001B[0;36mScenario.add_par\u001B[1;34m(self, name, key_or_data, value, unit, comment)\u001B[0m\n\u001B[0;32m    501\u001B[0m \u001B[38;5;28;01mif\u001B[39;00m \u001B[38;5;124m\"\u001B[39m\u001B[38;5;124mkey\u001B[39m\u001B[38;5;124m\"\u001B[39m \u001B[38;5;129;01mnot\u001B[39;00m \u001B[38;5;129;01min\u001B[39;00m data\u001B[38;5;241m.\u001B[39mcolumns:\n\u001B[0;32m    502\u001B[0m     \u001B[38;5;66;03m# Form the 'key' column from other columns\u001B[39;00m\n\u001B[0;32m    503\u001B[0m     \u001B[38;5;28;01mif\u001B[39;00m N_dim \u001B[38;5;241m>\u001B[39m \u001B[38;5;241m1\u001B[39m \u001B[38;5;129;01mand\u001B[39;00m \u001B[38;5;28mlen\u001B[39m(data):\n\u001B[0;32m    504\u001B[0m         data[\u001B[38;5;124m\"\u001B[39m\u001B[38;5;124mkey\u001B[39m\u001B[38;5;124m\"\u001B[39m] \u001B[38;5;241m=\u001B[39m (\n\u001B[1;32m--> 505\u001B[0m             \u001B[43mdata\u001B[49m\u001B[43m[\u001B[49m\u001B[43midx_names\u001B[49m\u001B[43m]\u001B[49m\u001B[38;5;241m.\u001B[39mastype(\u001B[38;5;28mstr\u001B[39m)\u001B[38;5;241m.\u001B[39magg(\u001B[38;5;28;01mlambda\u001B[39;00m s: s\u001B[38;5;241m.\u001B[39mtolist(), axis\u001B[38;5;241m=\u001B[39m\u001B[38;5;241m1\u001B[39m)\n\u001B[0;32m    506\u001B[0m         )\n\u001B[0;32m    507\u001B[0m     \u001B[38;5;28;01melse\u001B[39;00m:\n\u001B[0;32m    508\u001B[0m         data[\u001B[38;5;124m\"\u001B[39m\u001B[38;5;124mkey\u001B[39m\u001B[38;5;124m\"\u001B[39m] \u001B[38;5;241m=\u001B[39m data[idx_names[\u001B[38;5;241m0\u001B[39m]]\n",
      "File \u001B[1;32m~\\Anaconda3\\lib\\site-packages\\pandas\\core\\frame.py:3511\u001B[0m, in \u001B[0;36mDataFrame.__getitem__\u001B[1;34m(self, key)\u001B[0m\n\u001B[0;32m   3509\u001B[0m     \u001B[38;5;28;01mif\u001B[39;00m is_iterator(key):\n\u001B[0;32m   3510\u001B[0m         key \u001B[38;5;241m=\u001B[39m \u001B[38;5;28mlist\u001B[39m(key)\n\u001B[1;32m-> 3511\u001B[0m     indexer \u001B[38;5;241m=\u001B[39m \u001B[38;5;28;43mself\u001B[39;49m\u001B[38;5;241;43m.\u001B[39;49m\u001B[43mcolumns\u001B[49m\u001B[38;5;241;43m.\u001B[39;49m\u001B[43m_get_indexer_strict\u001B[49m\u001B[43m(\u001B[49m\u001B[43mkey\u001B[49m\u001B[43m,\u001B[49m\u001B[43m \u001B[49m\u001B[38;5;124;43m\"\u001B[39;49m\u001B[38;5;124;43mcolumns\u001B[39;49m\u001B[38;5;124;43m\"\u001B[39;49m\u001B[43m)\u001B[49m[\u001B[38;5;241m1\u001B[39m]\n\u001B[0;32m   3513\u001B[0m \u001B[38;5;66;03m# take() does not accept boolean indexers\u001B[39;00m\n\u001B[0;32m   3514\u001B[0m \u001B[38;5;28;01mif\u001B[39;00m \u001B[38;5;28mgetattr\u001B[39m(indexer, \u001B[38;5;124m\"\u001B[39m\u001B[38;5;124mdtype\u001B[39m\u001B[38;5;124m\"\u001B[39m, \u001B[38;5;28;01mNone\u001B[39;00m) \u001B[38;5;241m==\u001B[39m \u001B[38;5;28mbool\u001B[39m:\n",
      "File \u001B[1;32m~\\Anaconda3\\lib\\site-packages\\pandas\\core\\indexes\\base.py:5782\u001B[0m, in \u001B[0;36mIndex._get_indexer_strict\u001B[1;34m(self, key, axis_name)\u001B[0m\n\u001B[0;32m   5779\u001B[0m \u001B[38;5;28;01melse\u001B[39;00m:\n\u001B[0;32m   5780\u001B[0m     keyarr, indexer, new_indexer \u001B[38;5;241m=\u001B[39m \u001B[38;5;28mself\u001B[39m\u001B[38;5;241m.\u001B[39m_reindex_non_unique(keyarr)\n\u001B[1;32m-> 5782\u001B[0m \u001B[38;5;28;43mself\u001B[39;49m\u001B[38;5;241;43m.\u001B[39;49m\u001B[43m_raise_if_missing\u001B[49m\u001B[43m(\u001B[49m\u001B[43mkeyarr\u001B[49m\u001B[43m,\u001B[49m\u001B[43m \u001B[49m\u001B[43mindexer\u001B[49m\u001B[43m,\u001B[49m\u001B[43m \u001B[49m\u001B[43maxis_name\u001B[49m\u001B[43m)\u001B[49m\n\u001B[0;32m   5784\u001B[0m keyarr \u001B[38;5;241m=\u001B[39m \u001B[38;5;28mself\u001B[39m\u001B[38;5;241m.\u001B[39mtake(indexer)\n\u001B[0;32m   5785\u001B[0m \u001B[38;5;28;01mif\u001B[39;00m \u001B[38;5;28misinstance\u001B[39m(key, Index):\n\u001B[0;32m   5786\u001B[0m     \u001B[38;5;66;03m# GH 42790 - Preserve name from an Index\u001B[39;00m\n",
      "File \u001B[1;32m~\\Anaconda3\\lib\\site-packages\\pandas\\core\\indexes\\base.py:5842\u001B[0m, in \u001B[0;36mIndex._raise_if_missing\u001B[1;34m(self, key, indexer, axis_name)\u001B[0m\n\u001B[0;32m   5840\u001B[0m     \u001B[38;5;28;01mif\u001B[39;00m use_interval_msg:\n\u001B[0;32m   5841\u001B[0m         key \u001B[38;5;241m=\u001B[39m \u001B[38;5;28mlist\u001B[39m(key)\n\u001B[1;32m-> 5842\u001B[0m     \u001B[38;5;28;01mraise\u001B[39;00m \u001B[38;5;167;01mKeyError\u001B[39;00m(\u001B[38;5;124mf\u001B[39m\u001B[38;5;124m\"\u001B[39m\u001B[38;5;124mNone of [\u001B[39m\u001B[38;5;132;01m{\u001B[39;00mkey\u001B[38;5;132;01m}\u001B[39;00m\u001B[38;5;124m] are in the [\u001B[39m\u001B[38;5;132;01m{\u001B[39;00maxis_name\u001B[38;5;132;01m}\u001B[39;00m\u001B[38;5;124m]\u001B[39m\u001B[38;5;124m\"\u001B[39m)\n\u001B[0;32m   5844\u001B[0m not_found \u001B[38;5;241m=\u001B[39m \u001B[38;5;28mlist\u001B[39m(ensure_index(key)[missing_mask\u001B[38;5;241m.\u001B[39mnonzero()[\u001B[38;5;241m0\u001B[39m]]\u001B[38;5;241m.\u001B[39munique())\n\u001B[0;32m   5845\u001B[0m \u001B[38;5;28;01mraise\u001B[39;00m \u001B[38;5;167;01mKeyError\u001B[39;00m(\u001B[38;5;124mf\u001B[39m\u001B[38;5;124m\"\u001B[39m\u001B[38;5;132;01m{\u001B[39;00mnot_found\u001B[38;5;132;01m}\u001B[39;00m\u001B[38;5;124m not in index\u001B[39m\u001B[38;5;124m\"\u001B[39m)\n",
      "\u001B[1;31mKeyError\u001B[0m: \"None of [Index(['node_loc', 'technology', 'year_vtg', 'year_act', 'mode', 'node_origin',\\n       'commodity', 'level', 'time', 'time_origin'],\\n      dtype='object')] are in the [columns]\""
     ]
    }
   ],
   "source": [
    "scen.add_par(\"input\", df)"
   ],
   "metadata": {
    "collapsed": false
   }
  },
  {
   "cell_type": "code",
   "execution_count": 3,
   "outputs": [
    {
     "data": {
      "text/plain": "True"
     },
     "execution_count": 3,
     "metadata": {},
     "output_type": "execute_result"
    }
   ],
   "source": [
    "message_ix.Scenario(mp, \"MESSAGEix-GLOBIOM 1.1-M-R12-NAVIGATE\",\"NPi2020-con-prim-dir-ncr\").has_solution()"
   ],
   "metadata": {
    "collapsed": false
   }
  },
  {
   "cell_type": "code",
   "execution_count": 2,
   "outputs": [
    {
     "data": {
      "text/plain": "                                         model  \\\n6280   MESSAGEix-GLOBIOM 1.1-BM-R12 (NAVIGATE)   \n6281   MESSAGEix-GLOBIOM 1.1-BM-R12 (NAVIGATE)   \n6282   MESSAGEix-GLOBIOM 1.1-BM-R12 (NAVIGATE)   \n6283   MESSAGEix-GLOBIOM 1.1-BM-R12 (NAVIGATE)   \n6284   MESSAGEix-GLOBIOM 1.1-BM-R12 (NAVIGATE)   \n...                                        ...   \n7736  NAVIGATE_SSP2_v4.1.7_noSDG_rcpref_medrel   \n7737  NAVIGATE_SSP2_v4.1.7_noSDG_rcpref_medrel   \n7738                       NAVIGATE_hydro_test   \n7739                       NAVIGATE_hydro_test   \n7740                       NAVIGATE_hydro_test   \n\n                            scenario   scheme  is_default  is_locked  \\\n6280                        Ctax-ref  MESSAGE           1          0   \n6281                      Ctax-ref+B  MESSAGE           1          0   \n6282                       NPi-AdvPE  MESSAGE           1          0   \n6283     NPi-AdvPE_ENGAGE_20C_step-0  MESSAGE           1          0   \n6284     NPi-AdvPE_ENGAGE_20C_step-3  MESSAGE           1          0   \n...                              ...      ...         ...        ...   \n7736  NPi2020-con-prim-dir-ncr_nexus  MESSAGE           1          0   \n7737                   NPi2020_nexus  MESSAGE           1          0   \n7738       NoPolicy_R12_update_hydro  MESSAGE           1          0   \n7739  NoPolicy_R12_update_hydro_1000  MESSAGE           1          0   \n7740  NoPolicy_R12_update_hydro_1500  MESSAGE           1          0   \n\n      cre_user                    cre_date  upd_user  \\\n6280  kishimot  2023-08-02 17:03:51.000000  kishimot   \n6281  kishimot  2023-08-02 17:19:35.000000  kishimot   \n6282  kishimot  2023-05-08 17:24:09.000000  kishimot   \n6283  kishimot  2023-05-17 11:32:35.000000      None   \n6284  kishimot  2023-05-17 11:39:15.000000  kishimot   \n...        ...                         ...       ...   \n7736     awais  2022-11-24 13:13:38.000000     awais   \n7737     awais  2023-04-09 17:02:46.000000     awais   \n7738       min  2022-01-24 23:33:58.000000      None   \n7739       min  2022-01-26 11:04:24.000000      None   \n7740       min  2022-01-27 15:18:57.000000      None   \n\n                        upd_date lock_user lock_date  \\\n6280  2023-08-02 17:19:24.000000      None      None   \n6281  2023-08-02 18:17:39.000000      None      None   \n6282  2023-05-08 19:48:42.000000      None      None   \n6283                        None      None      None   \n6284  2023-05-17 11:54:29.000000      None      None   \n...                          ...       ...       ...   \n7736  2022-11-24 19:26:29.000000      None      None   \n7737  2023-04-09 20:29:00.000000      None      None   \n7738                        None      None      None   \n7739                        None      None      None   \n7740                        None      None      None   \n\n                                             annotation  version  \n6280  clone Scenario from 'MESSAGEix-GLOBIOM 1.1-BM-...        1  \n6281  clone Scenario from 'MESSAGEix-GLOBIOM 1.1-BM-...        1  \n6282  clone Scenario from 'MESSAGEix-GLOBIOM 1.1-M-R...        2  \n6283  clone Scenario from 'MESSAGEix-GLOBIOM 1.1-BM-...        1  \n6284  clone Scenario from 'MESSAGEix-GLOBIOM 1.1-BM-...        2  \n...                                                 ...      ...  \n7736  clone Scenario from 'NAVIGATE_SSP2_v4.1.7_noSD...       13  \n7737  clone Scenario from 'NAVIGATE_SSP2_v4.1.7_noSD...        4  \n7738  clone Scenario from 'MESSAGEix-Materials|NoPol...        1  \n7739  clone Scenario from 'NAVIGATE_hydro_test|NoPol...        1  \n7740  clone Scenario from 'NAVIGATE_hydro_test|NoPol...        1  \n\n[623 rows x 13 columns]",
      "text/html": "<div>\n<style scoped>\n    .dataframe tbody tr th:only-of-type {\n        vertical-align: middle;\n    }\n\n    .dataframe tbody tr th {\n        vertical-align: top;\n    }\n\n    .dataframe thead th {\n        text-align: right;\n    }\n</style>\n<table border=\"1\" class=\"dataframe\">\n  <thead>\n    <tr style=\"text-align: right;\">\n      <th></th>\n      <th>model</th>\n      <th>scenario</th>\n      <th>scheme</th>\n      <th>is_default</th>\n      <th>is_locked</th>\n      <th>cre_user</th>\n      <th>cre_date</th>\n      <th>upd_user</th>\n      <th>upd_date</th>\n      <th>lock_user</th>\n      <th>lock_date</th>\n      <th>annotation</th>\n      <th>version</th>\n    </tr>\n  </thead>\n  <tbody>\n    <tr>\n      <th>6280</th>\n      <td>MESSAGEix-GLOBIOM 1.1-BM-R12 (NAVIGATE)</td>\n      <td>Ctax-ref</td>\n      <td>MESSAGE</td>\n      <td>1</td>\n      <td>0</td>\n      <td>kishimot</td>\n      <td>2023-08-02 17:03:51.000000</td>\n      <td>kishimot</td>\n      <td>2023-08-02 17:19:24.000000</td>\n      <td>None</td>\n      <td>None</td>\n      <td>clone Scenario from 'MESSAGEix-GLOBIOM 1.1-BM-...</td>\n      <td>1</td>\n    </tr>\n    <tr>\n      <th>6281</th>\n      <td>MESSAGEix-GLOBIOM 1.1-BM-R12 (NAVIGATE)</td>\n      <td>Ctax-ref+B</td>\n      <td>MESSAGE</td>\n      <td>1</td>\n      <td>0</td>\n      <td>kishimot</td>\n      <td>2023-08-02 17:19:35.000000</td>\n      <td>kishimot</td>\n      <td>2023-08-02 18:17:39.000000</td>\n      <td>None</td>\n      <td>None</td>\n      <td>clone Scenario from 'MESSAGEix-GLOBIOM 1.1-BM-...</td>\n      <td>1</td>\n    </tr>\n    <tr>\n      <th>6282</th>\n      <td>MESSAGEix-GLOBIOM 1.1-BM-R12 (NAVIGATE)</td>\n      <td>NPi-AdvPE</td>\n      <td>MESSAGE</td>\n      <td>1</td>\n      <td>0</td>\n      <td>kishimot</td>\n      <td>2023-05-08 17:24:09.000000</td>\n      <td>kishimot</td>\n      <td>2023-05-08 19:48:42.000000</td>\n      <td>None</td>\n      <td>None</td>\n      <td>clone Scenario from 'MESSAGEix-GLOBIOM 1.1-M-R...</td>\n      <td>2</td>\n    </tr>\n    <tr>\n      <th>6283</th>\n      <td>MESSAGEix-GLOBIOM 1.1-BM-R12 (NAVIGATE)</td>\n      <td>NPi-AdvPE_ENGAGE_20C_step-0</td>\n      <td>MESSAGE</td>\n      <td>1</td>\n      <td>0</td>\n      <td>kishimot</td>\n      <td>2023-05-17 11:32:35.000000</td>\n      <td>None</td>\n      <td>None</td>\n      <td>None</td>\n      <td>None</td>\n      <td>clone Scenario from 'MESSAGEix-GLOBIOM 1.1-BM-...</td>\n      <td>1</td>\n    </tr>\n    <tr>\n      <th>6284</th>\n      <td>MESSAGEix-GLOBIOM 1.1-BM-R12 (NAVIGATE)</td>\n      <td>NPi-AdvPE_ENGAGE_20C_step-3</td>\n      <td>MESSAGE</td>\n      <td>1</td>\n      <td>0</td>\n      <td>kishimot</td>\n      <td>2023-05-17 11:39:15.000000</td>\n      <td>kishimot</td>\n      <td>2023-05-17 11:54:29.000000</td>\n      <td>None</td>\n      <td>None</td>\n      <td>clone Scenario from 'MESSAGEix-GLOBIOM 1.1-BM-...</td>\n      <td>2</td>\n    </tr>\n    <tr>\n      <th>...</th>\n      <td>...</td>\n      <td>...</td>\n      <td>...</td>\n      <td>...</td>\n      <td>...</td>\n      <td>...</td>\n      <td>...</td>\n      <td>...</td>\n      <td>...</td>\n      <td>...</td>\n      <td>...</td>\n      <td>...</td>\n      <td>...</td>\n    </tr>\n    <tr>\n      <th>7736</th>\n      <td>NAVIGATE_SSP2_v4.1.7_noSDG_rcpref_medrel</td>\n      <td>NPi2020-con-prim-dir-ncr_nexus</td>\n      <td>MESSAGE</td>\n      <td>1</td>\n      <td>0</td>\n      <td>awais</td>\n      <td>2022-11-24 13:13:38.000000</td>\n      <td>awais</td>\n      <td>2022-11-24 19:26:29.000000</td>\n      <td>None</td>\n      <td>None</td>\n      <td>clone Scenario from 'NAVIGATE_SSP2_v4.1.7_noSD...</td>\n      <td>13</td>\n    </tr>\n    <tr>\n      <th>7737</th>\n      <td>NAVIGATE_SSP2_v4.1.7_noSDG_rcpref_medrel</td>\n      <td>NPi2020_nexus</td>\n      <td>MESSAGE</td>\n      <td>1</td>\n      <td>0</td>\n      <td>awais</td>\n      <td>2023-04-09 17:02:46.000000</td>\n      <td>awais</td>\n      <td>2023-04-09 20:29:00.000000</td>\n      <td>None</td>\n      <td>None</td>\n      <td>clone Scenario from 'NAVIGATE_SSP2_v4.1.7_noSD...</td>\n      <td>4</td>\n    </tr>\n    <tr>\n      <th>7738</th>\n      <td>NAVIGATE_hydro_test</td>\n      <td>NoPolicy_R12_update_hydro</td>\n      <td>MESSAGE</td>\n      <td>1</td>\n      <td>0</td>\n      <td>min</td>\n      <td>2022-01-24 23:33:58.000000</td>\n      <td>None</td>\n      <td>None</td>\n      <td>None</td>\n      <td>None</td>\n      <td>clone Scenario from 'MESSAGEix-Materials|NoPol...</td>\n      <td>1</td>\n    </tr>\n    <tr>\n      <th>7739</th>\n      <td>NAVIGATE_hydro_test</td>\n      <td>NoPolicy_R12_update_hydro_1000</td>\n      <td>MESSAGE</td>\n      <td>1</td>\n      <td>0</td>\n      <td>min</td>\n      <td>2022-01-26 11:04:24.000000</td>\n      <td>None</td>\n      <td>None</td>\n      <td>None</td>\n      <td>None</td>\n      <td>clone Scenario from 'NAVIGATE_hydro_test|NoPol...</td>\n      <td>1</td>\n    </tr>\n    <tr>\n      <th>7740</th>\n      <td>NAVIGATE_hydro_test</td>\n      <td>NoPolicy_R12_update_hydro_1500</td>\n      <td>MESSAGE</td>\n      <td>1</td>\n      <td>0</td>\n      <td>min</td>\n      <td>2022-01-27 15:18:57.000000</td>\n      <td>None</td>\n      <td>None</td>\n      <td>None</td>\n      <td>None</td>\n      <td>clone Scenario from 'NAVIGATE_hydro_test|NoPol...</td>\n      <td>1</td>\n    </tr>\n  </tbody>\n</table>\n<p>623 rows × 13 columns</p>\n</div>"
     },
     "execution_count": 2,
     "metadata": {},
     "output_type": "execute_result"
    }
   ],
   "source": [
    "df = mp.scenario_list()\n",
    "df[df[\"model\"].str.contains(\"NAVIGATE\")]"
   ],
   "metadata": {
    "collapsed": false
   }
  },
  {
   "cell_type": "code",
   "execution_count": 8,
   "outputs": [
    {
     "name": "stdout",
     "output_type": "stream",
     "text": [
      "{'common': {'commodity': {'require': ['coal', 'gas', 'electr', 'ethanol', 'methanol', 'fueloil', 'lightoil', 'hydrogen', 'lh2', 'd_heat'], 'add': ['biomass', 'water', 'fresh_water']}, 'level': {'require': ['primary', 'secondary', 'useful', 'final', 'water_supply', 'export', 'import']}, 'type_tec': {'add': ['industry']}, 'mode': {'add': ['M1', 'M2']}, 'emission': {'add': ['CO2', 'CH4', 'N2O', 'NOx', 'SO2', 'PM2p5', 'CF4']}, 'year': {'add': [1980, 1990, 2000, 2010]}, 'type_year': {'add': [2010]}}, 'generic': {'commodity': {'add': ['ht_heat', 'lt_heat']}, 'level': {'add': ['useful_steel', 'useful_cement', 'useful_aluminum', 'useful_refining', 'useful_petro', 'useful_resins']}, 'technology': {'add': ['furnace_foil_steel', 'furnace_loil_steel', 'furnace_biomass_steel', 'furnace_ethanol_steel', 'furnace_methanol_steel', 'furnace_gas_steel', 'furnace_coal_steel', 'furnace_elec_steel', 'furnace_h2_steel', 'hp_gas_steel', 'hp_elec_steel', 'fc_h2_steel', 'solar_steel', 'dheat_steel', 'furnace_foil_cement', 'furnace_loil_cement', 'furnace_biomass_cement', 'furnace_ethanol_cement', 'furnace_methanol_cement', 'furnace_gas_cement', 'furnace_coal_cement', 'furnace_elec_cement', 'furnace_h2_cement', 'hp_gas_cement', 'hp_elec_cement', 'fc_h2_cement', 'solar_cement', 'dheat_cement', 'furnace_coal_aluminum', 'furnace_foil_aluminum', 'furnace_loil_aluminum', 'furnace_ethanol_aluminum', 'furnace_biomass_aluminum', 'furnace_methanol_aluminum', 'furnace_gas_aluminum', 'furnace_elec_aluminum', 'furnace_h2_aluminum', 'hp_gas_aluminum', 'hp_elec_aluminum', 'fc_h2_aluminum', 'solar_aluminum', 'dheat_aluminum', 'furnace_coke_petro', 'furnace_coal_petro', 'furnace_foil_petro', 'furnace_loil_petro', 'furnace_ethanol_petro', 'furnace_biomass_petro', 'furnace_methanol_petro', 'furnace_gas_petro', 'furnace_elec_petro', 'furnace_h2_petro', 'hp_gas_petro', 'hp_elec_petro', 'fc_h2_petro', 'solar_petro', 'dheat_petro', 'furnace_coke_refining', 'furnace_coal_refining', 'furnace_foil_refining', 'furnace_loil_refining', 'furnace_ethanol_refining', 'furnace_biomass_refining', 'furnace_methanol_refining', 'furnace_gas_refining', 'furnace_elec_refining', 'furnace_h2_refining', 'hp_gas_refining', 'hp_elec_refining', 'fc_h2_refining', 'solar_refining', 'dheat_refining', 'furnace_coal_resins', 'furnace_foil_resins', 'furnace_loil_resins', 'furnace_ethanol_resins', 'furnace_biomass_resins', 'furnace_methanol_resins', 'furnace_gas_resins', 'furnace_elec_resins', 'furnace_h2_resins', 'hp_gas_resins', 'hp_elec_resins', 'fc_h2_resins', 'solar_resins', 'dheat_resins']}, 'mode': {'add': ['low_temp', 'high_temp']}}, 'petro_chemicals': {'commodity': {'require': ['crudeoil'], 'add': ['HVC', 'naphtha', 'kerosene', 'diesel', 'atm_residue', 'refinery_gas', 'atm_gasoil', 'atm_residue', 'vacuum_gasoil', 'vacuum_residue', 'gasoline', 'heavy_foil', 'light_foil', 'propylene', 'pet_coke', 'ethane', 'propane', 'ethylene', 'BTX']}, 'level': {'require': ['secondary', 'final'], 'add': ['pre_intermediate', 'desulfurized', 'intermediate', 'secondary_material', 'final_material', 'demand']}, 'mode': {'add': ['atm_gasoil', 'vacuum_gasoil', 'naphtha', 'kerosene', 'diesel', 'cracking_gasoline', 'cracking_loil', 'ethane', 'propane', 'light_foil', 'refinery_gas', 'refinery_gas_int', 'heavy_foil', 'pet_coke', 'atm_residue', 'vacuum_residue', 'gasoline', 'ethylene', 'propylene', 'BTX']}, 'technology': {'add': ['atm_distillation_ref', 'vacuum_distillation_ref', 'hydrotreating_ref', 'catalytic_cracking_ref', 'visbreaker_ref', 'coking_ref', 'catalytic_reforming_ref', 'hydro_cracking_ref', 'steam_cracker_petro', 'ethanol_to_ethylene_petro', 'agg_ref', 'gas_processing_petro', 'trade_petro', 'import_petro', 'export_petro', 'feedstock_t/d', 'production_HVC'], 'remove': ['ref_hil', 'ref_lol']}, 'shares': {'add': ['steam_cracker']}}, 'steel': {'commodity': {'add': ['steel', 'pig_iron', 'sponge_iron', 'sinter_iron', 'pellet_iron', 'ore_iron', 'limestone_iron', 'coke_iron', 'slag_iron', 'co_gas', 'bf_gas']}, 'level': {'add': ['new_scrap', 'old_scrap_1', 'old_scrap_2', 'old_scrap_3', 'primary_material', 'secondary_material', 'tertiary_material', 'final_material', 'useful_material', 'waste_material', 'product', 'demand', 'dummy_emission', 'end_of_life', 'dummy_end_of_life']}, 'technology': {'add': ['cokeoven_steel', 'sinter_steel', 'pellet_steel', 'bf_steel', 'dri_steel', 'sr_steel', 'bof_steel', 'eaf_steel', 'prep_secondary_steel_1', 'prep_secondary_steel_2', 'prep_secondary_steel_3', 'finishing_steel', 'manuf_steel', 'scrap_recovery_steel', 'DUMMY_ore_supply', 'DUMMY_limestone_supply_steel', 'DUMMY_coal_supply', 'DUMMY_gas_supply', 'trade_steel', 'import_steel', 'export_steel', 'other_EOL_steel', 'total_EOL_steel']}, 'relation': {'add': ['minimum_recycling_steel', 'max_global_recycling_steel']}, 'balance_equality': {'add': [['steel', 'old_scrap_1'], ['steel', 'old_scrap_2'], ['steel', 'old_scrap_3'], ['steel', 'end_of_life'], ['steel', 'product'], ['steel', 'new_scrap'], ['steel', 'useful_material'], ['steel', 'final_material']]}}, 'cement': {'commodity': {'add': ['cement', 'clinker_cement', 'raw_meal_cement', 'limestone_cement']}, 'level': {'add': ['primary_material', 'secondary_material', 'tertiary_material', 'final_material', 'useful_material', 'demand', 'dummy_end_of_life', 'end_of_life']}, 'technology': {'add': ['raw_meal_prep_cement', 'clinker_dry_cement', 'clinker_wet_cement', 'clinker_dry_ccs_cement', 'clinker_wet_ccs_cement', 'grinding_ballmill_cement', 'grinding_vertmill_cement', 'DUMMY_limestone_supply_cement', 'total_EOL_cement', 'other_EOL_cement', 'scrap_recovery_cement'], 'remove': ['cement_co2scr', 'cement_CO2']}, 'relation': {'remove': ['cement_pro', 'cement_scrub_lim']}, 'addon': {'add': ['clinker_dry_ccs_cement', 'clinker_wet_ccs_cement']}, 'type_addon': {'add': ['ccs_cement']}, 'map_tec_addon': {'add': [['clinker_dry_cement', 'ccs_cement'], ['clinker_wet_cement', 'ccs_cement']]}, 'cat_addon': {'add': [['ccs_cement', 'clinker_dry_ccs_cement'], ['ccs_cement', 'clinker_wet_ccs_cement']]}}, 'aluminum': {'commodity': {'add': ['aluminum']}, 'level': {'add': ['new_scrap', 'old_scrap_1', 'old_scrap_2', 'old_scrap_3', 'useful_aluminum', 'final_material', 'useful_material', 'product', 'secondary_material', 'demand', 'end_of_life', 'dummy_end_of_life']}, 'technology': {'add': ['soderberg_aluminum', 'prebake_aluminum', 'secondary_aluminum', 'prep_secondary_aluminum_1', 'prep_secondary_aluminum_2', 'prep_secondary_aluminum_3', 'finishing_aluminum', 'manuf_aluminum', 'scrap_recovery_aluminum', 'DUMMY_alumina_supply', 'trade_aluminum', 'import_aluminum', 'export_aluminum', 'other_EOL_aluminum', 'total_EOL_aluminum']}, 'relation': {'add': ['minimum_recycling_aluminum']}, 'balance_equality': {'add': [['aluminum', 'old_scrap_1'], ['aluminum', 'old_scrap_2'], ['aluminum', 'old_scrap_3'], ['aluminum', 'end_of_life'], ['aluminum', 'product'], ['aluminum', 'new_scrap']]}}, 'fertilizer': {'commodity': {'require': ['electr', 'freshwater_supply'], 'add': ['NH3', 'Fertilizer Use|Nitrogen', 'wastewater']}, 'level': {'add': ['secondary_material', 'final_material', 'wastewater']}, 'technology': {'require': ['h2_bio_ccs'], 'add': ['biomass_NH3', 'electr_NH3', 'gas_NH3', 'coal_NH3', 'fueloil_NH3', 'NH3_to_N_fertil', 'trade_NFert', 'export_NFert', 'import_NFert', 'trade_NH3', 'export_NH3', 'import_NH3', 'residual_NH3', 'biomass_NH3_ccs', 'gas_NH3_ccs', 'coal_NH3_ccs', 'fueloil_NH3_ccs']}, 'relation': {'add': ['NH3_trd_cap', 'NFert_trd_cap']}}, 'methanol': {'commodity': {'require': ['electr', 'biomass', 'hydrogen', 'd_heat'], 'add': ['methanol', 'ht_heat', 'formaldehyde', 'ethylene', 'propylene', 'fcoh_resin']}, 'level': {'add': ['final_material', 'secondary_material', 'primary_material', 'export_fs', 'import_fs']}, 'mode': {'add': ['feedstock', 'fuel', 'ethanol']}, 'technology': {'add': ['meth_bio', 'meth_bio_ccs', 'meth_h2', 'meth_t_d_material', 'MTO_petro', 'CH2O_synth', 'CH2O_to_resin', 'meth_coal', 'meth_coal_ccs', 'meth_ng', 'meth_ng_ccs', 'meth_t_d', 'meth_bal', 'meth_trd', 'meth_exp', 'meth_imp'], 'remove': ['sp_meth_I', 'meth_rc', 'meth_ic_trp', 'meth_fc_trp', 'meth_i', 'meth_coal', 'meth_coal_ccs', 'meth_ng', 'meth_ng_ccs', 'meth_t_d', 'meth_bal', 'meth_trd', 'meth_exp', 'meth_imp']}, 'addon': {'add': ['meth_h2']}, 'type_addon': {'add': ['methanol_synthesis_addon']}, 'map_tec_addon': {'add': [['h2_elec', 'methanol_synthesis_addon']]}, 'cat_addon': {'add': [['methanol_synthesis_addon', 'meth_h2']]}, 'relation': {'add': ['CO2_PtX_trans_disp_split', 'meth_exp_tot', 'meth_trade_balance', 'loil_trade_balance']}}, 'buildings': {'level': {'add': ['service']}, 'commodity': {'add': ['floor_area']}, 'technology': {'add': ['buildings']}}, 'power_sector': {'unit': {'add': ['t/kW']}}}\n"
     ]
    }
   ],
   "source": [
    "import yaml\n",
    "file_path = \"C:/Users\\maczek\\PycharmProjects\\message_data\\data\\material\\set.yaml\"\n",
    "try:\n",
    "    with open(file_path, 'r') as file:\n",
    "        yaml_data = yaml.safe_load(file)\n",
    "        print(yaml_data)\n",
    "except FileNotFoundError: print(\"File not found.\")\n",
    "except yaml.YAMLError as e: print(\"Error reading YAML:\", e)"
   ],
   "metadata": {
    "collapsed": false
   }
  },
  {
   "cell_type": "code",
   "execution_count": 18,
   "outputs": [
    {
     "ename": "KeyError",
     "evalue": "'add'",
     "output_type": "error",
     "traceback": [
      "\u001B[1;31m---------------------------------------------------------------------------\u001B[0m",
      "\u001B[1;31mKeyError\u001B[0m                                  Traceback (most recent call last)",
      "Input \u001B[1;32mIn [18]\u001B[0m, in \u001B[0;36m<cell line: 1>\u001B[1;34m()\u001B[0m\n\u001B[0;32m      1\u001B[0m \u001B[38;5;28;01mfor\u001B[39;00m i \u001B[38;5;129;01min\u001B[39;00m yaml_data\u001B[38;5;241m.\u001B[39mvalues():\n\u001B[1;32m----> 2\u001B[0m     \u001B[43mi\u001B[49m\u001B[43m[\u001B[49m\u001B[38;5;124;43m\"\u001B[39;49m\u001B[38;5;124;43madd\u001B[39;49m\u001B[38;5;124;43m\"\u001B[39;49m\u001B[43m]\u001B[49m\n",
      "\u001B[1;31mKeyError\u001B[0m: 'add'"
     ]
    }
   ],
   "source": [
    "for i in yaml_data.values():\n",
    "    i[\"add\"]"
   ],
   "metadata": {
    "collapsed": false
   }
  },
  {
   "cell_type": "code",
   "execution_count": 29,
   "outputs": [],
   "source": [
    "tec_list = {}\n",
    "for k,v in list(yaml_data.items()):\n",
    "    if \"technology\" in v.keys():\n",
    "        tec_list[k] = v[\"technology\"][\"add\"]"
   ],
   "metadata": {
    "collapsed": false
   }
  },
  {
   "cell_type": "code",
   "execution_count": 40,
   "outputs": [
    {
     "data": {
      "text/plain": "0              meth_bio\n1          meth_bio_ccs\n2               meth_h2\n3     meth_t_d_material\n4             MTO_petro\n5            CH2O_synth\n6         CH2O_to_resin\n7             meth_coal\n8         meth_coal_ccs\n9               meth_ng\n10          meth_ng_ccs\n11             meth_t_d\n12             meth_bal\n13             meth_trd\n14             meth_exp\n15             meth_imp\nName: technology, dtype: object"
     },
     "execution_count": 40,
     "metadata": {},
     "output_type": "execute_result"
    }
   ],
   "source": [
    "s = pd.Series(tec_list[\"methanol\"])#to_excel(\"test.xlsx\")\n",
    "s.name = \"technology\"\n",
    "s.to_excel(\"\")"
   ],
   "metadata": {
    "collapsed": false
   }
  },
  {
   "cell_type": "code",
   "execution_count": null,
   "outputs": [],
   "source": [
    "with pd.ExcelWriter('test.xlsx') as writer:\n",
    "    for i in list(par_dict_fs.keys()):\n",
    "        par_dict_fs[i].to_excel(writer, sheet_name=i, index=False)"
   ],
   "metadata": {
    "collapsed": false
   }
  },
  {
   "cell_type": "code",
   "execution_count": 41,
   "outputs": [],
   "source": [
    "import pandas as pd\n",
    "with pd.ExcelWriter('test.xlsx') as writer:\n",
    "    for k,v in tec_list.items():\n",
    "        s = pd.Series(tec_list[k])#to_excel(\"test.xlsx\")\n",
    "        s.name = \"technology\"\n",
    "        s.to_excel(writer, sheet_name=k, index=False)"
   ],
   "metadata": {
    "collapsed": false
   }
  },
  {
   "cell_type": "code",
   "execution_count": 2,
   "outputs": [],
   "source": [
    "import pandas as pd"
   ],
   "metadata": {
    "collapsed": false
   }
  },
  {
   "cell_type": "code",
   "execution_count": 11,
   "outputs": [
    {
     "data": {
      "text/plain": "    year_vtg node_loc     technology  year_act      mode node_origin  \\\n0       2030  R11_AFR  syn_micr_beef       NaN  hydrogen     R11_AFR   \n1       2030  R11_CPA  syn_micr_beef       NaN  hydrogen     R11_CPA   \n2       2030  R11_EEU  syn_micr_beef       NaN  hydrogen     R11_EEU   \n3       2030  R11_FSU  syn_micr_beef       NaN  hydrogen     R11_FSU   \n4       2030  R11_LAM  syn_micr_beef       NaN  hydrogen     R11_LAM   \n..       ...      ...            ...       ...       ...         ...   \n61      2035  R11_NAM  syn_micr_beef       NaN  hydrogen     R11_NAM   \n62      2035  R11_PAO  syn_micr_beef       NaN  hydrogen     R11_PAO   \n63      2035  R11_PAS  syn_micr_beef       NaN  hydrogen     R11_PAS   \n64      2035  R11_SAS  syn_micr_beef       NaN  hydrogen     R11_SAS   \n65      2035  R11_WEU  syn_micr_beef       NaN  hydrogen     R11_WEU   \n\n   commodity  level  time time_origin     value unit  \n0   hydrogen  final  year        year  1.000000  GWa  \n1   hydrogen  final  year        year  1.000000  GWa  \n2   hydrogen  final  year        year  1.000000  GWa  \n3   hydrogen  final  year        year  1.000000  GWa  \n4   hydrogen  final  year        year  1.000000  GWa  \n..       ...    ...   ...         ...       ...  ...  \n61    electr  final  year        year  0.936073    -  \n62    electr  final  year        year  0.936073    -  \n63    electr  final  year        year  0.936073    -  \n64    electr  final  year        year  0.936073    -  \n65    electr  final  year        year  0.936073    -  \n\n[66 rows x 12 columns]",
      "text/html": "<div>\n<style scoped>\n    .dataframe tbody tr th:only-of-type {\n        vertical-align: middle;\n    }\n\n    .dataframe tbody tr th {\n        vertical-align: top;\n    }\n\n    .dataframe thead th {\n        text-align: right;\n    }\n</style>\n<table border=\"1\" class=\"dataframe\">\n  <thead>\n    <tr style=\"text-align: right;\">\n      <th></th>\n      <th>year_vtg</th>\n      <th>node_loc</th>\n      <th>technology</th>\n      <th>year_act</th>\n      <th>mode</th>\n      <th>node_origin</th>\n      <th>commodity</th>\n      <th>level</th>\n      <th>time</th>\n      <th>time_origin</th>\n      <th>value</th>\n      <th>unit</th>\n    </tr>\n  </thead>\n  <tbody>\n    <tr>\n      <th>0</th>\n      <td>2030</td>\n      <td>R11_AFR</td>\n      <td>syn_micr_beef</td>\n      <td>NaN</td>\n      <td>hydrogen</td>\n      <td>R11_AFR</td>\n      <td>hydrogen</td>\n      <td>final</td>\n      <td>year</td>\n      <td>year</td>\n      <td>1.000000</td>\n      <td>GWa</td>\n    </tr>\n    <tr>\n      <th>1</th>\n      <td>2030</td>\n      <td>R11_CPA</td>\n      <td>syn_micr_beef</td>\n      <td>NaN</td>\n      <td>hydrogen</td>\n      <td>R11_CPA</td>\n      <td>hydrogen</td>\n      <td>final</td>\n      <td>year</td>\n      <td>year</td>\n      <td>1.000000</td>\n      <td>GWa</td>\n    </tr>\n    <tr>\n      <th>2</th>\n      <td>2030</td>\n      <td>R11_EEU</td>\n      <td>syn_micr_beef</td>\n      <td>NaN</td>\n      <td>hydrogen</td>\n      <td>R11_EEU</td>\n      <td>hydrogen</td>\n      <td>final</td>\n      <td>year</td>\n      <td>year</td>\n      <td>1.000000</td>\n      <td>GWa</td>\n    </tr>\n    <tr>\n      <th>3</th>\n      <td>2030</td>\n      <td>R11_FSU</td>\n      <td>syn_micr_beef</td>\n      <td>NaN</td>\n      <td>hydrogen</td>\n      <td>R11_FSU</td>\n      <td>hydrogen</td>\n      <td>final</td>\n      <td>year</td>\n      <td>year</td>\n      <td>1.000000</td>\n      <td>GWa</td>\n    </tr>\n    <tr>\n      <th>4</th>\n      <td>2030</td>\n      <td>R11_LAM</td>\n      <td>syn_micr_beef</td>\n      <td>NaN</td>\n      <td>hydrogen</td>\n      <td>R11_LAM</td>\n      <td>hydrogen</td>\n      <td>final</td>\n      <td>year</td>\n      <td>year</td>\n      <td>1.000000</td>\n      <td>GWa</td>\n    </tr>\n    <tr>\n      <th>...</th>\n      <td>...</td>\n      <td>...</td>\n      <td>...</td>\n      <td>...</td>\n      <td>...</td>\n      <td>...</td>\n      <td>...</td>\n      <td>...</td>\n      <td>...</td>\n      <td>...</td>\n      <td>...</td>\n      <td>...</td>\n    </tr>\n    <tr>\n      <th>61</th>\n      <td>2035</td>\n      <td>R11_NAM</td>\n      <td>syn_micr_beef</td>\n      <td>NaN</td>\n      <td>hydrogen</td>\n      <td>R11_NAM</td>\n      <td>electr</td>\n      <td>final</td>\n      <td>year</td>\n      <td>year</td>\n      <td>0.936073</td>\n      <td>-</td>\n    </tr>\n    <tr>\n      <th>62</th>\n      <td>2035</td>\n      <td>R11_PAO</td>\n      <td>syn_micr_beef</td>\n      <td>NaN</td>\n      <td>hydrogen</td>\n      <td>R11_PAO</td>\n      <td>electr</td>\n      <td>final</td>\n      <td>year</td>\n      <td>year</td>\n      <td>0.936073</td>\n      <td>-</td>\n    </tr>\n    <tr>\n      <th>63</th>\n      <td>2035</td>\n      <td>R11_PAS</td>\n      <td>syn_micr_beef</td>\n      <td>NaN</td>\n      <td>hydrogen</td>\n      <td>R11_PAS</td>\n      <td>electr</td>\n      <td>final</td>\n      <td>year</td>\n      <td>year</td>\n      <td>0.936073</td>\n      <td>-</td>\n    </tr>\n    <tr>\n      <th>64</th>\n      <td>2035</td>\n      <td>R11_SAS</td>\n      <td>syn_micr_beef</td>\n      <td>NaN</td>\n      <td>hydrogen</td>\n      <td>R11_SAS</td>\n      <td>electr</td>\n      <td>final</td>\n      <td>year</td>\n      <td>year</td>\n      <td>0.936073</td>\n      <td>-</td>\n    </tr>\n    <tr>\n      <th>65</th>\n      <td>2035</td>\n      <td>R11_WEU</td>\n      <td>syn_micr_beef</td>\n      <td>NaN</td>\n      <td>hydrogen</td>\n      <td>R11_WEU</td>\n      <td>electr</td>\n      <td>final</td>\n      <td>year</td>\n      <td>year</td>\n      <td>0.936073</td>\n      <td>-</td>\n    </tr>\n  </tbody>\n</table>\n<p>66 rows × 12 columns</p>\n</div>"
     },
     "execution_count": 11,
     "metadata": {},
     "output_type": "execute_result"
    }
   ],
   "source": [
    "from message_ix_models.util import broadcast\n",
    "scp_demand = pd.read_excel(\"C:/Users\\maczek\\PycharmProjects\\message_data\\data\\scp/scp_techno_economic.xlsx\", sheet_name=\"input\")\n",
    "scp_demand.pipe(broadcast, year_vtg=[2030, 2035])"
   ],
   "metadata": {
    "collapsed": false
   }
  },
  {
   "cell_type": "code",
   "execution_count": 12,
   "outputs": [
    {
     "data": {
      "text/plain": "    commodity   level  time     value unit     node  year\n0         scp  demand  year  1.589159  ???  R11_AFR  2020\n1         scp  demand  year  1.765396  ???  R11_AFR  2025\n2         scp  demand  year  1.941633  ???  R11_AFR  2030\n3         scp  demand  year  2.119691  ???  R11_AFR  2035\n4         scp  demand  year  2.297748  ???  R11_AFR  2040\n..        ...     ...   ...       ...  ...      ...   ...\n138       scp  demand  year  1.921039  ???  R11_WEU  2060\n139       scp  demand  year  1.923622  ???  R11_WEU  2070\n140       scp  demand  year  1.913528  ???  R11_WEU  2080\n141       scp  demand  year  1.889773  ???  R11_WEU  2090\n142       scp  demand  year  1.849365  ???  R11_WEU  2100\n\n[143 rows x 7 columns]",
      "text/html": "<div>\n<style scoped>\n    .dataframe tbody tr th:only-of-type {\n        vertical-align: middle;\n    }\n\n    .dataframe tbody tr th {\n        vertical-align: top;\n    }\n\n    .dataframe thead th {\n        text-align: right;\n    }\n</style>\n<table border=\"1\" class=\"dataframe\">\n  <thead>\n    <tr style=\"text-align: right;\">\n      <th></th>\n      <th>commodity</th>\n      <th>level</th>\n      <th>time</th>\n      <th>value</th>\n      <th>unit</th>\n      <th>node</th>\n      <th>year</th>\n    </tr>\n  </thead>\n  <tbody>\n    <tr>\n      <th>0</th>\n      <td>scp</td>\n      <td>demand</td>\n      <td>year</td>\n      <td>1.589159</td>\n      <td>???</td>\n      <td>R11_AFR</td>\n      <td>2020</td>\n    </tr>\n    <tr>\n      <th>1</th>\n      <td>scp</td>\n      <td>demand</td>\n      <td>year</td>\n      <td>1.765396</td>\n      <td>???</td>\n      <td>R11_AFR</td>\n      <td>2025</td>\n    </tr>\n    <tr>\n      <th>2</th>\n      <td>scp</td>\n      <td>demand</td>\n      <td>year</td>\n      <td>1.941633</td>\n      <td>???</td>\n      <td>R11_AFR</td>\n      <td>2030</td>\n    </tr>\n    <tr>\n      <th>3</th>\n      <td>scp</td>\n      <td>demand</td>\n      <td>year</td>\n      <td>2.119691</td>\n      <td>???</td>\n      <td>R11_AFR</td>\n      <td>2035</td>\n    </tr>\n    <tr>\n      <th>4</th>\n      <td>scp</td>\n      <td>demand</td>\n      <td>year</td>\n      <td>2.297748</td>\n      <td>???</td>\n      <td>R11_AFR</td>\n      <td>2040</td>\n    </tr>\n    <tr>\n      <th>...</th>\n      <td>...</td>\n      <td>...</td>\n      <td>...</td>\n      <td>...</td>\n      <td>...</td>\n      <td>...</td>\n      <td>...</td>\n    </tr>\n    <tr>\n      <th>138</th>\n      <td>scp</td>\n      <td>demand</td>\n      <td>year</td>\n      <td>1.921039</td>\n      <td>???</td>\n      <td>R11_WEU</td>\n      <td>2060</td>\n    </tr>\n    <tr>\n      <th>139</th>\n      <td>scp</td>\n      <td>demand</td>\n      <td>year</td>\n      <td>1.923622</td>\n      <td>???</td>\n      <td>R11_WEU</td>\n      <td>2070</td>\n    </tr>\n    <tr>\n      <th>140</th>\n      <td>scp</td>\n      <td>demand</td>\n      <td>year</td>\n      <td>1.913528</td>\n      <td>???</td>\n      <td>R11_WEU</td>\n      <td>2080</td>\n    </tr>\n    <tr>\n      <th>141</th>\n      <td>scp</td>\n      <td>demand</td>\n      <td>year</td>\n      <td>1.889773</td>\n      <td>???</td>\n      <td>R11_WEU</td>\n      <td>2090</td>\n    </tr>\n    <tr>\n      <th>142</th>\n      <td>scp</td>\n      <td>demand</td>\n      <td>year</td>\n      <td>1.849365</td>\n      <td>???</td>\n      <td>R11_WEU</td>\n      <td>2100</td>\n    </tr>\n  </tbody>\n</table>\n<p>143 rows × 7 columns</p>\n</div>"
     },
     "execution_count": 12,
     "metadata": {},
     "output_type": "execute_result"
    }
   ],
   "source": [
    "scp_demand = pd.read_excel(\"C:/Users\\maczek\\PycharmProjects\\message_data\\data\\scp/population_beef_demand.xlsx\", sheet_name=\"demand_R11\")\n",
    "scp_demand[\"value\"] = scp_demand[\"value\"] / 1000\n",
    "scp_demand"
   ],
   "metadata": {
    "collapsed": false
   }
  },
  {
   "cell_type": "code",
   "execution_count": 14,
   "outputs": [
    {
     "data": {
      "text/plain": "                     relation  node_rel  year_rel  node_loc     technology  \\\n0    CO2_PtX_trans_disp_split   R12_AFR      2020   R12_AFR  syn_micr_beef   \n1    CO2_PtX_trans_disp_split   R12_CHN      2020   R12_CHN  syn_micr_beef   \n2    CO2_PtX_trans_disp_split   R12_EEU      2020   R12_EEU  syn_micr_beef   \n3    CO2_PtX_trans_disp_split   R12_FSU      2020   R12_FSU  syn_micr_beef   \n4    CO2_PtX_trans_disp_split   R12_LAM      2020   R12_LAM  syn_micr_beef   \n..                        ...       ...       ...       ...            ...   \n487  CO2_PtX_trans_disp_split   R12_EEU      2025   R12_EEU     co2_tr_dis   \n488  CO2_PtX_trans_disp_split   R12_NAM      2025   R12_NAM     co2_tr_dis   \n489  CO2_PtX_trans_disp_split   R12_PAO      2025   R12_PAO     co2_tr_dis   \n490  CO2_PtX_trans_disp_split  R12_RCPA      2025  R12_RCPA     co2_tr_dis   \n491  CO2_PtX_trans_disp_split   R12_WEU      2025   R12_WEU     co2_tr_dis   \n\n     year_act      mode     value unit  \n0        2020  hydrogen  0.597213  ???  \n1        2020  hydrogen  0.597213  ???  \n2        2020  hydrogen  0.597213  ???  \n3        2020  hydrogen  0.597213  ???  \n4        2020  hydrogen  0.597213  ???  \n..        ...       ...       ...  ...  \n487      2025        M1  1.000000  ???  \n488      2025        M1  1.000000  ???  \n489      2025        M1  1.000000  ???  \n490      2025        M1  1.000000  ???  \n491      2025        M1  1.000000  ???  \n\n[492 rows x 9 columns]",
      "text/html": "<div>\n<style scoped>\n    .dataframe tbody tr th:only-of-type {\n        vertical-align: middle;\n    }\n\n    .dataframe tbody tr th {\n        vertical-align: top;\n    }\n\n    .dataframe thead th {\n        text-align: right;\n    }\n</style>\n<table border=\"1\" class=\"dataframe\">\n  <thead>\n    <tr style=\"text-align: right;\">\n      <th></th>\n      <th>relation</th>\n      <th>node_rel</th>\n      <th>year_rel</th>\n      <th>node_loc</th>\n      <th>technology</th>\n      <th>year_act</th>\n      <th>mode</th>\n      <th>value</th>\n      <th>unit</th>\n    </tr>\n  </thead>\n  <tbody>\n    <tr>\n      <th>0</th>\n      <td>CO2_PtX_trans_disp_split</td>\n      <td>R12_AFR</td>\n      <td>2020</td>\n      <td>R12_AFR</td>\n      <td>syn_micr_beef</td>\n      <td>2020</td>\n      <td>hydrogen</td>\n      <td>0.597213</td>\n      <td>???</td>\n    </tr>\n    <tr>\n      <th>1</th>\n      <td>CO2_PtX_trans_disp_split</td>\n      <td>R12_CHN</td>\n      <td>2020</td>\n      <td>R12_CHN</td>\n      <td>syn_micr_beef</td>\n      <td>2020</td>\n      <td>hydrogen</td>\n      <td>0.597213</td>\n      <td>???</td>\n    </tr>\n    <tr>\n      <th>2</th>\n      <td>CO2_PtX_trans_disp_split</td>\n      <td>R12_EEU</td>\n      <td>2020</td>\n      <td>R12_EEU</td>\n      <td>syn_micr_beef</td>\n      <td>2020</td>\n      <td>hydrogen</td>\n      <td>0.597213</td>\n      <td>???</td>\n    </tr>\n    <tr>\n      <th>3</th>\n      <td>CO2_PtX_trans_disp_split</td>\n      <td>R12_FSU</td>\n      <td>2020</td>\n      <td>R12_FSU</td>\n      <td>syn_micr_beef</td>\n      <td>2020</td>\n      <td>hydrogen</td>\n      <td>0.597213</td>\n      <td>???</td>\n    </tr>\n    <tr>\n      <th>4</th>\n      <td>CO2_PtX_trans_disp_split</td>\n      <td>R12_LAM</td>\n      <td>2020</td>\n      <td>R12_LAM</td>\n      <td>syn_micr_beef</td>\n      <td>2020</td>\n      <td>hydrogen</td>\n      <td>0.597213</td>\n      <td>???</td>\n    </tr>\n    <tr>\n      <th>...</th>\n      <td>...</td>\n      <td>...</td>\n      <td>...</td>\n      <td>...</td>\n      <td>...</td>\n      <td>...</td>\n      <td>...</td>\n      <td>...</td>\n      <td>...</td>\n    </tr>\n    <tr>\n      <th>487</th>\n      <td>CO2_PtX_trans_disp_split</td>\n      <td>R12_EEU</td>\n      <td>2025</td>\n      <td>R12_EEU</td>\n      <td>co2_tr_dis</td>\n      <td>2025</td>\n      <td>M1</td>\n      <td>1.000000</td>\n      <td>???</td>\n    </tr>\n    <tr>\n      <th>488</th>\n      <td>CO2_PtX_trans_disp_split</td>\n      <td>R12_NAM</td>\n      <td>2025</td>\n      <td>R12_NAM</td>\n      <td>co2_tr_dis</td>\n      <td>2025</td>\n      <td>M1</td>\n      <td>1.000000</td>\n      <td>???</td>\n    </tr>\n    <tr>\n      <th>489</th>\n      <td>CO2_PtX_trans_disp_split</td>\n      <td>R12_PAO</td>\n      <td>2025</td>\n      <td>R12_PAO</td>\n      <td>co2_tr_dis</td>\n      <td>2025</td>\n      <td>M1</td>\n      <td>1.000000</td>\n      <td>???</td>\n    </tr>\n    <tr>\n      <th>490</th>\n      <td>CO2_PtX_trans_disp_split</td>\n      <td>R12_RCPA</td>\n      <td>2025</td>\n      <td>R12_RCPA</td>\n      <td>co2_tr_dis</td>\n      <td>2025</td>\n      <td>M1</td>\n      <td>1.000000</td>\n      <td>???</td>\n    </tr>\n    <tr>\n      <th>491</th>\n      <td>CO2_PtX_trans_disp_split</td>\n      <td>R12_WEU</td>\n      <td>2025</td>\n      <td>R12_WEU</td>\n      <td>co2_tr_dis</td>\n      <td>2025</td>\n      <td>M1</td>\n      <td>1.000000</td>\n      <td>???</td>\n    </tr>\n  </tbody>\n</table>\n<p>492 rows × 9 columns</p>\n</div>"
     },
     "execution_count": 14,
     "metadata": {},
     "output_type": "execute_result"
    }
   ],
   "source": [
    "from message_data.model.material.data_methanol_new import broadcast_reduced_df\n",
    "\n",
    "broadcast_reduced_df(pd.read_excel(\"C:/Users\\maczek\\PycharmProjects\\message_data\\data\\scp/scp_techno_economic.xlsx\", sheet_name=\"relation_activity\"), \"relation_activity\")"
   ],
   "metadata": {
    "collapsed": false
   }
  },
  {
   "cell_type": "code",
   "execution_count": 2,
   "outputs": [],
   "source": [
    "scenario = message_ix.Scenario(mp, model=\"MESSAGEix-Materials\", scenario=\"NoPolicy_no_SDGs_petro_thesis_1_final\")\n",
    "#scenario = message_ix.Scenario(mp, model=\"MESSAGEix-Materials\", scenario=\"NoPolicy_no_SDGs_petro_thesis_1\")"
   ],
   "metadata": {
    "collapsed": false
   }
  },
  {
   "cell_type": "code",
   "execution_count": 3,
   "outputs": [],
   "source": [
    "premise_clone = scenario.clone(model=scenario.model,\n",
    "        scenario=scenario.scenario.replace(\"final\", \"final_premise\"))"
   ],
   "metadata": {
    "collapsed": false
   }
  },
  {
   "cell_type": "code",
   "execution_count": 4,
   "outputs": [
    {
     "data": {
      "text/plain": "2"
     },
     "execution_count": 4,
     "metadata": {},
     "output_type": "execute_result"
    }
   ],
   "source": [
    "premise_clone.version"
   ],
   "metadata": {
    "collapsed": false
   }
  },
  {
   "cell_type": "code",
   "execution_count": 6,
   "outputs": [
    {
     "data": {
      "text/plain": "'NoPolicy_no_SDGs_petro_thesis_1_final_premise'"
     },
     "execution_count": 6,
     "metadata": {},
     "output_type": "execute_result"
    }
   ],
   "source": [
    "premise_clone.scenario"
   ],
   "metadata": {
    "collapsed": false
   }
  },
  {
   "cell_type": "code",
   "execution_count": 5,
   "outputs": [],
   "source": [
    "premise_clone.set_as_default()"
   ],
   "metadata": {
    "collapsed": false
   }
  },
  {
   "cell_type": "code",
   "execution_count": 20,
   "outputs": [],
   "source": [
    "df_rcpa = scenario.par(\"initial_activity_up\", filters={\"technology\":\"steam_cracker_petro\", \"node_loc\":\"R12_RCPA\", \"year_act\":\"2020\"})\n",
    "scenario.check_out()\n",
    "scenario.remove_par(\"initial_activity_up\", df_rcpa)\n",
    "scenario.commit(\"remove RCPA growth up sc 2020\")"
   ],
   "metadata": {
    "collapsed": false
   }
  },
  {
   "cell_type": "code",
   "execution_count": 14,
   "outputs": [],
   "source": [
    "sc_clone = scenario.clone(\"MESSAGEix-Materials\", \"NoPolicy_no_SDGs_petro_thesis_1_solve_test\", keep_solution=False)"
   ],
   "metadata": {
    "collapsed": false
   }
  },
  {
   "cell_type": "code",
   "execution_count": null,
   "outputs": [],
   "source": [
    "sc_clone.set_as_default()"
   ],
   "metadata": {
    "collapsed": false
   }
  },
  {
   "cell_type": "code",
   "execution_count": 13,
   "outputs": [
    {
     "data": {
      "text/plain": "'2023-05-09 04:15:01.0'"
     },
     "execution_count": 13,
     "metadata": {},
     "output_type": "execute_result"
    }
   ],
   "source": [
    "scenario.last_update()"
   ],
   "metadata": {
    "collapsed": false
   }
  },
  {
   "cell_type": "code",
   "execution_count": 4,
   "outputs": [],
   "source": [
    "df_loil_rel = scenario.par(\"relation_activity\", filters={\"relation\":\"loil_trade_balance\"})"
   ],
   "metadata": {
    "collapsed": false
   }
  },
  {
   "cell_type": "code",
   "execution_count": 7,
   "outputs": [],
   "source": [
    "scenario.check_out()\n",
    "scenario.remove_par(\"relation_activity\", df_loil_rel)\n",
    "scenario.commit(\"remove loil trade balance constraint\")"
   ],
   "metadata": {
    "collapsed": false
   }
  },
  {
   "cell_type": "code",
   "execution_count": 20,
   "outputs": [],
   "source": [
    "scenario.par(\"demand\", filters={\"commodity\":[\"methanol\", \"HVC\", \"NH3\", \"fcoh_resin\"]}).to_excel(\"high_demand_output.xlsx\")"
   ],
   "metadata": {
    "collapsed": false
   }
  },
  {
   "cell_type": "code",
   "execution_count": 2,
   "outputs": [],
   "source": [
    "scenario = message_ix.Scenario(mp, model=\"MESSAGEix-Materials\", scenario=\"NoPolicy_petro_thesis_2_w_ENGAGE_fixes_test_build\")"
   ],
   "metadata": {
    "collapsed": false
   }
  },
  {
   "cell_type": "code",
   "execution_count": 11,
   "outputs": [],
   "source": [
    "df_remove = scenario.par(\"relation_activity\", filters={\"technology\":\"loil_exp\", \"relation\":\"loil_trade_balance\", \"node_loc\":\"R12_EEU\", \"year_rel\":2020})"
   ],
   "metadata": {
    "collapsed": false
   }
  },
  {
   "cell_type": "code",
   "execution_count": 12,
   "outputs": [],
   "source": [
    "scenario.check_out()\n",
    "scenario.remove_par(\"relation_activity\", df_remove)"
   ],
   "metadata": {
    "collapsed": false
   }
  },
  {
   "cell_type": "code",
   "execution_count": 13,
   "outputs": [],
   "source": [
    "scenario.commit(\"remove loil_exp from EEU 2020\")"
   ],
   "metadata": {
    "collapsed": false
   }
  },
  {
   "cell_type": "code",
   "execution_count": 15,
   "outputs": [],
   "source": [
    "mp.close_db()"
   ],
   "metadata": {
    "collapsed": false
   }
  },
  {
   "cell_type": "code",
   "execution_count": 3,
   "outputs": [],
   "source": [
    "sc_ls = mp.scenario_list()"
   ],
   "metadata": {
    "collapsed": false
   }
  },
  {
   "cell_type": "code",
   "execution_count": 45,
   "outputs": [],
   "source": [
    "scenario = message_ix.Scenario(mp, model=\"MESSAGEix-Materials\", scenario=\"2.0deg_petro_thesis_2_macro_w_ENGAGE_fixes\")#, version=9)\n",
    "#scenario = message_ix.Scenario(mp, model=\"MESSAGEix-Materials\", scenario=\"NoPolicy_no_SDGs_petro_thesis_1\")#_macro\")#, version=1)\n",
    "#scenario = message_ix.Scenario(mp, model=\"MESSAGEix-Materials\", scenario=\"NoPolicy_no_SDGs_petro_thesis_1_macro\")\n",
    "\n",
    "\n",
    "#scenario = message_ix.Scenario(mp, model=\"MESSAGEix-Materials\", scenario=\"NoPolicy_petro_thesis_2_test_meth_h2\")\n",
    "#scenario = message_ix.Scenario(mp, model=\"MESSAGEix-GLOBIOM 1.1-BM-R12 (NAVIGATE)\", scenario=\"NPi-Default\")\n",
    "#scenario = message_ix.Scenario(mp, model=\"MESSAGEix-Materials\", scenario=\"baseline_DEFAULT_rebase2\")\n",
    "#scenario = message_ix.Scenario(mp, model=\"MESSAGEix-Materials\", scenario=\"baseline_VK_Transport-Materials_VK\")#, version=37)\n",
    "#scenario = message_ix.Scenario(mp, model=\"MESSAGEix-GLOBIOM 1.1-R12\", scenario='baseline_DEFAULT')\n",
    "#scenario = message_ix.Scenario(mp, model=\"MESSAGEix-GLOBIOM 1.1-M-R12 (NGFS)\", scenario='NPi2030')\n",
    "#scenario = message_ix.Scenario(mp, model=\"ENGAGE_SSP2_v4.1.8.3.1_T3.4v2_r3.1\", scenario='EN_NPi2020_techb_1000')\n",
    "#scenario = message_ix.Scenario(mp, model=\"SHAPE_SSP2_v4.1.8\", scenario=\"baseline\", version=1)"
   ],
   "metadata": {
    "collapsed": false
   }
  },
  {
   "cell_type": "code",
   "execution_count": 5,
   "outputs": [],
   "source": [
    "scenario.last_update()\n",
    "#scenario.version"
   ],
   "metadata": {
    "collapsed": false
   }
  },
  {
   "cell_type": "markdown",
   "source": [
    "### update scenario with ENGAGE fixes"
   ],
   "metadata": {
    "collapsed": false
   }
  },
  {
   "cell_type": "code",
   "execution_count": 49,
   "outputs": [],
   "source": [
    "sc_clone = message_ix.Scenario(mp, model=\"MESSAGEix-Materials\", scenario=\"2.0deg_petro_thesis_2_macro_w_ENGAGE_fixes\")\n",
    "sc_clone2 = sc_clone.clone(model=\"MESSAGEix-Materials\", scenario=\"2.0deg_petro_thesis_2_macro_w_ENGAGE_fixes_test_loil_exp_fix\")\n",
    "#sc_clone = message_ix.Scenario(mp, model=\"MESSAGEix-Materials\", scenario=\"NoPolicy_petro_thesis_2_macro_w_ENGAGE_fixes\")"
   ],
   "metadata": {
    "collapsed": false
   }
  },
  {
   "cell_type": "code",
   "execution_count": 2,
   "outputs": [],
   "source": [
    "scenario = message_ix.Scenario(mp, model=\"MESSAGEix-Materials\", scenario=\"2.0deg_petro_thesis_2_macro_w_ENGAGE_fixes_test_loil_exp_fix\")"
   ],
   "metadata": {
    "collapsed": false
   }
  },
  {
   "cell_type": "code",
   "execution_count": 6,
   "outputs": [],
   "source": [
    "import importlib\n",
    "from message_data.model.material import data_methanol_new"
   ],
   "metadata": {
    "collapsed": false
   }
  },
  {
   "cell_type": "code",
   "execution_count": 7,
   "outputs": [
    {
     "data": {
      "text/plain": "<module 'message_data.model.material.data_methanol_new' from 'C:\\\\Users\\\\maczek\\\\PycharmProjects\\\\message_data\\\\message_data\\\\model\\\\material\\\\data_methanol_new.py'>"
     },
     "execution_count": 7,
     "metadata": {},
     "output_type": "execute_result"
    }
   ],
   "source": [
    "importlib.reload(data_methanol_new)"
   ],
   "metadata": {
    "collapsed": false
   }
  },
  {
   "cell_type": "code",
   "execution_count": 28,
   "outputs": [],
   "source": [
    "meth_dict = data_methanol_new.gen_data_methanol_new(scenario)"
   ],
   "metadata": {
    "collapsed": false
   }
  },
  {
   "cell_type": "code",
   "execution_count": 29,
   "outputs": [
    {
     "name": "stdout",
     "output_type": "stream",
     "text": [
      "historical_activity\n",
      "initial_activity_up\n",
      "ref_activity\n",
      "historical_activity\n",
      "ref_activity\n"
     ]
    }
   ],
   "source": [
    "for k,v in meth_dict.items():\n",
    "    if (\"technology\" in v.columns) & (\"year_act\" in v.columns):\n",
    "        #print(v[v.get(\"technology\")==\"meth_exp\"].year_act.unique())\n",
    "        df = v[v.get(\"technology\")==\"meth_exp\"]\n",
    "        if df.size == 0:\n",
    "            continue\n",
    "        if 2020 not in df.year_act.unique():\n",
    "            print(k)\n",
    "\n",
    "for k,v in meth_dict.items():\n",
    "    if (\"technology\" in v.columns) & (\"year_act\" in v.columns):\n",
    "        #print(v[v.get(\"technology\")==\"meth_exp\"].year_act.unique())\n",
    "        df = v[v.get(\"technology\")==\"meth_imp\"]\n",
    "        if df.size == 0:\n",
    "            continue\n",
    "        if 2020 not in df.year_act.unique():\n",
    "            print(k)"
   ],
   "metadata": {
    "collapsed": false
   }
  },
  {
   "cell_type": "code",
   "execution_count": 9,
   "outputs": [],
   "source": [
    "df = scenario.par(\"relation_activity\", filters={\"relation\":\"meth_trade_balance\"})\n",
    "df_new = df.copy(deep=True)\n",
    "df_new[\"mode\"] = \"M1\"\n",
    "df_new = df_new.drop_duplicates()\n",
    "df_new = df_new[~df_new[\"node_loc\"].isin([\"R12_FSU\", \"R12_LAM\"])]"
   ],
   "metadata": {
    "collapsed": false
   }
  },
  {
   "cell_type": "code",
   "execution_count": 12,
   "outputs": [],
   "source": [
    "df_new[\"relation\"] = \"loil_trade_balance\""
   ],
   "metadata": {
    "collapsed": false
   }
  },
  {
   "cell_type": "code",
   "execution_count": 19,
   "outputs": [],
   "source": [
    "df_new.loc[df_new[\"technology\"]==\"meth_exp\",\"value\"] = 0.989"
   ],
   "metadata": {
    "collapsed": false
   }
  },
  {
   "cell_type": "code",
   "execution_count": 20,
   "outputs": [
    {
     "data": {
      "text/plain": "               relation node_rel  year_rel  node_loc technology  year_act  \\\n0    loil_trade_balance  R12_GLB      2030   R12_AFR   meth_exp      2030   \n1    loil_trade_balance  R12_GLB      2030  R12_RCPA   meth_exp      2030   \n2    loil_trade_balance  R12_GLB      2030   R12_EEU   meth_exp      2030   \n5    loil_trade_balance  R12_GLB      2030   R12_MEA   meth_exp      2030   \n6    loil_trade_balance  R12_GLB      2030   R12_NAM   meth_exp      2030   \n..                  ...      ...       ...       ...        ...       ...   \n653  loil_trade_balance  R12_GLB      2020   R12_PAS   meth_imp      2020   \n654  loil_trade_balance  R12_GLB      2020   R12_SAS   meth_imp      2020   \n655  loil_trade_balance  R12_GLB      2020   R12_WEU   meth_imp      2020   \n656  loil_trade_balance  R12_GLB      2020   R12_CHN   meth_imp      2020   \n668  loil_trade_balance  R12_GLB      2020   R12_MEA   meth_imp      2020   \n\n    mode  value unit  \n0     M1  0.989  ???  \n1     M1  0.989  ???  \n2     M1  0.989  ???  \n5     M1  0.989  ???  \n6     M1  0.989  ???  \n..   ...    ...  ...  \n653   M1 -1.000  ???  \n654   M1 -1.000  ???  \n655   M1 -1.000  ???  \n656   M1 -1.000  ???  \n668   M1 -1.000  ???  \n\n[280 rows x 9 columns]",
      "text/html": "<div>\n<style scoped>\n    .dataframe tbody tr th:only-of-type {\n        vertical-align: middle;\n    }\n\n    .dataframe tbody tr th {\n        vertical-align: top;\n    }\n\n    .dataframe thead th {\n        text-align: right;\n    }\n</style>\n<table border=\"1\" class=\"dataframe\">\n  <thead>\n    <tr style=\"text-align: right;\">\n      <th></th>\n      <th>relation</th>\n      <th>node_rel</th>\n      <th>year_rel</th>\n      <th>node_loc</th>\n      <th>technology</th>\n      <th>year_act</th>\n      <th>mode</th>\n      <th>value</th>\n      <th>unit</th>\n    </tr>\n  </thead>\n  <tbody>\n    <tr>\n      <th>0</th>\n      <td>loil_trade_balance</td>\n      <td>R12_GLB</td>\n      <td>2030</td>\n      <td>R12_AFR</td>\n      <td>meth_exp</td>\n      <td>2030</td>\n      <td>M1</td>\n      <td>0.989</td>\n      <td>???</td>\n    </tr>\n    <tr>\n      <th>1</th>\n      <td>loil_trade_balance</td>\n      <td>R12_GLB</td>\n      <td>2030</td>\n      <td>R12_RCPA</td>\n      <td>meth_exp</td>\n      <td>2030</td>\n      <td>M1</td>\n      <td>0.989</td>\n      <td>???</td>\n    </tr>\n    <tr>\n      <th>2</th>\n      <td>loil_trade_balance</td>\n      <td>R12_GLB</td>\n      <td>2030</td>\n      <td>R12_EEU</td>\n      <td>meth_exp</td>\n      <td>2030</td>\n      <td>M1</td>\n      <td>0.989</td>\n      <td>???</td>\n    </tr>\n    <tr>\n      <th>5</th>\n      <td>loil_trade_balance</td>\n      <td>R12_GLB</td>\n      <td>2030</td>\n      <td>R12_MEA</td>\n      <td>meth_exp</td>\n      <td>2030</td>\n      <td>M1</td>\n      <td>0.989</td>\n      <td>???</td>\n    </tr>\n    <tr>\n      <th>6</th>\n      <td>loil_trade_balance</td>\n      <td>R12_GLB</td>\n      <td>2030</td>\n      <td>R12_NAM</td>\n      <td>meth_exp</td>\n      <td>2030</td>\n      <td>M1</td>\n      <td>0.989</td>\n      <td>???</td>\n    </tr>\n    <tr>\n      <th>...</th>\n      <td>...</td>\n      <td>...</td>\n      <td>...</td>\n      <td>...</td>\n      <td>...</td>\n      <td>...</td>\n      <td>...</td>\n      <td>...</td>\n      <td>...</td>\n    </tr>\n    <tr>\n      <th>653</th>\n      <td>loil_trade_balance</td>\n      <td>R12_GLB</td>\n      <td>2020</td>\n      <td>R12_PAS</td>\n      <td>meth_imp</td>\n      <td>2020</td>\n      <td>M1</td>\n      <td>-1.000</td>\n      <td>???</td>\n    </tr>\n    <tr>\n      <th>654</th>\n      <td>loil_trade_balance</td>\n      <td>R12_GLB</td>\n      <td>2020</td>\n      <td>R12_SAS</td>\n      <td>meth_imp</td>\n      <td>2020</td>\n      <td>M1</td>\n      <td>-1.000</td>\n      <td>???</td>\n    </tr>\n    <tr>\n      <th>655</th>\n      <td>loil_trade_balance</td>\n      <td>R12_GLB</td>\n      <td>2020</td>\n      <td>R12_WEU</td>\n      <td>meth_imp</td>\n      <td>2020</td>\n      <td>M1</td>\n      <td>-1.000</td>\n      <td>???</td>\n    </tr>\n    <tr>\n      <th>656</th>\n      <td>loil_trade_balance</td>\n      <td>R12_GLB</td>\n      <td>2020</td>\n      <td>R12_CHN</td>\n      <td>meth_imp</td>\n      <td>2020</td>\n      <td>M1</td>\n      <td>-1.000</td>\n      <td>???</td>\n    </tr>\n    <tr>\n      <th>668</th>\n      <td>loil_trade_balance</td>\n      <td>R12_GLB</td>\n      <td>2020</td>\n      <td>R12_MEA</td>\n      <td>meth_imp</td>\n      <td>2020</td>\n      <td>M1</td>\n      <td>-1.000</td>\n      <td>???</td>\n    </tr>\n  </tbody>\n</table>\n<p>280 rows × 9 columns</p>\n</div>"
     },
     "execution_count": 20,
     "metadata": {},
     "output_type": "execute_result"
    }
   ],
   "source": [
    "df_new"
   ],
   "metadata": {
    "collapsed": false
   }
  },
  {
   "cell_type": "code",
   "execution_count": 21,
   "outputs": [],
   "source": [
    "scenario.remove_solution()\n",
    "scenario.check_out()\n",
    "scenario.add_par(\"relation_activity\", df_new)\n",
    "#scenario.remove_par(\"relation_activity\", df)\n",
    "scenario.commit(\"fix loil trade balance relation tec modes\")"
   ],
   "metadata": {
    "collapsed": false
   }
  },
  {
   "cell_type": "code",
   "execution_count": 44,
   "outputs": [],
   "source": [
    "df = scenario.par(\"relation_activity\", filters={\"relation\":\"loil_trade_balance\", \"technology\":\"loil_exp\"})"
   ],
   "metadata": {
    "collapsed": false
   }
  },
  {
   "cell_type": "code",
   "execution_count": 47,
   "outputs": [],
   "source": [
    "df_fsu = df[df[\"node_loc\"]==\"R12_AFR\"].copy(deep=True)\n",
    "df_lam = df[df[\"node_loc\"]==\"R12_AFR\"].copy(deep=True)\n",
    "df_fsu[\"node_loc\"] = \"R12_FSU\"\n",
    "df_lam[\"node_loc\"] = \"R12_LAM\""
   ],
   "metadata": {
    "collapsed": false
   }
  },
  {
   "cell_type": "code",
   "execution_count": 50,
   "outputs": [],
   "source": [
    "scenario.remove_solution()\n",
    "scenario.check_out()\n",
    "#scenario.add_set(\"relation\", \"loil_trade_balance\")\n",
    "scenario.add_par(\"relation_activity\", df_fsu)\n",
    "scenario.add_par(\"relation_activity\", df_lam)\n",
    "scenario.commit(\"add new relation to limit loil_exp ACT with loil_imp ACT\")"
   ],
   "metadata": {
    "collapsed": false
   }
  },
  {
   "cell_type": "code",
   "execution_count": 51,
   "outputs": [
    {
     "data": {
      "text/plain": "               relation node_rel  year_rel  node_loc technology  year_act  \\\n0    loil_trade_balance  R12_GLB      2030   R12_AFR   loil_exp      2030   \n1    loil_trade_balance  R12_GLB      2030  R12_RCPA   loil_exp      2030   \n2    loil_trade_balance  R12_GLB      2030   R12_EEU   loil_exp      2030   \n3    loil_trade_balance  R12_GLB      2030   R12_MEA   loil_exp      2030   \n4    loil_trade_balance  R12_GLB      2030   R12_NAM   loil_exp      2030   \n..                  ...      ...       ...       ...        ...       ...   \n163  loil_trade_balance  R12_GLB      2090   R12_LAM   loil_exp      2090   \n164  loil_trade_balance  R12_GLB      2100   R12_LAM   loil_exp      2100   \n165  loil_trade_balance  R12_GLB      2110   R12_LAM   loil_exp      2110   \n166  loil_trade_balance  R12_GLB      2025   R12_LAM   loil_exp      2025   \n167  loil_trade_balance  R12_GLB      2020   R12_LAM   loil_exp      2020   \n\n    mode  value unit  \n0     M1  0.989  ???  \n1     M1  0.989  ???  \n2     M1  0.989  ???  \n3     M1  0.989  ???  \n4     M1  0.989  ???  \n..   ...    ...  ...  \n163   M1  0.989  ???  \n164   M1  0.989  ???  \n165   M1  0.989  ???  \n166   M1  0.989  ???  \n167   M1  0.989  ???  \n\n[168 rows x 9 columns]",
      "text/html": "<div>\n<style scoped>\n    .dataframe tbody tr th:only-of-type {\n        vertical-align: middle;\n    }\n\n    .dataframe tbody tr th {\n        vertical-align: top;\n    }\n\n    .dataframe thead th {\n        text-align: right;\n    }\n</style>\n<table border=\"1\" class=\"dataframe\">\n  <thead>\n    <tr style=\"text-align: right;\">\n      <th></th>\n      <th>relation</th>\n      <th>node_rel</th>\n      <th>year_rel</th>\n      <th>node_loc</th>\n      <th>technology</th>\n      <th>year_act</th>\n      <th>mode</th>\n      <th>value</th>\n      <th>unit</th>\n    </tr>\n  </thead>\n  <tbody>\n    <tr>\n      <th>0</th>\n      <td>loil_trade_balance</td>\n      <td>R12_GLB</td>\n      <td>2030</td>\n      <td>R12_AFR</td>\n      <td>loil_exp</td>\n      <td>2030</td>\n      <td>M1</td>\n      <td>0.989</td>\n      <td>???</td>\n    </tr>\n    <tr>\n      <th>1</th>\n      <td>loil_trade_balance</td>\n      <td>R12_GLB</td>\n      <td>2030</td>\n      <td>R12_RCPA</td>\n      <td>loil_exp</td>\n      <td>2030</td>\n      <td>M1</td>\n      <td>0.989</td>\n      <td>???</td>\n    </tr>\n    <tr>\n      <th>2</th>\n      <td>loil_trade_balance</td>\n      <td>R12_GLB</td>\n      <td>2030</td>\n      <td>R12_EEU</td>\n      <td>loil_exp</td>\n      <td>2030</td>\n      <td>M1</td>\n      <td>0.989</td>\n      <td>???</td>\n    </tr>\n    <tr>\n      <th>3</th>\n      <td>loil_trade_balance</td>\n      <td>R12_GLB</td>\n      <td>2030</td>\n      <td>R12_MEA</td>\n      <td>loil_exp</td>\n      <td>2030</td>\n      <td>M1</td>\n      <td>0.989</td>\n      <td>???</td>\n    </tr>\n    <tr>\n      <th>4</th>\n      <td>loil_trade_balance</td>\n      <td>R12_GLB</td>\n      <td>2030</td>\n      <td>R12_NAM</td>\n      <td>loil_exp</td>\n      <td>2030</td>\n      <td>M1</td>\n      <td>0.989</td>\n      <td>???</td>\n    </tr>\n    <tr>\n      <th>...</th>\n      <td>...</td>\n      <td>...</td>\n      <td>...</td>\n      <td>...</td>\n      <td>...</td>\n      <td>...</td>\n      <td>...</td>\n      <td>...</td>\n      <td>...</td>\n    </tr>\n    <tr>\n      <th>163</th>\n      <td>loil_trade_balance</td>\n      <td>R12_GLB</td>\n      <td>2090</td>\n      <td>R12_LAM</td>\n      <td>loil_exp</td>\n      <td>2090</td>\n      <td>M1</td>\n      <td>0.989</td>\n      <td>???</td>\n    </tr>\n    <tr>\n      <th>164</th>\n      <td>loil_trade_balance</td>\n      <td>R12_GLB</td>\n      <td>2100</td>\n      <td>R12_LAM</td>\n      <td>loil_exp</td>\n      <td>2100</td>\n      <td>M1</td>\n      <td>0.989</td>\n      <td>???</td>\n    </tr>\n    <tr>\n      <th>165</th>\n      <td>loil_trade_balance</td>\n      <td>R12_GLB</td>\n      <td>2110</td>\n      <td>R12_LAM</td>\n      <td>loil_exp</td>\n      <td>2110</td>\n      <td>M1</td>\n      <td>0.989</td>\n      <td>???</td>\n    </tr>\n    <tr>\n      <th>166</th>\n      <td>loil_trade_balance</td>\n      <td>R12_GLB</td>\n      <td>2025</td>\n      <td>R12_LAM</td>\n      <td>loil_exp</td>\n      <td>2025</td>\n      <td>M1</td>\n      <td>0.989</td>\n      <td>???</td>\n    </tr>\n    <tr>\n      <th>167</th>\n      <td>loil_trade_balance</td>\n      <td>R12_GLB</td>\n      <td>2020</td>\n      <td>R12_LAM</td>\n      <td>loil_exp</td>\n      <td>2020</td>\n      <td>M1</td>\n      <td>0.989</td>\n      <td>???</td>\n    </tr>\n  </tbody>\n</table>\n<p>168 rows × 9 columns</p>\n</div>"
     },
     "execution_count": 51,
     "metadata": {},
     "output_type": "execute_result"
    }
   ],
   "source": [
    "scenario.par(\"relation_activity\", filters={\"relation\":\"loil_trade_balance\", \"technology\":\"loil_exp\"})"
   ],
   "metadata": {
    "collapsed": false
   }
  },
  {
   "cell_type": "code",
   "execution_count": 28,
   "outputs": [],
   "source": [
    "df = scenario.par(\"relation_activity\", filters={\"relation\":\"loil_trade_balance\"})"
   ],
   "metadata": {
    "collapsed": false
   }
  },
  {
   "cell_type": "code",
   "execution_count": 37,
   "outputs": [],
   "source": [
    "#df.loc[df[\"technology\"] == \"meth_exp\", \"technology\"] = \"loil_exp\"\n",
    "df.loc[df[\"technology\"] == \"meth_imp\", \"technology\"] = \"loil_imp\""
   ],
   "metadata": {
    "collapsed": false
   }
  },
  {
   "cell_type": "code",
   "execution_count": 42,
   "outputs": [
    {
     "data": {
      "text/plain": "               relation node_rel  year_rel  node_loc technology  year_act  \\\n0    loil_trade_balance  R12_GLB      2030   R12_AFR   loil_exp      2030   \n1    loil_trade_balance  R12_GLB      2030  R12_RCPA   loil_exp      2030   \n2    loil_trade_balance  R12_GLB      2030   R12_EEU   loil_exp      2030   \n3    loil_trade_balance  R12_GLB      2030   R12_MEA   loil_exp      2030   \n4    loil_trade_balance  R12_GLB      2030   R12_NAM   loil_exp      2030   \n..                  ...      ...       ...       ...        ...       ...   \n275  loil_trade_balance  R12_GLB      2020   R12_PAS   loil_imp      2020   \n276  loil_trade_balance  R12_GLB      2020   R12_SAS   loil_imp      2020   \n277  loil_trade_balance  R12_GLB      2020   R12_WEU   loil_imp      2020   \n278  loil_trade_balance  R12_GLB      2020   R12_CHN   loil_imp      2020   \n279  loil_trade_balance  R12_GLB      2020   R12_MEA   loil_imp      2020   \n\n    mode  value unit  \n0     M1  0.989  ???  \n1     M1  0.989  ???  \n2     M1  0.989  ???  \n3     M1  0.989  ???  \n4     M1  0.989  ???  \n..   ...    ...  ...  \n275   M1 -1.000  ???  \n276   M1 -1.000  ???  \n277   M1 -1.000  ???  \n278   M1 -1.000  ???  \n279   M1 -1.000  ???  \n\n[280 rows x 9 columns]",
      "text/html": "<div>\n<style scoped>\n    .dataframe tbody tr th:only-of-type {\n        vertical-align: middle;\n    }\n\n    .dataframe tbody tr th {\n        vertical-align: top;\n    }\n\n    .dataframe thead th {\n        text-align: right;\n    }\n</style>\n<table border=\"1\" class=\"dataframe\">\n  <thead>\n    <tr style=\"text-align: right;\">\n      <th></th>\n      <th>relation</th>\n      <th>node_rel</th>\n      <th>year_rel</th>\n      <th>node_loc</th>\n      <th>technology</th>\n      <th>year_act</th>\n      <th>mode</th>\n      <th>value</th>\n      <th>unit</th>\n    </tr>\n  </thead>\n  <tbody>\n    <tr>\n      <th>0</th>\n      <td>loil_trade_balance</td>\n      <td>R12_GLB</td>\n      <td>2030</td>\n      <td>R12_AFR</td>\n      <td>loil_exp</td>\n      <td>2030</td>\n      <td>M1</td>\n      <td>0.989</td>\n      <td>???</td>\n    </tr>\n    <tr>\n      <th>1</th>\n      <td>loil_trade_balance</td>\n      <td>R12_GLB</td>\n      <td>2030</td>\n      <td>R12_RCPA</td>\n      <td>loil_exp</td>\n      <td>2030</td>\n      <td>M1</td>\n      <td>0.989</td>\n      <td>???</td>\n    </tr>\n    <tr>\n      <th>2</th>\n      <td>loil_trade_balance</td>\n      <td>R12_GLB</td>\n      <td>2030</td>\n      <td>R12_EEU</td>\n      <td>loil_exp</td>\n      <td>2030</td>\n      <td>M1</td>\n      <td>0.989</td>\n      <td>???</td>\n    </tr>\n    <tr>\n      <th>3</th>\n      <td>loil_trade_balance</td>\n      <td>R12_GLB</td>\n      <td>2030</td>\n      <td>R12_MEA</td>\n      <td>loil_exp</td>\n      <td>2030</td>\n      <td>M1</td>\n      <td>0.989</td>\n      <td>???</td>\n    </tr>\n    <tr>\n      <th>4</th>\n      <td>loil_trade_balance</td>\n      <td>R12_GLB</td>\n      <td>2030</td>\n      <td>R12_NAM</td>\n      <td>loil_exp</td>\n      <td>2030</td>\n      <td>M1</td>\n      <td>0.989</td>\n      <td>???</td>\n    </tr>\n    <tr>\n      <th>...</th>\n      <td>...</td>\n      <td>...</td>\n      <td>...</td>\n      <td>...</td>\n      <td>...</td>\n      <td>...</td>\n      <td>...</td>\n      <td>...</td>\n      <td>...</td>\n    </tr>\n    <tr>\n      <th>275</th>\n      <td>loil_trade_balance</td>\n      <td>R12_GLB</td>\n      <td>2020</td>\n      <td>R12_PAS</td>\n      <td>loil_imp</td>\n      <td>2020</td>\n      <td>M1</td>\n      <td>-1.000</td>\n      <td>???</td>\n    </tr>\n    <tr>\n      <th>276</th>\n      <td>loil_trade_balance</td>\n      <td>R12_GLB</td>\n      <td>2020</td>\n      <td>R12_SAS</td>\n      <td>loil_imp</td>\n      <td>2020</td>\n      <td>M1</td>\n      <td>-1.000</td>\n      <td>???</td>\n    </tr>\n    <tr>\n      <th>277</th>\n      <td>loil_trade_balance</td>\n      <td>R12_GLB</td>\n      <td>2020</td>\n      <td>R12_WEU</td>\n      <td>loil_imp</td>\n      <td>2020</td>\n      <td>M1</td>\n      <td>-1.000</td>\n      <td>???</td>\n    </tr>\n    <tr>\n      <th>278</th>\n      <td>loil_trade_balance</td>\n      <td>R12_GLB</td>\n      <td>2020</td>\n      <td>R12_CHN</td>\n      <td>loil_imp</td>\n      <td>2020</td>\n      <td>M1</td>\n      <td>-1.000</td>\n      <td>???</td>\n    </tr>\n    <tr>\n      <th>279</th>\n      <td>loil_trade_balance</td>\n      <td>R12_GLB</td>\n      <td>2020</td>\n      <td>R12_MEA</td>\n      <td>loil_imp</td>\n      <td>2020</td>\n      <td>M1</td>\n      <td>-1.000</td>\n      <td>???</td>\n    </tr>\n  </tbody>\n</table>\n<p>280 rows × 9 columns</p>\n</div>"
     },
     "execution_count": 42,
     "metadata": {},
     "output_type": "execute_result"
    }
   ],
   "source": [
    "df"
   ],
   "metadata": {
    "collapsed": false
   }
  },
  {
   "cell_type": "code",
   "execution_count": 40,
   "outputs": [],
   "source": [
    "scenario.add_par(\"relation_activity\", df)"
   ],
   "metadata": {
    "collapsed": false
   }
  },
  {
   "cell_type": "code",
   "execution_count": 41,
   "outputs": [],
   "source": [
    "scenario.commit(\"fix loil trade balance relation tec names\")"
   ],
   "metadata": {
    "collapsed": false
   }
  },
  {
   "cell_type": "markdown",
   "source": [],
   "metadata": {
    "collapsed": false
   }
  },
  {
   "cell_type": "markdown",
   "source": [
    "### copy meth_exp constraint relation for loil_exp"
   ],
   "metadata": {
    "collapsed": false
   }
  },
  {
   "cell_type": "code",
   "execution_count": 57,
   "outputs": [],
   "source": [
    "df_act_exp = sc_clone2.par(\"relation_activity\", filters={\"relation\": \"meth_trade_balance\", \"technology\":\"meth_exp\"})\n",
    "df_act_imp = sc_clone2.par(\"relation_activity\", filters={\"relation\": \"meth_trade_balance\", \"technology\":\"meth_imp\"})\n",
    "\n",
    "df_act_exp[\"relation\"] = \"loil_trade_balance\"\n",
    "df_act_imp[\"relation\"] = \"loil_trade_balance\"\n",
    "\n",
    "df_act_exp[\"technology\"] = \"loil_exp\"\n",
    "df_act_imp[\"technology\"] = \"loil_imp\"\n",
    "\n",
    "df_act_exp[\"value\"] = 0.9899\n",
    "\n",
    "df_up_loil = sc_clone2.par(\"relation_upper\", filters={\"relation\": \"meth_trade_balance\"})\n",
    "df_up_loil[\"relation\"] = \"loil_trade_balance\""
   ],
   "metadata": {
    "collapsed": false
   }
  },
  {
   "cell_type": "code",
   "execution_count": 60,
   "outputs": [],
   "source": [
    "#sc_clone2.remove_solution()\n",
    "#sc_clone2.check_out()\n",
    "sc_clone2.add_set(\"relation\", \"loil_trade_balance\")\n",
    "sc_clone2.add_par(\"relation_activity\", df_act_exp)\n",
    "sc_clone2.add_par(\"relation_activity\", df_act_imp)\n",
    "sc_clone2.add_par(\"relation_upper\", df_up_loil)\n",
    "sc_clone2.commit(\"add new relation to limit loil_exp ACT with loil_imp ACT\")"
   ],
   "metadata": {
    "collapsed": false
   }
  },
  {
   "cell_type": "code",
   "execution_count": 17,
   "outputs": [],
   "source": [
    "df_upper = scenario.par(\"relation_lower\", filters={\"relation\": \"meth_exp_limit\", \"node_rel\":\"R12_AFR\"})\n",
    "df_upper[\"relation\"] = \"meth_trade_balance\"\n",
    "df_upper[\"node_rel\"] = \"R12_GLB\""
   ],
   "metadata": {
    "collapsed": false
   }
  },
  {
   "cell_type": "code",
   "execution_count": 47,
   "outputs": [
    {
     "data": {
      "text/plain": "               relation node_rel  year_rel  node_loc technology  year_act  \\\n0    meth_trade_balance  R12_GLB      2030   R12_AFR   meth_exp      2030   \n1    meth_trade_balance  R12_GLB      2030  R12_RCPA   meth_exp      2030   \n2    meth_trade_balance  R12_GLB      2030   R12_EEU   meth_exp      2030   \n3    meth_trade_balance  R12_GLB      2030   R12_FSU   meth_exp      2030   \n4    meth_trade_balance  R12_GLB      2030   R12_LAM   meth_exp      2030   \n..                  ...      ...       ...       ...        ...       ...   \n330  meth_trade_balance  R12_GLB      2020   R12_CHN   meth_exp      2020   \n331  meth_trade_balance  R12_GLB      2020   R12_LAM   meth_exp      2020   \n332  meth_trade_balance  R12_GLB      2020   R12_LAM   meth_exp      2020   \n333  meth_trade_balance  R12_GLB      2020   R12_MEA   meth_exp      2020   \n334  meth_trade_balance  R12_GLB      2020   R12_MEA   meth_exp      2020   \n\n          mode  value unit  \n0         fuel   0.99  ???  \n1         fuel   0.99  ???  \n2         fuel   0.99  ???  \n3         fuel   0.99  ???  \n4         fuel   0.99  ???  \n..         ...    ...  ...  \n330  feedstock   0.99  ???  \n331  feedstock   0.99  ???  \n332       fuel   0.99  ???  \n333       fuel   0.99  ???  \n334  feedstock   0.99  ???  \n\n[335 rows x 9 columns]",
      "text/html": "<div>\n<style scoped>\n    .dataframe tbody tr th:only-of-type {\n        vertical-align: middle;\n    }\n\n    .dataframe tbody tr th {\n        vertical-align: top;\n    }\n\n    .dataframe thead th {\n        text-align: right;\n    }\n</style>\n<table border=\"1\" class=\"dataframe\">\n  <thead>\n    <tr style=\"text-align: right;\">\n      <th></th>\n      <th>relation</th>\n      <th>node_rel</th>\n      <th>year_rel</th>\n      <th>node_loc</th>\n      <th>technology</th>\n      <th>year_act</th>\n      <th>mode</th>\n      <th>value</th>\n      <th>unit</th>\n    </tr>\n  </thead>\n  <tbody>\n    <tr>\n      <th>0</th>\n      <td>meth_trade_balance</td>\n      <td>R12_GLB</td>\n      <td>2030</td>\n      <td>R12_AFR</td>\n      <td>meth_exp</td>\n      <td>2030</td>\n      <td>fuel</td>\n      <td>0.99</td>\n      <td>???</td>\n    </tr>\n    <tr>\n      <th>1</th>\n      <td>meth_trade_balance</td>\n      <td>R12_GLB</td>\n      <td>2030</td>\n      <td>R12_RCPA</td>\n      <td>meth_exp</td>\n      <td>2030</td>\n      <td>fuel</td>\n      <td>0.99</td>\n      <td>???</td>\n    </tr>\n    <tr>\n      <th>2</th>\n      <td>meth_trade_balance</td>\n      <td>R12_GLB</td>\n      <td>2030</td>\n      <td>R12_EEU</td>\n      <td>meth_exp</td>\n      <td>2030</td>\n      <td>fuel</td>\n      <td>0.99</td>\n      <td>???</td>\n    </tr>\n    <tr>\n      <th>3</th>\n      <td>meth_trade_balance</td>\n      <td>R12_GLB</td>\n      <td>2030</td>\n      <td>R12_FSU</td>\n      <td>meth_exp</td>\n      <td>2030</td>\n      <td>fuel</td>\n      <td>0.99</td>\n      <td>???</td>\n    </tr>\n    <tr>\n      <th>4</th>\n      <td>meth_trade_balance</td>\n      <td>R12_GLB</td>\n      <td>2030</td>\n      <td>R12_LAM</td>\n      <td>meth_exp</td>\n      <td>2030</td>\n      <td>fuel</td>\n      <td>0.99</td>\n      <td>???</td>\n    </tr>\n    <tr>\n      <th>...</th>\n      <td>...</td>\n      <td>...</td>\n      <td>...</td>\n      <td>...</td>\n      <td>...</td>\n      <td>...</td>\n      <td>...</td>\n      <td>...</td>\n      <td>...</td>\n    </tr>\n    <tr>\n      <th>330</th>\n      <td>meth_trade_balance</td>\n      <td>R12_GLB</td>\n      <td>2020</td>\n      <td>R12_CHN</td>\n      <td>meth_exp</td>\n      <td>2020</td>\n      <td>feedstock</td>\n      <td>0.99</td>\n      <td>???</td>\n    </tr>\n    <tr>\n      <th>331</th>\n      <td>meth_trade_balance</td>\n      <td>R12_GLB</td>\n      <td>2020</td>\n      <td>R12_LAM</td>\n      <td>meth_exp</td>\n      <td>2020</td>\n      <td>feedstock</td>\n      <td>0.99</td>\n      <td>???</td>\n    </tr>\n    <tr>\n      <th>332</th>\n      <td>meth_trade_balance</td>\n      <td>R12_GLB</td>\n      <td>2020</td>\n      <td>R12_LAM</td>\n      <td>meth_exp</td>\n      <td>2020</td>\n      <td>fuel</td>\n      <td>0.99</td>\n      <td>???</td>\n    </tr>\n    <tr>\n      <th>333</th>\n      <td>meth_trade_balance</td>\n      <td>R12_GLB</td>\n      <td>2020</td>\n      <td>R12_MEA</td>\n      <td>meth_exp</td>\n      <td>2020</td>\n      <td>fuel</td>\n      <td>0.99</td>\n      <td>???</td>\n    </tr>\n    <tr>\n      <th>334</th>\n      <td>meth_trade_balance</td>\n      <td>R12_GLB</td>\n      <td>2020</td>\n      <td>R12_MEA</td>\n      <td>meth_exp</td>\n      <td>2020</td>\n      <td>feedstock</td>\n      <td>0.99</td>\n      <td>???</td>\n    </tr>\n  </tbody>\n</table>\n<p>335 rows × 9 columns</p>\n</div>"
     },
     "execution_count": 47,
     "metadata": {},
     "output_type": "execute_result"
    }
   ],
   "source": [
    "df_exp = scenario.par(\"relation_activity\", filters={\"relation\": \"meth_exp_limit\", \"technology\":\"meth_exp\"})\n",
    "df_exp[\"value\"] = 0.99 # 1.010**-1\n",
    "df_exp[\"relation\"] = \"meth_trade_balance\"\n",
    "df_exp[\"node_rel\"] = \"R12_GLB\"\n",
    "df_exp"
   ],
   "metadata": {
    "collapsed": false
   }
  },
  {
   "cell_type": "code",
   "execution_count": 28,
   "outputs": [
    {
     "data": {
      "text/plain": "               relation node_rel  year_rel  node_loc technology  year_act  \\\n0    meth_trade_balance  R12_GLB      2030   R12_AFR   meth_imp      2030   \n1    meth_trade_balance  R12_GLB      2030  R12_RCPA   meth_imp      2030   \n2    meth_trade_balance  R12_GLB      2030   R12_EEU   meth_imp      2030   \n3    meth_trade_balance  R12_GLB      2030   R12_FSU   meth_imp      2030   \n4    meth_trade_balance  R12_GLB      2030   R12_LAM   meth_imp      2030   \n..                  ...      ...       ...       ...        ...       ...   \n330  meth_trade_balance  R12_GLB      2020   R12_CHN   meth_imp      2020   \n331  meth_trade_balance  R12_GLB      2020   R12_LAM   meth_imp      2020   \n332  meth_trade_balance  R12_GLB      2020   R12_LAM   meth_imp      2020   \n333  meth_trade_balance  R12_GLB      2020   R12_MEA   meth_imp      2020   \n334  meth_trade_balance  R12_GLB      2020   R12_MEA   meth_imp      2020   \n\n          mode  value unit  \n0         fuel     -1  ???  \n1         fuel     -1  ???  \n2         fuel     -1  ???  \n3         fuel     -1  ???  \n4         fuel     -1  ???  \n..         ...    ...  ...  \n330  feedstock     -1  ???  \n331  feedstock     -1  ???  \n332       fuel     -1  ???  \n333       fuel     -1  ???  \n334  feedstock     -1  ???  \n\n[335 rows x 9 columns]",
      "text/html": "<div>\n<style scoped>\n    .dataframe tbody tr th:only-of-type {\n        vertical-align: middle;\n    }\n\n    .dataframe tbody tr th {\n        vertical-align: top;\n    }\n\n    .dataframe thead th {\n        text-align: right;\n    }\n</style>\n<table border=\"1\" class=\"dataframe\">\n  <thead>\n    <tr style=\"text-align: right;\">\n      <th></th>\n      <th>relation</th>\n      <th>node_rel</th>\n      <th>year_rel</th>\n      <th>node_loc</th>\n      <th>technology</th>\n      <th>year_act</th>\n      <th>mode</th>\n      <th>value</th>\n      <th>unit</th>\n    </tr>\n  </thead>\n  <tbody>\n    <tr>\n      <th>0</th>\n      <td>meth_trade_balance</td>\n      <td>R12_GLB</td>\n      <td>2030</td>\n      <td>R12_AFR</td>\n      <td>meth_imp</td>\n      <td>2030</td>\n      <td>fuel</td>\n      <td>-1</td>\n      <td>???</td>\n    </tr>\n    <tr>\n      <th>1</th>\n      <td>meth_trade_balance</td>\n      <td>R12_GLB</td>\n      <td>2030</td>\n      <td>R12_RCPA</td>\n      <td>meth_imp</td>\n      <td>2030</td>\n      <td>fuel</td>\n      <td>-1</td>\n      <td>???</td>\n    </tr>\n    <tr>\n      <th>2</th>\n      <td>meth_trade_balance</td>\n      <td>R12_GLB</td>\n      <td>2030</td>\n      <td>R12_EEU</td>\n      <td>meth_imp</td>\n      <td>2030</td>\n      <td>fuel</td>\n      <td>-1</td>\n      <td>???</td>\n    </tr>\n    <tr>\n      <th>3</th>\n      <td>meth_trade_balance</td>\n      <td>R12_GLB</td>\n      <td>2030</td>\n      <td>R12_FSU</td>\n      <td>meth_imp</td>\n      <td>2030</td>\n      <td>fuel</td>\n      <td>-1</td>\n      <td>???</td>\n    </tr>\n    <tr>\n      <th>4</th>\n      <td>meth_trade_balance</td>\n      <td>R12_GLB</td>\n      <td>2030</td>\n      <td>R12_LAM</td>\n      <td>meth_imp</td>\n      <td>2030</td>\n      <td>fuel</td>\n      <td>-1</td>\n      <td>???</td>\n    </tr>\n    <tr>\n      <th>...</th>\n      <td>...</td>\n      <td>...</td>\n      <td>...</td>\n      <td>...</td>\n      <td>...</td>\n      <td>...</td>\n      <td>...</td>\n      <td>...</td>\n      <td>...</td>\n    </tr>\n    <tr>\n      <th>330</th>\n      <td>meth_trade_balance</td>\n      <td>R12_GLB</td>\n      <td>2020</td>\n      <td>R12_CHN</td>\n      <td>meth_imp</td>\n      <td>2020</td>\n      <td>feedstock</td>\n      <td>-1</td>\n      <td>???</td>\n    </tr>\n    <tr>\n      <th>331</th>\n      <td>meth_trade_balance</td>\n      <td>R12_GLB</td>\n      <td>2020</td>\n      <td>R12_LAM</td>\n      <td>meth_imp</td>\n      <td>2020</td>\n      <td>feedstock</td>\n      <td>-1</td>\n      <td>???</td>\n    </tr>\n    <tr>\n      <th>332</th>\n      <td>meth_trade_balance</td>\n      <td>R12_GLB</td>\n      <td>2020</td>\n      <td>R12_LAM</td>\n      <td>meth_imp</td>\n      <td>2020</td>\n      <td>fuel</td>\n      <td>-1</td>\n      <td>???</td>\n    </tr>\n    <tr>\n      <th>333</th>\n      <td>meth_trade_balance</td>\n      <td>R12_GLB</td>\n      <td>2020</td>\n      <td>R12_MEA</td>\n      <td>meth_imp</td>\n      <td>2020</td>\n      <td>fuel</td>\n      <td>-1</td>\n      <td>???</td>\n    </tr>\n    <tr>\n      <th>334</th>\n      <td>meth_trade_balance</td>\n      <td>R12_GLB</td>\n      <td>2020</td>\n      <td>R12_MEA</td>\n      <td>meth_imp</td>\n      <td>2020</td>\n      <td>feedstock</td>\n      <td>-1</td>\n      <td>???</td>\n    </tr>\n  </tbody>\n</table>\n<p>335 rows × 9 columns</p>\n</div>"
     },
     "execution_count": 28,
     "metadata": {},
     "output_type": "execute_result"
    }
   ],
   "source": [
    "df_imp = df_exp.copy(deep=True)\n",
    "df_imp[\"technology\"] = \"meth_imp\"\n",
    "df_imp[\"value\"] = -1\n",
    "df_imp"
   ],
   "metadata": {
    "collapsed": false
   }
  },
  {
   "cell_type": "code",
   "execution_count": 48,
   "outputs": [],
   "source": [
    "scenario.remove_solution()\n",
    "scenario.check_out()\n",
    "scenario.add_set(\"relation\", \"meth_trade_balance\")\n",
    "scenario.add_par(\"relation_activity\", df_exp)\n",
    "scenario.add_par(\"relation_activity\", df_imp)\n",
    "scenario.add_par(\"relation_upper\", df_upper)\n",
    "scenario.commit(\"add new relation to limit meth_exp ACT with meth_imp ACT\")"
   ],
   "metadata": {
    "collapsed": false
   }
  },
  {
   "cell_type": "code",
   "execution_count": 38,
   "outputs": [],
   "source": [
    "scenario.remove_solution()\n",
    "scenario.check_out()\n",
    "scenario.remove_par(\"relation_upper\", df_upper)\n",
    "scenario.commit(\"remove meth_exp upper constraint\")"
   ],
   "metadata": {
    "collapsed": false
   }
  },
  {
   "cell_type": "code",
   "execution_count": 49,
   "outputs": [
    {
     "data": {
      "text/plain": "'2023-06-09 14:42:46.0'"
     },
     "execution_count": 49,
     "metadata": {},
     "output_type": "execute_result"
    }
   ],
   "source": [
    "sc_clone.last_update()"
   ],
   "metadata": {
    "collapsed": false
   }
  },
  {
   "cell_type": "code",
   "execution_count": 56,
   "outputs": [],
   "source": [
    "bound = sc_clone.par(\"bound_activity_lo\", filters={\"technology\":\"bio_hpl\", \"year_act\":2100, \"node_loc\":\"R12_PAO\"})"
   ],
   "metadata": {
    "collapsed": false
   }
  },
  {
   "cell_type": "code",
   "execution_count": 58,
   "outputs": [
    {
     "data": {
      "text/plain": "  node_loc technology  year_act       mode  time  value unit\n0  R12_CHN   meth_exp      2100  feedstock  year     30  GWa",
      "text/html": "<div>\n<style scoped>\n    .dataframe tbody tr th:only-of-type {\n        vertical-align: middle;\n    }\n\n    .dataframe tbody tr th {\n        vertical-align: top;\n    }\n\n    .dataframe thead th {\n        text-align: right;\n    }\n</style>\n<table border=\"1\" class=\"dataframe\">\n  <thead>\n    <tr style=\"text-align: right;\">\n      <th></th>\n      <th>node_loc</th>\n      <th>technology</th>\n      <th>year_act</th>\n      <th>mode</th>\n      <th>time</th>\n      <th>value</th>\n      <th>unit</th>\n    </tr>\n  </thead>\n  <tbody>\n    <tr>\n      <th>0</th>\n      <td>R12_CHN</td>\n      <td>meth_exp</td>\n      <td>2100</td>\n      <td>feedstock</td>\n      <td>year</td>\n      <td>30</td>\n      <td>GWa</td>\n    </tr>\n  </tbody>\n</table>\n</div>"
     },
     "execution_count": 58,
     "metadata": {},
     "output_type": "execute_result"
    }
   ],
   "source": [
    "bound[\"node_loc\"] = \"R12_CHN\"\n",
    "bound[\"technology\"] = \"meth_exp\"\n",
    "bound[\"mode\"] = \"feedstock\"\n",
    "bound[\"value\"] = 30\n",
    "bound"
   ],
   "metadata": {
    "collapsed": false
   }
  },
  {
   "cell_type": "code",
   "execution_count": 61,
   "outputs": [],
   "source": [
    "sc_clone2.remove_solution()\n",
    "sc_clone2.check_out()\n",
    "sc_clone2.add_par(\"bound_activity_lo\", bound)\n",
    "sc_clone2.commit(\"add experimental meth_exp bound_lo\")"
   ],
   "metadata": {
    "collapsed": false
   }
  },
  {
   "cell_type": "code",
   "execution_count": 4,
   "outputs": [],
   "source": [
    "from message_data.tools.utilities import manual_updates_ENGAGE_SSP2_v417_to_v418, update_h2_blending"
   ],
   "metadata": {
    "collapsed": false
   }
  },
  {
   "cell_type": "code",
   "execution_count": 5,
   "outputs": [
    {
     "name": "stdout",
     "output_type": "stream",
     "text": [
      "Updating efficiencies for technologies: ['coal_bal' 'gas_bal']\n",
      "Updating efficiencies for technologies: ['biomass_t_d' 'coal_t_d']\n"
     ]
    }
   ],
   "source": [
    "sc_clone.remove_solution()\n",
    "sc_clone.check_out()\n",
    "manual_updates_ENGAGE_SSP2_v417_to_v418._correct_balance_td_efficiencies(sc_clone)\n",
    "update_h2_blending.main(sc_clone)"
   ],
   "metadata": {
    "collapsed": false
   }
  },
  {
   "cell_type": "markdown",
   "source": [
    "### add gas_processing_petro to h2_scrub_limit"
   ],
   "metadata": {
    "collapsed": false
   }
  },
  {
   "cell_type": "code",
   "execution_count": 8,
   "outputs": [
    {
     "data": {
      "text/plain": "array(['g_ppl_co2scr', 'gas_bio', 'gas_cc', 'gas_ct', 'gas_hpl',\n       'gas_ppl', 'gas_t_d', 'gas_t_d_ch4', 'h2_mix'], dtype=object)"
     },
     "execution_count": 8,
     "metadata": {},
     "output_type": "execute_result"
    }
   ],
   "source": [
    "#sc_clone.commit(\"add ENGAGE fixes\")\n",
    "sc_clone.par(\"relation_activity\", filters={\"relation\":\"h2_scrub_limit\"})[\"technology\"].unique()"
   ],
   "metadata": {
    "collapsed": false
   }
  },
  {
   "cell_type": "code",
   "execution_count": 10,
   "outputs": [],
   "source": [
    "df = sc_clone.par(\"relation_activity\", filters={\"relation\":\"h2_scrub_limit\", \"technology\":\"gas_bio\"})"
   ],
   "metadata": {
    "collapsed": false
   }
  },
  {
   "cell_type": "code",
   "execution_count": 12,
   "outputs": [
    {
     "name": "stdout",
     "output_type": "stream",
     "text": [
      "R12_AFR\n",
      "16\n",
      "R12_RCPA\n",
      "16\n",
      "R12_EEU\n",
      "16\n",
      "R12_FSU\n",
      "16\n",
      "R12_LAM\n",
      "16\n",
      "R12_MEA\n",
      "16\n",
      "R12_NAM\n",
      "16\n",
      "R12_PAO\n",
      "16\n",
      "R12_PAS\n",
      "16\n",
      "R12_SAS\n",
      "16\n",
      "R12_WEU\n",
      "20\n",
      "R12_CHN\n",
      "16\n"
     ]
    }
   ],
   "source": [
    "for i in df[\"node_rel\"].unique().tolist():\n",
    "    print(i)\n",
    "    print(df[df[\"node_rel\"]==i].index.size)"
   ],
   "metadata": {
    "collapsed": false
   }
  },
  {
   "cell_type": "code",
   "execution_count": 24,
   "outputs": [],
   "source": [
    "sc_clone.set_as_default()"
   ],
   "metadata": {
    "collapsed": false
   }
  },
  {
   "cell_type": "code",
   "execution_count": 23,
   "outputs": [
    {
     "data": {
      "text/plain": "                    model                                      scenario  \\\n6488  MESSAGEix-Materials           2.0deg_no_SDGs_petro_thesis_1_macro   \n6489  MESSAGEix-Materials                         2.0deg_petro_thesis_1   \n6490  MESSAGEix-Materials                         2.0deg_petro_thesis_2   \n6491  MESSAGEix-Materials                   2.0deg_petro_thesis_2_macro   \n6492  MESSAGEix-Materials    2.0deg_petro_thesis_2_macro_w_ENGAGE_fixes   \n6493  MESSAGEix-Materials                        2degree_petro_thesis_2   \n6623  MESSAGEix-Materials               NoPolicy_no_SDGs_petro_thesis_1   \n6624  MESSAGEix-Materials         NoPolicy_no_SDGs_petro_thesis_1_macro   \n6628  MESSAGEix-Materials                             NoPolicy_no_petro   \n6630  MESSAGEix-Materials                        NoPolicy_petro_biomass   \n6631  MESSAGEix-Materials                           NoPolicy_petro_test   \n6632  MESSAGEix-Materials                         NoPolicy_petro_test_2   \n6633  MESSAGEix-Materials                         NoPolicy_petro_test_3   \n6634  MESSAGEix-Materials                         NoPolicy_petro_test_4   \n6635  MESSAGEix-Materials                         NoPolicy_petro_test_5   \n6636  MESSAGEix-Materials                         NoPolicy_petro_test_6   \n6637  MESSAGEix-Materials                       NoPolicy_petro_thesis_2   \n6638  MESSAGEix-Materials                 NoPolicy_petro_thesis_2_macro   \n6639  MESSAGEix-Materials  NoPolicy_petro_thesis_2_macro_w_ENGAGE_fixes   \n6640  MESSAGEix-Materials          NoPolicy_petro_thesis_2_test_meth_h2   \n6641  MESSAGEix-Materials  NoPolicy_petro_thesis_2_test_new_input_files   \n\n       scheme  is_default  is_locked cre_user                    cre_date  \\\n6488  MESSAGE           1          0   maczek  2023-05-09 09:34:33.000000   \n6489  MESSAGE           1          0   maczek  2023-02-08 23:38:03.000000   \n6490  MESSAGE           1          0   maczek  2023-04-06 16:44:33.000000   \n6491  MESSAGE           1          0   maczek  2023-05-12 08:31:34.000000   \n6492  MESSAGE           1          0   maczek  2023-06-07 17:39:46.000000   \n6493  MESSAGE           1          0     unlu  2023-04-06 15:35:51.000000   \n6623  MESSAGE           1          0   maczek  2023-05-08 22:47:58.000000   \n6624  MESSAGE           1          0   maczek  2023-05-09 04:15:13.000000   \n6628  MESSAGE           1          0   maczek  2023-05-04 09:18:27.000000   \n6630  MESSAGE           1          0     unlu  2022-08-09 14:51:56.000000   \n6631  MESSAGE           1          0     unlu  2022-04-14 11:08:53.000000   \n6632  MESSAGE           1          0     unlu  2022-04-14 14:05:39.000000   \n6633  MESSAGE           1          0     unlu  2022-04-14 14:40:02.000000   \n6634  MESSAGE           1          0     unlu  2022-04-14 15:13:25.000000   \n6635  MESSAGE           1          0     unlu  2022-04-14 15:29:02.000000   \n6636  MESSAGE           1          0     unlu  2022-04-14 15:38:19.000000   \n6637  MESSAGE           1          0   maczek  2023-06-07 10:11:12.000000   \n6638  MESSAGE           1          0   maczek  2023-06-07 11:11:09.000000   \n6639  MESSAGE           1          0   maczek  2023-06-07 15:19:13.000000   \n6640  MESSAGE           1          0   maczek  2023-05-15 10:42:54.000000   \n6641  MESSAGE           1          0   maczek  2023-06-07 17:11:26.000000   \n\n     upd_user                    upd_date lock_user lock_date  \\\n6488   maczek  2023-05-09 10:28:12.000000      None      None   \n6489   maczek  2023-02-08 23:44:53.000000      None      None   \n6490     None                        None      None      None   \n6491   maczek  2023-05-12 09:20:07.000000      None      None   \n6492   maczek  2023-06-07 18:37:17.000000      None      None   \n6493     None                        None      None      None   \n6623   maczek  2023-05-09 04:15:01.000000      None      None   \n6624   maczek  2023-05-09 04:47:38.000000      None      None   \n6628   maczek  2023-05-04 09:44:52.000000      None      None   \n6630     unlu  2022-08-09 15:14:46.000000      None      None   \n6631     None                        None      None      None   \n6632     None                        None      None      None   \n6633     None                        None      None      None   \n6634     None                        None      None      None   \n6635     None                        None      None      None   \n6636     None                        None      None      None   \n6637   maczek  2023-06-07 11:10:57.000000      None      None   \n6638   maczek  2023-06-07 11:21:49.000000      None      None   \n6639   maczek  2023-06-07 17:33:51.000000      None      None   \n6640   maczek  2023-05-15 11:44:21.000000      None      None   \n6641     None                        None      None      None   \n\n                                             annotation  version  \n6488  clone Scenario from 'MESSAGEix-Materials|NoPol...        4  \n6489  clone Scenario from 'MESSAGEix-Materials|NoPol...        1  \n6490  clone Scenario from 'MESSAGEix-Materials|NoPol...        6  \n6491  clone Scenario from 'MESSAGEix-Materials|NoPol...       10  \n6492  clone Scenario from 'MESSAGEix-Materials|NoPol...        1  \n6493  clone Scenario from 'MESSAGEix-Materials|NoPol...        1  \n6623  clone Scenario from 'SHAPE_SSP2_v4.1.8|baselin...       11  \n6624  clone Scenario from 'MESSAGEix-Materials|NoPol...        4  \n6628  clone Scenario from 'SHAPE_SSP2_v4.1.8|baselin...        3  \n6630  clone Scenario from 'SHAPE_SSP2_v4.1.8|baselin...        3  \n6631  clone Scenario from 'SHAPE_SSP2_v4.1.8|baselin...        4  \n6632  clone Scenario from 'SHAPE_SSP2_v4.1.8|baselin...        1  \n6633  clone Scenario from 'SHAPE_SSP2_v4.1.8|baselin...        1  \n6634  clone Scenario from 'SHAPE_SSP2_v4.1.8|baselin...        2  \n6635  clone Scenario from 'SHAPE_SSP2_v4.1.8|baselin...        2  \n6636  clone Scenario from 'SHAPE_SSP2_v4.1.8|baselin...        1  \n6637  clone Scenario from 'SHAPE_SSP2_v4.1.8|baselin...      112  \n6638  clone Scenario from 'MESSAGEix-Materials|NoPol...       12  \n6639  clone Scenario from 'MESSAGEix-Materials|NoPol...        1  \n6640  clone Scenario from 'SHAPE_SSP2_v4.1.8|baselin...        1  \n6641  clone Scenario from 'SHAPE_SSP2_v4.1.8|baselin...        1  ",
      "text/html": "<div>\n<style scoped>\n    .dataframe tbody tr th:only-of-type {\n        vertical-align: middle;\n    }\n\n    .dataframe tbody tr th {\n        vertical-align: top;\n    }\n\n    .dataframe thead th {\n        text-align: right;\n    }\n</style>\n<table border=\"1\" class=\"dataframe\">\n  <thead>\n    <tr style=\"text-align: right;\">\n      <th></th>\n      <th>model</th>\n      <th>scenario</th>\n      <th>scheme</th>\n      <th>is_default</th>\n      <th>is_locked</th>\n      <th>cre_user</th>\n      <th>cre_date</th>\n      <th>upd_user</th>\n      <th>upd_date</th>\n      <th>lock_user</th>\n      <th>lock_date</th>\n      <th>annotation</th>\n      <th>version</th>\n    </tr>\n  </thead>\n  <tbody>\n    <tr>\n      <th>6488</th>\n      <td>MESSAGEix-Materials</td>\n      <td>2.0deg_no_SDGs_petro_thesis_1_macro</td>\n      <td>MESSAGE</td>\n      <td>1</td>\n      <td>0</td>\n      <td>maczek</td>\n      <td>2023-05-09 09:34:33.000000</td>\n      <td>maczek</td>\n      <td>2023-05-09 10:28:12.000000</td>\n      <td>None</td>\n      <td>None</td>\n      <td>clone Scenario from 'MESSAGEix-Materials|NoPol...</td>\n      <td>4</td>\n    </tr>\n    <tr>\n      <th>6489</th>\n      <td>MESSAGEix-Materials</td>\n      <td>2.0deg_petro_thesis_1</td>\n      <td>MESSAGE</td>\n      <td>1</td>\n      <td>0</td>\n      <td>maczek</td>\n      <td>2023-02-08 23:38:03.000000</td>\n      <td>maczek</td>\n      <td>2023-02-08 23:44:53.000000</td>\n      <td>None</td>\n      <td>None</td>\n      <td>clone Scenario from 'MESSAGEix-Materials|NoPol...</td>\n      <td>1</td>\n    </tr>\n    <tr>\n      <th>6490</th>\n      <td>MESSAGEix-Materials</td>\n      <td>2.0deg_petro_thesis_2</td>\n      <td>MESSAGE</td>\n      <td>1</td>\n      <td>0</td>\n      <td>maczek</td>\n      <td>2023-04-06 16:44:33.000000</td>\n      <td>None</td>\n      <td>None</td>\n      <td>None</td>\n      <td>None</td>\n      <td>clone Scenario from 'MESSAGEix-Materials|NoPol...</td>\n      <td>6</td>\n    </tr>\n    <tr>\n      <th>6491</th>\n      <td>MESSAGEix-Materials</td>\n      <td>2.0deg_petro_thesis_2_macro</td>\n      <td>MESSAGE</td>\n      <td>1</td>\n      <td>0</td>\n      <td>maczek</td>\n      <td>2023-05-12 08:31:34.000000</td>\n      <td>maczek</td>\n      <td>2023-05-12 09:20:07.000000</td>\n      <td>None</td>\n      <td>None</td>\n      <td>clone Scenario from 'MESSAGEix-Materials|NoPol...</td>\n      <td>10</td>\n    </tr>\n    <tr>\n      <th>6492</th>\n      <td>MESSAGEix-Materials</td>\n      <td>2.0deg_petro_thesis_2_macro_w_ENGAGE_fixes</td>\n      <td>MESSAGE</td>\n      <td>1</td>\n      <td>0</td>\n      <td>maczek</td>\n      <td>2023-06-07 17:39:46.000000</td>\n      <td>maczek</td>\n      <td>2023-06-07 18:37:17.000000</td>\n      <td>None</td>\n      <td>None</td>\n      <td>clone Scenario from 'MESSAGEix-Materials|NoPol...</td>\n      <td>1</td>\n    </tr>\n    <tr>\n      <th>6493</th>\n      <td>MESSAGEix-Materials</td>\n      <td>2degree_petro_thesis_2</td>\n      <td>MESSAGE</td>\n      <td>1</td>\n      <td>0</td>\n      <td>unlu</td>\n      <td>2023-04-06 15:35:51.000000</td>\n      <td>None</td>\n      <td>None</td>\n      <td>None</td>\n      <td>None</td>\n      <td>clone Scenario from 'MESSAGEix-Materials|NoPol...</td>\n      <td>1</td>\n    </tr>\n    <tr>\n      <th>6623</th>\n      <td>MESSAGEix-Materials</td>\n      <td>NoPolicy_no_SDGs_petro_thesis_1</td>\n      <td>MESSAGE</td>\n      <td>1</td>\n      <td>0</td>\n      <td>maczek</td>\n      <td>2023-05-08 22:47:58.000000</td>\n      <td>maczek</td>\n      <td>2023-05-09 04:15:01.000000</td>\n      <td>None</td>\n      <td>None</td>\n      <td>clone Scenario from 'SHAPE_SSP2_v4.1.8|baselin...</td>\n      <td>11</td>\n    </tr>\n    <tr>\n      <th>6624</th>\n      <td>MESSAGEix-Materials</td>\n      <td>NoPolicy_no_SDGs_petro_thesis_1_macro</td>\n      <td>MESSAGE</td>\n      <td>1</td>\n      <td>0</td>\n      <td>maczek</td>\n      <td>2023-05-09 04:15:13.000000</td>\n      <td>maczek</td>\n      <td>2023-05-09 04:47:38.000000</td>\n      <td>None</td>\n      <td>None</td>\n      <td>clone Scenario from 'MESSAGEix-Materials|NoPol...</td>\n      <td>4</td>\n    </tr>\n    <tr>\n      <th>6628</th>\n      <td>MESSAGEix-Materials</td>\n      <td>NoPolicy_no_petro</td>\n      <td>MESSAGE</td>\n      <td>1</td>\n      <td>0</td>\n      <td>maczek</td>\n      <td>2023-05-04 09:18:27.000000</td>\n      <td>maczek</td>\n      <td>2023-05-04 09:44:52.000000</td>\n      <td>None</td>\n      <td>None</td>\n      <td>clone Scenario from 'SHAPE_SSP2_v4.1.8|baselin...</td>\n      <td>3</td>\n    </tr>\n    <tr>\n      <th>6630</th>\n      <td>MESSAGEix-Materials</td>\n      <td>NoPolicy_petro_biomass</td>\n      <td>MESSAGE</td>\n      <td>1</td>\n      <td>0</td>\n      <td>unlu</td>\n      <td>2022-08-09 14:51:56.000000</td>\n      <td>unlu</td>\n      <td>2022-08-09 15:14:46.000000</td>\n      <td>None</td>\n      <td>None</td>\n      <td>clone Scenario from 'SHAPE_SSP2_v4.1.8|baselin...</td>\n      <td>3</td>\n    </tr>\n    <tr>\n      <th>6631</th>\n      <td>MESSAGEix-Materials</td>\n      <td>NoPolicy_petro_test</td>\n      <td>MESSAGE</td>\n      <td>1</td>\n      <td>0</td>\n      <td>unlu</td>\n      <td>2022-04-14 11:08:53.000000</td>\n      <td>None</td>\n      <td>None</td>\n      <td>None</td>\n      <td>None</td>\n      <td>clone Scenario from 'SHAPE_SSP2_v4.1.8|baselin...</td>\n      <td>4</td>\n    </tr>\n    <tr>\n      <th>6632</th>\n      <td>MESSAGEix-Materials</td>\n      <td>NoPolicy_petro_test_2</td>\n      <td>MESSAGE</td>\n      <td>1</td>\n      <td>0</td>\n      <td>unlu</td>\n      <td>2022-04-14 14:05:39.000000</td>\n      <td>None</td>\n      <td>None</td>\n      <td>None</td>\n      <td>None</td>\n      <td>clone Scenario from 'SHAPE_SSP2_v4.1.8|baselin...</td>\n      <td>1</td>\n    </tr>\n    <tr>\n      <th>6633</th>\n      <td>MESSAGEix-Materials</td>\n      <td>NoPolicy_petro_test_3</td>\n      <td>MESSAGE</td>\n      <td>1</td>\n      <td>0</td>\n      <td>unlu</td>\n      <td>2022-04-14 14:40:02.000000</td>\n      <td>None</td>\n      <td>None</td>\n      <td>None</td>\n      <td>None</td>\n      <td>clone Scenario from 'SHAPE_SSP2_v4.1.8|baselin...</td>\n      <td>1</td>\n    </tr>\n    <tr>\n      <th>6634</th>\n      <td>MESSAGEix-Materials</td>\n      <td>NoPolicy_petro_test_4</td>\n      <td>MESSAGE</td>\n      <td>1</td>\n      <td>0</td>\n      <td>unlu</td>\n      <td>2022-04-14 15:13:25.000000</td>\n      <td>None</td>\n      <td>None</td>\n      <td>None</td>\n      <td>None</td>\n      <td>clone Scenario from 'SHAPE_SSP2_v4.1.8|baselin...</td>\n      <td>2</td>\n    </tr>\n    <tr>\n      <th>6635</th>\n      <td>MESSAGEix-Materials</td>\n      <td>NoPolicy_petro_test_5</td>\n      <td>MESSAGE</td>\n      <td>1</td>\n      <td>0</td>\n      <td>unlu</td>\n      <td>2022-04-14 15:29:02.000000</td>\n      <td>None</td>\n      <td>None</td>\n      <td>None</td>\n      <td>None</td>\n      <td>clone Scenario from 'SHAPE_SSP2_v4.1.8|baselin...</td>\n      <td>2</td>\n    </tr>\n    <tr>\n      <th>6636</th>\n      <td>MESSAGEix-Materials</td>\n      <td>NoPolicy_petro_test_6</td>\n      <td>MESSAGE</td>\n      <td>1</td>\n      <td>0</td>\n      <td>unlu</td>\n      <td>2022-04-14 15:38:19.000000</td>\n      <td>None</td>\n      <td>None</td>\n      <td>None</td>\n      <td>None</td>\n      <td>clone Scenario from 'SHAPE_SSP2_v4.1.8|baselin...</td>\n      <td>1</td>\n    </tr>\n    <tr>\n      <th>6637</th>\n      <td>MESSAGEix-Materials</td>\n      <td>NoPolicy_petro_thesis_2</td>\n      <td>MESSAGE</td>\n      <td>1</td>\n      <td>0</td>\n      <td>maczek</td>\n      <td>2023-06-07 10:11:12.000000</td>\n      <td>maczek</td>\n      <td>2023-06-07 11:10:57.000000</td>\n      <td>None</td>\n      <td>None</td>\n      <td>clone Scenario from 'SHAPE_SSP2_v4.1.8|baselin...</td>\n      <td>112</td>\n    </tr>\n    <tr>\n      <th>6638</th>\n      <td>MESSAGEix-Materials</td>\n      <td>NoPolicy_petro_thesis_2_macro</td>\n      <td>MESSAGE</td>\n      <td>1</td>\n      <td>0</td>\n      <td>maczek</td>\n      <td>2023-06-07 11:11:09.000000</td>\n      <td>maczek</td>\n      <td>2023-06-07 11:21:49.000000</td>\n      <td>None</td>\n      <td>None</td>\n      <td>clone Scenario from 'MESSAGEix-Materials|NoPol...</td>\n      <td>12</td>\n    </tr>\n    <tr>\n      <th>6639</th>\n      <td>MESSAGEix-Materials</td>\n      <td>NoPolicy_petro_thesis_2_macro_w_ENGAGE_fixes</td>\n      <td>MESSAGE</td>\n      <td>1</td>\n      <td>0</td>\n      <td>maczek</td>\n      <td>2023-06-07 15:19:13.000000</td>\n      <td>maczek</td>\n      <td>2023-06-07 17:33:51.000000</td>\n      <td>None</td>\n      <td>None</td>\n      <td>clone Scenario from 'MESSAGEix-Materials|NoPol...</td>\n      <td>1</td>\n    </tr>\n    <tr>\n      <th>6640</th>\n      <td>MESSAGEix-Materials</td>\n      <td>NoPolicy_petro_thesis_2_test_meth_h2</td>\n      <td>MESSAGE</td>\n      <td>1</td>\n      <td>0</td>\n      <td>maczek</td>\n      <td>2023-05-15 10:42:54.000000</td>\n      <td>maczek</td>\n      <td>2023-05-15 11:44:21.000000</td>\n      <td>None</td>\n      <td>None</td>\n      <td>clone Scenario from 'SHAPE_SSP2_v4.1.8|baselin...</td>\n      <td>1</td>\n    </tr>\n    <tr>\n      <th>6641</th>\n      <td>MESSAGEix-Materials</td>\n      <td>NoPolicy_petro_thesis_2_test_new_input_files</td>\n      <td>MESSAGE</td>\n      <td>1</td>\n      <td>0</td>\n      <td>maczek</td>\n      <td>2023-06-07 17:11:26.000000</td>\n      <td>None</td>\n      <td>None</td>\n      <td>None</td>\n      <td>None</td>\n      <td>clone Scenario from 'SHAPE_SSP2_v4.1.8|baselin...</td>\n      <td>1</td>\n    </tr>\n  </tbody>\n</table>\n</div>"
     },
     "execution_count": 23,
     "metadata": {},
     "output_type": "execute_result"
    }
   ],
   "source": [
    "sc_list = mp.scenario_list()\n",
    "\n",
    "sc_list[sc_list[\"scenario\"].str.contains(\"petro\")]"
   ],
   "metadata": {
    "collapsed": false
   }
  },
  {
   "cell_type": "code",
   "execution_count": 39,
   "outputs": [],
   "source": [
    "df_set = scenario.set(\"balance_equality\").iloc[0]"
   ],
   "metadata": {
    "collapsed": false
   }
  },
  {
   "cell_type": "code",
   "execution_count": 40,
   "outputs": [
    {
     "data": {
      "text/plain": "commodity    BIO01GHG000\nlevel                 LU\nName: 0, dtype: object"
     },
     "execution_count": 40,
     "metadata": {},
     "output_type": "execute_result"
    }
   ],
   "source": [
    "df_set"
   ],
   "metadata": {
    "collapsed": false
   }
  },
  {
   "cell_type": "code",
   "execution_count": 41,
   "outputs": [
    {
     "name": "stderr",
     "output_type": "stream",
     "text": [
      "C:\\Users\\maczek\\AppData\\Local\\Temp\\ipykernel_21000\\2936832773.py:1: SettingWithCopyWarning: \n",
      "A value is trying to be set on a copy of a slice from a DataFrame\n",
      "\n",
      "See the caveats in the documentation: https://pandas.pydata.org/pandas-docs/stable/user_guide/indexing.html#returning-a-view-versus-a-copy\n",
      "  df_set[\"commodity\"] = \"methanol\"\n",
      "C:\\Users\\maczek\\AppData\\Local\\Temp\\ipykernel_21000\\2936832773.py:2: SettingWithCopyWarning: \n",
      "A value is trying to be set on a copy of a slice from a DataFrame\n",
      "\n",
      "See the caveats in the documentation: https://pandas.pydata.org/pandas-docs/stable/user_guide/indexing.html#returning-a-view-versus-a-copy\n",
      "  df_set[\"level\"] = \"export_fs\"\n"
     ]
    },
    {
     "data": {
      "text/plain": "commodity     methanol\nlevel        export_fs\nName: 0, dtype: object"
     },
     "execution_count": 41,
     "metadata": {},
     "output_type": "execute_result"
    }
   ],
   "source": [
    "df_set[\"commodity\"] = \"methanol\"\n",
    "df_set[\"level\"] = \"export_fs\"\n",
    "df_set"
   ],
   "metadata": {
    "collapsed": false
   }
  },
  {
   "cell_type": "code",
   "execution_count": 42,
   "outputs": [
    {
     "data": {
      "text/plain": "commodity    methanol\nlevel          export\nName: 0, dtype: object"
     },
     "execution_count": 42,
     "metadata": {},
     "output_type": "execute_result"
    }
   ],
   "source": [
    "df_set"
   ],
   "metadata": {
    "collapsed": false
   }
  },
  {
   "cell_type": "code",
   "execution_count": 42,
   "outputs": [],
   "source": [
    "scenario.check_out()\n",
    "scenario.add_set(\"balance_equality\", df_set)"
   ],
   "metadata": {
    "collapsed": false
   }
  },
  {
   "cell_type": "code",
   "execution_count": 44,
   "outputs": [
    {
     "ename": "RuntimeError",
     "evalue": "this Scenario is not checked out, no changes to be committed!",
     "output_type": "error",
     "traceback": [
      "\u001B[1;31m---------------------------------------------------------------------------\u001B[0m",
      "\u001B[1;31mException\u001B[0m                                 Traceback (most recent call last)",
      "File \u001B[1;32mMsgScenario.java:1277\u001B[0m, in \u001B[0;36mat.ac.iiasa.ixmp.objects.MsgScenario.commit\u001B[1;34m()\u001B[0m\n",
      "File \u001B[1;32mMsgScenario.java:1289\u001B[0m, in \u001B[0;36mat.ac.iiasa.ixmp.objects.MsgScenario.commit\u001B[1;34m()\u001B[0m\n",
      "File \u001B[1;32mScenario.java:2013\u001B[0m, in \u001B[0;36mat.ac.iiasa.ixmp.objects.Scenario.commit\u001B[1;34m()\u001B[0m\n",
      "File \u001B[1;32mScenario.java:2026\u001B[0m, in \u001B[0;36mat.ac.iiasa.ixmp.objects.Scenario.commit\u001B[1;34m()\u001B[0m\n",
      "File \u001B[1;32mScenario.java:2042\u001B[0m, in \u001B[0;36mat.ac.iiasa.ixmp.objects.Scenario.commit\u001B[1;34m()\u001B[0m\n",
      "\u001B[1;31mException\u001B[0m: Java Exception",
      "\nThe above exception was the direct cause of the following exception:\n",
      "\u001B[1;31mat.ac.iiasa.ixmp.exceptions.IxException\u001B[0m   Traceback (most recent call last)",
      "File \u001B[1;32m~\\Anaconda3\\lib\\site-packages\\ixmp\\backend\\jdbc.py:697\u001B[0m, in \u001B[0;36mJDBCBackend.commit\u001B[1;34m(self, ts, comment)\u001B[0m\n\u001B[0;32m    696\u001B[0m \u001B[38;5;28;01mtry\u001B[39;00m:\n\u001B[1;32m--> 697\u001B[0m     \u001B[38;5;28;43mself\u001B[39;49m\u001B[38;5;241;43m.\u001B[39;49m\u001B[43mjindex\u001B[49m\u001B[43m[\u001B[49m\u001B[43mts\u001B[49m\u001B[43m]\u001B[49m\u001B[38;5;241;43m.\u001B[39;49m\u001B[43mcommit\u001B[49m\u001B[43m(\u001B[49m\u001B[43mcomment\u001B[49m\u001B[43m)\u001B[49m\n\u001B[0;32m    698\u001B[0m \u001B[38;5;28;01mexcept\u001B[39;00m java\u001B[38;5;241m.\u001B[39mException \u001B[38;5;28;01mas\u001B[39;00m e:\n",
      "\u001B[1;31mat.ac.iiasa.ixmp.exceptions.IxException\u001B[0m: at.ac.iiasa.ixmp.exceptions.IxException: this Scenario is not checked out, no changes to be committed!",
      "\nDuring handling of the above exception, another exception occurred:\n",
      "\u001B[1;31mRuntimeError\u001B[0m                              Traceback (most recent call last)",
      "Input \u001B[1;32mIn [44]\u001B[0m, in \u001B[0;36m<cell line: 1>\u001B[1;34m()\u001B[0m\n\u001B[1;32m----> 1\u001B[0m \u001B[43mscenario\u001B[49m\u001B[38;5;241;43m.\u001B[39;49m\u001B[43mcommit\u001B[49m\u001B[43m(\u001B[49m\u001B[38;5;124;43m\"\u001B[39;49m\u001B[38;5;124;43madd methanol export constraint for fs mode\u001B[39;49m\u001B[38;5;124;43m\"\u001B[39;49m\u001B[43m)\u001B[49m\n",
      "File \u001B[1;32m~\\Anaconda3\\lib\\site-packages\\ixmp\\core\\timeseries.py:199\u001B[0m, in \u001B[0;36mTimeSeries.commit\u001B[1;34m(self, comment)\u001B[0m\n\u001B[0;32m    183\u001B[0m \u001B[38;5;28;01mdef\u001B[39;00m \u001B[38;5;21mcommit\u001B[39m(\u001B[38;5;28mself\u001B[39m, comment: \u001B[38;5;28mstr\u001B[39m) \u001B[38;5;241m-\u001B[39m\u001B[38;5;241m>\u001B[39m \u001B[38;5;28;01mNone\u001B[39;00m:\n\u001B[0;32m    184\u001B[0m     \u001B[38;5;124;03m\"\"\"Commit all changed data to the database.\u001B[39;00m\n\u001B[0;32m    185\u001B[0m \n\u001B[0;32m    186\u001B[0m \u001B[38;5;124;03m    If the TimeSeries was newly created (with ``version='new'``), :attr:`version`\u001B[39;00m\n\u001B[1;32m   (...)\u001B[0m\n\u001B[0;32m    197\u001B[0m \u001B[38;5;124;03m    utils.maybe_commit\u001B[39;00m\n\u001B[0;32m    198\u001B[0m \u001B[38;5;124;03m    \"\"\"\u001B[39;00m\n\u001B[1;32m--> 199\u001B[0m     \u001B[38;5;28;43mself\u001B[39;49m\u001B[38;5;241;43m.\u001B[39;49m\u001B[43m_backend\u001B[49m\u001B[43m(\u001B[49m\u001B[38;5;124;43m\"\u001B[39;49m\u001B[38;5;124;43mcommit\u001B[39;49m\u001B[38;5;124;43m\"\u001B[39;49m\u001B[43m,\u001B[49m\u001B[43m \u001B[49m\u001B[43mcomment\u001B[49m\u001B[43m)\u001B[49m\n",
      "File \u001B[1;32m~\\Anaconda3\\lib\\site-packages\\ixmp\\core\\timeseries.py:108\u001B[0m, in \u001B[0;36mTimeSeries._backend\u001B[1;34m(self, method, *args, **kwargs)\u001B[0m\n\u001B[0;32m    102\u001B[0m \u001B[38;5;28;01mdef\u001B[39;00m \u001B[38;5;21m_backend\u001B[39m(\u001B[38;5;28mself\u001B[39m, method, \u001B[38;5;241m*\u001B[39margs, \u001B[38;5;241m*\u001B[39m\u001B[38;5;241m*\u001B[39mkwargs):\n\u001B[0;32m    103\u001B[0m     \u001B[38;5;124;03m\"\"\"Convenience for calling *method* on the backend.\u001B[39;00m\n\u001B[0;32m    104\u001B[0m \n\u001B[0;32m    105\u001B[0m \u001B[38;5;124;03m    The weak reference to the Platform object is used, if the Platform is still\u001B[39;00m\n\u001B[0;32m    106\u001B[0m \u001B[38;5;124;03m    alive.\u001B[39;00m\n\u001B[0;32m    107\u001B[0m \u001B[38;5;124;03m    \"\"\"\u001B[39;00m\n\u001B[1;32m--> 108\u001B[0m     \u001B[38;5;28;01mreturn\u001B[39;00m \u001B[38;5;28;43mself\u001B[39;49m\u001B[38;5;241;43m.\u001B[39;49m\u001B[43mplatform\u001B[49m\u001B[38;5;241;43m.\u001B[39;49m\u001B[43m_backend\u001B[49m\u001B[43m(\u001B[49m\u001B[38;5;28;43mself\u001B[39;49m\u001B[43m,\u001B[49m\u001B[43m \u001B[49m\u001B[43mmethod\u001B[49m\u001B[43m,\u001B[49m\u001B[43m \u001B[49m\u001B[38;5;241;43m*\u001B[39;49m\u001B[43margs\u001B[49m\u001B[43m,\u001B[49m\u001B[43m \u001B[49m\u001B[38;5;241;43m*\u001B[39;49m\u001B[38;5;241;43m*\u001B[39;49m\u001B[43mkwargs\u001B[49m\u001B[43m)\u001B[49m\n",
      "File \u001B[1;32m~\\Anaconda3\\lib\\site-packages\\ixmp\\backend\\base.py:53\u001B[0m, in \u001B[0;36mBackend.__call__\u001B[1;34m(self, obj, method, *args, **kwargs)\u001B[0m\n\u001B[0;32m     47\u001B[0m \u001B[38;5;28;01mdef\u001B[39;00m \u001B[38;5;21m__call__\u001B[39m(\u001B[38;5;28mself\u001B[39m, obj, method, \u001B[38;5;241m*\u001B[39margs, \u001B[38;5;241m*\u001B[39m\u001B[38;5;241m*\u001B[39mkwargs):\n\u001B[0;32m     48\u001B[0m     \u001B[38;5;124;03m\"\"\"Call the backend method `method` for `obj`.\u001B[39;00m\n\u001B[0;32m     49\u001B[0m \n\u001B[0;32m     50\u001B[0m \u001B[38;5;124;03m    The class attribute obj._backend_prefix is used to determine a prefix for the\u001B[39;00m\n\u001B[0;32m     51\u001B[0m \u001B[38;5;124;03m    method name, e.g. 'ts_{method}'.\u001B[39;00m\n\u001B[0;32m     52\u001B[0m \u001B[38;5;124;03m    \"\"\"\u001B[39;00m\n\u001B[1;32m---> 53\u001B[0m     \u001B[38;5;28;01mreturn\u001B[39;00m \u001B[38;5;28;43mgetattr\u001B[39;49m\u001B[43m(\u001B[49m\u001B[38;5;28;43mself\u001B[39;49m\u001B[43m,\u001B[49m\u001B[43m \u001B[49m\u001B[43mmethod\u001B[49m\u001B[43m)\u001B[49m\u001B[43m(\u001B[49m\u001B[43mobj\u001B[49m\u001B[43m,\u001B[49m\u001B[43m \u001B[49m\u001B[38;5;241;43m*\u001B[39;49m\u001B[43margs\u001B[49m\u001B[43m,\u001B[49m\u001B[43m \u001B[49m\u001B[38;5;241;43m*\u001B[39;49m\u001B[38;5;241;43m*\u001B[39;49m\u001B[43mkwargs\u001B[49m\u001B[43m)\u001B[49m\n",
      "File \u001B[1;32m~\\Anaconda3\\lib\\site-packages\\ixmp\\backend\\jdbc.py:701\u001B[0m, in \u001B[0;36mJDBCBackend.commit\u001B[1;34m(self, ts, comment)\u001B[0m\n\u001B[0;32m    699\u001B[0m arg \u001B[38;5;241m=\u001B[39m e\u001B[38;5;241m.\u001B[39margs[\u001B[38;5;241m0\u001B[39m]\n\u001B[0;32m    700\u001B[0m \u001B[38;5;28;01mif\u001B[39;00m \u001B[38;5;28misinstance\u001B[39m(arg, \u001B[38;5;28mstr\u001B[39m) \u001B[38;5;129;01mand\u001B[39;00m \u001B[38;5;124m\"\u001B[39m\u001B[38;5;124mthis Scenario is not checked out\u001B[39m\u001B[38;5;124m\"\u001B[39m \u001B[38;5;129;01min\u001B[39;00m arg:\n\u001B[1;32m--> 701\u001B[0m     \u001B[38;5;28;01mraise\u001B[39;00m \u001B[38;5;167;01mRuntimeError\u001B[39;00m(arg)\n\u001B[0;32m    702\u001B[0m \u001B[38;5;28;01melse\u001B[39;00m:  \u001B[38;5;66;03m# pragma: no cover\u001B[39;00m\n\u001B[0;32m    703\u001B[0m     _raise_jexception(e)\n",
      "\u001B[1;31mRuntimeError\u001B[0m: this Scenario is not checked out, no changes to be committed!"
     ]
    }
   ],
   "source": [
    "scenario.commit(\"add methanol export constraint for fs mode\")"
   ],
   "metadata": {
    "collapsed": false
   }
  },
  {
   "cell_type": "code",
   "execution_count": 16,
   "outputs": [
    {
     "data": {
      "text/plain": "           relation node_rel  year_rel node_loc            technology  \\\n0    h2_scrub_limit  R12_AFR      2010  R12_AFR  gas_processing_petro   \n1    h2_scrub_limit  R12_AFR      2015  R12_AFR  gas_processing_petro   \n2    h2_scrub_limit  R12_AFR      2020  R12_AFR  gas_processing_petro   \n3    h2_scrub_limit  R12_AFR      2025  R12_AFR  gas_processing_petro   \n4    h2_scrub_limit  R12_AFR      2030  R12_AFR  gas_processing_petro   \n..              ...      ...       ...      ...                   ...   \n191  h2_scrub_limit  R12_CHN      2070  R12_CHN  gas_processing_petro   \n192  h2_scrub_limit  R12_CHN      2080  R12_CHN  gas_processing_petro   \n193  h2_scrub_limit  R12_CHN      2090  R12_CHN  gas_processing_petro   \n194  h2_scrub_limit  R12_CHN      2100  R12_CHN  gas_processing_petro   \n195  h2_scrub_limit  R12_CHN      2110  R12_CHN  gas_processing_petro   \n\n     year_act mode     value unit  \n0        2010   M1 -0.641932  ???  \n1        2015   M1 -0.641932  ???  \n2        2020   M1 -0.641932  ???  \n3        2025   M1 -0.641932  ???  \n4        2030   M1 -0.641932  ???  \n..        ...  ...       ...  ...  \n191      2070   M1 -0.641932  ???  \n192      2080   M1 -0.641932  ???  \n193      2090   M1 -0.641932  ???  \n194      2100   M1 -0.641932  ???  \n195      2110   M1 -0.641932  ???  \n\n[196 rows x 9 columns]",
      "text/html": "<div>\n<style scoped>\n    .dataframe tbody tr th:only-of-type {\n        vertical-align: middle;\n    }\n\n    .dataframe tbody tr th {\n        vertical-align: top;\n    }\n\n    .dataframe thead th {\n        text-align: right;\n    }\n</style>\n<table border=\"1\" class=\"dataframe\">\n  <thead>\n    <tr style=\"text-align: right;\">\n      <th></th>\n      <th>relation</th>\n      <th>node_rel</th>\n      <th>year_rel</th>\n      <th>node_loc</th>\n      <th>technology</th>\n      <th>year_act</th>\n      <th>mode</th>\n      <th>value</th>\n      <th>unit</th>\n    </tr>\n  </thead>\n  <tbody>\n    <tr>\n      <th>0</th>\n      <td>h2_scrub_limit</td>\n      <td>R12_AFR</td>\n      <td>2010</td>\n      <td>R12_AFR</td>\n      <td>gas_processing_petro</td>\n      <td>2010</td>\n      <td>M1</td>\n      <td>-0.641932</td>\n      <td>???</td>\n    </tr>\n    <tr>\n      <th>1</th>\n      <td>h2_scrub_limit</td>\n      <td>R12_AFR</td>\n      <td>2015</td>\n      <td>R12_AFR</td>\n      <td>gas_processing_petro</td>\n      <td>2015</td>\n      <td>M1</td>\n      <td>-0.641932</td>\n      <td>???</td>\n    </tr>\n    <tr>\n      <th>2</th>\n      <td>h2_scrub_limit</td>\n      <td>R12_AFR</td>\n      <td>2020</td>\n      <td>R12_AFR</td>\n      <td>gas_processing_petro</td>\n      <td>2020</td>\n      <td>M1</td>\n      <td>-0.641932</td>\n      <td>???</td>\n    </tr>\n    <tr>\n      <th>3</th>\n      <td>h2_scrub_limit</td>\n      <td>R12_AFR</td>\n      <td>2025</td>\n      <td>R12_AFR</td>\n      <td>gas_processing_petro</td>\n      <td>2025</td>\n      <td>M1</td>\n      <td>-0.641932</td>\n      <td>???</td>\n    </tr>\n    <tr>\n      <th>4</th>\n      <td>h2_scrub_limit</td>\n      <td>R12_AFR</td>\n      <td>2030</td>\n      <td>R12_AFR</td>\n      <td>gas_processing_petro</td>\n      <td>2030</td>\n      <td>M1</td>\n      <td>-0.641932</td>\n      <td>???</td>\n    </tr>\n    <tr>\n      <th>...</th>\n      <td>...</td>\n      <td>...</td>\n      <td>...</td>\n      <td>...</td>\n      <td>...</td>\n      <td>...</td>\n      <td>...</td>\n      <td>...</td>\n      <td>...</td>\n    </tr>\n    <tr>\n      <th>191</th>\n      <td>h2_scrub_limit</td>\n      <td>R12_CHN</td>\n      <td>2070</td>\n      <td>R12_CHN</td>\n      <td>gas_processing_petro</td>\n      <td>2070</td>\n      <td>M1</td>\n      <td>-0.641932</td>\n      <td>???</td>\n    </tr>\n    <tr>\n      <th>192</th>\n      <td>h2_scrub_limit</td>\n      <td>R12_CHN</td>\n      <td>2080</td>\n      <td>R12_CHN</td>\n      <td>gas_processing_petro</td>\n      <td>2080</td>\n      <td>M1</td>\n      <td>-0.641932</td>\n      <td>???</td>\n    </tr>\n    <tr>\n      <th>193</th>\n      <td>h2_scrub_limit</td>\n      <td>R12_CHN</td>\n      <td>2090</td>\n      <td>R12_CHN</td>\n      <td>gas_processing_petro</td>\n      <td>2090</td>\n      <td>M1</td>\n      <td>-0.641932</td>\n      <td>???</td>\n    </tr>\n    <tr>\n      <th>194</th>\n      <td>h2_scrub_limit</td>\n      <td>R12_CHN</td>\n      <td>2100</td>\n      <td>R12_CHN</td>\n      <td>gas_processing_petro</td>\n      <td>2100</td>\n      <td>M1</td>\n      <td>-0.641932</td>\n      <td>???</td>\n    </tr>\n    <tr>\n      <th>195</th>\n      <td>h2_scrub_limit</td>\n      <td>R12_CHN</td>\n      <td>2110</td>\n      <td>R12_CHN</td>\n      <td>gas_processing_petro</td>\n      <td>2110</td>\n      <td>M1</td>\n      <td>-0.641932</td>\n      <td>???</td>\n    </tr>\n  </tbody>\n</table>\n<p>196 rows × 9 columns</p>\n</div>"
     },
     "execution_count": 16,
     "metadata": {},
     "output_type": "execute_result"
    }
   ],
   "source": [
    "df[\"value\"] = -(1.33181 * 0.482)\n",
    "df[\"technology\"] = \"gas_processing_petro\"\n",
    "df"
   ],
   "metadata": {
    "collapsed": false
   }
  },
  {
   "cell_type": "code",
   "execution_count": 17,
   "outputs": [],
   "source": [
    "sc_clone.check_out()"
   ],
   "metadata": {
    "collapsed": false
   }
  },
  {
   "cell_type": "code",
   "execution_count": 18,
   "outputs": [],
   "source": [
    "sc_clone.add_par(\"relation_activity\", df)"
   ],
   "metadata": {
    "collapsed": false
   }
  },
  {
   "cell_type": "code",
   "execution_count": 19,
   "outputs": [],
   "source": [
    "sc_clone.commit(\"add gas_processing_petro to h2_scrub_limit\")"
   ],
   "metadata": {
    "collapsed": false
   }
  },
  {
   "cell_type": "code",
   "execution_count": 20,
   "outputs": [
    {
     "data": {
      "text/plain": "'NoPolicy_petro_thesis_2_macro_w_ENGAGE_fixes'"
     },
     "execution_count": 20,
     "metadata": {},
     "output_type": "execute_result"
    }
   ],
   "source": [
    "sc_clone.scenario"
   ],
   "metadata": {
    "collapsed": false
   }
  },
  {
   "cell_type": "code",
   "execution_count": 21,
   "outputs": [
    {
     "data": {
      "text/plain": "           relation node_rel  year_rel node_loc            technology  \\\n0    h2_scrub_limit  R12_AFR      2010  R12_AFR  gas_processing_petro   \n1    h2_scrub_limit  R12_AFR      2015  R12_AFR  gas_processing_petro   \n2    h2_scrub_limit  R12_AFR      2020  R12_AFR  gas_processing_petro   \n3    h2_scrub_limit  R12_AFR      2025  R12_AFR  gas_processing_petro   \n4    h2_scrub_limit  R12_AFR      2030  R12_AFR  gas_processing_petro   \n..              ...      ...       ...      ...                   ...   \n191  h2_scrub_limit  R12_CHN      2070  R12_CHN  gas_processing_petro   \n192  h2_scrub_limit  R12_CHN      2080  R12_CHN  gas_processing_petro   \n193  h2_scrub_limit  R12_CHN      2090  R12_CHN  gas_processing_petro   \n194  h2_scrub_limit  R12_CHN      2100  R12_CHN  gas_processing_petro   \n195  h2_scrub_limit  R12_CHN      2110  R12_CHN  gas_processing_petro   \n\n     year_act mode     value unit  \n0        2010   M1 -0.641932  ???  \n1        2015   M1 -0.641932  ???  \n2        2020   M1 -0.641932  ???  \n3        2025   M1 -0.641932  ???  \n4        2030   M1 -0.641932  ???  \n..        ...  ...       ...  ...  \n191      2070   M1 -0.641932  ???  \n192      2080   M1 -0.641932  ???  \n193      2090   M1 -0.641932  ???  \n194      2100   M1 -0.641932  ???  \n195      2110   M1 -0.641932  ???  \n\n[196 rows x 9 columns]",
      "text/html": "<div>\n<style scoped>\n    .dataframe tbody tr th:only-of-type {\n        vertical-align: middle;\n    }\n\n    .dataframe tbody tr th {\n        vertical-align: top;\n    }\n\n    .dataframe thead th {\n        text-align: right;\n    }\n</style>\n<table border=\"1\" class=\"dataframe\">\n  <thead>\n    <tr style=\"text-align: right;\">\n      <th></th>\n      <th>relation</th>\n      <th>node_rel</th>\n      <th>year_rel</th>\n      <th>node_loc</th>\n      <th>technology</th>\n      <th>year_act</th>\n      <th>mode</th>\n      <th>value</th>\n      <th>unit</th>\n    </tr>\n  </thead>\n  <tbody>\n    <tr>\n      <th>0</th>\n      <td>h2_scrub_limit</td>\n      <td>R12_AFR</td>\n      <td>2010</td>\n      <td>R12_AFR</td>\n      <td>gas_processing_petro</td>\n      <td>2010</td>\n      <td>M1</td>\n      <td>-0.641932</td>\n      <td>???</td>\n    </tr>\n    <tr>\n      <th>1</th>\n      <td>h2_scrub_limit</td>\n      <td>R12_AFR</td>\n      <td>2015</td>\n      <td>R12_AFR</td>\n      <td>gas_processing_petro</td>\n      <td>2015</td>\n      <td>M1</td>\n      <td>-0.641932</td>\n      <td>???</td>\n    </tr>\n    <tr>\n      <th>2</th>\n      <td>h2_scrub_limit</td>\n      <td>R12_AFR</td>\n      <td>2020</td>\n      <td>R12_AFR</td>\n      <td>gas_processing_petro</td>\n      <td>2020</td>\n      <td>M1</td>\n      <td>-0.641932</td>\n      <td>???</td>\n    </tr>\n    <tr>\n      <th>3</th>\n      <td>h2_scrub_limit</td>\n      <td>R12_AFR</td>\n      <td>2025</td>\n      <td>R12_AFR</td>\n      <td>gas_processing_petro</td>\n      <td>2025</td>\n      <td>M1</td>\n      <td>-0.641932</td>\n      <td>???</td>\n    </tr>\n    <tr>\n      <th>4</th>\n      <td>h2_scrub_limit</td>\n      <td>R12_AFR</td>\n      <td>2030</td>\n      <td>R12_AFR</td>\n      <td>gas_processing_petro</td>\n      <td>2030</td>\n      <td>M1</td>\n      <td>-0.641932</td>\n      <td>???</td>\n    </tr>\n    <tr>\n      <th>...</th>\n      <td>...</td>\n      <td>...</td>\n      <td>...</td>\n      <td>...</td>\n      <td>...</td>\n      <td>...</td>\n      <td>...</td>\n      <td>...</td>\n      <td>...</td>\n    </tr>\n    <tr>\n      <th>191</th>\n      <td>h2_scrub_limit</td>\n      <td>R12_CHN</td>\n      <td>2070</td>\n      <td>R12_CHN</td>\n      <td>gas_processing_petro</td>\n      <td>2070</td>\n      <td>M1</td>\n      <td>-0.641932</td>\n      <td>???</td>\n    </tr>\n    <tr>\n      <th>192</th>\n      <td>h2_scrub_limit</td>\n      <td>R12_CHN</td>\n      <td>2080</td>\n      <td>R12_CHN</td>\n      <td>gas_processing_petro</td>\n      <td>2080</td>\n      <td>M1</td>\n      <td>-0.641932</td>\n      <td>???</td>\n    </tr>\n    <tr>\n      <th>193</th>\n      <td>h2_scrub_limit</td>\n      <td>R12_CHN</td>\n      <td>2090</td>\n      <td>R12_CHN</td>\n      <td>gas_processing_petro</td>\n      <td>2090</td>\n      <td>M1</td>\n      <td>-0.641932</td>\n      <td>???</td>\n    </tr>\n    <tr>\n      <th>194</th>\n      <td>h2_scrub_limit</td>\n      <td>R12_CHN</td>\n      <td>2100</td>\n      <td>R12_CHN</td>\n      <td>gas_processing_petro</td>\n      <td>2100</td>\n      <td>M1</td>\n      <td>-0.641932</td>\n      <td>???</td>\n    </tr>\n    <tr>\n      <th>195</th>\n      <td>h2_scrub_limit</td>\n      <td>R12_CHN</td>\n      <td>2110</td>\n      <td>R12_CHN</td>\n      <td>gas_processing_petro</td>\n      <td>2110</td>\n      <td>M1</td>\n      <td>-0.641932</td>\n      <td>???</td>\n    </tr>\n  </tbody>\n</table>\n<p>196 rows × 9 columns</p>\n</div>"
     },
     "execution_count": 21,
     "metadata": {},
     "output_type": "execute_result"
    }
   ],
   "source": [
    "sc_clone.par(\"relation_activity\", filters={\"relation\":\"h2_scrub_limit\", \"technology\":\"gas_processing_petro\"})"
   ],
   "metadata": {
    "collapsed": false
   }
  },
  {
   "cell_type": "code",
   "execution_count": 13,
   "outputs": [
    {
     "data": {
      "text/plain": "           relation node_rel  year_rel node_loc technology  year_act mode  \\\n160  h2_scrub_limit  R12_WEU      1990  R12_WEU    gas_bio      1990   M1   \n161  h2_scrub_limit  R12_WEU      1995  R12_WEU    gas_bio      1995   M1   \n162  h2_scrub_limit  R12_WEU      2000  R12_WEU    gas_bio      2000   M1   \n163  h2_scrub_limit  R12_WEU      2005  R12_WEU    gas_bio      2005   M1   \n164  h2_scrub_limit  R12_WEU      2010  R12_WEU    gas_bio      2010   M1   \n165  h2_scrub_limit  R12_WEU      2015  R12_WEU    gas_bio      2015   M1   \n166  h2_scrub_limit  R12_WEU      2020  R12_WEU    gas_bio      2020   M1   \n167  h2_scrub_limit  R12_WEU      2025  R12_WEU    gas_bio      2025   M1   \n168  h2_scrub_limit  R12_WEU      2030  R12_WEU    gas_bio      2030   M1   \n169  h2_scrub_limit  R12_WEU      2035  R12_WEU    gas_bio      2035   M1   \n170  h2_scrub_limit  R12_WEU      2040  R12_WEU    gas_bio      2040   M1   \n171  h2_scrub_limit  R12_WEU      2045  R12_WEU    gas_bio      2045   M1   \n172  h2_scrub_limit  R12_WEU      2050  R12_WEU    gas_bio      2050   M1   \n173  h2_scrub_limit  R12_WEU      2055  R12_WEU    gas_bio      2055   M1   \n174  h2_scrub_limit  R12_WEU      2060  R12_WEU    gas_bio      2060   M1   \n175  h2_scrub_limit  R12_WEU      2070  R12_WEU    gas_bio      2070   M1   \n176  h2_scrub_limit  R12_WEU      2080  R12_WEU    gas_bio      2080   M1   \n177  h2_scrub_limit  R12_WEU      2090  R12_WEU    gas_bio      2090   M1   \n178  h2_scrub_limit  R12_WEU      2100  R12_WEU    gas_bio      2100   M1   \n179  h2_scrub_limit  R12_WEU      2110  R12_WEU    gas_bio      2110   M1   \n\n        value unit  \n160 -0.537884  ???  \n161 -0.531719  ???  \n162 -0.525694  ???  \n163 -0.519804  ???  \n164 -0.514044  ???  \n165 -0.508472  ???  \n166 -0.502900  ???  \n167 -0.497564  ???  \n168 -0.492228  ???  \n169 -0.487114  ???  \n170 -0.482000  ???  \n171 -0.482000  ???  \n172 -0.482000  ???  \n173 -0.482000  ???  \n174 -0.482000  ???  \n175 -0.482000  ???  \n176 -0.482000  ???  \n177 -0.482000  ???  \n178 -0.482000  ???  \n179 -0.482000  ???  ",
      "text/html": "<div>\n<style scoped>\n    .dataframe tbody tr th:only-of-type {\n        vertical-align: middle;\n    }\n\n    .dataframe tbody tr th {\n        vertical-align: top;\n    }\n\n    .dataframe thead th {\n        text-align: right;\n    }\n</style>\n<table border=\"1\" class=\"dataframe\">\n  <thead>\n    <tr style=\"text-align: right;\">\n      <th></th>\n      <th>relation</th>\n      <th>node_rel</th>\n      <th>year_rel</th>\n      <th>node_loc</th>\n      <th>technology</th>\n      <th>year_act</th>\n      <th>mode</th>\n      <th>value</th>\n      <th>unit</th>\n    </tr>\n  </thead>\n  <tbody>\n    <tr>\n      <th>160</th>\n      <td>h2_scrub_limit</td>\n      <td>R12_WEU</td>\n      <td>1990</td>\n      <td>R12_WEU</td>\n      <td>gas_bio</td>\n      <td>1990</td>\n      <td>M1</td>\n      <td>-0.537884</td>\n      <td>???</td>\n    </tr>\n    <tr>\n      <th>161</th>\n      <td>h2_scrub_limit</td>\n      <td>R12_WEU</td>\n      <td>1995</td>\n      <td>R12_WEU</td>\n      <td>gas_bio</td>\n      <td>1995</td>\n      <td>M1</td>\n      <td>-0.531719</td>\n      <td>???</td>\n    </tr>\n    <tr>\n      <th>162</th>\n      <td>h2_scrub_limit</td>\n      <td>R12_WEU</td>\n      <td>2000</td>\n      <td>R12_WEU</td>\n      <td>gas_bio</td>\n      <td>2000</td>\n      <td>M1</td>\n      <td>-0.525694</td>\n      <td>???</td>\n    </tr>\n    <tr>\n      <th>163</th>\n      <td>h2_scrub_limit</td>\n      <td>R12_WEU</td>\n      <td>2005</td>\n      <td>R12_WEU</td>\n      <td>gas_bio</td>\n      <td>2005</td>\n      <td>M1</td>\n      <td>-0.519804</td>\n      <td>???</td>\n    </tr>\n    <tr>\n      <th>164</th>\n      <td>h2_scrub_limit</td>\n      <td>R12_WEU</td>\n      <td>2010</td>\n      <td>R12_WEU</td>\n      <td>gas_bio</td>\n      <td>2010</td>\n      <td>M1</td>\n      <td>-0.514044</td>\n      <td>???</td>\n    </tr>\n    <tr>\n      <th>165</th>\n      <td>h2_scrub_limit</td>\n      <td>R12_WEU</td>\n      <td>2015</td>\n      <td>R12_WEU</td>\n      <td>gas_bio</td>\n      <td>2015</td>\n      <td>M1</td>\n      <td>-0.508472</td>\n      <td>???</td>\n    </tr>\n    <tr>\n      <th>166</th>\n      <td>h2_scrub_limit</td>\n      <td>R12_WEU</td>\n      <td>2020</td>\n      <td>R12_WEU</td>\n      <td>gas_bio</td>\n      <td>2020</td>\n      <td>M1</td>\n      <td>-0.502900</td>\n      <td>???</td>\n    </tr>\n    <tr>\n      <th>167</th>\n      <td>h2_scrub_limit</td>\n      <td>R12_WEU</td>\n      <td>2025</td>\n      <td>R12_WEU</td>\n      <td>gas_bio</td>\n      <td>2025</td>\n      <td>M1</td>\n      <td>-0.497564</td>\n      <td>???</td>\n    </tr>\n    <tr>\n      <th>168</th>\n      <td>h2_scrub_limit</td>\n      <td>R12_WEU</td>\n      <td>2030</td>\n      <td>R12_WEU</td>\n      <td>gas_bio</td>\n      <td>2030</td>\n      <td>M1</td>\n      <td>-0.492228</td>\n      <td>???</td>\n    </tr>\n    <tr>\n      <th>169</th>\n      <td>h2_scrub_limit</td>\n      <td>R12_WEU</td>\n      <td>2035</td>\n      <td>R12_WEU</td>\n      <td>gas_bio</td>\n      <td>2035</td>\n      <td>M1</td>\n      <td>-0.487114</td>\n      <td>???</td>\n    </tr>\n    <tr>\n      <th>170</th>\n      <td>h2_scrub_limit</td>\n      <td>R12_WEU</td>\n      <td>2040</td>\n      <td>R12_WEU</td>\n      <td>gas_bio</td>\n      <td>2040</td>\n      <td>M1</td>\n      <td>-0.482000</td>\n      <td>???</td>\n    </tr>\n    <tr>\n      <th>171</th>\n      <td>h2_scrub_limit</td>\n      <td>R12_WEU</td>\n      <td>2045</td>\n      <td>R12_WEU</td>\n      <td>gas_bio</td>\n      <td>2045</td>\n      <td>M1</td>\n      <td>-0.482000</td>\n      <td>???</td>\n    </tr>\n    <tr>\n      <th>172</th>\n      <td>h2_scrub_limit</td>\n      <td>R12_WEU</td>\n      <td>2050</td>\n      <td>R12_WEU</td>\n      <td>gas_bio</td>\n      <td>2050</td>\n      <td>M1</td>\n      <td>-0.482000</td>\n      <td>???</td>\n    </tr>\n    <tr>\n      <th>173</th>\n      <td>h2_scrub_limit</td>\n      <td>R12_WEU</td>\n      <td>2055</td>\n      <td>R12_WEU</td>\n      <td>gas_bio</td>\n      <td>2055</td>\n      <td>M1</td>\n      <td>-0.482000</td>\n      <td>???</td>\n    </tr>\n    <tr>\n      <th>174</th>\n      <td>h2_scrub_limit</td>\n      <td>R12_WEU</td>\n      <td>2060</td>\n      <td>R12_WEU</td>\n      <td>gas_bio</td>\n      <td>2060</td>\n      <td>M1</td>\n      <td>-0.482000</td>\n      <td>???</td>\n    </tr>\n    <tr>\n      <th>175</th>\n      <td>h2_scrub_limit</td>\n      <td>R12_WEU</td>\n      <td>2070</td>\n      <td>R12_WEU</td>\n      <td>gas_bio</td>\n      <td>2070</td>\n      <td>M1</td>\n      <td>-0.482000</td>\n      <td>???</td>\n    </tr>\n    <tr>\n      <th>176</th>\n      <td>h2_scrub_limit</td>\n      <td>R12_WEU</td>\n      <td>2080</td>\n      <td>R12_WEU</td>\n      <td>gas_bio</td>\n      <td>2080</td>\n      <td>M1</td>\n      <td>-0.482000</td>\n      <td>???</td>\n    </tr>\n    <tr>\n      <th>177</th>\n      <td>h2_scrub_limit</td>\n      <td>R12_WEU</td>\n      <td>2090</td>\n      <td>R12_WEU</td>\n      <td>gas_bio</td>\n      <td>2090</td>\n      <td>M1</td>\n      <td>-0.482000</td>\n      <td>???</td>\n    </tr>\n    <tr>\n      <th>178</th>\n      <td>h2_scrub_limit</td>\n      <td>R12_WEU</td>\n      <td>2100</td>\n      <td>R12_WEU</td>\n      <td>gas_bio</td>\n      <td>2100</td>\n      <td>M1</td>\n      <td>-0.482000</td>\n      <td>???</td>\n    </tr>\n    <tr>\n      <th>179</th>\n      <td>h2_scrub_limit</td>\n      <td>R12_WEU</td>\n      <td>2110</td>\n      <td>R12_WEU</td>\n      <td>gas_bio</td>\n      <td>2110</td>\n      <td>M1</td>\n      <td>-0.482000</td>\n      <td>???</td>\n    </tr>\n  </tbody>\n</table>\n</div>"
     },
     "execution_count": 13,
     "metadata": {},
     "output_type": "execute_result"
    }
   ],
   "source": [
    "df[df[\"node_rel\"]==\"R12_WEU\"]"
   ],
   "metadata": {
    "collapsed": false
   }
  },
  {
   "cell_type": "code",
   "execution_count": 65,
   "outputs": [
    {
     "data": {
      "text/plain": "True"
     },
     "execution_count": 65,
     "metadata": {},
     "output_type": "execute_result"
    }
   ],
   "source": [
    "scenario.has_solution()"
   ],
   "metadata": {
    "collapsed": false
   }
  },
  {
   "cell_type": "code",
   "execution_count": 6,
   "outputs": [
    {
     "data": {
      "text/plain": "Empty DataFrame\nColumns: [node_loc, technology, year_act, mode, time, value, unit]\nIndex: []",
      "text/html": "<div>\n<style scoped>\n    .dataframe tbody tr th:only-of-type {\n        vertical-align: middle;\n    }\n\n    .dataframe tbody tr th {\n        vertical-align: top;\n    }\n\n    .dataframe thead th {\n        text-align: right;\n    }\n</style>\n<table border=\"1\" class=\"dataframe\">\n  <thead>\n    <tr style=\"text-align: right;\">\n      <th></th>\n      <th>node_loc</th>\n      <th>technology</th>\n      <th>year_act</th>\n      <th>mode</th>\n      <th>time</th>\n      <th>value</th>\n      <th>unit</th>\n    </tr>\n  </thead>\n  <tbody>\n  </tbody>\n</table>\n</div>"
     },
     "execution_count": 6,
     "metadata": {},
     "output_type": "execute_result"
    }
   ],
   "source": [
    "df = scenario.par(\"historical_activity\", filters={\"technology\":\"meth_coal\", \"mode\":\"M1\"})\n",
    "df"
   ],
   "metadata": {
    "collapsed": false
   }
  },
  {
   "cell_type": "code",
   "execution_count": 3,
   "outputs": [],
   "source": [
    "mode_pars_list = [x for x in scenario.par_list() if \"mode\" in scenario.idx_sets(x)]\n",
    "meth_tecs_list = [\"meth_bio\",\n",
    "                    \"meth_bio_ccs\",\n",
    "                    \"meth_h2\",\n",
    "                    \"meth_coal\",\n",
    "                    \"meth_coal_ccs\"\n",
    "                    \"meth_ng\",\n",
    "                    \"meth_ng_ccs\",\n",
    "                    \"meth_bal\",\n",
    "                    \"meth_imp\",\n",
    "                    \"meth_trd\",\n",
    "                    \"meth_exp\",\n",
    "                    \"meth_t_d\"]\n",
    "scenario.remove_solution()\n",
    "scenario.check_out()\n",
    "for p in mode_pars_list:\n",
    "    df = scenario.par(p, filters={\"technology\":meth_tecs_list})\n",
    "    scenario.remove_par(p, df)\n",
    "scenario.commit(\"remove M1 mode of meth tecs\")"
   ],
   "metadata": {
    "collapsed": false
   }
  },
  {
   "cell_type": "code",
   "execution_count": 8,
   "outputs": [
    {
     "data": {
      "text/plain": "array(['eth_bio', 'eth_bio_ccs', 'eth_exp', 'meth_coal', 'meth_coal_ccs',\n       'meth_ng', 'meth_ng_ccs', 'meth_exp'], dtype=object)"
     },
     "execution_count": 8,
     "metadata": {},
     "output_type": "execute_result"
    }
   ],
   "source": [
    "scenario.par(\"relation_activity\", filters={\"relation\":\"meth_exp_limit\"})[\"technology\"].unique()"
   ],
   "metadata": {
    "collapsed": false
   }
  },
  {
   "cell_type": "code",
   "execution_count": 9,
   "outputs": [],
   "source": [
    "df = scenario.var(\"ACT\")"
   ],
   "metadata": {
    "collapsed": false
   }
  },
  {
   "cell_type": "code",
   "execution_count": 13,
   "outputs": [],
   "source": [
    "df = df[df[\"lvl\"]!=0]"
   ],
   "metadata": {
    "collapsed": false
   }
  },
  {
   "cell_type": "code",
   "execution_count": 14,
   "outputs": [
    {
     "data": {
      "text/plain": "       node_loc           technology  year_vtg  year_act           mode  time  \\\n26481   R12_AFR  steam_cracker_petro      1995      2020     atm_gasoil  year   \n26499   R12_AFR  steam_cracker_petro      2000      2020  vacuum_gasoil  year   \n26503   R12_AFR  steam_cracker_petro      2000      2025     atm_gasoil  year   \n26518   R12_AFR  steam_cracker_petro      2005      2020  vacuum_gasoil  year   \n26522   R12_AFR  steam_cracker_petro      2005      2025     atm_gasoil  year   \n...         ...                  ...       ...       ...            ...   ...   \n356981  R12_CHN  steam_cracker_petro      2090      2110  vacuum_gasoil  year   \n356985  R12_CHN  steam_cracker_petro      2100      2100     atm_gasoil  year   \n356991  R12_CHN  steam_cracker_petro      2100      2110  vacuum_gasoil  year   \n356995  R12_CHN  steam_cracker_petro      2110      2110     atm_gasoil  year   \n356996  R12_CHN  steam_cracker_petro      2110      2110  vacuum_gasoil  year   \n\n               lvl  mrg  \n26481     1.720463  0.0  \n26499     3.375000  0.0  \n26503     3.375000  0.0  \n26518     1.125000  0.0  \n26522     1.125000  0.0  \n...            ...  ...  \n356981  123.553838  0.0  \n356985   73.377037  0.0  \n356991   73.377037  0.0  \n356995  139.193010  0.0  \n356996   83.698062  0.0  \n\n[641 rows x 8 columns]",
      "text/html": "<div>\n<style scoped>\n    .dataframe tbody tr th:only-of-type {\n        vertical-align: middle;\n    }\n\n    .dataframe tbody tr th {\n        vertical-align: top;\n    }\n\n    .dataframe thead th {\n        text-align: right;\n    }\n</style>\n<table border=\"1\" class=\"dataframe\">\n  <thead>\n    <tr style=\"text-align: right;\">\n      <th></th>\n      <th>node_loc</th>\n      <th>technology</th>\n      <th>year_vtg</th>\n      <th>year_act</th>\n      <th>mode</th>\n      <th>time</th>\n      <th>lvl</th>\n      <th>mrg</th>\n    </tr>\n  </thead>\n  <tbody>\n    <tr>\n      <th>26481</th>\n      <td>R12_AFR</td>\n      <td>steam_cracker_petro</td>\n      <td>1995</td>\n      <td>2020</td>\n      <td>atm_gasoil</td>\n      <td>year</td>\n      <td>1.720463</td>\n      <td>0.0</td>\n    </tr>\n    <tr>\n      <th>26499</th>\n      <td>R12_AFR</td>\n      <td>steam_cracker_petro</td>\n      <td>2000</td>\n      <td>2020</td>\n      <td>vacuum_gasoil</td>\n      <td>year</td>\n      <td>3.375000</td>\n      <td>0.0</td>\n    </tr>\n    <tr>\n      <th>26503</th>\n      <td>R12_AFR</td>\n      <td>steam_cracker_petro</td>\n      <td>2000</td>\n      <td>2025</td>\n      <td>atm_gasoil</td>\n      <td>year</td>\n      <td>3.375000</td>\n      <td>0.0</td>\n    </tr>\n    <tr>\n      <th>26518</th>\n      <td>R12_AFR</td>\n      <td>steam_cracker_petro</td>\n      <td>2005</td>\n      <td>2020</td>\n      <td>vacuum_gasoil</td>\n      <td>year</td>\n      <td>1.125000</td>\n      <td>0.0</td>\n    </tr>\n    <tr>\n      <th>26522</th>\n      <td>R12_AFR</td>\n      <td>steam_cracker_petro</td>\n      <td>2005</td>\n      <td>2025</td>\n      <td>atm_gasoil</td>\n      <td>year</td>\n      <td>1.125000</td>\n      <td>0.0</td>\n    </tr>\n    <tr>\n      <th>...</th>\n      <td>...</td>\n      <td>...</td>\n      <td>...</td>\n      <td>...</td>\n      <td>...</td>\n      <td>...</td>\n      <td>...</td>\n      <td>...</td>\n    </tr>\n    <tr>\n      <th>356981</th>\n      <td>R12_CHN</td>\n      <td>steam_cracker_petro</td>\n      <td>2090</td>\n      <td>2110</td>\n      <td>vacuum_gasoil</td>\n      <td>year</td>\n      <td>123.553838</td>\n      <td>0.0</td>\n    </tr>\n    <tr>\n      <th>356985</th>\n      <td>R12_CHN</td>\n      <td>steam_cracker_petro</td>\n      <td>2100</td>\n      <td>2100</td>\n      <td>atm_gasoil</td>\n      <td>year</td>\n      <td>73.377037</td>\n      <td>0.0</td>\n    </tr>\n    <tr>\n      <th>356991</th>\n      <td>R12_CHN</td>\n      <td>steam_cracker_petro</td>\n      <td>2100</td>\n      <td>2110</td>\n      <td>vacuum_gasoil</td>\n      <td>year</td>\n      <td>73.377037</td>\n      <td>0.0</td>\n    </tr>\n    <tr>\n      <th>356995</th>\n      <td>R12_CHN</td>\n      <td>steam_cracker_petro</td>\n      <td>2110</td>\n      <td>2110</td>\n      <td>atm_gasoil</td>\n      <td>year</td>\n      <td>139.193010</td>\n      <td>0.0</td>\n    </tr>\n    <tr>\n      <th>356996</th>\n      <td>R12_CHN</td>\n      <td>steam_cracker_petro</td>\n      <td>2110</td>\n      <td>2110</td>\n      <td>vacuum_gasoil</td>\n      <td>year</td>\n      <td>83.698062</td>\n      <td>0.0</td>\n    </tr>\n  </tbody>\n</table>\n<p>641 rows × 8 columns</p>\n</div>"
     },
     "execution_count": 14,
     "metadata": {},
     "output_type": "execute_result"
    }
   ],
   "source": [
    "df[df[\"technology\"]==\"steam_cracker_petro\"]"
   ],
   "metadata": {
    "collapsed": false
   }
  },
  {
   "cell_type": "code",
   "execution_count": 43,
   "outputs": [
    {
     "data": {
      "text/plain": "          relation  node_rel  year_rel  node_loc    technology  year_act  \\\n0   meth_exp_limit   R12_AFR      2020   R12_AFR  meth_bio_ccs      2020   \n1   meth_exp_limit   R12_AFR      2025   R12_AFR  meth_bio_ccs      2025   \n2   meth_exp_limit  R12_RCPA      2020  R12_RCPA  meth_bio_ccs      2020   \n3   meth_exp_limit  R12_RCPA      2025  R12_RCPA  meth_bio_ccs      2025   \n4   meth_exp_limit   R12_EEU      2020   R12_EEU  meth_bio_ccs      2020   \n5   meth_exp_limit   R12_EEU      2025   R12_EEU  meth_bio_ccs      2025   \n6   meth_exp_limit   R12_FSU      2020   R12_FSU  meth_bio_ccs      2020   \n7   meth_exp_limit   R12_FSU      2025   R12_FSU  meth_bio_ccs      2025   \n8   meth_exp_limit   R12_LAM      2020   R12_LAM  meth_bio_ccs      2020   \n9   meth_exp_limit   R12_LAM      2025   R12_LAM  meth_bio_ccs      2025   \n10  meth_exp_limit   R12_MEA      2020   R12_MEA  meth_bio_ccs      2020   \n11  meth_exp_limit   R12_MEA      2025   R12_MEA  meth_bio_ccs      2025   \n12  meth_exp_limit   R12_NAM      2020   R12_NAM  meth_bio_ccs      2020   \n13  meth_exp_limit   R12_NAM      2025   R12_NAM  meth_bio_ccs      2025   \n14  meth_exp_limit   R12_PAO      2020   R12_PAO  meth_bio_ccs      2020   \n15  meth_exp_limit   R12_PAO      2025   R12_PAO  meth_bio_ccs      2025   \n16  meth_exp_limit   R12_PAS      2020   R12_PAS  meth_bio_ccs      2020   \n17  meth_exp_limit   R12_PAS      2025   R12_PAS  meth_bio_ccs      2025   \n18  meth_exp_limit   R12_SAS      2020   R12_SAS  meth_bio_ccs      2020   \n19  meth_exp_limit   R12_SAS      2025   R12_SAS  meth_bio_ccs      2025   \n20  meth_exp_limit   R12_WEU      2020   R12_WEU  meth_bio_ccs      2020   \n21  meth_exp_limit   R12_WEU      2025   R12_WEU  meth_bio_ccs      2025   \n22  meth_exp_limit   R12_CHN      2020   R12_CHN  meth_bio_ccs      2020   \n23  meth_exp_limit   R12_CHN      2025   R12_CHN  meth_bio_ccs      2025   \n24  meth_exp_limit   R12_AFR      2020   R12_AFR  meth_bio_ccs      2020   \n25  meth_exp_limit   R12_AFR      2025   R12_AFR  meth_bio_ccs      2025   \n26  meth_exp_limit  R12_RCPA      2020  R12_RCPA  meth_bio_ccs      2020   \n27  meth_exp_limit  R12_RCPA      2025  R12_RCPA  meth_bio_ccs      2025   \n28  meth_exp_limit   R12_EEU      2020   R12_EEU  meth_bio_ccs      2020   \n29  meth_exp_limit   R12_EEU      2025   R12_EEU  meth_bio_ccs      2025   \n30  meth_exp_limit   R12_FSU      2020   R12_FSU  meth_bio_ccs      2020   \n31  meth_exp_limit   R12_FSU      2025   R12_FSU  meth_bio_ccs      2025   \n32  meth_exp_limit   R12_LAM      2020   R12_LAM  meth_bio_ccs      2020   \n33  meth_exp_limit   R12_LAM      2025   R12_LAM  meth_bio_ccs      2025   \n34  meth_exp_limit   R12_MEA      2020   R12_MEA  meth_bio_ccs      2020   \n35  meth_exp_limit   R12_MEA      2025   R12_MEA  meth_bio_ccs      2025   \n36  meth_exp_limit   R12_NAM      2020   R12_NAM  meth_bio_ccs      2020   \n37  meth_exp_limit   R12_NAM      2025   R12_NAM  meth_bio_ccs      2025   \n38  meth_exp_limit   R12_PAO      2020   R12_PAO  meth_bio_ccs      2020   \n39  meth_exp_limit   R12_PAO      2025   R12_PAO  meth_bio_ccs      2025   \n40  meth_exp_limit   R12_PAS      2020   R12_PAS  meth_bio_ccs      2020   \n41  meth_exp_limit   R12_PAS      2025   R12_PAS  meth_bio_ccs      2025   \n42  meth_exp_limit   R12_SAS      2020   R12_SAS  meth_bio_ccs      2020   \n43  meth_exp_limit   R12_SAS      2025   R12_SAS  meth_bio_ccs      2025   \n44  meth_exp_limit   R12_WEU      2020   R12_WEU  meth_bio_ccs      2020   \n45  meth_exp_limit   R12_WEU      2025   R12_WEU  meth_bio_ccs      2025   \n46  meth_exp_limit   R12_CHN      2020   R12_CHN  meth_bio_ccs      2020   \n47  meth_exp_limit   R12_CHN      2025   R12_CHN  meth_bio_ccs      2025   \n\n         mode  value unit  \n0        fuel    1.0  ???  \n1        fuel    1.0  ???  \n2        fuel    1.0  ???  \n3        fuel    1.0  ???  \n4        fuel    1.0  ???  \n5        fuel    1.0  ???  \n6        fuel    1.0  ???  \n7        fuel    1.0  ???  \n8        fuel    1.0  ???  \n9        fuel    1.0  ???  \n10       fuel    1.0  ???  \n11       fuel    1.0  ???  \n12       fuel    1.0  ???  \n13       fuel    1.0  ???  \n14       fuel    1.0  ???  \n15       fuel    1.0  ???  \n16       fuel    1.0  ???  \n17       fuel    1.0  ???  \n18       fuel    1.0  ???  \n19       fuel    1.0  ???  \n20       fuel    1.0  ???  \n21       fuel    1.0  ???  \n22       fuel    1.0  ???  \n23       fuel    1.0  ???  \n24  feedstock    1.0  ???  \n25  feedstock    1.0  ???  \n26  feedstock    1.0  ???  \n27  feedstock    1.0  ???  \n28  feedstock    1.0  ???  \n29  feedstock    1.0  ???  \n30  feedstock    1.0  ???  \n31  feedstock    1.0  ???  \n32  feedstock    1.0  ???  \n33  feedstock    1.0  ???  \n34  feedstock    1.0  ???  \n35  feedstock    1.0  ???  \n36  feedstock    1.0  ???  \n37  feedstock    1.0  ???  \n38  feedstock    1.0  ???  \n39  feedstock    1.0  ???  \n40  feedstock    1.0  ???  \n41  feedstock    1.0  ???  \n42  feedstock    1.0  ???  \n43  feedstock    1.0  ???  \n44  feedstock    1.0  ???  \n45  feedstock    1.0  ???  \n46  feedstock    1.0  ???  \n47  feedstock    1.0  ???  ",
      "text/html": "<div>\n<style scoped>\n    .dataframe tbody tr th:only-of-type {\n        vertical-align: middle;\n    }\n\n    .dataframe tbody tr th {\n        vertical-align: top;\n    }\n\n    .dataframe thead th {\n        text-align: right;\n    }\n</style>\n<table border=\"1\" class=\"dataframe\">\n  <thead>\n    <tr style=\"text-align: right;\">\n      <th></th>\n      <th>relation</th>\n      <th>node_rel</th>\n      <th>year_rel</th>\n      <th>node_loc</th>\n      <th>technology</th>\n      <th>year_act</th>\n      <th>mode</th>\n      <th>value</th>\n      <th>unit</th>\n    </tr>\n  </thead>\n  <tbody>\n    <tr>\n      <th>0</th>\n      <td>meth_exp_limit</td>\n      <td>R12_AFR</td>\n      <td>2020</td>\n      <td>R12_AFR</td>\n      <td>meth_bio_ccs</td>\n      <td>2020</td>\n      <td>fuel</td>\n      <td>1.0</td>\n      <td>???</td>\n    </tr>\n    <tr>\n      <th>1</th>\n      <td>meth_exp_limit</td>\n      <td>R12_AFR</td>\n      <td>2025</td>\n      <td>R12_AFR</td>\n      <td>meth_bio_ccs</td>\n      <td>2025</td>\n      <td>fuel</td>\n      <td>1.0</td>\n      <td>???</td>\n    </tr>\n    <tr>\n      <th>2</th>\n      <td>meth_exp_limit</td>\n      <td>R12_RCPA</td>\n      <td>2020</td>\n      <td>R12_RCPA</td>\n      <td>meth_bio_ccs</td>\n      <td>2020</td>\n      <td>fuel</td>\n      <td>1.0</td>\n      <td>???</td>\n    </tr>\n    <tr>\n      <th>3</th>\n      <td>meth_exp_limit</td>\n      <td>R12_RCPA</td>\n      <td>2025</td>\n      <td>R12_RCPA</td>\n      <td>meth_bio_ccs</td>\n      <td>2025</td>\n      <td>fuel</td>\n      <td>1.0</td>\n      <td>???</td>\n    </tr>\n    <tr>\n      <th>4</th>\n      <td>meth_exp_limit</td>\n      <td>R12_EEU</td>\n      <td>2020</td>\n      <td>R12_EEU</td>\n      <td>meth_bio_ccs</td>\n      <td>2020</td>\n      <td>fuel</td>\n      <td>1.0</td>\n      <td>???</td>\n    </tr>\n    <tr>\n      <th>5</th>\n      <td>meth_exp_limit</td>\n      <td>R12_EEU</td>\n      <td>2025</td>\n      <td>R12_EEU</td>\n      <td>meth_bio_ccs</td>\n      <td>2025</td>\n      <td>fuel</td>\n      <td>1.0</td>\n      <td>???</td>\n    </tr>\n    <tr>\n      <th>6</th>\n      <td>meth_exp_limit</td>\n      <td>R12_FSU</td>\n      <td>2020</td>\n      <td>R12_FSU</td>\n      <td>meth_bio_ccs</td>\n      <td>2020</td>\n      <td>fuel</td>\n      <td>1.0</td>\n      <td>???</td>\n    </tr>\n    <tr>\n      <th>7</th>\n      <td>meth_exp_limit</td>\n      <td>R12_FSU</td>\n      <td>2025</td>\n      <td>R12_FSU</td>\n      <td>meth_bio_ccs</td>\n      <td>2025</td>\n      <td>fuel</td>\n      <td>1.0</td>\n      <td>???</td>\n    </tr>\n    <tr>\n      <th>8</th>\n      <td>meth_exp_limit</td>\n      <td>R12_LAM</td>\n      <td>2020</td>\n      <td>R12_LAM</td>\n      <td>meth_bio_ccs</td>\n      <td>2020</td>\n      <td>fuel</td>\n      <td>1.0</td>\n      <td>???</td>\n    </tr>\n    <tr>\n      <th>9</th>\n      <td>meth_exp_limit</td>\n      <td>R12_LAM</td>\n      <td>2025</td>\n      <td>R12_LAM</td>\n      <td>meth_bio_ccs</td>\n      <td>2025</td>\n      <td>fuel</td>\n      <td>1.0</td>\n      <td>???</td>\n    </tr>\n    <tr>\n      <th>10</th>\n      <td>meth_exp_limit</td>\n      <td>R12_MEA</td>\n      <td>2020</td>\n      <td>R12_MEA</td>\n      <td>meth_bio_ccs</td>\n      <td>2020</td>\n      <td>fuel</td>\n      <td>1.0</td>\n      <td>???</td>\n    </tr>\n    <tr>\n      <th>11</th>\n      <td>meth_exp_limit</td>\n      <td>R12_MEA</td>\n      <td>2025</td>\n      <td>R12_MEA</td>\n      <td>meth_bio_ccs</td>\n      <td>2025</td>\n      <td>fuel</td>\n      <td>1.0</td>\n      <td>???</td>\n    </tr>\n    <tr>\n      <th>12</th>\n      <td>meth_exp_limit</td>\n      <td>R12_NAM</td>\n      <td>2020</td>\n      <td>R12_NAM</td>\n      <td>meth_bio_ccs</td>\n      <td>2020</td>\n      <td>fuel</td>\n      <td>1.0</td>\n      <td>???</td>\n    </tr>\n    <tr>\n      <th>13</th>\n      <td>meth_exp_limit</td>\n      <td>R12_NAM</td>\n      <td>2025</td>\n      <td>R12_NAM</td>\n      <td>meth_bio_ccs</td>\n      <td>2025</td>\n      <td>fuel</td>\n      <td>1.0</td>\n      <td>???</td>\n    </tr>\n    <tr>\n      <th>14</th>\n      <td>meth_exp_limit</td>\n      <td>R12_PAO</td>\n      <td>2020</td>\n      <td>R12_PAO</td>\n      <td>meth_bio_ccs</td>\n      <td>2020</td>\n      <td>fuel</td>\n      <td>1.0</td>\n      <td>???</td>\n    </tr>\n    <tr>\n      <th>15</th>\n      <td>meth_exp_limit</td>\n      <td>R12_PAO</td>\n      <td>2025</td>\n      <td>R12_PAO</td>\n      <td>meth_bio_ccs</td>\n      <td>2025</td>\n      <td>fuel</td>\n      <td>1.0</td>\n      <td>???</td>\n    </tr>\n    <tr>\n      <th>16</th>\n      <td>meth_exp_limit</td>\n      <td>R12_PAS</td>\n      <td>2020</td>\n      <td>R12_PAS</td>\n      <td>meth_bio_ccs</td>\n      <td>2020</td>\n      <td>fuel</td>\n      <td>1.0</td>\n      <td>???</td>\n    </tr>\n    <tr>\n      <th>17</th>\n      <td>meth_exp_limit</td>\n      <td>R12_PAS</td>\n      <td>2025</td>\n      <td>R12_PAS</td>\n      <td>meth_bio_ccs</td>\n      <td>2025</td>\n      <td>fuel</td>\n      <td>1.0</td>\n      <td>???</td>\n    </tr>\n    <tr>\n      <th>18</th>\n      <td>meth_exp_limit</td>\n      <td>R12_SAS</td>\n      <td>2020</td>\n      <td>R12_SAS</td>\n      <td>meth_bio_ccs</td>\n      <td>2020</td>\n      <td>fuel</td>\n      <td>1.0</td>\n      <td>???</td>\n    </tr>\n    <tr>\n      <th>19</th>\n      <td>meth_exp_limit</td>\n      <td>R12_SAS</td>\n      <td>2025</td>\n      <td>R12_SAS</td>\n      <td>meth_bio_ccs</td>\n      <td>2025</td>\n      <td>fuel</td>\n      <td>1.0</td>\n      <td>???</td>\n    </tr>\n    <tr>\n      <th>20</th>\n      <td>meth_exp_limit</td>\n      <td>R12_WEU</td>\n      <td>2020</td>\n      <td>R12_WEU</td>\n      <td>meth_bio_ccs</td>\n      <td>2020</td>\n      <td>fuel</td>\n      <td>1.0</td>\n      <td>???</td>\n    </tr>\n    <tr>\n      <th>21</th>\n      <td>meth_exp_limit</td>\n      <td>R12_WEU</td>\n      <td>2025</td>\n      <td>R12_WEU</td>\n      <td>meth_bio_ccs</td>\n      <td>2025</td>\n      <td>fuel</td>\n      <td>1.0</td>\n      <td>???</td>\n    </tr>\n    <tr>\n      <th>22</th>\n      <td>meth_exp_limit</td>\n      <td>R12_CHN</td>\n      <td>2020</td>\n      <td>R12_CHN</td>\n      <td>meth_bio_ccs</td>\n      <td>2020</td>\n      <td>fuel</td>\n      <td>1.0</td>\n      <td>???</td>\n    </tr>\n    <tr>\n      <th>23</th>\n      <td>meth_exp_limit</td>\n      <td>R12_CHN</td>\n      <td>2025</td>\n      <td>R12_CHN</td>\n      <td>meth_bio_ccs</td>\n      <td>2025</td>\n      <td>fuel</td>\n      <td>1.0</td>\n      <td>???</td>\n    </tr>\n    <tr>\n      <th>24</th>\n      <td>meth_exp_limit</td>\n      <td>R12_AFR</td>\n      <td>2020</td>\n      <td>R12_AFR</td>\n      <td>meth_bio_ccs</td>\n      <td>2020</td>\n      <td>feedstock</td>\n      <td>1.0</td>\n      <td>???</td>\n    </tr>\n    <tr>\n      <th>25</th>\n      <td>meth_exp_limit</td>\n      <td>R12_AFR</td>\n      <td>2025</td>\n      <td>R12_AFR</td>\n      <td>meth_bio_ccs</td>\n      <td>2025</td>\n      <td>feedstock</td>\n      <td>1.0</td>\n      <td>???</td>\n    </tr>\n    <tr>\n      <th>26</th>\n      <td>meth_exp_limit</td>\n      <td>R12_RCPA</td>\n      <td>2020</td>\n      <td>R12_RCPA</td>\n      <td>meth_bio_ccs</td>\n      <td>2020</td>\n      <td>feedstock</td>\n      <td>1.0</td>\n      <td>???</td>\n    </tr>\n    <tr>\n      <th>27</th>\n      <td>meth_exp_limit</td>\n      <td>R12_RCPA</td>\n      <td>2025</td>\n      <td>R12_RCPA</td>\n      <td>meth_bio_ccs</td>\n      <td>2025</td>\n      <td>feedstock</td>\n      <td>1.0</td>\n      <td>???</td>\n    </tr>\n    <tr>\n      <th>28</th>\n      <td>meth_exp_limit</td>\n      <td>R12_EEU</td>\n      <td>2020</td>\n      <td>R12_EEU</td>\n      <td>meth_bio_ccs</td>\n      <td>2020</td>\n      <td>feedstock</td>\n      <td>1.0</td>\n      <td>???</td>\n    </tr>\n    <tr>\n      <th>29</th>\n      <td>meth_exp_limit</td>\n      <td>R12_EEU</td>\n      <td>2025</td>\n      <td>R12_EEU</td>\n      <td>meth_bio_ccs</td>\n      <td>2025</td>\n      <td>feedstock</td>\n      <td>1.0</td>\n      <td>???</td>\n    </tr>\n    <tr>\n      <th>30</th>\n      <td>meth_exp_limit</td>\n      <td>R12_FSU</td>\n      <td>2020</td>\n      <td>R12_FSU</td>\n      <td>meth_bio_ccs</td>\n      <td>2020</td>\n      <td>feedstock</td>\n      <td>1.0</td>\n      <td>???</td>\n    </tr>\n    <tr>\n      <th>31</th>\n      <td>meth_exp_limit</td>\n      <td>R12_FSU</td>\n      <td>2025</td>\n      <td>R12_FSU</td>\n      <td>meth_bio_ccs</td>\n      <td>2025</td>\n      <td>feedstock</td>\n      <td>1.0</td>\n      <td>???</td>\n    </tr>\n    <tr>\n      <th>32</th>\n      <td>meth_exp_limit</td>\n      <td>R12_LAM</td>\n      <td>2020</td>\n      <td>R12_LAM</td>\n      <td>meth_bio_ccs</td>\n      <td>2020</td>\n      <td>feedstock</td>\n      <td>1.0</td>\n      <td>???</td>\n    </tr>\n    <tr>\n      <th>33</th>\n      <td>meth_exp_limit</td>\n      <td>R12_LAM</td>\n      <td>2025</td>\n      <td>R12_LAM</td>\n      <td>meth_bio_ccs</td>\n      <td>2025</td>\n      <td>feedstock</td>\n      <td>1.0</td>\n      <td>???</td>\n    </tr>\n    <tr>\n      <th>34</th>\n      <td>meth_exp_limit</td>\n      <td>R12_MEA</td>\n      <td>2020</td>\n      <td>R12_MEA</td>\n      <td>meth_bio_ccs</td>\n      <td>2020</td>\n      <td>feedstock</td>\n      <td>1.0</td>\n      <td>???</td>\n    </tr>\n    <tr>\n      <th>35</th>\n      <td>meth_exp_limit</td>\n      <td>R12_MEA</td>\n      <td>2025</td>\n      <td>R12_MEA</td>\n      <td>meth_bio_ccs</td>\n      <td>2025</td>\n      <td>feedstock</td>\n      <td>1.0</td>\n      <td>???</td>\n    </tr>\n    <tr>\n      <th>36</th>\n      <td>meth_exp_limit</td>\n      <td>R12_NAM</td>\n      <td>2020</td>\n      <td>R12_NAM</td>\n      <td>meth_bio_ccs</td>\n      <td>2020</td>\n      <td>feedstock</td>\n      <td>1.0</td>\n      <td>???</td>\n    </tr>\n    <tr>\n      <th>37</th>\n      <td>meth_exp_limit</td>\n      <td>R12_NAM</td>\n      <td>2025</td>\n      <td>R12_NAM</td>\n      <td>meth_bio_ccs</td>\n      <td>2025</td>\n      <td>feedstock</td>\n      <td>1.0</td>\n      <td>???</td>\n    </tr>\n    <tr>\n      <th>38</th>\n      <td>meth_exp_limit</td>\n      <td>R12_PAO</td>\n      <td>2020</td>\n      <td>R12_PAO</td>\n      <td>meth_bio_ccs</td>\n      <td>2020</td>\n      <td>feedstock</td>\n      <td>1.0</td>\n      <td>???</td>\n    </tr>\n    <tr>\n      <th>39</th>\n      <td>meth_exp_limit</td>\n      <td>R12_PAO</td>\n      <td>2025</td>\n      <td>R12_PAO</td>\n      <td>meth_bio_ccs</td>\n      <td>2025</td>\n      <td>feedstock</td>\n      <td>1.0</td>\n      <td>???</td>\n    </tr>\n    <tr>\n      <th>40</th>\n      <td>meth_exp_limit</td>\n      <td>R12_PAS</td>\n      <td>2020</td>\n      <td>R12_PAS</td>\n      <td>meth_bio_ccs</td>\n      <td>2020</td>\n      <td>feedstock</td>\n      <td>1.0</td>\n      <td>???</td>\n    </tr>\n    <tr>\n      <th>41</th>\n      <td>meth_exp_limit</td>\n      <td>R12_PAS</td>\n      <td>2025</td>\n      <td>R12_PAS</td>\n      <td>meth_bio_ccs</td>\n      <td>2025</td>\n      <td>feedstock</td>\n      <td>1.0</td>\n      <td>???</td>\n    </tr>\n    <tr>\n      <th>42</th>\n      <td>meth_exp_limit</td>\n      <td>R12_SAS</td>\n      <td>2020</td>\n      <td>R12_SAS</td>\n      <td>meth_bio_ccs</td>\n      <td>2020</td>\n      <td>feedstock</td>\n      <td>1.0</td>\n      <td>???</td>\n    </tr>\n    <tr>\n      <th>43</th>\n      <td>meth_exp_limit</td>\n      <td>R12_SAS</td>\n      <td>2025</td>\n      <td>R12_SAS</td>\n      <td>meth_bio_ccs</td>\n      <td>2025</td>\n      <td>feedstock</td>\n      <td>1.0</td>\n      <td>???</td>\n    </tr>\n    <tr>\n      <th>44</th>\n      <td>meth_exp_limit</td>\n      <td>R12_WEU</td>\n      <td>2020</td>\n      <td>R12_WEU</td>\n      <td>meth_bio_ccs</td>\n      <td>2020</td>\n      <td>feedstock</td>\n      <td>1.0</td>\n      <td>???</td>\n    </tr>\n    <tr>\n      <th>45</th>\n      <td>meth_exp_limit</td>\n      <td>R12_WEU</td>\n      <td>2025</td>\n      <td>R12_WEU</td>\n      <td>meth_bio_ccs</td>\n      <td>2025</td>\n      <td>feedstock</td>\n      <td>1.0</td>\n      <td>???</td>\n    </tr>\n    <tr>\n      <th>46</th>\n      <td>meth_exp_limit</td>\n      <td>R12_CHN</td>\n      <td>2020</td>\n      <td>R12_CHN</td>\n      <td>meth_bio_ccs</td>\n      <td>2020</td>\n      <td>feedstock</td>\n      <td>1.0</td>\n      <td>???</td>\n    </tr>\n    <tr>\n      <th>47</th>\n      <td>meth_exp_limit</td>\n      <td>R12_CHN</td>\n      <td>2025</td>\n      <td>R12_CHN</td>\n      <td>meth_bio_ccs</td>\n      <td>2025</td>\n      <td>feedstock</td>\n      <td>1.0</td>\n      <td>???</td>\n    </tr>\n  </tbody>\n</table>\n</div>"
     },
     "execution_count": 43,
     "metadata": {},
     "output_type": "execute_result"
    }
   ],
   "source": [
    "df = scenario.par(\"relation_activity\", filters={\"technology\":\"meth_bio_ccs\", \"year_act\":[2020, 2025]})\n",
    "df"
   ],
   "metadata": {
    "collapsed": false
   }
  },
  {
   "cell_type": "code",
   "execution_count": 44,
   "outputs": [],
   "source": [
    "scenario.check_out()\n",
    "scenario.remove_par(\"relation_activity\", df)\n",
    "scenario.commit(\"remove 2020, 2025 meth_bio_ccs pars\")"
   ],
   "metadata": {
    "collapsed": false
   }
  },
  {
   "cell_type": "code",
   "execution_count": 30,
   "outputs": [],
   "source": [
    "import copy\n",
    "paramList_tec = [x for x in scenario.par_list() if (\"technology\" in scenario.idx_sets(x))]\n",
    "par_dict_meth = {}\n",
    "for p in paramList_tec:\n",
    "    df = scenario.par(p, filters={\"technology\": \"meth_h2\"})\n",
    "    if df.index.size:\n",
    "        par_dict_meth[p] = df"
   ],
   "metadata": {
    "collapsed": false
   }
  },
  {
   "cell_type": "code",
   "execution_count": 5,
   "outputs": [],
   "source": [
    "import copy\n",
    "paramList_tec_mode = [x for x in scenario.par_list() if (\"mode\" in scenario.idx_sets(x))]\n",
    "par_dict_meth_mode = {}\n",
    "for p in paramList_tec_mode:\n",
    "    df = scenario.par(p, filters={\"technology\": \"meth_imp\"})\n",
    "    if df.index.size:\n",
    "        par_dict_meth_mode[p] = df"
   ],
   "metadata": {
    "collapsed": false
   }
  },
  {
   "cell_type": "code",
   "execution_count": 22,
   "outputs": [],
   "source": [
    "df = scenario.par(\"relation_activity\", filters= {\"technology\":\"meth_coal\"})"
   ],
   "metadata": {
    "collapsed": false
   }
  },
  {
   "cell_type": "code",
   "execution_count": 27,
   "outputs": [],
   "source": [
    "df[df.relation == \"meth_exp_limit\"].to_excel(\"meth_exp_limit_coal.xlsx\", index=False)"
   ],
   "metadata": {
    "collapsed": false
   }
  },
  {
   "cell_type": "code",
   "execution_count": 32,
   "outputs": [
    {
     "data": {
      "text/plain": "                     relation node_rel  year_rel node_loc technology  \\\n0                CO2_Emission  R12_AFR      2030  R12_AFR    meth_h2   \n1                CO2_Emission  R12_AFR      2035  R12_AFR    meth_h2   \n2                CO2_Emission  R12_AFR      2040  R12_AFR    meth_h2   \n3                CO2_Emission  R12_AFR      2045  R12_AFR    meth_h2   \n4                CO2_Emission  R12_AFR      2050  R12_AFR    meth_h2   \n..                        ...      ...       ...      ...        ...   \n619  CO2_PtX_trans_disp_split  R12_WEU      2070  R12_WEU    meth_h2   \n620  CO2_PtX_trans_disp_split  R12_WEU      2080  R12_WEU    meth_h2   \n621  CO2_PtX_trans_disp_split  R12_WEU      2090  R12_WEU    meth_h2   \n622  CO2_PtX_trans_disp_split  R12_WEU      2100  R12_WEU    meth_h2   \n623  CO2_PtX_trans_disp_split  R12_WEU      2110  R12_WEU    meth_h2   \n\n     year_act       mode  value unit  \n0        2030       fuel  0.549  ???  \n1        2035       fuel  0.549  ???  \n2        2040       fuel  0.549  ???  \n3        2045       fuel  0.549  ???  \n4        2050       fuel  0.549  ???  \n..        ...        ...    ...  ...  \n619      2070  feedstock -0.549  ???  \n620      2080  feedstock -0.549  ???  \n621      2090  feedstock -0.549  ???  \n622      2100  feedstock -0.549  ???  \n623      2110  feedstock -0.549  ???  \n\n[624 rows x 9 columns]",
      "text/html": "<div>\n<style scoped>\n    .dataframe tbody tr th:only-of-type {\n        vertical-align: middle;\n    }\n\n    .dataframe tbody tr th {\n        vertical-align: top;\n    }\n\n    .dataframe thead th {\n        text-align: right;\n    }\n</style>\n<table border=\"1\" class=\"dataframe\">\n  <thead>\n    <tr style=\"text-align: right;\">\n      <th></th>\n      <th>relation</th>\n      <th>node_rel</th>\n      <th>year_rel</th>\n      <th>node_loc</th>\n      <th>technology</th>\n      <th>year_act</th>\n      <th>mode</th>\n      <th>value</th>\n      <th>unit</th>\n    </tr>\n  </thead>\n  <tbody>\n    <tr>\n      <th>0</th>\n      <td>CO2_Emission</td>\n      <td>R12_AFR</td>\n      <td>2030</td>\n      <td>R12_AFR</td>\n      <td>meth_h2</td>\n      <td>2030</td>\n      <td>fuel</td>\n      <td>0.549</td>\n      <td>???</td>\n    </tr>\n    <tr>\n      <th>1</th>\n      <td>CO2_Emission</td>\n      <td>R12_AFR</td>\n      <td>2035</td>\n      <td>R12_AFR</td>\n      <td>meth_h2</td>\n      <td>2035</td>\n      <td>fuel</td>\n      <td>0.549</td>\n      <td>???</td>\n    </tr>\n    <tr>\n      <th>2</th>\n      <td>CO2_Emission</td>\n      <td>R12_AFR</td>\n      <td>2040</td>\n      <td>R12_AFR</td>\n      <td>meth_h2</td>\n      <td>2040</td>\n      <td>fuel</td>\n      <td>0.549</td>\n      <td>???</td>\n    </tr>\n    <tr>\n      <th>3</th>\n      <td>CO2_Emission</td>\n      <td>R12_AFR</td>\n      <td>2045</td>\n      <td>R12_AFR</td>\n      <td>meth_h2</td>\n      <td>2045</td>\n      <td>fuel</td>\n      <td>0.549</td>\n      <td>???</td>\n    </tr>\n    <tr>\n      <th>4</th>\n      <td>CO2_Emission</td>\n      <td>R12_AFR</td>\n      <td>2050</td>\n      <td>R12_AFR</td>\n      <td>meth_h2</td>\n      <td>2050</td>\n      <td>fuel</td>\n      <td>0.549</td>\n      <td>???</td>\n    </tr>\n    <tr>\n      <th>...</th>\n      <td>...</td>\n      <td>...</td>\n      <td>...</td>\n      <td>...</td>\n      <td>...</td>\n      <td>...</td>\n      <td>...</td>\n      <td>...</td>\n      <td>...</td>\n    </tr>\n    <tr>\n      <th>619</th>\n      <td>CO2_PtX_trans_disp_split</td>\n      <td>R12_WEU</td>\n      <td>2070</td>\n      <td>R12_WEU</td>\n      <td>meth_h2</td>\n      <td>2070</td>\n      <td>feedstock</td>\n      <td>-0.549</td>\n      <td>???</td>\n    </tr>\n    <tr>\n      <th>620</th>\n      <td>CO2_PtX_trans_disp_split</td>\n      <td>R12_WEU</td>\n      <td>2080</td>\n      <td>R12_WEU</td>\n      <td>meth_h2</td>\n      <td>2080</td>\n      <td>feedstock</td>\n      <td>-0.549</td>\n      <td>???</td>\n    </tr>\n    <tr>\n      <th>621</th>\n      <td>CO2_PtX_trans_disp_split</td>\n      <td>R12_WEU</td>\n      <td>2090</td>\n      <td>R12_WEU</td>\n      <td>meth_h2</td>\n      <td>2090</td>\n      <td>feedstock</td>\n      <td>-0.549</td>\n      <td>???</td>\n    </tr>\n    <tr>\n      <th>622</th>\n      <td>CO2_PtX_trans_disp_split</td>\n      <td>R12_WEU</td>\n      <td>2100</td>\n      <td>R12_WEU</td>\n      <td>meth_h2</td>\n      <td>2100</td>\n      <td>feedstock</td>\n      <td>-0.549</td>\n      <td>???</td>\n    </tr>\n    <tr>\n      <th>623</th>\n      <td>CO2_PtX_trans_disp_split</td>\n      <td>R12_WEU</td>\n      <td>2110</td>\n      <td>R12_WEU</td>\n      <td>meth_h2</td>\n      <td>2110</td>\n      <td>feedstock</td>\n      <td>-0.549</td>\n      <td>???</td>\n    </tr>\n  </tbody>\n</table>\n<p>624 rows × 9 columns</p>\n</div>"
     },
     "execution_count": 32,
     "metadata": {},
     "output_type": "execute_result"
    }
   ],
   "source": [
    "par_dict_meth.get(\"relation_activity\")\n",
    "#par_dict_meth[\"fix_cost\"]#.year_act.unique()"
   ],
   "metadata": {
    "collapsed": false
   }
  },
  {
   "cell_type": "code",
   "execution_count": 20,
   "outputs": [
    {
     "name": "stdout",
     "output_type": "stream",
     "text": [
      "initial_activity_up 2025\n",
      "initial_activity_lo 2025\n",
      "relation_activity 2030\n",
      "ref_activity 2025\n"
     ]
    }
   ],
   "source": [
    "for k, vs in par_dict_meth.items():\n",
    "    if len(vs[\"value\"].unique()) != 1:\n",
    "        print(k, vs[\"year_act\"].min())"
   ],
   "metadata": {
    "collapsed": false
   }
  },
  {
   "cell_type": "code",
   "execution_count": 37,
   "outputs": [],
   "source": [
    "df = df[(df.technology == \"wind_ppl\") & (df.year_act == 2050)]"
   ],
   "metadata": {
    "collapsed": false
   }
  },
  {
   "cell_type": "code",
   "execution_count": 38,
   "outputs": [
    {
     "name": "stderr",
     "output_type": "stream",
     "text": [
      "C:\\Users\\maczek\\AppData\\Local\\Temp\\ipykernel_10940\\856668087.py:1: SettingWithCopyWarning: \n",
      "A value is trying to be set on a copy of a slice from a DataFrame.\n",
      "Try using .loc[row_indexer,col_indexer] = value instead\n",
      "\n",
      "See the caveats in the documentation: https://pandas.pydata.org/pandas-docs/stable/user_guide/indexing.html#returning-a-view-versus-a-copy\n",
      "  df[\"value\"] = 0.1\n"
     ]
    }
   ],
   "source": [
    "df[\"value\"] = 0.1"
   ],
   "metadata": {
    "collapsed": false
   }
  },
  {
   "cell_type": "code",
   "execution_count": 41,
   "outputs": [
    {
     "name": "stderr",
     "output_type": "stream",
     "text": [
      "C:\\Users\\maczek\\AppData\\Local\\Temp\\ipykernel_10940\\1042674758.py:1: SettingWithCopyWarning: \n",
      "A value is trying to be set on a copy of a slice from a DataFrame.\n",
      "Try using .loc[row_indexer,col_indexer] = value instead\n",
      "\n",
      "See the caveats in the documentation: https://pandas.pydata.org/pandas-docs/stable/user_guide/indexing.html#returning-a-view-versus-a-copy\n",
      "  df[\"technology\"] = \"meth_h2\"\n",
      "C:\\Users\\maczek\\AppData\\Local\\Temp\\ipykernel_10940\\1042674758.py:2: SettingWithCopyWarning: \n",
      "A value is trying to be set on a copy of a slice from a DataFrame.\n",
      "Try using .loc[row_indexer,col_indexer] = value instead\n",
      "\n",
      "See the caveats in the documentation: https://pandas.pydata.org/pandas-docs/stable/user_guide/indexing.html#returning-a-view-versus-a-copy\n",
      "  df[\"mode\"] = \"feedstock\"\n"
     ]
    }
   ],
   "source": [
    "df[\"technology\"] = \"meth_h2\"\n",
    "df[\"mode\"] = \"feedstock\"\n",
    "df.to_excel(\"meth_h2_bound_test.xlsx\", index=False)"
   ],
   "metadata": {
    "collapsed": false
   }
  },
  {
   "cell_type": "code",
   "execution_count": 42,
   "outputs": [],
   "source": [
    "#df_tot = pd.read_clipboard(sep=\",\").T\n",
    "#df[\"test\"] = df.index\n",
    "df_tot = df_tot.reset_index()"
   ],
   "metadata": {
    "collapsed": false
   }
  },
  {
   "cell_type": "code",
   "execution_count": 43,
   "outputs": [],
   "source": [
    "#df_bio = pd.read_clipboard(sep=\",\").T\n",
    "#df[\"test\"] = df.index\n",
    "df_bio = df_bio.reset_index()"
   ],
   "metadata": {
    "collapsed": false
   }
  },
  {
   "cell_type": "code",
   "execution_count": 44,
   "outputs": [],
   "source": [
    "#df_h2 = pd.read_clipboard(sep=\",\").T\n",
    "#df[\"test\"] = df.index\n",
    "df_h2 = df_h2.reset_index()"
   ],
   "metadata": {
    "collapsed": false
   }
  },
  {
   "cell_type": "code",
   "execution_count": 52,
   "outputs": [
    {
     "data": {
      "text/plain": "           index\n3     gas_cc_ccs\n6        meth_ng\n7    meth_ng_ccs\n8         h2_smr\n9     h2_smr_ccs\n23   gas_NH3_ccs",
      "text/html": "<div>\n<style scoped>\n    .dataframe tbody tr th:only-of-type {\n        vertical-align: middle;\n    }\n\n    .dataframe tbody tr th {\n        vertical-align: top;\n    }\n\n    .dataframe thead th {\n        text-align: right;\n    }\n</style>\n<table border=\"1\" class=\"dataframe\">\n  <thead>\n    <tr style=\"text-align: right;\">\n      <th></th>\n      <th>index</th>\n    </tr>\n  </thead>\n  <tbody>\n    <tr>\n      <th>3</th>\n      <td>gas_cc_ccs</td>\n    </tr>\n    <tr>\n      <th>6</th>\n      <td>meth_ng</td>\n    </tr>\n    <tr>\n      <th>7</th>\n      <td>meth_ng_ccs</td>\n    </tr>\n    <tr>\n      <th>8</th>\n      <td>h2_smr</td>\n    </tr>\n    <tr>\n      <th>9</th>\n      <td>h2_smr_ccs</td>\n    </tr>\n    <tr>\n      <th>23</th>\n      <td>gas_NH3_ccs</td>\n    </tr>\n  </tbody>\n</table>\n</div>"
     },
     "execution_count": 52,
     "metadata": {},
     "output_type": "execute_result"
    }
   ],
   "source": [
    "df_h2[~df_h2[\"index\"].isin(df_bio[\"index\"])]\n",
    "df_bio[~df_bio[\"index\"].isin(df_h2[\"index\"])]"
   ],
   "metadata": {
    "collapsed": false
   }
  },
  {
   "cell_type": "code",
   "execution_count": 64,
   "outputs": [],
   "source": [
    "import pyperclip"
   ],
   "metadata": {
    "collapsed": false
   }
  },
  {
   "cell_type": "code",
   "execution_count": 82,
   "outputs": [
    {
     "data": {
      "text/plain": "                    index\n0                 gas_ppl\n2                  gas_cc\n3              gas_cc_ccs\n6                 meth_ng\n7             meth_ng_ccs\n8                  h2_smr\n9              h2_smr_ccs\n12              dri_steel\n13              eaf_steel\n14      furnace_gas_steel\n15           hp_gas_steel\n16     furnace_gas_cement\n17          hp_gas_cement\n18   furnace_gas_aluminum\n19        hp_gas_aluminum\n20      furnace_gas_petro\n21           hp_gas_petro\n22                gas_NH3\n23            gas_NH3_ccs\n24   furnace_gas_refining\n25        hp_gas_refining",
      "text/html": "<div>\n<style scoped>\n    .dataframe tbody tr th:only-of-type {\n        vertical-align: middle;\n    }\n\n    .dataframe tbody tr th {\n        vertical-align: top;\n    }\n\n    .dataframe thead th {\n        text-align: right;\n    }\n</style>\n<table border=\"1\" class=\"dataframe\">\n  <thead>\n    <tr style=\"text-align: right;\">\n      <th></th>\n      <th>index</th>\n    </tr>\n  </thead>\n  <tbody>\n    <tr>\n      <th>0</th>\n      <td>gas_ppl</td>\n    </tr>\n    <tr>\n      <th>2</th>\n      <td>gas_cc</td>\n    </tr>\n    <tr>\n      <th>3</th>\n      <td>gas_cc_ccs</td>\n    </tr>\n    <tr>\n      <th>6</th>\n      <td>meth_ng</td>\n    </tr>\n    <tr>\n      <th>7</th>\n      <td>meth_ng_ccs</td>\n    </tr>\n    <tr>\n      <th>8</th>\n      <td>h2_smr</td>\n    </tr>\n    <tr>\n      <th>9</th>\n      <td>h2_smr_ccs</td>\n    </tr>\n    <tr>\n      <th>12</th>\n      <td>dri_steel</td>\n    </tr>\n    <tr>\n      <th>13</th>\n      <td>eaf_steel</td>\n    </tr>\n    <tr>\n      <th>14</th>\n      <td>furnace_gas_steel</td>\n    </tr>\n    <tr>\n      <th>15</th>\n      <td>hp_gas_steel</td>\n    </tr>\n    <tr>\n      <th>16</th>\n      <td>furnace_gas_cement</td>\n    </tr>\n    <tr>\n      <th>17</th>\n      <td>hp_gas_cement</td>\n    </tr>\n    <tr>\n      <th>18</th>\n      <td>furnace_gas_aluminum</td>\n    </tr>\n    <tr>\n      <th>19</th>\n      <td>hp_gas_aluminum</td>\n    </tr>\n    <tr>\n      <th>20</th>\n      <td>furnace_gas_petro</td>\n    </tr>\n    <tr>\n      <th>21</th>\n      <td>hp_gas_petro</td>\n    </tr>\n    <tr>\n      <th>22</th>\n      <td>gas_NH3</td>\n    </tr>\n    <tr>\n      <th>23</th>\n      <td>gas_NH3_ccs</td>\n    </tr>\n    <tr>\n      <th>24</th>\n      <td>furnace_gas_refining</td>\n    </tr>\n    <tr>\n      <th>25</th>\n      <td>hp_gas_refining</td>\n    </tr>\n  </tbody>\n</table>\n</div>"
     },
     "execution_count": 82,
     "metadata": {},
     "output_type": "execute_result"
    }
   ],
   "source": [
    "df_bio[~df_bio[\"index\"].isin(df_tot[\"index\"])]"
   ],
   "metadata": {
    "collapsed": false
   }
  },
  {
   "cell_type": "code",
   "execution_count": 73,
   "outputs": [],
   "source": [
    "x= list(df_bio[~df_bio[\"index\"].isin(df_tot[\"index\"])][\"index\"].values)\n",
    "pyperclip.copy(\",\\n\".join(x))"
   ],
   "metadata": {
    "collapsed": false
   }
  },
  {
   "cell_type": "code",
   "execution_count": 8,
   "outputs": [
    {
     "data": {
      "text/plain": "'2023-04-19 10:12:12.0'"
     },
     "execution_count": 8,
     "metadata": {},
     "output_type": "execute_result"
    }
   ],
   "source": [
    "scenario.last_update()"
   ],
   "metadata": {
    "collapsed": false
   }
  },
  {
   "cell_type": "code",
   "execution_count": 15,
   "outputs": [
    {
     "data": {
      "text/plain": "                    model           scenario   scheme  is_default  is_locked  \\\n6379  MESSAGEix-Materials  NoPolicy_no_petro  MESSAGE           1          0   \n\n     cre_user                    cre_date upd_user upd_date lock_user  \\\n6379   maczek  2023-05-03 23:10:38.000000     None     None      None   \n\n     lock_date                                         annotation  version  \n6379      None  clone Scenario from 'SHAPE_SSP2_v4.1.8|baselin...        1  ",
      "text/html": "<div>\n<style scoped>\n    .dataframe tbody tr th:only-of-type {\n        vertical-align: middle;\n    }\n\n    .dataframe tbody tr th {\n        vertical-align: top;\n    }\n\n    .dataframe thead th {\n        text-align: right;\n    }\n</style>\n<table border=\"1\" class=\"dataframe\">\n  <thead>\n    <tr style=\"text-align: right;\">\n      <th></th>\n      <th>model</th>\n      <th>scenario</th>\n      <th>scheme</th>\n      <th>is_default</th>\n      <th>is_locked</th>\n      <th>cre_user</th>\n      <th>cre_date</th>\n      <th>upd_user</th>\n      <th>upd_date</th>\n      <th>lock_user</th>\n      <th>lock_date</th>\n      <th>annotation</th>\n      <th>version</th>\n    </tr>\n  </thead>\n  <tbody>\n    <tr>\n      <th>6379</th>\n      <td>MESSAGEix-Materials</td>\n      <td>NoPolicy_no_petro</td>\n      <td>MESSAGE</td>\n      <td>1</td>\n      <td>0</td>\n      <td>maczek</td>\n      <td>2023-05-03 23:10:38.000000</td>\n      <td>None</td>\n      <td>None</td>\n      <td>None</td>\n      <td>None</td>\n      <td>clone Scenario from 'SHAPE_SSP2_v4.1.8|baselin...</td>\n      <td>1</td>\n    </tr>\n  </tbody>\n</table>\n</div>"
     },
     "execution_count": 15,
     "metadata": {},
     "output_type": "execute_result"
    }
   ],
   "source": [
    "df = mp.scenario_list()\n",
    "df[df[\"scenario\"].str.contains(\"no_petro\")]"
   ],
   "metadata": {
    "collapsed": false
   }
  },
  {
   "cell_type": "code",
   "execution_count": 9,
   "outputs": [],
   "source": [
    "df_gro = scenario.par(\"growth_activity_up\")\n",
    "df_ini = scenario.par(\"initial_activity_up\")"
   ],
   "metadata": {
    "collapsed": false
   }
  },
  {
   "cell_type": "code",
   "execution_count": 11,
   "outputs": [],
   "source": [
    "df_hist = scenario.par(\"historical_activity\")"
   ],
   "metadata": {
    "collapsed": false
   }
  },
  {
   "cell_type": "code",
   "execution_count": 16,
   "outputs": [],
   "source": [
    "hist_list = df_hist[df_hist[\"year_act\"] == 2015][\"technology\"].unique()"
   ],
   "metadata": {
    "collapsed": false
   }
  },
  {
   "cell_type": "code",
   "execution_count": 17,
   "outputs": [],
   "source": [
    "ini_list = df_ini[\"technology\"].unique()"
   ],
   "metadata": {
    "collapsed": false
   }
  },
  {
   "cell_type": "code",
   "execution_count": 21,
   "outputs": [
    {
     "data": {
      "text/plain": "array(['furnace_gas_cement', 'furnace_coal_refining',\n       'furnace_ethanol_steel', 'hp_elec_refining', 'dheat_refining',\n       'hp_gas_refining', 'furnace_biomass_cement', 'furnace_foil_petro',\n       'furnace_gas_aluminum', 'fc_h2_aluminum', 'hp_gas_steel',\n       'dheat_petro', 'furnace_coal_petro', 'furnace_coal_steel',\n       'furnace_coke_petro', 'furnace_methanol_petro',\n       'furnace_h2_aluminum', 'furnace_methanol_aluminum',\n       'furnace_gas_petro', 'furnace_h2_petro',\n       'furnace_methanol_refining', 'furnace_gas_refining',\n       'furnace_biomass_petro', 'furnace_elec_steel', 'hp_elec_aluminum',\n       'furnace_loil_refining', 'furnace_methanol_cement',\n       'furnace_methanol_steel', 'solar_petro', 'furnace_loil_cement',\n       'furnace_biomass_aluminum', 'furnace_elec_aluminum',\n       'dheat_aluminum', 'fc_h2_refining', 'furnace_elec_refining',\n       'hp_gas_petro', 'dheat_steel', 'furnace_elec_petro',\n       'furnace_loil_petro', 'furnace_ethanol_refining',\n       'furnace_foil_refining', 'furnace_foil_aluminum', 'solar_aluminum',\n       'furnace_foil_steel', 'solar_refining', 'furnace_foil_cement',\n       'furnace_coke_refining', 'furnace_coal_aluminum',\n       'furnace_gas_steel', 'furnace_coal_cement', 'furnace_h2_steel',\n       'fc_h2_steel', 'furnace_elec_cement', 'furnace_ethanol_aluminum',\n       'solar_steel', 'fc_h2_petro', 'furnace_ethanol_cement',\n       'hp_elec_petro', 'furnace_biomass_refining',\n       'furnace_biomass_steel', 'furnace_loil_steel', 'furnace_h2_cement',\n       'furnace_ethanol_petro', 'hp_elec_steel', 'hp_gas_aluminum',\n       'furnace_h2_refining', 'furnace_loil_aluminum'], dtype=object)"
     },
     "execution_count": 21,
     "metadata": {},
     "output_type": "execute_result"
    }
   ],
   "source": [
    "df_gro[(~df_gro[\"technology\"].isin(hist_list)) & (~df_gro[\"technology\"].isin(ini_list))][\"technology\"].unique()"
   ],
   "metadata": {
    "collapsed": false
   }
  },
  {
   "cell_type": "markdown",
   "source": [],
   "metadata": {
    "collapsed": false
   }
  },
  {
   "cell_type": "markdown",
   "source": [
    "## add ini act up to MTO"
   ],
   "metadata": {
    "collapsed": false
   }
  },
  {
   "cell_type": "code",
   "execution_count": 3,
   "outputs": [],
   "source": [
    "import ixmp as ix\n",
    "import message_ix\n",
    "mp = ix.Platform(\"ixmp_dev\")\n",
    "\n",
    "#scenario = message_ix.Scenario(mp, model=\"MESSAGEix-Materials\", scenario=\"NoPolicy_petro_thesis_2\")#, version=64)\n",
    "scenario = message_ix.Scenario(mp, model=\"MESSAGEix-Materials\", scenario=\"2.0deg_no_SDGs_petro_thesis_1_macro\")#, version=64)\n",
    "#scenario = message_ix.Scenario(mp, model=\"MESSAGEix-Materials\", scenario=\"2.0deg_petro_thesis_2_macro\")#, version=64)\n",
    "#scenario = message_ix.Scenario(mp, model=\"MESSAGEix-Materials\", scenario=\"baseline_DEFAULT_rebase2\")\n",
    "#scenario = message_ix.Scenario(mp, model=\"MESSAGEix-Materials\", scenario=\"baseline_VK_Transport-Materials_VK\")#, version=37)"
   ],
   "metadata": {
    "collapsed": false
   }
  },
  {
   "cell_type": "code",
   "execution_count": 7,
   "outputs": [
    {
     "data": {
      "text/plain": "                    model                               scenario   scheme  \\\n6242  MESSAGEix-Materials    2.0deg_no_SDGs_petro_thesis_1_macro  MESSAGE   \n6373  MESSAGEix-Materials  NoPolicy_no_SDGs_petro_thesis_1_macro  MESSAGE   \n\n      is_default  is_locked cre_user                    cre_date  \\\n6242           1          0   maczek  2023-04-25 10:15:05.000000   \n6373           1          0   maczek  2023-04-24 22:13:46.000000   \n\n            upd_user                    upd_date lock_user lock_date  \\\n6242  Florian Maczek  2023-05-02 13:04:08.000000      None      None   \n6373          maczek  2023-04-24 22:23:46.000000      None      None   \n\n                                             annotation  version  \n6242  clone Scenario from 'MESSAGEix-Materials|NoPol...        3  \n6373  clone Scenario from 'MESSAGEix-Materials|NoPol...        2  ",
      "text/html": "<div>\n<style scoped>\n    .dataframe tbody tr th:only-of-type {\n        vertical-align: middle;\n    }\n\n    .dataframe tbody tr th {\n        vertical-align: top;\n    }\n\n    .dataframe thead th {\n        text-align: right;\n    }\n</style>\n<table border=\"1\" class=\"dataframe\">\n  <thead>\n    <tr style=\"text-align: right;\">\n      <th></th>\n      <th>model</th>\n      <th>scenario</th>\n      <th>scheme</th>\n      <th>is_default</th>\n      <th>is_locked</th>\n      <th>cre_user</th>\n      <th>cre_date</th>\n      <th>upd_user</th>\n      <th>upd_date</th>\n      <th>lock_user</th>\n      <th>lock_date</th>\n      <th>annotation</th>\n      <th>version</th>\n    </tr>\n  </thead>\n  <tbody>\n    <tr>\n      <th>6242</th>\n      <td>MESSAGEix-Materials</td>\n      <td>2.0deg_no_SDGs_petro_thesis_1_macro</td>\n      <td>MESSAGE</td>\n      <td>1</td>\n      <td>0</td>\n      <td>maczek</td>\n      <td>2023-04-25 10:15:05.000000</td>\n      <td>Florian Maczek</td>\n      <td>2023-05-02 13:04:08.000000</td>\n      <td>None</td>\n      <td>None</td>\n      <td>clone Scenario from 'MESSAGEix-Materials|NoPol...</td>\n      <td>3</td>\n    </tr>\n    <tr>\n      <th>6373</th>\n      <td>MESSAGEix-Materials</td>\n      <td>NoPolicy_no_SDGs_petro_thesis_1_macro</td>\n      <td>MESSAGE</td>\n      <td>1</td>\n      <td>0</td>\n      <td>maczek</td>\n      <td>2023-04-24 22:13:46.000000</td>\n      <td>maczek</td>\n      <td>2023-04-24 22:23:46.000000</td>\n      <td>None</td>\n      <td>None</td>\n      <td>clone Scenario from 'MESSAGEix-Materials|NoPol...</td>\n      <td>2</td>\n    </tr>\n  </tbody>\n</table>\n</div>"
     },
     "execution_count": 7,
     "metadata": {},
     "output_type": "execute_result"
    }
   ],
   "source": [
    "df = mp.scenario_list()\n",
    "df[df[\"scenario\"].str.contains(\"thesis_1_macro\")]"
   ],
   "metadata": {
    "collapsed": false
   }
  },
  {
   "cell_type": "code",
   "execution_count": 13,
   "outputs": [
    {
     "data": {
      "text/plain": "                       model                                   scenario  \\\n4944  GENIE_SSP2_v4.1.7_test        EN_NPi2020-DAC-MP-new-gov-less_1000   \n4945  GENIE_SSP2_v4.1.7_test  EN_NPi2020-DAC-MP-new-gov-less_1000_step1   \n4946  GENIE_SSP2_v4.1.7_test  EN_NPi2020-DAC-MP-new-gov-less_1000_step2   \n5258  GENIE_SSP2_v4.1.7_test                NPi2020-DAC-MP-new-gov-less   \n\n       scheme  is_default  is_locked cre_user                    cre_date  \\\n4944  MESSAGE           1          0     unlu  2021-10-21 11:10:07.000000   \n4945  MESSAGE           1          0     unlu  2021-10-27 09:34:30.000000   \n4946  MESSAGE           1          0     unlu  2021-10-21 10:47:16.000000   \n5258  MESSAGE           1          0     unlu  2021-10-21 10:04:49.000000   \n\n     upd_user                    upd_date lock_user lock_date  \\\n4944     unlu  2021-10-21 11:33:34.000000      None      None   \n4945     None                        None      None      None   \n4946     unlu  2021-10-21 10:54:27.000000      None      None   \n5258     None                        None      None      None   \n\n                                             annotation  version  \n4944  clone Scenario from 'GENIE_SSP2_v4.1.7_test|EN...        1  \n4945  clone Scenario from 'GENIE_SSP2_v4.1.7_test|NP...        2  \n4946  clone Scenario from 'GENIE_SSP2_v4.1.7_test|EN...        1  \n5258  clone Scenario from 'GENIE_SSP2_v4.1.7_test|NP...        3  ",
      "text/html": "<div>\n<style scoped>\n    .dataframe tbody tr th:only-of-type {\n        vertical-align: middle;\n    }\n\n    .dataframe tbody tr th {\n        vertical-align: top;\n    }\n\n    .dataframe thead th {\n        text-align: right;\n    }\n</style>\n<table border=\"1\" class=\"dataframe\">\n  <thead>\n    <tr style=\"text-align: right;\">\n      <th></th>\n      <th>model</th>\n      <th>scenario</th>\n      <th>scheme</th>\n      <th>is_default</th>\n      <th>is_locked</th>\n      <th>cre_user</th>\n      <th>cre_date</th>\n      <th>upd_user</th>\n      <th>upd_date</th>\n      <th>lock_user</th>\n      <th>lock_date</th>\n      <th>annotation</th>\n      <th>version</th>\n    </tr>\n  </thead>\n  <tbody>\n    <tr>\n      <th>4944</th>\n      <td>GENIE_SSP2_v4.1.7_test</td>\n      <td>EN_NPi2020-DAC-MP-new-gov-less_1000</td>\n      <td>MESSAGE</td>\n      <td>1</td>\n      <td>0</td>\n      <td>unlu</td>\n      <td>2021-10-21 11:10:07.000000</td>\n      <td>unlu</td>\n      <td>2021-10-21 11:33:34.000000</td>\n      <td>None</td>\n      <td>None</td>\n      <td>clone Scenario from 'GENIE_SSP2_v4.1.7_test|EN...</td>\n      <td>1</td>\n    </tr>\n    <tr>\n      <th>4945</th>\n      <td>GENIE_SSP2_v4.1.7_test</td>\n      <td>EN_NPi2020-DAC-MP-new-gov-less_1000_step1</td>\n      <td>MESSAGE</td>\n      <td>1</td>\n      <td>0</td>\n      <td>unlu</td>\n      <td>2021-10-27 09:34:30.000000</td>\n      <td>None</td>\n      <td>None</td>\n      <td>None</td>\n      <td>None</td>\n      <td>clone Scenario from 'GENIE_SSP2_v4.1.7_test|NP...</td>\n      <td>2</td>\n    </tr>\n    <tr>\n      <th>4946</th>\n      <td>GENIE_SSP2_v4.1.7_test</td>\n      <td>EN_NPi2020-DAC-MP-new-gov-less_1000_step2</td>\n      <td>MESSAGE</td>\n      <td>1</td>\n      <td>0</td>\n      <td>unlu</td>\n      <td>2021-10-21 10:47:16.000000</td>\n      <td>unlu</td>\n      <td>2021-10-21 10:54:27.000000</td>\n      <td>None</td>\n      <td>None</td>\n      <td>clone Scenario from 'GENIE_SSP2_v4.1.7_test|EN...</td>\n      <td>1</td>\n    </tr>\n    <tr>\n      <th>5258</th>\n      <td>GENIE_SSP2_v4.1.7_test</td>\n      <td>NPi2020-DAC-MP-new-gov-less</td>\n      <td>MESSAGE</td>\n      <td>1</td>\n      <td>0</td>\n      <td>unlu</td>\n      <td>2021-10-21 10:04:49.000000</td>\n      <td>None</td>\n      <td>None</td>\n      <td>None</td>\n      <td>None</td>\n      <td>clone Scenario from 'GENIE_SSP2_v4.1.7_test|NP...</td>\n      <td>3</td>\n    </tr>\n  </tbody>\n</table>\n</div>"
     },
     "execution_count": 13,
     "metadata": {},
     "output_type": "execute_result"
    }
   ],
   "source": [
    "df[df[\"scenario\"].str.contains(\"2020-DAC-MP-new-gov-less\")]"
   ],
   "metadata": {
    "collapsed": false
   }
  },
  {
   "cell_type": "code",
   "execution_count": 14,
   "outputs": [
    {
     "name": "stderr",
     "output_type": "stream",
     "text": [
      "This Scenario has a solution, use `Scenario.remove_solution()` or `Scenario.clone(..., keep_solution=False)`\n"
     ]
    },
    {
     "data": {
      "text/plain": "0                   CF4_TCE\n1                   CH4_TCE\n2                  CH4n_TCE\n3                  CH4o_TCE\n4                  CH4s_TCE\n               ...         \n628     BIO00GHG600_pcapita\n629    BIO00GHG1000_pcapita\n630    BIO00GHG1500_pcapita\n631    BIO00GHG2000_pcapita\n632    BIO00GHG3000_pcapita\nLength: 633, dtype: object"
     },
     "execution_count": 14,
     "metadata": {},
     "output_type": "execute_result"
    }
   ],
   "source": [
    "scenario = message_ix.Scenario(mp, model=\"GENIE_SSP2_v4.1.7_test\", scenario=\"EN_NPi2020-DAC-MP-new-gov-less_1000\")\n",
    "scenario.set(\"technology\")"
   ],
   "metadata": {
    "collapsed": false
   }
  },
  {
   "cell_type": "code",
   "execution_count": 6,
   "outputs": [
    {
     "data": {
      "text/plain": "         relation node_rel  year_rel  value unit\n0    CO2_Emission  R12_AFR      1990    0.0  ???\n1    CO2_Emission  R12_AFR      1995    0.0  ???\n2    CO2_Emission  R12_AFR      2000    0.0  ???\n3    CO2_Emission  R12_AFR      2005    0.0  ???\n4    CO2_Emission  R12_AFR      2010    0.0  ???\n..            ...      ...       ...    ...  ...\n235  CO2_Emission  R12_CHN      2015    0.0  ???\n236  CO2_Emission  R12_CHN      2025    0.0  ???\n237  CO2_Emission  R12_CHN      2035    0.0  ???\n238  CO2_Emission  R12_CHN      2045    0.0  ???\n239  CO2_Emission  R12_CHN      2055    0.0  ???\n\n[240 rows x 5 columns]",
      "text/html": "<div>\n<style scoped>\n    .dataframe tbody tr th:only-of-type {\n        vertical-align: middle;\n    }\n\n    .dataframe tbody tr th {\n        vertical-align: top;\n    }\n\n    .dataframe thead th {\n        text-align: right;\n    }\n</style>\n<table border=\"1\" class=\"dataframe\">\n  <thead>\n    <tr style=\"text-align: right;\">\n      <th></th>\n      <th>relation</th>\n      <th>node_rel</th>\n      <th>year_rel</th>\n      <th>value</th>\n      <th>unit</th>\n    </tr>\n  </thead>\n  <tbody>\n    <tr>\n      <th>0</th>\n      <td>CO2_Emission</td>\n      <td>R12_AFR</td>\n      <td>1990</td>\n      <td>0.0</td>\n      <td>???</td>\n    </tr>\n    <tr>\n      <th>1</th>\n      <td>CO2_Emission</td>\n      <td>R12_AFR</td>\n      <td>1995</td>\n      <td>0.0</td>\n      <td>???</td>\n    </tr>\n    <tr>\n      <th>2</th>\n      <td>CO2_Emission</td>\n      <td>R12_AFR</td>\n      <td>2000</td>\n      <td>0.0</td>\n      <td>???</td>\n    </tr>\n    <tr>\n      <th>3</th>\n      <td>CO2_Emission</td>\n      <td>R12_AFR</td>\n      <td>2005</td>\n      <td>0.0</td>\n      <td>???</td>\n    </tr>\n    <tr>\n      <th>4</th>\n      <td>CO2_Emission</td>\n      <td>R12_AFR</td>\n      <td>2010</td>\n      <td>0.0</td>\n      <td>???</td>\n    </tr>\n    <tr>\n      <th>...</th>\n      <td>...</td>\n      <td>...</td>\n      <td>...</td>\n      <td>...</td>\n      <td>...</td>\n    </tr>\n    <tr>\n      <th>235</th>\n      <td>CO2_Emission</td>\n      <td>R12_CHN</td>\n      <td>2015</td>\n      <td>0.0</td>\n      <td>???</td>\n    </tr>\n    <tr>\n      <th>236</th>\n      <td>CO2_Emission</td>\n      <td>R12_CHN</td>\n      <td>2025</td>\n      <td>0.0</td>\n      <td>???</td>\n    </tr>\n    <tr>\n      <th>237</th>\n      <td>CO2_Emission</td>\n      <td>R12_CHN</td>\n      <td>2035</td>\n      <td>0.0</td>\n      <td>???</td>\n    </tr>\n    <tr>\n      <th>238</th>\n      <td>CO2_Emission</td>\n      <td>R12_CHN</td>\n      <td>2045</td>\n      <td>0.0</td>\n      <td>???</td>\n    </tr>\n    <tr>\n      <th>239</th>\n      <td>CO2_Emission</td>\n      <td>R12_CHN</td>\n      <td>2055</td>\n      <td>0.0</td>\n      <td>???</td>\n    </tr>\n  </tbody>\n</table>\n<p>240 rows × 5 columns</p>\n</div>"
     },
     "execution_count": 6,
     "metadata": {},
     "output_type": "execute_result"
    }
   ],
   "source": [
    "scenario.par(\"relation_lower\", filters={\"relation\":\"CO2_Emission\"})"
   ],
   "metadata": {
    "collapsed": false
   }
  },
  {
   "cell_type": "code",
   "execution_count": 7,
   "outputs": [
    {
     "data": {
      "text/plain": "True"
     },
     "execution_count": 7,
     "metadata": {},
     "output_type": "execute_result"
    }
   ],
   "source": [
    "scenario.has_solution()"
   ],
   "metadata": {
    "collapsed": false
   }
  },
  {
   "cell_type": "code",
   "execution_count": 12,
   "outputs": [
    {
     "data": {
      "text/plain": "                        model                                 scenario  \\\n633            COMMIT_SSP2_v1                         baseline_DEFAULT   \n994   Carbon_pool_SSP2_v4.1.7                         baseline_DEFAULT   \n1175         ENGAGE_SSP2_test                         baseline_DEFAULT   \n1354           ENGAGE_SSP2_v2                         baseline_DEFAULT   \n1549           ENGAGE_SSP2_v4                         baseline_DEFAULT   \n...                       ...                                      ...   \n7769                 tmp_test   baseline_DEFAULT_ENGAGEv10.8_Sec6_2_3b   \n7770                 tmp_test   baseline_DEFAULT_ENGAGEv10.8_Sec6_2_3c   \n7771                 tmp_test   baseline_DEFAULT_ENGAGEv10.8_Sec6_2_3d   \n7772                 tmp_test  baseline_DEFAULT_ENGAGEv10.8_Sec6_clean   \n7773                 tmp_test        baseline_DEFAULT_ENGAGEv10.8_Sec7   \n\n       scheme  is_default  is_locked cre_user                    cre_date  \\\n633   MESSAGE           1          0     unlu  2019-12-05 10:37:20.000000   \n994   MESSAGE           1          0   fricko  2021-10-08 09:30:23.000000   \n1175  MESSAGE           1          0   fricko  2020-03-27 14:07:11.000000   \n1354  MESSAGE           1          0   fricko  2019-10-31 16:25:43.000000   \n1549  MESSAGE           1          0   fricko  2020-04-16 22:03:18.000000   \n...       ...         ...        ...      ...                         ...   \n7769  MESSAGE           1          0   fricko  2022-04-22 11:00:00.000000   \n7770  MESSAGE           1          0   fricko  2022-04-25 10:51:29.000000   \n7771  MESSAGE           1          0   fricko  2022-04-26 15:25:45.000000   \n7772  MESSAGE           1          0   fricko  2022-04-04 13:37:38.000000   \n7773  MESSAGE           1          0   fricko  2022-04-04 11:32:35.000000   \n\n     upd_user upd_date lock_user lock_date  \\\n633      None     None      None      None   \n994      None     None      None      None   \n1175     None     None      None      None   \n1354     None     None      None      None   \n1549     None     None      None      None   \n...       ...      ...       ...       ...   \n7769     None     None      None      None   \n7770     None     None      None      None   \n7771     None     None      None      None   \n7772     None     None      None      None   \n7773     None     None      None      None   \n\n                                             annotation  version  \n633   clone Scenario from 'SSP2|baseline_DEFAULT', v...       35  \n994   clone Scenario from 'SSP2_test|baseline_DEFAUL...       15  \n1175  clone Scenario from 'SSP2_test|baseline_DEFAUL...        4  \n1354  clone Scenario from 'SSP2|baseline_DEFAULT', v...        2  \n1549  clone Scenario from 'SSP2_test|baseline_DEFAUL...        9  \n...                                                 ...      ...  \n7769  clone Scenario from 'SSP2_test|baseline_DEFAUL...       35  \n7770  clone Scenario from 'SSP2_test|baseline_DEFAUL...       29  \n7771  clone Scenario from 'SSP2_test|baseline_DEFAUL...       22  \n7772  clone Scenario from 'SSP2_test|baseline_DEFAUL...        1  \n7773  clone Scenario from 'SSP2_test|baseline_DEFAUL...        1  \n\n[498 rows x 13 columns]",
      "text/html": "<div>\n<style scoped>\n    .dataframe tbody tr th:only-of-type {\n        vertical-align: middle;\n    }\n\n    .dataframe tbody tr th {\n        vertical-align: top;\n    }\n\n    .dataframe thead th {\n        text-align: right;\n    }\n</style>\n<table border=\"1\" class=\"dataframe\">\n  <thead>\n    <tr style=\"text-align: right;\">\n      <th></th>\n      <th>model</th>\n      <th>scenario</th>\n      <th>scheme</th>\n      <th>is_default</th>\n      <th>is_locked</th>\n      <th>cre_user</th>\n      <th>cre_date</th>\n      <th>upd_user</th>\n      <th>upd_date</th>\n      <th>lock_user</th>\n      <th>lock_date</th>\n      <th>annotation</th>\n      <th>version</th>\n    </tr>\n  </thead>\n  <tbody>\n    <tr>\n      <th>633</th>\n      <td>COMMIT_SSP2_v1</td>\n      <td>baseline_DEFAULT</td>\n      <td>MESSAGE</td>\n      <td>1</td>\n      <td>0</td>\n      <td>unlu</td>\n      <td>2019-12-05 10:37:20.000000</td>\n      <td>None</td>\n      <td>None</td>\n      <td>None</td>\n      <td>None</td>\n      <td>clone Scenario from 'SSP2|baseline_DEFAULT', v...</td>\n      <td>35</td>\n    </tr>\n    <tr>\n      <th>994</th>\n      <td>Carbon_pool_SSP2_v4.1.7</td>\n      <td>baseline_DEFAULT</td>\n      <td>MESSAGE</td>\n      <td>1</td>\n      <td>0</td>\n      <td>fricko</td>\n      <td>2021-10-08 09:30:23.000000</td>\n      <td>None</td>\n      <td>None</td>\n      <td>None</td>\n      <td>None</td>\n      <td>clone Scenario from 'SSP2_test|baseline_DEFAUL...</td>\n      <td>15</td>\n    </tr>\n    <tr>\n      <th>1175</th>\n      <td>ENGAGE_SSP2_test</td>\n      <td>baseline_DEFAULT</td>\n      <td>MESSAGE</td>\n      <td>1</td>\n      <td>0</td>\n      <td>fricko</td>\n      <td>2020-03-27 14:07:11.000000</td>\n      <td>None</td>\n      <td>None</td>\n      <td>None</td>\n      <td>None</td>\n      <td>clone Scenario from 'SSP2_test|baseline_DEFAUL...</td>\n      <td>4</td>\n    </tr>\n    <tr>\n      <th>1354</th>\n      <td>ENGAGE_SSP2_v2</td>\n      <td>baseline_DEFAULT</td>\n      <td>MESSAGE</td>\n      <td>1</td>\n      <td>0</td>\n      <td>fricko</td>\n      <td>2019-10-31 16:25:43.000000</td>\n      <td>None</td>\n      <td>None</td>\n      <td>None</td>\n      <td>None</td>\n      <td>clone Scenario from 'SSP2|baseline_DEFAULT', v...</td>\n      <td>2</td>\n    </tr>\n    <tr>\n      <th>1549</th>\n      <td>ENGAGE_SSP2_v4</td>\n      <td>baseline_DEFAULT</td>\n      <td>MESSAGE</td>\n      <td>1</td>\n      <td>0</td>\n      <td>fricko</td>\n      <td>2020-04-16 22:03:18.000000</td>\n      <td>None</td>\n      <td>None</td>\n      <td>None</td>\n      <td>None</td>\n      <td>clone Scenario from 'SSP2_test|baseline_DEFAUL...</td>\n      <td>9</td>\n    </tr>\n    <tr>\n      <th>...</th>\n      <td>...</td>\n      <td>...</td>\n      <td>...</td>\n      <td>...</td>\n      <td>...</td>\n      <td>...</td>\n      <td>...</td>\n      <td>...</td>\n      <td>...</td>\n      <td>...</td>\n      <td>...</td>\n      <td>...</td>\n      <td>...</td>\n    </tr>\n    <tr>\n      <th>7769</th>\n      <td>tmp_test</td>\n      <td>baseline_DEFAULT_ENGAGEv10.8_Sec6_2_3b</td>\n      <td>MESSAGE</td>\n      <td>1</td>\n      <td>0</td>\n      <td>fricko</td>\n      <td>2022-04-22 11:00:00.000000</td>\n      <td>None</td>\n      <td>None</td>\n      <td>None</td>\n      <td>None</td>\n      <td>clone Scenario from 'SSP2_test|baseline_DEFAUL...</td>\n      <td>35</td>\n    </tr>\n    <tr>\n      <th>7770</th>\n      <td>tmp_test</td>\n      <td>baseline_DEFAULT_ENGAGEv10.8_Sec6_2_3c</td>\n      <td>MESSAGE</td>\n      <td>1</td>\n      <td>0</td>\n      <td>fricko</td>\n      <td>2022-04-25 10:51:29.000000</td>\n      <td>None</td>\n      <td>None</td>\n      <td>None</td>\n      <td>None</td>\n      <td>clone Scenario from 'SSP2_test|baseline_DEFAUL...</td>\n      <td>29</td>\n    </tr>\n    <tr>\n      <th>7771</th>\n      <td>tmp_test</td>\n      <td>baseline_DEFAULT_ENGAGEv10.8_Sec6_2_3d</td>\n      <td>MESSAGE</td>\n      <td>1</td>\n      <td>0</td>\n      <td>fricko</td>\n      <td>2022-04-26 15:25:45.000000</td>\n      <td>None</td>\n      <td>None</td>\n      <td>None</td>\n      <td>None</td>\n      <td>clone Scenario from 'SSP2_test|baseline_DEFAUL...</td>\n      <td>22</td>\n    </tr>\n    <tr>\n      <th>7772</th>\n      <td>tmp_test</td>\n      <td>baseline_DEFAULT_ENGAGEv10.8_Sec6_clean</td>\n      <td>MESSAGE</td>\n      <td>1</td>\n      <td>0</td>\n      <td>fricko</td>\n      <td>2022-04-04 13:37:38.000000</td>\n      <td>None</td>\n      <td>None</td>\n      <td>None</td>\n      <td>None</td>\n      <td>clone Scenario from 'SSP2_test|baseline_DEFAUL...</td>\n      <td>1</td>\n    </tr>\n    <tr>\n      <th>7773</th>\n      <td>tmp_test</td>\n      <td>baseline_DEFAULT_ENGAGEv10.8_Sec7</td>\n      <td>MESSAGE</td>\n      <td>1</td>\n      <td>0</td>\n      <td>fricko</td>\n      <td>2022-04-04 11:32:35.000000</td>\n      <td>None</td>\n      <td>None</td>\n      <td>None</td>\n      <td>None</td>\n      <td>clone Scenario from 'SSP2_test|baseline_DEFAUL...</td>\n      <td>1</td>\n    </tr>\n  </tbody>\n</table>\n<p>498 rows × 13 columns</p>\n</div>"
     },
     "execution_count": 12,
     "metadata": {},
     "output_type": "execute_result"
    }
   ],
   "source": [
    "#df = mp.scenario_list()\n",
    "df[df[\"scenario\"].str.contains(\"baseline_DEFAULT\")]"
   ],
   "metadata": {
    "collapsed": false
   }
  },
  {
   "cell_type": "code",
   "execution_count": 4,
   "outputs": [],
   "source": [
    "df = scenario.par(\"growth_activity_lo\", filters={\"technology\":\"furnace_gas_petro\"})\n",
    "df = df[df[\"year_act\"]==2030]"
   ],
   "metadata": {
    "collapsed": false
   }
  },
  {
   "cell_type": "code",
   "execution_count": 7,
   "outputs": [
    {
     "data": {
      "text/plain": "     node_loc         technology  year_act  time  value unit\n0     R12_AFR  furnace_gas_petro      2025  year  -0.05    t\n12   R12_RCPA  furnace_gas_petro      2025  year  -0.05    t\n24    R12_EEU  furnace_gas_petro      2025  year  -0.05    t\n36    R12_FSU  furnace_gas_petro      2025  year  -0.05    t\n48    R12_LAM  furnace_gas_petro      2025  year  -0.05    t\n60    R12_MEA  furnace_gas_petro      2025  year  -0.05    t\n72    R12_NAM  furnace_gas_petro      2025  year  -0.05    t\n84    R12_PAO  furnace_gas_petro      2025  year  -0.05    t\n96    R12_PAS  furnace_gas_petro      2025  year  -0.05    t\n108   R12_SAS  furnace_gas_petro      2025  year  -0.05    t\n120   R12_WEU  furnace_gas_petro      2025  year  -0.05    t\n132   R12_CHN  furnace_gas_petro      2025  year  -0.05    t",
      "text/html": "<div>\n<style scoped>\n    .dataframe tbody tr th:only-of-type {\n        vertical-align: middle;\n    }\n\n    .dataframe tbody tr th {\n        vertical-align: top;\n    }\n\n    .dataframe thead th {\n        text-align: right;\n    }\n</style>\n<table border=\"1\" class=\"dataframe\">\n  <thead>\n    <tr style=\"text-align: right;\">\n      <th></th>\n      <th>node_loc</th>\n      <th>technology</th>\n      <th>year_act</th>\n      <th>time</th>\n      <th>value</th>\n      <th>unit</th>\n    </tr>\n  </thead>\n  <tbody>\n    <tr>\n      <th>0</th>\n      <td>R12_AFR</td>\n      <td>furnace_gas_petro</td>\n      <td>2025</td>\n      <td>year</td>\n      <td>-0.05</td>\n      <td>t</td>\n    </tr>\n    <tr>\n      <th>12</th>\n      <td>R12_RCPA</td>\n      <td>furnace_gas_petro</td>\n      <td>2025</td>\n      <td>year</td>\n      <td>-0.05</td>\n      <td>t</td>\n    </tr>\n    <tr>\n      <th>24</th>\n      <td>R12_EEU</td>\n      <td>furnace_gas_petro</td>\n      <td>2025</td>\n      <td>year</td>\n      <td>-0.05</td>\n      <td>t</td>\n    </tr>\n    <tr>\n      <th>36</th>\n      <td>R12_FSU</td>\n      <td>furnace_gas_petro</td>\n      <td>2025</td>\n      <td>year</td>\n      <td>-0.05</td>\n      <td>t</td>\n    </tr>\n    <tr>\n      <th>48</th>\n      <td>R12_LAM</td>\n      <td>furnace_gas_petro</td>\n      <td>2025</td>\n      <td>year</td>\n      <td>-0.05</td>\n      <td>t</td>\n    </tr>\n    <tr>\n      <th>60</th>\n      <td>R12_MEA</td>\n      <td>furnace_gas_petro</td>\n      <td>2025</td>\n      <td>year</td>\n      <td>-0.05</td>\n      <td>t</td>\n    </tr>\n    <tr>\n      <th>72</th>\n      <td>R12_NAM</td>\n      <td>furnace_gas_petro</td>\n      <td>2025</td>\n      <td>year</td>\n      <td>-0.05</td>\n      <td>t</td>\n    </tr>\n    <tr>\n      <th>84</th>\n      <td>R12_PAO</td>\n      <td>furnace_gas_petro</td>\n      <td>2025</td>\n      <td>year</td>\n      <td>-0.05</td>\n      <td>t</td>\n    </tr>\n    <tr>\n      <th>96</th>\n      <td>R12_PAS</td>\n      <td>furnace_gas_petro</td>\n      <td>2025</td>\n      <td>year</td>\n      <td>-0.05</td>\n      <td>t</td>\n    </tr>\n    <tr>\n      <th>108</th>\n      <td>R12_SAS</td>\n      <td>furnace_gas_petro</td>\n      <td>2025</td>\n      <td>year</td>\n      <td>-0.05</td>\n      <td>t</td>\n    </tr>\n    <tr>\n      <th>120</th>\n      <td>R12_WEU</td>\n      <td>furnace_gas_petro</td>\n      <td>2025</td>\n      <td>year</td>\n      <td>-0.05</td>\n      <td>t</td>\n    </tr>\n    <tr>\n      <th>132</th>\n      <td>R12_CHN</td>\n      <td>furnace_gas_petro</td>\n      <td>2025</td>\n      <td>year</td>\n      <td>-0.05</td>\n      <td>t</td>\n    </tr>\n  </tbody>\n</table>\n</div>"
     },
     "execution_count": 7,
     "metadata": {},
     "output_type": "execute_result"
    }
   ],
   "source": [
    "df[\"year_act\"] = 2025\n",
    "df"
   ],
   "metadata": {
    "collapsed": false
   }
  },
  {
   "cell_type": "code",
   "execution_count": 9,
   "outputs": [
    {
     "data": {
      "text/plain": "{'var_cost':      node_loc technology  year_vtg  year_act       mode  time  value     unit\n 0     R12_AFR    h2_elec      2010      2010  feedstock  year    4.0  USD/GWa\n 1     R12_AFR    h2_elec      2010      2015  feedstock  year    4.0  USD/GWa\n 2     R12_AFR    h2_elec      2010      2020  feedstock  year    4.0  USD/GWa\n 3     R12_AFR    h2_elec      2010      2025  feedstock  year    4.0  USD/GWa\n 4     R12_AFR    h2_elec      2010      2030  feedstock  year    4.0  USD/GWa\n ...       ...        ...       ...       ...        ...   ...    ...      ...\n 1723  R12_CHN    h2_elec      2090      2100  feedstock  year    4.0  USD/GWa\n 1724  R12_CHN    h2_elec      2090      2110  feedstock  year    4.0  USD/GWa\n 1725  R12_CHN    h2_elec      2100      2100  feedstock  year    4.0  USD/GWa\n 1726  R12_CHN    h2_elec      2100      2110  feedstock  year    4.0  USD/GWa\n 1727  R12_CHN    h2_elec      2110      2110  feedstock  year    4.0  USD/GWa\n \n [1728 rows x 8 columns],\n 'output':      node_loc technology  year_vtg  year_act       mode node_dest commodity  \\\n 0     R12_AFR    h2_elec      2010      2010  feedstock   R12_AFR  hydrogen   \n 1     R12_AFR    h2_elec      2010      2015  feedstock   R12_AFR  hydrogen   \n 2     R12_AFR    h2_elec      2010      2020  feedstock   R12_AFR  hydrogen   \n 3     R12_AFR    h2_elec      2010      2025  feedstock   R12_AFR  hydrogen   \n 4     R12_AFR    h2_elec      2010      2030  feedstock   R12_AFR  hydrogen   \n ...       ...        ...       ...       ...        ...       ...       ...   \n 1723  R12_CHN    h2_elec      2090      2100  feedstock   R12_CHN  hydrogen   \n 1724  R12_CHN    h2_elec      2090      2110  feedstock   R12_CHN  hydrogen   \n 1725  R12_CHN    h2_elec      2100      2100  feedstock   R12_CHN  hydrogen   \n 1726  R12_CHN    h2_elec      2100      2110  feedstock   R12_CHN  hydrogen   \n 1727  R12_CHN    h2_elec      2110      2110  feedstock   R12_CHN  hydrogen   \n \n           level  time time_dest  value unit  \n 0     secondary  year      year    1.0  GWa  \n 1     secondary  year      year    1.0  GWa  \n 2     secondary  year      year    1.0  GWa  \n 3     secondary  year      year    1.0  GWa  \n 4     secondary  year      year    1.0  GWa  \n ...         ...   ...       ...    ...  ...  \n 1723  secondary  year      year    1.0  GWa  \n 1724  secondary  year      year    1.0  GWa  \n 1725  secondary  year      year    1.0  GWa  \n 1726  secondary  year      year    1.0  GWa  \n 1727  secondary  year      year    1.0  GWa  \n \n [1728 rows x 12 columns],\n 'input':      node_loc technology  year_vtg  year_act       mode node_origin commodity  \\\n 0     R12_AFR    h2_elec      2010      2010  feedstock     R12_AFR    electr   \n 1     R12_AFR    h2_elec      2010      2015  feedstock     R12_AFR    electr   \n 2     R12_AFR    h2_elec      2010      2020  feedstock     R12_AFR    electr   \n 3     R12_AFR    h2_elec      2010      2025  feedstock     R12_AFR    electr   \n 4     R12_AFR    h2_elec      2010      2030  feedstock     R12_AFR    electr   \n ...       ...        ...       ...       ...        ...         ...       ...   \n 1723  R12_CHN    h2_elec      2090      2100  feedstock     R12_CHN    electr   \n 1724  R12_CHN    h2_elec      2090      2110  feedstock     R12_CHN    electr   \n 1725  R12_CHN    h2_elec      2100      2100  feedstock     R12_CHN    electr   \n 1726  R12_CHN    h2_elec      2100      2110  feedstock     R12_CHN    electr   \n 1727  R12_CHN    h2_elec      2110      2110  feedstock     R12_CHN    electr   \n \n           level  time time_origin  value unit  \n 0     secondary  year        year   1.25  GWa  \n 1     secondary  year        year   1.25  GWa  \n 2     secondary  year        year   1.25  GWa  \n 3     secondary  year        year   1.25  GWa  \n 4     secondary  year        year   1.25  GWa  \n ...         ...   ...         ...    ...  ...  \n 1723  secondary  year        year   1.25  GWa  \n 1724  secondary  year        year   1.25  GWa  \n 1725  secondary  year        year   1.25  GWa  \n 1726  secondary  year        year   1.25  GWa  \n 1727  secondary  year        year   1.25  GWa  \n \n [1728 rows x 12 columns],\n 'relation_activity':                 relation node_rel  year_rel node_loc technology  year_act  \\\n 0      RES_variable_limt  R12_AFR      2010  R12_AFR    h2_elec      2010   \n 1           h2_exp_limit  R12_AFR      2010  R12_AFR    h2_elec      2010   \n 2               oper_res  R12_AFR      2010  R12_AFR    h2_elec      2010   \n 3             solar_step  R12_AFR      2010  R12_AFR    h2_elec      2010   \n 4            solar_step2  R12_AFR      2010  R12_AFR    h2_elec      2010   \n ...                  ...      ...       ...      ...        ...       ...   \n 5787  wind_curtailment_3  R12_CHN      2015  R12_CHN    h2_elec      2015   \n 5788  wind_curtailment_3  R12_CHN      2025  R12_CHN    h2_elec      2025   \n 5789  wind_curtailment_3  R12_CHN      2035  R12_CHN    h2_elec      2035   \n 5790  wind_curtailment_3  R12_CHN      2045  R12_CHN    h2_elec      2045   \n 5791  wind_curtailment_3  R12_CHN      2055  R12_CHN    h2_elec      2055   \n \n            mode     value unit  \n 0     feedstock -1.250000  ???  \n 1     feedstock  1.000000  ???  \n 2     feedstock  0.312500  ???  \n 3     feedstock  0.062500  ???  \n 4     feedstock  0.187500  ???  \n ...         ...       ...  ...  \n 5787  feedstock -0.105263  ???  \n 5788  feedstock -0.105263  ???  \n 5789  feedstock -0.105263  ???  \n 5790  feedstock -0.105263  ???  \n 5791  feedstock -0.105263  ???  \n \n [5792 rows x 9 columns],\n 'historical_activity':     node_loc technology  year_act       mode  time     value unit\n 0    R12_AFR    h2_elec      2010  feedstock  year  0.000000  GWa\n 1   R12_RCPA    h2_elec      2010  feedstock  year  0.312201  GWa\n 2    R12_EEU    h2_elec      2010  feedstock  year  0.000000  GWa\n 3    R12_FSU    h2_elec      2010  feedstock  year  0.000000  GWa\n 4    R12_LAM    h2_elec      2010  feedstock  year  0.000000  GWa\n 5    R12_MEA    h2_elec      2010  feedstock  year  0.000000  GWa\n 6    R12_NAM    h2_elec      2010  feedstock  year  0.000000  GWa\n 7    R12_PAO    h2_elec      2010  feedstock  year  3.122010  GWa\n 8    R12_PAS    h2_elec      2010  feedstock  year  0.000000  GWa\n 9    R12_SAS    h2_elec      2010  feedstock  year  0.000000  GWa\n 10   R12_WEU    h2_elec      2010  feedstock  year  0.000000  GWa\n 11   R12_SAS    h2_elec      2015  feedstock  year  0.000000  ???\n 12   R12_MEA    h2_elec      2015  feedstock  year  0.000000  ???\n 13   R12_FSU    h2_elec      2015  feedstock  year  0.000000  ???\n 14   R12_PAS    h2_elec      2015  feedstock  year  0.000000  ???\n 15   R12_EEU    h2_elec      2015  feedstock  year  0.000000  ???\n 16   R12_PAO    h2_elec      2015  feedstock  year  0.000000  ???\n 17   R12_LAM    h2_elec      2015  feedstock  year  0.000000  ???\n 18  R12_RCPA    h2_elec      2015  feedstock  year  0.000000  ???\n 19   R12_WEU    h2_elec      2015  feedstock  year  0.000000  ???\n 20   R12_NAM    h2_elec      2015  feedstock  year  0.000000  ???\n 21   R12_AFR    h2_elec      2015  feedstock  year  0.000000  ???\n 22   R12_CHN    h2_elec      2010  feedstock  year  2.809809  GWa\n 23   R12_CHN    h2_elec      2015  feedstock  year  0.000000  ???\n 24   R12_AFR    h2_elec      2010  feedstock  year  0.000000  GWa\n 25  R12_RCPA    h2_elec      2010  feedstock  year  0.312201  GWa\n 26   R12_EEU    h2_elec      2010  feedstock  year  0.000000  GWa\n 27   R12_FSU    h2_elec      2010  feedstock  year  0.000000  GWa\n 28   R12_LAM    h2_elec      2010  feedstock  year  0.000000  GWa\n 29   R12_MEA    h2_elec      2010  feedstock  year  0.000000  GWa\n 30   R12_NAM    h2_elec      2010  feedstock  year  0.000000  GWa\n 31   R12_PAO    h2_elec      2010  feedstock  year  3.122010  GWa\n 32   R12_PAS    h2_elec      2010  feedstock  year  0.000000  GWa\n 33   R12_SAS    h2_elec      2010  feedstock  year  0.000000  GWa\n 34   R12_WEU    h2_elec      2010  feedstock  year  0.000000  GWa\n 35   R12_SAS    h2_elec      2015  feedstock  year  0.000000  ???\n 36   R12_MEA    h2_elec      2015  feedstock  year  0.000000  ???\n 37   R12_FSU    h2_elec      2015  feedstock  year  0.000000  ???\n 38   R12_PAS    h2_elec      2015  feedstock  year  0.000000  ???\n 39   R12_EEU    h2_elec      2015  feedstock  year  0.000000  ???\n 40   R12_PAO    h2_elec      2015  feedstock  year  0.000000  ???\n 41   R12_LAM    h2_elec      2015  feedstock  year  0.000000  ???\n 42  R12_RCPA    h2_elec      2015  feedstock  year  0.000000  ???\n 43   R12_WEU    h2_elec      2015  feedstock  year  0.000000  ???\n 44   R12_NAM    h2_elec      2015  feedstock  year  0.000000  ???\n 45   R12_AFR    h2_elec      2015  feedstock  year  0.000000  ???\n 46   R12_CHN    h2_elec      2010  feedstock  year  2.809809  GWa\n 47   R12_CHN    h2_elec      2015  feedstock  year  0.000000  ???,\n 'ref_activity':     node_loc technology  year_act       mode  time     value unit\n 0    R12_AFR    h2_elec      2010  feedstock  year  0.000000  GWa\n 1    R12_AFR    h2_elec      2020  feedstock  year  0.000000  GWa\n 2    R12_AFR    h2_elec      2030  feedstock  year  0.000000  GWa\n 3    R12_AFR    h2_elec      2040  feedstock  year  0.000000  GWa\n 4    R12_AFR    h2_elec      2050  feedstock  year  0.000000  GWa\n ..       ...        ...       ...        ...   ...       ...  ...\n 379  R12_CHN    h2_elec      2015  feedstock  year  1.561005  GWa\n 380  R12_CHN    h2_elec      2025  feedstock  year  0.000000  GWa\n 381  R12_CHN    h2_elec      2035  feedstock  year  0.000000  GWa\n 382  R12_CHN    h2_elec      2045  feedstock  year  0.000000  GWa\n 383  R12_CHN    h2_elec      2055  feedstock  year  0.000000  GWa\n \n [384 rows x 7 columns],\n 'addon_conversion':         node technology  year_vtg  year_act       mode  time  \\\n 0    R12_AFR    h2_elec      2020      2020  feedstock  year   \n 1    R12_AFR    h2_elec      2020      2025  feedstock  year   \n 2    R12_AFR    h2_elec      2020      2030  feedstock  year   \n 3    R12_AFR    h2_elec      2020      2035  feedstock  year   \n 4    R12_AFR    h2_elec      2020      2040  feedstock  year   \n ..       ...        ...       ...       ...        ...   ...   \n 775  R12_CHN    h2_elec      2090      2100  feedstock  year   \n 776  R12_CHN    h2_elec      2090      2110  feedstock  year   \n 777  R12_CHN    h2_elec      2100      2100  feedstock  year   \n 778  R12_CHN    h2_elec      2100      2110  feedstock  year   \n 779  R12_CHN    h2_elec      2110      2110  feedstock  year   \n \n                    type_addon  value unit  \n 0    methanol_synthesis_addon  0.897    -  \n 1    methanol_synthesis_addon  0.897    -  \n 2    methanol_synthesis_addon  0.897    -  \n 3    methanol_synthesis_addon  0.897    -  \n 4    methanol_synthesis_addon  0.897    -  \n ..                        ...    ...  ...  \n 775  methanol_synthesis_addon  0.897    -  \n 776  methanol_synthesis_addon  0.897    -  \n 777  methanol_synthesis_addon  0.897    -  \n 778  methanol_synthesis_addon  0.897    -  \n 779  methanol_synthesis_addon  0.897    -  \n \n [780 rows x 9 columns],\n 'addon_up':         node technology  year_act       mode  time                type_addon  \\\n 0    R12_AFR    h2_elec      2020  feedstock  year  methanol_synthesis_addon   \n 1    R12_AFR    h2_elec      2025  feedstock  year  methanol_synthesis_addon   \n 2    R12_AFR    h2_elec      2030  feedstock  year  methanol_synthesis_addon   \n 3    R12_AFR    h2_elec      2035  feedstock  year  methanol_synthesis_addon   \n 4    R12_AFR    h2_elec      2040  feedstock  year  methanol_synthesis_addon   \n ..       ...        ...       ...        ...   ...                       ...   \n 177  R12_CHN    h2_elec      2070  feedstock  year  methanol_synthesis_addon   \n 178  R12_CHN    h2_elec      2080  feedstock  year  methanol_synthesis_addon   \n 179  R12_CHN    h2_elec      2090  feedstock  year  methanol_synthesis_addon   \n 180  R12_CHN    h2_elec      2100  feedstock  year  methanol_synthesis_addon   \n 181  R12_CHN    h2_elec      2110  feedstock  year  methanol_synthesis_addon   \n \n      value unit  \n 0      1.0    -  \n 1      1.0    -  \n 2      1.0    -  \n 3      1.0    -  \n 4      1.0    -  \n ..     ...  ...  \n 177    1.0    -  \n 178    1.0    -  \n 179    1.0    -  \n 180    1.0    -  \n 181    1.0    -  \n \n [182 rows x 8 columns]}"
     },
     "execution_count": 9,
     "metadata": {},
     "output_type": "execute_result"
    }
   ],
   "source": [
    "import copy\n",
    "paramList_tec = [x for x in scenario.par_list() if\n",
    "                 ((\"technology\" in scenario.idx_sets(x)) & (\"mode\" in scenario.idx_sets(x)))]\n",
    "par_dict_meth = {}\n",
    "for p in paramList_tec:\n",
    "    df = scenario.par(p, filters={\"technology\": \"h2_elec\"})\n",
    "    if df.index.size:\n",
    "        par_dict_meth[p] = df\n",
    "par_dict_fuel = copy.deepcopy(par_dict_meth)\n",
    "par_dict_fs = copy.deepcopy(par_dict_meth)\n",
    "for k, v in par_dict_fuel.items():\n",
    "    v[\"mode\"] = \"fuel\"\n",
    "for k, v in par_dict_fs.items():\n",
    "    v[\"mode\"] = \"feedstock\"\n",
    "par_dict_fs"
   ],
   "metadata": {
    "collapsed": false
   }
  },
  {
   "cell_type": "code",
   "execution_count": 11,
   "outputs": [],
   "source": [
    "import pandas as pd\n",
    "with pd.ExcelWriter('h2_elec_fs.xlsx') as writer:\n",
    "    for i in list(par_dict_fs.keys()):\n",
    "        par_dict_fs[i].to_excel(writer, sheet_name=i, index=False)"
   ],
   "metadata": {
    "collapsed": false
   }
  },
  {
   "cell_type": "code",
   "execution_count": 12,
   "outputs": [],
   "source": [
    "with pd.ExcelWriter('h2_elec_fuel.xlsx') as writer:\n",
    "    for i in list(par_dict_fuel.keys()):\n",
    "        par_dict_fuel[i].to_excel(writer, sheet_name=i, index=False)"
   ],
   "metadata": {
    "collapsed": false
   }
  },
  {
   "cell_type": "code",
   "execution_count": null,
   "outputs": [],
   "source": [
    "for k, v in par_dict_meth.items():\n",
    "    scenario.remove_par(k, v)\n",
    "for k, v in par_dict_fuel.items():\n",
    "    scenario.add_par(k, v)\n",
    "for k, v in par_dict_fs.items():\n",
    "    scenario.add_par(k, v)"
   ],
   "metadata": {
    "collapsed": false
   }
  },
  {
   "cell_type": "code",
   "execution_count": 6,
   "outputs": [],
   "source": [
    "scenario.remove_solution()\n",
    "scenario.check_out()\n",
    "scenario.add_par(\"growth_activity_lo\", df)\n",
    "scenario.commit(\"modify gas petro furnace constraints\")"
   ],
   "metadata": {
    "collapsed": false
   }
  },
  {
   "cell_type": "code",
   "execution_count": 34,
   "outputs": [
    {
     "data": {
      "text/plain": "      node_loc                 technology year_act  time  value unit\n2944  R12_RCPA        steam_cracker_petro     2020  year    0.2    t\n2945   R12_FSU  ethanol_to_ethylene_petro     2020  year    0.1    t\n2946   R12_AFR  ethanol_to_ethylene_petro     2020  year    0.1    t\n2947   R12_PAO  ethanol_to_ethylene_petro     2020  year    0.1    t\n2948   R12_EEU  ethanol_to_ethylene_petro     2020  year    0.1    t\n...        ...                        ...      ...   ...    ...  ...\n7211   R12_PAO  ethanol_to_ethylene_petro     2110  year    0.1    t\n7212   R12_EEU  ethanol_to_ethylene_petro     2110  year    0.1    t\n7213   R12_MEA  ethanol_to_ethylene_petro     2110  year    0.1    t\n7214   R12_WEU  ethanol_to_ethylene_petro     2110  year    0.1    t\n7215   R12_NAM  ethanol_to_ethylene_petro     2110  year    0.1    t\n\n[99 rows x 6 columns]",
      "text/html": "<div>\n<style scoped>\n    .dataframe tbody tr th:only-of-type {\n        vertical-align: middle;\n    }\n\n    .dataframe tbody tr th {\n        vertical-align: top;\n    }\n\n    .dataframe thead th {\n        text-align: right;\n    }\n</style>\n<table border=\"1\" class=\"dataframe\">\n  <thead>\n    <tr style=\"text-align: right;\">\n      <th></th>\n      <th>node_loc</th>\n      <th>technology</th>\n      <th>year_act</th>\n      <th>time</th>\n      <th>value</th>\n      <th>unit</th>\n    </tr>\n  </thead>\n  <tbody>\n    <tr>\n      <th>2944</th>\n      <td>R12_RCPA</td>\n      <td>steam_cracker_petro</td>\n      <td>2020</td>\n      <td>year</td>\n      <td>0.2</td>\n      <td>t</td>\n    </tr>\n    <tr>\n      <th>2945</th>\n      <td>R12_FSU</td>\n      <td>ethanol_to_ethylene_petro</td>\n      <td>2020</td>\n      <td>year</td>\n      <td>0.1</td>\n      <td>t</td>\n    </tr>\n    <tr>\n      <th>2946</th>\n      <td>R12_AFR</td>\n      <td>ethanol_to_ethylene_petro</td>\n      <td>2020</td>\n      <td>year</td>\n      <td>0.1</td>\n      <td>t</td>\n    </tr>\n    <tr>\n      <th>2947</th>\n      <td>R12_PAO</td>\n      <td>ethanol_to_ethylene_petro</td>\n      <td>2020</td>\n      <td>year</td>\n      <td>0.1</td>\n      <td>t</td>\n    </tr>\n    <tr>\n      <th>2948</th>\n      <td>R12_EEU</td>\n      <td>ethanol_to_ethylene_petro</td>\n      <td>2020</td>\n      <td>year</td>\n      <td>0.1</td>\n      <td>t</td>\n    </tr>\n    <tr>\n      <th>...</th>\n      <td>...</td>\n      <td>...</td>\n      <td>...</td>\n      <td>...</td>\n      <td>...</td>\n      <td>...</td>\n    </tr>\n    <tr>\n      <th>7211</th>\n      <td>R12_PAO</td>\n      <td>ethanol_to_ethylene_petro</td>\n      <td>2110</td>\n      <td>year</td>\n      <td>0.1</td>\n      <td>t</td>\n    </tr>\n    <tr>\n      <th>7212</th>\n      <td>R12_EEU</td>\n      <td>ethanol_to_ethylene_petro</td>\n      <td>2110</td>\n      <td>year</td>\n      <td>0.1</td>\n      <td>t</td>\n    </tr>\n    <tr>\n      <th>7213</th>\n      <td>R12_MEA</td>\n      <td>ethanol_to_ethylene_petro</td>\n      <td>2110</td>\n      <td>year</td>\n      <td>0.1</td>\n      <td>t</td>\n    </tr>\n    <tr>\n      <th>7214</th>\n      <td>R12_WEU</td>\n      <td>ethanol_to_ethylene_petro</td>\n      <td>2110</td>\n      <td>year</td>\n      <td>0.1</td>\n      <td>t</td>\n    </tr>\n    <tr>\n      <th>7215</th>\n      <td>R12_NAM</td>\n      <td>ethanol_to_ethylene_petro</td>\n      <td>2110</td>\n      <td>year</td>\n      <td>0.1</td>\n      <td>t</td>\n    </tr>\n  </tbody>\n</table>\n<p>99 rows × 6 columns</p>\n</div>"
     },
     "execution_count": 34,
     "metadata": {},
     "output_type": "execute_result"
    }
   ],
   "source": [
    "par_petro[\"initial_activity_up\"]"
   ],
   "metadata": {
    "collapsed": false
   }
  },
  {
   "cell_type": "code",
   "execution_count": 35,
   "outputs": [],
   "source": [
    "from message_data.model.material import data_methanol\n",
    "par_mto = data_methanol.gen_data_meth_chemicals(scenario2, \"MTO\")"
   ],
   "metadata": {
    "collapsed": false
   }
  },
  {
   "cell_type": "code",
   "execution_count": 38,
   "outputs": [
    {
     "data": {
      "text/plain": "     node_loc technology  year_act  time  value unit\n0     R12_AFR  MTO_petro      2020  year    0.1  ???\n1     R12_AFR  MTO_petro      2025  year    0.1  ???\n2     R12_AFR  MTO_petro      2030  year    0.1  ???\n3     R12_AFR  MTO_petro      2035  year    0.1  ???\n4     R12_AFR  MTO_petro      2040  year    0.1  ???\n...       ...        ...       ...   ...    ...  ...\n1759  R12_WEU  MTO_petro      2070  year    0.1  ???\n1760  R12_WEU  MTO_petro      2080  year    0.1  ???\n1761  R12_WEU  MTO_petro      2090  year    0.1  ???\n1762  R12_WEU  MTO_petro      2100  year    0.1  ???\n1763  R12_WEU  MTO_petro      2110  year    0.1  ???\n\n[154 rows x 6 columns]",
      "text/html": "<div>\n<style scoped>\n    .dataframe tbody tr th:only-of-type {\n        vertical-align: middle;\n    }\n\n    .dataframe tbody tr th {\n        vertical-align: top;\n    }\n\n    .dataframe thead th {\n        text-align: right;\n    }\n</style>\n<table border=\"1\" class=\"dataframe\">\n  <thead>\n    <tr style=\"text-align: right;\">\n      <th></th>\n      <th>node_loc</th>\n      <th>technology</th>\n      <th>year_act</th>\n      <th>time</th>\n      <th>value</th>\n      <th>unit</th>\n    </tr>\n  </thead>\n  <tbody>\n    <tr>\n      <th>0</th>\n      <td>R12_AFR</td>\n      <td>MTO_petro</td>\n      <td>2020</td>\n      <td>year</td>\n      <td>0.1</td>\n      <td>???</td>\n    </tr>\n    <tr>\n      <th>1</th>\n      <td>R12_AFR</td>\n      <td>MTO_petro</td>\n      <td>2025</td>\n      <td>year</td>\n      <td>0.1</td>\n      <td>???</td>\n    </tr>\n    <tr>\n      <th>2</th>\n      <td>R12_AFR</td>\n      <td>MTO_petro</td>\n      <td>2030</td>\n      <td>year</td>\n      <td>0.1</td>\n      <td>???</td>\n    </tr>\n    <tr>\n      <th>3</th>\n      <td>R12_AFR</td>\n      <td>MTO_petro</td>\n      <td>2035</td>\n      <td>year</td>\n      <td>0.1</td>\n      <td>???</td>\n    </tr>\n    <tr>\n      <th>4</th>\n      <td>R12_AFR</td>\n      <td>MTO_petro</td>\n      <td>2040</td>\n      <td>year</td>\n      <td>0.1</td>\n      <td>???</td>\n    </tr>\n    <tr>\n      <th>...</th>\n      <td>...</td>\n      <td>...</td>\n      <td>...</td>\n      <td>...</td>\n      <td>...</td>\n      <td>...</td>\n    </tr>\n    <tr>\n      <th>1759</th>\n      <td>R12_WEU</td>\n      <td>MTO_petro</td>\n      <td>2070</td>\n      <td>year</td>\n      <td>0.1</td>\n      <td>???</td>\n    </tr>\n    <tr>\n      <th>1760</th>\n      <td>R12_WEU</td>\n      <td>MTO_petro</td>\n      <td>2080</td>\n      <td>year</td>\n      <td>0.1</td>\n      <td>???</td>\n    </tr>\n    <tr>\n      <th>1761</th>\n      <td>R12_WEU</td>\n      <td>MTO_petro</td>\n      <td>2090</td>\n      <td>year</td>\n      <td>0.1</td>\n      <td>???</td>\n    </tr>\n    <tr>\n      <th>1762</th>\n      <td>R12_WEU</td>\n      <td>MTO_petro</td>\n      <td>2100</td>\n      <td>year</td>\n      <td>0.1</td>\n      <td>???</td>\n    </tr>\n    <tr>\n      <th>1763</th>\n      <td>R12_WEU</td>\n      <td>MTO_petro</td>\n      <td>2110</td>\n      <td>year</td>\n      <td>0.1</td>\n      <td>???</td>\n    </tr>\n  </tbody>\n</table>\n<p>154 rows × 6 columns</p>\n</div>"
     },
     "execution_count": 38,
     "metadata": {},
     "output_type": "execute_result"
    }
   ],
   "source": [
    "par_mto[\"initial_activity_up\"].drop_duplicates()"
   ],
   "metadata": {
    "collapsed": false
   }
  },
  {
   "cell_type": "code",
   "execution_count": 25,
   "outputs": [
    {
     "data": {
      "text/plain": "'2023-04-13 15:29:47.0'"
     },
     "execution_count": 25,
     "metadata": {},
     "output_type": "execute_result"
    }
   ],
   "source": [
    "scenario2.last_update()"
   ],
   "metadata": {
    "collapsed": false
   }
  },
  {
   "cell_type": "code",
   "execution_count": 11,
   "outputs": [],
   "source": [
    "scenario2 = message_ix.Scenario(mp, model=\"MESSAGEix-Materials\", scenario=\"NoPolicy_petro_thesis_2\")#, version=65)"
   ],
   "metadata": {
    "collapsed": false
   }
  },
  {
   "cell_type": "code",
   "execution_count": 26,
   "outputs": [],
   "source": [
    "df = scenario2.par(\"initial_activity_up\", filters={\"technology\":\"MTO_petro\", \"node_loc\":\"R12_CHN\"})\n",
    "scenario2.check_out()\n",
    "scenario2.remove_par(\"initial_activity_up\", df)\n",
    "\n",
    "#df[\"level\"] = \"secondary\"\n",
    "#scenario2.add_par(\"output\", df)"
   ],
   "metadata": {
    "collapsed": false
   }
  },
  {
   "cell_type": "code",
   "execution_count": 27,
   "outputs": [],
   "source": [
    "df_eth = scenario2.par(\"initial_activity_up\", filters={\"technology\":\"ethanol_to_ethylene_petro\"})\n",
    "df_eth\n",
    "df_eth_hist = scenario2.par(\"historical_activity\", filters={\"technology\":\"ethanol_to_ethylene_petro\", \"year_act\":2015})[\"node_loc\"]"
   ],
   "metadata": {
    "collapsed": false
   }
  },
  {
   "cell_type": "code",
   "execution_count": 28,
   "outputs": [],
   "source": [
    "scenario2.remove_par(\"initial_activity_up\" ,df_eth[df_eth[\"node_loc\"].isin(df_eth_hist)])"
   ],
   "metadata": {
    "collapsed": false
   }
  },
  {
   "cell_type": "code",
   "execution_count": 29,
   "outputs": [],
   "source": [
    "scenario2.commit(\"remove ini act up for historical regions\")"
   ],
   "metadata": {
    "collapsed": false
   }
  },
  {
   "cell_type": "code",
   "execution_count": null,
   "outputs": [],
   "source": [
    "paramList_tec = [x for x in scenario.par_list() if \"mode\" in scenario.idx_sets(x)]"
   ],
   "metadata": {
    "collapsed": false
   }
  },
  {
   "cell_type": "code",
   "execution_count": null,
   "outputs": [],
   "source": [
    "import pandas as pd\n",
    "par_dict_meth = {}\n",
    "df_all_rows = pd.DataFrame()\n",
    "for p in paramList_tec:\n",
    "    df = scenario.par(p, filters={\"technology\":\"meth_h2\"})\n",
    "    if df.index.size:\n",
    "        par_dict_meth[p] = df"
   ],
   "metadata": {
    "collapsed": false
   }
  },
  {
   "cell_type": "code",
   "execution_count": null,
   "outputs": [],
   "source": [
    "for k,v in par_dict_meth.items():\n",
    "    print(k, v[\"mode\"].unique())"
   ],
   "metadata": {
    "collapsed": false
   }
  },
  {
   "cell_type": "code",
   "execution_count": null,
   "outputs": [],
   "source": [
    "scenario.remove_solution()\n",
    "scenario.check_out()"
   ],
   "metadata": {
    "collapsed": false
   }
  },
  {
   "cell_type": "code",
   "execution_count": null,
   "outputs": [],
   "source": [
    "par = \"addon_up\" #\"addon_conversion\" #\n",
    "df = scenario.par(par, filters={\"technology\":\"h2_elec\"})\n",
    "df_remove = df.copy(deep=True)\n",
    "scenario.remove_par(par, df_remove)\n",
    "\n",
    "df[\"mode\"] = \"M1\"\n",
    "scenario.add_par(par, df.drop_duplicates())"
   ],
   "metadata": {
    "collapsed": false
   }
  },
  {
   "cell_type": "code",
   "execution_count": null,
   "outputs": [],
   "source": [
    "scenario.commit(\"fix meth_h2 addon parameters\")"
   ],
   "metadata": {
    "collapsed": false
   }
  },
  {
   "cell_type": "code",
   "execution_count": null,
   "outputs": [],
   "source": [
    "df = mp.scenario_list()\n",
    "df[df[\"scenario\"].str.contains(\"petro\")]\n",
    "#clone Scenario from 'SHAPE_SSP2_v4.1.8|baseline_no_SDGs', version: 1"
   ],
   "metadata": {
    "collapsed": false
   }
  },
  {
   "cell_type": "code",
   "execution_count": null,
   "outputs": [],
   "source": [
    "df = scenario.par(\"initial_activity_up\", filters={\"technology\":\"geo_ppl\"})"
   ],
   "metadata": {
    "collapsed": false
   }
  },
  {
   "cell_type": "code",
   "execution_count": null,
   "outputs": [],
   "source": [
    "df = df[df.year_act > 2015]\n",
    "df[\"value\"] = 0.1\n",
    "df[\"technology\"] = \"MTO_petro\"\n",
    "df[\"unit\"] = \"-\"\n",
    "scenario.check_out()\n",
    "scenario.add_par(\"initial_activity_up\", df[df[\"node_loc\"]!=\"R12_CHN\"])"
   ],
   "metadata": {
    "collapsed": false
   }
  },
  {
   "cell_type": "code",
   "execution_count": null,
   "outputs": [],
   "source": [
    "scenario.commit(\"add MTO ini_act_up\")"
   ],
   "metadata": {
    "collapsed": false
   }
  },
  {
   "cell_type": "code",
   "execution_count": null,
   "outputs": [],
   "source": [
    "df_growth_up = scenario.par(\"growth_activity_up\", filters={\"technology\": \"meth_exp\"})\n",
    "df_growth_up = df_growth_up[df_growth_up[\"node_loc\"]==\"R12_NAM\"]\n",
    "df_growth_up = df_growth_up[df_growth_up[\"year_act\"]==2020]\n",
    "df_growth_up[\"value\"] = 0.2\n",
    "df_growth_up"
   ],
   "metadata": {
    "collapsed": false
   }
  },
  {
   "cell_type": "code",
   "execution_count": null,
   "outputs": [],
   "source": [
    "df_growth_up = scenario.par(\"initial_activity_up\", filters={\"technology\": \"meth_imp\"})\n",
    "#df_growth_up = df_growth_up[df_growth_up[\"node_loc\"]==\"R12_NAM\"]\n",
    "df_growth_up = df_growth_up[df_growth_up[\"year_act\"]==2020]\n",
    "#df_growth_up[\"value\"] = 0.2\n",
    "df_growth_up"
   ],
   "metadata": {
    "collapsed": false
   }
  },
  {
   "cell_type": "code",
   "execution_count": null,
   "outputs": [],
   "source": [],
   "metadata": {
    "collapsed": false
   }
  },
  {
   "cell_type": "code",
   "execution_count": null,
   "outputs": [],
   "source": [
    "scenario.remove_solution()\n",
    "scenario.check_out()\n",
    "scenario.remove_par(\"initial_activity_up\", df_growth_up)\n",
    "scenario.commit(\"modify meth exp growth constraint\")"
   ],
   "metadata": {
    "collapsed": false
   }
  },
  {
   "cell_type": "code",
   "execution_count": null,
   "outputs": [],
   "source": [
    "df_growth_up = scenario.par(\"growth_activity_up\", filters={\"technology\": \"steam_cracker_petro\"})\n",
    "df_growth_up[\"technology\"] = \"import_petro\""
   ],
   "metadata": {
    "collapsed": false
   }
  },
  {
   "cell_type": "markdown",
   "source": [],
   "metadata": {
    "collapsed": false
   }
  },
  {
   "cell_type": "markdown",
   "source": [
    "## Unlock scenario"
   ],
   "metadata": {
    "collapsed": false
   }
  },
  {
   "cell_type": "code",
   "execution_count": null,
   "outputs": [],
   "source": [
    "scenario.run_id()"
   ],
   "metadata": {
    "collapsed": false
   }
  },
  {
   "cell_type": "code",
   "execution_count": null,
   "outputs": [],
   "source": [
    "#mp._backend.jobj.unlockRunid(scenario.run_id())\n",
    "mp._backend.jobj.unlockRunid(33129)"
   ],
   "metadata": {
    "collapsed": false
   }
  },
  {
   "cell_type": "markdown",
   "source": [],
   "metadata": {
    "collapsed": false
   }
  },
  {
   "cell_type": "markdown",
   "source": [
    "## set local data path"
   ],
   "metadata": {
    "collapsed": false
   }
  },
  {
   "cell_type": "code",
   "execution_count": 4,
   "outputs": [],
   "source": [
    "import os\n",
    "from message_ix_models import Context\n",
    "from pathlib import Path\n",
    "Context.get_instance(-1).handle_cli_args(local_data=Path(os.getcwd()).parents[2].joinpath(\"data\"))\n",
    "#Path(os.getcwd()).parents[2].joinpath(\"data\")"
   ],
   "metadata": {
    "collapsed": false
   }
  },
  {
   "cell_type": "markdown",
   "source": [],
   "metadata": {
    "collapsed": false
   }
  },
  {
   "cell_type": "markdown",
   "source": [
    "## get all parameters for given technology"
   ],
   "metadata": {
    "collapsed": false
   }
  },
  {
   "cell_type": "code",
   "execution_count": null,
   "outputs": [],
   "source": [
    "paramList_tec = [x for x in scenario.par_list() if \"technology\" in scenario.idx_sets(x)]"
   ],
   "metadata": {
    "collapsed": false
   }
  },
  {
   "cell_type": "code",
   "execution_count": null,
   "outputs": [],
   "source": [
    "import numpy as np"
   ],
   "metadata": {
    "collapsed": false
   }
  },
  {
   "cell_type": "code",
   "execution_count": null,
   "outputs": [],
   "source": [
    "par_dict_bunker = {}\n",
    "df_all_rows = pd.DataFrame()\n",
    "for p in paramList_tec:\n",
    "    df = scenario.par(p, filters={\"technology\":\"meth_exp\"})\n",
    "    if df.index.size:\n",
    "        par_dict_bunker[p] = df\n",
    "\n",
    "df = par_dict_bunker[\"relation_activity\"]\n",
    "par_dict_bunker[\"relation_activity\"] = df[~df[\"relation\"].str.contains(\"CO\")]\n",
    "\n",
    "for k in par_dict_bunker.keys():\n",
    "    par_dict_bunker[k][\"technology\"] = \"NH3_bunker\"\n",
    "    if \"level\" in par_dict_bunker[k].columns:\n",
    "        par_dict_bunker[k][\"level\"] = \"secondary_material\"\n",
    "    if \"commodity\" in par_dict_bunker[k].columns:\n",
    "        par_dict_bunker[k][\"commodity\"] = \"NH3\""
   ],
   "metadata": {
    "collapsed": false
   }
  },
  {
   "cell_type": "code",
   "execution_count": null,
   "outputs": [],
   "source": [
    "df_all_rows = pd.DataFrame()\n",
    "for p in paramList_tec:\n",
    "    print(p)\n",
    "    df = scenario.par(p)\n",
    "    df = df[df[\"technology\"]==\"meth_bunker\"]\n",
    "    for v in df[\"value\"].unique():\n",
    "        if v == 0:\n",
    "            continue\n",
    "        df_row = df[np.isclose(df[\"value\"], v)].iloc[0]\n",
    "        df_row[\"parameter\"] = p\n",
    "        df_all_rows = pd.concat([df_all_rows, pd.DataFrame(df_row.copy(deep=True)).T])"
   ],
   "metadata": {
    "collapsed": false
   }
  },
  {
   "cell_type": "code",
   "execution_count": null,
   "outputs": [],
   "source": [
    "df_all_rows[df_all_rows[\"parameter\"] ==\"relation_activity\"].dropna(axis=1)\n",
    "#df_all_rows[\"parameter\"].unique()\n",
    "#df_all_rows[df_all_rows[\"node_loc\"]==\"R12_CHN\"]"
   ],
   "metadata": {
    "collapsed": false
   }
  },
  {
   "cell_type": "code",
   "execution_count": null,
   "outputs": [],
   "source": [
    "df_all_rows.to_excel(\"meth_rc_all_unique_par_vals.xlsx\")"
   ],
   "metadata": {
    "collapsed": false
   }
  },
  {
   "cell_type": "code",
   "execution_count": null,
   "outputs": [],
   "source": [
    "df_all_rows = pd.DataFrame()\n",
    "for p in paramList_tec:\n",
    "    print(p)\n",
    "    df = scenario.par(p)\n",
    "    df = df[df[\"technology\"]==\"meth_bunker\"]\n",
    "    for v in df[\"value\"].unique():\n",
    "        if v == 0:\n",
    "            continue\n",
    "        df_row = df[np.isclose(df[\"value\"], v)].iloc[0]\n",
    "        df_row[\"parameter\"] = p\n",
    "        df_all_rows = pd.concat([df_all_rows, pd.DataFrame(df_row.copy(deep=True)).T])"
   ],
   "metadata": {
    "collapsed": false
   }
  },
  {
   "cell_type": "code",
   "execution_count": null,
   "outputs": [],
   "source": [
    "df_all_rows[df_all_rows[\"parameter\"] ==\"relation_activity\"].dropna(axis=1)\n",
    "#df_all_rows[\"parameter\"].unique()\n",
    "#df_all_rows[df_all_rows[\"node_loc\"]==\"R12_CHN\"]"
   ],
   "metadata": {
    "collapsed": false
   }
  },
  {
   "cell_type": "code",
   "execution_count": null,
   "outputs": [],
   "source": [
    "df_all_rows.to_excel(\"meth_rc_all_unique_par_vals.xlsx\")"
   ],
   "metadata": {
    "collapsed": false
   }
  },
  {
   "cell_type": "markdown",
   "source": [],
   "metadata": {
    "collapsed": false
   }
  },
  {
   "cell_type": "markdown",
   "source": [
    "## investigate CCS issues"
   ],
   "metadata": {
    "collapsed": false
   }
  },
  {
   "cell_type": "code",
   "execution_count": null,
   "outputs": [],
   "source": [
    "scen_org = message_ix.Scenario(mp,model = \"SHAPE_SSP2_v4.1.8\", scenario=\"baseline\")"
   ],
   "metadata": {
    "collapsed": false
   }
  },
  {
   "cell_type": "code",
   "execution_count": null,
   "outputs": [],
   "source": [
    "co2_dict = {}\n",
    "for k in scen_org.par_list():\n",
    "    df = scen_org.par(k)\n",
    "    print(k)\n",
    "    co2_dict[k] =  df.get(df.get(\"technology\")==\"co2_tr_dis\")"
   ],
   "metadata": {
    "collapsed": false
   }
  },
  {
   "cell_type": "code",
   "execution_count": null,
   "outputs": [],
   "source": [
    "new_dict = {}\n",
    "for i in co2_dict.keys():\n",
    "    if co2_dict[i] is not None:\n",
    "        if len(co2_dict[i]):\n",
    "            new_dict[i] = co2_dict[i]"
   ],
   "metadata": {
    "collapsed": false
   }
  },
  {
   "cell_type": "markdown",
   "source": [],
   "metadata": {
    "collapsed": false
   }
  },
  {
   "cell_type": "markdown",
   "source": [
    "## get all ethanol pars"
   ],
   "metadata": {
    "collapsed": false
   }
  },
  {
   "cell_type": "code",
   "execution_count": null,
   "outputs": [],
   "source": [
    "par_dict = {}\n",
    "for p in scenario.par_list():\n",
    "    try:\n",
    "        par_dict[p] = scenario.par(p, filters={\"technology\":\"ethanol_to_ethylene_petro\"})\n",
    "    except:\n",
    "        continue"
   ],
   "metadata": {
    "collapsed": false
   }
  },
  {
   "cell_type": "code",
   "execution_count": null,
   "outputs": [],
   "source": [
    "for i in list(par_dict.keys()):\n",
    "    if par_dict[i].size == 0:\n",
    "        par_dict.pop(i)"
   ],
   "metadata": {
    "collapsed": false
   }
  },
  {
   "cell_type": "markdown",
   "source": [
    "## check local and private path"
   ],
   "metadata": {
    "collapsed": false
   }
  },
  {
   "cell_type": "code",
   "execution_count": null,
   "outputs": [],
   "source": [
    "from message_data.model.material.util import read_config"
   ],
   "metadata": {
    "collapsed": false
   }
  },
  {
   "cell_type": "code",
   "execution_count": null,
   "outputs": [],
   "source": [
    "import ixmp\n",
    "ixmp.config.get(\"message local data\")"
   ],
   "metadata": {
    "collapsed": false
   }
  },
  {
   "cell_type": "code",
   "execution_count": null,
   "outputs": [],
   "source": [
    "from message_ix_models.util import local_data_path, private_data_path"
   ],
   "metadata": {
    "collapsed": false
   }
  },
  {
   "cell_type": "code",
   "execution_count": null,
   "outputs": [],
   "source": [
    "private_data_path()"
   ],
   "metadata": {
    "collapsed": false
   }
  },
  {
   "cell_type": "code",
   "execution_count": null,
   "outputs": [],
   "source": [
    "import importlib"
   ],
   "metadata": {
    "collapsed": false
   }
  },
  {
   "cell_type": "code",
   "execution_count": null,
   "outputs": [],
   "source": [
    "importlib.reload(data_methanol)"
   ],
   "metadata": {
    "collapsed": false
   }
  },
  {
   "cell_type": "code",
   "execution_count": null,
   "outputs": [],
   "source": [
    "import ixmp as ix\n",
    "import message_ix\n",
    "mp = ix.Platform(\"ixmp_dev\")\n",
    "scenario = message_ix.Scenario(mp, model=\"MESSAGEix-Materials\", scenario=\"NoPolicy_petro_thesis_2_macro\")#, version=37)\n",
    "#scenario = message_ix.Scenario(mp, model=\"MESSAGEix-Materials\", scenario=\"baseline_VK_Transport-Materials_VK\")#, version=37)"
   ],
   "metadata": {
    "collapsed": false
   }
  },
  {
   "cell_type": "code",
   "execution_count": null,
   "outputs": [],
   "source": [
    "import os\n",
    "from message_ix_models import Context\n",
    "from pathlib import Path\n",
    "Context.get_instance(-1).handle_cli_args(local_data=Path(os.getcwd()).parents[2].joinpath(\"data\"))\n",
    "#Path(os.getcwd()).parents[2].joinpath(\"data\")"
   ],
   "metadata": {
    "collapsed": false
   }
  },
  {
   "cell_type": "code",
   "execution_count": null,
   "outputs": [],
   "source": [
    "from message_data.model.material import data_methanol"
   ],
   "metadata": {
    "collapsed": false
   }
  },
  {
   "cell_type": "code",
   "execution_count": null,
   "outputs": [],
   "source": [
    "par_dict = data_methanol.gen_data_methanol(scenario)"
   ],
   "metadata": {
    "collapsed": false
   }
  },
  {
   "cell_type": "code",
   "execution_count": null,
   "outputs": [],
   "source": [
    "for i in par_dict.keys():\n",
    "    df = par_dict[i]\n",
    "    if \"mode\" in par_dict[i].columns:\n",
    "        print(i)\n",
    "        print(df[df[\"mode\"]  == \"M1\"][\"technology\"].unique())\n",
    "        #print(df[[\"mode\", \"technology\"]].drop_duplicates())\n",
    "        print()"
   ],
   "metadata": {
    "collapsed": false
   }
  },
  {
   "cell_type": "code",
   "execution_count": null,
   "outputs": [],
   "source": [
    "for i in par_dict.keys():\n",
    "    df = par_dict[i]\n",
    "    if \"level\" in par_dict[i].columns:\n",
    "        print(i)\n",
    "        #print(df[df[\"mode\"]  == \"M1\"][\"technology\"].unique())\n",
    "        print(df[[\"level\", \"technology\", \"commodity\"]].drop_duplicates())\n",
    "        print()"
   ],
   "metadata": {
    "collapsed": false
   }
  },
  {
   "cell_type": "code",
   "execution_count": null,
   "outputs": [],
   "source": [
    "data_methanol.gen_data_meth_chemicals(scenario, \"MTO\")[\"initial_activity_up\"]"
   ],
   "metadata": {
    "collapsed": false
   }
  }
 ],
 "metadata": {
  "kernelspec": {
   "display_name": "Python 3",
   "language": "python",
   "name": "python3"
  },
  "language_info": {
   "codemirror_mode": {
    "name": "ipython",
    "version": 2
   },
   "file_extension": ".py",
   "mimetype": "text/x-python",
   "name": "python",
   "nbconvert_exporter": "python",
   "pygments_lexer": "ipython2",
   "version": "2.7.6"
  }
 },
 "nbformat": 4,
 "nbformat_minor": 0
}
