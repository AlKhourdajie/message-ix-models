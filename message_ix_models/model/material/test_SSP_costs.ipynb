{
 "cells": [
  {
   "cell_type": "code",
   "execution_count": 7,
   "outputs": [
    {
     "data": {
      "text/plain": "<IPython.core.display.Javascript object>",
      "application/javascript": "if (typeof IPython !== 'undefined') { IPython.OutputArea.prototype._should_scroll = function(lines){ return false; }}"
     },
     "metadata": {},
     "output_type": "display_data"
    }
   ],
   "source": [
    "model = \"MESSAGEix-Materials\"\n",
    "scenario = \"baseline_DEFAULT_test_0310_macro\"\n",
    "\n",
    "\n",
    "import ixmp\n",
    "import message_ix\n",
    "mp = ixmp.Platform(\"ixmp_dev\")\n",
    "scen = message_ix.Scenario(mp, model, scenario)"
   ],
   "metadata": {
    "collapsed": false,
    "ExecuteTime": {
     "end_time": "2023-11-28T21:04:48.800572400Z",
     "start_time": "2023-11-28T21:04:39.706723100Z"
    }
   },
   "id": "64cd795b05a0bdd"
  },
  {
   "cell_type": "code",
   "execution_count": 2,
   "outputs": [],
   "source": [
    "model = \"MESSAGEix-Materials\"\n",
    "scenario = \"baseline_DEFAULT_0108_macro\"\n",
    "\n",
    "\n",
    "import ixmp\n",
    "import message_ix\n",
    "mp = ixmp.Platform(\"ixmp_dev\")\n",
    "scen = message_ix.Scenario(mp, model, scenario)"
   ],
   "metadata": {
    "collapsed": false,
    "ExecuteTime": {
     "end_time": "2023-11-29T07:51:33.404668500Z",
     "start_time": "2023-11-29T07:51:32.023778600Z"
    }
   },
   "id": "46f136d4c3eeff9d"
  },
  {
   "cell_type": "code",
   "execution_count": 7,
   "outputs": [],
   "source": [
    "scen.to_excel(\"C:/Users\\maczek\\PycharmProjects\\message_data/macro_dump.xlsx\")"
   ],
   "metadata": {
    "collapsed": false,
    "ExecuteTime": {
     "end_time": "2023-11-29T09:15:51.773767900Z",
     "start_time": "2023-11-29T07:53:47.494599700Z"
    }
   },
   "id": "5dbbbdf07d5feade"
  },
  {
   "cell_type": "code",
   "execution_count": 8,
   "outputs": [
    {
     "data": {
      "text/plain": "True"
     },
     "execution_count": 8,
     "metadata": {},
     "output_type": "execute_result"
    }
   ],
   "source": [
    "scen.has_solution()"
   ],
   "metadata": {
    "collapsed": false,
    "ExecuteTime": {
     "end_time": "2023-11-28T21:04:51.769066400Z",
     "start_time": "2023-11-28T21:04:51.706749500Z"
    }
   },
   "id": "5bf2f475d4a0cd34"
  },
  {
   "cell_type": "code",
   "execution_count": 9,
   "outputs": [],
   "source": [
    "base = scen.clone(model=scen.model, scenario=\"SSP_supply_cost_test_baseline_macro\", keep_solution=False)"
   ],
   "metadata": {
    "collapsed": false,
    "ExecuteTime": {
     "end_time": "2023-11-28T21:05:36.800203700Z",
     "start_time": "2023-11-28T21:05:18.456553600Z"
    }
   },
   "id": "2f393bdf1d5d3b0e"
  },
  {
   "cell_type": "code",
   "execution_count": 4,
   "outputs": [],
   "source": [
    "from message_ix_models.tools.costs.config import Config\n",
    "from message_ix_models.tools.costs.projections import create_cost_projections"
   ],
   "metadata": {
    "collapsed": false,
    "ExecuteTime": {
     "end_time": "2023-11-26T23:16:20.039581700Z",
     "start_time": "2023-11-26T23:16:16.086701100Z"
    }
   },
   "id": "a8aca9ff39fadf22"
  },
  {
   "cell_type": "code",
   "execution_count": 6,
   "outputs": [
    {
     "name": "stdout",
     "output_type": "stream",
     "text": [
      "Selected module: materials\n",
      "Selected node: R12\n",
      "Selected reference region: R12_NAM\n",
      "Selected base year: 2021\n",
      "Selected method: convergence\n",
      "Selected fixed O&M rate: 0.025\n",
      "Selected format: message\n",
      "Selected scenario: SSP2\n",
      "Selected convergence year: 2050\n",
      "For the convergence method, only the SSP scenario(s) itself         needs to be specified.         No scenario version (previous vs. updated) is needed.\n",
      "...Calculating regional differentiation in base year+region...\n",
      "The following technologies are not projected due to insufficient data:\n",
      "CH2O_synth\n",
      "CH2O_to_resin\n",
      "DUMMY_alumina_supply\n",
      "DUMMY_coal_supply\n",
      "DUMMY_gas_supply\n",
      "DUMMY_limestone_supply_cement\n",
      "DUMMY_limestone_supply_steel\n",
      "DUMMY_ore_supply\n",
      "agg_ref\n",
      "feedstock_t/d\n",
      "finishing_aluminum\n",
      "gas_processing_petro\n",
      "hydrotreating_ref\n",
      "import_NFert\n",
      "import_NH3\n",
      "import_aluminum\n",
      "import_petro\n",
      "import_steel\n",
      "manuf_aluminum\n",
      "meth_bal\n",
      "meth_imp\n",
      "meth_t_d\n",
      "meth_t_d_material\n",
      "meth_trd\n",
      "other_EOL_aluminum\n",
      "other_EOL_cement\n",
      "other_EOL_steel\n",
      "prep_secondary_aluminum_1\n",
      "prep_secondary_aluminum_2\n",
      "prep_secondary_aluminum_3\n",
      "prep_secondary_steel_1\n",
      "prep_secondary_steel_2\n",
      "prep_secondary_steel_3\n",
      "production_HVC\n",
      "residual_NH3\n",
      "scrap_recovery_aluminum\n",
      "scrap_recovery_cement\n",
      "scrap_recovery_steel\n",
      "secondary_aluminum\n",
      "total_EOL_aluminum\n",
      "total_EOL_cement\n",
      "total_EOL_steel\n",
      "trade_NFert\n",
      "trade_NH3\n",
      "trade_aluminum\n",
      "trade_petro\n",
      "trade_steel\n",
      "......(Using year 2021 data from WEO.)\n",
      "...Applying learning rates to reference region...\n",
      "...Applying splines to converge...\n",
      "...Creating MESSAGE outputs...\n"
     ]
    }
   ],
   "source": [
    "cfg = Config(module=\"materials\", ref_region=\"R12_NAM\", method=\"convergence\", format=\"message\", scenario=\"SSP2\")\n",
    "\n",
    "out_materials = create_cost_projections(\n",
    "    node=cfg.node,\n",
    "    ref_region=cfg.ref_region,\n",
    "    base_year=cfg.base_year,\n",
    "    module=cfg.module,\n",
    "    method=cfg.method,\n",
    "    scenario_version=cfg.scenario_version,\n",
    "    scenario=cfg.scenario,\n",
    "    convergence_year=cfg.convergence_year,\n",
    "    fom_rate=cfg.fom_rate,\n",
    "    format=cfg.format,\n",
    ")"
   ],
   "metadata": {
    "collapsed": false,
    "ExecuteTime": {
     "end_time": "2023-11-26T23:22:58.008834200Z",
     "start_time": "2023-11-26T23:21:43.039935700Z"
    }
   },
   "id": "d038d7d62bea30a2"
  },
  {
   "cell_type": "code",
   "execution_count": 10,
   "outputs": [
    {
     "data": {
      "text/plain": "         node_loc      technology  year_vtg  year_act     value     unit\n0         R12_AFR         bio_hpl      1960      1960  9.519231  USD/kWa\n1         R12_AFR         bio_hpl      1960      1965  9.519231  USD/kWa\n2         R12_AFR         bio_hpl      1960      1970  9.519231  USD/kWa\n3         R12_AFR         bio_hpl      1960      1975  9.519231  USD/kWa\n4         R12_AFR         bio_hpl      1960      1980  9.519231  USD/kWa\n...           ...             ...       ...       ...       ...      ...\n11799575  R12_WEU  visbreaker_ref      2090      2100  1.478498  USD/kWa\n11799576  R12_WEU  visbreaker_ref      2090      2110  1.892602  USD/kWa\n11799577  R12_WEU  visbreaker_ref      2100      2100  1.155000  USD/kWa\n11799578  R12_WEU  visbreaker_ref      2100      2110  1.478498  USD/kWa\n11799579  R12_WEU  visbreaker_ref      2110      2110  1.155000  USD/kWa\n\n[892848 rows x 6 columns]",
      "text/html": "<div>\n<style scoped>\n    .dataframe tbody tr th:only-of-type {\n        vertical-align: middle;\n    }\n\n    .dataframe tbody tr th {\n        vertical-align: top;\n    }\n\n    .dataframe thead th {\n        text-align: right;\n    }\n</style>\n<table border=\"1\" class=\"dataframe\">\n  <thead>\n    <tr style=\"text-align: right;\">\n      <th></th>\n      <th>node_loc</th>\n      <th>technology</th>\n      <th>year_vtg</th>\n      <th>year_act</th>\n      <th>value</th>\n      <th>unit</th>\n    </tr>\n  </thead>\n  <tbody>\n    <tr>\n      <th>0</th>\n      <td>R12_AFR</td>\n      <td>bio_hpl</td>\n      <td>1960</td>\n      <td>1960</td>\n      <td>9.519231</td>\n      <td>USD/kWa</td>\n    </tr>\n    <tr>\n      <th>1</th>\n      <td>R12_AFR</td>\n      <td>bio_hpl</td>\n      <td>1960</td>\n      <td>1965</td>\n      <td>9.519231</td>\n      <td>USD/kWa</td>\n    </tr>\n    <tr>\n      <th>2</th>\n      <td>R12_AFR</td>\n      <td>bio_hpl</td>\n      <td>1960</td>\n      <td>1970</td>\n      <td>9.519231</td>\n      <td>USD/kWa</td>\n    </tr>\n    <tr>\n      <th>3</th>\n      <td>R12_AFR</td>\n      <td>bio_hpl</td>\n      <td>1960</td>\n      <td>1975</td>\n      <td>9.519231</td>\n      <td>USD/kWa</td>\n    </tr>\n    <tr>\n      <th>4</th>\n      <td>R12_AFR</td>\n      <td>bio_hpl</td>\n      <td>1960</td>\n      <td>1980</td>\n      <td>9.519231</td>\n      <td>USD/kWa</td>\n    </tr>\n    <tr>\n      <th>...</th>\n      <td>...</td>\n      <td>...</td>\n      <td>...</td>\n      <td>...</td>\n      <td>...</td>\n      <td>...</td>\n    </tr>\n    <tr>\n      <th>11799575</th>\n      <td>R12_WEU</td>\n      <td>visbreaker_ref</td>\n      <td>2090</td>\n      <td>2100</td>\n      <td>1.478498</td>\n      <td>USD/kWa</td>\n    </tr>\n    <tr>\n      <th>11799576</th>\n      <td>R12_WEU</td>\n      <td>visbreaker_ref</td>\n      <td>2090</td>\n      <td>2110</td>\n      <td>1.892602</td>\n      <td>USD/kWa</td>\n    </tr>\n    <tr>\n      <th>11799577</th>\n      <td>R12_WEU</td>\n      <td>visbreaker_ref</td>\n      <td>2100</td>\n      <td>2100</td>\n      <td>1.155000</td>\n      <td>USD/kWa</td>\n    </tr>\n    <tr>\n      <th>11799578</th>\n      <td>R12_WEU</td>\n      <td>visbreaker_ref</td>\n      <td>2100</td>\n      <td>2110</td>\n      <td>1.478498</td>\n      <td>USD/kWa</td>\n    </tr>\n    <tr>\n      <th>11799579</th>\n      <td>R12_WEU</td>\n      <td>visbreaker_ref</td>\n      <td>2110</td>\n      <td>2110</td>\n      <td>1.155000</td>\n      <td>USD/kWa</td>\n    </tr>\n  </tbody>\n</table>\n<p>892848 rows × 6 columns</p>\n</div>"
     },
     "execution_count": 10,
     "metadata": {},
     "output_type": "execute_result"
    }
   ],
   "source": [],
   "metadata": {
    "collapsed": false,
    "ExecuteTime": {
     "end_time": "2023-11-26T23:24:06.305578100Z",
     "start_time": "2023-11-26T23:23:59.945987500Z"
    }
   },
   "id": "849530ddbdb9a6bd"
  },
  {
   "cell_type": "code",
   "execution_count": 11,
   "outputs": [
    {
     "ename": "ValueError",
     "evalue": "The index set 'technology' does not have an element 'meth_i'!",
     "output_type": "error",
     "traceback": [
      "\u001B[1;31m---------------------------------------------------------------------------\u001B[0m",
      "\u001B[1;31mValueError\u001B[0m                                Traceback (most recent call last)",
      "Input \u001B[1;32mIn [11]\u001B[0m, in \u001B[0;36m<cell line: 2>\u001B[1;34m()\u001B[0m\n\u001B[0;32m      1\u001B[0m base\u001B[38;5;241m.\u001B[39mcheck_out()\n\u001B[1;32m----> 2\u001B[0m \u001B[43mbase\u001B[49m\u001B[38;5;241;43m.\u001B[39;49m\u001B[43madd_par\u001B[49m\u001B[43m(\u001B[49m\u001B[38;5;124;43m\"\u001B[39;49m\u001B[38;5;124;43mfix_cost\u001B[39;49m\u001B[38;5;124;43m\"\u001B[39;49m\u001B[43m,\u001B[49m\u001B[43m \u001B[49m\u001B[43mout_materials\u001B[49m\u001B[38;5;241;43m.\u001B[39;49m\u001B[43mfix_cost\u001B[49m\u001B[38;5;241;43m.\u001B[39;49m\u001B[43mdrop_duplicates\u001B[49m\u001B[43m(\u001B[49m\u001B[43m)\u001B[49m\u001B[38;5;241;43m.\u001B[39;49m\u001B[43mdrop\u001B[49m\u001B[43m(\u001B[49m\u001B[43m[\u001B[49m\u001B[38;5;124;43m\"\u001B[39;49m\u001B[38;5;124;43mscenario_version\u001B[39;49m\u001B[38;5;124;43m\"\u001B[39;49m\u001B[43m,\u001B[49m\u001B[43m \u001B[49m\u001B[38;5;124;43m\"\u001B[39;49m\u001B[38;5;124;43mscenario\u001B[39;49m\u001B[38;5;124;43m\"\u001B[39;49m\u001B[43m]\u001B[49m\u001B[43m,\u001B[49m\u001B[43m \u001B[49m\u001B[43maxis\u001B[49m\u001B[38;5;241;43m=\u001B[39;49m\u001B[38;5;241;43m1\u001B[39;49m\u001B[43m)\u001B[49m\u001B[43m)\u001B[49m\n",
      "File \u001B[1;32m~\\Anaconda3\\lib\\site-packages\\ixmp\\core\\scenario.py:535\u001B[0m, in \u001B[0;36mScenario.add_par\u001B[1;34m(self, name, key_or_data, value, unit, comment)\u001B[0m\n\u001B[0;32m    529\u001B[0m elements \u001B[38;5;241m=\u001B[39m \u001B[38;5;28mmap\u001B[39m(\n\u001B[0;32m    530\u001B[0m     \u001B[38;5;28;01mlambda\u001B[39;00m e: (e\u001B[38;5;241m.\u001B[39mkey, e\u001B[38;5;241m.\u001B[39mvalue, e\u001B[38;5;241m.\u001B[39munit, e\u001B[38;5;241m.\u001B[39mcomment),\n\u001B[0;32m    531\u001B[0m     data\u001B[38;5;241m.\u001B[39mastype(types)\u001B[38;5;241m.\u001B[39mitertuples(),\n\u001B[0;32m    532\u001B[0m )\n\u001B[0;32m    534\u001B[0m \u001B[38;5;66;03m# Store\u001B[39;00m\n\u001B[1;32m--> 535\u001B[0m \u001B[38;5;28;43mself\u001B[39;49m\u001B[38;5;241;43m.\u001B[39;49m\u001B[43m_backend\u001B[49m\u001B[43m(\u001B[49m\u001B[38;5;124;43m\"\u001B[39;49m\u001B[38;5;124;43mitem_set_elements\u001B[39;49m\u001B[38;5;124;43m\"\u001B[39;49m\u001B[43m,\u001B[49m\u001B[43m \u001B[49m\u001B[38;5;124;43m\"\u001B[39;49m\u001B[38;5;124;43mpar\u001B[39;49m\u001B[38;5;124;43m\"\u001B[39;49m\u001B[43m,\u001B[49m\u001B[43m \u001B[49m\u001B[43mname\u001B[49m\u001B[43m,\u001B[49m\u001B[43m \u001B[49m\u001B[43melements\u001B[49m\u001B[43m)\u001B[49m\n",
      "File \u001B[1;32m~\\Anaconda3\\lib\\site-packages\\ixmp\\core\\timeseries.py:108\u001B[0m, in \u001B[0;36mTimeSeries._backend\u001B[1;34m(self, method, *args, **kwargs)\u001B[0m\n\u001B[0;32m    102\u001B[0m \u001B[38;5;28;01mdef\u001B[39;00m \u001B[38;5;21m_backend\u001B[39m(\u001B[38;5;28mself\u001B[39m, method, \u001B[38;5;241m*\u001B[39margs, \u001B[38;5;241m*\u001B[39m\u001B[38;5;241m*\u001B[39mkwargs):\n\u001B[0;32m    103\u001B[0m     \u001B[38;5;124;03m\"\"\"Convenience for calling *method* on the backend.\u001B[39;00m\n\u001B[0;32m    104\u001B[0m \n\u001B[0;32m    105\u001B[0m \u001B[38;5;124;03m    The weak reference to the Platform object is used, if the Platform is still\u001B[39;00m\n\u001B[0;32m    106\u001B[0m \u001B[38;5;124;03m    alive.\u001B[39;00m\n\u001B[0;32m    107\u001B[0m \u001B[38;5;124;03m    \"\"\"\u001B[39;00m\n\u001B[1;32m--> 108\u001B[0m     \u001B[38;5;28;01mreturn\u001B[39;00m \u001B[38;5;28;43mself\u001B[39;49m\u001B[38;5;241;43m.\u001B[39;49m\u001B[43mplatform\u001B[49m\u001B[38;5;241;43m.\u001B[39;49m\u001B[43m_backend\u001B[49m\u001B[43m(\u001B[49m\u001B[38;5;28;43mself\u001B[39;49m\u001B[43m,\u001B[49m\u001B[43m \u001B[49m\u001B[43mmethod\u001B[49m\u001B[43m,\u001B[49m\u001B[43m \u001B[49m\u001B[38;5;241;43m*\u001B[39;49m\u001B[43margs\u001B[49m\u001B[43m,\u001B[49m\u001B[43m \u001B[49m\u001B[38;5;241;43m*\u001B[39;49m\u001B[38;5;241;43m*\u001B[39;49m\u001B[43mkwargs\u001B[49m\u001B[43m)\u001B[49m\n",
      "File \u001B[1;32m~\\Anaconda3\\lib\\site-packages\\ixmp\\backend\\base.py:53\u001B[0m, in \u001B[0;36mBackend.__call__\u001B[1;34m(self, obj, method, *args, **kwargs)\u001B[0m\n\u001B[0;32m     47\u001B[0m \u001B[38;5;28;01mdef\u001B[39;00m \u001B[38;5;21m__call__\u001B[39m(\u001B[38;5;28mself\u001B[39m, obj, method, \u001B[38;5;241m*\u001B[39margs, \u001B[38;5;241m*\u001B[39m\u001B[38;5;241m*\u001B[39mkwargs):\n\u001B[0;32m     48\u001B[0m     \u001B[38;5;124;03m\"\"\"Call the backend method `method` for `obj`.\u001B[39;00m\n\u001B[0;32m     49\u001B[0m \n\u001B[0;32m     50\u001B[0m \u001B[38;5;124;03m    The class attribute obj._backend_prefix is used to determine a prefix for the\u001B[39;00m\n\u001B[0;32m     51\u001B[0m \u001B[38;5;124;03m    method name, e.g. 'ts_{method}'.\u001B[39;00m\n\u001B[0;32m     52\u001B[0m \u001B[38;5;124;03m    \"\"\"\u001B[39;00m\n\u001B[1;32m---> 53\u001B[0m     \u001B[38;5;28;01mreturn\u001B[39;00m \u001B[38;5;28;43mgetattr\u001B[39;49m\u001B[43m(\u001B[49m\u001B[38;5;28;43mself\u001B[39;49m\u001B[43m,\u001B[49m\u001B[43m \u001B[49m\u001B[43mmethod\u001B[49m\u001B[43m)\u001B[49m\u001B[43m(\u001B[49m\u001B[43mobj\u001B[49m\u001B[43m,\u001B[49m\u001B[43m \u001B[49m\u001B[38;5;241;43m*\u001B[39;49m\u001B[43margs\u001B[49m\u001B[43m,\u001B[49m\u001B[43m \u001B[49m\u001B[38;5;241;43m*\u001B[39;49m\u001B[38;5;241;43m*\u001B[39;49m\u001B[43mkwargs\u001B[49m\u001B[43m)\u001B[49m\n",
      "File \u001B[1;32m~\\Anaconda3\\lib\\site-packages\\ixmp\\backend\\jdbc.py:1047\u001B[0m, in \u001B[0;36mJDBCBackend.item_set_elements\u001B[1;34m(self, s, type, name, elements)\u001B[0m\n\u001B[0;32m   1044\u001B[0m \u001B[38;5;28;01mexcept\u001B[39;00m java\u001B[38;5;241m.\u001B[39mIxException \u001B[38;5;28;01mas\u001B[39;00m e:\n\u001B[0;32m   1045\u001B[0m     \u001B[38;5;28;01mif\u001B[39;00m \u001B[38;5;28many\u001B[39m(s \u001B[38;5;129;01min\u001B[39;00m e\u001B[38;5;241m.\u001B[39margs[\u001B[38;5;241m0\u001B[39m] \u001B[38;5;28;01mfor\u001B[39;00m s \u001B[38;5;129;01min\u001B[39;00m (\u001B[38;5;124m\"\u001B[39m\u001B[38;5;124mdoes not have an element\u001B[39m\u001B[38;5;124m\"\u001B[39m, \u001B[38;5;124m\"\u001B[39m\u001B[38;5;124mThe unit\u001B[39m\u001B[38;5;124m\"\u001B[39m)):\n\u001B[0;32m   1046\u001B[0m         \u001B[38;5;66;03m# Re-raise as Python ValueError\u001B[39;00m\n\u001B[1;32m-> 1047\u001B[0m         \u001B[38;5;28;01mraise\u001B[39;00m \u001B[38;5;167;01mValueError\u001B[39;00m(e\u001B[38;5;241m.\u001B[39margs[\u001B[38;5;241m0\u001B[39m]) \u001B[38;5;28;01mfrom\u001B[39;00m \u001B[38;5;28mNone\u001B[39m\n\u001B[0;32m   1048\u001B[0m     \u001B[38;5;28;01melif\u001B[39;00m \u001B[38;5;124m\"\u001B[39m\u001B[38;5;124mcannot be edited\u001B[39m\u001B[38;5;124m\"\u001B[39m \u001B[38;5;129;01min\u001B[39;00m e\u001B[38;5;241m.\u001B[39margs[\u001B[38;5;241m0\u001B[39m]:\n\u001B[0;32m   1049\u001B[0m         \u001B[38;5;28;01mraise\u001B[39;00m \u001B[38;5;167;01mRuntimeError\u001B[39;00m(e\u001B[38;5;241m.\u001B[39margs[\u001B[38;5;241m0\u001B[39m])\n",
      "\u001B[1;31mValueError\u001B[0m: The index set 'technology' does not have an element 'meth_i'!"
     ]
    }
   ],
   "source": [
    "base.check_out()\n",
    "base.add_par(\"fix_cost\", )"
   ],
   "metadata": {
    "collapsed": false,
    "ExecuteTime": {
     "end_time": "2023-11-26T23:26:51.149516500Z",
     "start_time": "2023-11-26T23:26:26.039933300Z"
    }
   },
   "id": "b032114dc82a0126"
  },
  {
   "cell_type": "code",
   "execution_count": 13,
   "outputs": [],
   "source": [
    "tec_set = list(base.set(\"technology\"))"
   ],
   "metadata": {
    "collapsed": false,
    "ExecuteTime": {
     "end_time": "2023-11-26T23:27:32.868165400Z",
     "start_time": "2023-11-26T23:27:32.836970100Z"
    }
   },
   "id": "2315f0de398752dd"
  },
  {
   "cell_type": "code",
   "execution_count": 14,
   "outputs": [],
   "source": [
    "fix_cost = out_materials.fix_cost.drop_duplicates().drop([\"scenario_version\", \"scenario\"], axis=1)"
   ],
   "metadata": {
    "collapsed": false,
    "ExecuteTime": {
     "end_time": "2023-11-26T23:27:59.915107400Z",
     "start_time": "2023-11-26T23:27:53.024521700Z"
    }
   },
   "id": "ebf07c7956772e0f"
  },
  {
   "cell_type": "code",
   "execution_count": 17,
   "outputs": [],
   "source": [
    "base.add_par(\"fix_cost\", fix_cost[fix_cost[\"technology\"].isin(tec_set)])"
   ],
   "metadata": {
    "collapsed": false,
    "ExecuteTime": {
     "end_time": "2023-11-26T23:29:13.055635600Z",
     "start_time": "2023-11-26T23:28:40.039748300Z"
    }
   },
   "id": "4e534e7cbf802e51"
  },
  {
   "cell_type": "code",
   "execution_count": 18,
   "outputs": [],
   "source": [
    "base.commit(\"update cost assumption with tool\")"
   ],
   "metadata": {
    "collapsed": false,
    "ExecuteTime": {
     "end_time": "2023-11-26T23:30:05.027074Z",
     "start_time": "2023-11-26T23:29:19.164705500Z"
    }
   },
   "id": "869f9b234e212056"
  },
  {
   "cell_type": "code",
   "execution_count": null,
   "outputs": [],
   "source": [
    "def modify_costs_with_tool(scen_name, ssp):\n",
    "    mp = ixmp.Platform(\"ixmp_dev\")\n",
    "    base = message_ix.Scenario(mp, \"SSP_supply_cost_test_baseline\", scenario=scen_name)\n",
    "    scen = base.clone(model=base.model, scenario=base.scenario.replace(\"baseline\", ssp))\n",
    "    \n",
    "    tec_set = list(scen.set(\"technology\"))\n",
    "    \n",
    "    cfg = Config(module=\"materials\", ref_region=\"R12_NAM\", method=\"convergence\", format=\"message\", scenario=ssp)\n",
    "    \n",
    "    out_materials = create_cost_projections(\n",
    "        node=cfg.node,\n",
    "        ref_region=cfg.ref_region,\n",
    "        base_year=cfg.base_year,\n",
    "        module=cfg.module,\n",
    "        method=cfg.method,\n",
    "        scenario_version=cfg.scenario_version,\n",
    "        scenario=cfg.scenario,\n",
    "        convergence_year=cfg.convergence_year,\n",
    "        fom_rate=cfg.fom_rate,\n",
    "        format=cfg.format,\n",
    "    )\n",
    "    \n",
    "    fix_cost = out_materials.fix_cost.drop_duplicates().drop([\"scenario_version\", \"scenario\"], axis=1)\n",
    "    scen.add_par(\"fix_cost\", fix_cost[fix_cost[\"technology\"].isin(tec_set)])\n",
    "    inv_cost = out_materials.inv_cost.drop_duplicates().drop([\"scenario_version\", \"scenario\"], axis=1)\n",
    "    scen.add_par(\"fix_cost\", inv_cost[inv_cost[\"technology\"].isin(tec_set)])\n",
    "    \n",
    "    scen.commit(\"update cost assumption with tool\")\n",
    "    #scen.solve(model=\"MESSAGE\")"
   ],
   "metadata": {
    "collapsed": false
   },
   "id": "25a079df2acd518c"
  },
  {
   "cell_type": "code",
   "execution_count": 22,
   "outputs": [
    {
     "data": {
      "text/plain": "                   model                                   scenario   scheme  \\\n0    MESSAGEix-Materials  2.0deg_no_SDGs_petro_thesis_1_final_macro  MESSAGE   \n1    MESSAGEix-Materials        2.0deg_no_SDGs_petro_thesis_1_macro  MESSAGE   \n2    MESSAGEix-Materials                      2.0deg_petro_thesis_1  MESSAGE   \n3    MESSAGEix-Materials                      2.0deg_petro_thesis_2  MESSAGE   \n4    MESSAGEix-Materials          2.0deg_petro_thesis_2_final_macro  MESSAGE   \n..                   ...                                        ...      ...   \n366  MESSAGEix-Materials                                   test_ccs  MESSAGE   \n367  MESSAGEix-Materials                   test_foil_trp_constraint  MESSAGE   \n368  MESSAGEix-Materials         test_foil_trp_constraint_IEA_calib  MESSAGE   \n369  MESSAGEix-Materials                             test_report_JM  MESSAGE   \n370  MESSAGEix-Materials                            timeseries_test  MESSAGE   \n\n     is_default  is_locked cre_user                    cre_date upd_user  \\\n0             1          0   maczek  2023-06-27 23:24:23.000000   maczek   \n1             1          0   maczek  2023-05-09 09:34:33.000000   maczek   \n2             1          0   maczek  2023-02-08 23:38:03.000000   maczek   \n3             1          0   maczek  2023-04-06 16:44:33.000000     None   \n4             1          0   maczek  2023-06-21 23:48:48.000000   maczek   \n..          ...        ...      ...                         ...      ...   \n366           1          0     unlu  2022-07-12 15:32:10.000000     None   \n367           1          0   maczek  2023-10-12 16:37:45.000000     None   \n368           1          0   maczek  2023-10-16 13:51:53.000000     None   \n369           1          1      min  2021-08-02 16:17:16.000000     None   \n370           1          0     unlu  2022-06-09 13:59:42.000000     None   \n\n                       upd_date lock_user                   lock_date  \\\n0    2023-07-03 17:01:57.000000      None                        None   \n1    2023-05-09 10:28:12.000000      None                        None   \n2    2023-02-08 23:44:53.000000      None                        None   \n3                          None      None                        None   \n4    2023-06-22 00:36:08.000000      None                        None   \n..                          ...       ...                         ...   \n366                        None      None                        None   \n367                        None      None                        None   \n368                        None      None                        None   \n369                        None       min  2021-08-02 16:39:25.000000   \n370                        None      None                        None   \n\n                                            annotation  version  \n0    clone Scenario from 'MESSAGEix-Materials|NoPol...        1  \n1    clone Scenario from 'MESSAGEix-Materials|NoPol...        4  \n2    clone Scenario from 'MESSAGEix-Materials|NoPol...        1  \n3    clone Scenario from 'MESSAGEix-Materials|NoPol...        6  \n4    clone Scenario from 'MESSAGEix-Materials|NoPol...        1  \n..                                                 ...      ...  \n366  clone Scenario from 'MESSAGEix-Materials|NoPol...        1  \n367  clone Scenario from 'MESSAGEix-Materials|NoPol...        1  \n368  clone Scenario from 'MESSAGEix-Materials|test_...        1  \n369  clone Scenario from 'Buildings_SSP2|test', ver...        1  \n370  clone Scenario from 'MESSAGEix-Materials|NoPol...        1  \n\n[371 rows x 13 columns]",
      "text/html": "<div>\n<style scoped>\n    .dataframe tbody tr th:only-of-type {\n        vertical-align: middle;\n    }\n\n    .dataframe tbody tr th {\n        vertical-align: top;\n    }\n\n    .dataframe thead th {\n        text-align: right;\n    }\n</style>\n<table border=\"1\" class=\"dataframe\">\n  <thead>\n    <tr style=\"text-align: right;\">\n      <th></th>\n      <th>model</th>\n      <th>scenario</th>\n      <th>scheme</th>\n      <th>is_default</th>\n      <th>is_locked</th>\n      <th>cre_user</th>\n      <th>cre_date</th>\n      <th>upd_user</th>\n      <th>upd_date</th>\n      <th>lock_user</th>\n      <th>lock_date</th>\n      <th>annotation</th>\n      <th>version</th>\n    </tr>\n  </thead>\n  <tbody>\n    <tr>\n      <th>0</th>\n      <td>MESSAGEix-Materials</td>\n      <td>2.0deg_no_SDGs_petro_thesis_1_final_macro</td>\n      <td>MESSAGE</td>\n      <td>1</td>\n      <td>0</td>\n      <td>maczek</td>\n      <td>2023-06-27 23:24:23.000000</td>\n      <td>maczek</td>\n      <td>2023-07-03 17:01:57.000000</td>\n      <td>None</td>\n      <td>None</td>\n      <td>clone Scenario from 'MESSAGEix-Materials|NoPol...</td>\n      <td>1</td>\n    </tr>\n    <tr>\n      <th>1</th>\n      <td>MESSAGEix-Materials</td>\n      <td>2.0deg_no_SDGs_petro_thesis_1_macro</td>\n      <td>MESSAGE</td>\n      <td>1</td>\n      <td>0</td>\n      <td>maczek</td>\n      <td>2023-05-09 09:34:33.000000</td>\n      <td>maczek</td>\n      <td>2023-05-09 10:28:12.000000</td>\n      <td>None</td>\n      <td>None</td>\n      <td>clone Scenario from 'MESSAGEix-Materials|NoPol...</td>\n      <td>4</td>\n    </tr>\n    <tr>\n      <th>2</th>\n      <td>MESSAGEix-Materials</td>\n      <td>2.0deg_petro_thesis_1</td>\n      <td>MESSAGE</td>\n      <td>1</td>\n      <td>0</td>\n      <td>maczek</td>\n      <td>2023-02-08 23:38:03.000000</td>\n      <td>maczek</td>\n      <td>2023-02-08 23:44:53.000000</td>\n      <td>None</td>\n      <td>None</td>\n      <td>clone Scenario from 'MESSAGEix-Materials|NoPol...</td>\n      <td>1</td>\n    </tr>\n    <tr>\n      <th>3</th>\n      <td>MESSAGEix-Materials</td>\n      <td>2.0deg_petro_thesis_2</td>\n      <td>MESSAGE</td>\n      <td>1</td>\n      <td>0</td>\n      <td>maczek</td>\n      <td>2023-04-06 16:44:33.000000</td>\n      <td>None</td>\n      <td>None</td>\n      <td>None</td>\n      <td>None</td>\n      <td>clone Scenario from 'MESSAGEix-Materials|NoPol...</td>\n      <td>6</td>\n    </tr>\n    <tr>\n      <th>4</th>\n      <td>MESSAGEix-Materials</td>\n      <td>2.0deg_petro_thesis_2_final_macro</td>\n      <td>MESSAGE</td>\n      <td>1</td>\n      <td>0</td>\n      <td>maczek</td>\n      <td>2023-06-21 23:48:48.000000</td>\n      <td>maczek</td>\n      <td>2023-06-22 00:36:08.000000</td>\n      <td>None</td>\n      <td>None</td>\n      <td>clone Scenario from 'MESSAGEix-Materials|NoPol...</td>\n      <td>1</td>\n    </tr>\n    <tr>\n      <th>...</th>\n      <td>...</td>\n      <td>...</td>\n      <td>...</td>\n      <td>...</td>\n      <td>...</td>\n      <td>...</td>\n      <td>...</td>\n      <td>...</td>\n      <td>...</td>\n      <td>...</td>\n      <td>...</td>\n      <td>...</td>\n      <td>...</td>\n    </tr>\n    <tr>\n      <th>366</th>\n      <td>MESSAGEix-Materials</td>\n      <td>test_ccs</td>\n      <td>MESSAGE</td>\n      <td>1</td>\n      <td>0</td>\n      <td>unlu</td>\n      <td>2022-07-12 15:32:10.000000</td>\n      <td>None</td>\n      <td>None</td>\n      <td>None</td>\n      <td>None</td>\n      <td>clone Scenario from 'MESSAGEix-Materials|NoPol...</td>\n      <td>1</td>\n    </tr>\n    <tr>\n      <th>367</th>\n      <td>MESSAGEix-Materials</td>\n      <td>test_foil_trp_constraint</td>\n      <td>MESSAGE</td>\n      <td>1</td>\n      <td>0</td>\n      <td>maczek</td>\n      <td>2023-10-12 16:37:45.000000</td>\n      <td>None</td>\n      <td>None</td>\n      <td>None</td>\n      <td>None</td>\n      <td>clone Scenario from 'MESSAGEix-Materials|NoPol...</td>\n      <td>1</td>\n    </tr>\n    <tr>\n      <th>368</th>\n      <td>MESSAGEix-Materials</td>\n      <td>test_foil_trp_constraint_IEA_calib</td>\n      <td>MESSAGE</td>\n      <td>1</td>\n      <td>0</td>\n      <td>maczek</td>\n      <td>2023-10-16 13:51:53.000000</td>\n      <td>None</td>\n      <td>None</td>\n      <td>None</td>\n      <td>None</td>\n      <td>clone Scenario from 'MESSAGEix-Materials|test_...</td>\n      <td>1</td>\n    </tr>\n    <tr>\n      <th>369</th>\n      <td>MESSAGEix-Materials</td>\n      <td>test_report_JM</td>\n      <td>MESSAGE</td>\n      <td>1</td>\n      <td>1</td>\n      <td>min</td>\n      <td>2021-08-02 16:17:16.000000</td>\n      <td>None</td>\n      <td>None</td>\n      <td>min</td>\n      <td>2021-08-02 16:39:25.000000</td>\n      <td>clone Scenario from 'Buildings_SSP2|test', ver...</td>\n      <td>1</td>\n    </tr>\n    <tr>\n      <th>370</th>\n      <td>MESSAGEix-Materials</td>\n      <td>timeseries_test</td>\n      <td>MESSAGE</td>\n      <td>1</td>\n      <td>0</td>\n      <td>unlu</td>\n      <td>2022-06-09 13:59:42.000000</td>\n      <td>None</td>\n      <td>None</td>\n      <td>None</td>\n      <td>None</td>\n      <td>clone Scenario from 'MESSAGEix-Materials|NoPol...</td>\n      <td>1</td>\n    </tr>\n  </tbody>\n</table>\n<p>371 rows × 13 columns</p>\n</div>"
     },
     "execution_count": 22,
     "metadata": {},
     "output_type": "execute_result"
    }
   ],
   "source": [
    "mp.scenario_list(model=\"MESSAGEix-Materials\")"
   ],
   "metadata": {
    "collapsed": false,
    "ExecuteTime": {
     "end_time": "2023-11-26T23:56:29.295406400Z",
     "start_time": "2023-11-26T23:56:28.795734900Z"
    }
   },
   "id": "8f0f995ddaaeb4e4"
  },
  {
   "cell_type": "code",
   "execution_count": 77,
   "outputs": [],
   "source": [
    "import pandas as pd"
   ],
   "metadata": {
    "collapsed": false,
    "ExecuteTime": {
     "end_time": "2023-11-27T13:13:25.213762300Z",
     "start_time": "2023-11-27T13:13:25.160590500Z"
    }
   },
   "id": "d8c358646f3093fa"
  },
  {
   "cell_type": "code",
   "execution_count": 78,
   "outputs": [],
   "source": [
    "r_df = pd.read_csv(\"C:/Users\\maczek\\PycharmProjects\\message_data\\message_data\\model\\material/output_file.csv\")\n",
    "py_df = pd.read_csv(\"C:/Users\\maczek\\PycharmProjects\\message_data\\message_data\\model\\material/py_output.csv\")#, usecols=[1,2,3])"
   ],
   "metadata": {
    "collapsed": false,
    "ExecuteTime": {
     "end_time": "2023-11-27T13:13:25.461244100Z",
     "start_time": "2023-11-27T13:13:25.414353300Z"
    }
   },
   "id": "b9e448c393a4c115"
  },
  {
   "cell_type": "code",
   "execution_count": 79,
   "outputs": [
    {
     "data": {
      "text/plain": "      Unnamed: 0                region  reg_no  year  consumption        pop  \\\n0              0                Canada       1  1970        11085   21.71685   \n1              1                   USA       2  1970       127304  210.11660   \n2              2                Mexico       3  1970         4168   50.59590   \n3              3  Rest Central America       4  1970          434   41.86008   \n4              4                Brazil       5  1970         6088   95.98846   \n...          ...                   ...     ...   ...          ...        ...   \n1059        1113             Indonesia      22  2012        15006  244.18970   \n1060        1114                 Japan      23  2012        68800  126.60790   \n1061        1115               Oceania      24  2012         7945   29.71791   \n1062        1116      Other South Asia      25  2012         5959  445.52510   \n1063        1117    Other South Africa      26  2012          439  144.14590   \n\n          gdp_pcap   cons_pcap  del_t  \n0     17450.805611  510.433143    -40  \n1     20233.017350  605.873120    -40  \n2      6910.351162   82.378216    -40  \n3      5032.145662   10.367873    -40  \n4      4246.812446   63.424291    -40  \n...            ...         ...    ...  \n1059   4272.029000   61.452223      2  \n1060  31957.190000  543.410008      2  \n1061  30264.620000  267.347199      2  \n1062   2062.911000   13.375228      2  \n1063   2063.026000    3.045525      2  \n\n[1064 rows x 9 columns]",
      "text/html": "<div>\n<style scoped>\n    .dataframe tbody tr th:only-of-type {\n        vertical-align: middle;\n    }\n\n    .dataframe tbody tr th {\n        vertical-align: top;\n    }\n\n    .dataframe thead th {\n        text-align: right;\n    }\n</style>\n<table border=\"1\" class=\"dataframe\">\n  <thead>\n    <tr style=\"text-align: right;\">\n      <th></th>\n      <th>Unnamed: 0</th>\n      <th>region</th>\n      <th>reg_no</th>\n      <th>year</th>\n      <th>consumption</th>\n      <th>pop</th>\n      <th>gdp_pcap</th>\n      <th>cons_pcap</th>\n      <th>del_t</th>\n    </tr>\n  </thead>\n  <tbody>\n    <tr>\n      <th>0</th>\n      <td>0</td>\n      <td>Canada</td>\n      <td>1</td>\n      <td>1970</td>\n      <td>11085</td>\n      <td>21.71685</td>\n      <td>17450.805611</td>\n      <td>510.433143</td>\n      <td>-40</td>\n    </tr>\n    <tr>\n      <th>1</th>\n      <td>1</td>\n      <td>USA</td>\n      <td>2</td>\n      <td>1970</td>\n      <td>127304</td>\n      <td>210.11660</td>\n      <td>20233.017350</td>\n      <td>605.873120</td>\n      <td>-40</td>\n    </tr>\n    <tr>\n      <th>2</th>\n      <td>2</td>\n      <td>Mexico</td>\n      <td>3</td>\n      <td>1970</td>\n      <td>4168</td>\n      <td>50.59590</td>\n      <td>6910.351162</td>\n      <td>82.378216</td>\n      <td>-40</td>\n    </tr>\n    <tr>\n      <th>3</th>\n      <td>3</td>\n      <td>Rest Central America</td>\n      <td>4</td>\n      <td>1970</td>\n      <td>434</td>\n      <td>41.86008</td>\n      <td>5032.145662</td>\n      <td>10.367873</td>\n      <td>-40</td>\n    </tr>\n    <tr>\n      <th>4</th>\n      <td>4</td>\n      <td>Brazil</td>\n      <td>5</td>\n      <td>1970</td>\n      <td>6088</td>\n      <td>95.98846</td>\n      <td>4246.812446</td>\n      <td>63.424291</td>\n      <td>-40</td>\n    </tr>\n    <tr>\n      <th>...</th>\n      <td>...</td>\n      <td>...</td>\n      <td>...</td>\n      <td>...</td>\n      <td>...</td>\n      <td>...</td>\n      <td>...</td>\n      <td>...</td>\n      <td>...</td>\n    </tr>\n    <tr>\n      <th>1059</th>\n      <td>1113</td>\n      <td>Indonesia</td>\n      <td>22</td>\n      <td>2012</td>\n      <td>15006</td>\n      <td>244.18970</td>\n      <td>4272.029000</td>\n      <td>61.452223</td>\n      <td>2</td>\n    </tr>\n    <tr>\n      <th>1060</th>\n      <td>1114</td>\n      <td>Japan</td>\n      <td>23</td>\n      <td>2012</td>\n      <td>68800</td>\n      <td>126.60790</td>\n      <td>31957.190000</td>\n      <td>543.410008</td>\n      <td>2</td>\n    </tr>\n    <tr>\n      <th>1061</th>\n      <td>1115</td>\n      <td>Oceania</td>\n      <td>24</td>\n      <td>2012</td>\n      <td>7945</td>\n      <td>29.71791</td>\n      <td>30264.620000</td>\n      <td>267.347199</td>\n      <td>2</td>\n    </tr>\n    <tr>\n      <th>1062</th>\n      <td>1116</td>\n      <td>Other South Asia</td>\n      <td>25</td>\n      <td>2012</td>\n      <td>5959</td>\n      <td>445.52510</td>\n      <td>2062.911000</td>\n      <td>13.375228</td>\n      <td>2</td>\n    </tr>\n    <tr>\n      <th>1063</th>\n      <td>1117</td>\n      <td>Other South Africa</td>\n      <td>26</td>\n      <td>2012</td>\n      <td>439</td>\n      <td>144.14590</td>\n      <td>2063.026000</td>\n      <td>3.045525</td>\n      <td>2</td>\n    </tr>\n  </tbody>\n</table>\n<p>1064 rows × 9 columns</p>\n</div>"
     },
     "execution_count": 79,
     "metadata": {},
     "output_type": "execute_result"
    }
   ],
   "source": [
    "py_df"
   ],
   "metadata": {
    "collapsed": false,
    "ExecuteTime": {
     "end_time": "2023-11-27T13:13:25.915333400Z",
     "start_time": "2023-11-27T13:13:25.877536100Z"
    }
   },
   "id": "70bcaef1ace99b44"
  },
  {
   "cell_type": "code",
   "execution_count": 88,
   "outputs": [],
   "source": [
    "df = r_df.set_index([\"reg_no\", \"year\"]).join(py_df.set_index([\"reg_no\", \"year\"])[\"gdp_pcap\"])"
   ],
   "metadata": {
    "collapsed": false,
    "ExecuteTime": {
     "end_time": "2023-11-27T13:14:20.010108900Z",
     "start_time": "2023-11-27T13:14:19.940929600Z"
    }
   },
   "id": "cd43f48dc605ec77"
  },
  {
   "cell_type": "code",
   "execution_count": 85,
   "outputs": [
    {
     "data": {
      "text/plain": "      Unnamed: 0  reg_no                   region  year  consumption  \\\n0              1       1               Canada (1)  1970        11085   \n1              2       1               Canada (1)  1971        11753   \n2              3       1               Canada (1)  1972        12842   \n3              4       1               Canada (1)  1973        14153   \n4              5       1               Canada (1)  1974        15458   \n...          ...     ...                      ...   ...          ...   \n1059        1060      26  Other South Africa (26)  2008          272   \n1060        1061      26  Other South Africa (26)  2009          344   \n1061        1062      26  Other South Africa (26)  2010          355   \n1062        1063      26  Other South Africa (26)  2011          474   \n1063        1064      26  Other South Africa (26)  2012          439   \n\n            pop      gdp.pcap   cons.pcap  del.t  \n0      21.71685  17450.805611  510.433143    -40  \n1      22.04843  18025.700000  533.053827    -39  \n2      22.34410  18755.830000  574.737850    -38  \n3      22.61467  19822.000000  625.832701    -37  \n4      22.87666  20318.250000  675.710528    -36  \n...         ...           ...         ...    ...  \n1059  130.25150   1871.848000    2.088268     -2  \n1060  133.53860   1843.252000    2.576034     -1  \n1061  136.94900   1909.069000    2.592206      0  \n1062  140.48880   1988.006000    3.373934      1  \n1063  144.14590   2063.026000    3.045525      2  \n\n[1064 rows x 9 columns]",
      "text/html": "<div>\n<style scoped>\n    .dataframe tbody tr th:only-of-type {\n        vertical-align: middle;\n    }\n\n    .dataframe tbody tr th {\n        vertical-align: top;\n    }\n\n    .dataframe thead th {\n        text-align: right;\n    }\n</style>\n<table border=\"1\" class=\"dataframe\">\n  <thead>\n    <tr style=\"text-align: right;\">\n      <th></th>\n      <th>Unnamed: 0</th>\n      <th>reg_no</th>\n      <th>region</th>\n      <th>year</th>\n      <th>consumption</th>\n      <th>pop</th>\n      <th>gdp.pcap</th>\n      <th>cons.pcap</th>\n      <th>del.t</th>\n    </tr>\n  </thead>\n  <tbody>\n    <tr>\n      <th>0</th>\n      <td>1</td>\n      <td>1</td>\n      <td>Canada (1)</td>\n      <td>1970</td>\n      <td>11085</td>\n      <td>21.71685</td>\n      <td>17450.805611</td>\n      <td>510.433143</td>\n      <td>-40</td>\n    </tr>\n    <tr>\n      <th>1</th>\n      <td>2</td>\n      <td>1</td>\n      <td>Canada (1)</td>\n      <td>1971</td>\n      <td>11753</td>\n      <td>22.04843</td>\n      <td>18025.700000</td>\n      <td>533.053827</td>\n      <td>-39</td>\n    </tr>\n    <tr>\n      <th>2</th>\n      <td>3</td>\n      <td>1</td>\n      <td>Canada (1)</td>\n      <td>1972</td>\n      <td>12842</td>\n      <td>22.34410</td>\n      <td>18755.830000</td>\n      <td>574.737850</td>\n      <td>-38</td>\n    </tr>\n    <tr>\n      <th>3</th>\n      <td>4</td>\n      <td>1</td>\n      <td>Canada (1)</td>\n      <td>1973</td>\n      <td>14153</td>\n      <td>22.61467</td>\n      <td>19822.000000</td>\n      <td>625.832701</td>\n      <td>-37</td>\n    </tr>\n    <tr>\n      <th>4</th>\n      <td>5</td>\n      <td>1</td>\n      <td>Canada (1)</td>\n      <td>1974</td>\n      <td>15458</td>\n      <td>22.87666</td>\n      <td>20318.250000</td>\n      <td>675.710528</td>\n      <td>-36</td>\n    </tr>\n    <tr>\n      <th>...</th>\n      <td>...</td>\n      <td>...</td>\n      <td>...</td>\n      <td>...</td>\n      <td>...</td>\n      <td>...</td>\n      <td>...</td>\n      <td>...</td>\n      <td>...</td>\n    </tr>\n    <tr>\n      <th>1059</th>\n      <td>1060</td>\n      <td>26</td>\n      <td>Other South Africa (26)</td>\n      <td>2008</td>\n      <td>272</td>\n      <td>130.25150</td>\n      <td>1871.848000</td>\n      <td>2.088268</td>\n      <td>-2</td>\n    </tr>\n    <tr>\n      <th>1060</th>\n      <td>1061</td>\n      <td>26</td>\n      <td>Other South Africa (26)</td>\n      <td>2009</td>\n      <td>344</td>\n      <td>133.53860</td>\n      <td>1843.252000</td>\n      <td>2.576034</td>\n      <td>-1</td>\n    </tr>\n    <tr>\n      <th>1061</th>\n      <td>1062</td>\n      <td>26</td>\n      <td>Other South Africa (26)</td>\n      <td>2010</td>\n      <td>355</td>\n      <td>136.94900</td>\n      <td>1909.069000</td>\n      <td>2.592206</td>\n      <td>0</td>\n    </tr>\n    <tr>\n      <th>1062</th>\n      <td>1063</td>\n      <td>26</td>\n      <td>Other South Africa (26)</td>\n      <td>2011</td>\n      <td>474</td>\n      <td>140.48880</td>\n      <td>1988.006000</td>\n      <td>3.373934</td>\n      <td>1</td>\n    </tr>\n    <tr>\n      <th>1063</th>\n      <td>1064</td>\n      <td>26</td>\n      <td>Other South Africa (26)</td>\n      <td>2012</td>\n      <td>439</td>\n      <td>144.14590</td>\n      <td>2063.026000</td>\n      <td>3.045525</td>\n      <td>2</td>\n    </tr>\n  </tbody>\n</table>\n<p>1064 rows × 9 columns</p>\n</div>"
     },
     "execution_count": 85,
     "metadata": {},
     "output_type": "execute_result"
    }
   ],
   "source": [
    "r_df"
   ],
   "metadata": {
    "collapsed": false,
    "ExecuteTime": {
     "end_time": "2023-11-27T13:13:55.052664Z",
     "start_time": "2023-11-27T13:13:54.991222800Z"
    }
   },
   "id": "273365e96cb009d6"
  },
  {
   "cell_type": "code",
   "execution_count": 90,
   "outputs": [
    {
     "data": {
      "text/plain": "             Unnamed: 0                   region  consumption        pop  \\\nreg_no year                                                                \n1      1970           1               Canada (1)        11085   21.71685   \n       1971           2               Canada (1)        11753   22.04843   \n       1972           3               Canada (1)        12842   22.34410   \n       1973           4               Canada (1)        14153   22.61467   \n       1974           5               Canada (1)        15458   22.87666   \n...                 ...                      ...          ...        ...   \n26     2008        1060  Other South Africa (26)          272  130.25150   \n       2009        1061  Other South Africa (26)          344  133.53860   \n       2010        1062  Other South Africa (26)          355  136.94900   \n       2011        1063  Other South Africa (26)          474  140.48880   \n       2012        1064  Other South Africa (26)          439  144.14590   \n\n                 gdp.pcap   cons.pcap  del.t      gdp_pcap  \nreg_no year                                                 \n1      1970  17450.805611  510.433143    -40  17450.805611  \n       1971  18025.700000  533.053827    -39  18025.700000  \n       1972  18755.830000  574.737850    -38  18755.830000  \n       1973  19822.000000  625.832701    -37  19822.000000  \n       1974  20318.250000  675.710528    -36  20318.250000  \n...                   ...         ...    ...           ...  \n26     2008   1871.848000    2.088268     -2   1871.848000  \n       2009   1843.252000    2.576034     -1   1843.252000  \n       2010   1909.069000    2.592206      0   1909.069000  \n       2011   1988.006000    3.373934      1   1988.006000  \n       2012   2063.026000    3.045525      2   2063.026000  \n\n[1064 rows x 8 columns]",
      "text/html": "<div>\n<style scoped>\n    .dataframe tbody tr th:only-of-type {\n        vertical-align: middle;\n    }\n\n    .dataframe tbody tr th {\n        vertical-align: top;\n    }\n\n    .dataframe thead th {\n        text-align: right;\n    }\n</style>\n<table border=\"1\" class=\"dataframe\">\n  <thead>\n    <tr style=\"text-align: right;\">\n      <th></th>\n      <th></th>\n      <th>Unnamed: 0</th>\n      <th>region</th>\n      <th>consumption</th>\n      <th>pop</th>\n      <th>gdp.pcap</th>\n      <th>cons.pcap</th>\n      <th>del.t</th>\n      <th>gdp_pcap</th>\n    </tr>\n    <tr>\n      <th>reg_no</th>\n      <th>year</th>\n      <th></th>\n      <th></th>\n      <th></th>\n      <th></th>\n      <th></th>\n      <th></th>\n      <th></th>\n      <th></th>\n    </tr>\n  </thead>\n  <tbody>\n    <tr>\n      <th rowspan=\"5\" valign=\"top\">1</th>\n      <th>1970</th>\n      <td>1</td>\n      <td>Canada (1)</td>\n      <td>11085</td>\n      <td>21.71685</td>\n      <td>17450.805611</td>\n      <td>510.433143</td>\n      <td>-40</td>\n      <td>17450.805611</td>\n    </tr>\n    <tr>\n      <th>1971</th>\n      <td>2</td>\n      <td>Canada (1)</td>\n      <td>11753</td>\n      <td>22.04843</td>\n      <td>18025.700000</td>\n      <td>533.053827</td>\n      <td>-39</td>\n      <td>18025.700000</td>\n    </tr>\n    <tr>\n      <th>1972</th>\n      <td>3</td>\n      <td>Canada (1)</td>\n      <td>12842</td>\n      <td>22.34410</td>\n      <td>18755.830000</td>\n      <td>574.737850</td>\n      <td>-38</td>\n      <td>18755.830000</td>\n    </tr>\n    <tr>\n      <th>1973</th>\n      <td>4</td>\n      <td>Canada (1)</td>\n      <td>14153</td>\n      <td>22.61467</td>\n      <td>19822.000000</td>\n      <td>625.832701</td>\n      <td>-37</td>\n      <td>19822.000000</td>\n    </tr>\n    <tr>\n      <th>1974</th>\n      <td>5</td>\n      <td>Canada (1)</td>\n      <td>15458</td>\n      <td>22.87666</td>\n      <td>20318.250000</td>\n      <td>675.710528</td>\n      <td>-36</td>\n      <td>20318.250000</td>\n    </tr>\n    <tr>\n      <th>...</th>\n      <th>...</th>\n      <td>...</td>\n      <td>...</td>\n      <td>...</td>\n      <td>...</td>\n      <td>...</td>\n      <td>...</td>\n      <td>...</td>\n      <td>...</td>\n    </tr>\n    <tr>\n      <th rowspan=\"5\" valign=\"top\">26</th>\n      <th>2008</th>\n      <td>1060</td>\n      <td>Other South Africa (26)</td>\n      <td>272</td>\n      <td>130.25150</td>\n      <td>1871.848000</td>\n      <td>2.088268</td>\n      <td>-2</td>\n      <td>1871.848000</td>\n    </tr>\n    <tr>\n      <th>2009</th>\n      <td>1061</td>\n      <td>Other South Africa (26)</td>\n      <td>344</td>\n      <td>133.53860</td>\n      <td>1843.252000</td>\n      <td>2.576034</td>\n      <td>-1</td>\n      <td>1843.252000</td>\n    </tr>\n    <tr>\n      <th>2010</th>\n      <td>1062</td>\n      <td>Other South Africa (26)</td>\n      <td>355</td>\n      <td>136.94900</td>\n      <td>1909.069000</td>\n      <td>2.592206</td>\n      <td>0</td>\n      <td>1909.069000</td>\n    </tr>\n    <tr>\n      <th>2011</th>\n      <td>1063</td>\n      <td>Other South Africa (26)</td>\n      <td>474</td>\n      <td>140.48880</td>\n      <td>1988.006000</td>\n      <td>3.373934</td>\n      <td>1</td>\n      <td>1988.006000</td>\n    </tr>\n    <tr>\n      <th>2012</th>\n      <td>1064</td>\n      <td>Other South Africa (26)</td>\n      <td>439</td>\n      <td>144.14590</td>\n      <td>2063.026000</td>\n      <td>3.045525</td>\n      <td>2</td>\n      <td>2063.026000</td>\n    </tr>\n  </tbody>\n</table>\n<p>1064 rows × 8 columns</p>\n</div>"
     },
     "execution_count": 90,
     "metadata": {},
     "output_type": "execute_result"
    }
   ],
   "source": [
    "import numpy as np\n",
    "df[np.isclose(df[\"gdp.pcap\"], df[\"gdp_pcap\"])]"
   ],
   "metadata": {
    "collapsed": false,
    "ExecuteTime": {
     "end_time": "2023-11-27T13:14:27.669971100Z",
     "start_time": "2023-11-27T13:14:27.621595600Z"
    }
   },
   "id": "e735a3b902fd3cd0"
  },
  {
   "cell_type": "code",
   "execution_count": 91,
   "outputs": [
    {
     "data": {
      "text/plain": "      Unnamed: 0  reg_no                   region  year  consumption  \\\n0              1       1               Canada (1)  1970        11085   \n1              2       1               Canada (1)  1971        11753   \n2              3       1               Canada (1)  1972        12842   \n3              4       1               Canada (1)  1973        14153   \n4              5       1               Canada (1)  1974        15458   \n...          ...     ...                      ...   ...          ...   \n1059        1060      26  Other South Africa (26)  2008          272   \n1060        1061      26  Other South Africa (26)  2009          344   \n1061        1062      26  Other South Africa (26)  2010          355   \n1062        1063      26  Other South Africa (26)  2011          474   \n1063        1064      26  Other South Africa (26)  2012          439   \n\n            pop      gdp.pcap   cons.pcap  del.t  \n0      21.71685  17450.805611  510.433143    -40  \n1      22.04843  18025.700000  533.053827    -39  \n2      22.34410  18755.830000  574.737850    -38  \n3      22.61467  19822.000000  625.832701    -37  \n4      22.87666  20318.250000  675.710528    -36  \n...         ...           ...         ...    ...  \n1059  130.25150   1871.848000    2.088268     -2  \n1060  133.53860   1843.252000    2.576034     -1  \n1061  136.94900   1909.069000    2.592206      0  \n1062  140.48880   1988.006000    3.373934      1  \n1063  144.14590   2063.026000    3.045525      2  \n\n[1064 rows x 9 columns]",
      "text/html": "<div>\n<style scoped>\n    .dataframe tbody tr th:only-of-type {\n        vertical-align: middle;\n    }\n\n    .dataframe tbody tr th {\n        vertical-align: top;\n    }\n\n    .dataframe thead th {\n        text-align: right;\n    }\n</style>\n<table border=\"1\" class=\"dataframe\">\n  <thead>\n    <tr style=\"text-align: right;\">\n      <th></th>\n      <th>Unnamed: 0</th>\n      <th>reg_no</th>\n      <th>region</th>\n      <th>year</th>\n      <th>consumption</th>\n      <th>pop</th>\n      <th>gdp.pcap</th>\n      <th>cons.pcap</th>\n      <th>del.t</th>\n    </tr>\n  </thead>\n  <tbody>\n    <tr>\n      <th>0</th>\n      <td>1</td>\n      <td>1</td>\n      <td>Canada (1)</td>\n      <td>1970</td>\n      <td>11085</td>\n      <td>21.71685</td>\n      <td>17450.805611</td>\n      <td>510.433143</td>\n      <td>-40</td>\n    </tr>\n    <tr>\n      <th>1</th>\n      <td>2</td>\n      <td>1</td>\n      <td>Canada (1)</td>\n      <td>1971</td>\n      <td>11753</td>\n      <td>22.04843</td>\n      <td>18025.700000</td>\n      <td>533.053827</td>\n      <td>-39</td>\n    </tr>\n    <tr>\n      <th>2</th>\n      <td>3</td>\n      <td>1</td>\n      <td>Canada (1)</td>\n      <td>1972</td>\n      <td>12842</td>\n      <td>22.34410</td>\n      <td>18755.830000</td>\n      <td>574.737850</td>\n      <td>-38</td>\n    </tr>\n    <tr>\n      <th>3</th>\n      <td>4</td>\n      <td>1</td>\n      <td>Canada (1)</td>\n      <td>1973</td>\n      <td>14153</td>\n      <td>22.61467</td>\n      <td>19822.000000</td>\n      <td>625.832701</td>\n      <td>-37</td>\n    </tr>\n    <tr>\n      <th>4</th>\n      <td>5</td>\n      <td>1</td>\n      <td>Canada (1)</td>\n      <td>1974</td>\n      <td>15458</td>\n      <td>22.87666</td>\n      <td>20318.250000</td>\n      <td>675.710528</td>\n      <td>-36</td>\n    </tr>\n    <tr>\n      <th>...</th>\n      <td>...</td>\n      <td>...</td>\n      <td>...</td>\n      <td>...</td>\n      <td>...</td>\n      <td>...</td>\n      <td>...</td>\n      <td>...</td>\n      <td>...</td>\n    </tr>\n    <tr>\n      <th>1059</th>\n      <td>1060</td>\n      <td>26</td>\n      <td>Other South Africa (26)</td>\n      <td>2008</td>\n      <td>272</td>\n      <td>130.25150</td>\n      <td>1871.848000</td>\n      <td>2.088268</td>\n      <td>-2</td>\n    </tr>\n    <tr>\n      <th>1060</th>\n      <td>1061</td>\n      <td>26</td>\n      <td>Other South Africa (26)</td>\n      <td>2009</td>\n      <td>344</td>\n      <td>133.53860</td>\n      <td>1843.252000</td>\n      <td>2.576034</td>\n      <td>-1</td>\n    </tr>\n    <tr>\n      <th>1061</th>\n      <td>1062</td>\n      <td>26</td>\n      <td>Other South Africa (26)</td>\n      <td>2010</td>\n      <td>355</td>\n      <td>136.94900</td>\n      <td>1909.069000</td>\n      <td>2.592206</td>\n      <td>0</td>\n    </tr>\n    <tr>\n      <th>1062</th>\n      <td>1063</td>\n      <td>26</td>\n      <td>Other South Africa (26)</td>\n      <td>2011</td>\n      <td>474</td>\n      <td>140.48880</td>\n      <td>1988.006000</td>\n      <td>3.373934</td>\n      <td>1</td>\n    </tr>\n    <tr>\n      <th>1063</th>\n      <td>1064</td>\n      <td>26</td>\n      <td>Other South Africa (26)</td>\n      <td>2012</td>\n      <td>439</td>\n      <td>144.14590</td>\n      <td>2063.026000</td>\n      <td>3.045525</td>\n      <td>2</td>\n    </tr>\n  </tbody>\n</table>\n<p>1064 rows × 9 columns</p>\n</div>"
     },
     "execution_count": 91,
     "metadata": {},
     "output_type": "execute_result"
    }
   ],
   "source": [
    "r_df"
   ],
   "metadata": {
    "collapsed": false,
    "ExecuteTime": {
     "end_time": "2023-11-27T13:14:32.996061100Z",
     "start_time": "2023-11-27T13:14:32.895541600Z"
    }
   },
   "id": "76887683edf06dc4"
  },
  {
   "cell_type": "code",
   "execution_count": 51,
   "outputs": [
    {
     "data": {
      "text/plain": "                   region  year  consumption\n0                  Canada  1970        11085\n1                     USA  1970       127304\n2                  Mexico  1970         4168\n3    Rest Central America  1970          434\n4                  Brazil  1970         6088\n..                    ...   ...          ...\n866                 Korea  2012        57650\n867                 Japan  2012        68800\n868               Oceania  2012         7945\n869      Other South Asia  2012         5959\n870    Other South Africa  2012          439\n\n[871 rows x 3 columns]",
      "text/html": "<div>\n<style scoped>\n    .dataframe tbody tr th:only-of-type {\n        vertical-align: middle;\n    }\n\n    .dataframe tbody tr th {\n        vertical-align: top;\n    }\n\n    .dataframe thead th {\n        text-align: right;\n    }\n</style>\n<table border=\"1\" class=\"dataframe\">\n  <thead>\n    <tr style=\"text-align: right;\">\n      <th></th>\n      <th>region</th>\n      <th>year</th>\n      <th>consumption</th>\n    </tr>\n  </thead>\n  <tbody>\n    <tr>\n      <th>0</th>\n      <td>Canada</td>\n      <td>1970</td>\n      <td>11085</td>\n    </tr>\n    <tr>\n      <th>1</th>\n      <td>USA</td>\n      <td>1970</td>\n      <td>127304</td>\n    </tr>\n    <tr>\n      <th>2</th>\n      <td>Mexico</td>\n      <td>1970</td>\n      <td>4168</td>\n    </tr>\n    <tr>\n      <th>3</th>\n      <td>Rest Central America</td>\n      <td>1970</td>\n      <td>434</td>\n    </tr>\n    <tr>\n      <th>4</th>\n      <td>Brazil</td>\n      <td>1970</td>\n      <td>6088</td>\n    </tr>\n    <tr>\n      <th>...</th>\n      <td>...</td>\n      <td>...</td>\n      <td>...</td>\n    </tr>\n    <tr>\n      <th>866</th>\n      <td>Korea</td>\n      <td>2012</td>\n      <td>57650</td>\n    </tr>\n    <tr>\n      <th>867</th>\n      <td>Japan</td>\n      <td>2012</td>\n      <td>68800</td>\n    </tr>\n    <tr>\n      <th>868</th>\n      <td>Oceania</td>\n      <td>2012</td>\n      <td>7945</td>\n    </tr>\n    <tr>\n      <th>869</th>\n      <td>Other South Asia</td>\n      <td>2012</td>\n      <td>5959</td>\n    </tr>\n    <tr>\n      <th>870</th>\n      <td>Other South Africa</td>\n      <td>2012</td>\n      <td>439</td>\n    </tr>\n  </tbody>\n</table>\n<p>871 rows × 3 columns</p>\n</div>"
     },
     "execution_count": 51,
     "metadata": {},
     "output_type": "execute_result"
    }
   ],
   "source": [
    "py_df#[\"region\"].unique()"
   ],
   "metadata": {
    "collapsed": false,
    "ExecuteTime": {
     "end_time": "2023-11-27T12:43:19.069975600Z",
     "start_time": "2023-11-27T12:43:18.969677200Z"
    }
   },
   "id": "f67fd7ab71039148"
  },
  {
   "cell_type": "code",
   "execution_count": 54,
   "outputs": [
    {
     "data": {
      "text/plain": "     Unnamed: 0                region  year  consumption        pop  \\\n0             0                Canada  1970        11085   21.71685   \n1             1                   USA  1970       127304  210.11660   \n2             2                Mexico  1970         4168   50.59590   \n3             3  Rest Central America  1970          434   41.86008   \n4             4                Brazil  1970         6088   95.98846   \n..          ...                   ...   ...          ...        ...   \n866         898                 Korea  2012        57650   72.94119   \n867         899                 Japan  2012        68800  126.60790   \n868         900               Oceania  2012         7945   29.71791   \n869         901      Other South Asia  2012         5959  445.52510   \n870         902    Other South Africa  2012          439  144.14590   \n\n         gdp_pcap   cons_pcap  del_t  \n0    17450.805611  510.433143    -40  \n1    20233.017350  605.873120    -40  \n2     6910.351162   82.378216    -40  \n3     5032.145662   10.367873    -40  \n4     4246.812446   63.424291    -40  \n..            ...         ...    ...  \n866  19790.770000  790.362757      2  \n867  31957.190000  543.410008      2  \n868  30264.620000  267.347199      2  \n869   2062.911000   13.375228      2  \n870   2063.026000    3.045525      2  \n\n[871 rows x 8 columns]",
      "text/html": "<div>\n<style scoped>\n    .dataframe tbody tr th:only-of-type {\n        vertical-align: middle;\n    }\n\n    .dataframe tbody tr th {\n        vertical-align: top;\n    }\n\n    .dataframe thead th {\n        text-align: right;\n    }\n</style>\n<table border=\"1\" class=\"dataframe\">\n  <thead>\n    <tr style=\"text-align: right;\">\n      <th></th>\n      <th>Unnamed: 0</th>\n      <th>region</th>\n      <th>year</th>\n      <th>consumption</th>\n      <th>pop</th>\n      <th>gdp_pcap</th>\n      <th>cons_pcap</th>\n      <th>del_t</th>\n    </tr>\n  </thead>\n  <tbody>\n    <tr>\n      <th>0</th>\n      <td>0</td>\n      <td>Canada</td>\n      <td>1970</td>\n      <td>11085</td>\n      <td>21.71685</td>\n      <td>17450.805611</td>\n      <td>510.433143</td>\n      <td>-40</td>\n    </tr>\n    <tr>\n      <th>1</th>\n      <td>1</td>\n      <td>USA</td>\n      <td>1970</td>\n      <td>127304</td>\n      <td>210.11660</td>\n      <td>20233.017350</td>\n      <td>605.873120</td>\n      <td>-40</td>\n    </tr>\n    <tr>\n      <th>2</th>\n      <td>2</td>\n      <td>Mexico</td>\n      <td>1970</td>\n      <td>4168</td>\n      <td>50.59590</td>\n      <td>6910.351162</td>\n      <td>82.378216</td>\n      <td>-40</td>\n    </tr>\n    <tr>\n      <th>3</th>\n      <td>3</td>\n      <td>Rest Central America</td>\n      <td>1970</td>\n      <td>434</td>\n      <td>41.86008</td>\n      <td>5032.145662</td>\n      <td>10.367873</td>\n      <td>-40</td>\n    </tr>\n    <tr>\n      <th>4</th>\n      <td>4</td>\n      <td>Brazil</td>\n      <td>1970</td>\n      <td>6088</td>\n      <td>95.98846</td>\n      <td>4246.812446</td>\n      <td>63.424291</td>\n      <td>-40</td>\n    </tr>\n    <tr>\n      <th>...</th>\n      <td>...</td>\n      <td>...</td>\n      <td>...</td>\n      <td>...</td>\n      <td>...</td>\n      <td>...</td>\n      <td>...</td>\n      <td>...</td>\n    </tr>\n    <tr>\n      <th>866</th>\n      <td>898</td>\n      <td>Korea</td>\n      <td>2012</td>\n      <td>57650</td>\n      <td>72.94119</td>\n      <td>19790.770000</td>\n      <td>790.362757</td>\n      <td>2</td>\n    </tr>\n    <tr>\n      <th>867</th>\n      <td>899</td>\n      <td>Japan</td>\n      <td>2012</td>\n      <td>68800</td>\n      <td>126.60790</td>\n      <td>31957.190000</td>\n      <td>543.410008</td>\n      <td>2</td>\n    </tr>\n    <tr>\n      <th>868</th>\n      <td>900</td>\n      <td>Oceania</td>\n      <td>2012</td>\n      <td>7945</td>\n      <td>29.71791</td>\n      <td>30264.620000</td>\n      <td>267.347199</td>\n      <td>2</td>\n    </tr>\n    <tr>\n      <th>869</th>\n      <td>901</td>\n      <td>Other South Asia</td>\n      <td>2012</td>\n      <td>5959</td>\n      <td>445.52510</td>\n      <td>2062.911000</td>\n      <td>13.375228</td>\n      <td>2</td>\n    </tr>\n    <tr>\n      <th>870</th>\n      <td>902</td>\n      <td>Other South Africa</td>\n      <td>2012</td>\n      <td>439</td>\n      <td>144.14590</td>\n      <td>2063.026000</td>\n      <td>3.045525</td>\n      <td>2</td>\n    </tr>\n  </tbody>\n</table>\n<p>871 rows × 8 columns</p>\n</div>"
     },
     "execution_count": 54,
     "metadata": {},
     "output_type": "execute_result"
    }
   ],
   "source": [
    "py_df"
   ],
   "metadata": {
    "collapsed": false,
    "ExecuteTime": {
     "end_time": "2023-11-27T12:43:39.390431200Z",
     "start_time": "2023-11-27T12:43:39.352903100Z"
    }
   },
   "id": "777d42af7aa34009"
  },
  {
   "cell_type": "code",
   "execution_count": 67,
   "outputs": [
    {
     "name": "stderr",
     "output_type": "stream",
     "text": [
      "C:\\Users\\maczek\\AppData\\Local\\Temp\\ipykernel_5280\\2693521517.py:1: FutureWarning: The default value of regex will change from True to False in a future version. In addition, single character regular expressions will *not* be treated as literal strings when regex=True.\n",
      "  r_df[\"region\"] = r_df[\"region\"].str.replace(\"(\",\"\").str.replace(\")\",\"\").str.replace('\\d+', '').str[:-1]\n",
      "C:\\Users\\maczek\\AppData\\Local\\Temp\\ipykernel_5280\\2693521517.py:1: FutureWarning: The default value of regex will change from True to False in a future version.\n",
      "  r_df[\"region\"] = r_df[\"region\"].str.replace(\"(\",\"\").str.replace(\")\",\"\").str.replace('\\d+', '').str[:-1]\n"
     ]
    }
   ],
   "source": [
    "r_df[\"region\"] = r_df[\"region\"].str.replace(\"(\",\"\").str.replace(\")\",\"\").str.replace('\\d+', '').str[:-1]"
   ],
   "metadata": {
    "collapsed": false,
    "ExecuteTime": {
     "end_time": "2023-11-27T12:46:37.385766700Z",
     "start_time": "2023-11-27T12:46:37.307654400Z"
    }
   },
   "id": "7450d215c7e87cb3"
  },
  {
   "cell_type": "code",
   "execution_count": 4,
   "outputs": [],
   "source": [
    "import pandas as pd\n",
    "import yaml\n",
    "\n",
    "\n",
    "path = \"C:/Users\\maczek\\PycharmProjects\\message_data\\data\\material/aluminum/demand_alu.yaml\"\n",
    "path = \"C:/Users\\maczek\\PycharmProjects\\message_data\\data\\material/steel_cement/demand_cement.yaml\"\n",
    "path = \"C:/Users\\maczek\\PycharmProjects\\message_data\\data\\material/steel_cement/demand_steel.yaml\"\n",
    "\n",
    "with open(path, 'r') as file:\n",
    "    yaml_data = file.read()\n",
    "\n",
    "data_list = yaml.safe_load(yaml_data)\n",
    "\n",
    "# Convert to DataFrame\n",
    "df = pd.DataFrame([(key, value['year'], value['value']) for entry in data_list for key, value in entry.items()],\n",
    "                  columns=['Region', 'Year', 'Value'])"
   ],
   "metadata": {
    "collapsed": false,
    "ExecuteTime": {
     "end_time": "2023-11-28T14:30:34.630137Z",
     "start_time": "2023-11-28T14:30:34.561139100Z"
    }
   },
   "id": "69ac530864bb3606"
  }
 ],
 "metadata": {
  "kernelspec": {
   "display_name": "Python 3",
   "language": "python",
   "name": "python3"
  },
  "language_info": {
   "codemirror_mode": {
    "name": "ipython",
    "version": 2
   },
   "file_extension": ".py",
   "mimetype": "text/x-python",
   "name": "python",
   "nbconvert_exporter": "python",
   "pygments_lexer": "ipython2",
   "version": "2.7.6"
  }
 },
 "nbformat": 4,
 "nbformat_minor": 5
}
